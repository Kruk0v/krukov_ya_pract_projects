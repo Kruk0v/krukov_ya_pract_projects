{
  "cells": [
    {
      "cell_type": "markdown",
      "metadata": {
        "id": "pxICOPoGQAzE"
      },
      "source": [
        "<div class=\"alert alert-info\">\n",
        "\n",
        "<b>Студент: </b> Такой комментарий можно будет быстро найти.\n",
        "\n",
        "</div>"
      ]
    },
    {
      "cell_type": "markdown",
      "metadata": {
        "id": "YOQlCuEkQAzF"
      },
      "source": [
        "---"
      ]
    },
    {
      "cell_type": "markdown",
      "metadata": {
        "id": "E0vqbgi9ay0H"
      },
      "source": [
        "# Яндекс.Музыка"
      ]
    },
    {
      "cell_type": "markdown",
      "metadata": {
        "id": "VUC88oWjTJw2"
      },
      "source": [
        "Сравнение Москвы и Петербурга окружено мифами. Например:\n",
        " * Москва — мегаполис, подчинённый жёсткому ритму рабочей недели;\n",
        " * Петербург — культурная столица, со своими вкусами.\n",
        "\n",
        "На данных Яндекс.Музыки вы сравните поведение пользователей двух столиц.\n",
        "\n",
        "**Цель исследования** — проверьте три гипотезы:\n",
        "1. Активность пользователей зависит от дня недели. Причём в Москве и Петербурге это проявляется по-разному.\n",
        "2. В понедельник утром в Москве преобладают одни жанры, а в Петербурге — другие. Так же и вечером пятницы преобладают разные жанры — в зависимости от города. \n",
        "3. Москва и Петербург предпочитают разные жанры музыки. В Москве чаще слушают поп-музыку, в Петербурге — русский рэп.\n",
        "\n",
        "**Ход исследования**\n",
        "\n",
        "Данные о поведении пользователей вы получите из файла `yandex_music_project.csv`. О качестве данных ничего не известно. Поэтому перед проверкой гипотез понадобится обзор данных. \n",
        "\n",
        "Вы проверите данные на ошибки и оцените их влияние на исследование. Затем, на этапе предобработки вы поищете возможность исправить самые критичные ошибки данных.\n",
        " \n",
        "Таким образом, исследование пройдёт в три этапа:\n",
        " 1. Обзор данных.\n",
        " 2. Предобработка данных.\n",
        " 3. Проверка гипотез.\n",
        "\n"
      ]
    },
    {
      "cell_type": "markdown",
      "metadata": {
        "id": "Ml1hmfXC_Zcs"
      },
      "source": [
        "## Обзор данных\n",
        "\n",
        "Составьте первое представление о данных Яндекс.Музыки.\n",
        "\n",
        "\n"
      ]
    },
    {
      "cell_type": "markdown",
      "metadata": {
        "id": "57eAOGIz_Zcs"
      },
      "source": [
        "Основной инструмент аналитика — `pandas`. Импортируйте эту библиотеку."
      ]
    },
    {
      "cell_type": "code",
      "execution_count": null,
      "metadata": {
        "id": "AXN7PHPN_Zcs"
      },
      "outputs": [],
      "source": [
        "import pandas as pd                                                      # импорт библиотеки pandas"
      ]
    },
    {
      "cell_type": "markdown",
      "metadata": {
        "id": "SG23P8tt_Zcs"
      },
      "source": [
        "Прочитайте файл `yandex_music_project.csv` из папки `/datasets` и сохраните его в переменной `df`:"
      ]
    },
    {
      "cell_type": "code",
      "execution_count": null,
      "metadata": {
        "id": "fFVu7vqh_Zct"
      },
      "outputs": [],
      "source": [
        "# чтение файла с данными и сохранение в df\n",
        "\n",
        "df = pd.read_csv('/datasets/yandex_music_project.csv')"
      ]
    },
    {
      "cell_type": "code",
      "execution_count": null,
      "metadata": {
        "id": "6NE6sc1eQAzL"
      },
      "outputs": [],
      "source": [
        "# сохраняем датасет на локальный компьютер\n",
        "\n",
        "df.to_csv('yandex_music_project.csv', index=False)"
      ]
    },
    {
      "cell_type": "markdown",
      "metadata": {
        "id": "rDoOMd3uTqnZ"
      },
      "source": [
        "Выведите на экран первые десять строк таблицы:"
      ]
    },
    {
      "cell_type": "code",
      "execution_count": null,
      "metadata": {
        "id": "oWTVX3gW_Zct",
        "outputId": "39c49b11-7adb-4bd8-c872-1f7de0236dda"
      },
      "outputs": [
        {
          "data": {
            "text/html": [
              "<div>\n",
              "<style scoped>\n",
              "    .dataframe tbody tr th:only-of-type {\n",
              "        vertical-align: middle;\n",
              "    }\n",
              "\n",
              "    .dataframe tbody tr th {\n",
              "        vertical-align: top;\n",
              "    }\n",
              "\n",
              "    .dataframe thead th {\n",
              "        text-align: right;\n",
              "    }\n",
              "</style>\n",
              "<table border=\"1\" class=\"dataframe\">\n",
              "  <thead>\n",
              "    <tr style=\"text-align: right;\">\n",
              "      <th></th>\n",
              "      <th>userID</th>\n",
              "      <th>Track</th>\n",
              "      <th>artist</th>\n",
              "      <th>genre</th>\n",
              "      <th>City</th>\n",
              "      <th>time</th>\n",
              "      <th>Day</th>\n",
              "    </tr>\n",
              "  </thead>\n",
              "  <tbody>\n",
              "    <tr>\n",
              "      <td>0</td>\n",
              "      <td>FFB692EC</td>\n",
              "      <td>Kamigata To Boots</td>\n",
              "      <td>The Mass Missile</td>\n",
              "      <td>rock</td>\n",
              "      <td>Saint-Petersburg</td>\n",
              "      <td>20:28:33</td>\n",
              "      <td>Wednesday</td>\n",
              "    </tr>\n",
              "    <tr>\n",
              "      <td>1</td>\n",
              "      <td>55204538</td>\n",
              "      <td>Delayed Because of Accident</td>\n",
              "      <td>Andreas Rönnberg</td>\n",
              "      <td>rock</td>\n",
              "      <td>Moscow</td>\n",
              "      <td>14:07:09</td>\n",
              "      <td>Friday</td>\n",
              "    </tr>\n",
              "    <tr>\n",
              "      <td>2</td>\n",
              "      <td>20EC38</td>\n",
              "      <td>Funiculì funiculà</td>\n",
              "      <td>Mario Lanza</td>\n",
              "      <td>pop</td>\n",
              "      <td>Saint-Petersburg</td>\n",
              "      <td>20:58:07</td>\n",
              "      <td>Wednesday</td>\n",
              "    </tr>\n",
              "    <tr>\n",
              "      <td>3</td>\n",
              "      <td>A3DD03C9</td>\n",
              "      <td>Dragons in the Sunset</td>\n",
              "      <td>Fire + Ice</td>\n",
              "      <td>folk</td>\n",
              "      <td>Saint-Petersburg</td>\n",
              "      <td>08:37:09</td>\n",
              "      <td>Monday</td>\n",
              "    </tr>\n",
              "    <tr>\n",
              "      <td>4</td>\n",
              "      <td>E2DC1FAE</td>\n",
              "      <td>Soul People</td>\n",
              "      <td>Space Echo</td>\n",
              "      <td>dance</td>\n",
              "      <td>Moscow</td>\n",
              "      <td>08:34:34</td>\n",
              "      <td>Monday</td>\n",
              "    </tr>\n",
              "    <tr>\n",
              "      <td>5</td>\n",
              "      <td>842029A1</td>\n",
              "      <td>Преданная</td>\n",
              "      <td>IMPERVTOR</td>\n",
              "      <td>rusrap</td>\n",
              "      <td>Saint-Petersburg</td>\n",
              "      <td>13:09:41</td>\n",
              "      <td>Friday</td>\n",
              "    </tr>\n",
              "    <tr>\n",
              "      <td>6</td>\n",
              "      <td>4CB90AA5</td>\n",
              "      <td>True</td>\n",
              "      <td>Roman Messer</td>\n",
              "      <td>dance</td>\n",
              "      <td>Moscow</td>\n",
              "      <td>13:00:07</td>\n",
              "      <td>Wednesday</td>\n",
              "    </tr>\n",
              "    <tr>\n",
              "      <td>7</td>\n",
              "      <td>F03E1C1F</td>\n",
              "      <td>Feeling This Way</td>\n",
              "      <td>Polina Griffith</td>\n",
              "      <td>dance</td>\n",
              "      <td>Moscow</td>\n",
              "      <td>20:47:49</td>\n",
              "      <td>Wednesday</td>\n",
              "    </tr>\n",
              "    <tr>\n",
              "      <td>8</td>\n",
              "      <td>8FA1D3BE</td>\n",
              "      <td>И вновь продолжается бой</td>\n",
              "      <td>NaN</td>\n",
              "      <td>ruspop</td>\n",
              "      <td>Moscow</td>\n",
              "      <td>09:17:40</td>\n",
              "      <td>Friday</td>\n",
              "    </tr>\n",
              "    <tr>\n",
              "      <td>9</td>\n",
              "      <td>E772D5C0</td>\n",
              "      <td>Pessimist</td>\n",
              "      <td>NaN</td>\n",
              "      <td>dance</td>\n",
              "      <td>Saint-Petersburg</td>\n",
              "      <td>21:20:49</td>\n",
              "      <td>Wednesday</td>\n",
              "    </tr>\n",
              "  </tbody>\n",
              "</table>\n",
              "</div>"
            ],
            "text/plain": [
              "     userID                        Track            artist   genre  \\\n",
              "0  FFB692EC            Kamigata To Boots  The Mass Missile    rock   \n",
              "1  55204538  Delayed Because of Accident  Andreas Rönnberg    rock   \n",
              "2    20EC38            Funiculì funiculà       Mario Lanza     pop   \n",
              "3  A3DD03C9        Dragons in the Sunset        Fire + Ice    folk   \n",
              "4  E2DC1FAE                  Soul People        Space Echo   dance   \n",
              "5  842029A1                    Преданная         IMPERVTOR  rusrap   \n",
              "6  4CB90AA5                         True      Roman Messer   dance   \n",
              "7  F03E1C1F             Feeling This Way   Polina Griffith   dance   \n",
              "8  8FA1D3BE     И вновь продолжается бой               NaN  ruspop   \n",
              "9  E772D5C0                    Pessimist               NaN   dance   \n",
              "\n",
              "             City        time        Day  \n",
              "0  Saint-Petersburg  20:28:33  Wednesday  \n",
              "1            Moscow  14:07:09     Friday  \n",
              "2  Saint-Petersburg  20:58:07  Wednesday  \n",
              "3  Saint-Petersburg  08:37:09     Monday  \n",
              "4            Moscow  08:34:34     Monday  \n",
              "5  Saint-Petersburg  13:09:41     Friday  \n",
              "6            Moscow  13:00:07  Wednesday  \n",
              "7            Moscow  20:47:49  Wednesday  \n",
              "8            Moscow  09:17:40     Friday  \n",
              "9  Saint-Petersburg  21:20:49  Wednesday  "
            ]
          },
          "execution_count": 3,
          "metadata": {},
          "output_type": "execute_result"
        }
      ],
      "source": [
        "# получение первых 10 строк таблицы df\n",
        "\n",
        "df.head(10)                                                              "
      ]
    },
    {
      "cell_type": "markdown",
      "metadata": {
        "id": "EO73Kwic_Zct"
      },
      "source": [
        "Одной командой получить общую информацию о таблице:"
      ]
    },
    {
      "cell_type": "code",
      "execution_count": null,
      "metadata": {
        "id": "DSf2kIb-_Zct",
        "outputId": "03f5b7b3-ee4b-4f28-8a12-bd18e13ae9a6"
      },
      "outputs": [
        {
          "name": "stdout",
          "output_type": "stream",
          "text": [
            "<class 'pandas.core.frame.DataFrame'>\n",
            "RangeIndex: 65079 entries, 0 to 65078\n",
            "Data columns (total 7 columns):\n",
            "  userID    65079 non-null object\n",
            "Track       63848 non-null object\n",
            "artist      57876 non-null object\n",
            "genre       63881 non-null object\n",
            "  City      65079 non-null object\n",
            "time        65079 non-null object\n",
            "Day         65079 non-null object\n",
            "dtypes: object(7)\n",
            "memory usage: 3.5+ MB\n"
          ]
        }
      ],
      "source": [
        " df.info()                                                              # получение общей информации о данных в таблице df"
      ]
    },
    {
      "cell_type": "markdown",
      "metadata": {
        "id": "TaQ2Iwbr_Zct"
      },
      "source": [
        "Итак, в таблице семь столбцов. Тип данных во всех столбцах — `object`.\n",
        "\n",
        "Согласно документации к данным:\n",
        "* `userID` — идентификатор пользователя;\n",
        "* `Track` — название трека;  \n",
        "* `artist` — имя исполнителя;\n",
        "* `genre` — название жанра;\n",
        "* `City` — город пользователя;\n",
        "* `time` — время начала прослушивания;\n",
        "* `Day` — день недели.\n",
        "\n",
        "В названиях колонок видны три нарушения стиля:\n",
        "1. Строчные буквы сочетаются с прописными.\n",
        "2. Встречаются пробелы.\n",
        "3. Найдите ещё одну проблему в названии колонок и опишите её в этом пункте. `Из названия некоторых столбцов не совсем понятно, что в этих столбцах. Day можно заменить на day_of_the_week, time на start_time. Субъективно: artist и genre на artist_name и genre_name. userID заменить на user_id.`\n",
        "\n",
        "\n",
        "\n",
        "Количество значений в столбцах различается. Значит, в данных есть пропущенные значения.\n"
      ]
    },
    {
      "cell_type": "markdown",
      "metadata": {
        "id": "MCB6-dXG_Zct"
      },
      "source": [
        "**Выводы**\n",
        "\n",
        "В каждой строке таблицы — данные о прослушанном треке. Часть колонок описывает саму композицию: название, исполнителя и жанр. Остальные данные рассказывают о пользователе: из какого он города, когда он слушал музыку. \n",
        "\n",
        "Предварительно можно утверждать, что, данных достаточно для проверки гипотез. Но встречаются пропуски в данных, а в названиях колонок — расхождения с хорошим стилем.\n",
        "\n",
        "Чтобы двигаться дальше, нужно устранить проблемы в данных."
      ]
    },
    {
      "cell_type": "markdown",
      "metadata": {
        "id": "SjYF6Ub9_Zct"
      },
      "source": [
        "## Предобработка данных\n",
        "Исправьте стиль в заголовках столбцов, исключите пропуски. Затем проверьте данные на дубликаты."
      ]
    },
    {
      "cell_type": "markdown",
      "metadata": {
        "id": "dIaKXr29_Zct"
      },
      "source": [
        "### Стиль заголовков\n",
        "Выведите на экран названия столбцов:"
      ]
    },
    {
      "cell_type": "code",
      "execution_count": null,
      "metadata": {
        "id": "oKOTdF_Q_Zct",
        "outputId": "ced4e083-3094-492d-becf-83c4c9826b53"
      },
      "outputs": [
        {
          "data": {
            "text/plain": [
              "Index(['  userID', 'Track', 'artist', 'genre', '  City  ', 'time', 'Day'], dtype='object')"
            ]
          },
          "execution_count": 5,
          "metadata": {},
          "output_type": "execute_result"
        }
      ],
      "source": [
        "# перечень названий столбцов таблицы df\n",
        "\n",
        "df.columns                                                            "
      ]
    },
    {
      "cell_type": "markdown",
      "metadata": {
        "id": "zj5534cv_Zct"
      },
      "source": [
        "Приведите названия в соответствие с хорошим стилем:\n",
        "* несколько слов в названии запишите в «змеином_регистре»,\n",
        "* все символы сделайте строчными,\n",
        "* устраните пробелы.\n",
        "\n",
        "Для этого переименуйте колонки так:\n",
        "* `'  userID'` → `'user_id'`;\n",
        "* `'Track'` → `'track'`;\n",
        "* `'  City  '` → `'city'`;\n",
        "* `'Day'` → `'day'`."
      ]
    },
    {
      "cell_type": "code",
      "execution_count": null,
      "metadata": {
        "id": "ISlFqs5y_Zct"
      },
      "outputs": [],
      "source": [
        "  df = df.rename(columns={'  userID':'user_id', 'Track':'track', '  City  ':'city', 'Day':'day'}) # переименование столбцов"
      ]
    },
    {
      "cell_type": "markdown",
      "metadata": {
        "id": "1dqbh00J_Zct"
      },
      "source": [
        "Проверьте результат. Для этого ещё раз выведите на экран названия столбцов:"
      ]
    },
    {
      "cell_type": "code",
      "execution_count": null,
      "metadata": {
        "id": "d4NOAmTW_Zct",
        "outputId": "37d7309a-e057-493a-f7f7-4d03a949d756"
      },
      "outputs": [
        {
          "data": {
            "text/plain": [
              "Index(['user_id', 'track', 'artist', 'genre', 'city', 'time', 'day'], dtype='object')"
            ]
          },
          "execution_count": 7,
          "metadata": {},
          "output_type": "execute_result"
        }
      ],
      "source": [
        "# проверка результатов - перечень названий столбцов\n",
        "\n",
        "df.columns                                                   "
      ]
    },
    {
      "cell_type": "markdown",
      "metadata": {
        "id": "5ISfbcfY_Zct"
      },
      "source": [
        "### Пропуски значений\n",
        "Сначала посчитайте, сколько в таблице пропущенных значений. Для этого достаточно двух методов `pandas`:"
      ]
    },
    {
      "cell_type": "code",
      "execution_count": null,
      "metadata": {
        "id": "RskX29qr_Zct",
        "outputId": "588b095a-5f46-4cb2-ce69-221b0f7bd582"
      },
      "outputs": [
        {
          "data": {
            "text/plain": [
              "user_id       0\n",
              "track      1231\n",
              "artist     7203\n",
              "genre      1198\n",
              "city          0\n",
              "time          0\n",
              "day           0\n",
              "dtype: int64"
            ]
          },
          "metadata": {},
          "output_type": "display_data"
        }
      ],
      "source": [
        "# подсчёт пропусков\n",
        "display(df.isna().sum())"
      ]
    },
    {
      "cell_type": "markdown",
      "metadata": {
        "id": "qubhgnlO_Zct"
      },
      "source": [
        "Не все пропущенные значения влияют на исследование. Так в `track` и `artist` пропуски не важны для вашей работы. Достаточно заменить их явными обозначениями.\n",
        "\n",
        "Но пропуски в `genre` могут помешать сравнению музыкальных вкусов в Москве и Санкт-Петербурге. На практике было бы правильно установить причину пропусков и восстановить данные. Такой возможности нет в учебном проекте. Придётся:\n",
        "* заполнить и эти пропуски явными обозначениями,\n",
        "* оценить, насколько они повредят расчётам. "
      ]
    },
    {
      "cell_type": "markdown",
      "metadata": {
        "id": "fSv2laPA_Zct"
      },
      "source": [
        "Замените пропущенные значения в столбцах `track`, `artist` и `genre` на строку `'unknown'`. Для этого создайте список `columns_to_replace`, переберите его элементы циклом `for` и для каждого столбца выполните замену пропущенных значений:"
      ]
    },
    {
      "cell_type": "code",
      "execution_count": null,
      "metadata": {
        "id": "KplB5qWs_Zct"
      },
      "outputs": [],
      "source": [
        "# перебор названий столбцов в цикле и замена пропущенных значений на 'unknown'\n",
        "columns_to_replace = ['track', 'artist', 'genre']\n",
        "for column in columns_to_replace:\n",
        "    df[column] = df[column].fillna('unknown')"
      ]
    },
    {
      "cell_type": "markdown",
      "metadata": {
        "id": "Ilsm-MZo_Zct"
      },
      "source": [
        "Убедитесь, что в таблице не осталось пропусков. Для этого ещё раз посчитайте пропущенные значения."
      ]
    },
    {
      "cell_type": "code",
      "execution_count": null,
      "metadata": {
        "id": "Tq4nYRX4_Zct",
        "outputId": "9a8b9e3c-0693-40dc-8ea5-ca639334a99b"
      },
      "outputs": [
        {
          "data": {
            "text/plain": [
              "user_id    0\n",
              "track      0\n",
              "artist     0\n",
              "genre      0\n",
              "city       0\n",
              "time       0\n",
              "day        0\n",
              "dtype: int64"
            ]
          },
          "metadata": {},
          "output_type": "display_data"
        }
      ],
      "source": [
        "display(df.isna().sum())                                         # подсчёт пропусков"
      ]
    },
    {
      "cell_type": "markdown",
      "metadata": {
        "id": "BWKRtBJ3_Zct"
      },
      "source": [
        "### Дубликаты\n",
        "Посчитайте явные дубликаты в таблице одной командой:"
      ]
    },
    {
      "cell_type": "code",
      "execution_count": null,
      "metadata": {
        "id": "36eES_S0_Zct",
        "outputId": "3674070f-9984-4c48-f181-d40e3a97b72f"
      },
      "outputs": [
        {
          "data": {
            "text/plain": [
              "3826"
            ]
          },
          "metadata": {},
          "output_type": "display_data"
        }
      ],
      "source": [
        "# подсчёт явных дубликатов\n",
        "display(df.duplicated().sum())"
      ]
    },
    {
      "cell_type": "markdown",
      "metadata": {
        "id": "Ot25h6XR_Zct"
      },
      "source": [
        "Вызовите специальный метод `pandas`, чтобы удалить явные дубликаты:"
      ]
    },
    {
      "cell_type": "code",
      "execution_count": null,
      "metadata": {
        "id": "exFHq6tt_Zct"
      },
      "outputs": [],
      "source": [
        "# удаление явных дубликатов (с удалением старых индексов и формированием новых)\n",
        "df = df.drop_duplicates().reset_index(drop=True)"
      ]
    },
    {
      "cell_type": "markdown",
      "metadata": {
        "id": "Im2YwBEG_Zct"
      },
      "source": [
        "Ещё раз посчитайте явные дубликаты в таблице — убедитесь, что полностью от них избавились:"
      ]
    },
    {
      "cell_type": "code",
      "execution_count": null,
      "metadata": {
        "id": "-8PuNWQ0_Zct",
        "outputId": "b00ab771-7d29-4a71-8260-d7be1ae4ca3c"
      },
      "outputs": [
        {
          "data": {
            "text/plain": [
              "0"
            ]
          },
          "execution_count": 13,
          "metadata": {},
          "output_type": "execute_result"
        }
      ],
      "source": [
        "# проверка на отсутствие дубликатов\n",
        "df.duplicated().sum()"
      ]
    },
    {
      "cell_type": "markdown",
      "metadata": {
        "id": "QlFBsxAr_Zct"
      },
      "source": [
        "Теперь избавьтесь от неявных дубликатов в колонке `genre`. Например, название одного и того же жанра может быть записано немного по-разному. Такие ошибки тоже повлияют на результат исследования."
      ]
    },
    {
      "cell_type": "markdown",
      "metadata": {
        "id": "eSjWwsOh_Zct"
      },
      "source": [
        "Выведите на экран список уникальных названий жанров, отсортированный в алфавитном порядке. Для этого:\n",
        "* извлеките нужный столбец датафрейма, \n",
        "* примените к нему метод сортировки,\n",
        "* для отсортированного столбца вызовите метод, который вернёт уникальные значения из столбца."
      ]
    },
    {
      "cell_type": "code",
      "execution_count": null,
      "metadata": {
        "id": "JIUcqzZN_Zct",
        "outputId": "93ba342e-d167-471f-dd3a-d86bc839b062"
      },
      "outputs": [
        {
          "name": "stdout",
          "output_type": "stream",
          "text": [
            "['acid' 'acoustic' 'action' 'adult' 'africa' 'afrikaans' 'alternative'\n",
            " 'alternativepunk' 'ambient' 'americana' 'animated' 'anime' 'arabesk'\n",
            " 'arabic' 'arena' 'argentinetango' 'art' 'audiobook' 'author' 'avantgarde'\n",
            " 'axé' 'baile' 'balkan' 'beats' 'bigroom' 'black' 'bluegrass' 'blues'\n",
            " 'bollywood' 'bossa' 'brazilian' 'breakbeat' 'breaks' 'broadway'\n",
            " 'cantautori' 'cantopop' 'canzone' 'caribbean' 'caucasian' 'celtic'\n",
            " 'chamber' 'chanson' 'children' 'chill' 'chinese' 'choral' 'christian'\n",
            " 'christmas' 'classical' 'classicmetal' 'club' 'colombian' 'comedy'\n",
            " 'conjazz' 'contemporary' 'country' 'cuban' 'dance' 'dancehall' 'dancepop'\n",
            " 'dark' 'death' 'deep' 'deutschrock' 'deutschspr' 'dirty' 'disco' 'dnb'\n",
            " 'documentary' 'downbeat' 'downtempo' 'drum' 'dub' 'dubstep' 'eastern'\n",
            " 'easy' 'electronic' 'electropop' 'emo' 'entehno' 'epicmetal' 'estrada'\n",
            " 'ethnic' 'eurofolk' 'european' 'experimental' 'extrememetal' 'fado'\n",
            " 'fairytail' 'film' 'fitness' 'flamenco' 'folk' 'folklore' 'folkmetal'\n",
            " 'folkrock' 'folktronica' 'forró' 'frankreich' 'französisch' 'french'\n",
            " 'funk' 'future' 'gangsta' 'garage' 'german' 'ghazal' 'gitarre' 'glitch'\n",
            " 'gospel' 'gothic' 'grime' 'grunge' 'gypsy' 'handsup' \"hard'n'heavy\"\n",
            " 'hardcore' 'hardstyle' 'hardtechno' 'hip' 'hip-hop' 'hiphop' 'historisch'\n",
            " 'holiday' 'hop' 'horror' 'house' 'hymn' 'idm' 'independent' 'indian'\n",
            " 'indie' 'indipop' 'industrial' 'inspirational' 'instrumental'\n",
            " 'international' 'irish' 'jam' 'japanese' 'jazz' 'jewish' 'jpop' 'jungle'\n",
            " 'k-pop' 'karadeniz' 'karaoke' 'kayokyoku' 'korean' 'laiko' 'latin'\n",
            " 'latino' 'leftfield' 'local' 'lounge' 'loungeelectronic' 'lovers'\n",
            " 'malaysian' 'mandopop' 'marschmusik' 'meditative' 'mediterranean'\n",
            " 'melodic' 'metal' 'metalcore' 'mexican' 'middle' 'minimal'\n",
            " 'miscellaneous' 'modern' 'mood' 'mpb' 'muslim' 'native' 'neoklassik'\n",
            " 'neue' 'new' 'newage' 'newwave' 'nu' 'nujazz' 'numetal' 'oceania' 'old'\n",
            " 'opera' 'orchestral' 'other' 'piano' 'podcasts' 'pop' 'popdance'\n",
            " 'popelectronic' 'popeurodance' 'poprussian' 'post' 'posthardcore'\n",
            " 'postrock' 'power' 'progmetal' 'progressive' 'psychedelic' 'punjabi'\n",
            " 'punk' 'quebecois' 'ragga' 'ram' 'rancheras' 'rap' 'rave' 'reggae'\n",
            " 'reggaeton' 'regional' 'relax' 'religious' 'retro' 'rhythm' 'rnb' 'rnr'\n",
            " 'rock' 'rockabilly' 'rockalternative' 'rockindie' 'rockother' 'romance'\n",
            " 'roots' 'ruspop' 'rusrap' 'rusrock' 'russian' 'salsa' 'samba' 'scenic'\n",
            " 'schlager' 'self' 'sertanejo' 'shanson' 'shoegazing' 'showtunes' 'singer'\n",
            " 'ska' 'skarock' 'slow' 'smooth' 'soft' 'soul' 'soulful' 'sound'\n",
            " 'soundtrack' 'southern' 'specialty' 'speech' 'spiritual' 'sport'\n",
            " 'stonerrock' 'surf' 'swing' 'synthpop' 'synthrock' 'sängerportrait'\n",
            " 'tango' 'tanzorchester' 'taraftar' 'tatar' 'tech' 'techno' 'teen'\n",
            " 'thrash' 'top' 'traditional' 'tradjazz' 'trance' 'tribal' 'trip'\n",
            " 'triphop' 'tropical' 'türk' 'türkçe' 'ukrrock' 'unknown' 'urban' 'uzbek'\n",
            " 'variété' 'vi' 'videogame' 'vocal' 'western' 'world' 'worldbeat' 'ïîï'\n",
            " 'электроника']\n"
          ]
        }
      ],
      "source": [
        "# Просмотр уникальных названий жанров\n",
        "\n",
        "print(df['genre'].sort_values().unique())                 "
      ]
    },
    {
      "cell_type": "markdown",
      "metadata": {
        "id": "qej-Qmuo_Zct"
      },
      "source": [
        "Просмотрите список и найдите неявные дубликаты названия `hiphop`. Это могут быть названия с ошибками или альтернативные названия того же жанра.\n",
        "\n",
        "Вы увидите следующие неявные дубликаты:\n",
        "* *hip*,\n",
        "* *hop*,\n",
        "* *hip-hop*.\n",
        "\n",
        "Чтобы очистить от них таблицу, напишите функцию `replace_wrong_genres()` с двумя параметрами: \n",
        "* `wrong_genres` — список дубликатов,\n",
        "* `correct_genre` — строка с правильным значением.\n",
        "\n",
        "Функция должна исправить колонку `genre` в таблице `df`: заменить каждое значение из списка `wrong_genres` на значение из `correct_genre`."
      ]
    },
    {
      "cell_type": "code",
      "execution_count": null,
      "metadata": {
        "id": "ErNDkmns_Zct"
      },
      "outputs": [],
      "source": [
        "# Функция для замены неявных дубликатов\n",
        "\n",
        "def replace_wrong_genres(wrong_genres, correct_genre):\n",
        "    for wrong_genre in wrong_genres:\n",
        "        df['genre'] = df['genre'].replace(wrong_genres, correct_genre)"
      ]
    },
    {
      "cell_type": "markdown",
      "metadata": {
        "id": "aDoBJxbA_Zct"
      },
      "source": [
        "Вызовите `replace_wrong_genres()` и передайте ей такие аргументы, чтобы она устранила неявные дубликаты: вместо `hip`, `hop` и `hip-hop` в таблице должно быть значение `hiphop`:"
      ]
    },
    {
      "cell_type": "code",
      "execution_count": null,
      "metadata": {
        "id": "YN5i2hpmSo09"
      },
      "outputs": [],
      "source": [
        "# Устранение неявных дубликатов\n",
        "\n",
        "wrong_values = ['hip', 'hop', 'hip-hop']\n",
        "wright_value = 'hiphop'\n",
        "replace_wrong_genres(wrong_values, wright_value)"
      ]
    },
    {
      "cell_type": "markdown",
      "metadata": {
        "id": "zQKF16_RG15m"
      },
      "source": [
        "Проверьте, что заменили неправильные названия:\n",
        "\n",
        "*   hip\n",
        "*   hop\n",
        "*   hip-hop\n",
        "\n",
        "Выведите отсортированный список уникальных значений столбца `genre`:"
      ]
    },
    {
      "cell_type": "code",
      "execution_count": null,
      "metadata": {
        "id": "wvixALnFG15m",
        "outputId": "20bf429f-a3e9-4330-e815-80a286052c0c"
      },
      "outputs": [
        {
          "name": "stdout",
          "output_type": "stream",
          "text": [
            "['acid' 'acoustic' 'action' 'adult' 'africa' 'afrikaans' 'alternative'\n",
            " 'alternativepunk' 'ambient' 'americana' 'animated' 'anime' 'arabesk'\n",
            " 'arabic' 'arena' 'argentinetango' 'art' 'audiobook' 'author' 'avantgarde'\n",
            " 'axé' 'baile' 'balkan' 'beats' 'bigroom' 'black' 'bluegrass' 'blues'\n",
            " 'bollywood' 'bossa' 'brazilian' 'breakbeat' 'breaks' 'broadway'\n",
            " 'cantautori' 'cantopop' 'canzone' 'caribbean' 'caucasian' 'celtic'\n",
            " 'chamber' 'chanson' 'children' 'chill' 'chinese' 'choral' 'christian'\n",
            " 'christmas' 'classical' 'classicmetal' 'club' 'colombian' 'comedy'\n",
            " 'conjazz' 'contemporary' 'country' 'cuban' 'dance' 'dancehall' 'dancepop'\n",
            " 'dark' 'death' 'deep' 'deutschrock' 'deutschspr' 'dirty' 'disco' 'dnb'\n",
            " 'documentary' 'downbeat' 'downtempo' 'drum' 'dub' 'dubstep' 'eastern'\n",
            " 'easy' 'electronic' 'electropop' 'emo' 'entehno' 'epicmetal' 'estrada'\n",
            " 'ethnic' 'eurofolk' 'european' 'experimental' 'extrememetal' 'fado'\n",
            " 'fairytail' 'film' 'fitness' 'flamenco' 'folk' 'folklore' 'folkmetal'\n",
            " 'folkrock' 'folktronica' 'forró' 'frankreich' 'französisch' 'french'\n",
            " 'funk' 'future' 'gangsta' 'garage' 'german' 'ghazal' 'gitarre' 'glitch'\n",
            " 'gospel' 'gothic' 'grime' 'grunge' 'gypsy' 'handsup' \"hard'n'heavy\"\n",
            " 'hardcore' 'hardstyle' 'hardtechno' 'hiphop' 'historisch' 'holiday'\n",
            " 'horror' 'house' 'hymn' 'idm' 'independent' 'indian' 'indie' 'indipop'\n",
            " 'industrial' 'inspirational' 'instrumental' 'international' 'irish' 'jam'\n",
            " 'japanese' 'jazz' 'jewish' 'jpop' 'jungle' 'k-pop' 'karadeniz' 'karaoke'\n",
            " 'kayokyoku' 'korean' 'laiko' 'latin' 'latino' 'leftfield' 'local'\n",
            " 'lounge' 'loungeelectronic' 'lovers' 'malaysian' 'mandopop' 'marschmusik'\n",
            " 'meditative' 'mediterranean' 'melodic' 'metal' 'metalcore' 'mexican'\n",
            " 'middle' 'minimal' 'miscellaneous' 'modern' 'mood' 'mpb' 'muslim'\n",
            " 'native' 'neoklassik' 'neue' 'new' 'newage' 'newwave' 'nu' 'nujazz'\n",
            " 'numetal' 'oceania' 'old' 'opera' 'orchestral' 'other' 'piano' 'podcasts'\n",
            " 'pop' 'popdance' 'popelectronic' 'popeurodance' 'poprussian' 'post'\n",
            " 'posthardcore' 'postrock' 'power' 'progmetal' 'progressive' 'psychedelic'\n",
            " 'punjabi' 'punk' 'quebecois' 'ragga' 'ram' 'rancheras' 'rap' 'rave'\n",
            " 'reggae' 'reggaeton' 'regional' 'relax' 'religious' 'retro' 'rhythm'\n",
            " 'rnb' 'rnr' 'rock' 'rockabilly' 'rockalternative' 'rockindie' 'rockother'\n",
            " 'romance' 'roots' 'ruspop' 'rusrap' 'rusrock' 'russian' 'salsa' 'samba'\n",
            " 'scenic' 'schlager' 'self' 'sertanejo' 'shanson' 'shoegazing' 'showtunes'\n",
            " 'singer' 'ska' 'skarock' 'slow' 'smooth' 'soft' 'soul' 'soulful' 'sound'\n",
            " 'soundtrack' 'southern' 'specialty' 'speech' 'spiritual' 'sport'\n",
            " 'stonerrock' 'surf' 'swing' 'synthpop' 'synthrock' 'sängerportrait'\n",
            " 'tango' 'tanzorchester' 'taraftar' 'tatar' 'tech' 'techno' 'teen'\n",
            " 'thrash' 'top' 'traditional' 'tradjazz' 'trance' 'tribal' 'trip'\n",
            " 'triphop' 'tropical' 'türk' 'türkçe' 'ukrrock' 'unknown' 'urban' 'uzbek'\n",
            " 'variété' 'vi' 'videogame' 'vocal' 'western' 'world' 'worldbeat' 'ïîï'\n",
            " 'электроника']\n"
          ]
        }
      ],
      "source": [
        "# Проверка на неявные дубликаты\n",
        "\n",
        "print(df['genre'].sort_values().unique())"
      ]
    },
    {
      "cell_type": "markdown",
      "metadata": {
        "id": "jz6a9-7HQUDd"
      },
      "source": [
        "**Выводы**\n",
        "\n",
        "Предобработка обнаружила три проблемы в данных:\n",
        "\n",
        "- нарушения в стиле заголовков,\n",
        "- пропущенные значения,\n",
        "- дубликаты — явные и неявные.\n",
        "\n",
        "Вы исправили заголовки, чтобы упростить работу с таблицей. Без дубликатов исследование станет более точным.\n",
        "\n",
        "Пропущенные значения вы заменили на `'unknown'`. Ещё предстоит увидеть, не повредят ли исследованию пропуски в колонке `genre`.\n",
        "\n",
        "Теперь можно перейти к проверке гипотез. "
      ]
    },
    {
      "cell_type": "markdown",
      "metadata": {
        "id": "WttZHXH0SqKk"
      },
      "source": [
        "## Проверка гипотез"
      ]
    },
    {
      "cell_type": "markdown",
      "metadata": {
        "id": "Im936VVi_Zcu"
      },
      "source": [
        "### Сравнение поведения пользователей двух столиц"
      ]
    },
    {
      "cell_type": "markdown",
      "metadata": {
        "id": "nwt_MuaL_Zcu"
      },
      "source": [
        "Первая гипотеза утверждает, что пользователи по-разному слушают музыку в Москве и Санкт-Петербурге. Проверьте это предположение по данным о трёх днях недели — понедельнике, среде и пятнице. Для этого:\n",
        "\n",
        "* Разделите пользователей Москвы и Санкт-Петербурга\n",
        "* Сравните, сколько треков послушала каждая группа пользователей в понедельник, среду и пятницу.\n"
      ]
    },
    {
      "cell_type": "markdown",
      "metadata": {
        "id": "8Dw_YMmT_Zcu"
      },
      "source": [
        "Для тренировки сначала выполните каждый из расчётов по отдельности. \n",
        "\n",
        "Оцените активность пользователей в каждом городе. Сгруппируйте данные по городу и посчитайте прослушивания в каждой группе.\n",
        "\n"
      ]
    },
    {
      "cell_type": "code",
      "execution_count": null,
      "metadata": {
        "id": "0_Qs96oh_Zcu",
        "outputId": "3c06f5af-835a-43bb-eaff-d821f163858f"
      },
      "outputs": [
        {
          "data": {
            "text/plain": [
              "city\n",
              "Moscow              42741\n",
              "Saint-Petersburg    18512\n",
              "Name: genre, dtype: int64"
            ]
          },
          "metadata": {},
          "output_type": "display_data"
        }
      ],
      "source": [
        "# Подсчёт прослушиваний в каждом городе\n",
        "\n",
        "display(df.groupby('city')['genre'].count())"
      ]
    },
    {
      "cell_type": "markdown",
      "metadata": {
        "id": "dzli3w8o_Zcu"
      },
      "source": [
        "В Москве прослушиваний больше, чем в Петербурге. Из этого не следует, что московские пользователи чаще слушают музыку. Просто самих пользователей в Москве больше.\n",
        "\n",
        "Теперь сгруппируйте данные по дню недели и подсчитайте прослушивания в понедельник, среду и пятницу. Учтите, что в данных есть информация только о прослушиваниях только за эти дни.\n"
      ]
    },
    {
      "cell_type": "code",
      "execution_count": null,
      "metadata": {
        "id": "uZMKjiJz_Zcu",
        "outputId": "53e15e15-7c00-46cb-b28f-d6d2714c3aea"
      },
      "outputs": [
        {
          "data": {
            "text/plain": [
              "day\n",
              "Friday       21840\n",
              "Monday       21354\n",
              "Wednesday    18059\n",
              "Name: city, dtype: int64"
            ]
          },
          "metadata": {},
          "output_type": "display_data"
        }
      ],
      "source": [
        "# Подсчёт прослушиваний в каждый из трёх дней\n",
        "\n",
        "display(df.groupby('day')['city'].count())"
      ]
    },
    {
      "cell_type": "markdown",
      "metadata": {
        "id": "cC2tNrlL_Zcu"
      },
      "source": [
        "В среднем пользователи из двух городов менее активны по средам. Но картина может измениться, если рассмотреть каждый город в отдельности."
      ]
    },
    {
      "cell_type": "markdown",
      "metadata": {
        "id": "POzs8bGa_Zcu"
      },
      "source": [
        "Вы видели, как работает группировка по городу и по дням недели. Теперь напишите функцию, которая объединит два эти расчёта.\n",
        "\n",
        "Создайте функцию `number_tracks()`, которая посчитает прослушивания для заданного дня и города. Ей понадобятся два параметра:\n",
        "* день недели,\n",
        "* название города.\n",
        "\n",
        "В функции сохраните в переменную строки исходной таблицы, у которых значение:\n",
        "  * в колонке `day` равно параметру `day`,\n",
        "  * в колонке `city` равно параметру `city`.\n",
        "\n",
        "Для этого примените последовательную фильтрацию с логической индексацией.\n",
        "\n",
        "Затем посчитайте значения в столбце `user_id` получившейся таблицы. Результат сохраните в новую переменную. Верните эту переменную из функции."
      ]
    },
    {
      "cell_type": "code",
      "execution_count": null,
      "metadata": {
        "id": "Nz3GdQB1_Zcu"
      },
      "outputs": [],
      "source": [
        "# <создание функции number_tracks()>\n",
        "# Объявляется функция с двумя параметрами: day, city.\n",
        "# В переменной track_list сохраняются те строки таблицы df, для которых \n",
        "# значение в столбце 'day' равно параметру day и одновременно значение\n",
        "# в столбце 'city' равно параметру city (используйте последовательную фильтрацию\n",
        "# с помощью логической индексации).\n",
        "# В переменной track_list_count сохраняется число значений столбца 'user_id',\n",
        "# рассчитанное методом count() для таблицы track_list.\n",
        "# Функция возвращает число - значение track_list_count.\n",
        "\n",
        "def number_tracks(day, city):\n",
        "    track_list = df[df['day'] == day]\n",
        "    track_list = track_list[track_list['city'] == city]['user_id']\n",
        "    track_list_count = track_list.count()\n",
        "    return track_list_count\n",
        "\n",
        "# Функция для подсчёта прослушиваний для конкретного города и дня.\n",
        "# С помощью последовательной фильтрации с логической индексацией она \n",
        "# сначала получит из исходной таблицы строки с нужным днём,\n",
        "# затем из результата отфильтрует строки с нужным городом,\n",
        "# методом count() посчитает количество значений в колонке user_id. \n",
        "# Это количество функция вернёт в качестве результата"
      ]
    },
    {
      "cell_type": "markdown",
      "metadata": {
        "id": "ytf7xFrFJQ2r"
      },
      "source": [
        "Вызовите `number_tracks()` шесть раз, меняя значение параметров — так, чтобы получить данные для каждого города в каждый из трёх дней."
      ]
    },
    {
      "cell_type": "code",
      "execution_count": null,
      "metadata": {
        "id": "rJcRATNQ_Zcu",
        "outputId": "80cdb722-0164-4aa0-c73c-cab929444c87"
      },
      "outputs": [
        {
          "data": {
            "text/plain": [
              "15740"
            ]
          },
          "execution_count": 21,
          "metadata": {},
          "output_type": "execute_result"
        }
      ],
      "source": [
        "# количество прослушиваний в Москве по понедельникам\n",
        "number_tracks('Monday', 'Moscow')"
      ]
    },
    {
      "cell_type": "code",
      "execution_count": null,
      "metadata": {
        "id": "hq_ncZ5T_Zcu",
        "outputId": "cefa9d57-2d78-438a-fc59-0c195e1bf81d"
      },
      "outputs": [
        {
          "data": {
            "text/plain": [
              "5614"
            ]
          },
          "execution_count": 22,
          "metadata": {},
          "output_type": "execute_result"
        }
      ],
      "source": [
        "# количество прослушиваний в Санкт-Петербурге по понедельникам\n",
        "number_tracks('Monday', 'Saint-Petersburg')"
      ]
    },
    {
      "cell_type": "code",
      "execution_count": null,
      "metadata": {
        "id": "_NTy2VPU_Zcu",
        "outputId": "0bc1a217-4ff7-4848-eecd-25c08dc351c7"
      },
      "outputs": [
        {
          "data": {
            "text/plain": [
              "11056"
            ]
          },
          "execution_count": 23,
          "metadata": {},
          "output_type": "execute_result"
        }
      ],
      "source": [
        "# количество прослушиваний в Москве по средам\n",
        "number_tracks('Wednesday', 'Moscow')"
      ]
    },
    {
      "cell_type": "code",
      "execution_count": null,
      "metadata": {
        "id": "j2y3TAwo_Zcu",
        "outputId": "1b573010-d6a3-4d2d-98e9-d512fe1d101f"
      },
      "outputs": [
        {
          "data": {
            "text/plain": [
              "7003"
            ]
          },
          "execution_count": 24,
          "metadata": {},
          "output_type": "execute_result"
        }
      ],
      "source": [
        "# количество прослушиваний в Санкт-Петербурге по средам\n",
        "number_tracks('Wednesday', 'Saint-Petersburg')"
      ]
    },
    {
      "cell_type": "code",
      "execution_count": null,
      "metadata": {
        "id": "vYDw5u_K_Zcu",
        "outputId": "265e21a4-f31a-4911-a5b6-56d6db9d1590"
      },
      "outputs": [
        {
          "data": {
            "text/plain": [
              "15945"
            ]
          },
          "execution_count": 25,
          "metadata": {},
          "output_type": "execute_result"
        }
      ],
      "source": [
        "# количество прослушиваний в Москве по пятницам\n",
        "number_tracks('Friday', 'Moscow')"
      ]
    },
    {
      "cell_type": "code",
      "execution_count": null,
      "metadata": {
        "id": "8_yzFtW3_Zcu",
        "outputId": "26f4ac4a-cbfe-496f-bdec-468694697232"
      },
      "outputs": [
        {
          "data": {
            "text/plain": [
              "5895"
            ]
          },
          "execution_count": 26,
          "metadata": {},
          "output_type": "execute_result"
        }
      ],
      "source": [
        "# количество прослушиваний в Санкт-Петербурге по пятницам\n",
        "number_tracks('Friday', 'Saint-Petersburg')"
      ]
    },
    {
      "cell_type": "markdown",
      "metadata": {
        "id": "7QXffbO-_Zcu"
      },
      "source": [
        "Создайте c помощью конструктора `pd.DataFrame` таблицу, где\n",
        "* названия колонок — `['city', 'monday', 'wednesday', 'friday']`;\n",
        "* данные — результаты, которые вы получили с помощью `number_tracks`."
      ]
    },
    {
      "cell_type": "code",
      "execution_count": null,
      "metadata": {
        "id": "APAcLpOr_Zcu",
        "outputId": "b4e5cb90-019b-4323-801e-5f29231fd641"
      },
      "outputs": [
        {
          "data": {
            "text/html": [
              "<div>\n",
              "<style scoped>\n",
              "    .dataframe tbody tr th:only-of-type {\n",
              "        vertical-align: middle;\n",
              "    }\n",
              "\n",
              "    .dataframe tbody tr th {\n",
              "        vertical-align: top;\n",
              "    }\n",
              "\n",
              "    .dataframe thead th {\n",
              "        text-align: right;\n",
              "    }\n",
              "</style>\n",
              "<table border=\"1\" class=\"dataframe\">\n",
              "  <thead>\n",
              "    <tr style=\"text-align: right;\">\n",
              "      <th></th>\n",
              "      <th>city</th>\n",
              "      <th>monday</th>\n",
              "      <th>wednesday</th>\n",
              "      <th>friday</th>\n",
              "    </tr>\n",
              "  </thead>\n",
              "  <tbody>\n",
              "    <tr>\n",
              "      <td>0</td>\n",
              "      <td>Moscow</td>\n",
              "      <td>15740</td>\n",
              "      <td>11056</td>\n",
              "      <td>15945</td>\n",
              "    </tr>\n",
              "    <tr>\n",
              "      <td>1</td>\n",
              "      <td>Saint-Petersburg</td>\n",
              "      <td>5614</td>\n",
              "      <td>7003</td>\n",
              "      <td>5895</td>\n",
              "    </tr>\n",
              "  </tbody>\n",
              "</table>\n",
              "</div>"
            ],
            "text/plain": [
              "               city  monday  wednesday  friday\n",
              "0            Moscow   15740      11056   15945\n",
              "1  Saint-Petersburg    5614       7003    5895"
            ]
          },
          "metadata": {},
          "output_type": "display_data"
        }
      ],
      "source": [
        "# Таблица с результатами\n",
        "numbers = [\n",
        "           ['Moscow', 15740, 11056, 15945], \n",
        "           ['Saint-Petersburg', 5614, 7003, 5895]\n",
        "          ]\n",
        "columns_ = ['city', 'monday', 'wednesday', 'friday']\n",
        "cities_per_day = pd.DataFrame(data=numbers, columns=columns_)\n",
        "display(cities_per_day)"
      ]
    },
    {
      "cell_type": "markdown",
      "metadata": {
        "id": "-EgPIHYu_Zcu"
      },
      "source": [
        "**Выводы**\n",
        "\n",
        "Данные показывают разницу поведения пользователей:\n",
        "\n",
        "- В Москве пик прослушиваний приходится на понедельник и пятницу, а в среду заметен спад.\n",
        "- В Петербурге, наоборот, больше слушают музыку по средам. Активность в понедельник и пятницу здесь почти в равной мере уступает среде.\n",
        "\n",
        "Значит, данные говорят в пользу первой гипотезы."
      ]
    },
    {
      "cell_type": "markdown",
      "metadata": {
        "id": "atZAxtq4_Zcu"
      },
      "source": [
        "### Музыка в начале и в конце недели"
      ]
    },
    {
      "cell_type": "markdown",
      "metadata": {
        "id": "eXrQqXFH_Zcu"
      },
      "source": [
        "Согласно второй гипотезе, утром в понедельник в Москве преобладают одни жанры, а в Петербурге — другие. Так же и вечером пятницы преобладают разные жанры — в зависимости от города."
      ]
    },
    {
      "cell_type": "markdown",
      "metadata": {
        "id": "S8UcW6Hw_Zcu"
      },
      "source": [
        "Сохраните таблицы с данными в две переменные:\n",
        "* по Москве — в `moscow_general`;\n",
        "* по Санкт-Петербургу — в `spb_general`."
      ]
    },
    {
      "cell_type": "code",
      "execution_count": null,
      "metadata": {
        "id": "qeaFfM_P_Zcu"
      },
      "outputs": [],
      "source": [
        "# получение таблицы moscow_general из тех строк таблицы df, \n",
        "# для которых значение в столбце 'city' равно 'Moscow'\n",
        "\n",
        "moscow_general = df[df['city'] == 'Moscow']\n"
      ]
    },
    {
      "cell_type": "code",
      "execution_count": null,
      "metadata": {
        "id": "ORaVRKto_Zcu"
      },
      "outputs": [],
      "source": [
        "# получение таблицы spb_general из тех строк таблицы df,\n",
        "# для которых значение в столбце 'city' равно 'Saint-Petersburg'\n",
        "\n",
        "spb_general = df[df['city'] == 'Saint-Petersburg']\n"
      ]
    },
    {
      "cell_type": "markdown",
      "metadata": {
        "id": "MEJV-CX2_Zcu"
      },
      "source": [
        "Создайте функцию `genre_weekday()` с четырьмя параметрами:\n",
        "* таблица (датафрейм) с данными,\n",
        "* день недели,\n",
        "* начальная временная метка в формате 'hh:mm', \n",
        "* последняя временная метка в формате 'hh:mm'.\n",
        "\n",
        "Функция должна вернуть информацию о топ-10 жанров тех треков, которые прослушивали в указанный день, в промежутке между двумя отметками времени."
      ]
    },
    {
      "cell_type": "code",
      "execution_count": null,
      "metadata": {
        "id": "laJT9BYl_Zcu"
      },
      "outputs": [],
      "source": [
        "# Объявление функции genre_weekday() с параметрами table, day, time1, time2,\n",
        "# которая возвращает информацию о самых популярных жанрах в указанный день в\n",
        "# заданное время:\n",
        "# 1) в переменную genre_df сохраняются те строки переданного датафрейма table, для\n",
        "#    которых одновременно:\n",
        "#    - значение в столбце day равно значению аргумента day\n",
        "#    - значение в столбце time больше значения аргумента time1\n",
        "#    - значение в столбце time меньше значения аргумента time2\n",
        "#    Используйте последовательную фильтрацию с помощью логической индексации.\n",
        "# 2) сгруппировать датафрейм genre_df по столбцу genre, взять один из его\n",
        "#    столбцов и посчитать методом count() количество записей для каждого из\n",
        "#    присутствующих жанров, получившийся Series записать в переменную\n",
        "#    genre_df_count\n",
        "# 3) отсортировать genre_df_count по убыванию встречаемости и сохранить\n",
        "#    в переменную genre_df_sorted\n",
        "# 4) вернуть Series из 10 первых значений genre_df_sorted, это будут топ-10\n",
        "#    популярных жанров (в указанный день, в заданное время)\n",
        "def genre_weekday(table, day, time1, time2):\n",
        "    genre_df = table[table['day'] == day]\n",
        "    genre_df = genre_df[genre_df['time'] > time1]\n",
        "    genre_df = genre_df[genre_df['time'] < time2]\n",
        "    genre_df_count = genre_df.groupby('genre')['user_id'].count()\n",
        "    genre_df_sorted = genre_df_count.sort_values(ascending=False)\n",
        "    return genre_df_sorted.head(10)"
      ]
    },
    {
      "cell_type": "markdown",
      "metadata": {
        "id": "la2s2_PF_Zcu"
      },
      "source": [
        "Cравните результаты функции `genre_weekday()` для Москвы и Санкт-Петербурга в понедельник утром (с 7:00 до 11:00) и в пятницу вечером (с 17:00 до 23:00):"
      ]
    },
    {
      "cell_type": "code",
      "execution_count": null,
      "metadata": {
        "id": "yz7itPUQ_Zcu",
        "outputId": "ad916d0c-dd66-4408-f31a-afd33538acba"
      },
      "outputs": [
        {
          "data": {
            "text/plain": [
              "genre\n",
              "pop            781\n",
              "dance          549\n",
              "electronic     480\n",
              "rock           474\n",
              "hiphop         286\n",
              "ruspop         186\n",
              "world          181\n",
              "rusrap         175\n",
              "alternative    164\n",
              "unknown        161\n",
              "Name: user_id, dtype: int64"
            ]
          },
          "execution_count": 31,
          "metadata": {},
          "output_type": "execute_result"
        }
      ],
      "source": [
        "# вызов функции для утра понедельника в Москве (вместо df — таблица moscow_general)\n",
        "# объекты, хранящие время, являются строками и сравниваются как строки\n",
        "# пример вызова: genre_weekday(moscow_general, 'Monday', '07:00', '11:00')\n",
        "\n",
        "genre_weekday(moscow_general, 'Monday', '07:00', '11:00')"
      ]
    },
    {
      "cell_type": "code",
      "execution_count": null,
      "metadata": {
        "id": "kwUcHPdy_Zcu",
        "outputId": "93325f20-19e7-4cf9-f4d1-1c16a6f306f5"
      },
      "outputs": [
        {
          "data": {
            "text/plain": [
              "genre\n",
              "pop            218\n",
              "dance          182\n",
              "rock           162\n",
              "electronic     147\n",
              "hiphop          80\n",
              "ruspop          64\n",
              "alternative     58\n",
              "rusrap          55\n",
              "jazz            44\n",
              "classical       40\n",
              "Name: user_id, dtype: int64"
            ]
          },
          "execution_count": 32,
          "metadata": {},
          "output_type": "execute_result"
        }
      ],
      "source": [
        "# вызов функции для утра понедельника в Петербурге (вместо df — таблица spb_general)\n",
        "\n",
        "genre_weekday(spb_general, 'Monday', '07:00', '11:00')"
      ]
    },
    {
      "cell_type": "code",
      "execution_count": null,
      "metadata": {
        "id": "EzXVRE1o_Zcu",
        "outputId": "a2954e2a-d3c3-4335-e91b-25f968fb6bb2"
      },
      "outputs": [
        {
          "data": {
            "text/plain": [
              "genre\n",
              "pop            713\n",
              "rock           517\n",
              "dance          495\n",
              "electronic     482\n",
              "hiphop         273\n",
              "world          208\n",
              "ruspop         170\n",
              "alternative    163\n",
              "classical      163\n",
              "rusrap         142\n",
              "Name: user_id, dtype: int64"
            ]
          },
          "execution_count": 33,
          "metadata": {},
          "output_type": "execute_result"
        }
      ],
      "source": [
        "# вызов функции для вечера пятницы в Москве\n",
        "\n",
        "genre_weekday(moscow_general, 'Friday', '17:00', '23:00')"
      ]
    },
    {
      "cell_type": "code",
      "execution_count": null,
      "metadata": {
        "id": "JZaEKu5v_Zcu",
        "outputId": "e991e041-6509-46df-f30c-79b4c944d83f"
      },
      "outputs": [
        {
          "data": {
            "text/plain": [
              "genre\n",
              "pop            256\n",
              "rock           216\n",
              "electronic     216\n",
              "dance          210\n",
              "hiphop          97\n",
              "alternative     63\n",
              "jazz            61\n",
              "classical       60\n",
              "rusrap          59\n",
              "world           54\n",
              "Name: user_id, dtype: int64"
            ]
          },
          "execution_count": 34,
          "metadata": {},
          "output_type": "execute_result"
        }
      ],
      "source": [
        "# вызов функции для вечера пятницы в Петербурге\n",
        "\n",
        "genre_weekday(spb_general, 'Friday', '17:00', '23:00')"
      ]
    },
    {
      "cell_type": "markdown",
      "metadata": {
        "id": "wrCe4MNX_Zcu"
      },
      "source": [
        "**Выводы**\n",
        "\n",
        "Если сравнить топ-10 жанров в понедельник утром, можно сделать такие выводы:\n",
        "\n",
        "1. В Москве и Петербурге слушают похожую музыку. Единственное отличие — в московский рейтинг вошёл жанр “world”, а в петербургский — джаз и классика.\n",
        "\n",
        "2. В Москве пропущенных значений оказалось так много, что значение `'unknown'` заняло десятое место среди самых популярных жанров. Значит, пропущенные значения занимают существенную долю в данных и угрожают достоверности исследования.\n",
        "\n",
        "Вечер пятницы не меняет эту картину. Некоторые жанры поднимаются немного выше, другие спускаются, но в целом топ-10 остаётся тем же самым.\n",
        "\n",
        "Таким образом, вторая гипотеза подтвердилась лишь частично:\n",
        "* Пользователи слушают похожую музыку в начале недели и в конце.\n",
        "* Разница между Москвой и Петербургом не слишком выражена. В Москве чаще слушают русскую популярную музыку, в Петербурге — джаз.\n",
        "\n",
        "Однако пропуски в данных ставят под сомнение этот результат. В Москве их так много, что рейтинг топ-10 мог бы выглядеть иначе, если бы не утерянные  данные о жанрах."
      ]
    },
    {
      "cell_type": "markdown",
      "metadata": {
        "id": "JolODAqr_Zcu"
      },
      "source": [
        "### Жанровые предпочтения в Москве и Петербурге\n",
        "\n",
        "Гипотеза: Петербург — столица рэпа, музыку этого жанра там слушают чаще, чем в Москве.  А Москва — город контрастов, в котором, тем не менее, преобладает поп-музыка."
      ]
    },
    {
      "cell_type": "markdown",
      "metadata": {
        "id": "DlegSvaT_Zcu"
      },
      "source": [
        "Сгруппируйте таблицу `moscow_general` по жанру и посчитайте прослушивания треков каждого жанра методом `count()`. Затем отсортируйте результат в порядке убывания и сохраните его в таблице `moscow_genres`."
      ]
    },
    {
      "cell_type": "code",
      "execution_count": null,
      "metadata": {
        "id": "r19lIPke_Zcu"
      },
      "outputs": [],
      "source": [
        "# одной строкой: группировка таблицы moscow_general по столбцу 'genre', \n",
        "# подсчёт числа значений 'genre' в этой группировке методом count(), \n",
        "# сортировка получившегося Series в порядке убывания и сохранение в moscow_genres\n",
        "\n",
        "moscow_genres = moscow_general.groupby('genre')['genre'].count()\n",
        "moscow_genres = moscow_genres.sort_values(ascending=False)"
      ]
    },
    {
      "cell_type": "markdown",
      "metadata": {
        "id": "6kMuomxTiIr8"
      },
      "source": [
        "Выведите на экран первые десять строк `moscow_genres`:"
      ]
    },
    {
      "cell_type": "code",
      "execution_count": null,
      "metadata": {
        "id": "WhCSooF8_Zcv",
        "outputId": "2fbb97af-6fe0-41d8-82cc-6de94eceb638"
      },
      "outputs": [
        {
          "data": {
            "text/plain": [
              "genre\n",
              "pop            5892\n",
              "dance          4435\n",
              "rock           3965\n",
              "electronic     3786\n",
              "hiphop         2096\n",
              "classical      1616\n",
              "world          1432\n",
              "alternative    1379\n",
              "ruspop         1372\n",
              "rusrap         1161\n",
              "Name: genre, dtype: int64"
            ]
          },
          "execution_count": 36,
          "metadata": {},
          "output_type": "execute_result"
        }
      ],
      "source": [
        "# просмотр первых 10 строк moscow_genres\n",
        "\n",
        "moscow_genres.head(10)"
      ]
    },
    {
      "cell_type": "markdown",
      "metadata": {
        "id": "cnPG2vnN_Zcv"
      },
      "source": [
        "Теперь повторите то же и для Петербурга.\n",
        "\n",
        "Сгруппируйте таблицу `spb_general` по жанру. Посчитайте прослушивания треков каждого жанра. Результат отсортируйте в порядке убывания и сохраните в таблице `spb_genres`:\n"
      ]
    },
    {
      "cell_type": "code",
      "execution_count": null,
      "metadata": {
        "id": "gluLIpE7_Zcv"
      },
      "outputs": [],
      "source": [
        "# одной строкой: группировка таблицы spb_general по столбцу 'genre', \n",
        "# подсчёт числа значений 'genre' в этой группировке методом count(), \n",
        "# сортировка получившегося Series в порядке убывания и сохранение в spb_genres\n",
        "\n",
        "spb_genres = spb_general.groupby('genre')['genre'].count()\n",
        "spb_genres = spb_genres.sort_values(ascending=False)"
      ]
    },
    {
      "cell_type": "markdown",
      "metadata": {
        "id": "5Doha_ODgyQ8"
      },
      "source": [
        "Выведите на экран первые десять строк `spb_genres`:"
      ]
    },
    {
      "cell_type": "code",
      "execution_count": null,
      "metadata": {
        "id": "uaGJHjVU_Zcv",
        "outputId": "ac2479ae-9c97-4218-bc21-db934b34d64d"
      },
      "outputs": [
        {
          "data": {
            "text/plain": [
              "genre\n",
              "pop            2431\n",
              "dance          1932\n",
              "rock           1879\n",
              "electronic     1736\n",
              "hiphop          960\n",
              "alternative     649\n",
              "classical       646\n",
              "rusrap          564\n",
              "ruspop          538\n",
              "world           515\n",
              "Name: genre, dtype: int64"
            ]
          },
          "execution_count": 38,
          "metadata": {},
          "output_type": "execute_result"
        }
      ],
      "source": [
        "# просмотр первых 10 строк spb_genres\n",
        "\n",
        "spb_genres.head(10)"
      ]
    },
    {
      "cell_type": "markdown",
      "metadata": {
        "id": "RY51YJYu_Zcv"
      },
      "source": [
        "**Выводы**"
      ]
    },
    {
      "cell_type": "markdown",
      "metadata": {
        "id": "nVhnJEm__Zcv"
      },
      "source": [
        "Гипотеза частично подтвердилась:\n",
        "* Поп-музыка — самый популярный жанр в Москве, как и предполагала гипотеза. Более того, в топ-10 жанров встречается близкий жанр — русская популярная музыка.\n",
        "* Вопреки ожиданиям, рэп одинаково популярен в Москве и Петербурге. \n"
      ]
    },
    {
      "cell_type": "markdown",
      "metadata": {
        "id": "ykKQ0N65_Zcv"
      },
      "source": [
        "## Итоги исследования"
      ]
    },
    {
      "cell_type": "markdown",
      "metadata": {
        "id": "tjUwbHb3_Zcv"
      },
      "source": [
        "Вы проверили три гипотезы и установили:\n",
        "\n",
        "1. День недели по-разному влияет на активность пользователей в Москве и Петербурге. \n",
        "\n",
        "Первая гипотеза полностью подтвердилась.\n",
        "\n",
        "2. Музыкальные предпочтения не сильно меняются в течение недели — будь то Москва или Петербург. Небольшие различия заметны в начале недели, по понедельникам:\n",
        "* в Москве слушают музыку жанра “world”,\n",
        "* в Петербурге — джаз и классику.\n",
        "\n",
        "Таким образом, вторая гипотеза подтвердилась лишь отчасти. Этот результат мог оказаться иным, если бы не пропуски в данных.\n",
        "\n",
        "3. Во вкусах пользователей Москвы и Петербурга больше общего чем различий. Вопреки ожиданиям, предпочтения жанров в Петербурге напоминают московские.\n",
        "\n",
        "Третья гипотеза не подтвердилась. Если различия в предпочтениях и существуют, на основной массе пользователей они незаметны.\n",
        "\n",
        "**На практике исследования содержат проверки статистических гипотез.**\n",
        "Из данных одного сервиса не всегда можно сделать вывод о всех жителях города.\n",
        "Проверки статистических гипотез покажут, насколько они достоверны, исходя из имеющихся данных. \n",
        "С методами проверок гипотез вы ещё познакомитесь в следующих темах."
      ]
    }
  ],
  "metadata": {
    "ExecuteTimeLog": [
      {
        "duration": 550,
        "start_time": "2021-12-27T12:34:15.708Z"
      },
      {
        "duration": 1364,
        "start_time": "2021-12-27T12:34:16.260Z"
      },
      {
        "duration": -11,
        "start_time": "2021-12-27T12:34:17.638Z"
      },
      {
        "duration": -12,
        "start_time": "2021-12-27T12:34:17.640Z"
      },
      {
        "duration": -18,
        "start_time": "2021-12-27T12:34:17.647Z"
      },
      {
        "duration": -20,
        "start_time": "2021-12-27T12:34:17.650Z"
      },
      {
        "duration": -21,
        "start_time": "2021-12-27T12:34:17.652Z"
      },
      {
        "duration": -46,
        "start_time": "2021-12-27T12:34:17.678Z"
      },
      {
        "duration": -48,
        "start_time": "2021-12-27T12:34:17.681Z"
      },
      {
        "duration": -50,
        "start_time": "2021-12-27T12:34:17.684Z"
      },
      {
        "duration": -51,
        "start_time": "2021-12-27T12:34:17.686Z"
      },
      {
        "duration": -53,
        "start_time": "2021-12-27T12:34:17.689Z"
      },
      {
        "duration": -58,
        "start_time": "2021-12-27T12:34:17.695Z"
      },
      {
        "duration": -60,
        "start_time": "2021-12-27T12:34:17.698Z"
      },
      {
        "duration": -61,
        "start_time": "2021-12-27T12:34:17.700Z"
      },
      {
        "duration": -63,
        "start_time": "2021-12-27T12:34:17.703Z"
      },
      {
        "duration": -64,
        "start_time": "2021-12-27T12:34:17.705Z"
      },
      {
        "duration": -64,
        "start_time": "2021-12-27T12:34:17.707Z"
      },
      {
        "duration": -66,
        "start_time": "2021-12-27T12:34:17.710Z"
      },
      {
        "duration": -73,
        "start_time": "2021-12-27T12:34:17.718Z"
      },
      {
        "duration": -75,
        "start_time": "2021-12-27T12:34:17.721Z"
      },
      {
        "duration": -77,
        "start_time": "2021-12-27T12:34:17.724Z"
      },
      {
        "duration": -78,
        "start_time": "2021-12-27T12:34:17.726Z"
      },
      {
        "duration": -79,
        "start_time": "2021-12-27T12:34:17.728Z"
      },
      {
        "duration": -80,
        "start_time": "2021-12-27T12:34:17.730Z"
      },
      {
        "duration": -82,
        "start_time": "2021-12-27T12:34:17.733Z"
      },
      {
        "duration": -82,
        "start_time": "2021-12-27T12:34:17.735Z"
      },
      {
        "duration": -84,
        "start_time": "2021-12-27T12:34:17.738Z"
      },
      {
        "duration": -86,
        "start_time": "2021-12-27T12:34:17.741Z"
      },
      {
        "duration": -87,
        "start_time": "2021-12-27T12:34:17.743Z"
      },
      {
        "duration": -88,
        "start_time": "2021-12-27T12:34:17.745Z"
      },
      {
        "duration": -113,
        "start_time": "2021-12-27T12:34:17.771Z"
      },
      {
        "duration": -115,
        "start_time": "2021-12-27T12:34:17.774Z"
      },
      {
        "duration": -117,
        "start_time": "2021-12-27T12:34:17.777Z"
      },
      {
        "duration": -118,
        "start_time": "2021-12-27T12:34:17.779Z"
      },
      {
        "duration": -120,
        "start_time": "2021-12-27T12:34:17.781Z"
      },
      {
        "duration": -121,
        "start_time": "2021-12-27T12:34:17.783Z"
      },
      {
        "duration": -123,
        "start_time": "2021-12-27T12:34:17.786Z"
      },
      {
        "duration": 1012,
        "start_time": "2021-12-27T12:36:11.888Z"
      },
      {
        "duration": 141,
        "start_time": "2021-12-27T12:36:12.902Z"
      },
      {
        "duration": 15,
        "start_time": "2021-12-27T12:36:13.047Z"
      },
      {
        "duration": 8,
        "start_time": "2021-12-27T12:36:13.064Z"
      },
      {
        "duration": 5,
        "start_time": "2021-12-27T12:36:13.074Z"
      },
      {
        "duration": 10,
        "start_time": "2021-12-27T12:36:13.081Z"
      },
      {
        "duration": 2,
        "start_time": "2021-12-27T12:36:13.094Z"
      },
      {
        "duration": 5,
        "start_time": "2021-12-27T12:36:13.098Z"
      },
      {
        "duration": 8,
        "start_time": "2021-12-27T12:36:13.104Z"
      },
      {
        "duration": 8,
        "start_time": "2021-12-27T12:36:13.113Z"
      },
      {
        "duration": 6,
        "start_time": "2021-12-27T12:36:13.123Z"
      },
      {
        "duration": 4,
        "start_time": "2021-12-27T12:36:13.131Z"
      },
      {
        "duration": 4,
        "start_time": "2021-12-27T12:36:13.137Z"
      },
      {
        "duration": 6,
        "start_time": "2021-12-27T12:36:13.142Z"
      },
      {
        "duration": 4,
        "start_time": "2021-12-27T12:36:13.150Z"
      },
      {
        "duration": 5,
        "start_time": "2021-12-27T12:36:13.155Z"
      },
      {
        "duration": 31,
        "start_time": "2021-12-27T12:36:13.161Z"
      },
      {
        "duration": 6,
        "start_time": "2021-12-27T12:36:13.194Z"
      },
      {
        "duration": 6,
        "start_time": "2021-12-27T12:36:13.201Z"
      },
      {
        "duration": 5,
        "start_time": "2021-12-27T12:36:13.208Z"
      },
      {
        "duration": 9,
        "start_time": "2021-12-27T12:36:13.214Z"
      },
      {
        "duration": 3,
        "start_time": "2021-12-27T12:36:13.226Z"
      },
      {
        "duration": 5,
        "start_time": "2021-12-27T12:36:13.231Z"
      },
      {
        "duration": 6,
        "start_time": "2021-12-27T12:36:13.237Z"
      },
      {
        "duration": 15,
        "start_time": "2021-12-27T12:36:13.245Z"
      },
      {
        "duration": 33,
        "start_time": "2021-12-27T12:36:13.261Z"
      },
      {
        "duration": 8,
        "start_time": "2021-12-27T12:36:13.296Z"
      },
      {
        "duration": 38,
        "start_time": "2021-12-27T12:36:13.306Z"
      },
      {
        "duration": 7,
        "start_time": "2021-12-27T12:36:13.346Z"
      },
      {
        "duration": 19,
        "start_time": "2021-12-27T12:36:13.354Z"
      },
      {
        "duration": 47,
        "start_time": "2021-12-27T12:36:13.375Z"
      },
      {
        "duration": 19,
        "start_time": "2021-12-27T12:36:13.424Z"
      },
      {
        "duration": 21,
        "start_time": "2021-12-27T12:36:13.445Z"
      },
      {
        "duration": 16,
        "start_time": "2021-12-27T12:36:13.468Z"
      },
      {
        "duration": 19,
        "start_time": "2021-12-27T12:36:13.486Z"
      },
      {
        "duration": 9,
        "start_time": "2021-12-27T12:36:13.507Z"
      },
      {
        "duration": 11,
        "start_time": "2021-12-27T12:36:13.518Z"
      },
      {
        "duration": 26,
        "start_time": "2021-12-27T12:36:13.530Z"
      },
      {
        "duration": 4,
        "start_time": "2021-12-27T13:12:09.212Z"
      },
      {
        "duration": 4,
        "start_time": "2021-12-27T13:12:28.182Z"
      },
      {
        "duration": 5,
        "start_time": "2021-12-27T13:13:01.903Z"
      },
      {
        "duration": 525,
        "start_time": "2021-12-27T13:14:10.444Z"
      },
      {
        "duration": 144,
        "start_time": "2021-12-27T13:14:10.971Z"
      },
      {
        "duration": 19,
        "start_time": "2021-12-27T13:14:11.117Z"
      },
      {
        "duration": 29,
        "start_time": "2021-12-27T13:14:11.139Z"
      },
      {
        "duration": 22,
        "start_time": "2021-12-27T13:14:11.170Z"
      },
      {
        "duration": 29,
        "start_time": "2021-12-27T13:14:11.194Z"
      },
      {
        "duration": 19,
        "start_time": "2021-12-27T13:14:11.225Z"
      },
      {
        "duration": 11,
        "start_time": "2021-12-27T13:14:11.248Z"
      },
      {
        "duration": 14,
        "start_time": "2021-12-27T13:14:11.261Z"
      },
      {
        "duration": 6,
        "start_time": "2021-12-27T13:14:11.277Z"
      },
      {
        "duration": 14,
        "start_time": "2021-12-27T13:14:11.284Z"
      },
      {
        "duration": 6,
        "start_time": "2021-12-27T13:14:11.299Z"
      },
      {
        "duration": 6,
        "start_time": "2021-12-27T13:14:11.306Z"
      },
      {
        "duration": 7,
        "start_time": "2021-12-27T13:14:11.313Z"
      },
      {
        "duration": 6,
        "start_time": "2021-12-27T13:14:11.321Z"
      },
      {
        "duration": 8,
        "start_time": "2021-12-27T13:14:11.329Z"
      },
      {
        "duration": 6,
        "start_time": "2021-12-27T13:14:11.339Z"
      },
      {
        "duration": 25,
        "start_time": "2021-12-27T13:14:11.346Z"
      },
      {
        "duration": 11,
        "start_time": "2021-12-27T13:14:11.373Z"
      },
      {
        "duration": 21,
        "start_time": "2021-12-27T13:14:11.385Z"
      },
      {
        "duration": 20,
        "start_time": "2021-12-27T13:14:11.408Z"
      },
      {
        "duration": 8,
        "start_time": "2021-12-27T13:14:11.429Z"
      },
      {
        "duration": 25,
        "start_time": "2021-12-27T13:14:11.440Z"
      },
      {
        "duration": 14,
        "start_time": "2021-12-27T13:14:11.468Z"
      },
      {
        "duration": 6,
        "start_time": "2021-12-27T13:14:11.484Z"
      },
      {
        "duration": 31,
        "start_time": "2021-12-27T13:14:11.492Z"
      },
      {
        "duration": 27,
        "start_time": "2021-12-27T13:14:11.525Z"
      },
      {
        "duration": 32,
        "start_time": "2021-12-27T13:14:11.554Z"
      },
      {
        "duration": 20,
        "start_time": "2021-12-27T13:14:11.588Z"
      },
      {
        "duration": 14,
        "start_time": "2021-12-27T13:14:11.610Z"
      },
      {
        "duration": 36,
        "start_time": "2021-12-27T13:14:11.625Z"
      },
      {
        "duration": 15,
        "start_time": "2021-12-27T13:14:11.662Z"
      },
      {
        "duration": 15,
        "start_time": "2021-12-27T13:14:11.679Z"
      },
      {
        "duration": 14,
        "start_time": "2021-12-27T13:14:11.696Z"
      },
      {
        "duration": 23,
        "start_time": "2021-12-27T13:14:11.712Z"
      },
      {
        "duration": 18,
        "start_time": "2021-12-27T13:14:11.736Z"
      },
      {
        "duration": 14,
        "start_time": "2021-12-27T13:14:11.756Z"
      },
      {
        "duration": 10,
        "start_time": "2021-12-27T13:14:11.772Z"
      },
      {
        "duration": 31,
        "start_time": "2021-12-27T13:16:07.579Z"
      },
      {
        "duration": 17,
        "start_time": "2021-12-27T13:25:11.215Z"
      },
      {
        "duration": 25,
        "start_time": "2021-12-27T13:25:38.669Z"
      },
      {
        "duration": 371,
        "start_time": "2021-12-27T15:39:18.444Z"
      },
      {
        "duration": 600,
        "start_time": "2021-12-27T15:39:40.723Z"
      },
      {
        "duration": 126,
        "start_time": "2021-12-27T15:39:41.324Z"
      },
      {
        "duration": 15,
        "start_time": "2021-12-27T15:39:41.452Z"
      },
      {
        "duration": 22,
        "start_time": "2021-12-27T15:39:41.469Z"
      },
      {
        "duration": 5,
        "start_time": "2021-12-27T15:39:41.492Z"
      },
      {
        "duration": 34,
        "start_time": "2021-12-27T15:39:41.499Z"
      },
      {
        "duration": 6,
        "start_time": "2021-12-27T15:39:41.534Z"
      },
      {
        "duration": 21,
        "start_time": "2021-12-27T15:39:41.543Z"
      },
      {
        "duration": 15,
        "start_time": "2021-12-27T15:39:41.566Z"
      },
      {
        "duration": 20,
        "start_time": "2021-12-27T15:39:41.582Z"
      },
      {
        "duration": 76,
        "start_time": "2021-12-27T15:39:41.603Z"
      },
      {
        "duration": 2,
        "start_time": "2021-12-27T15:39:41.680Z"
      },
      {
        "duration": 5,
        "start_time": "2021-12-27T15:39:41.683Z"
      },
      {
        "duration": 6,
        "start_time": "2021-12-27T15:39:41.690Z"
      },
      {
        "duration": 4,
        "start_time": "2021-12-27T15:39:41.697Z"
      },
      {
        "duration": 10,
        "start_time": "2021-12-27T15:39:41.703Z"
      },
      {
        "duration": 7,
        "start_time": "2021-12-27T15:39:41.714Z"
      },
      {
        "duration": 7,
        "start_time": "2021-12-27T15:39:41.727Z"
      },
      {
        "duration": 5,
        "start_time": "2021-12-27T15:39:41.736Z"
      },
      {
        "duration": 5,
        "start_time": "2021-12-27T15:39:41.742Z"
      },
      {
        "duration": 4,
        "start_time": "2021-12-27T15:39:41.748Z"
      },
      {
        "duration": 4,
        "start_time": "2021-12-27T15:39:41.754Z"
      },
      {
        "duration": 4,
        "start_time": "2021-12-27T15:39:41.762Z"
      },
      {
        "duration": 3,
        "start_time": "2021-12-27T15:39:41.768Z"
      },
      {
        "duration": 4,
        "start_time": "2021-12-27T15:39:41.773Z"
      },
      {
        "duration": 5,
        "start_time": "2021-12-27T15:39:41.779Z"
      },
      {
        "duration": 5,
        "start_time": "2021-12-27T15:39:41.785Z"
      },
      {
        "duration": 4,
        "start_time": "2021-12-27T15:39:41.792Z"
      },
      {
        "duration": 4,
        "start_time": "2021-12-27T15:39:41.797Z"
      },
      {
        "duration": 24,
        "start_time": "2021-12-27T15:39:41.803Z"
      },
      {
        "duration": 7,
        "start_time": "2021-12-27T15:39:41.828Z"
      },
      {
        "duration": 4,
        "start_time": "2021-12-27T15:39:41.837Z"
      },
      {
        "duration": 7,
        "start_time": "2021-12-27T15:39:41.843Z"
      },
      {
        "duration": 6,
        "start_time": "2021-12-27T15:39:41.852Z"
      },
      {
        "duration": 6,
        "start_time": "2021-12-27T15:39:41.859Z"
      },
      {
        "duration": 7,
        "start_time": "2021-12-27T15:39:41.866Z"
      },
      {
        "duration": 4,
        "start_time": "2021-12-27T15:39:41.875Z"
      },
      {
        "duration": 4,
        "start_time": "2021-12-27T15:39:41.881Z"
      },
      {
        "duration": 63,
        "start_time": "2021-12-27T15:41:03.092Z"
      },
      {
        "duration": 49,
        "start_time": "2021-12-27T15:41:47.084Z"
      },
      {
        "duration": 548,
        "start_time": "2021-12-27T15:41:58.683Z"
      },
      {
        "duration": 127,
        "start_time": "2021-12-27T15:41:59.233Z"
      },
      {
        "duration": 16,
        "start_time": "2021-12-27T15:41:59.362Z"
      },
      {
        "duration": 25,
        "start_time": "2021-12-27T15:41:59.379Z"
      },
      {
        "duration": 5,
        "start_time": "2021-12-27T15:41:59.405Z"
      },
      {
        "duration": 33,
        "start_time": "2021-12-27T15:41:59.412Z"
      },
      {
        "duration": 5,
        "start_time": "2021-12-27T15:41:59.447Z"
      },
      {
        "duration": 22,
        "start_time": "2021-12-27T15:41:59.454Z"
      },
      {
        "duration": 15,
        "start_time": "2021-12-27T15:41:59.479Z"
      },
      {
        "duration": 37,
        "start_time": "2021-12-27T15:41:59.495Z"
      },
      {
        "duration": 52,
        "start_time": "2021-12-27T15:41:59.534Z"
      },
      {
        "duration": 78,
        "start_time": "2021-12-27T15:41:59.587Z"
      },
      {
        "duration": 47,
        "start_time": "2021-12-27T15:41:59.667Z"
      },
      {
        "duration": 12,
        "start_time": "2021-12-27T15:41:59.716Z"
      },
      {
        "duration": 5,
        "start_time": "2021-12-27T15:41:59.729Z"
      },
      {
        "duration": 4,
        "start_time": "2021-12-27T15:41:59.735Z"
      },
      {
        "duration": 4,
        "start_time": "2021-12-27T15:41:59.741Z"
      },
      {
        "duration": 3,
        "start_time": "2021-12-27T15:41:59.747Z"
      },
      {
        "duration": 6,
        "start_time": "2021-12-27T15:41:59.751Z"
      },
      {
        "duration": 4,
        "start_time": "2021-12-27T15:41:59.759Z"
      },
      {
        "duration": 6,
        "start_time": "2021-12-27T15:41:59.764Z"
      },
      {
        "duration": 4,
        "start_time": "2021-12-27T15:41:59.772Z"
      },
      {
        "duration": 3,
        "start_time": "2021-12-27T15:41:59.778Z"
      },
      {
        "duration": 4,
        "start_time": "2021-12-27T15:41:59.783Z"
      },
      {
        "duration": 4,
        "start_time": "2021-12-27T15:41:59.788Z"
      },
      {
        "duration": 6,
        "start_time": "2021-12-27T15:41:59.793Z"
      },
      {
        "duration": 27,
        "start_time": "2021-12-27T15:41:59.801Z"
      },
      {
        "duration": 3,
        "start_time": "2021-12-27T15:41:59.830Z"
      },
      {
        "duration": 6,
        "start_time": "2021-12-27T15:41:59.834Z"
      },
      {
        "duration": 5,
        "start_time": "2021-12-27T15:41:59.841Z"
      },
      {
        "duration": 9,
        "start_time": "2021-12-27T15:41:59.847Z"
      },
      {
        "duration": 5,
        "start_time": "2021-12-27T15:41:59.857Z"
      },
      {
        "duration": 10,
        "start_time": "2021-12-27T15:41:59.863Z"
      },
      {
        "duration": 5,
        "start_time": "2021-12-27T15:41:59.874Z"
      },
      {
        "duration": 5,
        "start_time": "2021-12-27T15:41:59.880Z"
      },
      {
        "duration": 7,
        "start_time": "2021-12-27T15:41:59.886Z"
      },
      {
        "duration": 5,
        "start_time": "2021-12-27T15:41:59.895Z"
      },
      {
        "duration": 9,
        "start_time": "2021-12-27T15:41:59.901Z"
      },
      {
        "duration": 563,
        "start_time": "2021-12-27T15:43:44.284Z"
      },
      {
        "duration": 129,
        "start_time": "2021-12-27T15:43:44.849Z"
      },
      {
        "duration": 16,
        "start_time": "2021-12-27T15:43:44.980Z"
      },
      {
        "duration": 36,
        "start_time": "2021-12-27T15:43:44.997Z"
      },
      {
        "duration": 5,
        "start_time": "2021-12-27T15:43:45.035Z"
      },
      {
        "duration": 21,
        "start_time": "2021-12-27T15:43:45.041Z"
      },
      {
        "duration": 6,
        "start_time": "2021-12-27T15:43:45.063Z"
      },
      {
        "duration": 22,
        "start_time": "2021-12-27T15:43:45.072Z"
      },
      {
        "duration": 42,
        "start_time": "2021-12-27T15:43:45.096Z"
      },
      {
        "duration": 23,
        "start_time": "2021-12-27T15:43:45.139Z"
      },
      {
        "duration": 69,
        "start_time": "2021-12-27T15:43:45.163Z"
      },
      {
        "duration": 57,
        "start_time": "2021-12-27T15:43:45.233Z"
      },
      {
        "duration": 60,
        "start_time": "2021-12-27T15:43:45.292Z"
      },
      {
        "duration": 2,
        "start_time": "2021-12-27T15:43:45.354Z"
      },
      {
        "duration": 5,
        "start_time": "2021-12-27T15:43:45.358Z"
      },
      {
        "duration": 4,
        "start_time": "2021-12-27T15:43:45.364Z"
      },
      {
        "duration": 4,
        "start_time": "2021-12-27T15:43:45.370Z"
      },
      {
        "duration": 4,
        "start_time": "2021-12-27T15:43:45.375Z"
      },
      {
        "duration": 4,
        "start_time": "2021-12-27T15:43:45.381Z"
      },
      {
        "duration": 5,
        "start_time": "2021-12-27T15:43:45.387Z"
      },
      {
        "duration": 7,
        "start_time": "2021-12-27T15:43:45.393Z"
      },
      {
        "duration": 26,
        "start_time": "2021-12-27T15:43:45.401Z"
      },
      {
        "duration": 3,
        "start_time": "2021-12-27T15:43:45.431Z"
      },
      {
        "duration": 3,
        "start_time": "2021-12-27T15:43:45.436Z"
      },
      {
        "duration": 5,
        "start_time": "2021-12-27T15:43:45.440Z"
      },
      {
        "duration": 6,
        "start_time": "2021-12-27T15:43:45.447Z"
      },
      {
        "duration": 4,
        "start_time": "2021-12-27T15:43:45.455Z"
      },
      {
        "duration": 5,
        "start_time": "2021-12-27T15:43:45.460Z"
      },
      {
        "duration": 5,
        "start_time": "2021-12-27T15:43:45.466Z"
      },
      {
        "duration": 4,
        "start_time": "2021-12-27T15:43:45.472Z"
      },
      {
        "duration": 6,
        "start_time": "2021-12-27T15:43:45.478Z"
      },
      {
        "duration": 5,
        "start_time": "2021-12-27T15:43:45.485Z"
      },
      {
        "duration": 6,
        "start_time": "2021-12-27T15:43:45.491Z"
      },
      {
        "duration": 4,
        "start_time": "2021-12-27T15:43:45.499Z"
      },
      {
        "duration": 25,
        "start_time": "2021-12-27T15:43:45.504Z"
      },
      {
        "duration": 5,
        "start_time": "2021-12-27T15:43:45.531Z"
      },
      {
        "duration": 5,
        "start_time": "2021-12-27T15:43:45.538Z"
      },
      {
        "duration": 4,
        "start_time": "2021-12-27T15:43:45.545Z"
      },
      {
        "duration": 115,
        "start_time": "2021-12-27T15:52:21.409Z"
      },
      {
        "duration": 546,
        "start_time": "2021-12-27T15:52:45.075Z"
      },
      {
        "duration": 124,
        "start_time": "2021-12-27T15:52:45.623Z"
      },
      {
        "duration": 16,
        "start_time": "2021-12-27T15:52:45.749Z"
      },
      {
        "duration": 23,
        "start_time": "2021-12-27T15:52:45.766Z"
      },
      {
        "duration": 4,
        "start_time": "2021-12-27T15:52:45.791Z"
      },
      {
        "duration": 40,
        "start_time": "2021-12-27T15:52:45.797Z"
      },
      {
        "duration": 3,
        "start_time": "2021-12-27T15:52:45.839Z"
      },
      {
        "duration": 23,
        "start_time": "2021-12-27T15:52:45.844Z"
      },
      {
        "duration": 15,
        "start_time": "2021-12-27T15:52:45.870Z"
      },
      {
        "duration": 20,
        "start_time": "2021-12-27T15:52:45.887Z"
      },
      {
        "duration": 55,
        "start_time": "2021-12-27T15:52:45.927Z"
      },
      {
        "duration": 77,
        "start_time": "2021-12-27T15:52:45.984Z"
      },
      {
        "duration": 46,
        "start_time": "2021-12-27T15:52:46.063Z"
      },
      {
        "duration": 97,
        "start_time": "2021-12-27T15:52:46.111Z"
      },
      {
        "duration": -280,
        "start_time": "2021-12-27T15:52:46.490Z"
      },
      {
        "duration": -282,
        "start_time": "2021-12-27T15:52:46.493Z"
      },
      {
        "duration": -283,
        "start_time": "2021-12-27T15:52:46.495Z"
      },
      {
        "duration": -284,
        "start_time": "2021-12-27T15:52:46.497Z"
      },
      {
        "duration": -292,
        "start_time": "2021-12-27T15:52:46.505Z"
      },
      {
        "duration": -293,
        "start_time": "2021-12-27T15:52:46.507Z"
      },
      {
        "duration": -294,
        "start_time": "2021-12-27T15:52:46.509Z"
      },
      {
        "duration": -298,
        "start_time": "2021-12-27T15:52:46.514Z"
      },
      {
        "duration": -299,
        "start_time": "2021-12-27T15:52:46.516Z"
      },
      {
        "duration": -300,
        "start_time": "2021-12-27T15:52:46.518Z"
      },
      {
        "duration": -301,
        "start_time": "2021-12-27T15:52:46.520Z"
      },
      {
        "duration": -302,
        "start_time": "2021-12-27T15:52:46.522Z"
      },
      {
        "duration": -303,
        "start_time": "2021-12-27T15:52:46.524Z"
      },
      {
        "duration": -309,
        "start_time": "2021-12-27T15:52:46.531Z"
      },
      {
        "duration": -310,
        "start_time": "2021-12-27T15:52:46.533Z"
      },
      {
        "duration": -312,
        "start_time": "2021-12-27T15:52:46.535Z"
      },
      {
        "duration": -313,
        "start_time": "2021-12-27T15:52:46.537Z"
      },
      {
        "duration": -314,
        "start_time": "2021-12-27T15:52:46.539Z"
      },
      {
        "duration": -314,
        "start_time": "2021-12-27T15:52:46.540Z"
      },
      {
        "duration": -315,
        "start_time": "2021-12-27T15:52:46.542Z"
      },
      {
        "duration": -317,
        "start_time": "2021-12-27T15:52:46.545Z"
      },
      {
        "duration": -319,
        "start_time": "2021-12-27T15:52:46.548Z"
      },
      {
        "duration": -321,
        "start_time": "2021-12-27T15:52:46.550Z"
      },
      {
        "duration": -322,
        "start_time": "2021-12-27T15:52:46.552Z"
      },
      {
        "duration": 106,
        "start_time": "2021-12-27T16:01:53.080Z"
      },
      {
        "duration": 6,
        "start_time": "2021-12-27T16:03:09.234Z"
      },
      {
        "duration": 399,
        "start_time": "2021-12-27T16:31:44.977Z"
      },
      {
        "duration": 602,
        "start_time": "2021-12-27T16:31:57.005Z"
      },
      {
        "duration": 132,
        "start_time": "2021-12-27T16:31:57.608Z"
      },
      {
        "duration": 15,
        "start_time": "2021-12-27T16:31:57.742Z"
      },
      {
        "duration": 29,
        "start_time": "2021-12-27T16:31:57.760Z"
      },
      {
        "duration": 5,
        "start_time": "2021-12-27T16:31:57.791Z"
      },
      {
        "duration": 37,
        "start_time": "2021-12-27T16:31:57.797Z"
      },
      {
        "duration": 4,
        "start_time": "2021-12-27T16:31:57.836Z"
      },
      {
        "duration": 25,
        "start_time": "2021-12-27T16:31:57.842Z"
      },
      {
        "duration": 16,
        "start_time": "2021-12-27T16:31:57.869Z"
      },
      {
        "duration": 42,
        "start_time": "2021-12-27T16:31:57.887Z"
      },
      {
        "duration": 54,
        "start_time": "2021-12-27T16:31:57.930Z"
      },
      {
        "duration": 71,
        "start_time": "2021-12-27T16:31:57.985Z"
      },
      {
        "duration": 47,
        "start_time": "2021-12-27T16:31:58.057Z"
      },
      {
        "duration": 5,
        "start_time": "2021-12-27T16:31:58.105Z"
      },
      {
        "duration": 2,
        "start_time": "2021-12-27T16:31:58.127Z"
      },
      {
        "duration": 16,
        "start_time": "2021-12-27T16:31:58.131Z"
      },
      {
        "duration": 2,
        "start_time": "2021-12-27T16:31:58.148Z"
      },
      {
        "duration": 5,
        "start_time": "2021-12-27T16:31:58.152Z"
      },
      {
        "duration": 4,
        "start_time": "2021-12-27T16:31:58.159Z"
      },
      {
        "duration": 4,
        "start_time": "2021-12-27T16:31:58.165Z"
      },
      {
        "duration": 4,
        "start_time": "2021-12-27T16:31:58.170Z"
      },
      {
        "duration": 6,
        "start_time": "2021-12-27T16:31:58.176Z"
      },
      {
        "duration": 2,
        "start_time": "2021-12-27T16:31:58.186Z"
      },
      {
        "duration": 3,
        "start_time": "2021-12-27T16:31:58.190Z"
      },
      {
        "duration": 32,
        "start_time": "2021-12-27T16:31:58.195Z"
      },
      {
        "duration": 4,
        "start_time": "2021-12-27T16:31:58.229Z"
      },
      {
        "duration": 5,
        "start_time": "2021-12-27T16:31:58.234Z"
      },
      {
        "duration": 4,
        "start_time": "2021-12-27T16:31:58.240Z"
      },
      {
        "duration": 4,
        "start_time": "2021-12-27T16:31:58.246Z"
      },
      {
        "duration": 4,
        "start_time": "2021-12-27T16:31:58.251Z"
      },
      {
        "duration": 10,
        "start_time": "2021-12-27T16:31:58.257Z"
      },
      {
        "duration": 3,
        "start_time": "2021-12-27T16:31:58.269Z"
      },
      {
        "duration": 6,
        "start_time": "2021-12-27T16:31:58.274Z"
      },
      {
        "duration": 5,
        "start_time": "2021-12-27T16:31:58.281Z"
      },
      {
        "duration": 4,
        "start_time": "2021-12-27T16:31:58.288Z"
      },
      {
        "duration": 7,
        "start_time": "2021-12-27T16:31:58.293Z"
      },
      {
        "duration": 5,
        "start_time": "2021-12-27T16:31:58.301Z"
      },
      {
        "duration": 7,
        "start_time": "2021-12-27T16:31:58.307Z"
      },
      {
        "duration": 6,
        "start_time": "2021-12-27T16:32:39.895Z"
      },
      {
        "duration": 3,
        "start_time": "2021-12-27T16:36:21.251Z"
      },
      {
        "duration": 29,
        "start_time": "2021-12-27T16:36:54.641Z"
      },
      {
        "duration": 2,
        "start_time": "2021-12-27T16:43:24.778Z"
      },
      {
        "duration": 28,
        "start_time": "2021-12-27T16:44:48.983Z"
      },
      {
        "duration": 11,
        "start_time": "2021-12-27T17:58:58.725Z"
      },
      {
        "duration": 11,
        "start_time": "2021-12-27T17:59:23.089Z"
      },
      {
        "duration": 3,
        "start_time": "2021-12-27T18:14:21.154Z"
      },
      {
        "duration": 3,
        "start_time": "2021-12-27T18:14:25.657Z"
      },
      {
        "duration": 4,
        "start_time": "2021-12-27T18:45:02.356Z"
      },
      {
        "duration": 4,
        "start_time": "2021-12-27T18:45:35.018Z"
      },
      {
        "duration": 5,
        "start_time": "2021-12-27T18:45:50.047Z"
      },
      {
        "duration": 4,
        "start_time": "2021-12-27T18:46:08.760Z"
      },
      {
        "duration": 4,
        "start_time": "2021-12-27T18:46:11.497Z"
      },
      {
        "duration": 5,
        "start_time": "2021-12-27T18:46:16.256Z"
      },
      {
        "duration": 9,
        "start_time": "2021-12-27T18:47:00.601Z"
      },
      {
        "duration": 5,
        "start_time": "2021-12-27T18:47:39.315Z"
      },
      {
        "duration": 21,
        "start_time": "2021-12-27T18:47:56.891Z"
      },
      {
        "duration": 5,
        "start_time": "2021-12-27T18:49:37.063Z"
      },
      {
        "duration": 17,
        "start_time": "2021-12-27T18:49:51.741Z"
      },
      {
        "duration": 4,
        "start_time": "2021-12-27T18:49:56.743Z"
      },
      {
        "duration": 16,
        "start_time": "2021-12-27T18:49:59.835Z"
      },
      {
        "duration": 14,
        "start_time": "2021-12-27T18:50:02.837Z"
      },
      {
        "duration": 5,
        "start_time": "2021-12-27T18:51:45.969Z"
      },
      {
        "duration": 350,
        "start_time": "2021-12-28T01:21:57.513Z"
      },
      {
        "duration": 607,
        "start_time": "2021-12-28T01:22:08.105Z"
      },
      {
        "duration": 123,
        "start_time": "2021-12-28T01:22:08.714Z"
      },
      {
        "duration": 17,
        "start_time": "2021-12-28T01:22:08.839Z"
      },
      {
        "duration": 23,
        "start_time": "2021-12-28T01:22:08.858Z"
      },
      {
        "duration": 4,
        "start_time": "2021-12-28T01:22:08.883Z"
      },
      {
        "duration": 40,
        "start_time": "2021-12-28T01:22:08.888Z"
      },
      {
        "duration": 4,
        "start_time": "2021-12-28T01:22:08.929Z"
      },
      {
        "duration": 22,
        "start_time": "2021-12-28T01:22:08.935Z"
      },
      {
        "duration": 15,
        "start_time": "2021-12-28T01:22:08.959Z"
      },
      {
        "duration": 19,
        "start_time": "2021-12-28T01:22:08.975Z"
      },
      {
        "duration": 92,
        "start_time": "2021-12-28T01:22:08.996Z"
      },
      {
        "duration": 110,
        "start_time": "2021-12-28T01:22:09.090Z"
      },
      {
        "duration": 81,
        "start_time": "2021-12-28T01:22:09.202Z"
      },
      {
        "duration": 7,
        "start_time": "2021-12-28T01:22:09.285Z"
      },
      {
        "duration": 4,
        "start_time": "2021-12-28T01:22:09.294Z"
      },
      {
        "duration": 32,
        "start_time": "2021-12-28T01:22:09.300Z"
      },
      {
        "duration": 7,
        "start_time": "2021-12-28T01:22:09.334Z"
      },
      {
        "duration": 30,
        "start_time": "2021-12-28T01:22:09.342Z"
      },
      {
        "duration": 9,
        "start_time": "2021-12-28T01:22:09.373Z"
      },
      {
        "duration": 3,
        "start_time": "2021-12-28T01:22:09.383Z"
      },
      {
        "duration": 41,
        "start_time": "2021-12-28T01:22:09.387Z"
      },
      {
        "duration": 12,
        "start_time": "2021-12-28T01:22:09.429Z"
      },
      {
        "duration": 13,
        "start_time": "2021-12-28T01:22:09.444Z"
      },
      {
        "duration": 12,
        "start_time": "2021-12-28T01:22:09.458Z"
      },
      {
        "duration": 13,
        "start_time": "2021-12-28T01:22:09.471Z"
      },
      {
        "duration": 11,
        "start_time": "2021-12-28T01:22:09.486Z"
      },
      {
        "duration": 2,
        "start_time": "2021-12-28T01:22:09.527Z"
      },
      {
        "duration": 5,
        "start_time": "2021-12-28T01:22:09.531Z"
      },
      {
        "duration": 5,
        "start_time": "2021-12-28T01:22:09.537Z"
      },
      {
        "duration": 4,
        "start_time": "2021-12-28T01:22:09.544Z"
      },
      {
        "duration": 6,
        "start_time": "2021-12-28T01:22:09.549Z"
      },
      {
        "duration": 5,
        "start_time": "2021-12-28T01:22:09.557Z"
      },
      {
        "duration": 6,
        "start_time": "2021-12-28T01:22:09.563Z"
      },
      {
        "duration": 4,
        "start_time": "2021-12-28T01:22:09.570Z"
      },
      {
        "duration": 4,
        "start_time": "2021-12-28T01:22:09.575Z"
      },
      {
        "duration": 4,
        "start_time": "2021-12-28T01:22:09.581Z"
      },
      {
        "duration": 4,
        "start_time": "2021-12-28T01:22:09.587Z"
      },
      {
        "duration": 3,
        "start_time": "2021-12-28T01:22:09.593Z"
      },
      {
        "duration": 13,
        "start_time": "2021-12-28T01:31:16.177Z"
      },
      {
        "duration": 399,
        "start_time": "2021-12-28T01:33:07.572Z"
      },
      {
        "duration": 618,
        "start_time": "2021-12-28T01:33:54.235Z"
      },
      {
        "duration": 130,
        "start_time": "2021-12-28T01:33:54.855Z"
      },
      {
        "duration": 17,
        "start_time": "2021-12-28T01:33:54.987Z"
      },
      {
        "duration": 32,
        "start_time": "2021-12-28T01:33:55.006Z"
      },
      {
        "duration": 6,
        "start_time": "2021-12-28T01:33:55.040Z"
      },
      {
        "duration": 28,
        "start_time": "2021-12-28T01:33:55.048Z"
      },
      {
        "duration": 5,
        "start_time": "2021-12-28T01:33:55.077Z"
      },
      {
        "duration": 23,
        "start_time": "2021-12-28T01:33:55.084Z"
      },
      {
        "duration": 32,
        "start_time": "2021-12-28T01:33:55.111Z"
      },
      {
        "duration": 21,
        "start_time": "2021-12-28T01:33:55.145Z"
      },
      {
        "duration": 74,
        "start_time": "2021-12-28T01:33:55.168Z"
      },
      {
        "duration": 62,
        "start_time": "2021-12-28T01:33:55.243Z"
      },
      {
        "duration": 52,
        "start_time": "2021-12-28T01:33:55.307Z"
      },
      {
        "duration": 5,
        "start_time": "2021-12-28T01:33:55.361Z"
      },
      {
        "duration": 10,
        "start_time": "2021-12-28T01:33:55.367Z"
      },
      {
        "duration": 16,
        "start_time": "2021-12-28T01:33:55.378Z"
      },
      {
        "duration": 9,
        "start_time": "2021-12-28T01:33:55.395Z"
      },
      {
        "duration": 43,
        "start_time": "2021-12-28T01:33:55.406Z"
      },
      {
        "duration": 9,
        "start_time": "2021-12-28T01:33:55.450Z"
      },
      {
        "duration": 3,
        "start_time": "2021-12-28T01:33:55.460Z"
      },
      {
        "duration": 19,
        "start_time": "2021-12-28T01:33:55.465Z"
      },
      {
        "duration": 12,
        "start_time": "2021-12-28T01:33:55.485Z"
      },
      {
        "duration": 38,
        "start_time": "2021-12-28T01:33:55.498Z"
      },
      {
        "duration": 11,
        "start_time": "2021-12-28T01:33:55.537Z"
      },
      {
        "duration": 12,
        "start_time": "2021-12-28T01:33:55.550Z"
      },
      {
        "duration": 11,
        "start_time": "2021-12-28T01:33:55.564Z"
      },
      {
        "duration": 380,
        "start_time": "2021-12-28T01:33:55.577Z"
      },
      {
        "duration": -798,
        "start_time": "2021-12-28T01:33:56.757Z"
      },
      {
        "duration": -800,
        "start_time": "2021-12-28T01:33:56.759Z"
      },
      {
        "duration": -801,
        "start_time": "2021-12-28T01:33:56.761Z"
      },
      {
        "duration": -802,
        "start_time": "2021-12-28T01:33:56.763Z"
      },
      {
        "duration": -803,
        "start_time": "2021-12-28T01:33:56.765Z"
      },
      {
        "duration": -820,
        "start_time": "2021-12-28T01:33:56.782Z"
      },
      {
        "duration": -821,
        "start_time": "2021-12-28T01:33:56.784Z"
      },
      {
        "duration": -822,
        "start_time": "2021-12-28T01:33:56.786Z"
      },
      {
        "duration": -823,
        "start_time": "2021-12-28T01:33:56.788Z"
      },
      {
        "duration": -825,
        "start_time": "2021-12-28T01:33:56.790Z"
      },
      {
        "duration": -826,
        "start_time": "2021-12-28T01:33:56.792Z"
      },
      {
        "duration": 321,
        "start_time": "2021-12-28T01:35:01.483Z"
      },
      {
        "duration": 297,
        "start_time": "2021-12-28T01:39:08.699Z"
      },
      {
        "duration": 4,
        "start_time": "2021-12-28T01:39:56.886Z"
      },
      {
        "duration": 3,
        "start_time": "2021-12-28T01:39:59.796Z"
      },
      {
        "duration": 7,
        "start_time": "2021-12-28T01:40:14.304Z"
      },
      {
        "duration": 11,
        "start_time": "2021-12-28T01:42:59.875Z"
      },
      {
        "duration": 5,
        "start_time": "2021-12-28T01:43:40.391Z"
      },
      {
        "duration": 3,
        "start_time": "2021-12-28T02:09:39.287Z"
      },
      {
        "duration": 15,
        "start_time": "2021-12-28T02:11:04.293Z"
      },
      {
        "duration": 3,
        "start_time": "2021-12-28T02:14:09.510Z"
      },
      {
        "duration": 4,
        "start_time": "2021-12-28T02:18:03.255Z"
      },
      {
        "duration": 618,
        "start_time": "2021-12-28T02:18:06.450Z"
      },
      {
        "duration": 4,
        "start_time": "2021-12-28T02:19:27.751Z"
      },
      {
        "duration": 18,
        "start_time": "2021-12-28T02:19:31.109Z"
      },
      {
        "duration": 560,
        "start_time": "2021-12-28T02:20:03.651Z"
      },
      {
        "duration": 4,
        "start_time": "2021-12-28T02:20:10.654Z"
      },
      {
        "duration": 20,
        "start_time": "2021-12-28T02:20:13.502Z"
      },
      {
        "duration": 16,
        "start_time": "2021-12-28T02:21:08.284Z"
      },
      {
        "duration": 8,
        "start_time": "2021-12-28T02:22:03.586Z"
      },
      {
        "duration": 8,
        "start_time": "2021-12-28T02:22:09.142Z"
      },
      {
        "duration": 17,
        "start_time": "2021-12-28T02:22:15.453Z"
      },
      {
        "duration": 8,
        "start_time": "2021-12-28T02:22:24.409Z"
      },
      {
        "duration": 704,
        "start_time": "2021-12-28T02:22:50.866Z"
      },
      {
        "duration": 124,
        "start_time": "2021-12-28T02:22:51.572Z"
      },
      {
        "duration": 27,
        "start_time": "2021-12-28T02:22:51.700Z"
      },
      {
        "duration": 23,
        "start_time": "2021-12-28T02:22:51.729Z"
      },
      {
        "duration": 4,
        "start_time": "2021-12-28T02:22:51.754Z"
      },
      {
        "duration": 19,
        "start_time": "2021-12-28T02:22:51.759Z"
      },
      {
        "duration": 4,
        "start_time": "2021-12-28T02:22:51.781Z"
      },
      {
        "duration": 50,
        "start_time": "2021-12-28T02:22:51.787Z"
      },
      {
        "duration": 16,
        "start_time": "2021-12-28T02:22:51.839Z"
      },
      {
        "duration": 20,
        "start_time": "2021-12-28T02:22:51.857Z"
      },
      {
        "duration": 77,
        "start_time": "2021-12-28T02:22:51.879Z"
      },
      {
        "duration": 57,
        "start_time": "2021-12-28T02:22:51.958Z"
      },
      {
        "duration": 56,
        "start_time": "2021-12-28T02:22:52.017Z"
      },
      {
        "duration": 5,
        "start_time": "2021-12-28T02:22:52.074Z"
      },
      {
        "duration": 4,
        "start_time": "2021-12-28T02:22:52.081Z"
      },
      {
        "duration": 16,
        "start_time": "2021-12-28T02:22:52.087Z"
      },
      {
        "duration": 25,
        "start_time": "2021-12-28T02:22:52.105Z"
      },
      {
        "duration": 29,
        "start_time": "2021-12-28T02:22:52.132Z"
      },
      {
        "duration": 9,
        "start_time": "2021-12-28T02:22:52.162Z"
      },
      {
        "duration": 3,
        "start_time": "2021-12-28T02:22:52.173Z"
      },
      {
        "duration": 18,
        "start_time": "2021-12-28T02:22:52.177Z"
      },
      {
        "duration": 38,
        "start_time": "2021-12-28T02:22:52.198Z"
      },
      {
        "duration": 13,
        "start_time": "2021-12-28T02:22:52.238Z"
      },
      {
        "duration": 12,
        "start_time": "2021-12-28T02:22:52.252Z"
      },
      {
        "duration": 14,
        "start_time": "2021-12-28T02:22:52.265Z"
      },
      {
        "duration": 12,
        "start_time": "2021-12-28T02:22:52.280Z"
      },
      {
        "duration": 34,
        "start_time": "2021-12-28T02:22:52.294Z"
      },
      {
        "duration": 10,
        "start_time": "2021-12-28T02:22:52.330Z"
      },
      {
        "duration": 10,
        "start_time": "2021-12-28T02:22:52.341Z"
      },
      {
        "duration": 4,
        "start_time": "2021-12-28T02:22:52.352Z"
      },
      {
        "duration": 27,
        "start_time": "2021-12-28T02:22:52.357Z"
      },
      {
        "duration": 12,
        "start_time": "2021-12-28T02:22:52.385Z"
      },
      {
        "duration": 35,
        "start_time": "2021-12-28T02:22:52.398Z"
      },
      {
        "duration": 10,
        "start_time": "2021-12-28T02:22:52.435Z"
      },
      {
        "duration": 2,
        "start_time": "2021-12-28T02:22:52.447Z"
      },
      {
        "duration": 4,
        "start_time": "2021-12-28T02:22:52.450Z"
      },
      {
        "duration": 4,
        "start_time": "2021-12-28T02:22:52.456Z"
      },
      {
        "duration": 4,
        "start_time": "2021-12-28T02:22:52.461Z"
      },
      {
        "duration": 220,
        "start_time": "2021-12-28T18:15:39.773Z"
      },
      {
        "duration": 554,
        "start_time": "2021-12-28T18:16:09.208Z"
      },
      {
        "duration": 135,
        "start_time": "2021-12-28T18:16:09.764Z"
      },
      {
        "duration": 18,
        "start_time": "2021-12-28T18:16:09.901Z"
      },
      {
        "duration": 23,
        "start_time": "2021-12-28T18:16:09.921Z"
      },
      {
        "duration": 3,
        "start_time": "2021-12-28T18:16:09.946Z"
      },
      {
        "duration": 44,
        "start_time": "2021-12-28T18:16:09.950Z"
      },
      {
        "duration": 4,
        "start_time": "2021-12-28T18:16:09.996Z"
      },
      {
        "duration": 28,
        "start_time": "2021-12-28T18:16:10.002Z"
      },
      {
        "duration": 18,
        "start_time": "2021-12-28T18:16:10.032Z"
      },
      {
        "duration": 40,
        "start_time": "2021-12-28T18:16:10.052Z"
      },
      {
        "duration": 59,
        "start_time": "2021-12-28T18:16:10.094Z"
      },
      {
        "duration": 90,
        "start_time": "2021-12-28T18:16:10.155Z"
      },
      {
        "duration": 54,
        "start_time": "2021-12-28T18:16:10.246Z"
      },
      {
        "duration": 8,
        "start_time": "2021-12-28T18:16:10.302Z"
      },
      {
        "duration": 3,
        "start_time": "2021-12-28T18:16:10.312Z"
      },
      {
        "duration": 19,
        "start_time": "2021-12-28T18:16:10.317Z"
      },
      {
        "duration": 7,
        "start_time": "2021-12-28T18:16:10.338Z"
      },
      {
        "duration": 65,
        "start_time": "2021-12-28T18:16:10.347Z"
      },
      {
        "duration": 11,
        "start_time": "2021-12-28T18:16:10.414Z"
      },
      {
        "duration": 4,
        "start_time": "2021-12-28T18:16:10.427Z"
      },
      {
        "duration": 23,
        "start_time": "2021-12-28T18:16:10.433Z"
      },
      {
        "duration": 12,
        "start_time": "2021-12-28T18:16:10.457Z"
      },
      {
        "duration": 14,
        "start_time": "2021-12-28T18:16:10.493Z"
      },
      {
        "duration": 13,
        "start_time": "2021-12-28T18:16:10.509Z"
      },
      {
        "duration": 15,
        "start_time": "2021-12-28T18:16:10.523Z"
      },
      {
        "duration": 12,
        "start_time": "2021-12-28T18:16:10.540Z"
      },
      {
        "duration": 38,
        "start_time": "2021-12-28T18:16:10.554Z"
      },
      {
        "duration": 9,
        "start_time": "2021-12-28T18:16:10.594Z"
      },
      {
        "duration": 12,
        "start_time": "2021-12-28T18:16:10.605Z"
      },
      {
        "duration": 4,
        "start_time": "2021-12-28T18:16:10.618Z"
      },
      {
        "duration": 27,
        "start_time": "2021-12-28T18:16:10.624Z"
      },
      {
        "duration": 11,
        "start_time": "2021-12-28T18:16:10.653Z"
      },
      {
        "duration": 35,
        "start_time": "2021-12-28T18:16:10.665Z"
      },
      {
        "duration": 11,
        "start_time": "2021-12-28T18:16:10.702Z"
      },
      {
        "duration": 248,
        "start_time": "2021-12-28T18:16:10.714Z"
      },
      {
        "duration": 662,
        "start_time": "2021-12-28T18:16:10.302Z"
      },
      {
        "duration": 661,
        "start_time": "2021-12-28T18:16:10.304Z"
      },
      {
        "duration": 660,
        "start_time": "2021-12-28T18:16:10.306Z"
      },
      {
        "duration": 22,
        "start_time": "2021-12-28T18:17:47.168Z"
      },
      {
        "duration": 8,
        "start_time": "2021-12-28T18:18:02.791Z"
      },
      {
        "duration": 10,
        "start_time": "2021-12-28T18:18:40.570Z"
      },
      {
        "duration": 8,
        "start_time": "2021-12-28T18:20:17.221Z"
      },
      {
        "duration": 5,
        "start_time": "2021-12-28T18:20:31.469Z"
      },
      {
        "duration": 349,
        "start_time": "2021-12-29T00:36:41.410Z"
      },
      {
        "duration": 744,
        "start_time": "2021-12-29T00:37:10.220Z"
      },
      {
        "duration": 170,
        "start_time": "2021-12-29T00:37:10.967Z"
      },
      {
        "duration": 24,
        "start_time": "2021-12-29T00:37:11.140Z"
      },
      {
        "duration": 32,
        "start_time": "2021-12-29T00:37:11.166Z"
      },
      {
        "duration": 26,
        "start_time": "2021-12-29T00:37:11.200Z"
      },
      {
        "duration": 23,
        "start_time": "2021-12-29T00:37:11.228Z"
      },
      {
        "duration": 7,
        "start_time": "2021-12-29T00:37:11.254Z"
      },
      {
        "duration": 60,
        "start_time": "2021-12-29T00:37:11.264Z"
      },
      {
        "duration": 22,
        "start_time": "2021-12-29T00:37:11.327Z"
      },
      {
        "duration": 27,
        "start_time": "2021-12-29T00:37:11.352Z"
      },
      {
        "duration": 105,
        "start_time": "2021-12-29T00:37:11.381Z"
      },
      {
        "duration": 102,
        "start_time": "2021-12-29T00:37:11.488Z"
      },
      {
        "duration": 84,
        "start_time": "2021-12-29T00:37:11.593Z"
      },
      {
        "duration": 8,
        "start_time": "2021-12-29T00:37:11.679Z"
      },
      {
        "duration": 8,
        "start_time": "2021-12-29T00:37:11.689Z"
      },
      {
        "duration": 43,
        "start_time": "2021-12-29T00:37:11.699Z"
      },
      {
        "duration": 10,
        "start_time": "2021-12-29T00:37:11.745Z"
      },
      {
        "duration": 53,
        "start_time": "2021-12-29T00:37:11.757Z"
      },
      {
        "duration": 13,
        "start_time": "2021-12-29T00:37:11.823Z"
      },
      {
        "duration": 5,
        "start_time": "2021-12-29T00:37:11.839Z"
      },
      {
        "duration": 49,
        "start_time": "2021-12-29T00:37:11.846Z"
      },
      {
        "duration": 26,
        "start_time": "2021-12-29T00:37:11.898Z"
      },
      {
        "duration": 17,
        "start_time": "2021-12-29T00:37:11.929Z"
      },
      {
        "duration": 16,
        "start_time": "2021-12-29T00:37:11.949Z"
      },
      {
        "duration": 19,
        "start_time": "2021-12-29T00:37:11.967Z"
      },
      {
        "duration": 51,
        "start_time": "2021-12-29T00:37:11.988Z"
      },
      {
        "duration": 11,
        "start_time": "2021-12-29T00:37:12.041Z"
      },
      {
        "duration": 13,
        "start_time": "2021-12-29T00:37:12.054Z"
      },
      {
        "duration": 11,
        "start_time": "2021-12-29T00:37:12.070Z"
      },
      {
        "duration": 41,
        "start_time": "2021-12-29T00:37:12.083Z"
      },
      {
        "duration": 33,
        "start_time": "2021-12-29T00:37:12.126Z"
      },
      {
        "duration": 17,
        "start_time": "2021-12-29T00:37:12.162Z"
      },
      {
        "duration": 45,
        "start_time": "2021-12-29T00:37:12.181Z"
      },
      {
        "duration": 17,
        "start_time": "2021-12-29T00:37:12.228Z"
      },
      {
        "duration": 11,
        "start_time": "2021-12-29T00:37:12.247Z"
      },
      {
        "duration": 6,
        "start_time": "2021-12-29T00:37:12.260Z"
      },
      {
        "duration": 8,
        "start_time": "2021-12-29T00:37:12.268Z"
      },
      {
        "duration": 7,
        "start_time": "2021-12-29T00:37:12.278Z"
      },
      {
        "duration": 569,
        "start_time": "2021-12-30T01:43:15.915Z"
      },
      {
        "duration": 135,
        "start_time": "2021-12-30T01:43:16.486Z"
      },
      {
        "duration": 18,
        "start_time": "2021-12-30T01:43:16.624Z"
      },
      {
        "duration": 23,
        "start_time": "2021-12-30T01:43:16.644Z"
      },
      {
        "duration": 4,
        "start_time": "2021-12-30T01:43:16.669Z"
      },
      {
        "duration": 21,
        "start_time": "2021-12-30T01:43:16.675Z"
      },
      {
        "duration": 5,
        "start_time": "2021-12-30T01:43:16.697Z"
      },
      {
        "duration": 52,
        "start_time": "2021-12-30T01:43:16.705Z"
      },
      {
        "duration": 17,
        "start_time": "2021-12-30T01:43:16.759Z"
      },
      {
        "duration": 20,
        "start_time": "2021-12-30T01:43:16.778Z"
      },
      {
        "duration": 78,
        "start_time": "2021-12-30T01:43:16.800Z"
      },
      {
        "duration": 73,
        "start_time": "2021-12-30T01:43:16.879Z"
      },
      {
        "duration": 46,
        "start_time": "2021-12-30T01:43:16.954Z"
      },
      {
        "duration": 6,
        "start_time": "2021-12-30T01:43:17.002Z"
      },
      {
        "duration": 5,
        "start_time": "2021-12-30T01:43:17.010Z"
      },
      {
        "duration": 33,
        "start_time": "2021-12-30T01:43:17.016Z"
      },
      {
        "duration": 6,
        "start_time": "2021-12-30T01:43:17.051Z"
      },
      {
        "duration": 32,
        "start_time": "2021-12-30T01:43:17.059Z"
      },
      {
        "duration": 10,
        "start_time": "2021-12-30T01:43:17.093Z"
      },
      {
        "duration": 3,
        "start_time": "2021-12-30T01:43:17.105Z"
      },
      {
        "duration": 17,
        "start_time": "2021-12-30T01:43:17.141Z"
      },
      {
        "duration": 15,
        "start_time": "2021-12-30T01:43:17.160Z"
      },
      {
        "duration": 18,
        "start_time": "2021-12-30T01:43:17.178Z"
      },
      {
        "duration": 13,
        "start_time": "2021-12-30T01:43:17.198Z"
      },
      {
        "duration": 37,
        "start_time": "2021-12-30T01:43:17.213Z"
      },
      {
        "duration": 13,
        "start_time": "2021-12-30T01:43:17.252Z"
      },
      {
        "duration": 8,
        "start_time": "2021-12-30T01:43:17.266Z"
      },
      {
        "duration": 12,
        "start_time": "2021-12-30T01:43:17.275Z"
      },
      {
        "duration": 10,
        "start_time": "2021-12-30T01:43:17.289Z"
      },
      {
        "duration": 9,
        "start_time": "2021-12-30T01:43:17.300Z"
      },
      {
        "duration": 61,
        "start_time": "2021-12-30T01:43:17.311Z"
      },
      {
        "duration": 12,
        "start_time": "2021-12-30T01:43:17.373Z"
      },
      {
        "duration": 19,
        "start_time": "2021-12-30T01:43:17.386Z"
      },
      {
        "duration": 11,
        "start_time": "2021-12-30T01:43:17.407Z"
      },
      {
        "duration": 8,
        "start_time": "2021-12-30T01:43:17.419Z"
      },
      {
        "duration": 8,
        "start_time": "2021-12-30T01:43:17.428Z"
      },
      {
        "duration": 6,
        "start_time": "2021-12-30T01:43:17.441Z"
      },
      {
        "duration": 8,
        "start_time": "2021-12-30T01:43:17.448Z"
      },
      {
        "duration": 568,
        "start_time": "2021-12-30T01:57:50.961Z"
      },
      {
        "duration": 131,
        "start_time": "2021-12-30T01:57:51.531Z"
      },
      {
        "duration": 15,
        "start_time": "2021-12-30T01:57:51.664Z"
      },
      {
        "duration": 23,
        "start_time": "2021-12-30T01:57:51.681Z"
      },
      {
        "duration": 4,
        "start_time": "2021-12-30T01:57:51.706Z"
      },
      {
        "duration": 38,
        "start_time": "2021-12-30T01:57:51.711Z"
      },
      {
        "duration": 4,
        "start_time": "2021-12-30T01:57:51.751Z"
      },
      {
        "duration": 22,
        "start_time": "2021-12-30T01:57:51.757Z"
      },
      {
        "duration": 15,
        "start_time": "2021-12-30T01:57:51.781Z"
      },
      {
        "duration": 18,
        "start_time": "2021-12-30T01:57:51.798Z"
      },
      {
        "duration": 69,
        "start_time": "2021-12-30T01:57:51.818Z"
      },
      {
        "duration": 70,
        "start_time": "2021-12-30T01:57:51.889Z"
      },
      {
        "duration": 47,
        "start_time": "2021-12-30T01:57:51.961Z"
      },
      {
        "duration": 5,
        "start_time": "2021-12-30T01:57:52.010Z"
      },
      {
        "duration": 10,
        "start_time": "2021-12-30T01:57:52.016Z"
      },
      {
        "duration": 14,
        "start_time": "2021-12-30T01:57:52.040Z"
      },
      {
        "duration": 5,
        "start_time": "2021-12-30T01:57:52.056Z"
      },
      {
        "duration": 38,
        "start_time": "2021-12-30T01:57:52.063Z"
      },
      {
        "duration": 9,
        "start_time": "2021-12-30T01:57:52.103Z"
      },
      {
        "duration": 3,
        "start_time": "2021-12-30T01:57:52.114Z"
      },
      {
        "duration": 33,
        "start_time": "2021-12-30T01:57:52.118Z"
      },
      {
        "duration": 15,
        "start_time": "2021-12-30T01:57:52.153Z"
      },
      {
        "duration": 16,
        "start_time": "2021-12-30T01:57:52.171Z"
      },
      {
        "duration": 14,
        "start_time": "2021-12-30T01:57:52.189Z"
      },
      {
        "duration": 46,
        "start_time": "2021-12-30T01:57:52.205Z"
      },
      {
        "duration": 14,
        "start_time": "2021-12-30T01:57:52.253Z"
      },
      {
        "duration": 8,
        "start_time": "2021-12-30T01:57:52.269Z"
      },
      {
        "duration": 12,
        "start_time": "2021-12-30T01:57:52.279Z"
      },
      {
        "duration": 10,
        "start_time": "2021-12-30T01:57:52.292Z"
      },
      {
        "duration": 39,
        "start_time": "2021-12-30T01:57:52.303Z"
      },
      {
        "duration": 24,
        "start_time": "2021-12-30T01:57:52.343Z"
      },
      {
        "duration": 12,
        "start_time": "2021-12-30T01:57:52.369Z"
      },
      {
        "duration": 16,
        "start_time": "2021-12-30T01:57:52.383Z"
      },
      {
        "duration": 11,
        "start_time": "2021-12-30T01:57:52.401Z"
      },
      {
        "duration": 32,
        "start_time": "2021-12-30T01:57:52.414Z"
      },
      {
        "duration": 4,
        "start_time": "2021-12-30T01:57:52.448Z"
      },
      {
        "duration": 11,
        "start_time": "2021-12-30T01:57:52.453Z"
      },
      {
        "duration": 8,
        "start_time": "2021-12-30T01:57:52.465Z"
      },
      {
        "duration": 418,
        "start_time": "2021-12-30T04:21:14.177Z"
      },
      {
        "duration": 955,
        "start_time": "2021-12-30T04:21:25.230Z"
      },
      {
        "duration": 190,
        "start_time": "2021-12-30T04:21:26.188Z"
      },
      {
        "duration": 26,
        "start_time": "2021-12-30T04:21:26.380Z"
      },
      {
        "duration": 34,
        "start_time": "2021-12-30T04:21:26.408Z"
      },
      {
        "duration": 23,
        "start_time": "2021-12-30T04:21:26.444Z"
      },
      {
        "duration": 27,
        "start_time": "2021-12-30T04:21:26.471Z"
      },
      {
        "duration": 6,
        "start_time": "2021-12-30T04:21:26.501Z"
      },
      {
        "duration": 66,
        "start_time": "2021-12-30T04:21:26.509Z"
      },
      {
        "duration": 23,
        "start_time": "2021-12-30T04:21:26.578Z"
      },
      {
        "duration": 29,
        "start_time": "2021-12-30T04:21:26.604Z"
      },
      {
        "duration": 107,
        "start_time": "2021-12-30T04:21:26.636Z"
      },
      {
        "duration": 116,
        "start_time": "2021-12-30T04:21:26.746Z"
      },
      {
        "duration": 79,
        "start_time": "2021-12-30T04:21:26.865Z"
      },
      {
        "duration": 21,
        "start_time": "2021-12-30T04:21:26.947Z"
      },
      {
        "duration": 6,
        "start_time": "2021-12-30T04:21:26.971Z"
      },
      {
        "duration": 24,
        "start_time": "2021-12-30T04:21:26.979Z"
      },
      {
        "duration": 10,
        "start_time": "2021-12-30T04:21:27.006Z"
      },
      {
        "duration": 46,
        "start_time": "2021-12-30T04:21:27.063Z"
      },
      {
        "duration": 16,
        "start_time": "2021-12-30T04:21:27.113Z"
      },
      {
        "duration": 33,
        "start_time": "2021-12-30T04:21:27.131Z"
      },
      {
        "duration": 29,
        "start_time": "2021-12-30T04:21:27.167Z"
      },
      {
        "duration": 21,
        "start_time": "2021-12-30T04:21:27.198Z"
      },
      {
        "duration": 53,
        "start_time": "2021-12-30T04:21:27.222Z"
      },
      {
        "duration": 19,
        "start_time": "2021-12-30T04:21:27.277Z"
      },
      {
        "duration": 21,
        "start_time": "2021-12-30T04:21:27.298Z"
      },
      {
        "duration": 51,
        "start_time": "2021-12-30T04:21:27.322Z"
      },
      {
        "duration": 11,
        "start_time": "2021-12-30T04:21:27.376Z"
      },
      {
        "duration": 19,
        "start_time": "2021-12-30T04:21:27.389Z"
      },
      {
        "duration": 13,
        "start_time": "2021-12-30T04:21:27.411Z"
      },
      {
        "duration": 5,
        "start_time": "2021-12-30T04:21:27.426Z"
      },
      {
        "duration": 26,
        "start_time": "2021-12-30T04:21:27.462Z"
      },
      {
        "duration": 16,
        "start_time": "2021-12-30T04:21:27.490Z"
      },
      {
        "duration": 22,
        "start_time": "2021-12-30T04:21:27.509Z"
      },
      {
        "duration": 16,
        "start_time": "2021-12-30T04:21:27.564Z"
      },
      {
        "duration": 11,
        "start_time": "2021-12-30T04:21:27.582Z"
      },
      {
        "duration": 6,
        "start_time": "2021-12-30T04:21:27.595Z"
      },
      {
        "duration": 12,
        "start_time": "2021-12-30T04:21:27.604Z"
      },
      {
        "duration": 48,
        "start_time": "2021-12-30T04:21:27.618Z"
      },
      {
        "duration": 187,
        "start_time": "2021-12-30T04:54:40.476Z"
      },
      {
        "duration": 64,
        "start_time": "2021-12-30T04:57:21.204Z"
      },
      {
        "duration": 417,
        "start_time": "2021-12-30T04:59:26.323Z"
      },
      {
        "duration": 1012,
        "start_time": "2021-12-30T04:59:36.539Z"
      },
      {
        "duration": 261,
        "start_time": "2021-12-30T04:59:37.555Z"
      },
      {
        "duration": 46,
        "start_time": "2021-12-30T04:59:37.821Z"
      },
      {
        "duration": 57,
        "start_time": "2021-12-30T04:59:37.871Z"
      },
      {
        "duration": 7,
        "start_time": "2021-12-30T04:59:37.931Z"
      },
      {
        "duration": 35,
        "start_time": "2021-12-30T04:59:37.964Z"
      },
      {
        "duration": 8,
        "start_time": "2021-12-30T04:59:38.002Z"
      },
      {
        "duration": 77,
        "start_time": "2021-12-30T04:59:38.016Z"
      },
      {
        "duration": 34,
        "start_time": "2021-12-30T04:59:38.098Z"
      },
      {
        "duration": 72,
        "start_time": "2021-12-30T04:59:38.135Z"
      },
      {
        "duration": 142,
        "start_time": "2021-12-30T04:59:38.210Z"
      },
      {
        "duration": 154,
        "start_time": "2021-12-30T04:59:38.355Z"
      },
      {
        "duration": 116,
        "start_time": "2021-12-30T04:59:38.513Z"
      },
      {
        "duration": 109,
        "start_time": "2021-12-30T04:59:38.632Z"
      },
      {
        "duration": 4,
        "start_time": "2021-12-30T04:59:38.743Z"
      },
      {
        "duration": 35,
        "start_time": "2021-12-30T04:59:38.749Z"
      },
      {
        "duration": 77,
        "start_time": "2021-12-30T04:59:38.787Z"
      },
      {
        "duration": 15,
        "start_time": "2021-12-30T04:59:38.867Z"
      },
      {
        "duration": 15,
        "start_time": "2021-12-30T04:59:38.884Z"
      },
      {
        "duration": 5,
        "start_time": "2021-12-30T04:59:38.901Z"
      },
      {
        "duration": 56,
        "start_time": "2021-12-30T04:59:38.908Z"
      },
      {
        "duration": 20,
        "start_time": "2021-12-30T04:59:38.966Z"
      },
      {
        "duration": 18,
        "start_time": "2021-12-30T04:59:38.991Z"
      },
      {
        "duration": 18,
        "start_time": "2021-12-30T04:59:39.011Z"
      },
      {
        "duration": 22,
        "start_time": "2021-12-30T04:59:39.064Z"
      },
      {
        "duration": 20,
        "start_time": "2021-12-30T04:59:39.088Z"
      },
      {
        "duration": 12,
        "start_time": "2021-12-30T04:59:39.110Z"
      },
      {
        "duration": 52,
        "start_time": "2021-12-30T04:59:39.124Z"
      },
      {
        "duration": 13,
        "start_time": "2021-12-30T04:59:39.179Z"
      },
      {
        "duration": 6,
        "start_time": "2021-12-30T04:59:39.195Z"
      },
      {
        "duration": 32,
        "start_time": "2021-12-30T04:59:39.204Z"
      },
      {
        "duration": 18,
        "start_time": "2021-12-30T04:59:39.264Z"
      },
      {
        "duration": 26,
        "start_time": "2021-12-30T04:59:39.285Z"
      },
      {
        "duration": 53,
        "start_time": "2021-12-30T04:59:39.314Z"
      },
      {
        "duration": 13,
        "start_time": "2021-12-30T04:59:39.370Z"
      },
      {
        "duration": 7,
        "start_time": "2021-12-30T04:59:39.386Z"
      },
      {
        "duration": 11,
        "start_time": "2021-12-30T04:59:39.397Z"
      },
      {
        "duration": 7,
        "start_time": "2021-12-30T04:59:39.411Z"
      },
      {
        "duration": 108,
        "start_time": "2021-12-31T04:40:45.295Z"
      },
      {
        "duration": 755,
        "start_time": "2021-12-31T04:51:26.833Z"
      },
      {
        "duration": 174,
        "start_time": "2021-12-31T04:51:27.591Z"
      },
      {
        "duration": 25,
        "start_time": "2021-12-31T04:51:27.770Z"
      },
      {
        "duration": 31,
        "start_time": "2021-12-31T04:51:27.799Z"
      },
      {
        "duration": 29,
        "start_time": "2021-12-31T04:51:27.833Z"
      },
      {
        "duration": 25,
        "start_time": "2021-12-31T04:51:27.865Z"
      },
      {
        "duration": 7,
        "start_time": "2021-12-31T04:51:27.892Z"
      },
      {
        "duration": 59,
        "start_time": "2021-12-31T04:51:27.903Z"
      },
      {
        "duration": 22,
        "start_time": "2021-12-31T04:51:27.965Z"
      },
      {
        "duration": 28,
        "start_time": "2021-12-31T04:51:27.990Z"
      },
      {
        "duration": 112,
        "start_time": "2021-12-31T04:51:28.021Z"
      },
      {
        "duration": 109,
        "start_time": "2021-12-31T04:51:28.136Z"
      },
      {
        "duration": 81,
        "start_time": "2021-12-31T04:51:28.247Z"
      },
      {
        "duration": 72,
        "start_time": "2021-12-31T04:51:28.330Z"
      },
      {
        "duration": 4,
        "start_time": "2021-12-31T04:51:28.405Z"
      },
      {
        "duration": 21,
        "start_time": "2021-12-31T04:51:28.411Z"
      },
      {
        "duration": 76,
        "start_time": "2021-12-31T04:51:28.434Z"
      },
      {
        "duration": 13,
        "start_time": "2021-12-31T04:51:28.512Z"
      },
      {
        "duration": 38,
        "start_time": "2021-12-31T04:51:28.527Z"
      },
      {
        "duration": 5,
        "start_time": "2021-12-31T04:51:28.568Z"
      },
      {
        "duration": 24,
        "start_time": "2021-12-31T04:51:28.576Z"
      },
      {
        "duration": 58,
        "start_time": "2021-12-31T04:51:28.603Z"
      },
      {
        "duration": 19,
        "start_time": "2021-12-31T04:51:28.668Z"
      },
      {
        "duration": 20,
        "start_time": "2021-12-31T04:51:28.691Z"
      },
      {
        "duration": 57,
        "start_time": "2021-12-31T04:51:28.714Z"
      },
      {
        "duration": 19,
        "start_time": "2021-12-31T04:51:28.774Z"
      },
      {
        "duration": 11,
        "start_time": "2021-12-31T04:51:28.795Z"
      },
      {
        "duration": 14,
        "start_time": "2021-12-31T04:51:28.809Z"
      },
      {
        "duration": 40,
        "start_time": "2021-12-31T04:51:28.826Z"
      },
      {
        "duration": 6,
        "start_time": "2021-12-31T04:51:28.868Z"
      },
      {
        "duration": 27,
        "start_time": "2021-12-31T04:51:28.876Z"
      },
      {
        "duration": 16,
        "start_time": "2021-12-31T04:51:28.905Z"
      },
      {
        "duration": 55,
        "start_time": "2021-12-31T04:51:28.923Z"
      },
      {
        "duration": 16,
        "start_time": "2021-12-31T04:51:28.980Z"
      },
      {
        "duration": 11,
        "start_time": "2021-12-31T04:51:28.999Z"
      },
      {
        "duration": 6,
        "start_time": "2021-12-31T04:51:29.012Z"
      },
      {
        "duration": 9,
        "start_time": "2021-12-31T04:51:29.060Z"
      },
      {
        "duration": 6,
        "start_time": "2021-12-31T04:51:29.071Z"
      },
      {
        "duration": 324,
        "start_time": "2022-01-03T18:54:52.163Z"
      },
      {
        "duration": 327,
        "start_time": "2022-01-03T18:55:25.082Z"
      },
      {
        "duration": 717,
        "start_time": "2022-01-03T18:55:40.656Z"
      },
      {
        "duration": 1050,
        "start_time": "2022-01-03T18:55:46.196Z"
      },
      {
        "duration": 579,
        "start_time": "2022-01-19T01:40:46.880Z"
      },
      {
        "duration": 644,
        "start_time": "2022-01-19T01:40:50.440Z"
      },
      {
        "duration": 3,
        "start_time": "2022-01-19T01:42:14.248Z"
      },
      {
        "duration": 652,
        "start_time": "2022-01-19T01:42:14.253Z"
      },
      {
        "duration": 137,
        "start_time": "2022-01-19T01:43:33.383Z"
      },
      {
        "duration": 663,
        "start_time": "2022-01-19T01:44:52.680Z"
      }
    ],
    "colab": {
      "collapsed_sections": [
        "E0vqbgi9ay0H",
        "VUC88oWjTJw2"
      ],
      "provenance": []
    },
    "kernelspec": {
      "display_name": "Python 3 (ipykernel)",
      "language": "python",
      "name": "python3"
    },
    "language_info": {
      "codemirror_mode": {
        "name": "ipython",
        "version": 3
      },
      "file_extension": ".py",
      "mimetype": "text/x-python",
      "name": "python",
      "nbconvert_exporter": "python",
      "pygments_lexer": "ipython3",
      "version": "3.9.5"
    },
    "toc": {
      "base_numbering": 1,
      "nav_menu": {},
      "number_sections": true,
      "sideBar": true,
      "skip_h1_title": true,
      "title_cell": "Table of Contents",
      "title_sidebar": "Contents",
      "toc_cell": false,
      "toc_position": {},
      "toc_section_display": true,
      "toc_window_display": false
    }
  },
  "nbformat": 4,
  "nbformat_minor": 0
}
