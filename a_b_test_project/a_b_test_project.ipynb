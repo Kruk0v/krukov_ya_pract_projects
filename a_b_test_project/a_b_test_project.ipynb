{
  "nbformat": 4,
  "nbformat_minor": 0,
  "metadata": {
    "colab": {
      "name": "proj_prin_resh_v_biz.ipynb",
      "provenance": [],
      "collapsed_sections": [],
      "toc_visible": true
    },
    "kernelspec": {
      "name": "python3",
      "display_name": "Python 3"
    },
    "language_info": {
      "name": "python"
    }
  },
  "cells": [
    {
      "cell_type": "markdown",
      "source": [
        "# Проект \"А/В-тесты\""
      ],
      "metadata": {
        "id": "kAHCGL0-kdzb"
      }
    },
    {
      "cell_type": "markdown",
      "source": [
        "_для локальной работы_\n",
        "\n",
        "https://drive.google.com/file/d/1Hskt8ns_2uaWjBHujSDsn5aLBKrchWBk/view?usp=sharing\n",
        "\n",
        "https://drive.google.com/file/d/1pmp-AjnUMO2yfdbnxTXzSGPOgVGo3ZpM/view?usp=sharing\n",
        "\n",
        "https://drive.google.com/file/d/1WwPmms3mOMzIUM8DLTAtxysyW9G4nNRi/view?usp=sharing"
      ],
      "metadata": {
        "id": "AB2ddxzPpzjj"
      }
    },
    {
      "cell_type": "markdown",
      "source": [
        "## Введение\n",
        "\n",
        "Наш интернет-магазин приготовил список гипотез для для увеличения выручки. Нам предоставили файл с гипотезами и два файла с данными о покупках и визитах, разбитые на группы А и В.\n",
        "\n",
        "Задачи исследования — приоритизировать гипотезы, проанализировать результат А/В-теста."
      ],
      "metadata": {
        "id": "LJ5FGv_4j6-i"
      }
    },
    {
      "cell_type": "markdown",
      "source": [
        "## Импорт библиотек"
      ],
      "metadata": {
        "id": "ICg6szVtq3Y1"
      }
    },
    {
      "cell_type": "code",
      "source": [
        "# импортируем библиотеки numpy, pandas и модуль scipy.stats библиотеки scipy\n",
        "import numpy as np\n",
        "import pandas as pd\n",
        "import scipy.stats as stats\n",
        "\n",
        "# импортируем библиотеку datetime для работы с датами\n",
        "import datetime as dt\n",
        "from datetime import datetime, date\n",
        "from datetime import timedelta\n",
        "\n",
        "# Задаем некоторые опции библиотеки pandas, которые\n",
        "# настраивают вывод\n",
        "pd.set_option('display.max_columns', 12)\n",
        "pd.set_option('display.max_rows', 12)\n",
        "pd.set_option('display.width', 80)\n",
        "\n",
        "# импортируем matplotlib для построения графиков\n",
        "import matplotlib.pyplot as plt\n",
        "%matplotlib inline"
      ],
      "metadata": {
        "id": "blD_1-mvqNRg"
      },
      "execution_count": 25,
      "outputs": []
    },
    {
      "cell_type": "markdown",
      "source": [
        "## Загрузка данных и знакомство с ними"
      ],
      "metadata": {
        "id": "ZIQzXXWZq89X"
      }
    },
    {
      "cell_type": "code",
      "source": [
        "# для локальной работы\n",
        "\n",
        "! gdown --id 1Hskt8ns_2uaWjBHujSDsn5aLBKrchWBk\n",
        "! gdown --id 1pmp-AjnUMO2yfdbnxTXzSGPOgVGo3ZpM\n",
        "! gdown --id 1WwPmms3mOMzIUM8DLTAtxysyW9G4nNRi"
      ],
      "metadata": {
        "colab": {
          "base_uri": "https://localhost:8080/"
        },
        "id": "tnpaGcvxqU_l",
        "outputId": "43d4e509-81f3-4b6b-fd07-746ea5e6aaae"
      },
      "execution_count": 26,
      "outputs": [
        {
          "output_type": "stream",
          "name": "stdout",
          "text": [
            "/usr/local/lib/python3.7/dist-packages/gdown/cli.py:131: FutureWarning: Option `--id` was deprecated in version 4.3.1 and will be removed in 5.0. You don't need to pass it anymore to use a file ID.\n",
            "  category=FutureWarning,\n",
            "Downloading...\n",
            "From: https://drive.google.com/uc?id=1Hskt8ns_2uaWjBHujSDsn5aLBKrchWBk\n",
            "To: /content/visitors.csv\n",
            "100% 1.14k/1.14k [00:00<00:00, 2.78MB/s]\n",
            "/usr/local/lib/python3.7/dist-packages/gdown/cli.py:131: FutureWarning: Option `--id` was deprecated in version 4.3.1 and will be removed in 5.0. You don't need to pass it anymore to use a file ID.\n",
            "  category=FutureWarning,\n",
            "Downloading...\n",
            "From: https://drive.google.com/uc?id=1pmp-AjnUMO2yfdbnxTXzSGPOgVGo3ZpM\n",
            "To: /content/orders.csv\n",
            "100% 48.5k/48.5k [00:00<00:00, 73.6MB/s]\n",
            "/usr/local/lib/python3.7/dist-packages/gdown/cli.py:131: FutureWarning: Option `--id` was deprecated in version 4.3.1 and will be removed in 5.0. You don't need to pass it anymore to use a file ID.\n",
            "  category=FutureWarning,\n",
            "Downloading...\n",
            "From: https://drive.google.com/uc?id=1WwPmms3mOMzIUM8DLTAtxysyW9G4nNRi\n",
            "To: /content/hypothesis.csv\n",
            "100% 1.63k/1.63k [00:00<00:00, 2.96MB/s]\n"
          ]
        }
      ]
    },
    {
      "cell_type": "code",
      "source": [
        "# для локальной работы\n",
        "\n",
        "try:\n",
        "  hypothesis = pd.read_csv('/content/hypothesis.csv')\n",
        "  orders = pd.read_csv('/content/orders.csv')\n",
        "  visitors = pd.read_csv('/content/visitors.csv')\n",
        "\n",
        "# для работы в среде ЯП\n",
        "\n",
        "except:\n",
        "  hypothesis = pd.read_csv('/datasets/hypothesis.csv')\n",
        "  orders = pd.read_csv('/datasets/orders.csv')\n",
        "  visitors = pd.read_csv('/datasets/visitors.csv')"
      ],
      "metadata": {
        "id": "W8vybRH8qsGh"
      },
      "execution_count": 27,
      "outputs": []
    },
    {
      "cell_type": "code",
      "source": [
        "# смотрим  на файл hypothesis\n",
        "\n",
        "hypothesis.head()"
      ],
      "metadata": {
        "colab": {
          "base_uri": "https://localhost:8080/",
          "height": 206
        },
        "id": "7O5JWtlFmMo5",
        "outputId": "076e395f-8e64-4359-e715-ba95de9e7dc9"
      },
      "execution_count": 28,
      "outputs": [
        {
          "output_type": "execute_result",
          "data": {
            "text/plain": [
              "                                          Hypothesis  Reach  Impact  \\\n",
              "0  Добавить два новых канала привлечения трафика,...      3      10   \n",
              "1  Запустить собственную службу доставки, что сок...      2       5   \n",
              "2  Добавить блоки рекомендаций товаров на сайт ин...      8       3   \n",
              "3  Изменить структура категорий, что увеличит кон...      8       3   \n",
              "4  Изменить цвет фона главной страницы, чтобы уве...      3       1   \n",
              "\n",
              "   Confidence  Efforts  \n",
              "0           8        6  \n",
              "1           4       10  \n",
              "2           7        3  \n",
              "3           3        8  \n",
              "4           1        1  "
            ],
            "text/html": [
              "\n",
              "  <div id=\"df-57edd4d4-31a7-405a-b404-a66a20722571\">\n",
              "    <div class=\"colab-df-container\">\n",
              "      <div>\n",
              "<style scoped>\n",
              "    .dataframe tbody tr th:only-of-type {\n",
              "        vertical-align: middle;\n",
              "    }\n",
              "\n",
              "    .dataframe tbody tr th {\n",
              "        vertical-align: top;\n",
              "    }\n",
              "\n",
              "    .dataframe thead th {\n",
              "        text-align: right;\n",
              "    }\n",
              "</style>\n",
              "<table border=\"1\" class=\"dataframe\">\n",
              "  <thead>\n",
              "    <tr style=\"text-align: right;\">\n",
              "      <th></th>\n",
              "      <th>Hypothesis</th>\n",
              "      <th>Reach</th>\n",
              "      <th>Impact</th>\n",
              "      <th>Confidence</th>\n",
              "      <th>Efforts</th>\n",
              "    </tr>\n",
              "  </thead>\n",
              "  <tbody>\n",
              "    <tr>\n",
              "      <th>0</th>\n",
              "      <td>Добавить два новых канала привлечения трафика,...</td>\n",
              "      <td>3</td>\n",
              "      <td>10</td>\n",
              "      <td>8</td>\n",
              "      <td>6</td>\n",
              "    </tr>\n",
              "    <tr>\n",
              "      <th>1</th>\n",
              "      <td>Запустить собственную службу доставки, что сок...</td>\n",
              "      <td>2</td>\n",
              "      <td>5</td>\n",
              "      <td>4</td>\n",
              "      <td>10</td>\n",
              "    </tr>\n",
              "    <tr>\n",
              "      <th>2</th>\n",
              "      <td>Добавить блоки рекомендаций товаров на сайт ин...</td>\n",
              "      <td>8</td>\n",
              "      <td>3</td>\n",
              "      <td>7</td>\n",
              "      <td>3</td>\n",
              "    </tr>\n",
              "    <tr>\n",
              "      <th>3</th>\n",
              "      <td>Изменить структура категорий, что увеличит кон...</td>\n",
              "      <td>8</td>\n",
              "      <td>3</td>\n",
              "      <td>3</td>\n",
              "      <td>8</td>\n",
              "    </tr>\n",
              "    <tr>\n",
              "      <th>4</th>\n",
              "      <td>Изменить цвет фона главной страницы, чтобы уве...</td>\n",
              "      <td>3</td>\n",
              "      <td>1</td>\n",
              "      <td>1</td>\n",
              "      <td>1</td>\n",
              "    </tr>\n",
              "  </tbody>\n",
              "</table>\n",
              "</div>\n",
              "      <button class=\"colab-df-convert\" onclick=\"convertToInteractive('df-57edd4d4-31a7-405a-b404-a66a20722571')\"\n",
              "              title=\"Convert this dataframe to an interactive table.\"\n",
              "              style=\"display:none;\">\n",
              "        \n",
              "  <svg xmlns=\"http://www.w3.org/2000/svg\" height=\"24px\"viewBox=\"0 0 24 24\"\n",
              "       width=\"24px\">\n",
              "    <path d=\"M0 0h24v24H0V0z\" fill=\"none\"/>\n",
              "    <path d=\"M18.56 5.44l.94 2.06.94-2.06 2.06-.94-2.06-.94-.94-2.06-.94 2.06-2.06.94zm-11 1L8.5 8.5l.94-2.06 2.06-.94-2.06-.94L8.5 2.5l-.94 2.06-2.06.94zm10 10l.94 2.06.94-2.06 2.06-.94-2.06-.94-.94-2.06-.94 2.06-2.06.94z\"/><path d=\"M17.41 7.96l-1.37-1.37c-.4-.4-.92-.59-1.43-.59-.52 0-1.04.2-1.43.59L10.3 9.45l-7.72 7.72c-.78.78-.78 2.05 0 2.83L4 21.41c.39.39.9.59 1.41.59.51 0 1.02-.2 1.41-.59l7.78-7.78 2.81-2.81c.8-.78.8-2.07 0-2.86zM5.41 20L4 18.59l7.72-7.72 1.47 1.35L5.41 20z\"/>\n",
              "  </svg>\n",
              "      </button>\n",
              "      \n",
              "  <style>\n",
              "    .colab-df-container {\n",
              "      display:flex;\n",
              "      flex-wrap:wrap;\n",
              "      gap: 12px;\n",
              "    }\n",
              "\n",
              "    .colab-df-convert {\n",
              "      background-color: #E8F0FE;\n",
              "      border: none;\n",
              "      border-radius: 50%;\n",
              "      cursor: pointer;\n",
              "      display: none;\n",
              "      fill: #1967D2;\n",
              "      height: 32px;\n",
              "      padding: 0 0 0 0;\n",
              "      width: 32px;\n",
              "    }\n",
              "\n",
              "    .colab-df-convert:hover {\n",
              "      background-color: #E2EBFA;\n",
              "      box-shadow: 0px 1px 2px rgba(60, 64, 67, 0.3), 0px 1px 3px 1px rgba(60, 64, 67, 0.15);\n",
              "      fill: #174EA6;\n",
              "    }\n",
              "\n",
              "    [theme=dark] .colab-df-convert {\n",
              "      background-color: #3B4455;\n",
              "      fill: #D2E3FC;\n",
              "    }\n",
              "\n",
              "    [theme=dark] .colab-df-convert:hover {\n",
              "      background-color: #434B5C;\n",
              "      box-shadow: 0px 1px 3px 1px rgba(0, 0, 0, 0.15);\n",
              "      filter: drop-shadow(0px 1px 2px rgba(0, 0, 0, 0.3));\n",
              "      fill: #FFFFFF;\n",
              "    }\n",
              "  </style>\n",
              "\n",
              "      <script>\n",
              "        const buttonEl =\n",
              "          document.querySelector('#df-57edd4d4-31a7-405a-b404-a66a20722571 button.colab-df-convert');\n",
              "        buttonEl.style.display =\n",
              "          google.colab.kernel.accessAllowed ? 'block' : 'none';\n",
              "\n",
              "        async function convertToInteractive(key) {\n",
              "          const element = document.querySelector('#df-57edd4d4-31a7-405a-b404-a66a20722571');\n",
              "          const dataTable =\n",
              "            await google.colab.kernel.invokeFunction('convertToInteractive',\n",
              "                                                     [key], {});\n",
              "          if (!dataTable) return;\n",
              "\n",
              "          const docLinkHtml = 'Like what you see? Visit the ' +\n",
              "            '<a target=\"_blank\" href=https://colab.research.google.com/notebooks/data_table.ipynb>data table notebook</a>'\n",
              "            + ' to learn more about interactive tables.';\n",
              "          element.innerHTML = '';\n",
              "          dataTable['output_type'] = 'display_data';\n",
              "          await google.colab.output.renderOutput(dataTable, element);\n",
              "          const docLink = document.createElement('div');\n",
              "          docLink.innerHTML = docLinkHtml;\n",
              "          element.appendChild(docLink);\n",
              "        }\n",
              "      </script>\n",
              "    </div>\n",
              "  </div>\n",
              "  "
            ]
          },
          "metadata": {},
          "execution_count": 28
        }
      ]
    },
    {
      "cell_type": "code",
      "source": [
        "# смотрим  на файл orders\n",
        "\n",
        "orders.head()"
      ],
      "metadata": {
        "colab": {
          "base_uri": "https://localhost:8080/",
          "height": 206
        },
        "id": "ukNN1RflmW8q",
        "outputId": "b9fd1722-bbe7-47b4-b835-04b0607b0a8a"
      },
      "execution_count": 29,
      "outputs": [
        {
          "output_type": "execute_result",
          "data": {
            "text/plain": [
              "   transactionId   visitorId        date  revenue group\n",
              "0     3667963787  3312258926  2019-08-15     1650     B\n",
              "1     2804400009  3642806036  2019-08-15      730     B\n",
              "2     2961555356  4069496402  2019-08-15      400     A\n",
              "3     3797467345  1196621759  2019-08-15     9759     B\n",
              "4     2282983706  2322279887  2019-08-15     2308     B"
            ],
            "text/html": [
              "\n",
              "  <div id=\"df-7edf982b-5b98-471a-bbe9-1fefab60c421\">\n",
              "    <div class=\"colab-df-container\">\n",
              "      <div>\n",
              "<style scoped>\n",
              "    .dataframe tbody tr th:only-of-type {\n",
              "        vertical-align: middle;\n",
              "    }\n",
              "\n",
              "    .dataframe tbody tr th {\n",
              "        vertical-align: top;\n",
              "    }\n",
              "\n",
              "    .dataframe thead th {\n",
              "        text-align: right;\n",
              "    }\n",
              "</style>\n",
              "<table border=\"1\" class=\"dataframe\">\n",
              "  <thead>\n",
              "    <tr style=\"text-align: right;\">\n",
              "      <th></th>\n",
              "      <th>transactionId</th>\n",
              "      <th>visitorId</th>\n",
              "      <th>date</th>\n",
              "      <th>revenue</th>\n",
              "      <th>group</th>\n",
              "    </tr>\n",
              "  </thead>\n",
              "  <tbody>\n",
              "    <tr>\n",
              "      <th>0</th>\n",
              "      <td>3667963787</td>\n",
              "      <td>3312258926</td>\n",
              "      <td>2019-08-15</td>\n",
              "      <td>1650</td>\n",
              "      <td>B</td>\n",
              "    </tr>\n",
              "    <tr>\n",
              "      <th>1</th>\n",
              "      <td>2804400009</td>\n",
              "      <td>3642806036</td>\n",
              "      <td>2019-08-15</td>\n",
              "      <td>730</td>\n",
              "      <td>B</td>\n",
              "    </tr>\n",
              "    <tr>\n",
              "      <th>2</th>\n",
              "      <td>2961555356</td>\n",
              "      <td>4069496402</td>\n",
              "      <td>2019-08-15</td>\n",
              "      <td>400</td>\n",
              "      <td>A</td>\n",
              "    </tr>\n",
              "    <tr>\n",
              "      <th>3</th>\n",
              "      <td>3797467345</td>\n",
              "      <td>1196621759</td>\n",
              "      <td>2019-08-15</td>\n",
              "      <td>9759</td>\n",
              "      <td>B</td>\n",
              "    </tr>\n",
              "    <tr>\n",
              "      <th>4</th>\n",
              "      <td>2282983706</td>\n",
              "      <td>2322279887</td>\n",
              "      <td>2019-08-15</td>\n",
              "      <td>2308</td>\n",
              "      <td>B</td>\n",
              "    </tr>\n",
              "  </tbody>\n",
              "</table>\n",
              "</div>\n",
              "      <button class=\"colab-df-convert\" onclick=\"convertToInteractive('df-7edf982b-5b98-471a-bbe9-1fefab60c421')\"\n",
              "              title=\"Convert this dataframe to an interactive table.\"\n",
              "              style=\"display:none;\">\n",
              "        \n",
              "  <svg xmlns=\"http://www.w3.org/2000/svg\" height=\"24px\"viewBox=\"0 0 24 24\"\n",
              "       width=\"24px\">\n",
              "    <path d=\"M0 0h24v24H0V0z\" fill=\"none\"/>\n",
              "    <path d=\"M18.56 5.44l.94 2.06.94-2.06 2.06-.94-2.06-.94-.94-2.06-.94 2.06-2.06.94zm-11 1L8.5 8.5l.94-2.06 2.06-.94-2.06-.94L8.5 2.5l-.94 2.06-2.06.94zm10 10l.94 2.06.94-2.06 2.06-.94-2.06-.94-.94-2.06-.94 2.06-2.06.94z\"/><path d=\"M17.41 7.96l-1.37-1.37c-.4-.4-.92-.59-1.43-.59-.52 0-1.04.2-1.43.59L10.3 9.45l-7.72 7.72c-.78.78-.78 2.05 0 2.83L4 21.41c.39.39.9.59 1.41.59.51 0 1.02-.2 1.41-.59l7.78-7.78 2.81-2.81c.8-.78.8-2.07 0-2.86zM5.41 20L4 18.59l7.72-7.72 1.47 1.35L5.41 20z\"/>\n",
              "  </svg>\n",
              "      </button>\n",
              "      \n",
              "  <style>\n",
              "    .colab-df-container {\n",
              "      display:flex;\n",
              "      flex-wrap:wrap;\n",
              "      gap: 12px;\n",
              "    }\n",
              "\n",
              "    .colab-df-convert {\n",
              "      background-color: #E8F0FE;\n",
              "      border: none;\n",
              "      border-radius: 50%;\n",
              "      cursor: pointer;\n",
              "      display: none;\n",
              "      fill: #1967D2;\n",
              "      height: 32px;\n",
              "      padding: 0 0 0 0;\n",
              "      width: 32px;\n",
              "    }\n",
              "\n",
              "    .colab-df-convert:hover {\n",
              "      background-color: #E2EBFA;\n",
              "      box-shadow: 0px 1px 2px rgba(60, 64, 67, 0.3), 0px 1px 3px 1px rgba(60, 64, 67, 0.15);\n",
              "      fill: #174EA6;\n",
              "    }\n",
              "\n",
              "    [theme=dark] .colab-df-convert {\n",
              "      background-color: #3B4455;\n",
              "      fill: #D2E3FC;\n",
              "    }\n",
              "\n",
              "    [theme=dark] .colab-df-convert:hover {\n",
              "      background-color: #434B5C;\n",
              "      box-shadow: 0px 1px 3px 1px rgba(0, 0, 0, 0.15);\n",
              "      filter: drop-shadow(0px 1px 2px rgba(0, 0, 0, 0.3));\n",
              "      fill: #FFFFFF;\n",
              "    }\n",
              "  </style>\n",
              "\n",
              "      <script>\n",
              "        const buttonEl =\n",
              "          document.querySelector('#df-7edf982b-5b98-471a-bbe9-1fefab60c421 button.colab-df-convert');\n",
              "        buttonEl.style.display =\n",
              "          google.colab.kernel.accessAllowed ? 'block' : 'none';\n",
              "\n",
              "        async function convertToInteractive(key) {\n",
              "          const element = document.querySelector('#df-7edf982b-5b98-471a-bbe9-1fefab60c421');\n",
              "          const dataTable =\n",
              "            await google.colab.kernel.invokeFunction('convertToInteractive',\n",
              "                                                     [key], {});\n",
              "          if (!dataTable) return;\n",
              "\n",
              "          const docLinkHtml = 'Like what you see? Visit the ' +\n",
              "            '<a target=\"_blank\" href=https://colab.research.google.com/notebooks/data_table.ipynb>data table notebook</a>'\n",
              "            + ' to learn more about interactive tables.';\n",
              "          element.innerHTML = '';\n",
              "          dataTable['output_type'] = 'display_data';\n",
              "          await google.colab.output.renderOutput(dataTable, element);\n",
              "          const docLink = document.createElement('div');\n",
              "          docLink.innerHTML = docLinkHtml;\n",
              "          element.appendChild(docLink);\n",
              "        }\n",
              "      </script>\n",
              "    </div>\n",
              "  </div>\n",
              "  "
            ]
          },
          "metadata": {},
          "execution_count": 29
        }
      ]
    },
    {
      "cell_type": "code",
      "source": [
        "# для удобства дальнейшей работы переименуем столбцы датафрейма orders, \n",
        "# названия столбцов пропишем = названиям столбцов в рабочих формулах\n",
        "\n",
        "orders.columns = ['orderId', 'userId', 'date', 'revenue', 'group']"
      ],
      "metadata": {
        "id": "FhWneV1r5s3e"
      },
      "execution_count": 30,
      "outputs": []
    },
    {
      "cell_type": "code",
      "source": [
        "# смотрим  на файл visitors\n",
        "\n",
        "visitors.head()"
      ],
      "metadata": {
        "colab": {
          "base_uri": "https://localhost:8080/",
          "height": 206
        },
        "id": "CcaLdTBVmZXq",
        "outputId": "37e178d8-b07b-42ea-83da-f6f03f6d7fcd"
      },
      "execution_count": 31,
      "outputs": [
        {
          "output_type": "execute_result",
          "data": {
            "text/plain": [
              "         date group  visitors\n",
              "0  2019-08-01     A       719\n",
              "1  2019-08-02     A       619\n",
              "2  2019-08-03     A       507\n",
              "3  2019-08-04     A       717\n",
              "4  2019-08-05     A       756"
            ],
            "text/html": [
              "\n",
              "  <div id=\"df-2a4aaeaa-b4fd-4814-bdeb-106a2625c086\">\n",
              "    <div class=\"colab-df-container\">\n",
              "      <div>\n",
              "<style scoped>\n",
              "    .dataframe tbody tr th:only-of-type {\n",
              "        vertical-align: middle;\n",
              "    }\n",
              "\n",
              "    .dataframe tbody tr th {\n",
              "        vertical-align: top;\n",
              "    }\n",
              "\n",
              "    .dataframe thead th {\n",
              "        text-align: right;\n",
              "    }\n",
              "</style>\n",
              "<table border=\"1\" class=\"dataframe\">\n",
              "  <thead>\n",
              "    <tr style=\"text-align: right;\">\n",
              "      <th></th>\n",
              "      <th>date</th>\n",
              "      <th>group</th>\n",
              "      <th>visitors</th>\n",
              "    </tr>\n",
              "  </thead>\n",
              "  <tbody>\n",
              "    <tr>\n",
              "      <th>0</th>\n",
              "      <td>2019-08-01</td>\n",
              "      <td>A</td>\n",
              "      <td>719</td>\n",
              "    </tr>\n",
              "    <tr>\n",
              "      <th>1</th>\n",
              "      <td>2019-08-02</td>\n",
              "      <td>A</td>\n",
              "      <td>619</td>\n",
              "    </tr>\n",
              "    <tr>\n",
              "      <th>2</th>\n",
              "      <td>2019-08-03</td>\n",
              "      <td>A</td>\n",
              "      <td>507</td>\n",
              "    </tr>\n",
              "    <tr>\n",
              "      <th>3</th>\n",
              "      <td>2019-08-04</td>\n",
              "      <td>A</td>\n",
              "      <td>717</td>\n",
              "    </tr>\n",
              "    <tr>\n",
              "      <th>4</th>\n",
              "      <td>2019-08-05</td>\n",
              "      <td>A</td>\n",
              "      <td>756</td>\n",
              "    </tr>\n",
              "  </tbody>\n",
              "</table>\n",
              "</div>\n",
              "      <button class=\"colab-df-convert\" onclick=\"convertToInteractive('df-2a4aaeaa-b4fd-4814-bdeb-106a2625c086')\"\n",
              "              title=\"Convert this dataframe to an interactive table.\"\n",
              "              style=\"display:none;\">\n",
              "        \n",
              "  <svg xmlns=\"http://www.w3.org/2000/svg\" height=\"24px\"viewBox=\"0 0 24 24\"\n",
              "       width=\"24px\">\n",
              "    <path d=\"M0 0h24v24H0V0z\" fill=\"none\"/>\n",
              "    <path d=\"M18.56 5.44l.94 2.06.94-2.06 2.06-.94-2.06-.94-.94-2.06-.94 2.06-2.06.94zm-11 1L8.5 8.5l.94-2.06 2.06-.94-2.06-.94L8.5 2.5l-.94 2.06-2.06.94zm10 10l.94 2.06.94-2.06 2.06-.94-2.06-.94-.94-2.06-.94 2.06-2.06.94z\"/><path d=\"M17.41 7.96l-1.37-1.37c-.4-.4-.92-.59-1.43-.59-.52 0-1.04.2-1.43.59L10.3 9.45l-7.72 7.72c-.78.78-.78 2.05 0 2.83L4 21.41c.39.39.9.59 1.41.59.51 0 1.02-.2 1.41-.59l7.78-7.78 2.81-2.81c.8-.78.8-2.07 0-2.86zM5.41 20L4 18.59l7.72-7.72 1.47 1.35L5.41 20z\"/>\n",
              "  </svg>\n",
              "      </button>\n",
              "      \n",
              "  <style>\n",
              "    .colab-df-container {\n",
              "      display:flex;\n",
              "      flex-wrap:wrap;\n",
              "      gap: 12px;\n",
              "    }\n",
              "\n",
              "    .colab-df-convert {\n",
              "      background-color: #E8F0FE;\n",
              "      border: none;\n",
              "      border-radius: 50%;\n",
              "      cursor: pointer;\n",
              "      display: none;\n",
              "      fill: #1967D2;\n",
              "      height: 32px;\n",
              "      padding: 0 0 0 0;\n",
              "      width: 32px;\n",
              "    }\n",
              "\n",
              "    .colab-df-convert:hover {\n",
              "      background-color: #E2EBFA;\n",
              "      box-shadow: 0px 1px 2px rgba(60, 64, 67, 0.3), 0px 1px 3px 1px rgba(60, 64, 67, 0.15);\n",
              "      fill: #174EA6;\n",
              "    }\n",
              "\n",
              "    [theme=dark] .colab-df-convert {\n",
              "      background-color: #3B4455;\n",
              "      fill: #D2E3FC;\n",
              "    }\n",
              "\n",
              "    [theme=dark] .colab-df-convert:hover {\n",
              "      background-color: #434B5C;\n",
              "      box-shadow: 0px 1px 3px 1px rgba(0, 0, 0, 0.15);\n",
              "      filter: drop-shadow(0px 1px 2px rgba(0, 0, 0, 0.3));\n",
              "      fill: #FFFFFF;\n",
              "    }\n",
              "  </style>\n",
              "\n",
              "      <script>\n",
              "        const buttonEl =\n",
              "          document.querySelector('#df-2a4aaeaa-b4fd-4814-bdeb-106a2625c086 button.colab-df-convert');\n",
              "        buttonEl.style.display =\n",
              "          google.colab.kernel.accessAllowed ? 'block' : 'none';\n",
              "\n",
              "        async function convertToInteractive(key) {\n",
              "          const element = document.querySelector('#df-2a4aaeaa-b4fd-4814-bdeb-106a2625c086');\n",
              "          const dataTable =\n",
              "            await google.colab.kernel.invokeFunction('convertToInteractive',\n",
              "                                                     [key], {});\n",
              "          if (!dataTable) return;\n",
              "\n",
              "          const docLinkHtml = 'Like what you see? Visit the ' +\n",
              "            '<a target=\"_blank\" href=https://colab.research.google.com/notebooks/data_table.ipynb>data table notebook</a>'\n",
              "            + ' to learn more about interactive tables.';\n",
              "          element.innerHTML = '';\n",
              "          dataTable['output_type'] = 'display_data';\n",
              "          await google.colab.output.renderOutput(dataTable, element);\n",
              "          const docLink = document.createElement('div');\n",
              "          docLink.innerHTML = docLinkHtml;\n",
              "          element.appendChild(docLink);\n",
              "        }\n",
              "      </script>\n",
              "    </div>\n",
              "  </div>\n",
              "  "
            ]
          },
          "metadata": {},
          "execution_count": 31
        }
      ]
    },
    {
      "cell_type": "markdown",
      "source": [
        "## Подготовка данных к работе"
      ],
      "metadata": {
        "id": "jtjhES_ZhfDx"
      }
    },
    {
      "cell_type": "markdown",
      "source": [
        "### Изменение регистра столбцов"
      ],
      "metadata": {
        "id": "H7vAJHVSjRg4"
      }
    },
    {
      "cell_type": "code",
      "source": [
        "# названия столбцов в hypothesis к нижнему регистру\n",
        "\n",
        "hypothesis.columns = hypothesis.columns.str.lower()"
      ],
      "metadata": {
        "id": "UPZWD6h40bnn"
      },
      "execution_count": 32,
      "outputs": []
    },
    {
      "cell_type": "markdown",
      "source": [
        "### Поиск пропущенных значений"
      ],
      "metadata": {
        "id": "BKq7jVoajZQs"
      }
    },
    {
      "cell_type": "code",
      "source": [
        "hypothesis.isna().mean()"
      ],
      "metadata": {
        "colab": {
          "base_uri": "https://localhost:8080/"
        },
        "id": "qWq49KQ3k1xI",
        "outputId": "b2513f5f-a63d-447c-c182-963c4b6bc14e"
      },
      "execution_count": 33,
      "outputs": [
        {
          "output_type": "execute_result",
          "data": {
            "text/plain": [
              "hypothesis    0.0\n",
              "reach         0.0\n",
              "impact        0.0\n",
              "confidence    0.0\n",
              "efforts       0.0\n",
              "dtype: float64"
            ]
          },
          "metadata": {},
          "execution_count": 33
        }
      ]
    },
    {
      "cell_type": "code",
      "source": [
        "orders.isna().mean()"
      ],
      "metadata": {
        "colab": {
          "base_uri": "https://localhost:8080/"
        },
        "id": "yoTrpEhxlzs3",
        "outputId": "22dc691a-3720-44a4-d85f-9af0722c1017"
      },
      "execution_count": 34,
      "outputs": [
        {
          "output_type": "execute_result",
          "data": {
            "text/plain": [
              "orderId    0.0\n",
              "userId     0.0\n",
              "date       0.0\n",
              "revenue    0.0\n",
              "group      0.0\n",
              "dtype: float64"
            ]
          },
          "metadata": {},
          "execution_count": 34
        }
      ]
    },
    {
      "cell_type": "code",
      "source": [
        "visitors.isna().mean()"
      ],
      "metadata": {
        "colab": {
          "base_uri": "https://localhost:8080/"
        },
        "id": "wtzgOxgHmGlE",
        "outputId": "bb61062f-2767-401e-e83d-28c3dfa4e9da"
      },
      "execution_count": 35,
      "outputs": [
        {
          "output_type": "execute_result",
          "data": {
            "text/plain": [
              "date        0.0\n",
              "group       0.0\n",
              "visitors    0.0\n",
              "dtype: float64"
            ]
          },
          "metadata": {},
          "execution_count": 35
        }
      ]
    },
    {
      "cell_type": "markdown",
      "source": [
        "### Поиск явных дубликатов"
      ],
      "metadata": {
        "id": "o_HSvD8xje7G"
      }
    },
    {
      "cell_type": "code",
      "source": [
        "hypothesis.duplicated().sum()"
      ],
      "metadata": {
        "colab": {
          "base_uri": "https://localhost:8080/"
        },
        "id": "6RVoKVwijytm",
        "outputId": "408e509b-068b-4325-8e37-668e632344af"
      },
      "execution_count": 36,
      "outputs": [
        {
          "output_type": "execute_result",
          "data": {
            "text/plain": [
              "0"
            ]
          },
          "metadata": {},
          "execution_count": 36
        }
      ]
    },
    {
      "cell_type": "code",
      "source": [
        "orders.duplicated().sum()"
      ],
      "metadata": {
        "colab": {
          "base_uri": "https://localhost:8080/"
        },
        "id": "gNZTDdBLj4Q8",
        "outputId": "8c023c9d-e8fe-47d4-bfac-7974c7bb0112"
      },
      "execution_count": 37,
      "outputs": [
        {
          "output_type": "execute_result",
          "data": {
            "text/plain": [
              "0"
            ]
          },
          "metadata": {},
          "execution_count": 37
        }
      ]
    },
    {
      "cell_type": "code",
      "source": [
        "visitors.duplicated().sum()"
      ],
      "metadata": {
        "colab": {
          "base_uri": "https://localhost:8080/"
        },
        "id": "EPxuZp7sj7i_",
        "outputId": "117224f5-5ee7-49c6-c546-21ac547f89be"
      },
      "execution_count": 38,
      "outputs": [
        {
          "output_type": "execute_result",
          "data": {
            "text/plain": [
              "0"
            ]
          },
          "metadata": {},
          "execution_count": 38
        }
      ]
    },
    {
      "cell_type": "markdown",
      "source": [
        "### Вывод по подготовке данных\n",
        "\n",
        "Данные чистые, без дубликатов и пропусков. Работаем дальше."
      ],
      "metadata": {
        "id": "c_iC5LywkBDE"
      }
    },
    {
      "cell_type": "markdown",
      "source": [
        "## Приоритизация гипотез"
      ],
      "metadata": {
        "id": "h0kBLAXVkxPC"
      }
    },
    {
      "cell_type": "markdown",
      "source": [
        "Посмотрим на файл с гипотезами полностью"
      ],
      "metadata": {
        "id": "CI6UQX9FnsEz"
      }
    },
    {
      "cell_type": "code",
      "source": [
        "hypothesis"
      ],
      "metadata": {
        "colab": {
          "base_uri": "https://localhost:8080/",
          "height": 332
        },
        "id": "RlfREu7Nmj2P",
        "outputId": "2f502e60-981c-4bd9-b38a-62dc6582a399"
      },
      "execution_count": 39,
      "outputs": [
        {
          "output_type": "execute_result",
          "data": {
            "text/plain": [
              "                                          hypothesis  reach  impact  \\\n",
              "0  Добавить два новых канала привлечения трафика,...      3      10   \n",
              "1  Запустить собственную службу доставки, что сок...      2       5   \n",
              "2  Добавить блоки рекомендаций товаров на сайт ин...      8       3   \n",
              "3  Изменить структура категорий, что увеличит кон...      8       3   \n",
              "4  Изменить цвет фона главной страницы, чтобы уве...      3       1   \n",
              "5  Добавить страницу отзывов клиентов о магазине,...      3       2   \n",
              "6  Показать на главной странице баннеры с актуаль...      5       3   \n",
              "7  Добавить форму подписки на все основные страни...     10       7   \n",
              "8  Запустить акцию, дающую скидку на товар в день...      1       9   \n",
              "\n",
              "   confidence  efforts  \n",
              "0           8        6  \n",
              "1           4       10  \n",
              "2           7        3  \n",
              "3           3        8  \n",
              "4           1        1  \n",
              "5           2        3  \n",
              "6           8        3  \n",
              "7           8        5  \n",
              "8           9        5  "
            ],
            "text/html": [
              "\n",
              "  <div id=\"df-77fdaa0e-4267-45fa-b54d-1c830e39f8ef\">\n",
              "    <div class=\"colab-df-container\">\n",
              "      <div>\n",
              "<style scoped>\n",
              "    .dataframe tbody tr th:only-of-type {\n",
              "        vertical-align: middle;\n",
              "    }\n",
              "\n",
              "    .dataframe tbody tr th {\n",
              "        vertical-align: top;\n",
              "    }\n",
              "\n",
              "    .dataframe thead th {\n",
              "        text-align: right;\n",
              "    }\n",
              "</style>\n",
              "<table border=\"1\" class=\"dataframe\">\n",
              "  <thead>\n",
              "    <tr style=\"text-align: right;\">\n",
              "      <th></th>\n",
              "      <th>hypothesis</th>\n",
              "      <th>reach</th>\n",
              "      <th>impact</th>\n",
              "      <th>confidence</th>\n",
              "      <th>efforts</th>\n",
              "    </tr>\n",
              "  </thead>\n",
              "  <tbody>\n",
              "    <tr>\n",
              "      <th>0</th>\n",
              "      <td>Добавить два новых канала привлечения трафика,...</td>\n",
              "      <td>3</td>\n",
              "      <td>10</td>\n",
              "      <td>8</td>\n",
              "      <td>6</td>\n",
              "    </tr>\n",
              "    <tr>\n",
              "      <th>1</th>\n",
              "      <td>Запустить собственную службу доставки, что сок...</td>\n",
              "      <td>2</td>\n",
              "      <td>5</td>\n",
              "      <td>4</td>\n",
              "      <td>10</td>\n",
              "    </tr>\n",
              "    <tr>\n",
              "      <th>2</th>\n",
              "      <td>Добавить блоки рекомендаций товаров на сайт ин...</td>\n",
              "      <td>8</td>\n",
              "      <td>3</td>\n",
              "      <td>7</td>\n",
              "      <td>3</td>\n",
              "    </tr>\n",
              "    <tr>\n",
              "      <th>3</th>\n",
              "      <td>Изменить структура категорий, что увеличит кон...</td>\n",
              "      <td>8</td>\n",
              "      <td>3</td>\n",
              "      <td>3</td>\n",
              "      <td>8</td>\n",
              "    </tr>\n",
              "    <tr>\n",
              "      <th>4</th>\n",
              "      <td>Изменить цвет фона главной страницы, чтобы уве...</td>\n",
              "      <td>3</td>\n",
              "      <td>1</td>\n",
              "      <td>1</td>\n",
              "      <td>1</td>\n",
              "    </tr>\n",
              "    <tr>\n",
              "      <th>5</th>\n",
              "      <td>Добавить страницу отзывов клиентов о магазине,...</td>\n",
              "      <td>3</td>\n",
              "      <td>2</td>\n",
              "      <td>2</td>\n",
              "      <td>3</td>\n",
              "    </tr>\n",
              "    <tr>\n",
              "      <th>6</th>\n",
              "      <td>Показать на главной странице баннеры с актуаль...</td>\n",
              "      <td>5</td>\n",
              "      <td>3</td>\n",
              "      <td>8</td>\n",
              "      <td>3</td>\n",
              "    </tr>\n",
              "    <tr>\n",
              "      <th>7</th>\n",
              "      <td>Добавить форму подписки на все основные страни...</td>\n",
              "      <td>10</td>\n",
              "      <td>7</td>\n",
              "      <td>8</td>\n",
              "      <td>5</td>\n",
              "    </tr>\n",
              "    <tr>\n",
              "      <th>8</th>\n",
              "      <td>Запустить акцию, дающую скидку на товар в день...</td>\n",
              "      <td>1</td>\n",
              "      <td>9</td>\n",
              "      <td>9</td>\n",
              "      <td>5</td>\n",
              "    </tr>\n",
              "  </tbody>\n",
              "</table>\n",
              "</div>\n",
              "      <button class=\"colab-df-convert\" onclick=\"convertToInteractive('df-77fdaa0e-4267-45fa-b54d-1c830e39f8ef')\"\n",
              "              title=\"Convert this dataframe to an interactive table.\"\n",
              "              style=\"display:none;\">\n",
              "        \n",
              "  <svg xmlns=\"http://www.w3.org/2000/svg\" height=\"24px\"viewBox=\"0 0 24 24\"\n",
              "       width=\"24px\">\n",
              "    <path d=\"M0 0h24v24H0V0z\" fill=\"none\"/>\n",
              "    <path d=\"M18.56 5.44l.94 2.06.94-2.06 2.06-.94-2.06-.94-.94-2.06-.94 2.06-2.06.94zm-11 1L8.5 8.5l.94-2.06 2.06-.94-2.06-.94L8.5 2.5l-.94 2.06-2.06.94zm10 10l.94 2.06.94-2.06 2.06-.94-2.06-.94-.94-2.06-.94 2.06-2.06.94z\"/><path d=\"M17.41 7.96l-1.37-1.37c-.4-.4-.92-.59-1.43-.59-.52 0-1.04.2-1.43.59L10.3 9.45l-7.72 7.72c-.78.78-.78 2.05 0 2.83L4 21.41c.39.39.9.59 1.41.59.51 0 1.02-.2 1.41-.59l7.78-7.78 2.81-2.81c.8-.78.8-2.07 0-2.86zM5.41 20L4 18.59l7.72-7.72 1.47 1.35L5.41 20z\"/>\n",
              "  </svg>\n",
              "      </button>\n",
              "      \n",
              "  <style>\n",
              "    .colab-df-container {\n",
              "      display:flex;\n",
              "      flex-wrap:wrap;\n",
              "      gap: 12px;\n",
              "    }\n",
              "\n",
              "    .colab-df-convert {\n",
              "      background-color: #E8F0FE;\n",
              "      border: none;\n",
              "      border-radius: 50%;\n",
              "      cursor: pointer;\n",
              "      display: none;\n",
              "      fill: #1967D2;\n",
              "      height: 32px;\n",
              "      padding: 0 0 0 0;\n",
              "      width: 32px;\n",
              "    }\n",
              "\n",
              "    .colab-df-convert:hover {\n",
              "      background-color: #E2EBFA;\n",
              "      box-shadow: 0px 1px 2px rgba(60, 64, 67, 0.3), 0px 1px 3px 1px rgba(60, 64, 67, 0.15);\n",
              "      fill: #174EA6;\n",
              "    }\n",
              "\n",
              "    [theme=dark] .colab-df-convert {\n",
              "      background-color: #3B4455;\n",
              "      fill: #D2E3FC;\n",
              "    }\n",
              "\n",
              "    [theme=dark] .colab-df-convert:hover {\n",
              "      background-color: #434B5C;\n",
              "      box-shadow: 0px 1px 3px 1px rgba(0, 0, 0, 0.15);\n",
              "      filter: drop-shadow(0px 1px 2px rgba(0, 0, 0, 0.3));\n",
              "      fill: #FFFFFF;\n",
              "    }\n",
              "  </style>\n",
              "\n",
              "      <script>\n",
              "        const buttonEl =\n",
              "          document.querySelector('#df-77fdaa0e-4267-45fa-b54d-1c830e39f8ef button.colab-df-convert');\n",
              "        buttonEl.style.display =\n",
              "          google.colab.kernel.accessAllowed ? 'block' : 'none';\n",
              "\n",
              "        async function convertToInteractive(key) {\n",
              "          const element = document.querySelector('#df-77fdaa0e-4267-45fa-b54d-1c830e39f8ef');\n",
              "          const dataTable =\n",
              "            await google.colab.kernel.invokeFunction('convertToInteractive',\n",
              "                                                     [key], {});\n",
              "          if (!dataTable) return;\n",
              "\n",
              "          const docLinkHtml = 'Like what you see? Visit the ' +\n",
              "            '<a target=\"_blank\" href=https://colab.research.google.com/notebooks/data_table.ipynb>data table notebook</a>'\n",
              "            + ' to learn more about interactive tables.';\n",
              "          element.innerHTML = '';\n",
              "          dataTable['output_type'] = 'display_data';\n",
              "          await google.colab.output.renderOutput(dataTable, element);\n",
              "          const docLink = document.createElement('div');\n",
              "          docLink.innerHTML = docLinkHtml;\n",
              "          element.appendChild(docLink);\n",
              "        }\n",
              "      </script>\n",
              "    </div>\n",
              "  </div>\n",
              "  "
            ]
          },
          "metadata": {},
          "execution_count": 39
        }
      ]
    },
    {
      "cell_type": "code",
      "source": [
        "print(f'Всего {len(hypothesis)} гипотез')"
      ],
      "metadata": {
        "colab": {
          "base_uri": "https://localhost:8080/"
        },
        "id": "857LzKSmnMRB",
        "outputId": "efd47436-f2b5-4305-a4d2-9f83d693562f"
      },
      "execution_count": 40,
      "outputs": [
        {
          "output_type": "stream",
          "name": "stdout",
          "text": [
            "Всего 9 гипотез\n"
          ]
        }
      ]
    },
    {
      "cell_type": "markdown",
      "source": [
        "Задача выбрать потенциально самые прибыльные гипотезы"
      ],
      "metadata": {
        "id": "lSV1j66-n1R_"
      }
    },
    {
      "cell_type": "markdown",
      "source": [
        "### ICE"
      ],
      "metadata": {
        "id": "b4N2G_liofRY"
      }
    },
    {
      "cell_type": "markdown",
      "source": [
        "Вспомним, как считается ICE:\n",
        "\n",
        "ICE = (Impact x Confidence)/ Efforts "
      ],
      "metadata": {
        "id": "fQZKj_WQohZe"
      }
    },
    {
      "cell_type": "code",
      "source": [
        "hypothesis['ICE'] = hypothesis['impact'] * hypothesis['confidence']\\\n",
        "                  / hypothesis['efforts']\n",
        "hypothesis[['hypothesis', 'ICE']].sort_values(by='ICE', ascending=False)"
      ],
      "metadata": {
        "colab": {
          "base_uri": "https://localhost:8080/",
          "height": 332
        },
        "id": "WwZvS65NyaBL",
        "outputId": "b16a4a8a-e8ff-4034-ddca-594a5ef3b5f5"
      },
      "execution_count": 41,
      "outputs": [
        {
          "output_type": "execute_result",
          "data": {
            "text/plain": [
              "                                          hypothesis        ICE\n",
              "8  Запустить акцию, дающую скидку на товар в день...  16.200000\n",
              "0  Добавить два новых канала привлечения трафика,...  13.333333\n",
              "7  Добавить форму подписки на все основные страни...  11.200000\n",
              "6  Показать на главной странице баннеры с актуаль...   8.000000\n",
              "2  Добавить блоки рекомендаций товаров на сайт ин...   7.000000\n",
              "1  Запустить собственную службу доставки, что сок...   2.000000\n",
              "5  Добавить страницу отзывов клиентов о магазине,...   1.333333\n",
              "3  Изменить структура категорий, что увеличит кон...   1.125000\n",
              "4  Изменить цвет фона главной страницы, чтобы уве...   1.000000"
            ],
            "text/html": [
              "\n",
              "  <div id=\"df-5e13dd53-8d8b-43d6-9d06-16f002521718\">\n",
              "    <div class=\"colab-df-container\">\n",
              "      <div>\n",
              "<style scoped>\n",
              "    .dataframe tbody tr th:only-of-type {\n",
              "        vertical-align: middle;\n",
              "    }\n",
              "\n",
              "    .dataframe tbody tr th {\n",
              "        vertical-align: top;\n",
              "    }\n",
              "\n",
              "    .dataframe thead th {\n",
              "        text-align: right;\n",
              "    }\n",
              "</style>\n",
              "<table border=\"1\" class=\"dataframe\">\n",
              "  <thead>\n",
              "    <tr style=\"text-align: right;\">\n",
              "      <th></th>\n",
              "      <th>hypothesis</th>\n",
              "      <th>ICE</th>\n",
              "    </tr>\n",
              "  </thead>\n",
              "  <tbody>\n",
              "    <tr>\n",
              "      <th>8</th>\n",
              "      <td>Запустить акцию, дающую скидку на товар в день...</td>\n",
              "      <td>16.200000</td>\n",
              "    </tr>\n",
              "    <tr>\n",
              "      <th>0</th>\n",
              "      <td>Добавить два новых канала привлечения трафика,...</td>\n",
              "      <td>13.333333</td>\n",
              "    </tr>\n",
              "    <tr>\n",
              "      <th>7</th>\n",
              "      <td>Добавить форму подписки на все основные страни...</td>\n",
              "      <td>11.200000</td>\n",
              "    </tr>\n",
              "    <tr>\n",
              "      <th>6</th>\n",
              "      <td>Показать на главной странице баннеры с актуаль...</td>\n",
              "      <td>8.000000</td>\n",
              "    </tr>\n",
              "    <tr>\n",
              "      <th>2</th>\n",
              "      <td>Добавить блоки рекомендаций товаров на сайт ин...</td>\n",
              "      <td>7.000000</td>\n",
              "    </tr>\n",
              "    <tr>\n",
              "      <th>1</th>\n",
              "      <td>Запустить собственную службу доставки, что сок...</td>\n",
              "      <td>2.000000</td>\n",
              "    </tr>\n",
              "    <tr>\n",
              "      <th>5</th>\n",
              "      <td>Добавить страницу отзывов клиентов о магазине,...</td>\n",
              "      <td>1.333333</td>\n",
              "    </tr>\n",
              "    <tr>\n",
              "      <th>3</th>\n",
              "      <td>Изменить структура категорий, что увеличит кон...</td>\n",
              "      <td>1.125000</td>\n",
              "    </tr>\n",
              "    <tr>\n",
              "      <th>4</th>\n",
              "      <td>Изменить цвет фона главной страницы, чтобы уве...</td>\n",
              "      <td>1.000000</td>\n",
              "    </tr>\n",
              "  </tbody>\n",
              "</table>\n",
              "</div>\n",
              "      <button class=\"colab-df-convert\" onclick=\"convertToInteractive('df-5e13dd53-8d8b-43d6-9d06-16f002521718')\"\n",
              "              title=\"Convert this dataframe to an interactive table.\"\n",
              "              style=\"display:none;\">\n",
              "        \n",
              "  <svg xmlns=\"http://www.w3.org/2000/svg\" height=\"24px\"viewBox=\"0 0 24 24\"\n",
              "       width=\"24px\">\n",
              "    <path d=\"M0 0h24v24H0V0z\" fill=\"none\"/>\n",
              "    <path d=\"M18.56 5.44l.94 2.06.94-2.06 2.06-.94-2.06-.94-.94-2.06-.94 2.06-2.06.94zm-11 1L8.5 8.5l.94-2.06 2.06-.94-2.06-.94L8.5 2.5l-.94 2.06-2.06.94zm10 10l.94 2.06.94-2.06 2.06-.94-2.06-.94-.94-2.06-.94 2.06-2.06.94z\"/><path d=\"M17.41 7.96l-1.37-1.37c-.4-.4-.92-.59-1.43-.59-.52 0-1.04.2-1.43.59L10.3 9.45l-7.72 7.72c-.78.78-.78 2.05 0 2.83L4 21.41c.39.39.9.59 1.41.59.51 0 1.02-.2 1.41-.59l7.78-7.78 2.81-2.81c.8-.78.8-2.07 0-2.86zM5.41 20L4 18.59l7.72-7.72 1.47 1.35L5.41 20z\"/>\n",
              "  </svg>\n",
              "      </button>\n",
              "      \n",
              "  <style>\n",
              "    .colab-df-container {\n",
              "      display:flex;\n",
              "      flex-wrap:wrap;\n",
              "      gap: 12px;\n",
              "    }\n",
              "\n",
              "    .colab-df-convert {\n",
              "      background-color: #E8F0FE;\n",
              "      border: none;\n",
              "      border-radius: 50%;\n",
              "      cursor: pointer;\n",
              "      display: none;\n",
              "      fill: #1967D2;\n",
              "      height: 32px;\n",
              "      padding: 0 0 0 0;\n",
              "      width: 32px;\n",
              "    }\n",
              "\n",
              "    .colab-df-convert:hover {\n",
              "      background-color: #E2EBFA;\n",
              "      box-shadow: 0px 1px 2px rgba(60, 64, 67, 0.3), 0px 1px 3px 1px rgba(60, 64, 67, 0.15);\n",
              "      fill: #174EA6;\n",
              "    }\n",
              "\n",
              "    [theme=dark] .colab-df-convert {\n",
              "      background-color: #3B4455;\n",
              "      fill: #D2E3FC;\n",
              "    }\n",
              "\n",
              "    [theme=dark] .colab-df-convert:hover {\n",
              "      background-color: #434B5C;\n",
              "      box-shadow: 0px 1px 3px 1px rgba(0, 0, 0, 0.15);\n",
              "      filter: drop-shadow(0px 1px 2px rgba(0, 0, 0, 0.3));\n",
              "      fill: #FFFFFF;\n",
              "    }\n",
              "  </style>\n",
              "\n",
              "      <script>\n",
              "        const buttonEl =\n",
              "          document.querySelector('#df-5e13dd53-8d8b-43d6-9d06-16f002521718 button.colab-df-convert');\n",
              "        buttonEl.style.display =\n",
              "          google.colab.kernel.accessAllowed ? 'block' : 'none';\n",
              "\n",
              "        async function convertToInteractive(key) {\n",
              "          const element = document.querySelector('#df-5e13dd53-8d8b-43d6-9d06-16f002521718');\n",
              "          const dataTable =\n",
              "            await google.colab.kernel.invokeFunction('convertToInteractive',\n",
              "                                                     [key], {});\n",
              "          if (!dataTable) return;\n",
              "\n",
              "          const docLinkHtml = 'Like what you see? Visit the ' +\n",
              "            '<a target=\"_blank\" href=https://colab.research.google.com/notebooks/data_table.ipynb>data table notebook</a>'\n",
              "            + ' to learn more about interactive tables.';\n",
              "          element.innerHTML = '';\n",
              "          dataTable['output_type'] = 'display_data';\n",
              "          await google.colab.output.renderOutput(dataTable, element);\n",
              "          const docLink = document.createElement('div');\n",
              "          docLink.innerHTML = docLinkHtml;\n",
              "          element.appendChild(docLink);\n",
              "        }\n",
              "      </script>\n",
              "    </div>\n",
              "  </div>\n",
              "  "
            ]
          },
          "metadata": {},
          "execution_count": 41
        }
      ]
    },
    {
      "cell_type": "code",
      "source": [
        "hypothesis['ICE'].sort_values(ascending=False).plot(kind='bar');"
      ],
      "metadata": {
        "colab": {
          "base_uri": "https://localhost:8080/",
          "height": 262
        },
        "id": "0JUmo4u11eaL",
        "outputId": "421351a7-9493-45b1-c3f6-c0ba078707af"
      },
      "execution_count": 42,
      "outputs": [
        {
          "output_type": "display_data",
          "data": {
            "text/plain": [
              "<Figure size 432x288 with 1 Axes>"
            ],
            "image/png": "[encoded data removed]"
          },
          "metadata": {
            "needs_background": "light"
          }
        }
      ]
    },
    {
      "cell_type": "code",
      "source": [
        "# посмотрим топ-4 гипотезы по ICE\n",
        "\n",
        "top_4_ICE = hypothesis[['hypothesis', 'ICE']]\\\n",
        "           .sort_values(by='ICE', ascending=False).index[:4]\n",
        "top_4_ICE"
      ],
      "metadata": {
        "colab": {
          "base_uri": "https://localhost:8080/"
        },
        "id": "BVa3KGsM2NFC",
        "outputId": "e892fe19-83e2-4cfd-cf69-fe1d651d6135"
      },
      "execution_count": 43,
      "outputs": [
        {
          "output_type": "execute_result",
          "data": {
            "text/plain": [
              "Int64Index([8, 0, 7, 6], dtype='int64')"
            ]
          },
          "metadata": {},
          "execution_count": 43
        }
      ]
    },
    {
      "cell_type": "markdown",
      "source": [
        "### Вывод по ICE\n",
        "\n",
        "По методу _ICE_ наиболее интересны гипотезы [8, 0, 7, 6]."
      ],
      "metadata": {
        "id": "xR5BSx3yaR_b"
      }
    },
    {
      "cell_type": "markdown",
      "source": [
        "### RICE"
      ],
      "metadata": {
        "id": "-ipbOBb_o2nY"
      }
    },
    {
      "cell_type": "markdown",
      "source": [
        "RICE отличается от ICE добавлением еще одного компонента — охват (англ. reach). Формула для расчета RICE:\n",
        "\n",
        "RICE = (Reach x Impact x Confidence)/ Efforts "
      ],
      "metadata": {
        "id": "a4sGn5O3o7il"
      }
    },
    {
      "cell_type": "code",
      "source": [
        "hypothesis['RICE'] = hypothesis['reach'] * hypothesis['impact']\\\n",
        "                   * hypothesis['confidence'] / hypothesis['efforts']\n",
        "hypothesis[['hypothesis', 'RICE']].sort_values(by='RICE', ascending=False)"
      ],
      "metadata": {
        "colab": {
          "base_uri": "https://localhost:8080/",
          "height": 332
        },
        "id": "lKAJtYm2pXTG",
        "outputId": "10b6258e-473f-41c1-ce25-5998f840a7ce"
      },
      "execution_count": 44,
      "outputs": [
        {
          "output_type": "execute_result",
          "data": {
            "text/plain": [
              "                                          hypothesis   RICE\n",
              "7  Добавить форму подписки на все основные страни...  112.0\n",
              "2  Добавить блоки рекомендаций товаров на сайт ин...   56.0\n",
              "0  Добавить два новых канала привлечения трафика,...   40.0\n",
              "6  Показать на главной странице баннеры с актуаль...   40.0\n",
              "8  Запустить акцию, дающую скидку на товар в день...   16.2\n",
              "3  Изменить структура категорий, что увеличит кон...    9.0\n",
              "1  Запустить собственную службу доставки, что сок...    4.0\n",
              "5  Добавить страницу отзывов клиентов о магазине,...    4.0\n",
              "4  Изменить цвет фона главной страницы, чтобы уве...    3.0"
            ],
            "text/html": [
              "\n",
              "  <div id=\"df-80ae081c-536f-4fd9-92fd-2c14bf686001\">\n",
              "    <div class=\"colab-df-container\">\n",
              "      <div>\n",
              "<style scoped>\n",
              "    .dataframe tbody tr th:only-of-type {\n",
              "        vertical-align: middle;\n",
              "    }\n",
              "\n",
              "    .dataframe tbody tr th {\n",
              "        vertical-align: top;\n",
              "    }\n",
              "\n",
              "    .dataframe thead th {\n",
              "        text-align: right;\n",
              "    }\n",
              "</style>\n",
              "<table border=\"1\" class=\"dataframe\">\n",
              "  <thead>\n",
              "    <tr style=\"text-align: right;\">\n",
              "      <th></th>\n",
              "      <th>hypothesis</th>\n",
              "      <th>RICE</th>\n",
              "    </tr>\n",
              "  </thead>\n",
              "  <tbody>\n",
              "    <tr>\n",
              "      <th>7</th>\n",
              "      <td>Добавить форму подписки на все основные страни...</td>\n",
              "      <td>112.0</td>\n",
              "    </tr>\n",
              "    <tr>\n",
              "      <th>2</th>\n",
              "      <td>Добавить блоки рекомендаций товаров на сайт ин...</td>\n",
              "      <td>56.0</td>\n",
              "    </tr>\n",
              "    <tr>\n",
              "      <th>0</th>\n",
              "      <td>Добавить два новых канала привлечения трафика,...</td>\n",
              "      <td>40.0</td>\n",
              "    </tr>\n",
              "    <tr>\n",
              "      <th>6</th>\n",
              "      <td>Показать на главной странице баннеры с актуаль...</td>\n",
              "      <td>40.0</td>\n",
              "    </tr>\n",
              "    <tr>\n",
              "      <th>8</th>\n",
              "      <td>Запустить акцию, дающую скидку на товар в день...</td>\n",
              "      <td>16.2</td>\n",
              "    </tr>\n",
              "    <tr>\n",
              "      <th>3</th>\n",
              "      <td>Изменить структура категорий, что увеличит кон...</td>\n",
              "      <td>9.0</td>\n",
              "    </tr>\n",
              "    <tr>\n",
              "      <th>1</th>\n",
              "      <td>Запустить собственную службу доставки, что сок...</td>\n",
              "      <td>4.0</td>\n",
              "    </tr>\n",
              "    <tr>\n",
              "      <th>5</th>\n",
              "      <td>Добавить страницу отзывов клиентов о магазине,...</td>\n",
              "      <td>4.0</td>\n",
              "    </tr>\n",
              "    <tr>\n",
              "      <th>4</th>\n",
              "      <td>Изменить цвет фона главной страницы, чтобы уве...</td>\n",
              "      <td>3.0</td>\n",
              "    </tr>\n",
              "  </tbody>\n",
              "</table>\n",
              "</div>\n",
              "      <button class=\"colab-df-convert\" onclick=\"convertToInteractive('df-80ae081c-536f-4fd9-92fd-2c14bf686001')\"\n",
              "              title=\"Convert this dataframe to an interactive table.\"\n",
              "              style=\"display:none;\">\n",
              "        \n",
              "  <svg xmlns=\"http://www.w3.org/2000/svg\" height=\"24px\"viewBox=\"0 0 24 24\"\n",
              "       width=\"24px\">\n",
              "    <path d=\"M0 0h24v24H0V0z\" fill=\"none\"/>\n",
              "    <path d=\"M18.56 5.44l.94 2.06.94-2.06 2.06-.94-2.06-.94-.94-2.06-.94 2.06-2.06.94zm-11 1L8.5 8.5l.94-2.06 2.06-.94-2.06-.94L8.5 2.5l-.94 2.06-2.06.94zm10 10l.94 2.06.94-2.06 2.06-.94-2.06-.94-.94-2.06-.94 2.06-2.06.94z\"/><path d=\"M17.41 7.96l-1.37-1.37c-.4-.4-.92-.59-1.43-.59-.52 0-1.04.2-1.43.59L10.3 9.45l-7.72 7.72c-.78.78-.78 2.05 0 2.83L4 21.41c.39.39.9.59 1.41.59.51 0 1.02-.2 1.41-.59l7.78-7.78 2.81-2.81c.8-.78.8-2.07 0-2.86zM5.41 20L4 18.59l7.72-7.72 1.47 1.35L5.41 20z\"/>\n",
              "  </svg>\n",
              "      </button>\n",
              "      \n",
              "  <style>\n",
              "    .colab-df-container {\n",
              "      display:flex;\n",
              "      flex-wrap:wrap;\n",
              "      gap: 12px;\n",
              "    }\n",
              "\n",
              "    .colab-df-convert {\n",
              "      background-color: #E8F0FE;\n",
              "      border: none;\n",
              "      border-radius: 50%;\n",
              "      cursor: pointer;\n",
              "      display: none;\n",
              "      fill: #1967D2;\n",
              "      height: 32px;\n",
              "      padding: 0 0 0 0;\n",
              "      width: 32px;\n",
              "    }\n",
              "\n",
              "    .colab-df-convert:hover {\n",
              "      background-color: #E2EBFA;\n",
              "      box-shadow: 0px 1px 2px rgba(60, 64, 67, 0.3), 0px 1px 3px 1px rgba(60, 64, 67, 0.15);\n",
              "      fill: #174EA6;\n",
              "    }\n",
              "\n",
              "    [theme=dark] .colab-df-convert {\n",
              "      background-color: #3B4455;\n",
              "      fill: #D2E3FC;\n",
              "    }\n",
              "\n",
              "    [theme=dark] .colab-df-convert:hover {\n",
              "      background-color: #434B5C;\n",
              "      box-shadow: 0px 1px 3px 1px rgba(0, 0, 0, 0.15);\n",
              "      filter: drop-shadow(0px 1px 2px rgba(0, 0, 0, 0.3));\n",
              "      fill: #FFFFFF;\n",
              "    }\n",
              "  </style>\n",
              "\n",
              "      <script>\n",
              "        const buttonEl =\n",
              "          document.querySelector('#df-80ae081c-536f-4fd9-92fd-2c14bf686001 button.colab-df-convert');\n",
              "        buttonEl.style.display =\n",
              "          google.colab.kernel.accessAllowed ? 'block' : 'none';\n",
              "\n",
              "        async function convertToInteractive(key) {\n",
              "          const element = document.querySelector('#df-80ae081c-536f-4fd9-92fd-2c14bf686001');\n",
              "          const dataTable =\n",
              "            await google.colab.kernel.invokeFunction('convertToInteractive',\n",
              "                                                     [key], {});\n",
              "          if (!dataTable) return;\n",
              "\n",
              "          const docLinkHtml = 'Like what you see? Visit the ' +\n",
              "            '<a target=\"_blank\" href=https://colab.research.google.com/notebooks/data_table.ipynb>data table notebook</a>'\n",
              "            + ' to learn more about interactive tables.';\n",
              "          element.innerHTML = '';\n",
              "          dataTable['output_type'] = 'display_data';\n",
              "          await google.colab.output.renderOutput(dataTable, element);\n",
              "          const docLink = document.createElement('div');\n",
              "          docLink.innerHTML = docLinkHtml;\n",
              "          element.appendChild(docLink);\n",
              "        }\n",
              "      </script>\n",
              "    </div>\n",
              "  </div>\n",
              "  "
            ]
          },
          "metadata": {},
          "execution_count": 44
        }
      ]
    },
    {
      "cell_type": "code",
      "source": [
        "hypothesis['RICE'].sort_values(ascending=False).plot(kind='bar');"
      ],
      "metadata": {
        "colab": {
          "base_uri": "https://localhost:8080/",
          "height": 262
        },
        "id": "aWP_TkJI1G_t",
        "outputId": "3fb01a3b-62fd-4152-ec69-0dc03906fd56"
      },
      "execution_count": 45,
      "outputs": [
        {
          "output_type": "display_data",
          "data": {
            "text/plain": [
              "<Figure size 432x288 with 1 Axes>"
            ],
            "image/png": "[encoded data removed]"
          },
          "metadata": {
            "needs_background": "light"
          }
        }
      ]
    },
    {
      "cell_type": "code",
      "source": [
        "# топ-4 гипотезы по RICE\n",
        "\n",
        "top_4_RICE = hypothesis[['hypothesis', 'RICE']]\\\n",
        "           .sort_values(by='RICE', ascending=False).index[:4]\n",
        "top_4_RICE"
      ],
      "metadata": {
        "colab": {
          "base_uri": "https://localhost:8080/"
        },
        "id": "z5CJxN0d11o0",
        "outputId": "4b2038cf-ad6b-4800-ae83-10c5be86e600"
      },
      "execution_count": 46,
      "outputs": [
        {
          "output_type": "execute_result",
          "data": {
            "text/plain": [
              "Int64Index([7, 2, 0, 6], dtype='int64')"
            ]
          },
          "metadata": {},
          "execution_count": 46
        }
      ]
    },
    {
      "cell_type": "markdown",
      "source": [
        "### Вывод по RICE\n",
        "\n",
        "По методу _RICE_ наиболее интересны гипотезы [7, 2, 0, 6]."
      ],
      "metadata": {
        "id": "5xxNlifratx0"
      }
    },
    {
      "cell_type": "markdown",
      "source": [
        "### Вывод по приоритизации гипотез по _ICE_ и _RICE_\n",
        "\n",
        "Список потенциально прибыльных гипоз по _RICE_ поменялся из-за введения параметра _Reach_. Лидер по методу _ICE_, гипотеза №8, не попала в Топ-4 по методу _RICE_.RICE более информативен, учитывает охват пользователей, ориентируемся на него. \n",
        "\n",
        "Три из четырех топовых гипотез по _ICE_ попадает в список топовых гипотез по _RICE_, обе метрики приоритизируют гипотезы на 75% одинаково. Наш финальный список выглядит так:\n",
        "\n",
        "**[7, 2, 0, 6]**\n",
        "\n",
        "Пятая гипотеза по методу _RICE_ выглядит в 2,5 раза менее интересной, ее и следующие за ней гипотезы считаем не интересными для бизнеса.\n",
        "\n"
      ],
      "metadata": {
        "id": "qEgqLW4nY3mY"
      }
    },
    {
      "cell_type": "markdown",
      "source": [
        "## Анализ A/B-теста"
      ],
      "metadata": {
        "id": "EBO4OYeacCO7"
      }
    },
    {
      "cell_type": "markdown",
      "source": [
        "### График кумулятивной выручки по группам. Сделайте выводы и предположения"
      ],
      "metadata": {
        "id": "p5wvaKnCdVvk"
      }
    },
    {
      "cell_type": "code",
      "source": [
        "# создаем массив уникальных пар значений дат и групп теста\n",
        "datesGroups = orders[['date','group']].drop_duplicates()\n",
        "\n",
        "# получаем агрегированные кумулятивные по дням данные о заказах \n",
        "ordersAggregated = datesGroups.\\\n",
        "           apply(lambda x: orders[np.logical_and(orders['date'] <= x['date'], \\\n",
        "           orders['group'] == x['group'])].\\\n",
        "           agg({'date' : 'max', 'group' : 'max', 'orderId' : 'nunique', \\\n",
        "'userId' : 'nunique', 'revenue' : 'sum'}), axis=1).sort_values(by=['date','group'])\n",
        "\n",
        "# получаем агрегированные кумулятивные по дням данные о посетителях интернет-магазина \n",
        "visitorsAggregated = datesGroups.\\\n",
        "apply(lambda x: visitors[np.logical_and(visitors['date'] <= x['date'], \\\n",
        "                                        visitors['group'] == x['group'])]\\\n",
        "      .agg({'date' : 'max', 'group' : 'max', 'visitors' : 'sum'}), axis=1)\\\n",
        "      .sort_values(by=['date','group'])\n",
        "\n",
        "# объединяем кумулятивные данные в одной таблице и присваиваем ее столбцам понятные названия\n",
        "cumulativeData = ordersAggregated\\\n",
        ".merge(visitorsAggregated, left_on=['date', 'group'], right_on=['date', 'group'])\n",
        "cumulativeData.columns = ['date', 'group', 'orders', 'buyers', 'revenue', 'visitors']\n",
        "\n",
        "print(cumulativeData.head(5))"
      ],
      "metadata": {
        "colab": {
          "base_uri": "https://localhost:8080/"
        },
        "id": "SIR1nudE4Wyk",
        "outputId": "2c626bf1-0000-4cbf-eb27-8a981207349f"
      },
      "execution_count": 47,
      "outputs": [
        {
          "output_type": "stream",
          "name": "stdout",
          "text": [
            "         date group  orders  buyers  revenue  visitors\n",
            "0  2019-08-01     A      24      20   148579       719\n",
            "1  2019-08-01     B      21      20   101217       713\n",
            "2  2019-08-02     A      44      38   242401      1338\n",
            "3  2019-08-02     B      45      43   266748      1294\n",
            "4  2019-08-03     A      68      62   354874      1845\n"
          ]
        }
      ]
    },
    {
      "cell_type": "code",
      "source": [
        "# датафрейм с кумулятивным количеством заказов и кумулятивной выручкой по дням в группе А\n",
        "cumulativeRevenueA = cumulativeData[cumulativeData['group']=='A'][['date','revenue', 'orders']]\n",
        "\n",
        "# датафрейм с кумулятивным количеством заказов и кумулятивной выручкой по дням в группе B\n",
        "cumulativeRevenueB = cumulativeData[cumulativeData['group']=='B'][['date','revenue', 'orders']]\n",
        "\n",
        "# Строим график выручки группы А\n",
        "plt.plot(cumulativeRevenueA['date'], cumulativeRevenueA['revenue'], label='A');\n",
        "\n",
        "# Строим график выручки группы B\n",
        "plt.plot(cumulativeRevenueB['date'], cumulativeRevenueB['revenue'], label='B');\n",
        "\n",
        "plt.legend();"
      ],
      "metadata": {
        "colab": {
          "base_uri": "https://localhost:8080/",
          "height": 276
        },
        "id": "Zvj9-Ai_Ghpn",
        "outputId": "fa3bc849-3d66-48ac-8414-913850619024"
      },
      "execution_count": 48,
      "outputs": [
        {
          "output_type": "display_data",
          "data": {
            "text/plain": [
              "<Figure size 432x288 with 1 Axes>"
            ],
            "image/png": "[encoded data removed]"
          },
          "metadata": {
            "needs_background": "light"
          }
        }
      ]
    },
    {
      "cell_type": "markdown",
      "source": [
        "Выручка равномерно увеличивается на протяжении всего теста. Выручка по группе В делает резкий скачок, по группе А тоже есть несколько точек роста. Это либо появление очень дорогих заказов, либо резкое увеличение количества заказов"
      ],
      "metadata": {
        "id": "mA4RDh-6Glu7"
      }
    },
    {
      "cell_type": "markdown",
      "source": [
        "### График кумулятивного среднего чека по группам"
      ],
      "metadata": {
        "id": "sEp1I6neLTZ9"
      }
    },
    {
      "cell_type": "code",
      "source": [
        "# Построим графики среднего чека по группам — \n",
        "# разделим кумулятивную выручку на кумулятивное число заказов:\n",
        "\n",
        "plt.plot(cumulativeRevenueA['date'], cumulativeRevenueA['revenue']\\\n",
        "         /cumulativeRevenueA['orders'], label='A');\n",
        "plt.plot(cumulativeRevenueB['date'], cumulativeRevenueB['revenue']\\\n",
        "         /cumulativeRevenueB['orders'], label='B');\n",
        "plt.legend();"
      ],
      "metadata": {
        "colab": {
          "base_uri": "https://localhost:8080/",
          "height": 265
        },
        "id": "-kbaUIajLXfx",
        "outputId": "fd9ce9fb-5cef-4747-f1c1-6ff23074b14c"
      },
      "execution_count": 49,
      "outputs": [
        {
          "output_type": "display_data",
          "data": {
            "text/plain": [
              "<Figure size 432x288 with 1 Axes>"
            ],
            "image/png": "[encoded data removed]"
          },
          "metadata": {
            "needs_background": "light"
          }
        }
      ]
    },
    {
      "cell_type": "markdown",
      "source": [
        "### Вывод по кумулятивному среднему чеку\n",
        "\n",
        "Средний чек группы А делает несколько резких скачков в начале теста и нормализуется с середины теста. Возможно, были крупные заказы в стартовом периоде теста.\n",
        "\n",
        "Для группы В размер среднего чека носит неравномерный характер на протяжении всего теста. Несколько взлетов и падений на старте. Резкий скачок в середине теста и падение к концу."
      ],
      "metadata": {
        "id": "zsA0Cm7QLkVK"
      }
    },
    {
      "cell_type": "markdown",
      "source": [
        "### График относительного изменения кумулятивного среднего чека группы B к группе A"
      ],
      "metadata": {
        "id": "xLhT_dg8MLut"
      }
    },
    {
      "cell_type": "code",
      "source": [
        "# собираем данные в одном датафрейме\n",
        "mergedCumulativeRevenue = cumulativeRevenueA.merge(cumulativeRevenueB, \\\n",
        "              left_on='date', right_on='date', how='left', suffixes=['A', 'B'])\n",
        "\n",
        "# cтроим отношение средних чеков\n",
        "plt.plot(mergedCumulativeRevenue['date'], (mergedCumulativeRevenue['revenueB']\\\n",
        "                                          /mergedCumulativeRevenue['ordersB'])\\\n",
        "    /(mergedCumulativeRevenue['revenueA']/mergedCumulativeRevenue['ordersA'])-1)\n",
        "\n",
        "# добавляем ось X\n",
        "plt.axhline(y=0, color='black', linestyle='--')"
      ],
      "metadata": {
        "colab": {
          "base_uri": "https://localhost:8080/",
          "height": 282
        },
        "id": "i6Ivf9p2NFfP",
        "outputId": "26b30512-0d6b-46fa-8c55-a83da62ba3df"
      },
      "execution_count": 50,
      "outputs": [
        {
          "output_type": "execute_result",
          "data": {
            "text/plain": [
              "<matplotlib.lines.Line2D at 0x7fc92b26b510>"
            ]
          },
          "metadata": {},
          "execution_count": 50
        },
        {
          "output_type": "display_data",
          "data": {
            "text/plain": [
              "<Figure size 432x288 with 1 Axes>"
            ],
            "image/png": "[encoded data removed]"
          },
          "metadata": {
            "needs_background": "light"
          }
        }
      ]
    },
    {
      "cell_type": "markdown",
      "source": [
        "В нескольких местах график делает скачки — в эти моменты различие между средними чеками групп А и В резко меняется. Возможно, в данных есть выбросы, отвечающие за резкие скачки среднего чек."
      ],
      "metadata": {
        "id": "I_1WXI64NVzo"
      }
    },
    {
      "cell_type": "markdown",
      "source": [
        "### Вывод по графику относительного изменения кумулятивного среднего чека\n",
        "\n",
        "По такому \"скачущему\" графику тяжело сделать какие-то выводы, кроме того, что в данных, скорее всего, есть аномалии."
      ],
      "metadata": {
        "id": "rbb8wlC9LVXz"
      }
    },
    {
      "cell_type": "markdown",
      "source": [
        "### График кумулятивной конверсии"
      ],
      "metadata": {
        "id": "rVeE6eKJC_Tj"
      }
    },
    {
      "cell_type": "code",
      "source": [
        "# считаем кумулятивную конверсию\n",
        "cumulativeData['conversion'] = cumulativeData['orders']/cumulativeData['visitors']\n",
        "\n",
        "# отделяем данные по группе A\n",
        "cumulativeDataA = cumulativeData[cumulativeData['group']=='A']\n",
        "\n",
        "# отделяем данные по группе B\n",
        "cumulativeDataB = cumulativeData[cumulativeData['group']=='B']\n",
        "\n",
        "# строим графики\n",
        "plt.plot(cumulativeDataA['date'], cumulativeDataA['conversion'], label='A')\n",
        "plt.plot(cumulativeDataB['date'], cumulativeDataB['conversion'], label='B')\n",
        "plt.legend()\n",
        "\n",
        "# задаем масштаб осей\n",
        "plt.axis([\"2019-08-01\", '2019-08-31', 0, 0.04])"
      ],
      "metadata": {
        "id": "izBcy_PYEYDn",
        "colab": {
          "base_uri": "https://localhost:8080/",
          "height": 286
        },
        "outputId": "233cadd4-5a0a-4435-fa73-53394c5df088"
      },
      "execution_count": 51,
      "outputs": [
        {
          "output_type": "execute_result",
          "data": {
            "text/plain": [
              "(0.0, 30.0, 0.0, 0.04)"
            ]
          },
          "metadata": {},
          "execution_count": 51
        },
        {
          "output_type": "display_data",
          "data": {
            "text/plain": [
              "<Figure size 432x288 with 1 Axes>"
            ],
            "image/png": "[encoded data removed]"
          },
          "metadata": {
            "needs_background": "light"
          }
        }
      ]
    },
    {
      "cell_type": "markdown",
      "source": [
        "Конверсия по обеим группа колебалась в первой половине теста, начиная с середины конверсия для А и В выровнялась. Конверсия для В к концу теста стабильно выше таковой для А на 0.005"
      ],
      "metadata": {
        "id": "t_dsw-vNFHGh"
      }
    },
    {
      "cell_type": "markdown",
      "source": [
        "### Вывод по графику кумулятивной конверсии\n",
        "\n",
        "Куумулятивная конверсия группы В практически с самого начала теста выше таковой по группе А."
      ],
      "metadata": {
        "id": "bQx8SCuDLsOl"
      }
    },
    {
      "cell_type": "markdown",
      "source": [
        "### График относительного изменения кумулятивной конверсии группы B к группе A"
      ],
      "metadata": {
        "id": "o9YIOoZTHqK8"
      }
    },
    {
      "cell_type": "code",
      "source": [
        "mergedCumulativeConversions = cumulativeDataA[['date','conversion']]\\\n",
        ".merge(cumulativeDataB[['date','conversion']], left_on='date', right_on='date',\\\n",
        "       how='left', suffixes=['A', 'B'])\n",
        "\n",
        "plt.plot(mergedCumulativeConversions['date'], \\\n",
        "         mergedCumulativeConversions['conversionB']\\\n",
        "         /mergedCumulativeConversions['conversionA']-1,\\\n",
        "         label=\"Относительный прирост конверсии группы B относительно группы A\")\n",
        "#plt.legend()\n",
        "\n",
        "plt.axhline(y=0, color='black', linestyle='--')\n",
        "plt.axhline(y=-0.1, color='grey', linestyle='--')\n",
        "plt.axhline(y=0.1, color='grey', linestyle='--')\n",
        "plt.axis([\"2019-08-01\", '2019-08-31', -0.15, 0.25])"
      ],
      "metadata": {
        "colab": {
          "base_uri": "https://localhost:8080/",
          "height": 286
        },
        "id": "gJuW8XyzHwd0",
        "outputId": "a8a13189-67c6-4433-f196-e8c98fe3f494"
      },
      "execution_count": 52,
      "outputs": [
        {
          "output_type": "execute_result",
          "data": {
            "text/plain": [
              "(0.0, 30.0, -0.15, 0.25)"
            ]
          },
          "metadata": {},
          "execution_count": 52
        },
        {
          "output_type": "display_data",
          "data": {
            "text/plain": [
              "<Figure size 432x288 with 1 Axes>"
            ],
            "image/png": "[encoded data removed]"
          },
          "metadata": {
            "needs_background": "light"
          }
        }
      ]
    },
    {
      "cell_type": "markdown",
      "source": [
        "В начале теста кумулятивная конверсия В \"проваливается\", но затем быстро выходит в плюс. Положительное значение прироста конверсии гр. В к таковой для гр. А остается до конца теста."
      ],
      "metadata": {
        "id": "uMDosN6QIV_X"
      }
    },
    {
      "cell_type": "markdown",
      "source": [
        "### Вывод по графику относительного изменения кумулятивной конверсии\n",
        "\n",
        "Коверсия гр. В практически с самого начала теста больше таковой для группы А на минимум 10%."
      ],
      "metadata": {
        "id": "Sbq3r9OnMzUG"
      }
    },
    {
      "cell_type": "markdown",
      "source": [
        "### Точечный график количества заказов по пользователям"
      ],
      "metadata": {
        "id": "G_NOgghJKBUn"
      }
    },
    {
      "cell_type": "code",
      "source": [
        "ordersByUsers = orders.groupby('userId', as_index=False).\\\n",
        "                  agg({'orderId':'nunique'})\n",
        "ordersByUsers.columns = ['userId', 'orders']   \n",
        "ordersByUsers.sort_values(by='orders', ascending=False).head()              "
      ],
      "metadata": {
        "colab": {
          "base_uri": "https://localhost:8080/",
          "height": 206
        },
        "id": "tNO2t2vAHFlc",
        "outputId": "0dc1cffd-4b40-4954-de21-07f24c6beb90"
      },
      "execution_count": 53,
      "outputs": [
        {
          "output_type": "execute_result",
          "data": {
            "text/plain": [
              "          userId  orders\n",
              "1023  4256040402      11\n",
              "591   2458001652      11\n",
              "569   2378935119       9\n",
              "487   2038680547       8\n",
              "44     199603092       5"
            ],
            "text/html": [
              "\n",
              "  <div id=\"df-784f6ddf-d8cf-436c-9366-0ca41e6abb0a\">\n",
              "    <div class=\"colab-df-container\">\n",
              "      <div>\n",
              "<style scoped>\n",
              "    .dataframe tbody tr th:only-of-type {\n",
              "        vertical-align: middle;\n",
              "    }\n",
              "\n",
              "    .dataframe tbody tr th {\n",
              "        vertical-align: top;\n",
              "    }\n",
              "\n",
              "    .dataframe thead th {\n",
              "        text-align: right;\n",
              "    }\n",
              "</style>\n",
              "<table border=\"1\" class=\"dataframe\">\n",
              "  <thead>\n",
              "    <tr style=\"text-align: right;\">\n",
              "      <th></th>\n",
              "      <th>userId</th>\n",
              "      <th>orders</th>\n",
              "    </tr>\n",
              "  </thead>\n",
              "  <tbody>\n",
              "    <tr>\n",
              "      <th>1023</th>\n",
              "      <td>4256040402</td>\n",
              "      <td>11</td>\n",
              "    </tr>\n",
              "    <tr>\n",
              "      <th>591</th>\n",
              "      <td>2458001652</td>\n",
              "      <td>11</td>\n",
              "    </tr>\n",
              "    <tr>\n",
              "      <th>569</th>\n",
              "      <td>2378935119</td>\n",
              "      <td>9</td>\n",
              "    </tr>\n",
              "    <tr>\n",
              "      <th>487</th>\n",
              "      <td>2038680547</td>\n",
              "      <td>8</td>\n",
              "    </tr>\n",
              "    <tr>\n",
              "      <th>44</th>\n",
              "      <td>199603092</td>\n",
              "      <td>5</td>\n",
              "    </tr>\n",
              "  </tbody>\n",
              "</table>\n",
              "</div>\n",
              "      <button class=\"colab-df-convert\" onclick=\"convertToInteractive('df-784f6ddf-d8cf-436c-9366-0ca41e6abb0a')\"\n",
              "              title=\"Convert this dataframe to an interactive table.\"\n",
              "              style=\"display:none;\">\n",
              "        \n",
              "  <svg xmlns=\"http://www.w3.org/2000/svg\" height=\"24px\"viewBox=\"0 0 24 24\"\n",
              "       width=\"24px\">\n",
              "    <path d=\"M0 0h24v24H0V0z\" fill=\"none\"/>\n",
              "    <path d=\"M18.56 5.44l.94 2.06.94-2.06 2.06-.94-2.06-.94-.94-2.06-.94 2.06-2.06.94zm-11 1L8.5 8.5l.94-2.06 2.06-.94-2.06-.94L8.5 2.5l-.94 2.06-2.06.94zm10 10l.94 2.06.94-2.06 2.06-.94-2.06-.94-.94-2.06-.94 2.06-2.06.94z\"/><path d=\"M17.41 7.96l-1.37-1.37c-.4-.4-.92-.59-1.43-.59-.52 0-1.04.2-1.43.59L10.3 9.45l-7.72 7.72c-.78.78-.78 2.05 0 2.83L4 21.41c.39.39.9.59 1.41.59.51 0 1.02-.2 1.41-.59l7.78-7.78 2.81-2.81c.8-.78.8-2.07 0-2.86zM5.41 20L4 18.59l7.72-7.72 1.47 1.35L5.41 20z\"/>\n",
              "  </svg>\n",
              "      </button>\n",
              "      \n",
              "  <style>\n",
              "    .colab-df-container {\n",
              "      display:flex;\n",
              "      flex-wrap:wrap;\n",
              "      gap: 12px;\n",
              "    }\n",
              "\n",
              "    .colab-df-convert {\n",
              "      background-color: #E8F0FE;\n",
              "      border: none;\n",
              "      border-radius: 50%;\n",
              "      cursor: pointer;\n",
              "      display: none;\n",
              "      fill: #1967D2;\n",
              "      height: 32px;\n",
              "      padding: 0 0 0 0;\n",
              "      width: 32px;\n",
              "    }\n",
              "\n",
              "    .colab-df-convert:hover {\n",
              "      background-color: #E2EBFA;\n",
              "      box-shadow: 0px 1px 2px rgba(60, 64, 67, 0.3), 0px 1px 3px 1px rgba(60, 64, 67, 0.15);\n",
              "      fill: #174EA6;\n",
              "    }\n",
              "\n",
              "    [theme=dark] .colab-df-convert {\n",
              "      background-color: #3B4455;\n",
              "      fill: #D2E3FC;\n",
              "    }\n",
              "\n",
              "    [theme=dark] .colab-df-convert:hover {\n",
              "      background-color: #434B5C;\n",
              "      box-shadow: 0px 1px 3px 1px rgba(0, 0, 0, 0.15);\n",
              "      filter: drop-shadow(0px 1px 2px rgba(0, 0, 0, 0.3));\n",
              "      fill: #FFFFFF;\n",
              "    }\n",
              "  </style>\n",
              "\n",
              "      <script>\n",
              "        const buttonEl =\n",
              "          document.querySelector('#df-784f6ddf-d8cf-436c-9366-0ca41e6abb0a button.colab-df-convert');\n",
              "        buttonEl.style.display =\n",
              "          google.colab.kernel.accessAllowed ? 'block' : 'none';\n",
              "\n",
              "        async function convertToInteractive(key) {\n",
              "          const element = document.querySelector('#df-784f6ddf-d8cf-436c-9366-0ca41e6abb0a');\n",
              "          const dataTable =\n",
              "            await google.colab.kernel.invokeFunction('convertToInteractive',\n",
              "                                                     [key], {});\n",
              "          if (!dataTable) return;\n",
              "\n",
              "          const docLinkHtml = 'Like what you see? Visit the ' +\n",
              "            '<a target=\"_blank\" href=https://colab.research.google.com/notebooks/data_table.ipynb>data table notebook</a>'\n",
              "            + ' to learn more about interactive tables.';\n",
              "          element.innerHTML = '';\n",
              "          dataTable['output_type'] = 'display_data';\n",
              "          await google.colab.output.renderOutput(dataTable, element);\n",
              "          const docLink = document.createElement('div');\n",
              "          docLink.innerHTML = docLinkHtml;\n",
              "          element.appendChild(docLink);\n",
              "        }\n",
              "      </script>\n",
              "    </div>\n",
              "  </div>\n",
              "  "
            ]
          },
          "metadata": {},
          "execution_count": 53
        }
      ]
    },
    {
      "cell_type": "code",
      "source": [
        "# построим точечный график распределения заказов по пользователям\n",
        "\n",
        "x_values = pd.Series(range(0,len(ordersByUsers)))\n",
        "\n",
        "plt.scatter(x_values, ordersByUsers['orders']);"
      ],
      "metadata": {
        "colab": {
          "base_uri": "https://localhost:8080/",
          "height": 265
        },
        "id": "jbYznD5CHyPV",
        "outputId": "954b9038-38e8-4104-f2a0-dd1e64451d65"
      },
      "execution_count": 54,
      "outputs": [
        {
          "output_type": "display_data",
          "data": {
            "text/plain": [
              "<Figure size 432x288 with 1 Axes>"
            ],
            "image/png": "[encoded data removed]"
          },
          "metadata": {
            "needs_background": "light"
          }
        }
      ]
    },
    {
      "cell_type": "code",
      "source": [
        "# всего пользователей\n",
        "\n",
        "print(f'всего {len(ordersByUsers)} пользователей')"
      ],
      "metadata": {
        "colab": {
          "base_uri": "https://localhost:8080/"
        },
        "id": "dEm_aobzML0x",
        "outputId": "cb3387e5-7f41-4ea2-8c9c-7a62d7c15438"
      },
      "execution_count": 55,
      "outputs": [
        {
          "output_type": "stream",
          "name": "stdout",
          "text": [
            "всего 1031 пользователей\n"
          ]
        }
      ]
    },
    {
      "cell_type": "code",
      "source": [
        "# сколько пользователей делают 1 заказ\n",
        "\n",
        "ordersByUsers.query('orders == 1').count()"
      ],
      "metadata": {
        "colab": {
          "base_uri": "https://localhost:8080/"
        },
        "id": "FwEuAwtANaAQ",
        "outputId": "63f79a4c-e223-43ea-eedb-0710147f17c2"
      },
      "execution_count": 56,
      "outputs": [
        {
          "output_type": "execute_result",
          "data": {
            "text/plain": [
              "userId    937\n",
              "orders    937\n",
              "dtype: int64"
            ]
          },
          "metadata": {},
          "execution_count": 56
        }
      ]
    },
    {
      "cell_type": "code",
      "source": [
        "# сколько пользователей делают 2 заказа\n",
        "\n",
        "ordersByUsers.query('orders == 2').count()"
      ],
      "metadata": {
        "colab": {
          "base_uri": "https://localhost:8080/"
        },
        "id": "-zFPTZyiMEo0",
        "outputId": "0be24825-10d9-48d9-dac6-8220aafe2483"
      },
      "execution_count": 57,
      "outputs": [
        {
          "output_type": "execute_result",
          "data": {
            "text/plain": [
              "userId    64\n",
              "orders    64\n",
              "dtype: int64"
            ]
          },
          "metadata": {},
          "execution_count": 57
        }
      ]
    },
    {
      "cell_type": "code",
      "source": [
        "# полльзователи делают один или два заказа. Посчитаем, сколько пользователей \n",
        "# превышают это количество\n",
        "\n",
        "ordersByUsers.query('orders > 2').count()"
      ],
      "metadata": {
        "colab": {
          "base_uri": "https://localhost:8080/"
        },
        "id": "P7j7vfVJIURs",
        "outputId": "cbee99ff-6dee-44ec-dd6a-e75fdfd951a3"
      },
      "execution_count": 58,
      "outputs": [
        {
          "output_type": "execute_result",
          "data": {
            "text/plain": [
              "userId    30\n",
              "orders    30\n",
              "dtype: int64"
            ]
          },
          "metadata": {},
          "execution_count": 58
        }
      ]
    },
    {
      "cell_type": "code",
      "source": [
        "# доля пользователей с 3 и более заказами\n",
        "\n",
        "len(ordersByUsers.query('orders > 2')) / len(ordersByUsers)"
      ],
      "metadata": {
        "colab": {
          "base_uri": "https://localhost:8080/"
        },
        "id": "x8TsKIxfLwfm",
        "outputId": "301dba8b-3538-47a6-9dc6-2e23f59bfa1e"
      },
      "execution_count": 59,
      "outputs": [
        {
          "output_type": "execute_result",
          "data": {
            "text/plain": [
              "0.029097963142580018"
            ]
          },
          "metadata": {},
          "execution_count": 59
        }
      ]
    },
    {
      "cell_type": "markdown",
      "source": [
        "### Вывод по заказам на пользователя\n",
        "\n",
        "В основном пользователи делают 1 заказ (90%), значительно меньше 2 заказа (6%). 3% пользователей совершают 3 и более заказов — некоторые делают по 9-11 заказов."
      ],
      "metadata": {
        "id": "ATVYujkzNGcs"
      }
    },
    {
      "cell_type": "markdown",
      "source": [
        "### Посчитайте 95-й и 99-й перцентили количества заказов на пользователя"
      ],
      "metadata": {
        "id": "A63-LkjpN7Vh"
      }
    },
    {
      "cell_type": "code",
      "source": [
        "# посчитаем выборочные перцентили количества заказов на одного пользователя\n",
        "\n",
        "print(np.percentile(ordersByUsers['orders'], [90, 95, 99]))"
      ],
      "metadata": {
        "colab": {
          "base_uri": "https://localhost:8080/"
        },
        "id": "vrFZXKWSU-Mh",
        "outputId": "28241728-7bc9-4668-f798-e3e2e822090f"
      },
      "execution_count": 60,
      "outputs": [
        {
          "output_type": "stream",
          "name": "stdout",
          "text": [
            "[1. 2. 4.]\n"
          ]
        }
      ]
    },
    {
      "cell_type": "markdown",
      "source": [
        "Не более 5% оформляли более 2 заказов, данные подтверждают наши выводы по графику. Примем 2 за границу количества заказов. Остальных пользователей с **бОльшим** количеством заказов уберем в дальнейшем как аномалии."
      ],
      "metadata": {
        "id": "1EjWGHNvVqDF"
      }
    },
    {
      "cell_type": "markdown",
      "source": [
        "### Точечный график стоимостей заказов"
      ],
      "metadata": {
        "id": "3AktF1rLWcwU"
      }
    },
    {
      "cell_type": "code",
      "source": [
        "# отсортируем датафрейм по полю revenue, посмотрим максимальные значения \n",
        "# в столбце\n",
        "\n",
        "orders.sort_values(by='revenue', ascending=False).head()"
      ],
      "metadata": {
        "colab": {
          "base_uri": "https://localhost:8080/",
          "height": 206
        },
        "id": "B_ng9P1xzLnE",
        "outputId": "93d728c4-7654-4e47-f5ee-df052aa67a3b"
      },
      "execution_count": 61,
      "outputs": [
        {
          "output_type": "execute_result",
          "data": {
            "text/plain": [
              "         orderId      userId        date  revenue group\n",
              "425    590470918  1920142716  2019-08-19  1294500     B\n",
              "1196  3936777065  2108080724  2019-08-15   202740     B\n",
              "858    192721366  1316129916  2019-08-27    93940     A\n",
              "1136   666610489  1307669133  2019-08-13    92550     A\n",
              "744   3668308183   888512513  2019-08-27    86620     B"
            ],
            "text/html": [
              "\n",
              "  <div id=\"df-75403354-d6f7-46de-b6c5-6f3ae8d79443\">\n",
              "    <div class=\"colab-df-container\">\n",
              "      <div>\n",
              "<style scoped>\n",
              "    .dataframe tbody tr th:only-of-type {\n",
              "        vertical-align: middle;\n",
              "    }\n",
              "\n",
              "    .dataframe tbody tr th {\n",
              "        vertical-align: top;\n",
              "    }\n",
              "\n",
              "    .dataframe thead th {\n",
              "        text-align: right;\n",
              "    }\n",
              "</style>\n",
              "<table border=\"1\" class=\"dataframe\">\n",
              "  <thead>\n",
              "    <tr style=\"text-align: right;\">\n",
              "      <th></th>\n",
              "      <th>orderId</th>\n",
              "      <th>userId</th>\n",
              "      <th>date</th>\n",
              "      <th>revenue</th>\n",
              "      <th>group</th>\n",
              "    </tr>\n",
              "  </thead>\n",
              "  <tbody>\n",
              "    <tr>\n",
              "      <th>425</th>\n",
              "      <td>590470918</td>\n",
              "      <td>1920142716</td>\n",
              "      <td>2019-08-19</td>\n",
              "      <td>1294500</td>\n",
              "      <td>B</td>\n",
              "    </tr>\n",
              "    <tr>\n",
              "      <th>1196</th>\n",
              "      <td>3936777065</td>\n",
              "      <td>2108080724</td>\n",
              "      <td>2019-08-15</td>\n",
              "      <td>202740</td>\n",
              "      <td>B</td>\n",
              "    </tr>\n",
              "    <tr>\n",
              "      <th>858</th>\n",
              "      <td>192721366</td>\n",
              "      <td>1316129916</td>\n",
              "      <td>2019-08-27</td>\n",
              "      <td>93940</td>\n",
              "      <td>A</td>\n",
              "    </tr>\n",
              "    <tr>\n",
              "      <th>1136</th>\n",
              "      <td>666610489</td>\n",
              "      <td>1307669133</td>\n",
              "      <td>2019-08-13</td>\n",
              "      <td>92550</td>\n",
              "      <td>A</td>\n",
              "    </tr>\n",
              "    <tr>\n",
              "      <th>744</th>\n",
              "      <td>3668308183</td>\n",
              "      <td>888512513</td>\n",
              "      <td>2019-08-27</td>\n",
              "      <td>86620</td>\n",
              "      <td>B</td>\n",
              "    </tr>\n",
              "  </tbody>\n",
              "</table>\n",
              "</div>\n",
              "      <button class=\"colab-df-convert\" onclick=\"convertToInteractive('df-75403354-d6f7-46de-b6c5-6f3ae8d79443')\"\n",
              "              title=\"Convert this dataframe to an interactive table.\"\n",
              "              style=\"display:none;\">\n",
              "        \n",
              "  <svg xmlns=\"http://www.w3.org/2000/svg\" height=\"24px\"viewBox=\"0 0 24 24\"\n",
              "       width=\"24px\">\n",
              "    <path d=\"M0 0h24v24H0V0z\" fill=\"none\"/>\n",
              "    <path d=\"M18.56 5.44l.94 2.06.94-2.06 2.06-.94-2.06-.94-.94-2.06-.94 2.06-2.06.94zm-11 1L8.5 8.5l.94-2.06 2.06-.94-2.06-.94L8.5 2.5l-.94 2.06-2.06.94zm10 10l.94 2.06.94-2.06 2.06-.94-2.06-.94-.94-2.06-.94 2.06-2.06.94z\"/><path d=\"M17.41 7.96l-1.37-1.37c-.4-.4-.92-.59-1.43-.59-.52 0-1.04.2-1.43.59L10.3 9.45l-7.72 7.72c-.78.78-.78 2.05 0 2.83L4 21.41c.39.39.9.59 1.41.59.51 0 1.02-.2 1.41-.59l7.78-7.78 2.81-2.81c.8-.78.8-2.07 0-2.86zM5.41 20L4 18.59l7.72-7.72 1.47 1.35L5.41 20z\"/>\n",
              "  </svg>\n",
              "      </button>\n",
              "      \n",
              "  <style>\n",
              "    .colab-df-container {\n",
              "      display:flex;\n",
              "      flex-wrap:wrap;\n",
              "      gap: 12px;\n",
              "    }\n",
              "\n",
              "    .colab-df-convert {\n",
              "      background-color: #E8F0FE;\n",
              "      border: none;\n",
              "      border-radius: 50%;\n",
              "      cursor: pointer;\n",
              "      display: none;\n",
              "      fill: #1967D2;\n",
              "      height: 32px;\n",
              "      padding: 0 0 0 0;\n",
              "      width: 32px;\n",
              "    }\n",
              "\n",
              "    .colab-df-convert:hover {\n",
              "      background-color: #E2EBFA;\n",
              "      box-shadow: 0px 1px 2px rgba(60, 64, 67, 0.3), 0px 1px 3px 1px rgba(60, 64, 67, 0.15);\n",
              "      fill: #174EA6;\n",
              "    }\n",
              "\n",
              "    [theme=dark] .colab-df-convert {\n",
              "      background-color: #3B4455;\n",
              "      fill: #D2E3FC;\n",
              "    }\n",
              "\n",
              "    [theme=dark] .colab-df-convert:hover {\n",
              "      background-color: #434B5C;\n",
              "      box-shadow: 0px 1px 3px 1px rgba(0, 0, 0, 0.15);\n",
              "      filter: drop-shadow(0px 1px 2px rgba(0, 0, 0, 0.3));\n",
              "      fill: #FFFFFF;\n",
              "    }\n",
              "  </style>\n",
              "\n",
              "      <script>\n",
              "        const buttonEl =\n",
              "          document.querySelector('#df-75403354-d6f7-46de-b6c5-6f3ae8d79443 button.colab-df-convert');\n",
              "        buttonEl.style.display =\n",
              "          google.colab.kernel.accessAllowed ? 'block' : 'none';\n",
              "\n",
              "        async function convertToInteractive(key) {\n",
              "          const element = document.querySelector('#df-75403354-d6f7-46de-b6c5-6f3ae8d79443');\n",
              "          const dataTable =\n",
              "            await google.colab.kernel.invokeFunction('convertToInteractive',\n",
              "                                                     [key], {});\n",
              "          if (!dataTable) return;\n",
              "\n",
              "          const docLinkHtml = 'Like what you see? Visit the ' +\n",
              "            '<a target=\"_blank\" href=https://colab.research.google.com/notebooks/data_table.ipynb>data table notebook</a>'\n",
              "            + ' to learn more about interactive tables.';\n",
              "          element.innerHTML = '';\n",
              "          dataTable['output_type'] = 'display_data';\n",
              "          await google.colab.output.renderOutput(dataTable, element);\n",
              "          const docLink = document.createElement('div');\n",
              "          docLink.innerHTML = docLinkHtml;\n",
              "          element.appendChild(docLink);\n",
              "        }\n",
              "      </script>\n",
              "    </div>\n",
              "  </div>\n",
              "  "
            ]
          },
          "metadata": {},
          "execution_count": 61
        }
      ]
    },
    {
      "cell_type": "markdown",
      "source": [
        "Был заказ на 1,3 млн, это определенно аномалия. Для сравнения посмотрим на медиану и среднее"
      ],
      "metadata": {
        "id": "OvVRjlmmz2Nw"
      }
    },
    {
      "cell_type": "code",
      "source": [
        "orders['revenue'].agg(['median', 'mean'])"
      ],
      "metadata": {
        "colab": {
          "base_uri": "https://localhost:8080/"
        },
        "id": "btcRCNAd0DQ9",
        "outputId": "2533ed54-9bd2-41e8-8056-f60cf322732a"
      },
      "execution_count": 62,
      "outputs": [
        {
          "output_type": "execute_result",
          "data": {
            "text/plain": [
              "median    2978.000000\n",
              "mean      8348.005848\n",
              "Name: revenue, dtype: float64"
            ]
          },
          "metadata": {},
          "execution_count": 62
        }
      ]
    },
    {
      "cell_type": "markdown",
      "source": [
        "Из-за аномально больших значений медиана в 2,5 раза меньше среднего. Построим элементарную гистограмму по этому полю, оценим распределение по сумма заказов"
      ],
      "metadata": {
        "id": "Gtmf9vF10WGa"
      }
    },
    {
      "cell_type": "code",
      "source": [
        "orders['revenue'].plot(kind='hist')"
      ],
      "metadata": {
        "colab": {
          "base_uri": "https://localhost:8080/",
          "height": 295
        },
        "id": "Sc293E6EzZiz",
        "outputId": "5b9161d8-3ab5-44ea-90f9-06afa538c6fc"
      },
      "execution_count": 63,
      "outputs": [
        {
          "output_type": "execute_result",
          "data": {
            "text/plain": [
              "<matplotlib.axes._subplots.AxesSubplot at 0x7fc92b216ed0>"
            ]
          },
          "metadata": {},
          "execution_count": 63
        },
        {
          "output_type": "display_data",
          "data": {
            "text/plain": [
              "<Figure size 432x288 with 1 Axes>"
            ],
            "image/png": "[encoded data removed]"
          },
          "metadata": {
            "needs_background": "light"
          }
        }
      ]
    },
    {
      "cell_type": "code",
      "source": [
        "# не очень информативно, поэтому построим точечную диаграмму\n",
        "\n",
        "x_values = pd.Series(range(0,len(orders['revenue'])))\n",
        "plt.scatter(x_values, orders['revenue']) "
      ],
      "metadata": {
        "colab": {
          "base_uri": "https://localhost:8080/",
          "height": 293
        },
        "id": "FZYT9prVyV9e",
        "outputId": "77033bea-4289-4975-c77d-e73d140979fc"
      },
      "execution_count": 65,
      "outputs": [
        {
          "output_type": "execute_result",
          "data": {
            "text/plain": [
              "<matplotlib.collections.PathCollection at 0x7fc92b557a90>"
            ]
          },
          "metadata": {},
          "execution_count": 65
        },
        {
          "output_type": "display_data",
          "data": {
            "text/plain": [
              "<Figure size 432x288 with 1 Axes>"
            ],
            "image/png": "[encoded data removed]"
          },
          "metadata": {
            "needs_background": "light"
          }
        }
      ]
    },
    {
      "cell_type": "markdown",
      "source": [
        "На скаттере хорошо видно \"великана\" в 1,3кк. Заказы в основном меньше 100.000"
      ],
      "metadata": {
        "id": "Vgf_JlK608xh"
      }
    },
    {
      "cell_type": "markdown",
      "source": [
        "### 95-й и 99-й перцентили стоимости заказов"
      ],
      "metadata": {
        "id": "aVXnpXWy1XsG"
      }
    },
    {
      "cell_type": "markdown",
      "source": [
        "Посмотрим на 90, 95 и 99 перцентили"
      ],
      "metadata": {
        "id": "DwYJDrnNanme"
      }
    },
    {
      "cell_type": "code",
      "source": [
        "np.percentile(orders['revenue'], [90, 95, 99])"
      ],
      "metadata": {
        "colab": {
          "base_uri": "https://localhost:8080/"
        },
        "id": "LLMoYkaF1dQv",
        "outputId": "6f458707-1326-412d-b56b-b9a9ab8e2de7"
      },
      "execution_count": 67,
      "outputs": [
        {
          "output_type": "execute_result",
          "data": {
            "text/plain": [
              "array([18168. , 28000. , 58233.2])"
            ]
          },
          "metadata": {},
          "execution_count": 67
        }
      ]
    },
    {
      "cell_type": "markdown",
      "source": [
        "По перцентилям видно — всего 5% заказов стоили дороже 28.000. Таких заказов 60 штук."
      ],
      "metadata": {
        "id": "vKlSOY9J1yJS"
      }
    },
    {
      "cell_type": "code",
      "source": [
        "# посмотрим на 97.5 перцентиль\n",
        "\n",
        "np.percentile(orders['revenue'], [90, 95, 97.5])"
      ],
      "metadata": {
        "colab": {
          "base_uri": "https://localhost:8080/"
        },
        "id": "j3k1nX-Sdgsc",
        "outputId": "9fa607e4-2222-4dbb-e740-4f5189e3e72d"
      },
      "execution_count": 68,
      "outputs": [
        {
          "output_type": "execute_result",
          "data": {
            "text/plain": [
              "array([18168., 28000., 39530.])"
            ]
          },
          "metadata": {},
          "execution_count": 68
        }
      ]
    },
    {
      "cell_type": "markdown",
      "source": [
        "2,5% заказов дороже 39.530, таких заказов 30 штук. Их мы в дальнейшем и будем считать аномальными.\n",
        "\n",
        "_Делать срез по 95 перцентилю считаю слишком большой потерей данных. Заказы на скаттере лежат плотно, убираем лишь аномально большие 30 заказов, с остальным работаем._"
      ],
      "metadata": {
        "id": "995LgYiPds1y"
      }
    },
    {
      "cell_type": "markdown",
      "source": [
        "### Статистическая значимость различий в конверсии между группами по «сырым» данным"
      ],
      "metadata": {
        "id": "yoFFmAmz2_f3"
      }
    },
    {
      "cell_type": "markdown",
      "source": [
        "Посчитаем статистическую значимость различий в конверсии между группами по «сырым» данным — без удаления аномальных пользователей.\n",
        "\n",
        "Сформулируем гипотезы. Нулевая: различий в конверсии между группами нет. Альтернативная: различия в конверсии между группами есть. \n",
        "\n",
        "Уровень статистической значимости зададим 0.05\n",
        "\n",
        "Подготовим данные."
      ],
      "metadata": {
        "id": "Pjw8gqfA3ECy"
      }
    },
    {
      "cell_type": "code",
      "source": [
        "visitors['date'] = visitors['date'].map(\n",
        "                   lambda x: dt.datetime.strptime(x, '%Y-%m-%d'))\n",
        "orders['date'] = orders['date'].map(\n",
        "    lambda x: dt.datetime.strptime(x, '%Y-%m-%d'))\n",
        "\n",
        "visitorsADaily = visitors[visitors['group'] == 'A'][['date', 'visitors']]\n",
        "visitorsADaily.columns = ['date', 'visitorsPerDateA']\n",
        "\n",
        "visitorsACummulative = visitorsADaily.apply(\n",
        "    lambda x: visitorsADaily[visitorsADaily['date'] <= x['date']].agg(\n",
        "        {'date': 'max', 'visitorsPerDateA': 'sum'}\n",
        "    ),\n",
        "    axis=1,\n",
        ")\n",
        "visitorsACummulative.columns = ['date', 'visitorsCummulativeA']\n",
        "\n",
        "visitorsBDaily = visitors[visitors['group'] == 'B'][['date', 'visitors']]\n",
        "visitorsBDaily.columns = ['date', 'visitorsPerDateB']\n",
        "\n",
        "visitorsBCummulative = visitorsBDaily.apply(\n",
        "    lambda x: visitorsBDaily[visitorsBDaily['date'] <= x['date']].agg(\n",
        "        {'date': 'max', 'visitorsPerDateB': 'sum'}\n",
        "    ),\n",
        "    axis=1,\n",
        ")\n",
        "visitorsBCummulative.columns = ['date', 'visitorsCummulativeB']\n",
        "\n",
        "ordersADaily = (\n",
        "    orders[orders['group'] == 'A'][['date', 'orderId', 'userId', 'revenue']]\n",
        "    .groupby('date', as_index=False)\n",
        "    .agg({'orderId': pd.Series.nunique, 'revenue': 'sum'})\n",
        ")\n",
        "ordersADaily.columns = ['date', 'ordersPerDateA', 'revenuePerDateA']\n",
        "\n",
        "ordersACummulative = ordersADaily.apply(\n",
        "    lambda x: ordersADaily[ordersADaily['date'] <= x['date']].agg(\n",
        "        {'date': 'max', 'ordersPerDateA': 'sum', 'revenuePerDateA': 'sum'}\n",
        "    ),\n",
        "    axis=1,\n",
        ").sort_values(by=['date'])\n",
        "ordersACummulative.columns = [\n",
        "    'date',\n",
        "    'ordersCummulativeA',\n",
        "    'revenueCummulativeA',\n",
        "]\n",
        "\n",
        "ordersBDaily = (\n",
        "    orders[orders['group'] == 'B'][['date', 'orderId', 'userId', 'revenue']]\n",
        "    .groupby('date', as_index=False)\n",
        "    .agg({'orderId': pd.Series.nunique, 'revenue': 'sum'})\n",
        ")\n",
        "ordersBDaily.columns = ['date', 'ordersPerDateB', 'revenuePerDateB']\n",
        "\n",
        "ordersBCummulative = ordersBDaily.apply(\n",
        "    lambda x: ordersBDaily[ordersBDaily['date'] <= x['date']].agg(\n",
        "        {'date': 'max', 'ordersPerDateB': 'sum', 'revenuePerDateB': 'sum'}\n",
        "    ),\n",
        "    axis=1,\n",
        ").sort_values(by=['date'])\n",
        "ordersBCummulative.columns = [\n",
        "    'date',\n",
        "    'ordersCummulativeB',\n",
        "    'revenueCummulativeB',\n",
        "]\n",
        "\n",
        "data = (\n",
        "    ordersADaily.merge(\n",
        "        ordersBDaily, left_on='date', right_on='date', how='left'\n",
        "    )\n",
        "    .merge(ordersACummulative, left_on='date', right_on='date', how='left')\n",
        "    .merge(ordersBCummulative, left_on='date', right_on='date', how='left')\n",
        "    .merge(visitorsADaily, left_on='date', right_on='date', how='left')\n",
        "    .merge(visitorsBDaily, left_on='date', right_on='date', how='left')\n",
        "    .merge(visitorsACummulative, left_on='date', right_on='date', how='left')\n",
        "    .merge(visitorsBCummulative, left_on='date', right_on='date', how='left')\n",
        ")\n",
        "\n",
        "print(data.head(5)) "
      ],
      "metadata": {
        "colab": {
          "base_uri": "https://localhost:8080/"
        },
        "id": "FcBznxmH34o2",
        "outputId": "9ec73e10-0a13-4d67-e55e-73c35bc34b18"
      },
      "execution_count": 69,
      "outputs": [
        {
          "output_type": "stream",
          "name": "stdout",
          "text": [
            "        date  ordersPerDateA  revenuePerDateA  ordersPerDateB  \\\n",
            "0 2019-08-01              24           148579              21   \n",
            "1 2019-08-02              20            93822              24   \n",
            "2 2019-08-03              24           112473              16   \n",
            "3 2019-08-04              16            70825              17   \n",
            "4 2019-08-05              25           124218              23   \n",
            "\n",
            "   revenuePerDateB  ordersCummulativeA  ...  ordersCummulativeB  \\\n",
            "0           101217                  24  ...                  21   \n",
            "1           165531                  44  ...                  45   \n",
            "2           114248                  68  ...                  61   \n",
            "3           108571                  84  ...                  78   \n",
            "4            92428                 109  ...                 101   \n",
            "\n",
            "   revenueCummulativeB  visitorsPerDateA  visitorsPerDateB  \\\n",
            "0               101217               719               713   \n",
            "1               266748               619               581   \n",
            "2               380996               507               509   \n",
            "3               489567               717               770   \n",
            "4               581995               756               707   \n",
            "\n",
            "   visitorsCummulativeA  visitorsCummulativeB  \n",
            "0                   719                   713  \n",
            "1                  1338                  1294  \n",
            "2                  1845                  1803  \n",
            "3                  2562                  2573  \n",
            "4                  3318                  3280  \n",
            "\n",
            "[5 rows x 13 columns]\n"
          ]
        }
      ]
    },
    {
      "cell_type": "markdown",
      "source": [
        "Посчитаем статистическую значимость различия в конверсии между группами. Создадим переменные _ordersByUsersA_ и _ordersByUsersB_ со столбцами ['userId', 'orders']. В них для пользователей, которые заказывали хотя бы 1 раз, укажем число совершённых заказов"
      ],
      "metadata": {
        "id": "1kTBIvhT4xD9"
      }
    },
    {
      "cell_type": "code",
      "source": [
        "ordersByUsersA = (\n",
        "    orders[orders['group'] == 'A']\n",
        "    .groupby('userId', as_index=False)\n",
        "    .agg({'orderId': pd.Series.nunique})\n",
        ")\n",
        "ordersByUsersA.columns = ['userId', 'orders']\n",
        "\n",
        "ordersByUsersB = (\n",
        "    orders[orders['group'] == 'B']\n",
        "    .groupby('userId', as_index=False)\n",
        "    .agg({'orderId': pd.Series.nunique})\n",
        ")\n",
        "ordersByUsersB.columns = ['userId', 'orders']"
      ],
      "metadata": {
        "id": "h3YgMNc0N292"
      },
      "execution_count": 70,
      "outputs": []
    },
    {
      "cell_type": "markdown",
      "source": [
        "Объявим переменные _sampleA_ и *sampleB*, в которых пользователям из разных групп будет соответствовать количество заказов. Тем, кто ничего не заказал, будут соответствовать нули. Это нужно, чтобы подготовить выборки к проверке критерием Манна-Уитни."
      ],
      "metadata": {
        "id": "G7LTKzfOSY95"
      }
    },
    {
      "cell_type": "code",
      "source": [
        "sampleA = pd.concat([ordersByUsersA['orders'],\\\n",
        "          pd.Series(0, index=np.arange(data['visitorsPerDateA']\\\n",
        "          .sum() - len(ordersByUsersA['orders'])), name='orders')],axis=0)\n",
        "\n",
        "sampleB = pd.concat([ordersByUsersB['orders'],\\\n",
        "          pd.Series(0, index=np.arange(data['visitorsPerDateB']\\\n",
        "          .sum() - len(ordersByUsersB['orders'])), name='orders')],axis=0)"
      ],
      "metadata": {
        "id": "EyuE5uGxSoBJ"
      },
      "execution_count": 71,
      "outputs": []
    },
    {
      "cell_type": "code",
      "source": [
        "print(\"{0:.3f}\".format(stats.mannwhitneyu(sampleA, sampleB)[1]))"
      ],
      "metadata": {
        "colab": {
          "base_uri": "https://localhost:8080/"
        },
        "id": "OqW2QlikTZWd",
        "outputId": "c4fdefc6-f66f-43b6-c5a7-f104295386e7"
      },
      "execution_count": 72,
      "outputs": [
        {
          "output_type": "stream",
          "name": "stdout",
          "text": [
            "0.008\n"
          ]
        }
      ]
    },
    {
      "cell_type": "markdown",
      "source": [
        "P-value меньше уровня значимости 0.05. Отвергаем нулевую гипотезу и считаем, что между конверсиям по группам А и В есть статистически значимая разница."
      ],
      "metadata": {
        "id": "gYAID_-MTvKX"
      }
    },
    {
      "cell_type": "markdown",
      "source": [
        "Выведем относительный прирост конверсии группы B = конверсия группы B / (конверсия группы A - 1)"
      ],
      "metadata": {
        "id": "yqhLD8dPVQFx"
      }
    },
    {
      "cell_type": "code",
      "source": [
        "print(\"{0:.3f}\".format(sampleB.mean() / sampleA.mean() - 1))"
      ],
      "metadata": {
        "colab": {
          "base_uri": "https://localhost:8080/"
        },
        "id": "GBj5G8fzV0Nu",
        "outputId": "fb9eeebc-ea78-4ed6-ff06-edf7e7ccda99"
      },
      "execution_count": 73,
      "outputs": [
        {
          "output_type": "stream",
          "name": "stdout",
          "text": [
            "0.138\n"
          ]
        }
      ]
    },
    {
      "cell_type": "markdown",
      "source": [
        "Прирост конверсия по группе В составил 13.8%"
      ],
      "metadata": {
        "id": "X5E5rxLmWNz9"
      }
    },
    {
      "cell_type": "markdown",
      "source": [
        "### Статистическая значимость различий в среднем чеке заказа между группами по «сырым» данным"
      ],
      "metadata": {
        "id": "IJP5XRtaWrf3"
      }
    },
    {
      "cell_type": "markdown",
      "source": [
        "Нулевая гипотеза: различий в среднем чеке между группами нет. Альтернативная гипотеза: различия в среднем чеке между группами есть.\n",
        "\n",
        "Чтобы рассчитать статистическую значимость различий в среднем чеке, передадим критерию _mannwhitneyu()_ данные о выручке с заказов."
      ],
      "metadata": {
        "id": "Dho2ldZFWyac"
      }
    },
    {
      "cell_type": "code",
      "source": [
        "print('{0:.3f}'.format(stats.mannwhitneyu(orders[orders['group']=='A']\\\n",
        "                  ['revenue'], orders[orders['group']=='B']['revenue'])[1]))"
      ],
      "metadata": {
        "colab": {
          "base_uri": "https://localhost:8080/"
        },
        "id": "DSe7p4igXS_h",
        "outputId": "835edba1-72ca-420b-bdb2-692946b7cdba"
      },
      "execution_count": 47,
      "outputs": [
        {
          "output_type": "stream",
          "name": "stdout",
          "text": [
            "0.365\n"
          ]
        }
      ]
    },
    {
      "cell_type": "markdown",
      "source": [
        "P-value больше уровня значимости, нулевую гипотезу не отвергаем, статистически значимой разницы между средними чеками нет"
      ],
      "metadata": {
        "id": "UrcMJypwYSWd"
      }
    },
    {
      "cell_type": "markdown",
      "source": [
        "Посмотрим на относительное изменение по среднему чеку"
      ],
      "metadata": {
        "id": "V_V3SFUpYPeO"
      }
    },
    {
      "cell_type": "code",
      "source": [
        "print('{0:.3f}'.format(orders[orders['group']=='B']['revenue']\\\n",
        "                      .mean()/orders[orders['group']=='A']['revenue'].mean()-1))"
      ],
      "metadata": {
        "colab": {
          "base_uri": "https://localhost:8080/"
        },
        "id": "HnKHY58CYHm8",
        "outputId": "512378f8-0dbb-4a04-a445-8bcd408ae7bf"
      },
      "execution_count": 48,
      "outputs": [
        {
          "output_type": "stream",
          "name": "stdout",
          "text": [
            "0.259\n"
          ]
        }
      ]
    },
    {
      "cell_type": "markdown",
      "source": [
        "Средний чек группы В на 25% больше чека группы А"
      ],
      "metadata": {
        "id": "m0SEk4miZg98"
      }
    },
    {
      "cell_type": "markdown",
      "source": [
        "### Вывод по статистической значимости в \"сырых\" данных\n",
        "\n",
        "При работе с \"сырыми\" данными между конверсиями тестируемых групп А и В есть статистически значимая разница. Между средними чеками такой разницы нет."
      ],
      "metadata": {
        "id": "hfBmuYaobKJE"
      }
    },
    {
      "cell_type": "markdown",
      "source": [
        "### Статистическая значимость различий в конверсии между группами по «очищенным» данным"
      ],
      "metadata": {
        "id": "_cjun6mQacJj"
      }
    },
    {
      "cell_type": "markdown",
      "source": [
        "Примем за аномальных пользователей с количеством заказов больше 2 и совершивших заказы дороже 39.530. Мы потеряем 5% пользователей с количеством заказов больше 2 и пользователей, сделавших заказы на суммы, большие 39.530. Аномальных пользователей объеденим в переменную \n",
        "_abnormalUsers_.\n",
        "\n",
        "Выведем первые строки этой переменной и черех аргумент [0] метода .shape() посмотрим, сколько таких пользователей. \n",
        "\n"
      ],
      "metadata": {
        "id": "BkKn-G0ia6_X"
      }
    },
    {
      "cell_type": "code",
      "source": [
        "usersWithManyOrders = pd.concat(\n",
        "    [\n",
        "        ordersByUsersA[ordersByUsersA['orders'] > 2]['userId'],\n",
        "        ordersByUsersB[ordersByUsersB['orders'] > 2]['userId'],\n",
        "    ],\n",
        "    axis=0,\n",
        ")\n",
        "usersWithExpensiveOrders = orders[orders['revenue'] > 39530]['userId']\n",
        "abnormalUsers = (\n",
        "    pd.concat([usersWithManyOrders, usersWithExpensiveOrders], axis=0)\n",
        "    .drop_duplicates()\n",
        "    .sort_values()\n",
        ")\n",
        "print(abnormalUsers.head(5))\n",
        "print(abnormalUsers.shape[0])"
      ],
      "metadata": {
        "colab": {
          "base_uri": "https://localhost:8080/"
        },
        "id": "Q7d2KAkwcHir",
        "outputId": "73b3caf5-505e-4ba3-f16e-705859849b8a"
      },
      "execution_count": 49,
      "outputs": [
        {
          "output_type": "stream",
          "name": "stdout",
          "text": [
            "1099    148427295\n",
            "18      199603092\n",
            "23      237748145\n",
            "37      249864742\n",
            "684     358944393\n",
            "Name: userId, dtype: int64\n",
            "46\n"
          ]
        }
      ]
    },
    {
      "cell_type": "code",
      "source": [
        "print(f'всего удалим {abnormalUsers.shape[0] / len(ordersByUsers):} пользователей')"
      ],
      "metadata": {
        "colab": {
          "base_uri": "https://localhost:8080/"
        },
        "id": "7GcDw8BncqqF",
        "outputId": "26316e91-aa3a-46d7-9c70-f965a6972abc"
      },
      "execution_count": 50,
      "outputs": [
        {
          "output_type": "stream",
          "name": "stdout",
          "text": [
            "всего удалим 0.0446168768186227 пользователей\n"
          ]
        }
      ]
    },
    {
      "cell_type": "markdown",
      "source": [
        "Потери менее 5% пользователей, приемлимо"
      ],
      "metadata": {
        "id": "ipc_HqSt9uJv"
      }
    },
    {
      "cell_type": "markdown",
      "source": [
        "Узнаем, как их действия повлияли на результаты теста. Посчитаем статистическую значимость различий в конверсии между группами теста по очищенным данным. Сначала подготовим выборки количества заказов по пользователям по группам теста:"
      ],
      "metadata": {
        "id": "CUv4svDb-4p-"
      }
    },
    {
      "cell_type": "code",
      "source": [
        " sampleAFiltered = pd.concat(\n",
        "    [\n",
        "        ordersByUsersA[\n",
        "            np.logical_not(ordersByUsersA['userId'].isin(abnormalUsers))\n",
        "        ]['orders'],\n",
        "        pd.Series(\n",
        "            0,\n",
        "            index=np.arange(\n",
        "                data['visitorsPerDateA'].sum() - len(ordersByUsersA['orders'])\n",
        "            ),\n",
        "            name='orders',\n",
        "        ),\n",
        "    ],\n",
        "    axis=0,\n",
        ")\n",
        "\n",
        "sampleBFiltered = pd.concat(\n",
        "    [\n",
        "        ordersByUsersB[\n",
        "            np.logical_not(ordersByUsersB['userId'].isin(abnormalUsers))\n",
        "        ]['orders'],\n",
        "        pd.Series(\n",
        "            0,\n",
        "            index=np.arange(\n",
        "                data['visitorsPerDateB'].sum() - len(ordersByUsersB['orders'])\n",
        "            ),\n",
        "            name='orders',\n",
        "        ),\n",
        "    ],\n",
        "    axis=0,\n",
        ")"
      ],
      "metadata": {
        "id": "mgaGhIYN-3nP"
      },
      "execution_count": 51,
      "outputs": []
    },
    {
      "cell_type": "markdown",
      "source": [
        "Применим статистический критерий Манна-Уитни к полученным выборкам. Сразу посчитаем относительное изменение конверсии."
      ],
      "metadata": {
        "id": "7LQ2zL7PBU4J"
      }
    },
    {
      "cell_type": "code",
      "source": [
        "print('{0:.3f}'.format(stats.mannwhitneyu(sampleAFiltered, sampleBFiltered)[1]))\n",
        "print('{0:.3f}'.format(sampleBFiltered.mean()/sampleAFiltered.mean()-1))"
      ],
      "metadata": {
        "colab": {
          "base_uri": "https://localhost:8080/"
        },
        "id": "lZVetUBtBWtj",
        "outputId": "2b4040ef-2ba6-4e05-da92-45b1cb23181d"
      },
      "execution_count": 52,
      "outputs": [
        {
          "output_type": "stream",
          "name": "stdout",
          "text": [
            "0.003\n",
            "0.188\n"
          ]
        }
      ]
    },
    {
      "cell_type": "code",
      "source": [
        "# сравним с неочищенными данными\n",
        "\n",
        "print(\"{0:.3f}\".format(stats.mannwhitneyu(sampleA, sampleB)[1]))\n",
        "print(\"{0:.3f}\".format(sampleB.mean() / sampleA.mean() - 1))"
      ],
      "metadata": {
        "colab": {
          "base_uri": "https://localhost:8080/"
        },
        "id": "Ecb81SkUBpWb",
        "outputId": "572d6228-89aa-4927-cc4a-df3360117747"
      },
      "execution_count": 53,
      "outputs": [
        {
          "output_type": "stream",
          "name": "stdout",
          "text": [
            "0.008\n",
            "0.138\n"
          ]
        }
      ]
    },
    {
      "cell_type": "markdown",
      "source": [
        "P-value стал еще меньше, еще дальше от уровня статистической значимости, нулевую гипотезу так же уверенно отвергаем. После фильтрации можем уверенно говорить, что между конверсие по группе А и группе В есть статистически значимая разница.\n",
        "\n",
        "Фильтрация аномалий уменьшила относительную прирост конверсии в группе В к группе А. Тем не менее, конверсия в гр. В больше на ощутимые 13.8%."
      ],
      "metadata": {
        "id": "R-P6kaFWCHo6"
      }
    },
    {
      "cell_type": "markdown",
      "source": [
        "### Статистическая значимость различий в среднем чеке заказа между группами по «очищенным» данным"
      ],
      "metadata": {
        "id": "q5ealALGC5YQ"
      }
    },
    {
      "cell_type": "markdown",
      "source": [
        "Результаты по конверсии практически не изменились, проверим средний чек"
      ],
      "metadata": {
        "id": "uWGnSOsXsv2q"
      }
    },
    {
      "cell_type": "code",
      "source": [
        "print(\n",
        "    '{0:.3f}'.format(\n",
        "        stats.mannwhitneyu(\n",
        "            orders[\n",
        "                np.logical_and(\n",
        "                    orders['group'] == 'A',\n",
        "                    np.logical_not(orders['userId'].isin(abnormalUsers)),\n",
        "                )\n",
        "            ]['revenue'],\n",
        "            orders[\n",
        "                np.logical_and(\n",
        "                    orders['group'] == 'B',\n",
        "                    np.logical_not(orders['userId'].isin(abnormalUsers)),\n",
        "                )\n",
        "            ]['revenue'],\n",
        "        )[1]\n",
        "    )\n",
        ")\n",
        "\n",
        "print(\n",
        "    \"{0:.3f}\".format(\n",
        "        orders[\n",
        "            np.logical_and(\n",
        "                orders['group'] == 'B',\n",
        "                np.logical_not(orders['userId'].isin(abnormalUsers)),\n",
        "            )\n",
        "        ]['revenue'].mean()\n",
        "        / orders[\n",
        "            np.logical_and(\n",
        "                orders['group'] == 'A',\n",
        "                np.logical_not(orders['userId'].isin(abnormalUsers)),\n",
        "            )\n",
        "        ]['revenue'].mean()\n",
        "        - 1\n",
        "    )\n",
        ")"
      ],
      "metadata": {
        "colab": {
          "base_uri": "https://localhost:8080/"
        },
        "id": "JagWadhts6nm",
        "outputId": "b3c1a04d-990d-4388-d39c-3603d45bb0f9"
      },
      "execution_count": 54,
      "outputs": [
        {
          "output_type": "stream",
          "name": "stdout",
          "text": [
            "0.464\n",
            "0.068\n"
          ]
        }
      ]
    },
    {
      "cell_type": "code",
      "source": [
        "# вспомним \"сырые\" данные\n",
        "\n",
        "print('{0:.3f}'.format(stats.mannwhitneyu(orders[orders['group']=='A']\\\n",
        "                  ['revenue'], orders[orders['group']=='B']['revenue'])[1]))\n",
        "print('{0:.3f}'.format(orders[orders['group']=='B']['revenue']\\\n",
        "                      .mean()/orders[orders['group']=='A']['revenue'].mean()-1))\n"
      ],
      "metadata": {
        "colab": {
          "base_uri": "https://localhost:8080/"
        },
        "id": "vPK9iP7-tzYo",
        "outputId": "ecf18fc4-18c5-4ba4-bd03-bd15c1575283"
      },
      "execution_count": 55,
      "outputs": [
        {
          "output_type": "stream",
          "name": "stdout",
          "text": [
            "0.365\n",
            "0.259\n"
          ]
        }
      ]
    },
    {
      "cell_type": "markdown",
      "source": [
        "Значение P-value принципиально не изменилось, оно все еще больше уровня статистической значимости. По очищенным данным нулевую гипотезу не отвергаем, статистически значимой разницы между средним чеком гр. А и гр. В нет.\n",
        "\n",
        "По очищенным данным относительное изменение среднего чего гр. В к среднему чеку гр. А составляет положительные 6.8%."
      ],
      "metadata": {
        "id": "k6ZIps92t51M"
      }
    },
    {
      "cell_type": "markdown",
      "source": [
        "### Вывод по статистически значимой разнице по конверсии и среднему чеку в очищенных данных\n",
        "\n",
        "Результат принципиально не отличается от такового в \"сырых\" данных. Поменялось количественное значение P-value в меньшую сторону для конверсии, т.е. гипотезу о равенстве конверсий отвергаем.\n",
        "\n",
        "P-value для среднего чека больше для очищенных данных, нулевую гипотезу о равенстве также принимаем."
      ],
      "metadata": {
        "id": "7FAla6M5b1YW"
      }
    },
    {
      "cell_type": "markdown",
      "source": [
        "## Решение по результатам теста и объясните его"
      ],
      "metadata": {
        "id": "UyGecbbLuj55"
      }
    },
    {
      "cell_type": "markdown",
      "source": [
        "После анализа результатов А/В-тестов имеем следующие факты:\n",
        "\n",
        "1. Между конверсией гр. А и гр. В есть статистически значимая разница по \"сырым\" и очищенным данным\n",
        "2. Конверсия группы В стабильно лучше таковой в группе А\n",
        "3. Средний чек в начале теста был лучше в гр. В. Средний чек к середине теста стал больше в гр. А. К концу теста средний чек был на 30% больше в гр. В. Главное — положительная динамика среднего чека в пользу гр. В с середины теста\n",
        "4. На графике кумулятивной конверсии гр. В стабильно лучше гр. А. На графике относительного изменения кумулятивной конверсии значение стабильно находится в плюсовом значении.\n",
        "\n",
        "**На основании этих данных можно принять решение:\n",
        "Признать тест успешным. Зафиксирована победа группы В.**"
      ],
      "metadata": {
        "id": "WjdqrFVua7oY"
      }
    },
    {
      "cell_type": "markdown",
      "source": [
        "## Общий вывод\n",
        "\n",
        "Нам попались чистые, хорошие данные. Потребовались минимальные корректировки в них, смена регистров в столбцах. Никаких пропусков, никаких дубликатов.\n",
        "\n",
        "Единственное, с чем столкнулись — аномально большое количество заказов у некоторых пользователей и аномально большие суммы заказов. Таких пользователей мы исключили в отфильтрованных данных. Потери составили менее 5% данных.\n",
        "\n",
        "Провели приоритезацию гипотез методами ICE и RICE. Данные по обоим методам почти совпали, предпочтение отдали выборке по методу RICE из-за учета охвата в этой метрике. Список потенциально прибыльных гипотез:\n",
        "1. Добавить форму подписки на все основные страницы, чтобы собрать базу клиентов для email-рассылок\n",
        "2. Добавить блоки рекомендаций товаров на сайт интернет магазина, чтобы повысить конверсию и средний чек заказа\n",
        "3. Добавить два новых канала привлечения трафика, что позволит привлекать на 30% больше пользователей\n",
        "4. Показать на главной странице баннеры с актуальными акциями и распродажами, чтобы увеличить конверсию\n",
        "\n",
        "Провели анализ А/В-тестирования. Обнаружили, что:\n",
        "1. Между конверсией гр. А и гр. В есть статистически значимая разница по \"сырым\" и очищенным данным\n",
        "2. Конверсия группы В стабильно лучше таковой в группе А\n",
        "3. Средний чек в начале теста был лучше в гр. В. Средний чек к середине теста стал больше в гр. А. К концу теста средний чек был на 30% больше в гр. В. Главное — положительная динамика среднего чека в пользу гр. В с середины теста\n",
        "4. На графике кумулятивной конверсии гр. В стабильно лучше гр. А. На графике относительного изменения кумулятивной конверсии значение стабильно находится в плюсовом значении.\n",
        "\n",
        "**По итогам этих выводов признаем тест успешным и определяем победителем группу В**."
      ],
      "metadata": {
        "id": "j371jlbOWNaL"
      }
    }
  ]
}