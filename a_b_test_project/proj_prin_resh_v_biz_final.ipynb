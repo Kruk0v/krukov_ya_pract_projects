{
 "cells": [
  {
   "cell_type": "markdown",
   "metadata": {},
   "source": [
    "Привет Юрий :) Меня зовут Семенюк Артём, я буду проверять твой проект. Предлагаю общаться на \"ты\",\n",
    "если так не очень комфортно, то перейдём на \"Вы\". \n",
    "Несколько слов о ревью. Оно может содержать 3 типа комментариев, различающихся цветом:\n",
    "\n",
    "<div class=\"alert alert-success\">\n",
    "✅Зелёный: хорошие решения и верные выводы, которые могут быть применены в будущем, интересные подходы\n",
    "</div>\n",
    "\n",
    "\n",
    "<div class=\"alert alert-warning\">\n",
    "⚠️Жёлтый: не критические замечания тех моментов, которые можно реализовать по-другому или оптимировать (исправлять их сейчас не обязательно, но стоит прокомментировать) \n",
    "</div>\n",
    "\n",
    "\n",
    "<div class=\"alert alert-danger\">\n",
    "❌Красный: аспекты заданий, требующие твоего непосредственного внимания (при их исправлении\n",
    "проект будет принят)\n",
    "</div>\n",
    "\n",
    "\n",
    "Предлагаю работать над проектом в диалоге. Если что-то меняешь в проекте следуя моим рекомендациям, то\n",
    "выделяй, пожалуйста, свои комментарии, отличным от моих цветом. И так же большая просьба\n",
    "не изменять и не удалять мои комментарии. Так будет проще отслеживать изменения в проекте\n",
    "и это ускорит повторную проверку :)"
   ]
  },
  {
   "cell_type": "markdown",
   "metadata": {},
   "source": [
    "<div class=\"alert alert-info\" role=\"alert\">\n",
    "  Артём, привет! Спасибо за работу, сейчас поправлю все ошибки!\n",
    "</div>"
   ]
  },
  {
   "cell_type": "markdown",
   "metadata": {
    "id": "kAHCGL0-kdzb"
   },
   "source": [
    "# Проект \"А/В-тесты\""
   ]
  },
  {
   "cell_type": "markdown",
   "metadata": {
    "id": "AB2ddxzPpzjj"
   },
   "source": [
    "_для локальной работы_\n",
    "\n",
    "https://drive.google.com/file/d/1Hskt8ns_2uaWjBHujSDsn5aLBKrchWBk/view?usp=sharing\n",
    "\n",
    "https://drive.google.com/file/d/1pmp-AjnUMO2yfdbnxTXzSGPOgVGo3ZpM/view?usp=sharing\n",
    "\n",
    "https://drive.google.com/file/d/1WwPmms3mOMzIUM8DLTAtxysyW9G4nNRi/view?usp=sharing"
   ]
  },
  {
   "cell_type": "markdown",
   "metadata": {
    "id": "LJ5FGv_4j6-i"
   },
   "source": [
    "## Введение\n",
    "\n",
    "Наш интернет-магазин приготовил список гипотез для для увеличения выручки. Нам предоставили файл с гипотезами и два файла с данными о покупках и визитах, разбитые на группы А и В.\n",
    "\n",
    "Задачи исследования — приоритизировать гипотезы, проанализировать результат А/В-теста."
   ]
  },
  {
   "cell_type": "markdown",
   "metadata": {
    "id": "ICg6szVtq3Y1"
   },
   "source": [
    "## Импорт библиотек"
   ]
  },
  {
   "cell_type": "code",
   "execution_count": 1,
   "metadata": {
    "id": "blD_1-mvqNRg"
   },
   "outputs": [],
   "source": [
    "# импортируем библиотеки numpy, pandas и модуль scipy.stats библиотеки scipy\n",
    "import numpy as np\n",
    "import pandas as pd\n",
    "import scipy.stats as stats\n",
    "\n",
    "# импортируем библиотеку datetime для работы с датами\n",
    "import datetime as dt\n",
    "from datetime import datetime, date\n",
    "from datetime import timedelta\n",
    "\n",
    "# Задаем некоторые опции библиотеки pandas, которые\n",
    "# настраивают вывод\n",
    "pd.set_option('display.max_columns', 12)\n",
    "pd.set_option('display.max_rows', 12)\n",
    "pd.options.display.max_colwidth = 100\n",
    "\n",
    "# импортируем matplotlib для построения графиков\n",
    "import matplotlib.pyplot as plt\n",
    "%matplotlib inline"
   ]
  },
  {
   "cell_type": "markdown",
   "metadata": {
    "id": "ZIQzXXWZq89X"
   },
   "source": [
    "## Загрузка данных и знакомство с ними"
   ]
  },
  {
   "cell_type": "code",
   "execution_count": 2,
   "metadata": {
    "colab": {
     "base_uri": "https://localhost:8080/"
    },
    "id": "tnpaGcvxqU_l",
    "outputId": "43d4e509-81f3-4b6b-fd07-746ea5e6aaae"
   },
   "outputs": [
    {
     "data": {
      "text/plain": [
       "'! gdown --id 1Hskt8ns_2uaWjBHujSDsn5aLBKrchWBk\\n! gdown --id 1pmp-AjnUMO2yfdbnxTXzSGPOgVGo3ZpM\\n! gdown --id 1WwPmms3mOMzIUM8DLTAtxysyW9G4nNRi'"
      ]
     },
     "execution_count": 2,
     "metadata": {},
     "output_type": "execute_result"
    }
   ],
   "source": [
    "# для локальной работы\n",
    "\n",
    "'''! gdown --id 1Hskt8ns_2uaWjBHujSDsn5aLBKrchWBk\n",
    "! gdown --id 1pmp-AjnUMO2yfdbnxTXzSGPOgVGo3ZpM\n",
    "! gdown --id 1WwPmms3mOMzIUM8DLTAtxysyW9G4nNRi'''"
   ]
  },
  {
   "cell_type": "code",
   "execution_count": 3,
   "metadata": {
    "id": "W8vybRH8qsGh"
   },
   "outputs": [],
   "source": [
    "# для локальной работы\n",
    "\n",
    "try:\n",
    "  hypothesis = pd.read_csv('/content/hypothesis.csv')\n",
    "  orders = pd.read_csv('/content/orders.csv')\n",
    "  visitors = pd.read_csv('/content/visitors.csv')\n",
    "\n",
    "# для работы в среде ЯП\n",
    "\n",
    "except:\n",
    "  hypothesis = pd.read_csv('/datasets/hypothesis.csv')\n",
    "  orders = pd.read_csv('/datasets/orders.csv')\n",
    "  visitors = pd.read_csv('/datasets/visitors.csv')"
   ]
  },
  {
   "cell_type": "code",
   "execution_count": 4,
   "metadata": {
    "colab": {
     "base_uri": "https://localhost:8080/",
     "height": 206
    },
    "id": "7O5JWtlFmMo5",
    "outputId": "076e395f-8e64-4359-e715-ba95de9e7dc9"
   },
   "outputs": [
    {
     "data": {
      "text/html": [
       "<div>\n",
       "<style scoped>\n",
       "    .dataframe tbody tr th:only-of-type {\n",
       "        vertical-align: middle;\n",
       "    }\n",
       "\n",
       "    .dataframe tbody tr th {\n",
       "        vertical-align: top;\n",
       "    }\n",
       "\n",
       "    .dataframe thead th {\n",
       "        text-align: right;\n",
       "    }\n",
       "</style>\n",
       "<table border=\"1\" class=\"dataframe\">\n",
       "  <thead>\n",
       "    <tr style=\"text-align: right;\">\n",
       "      <th></th>\n",
       "      <th>Hypothesis</th>\n",
       "      <th>Reach</th>\n",
       "      <th>Impact</th>\n",
       "      <th>Confidence</th>\n",
       "      <th>Efforts</th>\n",
       "    </tr>\n",
       "  </thead>\n",
       "  <tbody>\n",
       "    <tr>\n",
       "      <th>0</th>\n",
       "      <td>Добавить два новых канала привлечения трафика, что позволит привлекать на 30% больше пользователей</td>\n",
       "      <td>3</td>\n",
       "      <td>10</td>\n",
       "      <td>8</td>\n",
       "      <td>6</td>\n",
       "    </tr>\n",
       "    <tr>\n",
       "      <th>1</th>\n",
       "      <td>Запустить собственную службу доставки, что сократит срок доставки заказов</td>\n",
       "      <td>2</td>\n",
       "      <td>5</td>\n",
       "      <td>4</td>\n",
       "      <td>10</td>\n",
       "    </tr>\n",
       "    <tr>\n",
       "      <th>2</th>\n",
       "      <td>Добавить блоки рекомендаций товаров на сайт интернет магазина, чтобы повысить конверсию и средни...</td>\n",
       "      <td>8</td>\n",
       "      <td>3</td>\n",
       "      <td>7</td>\n",
       "      <td>3</td>\n",
       "    </tr>\n",
       "    <tr>\n",
       "      <th>3</th>\n",
       "      <td>Изменить структура категорий, что увеличит конверсию, т.к. пользователи быстрее найдут нужный товар</td>\n",
       "      <td>8</td>\n",
       "      <td>3</td>\n",
       "      <td>3</td>\n",
       "      <td>8</td>\n",
       "    </tr>\n",
       "    <tr>\n",
       "      <th>4</th>\n",
       "      <td>Изменить цвет фона главной страницы, чтобы увеличить вовлеченность пользователей</td>\n",
       "      <td>3</td>\n",
       "      <td>1</td>\n",
       "      <td>1</td>\n",
       "      <td>1</td>\n",
       "    </tr>\n",
       "  </tbody>\n",
       "</table>\n",
       "</div>"
      ],
      "text/plain": [
       "                                                                                            Hypothesis  \\\n",
       "0   Добавить два новых канала привлечения трафика, что позволит привлекать на 30% больше пользователей   \n",
       "1                            Запустить собственную службу доставки, что сократит срок доставки заказов   \n",
       "2  Добавить блоки рекомендаций товаров на сайт интернет магазина, чтобы повысить конверсию и средни...   \n",
       "3  Изменить структура категорий, что увеличит конверсию, т.к. пользователи быстрее найдут нужный товар   \n",
       "4                     Изменить цвет фона главной страницы, чтобы увеличить вовлеченность пользователей   \n",
       "\n",
       "   Reach  Impact  Confidence  Efforts  \n",
       "0      3      10           8        6  \n",
       "1      2       5           4       10  \n",
       "2      8       3           7        3  \n",
       "3      8       3           3        8  \n",
       "4      3       1           1        1  "
      ]
     },
     "execution_count": 4,
     "metadata": {},
     "output_type": "execute_result"
    }
   ],
   "source": [
    "# смотрим  на файл hypothesis\n",
    "\n",
    "hypothesis.head()"
   ]
  },
  {
   "cell_type": "code",
   "execution_count": 5,
   "metadata": {
    "colab": {
     "base_uri": "https://localhost:8080/",
     "height": 206
    },
    "id": "ukNN1RflmW8q",
    "outputId": "b9fd1722-bbe7-47b4-b835-04b0607b0a8a"
   },
   "outputs": [
    {
     "data": {
      "text/html": [
       "<div>\n",
       "<style scoped>\n",
       "    .dataframe tbody tr th:only-of-type {\n",
       "        vertical-align: middle;\n",
       "    }\n",
       "\n",
       "    .dataframe tbody tr th {\n",
       "        vertical-align: top;\n",
       "    }\n",
       "\n",
       "    .dataframe thead th {\n",
       "        text-align: right;\n",
       "    }\n",
       "</style>\n",
       "<table border=\"1\" class=\"dataframe\">\n",
       "  <thead>\n",
       "    <tr style=\"text-align: right;\">\n",
       "      <th></th>\n",
       "      <th>transactionId</th>\n",
       "      <th>visitorId</th>\n",
       "      <th>date</th>\n",
       "      <th>revenue</th>\n",
       "      <th>group</th>\n",
       "    </tr>\n",
       "  </thead>\n",
       "  <tbody>\n",
       "    <tr>\n",
       "      <th>0</th>\n",
       "      <td>3667963787</td>\n",
       "      <td>3312258926</td>\n",
       "      <td>2019-08-15</td>\n",
       "      <td>1650</td>\n",
       "      <td>B</td>\n",
       "    </tr>\n",
       "    <tr>\n",
       "      <th>1</th>\n",
       "      <td>2804400009</td>\n",
       "      <td>3642806036</td>\n",
       "      <td>2019-08-15</td>\n",
       "      <td>730</td>\n",
       "      <td>B</td>\n",
       "    </tr>\n",
       "    <tr>\n",
       "      <th>2</th>\n",
       "      <td>2961555356</td>\n",
       "      <td>4069496402</td>\n",
       "      <td>2019-08-15</td>\n",
       "      <td>400</td>\n",
       "      <td>A</td>\n",
       "    </tr>\n",
       "    <tr>\n",
       "      <th>3</th>\n",
       "      <td>3797467345</td>\n",
       "      <td>1196621759</td>\n",
       "      <td>2019-08-15</td>\n",
       "      <td>9759</td>\n",
       "      <td>B</td>\n",
       "    </tr>\n",
       "    <tr>\n",
       "      <th>4</th>\n",
       "      <td>2282983706</td>\n",
       "      <td>2322279887</td>\n",
       "      <td>2019-08-15</td>\n",
       "      <td>2308</td>\n",
       "      <td>B</td>\n",
       "    </tr>\n",
       "  </tbody>\n",
       "</table>\n",
       "</div>"
      ],
      "text/plain": [
       "   transactionId   visitorId        date  revenue group\n",
       "0     3667963787  3312258926  2019-08-15     1650     B\n",
       "1     2804400009  3642806036  2019-08-15      730     B\n",
       "2     2961555356  4069496402  2019-08-15      400     A\n",
       "3     3797467345  1196621759  2019-08-15     9759     B\n",
       "4     2282983706  2322279887  2019-08-15     2308     B"
      ]
     },
     "execution_count": 5,
     "metadata": {},
     "output_type": "execute_result"
    }
   ],
   "source": [
    "# смотрим  на файл orders\n",
    "\n",
    "orders.head()"
   ]
  },
  {
   "cell_type": "code",
   "execution_count": 6,
   "metadata": {
    "id": "FhWneV1r5s3e"
   },
   "outputs": [],
   "source": [
    "# для удобства дальнейшей работы переименуем столбцы датафрейма orders, \n",
    "# названия столбцов пропишем = названиям столбцов в рабочих формулах\n",
    "\n",
    "orders.columns = ['orderId', 'userId', 'date', 'revenue', 'group']"
   ]
  },
  {
   "cell_type": "code",
   "execution_count": 7,
   "metadata": {
    "colab": {
     "base_uri": "https://localhost:8080/",
     "height": 206
    },
    "id": "CcaLdTBVmZXq",
    "outputId": "37e178d8-b07b-42ea-83da-f6f03f6d7fcd"
   },
   "outputs": [
    {
     "data": {
      "text/html": [
       "<div>\n",
       "<style scoped>\n",
       "    .dataframe tbody tr th:only-of-type {\n",
       "        vertical-align: middle;\n",
       "    }\n",
       "\n",
       "    .dataframe tbody tr th {\n",
       "        vertical-align: top;\n",
       "    }\n",
       "\n",
       "    .dataframe thead th {\n",
       "        text-align: right;\n",
       "    }\n",
       "</style>\n",
       "<table border=\"1\" class=\"dataframe\">\n",
       "  <thead>\n",
       "    <tr style=\"text-align: right;\">\n",
       "      <th></th>\n",
       "      <th>date</th>\n",
       "      <th>group</th>\n",
       "      <th>visitors</th>\n",
       "    </tr>\n",
       "  </thead>\n",
       "  <tbody>\n",
       "    <tr>\n",
       "      <th>0</th>\n",
       "      <td>2019-08-01</td>\n",
       "      <td>A</td>\n",
       "      <td>719</td>\n",
       "    </tr>\n",
       "    <tr>\n",
       "      <th>1</th>\n",
       "      <td>2019-08-02</td>\n",
       "      <td>A</td>\n",
       "      <td>619</td>\n",
       "    </tr>\n",
       "    <tr>\n",
       "      <th>2</th>\n",
       "      <td>2019-08-03</td>\n",
       "      <td>A</td>\n",
       "      <td>507</td>\n",
       "    </tr>\n",
       "    <tr>\n",
       "      <th>3</th>\n",
       "      <td>2019-08-04</td>\n",
       "      <td>A</td>\n",
       "      <td>717</td>\n",
       "    </tr>\n",
       "    <tr>\n",
       "      <th>4</th>\n",
       "      <td>2019-08-05</td>\n",
       "      <td>A</td>\n",
       "      <td>756</td>\n",
       "    </tr>\n",
       "  </tbody>\n",
       "</table>\n",
       "</div>"
      ],
      "text/plain": [
       "         date group  visitors\n",
       "0  2019-08-01     A       719\n",
       "1  2019-08-02     A       619\n",
       "2  2019-08-03     A       507\n",
       "3  2019-08-04     A       717\n",
       "4  2019-08-05     A       756"
      ]
     },
     "execution_count": 7,
     "metadata": {},
     "output_type": "execute_result"
    }
   ],
   "source": [
    "# смотрим  на файл visitors\n",
    "\n",
    "visitors.head()"
   ]
  },
  {
   "cell_type": "markdown",
   "metadata": {
    "id": "jtjhES_ZhfDx"
   },
   "source": [
    "## Подготовка данных к работе"
   ]
  },
  {
   "cell_type": "markdown",
   "metadata": {
    "id": "H7vAJHVSjRg4"
   },
   "source": [
    "### Изменение регистра столбцов"
   ]
  },
  {
   "cell_type": "code",
   "execution_count": 8,
   "metadata": {
    "id": "UPZWD6h40bnn"
   },
   "outputs": [],
   "source": [
    "# названия столбцов в hypothesis к нижнему регистру\n",
    "\n",
    "hypothesis.columns = hypothesis.columns.str.lower()"
   ]
  },
  {
   "cell_type": "markdown",
   "metadata": {
    "id": "BKq7jVoajZQs"
   },
   "source": [
    "### Поиск пропущенных значений"
   ]
  },
  {
   "cell_type": "code",
   "execution_count": 9,
   "metadata": {
    "colab": {
     "base_uri": "https://localhost:8080/"
    },
    "id": "qWq49KQ3k1xI",
    "outputId": "b2513f5f-a63d-447c-c182-963c4b6bc14e"
   },
   "outputs": [
    {
     "data": {
      "text/plain": [
       "hypothesis    0.0\n",
       "reach         0.0\n",
       "impact        0.0\n",
       "confidence    0.0\n",
       "efforts       0.0\n",
       "dtype: float64"
      ]
     },
     "execution_count": 9,
     "metadata": {},
     "output_type": "execute_result"
    }
   ],
   "source": [
    "hypothesis.isna().mean()"
   ]
  },
  {
   "cell_type": "code",
   "execution_count": 10,
   "metadata": {
    "colab": {
     "base_uri": "https://localhost:8080/"
    },
    "id": "yoTrpEhxlzs3",
    "outputId": "22dc691a-3720-44a4-d85f-9af0722c1017"
   },
   "outputs": [
    {
     "data": {
      "text/plain": [
       "orderId    0.0\n",
       "userId     0.0\n",
       "date       0.0\n",
       "revenue    0.0\n",
       "group      0.0\n",
       "dtype: float64"
      ]
     },
     "execution_count": 10,
     "metadata": {},
     "output_type": "execute_result"
    }
   ],
   "source": [
    "orders.isna().mean()"
   ]
  },
  {
   "cell_type": "code",
   "execution_count": 11,
   "metadata": {
    "colab": {
     "base_uri": "https://localhost:8080/"
    },
    "id": "wtzgOxgHmGlE",
    "outputId": "bb61062f-2767-401e-e83d-28c3dfa4e9da"
   },
   "outputs": [
    {
     "data": {
      "text/plain": [
       "date        0.0\n",
       "group       0.0\n",
       "visitors    0.0\n",
       "dtype: float64"
      ]
     },
     "execution_count": 11,
     "metadata": {},
     "output_type": "execute_result"
    }
   ],
   "source": [
    "visitors.isna().mean()"
   ]
  },
  {
   "cell_type": "markdown",
   "metadata": {
    "id": "o_HSvD8xje7G"
   },
   "source": [
    "### Поиск явных дубликатов"
   ]
  },
  {
   "cell_type": "code",
   "execution_count": 12,
   "metadata": {
    "colab": {
     "base_uri": "https://localhost:8080/"
    },
    "id": "6RVoKVwijytm",
    "outputId": "408e509b-068b-4325-8e37-668e632344af"
   },
   "outputs": [
    {
     "data": {
      "text/plain": [
       "0"
      ]
     },
     "execution_count": 12,
     "metadata": {},
     "output_type": "execute_result"
    }
   ],
   "source": [
    "hypothesis.duplicated().sum()"
   ]
  },
  {
   "cell_type": "code",
   "execution_count": 13,
   "metadata": {
    "colab": {
     "base_uri": "https://localhost:8080/"
    },
    "id": "gNZTDdBLj4Q8",
    "outputId": "8c023c9d-e8fe-47d4-bfac-7974c7bb0112"
   },
   "outputs": [
    {
     "data": {
      "text/plain": [
       "0"
      ]
     },
     "execution_count": 13,
     "metadata": {},
     "output_type": "execute_result"
    }
   ],
   "source": [
    "orders.duplicated().sum()"
   ]
  },
  {
   "cell_type": "code",
   "execution_count": 14,
   "metadata": {
    "colab": {
     "base_uri": "https://localhost:8080/"
    },
    "id": "EPxuZp7sj7i_",
    "outputId": "117224f5-5ee7-49c6-c546-21ac547f89be"
   },
   "outputs": [
    {
     "data": {
      "text/plain": [
       "0"
      ]
     },
     "execution_count": 14,
     "metadata": {},
     "output_type": "execute_result"
    }
   ],
   "source": [
    "visitors.duplicated().sum()"
   ]
  },
  {
   "cell_type": "markdown",
   "metadata": {},
   "source": [
    "### Определение временного интервала тестирования, проверка количества пользователей в группах"
   ]
  },
  {
   "cell_type": "markdown",
   "metadata": {},
   "source": [
    "#### Проверим даты"
   ]
  },
  {
   "cell_type": "markdown",
   "metadata": {},
   "source": [
    "Проверим совпадение минимальной и максимальной дат в _orders_ и _visiters_."
   ]
  },
  {
   "cell_type": "code",
   "execution_count": 15,
   "metadata": {},
   "outputs": [
    {
     "data": {
      "text/html": [
       "<div>\n",
       "<style scoped>\n",
       "    .dataframe tbody tr th:only-of-type {\n",
       "        vertical-align: middle;\n",
       "    }\n",
       "\n",
       "    .dataframe tbody tr th {\n",
       "        vertical-align: top;\n",
       "    }\n",
       "\n",
       "    .dataframe thead th {\n",
       "        text-align: right;\n",
       "    }\n",
       "</style>\n",
       "<table border=\"1\" class=\"dataframe\">\n",
       "  <thead>\n",
       "    <tr style=\"text-align: right;\">\n",
       "      <th></th>\n",
       "      <th>orderId</th>\n",
       "      <th>userId</th>\n",
       "      <th>date</th>\n",
       "      <th>revenue</th>\n",
       "      <th>group</th>\n",
       "    </tr>\n",
       "  </thead>\n",
       "  <tbody>\n",
       "    <tr>\n",
       "      <th>0</th>\n",
       "      <td>3667963787</td>\n",
       "      <td>3312258926</td>\n",
       "      <td>2019-08-15</td>\n",
       "      <td>1650</td>\n",
       "      <td>B</td>\n",
       "    </tr>\n",
       "  </tbody>\n",
       "</table>\n",
       "</div>"
      ],
      "text/plain": [
       "      orderId      userId        date  revenue group\n",
       "0  3667963787  3312258926  2019-08-15     1650     B"
      ]
     },
     "execution_count": 15,
     "metadata": {},
     "output_type": "execute_result"
    }
   ],
   "source": [
    "orders[:1]"
   ]
  },
  {
   "cell_type": "code",
   "execution_count": 16,
   "metadata": {},
   "outputs": [
    {
     "data": {
      "text/plain": [
       "min    2019-08-01\n",
       "max    2019-08-31\n",
       "Name: date, dtype: object"
      ]
     },
     "execution_count": 16,
     "metadata": {},
     "output_type": "execute_result"
    }
   ],
   "source": [
    "# посмотрим минимальную и максимальную дату в таблице orders\n",
    "\n",
    "orders['date'].agg(['min', 'max'])"
   ]
  },
  {
   "cell_type": "code",
   "execution_count": 17,
   "metadata": {},
   "outputs": [
    {
     "data": {
      "text/plain": [
       "min    2019-08-01\n",
       "max    2019-08-31\n",
       "Name: date, dtype: object"
      ]
     },
     "execution_count": 17,
     "metadata": {},
     "output_type": "execute_result"
    }
   ],
   "source": [
    "# сделаем то же самое для таблицы visitors\n",
    "\n",
    "visitors['date'].agg(['min', 'max'])"
   ]
  },
  {
   "cell_type": "markdown",
   "metadata": {},
   "source": [
    "Даты совпадают в обоих датасетах. Дата начала теста 2019-08-01, конца 2019-08-31. Идем дальше."
   ]
  },
  {
   "cell_type": "markdown",
   "metadata": {},
   "source": [
    "#### Проверим общее количество пользователей, количество пользователей в группах"
   ]
  },
  {
   "cell_type": "code",
   "execution_count": 18,
   "metadata": {},
   "outputs": [
    {
     "data": {
      "text/plain": [
       "503"
      ]
     },
     "execution_count": 18,
     "metadata": {},
     "output_type": "execute_result"
    }
   ],
   "source": [
    "# начнем с группы А\n",
    "\n",
    "orders[orders['group'] == 'A']['userId'].nunique()"
   ]
  },
  {
   "cell_type": "code",
   "execution_count": 19,
   "metadata": {},
   "outputs": [
    {
     "data": {
      "text/plain": [
       "586"
      ]
     },
     "execution_count": 19,
     "metadata": {},
     "output_type": "execute_result"
    }
   ],
   "source": [
    "# теперь В\n",
    "\n",
    "orders[orders['group'] == 'B']['userId'].nunique()"
   ]
  },
  {
   "cell_type": "code",
   "execution_count": 20,
   "metadata": {},
   "outputs": [
    {
     "data": {
      "text/plain": [
       "1031"
      ]
     },
     "execution_count": 20,
     "metadata": {},
     "output_type": "execute_result"
    }
   ],
   "source": [
    "# всего пользователей, без разбивки на группы\n",
    "\n",
    "orders['userId'].nunique()"
   ]
  },
  {
   "cell_type": "markdown",
   "metadata": {},
   "source": [
    "Хьюстон, у нас очевидные проблемы — 58 пользователей состоят в обеих группах. Этих пользователей нужно найти и удалить, они искажают анализ А/В-теста"
   ]
  },
  {
   "cell_type": "code",
   "execution_count": 21,
   "metadata": {},
   "outputs": [
    {
     "data": {
      "text/plain": [
       "array([   8300375,  199603092,  232979603,  237748145,  276558944,\n",
       "        351125977,  393266494,  457167155,  471551937,  477780734,\n",
       "        818047933,  963407295, 1230306981, 1294878855, 1316129916,\n",
       "       1333886533, 1404934699, 1602967004, 1614305549, 1648269707,\n",
       "       1668030113, 1738359350, 1801183820, 1959144690, 2038680547,\n",
       "       2044997962, 2378935119, 2458001652, 2579882178, 2587333274,\n",
       "       2600415354, 2654030115, 2686716486, 2712142231, 2716752286,\n",
       "       2780786433, 2927087541, 2949041841, 2954449915, 3062433592,\n",
       "       3202540741, 3234906277, 3656415546, 3717692402, 3766097110,\n",
       "       3803269165, 3891541246, 3941795274, 3951559397, 3957174400,\n",
       "       3963646447, 3972127743, 3984495233, 4069496402, 4120364173,\n",
       "       4186807279, 4256040402, 4266935830])"
      ]
     },
     "execution_count": 21,
     "metadata": {},
     "output_type": "execute_result"
    }
   ],
   "source": [
    "# найдем этих \"двойных\" пользователей и запишем в переменную a_b_users\n",
    "\n",
    "a_b_users = np.intersect1d(orders.query('group == \"A\"')['userId'].unique(),\n",
    "                                  orders.query('group == \"B\"')['userId'].unique()) \n",
    "a_b_users"
   ]
  },
  {
   "cell_type": "code",
   "execution_count": 22,
   "metadata": {},
   "outputs": [
    {
     "data": {
      "text/plain": [
       "58"
      ]
     },
     "execution_count": 22,
     "metadata": {},
     "output_type": "execute_result"
    }
   ],
   "source": [
    "# проверим количество\n",
    "\n",
    "len(a_b_users)"
   ]
  },
  {
   "cell_type": "markdown",
   "metadata": {},
   "source": [
    "Все верно, 58 пользователей. Исключим их из датасета _orders_."
   ]
  },
  {
   "cell_type": "code",
   "execution_count": 23,
   "metadata": {},
   "outputs": [],
   "source": [
    "orders = orders[~orders['userId'].isin(a_b_users)]"
   ]
  },
  {
   "cell_type": "markdown",
   "metadata": {},
   "source": [
    "<div class=\"alert alert-block alert-success\">✅ <b>Комментарий ревьюера 2:</b> Действительно, в данных присутствуют пользователи из обеих групп. Но их не обязательно удалять, хоть процент таких пользователей и небольшой, это может изменить результаты исследования :)\n",
    "</div>"
   ]
  },
  {
   "cell_type": "code",
   "execution_count": 24,
   "metadata": {},
   "outputs": [
    {
     "data": {
      "text/plain": [
       "973"
      ]
     },
     "execution_count": 24,
     "metadata": {},
     "output_type": "execute_result"
    }
   ],
   "source": [
    "# проверяем\n",
    "\n",
    "orders['userId'].nunique()"
   ]
  },
  {
   "cell_type": "code",
   "execution_count": 25,
   "metadata": {},
   "outputs": [
    {
     "data": {
      "text/plain": [
       "445"
      ]
     },
     "execution_count": 25,
     "metadata": {},
     "output_type": "execute_result"
    }
   ],
   "source": [
    "# снова группы А\n",
    "\n",
    "orders[orders['group'] == 'A']['userId'].nunique()"
   ]
  },
  {
   "cell_type": "code",
   "execution_count": 26,
   "metadata": {},
   "outputs": [
    {
     "data": {
      "text/plain": [
       "528"
      ]
     },
     "execution_count": 26,
     "metadata": {},
     "output_type": "execute_result"
    }
   ],
   "source": [
    "# теперь В\n",
    "\n",
    "orders[orders['group'] == 'B']['userId'].nunique()"
   ]
  },
  {
   "cell_type": "markdown",
   "metadata": {},
   "source": [
    "Теперь все верно, пользователей с двойной группы нет. Общее количество пользвоателей совпадает с суммой пользователей по группам."
   ]
  },
  {
   "cell_type": "markdown",
   "metadata": {
    "id": "c_iC5LywkBDE"
   },
   "source": [
    "### Вывод по подготовке данных\n",
    "\n",
    "Данные чистые, без дубликатов и пропусков. Работаем дальше."
   ]
  },
  {
   "cell_type": "markdown",
   "metadata": {},
   "source": [
    "<div class=\"alert alert-block alert-success\">✅ <b>Комментарий ревьюера:</b> Отличная работа по ознакомлению с данными. Очень здорово, что не забыл сделать проверку на дубли и пустые значения :)\n",
    "</div>"
   ]
  },
  {
   "cell_type": "markdown",
   "metadata": {
    "id": "h0kBLAXVkxPC"
   },
   "source": [
    "## Приоритизация гипотез"
   ]
  },
  {
   "cell_type": "markdown",
   "metadata": {},
   "source": [
    "Есть 9 гипотез по увеличению выручки интернет-магазина с указанными параметрами _Reach, Impact, Confidence, Effort_.\n",
    "\n",
    "Задача применить фреймворки ICE и RICE для приоритизации гипотез и выбрать потенциально прибыльные гипотезы для бизнеса. Требуется определить, на какую приоритизацию ориентироваться в первую очередь — ICE или RICE."
   ]
  },
  {
   "cell_type": "markdown",
   "metadata": {},
   "source": [
    "<div class=\"alert alert-info\" role=\"alert\">\n",
    "  Поправил\n",
    "</div>"
   ]
  },
  {
   "cell_type": "markdown",
   "metadata": {},
   "source": [
    "<div class=\"alert alert-block alert-warning\"> ⚠️ <b>Комментарий ревьюера:</b> Здесь хорошо бы добавить небольшое описание, что будет исследоваться </div>"
   ]
  },
  {
   "cell_type": "markdown",
   "metadata": {},
   "source": [
    "<div class=\"alert alert-block alert-success\">✅ <b>Комментарий ревьюера:</b> Всё здорово :)\n",
    "</div>"
   ]
  },
  {
   "cell_type": "markdown",
   "metadata": {
    "id": "CI6UQX9FnsEz"
   },
   "source": [
    "Посмотрим на файл с гипотезами полностью"
   ]
  },
  {
   "cell_type": "code",
   "execution_count": 27,
   "metadata": {
    "colab": {
     "base_uri": "https://localhost:8080/",
     "height": 332
    },
    "id": "RlfREu7Nmj2P",
    "outputId": "2f502e60-981c-4bd9-b38a-62dc6582a399"
   },
   "outputs": [
    {
     "data": {
      "text/html": [
       "<div>\n",
       "<style scoped>\n",
       "    .dataframe tbody tr th:only-of-type {\n",
       "        vertical-align: middle;\n",
       "    }\n",
       "\n",
       "    .dataframe tbody tr th {\n",
       "        vertical-align: top;\n",
       "    }\n",
       "\n",
       "    .dataframe thead th {\n",
       "        text-align: right;\n",
       "    }\n",
       "</style>\n",
       "<table border=\"1\" class=\"dataframe\">\n",
       "  <thead>\n",
       "    <tr style=\"text-align: right;\">\n",
       "      <th></th>\n",
       "      <th>hypothesis</th>\n",
       "      <th>reach</th>\n",
       "      <th>impact</th>\n",
       "      <th>confidence</th>\n",
       "      <th>efforts</th>\n",
       "    </tr>\n",
       "  </thead>\n",
       "  <tbody>\n",
       "    <tr>\n",
       "      <th>0</th>\n",
       "      <td>Добавить два новых канала привлечения трафика, что позволит привлекать на 30% больше пользователей</td>\n",
       "      <td>3</td>\n",
       "      <td>10</td>\n",
       "      <td>8</td>\n",
       "      <td>6</td>\n",
       "    </tr>\n",
       "    <tr>\n",
       "      <th>1</th>\n",
       "      <td>Запустить собственную службу доставки, что сократит срок доставки заказов</td>\n",
       "      <td>2</td>\n",
       "      <td>5</td>\n",
       "      <td>4</td>\n",
       "      <td>10</td>\n",
       "    </tr>\n",
       "    <tr>\n",
       "      <th>2</th>\n",
       "      <td>Добавить блоки рекомендаций товаров на сайт интернет магазина, чтобы повысить конверсию и средни...</td>\n",
       "      <td>8</td>\n",
       "      <td>3</td>\n",
       "      <td>7</td>\n",
       "      <td>3</td>\n",
       "    </tr>\n",
       "    <tr>\n",
       "      <th>3</th>\n",
       "      <td>Изменить структура категорий, что увеличит конверсию, т.к. пользователи быстрее найдут нужный товар</td>\n",
       "      <td>8</td>\n",
       "      <td>3</td>\n",
       "      <td>3</td>\n",
       "      <td>8</td>\n",
       "    </tr>\n",
       "    <tr>\n",
       "      <th>4</th>\n",
       "      <td>Изменить цвет фона главной страницы, чтобы увеличить вовлеченность пользователей</td>\n",
       "      <td>3</td>\n",
       "      <td>1</td>\n",
       "      <td>1</td>\n",
       "      <td>1</td>\n",
       "    </tr>\n",
       "    <tr>\n",
       "      <th>5</th>\n",
       "      <td>Добавить страницу отзывов клиентов о магазине, что позволит увеличить количество заказов</td>\n",
       "      <td>3</td>\n",
       "      <td>2</td>\n",
       "      <td>2</td>\n",
       "      <td>3</td>\n",
       "    </tr>\n",
       "    <tr>\n",
       "      <th>6</th>\n",
       "      <td>Показать на главной странице баннеры с актуальными акциями и распродажами, чтобы увеличить конве...</td>\n",
       "      <td>5</td>\n",
       "      <td>3</td>\n",
       "      <td>8</td>\n",
       "      <td>3</td>\n",
       "    </tr>\n",
       "    <tr>\n",
       "      <th>7</th>\n",
       "      <td>Добавить форму подписки на все основные страницы, чтобы собрать базу клиентов для email-рассылок</td>\n",
       "      <td>10</td>\n",
       "      <td>7</td>\n",
       "      <td>8</td>\n",
       "      <td>5</td>\n",
       "    </tr>\n",
       "    <tr>\n",
       "      <th>8</th>\n",
       "      <td>Запустить акцию, дающую скидку на товар в день рождения</td>\n",
       "      <td>1</td>\n",
       "      <td>9</td>\n",
       "      <td>9</td>\n",
       "      <td>5</td>\n",
       "    </tr>\n",
       "  </tbody>\n",
       "</table>\n",
       "</div>"
      ],
      "text/plain": [
       "                                                                                            hypothesis  \\\n",
       "0   Добавить два новых канала привлечения трафика, что позволит привлекать на 30% больше пользователей   \n",
       "1                            Запустить собственную службу доставки, что сократит срок доставки заказов   \n",
       "2  Добавить блоки рекомендаций товаров на сайт интернет магазина, чтобы повысить конверсию и средни...   \n",
       "3  Изменить структура категорий, что увеличит конверсию, т.к. пользователи быстрее найдут нужный товар   \n",
       "4                     Изменить цвет фона главной страницы, чтобы увеличить вовлеченность пользователей   \n",
       "5             Добавить страницу отзывов клиентов о магазине, что позволит увеличить количество заказов   \n",
       "6  Показать на главной странице баннеры с актуальными акциями и распродажами, чтобы увеличить конве...   \n",
       "7     Добавить форму подписки на все основные страницы, чтобы собрать базу клиентов для email-рассылок   \n",
       "8                                              Запустить акцию, дающую скидку на товар в день рождения   \n",
       "\n",
       "   reach  impact  confidence  efforts  \n",
       "0      3      10           8        6  \n",
       "1      2       5           4       10  \n",
       "2      8       3           7        3  \n",
       "3      8       3           3        8  \n",
       "4      3       1           1        1  \n",
       "5      3       2           2        3  \n",
       "6      5       3           8        3  \n",
       "7     10       7           8        5  \n",
       "8      1       9           9        5  "
      ]
     },
     "execution_count": 27,
     "metadata": {},
     "output_type": "execute_result"
    }
   ],
   "source": [
    "hypothesis"
   ]
  },
  {
   "cell_type": "markdown",
   "metadata": {},
   "source": [
    "<div class=\"alert alert-info\" role=\"alert\">\n",
    "  Поправил\n",
    "</div>"
   ]
  },
  {
   "cell_type": "markdown",
   "metadata": {},
   "source": [
    "<div class=\"alert alert-block alert-warning\"> ⚠️ <b>Комментарий ревьюера:</b> Всё отлично, но было бы здорово вывести названия гипотез целиком, например так: pd.options.display.max_colwidth = 100 </div>"
   ]
  },
  {
   "cell_type": "markdown",
   "metadata": {},
   "source": [
    "<div class=\"alert alert-block alert-success\">✅ <b>Комментарий ревьюера 2:</b> отлично, теперь можно ознакомиться со всеми гипотезами исходя из таблицы :)\n",
    "</div>"
   ]
  },
  {
   "cell_type": "code",
   "execution_count": 28,
   "metadata": {
    "colab": {
     "base_uri": "https://localhost:8080/"
    },
    "id": "857LzKSmnMRB",
    "outputId": "efd47436-f2b5-4305-a4d2-9f83d693562f"
   },
   "outputs": [
    {
     "name": "stdout",
     "output_type": "stream",
     "text": [
      "Всего 9 гипотез\n"
     ]
    }
   ],
   "source": [
    "print(f'Всего {len(hypothesis)} гипотез')"
   ]
  },
  {
   "cell_type": "markdown",
   "metadata": {
    "id": "lSV1j66-n1R_"
   },
   "source": [
    "Задача выбрать потенциально самые прибыльные гипотезы"
   ]
  },
  {
   "cell_type": "markdown",
   "metadata": {
    "id": "b4N2G_liofRY"
   },
   "source": [
    "### ICE"
   ]
  },
  {
   "cell_type": "markdown",
   "metadata": {
    "id": "fQZKj_WQohZe"
   },
   "source": [
    "Вспомним, как считается ICE:\n",
    "\n",
    "ICE = (Impact x Confidence)/ Efforts "
   ]
  },
  {
   "cell_type": "code",
   "execution_count": 29,
   "metadata": {
    "colab": {
     "base_uri": "https://localhost:8080/",
     "height": 332
    },
    "id": "WwZvS65NyaBL",
    "outputId": "b16a4a8a-e8ff-4034-ddca-594a5ef3b5f5"
   },
   "outputs": [
    {
     "data": {
      "text/html": [
       "<div>\n",
       "<style scoped>\n",
       "    .dataframe tbody tr th:only-of-type {\n",
       "        vertical-align: middle;\n",
       "    }\n",
       "\n",
       "    .dataframe tbody tr th {\n",
       "        vertical-align: top;\n",
       "    }\n",
       "\n",
       "    .dataframe thead th {\n",
       "        text-align: right;\n",
       "    }\n",
       "</style>\n",
       "<table border=\"1\" class=\"dataframe\">\n",
       "  <thead>\n",
       "    <tr style=\"text-align: right;\">\n",
       "      <th></th>\n",
       "      <th>hypothesis</th>\n",
       "      <th>ICE</th>\n",
       "    </tr>\n",
       "  </thead>\n",
       "  <tbody>\n",
       "    <tr>\n",
       "      <th>8</th>\n",
       "      <td>Запустить акцию, дающую скидку на товар в день рождения</td>\n",
       "      <td>16.20</td>\n",
       "    </tr>\n",
       "    <tr>\n",
       "      <th>0</th>\n",
       "      <td>Добавить два новых канала привлечения трафика, что позволит привлекать на 30% больше пользователей</td>\n",
       "      <td>13.33</td>\n",
       "    </tr>\n",
       "    <tr>\n",
       "      <th>7</th>\n",
       "      <td>Добавить форму подписки на все основные страницы, чтобы собрать базу клиентов для email-рассылок</td>\n",
       "      <td>11.20</td>\n",
       "    </tr>\n",
       "    <tr>\n",
       "      <th>6</th>\n",
       "      <td>Показать на главной странице баннеры с актуальными акциями и распродажами, чтобы увеличить конве...</td>\n",
       "      <td>8.00</td>\n",
       "    </tr>\n",
       "    <tr>\n",
       "      <th>2</th>\n",
       "      <td>Добавить блоки рекомендаций товаров на сайт интернет магазина, чтобы повысить конверсию и средни...</td>\n",
       "      <td>7.00</td>\n",
       "    </tr>\n",
       "    <tr>\n",
       "      <th>1</th>\n",
       "      <td>Запустить собственную службу доставки, что сократит срок доставки заказов</td>\n",
       "      <td>2.00</td>\n",
       "    </tr>\n",
       "    <tr>\n",
       "      <th>5</th>\n",
       "      <td>Добавить страницу отзывов клиентов о магазине, что позволит увеличить количество заказов</td>\n",
       "      <td>1.33</td>\n",
       "    </tr>\n",
       "    <tr>\n",
       "      <th>3</th>\n",
       "      <td>Изменить структура категорий, что увеличит конверсию, т.к. пользователи быстрее найдут нужный товар</td>\n",
       "      <td>1.12</td>\n",
       "    </tr>\n",
       "    <tr>\n",
       "      <th>4</th>\n",
       "      <td>Изменить цвет фона главной страницы, чтобы увеличить вовлеченность пользователей</td>\n",
       "      <td>1.00</td>\n",
       "    </tr>\n",
       "  </tbody>\n",
       "</table>\n",
       "</div>"
      ],
      "text/plain": [
       "                                                                                            hypothesis  \\\n",
       "8                                              Запустить акцию, дающую скидку на товар в день рождения   \n",
       "0   Добавить два новых канала привлечения трафика, что позволит привлекать на 30% больше пользователей   \n",
       "7     Добавить форму подписки на все основные страницы, чтобы собрать базу клиентов для email-рассылок   \n",
       "6  Показать на главной странице баннеры с актуальными акциями и распродажами, чтобы увеличить конве...   \n",
       "2  Добавить блоки рекомендаций товаров на сайт интернет магазина, чтобы повысить конверсию и средни...   \n",
       "1                            Запустить собственную службу доставки, что сократит срок доставки заказов   \n",
       "5             Добавить страницу отзывов клиентов о магазине, что позволит увеличить количество заказов   \n",
       "3  Изменить структура категорий, что увеличит конверсию, т.к. пользователи быстрее найдут нужный товар   \n",
       "4                     Изменить цвет фона главной страницы, чтобы увеличить вовлеченность пользователей   \n",
       "\n",
       "     ICE  \n",
       "8  16.20  \n",
       "0  13.33  \n",
       "7  11.20  \n",
       "6   8.00  \n",
       "2   7.00  \n",
       "1   2.00  \n",
       "5   1.33  \n",
       "3   1.12  \n",
       "4   1.00  "
      ]
     },
     "execution_count": 29,
     "metadata": {},
     "output_type": "execute_result"
    }
   ],
   "source": [
    "hypothesis['ICE'] = hypothesis['impact'] * hypothesis['confidence']\\\n",
    "                  / hypothesis['efforts']\n",
    "hypothesis['ICE'] = hypothesis['ICE'].round(2)\n",
    "hypothesis[['hypothesis', 'ICE']].sort_values(by='ICE', ascending=False)\n"
   ]
  },
  {
   "cell_type": "code",
   "execution_count": 30,
   "metadata": {
    "colab": {
     "base_uri": "https://localhost:8080/",
     "height": 262
    },
    "id": "0JUmo4u11eaL",
    "outputId": "421351a7-9493-45b1-c3f6-c0ba078707af"
   },
   "outputs": [
    {
     "data": {
      "image/png": "[encoded data removed]",
      "text/plain": [
       "<Figure size 432x288 with 1 Axes>"
      ]
     },
     "metadata": {
      "needs_background": "light"
     },
     "output_type": "display_data"
    }
   ],
   "source": [
    "hypothesis['ICE'].sort_values(ascending=False).plot(kind='bar');\n",
    "plt.title('Приоритизация гипотез по ICE \\n');"
   ]
  },
  {
   "cell_type": "code",
   "execution_count": 31,
   "metadata": {
    "colab": {
     "base_uri": "https://localhost:8080/"
    },
    "id": "BVa3KGsM2NFC",
    "outputId": "e892fe19-83e2-4cfd-cf69-fe1d651d6135"
   },
   "outputs": [
    {
     "data": {
      "text/plain": [
       "Int64Index([8, 0, 7, 6], dtype='int64')"
      ]
     },
     "execution_count": 31,
     "metadata": {},
     "output_type": "execute_result"
    }
   ],
   "source": [
    "# посмотрим топ-4 гипотезы по ICE\n",
    "\n",
    "top_4_ICE = hypothesis[['hypothesis', 'ICE']]\\\n",
    "           .sort_values(by='ICE', ascending=False).index[:4]\n",
    "top_4_ICE"
   ]
  },
  {
   "cell_type": "markdown",
   "metadata": {
    "id": "xR5BSx3yaR_b"
   },
   "source": [
    "### Вывод по ICE\n",
    "\n",
    "По методу _ICE_ наиболее интересны гипотезы [8, 0, 7, 6]."
   ]
  },
  {
   "cell_type": "markdown",
   "metadata": {
    "id": "-ipbOBb_o2nY"
   },
   "source": [
    "### RICE"
   ]
  },
  {
   "cell_type": "markdown",
   "metadata": {
    "id": "a4sGn5O3o7il"
   },
   "source": [
    "RICE отличается от ICE добавлением еще одного компонента — охват (англ. reach). Формула для расчета RICE:\n",
    "\n",
    "RICE = (Reach x Impact x Confidence)/ Efforts "
   ]
  },
  {
   "cell_type": "code",
   "execution_count": 32,
   "metadata": {
    "colab": {
     "base_uri": "https://localhost:8080/",
     "height": 332
    },
    "id": "lKAJtYm2pXTG",
    "outputId": "10b6258e-473f-41c1-ce25-5998f840a7ce"
   },
   "outputs": [
    {
     "data": {
      "text/html": [
       "<div>\n",
       "<style scoped>\n",
       "    .dataframe tbody tr th:only-of-type {\n",
       "        vertical-align: middle;\n",
       "    }\n",
       "\n",
       "    .dataframe tbody tr th {\n",
       "        vertical-align: top;\n",
       "    }\n",
       "\n",
       "    .dataframe thead th {\n",
       "        text-align: right;\n",
       "    }\n",
       "</style>\n",
       "<table border=\"1\" class=\"dataframe\">\n",
       "  <thead>\n",
       "    <tr style=\"text-align: right;\">\n",
       "      <th></th>\n",
       "      <th>hypothesis</th>\n",
       "      <th>RICE</th>\n",
       "    </tr>\n",
       "  </thead>\n",
       "  <tbody>\n",
       "    <tr>\n",
       "      <th>7</th>\n",
       "      <td>Добавить форму подписки на все основные страницы, чтобы собрать базу клиентов для email-рассылок</td>\n",
       "      <td>112.0</td>\n",
       "    </tr>\n",
       "    <tr>\n",
       "      <th>2</th>\n",
       "      <td>Добавить блоки рекомендаций товаров на сайт интернет магазина, чтобы повысить конверсию и средни...</td>\n",
       "      <td>56.0</td>\n",
       "    </tr>\n",
       "    <tr>\n",
       "      <th>0</th>\n",
       "      <td>Добавить два новых канала привлечения трафика, что позволит привлекать на 30% больше пользователей</td>\n",
       "      <td>40.0</td>\n",
       "    </tr>\n",
       "    <tr>\n",
       "      <th>6</th>\n",
       "      <td>Показать на главной странице баннеры с актуальными акциями и распродажами, чтобы увеличить конве...</td>\n",
       "      <td>40.0</td>\n",
       "    </tr>\n",
       "    <tr>\n",
       "      <th>8</th>\n",
       "      <td>Запустить акцию, дающую скидку на товар в день рождения</td>\n",
       "      <td>16.2</td>\n",
       "    </tr>\n",
       "    <tr>\n",
       "      <th>3</th>\n",
       "      <td>Изменить структура категорий, что увеличит конверсию, т.к. пользователи быстрее найдут нужный товар</td>\n",
       "      <td>9.0</td>\n",
       "    </tr>\n",
       "    <tr>\n",
       "      <th>1</th>\n",
       "      <td>Запустить собственную службу доставки, что сократит срок доставки заказов</td>\n",
       "      <td>4.0</td>\n",
       "    </tr>\n",
       "    <tr>\n",
       "      <th>5</th>\n",
       "      <td>Добавить страницу отзывов клиентов о магазине, что позволит увеличить количество заказов</td>\n",
       "      <td>4.0</td>\n",
       "    </tr>\n",
       "    <tr>\n",
       "      <th>4</th>\n",
       "      <td>Изменить цвет фона главной страницы, чтобы увеличить вовлеченность пользователей</td>\n",
       "      <td>3.0</td>\n",
       "    </tr>\n",
       "  </tbody>\n",
       "</table>\n",
       "</div>"
      ],
      "text/plain": [
       "                                                                                            hypothesis  \\\n",
       "7     Добавить форму подписки на все основные страницы, чтобы собрать базу клиентов для email-рассылок   \n",
       "2  Добавить блоки рекомендаций товаров на сайт интернет магазина, чтобы повысить конверсию и средни...   \n",
       "0   Добавить два новых канала привлечения трафика, что позволит привлекать на 30% больше пользователей   \n",
       "6  Показать на главной странице баннеры с актуальными акциями и распродажами, чтобы увеличить конве...   \n",
       "8                                              Запустить акцию, дающую скидку на товар в день рождения   \n",
       "3  Изменить структура категорий, что увеличит конверсию, т.к. пользователи быстрее найдут нужный товар   \n",
       "1                            Запустить собственную службу доставки, что сократит срок доставки заказов   \n",
       "5             Добавить страницу отзывов клиентов о магазине, что позволит увеличить количество заказов   \n",
       "4                     Изменить цвет фона главной страницы, чтобы увеличить вовлеченность пользователей   \n",
       "\n",
       "    RICE  \n",
       "7  112.0  \n",
       "2   56.0  \n",
       "0   40.0  \n",
       "6   40.0  \n",
       "8   16.2  \n",
       "3    9.0  \n",
       "1    4.0  \n",
       "5    4.0  \n",
       "4    3.0  "
      ]
     },
     "execution_count": 32,
     "metadata": {},
     "output_type": "execute_result"
    }
   ],
   "source": [
    "hypothesis['RICE'] = hypothesis['reach'] * hypothesis['impact']\\\n",
    "                   * hypothesis['confidence'] / hypothesis['efforts']\n",
    "hypothesis['ICE'] = hypothesis['ICE'].round(2)\n",
    "hypothesis[['hypothesis', 'RICE']].sort_values(by='RICE', ascending=False)"
   ]
  },
  {
   "cell_type": "code",
   "execution_count": 33,
   "metadata": {
    "colab": {
     "base_uri": "https://localhost:8080/",
     "height": 262
    },
    "id": "aWP_TkJI1G_t",
    "outputId": "3fb01a3b-62fd-4152-ec69-0dc03906fd56"
   },
   "outputs": [
    {
     "data": {
      "text/plain": [
       "Text(0.5, 1.0, 'Приоритизация гипотез по RICE \\n')"
      ]
     },
     "execution_count": 33,
     "metadata": {},
     "output_type": "execute_result"
    },
    {
     "data": {
      "image/png": "[encoded data removed]",
      "text/plain": [
       "<Figure size 432x288 with 1 Axes>"
      ]
     },
     "metadata": {
      "needs_background": "light"
     },
     "output_type": "display_data"
    }
   ],
   "source": [
    "hypothesis['RICE'].sort_values(ascending=False).plot(kind='bar');\n",
    "plt.title('Приоритизация гипотез по RICE \\n')"
   ]
  },
  {
   "cell_type": "code",
   "execution_count": 34,
   "metadata": {
    "colab": {
     "base_uri": "https://localhost:8080/"
    },
    "id": "z5CJxN0d11o0",
    "outputId": "4b2038cf-ad6b-4800-ae83-10c5be86e600"
   },
   "outputs": [
    {
     "data": {
      "text/plain": [
       "Int64Index([7, 2, 0, 6], dtype='int64')"
      ]
     },
     "execution_count": 34,
     "metadata": {},
     "output_type": "execute_result"
    }
   ],
   "source": [
    "# топ-4 гипотезы по RICE\n",
    "\n",
    "top_4_RICE = hypothesis[['hypothesis', 'RICE']]\\\n",
    "           .sort_values(by='RICE', ascending=False).index[:4]\n",
    "top_4_RICE"
   ]
  },
  {
   "cell_type": "markdown",
   "metadata": {
    "id": "5xxNlifratx0"
   },
   "source": [
    "### Вывод по RICE\n",
    "\n",
    "По методу _RICE_ наиболее интересны гипотезы [7, 2, 0, 6]."
   ]
  },
  {
   "cell_type": "markdown",
   "metadata": {
    "id": "qEgqLW4nY3mY"
   },
   "source": [
    "### Вывод по приоритизации гипотез по _ICE_ и _RICE_\n",
    "\n",
    "Список потенциально прибыльных гипоз по _RICE_ поменялся из-за введения параметра _Reach_. Лидер по методу _ICE_, гипотеза №8, не попала в Топ-4 по методу _RICE_.RICE более информативен, учитывает охват пользователей, ориентируемся на него. \n",
    "\n",
    "Три из четырех топовых гипотез по _ICE_ попадает в список топовых гипотез по _RICE_, обе метрики приоритизируют гипотезы на 75% одинаково. Наш финальный список выглядит так:\n",
    "\n",
    "**[7, 2, 0, 6]**\n",
    "\n",
    "Пятая гипотеза по методу _RICE_ выглядит в 2,5 раза менее интересной, ее и следующие за ней гипотезы считаем не интересными для бизнеса.\n",
    "\n"
   ]
  },
  {
   "cell_type": "markdown",
   "metadata": {},
   "source": [
    "<div class=\"alert alert-block alert-success\">✅ <b>Комментарий ревьюера:</b> Хорошая работа по приоритизации гипотез. Хотел порекомендовать округлить значения ice и rice до 2х знаков :)\n",
    "</div>"
   ]
  },
  {
   "cell_type": "markdown",
   "metadata": {},
   "source": [
    "<div class=\"alert alert-info\" role=\"alert\">\n",
    "  Артём, поправил\n",
    "</div>"
   ]
  },
  {
   "cell_type": "markdown",
   "metadata": {
    "id": "EBO4OYeacCO7"
   },
   "source": [
    "## Анализ A/B-теста"
   ]
  },
  {
   "cell_type": "markdown",
   "metadata": {},
   "source": [
    "Наша компания провела А/В-тест, наша задача проанализировать его результаты. Есть результаты о покупках и визитах. Данные лежат в файлах _orders_ и _visits_. После анализа результатов нужно принять решение — остановить ли тест или продолжить? Успешный тест или нет?"
   ]
  },
  {
   "cell_type": "markdown",
   "metadata": {},
   "source": [
    "<div class=\"alert alert-block alert-warning\"> ⚠️ <b>Комментарий ревьюера:</b> Здесь тоже хорошо бы добавить небольшое описание какие задачи будут решаться, чем они могут быть полезны бизнесу и т.п. </div>"
   ]
  },
  {
   "cell_type": "markdown",
   "metadata": {},
   "source": [
    "<div class=\"alert alert-info\" role=\"alert\">\n",
    "  Добавил\n",
    "</div>"
   ]
  },
  {
   "cell_type": "markdown",
   "metadata": {},
   "source": [
    "<div class=\"alert alert-block alert-success\">✅ <b>Комментарий ревьюера 2:</b> Здорово, теперь сформулированы основные цели данного исследования :)\n",
    "</div>"
   ]
  },
  {
   "cell_type": "markdown",
   "metadata": {
    "id": "p5wvaKnCdVvk"
   },
   "source": [
    "### График кумулятивной выручки по группам. Сделайте выводы и предположения"
   ]
  },
  {
   "cell_type": "code",
   "execution_count": 35,
   "metadata": {
    "colab": {
     "base_uri": "https://localhost:8080/"
    },
    "id": "SIR1nudE4Wyk",
    "outputId": "2c626bf1-0000-4cbf-eb27-8a981207349f"
   },
   "outputs": [
    {
     "name": "stdout",
     "output_type": "stream",
     "text": [
      "         date group  orders  buyers  revenue  visitors\n",
      "0  2019-08-01     A      23      19   142779       719\n",
      "1  2019-08-01     B      17      17    59758       713\n",
      "2  2019-08-02     A      42      36   234381      1338\n",
      "3  2019-08-02     B      40      39   221801      1294\n",
      "4  2019-08-03     A      66      60   346854      1845\n"
     ]
    }
   ],
   "source": [
    "# создаем массив уникальных пар значений дат и групп теста\n",
    "datesGroups = orders[['date','group']].drop_duplicates()\n",
    "\n",
    "# получаем агрегированные кумулятивные по дням данные о заказах \n",
    "ordersAggregated = datesGroups.\\\n",
    "           apply(lambda x: orders[np.logical_and(orders['date'] <= x['date'], \\\n",
    "           orders['group'] == x['group'])].\\\n",
    "           agg({'date' : 'max', 'group' : 'max', 'orderId' : 'nunique', \\\n",
    "'userId' : 'nunique', 'revenue' : 'sum'}), axis=1).sort_values(by=['date','group'])\n",
    "\n",
    "# получаем агрегированные кумулятивные по дням данные о посетителях интернет-магазина \n",
    "visitorsAggregated = datesGroups.\\\n",
    "apply(lambda x: visitors[np.logical_and(visitors['date'] <= x['date'], \\\n",
    "                                        visitors['group'] == x['group'])]\\\n",
    "      .agg({'date' : 'max', 'group' : 'max', 'visitors' : 'sum'}), axis=1)\\\n",
    "      .sort_values(by=['date','group'])\n",
    "\n",
    "# объединяем кумулятивные данные в одной таблице и присваиваем ее столбцам понятные названия\n",
    "cumulativeData = ordersAggregated\\\n",
    ".merge(visitorsAggregated, left_on=['date', 'group'], right_on=['date', 'group'])\n",
    "cumulativeData.columns = ['date', 'group', 'orders', 'buyers', 'revenue', 'visitors']\n",
    "\n",
    "print(cumulativeData.head(5))"
   ]
  },
  {
   "cell_type": "markdown",
   "metadata": {},
   "source": [
    "<div class=\"alert alert-block alert-danger\">❌ <b>Комментарий ревьюера:</b> Перед началом исследования, хорошо бы оценить ещё раз исходные данные, а именно определить даты начала и конца тестирования, какое кол-во пользователей входит в группы, сколько всего групп, есть ли пересекающиеся пользователи, кол-во уникальных пользователей (этот анализ можно включить выше в пункт подготовки данных)\n",
    "</div>"
   ]
  },
  {
   "cell_type": "markdown",
   "metadata": {},
   "source": [
    "<div class=\"alert alert-info\" role=\"alert\">\n",
    "  Добавил в п. 4.4\n",
    "</div>"
   ]
  },
  {
   "cell_type": "markdown",
   "metadata": {},
   "source": [
    "<div class=\"alert alert-block alert-success\">✅ <b>Комментарий ревьюера 2:</b> Теперь исследование и предобработка исходных данных более полные :)\n",
    "</div>"
   ]
  },
  {
   "cell_type": "code",
   "execution_count": 36,
   "metadata": {
    "colab": {
     "base_uri": "https://localhost:8080/",
     "height": 276
    },
    "id": "Zvj9-Ai_Ghpn",
    "outputId": "fa3bc849-3d66-48ac-8414-913850619024"
   },
   "outputs": [
    {
     "data": {
      "image/png": "[encoded data removed]",
      "text/plain": [
       "<Figure size 720x576 with 1 Axes>"
      ]
     },
     "metadata": {
      "needs_background": "light"
     },
     "output_type": "display_data"
    }
   ],
   "source": [
    "# датафрейм с кумулятивным количеством заказов и кумулятивной выручкой по дням в группе А\n",
    "cumulativeRevenueA = cumulativeData[cumulativeData['group']=='A'][['date','revenue', 'orders']]\n",
    "\n",
    "# датафрейм с кумулятивным количеством заказов и кумулятивной выручкой по дням в группе B\n",
    "cumulativeRevenueB = cumulativeData[cumulativeData['group']=='B'][['date','revenue', 'orders']]\n",
    "\n",
    "# меняем размер графика и убираем экспотенциальный формат по оси Y\n",
    "plt.figure(figsize=(10, 8))\n",
    "plt.ticklabel_format(style='plain')\n",
    "\n",
    "# Строим график выручки группы А\n",
    "plt.plot(cumulativeRevenueA['date'], cumulativeRevenueA['revenue'], label='A', );\n",
    "\n",
    "# Строим график выручки группы B\n",
    "plt.plot(cumulativeRevenueB['date'], cumulativeRevenueB['revenue'], label='B');\n",
    "\n",
    "plt.title('Кумулятивная выручка по группам А и В \\n')\n",
    "plt.xlabel('\\n Дата', fontsize=14)\n",
    "plt.ylabel('Кумулятивная выручка \\n', fontsize=14)\n",
    "plt.xticks(rotation = 45)\n",
    "plt.legend();\n"
   ]
  },
  {
   "cell_type": "markdown",
   "metadata": {
    "id": "mA4RDh-6Glu7"
   },
   "source": [
    "Выручка равномерно увеличивается на протяжении всего теста. Выручка по группе В делает резкий скачок, по группе А тоже есть несколько точек роста. Это либо появление очень дорогих заказов, либо резкое увеличение количества заказов"
   ]
  },
  {
   "cell_type": "markdown",
   "metadata": {},
   "source": [
    "<div class=\"alert alert-block alert-success\">✅ <b>Комментарий ревьюера:</b> Всё верно, большой скачок может быть связан с наличием больших заказов :)\n",
    "</div>\n",
    "<div class=\"alert alert-block alert-danger\">❌ <b>Комментарий ревьюера:</b> Но график не совсем информативный. Не очень ясно, что отклыдывается по оси х и по оси у, также не хватает заголовка. Для наглядности можно увеличить его размер (это касается и графиков ниже)\n",
    "</div>"
   ]
  },
  {
   "cell_type": "markdown",
   "metadata": {},
   "source": [
    "<div class=\"alert alert-info\" role=\"alert\">\n",
    "  Артём, по графикам все замечания убрал, дополнил всеми параметрами.\n",
    "</div>"
   ]
  },
  {
   "cell_type": "markdown",
   "metadata": {},
   "source": [
    "<div class=\"alert alert-block alert-success\">✅ <b>Комментарий ревьюера 2:</b> Супер, графики преобразились :)\n",
    "</div>"
   ]
  },
  {
   "cell_type": "code",
   "execution_count": null,
   "metadata": {},
   "outputs": [],
   "source": []
  },
  {
   "cell_type": "markdown",
   "metadata": {
    "id": "sEp1I6neLTZ9"
   },
   "source": [
    "### График кумулятивного среднего чека по группам"
   ]
  },
  {
   "cell_type": "code",
   "execution_count": 37,
   "metadata": {
    "colab": {
     "base_uri": "https://localhost:8080/",
     "height": 265
    },
    "id": "-kbaUIajLXfx",
    "outputId": "fd9ce9fb-5cef-4747-f1c1-6ff23074b14c"
   },
   "outputs": [
    {
     "data": {
      "image/png": "[encoded data removed]",
      "text/plain": [
       "<Figure size 720x576 with 1 Axes>"
      ]
     },
     "metadata": {
      "needs_background": "light"
     },
     "output_type": "display_data"
    }
   ],
   "source": [
    "# Построим графики среднего чека по группам — \n",
    "# разделим кумулятивную выручку на кумулятивное число заказов:\n",
    "\n",
    "# меняем размер графика и убираем экспотенциальный формат по оси Y\n",
    "plt.figure(figsize=(10, 8))\n",
    "plt.ticklabel_format(style='plain')\n",
    "\n",
    "plt.plot(cumulativeRevenueA['date'], cumulativeRevenueA['revenue']\\\n",
    "         /cumulativeRevenueA['orders'], label='A');\n",
    "plt.plot(cumulativeRevenueB['date'], cumulativeRevenueB['revenue']\\\n",
    "         /cumulativeRevenueB['orders'], label='B');\n",
    "\n",
    "plt.title('Кумулятивный средний чек по группам А и В \\n')\n",
    "plt.xlabel('\\n Дата', fontsize=14)\n",
    "plt.ylabel('Кумулятивный средний чек \\n', fontsize=14)\n",
    "plt.xticks(rotation = 45)\n",
    "plt.legend();"
   ]
  },
  {
   "cell_type": "markdown",
   "metadata": {
    "id": "zsA0Cm7QLkVK"
   },
   "source": [
    "### Вывод по кумулятивному среднему чеку\n",
    "\n",
    "Средний чек группы А делает несколько резких скачков в начале теста и нормализуется с середины теста. Возможно, были крупные заказы в стартовом периоде теста.\n",
    "\n",
    "Для группы В размер среднего чека носит неравномерный характер на протяжении всего теста. Несколько взлетов и падений на старте. Резкий скачок в середине теста и падение к концу."
   ]
  },
  {
   "cell_type": "markdown",
   "metadata": {},
   "source": [
    "<div class=\"alert alert-block alert-success\">✅ <b>Комментарий ревьюера:</b> Действительно график среднего чека для  группы В \"скачет\", можно предположить что это проиходит из-за наличия ольших заказов :)\n",
    "</div>"
   ]
  },
  {
   "cell_type": "markdown",
   "metadata": {
    "id": "xLhT_dg8MLut"
   },
   "source": [
    "### График относительного изменения кумулятивного среднего чека группы B к группе A"
   ]
  },
  {
   "cell_type": "code",
   "execution_count": 38,
   "metadata": {
    "colab": {
     "base_uri": "https://localhost:8080/",
     "height": 282
    },
    "id": "i6Ivf9p2NFfP",
    "outputId": "26b30512-0d6b-46fa-8c55-a83da62ba3df"
   },
   "outputs": [
    {
     "data": {
      "image/png": "[encoded data removed]",
      "text/plain": [
       "<Figure size 720x576 with 1 Axes>"
      ]
     },
     "metadata": {
      "needs_background": "light"
     },
     "output_type": "display_data"
    }
   ],
   "source": [
    "# собираем данные в одном датафрейме\n",
    "mergedCumulativeRevenue = cumulativeRevenueA.merge(cumulativeRevenueB, \\\n",
    "              left_on='date', right_on='date', how='left', suffixes=['A', 'B'])\n",
    "\n",
    "# меняем размер графика\n",
    "plt.figure(figsize=(10, 8))\n",
    "\n",
    "\n",
    "# cтроим отношение средних чеков\n",
    "plt.plot(mergedCumulativeRevenue['date'], (mergedCumulativeRevenue['revenueB']\\\n",
    "                                          /mergedCumulativeRevenue['ordersB'])\\\n",
    "    /(mergedCumulativeRevenue['revenueA']/mergedCumulativeRevenue['ordersA'])-1)\n",
    "\n",
    "# добавляем ось X\n",
    "plt.axhline(y=0, color='black', linestyle='--')\n",
    "\n",
    "plt.title('График относительного изменения кумулятивного среднего чека \\n');\n",
    "plt.xlabel('\\n Дата', fontsize=14);\n",
    "plt.xticks(rotation = 45);"
   ]
  },
  {
   "cell_type": "markdown",
   "metadata": {
    "id": "I_1WXI64NVzo"
   },
   "source": [
    "В нескольких местах график делает скачки — в эти моменты различие между средними чеками групп А и В резко меняется. Возможно, в данных есть выбросы, отвечающие за резкие скачки среднего чек."
   ]
  },
  {
   "cell_type": "markdown",
   "metadata": {
    "id": "rbb8wlC9LVXz"
   },
   "source": [
    "### Вывод по графику относительного изменения кумулятивного среднего чека\n",
    "\n",
    "По такому \"скачущему\" графику тяжело сделать какие-то выводы, кроме того, что в данных, скорее всего, есть аномалии."
   ]
  },
  {
   "cell_type": "markdown",
   "metadata": {},
   "source": [
    "<div class=\"alert alert-block alert-success\">✅ <b>Комментарий ревьюера:</b> Скорее всего выбросыдостаточно сильно влияют на график :)\n",
    "</div>"
   ]
  },
  {
   "cell_type": "markdown",
   "metadata": {
    "id": "rVeE6eKJC_Tj"
   },
   "source": [
    "### График кумулятивной конверсии"
   ]
  },
  {
   "cell_type": "code",
   "execution_count": 39,
   "metadata": {
    "colab": {
     "base_uri": "https://localhost:8080/",
     "height": 286
    },
    "id": "izBcy_PYEYDn",
    "outputId": "233cadd4-5a0a-4435-fa73-53394c5df088"
   },
   "outputs": [
    {
     "data": {
      "image/png": "[encoded data removed]",
      "text/plain": [
       "<Figure size 576x432 with 1 Axes>"
      ]
     },
     "metadata": {
      "needs_background": "light"
     },
     "output_type": "display_data"
    }
   ],
   "source": [
    "# считаем кумулятивную конверсию\n",
    "cumulativeData['conversion'] = cumulativeData['orders']/cumulativeData['visitors']\n",
    "\n",
    "# отделяем данные по группе A\n",
    "cumulativeDataA = cumulativeData[cumulativeData['group']=='A']\n",
    "\n",
    "# отделяем данные по группе B\n",
    "cumulativeDataB = cumulativeData[cumulativeData['group']=='B']\n",
    "\n",
    "\n",
    "# меняем размер графика и убираем экспотенциальный формат по оси Y\n",
    "plt.figure(figsize=(8, 6))\n",
    "plt.ticklabel_format(style='plain')\n",
    "\n",
    "# строим графики\n",
    "plt.plot(cumulativeDataA['date'], cumulativeDataA['conversion'], label='A')\n",
    "plt.plot(cumulativeDataB['date'], cumulativeDataB['conversion'], label='B')\n",
    "plt.legend()\n",
    "\n",
    "# задаем масштаб осей\n",
    "plt.axis([\"2019-08-01\", '2019-08-31', 0, 0.04])\n",
    "\n",
    "\n",
    "\n",
    "plt.plot(cumulativeRevenueA['date'], cumulativeRevenueA['revenue']\\\n",
    "         /cumulativeRevenueA['orders'], label='A');\n",
    "plt.plot(cumulativeRevenueB['date'], cumulativeRevenueB['revenue']\\\n",
    "         /cumulativeRevenueB['orders'], label='B');\n",
    "\n",
    "plt.title('График кумулятивной конверсии \\n', fontsize=14)\n",
    "plt.xlabel('\\n Дата', fontsize=14)\n",
    "plt.ylabel('Кумулятивная конверсия \\n', fontsize=14)\n",
    "plt.xticks(rotation = 45);"
   ]
  },
  {
   "cell_type": "markdown",
   "metadata": {
    "id": "t_dsw-vNFHGh"
   },
   "source": [
    "Конверсия по обеим группа колебалась в первой половине теста, начиная с середины конверсия для А и В выровнялась. Конверсия для В к концу теста стабильно выше таковой для А на 0.005"
   ]
  },
  {
   "cell_type": "markdown",
   "metadata": {
    "id": "bQx8SCuDLsOl"
   },
   "source": [
    "### Вывод по графику кумулятивной конверсии\n",
    "\n",
    "Куумулятивная конверсия группы В практически с самого начала теста выше таковой по группе А."
   ]
  },
  {
   "cell_type": "markdown",
   "metadata": {},
   "source": [
    "<div class=\"alert alert-block alert-success\">✅ <b>Комментарий ревьюера:</b> Всё верно, конверсия группы В больше конверсии группы А :)\n",
    "</div>"
   ]
  },
  {
   "cell_type": "markdown",
   "metadata": {
    "id": "o9YIOoZTHqK8"
   },
   "source": [
    "### График относительного изменения кумулятивной конверсии группы B к группе A"
   ]
  },
  {
   "cell_type": "code",
   "execution_count": 40,
   "metadata": {
    "colab": {
     "base_uri": "https://localhost:8080/",
     "height": 286
    },
    "id": "gJuW8XyzHwd0",
    "outputId": "a8a13189-67c6-4433-f196-e8c98fe3f494"
   },
   "outputs": [
    {
     "data": {
      "image/png": "[encoded data removed]",
      "text/plain": [
       "<Figure size 576x432 with 1 Axes>"
      ]
     },
     "metadata": {
      "needs_background": "light"
     },
     "output_type": "display_data"
    }
   ],
   "source": [
    "mergedCumulativeConversions = cumulativeDataA[['date','conversion']]\\\n",
    ".merge(cumulativeDataB[['date','conversion']], left_on='date', right_on='date',\\\n",
    "       how='left', suffixes=['A', 'B'])\n",
    "\n",
    "plt.figure(figsize=(8, 6))\n",
    "\n",
    "plt.plot(mergedCumulativeConversions['date'], \\\n",
    "         mergedCumulativeConversions['conversionB']\\\n",
    "         /mergedCumulativeConversions['conversionA']-1,\\\n",
    "         label=\"Относительный прирост конверсии группы B относительно группы A\")\n",
    "\n",
    "plt.axhline(y=0, color='black', linestyle='--')\n",
    "plt.axhline(y=-0.1, color='grey', linestyle='--')\n",
    "plt.axhline(y=0.1, color='grey', linestyle='--')\n",
    "plt.axis([\"2019-08-01\", '2019-08-31', -0.25, 0.25])\n",
    "\n",
    "plt.title('График относительного изменения кумулятивной конверсии \\n', fontsize=14)\n",
    "plt.xlabel('\\n Дата', fontsize=14)\n",
    "plt.xticks(rotation = 45);"
   ]
  },
  {
   "cell_type": "markdown",
   "metadata": {
    "id": "uMDosN6QIV_X"
   },
   "source": [
    "В начале теста кумулятивная конверсия В \"проваливается\", но затем быстро выходит в плюс. Положительное значение прироста конверсии гр. В к таковой для гр. А остается до конца теста."
   ]
  },
  {
   "cell_type": "markdown",
   "metadata": {
    "id": "Sbq3r9OnMzUG"
   },
   "source": [
    "### Вывод по графику относительного изменения кумулятивной конверсии\n",
    "\n",
    "Коверсия гр. В в начале теста проигрывала, но на 5-й день сравнялась, а потом вырвалась вперед. Конверсия гр. В больше таковой для группы А на минимум 10-15%. "
   ]
  },
  {
   "cell_type": "markdown",
   "metadata": {},
   "source": [
    "<div class=\"alert alert-block alert-success\">✅ <b>Комментарий ревьюера:</b> Всё верно, также можно добавить, что в начале теста группа В проигрывала группе А, после чего вырвалась вперёд :)\n",
    "</div>"
   ]
  },
  {
   "cell_type": "markdown",
   "metadata": {},
   "source": [
    "<div class=\"alert alert-info\" role=\"alert\">\n",
    "  Поправил цифру!\n",
    "</div>"
   ]
  },
  {
   "cell_type": "markdown",
   "metadata": {
    "id": "G_NOgghJKBUn"
   },
   "source": [
    "### Точечный график количества заказов по пользователям"
   ]
  },
  {
   "cell_type": "code",
   "execution_count": 41,
   "metadata": {
    "colab": {
     "base_uri": "https://localhost:8080/",
     "height": 206
    },
    "id": "tNO2t2vAHFlc",
    "outputId": "0dc1cffd-4b40-4954-de21-07f24c6beb90"
   },
   "outputs": [
    {
     "data": {
      "text/html": [
       "<div>\n",
       "<style scoped>\n",
       "    .dataframe tbody tr th:only-of-type {\n",
       "        vertical-align: middle;\n",
       "    }\n",
       "\n",
       "    .dataframe tbody tr th {\n",
       "        vertical-align: top;\n",
       "    }\n",
       "\n",
       "    .dataframe thead th {\n",
       "        text-align: right;\n",
       "    }\n",
       "</style>\n",
       "<table border=\"1\" class=\"dataframe\">\n",
       "  <thead>\n",
       "    <tr style=\"text-align: right;\">\n",
       "      <th></th>\n",
       "      <th>userId</th>\n",
       "      <th>orders</th>\n",
       "    </tr>\n",
       "  </thead>\n",
       "  <tbody>\n",
       "    <tr>\n",
       "      <th>908</th>\n",
       "      <td>3967698036</td>\n",
       "      <td>3</td>\n",
       "    </tr>\n",
       "    <tr>\n",
       "      <th>55</th>\n",
       "      <td>249864742</td>\n",
       "      <td>3</td>\n",
       "    </tr>\n",
       "    <tr>\n",
       "      <th>478</th>\n",
       "      <td>2108163459</td>\n",
       "      <td>3</td>\n",
       "    </tr>\n",
       "    <tr>\n",
       "      <th>687</th>\n",
       "      <td>2988190573</td>\n",
       "      <td>3</td>\n",
       "    </tr>\n",
       "    <tr>\n",
       "      <th>890</th>\n",
       "      <td>3908431265</td>\n",
       "      <td>3</td>\n",
       "    </tr>\n",
       "  </tbody>\n",
       "</table>\n",
       "</div>"
      ],
      "text/plain": [
       "         userId  orders\n",
       "908  3967698036       3\n",
       "55    249864742       3\n",
       "478  2108163459       3\n",
       "687  2988190573       3\n",
       "890  3908431265       3"
      ]
     },
     "execution_count": 41,
     "metadata": {},
     "output_type": "execute_result"
    }
   ],
   "source": [
    "ordersByUsers = orders.groupby('userId', as_index=False).\\\n",
    "                  agg({'orderId':'nunique'})\n",
    "ordersByUsers.columns = ['userId', 'orders']   \n",
    "ordersByUsers.sort_values(by='orders', ascending=False).head()              "
   ]
  },
  {
   "cell_type": "code",
   "execution_count": 42,
   "metadata": {
    "colab": {
     "base_uri": "https://localhost:8080/",
     "height": 265
    },
    "id": "jbYznD5CHyPV",
    "outputId": "954b9038-38e8-4104-f2a0-dd1e64451d65"
   },
   "outputs": [
    {
     "data": {
      "text/plain": [
       "Text(0.5, 1.0, 'Точечный график количества заказов \\n')"
      ]
     },
     "execution_count": 42,
     "metadata": {},
     "output_type": "execute_result"
    },
    {
     "data": {
      "image/png": "[encoded data removed]",
      "text/plain": [
       "<Figure size 576x432 with 1 Axes>"
      ]
     },
     "metadata": {
      "needs_background": "light"
     },
     "output_type": "display_data"
    }
   ],
   "source": [
    "# построим точечный график распределения заказов по пользователям\n",
    "\n",
    "x_values = pd.Series(range(0,len(ordersByUsers)))\n",
    "plt.figure(figsize=(8,6))\n",
    "plt.scatter(x_values, ordersByUsers['orders']);\n",
    "plt.title('Точечный график количества заказов \\n')"
   ]
  },
  {
   "cell_type": "code",
   "execution_count": 43,
   "metadata": {
    "colab": {
     "base_uri": "https://localhost:8080/"
    },
    "id": "dEm_aobzML0x",
    "outputId": "cb3387e5-7f41-4ea2-8c9c-7a62d7c15438"
   },
   "outputs": [
    {
     "name": "stdout",
     "output_type": "stream",
     "text": [
      "всего 973 пользователей\n"
     ]
    }
   ],
   "source": [
    "# всего пользователей\n",
    "\n",
    "print(f'всего {len(ordersByUsers)} пользователей')"
   ]
  },
  {
   "cell_type": "code",
   "execution_count": 44,
   "metadata": {
    "colab": {
     "base_uri": "https://localhost:8080/"
    },
    "id": "FwEuAwtANaAQ",
    "outputId": "63f79a4c-e223-43ea-eedb-0710147f17c2"
   },
   "outputs": [
    {
     "data": {
      "text/plain": [
       "userId    937\n",
       "orders    937\n",
       "dtype: int64"
      ]
     },
     "execution_count": 44,
     "metadata": {},
     "output_type": "execute_result"
    }
   ],
   "source": [
    "# сколько пользователей делают 1 заказ\n",
    "\n",
    "ordersByUsers.query('orders == 1').count()"
   ]
  },
  {
   "cell_type": "code",
   "execution_count": 45,
   "metadata": {
    "colab": {
     "base_uri": "https://localhost:8080/"
    },
    "id": "-zFPTZyiMEo0",
    "outputId": "0be24825-10d9-48d9-dac6-8220aafe2483"
   },
   "outputs": [
    {
     "data": {
      "text/plain": [
       "userId    29\n",
       "orders    29\n",
       "dtype: int64"
      ]
     },
     "execution_count": 45,
     "metadata": {},
     "output_type": "execute_result"
    }
   ],
   "source": [
    "# сколько пользователей делают 2 заказа\n",
    "\n",
    "ordersByUsers.query('orders == 2').count()"
   ]
  },
  {
   "cell_type": "code",
   "execution_count": 46,
   "metadata": {
    "colab": {
     "base_uri": "https://localhost:8080/"
    },
    "id": "P7j7vfVJIURs",
    "outputId": "cbee99ff-6dee-44ec-dd6a-e75fdfd951a3"
   },
   "outputs": [
    {
     "data": {
      "text/plain": [
       "userId    7\n",
       "orders    7\n",
       "dtype: int64"
      ]
     },
     "execution_count": 46,
     "metadata": {},
     "output_type": "execute_result"
    }
   ],
   "source": [
    "# полльзователи делают один или два заказа. Посчитаем, сколько пользователей \n",
    "# превышают это количество\n",
    "\n",
    "ordersByUsers.query('orders > 2').count()"
   ]
  },
  {
   "cell_type": "code",
   "execution_count": 47,
   "metadata": {
    "colab": {
     "base_uri": "https://localhost:8080/"
    },
    "id": "x8TsKIxfLwfm",
    "outputId": "301dba8b-3538-47a6-9dc6-2e23f59bfa1e"
   },
   "outputs": [
    {
     "data": {
      "text/plain": [
       "0.007194244604316547"
      ]
     },
     "execution_count": 47,
     "metadata": {},
     "output_type": "execute_result"
    }
   ],
   "source": [
    "# доля пользователей с 3 и более заказами\n",
    "\n",
    "len(ordersByUsers.query('orders > 2')) / len(ordersByUsers)"
   ]
  },
  {
   "cell_type": "markdown",
   "metadata": {
    "id": "ATVYujkzNGcs"
   },
   "source": [
    "### Вывод по заказам на пользователя\n",
    "\n",
    "В основном пользователи делают 1 заказ (96%), значительно меньше 2 заказа (3%). 0.7% пользователей совершают 3  заказа "
   ]
  },
  {
   "cell_type": "markdown",
   "metadata": {},
   "source": [
    "<div class=\"alert alert-block alert-success\">✅ <b>Комментарий ревьюера:</b> Всё верно, большинство пользователей делаю 1 заказ, но  2-4 заказа делают достаточно много пользователей (исходя из графика) :)\n",
    "</div>\n",
    "<div class=\"alert alert-block alert-warning\"> ⚠️ <b>Комментарий ревьюера:</b> Если в выводе приводишь процентные значения, то было бы хорошо привести соответствующие расчёты </div>"
   ]
  },
  {
   "cell_type": "markdown",
   "metadata": {},
   "source": [
    "<div class=\"alert alert-block alert-warning\"> ⚠️ <b>Комментарий ревьюера 2:</b> Т.к. ты удалил часть пользователей, которые присутствовали в обеих группах, то результаты немного изменились. Следует поправить выводы, уточнив корректные значения (это касается и выводов ниже) </div>"
   ]
  },
  {
   "cell_type": "markdown",
   "metadata": {},
   "source": [
    "<div class=\"alert alert-info\" role=\"alert\">\n",
    "  Изменил цифры.\n",
    "</div>"
   ]
  },
  {
   "cell_type": "markdown",
   "metadata": {},
   "source": [
    "<div class=\"alert alert-block alert-success\">✅ <b>Комментарий ревьюера 3:</b> Всё корректно :)\n",
    "</div>"
   ]
  },
  {
   "cell_type": "markdown",
   "metadata": {
    "id": "A63-LkjpN7Vh"
   },
   "source": [
    "### Посчитайте 95-й и 99-й перцентили количества заказов на пользователя"
   ]
  },
  {
   "cell_type": "code",
   "execution_count": 48,
   "metadata": {
    "colab": {
     "base_uri": "https://localhost:8080/"
    },
    "id": "vrFZXKWSU-Mh",
    "outputId": "28241728-7bc9-4668-f798-e3e2e822090f"
   },
   "outputs": [
    {
     "name": "stdout",
     "output_type": "stream",
     "text": [
      "[1. 1. 2.]\n"
     ]
    }
   ],
   "source": [
    "# посчитаем выборочные перцентили количества заказов на одного пользователя\n",
    "\n",
    "print(np.percentile(ordersByUsers['orders'], [90, 95, 99]))"
   ]
  },
  {
   "cell_type": "markdown",
   "metadata": {
    "id": "1EjWGHNvVqDF"
   },
   "source": [
    "Не более 5% оформляли более 2 заказов, данные подтверждают наши выводы по графику. Примем 2 за границу количества заказов. Остальных пользователей с **бОльшим** количеством заказов уберем в дальнейшем как аномалии."
   ]
  },
  {
   "cell_type": "markdown",
   "metadata": {},
   "source": [
    "<div class=\"alert alert-block alert-success\">✅ <b>Комментарий ревьюера:</b> Верное решение принять 2 заказа за границу аномальных заказов  :)\n",
    "</div>"
   ]
  },
  {
   "cell_type": "markdown",
   "metadata": {
    "id": "3AktF1rLWcwU"
   },
   "source": [
    "### Точечный график стоимостей заказов"
   ]
  },
  {
   "cell_type": "code",
   "execution_count": 49,
   "metadata": {
    "colab": {
     "base_uri": "https://localhost:8080/",
     "height": 206
    },
    "id": "B_ng9P1xzLnE",
    "outputId": "93d728c4-7654-4e47-f5ee-df052aa67a3b"
   },
   "outputs": [
    {
     "data": {
      "text/html": [
       "<div>\n",
       "<style scoped>\n",
       "    .dataframe tbody tr th:only-of-type {\n",
       "        vertical-align: middle;\n",
       "    }\n",
       "\n",
       "    .dataframe tbody tr th {\n",
       "        vertical-align: top;\n",
       "    }\n",
       "\n",
       "    .dataframe thead th {\n",
       "        text-align: right;\n",
       "    }\n",
       "</style>\n",
       "<table border=\"1\" class=\"dataframe\">\n",
       "  <thead>\n",
       "    <tr style=\"text-align: right;\">\n",
       "      <th></th>\n",
       "      <th>orderId</th>\n",
       "      <th>userId</th>\n",
       "      <th>date</th>\n",
       "      <th>revenue</th>\n",
       "      <th>group</th>\n",
       "    </tr>\n",
       "  </thead>\n",
       "  <tbody>\n",
       "    <tr>\n",
       "      <th>425</th>\n",
       "      <td>590470918</td>\n",
       "      <td>1920142716</td>\n",
       "      <td>2019-08-19</td>\n",
       "      <td>1294500</td>\n",
       "      <td>B</td>\n",
       "    </tr>\n",
       "    <tr>\n",
       "      <th>1196</th>\n",
       "      <td>3936777065</td>\n",
       "      <td>2108080724</td>\n",
       "      <td>2019-08-15</td>\n",
       "      <td>202740</td>\n",
       "      <td>B</td>\n",
       "    </tr>\n",
       "    <tr>\n",
       "      <th>1136</th>\n",
       "      <td>666610489</td>\n",
       "      <td>1307669133</td>\n",
       "      <td>2019-08-13</td>\n",
       "      <td>92550</td>\n",
       "      <td>A</td>\n",
       "    </tr>\n",
       "    <tr>\n",
       "      <th>744</th>\n",
       "      <td>3668308183</td>\n",
       "      <td>888512513</td>\n",
       "      <td>2019-08-27</td>\n",
       "      <td>86620</td>\n",
       "      <td>B</td>\n",
       "    </tr>\n",
       "    <tr>\n",
       "      <th>743</th>\n",
       "      <td>3603576309</td>\n",
       "      <td>4133034833</td>\n",
       "      <td>2019-08-09</td>\n",
       "      <td>67990</td>\n",
       "      <td>A</td>\n",
       "    </tr>\n",
       "  </tbody>\n",
       "</table>\n",
       "</div>"
      ],
      "text/plain": [
       "         orderId      userId        date  revenue group\n",
       "425    590470918  1920142716  2019-08-19  1294500     B\n",
       "1196  3936777065  2108080724  2019-08-15   202740     B\n",
       "1136   666610489  1307669133  2019-08-13    92550     A\n",
       "744   3668308183   888512513  2019-08-27    86620     B\n",
       "743   3603576309  4133034833  2019-08-09    67990     A"
      ]
     },
     "execution_count": 49,
     "metadata": {},
     "output_type": "execute_result"
    }
   ],
   "source": [
    "# отсортируем датафрейм по полю revenue, посмотрим максимальные значения \n",
    "# в столбце\n",
    "\n",
    "orders.sort_values(by='revenue', ascending=False).head()"
   ]
  },
  {
   "cell_type": "markdown",
   "metadata": {
    "id": "OvVRjlmmz2Nw"
   },
   "source": [
    "Был заказ на 1,3 млн, это определенно аномалия. Для сравнения посмотрим на медиану и среднее"
   ]
  },
  {
   "cell_type": "code",
   "execution_count": 50,
   "metadata": {
    "colab": {
     "base_uri": "https://localhost:8080/"
    },
    "id": "btcRCNAd0DQ9",
    "outputId": "2533ed54-9bd2-41e8-8056-f60cf322732a"
   },
   "outputs": [
    {
     "data": {
      "text/plain": [
       "median    2955.000000\n",
       "mean      8300.814961\n",
       "Name: revenue, dtype: float64"
      ]
     },
     "execution_count": 50,
     "metadata": {},
     "output_type": "execute_result"
    }
   ],
   "source": [
    "orders['revenue'].agg(['median', 'mean'])"
   ]
  },
  {
   "cell_type": "markdown",
   "metadata": {
    "id": "Gtmf9vF10WGa"
   },
   "source": [
    "Из-за аномально больших значений медиана в 2,5 раза меньше среднего. Построим элементарную гистограмму по этому полю, оценим распределение по сумма заказов"
   ]
  },
  {
   "cell_type": "code",
   "execution_count": 51,
   "metadata": {
    "colab": {
     "base_uri": "https://localhost:8080/",
     "height": 295
    },
    "id": "Sc293E6EzZiz",
    "outputId": "5b9161d8-3ab5-44ea-90f9-06afa538c6fc"
   },
   "outputs": [
    {
     "data": {
      "text/plain": [
       "<AxesSubplot:ylabel='Frequency'>"
      ]
     },
     "execution_count": 51,
     "metadata": {},
     "output_type": "execute_result"
    },
    {
     "data": {
      "image/png": "[encoded data removed]",
      "text/plain": [
       "<Figure size 432x288 with 1 Axes>"
      ]
     },
     "metadata": {
      "needs_background": "light"
     },
     "output_type": "display_data"
    }
   ],
   "source": [
    "orders['revenue'].plot(kind='hist')"
   ]
  },
  {
   "cell_type": "code",
   "execution_count": 52,
   "metadata": {
    "colab": {
     "base_uri": "https://localhost:8080/",
     "height": 293
    },
    "id": "FZYT9prVyV9e",
    "outputId": "77033bea-4289-4975-c77d-e73d140979fc"
   },
   "outputs": [
    {
     "data": {
      "text/plain": [
       "<matplotlib.collections.PathCollection at 0x7fa6b2ea39d0>"
      ]
     },
     "execution_count": 52,
     "metadata": {},
     "output_type": "execute_result"
    },
    {
     "data": {
      "image/png": "[encoded data removed]",
      "text/plain": [
       "<Figure size 576x432 with 1 Axes>"
      ]
     },
     "metadata": {
      "needs_background": "light"
     },
     "output_type": "display_data"
    }
   ],
   "source": [
    "# не очень информативно, поэтому построим точечную диаграмму\n",
    "\n",
    "x_values = pd.Series(range(0,len(orders['revenue'])))\n",
    "\n",
    "plt.figure(figsize=(8,6))\n",
    "plt.title('Точечный график стоимостей заказов \\n')\n",
    "plt.scatter(x_values, orders['revenue']) \n",
    "\n"
   ]
  },
  {
   "cell_type": "markdown",
   "metadata": {
    "id": "Vgf_JlK608xh"
   },
   "source": [
    "На скаттере хорошо видно \"великана\" в 1,2кк. Заказы в основном меньше 100.000"
   ]
  },
  {
   "cell_type": "markdown",
   "metadata": {
    "id": "aVXnpXWy1XsG"
   },
   "source": [
    "### 95-й и 99-й перцентили стоимости заказов"
   ]
  },
  {
   "cell_type": "markdown",
   "metadata": {
    "id": "DwYJDrnNanme"
   },
   "source": [
    "Посмотрим на 90, 95 и 99 перцентили"
   ]
  },
  {
   "cell_type": "code",
   "execution_count": 53,
   "metadata": {
    "colab": {
     "base_uri": "https://localhost:8080/"
    },
    "id": "LLMoYkaF1dQv",
    "outputId": "6f458707-1326-412d-b56b-b9a9ab8e2de7"
   },
   "outputs": [
    {
     "data": {
      "text/plain": [
       "array([17990., 26785., 53904.])"
      ]
     },
     "execution_count": 53,
     "metadata": {},
     "output_type": "execute_result"
    }
   ],
   "source": [
    "np.percentile(orders['revenue'], [90, 95, 99])"
   ]
  },
  {
   "cell_type": "markdown",
   "metadata": {
    "id": "vKlSOY9J1yJS"
   },
   "source": [
    "По перцентилям видно — всего 5% заказов стоили дороже 28.000. Таких заказов 60 штук."
   ]
  },
  {
   "cell_type": "code",
   "execution_count": 54,
   "metadata": {
    "colab": {
     "base_uri": "https://localhost:8080/"
    },
    "id": "j3k1nX-Sdgsc",
    "outputId": "9fa607e4-2222-4dbb-e740-4f5189e3e72d"
   },
   "outputs": [
    {
     "data": {
      "text/plain": [
       "array([17990., 26785., 37400.])"
      ]
     },
     "execution_count": 54,
     "metadata": {},
     "output_type": "execute_result"
    }
   ],
   "source": [
    "# посмотрим на 97.5 перцентиль\n",
    "\n",
    "np.percentile(orders['revenue'], [90, 95, 97.5])"
   ]
  },
  {
   "cell_type": "markdown",
   "metadata": {
    "id": "995LgYiPds1y"
   },
   "source": [
    "2,5% заказов дороже 37.400. Их мы в дальнейшем и будем считать аномальными.\n",
    "\n",
    "_Делать срез по 95 перцентилю считаю слишком большой потерей данных. Заказы на скаттере лежат плотно, убираем лишь аномально большие 30 заказов, с остальным работаем._"
   ]
  },
  {
   "cell_type": "markdown",
   "metadata": {},
   "source": [
    "<div class=\"alert alert-block alert-success\">✅ <b>Комментарий ревьюера:</b> Хорошее решение выбрать в качестве границы 97.5 перцентиль. Но выбрать 95й также не является ошибкой :)\n",
    "</div>"
   ]
  },
  {
   "cell_type": "markdown",
   "metadata": {
    "id": "yoFFmAmz2_f3"
   },
   "source": [
    "### Статистическая значимость различий в конверсии между группами по «сырым» данным"
   ]
  },
  {
   "cell_type": "markdown",
   "metadata": {
    "id": "Pjw8gqfA3ECy"
   },
   "source": [
    "Посчитаем статистическую значимость различий в конверсии между группами по «сырым» данным — без удаления аномальных пользователей.\n",
    "\n",
    "Сформулируем гипотезы. \n",
    "\n",
    "Н0: различий в конверсии между группами нет. \n",
    "H1: различия в конверсии между группами есть. \n",
    "\n",
    "Уровень статистической значимости α зададим 0.05\n",
    "\n",
    "Подготовим данные."
   ]
  },
  {
   "cell_type": "code",
   "execution_count": 55,
   "metadata": {
    "colab": {
     "base_uri": "https://localhost:8080/"
    },
    "id": "FcBznxmH34o2",
    "outputId": "9ec73e10-0a13-4d67-e55e-73c35bc34b18"
   },
   "outputs": [
    {
     "data": {
      "text/html": [
       "<div>\n",
       "<style scoped>\n",
       "    .dataframe tbody tr th:only-of-type {\n",
       "        vertical-align: middle;\n",
       "    }\n",
       "\n",
       "    .dataframe tbody tr th {\n",
       "        vertical-align: top;\n",
       "    }\n",
       "\n",
       "    .dataframe thead th {\n",
       "        text-align: right;\n",
       "    }\n",
       "</style>\n",
       "<table border=\"1\" class=\"dataframe\">\n",
       "  <thead>\n",
       "    <tr style=\"text-align: right;\">\n",
       "      <th></th>\n",
       "      <th>date</th>\n",
       "      <th>ordersPerDateA</th>\n",
       "      <th>revenuePerDateA</th>\n",
       "      <th>ordersPerDateB</th>\n",
       "      <th>revenuePerDateB</th>\n",
       "      <th>ordersCummulativeA</th>\n",
       "      <th>...</th>\n",
       "      <th>ordersCummulativeB</th>\n",
       "      <th>revenueCummulativeB</th>\n",
       "      <th>visitorsPerDateA</th>\n",
       "      <th>visitorsPerDateB</th>\n",
       "      <th>visitorsCummulativeA</th>\n",
       "      <th>visitorsCummulativeB</th>\n",
       "    </tr>\n",
       "  </thead>\n",
       "  <tbody>\n",
       "    <tr>\n",
       "      <th>0</th>\n",
       "      <td>2019-08-01</td>\n",
       "      <td>23</td>\n",
       "      <td>142779</td>\n",
       "      <td>17</td>\n",
       "      <td>59758</td>\n",
       "      <td>23</td>\n",
       "      <td>...</td>\n",
       "      <td>17</td>\n",
       "      <td>59758</td>\n",
       "      <td>719</td>\n",
       "      <td>713</td>\n",
       "      <td>719</td>\n",
       "      <td>713</td>\n",
       "    </tr>\n",
       "    <tr>\n",
       "      <th>1</th>\n",
       "      <td>2019-08-02</td>\n",
       "      <td>19</td>\n",
       "      <td>91602</td>\n",
       "      <td>23</td>\n",
       "      <td>162043</td>\n",
       "      <td>42</td>\n",
       "      <td>...</td>\n",
       "      <td>40</td>\n",
       "      <td>221801</td>\n",
       "      <td>619</td>\n",
       "      <td>581</td>\n",
       "      <td>1338</td>\n",
       "      <td>1294</td>\n",
       "    </tr>\n",
       "    <tr>\n",
       "      <th>2</th>\n",
       "      <td>2019-08-03</td>\n",
       "      <td>24</td>\n",
       "      <td>112473</td>\n",
       "      <td>14</td>\n",
       "      <td>67049</td>\n",
       "      <td>66</td>\n",
       "      <td>...</td>\n",
       "      <td>54</td>\n",
       "      <td>288850</td>\n",
       "      <td>507</td>\n",
       "      <td>509</td>\n",
       "      <td>1845</td>\n",
       "      <td>1803</td>\n",
       "    </tr>\n",
       "    <tr>\n",
       "      <th>3</th>\n",
       "      <td>2019-08-04</td>\n",
       "      <td>11</td>\n",
       "      <td>41176</td>\n",
       "      <td>14</td>\n",
       "      <td>96890</td>\n",
       "      <td>77</td>\n",
       "      <td>...</td>\n",
       "      <td>68</td>\n",
       "      <td>385740</td>\n",
       "      <td>717</td>\n",
       "      <td>770</td>\n",
       "      <td>2562</td>\n",
       "      <td>2573</td>\n",
       "    </tr>\n",
       "    <tr>\n",
       "      <th>4</th>\n",
       "      <td>2019-08-05</td>\n",
       "      <td>22</td>\n",
       "      <td>86383</td>\n",
       "      <td>21</td>\n",
       "      <td>89908</td>\n",
       "      <td>99</td>\n",
       "      <td>...</td>\n",
       "      <td>89</td>\n",
       "      <td>475648</td>\n",
       "      <td>756</td>\n",
       "      <td>707</td>\n",
       "      <td>3318</td>\n",
       "      <td>3280</td>\n",
       "    </tr>\n",
       "  </tbody>\n",
       "</table>\n",
       "<p>5 rows × 13 columns</p>\n",
       "</div>"
      ],
      "text/plain": [
       "        date  ordersPerDateA  revenuePerDateA  ordersPerDateB  \\\n",
       "0 2019-08-01              23           142779              17   \n",
       "1 2019-08-02              19            91602              23   \n",
       "2 2019-08-03              24           112473              14   \n",
       "3 2019-08-04              11            41176              14   \n",
       "4 2019-08-05              22            86383              21   \n",
       "\n",
       "   revenuePerDateB  ordersCummulativeA  ...  ordersCummulativeB  \\\n",
       "0            59758                  23  ...                  17   \n",
       "1           162043                  42  ...                  40   \n",
       "2            67049                  66  ...                  54   \n",
       "3            96890                  77  ...                  68   \n",
       "4            89908                  99  ...                  89   \n",
       "\n",
       "   revenueCummulativeB  visitorsPerDateA  visitorsPerDateB  \\\n",
       "0                59758               719               713   \n",
       "1               221801               619               581   \n",
       "2               288850               507               509   \n",
       "3               385740               717               770   \n",
       "4               475648               756               707   \n",
       "\n",
       "   visitorsCummulativeA  visitorsCummulativeB  \n",
       "0                   719                   713  \n",
       "1                  1338                  1294  \n",
       "2                  1845                  1803  \n",
       "3                  2562                  2573  \n",
       "4                  3318                  3280  \n",
       "\n",
       "[5 rows x 13 columns]"
      ]
     },
     "metadata": {},
     "output_type": "display_data"
    }
   ],
   "source": [
    "visitors['date'] = visitors['date'].map(\n",
    "                   lambda x: dt.datetime.strptime(x, '%Y-%m-%d'))\n",
    "orders['date'] = orders['date'].map(\n",
    "    lambda x: dt.datetime.strptime(x, '%Y-%m-%d'))\n",
    "\n",
    "visitorsADaily = visitors[visitors['group'] == 'A'][['date', 'visitors']]\n",
    "visitorsADaily.columns = ['date', 'visitorsPerDateA']\n",
    "\n",
    "visitorsACummulative = visitorsADaily.apply(\n",
    "    lambda x: visitorsADaily[visitorsADaily['date'] <= x['date']].agg(\n",
    "        {'date': 'max', 'visitorsPerDateA': 'sum'}\n",
    "    ),\n",
    "    axis=1,\n",
    ")\n",
    "visitorsACummulative.columns = ['date', 'visitorsCummulativeA']\n",
    "\n",
    "visitorsBDaily = visitors[visitors['group'] == 'B'][['date', 'visitors']]\n",
    "visitorsBDaily.columns = ['date', 'visitorsPerDateB']\n",
    "\n",
    "visitorsBCummulative = visitorsBDaily.apply(\n",
    "    lambda x: visitorsBDaily[visitorsBDaily['date'] <= x['date']].agg(\n",
    "        {'date': 'max', 'visitorsPerDateB': 'sum'}\n",
    "    ),\n",
    "    axis=1,\n",
    ")\n",
    "visitorsBCummulative.columns = ['date', 'visitorsCummulativeB']\n",
    "\n",
    "ordersADaily = (\n",
    "    orders[orders['group'] == 'A'][['date', 'orderId', 'userId', 'revenue']]\n",
    "    .groupby('date', as_index=False)\n",
    "    .agg({'orderId': pd.Series.nunique, 'revenue': 'sum'})\n",
    ")\n",
    "ordersADaily.columns = ['date', 'ordersPerDateA', 'revenuePerDateA']\n",
    "\n",
    "ordersACummulative = ordersADaily.apply(\n",
    "    lambda x: ordersADaily[ordersADaily['date'] <= x['date']].agg(\n",
    "        {'date': 'max', 'ordersPerDateA': 'sum', 'revenuePerDateA': 'sum'}\n",
    "    ),\n",
    "    axis=1,\n",
    ").sort_values(by=['date'])\n",
    "ordersACummulative.columns = [\n",
    "    'date',\n",
    "    'ordersCummulativeA',\n",
    "    'revenueCummulativeA',\n",
    "]\n",
    "\n",
    "ordersBDaily = (\n",
    "    orders[orders['group'] == 'B'][['date', 'orderId', 'userId', 'revenue']]\n",
    "    .groupby('date', as_index=False)\n",
    "    .agg({'orderId': pd.Series.nunique, 'revenue': 'sum'})\n",
    ")\n",
    "ordersBDaily.columns = ['date', 'ordersPerDateB', 'revenuePerDateB']\n",
    "\n",
    "ordersBCummulative = ordersBDaily.apply(\n",
    "    lambda x: ordersBDaily[ordersBDaily['date'] <= x['date']].agg(\n",
    "        {'date': 'max', 'ordersPerDateB': 'sum', 'revenuePerDateB': 'sum'}\n",
    "    ),\n",
    "    axis=1,\n",
    ").sort_values(by=['date'])\n",
    "ordersBCummulative.columns = [\n",
    "    'date',\n",
    "    'ordersCummulativeB',\n",
    "    'revenueCummulativeB',\n",
    "]\n",
    "\n",
    "data = (\n",
    "    ordersADaily.merge(\n",
    "        ordersBDaily, left_on='date', right_on='date', how='left'\n",
    "    )\n",
    "    .merge(ordersACummulative, left_on='date', right_on='date', how='left')\n",
    "    .merge(ordersBCummulative, left_on='date', right_on='date', how='left')\n",
    "    .merge(visitorsADaily, left_on='date', right_on='date', how='left')\n",
    "    .merge(visitorsBDaily, left_on='date', right_on='date', how='left')\n",
    "    .merge(visitorsACummulative, left_on='date', right_on='date', how='left')\n",
    "    .merge(visitorsBCummulative, left_on='date', right_on='date', how='left')\n",
    ")\n",
    "\n",
    "display(data.head(5)) "
   ]
  },
  {
   "cell_type": "markdown",
   "metadata": {},
   "source": [
    "<div class=\"alert alert-block alert-success\">✅ <b>Комментарий ревьюера:</b> Рекомендую для вывода использовать метод display, а не print. Так таблица будет отображаться в привычном виде :)\n",
    "</div>"
   ]
  },
  {
   "cell_type": "markdown",
   "metadata": {},
   "source": [
    "<div class=\"alert alert-info\" role=\"alert\">\n",
    "  Сделал display\n",
    "</div>"
   ]
  },
  {
   "cell_type": "markdown",
   "metadata": {},
   "source": [
    "<div class=\"alert alert-block alert-success\">✅ <b>Комментарий ревьюера 3:</b> Здорово, теперь таблица стала нагляднее :)\n",
    "</div>"
   ]
  },
  {
   "cell_type": "markdown",
   "metadata": {
    "id": "1kTBIvhT4xD9"
   },
   "source": [
    "Посчитаем статистическую значимость различия в конверсии между группами. Создадим переменные _ordersByUsersA_ и _ordersByUsersB_ со столбцами ['userId', 'orders']. В них для пользователей, которые заказывали хотя бы 1 раз, укажем число совершённых заказов"
   ]
  },
  {
   "cell_type": "code",
   "execution_count": 56,
   "metadata": {
    "id": "h3YgMNc0N292"
   },
   "outputs": [],
   "source": [
    "ordersByUsersA = (\n",
    "    orders[orders['group'] == 'A']\n",
    "    .groupby('userId', as_index=False)\n",
    "    .agg({'orderId': pd.Series.nunique})\n",
    ")\n",
    "ordersByUsersA.columns = ['userId', 'orders']\n",
    "\n",
    "ordersByUsersB = (\n",
    "    orders[orders['group'] == 'B']\n",
    "    .groupby('userId', as_index=False)\n",
    "    .agg({'orderId': pd.Series.nunique})\n",
    ")\n",
    "ordersByUsersB.columns = ['userId', 'orders']"
   ]
  },
  {
   "cell_type": "markdown",
   "metadata": {
    "id": "G7LTKzfOSY95"
   },
   "source": [
    "Объявим переменные _sampleA_ и *sampleB*, в которых пользователям из разных групп будет соответствовать количество заказов. Тем, кто ничего не заказал, будут соответствовать нули. Это нужно, чтобы подготовить выборки к проверке критерием Манна-Уитни."
   ]
  },
  {
   "cell_type": "code",
   "execution_count": 57,
   "metadata": {
    "id": "EyuE5uGxSoBJ"
   },
   "outputs": [],
   "source": [
    "sampleA = pd.concat([ordersByUsersA['orders'],\\\n",
    "          pd.Series(0, index=np.arange(data['visitorsPerDateA']\\\n",
    "          .sum() - len(ordersByUsersA['orders'])), name='orders')],axis=0)\n",
    "\n",
    "sampleB = pd.concat([ordersByUsersB['orders'],\\\n",
    "          pd.Series(0, index=np.arange(data['visitorsPerDateB']\\\n",
    "          .sum() - len(ordersByUsersB['orders'])), name='orders')],axis=0)"
   ]
  },
  {
   "cell_type": "code",
   "execution_count": 58,
   "metadata": {
    "colab": {
     "base_uri": "https://localhost:8080/"
    },
    "id": "OqW2QlikTZWd",
    "outputId": "c4fdefc6-f66f-43b6-c5a7-f104295386e7"
   },
   "outputs": [
    {
     "name": "stdout",
     "output_type": "stream",
     "text": [
      "P-value = 0.011\n"
     ]
    }
   ],
   "source": [
    "print(\"P-value = {0:.3f}\".format(stats.mannwhitneyu(sampleA, sampleB)[1]))"
   ]
  },
  {
   "cell_type": "markdown",
   "metadata": {
    "id": "gYAID_-MTvKX"
   },
   "source": [
    "P-value меньше уровня значимости 0.05. Отвергаем нулевую гипотезу и считаем, что между конверсиям по группам А и В есть статистически значимая разница."
   ]
  },
  {
   "cell_type": "markdown",
   "metadata": {
    "id": "yqhLD8dPVQFx"
   },
   "source": [
    "Выведем относительный прирост конверсии группы B = конверсия группы B / (конверсия группы A - 1)"
   ]
  },
  {
   "cell_type": "code",
   "execution_count": 59,
   "metadata": {
    "colab": {
     "base_uri": "https://localhost:8080/"
    },
    "id": "GBj5G8fzV0Nu",
    "outputId": "fb9eeebc-ea78-4ed6-ff06-edf7e7ccda99"
   },
   "outputs": [
    {
     "name": "stdout",
     "output_type": "stream",
     "text": [
      "0.160\n"
     ]
    }
   ],
   "source": [
    "print(\"{0:.3f}\".format(sampleB.mean() / sampleA.mean() - 1))"
   ]
  },
  {
   "cell_type": "markdown",
   "metadata": {
    "id": "X5E5rxLmWNz9"
   },
   "source": [
    "Прирост конверсия по группе В составил 16%"
   ]
  },
  {
   "cell_type": "markdown",
   "metadata": {},
   "source": [
    "<div class=\"alert alert-block alert-success\">✅ <b>Комментарий ревьюера:</b> Всё верно, конверсия В больше конверсии А на 14%:)\n",
    "</div>"
   ]
  },
  {
   "cell_type": "markdown",
   "metadata": {},
   "source": [
    "<div class=\"alert alert-block alert-warning\"> ⚠️ <b>Комментарий ревьюера 2:</b> Уже не 13.8%</div>"
   ]
  },
  {
   "cell_type": "markdown",
   "metadata": {},
   "source": [
    "<div class=\"alert alert-info\" role=\"alert\">\n",
    "  Внес верные данные\n",
    "</div>"
   ]
  },
  {
   "cell_type": "markdown",
   "metadata": {
    "id": "IJP5XRtaWrf3"
   },
   "source": [
    "### Статистическая значимость различий в среднем чеке заказа между группами по «сырым» данным"
   ]
  },
  {
   "cell_type": "markdown",
   "metadata": {
    "id": "Dho2ldZFWyac"
   },
   "source": [
    "Н0: различий в среднем чеке между группами нет. \n",
    "Н1: различия в среднем чеке между группами есть.\n",
    "\n",
    "Чтобы рассчитать статистическую значимость различий в среднем чеке, передадим критерию _mannwhitneyu()_ данные о выручке с заказов."
   ]
  },
  {
   "cell_type": "code",
   "execution_count": 60,
   "metadata": {
    "colab": {
     "base_uri": "https://localhost:8080/"
    },
    "id": "DSe7p4igXS_h",
    "outputId": "835edba1-72ca-420b-bdb2-692946b7cdba"
   },
   "outputs": [
    {
     "name": "stdout",
     "output_type": "stream",
     "text": [
      "P-value = 0.829\n"
     ]
    }
   ],
   "source": [
    "print('P-value = {0:.3f}'.format(stats.mannwhitneyu(orders[orders['group']=='A']\\\n",
    "                  ['revenue'], orders[orders['group']=='B']['revenue'])[1]))"
   ]
  },
  {
   "cell_type": "markdown",
   "metadata": {
    "id": "UrcMJypwYSWd"
   },
   "source": [
    "P-value больше уровня значимости, нулевую гипотезу не отвергаем, статистически значимой разницы между средними чеками нет"
   ]
  },
  {
   "cell_type": "markdown",
   "metadata": {
    "id": "V_V3SFUpYPeO"
   },
   "source": [
    "Посмотрим на относительное изменение по среднему чеку"
   ]
  },
  {
   "cell_type": "code",
   "execution_count": 61,
   "metadata": {
    "colab": {
     "base_uri": "https://localhost:8080/"
    },
    "id": "HnKHY58CYHm8",
    "outputId": "512378f8-0dbb-4a04-a445-8bcd408ae7bf"
   },
   "outputs": [
    {
     "name": "stdout",
     "output_type": "stream",
     "text": [
      "0.287\n"
     ]
    }
   ],
   "source": [
    "print('{0:.3f}'.format(orders[orders['group']=='B']['revenue']\\\n",
    "                      .mean()/orders[orders['group']=='A']['revenue'].mean()-1))"
   ]
  },
  {
   "cell_type": "markdown",
   "metadata": {
    "id": "m0SEk4miZg98"
   },
   "source": [
    "Средний чек группы В на 28.7% больше чека группы А"
   ]
  },
  {
   "cell_type": "markdown",
   "metadata": {},
   "source": [
    "<div class=\"alert alert-block alert-success\">✅ <b>Комментарий ревьюера:</b> Всё верно, между группами нет статистически значимого различия по среднему чеку по \"сырым\" данным, несмотря на относительную разницу почти в 26% :)\n",
    "</div>"
   ]
  },
  {
   "cell_type": "markdown",
   "metadata": {
    "id": "hfBmuYaobKJE"
   },
   "source": [
    "### Вывод по статистической значимости в \"сырых\" данных\n",
    "\n",
    "При работе с \"сырыми\" данными между конверсиями тестируемых групп А и В есть статистически значимая разница, т.к. P-value меньше уровня статистической значимости, а значит нулевую гипотезу о равенстве множеств А и В отвергаем. Т.е. принимаем альтернативную гипотезу Н1 о неравенстве множеств.\n",
    "\n",
    "\n",
    "Между средними чеками такой разницы нет, т.к. P-value больше уровня статистической значимости, а значит нулевую гипотезу о равенстве множеств А и В принимаем. Статистической разницы межуд множествами средних чеков по группам А и В нет."
   ]
  },
  {
   "cell_type": "markdown",
   "metadata": {
    "id": "_cjun6mQacJj"
   },
   "source": [
    "### Статистическая значимость различий в конверсии между группами по «очищенным» данным"
   ]
  },
  {
   "cell_type": "markdown",
   "metadata": {
    "id": "BkKn-G0ia6_X"
   },
   "source": [
    "Примем за аномальных пользователей с количеством заказов больше 2 и совершивших заказы дороже 39.530. Мы потеряем 5% пользователей с количеством заказов больше 2 и пользователей, сделавших заказы на суммы, большие 39.530. Аномальных пользователей объеденим в переменную \n",
    "_abnormalUsers_.\n",
    "\n",
    "Выведем первые строки этой переменной и черех аргумент [0] метода .shape() посмотрим, сколько таких пользователей. \n",
    "\n"
   ]
  },
  {
   "cell_type": "code",
   "execution_count": 62,
   "metadata": {
    "colab": {
     "base_uri": "https://localhost:8080/"
    },
    "id": "Q7d2KAkwcHir",
    "outputId": "73b3caf5-505e-4ba3-f16e-705859849b8a"
   },
   "outputs": [
    {
     "name": "stdout",
     "output_type": "stream",
     "text": [
      "1099    148427295\n",
      "33      249864742\n",
      "684     358944393\n",
      "648     382846391\n",
      "58      611059232\n",
      "Name: userId, dtype: int64\n",
      "30\n"
     ]
    }
   ],
   "source": [
    "usersWithManyOrders = pd.concat(\n",
    "    [\n",
    "        ordersByUsersA[ordersByUsersA['orders'] > 2]['userId'],\n",
    "        ordersByUsersB[ordersByUsersB['orders'] > 2]['userId'],\n",
    "    ],\n",
    "    axis=0,\n",
    ")\n",
    "usersWithExpensiveOrders = orders[orders['revenue'] > 39530]['userId']\n",
    "abnormalUsers = (\n",
    "    pd.concat([usersWithManyOrders, usersWithExpensiveOrders], axis=0)\n",
    "    .drop_duplicates()\n",
    "    .sort_values()\n",
    ")\n",
    "print(abnormalUsers.head(5))\n",
    "print(abnormalUsers.shape[0])"
   ]
  },
  {
   "cell_type": "code",
   "execution_count": 63,
   "metadata": {
    "colab": {
     "base_uri": "https://localhost:8080/"
    },
    "id": "7GcDw8BncqqF",
    "outputId": "26316e91-aa3a-46d7-9c70-f965a6972abc"
   },
   "outputs": [
    {
     "name": "stdout",
     "output_type": "stream",
     "text": [
      "всего удалим 0.030832476875642344 пользователей\n"
     ]
    }
   ],
   "source": [
    "print(f'всего удалим {abnormalUsers.shape[0] / len(ordersByUsers):} пользователей')"
   ]
  },
  {
   "cell_type": "markdown",
   "metadata": {
    "id": "ipc_HqSt9uJv"
   },
   "source": [
    "Потери менее 5% пользователей, приемлимо"
   ]
  },
  {
   "cell_type": "markdown",
   "metadata": {
    "id": "CUv4svDb-4p-"
   },
   "source": [
    "Узнаем, как их действия повлияли на результаты теста. Посчитаем статистическую значимость различий в конверсии между группами теста по очищенным данным. Сначала подготовим выборки количества заказов по пользователям по группам теста:"
   ]
  },
  {
   "cell_type": "code",
   "execution_count": 64,
   "metadata": {
    "id": "mgaGhIYN-3nP"
   },
   "outputs": [],
   "source": [
    " sampleAFiltered = pd.concat(\n",
    "    [\n",
    "        ordersByUsersA[\n",
    "            np.logical_not(ordersByUsersA['userId'].isin(abnormalUsers))\n",
    "        ]['orders'],\n",
    "        pd.Series(\n",
    "            0,\n",
    "            index=np.arange(\n",
    "                data['visitorsPerDateA'].sum() - len(ordersByUsersA['orders'])\n",
    "            ),\n",
    "            name='orders',\n",
    "        ),\n",
    "    ],\n",
    "    axis=0,\n",
    ")\n",
    "\n",
    "sampleBFiltered = pd.concat(\n",
    "    [\n",
    "        ordersByUsersB[\n",
    "            np.logical_not(ordersByUsersB['userId'].isin(abnormalUsers))\n",
    "        ]['orders'],\n",
    "        pd.Series(\n",
    "            0,\n",
    "            index=np.arange(\n",
    "                data['visitorsPerDateB'].sum() - len(ordersByUsersB['orders'])\n",
    "            ),\n",
    "            name='orders',\n",
    "        ),\n",
    "    ],\n",
    "    axis=0,\n",
    ")"
   ]
  },
  {
   "cell_type": "markdown",
   "metadata": {
    "id": "7LQ2zL7PBU4J"
   },
   "source": [
    "Применим статистический критерий Манна-Уитни к полученным выборкам. Сразу посчитаем относительное изменение конверсии.\n",
    "\n",
    "НО и Н1 оставляем те же, что и для неочищенных данных."
   ]
  },
  {
   "cell_type": "code",
   "execution_count": 65,
   "metadata": {
    "colab": {
     "base_uri": "https://localhost:8080/"
    },
    "id": "lZVetUBtBWtj",
    "outputId": "2b4040ef-2ba6-4e05-da92-45b1cb23181d"
   },
   "outputs": [
    {
     "name": "stdout",
     "output_type": "stream",
     "text": [
      "P-value для очищенных данных = 0.004\n",
      "Относительное изменение конверсии для очищенных данных = 0.205\n"
     ]
    }
   ],
   "source": [
    "print('P-value для очищенных данных = {0:.3f}'.format(stats.mannwhitneyu(sampleAFiltered, sampleBFiltered)[1]))\n",
    "print('Относительное изменение конверсии для очищенных данных = {0:.3f}'\\\n",
    "      .format(sampleBFiltered.mean()/sampleAFiltered.mean()-1))"
   ]
  },
  {
   "cell_type": "code",
   "execution_count": 66,
   "metadata": {
    "colab": {
     "base_uri": "https://localhost:8080/"
    },
    "id": "Ecb81SkUBpWb",
    "outputId": "572d6228-89aa-4927-cc4a-df3360117747"
   },
   "outputs": [
    {
     "name": "stdout",
     "output_type": "stream",
     "text": [
      "P-value для неоочищенных данных = 0.011\n",
      "Относительное изменение конверсии для неочищенных данных =0.160\n"
     ]
    }
   ],
   "source": [
    "# сравним с неочищенными данными\n",
    "\n",
    "print(\"P-value для неоочищенных данных = {0:.3f}\".format(stats.mannwhitneyu(sampleA, sampleB)[1]))\n",
    "print(\"Относительное изменение конверсии для неочищенных данных ={0:.3f}\"\\\n",
    "      .format(sampleB.mean() / sampleA.mean() - 1))"
   ]
  },
  {
   "cell_type": "markdown",
   "metadata": {
    "id": "R-P6kaFWCHo6"
   },
   "source": [
    "P-value стал еще меньше, еще дальше от уровня статистической значимости, нулевую гипотезу так же уверенно отвергаем. После фильтрации можем уверенно говорить, что между конверсие по группе А и группе В есть статистически значимая разница.\n",
    "\n",
    "Фильтрация аномалий уменьшила относительную прирост конверсии в группе В к группе А. Тем не менее, конверсия в гр. В больше на ощутимые 16%.\n",
    "\n",
    "Принципиально результаты после фильтрации не изменились."
   ]
  },
  {
   "cell_type": "markdown",
   "metadata": {},
   "source": [
    "<div class=\"alert alert-block alert-success\">✅ <b>Комментарий ревьюера:</b> Всё верно :)\n",
    "</div>\n",
    "<div class=\"alert alert-block alert-danger\">❌ <b>Комментарий ревьюера:</b> Не хватает постановок Н0 и Н1. Также стоит добавить в вывод, что означают полученные значения (касается и выводов ниже)\n",
    "</div>"
   ]
  },
  {
   "cell_type": "markdown",
   "metadata": {},
   "source": [
    "<div class=\"alert alert-info\" role=\"alert\">\n",
    "  Артём, Н0 и Н1 сформулировал явно. Более подробно расписал принятие/отвержение нулевой гипотезы.\n",
    "</div>"
   ]
  },
  {
   "cell_type": "markdown",
   "metadata": {},
   "source": [
    "<div class=\"alert alert-block alert-warning\"> ⚠️ <b>Комментарий ревьюера 2:</b> Формулировки такие же как и в предыдущих заданиях, всё верно разница только в том что данные очищенные. Добавь, пожалуйста, что значит 0.011 и 0.160 </div>"
   ]
  },
  {
   "cell_type": "markdown",
   "metadata": {},
   "source": [
    "<div class=\"alert alert-info\" role=\"alert\">\n",
    "  Расписал, что есть что и что означают 0.011 и 0.160\n",
    "</div>"
   ]
  },
  {
   "cell_type": "markdown",
   "metadata": {},
   "source": [
    "<div class=\"alert alert-block alert-success\">✅ <b>Комментарий ревьюера 3:</b> Всё отлично  :)\n",
    "</div>"
   ]
  },
  {
   "cell_type": "markdown",
   "metadata": {
    "id": "q5ealALGC5YQ"
   },
   "source": [
    "### Статистическая значимость различий в среднем чеке заказа между группами по «очищенным» данным"
   ]
  },
  {
   "cell_type": "markdown",
   "metadata": {
    "id": "uWGnSOsXsv2q"
   },
   "source": [
    "Результаты по конверсии практически не изменились, проверим средний чек.\n",
    "\n",
    "Н0 и Н1 оставляем прежними."
   ]
  },
  {
   "cell_type": "code",
   "execution_count": 67,
   "metadata": {
    "colab": {
     "base_uri": "https://localhost:8080/"
    },
    "id": "JagWadhts6nm",
    "outputId": "b3c1a04d-990d-4388-d39c-3603d45bb0f9"
   },
   "outputs": [
    {
     "name": "stdout",
     "output_type": "stream",
     "text": [
      "P-value среднего чека для очищенных данных =0.937\n",
      "Относительное изменение среднего чека для очищенных данных=0.055\n"
     ]
    }
   ],
   "source": [
    "print(\n",
    "    'P-value среднего чека для очищенных данных ={0:.3f}'.format(\n",
    "        stats.mannwhitneyu(\n",
    "            orders[\n",
    "                np.logical_and(\n",
    "                    orders['group'] == 'A',\n",
    "                    np.logical_not(orders['userId'].isin(abnormalUsers)),\n",
    "                )\n",
    "            ]['revenue'],\n",
    "            orders[\n",
    "                np.logical_and(\n",
    "                    orders['group'] == 'B',\n",
    "                    np.logical_not(orders['userId'].isin(abnormalUsers)),\n",
    "                )\n",
    "            ]['revenue'],\n",
    "        )[1]\n",
    "    )\n",
    ")\n",
    "\n",
    "print(\n",
    "    \"Относительное изменение среднего чека для очищенных данных={0:.3f}\".format(\n",
    "        orders[\n",
    "            np.logical_and(\n",
    "                orders['group'] == 'B',\n",
    "                np.logical_not(orders['userId'].isin(abnormalUsers)),\n",
    "            )\n",
    "        ]['revenue'].mean()\n",
    "        / orders[\n",
    "            np.logical_and(\n",
    "                orders['group'] == 'A',\n",
    "                np.logical_not(orders['userId'].isin(abnormalUsers)),\n",
    "            )\n",
    "        ]['revenue'].mean()\n",
    "        - 1\n",
    "    )\n",
    ")"
   ]
  },
  {
   "cell_type": "code",
   "execution_count": 68,
   "metadata": {
    "colab": {
     "base_uri": "https://localhost:8080/"
    },
    "id": "vPK9iP7-tzYo",
    "outputId": "ecf18fc4-18c5-4ba4-bd03-bd15c1575283"
   },
   "outputs": [
    {
     "name": "stdout",
     "output_type": "stream",
     "text": [
      "P-value среднего чека для неочищенных данных = 0.829\n",
      "Относительное изменение среднего чека для неочищенных данных = 0.287\n"
     ]
    }
   ],
   "source": [
    "# вспомним \"сырые\" данные\n",
    "\n",
    "print('P-value среднего чека для неочищенных данных = {0:.3f}'.\\\n",
    "      format(stats.mannwhitneyu(orders[orders['group']=='A']\\\n",
    "                  ['revenue'], orders[orders['group']=='B']['revenue'])[1]))\n",
    "print('Относительное изменение среднего чека для неочищенных данных = {0:.3f}'\\\n",
    "      .format(orders[orders['group']=='B']['revenue']\\\n",
    "                      .mean()/orders[orders['group']=='A']['revenue'].mean()-1))\n"
   ]
  },
  {
   "cell_type": "markdown",
   "metadata": {
    "id": "k6ZIps92t51M"
   },
   "source": [
    "Значение P-value принципиально не изменилось, оно все еще больше уровня статистической значимости. По очищенным данным нулевую гипотезу не отвергаем, статистически значимой разницы между средним чеком гр. А и гр. В нет.\n",
    "\n",
    "По очищенным данным относительное изменение среднего чего гр. В к среднему чеку гр. А составляет положительные 5.5%."
   ]
  },
  {
   "cell_type": "markdown",
   "metadata": {},
   "source": [
    "<div class=\"alert alert-info\" role=\"alert\">\n",
    "  Поправил цифры\n",
    "</div>"
   ]
  },
  {
   "cell_type": "markdown",
   "metadata": {
    "id": "7FAla6M5b1YW"
   },
   "source": [
    "### Вывод по статистически значимой разнице по конверсии и среднему чеку в очищенных данных\n",
    "\n",
    "Результат принципиально не отличается от такового в \"сырых\" данных. Поменялось количественное значение P-value в меньшую сторону для конверсии, т.е. гипотезу о равенстве конверсий отвергаем.\n",
    "\n",
    "P-value для среднего чека больше для очищенных данных, нулевую гипотезу о равенстве также принимаем."
   ]
  },
  {
   "cell_type": "markdown",
   "metadata": {
    "id": "UyGecbbLuj55"
   },
   "source": [
    "## Решение по результатам теста и объясните его"
   ]
  },
  {
   "cell_type": "markdown",
   "metadata": {
    "id": "WjdqrFVua7oY"
   },
   "source": [
    "После анализа результатов А/В-тестов имеем следующие факты:\n",
    "\n",
    "1. Между конверсией гр. А и гр. В есть статистически значимая разница по \"сырым\" и очищенным данным\n",
    "2. Конверсия группы В стабильно лучше таковой в группе А\n",
    "3. Средний чек в начале теста был лучше в гр. В. Средний чек к середине теста стал больше в гр. А. К концу теста средний чек был на 30% больше в гр. В. Главное — положительная динамика среднего чека в пользу гр. В с середины теста\n",
    "4. На графике кумулятивной конверсии гр. В стабильно лучше гр. А. На графике относительного изменения кумулятивной конверсии значение стабильно находится в плюсовом значении.\n",
    "\n",
    "**На основании этих данных можно принять решение:\n",
    "Признать тест успешным. Зафиксирована победа группы В.**"
   ]
  },
  {
   "cell_type": "markdown",
   "metadata": {
    "id": "j371jlbOWNaL"
   },
   "source": [
    "## Общий вывод\n",
    "\n",
    "Нам попались чистые, хорошие данные. Потребовались минимальные корректировки в них, смена регистров в столбцах. Никаких пропусков, никаких дубликатов.\n",
    "\n",
    "Единственное, с чем столкнулись — аномально большое количество заказов у некоторых пользователей и аномально большие суммы заказов. Таких пользователей мы исключили в отфильтрованных данных. Потери составили менее 5% данных.\n",
    "\n",
    "Провели приоритезацию гипотез методами ICE и RICE. Данные по обоим методам почти совпали, предпочтение отдали выборке по методу RICE из-за учета охвата в этой метрике. Список потенциально прибыльных гипотез:\n",
    "1. Добавить форму подписки на все основные страницы, чтобы собрать базу клиентов для email-рассылок\n",
    "2. Добавить блоки рекомендаций товаров на сайт интернет магазина, чтобы повысить конверсию и средний чек заказа\n",
    "3. Добавить два новых канала привлечения трафика, что позволит привлекать на 30% больше пользователей\n",
    "4. Показать на главной странице баннеры с актуальными акциями и распродажами, чтобы увеличить конверсию\n",
    "\n",
    "Провели анализ А/В-тестирования. Приняли за нулевые гипотезы о равенстве конверсий и чеков. За альтернативные — гипотезы о неравестве. \n",
    "\n",
    "Обнаружили:\n",
    "1. Между конверсией гр. А и гр. В есть статистически значимая разница по \"сырым\" и очищенным данным, т.к. P-value ниже уровня статистической значимости α=0.05 и Н0 о равенстве отвергаем.\n",
    "2. Конверсия группы В стабильно лучше таковой в группе А\n",
    "3. Средний чек в начале теста был лучше в гр. В. Средний чек к середине теста стал больше в гр. А. К концу теста средний чек был на 30% больше в гр. В. Главное — положительная динамика среднего чека в пользу гр. В с середины теста\n",
    "4. На графике кумулятивной конверсии гр. В стабильно лучше гр. А. На графике относительного изменения кумулятивной конверсии значение стабильно находится в плюсовом значении.\n",
    "\n",
    "**По итогам этих выводов признаем тест успешным и определяем победителем группу В**."
   ]
  },
  {
   "cell_type": "markdown",
   "metadata": {},
   "source": [
    "<div class=\"alert alert-block alert-danger\"> <b>Итоги ревью:</b> Хороший проект. Все задания рассмотрены и выполнены. Но, к сожалению, есть несколько замечаний, требующие исправлений и уточнений. Желаю успехов и жду работу на повторное ревью :)\n",
    "</div>"
   ]
  },
  {
   "cell_type": "markdown",
   "metadata": {},
   "source": [
    "<div class=\"alert alert-info\" role=\"alert\">\n",
    "  Артём, внес поправки! Спасибо еще раз за оперативную проверку проекта!\n",
    "</div>"
   ]
  },
  {
   "cell_type": "markdown",
   "metadata": {},
   "source": [
    "<div class=\"alert alert-block alert-warning\"> <b>Итоги ревью 2:</b> Проект преобразился. Все критичные замечания исправлены. Но в связи с тем, что была удалена часть данных, изменились результаты исследования и стоит подкорректировать итоговые выводы (оставил жёлтые комментарии). Желаю успехов :)\n",
    "</div>"
   ]
  },
  {
   "cell_type": "markdown",
   "metadata": {},
   "source": [
    "<div class=\"alert alert-info\" role=\"alert\">\n",
    "  Артём, вроде все поправил :)\n",
    "</div>"
   ]
  },
  {
   "cell_type": "markdown",
   "metadata": {},
   "source": [
    "<div class=\"alert alert-block alert-success\"> <b>Итоги ревью 3:</b> Проект принят. Проделана качественная работа. Ты хорошо разобрался в материале. Было приятно проверять твой проект. Желаю успехов в будущих исследованиях :)\n",
    "</div>"
   ]
  }
 ],
 "metadata": {
  "ExecuteTimeLog": [
   {
    "duration": 2319,
    "start_time": "2022-05-29T13:29:46.327Z"
   },
   {
    "duration": 4,
    "start_time": "2022-05-29T13:29:48.648Z"
   },
   {
    "duration": 192,
    "start_time": "2022-05-29T13:29:48.653Z"
   },
   {
    "duration": 10,
    "start_time": "2022-05-29T13:29:48.847Z"
   },
   {
    "duration": 7,
    "start_time": "2022-05-29T13:29:48.858Z"
   },
   {
    "duration": 5,
    "start_time": "2022-05-29T13:29:48.866Z"
   },
   {
    "duration": 9,
    "start_time": "2022-05-29T13:29:48.872Z"
   },
   {
    "duration": 4,
    "start_time": "2022-05-29T13:29:48.883Z"
   },
   {
    "duration": 9,
    "start_time": "2022-05-29T13:29:48.888Z"
   },
   {
    "duration": 10,
    "start_time": "2022-05-29T13:29:48.899Z"
   },
   {
    "duration": 13,
    "start_time": "2022-05-29T13:29:48.910Z"
   },
   {
    "duration": 6,
    "start_time": "2022-05-29T13:29:48.924Z"
   },
   {
    "duration": 8,
    "start_time": "2022-05-29T13:29:48.932Z"
   },
   {
    "duration": 6,
    "start_time": "2022-05-29T13:29:48.942Z"
   },
   {
    "duration": 14,
    "start_time": "2022-05-29T13:29:48.949Z"
   },
   {
    "duration": 8,
    "start_time": "2022-05-29T13:29:48.965Z"
   },
   {
    "duration": 14,
    "start_time": "2022-05-29T13:29:48.975Z"
   },
   {
    "duration": 161,
    "start_time": "2022-05-29T13:29:48.991Z"
   },
   {
    "duration": 6,
    "start_time": "2022-05-29T13:29:49.153Z"
   },
   {
    "duration": 14,
    "start_time": "2022-05-29T13:29:49.161Z"
   },
   {
    "duration": 195,
    "start_time": "2022-05-29T13:29:49.177Z"
   },
   {
    "duration": 6,
    "start_time": "2022-05-29T13:29:49.374Z"
   },
   {
    "duration": 254,
    "start_time": "2022-05-29T13:29:49.382Z"
   },
   {
    "duration": 240,
    "start_time": "2022-05-29T13:29:49.638Z"
   },
   {
    "duration": 244,
    "start_time": "2022-05-29T13:29:49.879Z"
   },
   {
    "duration": 342,
    "start_time": "2022-05-29T13:29:50.124Z"
   },
   {
    "duration": 257,
    "start_time": "2022-05-29T13:29:50.468Z"
   },
   {
    "duration": 337,
    "start_time": "2022-05-29T13:29:50.727Z"
   },
   {
    "duration": 10,
    "start_time": "2022-05-29T13:29:51.065Z"
   },
   {
    "duration": 114,
    "start_time": "2022-05-29T13:29:51.076Z"
   },
   {
    "duration": 3,
    "start_time": "2022-05-29T13:29:51.191Z"
   },
   {
    "duration": 10,
    "start_time": "2022-05-29T13:29:51.196Z"
   },
   {
    "duration": 19,
    "start_time": "2022-05-29T13:29:51.207Z"
   },
   {
    "duration": 7,
    "start_time": "2022-05-29T13:29:51.228Z"
   },
   {
    "duration": 7,
    "start_time": "2022-05-29T13:29:51.237Z"
   },
   {
    "duration": 5,
    "start_time": "2022-05-29T13:29:51.246Z"
   },
   {
    "duration": 11,
    "start_time": "2022-05-29T13:29:51.252Z"
   },
   {
    "duration": 5,
    "start_time": "2022-05-29T13:29:51.264Z"
   },
   {
    "duration": 165,
    "start_time": "2022-05-29T13:29:51.270Z"
   },
   {
    "duration": 124,
    "start_time": "2022-05-29T13:29:51.437Z"
   },
   {
    "duration": 4,
    "start_time": "2022-05-29T13:29:51.565Z"
   },
   {
    "duration": 8,
    "start_time": "2022-05-29T13:29:51.571Z"
   },
   {
    "duration": 231,
    "start_time": "2022-05-29T13:29:51.580Z"
   },
   {
    "duration": 149,
    "start_time": "2022-05-29T13:29:51.813Z"
   },
   {
    "duration": 6,
    "start_time": "2022-05-29T13:29:51.964Z"
   },
   {
    "duration": 40,
    "start_time": "2022-05-29T13:29:51.971Z"
   },
   {
    "duration": 13,
    "start_time": "2022-05-29T13:29:52.012Z"
   },
   {
    "duration": 8,
    "start_time": "2022-05-29T13:29:52.027Z"
   },
   {
    "duration": 6,
    "start_time": "2022-05-29T13:29:52.036Z"
   },
   {
    "duration": 10,
    "start_time": "2022-05-29T13:29:52.043Z"
   },
   {
    "duration": 8,
    "start_time": "2022-05-29T13:29:52.054Z"
   },
   {
    "duration": 10,
    "start_time": "2022-05-29T13:29:52.064Z"
   },
   {
    "duration": 52,
    "start_time": "2022-05-29T13:29:52.076Z"
   },
   {
    "duration": 31,
    "start_time": "2022-05-29T13:29:52.130Z"
   },
   {
    "duration": 12,
    "start_time": "2022-05-29T13:29:52.163Z"
   },
   {
    "duration": 11,
    "start_time": "2022-05-29T13:29:52.177Z"
   },
   {
    "duration": 1313,
    "start_time": "2022-05-29T15:49:02.983Z"
   },
   {
    "duration": 6,
    "start_time": "2022-05-29T15:49:28.614Z"
   },
   {
    "duration": 6,
    "start_time": "2022-05-29T15:49:33.194Z"
   },
   {
    "duration": 216,
    "start_time": "2022-05-29T15:49:36.084Z"
   },
   {
    "duration": 11,
    "start_time": "2022-05-29T15:49:38.509Z"
   },
   {
    "duration": 7,
    "start_time": "2022-05-29T15:49:45.463Z"
   },
   {
    "duration": 3,
    "start_time": "2022-05-29T15:49:50.573Z"
   },
   {
    "duration": 7,
    "start_time": "2022-05-29T15:49:51.649Z"
   },
   {
    "duration": 3,
    "start_time": "2022-05-29T15:49:54.161Z"
   },
   {
    "duration": 7,
    "start_time": "2022-05-29T15:49:54.687Z"
   },
   {
    "duration": 6,
    "start_time": "2022-05-29T15:49:55.618Z"
   },
   {
    "duration": 7,
    "start_time": "2022-05-29T15:49:55.899Z"
   },
   {
    "duration": 7,
    "start_time": "2022-05-29T15:49:57.013Z"
   },
   {
    "duration": 8,
    "start_time": "2022-05-29T15:49:57.251Z"
   },
   {
    "duration": 6,
    "start_time": "2022-05-29T15:49:57.668Z"
   },
   {
    "duration": 8,
    "start_time": "2022-05-29T15:56:27.774Z"
   },
   {
    "duration": 3,
    "start_time": "2022-05-29T15:56:36.456Z"
   },
   {
    "duration": 270,
    "start_time": "2022-05-29T15:56:41.592Z"
   },
   {
    "duration": 205,
    "start_time": "2022-05-29T15:56:43.259Z"
   },
   {
    "duration": 127,
    "start_time": "2022-05-29T15:57:16.400Z"
   },
   {
    "duration": 146,
    "start_time": "2022-05-29T15:57:27.173Z"
   },
   {
    "duration": 132,
    "start_time": "2022-05-29T15:57:57.514Z"
   },
   {
    "duration": 7,
    "start_time": "2022-05-29T15:58:00.285Z"
   },
   {
    "duration": 136,
    "start_time": "2022-05-29T15:58:09.871Z"
   },
   {
    "duration": 133,
    "start_time": "2022-05-29T15:58:21.295Z"
   },
   {
    "duration": 6,
    "start_time": "2022-05-29T15:58:28.446Z"
   },
   {
    "duration": 11,
    "start_time": "2022-05-29T15:58:31.582Z"
   },
   {
    "duration": 118,
    "start_time": "2022-05-29T15:58:32.831Z"
   },
   {
    "duration": 136,
    "start_time": "2022-05-29T15:58:39.977Z"
   },
   {
    "duration": 7,
    "start_time": "2022-05-29T15:58:44.389Z"
   },
   {
    "duration": 18,
    "start_time": "2022-05-29T16:03:10.363Z"
   },
   {
    "duration": 13,
    "start_time": "2022-05-29T16:03:24.507Z"
   },
   {
    "duration": 7,
    "start_time": "2022-05-29T16:03:56.263Z"
   },
   {
    "duration": 13,
    "start_time": "2022-05-29T16:04:04.284Z"
   },
   {
    "duration": 11,
    "start_time": "2022-05-29T16:04:24.609Z"
   },
   {
    "duration": 130,
    "start_time": "2022-05-29T16:04:55.752Z"
   },
   {
    "duration": 6,
    "start_time": "2022-05-29T16:04:58.455Z"
   },
   {
    "duration": 12,
    "start_time": "2022-05-29T16:05:02.250Z"
   },
   {
    "duration": 129,
    "start_time": "2022-05-29T16:05:12.476Z"
   },
   {
    "duration": 6,
    "start_time": "2022-05-29T16:05:14.103Z"
   },
   {
    "duration": 8,
    "start_time": "2022-05-29T16:12:04.896Z"
   },
   {
    "duration": 97,
    "start_time": "2022-05-29T16:12:54.715Z"
   },
   {
    "duration": 8,
    "start_time": "2022-05-29T16:13:05.646Z"
   },
   {
    "duration": 7,
    "start_time": "2022-05-29T16:13:44.595Z"
   },
   {
    "duration": 7,
    "start_time": "2022-05-29T16:14:35.849Z"
   },
   {
    "duration": 5,
    "start_time": "2022-05-29T16:14:57.019Z"
   },
   {
    "duration": 1189,
    "start_time": "2022-05-30T00:27:03.423Z"
   },
   {
    "duration": 10,
    "start_time": "2022-05-30T00:27:04.614Z"
   },
   {
    "duration": 200,
    "start_time": "2022-05-30T00:27:04.626Z"
   },
   {
    "duration": 9,
    "start_time": "2022-05-30T00:27:04.828Z"
   },
   {
    "duration": 16,
    "start_time": "2022-05-30T00:27:04.839Z"
   },
   {
    "duration": 18,
    "start_time": "2022-05-30T00:27:04.856Z"
   },
   {
    "duration": 19,
    "start_time": "2022-05-30T00:27:04.875Z"
   },
   {
    "duration": 16,
    "start_time": "2022-05-30T00:27:04.896Z"
   },
   {
    "duration": 23,
    "start_time": "2022-05-30T00:27:04.913Z"
   },
   {
    "duration": 18,
    "start_time": "2022-05-30T00:27:04.939Z"
   },
   {
    "duration": 15,
    "start_time": "2022-05-30T00:27:04.958Z"
   },
   {
    "duration": 16,
    "start_time": "2022-05-30T00:27:04.974Z"
   },
   {
    "duration": 17,
    "start_time": "2022-05-30T00:27:04.992Z"
   },
   {
    "duration": 18,
    "start_time": "2022-05-30T00:27:05.011Z"
   },
   {
    "duration": 20,
    "start_time": "2022-05-30T00:27:05.031Z"
   },
   {
    "duration": 20,
    "start_time": "2022-05-30T00:27:05.053Z"
   },
   {
    "duration": 18,
    "start_time": "2022-05-30T00:27:05.075Z"
   },
   {
    "duration": 18,
    "start_time": "2022-05-30T00:27:05.094Z"
   },
   {
    "duration": 24,
    "start_time": "2022-05-30T00:27:05.113Z"
   },
   {
    "duration": 11,
    "start_time": "2022-05-30T00:27:05.139Z"
   },
   {
    "duration": 31,
    "start_time": "2022-05-30T00:27:05.152Z"
   },
   {
    "duration": 151,
    "start_time": "2022-05-30T00:27:05.185Z"
   },
   {
    "duration": 5,
    "start_time": "2022-05-30T00:27:05.338Z"
   },
   {
    "duration": 28,
    "start_time": "2022-05-30T00:27:05.344Z"
   },
   {
    "duration": 202,
    "start_time": "2022-05-30T00:27:05.373Z"
   },
   {
    "duration": 5,
    "start_time": "2022-05-30T00:27:05.577Z"
   },
   {
    "duration": 276,
    "start_time": "2022-05-30T00:27:05.583Z"
   },
   {
    "duration": 247,
    "start_time": "2022-05-30T00:27:05.862Z"
   },
   {
    "duration": 234,
    "start_time": "2022-05-30T00:27:06.111Z"
   },
   {
    "duration": 365,
    "start_time": "2022-05-30T00:27:06.346Z"
   },
   {
    "duration": 258,
    "start_time": "2022-05-30T00:27:06.713Z"
   },
   {
    "duration": 314,
    "start_time": "2022-05-30T00:27:06.972Z"
   },
   {
    "duration": 11,
    "start_time": "2022-05-30T00:27:07.287Z"
   },
   {
    "duration": 112,
    "start_time": "2022-05-30T00:27:07.299Z"
   },
   {
    "duration": 3,
    "start_time": "2022-05-30T00:27:07.413Z"
   },
   {
    "duration": 13,
    "start_time": "2022-05-30T00:27:07.417Z"
   },
   {
    "duration": 9,
    "start_time": "2022-05-30T00:27:07.431Z"
   },
   {
    "duration": 7,
    "start_time": "2022-05-30T00:27:07.442Z"
   },
   {
    "duration": 7,
    "start_time": "2022-05-30T00:27:07.450Z"
   },
   {
    "duration": 7,
    "start_time": "2022-05-30T00:27:07.458Z"
   },
   {
    "duration": 13,
    "start_time": "2022-05-30T00:27:07.466Z"
   },
   {
    "duration": 26,
    "start_time": "2022-05-30T00:27:07.480Z"
   },
   {
    "duration": 187,
    "start_time": "2022-05-30T00:27:07.508Z"
   },
   {
    "duration": 129,
    "start_time": "2022-05-30T00:27:07.697Z"
   },
   {
    "duration": 5,
    "start_time": "2022-05-30T00:27:07.828Z"
   },
   {
    "duration": 5,
    "start_time": "2022-05-30T00:27:07.834Z"
   },
   {
    "duration": 231,
    "start_time": "2022-05-30T00:27:07.840Z"
   },
   {
    "duration": 154,
    "start_time": "2022-05-30T00:27:08.073Z"
   },
   {
    "duration": 6,
    "start_time": "2022-05-30T00:27:08.228Z"
   },
   {
    "duration": 31,
    "start_time": "2022-05-30T00:27:08.235Z"
   },
   {
    "duration": 4,
    "start_time": "2022-05-30T00:27:08.267Z"
   },
   {
    "duration": 14,
    "start_time": "2022-05-30T00:27:08.272Z"
   },
   {
    "duration": 5,
    "start_time": "2022-05-30T00:27:08.287Z"
   },
   {
    "duration": 9,
    "start_time": "2022-05-30T00:27:08.294Z"
   },
   {
    "duration": 3,
    "start_time": "2022-05-30T00:27:08.327Z"
   },
   {
    "duration": 7,
    "start_time": "2022-05-30T00:27:08.331Z"
   },
   {
    "duration": 26,
    "start_time": "2022-05-30T00:27:08.340Z"
   },
   {
    "duration": 24,
    "start_time": "2022-05-30T00:27:08.367Z"
   },
   {
    "duration": 37,
    "start_time": "2022-05-30T00:27:08.393Z"
   },
   {
    "duration": 9,
    "start_time": "2022-05-30T00:27:08.431Z"
   },
   {
    "duration": 7,
    "start_time": "2022-05-30T00:30:33.359Z"
   },
   {
    "duration": 5,
    "start_time": "2022-05-30T00:31:04.219Z"
   },
   {
    "duration": 10,
    "start_time": "2022-05-30T00:33:50.802Z"
   },
   {
    "duration": 7,
    "start_time": "2022-05-30T00:34:04.854Z"
   },
   {
    "duration": 6,
    "start_time": "2022-05-30T00:35:15.277Z"
   },
   {
    "duration": 7,
    "start_time": "2022-05-30T00:35:27.130Z"
   },
   {
    "duration": 6,
    "start_time": "2022-05-30T00:35:46.541Z"
   },
   {
    "duration": 6,
    "start_time": "2022-05-30T00:36:09.231Z"
   },
   {
    "duration": 7,
    "start_time": "2022-05-30T00:39:26.935Z"
   },
   {
    "duration": 6,
    "start_time": "2022-05-30T00:39:34.778Z"
   },
   {
    "duration": 427,
    "start_time": "2022-05-30T00:56:02.384Z"
   },
   {
    "duration": 9,
    "start_time": "2022-05-30T00:56:56.450Z"
   },
   {
    "duration": 8,
    "start_time": "2022-05-30T00:57:27.596Z"
   },
   {
    "duration": 9,
    "start_time": "2022-05-30T00:57:34.480Z"
   },
   {
    "duration": 9,
    "start_time": "2022-05-30T00:57:41.960Z"
   },
   {
    "duration": 9,
    "start_time": "2022-05-30T01:18:58.914Z"
   },
   {
    "duration": 3,
    "start_time": "2022-05-30T01:19:08.558Z"
   },
   {
    "duration": 12,
    "start_time": "2022-05-30T01:19:13.638Z"
   },
   {
    "duration": 9,
    "start_time": "2022-05-30T01:19:21.298Z"
   },
   {
    "duration": 9,
    "start_time": "2022-05-30T01:19:26.946Z"
   },
   {
    "duration": 3,
    "start_time": "2022-05-30T01:19:39.038Z"
   },
   {
    "duration": 4,
    "start_time": "2022-05-30T01:23:04.779Z"
   },
   {
    "duration": 6,
    "start_time": "2022-05-30T01:23:23.336Z"
   },
   {
    "duration": 5,
    "start_time": "2022-05-30T01:23:37.138Z"
   },
   {
    "duration": 6,
    "start_time": "2022-05-30T01:23:52.842Z"
   },
   {
    "duration": 6,
    "start_time": "2022-05-30T01:24:06.642Z"
   },
   {
    "duration": 71,
    "start_time": "2022-05-30T03:36:08.533Z"
   },
   {
    "duration": 1277,
    "start_time": "2022-05-30T03:36:12.910Z"
   },
   {
    "duration": 5,
    "start_time": "2022-05-30T03:36:14.190Z"
   },
   {
    "duration": 220,
    "start_time": "2022-05-30T03:36:14.197Z"
   },
   {
    "duration": 16,
    "start_time": "2022-05-30T03:36:14.419Z"
   },
   {
    "duration": 9,
    "start_time": "2022-05-30T03:36:14.438Z"
   },
   {
    "duration": 9,
    "start_time": "2022-05-30T03:36:14.449Z"
   },
   {
    "duration": 13,
    "start_time": "2022-05-30T03:36:14.459Z"
   },
   {
    "duration": 9,
    "start_time": "2022-05-30T03:36:14.474Z"
   },
   {
    "duration": 22,
    "start_time": "2022-05-30T03:36:14.484Z"
   },
   {
    "duration": 13,
    "start_time": "2022-05-30T03:36:14.509Z"
   },
   {
    "duration": 9,
    "start_time": "2022-05-30T03:36:14.524Z"
   },
   {
    "duration": 18,
    "start_time": "2022-05-30T03:36:14.534Z"
   },
   {
    "duration": 15,
    "start_time": "2022-05-30T03:36:14.553Z"
   },
   {
    "duration": 6,
    "start_time": "2022-05-30T03:36:14.570Z"
   },
   {
    "duration": 11,
    "start_time": "2022-05-30T03:36:14.577Z"
   },
   {
    "duration": 10,
    "start_time": "2022-05-30T03:36:14.590Z"
   },
   {
    "duration": 12,
    "start_time": "2022-05-30T03:36:14.602Z"
   },
   {
    "duration": 13,
    "start_time": "2022-05-30T03:36:14.615Z"
   },
   {
    "duration": 10,
    "start_time": "2022-05-30T03:36:14.629Z"
   },
   {
    "duration": 8,
    "start_time": "2022-05-30T03:36:14.640Z"
   },
   {
    "duration": 12,
    "start_time": "2022-05-30T03:36:14.650Z"
   },
   {
    "duration": 4,
    "start_time": "2022-05-30T03:36:14.664Z"
   },
   {
    "duration": 12,
    "start_time": "2022-05-30T03:36:14.670Z"
   },
   {
    "duration": 10,
    "start_time": "2022-05-30T03:36:14.683Z"
   },
   {
    "duration": 7,
    "start_time": "2022-05-30T03:36:14.694Z"
   },
   {
    "duration": 27,
    "start_time": "2022-05-30T03:36:14.703Z"
   },
   {
    "duration": 9,
    "start_time": "2022-05-30T03:36:14.731Z"
   },
   {
    "duration": 4,
    "start_time": "2022-05-30T03:36:14.743Z"
   },
   {
    "duration": 13,
    "start_time": "2022-05-30T03:36:14.748Z"
   },
   {
    "duration": 182,
    "start_time": "2022-05-30T03:36:14.763Z"
   },
   {
    "duration": 208,
    "start_time": "2022-05-30T03:36:20.511Z"
   },
   {
    "duration": 5,
    "start_time": "2022-05-30T03:36:37.527Z"
   },
   {
    "duration": 12,
    "start_time": "2022-05-30T03:36:37.534Z"
   },
   {
    "duration": 77,
    "start_time": "2022-05-30T03:36:37.564Z"
   },
   {
    "duration": 7,
    "start_time": "2022-05-30T03:36:37.642Z"
   },
   {
    "duration": 10,
    "start_time": "2022-05-30T03:36:37.651Z"
   },
   {
    "duration": 6,
    "start_time": "2022-05-30T03:36:37.662Z"
   },
   {
    "duration": 12,
    "start_time": "2022-05-30T03:36:37.670Z"
   },
   {
    "duration": 12,
    "start_time": "2022-05-30T03:36:37.684Z"
   },
   {
    "duration": 12,
    "start_time": "2022-05-30T03:36:37.697Z"
   },
   {
    "duration": 15,
    "start_time": "2022-05-30T03:36:37.710Z"
   },
   {
    "duration": 7,
    "start_time": "2022-05-30T03:36:37.727Z"
   },
   {
    "duration": 7,
    "start_time": "2022-05-30T03:36:37.736Z"
   },
   {
    "duration": 8,
    "start_time": "2022-05-30T03:36:37.745Z"
   },
   {
    "duration": 7,
    "start_time": "2022-05-30T03:36:37.755Z"
   },
   {
    "duration": 12,
    "start_time": "2022-05-30T03:36:37.763Z"
   },
   {
    "duration": 11,
    "start_time": "2022-05-30T03:36:37.777Z"
   },
   {
    "duration": 11,
    "start_time": "2022-05-30T03:36:37.789Z"
   },
   {
    "duration": 8,
    "start_time": "2022-05-30T03:36:37.802Z"
   },
   {
    "duration": 21,
    "start_time": "2022-05-30T03:36:37.811Z"
   },
   {
    "duration": 5,
    "start_time": "2022-05-30T03:36:37.834Z"
   },
   {
    "duration": 10,
    "start_time": "2022-05-30T03:36:37.841Z"
   },
   {
    "duration": 9,
    "start_time": "2022-05-30T03:36:37.853Z"
   },
   {
    "duration": 6,
    "start_time": "2022-05-30T03:36:37.863Z"
   },
   {
    "duration": 9,
    "start_time": "2022-05-30T03:36:37.870Z"
   },
   {
    "duration": 8,
    "start_time": "2022-05-30T03:36:37.880Z"
   },
   {
    "duration": 6,
    "start_time": "2022-05-30T03:36:37.890Z"
   },
   {
    "duration": 32,
    "start_time": "2022-05-30T03:36:37.898Z"
   },
   {
    "duration": 7,
    "start_time": "2022-05-30T03:36:37.932Z"
   },
   {
    "duration": 13,
    "start_time": "2022-05-30T03:36:37.941Z"
   },
   {
    "duration": 142,
    "start_time": "2022-05-30T03:36:37.955Z"
   },
   {
    "duration": 6,
    "start_time": "2022-05-30T03:36:38.099Z"
   },
   {
    "duration": 22,
    "start_time": "2022-05-30T03:36:38.106Z"
   },
   {
    "duration": 130,
    "start_time": "2022-05-30T03:36:38.130Z"
   },
   {
    "duration": 5,
    "start_time": "2022-05-30T03:36:38.262Z"
   },
   {
    "duration": 251,
    "start_time": "2022-05-30T03:36:43.586Z"
   },
   {
    "duration": 243,
    "start_time": "2022-05-30T03:37:04.138Z"
   },
   {
    "duration": 244,
    "start_time": "2022-05-30T03:37:13.355Z"
   },
   {
    "duration": 299,
    "start_time": "2022-05-30T03:39:06.169Z"
   },
   {
    "duration": 163,
    "start_time": "2022-05-30T03:40:06.529Z"
   },
   {
    "duration": 381,
    "start_time": "2022-05-30T03:40:14.866Z"
   },
   {
    "duration": 250,
    "start_time": "2022-05-30T03:40:48.259Z"
   },
   {
    "duration": 385,
    "start_time": "2022-05-30T03:41:06.042Z"
   },
   {
    "duration": 317,
    "start_time": "2022-05-30T03:46:28.282Z"
   },
   {
    "duration": 238,
    "start_time": "2022-05-30T03:46:37.915Z"
   },
   {
    "duration": 278,
    "start_time": "2022-05-30T03:46:53.625Z"
   },
   {
    "duration": 341,
    "start_time": "2022-05-30T03:47:07.860Z"
   },
   {
    "duration": 260,
    "start_time": "2022-05-30T03:47:37.989Z"
   },
   {
    "duration": 246,
    "start_time": "2022-05-30T03:48:39.856Z"
   },
   {
    "duration": 269,
    "start_time": "2022-05-30T03:49:53.654Z"
   },
   {
    "duration": 276,
    "start_time": "2022-05-30T03:50:03.860Z"
   },
   {
    "duration": 258,
    "start_time": "2022-05-30T03:50:28.878Z"
   },
   {
    "duration": 350,
    "start_time": "2022-05-30T03:50:40.426Z"
   },
   {
    "duration": 248,
    "start_time": "2022-05-30T03:50:48.361Z"
   },
   {
    "duration": 7,
    "start_time": "2022-05-30T03:51:03.879Z"
   },
   {
    "duration": 15,
    "start_time": "2022-05-30T03:51:03.888Z"
   },
   {
    "duration": 79,
    "start_time": "2022-05-30T03:51:03.905Z"
   },
   {
    "duration": 7,
    "start_time": "2022-05-30T03:51:03.986Z"
   },
   {
    "duration": 23,
    "start_time": "2022-05-30T03:51:03.995Z"
   },
   {
    "duration": 7,
    "start_time": "2022-05-30T03:51:04.020Z"
   },
   {
    "duration": 11,
    "start_time": "2022-05-30T03:51:04.029Z"
   },
   {
    "duration": 7,
    "start_time": "2022-05-30T03:51:04.041Z"
   },
   {
    "duration": 8,
    "start_time": "2022-05-30T03:51:04.050Z"
   },
   {
    "duration": 12,
    "start_time": "2022-05-30T03:51:04.060Z"
   },
   {
    "duration": 9,
    "start_time": "2022-05-30T03:51:04.074Z"
   },
   {
    "duration": 13,
    "start_time": "2022-05-30T03:51:04.085Z"
   },
   {
    "duration": 8,
    "start_time": "2022-05-30T03:51:04.100Z"
   },
   {
    "duration": 20,
    "start_time": "2022-05-30T03:51:04.110Z"
   },
   {
    "duration": 9,
    "start_time": "2022-05-30T03:51:04.132Z"
   },
   {
    "duration": 9,
    "start_time": "2022-05-30T03:51:04.142Z"
   },
   {
    "duration": 8,
    "start_time": "2022-05-30T03:51:04.152Z"
   },
   {
    "duration": 9,
    "start_time": "2022-05-30T03:51:04.161Z"
   },
   {
    "duration": 8,
    "start_time": "2022-05-30T03:51:04.171Z"
   },
   {
    "duration": 7,
    "start_time": "2022-05-30T03:51:04.180Z"
   },
   {
    "duration": 10,
    "start_time": "2022-05-30T03:51:04.188Z"
   },
   {
    "duration": 30,
    "start_time": "2022-05-30T03:51:04.200Z"
   },
   {
    "duration": 9,
    "start_time": "2022-05-30T03:51:04.231Z"
   },
   {
    "duration": 15,
    "start_time": "2022-05-30T03:51:04.243Z"
   },
   {
    "duration": 11,
    "start_time": "2022-05-30T03:51:04.260Z"
   },
   {
    "duration": 10,
    "start_time": "2022-05-30T03:51:04.272Z"
   },
   {
    "duration": 10,
    "start_time": "2022-05-30T03:51:04.283Z"
   },
   {
    "duration": 9,
    "start_time": "2022-05-30T03:51:04.295Z"
   },
   {
    "duration": 25,
    "start_time": "2022-05-30T03:51:04.306Z"
   },
   {
    "duration": 134,
    "start_time": "2022-05-30T03:51:04.333Z"
   },
   {
    "duration": 7,
    "start_time": "2022-05-30T03:51:04.468Z"
   },
   {
    "duration": 12,
    "start_time": "2022-05-30T03:51:04.477Z"
   },
   {
    "duration": 146,
    "start_time": "2022-05-30T03:51:04.491Z"
   },
   {
    "duration": 6,
    "start_time": "2022-05-30T03:51:04.638Z"
   },
   {
    "duration": 288,
    "start_time": "2022-05-30T03:51:04.646Z"
   },
   {
    "duration": 257,
    "start_time": "2022-05-30T03:51:57.454Z"
   },
   {
    "duration": 289,
    "start_time": "2022-05-30T03:52:07.162Z"
   },
   {
    "duration": 286,
    "start_time": "2022-05-30T03:53:57.736Z"
   },
   {
    "duration": 285,
    "start_time": "2022-05-30T03:54:32.962Z"
   },
   {
    "duration": 273,
    "start_time": "2022-05-30T03:55:30.310Z"
   },
   {
    "duration": 282,
    "start_time": "2022-05-30T03:56:51.578Z"
   },
   {
    "duration": 6,
    "start_time": "2022-05-30T04:28:42.590Z"
   },
   {
    "duration": 39,
    "start_time": "2022-05-30T04:28:42.599Z"
   },
   {
    "duration": 98,
    "start_time": "2022-05-30T04:28:42.640Z"
   },
   {
    "duration": 8,
    "start_time": "2022-05-30T04:28:42.740Z"
   },
   {
    "duration": 28,
    "start_time": "2022-05-30T04:28:42.749Z"
   },
   {
    "duration": 17,
    "start_time": "2022-05-30T04:28:42.778Z"
   },
   {
    "duration": 36,
    "start_time": "2022-05-30T04:28:42.796Z"
   },
   {
    "duration": 34,
    "start_time": "2022-05-30T04:28:42.833Z"
   },
   {
    "duration": 17,
    "start_time": "2022-05-30T04:28:42.869Z"
   },
   {
    "duration": 34,
    "start_time": "2022-05-30T04:28:42.888Z"
   },
   {
    "duration": 19,
    "start_time": "2022-05-30T04:28:42.923Z"
   },
   {
    "duration": 7,
    "start_time": "2022-05-30T04:28:42.944Z"
   },
   {
    "duration": 18,
    "start_time": "2022-05-30T04:28:42.952Z"
   },
   {
    "duration": 11,
    "start_time": "2022-05-30T04:28:42.971Z"
   },
   {
    "duration": 14,
    "start_time": "2022-05-30T04:28:42.984Z"
   },
   {
    "duration": 12,
    "start_time": "2022-05-30T04:28:42.999Z"
   },
   {
    "duration": 11,
    "start_time": "2022-05-30T04:28:43.012Z"
   },
   {
    "duration": 10,
    "start_time": "2022-05-30T04:28:43.024Z"
   },
   {
    "duration": 13,
    "start_time": "2022-05-30T04:28:43.035Z"
   },
   {
    "duration": 11,
    "start_time": "2022-05-30T04:28:43.049Z"
   },
   {
    "duration": 16,
    "start_time": "2022-05-30T04:28:43.061Z"
   },
   {
    "duration": 11,
    "start_time": "2022-05-30T04:28:43.079Z"
   },
   {
    "duration": 10,
    "start_time": "2022-05-30T04:28:43.091Z"
   },
   {
    "duration": 7,
    "start_time": "2022-05-30T04:28:43.104Z"
   },
   {
    "duration": 7,
    "start_time": "2022-05-30T04:28:43.112Z"
   },
   {
    "duration": 7,
    "start_time": "2022-05-30T04:28:43.121Z"
   },
   {
    "duration": 13,
    "start_time": "2022-05-30T04:28:43.129Z"
   },
   {
    "duration": 8,
    "start_time": "2022-05-30T04:28:43.143Z"
   },
   {
    "duration": 13,
    "start_time": "2022-05-30T04:28:43.152Z"
   },
   {
    "duration": 152,
    "start_time": "2022-05-30T04:28:43.167Z"
   },
   {
    "duration": 12,
    "start_time": "2022-05-30T04:28:43.320Z"
   },
   {
    "duration": 40,
    "start_time": "2022-05-30T04:28:43.335Z"
   },
   {
    "duration": 138,
    "start_time": "2022-05-30T04:28:43.378Z"
   },
   {
    "duration": 10,
    "start_time": "2022-05-30T04:28:43.518Z"
   },
   {
    "duration": 418,
    "start_time": "2022-05-30T04:28:43.530Z"
   },
   {
    "duration": 304,
    "start_time": "2022-05-30T04:28:43.950Z"
   },
   {
    "duration": 287,
    "start_time": "2022-05-30T04:28:48.215Z"
   },
   {
    "duration": 362,
    "start_time": "2022-05-30T04:29:26.178Z"
   },
   {
    "duration": 438,
    "start_time": "2022-05-30T04:30:18.191Z"
   },
   {
    "duration": 378,
    "start_time": "2022-05-30T04:30:40.116Z"
   },
   {
    "duration": 385,
    "start_time": "2022-05-30T04:30:50.013Z"
   },
   {
    "duration": 404,
    "start_time": "2022-05-30T04:31:06.865Z"
   },
   {
    "duration": 374,
    "start_time": "2022-05-30T04:31:27.934Z"
   },
   {
    "duration": 362,
    "start_time": "2022-05-30T04:32:05.668Z"
   },
   {
    "duration": 324,
    "start_time": "2022-05-30T04:32:40.648Z"
   },
   {
    "duration": 302,
    "start_time": "2022-05-30T04:33:45.594Z"
   },
   {
    "duration": 292,
    "start_time": "2022-05-30T04:33:56.812Z"
   },
   {
    "duration": 410,
    "start_time": "2022-05-30T04:34:25.727Z"
   },
   {
    "duration": 297,
    "start_time": "2022-05-30T04:34:31.852Z"
   },
   {
    "duration": 279,
    "start_time": "2022-05-30T04:34:53.035Z"
   },
   {
    "duration": 368,
    "start_time": "2022-05-30T04:35:32.291Z"
   },
   {
    "duration": 346,
    "start_time": "2022-05-30T04:36:01.167Z"
   },
   {
    "duration": 387,
    "start_time": "2022-05-30T04:36:15.495Z"
   },
   {
    "duration": 376,
    "start_time": "2022-05-30T04:36:31.679Z"
   },
   {
    "duration": 6,
    "start_time": "2022-05-30T04:38:43.081Z"
   },
   {
    "duration": 12,
    "start_time": "2022-05-30T04:38:43.089Z"
   },
   {
    "duration": 82,
    "start_time": "2022-05-30T04:38:43.103Z"
   },
   {
    "duration": 9,
    "start_time": "2022-05-30T04:38:43.187Z"
   },
   {
    "duration": 9,
    "start_time": "2022-05-30T04:38:43.198Z"
   },
   {
    "duration": 6,
    "start_time": "2022-05-30T04:38:43.208Z"
   },
   {
    "duration": 13,
    "start_time": "2022-05-30T04:38:43.215Z"
   },
   {
    "duration": 6,
    "start_time": "2022-05-30T04:38:43.230Z"
   },
   {
    "duration": 13,
    "start_time": "2022-05-30T04:38:43.237Z"
   },
   {
    "duration": 10,
    "start_time": "2022-05-30T04:38:43.252Z"
   },
   {
    "duration": 8,
    "start_time": "2022-05-30T04:38:43.264Z"
   },
   {
    "duration": 11,
    "start_time": "2022-05-30T04:38:43.274Z"
   },
   {
    "duration": 17,
    "start_time": "2022-05-30T04:38:43.287Z"
   },
   {
    "duration": 14,
    "start_time": "2022-05-30T04:38:43.306Z"
   },
   {
    "duration": 9,
    "start_time": "2022-05-30T04:38:43.321Z"
   },
   {
    "duration": 7,
    "start_time": "2022-05-30T04:38:43.332Z"
   },
   {
    "duration": 9,
    "start_time": "2022-05-30T04:38:43.341Z"
   },
   {
    "duration": 7,
    "start_time": "2022-05-30T04:38:43.351Z"
   },
   {
    "duration": 6,
    "start_time": "2022-05-30T04:38:43.360Z"
   },
   {
    "duration": 6,
    "start_time": "2022-05-30T04:38:43.367Z"
   },
   {
    "duration": 13,
    "start_time": "2022-05-30T04:38:43.374Z"
   },
   {
    "duration": 4,
    "start_time": "2022-05-30T04:38:43.388Z"
   },
   {
    "duration": 5,
    "start_time": "2022-05-30T04:38:43.393Z"
   },
   {
    "duration": 4,
    "start_time": "2022-05-30T04:38:43.427Z"
   },
   {
    "duration": 8,
    "start_time": "2022-05-30T04:38:43.433Z"
   },
   {
    "duration": 7,
    "start_time": "2022-05-30T04:38:43.442Z"
   },
   {
    "duration": 9,
    "start_time": "2022-05-30T04:38:43.451Z"
   },
   {
    "duration": 4,
    "start_time": "2022-05-30T04:38:43.461Z"
   },
   {
    "duration": 12,
    "start_time": "2022-05-30T04:38:43.468Z"
   },
   {
    "duration": 163,
    "start_time": "2022-05-30T04:38:43.482Z"
   },
   {
    "duration": 6,
    "start_time": "2022-05-30T04:38:43.647Z"
   },
   {
    "duration": 13,
    "start_time": "2022-05-30T04:38:43.655Z"
   },
   {
    "duration": 134,
    "start_time": "2022-05-30T04:38:43.669Z"
   },
   {
    "duration": 12,
    "start_time": "2022-05-30T04:38:43.805Z"
   },
   {
    "duration": 268,
    "start_time": "2022-05-30T04:38:43.819Z"
   },
   {
    "duration": 292,
    "start_time": "2022-05-30T04:38:44.089Z"
   },
   {
    "duration": 275,
    "start_time": "2022-05-30T04:38:44.382Z"
   },
   {
    "duration": 377,
    "start_time": "2022-05-30T04:38:44.659Z"
   },
   {
    "duration": 476,
    "start_time": "2022-05-30T04:38:45.038Z"
   },
   {
    "duration": 379,
    "start_time": "2022-05-30T04:38:45.516Z"
   },
   {
    "duration": 10,
    "start_time": "2022-05-30T04:38:45.897Z"
   },
   {
    "duration": 10,
    "start_time": "2022-05-30T04:38:47.708Z"
   },
   {
    "duration": 140,
    "start_time": "2022-05-30T04:38:49.032Z"
   },
   {
    "duration": 127,
    "start_time": "2022-05-30T04:38:54.173Z"
   },
   {
    "duration": 135,
    "start_time": "2022-05-30T04:39:18.440Z"
   },
   {
    "duration": 4,
    "start_time": "2022-05-30T04:39:25.300Z"
   },
   {
    "duration": 10,
    "start_time": "2022-05-30T04:39:26.357Z"
   },
   {
    "duration": 8,
    "start_time": "2022-05-30T04:39:28.696Z"
   },
   {
    "duration": 7,
    "start_time": "2022-05-30T04:39:29.463Z"
   },
   {
    "duration": 6,
    "start_time": "2022-05-30T04:39:30.560Z"
   },
   {
    "duration": 4,
    "start_time": "2022-05-30T04:39:43.629Z"
   },
   {
    "duration": 11,
    "start_time": "2022-05-30T04:41:14.669Z"
   },
   {
    "duration": 8,
    "start_time": "2022-05-30T04:41:16.488Z"
   },
   {
    "duration": 221,
    "start_time": "2022-05-30T04:41:55.391Z"
   },
   {
    "duration": 131,
    "start_time": "2022-05-30T04:42:02.269Z"
   },
   {
    "duration": 5,
    "start_time": "2022-05-30T04:42:11.995Z"
   },
   {
    "duration": 5,
    "start_time": "2022-05-30T04:42:13.391Z"
   },
   {
    "duration": 217,
    "start_time": "2022-05-30T04:42:15.683Z"
   },
   {
    "duration": 137,
    "start_time": "2022-05-30T04:42:17.195Z"
   },
   {
    "duration": 6,
    "start_time": "2022-05-30T04:42:17.785Z"
   },
   {
    "duration": 27,
    "start_time": "2022-05-30T04:42:18.086Z"
   },
   {
    "duration": 4,
    "start_time": "2022-05-30T04:42:18.917Z"
   },
   {
    "duration": 8,
    "start_time": "2022-05-30T04:42:20.863Z"
   },
   {
    "duration": 6,
    "start_time": "2022-05-30T04:42:22.060Z"
   },
   {
    "duration": 10,
    "start_time": "2022-05-30T04:42:23.929Z"
   },
   {
    "duration": 3,
    "start_time": "2022-05-30T04:42:24.157Z"
   },
   {
    "duration": 8,
    "start_time": "2022-05-30T04:42:24.807Z"
   },
   {
    "duration": 26,
    "start_time": "2022-05-30T04:42:25.749Z"
   },
   {
    "duration": 27,
    "start_time": "2022-05-30T04:42:25.972Z"
   },
   {
    "duration": 94,
    "start_time": "2022-05-30T04:46:38.962Z"
   },
   {
    "duration": 5,
    "start_time": "2022-05-30T04:46:54.089Z"
   },
   {
    "duration": 7,
    "start_time": "2022-05-30T04:46:54.095Z"
   },
   {
    "duration": 84,
    "start_time": "2022-05-30T04:46:54.104Z"
   },
   {
    "duration": 7,
    "start_time": "2022-05-30T04:46:54.189Z"
   },
   {
    "duration": 14,
    "start_time": "2022-05-30T04:46:54.199Z"
   },
   {
    "duration": 7,
    "start_time": "2022-05-30T04:46:54.214Z"
   },
   {
    "duration": 16,
    "start_time": "2022-05-30T04:46:54.222Z"
   },
   {
    "duration": 7,
    "start_time": "2022-05-30T04:46:54.239Z"
   },
   {
    "duration": 15,
    "start_time": "2022-05-30T04:46:54.247Z"
   },
   {
    "duration": 10,
    "start_time": "2022-05-30T04:46:54.263Z"
   },
   {
    "duration": 9,
    "start_time": "2022-05-30T04:46:54.274Z"
   },
   {
    "duration": 9,
    "start_time": "2022-05-30T04:46:54.284Z"
   },
   {
    "duration": 10,
    "start_time": "2022-05-30T04:46:54.295Z"
   },
   {
    "duration": 10,
    "start_time": "2022-05-30T04:46:54.306Z"
   },
   {
    "duration": 12,
    "start_time": "2022-05-30T04:46:54.318Z"
   },
   {
    "duration": 10,
    "start_time": "2022-05-30T04:46:54.331Z"
   },
   {
    "duration": 9,
    "start_time": "2022-05-30T04:46:54.343Z"
   },
   {
    "duration": 7,
    "start_time": "2022-05-30T04:46:54.353Z"
   },
   {
    "duration": 11,
    "start_time": "2022-05-30T04:46:54.361Z"
   },
   {
    "duration": 6,
    "start_time": "2022-05-30T04:46:54.373Z"
   },
   {
    "duration": 8,
    "start_time": "2022-05-30T04:46:54.380Z"
   },
   {
    "duration": 9,
    "start_time": "2022-05-30T04:46:54.390Z"
   },
   {
    "duration": 11,
    "start_time": "2022-05-30T04:46:54.400Z"
   },
   {
    "duration": 7,
    "start_time": "2022-05-30T04:46:54.427Z"
   },
   {
    "duration": 5,
    "start_time": "2022-05-30T04:46:54.435Z"
   },
   {
    "duration": 6,
    "start_time": "2022-05-30T04:46:54.442Z"
   },
   {
    "duration": 11,
    "start_time": "2022-05-30T04:46:54.450Z"
   },
   {
    "duration": 9,
    "start_time": "2022-05-30T04:46:54.462Z"
   },
   {
    "duration": 13,
    "start_time": "2022-05-30T04:46:54.472Z"
   },
   {
    "duration": 147,
    "start_time": "2022-05-30T04:46:54.486Z"
   },
   {
    "duration": 5,
    "start_time": "2022-05-30T04:46:54.635Z"
   },
   {
    "duration": 26,
    "start_time": "2022-05-30T04:46:54.642Z"
   },
   {
    "duration": 132,
    "start_time": "2022-05-30T04:46:54.670Z"
   },
   {
    "duration": 6,
    "start_time": "2022-05-30T04:46:54.804Z"
   },
   {
    "duration": 264,
    "start_time": "2022-05-30T04:46:54.812Z"
   },
   {
    "duration": 296,
    "start_time": "2022-05-30T04:46:55.078Z"
   },
   {
    "duration": 294,
    "start_time": "2022-05-30T04:46:55.378Z"
   },
   {
    "duration": 357,
    "start_time": "2022-05-30T04:46:55.673Z"
   },
   {
    "duration": 336,
    "start_time": "2022-05-30T04:46:56.031Z"
   },
   {
    "duration": 368,
    "start_time": "2022-05-30T04:46:56.368Z"
   },
   {
    "duration": 10,
    "start_time": "2022-05-30T04:46:56.738Z"
   },
   {
    "duration": 281,
    "start_time": "2022-05-30T04:46:56.750Z"
   },
   {
    "duration": 3,
    "start_time": "2022-05-30T04:46:57.033Z"
   },
   {
    "duration": 34,
    "start_time": "2022-05-30T04:46:57.037Z"
   },
   {
    "duration": 33,
    "start_time": "2022-05-30T04:46:57.073Z"
   },
   {
    "duration": 36,
    "start_time": "2022-05-30T04:46:57.108Z"
   },
   {
    "duration": 46,
    "start_time": "2022-05-30T04:46:57.145Z"
   },
   {
    "duration": 33,
    "start_time": "2022-05-30T04:46:57.193Z"
   },
   {
    "duration": 30,
    "start_time": "2022-05-30T04:46:57.228Z"
   },
   {
    "duration": 18,
    "start_time": "2022-05-30T04:46:57.260Z"
   },
   {
    "duration": 168,
    "start_time": "2022-05-30T04:46:57.280Z"
   },
   {
    "duration": 135,
    "start_time": "2022-05-30T04:46:57.450Z"
   },
   {
    "duration": 6,
    "start_time": "2022-05-30T04:46:57.586Z"
   },
   {
    "duration": 34,
    "start_time": "2022-05-30T04:46:57.594Z"
   },
   {
    "duration": 226,
    "start_time": "2022-05-30T04:46:57.629Z"
   },
   {
    "duration": 130,
    "start_time": "2022-05-30T04:46:57.857Z"
   },
   {
    "duration": 6,
    "start_time": "2022-05-30T04:46:57.988Z"
   },
   {
    "duration": 44,
    "start_time": "2022-05-30T04:46:57.995Z"
   },
   {
    "duration": 7,
    "start_time": "2022-05-30T04:46:58.041Z"
   },
   {
    "duration": 34,
    "start_time": "2022-05-30T04:46:58.049Z"
   },
   {
    "duration": 17,
    "start_time": "2022-05-30T04:46:58.084Z"
   },
   {
    "duration": 42,
    "start_time": "2022-05-30T04:46:58.102Z"
   },
   {
    "duration": 43,
    "start_time": "2022-05-30T04:46:58.146Z"
   },
   {
    "duration": 29,
    "start_time": "2022-05-30T04:46:58.190Z"
   },
   {
    "duration": 53,
    "start_time": "2022-05-30T04:46:58.220Z"
   },
   {
    "duration": 26,
    "start_time": "2022-05-30T04:46:58.275Z"
   },
   {
    "duration": 13,
    "start_time": "2022-05-30T04:46:58.303Z"
   },
   {
    "duration": 55,
    "start_time": "2022-05-30T04:46:58.317Z"
   },
   {
    "duration": 1205,
    "start_time": "2022-05-30T16:36:25.362Z"
   },
   {
    "duration": 6,
    "start_time": "2022-05-30T16:36:26.569Z"
   },
   {
    "duration": 87,
    "start_time": "2022-05-30T16:36:26.577Z"
   },
   {
    "duration": 10,
    "start_time": "2022-05-30T16:36:26.666Z"
   },
   {
    "duration": 10,
    "start_time": "2022-05-30T16:36:26.678Z"
   },
   {
    "duration": 6,
    "start_time": "2022-05-30T16:36:26.689Z"
   },
   {
    "duration": 10,
    "start_time": "2022-05-30T16:36:26.697Z"
   },
   {
    "duration": 8,
    "start_time": "2022-05-30T16:36:26.708Z"
   },
   {
    "duration": 10,
    "start_time": "2022-05-30T16:36:26.717Z"
   },
   {
    "duration": 12,
    "start_time": "2022-05-30T16:36:26.730Z"
   },
   {
    "duration": 7,
    "start_time": "2022-05-30T16:36:26.765Z"
   },
   {
    "duration": 9,
    "start_time": "2022-05-30T16:36:26.774Z"
   },
   {
    "duration": 8,
    "start_time": "2022-05-30T16:36:26.784Z"
   },
   {
    "duration": 8,
    "start_time": "2022-05-30T16:36:26.794Z"
   },
   {
    "duration": 8,
    "start_time": "2022-05-30T16:36:26.804Z"
   },
   {
    "duration": 8,
    "start_time": "2022-05-30T16:36:26.814Z"
   },
   {
    "duration": 44,
    "start_time": "2022-05-30T16:36:26.823Z"
   },
   {
    "duration": 12,
    "start_time": "2022-05-30T16:36:26.869Z"
   },
   {
    "duration": 7,
    "start_time": "2022-05-30T16:36:26.883Z"
   },
   {
    "duration": 12,
    "start_time": "2022-05-30T16:36:26.892Z"
   },
   {
    "duration": 18,
    "start_time": "2022-05-30T16:36:26.905Z"
   },
   {
    "duration": 3,
    "start_time": "2022-05-30T16:36:26.925Z"
   },
   {
    "duration": 5,
    "start_time": "2022-05-30T16:36:26.930Z"
   },
   {
    "duration": 10,
    "start_time": "2022-05-30T16:36:26.937Z"
   },
   {
    "duration": 22,
    "start_time": "2022-05-30T16:36:26.948Z"
   },
   {
    "duration": 8,
    "start_time": "2022-05-30T16:36:26.972Z"
   },
   {
    "duration": 10,
    "start_time": "2022-05-30T16:36:26.982Z"
   },
   {
    "duration": 4,
    "start_time": "2022-05-30T16:36:26.997Z"
   },
   {
    "duration": 16,
    "start_time": "2022-05-30T16:36:27.003Z"
   },
   {
    "duration": 199,
    "start_time": "2022-05-30T16:36:27.021Z"
   },
   {
    "duration": 7,
    "start_time": "2022-05-30T16:36:27.222Z"
   },
   {
    "duration": 34,
    "start_time": "2022-05-30T16:36:27.232Z"
   },
   {
    "duration": 235,
    "start_time": "2022-05-30T16:36:27.269Z"
   },
   {
    "duration": 7,
    "start_time": "2022-05-30T16:36:27.507Z"
   },
   {
    "duration": 298,
    "start_time": "2022-05-30T16:36:27.516Z"
   },
   {
    "duration": 347,
    "start_time": "2022-05-30T16:36:27.816Z"
   },
   {
    "duration": 344,
    "start_time": "2022-05-30T16:36:28.165Z"
   },
   {
    "duration": 406,
    "start_time": "2022-05-30T16:36:28.511Z"
   },
   {
    "duration": 431,
    "start_time": "2022-05-30T16:36:28.919Z"
   },
   {
    "duration": 401,
    "start_time": "2022-05-30T16:36:29.351Z"
   },
   {
    "duration": 15,
    "start_time": "2022-05-30T16:36:29.753Z"
   },
   {
    "duration": 170,
    "start_time": "2022-05-30T16:36:29.770Z"
   },
   {
    "duration": 4,
    "start_time": "2022-05-30T16:36:29.942Z"
   },
   {
    "duration": 21,
    "start_time": "2022-05-30T16:36:29.948Z"
   },
   {
    "duration": 8,
    "start_time": "2022-05-30T16:36:29.971Z"
   },
   {
    "duration": 10,
    "start_time": "2022-05-30T16:36:29.981Z"
   },
   {
    "duration": 10,
    "start_time": "2022-05-30T16:36:29.993Z"
   },
   {
    "duration": 13,
    "start_time": "2022-05-30T16:36:30.005Z"
   },
   {
    "duration": 24,
    "start_time": "2022-05-30T16:36:30.021Z"
   },
   {
    "duration": 21,
    "start_time": "2022-05-30T16:36:30.047Z"
   },
   {
    "duration": 150,
    "start_time": "2022-05-30T16:36:30.070Z"
   },
   {
    "duration": 162,
    "start_time": "2022-05-30T16:36:30.222Z"
   },
   {
    "duration": 5,
    "start_time": "2022-05-30T16:36:30.387Z"
   },
   {
    "duration": 24,
    "start_time": "2022-05-30T16:36:30.394Z"
   },
   {
    "duration": 270,
    "start_time": "2022-05-30T16:36:30.420Z"
   },
   {
    "duration": 156,
    "start_time": "2022-05-30T16:36:30.691Z"
   },
   {
    "duration": 19,
    "start_time": "2022-05-30T16:36:30.848Z"
   },
   {
    "duration": 40,
    "start_time": "2022-05-30T16:36:30.868Z"
   },
   {
    "duration": 4,
    "start_time": "2022-05-30T16:36:30.909Z"
   },
   {
    "duration": 30,
    "start_time": "2022-05-30T16:36:30.915Z"
   },
   {
    "duration": 31,
    "start_time": "2022-05-30T16:36:30.947Z"
   },
   {
    "duration": 18,
    "start_time": "2022-05-30T16:36:30.979Z"
   },
   {
    "duration": 37,
    "start_time": "2022-05-30T16:36:30.999Z"
   },
   {
    "duration": 15,
    "start_time": "2022-05-30T16:36:31.039Z"
   },
   {
    "duration": 40,
    "start_time": "2022-05-30T16:36:31.056Z"
   },
   {
    "duration": 36,
    "start_time": "2022-05-30T16:36:31.098Z"
   },
   {
    "duration": 31,
    "start_time": "2022-05-30T16:36:31.136Z"
   },
   {
    "duration": 20,
    "start_time": "2022-05-30T16:36:31.170Z"
   },
   {
    "duration": 132,
    "start_time": "2022-05-30T16:37:54.481Z"
   },
   {
    "duration": 13,
    "start_time": "2022-05-30T16:38:06.676Z"
   },
   {
    "duration": 11,
    "start_time": "2022-05-30T16:38:16.782Z"
   },
   {
    "duration": 11,
    "start_time": "2022-05-30T16:38:26.085Z"
   },
   {
    "duration": 140,
    "start_time": "2022-05-30T16:47:35.140Z"
   },
   {
    "duration": 175,
    "start_time": "2022-05-30T16:47:51.477Z"
   },
   {
    "duration": 1272,
    "start_time": "2022-05-30T16:57:59.891Z"
   },
   {
    "duration": 5,
    "start_time": "2022-05-30T16:58:01.165Z"
   },
   {
    "duration": 242,
    "start_time": "2022-05-30T16:58:01.172Z"
   },
   {
    "duration": 15,
    "start_time": "2022-05-30T16:58:01.417Z"
   },
   {
    "duration": 26,
    "start_time": "2022-05-30T16:58:01.435Z"
   },
   {
    "duration": 22,
    "start_time": "2022-05-30T16:58:01.464Z"
   },
   {
    "duration": 27,
    "start_time": "2022-05-30T16:58:01.489Z"
   },
   {
    "duration": 15,
    "start_time": "2022-05-30T16:58:01.518Z"
   },
   {
    "duration": 21,
    "start_time": "2022-05-30T16:58:01.535Z"
   },
   {
    "duration": 52,
    "start_time": "2022-05-30T16:58:01.558Z"
   },
   {
    "duration": 57,
    "start_time": "2022-05-30T16:58:01.613Z"
   },
   {
    "duration": 40,
    "start_time": "2022-05-30T16:58:01.672Z"
   },
   {
    "duration": 52,
    "start_time": "2022-05-30T16:58:01.713Z"
   },
   {
    "duration": 41,
    "start_time": "2022-05-30T16:58:01.769Z"
   },
   {
    "duration": 24,
    "start_time": "2022-05-30T16:58:01.812Z"
   },
   {
    "duration": 15,
    "start_time": "2022-05-30T16:58:01.838Z"
   },
   {
    "duration": 17,
    "start_time": "2022-05-30T16:58:01.856Z"
   },
   {
    "duration": 38,
    "start_time": "2022-05-30T16:58:01.875Z"
   },
   {
    "duration": 17,
    "start_time": "2022-05-30T16:58:01.916Z"
   },
   {
    "duration": 35,
    "start_time": "2022-05-30T16:58:01.935Z"
   },
   {
    "duration": 31,
    "start_time": "2022-05-30T16:58:01.972Z"
   },
   {
    "duration": 26,
    "start_time": "2022-05-30T16:58:02.005Z"
   },
   {
    "duration": 17,
    "start_time": "2022-05-30T16:58:02.033Z"
   },
   {
    "duration": 35,
    "start_time": "2022-05-30T16:58:02.052Z"
   },
   {
    "duration": 42,
    "start_time": "2022-05-30T16:58:02.090Z"
   },
   {
    "duration": 16,
    "start_time": "2022-05-30T16:58:02.135Z"
   },
   {
    "duration": 27,
    "start_time": "2022-05-30T16:58:02.153Z"
   },
   {
    "duration": 19,
    "start_time": "2022-05-30T16:58:02.184Z"
   },
   {
    "duration": 28,
    "start_time": "2022-05-30T16:58:02.206Z"
   },
   {
    "duration": 159,
    "start_time": "2022-05-30T16:58:02.236Z"
   },
   {
    "duration": 8,
    "start_time": "2022-05-30T16:58:02.397Z"
   },
   {
    "duration": 31,
    "start_time": "2022-05-30T16:58:02.406Z"
   },
   {
    "duration": 228,
    "start_time": "2022-05-30T16:58:02.439Z"
   },
   {
    "duration": 7,
    "start_time": "2022-05-30T16:58:02.669Z"
   },
   {
    "duration": 336,
    "start_time": "2022-05-30T16:58:02.678Z"
   },
   {
    "duration": 316,
    "start_time": "2022-05-30T16:58:03.015Z"
   },
   {
    "duration": 334,
    "start_time": "2022-05-30T16:58:03.333Z"
   },
   {
    "duration": 477,
    "start_time": "2022-05-30T16:58:03.669Z"
   },
   {
    "duration": 327,
    "start_time": "2022-05-30T16:58:04.147Z"
   },
   {
    "duration": 434,
    "start_time": "2022-05-30T16:58:04.477Z"
   },
   {
    "duration": 19,
    "start_time": "2022-05-30T16:58:04.915Z"
   },
   {
    "duration": 171,
    "start_time": "2022-05-30T16:58:04.935Z"
   },
   {
    "duration": 4,
    "start_time": "2022-05-30T16:58:05.108Z"
   },
   {
    "duration": 9,
    "start_time": "2022-05-30T16:58:05.126Z"
   },
   {
    "duration": 11,
    "start_time": "2022-05-30T16:58:05.136Z"
   },
   {
    "duration": 13,
    "start_time": "2022-05-30T16:58:05.148Z"
   },
   {
    "duration": 12,
    "start_time": "2022-05-30T16:58:05.162Z"
   },
   {
    "duration": 9,
    "start_time": "2022-05-30T16:58:05.176Z"
   },
   {
    "duration": 16,
    "start_time": "2022-05-30T16:58:05.187Z"
   },
   {
    "duration": 15,
    "start_time": "2022-05-30T16:58:05.225Z"
   },
   {
    "duration": 148,
    "start_time": "2022-05-30T16:58:05.241Z"
   },
   {
    "duration": 162,
    "start_time": "2022-05-30T16:58:05.391Z"
   },
   {
    "duration": 6,
    "start_time": "2022-05-30T16:58:05.554Z"
   },
   {
    "duration": 15,
    "start_time": "2022-05-30T16:58:05.561Z"
   },
   {
    "duration": 252,
    "start_time": "2022-05-30T16:58:05.578Z"
   },
   {
    "duration": 180,
    "start_time": "2022-05-30T16:58:05.831Z"
   },
   {
    "duration": 18,
    "start_time": "2022-05-30T16:58:06.012Z"
   },
   {
    "duration": 34,
    "start_time": "2022-05-30T16:58:06.032Z"
   },
   {
    "duration": 4,
    "start_time": "2022-05-30T16:58:06.068Z"
   },
   {
    "duration": 15,
    "start_time": "2022-05-30T16:58:06.074Z"
   },
   {
    "duration": 17,
    "start_time": "2022-05-30T16:58:06.091Z"
   },
   {
    "duration": 13,
    "start_time": "2022-05-30T16:58:06.127Z"
   },
   {
    "duration": 11,
    "start_time": "2022-05-30T16:58:06.142Z"
   },
   {
    "duration": 24,
    "start_time": "2022-05-30T16:58:06.155Z"
   },
   {
    "duration": 41,
    "start_time": "2022-05-30T16:58:06.181Z"
   },
   {
    "duration": 49,
    "start_time": "2022-05-30T16:58:06.224Z"
   },
   {
    "duration": 21,
    "start_time": "2022-05-30T16:58:06.275Z"
   },
   {
    "duration": 34,
    "start_time": "2022-05-30T16:58:06.299Z"
   },
   {
    "duration": 26,
    "start_time": "2022-05-30T17:31:12.016Z"
   },
   {
    "duration": 10,
    "start_time": "2022-05-30T17:32:12.289Z"
   },
   {
    "duration": 39,
    "start_time": "2022-05-30T17:34:06.402Z"
   },
   {
    "duration": 36,
    "start_time": "2022-05-30T17:34:40.762Z"
   },
   {
    "duration": 27,
    "start_time": "2022-05-30T17:34:41.594Z"
   },
   {
    "duration": 15,
    "start_time": "2022-05-30T17:36:53.692Z"
   },
   {
    "duration": 15,
    "start_time": "2022-05-30T17:37:21.278Z"
   },
   {
    "duration": 15,
    "start_time": "2022-05-30T17:37:49.315Z"
   },
   {
    "duration": 11,
    "start_time": "2022-05-30T17:38:09.617Z"
   },
   {
    "duration": 10,
    "start_time": "2022-05-30T17:38:20.628Z"
   },
   {
    "duration": 1048,
    "start_time": "2022-05-30T19:29:57.274Z"
   },
   {
    "duration": 5,
    "start_time": "2022-05-30T19:29:58.324Z"
   },
   {
    "duration": 211,
    "start_time": "2022-05-30T19:29:58.330Z"
   },
   {
    "duration": 9,
    "start_time": "2022-05-30T19:29:58.544Z"
   },
   {
    "duration": 18,
    "start_time": "2022-05-30T19:29:58.554Z"
   },
   {
    "duration": 7,
    "start_time": "2022-05-30T19:29:58.573Z"
   },
   {
    "duration": 12,
    "start_time": "2022-05-30T19:29:58.581Z"
   },
   {
    "duration": 7,
    "start_time": "2022-05-30T19:29:58.595Z"
   },
   {
    "duration": 17,
    "start_time": "2022-05-30T19:29:58.603Z"
   },
   {
    "duration": 10,
    "start_time": "2022-05-30T19:29:58.623Z"
   },
   {
    "duration": 11,
    "start_time": "2022-05-30T19:29:58.634Z"
   },
   {
    "duration": 10,
    "start_time": "2022-05-30T19:29:58.646Z"
   },
   {
    "duration": 25,
    "start_time": "2022-05-30T19:29:58.657Z"
   },
   {
    "duration": 8,
    "start_time": "2022-05-30T19:29:58.683Z"
   },
   {
    "duration": 12,
    "start_time": "2022-05-30T19:29:58.692Z"
   },
   {
    "duration": 11,
    "start_time": "2022-05-30T19:29:58.705Z"
   },
   {
    "duration": 19,
    "start_time": "2022-05-30T19:29:58.718Z"
   },
   {
    "duration": 8,
    "start_time": "2022-05-30T19:29:58.739Z"
   },
   {
    "duration": 21,
    "start_time": "2022-05-30T19:29:58.749Z"
   },
   {
    "duration": 13,
    "start_time": "2022-05-30T19:29:58.774Z"
   },
   {
    "duration": 11,
    "start_time": "2022-05-30T19:29:58.788Z"
   },
   {
    "duration": 4,
    "start_time": "2022-05-30T19:29:58.800Z"
   },
   {
    "duration": 6,
    "start_time": "2022-05-30T19:29:58.805Z"
   },
   {
    "duration": 14,
    "start_time": "2022-05-30T19:29:58.812Z"
   },
   {
    "duration": 27,
    "start_time": "2022-05-30T19:29:58.827Z"
   },
   {
    "duration": 20,
    "start_time": "2022-05-30T19:29:58.856Z"
   },
   {
    "duration": 9,
    "start_time": "2022-05-30T19:29:58.877Z"
   },
   {
    "duration": 6,
    "start_time": "2022-05-30T19:29:58.889Z"
   },
   {
    "duration": 14,
    "start_time": "2022-05-30T19:29:58.896Z"
   },
   {
    "duration": 155,
    "start_time": "2022-05-30T19:29:58.911Z"
   },
   {
    "duration": 6,
    "start_time": "2022-05-30T19:29:59.073Z"
   },
   {
    "duration": 12,
    "start_time": "2022-05-30T19:29:59.081Z"
   },
   {
    "duration": 186,
    "start_time": "2022-05-30T19:29:59.095Z"
   },
   {
    "duration": 6,
    "start_time": "2022-05-30T19:29:59.282Z"
   },
   {
    "duration": 257,
    "start_time": "2022-05-30T19:29:59.289Z"
   },
   {
    "duration": 322,
    "start_time": "2022-05-30T19:29:59.548Z"
   },
   {
    "duration": 314,
    "start_time": "2022-05-30T19:29:59.872Z"
   },
   {
    "duration": 364,
    "start_time": "2022-05-30T19:30:00.188Z"
   },
   {
    "duration": 306,
    "start_time": "2022-05-30T19:30:00.554Z"
   },
   {
    "duration": 413,
    "start_time": "2022-05-30T19:30:00.865Z"
   },
   {
    "duration": 10,
    "start_time": "2022-05-30T19:30:01.280Z"
   },
   {
    "duration": 207,
    "start_time": "2022-05-30T19:30:01.292Z"
   },
   {
    "duration": 3,
    "start_time": "2022-05-30T19:30:01.501Z"
   },
   {
    "duration": 112,
    "start_time": "2022-05-30T19:30:01.506Z"
   },
   {
    "duration": 70,
    "start_time": "2022-05-30T19:30:01.620Z"
   },
   {
    "duration": 94,
    "start_time": "2022-05-30T19:30:01.692Z"
   },
   {
    "duration": 146,
    "start_time": "2022-05-30T19:30:01.788Z"
   },
   {
    "duration": 96,
    "start_time": "2022-05-30T19:30:01.937Z"
   },
   {
    "duration": 99,
    "start_time": "2022-05-30T19:30:02.035Z"
   },
   {
    "duration": 36,
    "start_time": "2022-05-30T19:30:02.136Z"
   },
   {
    "duration": 174,
    "start_time": "2022-05-30T19:30:02.173Z"
   },
   {
    "duration": 161,
    "start_time": "2022-05-30T19:30:02.348Z"
   },
   {
    "duration": 5,
    "start_time": "2022-05-30T19:30:02.511Z"
   },
   {
    "duration": 37,
    "start_time": "2022-05-30T19:30:02.518Z"
   },
   {
    "duration": 333,
    "start_time": "2022-05-30T19:30:02.557Z"
   },
   {
    "duration": 157,
    "start_time": "2022-05-30T19:30:02.892Z"
   },
   {
    "duration": 16,
    "start_time": "2022-05-30T19:30:03.050Z"
   },
   {
    "duration": 54,
    "start_time": "2022-05-30T19:30:03.067Z"
   },
   {
    "duration": 3,
    "start_time": "2022-05-30T19:30:03.123Z"
   },
   {
    "duration": 16,
    "start_time": "2022-05-30T19:30:03.128Z"
   },
   {
    "duration": 22,
    "start_time": "2022-05-30T19:30:03.146Z"
   },
   {
    "duration": 18,
    "start_time": "2022-05-30T19:30:03.170Z"
   },
   {
    "duration": 10,
    "start_time": "2022-05-30T19:30:03.190Z"
   },
   {
    "duration": 11,
    "start_time": "2022-05-30T19:30:03.201Z"
   },
   {
    "duration": 29,
    "start_time": "2022-05-30T19:30:03.213Z"
   },
   {
    "duration": 40,
    "start_time": "2022-05-30T19:30:03.243Z"
   },
   {
    "duration": 12,
    "start_time": "2022-05-30T19:30:03.285Z"
   },
   {
    "duration": 14,
    "start_time": "2022-05-30T19:30:03.299Z"
   }
  ],
  "colab": {
   "collapsed_sections": [],
   "name": "proj_prin_resh_v_biz.ipynb",
   "provenance": [],
   "toc_visible": true
  },
  "kernelspec": {
   "display_name": "Python 3 (ipykernel)",
   "language": "python",
   "name": "python3"
  },
  "language_info": {
   "codemirror_mode": {
    "name": "ipython",
    "version": 3
   },
   "file_extension": ".py",
   "mimetype": "text/x-python",
   "name": "python",
   "nbconvert_exporter": "python",
   "pygments_lexer": "ipython3",
   "version": "3.9.7"
  },
  "toc": {
   "base_numbering": 1,
   "nav_menu": {},
   "number_sections": true,
   "sideBar": true,
   "skip_h1_title": true,
   "title_cell": "Table of Contents",
   "title_sidebar": "Contents",
   "toc_cell": false,
   "toc_position": {
    "height": "calc(100% - 180px)",
    "left": "10px",
    "top": "150px",
    "width": "385.6px"
   },
   "toc_section_display": true,
   "toc_window_display": false
  }
 },
 "nbformat": 4,
 "nbformat_minor": 1
}
