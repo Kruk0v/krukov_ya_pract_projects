{
 "cells": [
  {
   "cell_type": "markdown",
   "metadata": {},
   "source": [
    "**Юрий, привет!**\n",
    "\n",
    "Меня зовут Артемьева Саша, я буду проверять твой проект. Приятно познакомиться, хоть и заочно:)\n",
    "    \n",
    "Предлагаю общаться на «ты» :) Но если это не удобно - дай знать, и мы перейдем на \"вы\". \n",
    "\n",
    "Моя основная цель — не указать на совершенные тобою ошибки, а поделиться своим опытом и помочь тебе стать аналитиком данных. Ты уже проделал большую работу над проектом, но давай сделаем его еще лучше. Ниже ты найдешь мои комментарии - пожалуйста, не перемещай, не изменяй и не удаляй их. Я буду использовать цветовую разметку:\n",
    "\n",
    "<div class=\"alert alert-danger\">\n",
    "<b>❌ Комментарий ревьюера:</b> Так выделены самые важные замечания. Без их отработки проект не будет принят. </div>\n",
    "\n",
    "<div class=\"alert alert-warning\">\n",
    "<b>⚠️ Комментарий ревьюера:</b> Так выделены небольшие замечания. Одно-два таких замечания в проекте допустимы, но если их будет больше - тебе будет необходимо внести исправления. Это как тестовое задание при приеме на работу: очень много мелких ошибок могут стать причиной отказа кандидату. \n",
    "\n",
    "</div>\n",
    "\n",
    "<div class=\"alert alert-success\">\n",
    "<b>✔️ Комментарий ревьюера:</b> Так я выделяю все остальные комментарии.</div>\n",
    "\n",
    "Давай работать над проектом в диалоге: если ты что-то меняешь в проекте или отвечаешь на мои комменатри — пиши об этом. Мне будет легче отследить изменения, если ты выделишь свои комментарии:\n",
    "<div class=\"alert alert-info\"> <b>Комментарий студента:</b> Например, вот так.</div>\n",
    "\n",
    "Всё это поможет выполнить повторную проверку твоего проекта оперативнее. \n"
   ]
  },
  {
   "cell_type": "markdown",
   "metadata": {},
   "source": [
    "<div class=\"alert alert-info\"> <b>Комментарий студента:</b> Саша, привет! Спасибо за \"щадящие\" и дипломатичные комментарии :)</div>\n",
    "\n",
    "\n"
   ]
  },
  {
   "cell_type": "markdown",
   "metadata": {},
   "source": [
    "# Исследование надёжности заёмщиков\n",
    "\n",
    "Заказчик — кредитный отдел банка. Нужно разобраться, влияет ли семейное положение и количество детей клиента на факт погашения кредита в срок. Входные данные от банка — статистика о платёжеспособности клиентов.\n",
    "\n",
    "Результаты исследования будут учтены при построении модели **кредитного скоринга** — специальной системы, которая оценивает способность потенциального заёмщика вернуть кредит банку."
   ]
  },
  {
   "cell_type": "markdown",
   "metadata": {},
   "source": [
    "Образование — \n",
    "Семейное положение\n",
    "Тип кредита — одобрение "
   ]
  },
  {
   "cell_type": "markdown",
   "metadata": {},
   "source": [
    "## Шаг 1. Откройте файл с данными и изучите общую информацию"
   ]
  },
  {
   "cell_type": "code",
   "execution_count": 1,
   "metadata": {},
   "outputs": [],
   "source": [
    "# Импортируем Pandas и сохраняем датасет в переменную df:\n",
    "\n",
    "import pandas as pd\n",
    "df = pd.read_csv('/datasets/data.csv')"
   ]
  },
  {
   "cell_type": "code",
   "execution_count": 2,
   "metadata": {},
   "outputs": [],
   "source": [
    "data = pd.read_csv('/datasets/data.csv')\n",
    "data.to_csv('data.csv', index=False)"
   ]
  },
  {
   "cell_type": "code",
   "execution_count": 3,
   "metadata": {},
   "outputs": [
    {
     "data": {
      "text/plain": [
       "(21525, 12)"
      ]
     },
     "execution_count": 3,
     "metadata": {},
     "output_type": "execute_result"
    }
   ],
   "source": [
    "# Посмотрим размер таблицы:\n",
    "\n",
    "df.shape"
   ]
  },
  {
   "cell_type": "code",
   "execution_count": 4,
   "metadata": {
    "scrolled": true
   },
   "outputs": [
    {
     "data": {
      "text/plain": [
       "Index(['children', 'days_employed', 'dob_years', 'education', 'education_id',\n",
       "       'family_status', 'family_status_id', 'gender', 'income_type', 'debt',\n",
       "       'total_income', 'purpose'],\n",
       "      dtype='object')"
      ]
     },
     "execution_count": 4,
     "metadata": {},
     "output_type": "execute_result"
    }
   ],
   "source": [
    "# Какие столбцы есть в таблице:\n",
    "\n",
    "df.columns"
   ]
  },
  {
   "cell_type": "code",
   "execution_count": 5,
   "metadata": {},
   "outputs": [],
   "source": [
    "#to_csv(): df.to_csv('data.csv')"
   ]
  },
  {
   "cell_type": "code",
   "execution_count": 6,
   "metadata": {},
   "outputs": [
    {
     "name": "stdout",
     "output_type": "stream",
     "text": [
      "<class 'pandas.core.frame.DataFrame'>\n",
      "RangeIndex: 21525 entries, 0 to 21524\n",
      "Data columns (total 12 columns):\n",
      " #   Column            Non-Null Count  Dtype  \n",
      "---  ------            --------------  -----  \n",
      " 0   children          21525 non-null  int64  \n",
      " 1   days_employed     19351 non-null  float64\n",
      " 2   dob_years         21525 non-null  int64  \n",
      " 3   education         21525 non-null  object \n",
      " 4   education_id      21525 non-null  int64  \n",
      " 5   family_status     21525 non-null  object \n",
      " 6   family_status_id  21525 non-null  int64  \n",
      " 7   gender            21525 non-null  object \n",
      " 8   income_type       21525 non-null  object \n",
      " 9   debt              21525 non-null  int64  \n",
      " 10  total_income      19351 non-null  float64\n",
      " 11  purpose           21525 non-null  object \n",
      "dtypes: float64(2), int64(5), object(5)\n",
      "memory usage: 11.3 MB\n"
     ]
    }
   ],
   "source": [
    "# Посмотрим общуя информацию о таблице:\n",
    "\n",
    "df.info(memory_usage='deep')"
   ]
  },
  {
   "cell_type": "markdown",
   "metadata": {},
   "source": [
    "Названия столбцов совпадают с названиями в ТЗ, всё нормально"
   ]
  },
  {
   "cell_type": "markdown",
   "metadata": {},
   "source": [
    "Сразу обращаем внимание, что в колонках _days_employed_ и _total_income_ большое количество пропусков (в каждом случае 2174 пропущенных значений)"
   ]
  },
  {
   "cell_type": "code",
   "execution_count": 7,
   "metadata": {
    "scrolled": true
   },
   "outputs": [
    {
     "data": {
      "text/html": [
       "<div>\n",
       "<style scoped>\n",
       "    .dataframe tbody tr th:only-of-type {\n",
       "        vertical-align: middle;\n",
       "    }\n",
       "\n",
       "    .dataframe tbody tr th {\n",
       "        vertical-align: top;\n",
       "    }\n",
       "\n",
       "    .dataframe thead th {\n",
       "        text-align: right;\n",
       "    }\n",
       "</style>\n",
       "<table border=\"1\" class=\"dataframe\">\n",
       "  <thead>\n",
       "    <tr style=\"text-align: right;\">\n",
       "      <th></th>\n",
       "      <th>children</th>\n",
       "      <th>days_employed</th>\n",
       "      <th>dob_years</th>\n",
       "      <th>education</th>\n",
       "      <th>education_id</th>\n",
       "      <th>family_status</th>\n",
       "      <th>family_status_id</th>\n",
       "      <th>gender</th>\n",
       "      <th>income_type</th>\n",
       "      <th>debt</th>\n",
       "      <th>total_income</th>\n",
       "      <th>purpose</th>\n",
       "    </tr>\n",
       "  </thead>\n",
       "  <tbody>\n",
       "    <tr>\n",
       "      <th>0</th>\n",
       "      <td>1</td>\n",
       "      <td>-8437.673028</td>\n",
       "      <td>42</td>\n",
       "      <td>высшее</td>\n",
       "      <td>0</td>\n",
       "      <td>женат / замужем</td>\n",
       "      <td>0</td>\n",
       "      <td>F</td>\n",
       "      <td>сотрудник</td>\n",
       "      <td>0</td>\n",
       "      <td>253875.639453</td>\n",
       "      <td>покупка жилья</td>\n",
       "    </tr>\n",
       "    <tr>\n",
       "      <th>1</th>\n",
       "      <td>1</td>\n",
       "      <td>-4024.803754</td>\n",
       "      <td>36</td>\n",
       "      <td>среднее</td>\n",
       "      <td>1</td>\n",
       "      <td>женат / замужем</td>\n",
       "      <td>0</td>\n",
       "      <td>F</td>\n",
       "      <td>сотрудник</td>\n",
       "      <td>0</td>\n",
       "      <td>112080.014102</td>\n",
       "      <td>приобретение автомобиля</td>\n",
       "    </tr>\n",
       "    <tr>\n",
       "      <th>2</th>\n",
       "      <td>0</td>\n",
       "      <td>-5623.422610</td>\n",
       "      <td>33</td>\n",
       "      <td>Среднее</td>\n",
       "      <td>1</td>\n",
       "      <td>женат / замужем</td>\n",
       "      <td>0</td>\n",
       "      <td>M</td>\n",
       "      <td>сотрудник</td>\n",
       "      <td>0</td>\n",
       "      <td>145885.952297</td>\n",
       "      <td>покупка жилья</td>\n",
       "    </tr>\n",
       "    <tr>\n",
       "      <th>3</th>\n",
       "      <td>3</td>\n",
       "      <td>-4124.747207</td>\n",
       "      <td>32</td>\n",
       "      <td>среднее</td>\n",
       "      <td>1</td>\n",
       "      <td>женат / замужем</td>\n",
       "      <td>0</td>\n",
       "      <td>M</td>\n",
       "      <td>сотрудник</td>\n",
       "      <td>0</td>\n",
       "      <td>267628.550329</td>\n",
       "      <td>дополнительное образование</td>\n",
       "    </tr>\n",
       "    <tr>\n",
       "      <th>4</th>\n",
       "      <td>0</td>\n",
       "      <td>340266.072047</td>\n",
       "      <td>53</td>\n",
       "      <td>среднее</td>\n",
       "      <td>1</td>\n",
       "      <td>гражданский брак</td>\n",
       "      <td>1</td>\n",
       "      <td>F</td>\n",
       "      <td>пенсионер</td>\n",
       "      <td>0</td>\n",
       "      <td>158616.077870</td>\n",
       "      <td>сыграть свадьбу</td>\n",
       "    </tr>\n",
       "    <tr>\n",
       "      <th>5</th>\n",
       "      <td>0</td>\n",
       "      <td>-926.185831</td>\n",
       "      <td>27</td>\n",
       "      <td>высшее</td>\n",
       "      <td>0</td>\n",
       "      <td>гражданский брак</td>\n",
       "      <td>1</td>\n",
       "      <td>M</td>\n",
       "      <td>компаньон</td>\n",
       "      <td>0</td>\n",
       "      <td>255763.565419</td>\n",
       "      <td>покупка жилья</td>\n",
       "    </tr>\n",
       "    <tr>\n",
       "      <th>6</th>\n",
       "      <td>0</td>\n",
       "      <td>-2879.202052</td>\n",
       "      <td>43</td>\n",
       "      <td>высшее</td>\n",
       "      <td>0</td>\n",
       "      <td>женат / замужем</td>\n",
       "      <td>0</td>\n",
       "      <td>F</td>\n",
       "      <td>компаньон</td>\n",
       "      <td>0</td>\n",
       "      <td>240525.971920</td>\n",
       "      <td>операции с жильем</td>\n",
       "    </tr>\n",
       "    <tr>\n",
       "      <th>7</th>\n",
       "      <td>0</td>\n",
       "      <td>-152.779569</td>\n",
       "      <td>50</td>\n",
       "      <td>СРЕДНЕЕ</td>\n",
       "      <td>1</td>\n",
       "      <td>женат / замужем</td>\n",
       "      <td>0</td>\n",
       "      <td>M</td>\n",
       "      <td>сотрудник</td>\n",
       "      <td>0</td>\n",
       "      <td>135823.934197</td>\n",
       "      <td>образование</td>\n",
       "    </tr>\n",
       "    <tr>\n",
       "      <th>8</th>\n",
       "      <td>2</td>\n",
       "      <td>-6929.865299</td>\n",
       "      <td>35</td>\n",
       "      <td>ВЫСШЕЕ</td>\n",
       "      <td>0</td>\n",
       "      <td>гражданский брак</td>\n",
       "      <td>1</td>\n",
       "      <td>F</td>\n",
       "      <td>сотрудник</td>\n",
       "      <td>0</td>\n",
       "      <td>95856.832424</td>\n",
       "      <td>на проведение свадьбы</td>\n",
       "    </tr>\n",
       "    <tr>\n",
       "      <th>9</th>\n",
       "      <td>0</td>\n",
       "      <td>-2188.756445</td>\n",
       "      <td>41</td>\n",
       "      <td>среднее</td>\n",
       "      <td>1</td>\n",
       "      <td>женат / замужем</td>\n",
       "      <td>0</td>\n",
       "      <td>M</td>\n",
       "      <td>сотрудник</td>\n",
       "      <td>0</td>\n",
       "      <td>144425.938277</td>\n",
       "      <td>покупка жилья для семьи</td>\n",
       "    </tr>\n",
       "  </tbody>\n",
       "</table>\n",
       "</div>"
      ],
      "text/plain": [
       "   children  days_employed  dob_years education  education_id  \\\n",
       "0         1   -8437.673028         42    высшее             0   \n",
       "1         1   -4024.803754         36   среднее             1   \n",
       "2         0   -5623.422610         33   Среднее             1   \n",
       "3         3   -4124.747207         32   среднее             1   \n",
       "4         0  340266.072047         53   среднее             1   \n",
       "5         0    -926.185831         27    высшее             0   \n",
       "6         0   -2879.202052         43    высшее             0   \n",
       "7         0    -152.779569         50   СРЕДНЕЕ             1   \n",
       "8         2   -6929.865299         35    ВЫСШЕЕ             0   \n",
       "9         0   -2188.756445         41   среднее             1   \n",
       "\n",
       "      family_status  family_status_id gender income_type  debt   total_income  \\\n",
       "0   женат / замужем                 0      F   сотрудник     0  253875.639453   \n",
       "1   женат / замужем                 0      F   сотрудник     0  112080.014102   \n",
       "2   женат / замужем                 0      M   сотрудник     0  145885.952297   \n",
       "3   женат / замужем                 0      M   сотрудник     0  267628.550329   \n",
       "4  гражданский брак                 1      F   пенсионер     0  158616.077870   \n",
       "5  гражданский брак                 1      M   компаньон     0  255763.565419   \n",
       "6   женат / замужем                 0      F   компаньон     0  240525.971920   \n",
       "7   женат / замужем                 0      M   сотрудник     0  135823.934197   \n",
       "8  гражданский брак                 1      F   сотрудник     0   95856.832424   \n",
       "9   женат / замужем                 0      M   сотрудник     0  144425.938277   \n",
       "\n",
       "                      purpose  \n",
       "0               покупка жилья  \n",
       "1     приобретение автомобиля  \n",
       "2               покупка жилья  \n",
       "3  дополнительное образование  \n",
       "4             сыграть свадьбу  \n",
       "5               покупка жилья  \n",
       "6           операции с жильем  \n",
       "7                 образование  \n",
       "8       на проведение свадьбы  \n",
       "9     покупка жилья для семьи  "
      ]
     },
     "execution_count": 7,
     "metadata": {},
     "output_type": "execute_result"
    }
   ],
   "source": [
    "# Напечатаем первые 10 строк таблицы:\n",
    "\n",
    "df.head(10)"
   ]
  },
  {
   "cell_type": "code",
   "execution_count": 8,
   "metadata": {
    "scrolled": true
   },
   "outputs": [
    {
     "data": {
      "text/html": [
       "<div>\n",
       "<style scoped>\n",
       "    .dataframe tbody tr th:only-of-type {\n",
       "        vertical-align: middle;\n",
       "    }\n",
       "\n",
       "    .dataframe tbody tr th {\n",
       "        vertical-align: top;\n",
       "    }\n",
       "\n",
       "    .dataframe thead th {\n",
       "        text-align: right;\n",
       "    }\n",
       "</style>\n",
       "<table border=\"1\" class=\"dataframe\">\n",
       "  <thead>\n",
       "    <tr style=\"text-align: right;\">\n",
       "      <th></th>\n",
       "      <th>children</th>\n",
       "      <th>days_employed</th>\n",
       "      <th>dob_years</th>\n",
       "      <th>education</th>\n",
       "      <th>education_id</th>\n",
       "      <th>family_status</th>\n",
       "      <th>family_status_id</th>\n",
       "      <th>gender</th>\n",
       "      <th>income_type</th>\n",
       "      <th>debt</th>\n",
       "      <th>total_income</th>\n",
       "      <th>purpose</th>\n",
       "    </tr>\n",
       "  </thead>\n",
       "  <tbody>\n",
       "    <tr>\n",
       "      <th>21515</th>\n",
       "      <td>1</td>\n",
       "      <td>-467.685130</td>\n",
       "      <td>28</td>\n",
       "      <td>среднее</td>\n",
       "      <td>1</td>\n",
       "      <td>женат / замужем</td>\n",
       "      <td>0</td>\n",
       "      <td>F</td>\n",
       "      <td>сотрудник</td>\n",
       "      <td>1</td>\n",
       "      <td>109486.327999</td>\n",
       "      <td>заняться образованием</td>\n",
       "    </tr>\n",
       "    <tr>\n",
       "      <th>21516</th>\n",
       "      <td>0</td>\n",
       "      <td>-914.391429</td>\n",
       "      <td>42</td>\n",
       "      <td>высшее</td>\n",
       "      <td>0</td>\n",
       "      <td>женат / замужем</td>\n",
       "      <td>0</td>\n",
       "      <td>F</td>\n",
       "      <td>компаньон</td>\n",
       "      <td>0</td>\n",
       "      <td>322807.776603</td>\n",
       "      <td>покупка своего жилья</td>\n",
       "    </tr>\n",
       "    <tr>\n",
       "      <th>21517</th>\n",
       "      <td>0</td>\n",
       "      <td>-404.679034</td>\n",
       "      <td>42</td>\n",
       "      <td>высшее</td>\n",
       "      <td>0</td>\n",
       "      <td>гражданский брак</td>\n",
       "      <td>1</td>\n",
       "      <td>F</td>\n",
       "      <td>компаньон</td>\n",
       "      <td>0</td>\n",
       "      <td>178059.553491</td>\n",
       "      <td>на покупку своего автомобиля</td>\n",
       "    </tr>\n",
       "    <tr>\n",
       "      <th>21518</th>\n",
       "      <td>0</td>\n",
       "      <td>373995.710838</td>\n",
       "      <td>59</td>\n",
       "      <td>СРЕДНЕЕ</td>\n",
       "      <td>1</td>\n",
       "      <td>женат / замужем</td>\n",
       "      <td>0</td>\n",
       "      <td>F</td>\n",
       "      <td>пенсионер</td>\n",
       "      <td>0</td>\n",
       "      <td>153864.650328</td>\n",
       "      <td>сделка с автомобилем</td>\n",
       "    </tr>\n",
       "    <tr>\n",
       "      <th>21519</th>\n",
       "      <td>1</td>\n",
       "      <td>-2351.431934</td>\n",
       "      <td>37</td>\n",
       "      <td>ученая степень</td>\n",
       "      <td>4</td>\n",
       "      <td>в разводе</td>\n",
       "      <td>3</td>\n",
       "      <td>M</td>\n",
       "      <td>сотрудник</td>\n",
       "      <td>0</td>\n",
       "      <td>115949.039788</td>\n",
       "      <td>покупка коммерческой недвижимости</td>\n",
       "    </tr>\n",
       "    <tr>\n",
       "      <th>21520</th>\n",
       "      <td>1</td>\n",
       "      <td>-4529.316663</td>\n",
       "      <td>43</td>\n",
       "      <td>среднее</td>\n",
       "      <td>1</td>\n",
       "      <td>гражданский брак</td>\n",
       "      <td>1</td>\n",
       "      <td>F</td>\n",
       "      <td>компаньон</td>\n",
       "      <td>0</td>\n",
       "      <td>224791.862382</td>\n",
       "      <td>операции с жильем</td>\n",
       "    </tr>\n",
       "    <tr>\n",
       "      <th>21521</th>\n",
       "      <td>0</td>\n",
       "      <td>343937.404131</td>\n",
       "      <td>67</td>\n",
       "      <td>среднее</td>\n",
       "      <td>1</td>\n",
       "      <td>женат / замужем</td>\n",
       "      <td>0</td>\n",
       "      <td>F</td>\n",
       "      <td>пенсионер</td>\n",
       "      <td>0</td>\n",
       "      <td>155999.806512</td>\n",
       "      <td>сделка с автомобилем</td>\n",
       "    </tr>\n",
       "    <tr>\n",
       "      <th>21522</th>\n",
       "      <td>1</td>\n",
       "      <td>-2113.346888</td>\n",
       "      <td>38</td>\n",
       "      <td>среднее</td>\n",
       "      <td>1</td>\n",
       "      <td>гражданский брак</td>\n",
       "      <td>1</td>\n",
       "      <td>M</td>\n",
       "      <td>сотрудник</td>\n",
       "      <td>1</td>\n",
       "      <td>89672.561153</td>\n",
       "      <td>недвижимость</td>\n",
       "    </tr>\n",
       "    <tr>\n",
       "      <th>21523</th>\n",
       "      <td>3</td>\n",
       "      <td>-3112.481705</td>\n",
       "      <td>38</td>\n",
       "      <td>среднее</td>\n",
       "      <td>1</td>\n",
       "      <td>женат / замужем</td>\n",
       "      <td>0</td>\n",
       "      <td>M</td>\n",
       "      <td>сотрудник</td>\n",
       "      <td>1</td>\n",
       "      <td>244093.050500</td>\n",
       "      <td>на покупку своего автомобиля</td>\n",
       "    </tr>\n",
       "    <tr>\n",
       "      <th>21524</th>\n",
       "      <td>2</td>\n",
       "      <td>-1984.507589</td>\n",
       "      <td>40</td>\n",
       "      <td>среднее</td>\n",
       "      <td>1</td>\n",
       "      <td>женат / замужем</td>\n",
       "      <td>0</td>\n",
       "      <td>F</td>\n",
       "      <td>сотрудник</td>\n",
       "      <td>0</td>\n",
       "      <td>82047.418899</td>\n",
       "      <td>на покупку автомобиля</td>\n",
       "    </tr>\n",
       "  </tbody>\n",
       "</table>\n",
       "</div>"
      ],
      "text/plain": [
       "       children  days_employed  dob_years       education  education_id  \\\n",
       "21515         1    -467.685130         28         среднее             1   \n",
       "21516         0    -914.391429         42          высшее             0   \n",
       "21517         0    -404.679034         42          высшее             0   \n",
       "21518         0  373995.710838         59         СРЕДНЕЕ             1   \n",
       "21519         1   -2351.431934         37  ученая степень             4   \n",
       "21520         1   -4529.316663         43         среднее             1   \n",
       "21521         0  343937.404131         67         среднее             1   \n",
       "21522         1   -2113.346888         38         среднее             1   \n",
       "21523         3   -3112.481705         38         среднее             1   \n",
       "21524         2   -1984.507589         40         среднее             1   \n",
       "\n",
       "          family_status  family_status_id gender income_type  debt  \\\n",
       "21515   женат / замужем                 0      F   сотрудник     1   \n",
       "21516   женат / замужем                 0      F   компаньон     0   \n",
       "21517  гражданский брак                 1      F   компаньон     0   \n",
       "21518   женат / замужем                 0      F   пенсионер     0   \n",
       "21519         в разводе                 3      M   сотрудник     0   \n",
       "21520  гражданский брак                 1      F   компаньон     0   \n",
       "21521   женат / замужем                 0      F   пенсионер     0   \n",
       "21522  гражданский брак                 1      M   сотрудник     1   \n",
       "21523   женат / замужем                 0      M   сотрудник     1   \n",
       "21524   женат / замужем                 0      F   сотрудник     0   \n",
       "\n",
       "        total_income                            purpose  \n",
       "21515  109486.327999              заняться образованием  \n",
       "21516  322807.776603               покупка своего жилья  \n",
       "21517  178059.553491       на покупку своего автомобиля  \n",
       "21518  153864.650328               сделка с автомобилем  \n",
       "21519  115949.039788  покупка коммерческой недвижимости  \n",
       "21520  224791.862382                  операции с жильем  \n",
       "21521  155999.806512               сделка с автомобилем  \n",
       "21522   89672.561153                       недвижимость  \n",
       "21523  244093.050500       на покупку своего автомобиля  \n",
       "21524   82047.418899              на покупку автомобиля  "
      ]
     },
     "execution_count": 8,
     "metadata": {},
     "output_type": "execute_result"
    }
   ],
   "source": [
    "# Напечатаем последние 10 строк:\n",
    "\n",
    "df.tail(10)"
   ]
  },
  {
   "cell_type": "markdown",
   "metadata": {},
   "source": [
    "По выведенным данным делаем первые наблюдения:\n",
    "* В колонке _days_employed_ (общий трудовой стаж в днях) стоят отрицательные значения\n",
    "* В столбце _education_ (образование) значения написаны в разных регистрах\n",
    "\n",
    "\n"
   ]
  },
  {
   "cell_type": "code",
   "execution_count": 9,
   "metadata": {
    "scrolled": false
   },
   "outputs": [
    {
     "data": {
      "text/plain": [
       "среднее                13750\n",
       "высшее                  4718\n",
       "СРЕДНЕЕ                  772\n",
       "Среднее                  711\n",
       "неоконченное высшее      668\n",
       "ВЫСШЕЕ                   274\n",
       "Высшее                   268\n",
       "начальное                250\n",
       "Неоконченное высшее       47\n",
       "НЕОКОНЧЕННОЕ ВЫСШЕЕ       29\n",
       "НАЧАЛЬНОЕ                 17\n",
       "Начальное                 15\n",
       "ученая степень             4\n",
       "Ученая степень             1\n",
       "УЧЕНАЯ СТЕПЕНЬ             1\n",
       "Name: education, dtype: int64"
      ]
     },
     "execution_count": 9,
     "metadata": {},
     "output_type": "execute_result"
    }
   ],
   "source": [
    "# Посмотрим уникальные значения в графах education, family_status, income_type:\n",
    "\n",
    "df['education'].value_counts()"
   ]
  },
  {
   "cell_type": "code",
   "execution_count": 10,
   "metadata": {},
   "outputs": [
    {
     "data": {
      "text/plain": [
       "15"
      ]
     },
     "execution_count": 10,
     "metadata": {},
     "output_type": "execute_result"
    }
   ],
   "source": [
    "# сколько значений есть в таблице, с учетом неявных дубликатов:\n",
    "\n",
    "df['education'].value_counts().count()"
   ]
  },
  {
   "cell_type": "markdown",
   "metadata": {},
   "source": [
    "Здесь придется поработать с неявными дубликатами — при фактически пяти значениях в столбце из-за разных регистров наблюдаем 15 (!) значений. В дальнейшем наведем порядок и уберем дубликаты."
   ]
  },
  {
   "cell_type": "markdown",
   "metadata": {},
   "source": [
    "Посмотрим на столбws `'family_status'` и `'income_type'`"
   ]
  },
  {
   "cell_type": "code",
   "execution_count": 11,
   "metadata": {},
   "outputs": [
    {
     "data": {
      "text/plain": [
       "женат / замужем          12380\n",
       "гражданский брак          4177\n",
       "Не женат / не замужем     2813\n",
       "в разводе                 1195\n",
       "вдовец / вдова             960\n",
       "Name: family_status, dtype: int64"
      ]
     },
     "execution_count": 11,
     "metadata": {},
     "output_type": "execute_result"
    }
   ],
   "source": [
    "df['family_status'].value_counts()"
   ]
  },
  {
   "cell_type": "code",
   "execution_count": 12,
   "metadata": {},
   "outputs": [
    {
     "data": {
      "text/plain": [
       "сотрудник          11119\n",
       "компаньон           5085\n",
       "пенсионер           3856\n",
       "госслужащий         1459\n",
       "безработный            2\n",
       "предприниматель        2\n",
       "студент                1\n",
       "в декрете              1\n",
       "Name: income_type, dtype: int64"
      ]
     },
     "execution_count": 12,
     "metadata": {},
     "output_type": "execute_result"
    }
   ],
   "source": [
    "df['income_type'].value_counts()"
   ]
  },
  {
   "cell_type": "markdown",
   "metadata": {},
   "source": [
    "В этих столбцах не видно неявных дубликатов, с ними можно работать"
   ]
  },
  {
   "cell_type": "markdown",
   "metadata": {},
   "source": [
    "Сделаем то же самое для столбцов _education_id_, _family_status_id_"
   ]
  },
  {
   "cell_type": "code",
   "execution_count": 13,
   "metadata": {},
   "outputs": [
    {
     "data": {
      "text/plain": [
       "1    15233\n",
       "0     5260\n",
       "2      744\n",
       "3      282\n",
       "4        6\n",
       "Name: education_id, dtype: int64"
      ]
     },
     "execution_count": 13,
     "metadata": {},
     "output_type": "execute_result"
    }
   ],
   "source": [
    "df['education_id'].value_counts()"
   ]
  },
  {
   "cell_type": "code",
   "execution_count": 14,
   "metadata": {
    "scrolled": true
   },
   "outputs": [
    {
     "data": {
      "text/plain": [
       "0    12380\n",
       "1     4177\n",
       "4     2813\n",
       "3     1195\n",
       "2      960\n",
       "Name: family_status_id, dtype: int64"
      ]
     },
     "execution_count": 14,
     "metadata": {},
     "output_type": "execute_result"
    }
   ],
   "source": [
    "df['family_status_id'].value_counts()"
   ]
  },
  {
   "cell_type": "markdown",
   "metadata": {},
   "source": [
    "Проверим цели для получения денег — посмотрим столбец `'purpose'`"
   ]
  },
  {
   "cell_type": "code",
   "execution_count": 15,
   "metadata": {
    "scrolled": true
   },
   "outputs": [
    {
     "data": {
      "text/plain": [
       "свадьба                                   797\n",
       "на проведение свадьбы                     777\n",
       "сыграть свадьбу                           774\n",
       "операции с недвижимостью                  676\n",
       "покупка коммерческой недвижимости         664\n",
       "операции с жильем                         653\n",
       "покупка жилья для сдачи                   653\n",
       "операции с коммерческой недвижимостью     651\n",
       "покупка жилья                             647\n",
       "жилье                                     647\n",
       "покупка жилья для семьи                   641\n",
       "строительство собственной недвижимости    635\n",
       "недвижимость                              634\n",
       "операции со своей недвижимостью           630\n",
       "строительство жилой недвижимости          626\n",
       "покупка недвижимости                      624\n",
       "строительство недвижимости                620\n",
       "покупка своего жилья                      620\n",
       "ремонт жилью                              612\n",
       "покупка жилой недвижимости                607\n",
       "на покупку своего автомобиля              505\n",
       "заняться высшим образованием              496\n",
       "автомобиль                                495\n",
       "сделка с подержанным автомобилем          489\n",
       "свой автомобиль                           480\n",
       "на покупку подержанного автомобиля        479\n",
       "автомобили                                478\n",
       "на покупку автомобиля                     472\n",
       "дополнительное образование                462\n",
       "приобретение автомобиля                   462\n",
       "сделка с автомобилем                      455\n",
       "высшее образование                        453\n",
       "получение дополнительного образования     447\n",
       "образование                               447\n",
       "получение образования                     443\n",
       "профильное образование                    436\n",
       "получение высшего образования             426\n",
       "заняться образованием                     412\n",
       "Name: purpose, dtype: int64"
      ]
     },
     "execution_count": 15,
     "metadata": {},
     "output_type": "execute_result"
    }
   ],
   "source": [
    "df['purpose'].value_counts()"
   ]
  },
  {
   "cell_type": "code",
   "execution_count": 16,
   "metadata": {},
   "outputs": [
    {
     "data": {
      "text/plain": [
       "38"
      ]
     },
     "execution_count": 16,
     "metadata": {},
     "output_type": "execute_result"
    }
   ],
   "source": [
    "# Посмотрим количество значений в этом столбце:\n",
    "\n",
    "df['purpose'].value_counts().count()"
   ]
  },
  {
   "cell_type": "markdown",
   "metadata": {},
   "source": [
    "Многие значения по сути одинаковы, например, \"сделка с подержанным автомобилем\" и \"на покупку подержанного автомобиля\"."
   ]
  },
  {
   "cell_type": "markdown",
   "metadata": {},
   "source": [
    "<div class=\"alert alert-success\">\n",
    "<b>✔️ Комментарий ревьюера:</b> Увидели, с чем предстоит иметь дело"
   ]
  },
  {
   "cell_type": "markdown",
   "metadata": {},
   "source": [
    "## Шаг 2. Предобработка данных"
   ]
  },
  {
   "cell_type": "markdown",
   "metadata": {},
   "source": [
    "### Обработка пропусков"
   ]
  },
  {
   "cell_type": "markdown",
   "metadata": {},
   "source": [
    "Посмотрим общее количество пропусков:"
   ]
  },
  {
   "cell_type": "code",
   "execution_count": 17,
   "metadata": {
    "scrolled": false
   },
   "outputs": [
    {
     "data": {
      "text/plain": [
       "children               0\n",
       "days_employed       2174\n",
       "dob_years              0\n",
       "education              0\n",
       "education_id           0\n",
       "family_status          0\n",
       "family_status_id       0\n",
       "gender                 0\n",
       "income_type            0\n",
       "debt                   0\n",
       "total_income        2174\n",
       "purpose                0\n",
       "dtype: int64"
      ]
     },
     "execution_count": 17,
     "metadata": {},
     "output_type": "execute_result"
    }
   ],
   "source": [
    "df.isna().sum()"
   ]
  },
  {
   "cell_type": "markdown",
   "metadata": {},
   "source": [
    "#### Обработка пропусков в days_employed"
   ]
  },
  {
   "cell_type": "markdown",
   "metadata": {},
   "source": [
    " В столбце `days_employed` три проблемы:\n",
    "1. 2174 пропуска\n",
    "2. отрицательные значения — в случае с рабочими днями явная ошибка\n",
    "3. дробные числа — тоже ошибочно в случае с рабочими днями"
   ]
  },
  {
   "cell_type": "code",
   "execution_count": 18,
   "metadata": {
    "scrolled": true
   },
   "outputs": [
    {
     "data": {
      "text/html": [
       "<div>\n",
       "<style scoped>\n",
       "    .dataframe tbody tr th:only-of-type {\n",
       "        vertical-align: middle;\n",
       "    }\n",
       "\n",
       "    .dataframe tbody tr th {\n",
       "        vertical-align: top;\n",
       "    }\n",
       "\n",
       "    .dataframe thead th {\n",
       "        text-align: right;\n",
       "    }\n",
       "</style>\n",
       "<table border=\"1\" class=\"dataframe\">\n",
       "  <thead>\n",
       "    <tr style=\"text-align: right;\">\n",
       "      <th></th>\n",
       "      <th>children</th>\n",
       "      <th>days_employed</th>\n",
       "      <th>dob_years</th>\n",
       "      <th>education</th>\n",
       "      <th>education_id</th>\n",
       "      <th>family_status</th>\n",
       "      <th>family_status_id</th>\n",
       "      <th>gender</th>\n",
       "      <th>income_type</th>\n",
       "      <th>debt</th>\n",
       "      <th>total_income</th>\n",
       "      <th>purpose</th>\n",
       "    </tr>\n",
       "  </thead>\n",
       "  <tbody>\n",
       "    <tr>\n",
       "      <th>0</th>\n",
       "      <td>1</td>\n",
       "      <td>8437.673028</td>\n",
       "      <td>42</td>\n",
       "      <td>высшее</td>\n",
       "      <td>0</td>\n",
       "      <td>женат / замужем</td>\n",
       "      <td>0</td>\n",
       "      <td>F</td>\n",
       "      <td>сотрудник</td>\n",
       "      <td>0</td>\n",
       "      <td>253875.639453</td>\n",
       "      <td>покупка жилья</td>\n",
       "    </tr>\n",
       "    <tr>\n",
       "      <th>1</th>\n",
       "      <td>1</td>\n",
       "      <td>4024.803754</td>\n",
       "      <td>36</td>\n",
       "      <td>среднее</td>\n",
       "      <td>1</td>\n",
       "      <td>женат / замужем</td>\n",
       "      <td>0</td>\n",
       "      <td>F</td>\n",
       "      <td>сотрудник</td>\n",
       "      <td>0</td>\n",
       "      <td>112080.014102</td>\n",
       "      <td>приобретение автомобиля</td>\n",
       "    </tr>\n",
       "    <tr>\n",
       "      <th>2</th>\n",
       "      <td>0</td>\n",
       "      <td>5623.422610</td>\n",
       "      <td>33</td>\n",
       "      <td>Среднее</td>\n",
       "      <td>1</td>\n",
       "      <td>женат / замужем</td>\n",
       "      <td>0</td>\n",
       "      <td>M</td>\n",
       "      <td>сотрудник</td>\n",
       "      <td>0</td>\n",
       "      <td>145885.952297</td>\n",
       "      <td>покупка жилья</td>\n",
       "    </tr>\n",
       "    <tr>\n",
       "      <th>3</th>\n",
       "      <td>3</td>\n",
       "      <td>4124.747207</td>\n",
       "      <td>32</td>\n",
       "      <td>среднее</td>\n",
       "      <td>1</td>\n",
       "      <td>женат / замужем</td>\n",
       "      <td>0</td>\n",
       "      <td>M</td>\n",
       "      <td>сотрудник</td>\n",
       "      <td>0</td>\n",
       "      <td>267628.550329</td>\n",
       "      <td>дополнительное образование</td>\n",
       "    </tr>\n",
       "    <tr>\n",
       "      <th>4</th>\n",
       "      <td>0</td>\n",
       "      <td>340266.072047</td>\n",
       "      <td>53</td>\n",
       "      <td>среднее</td>\n",
       "      <td>1</td>\n",
       "      <td>гражданский брак</td>\n",
       "      <td>1</td>\n",
       "      <td>F</td>\n",
       "      <td>пенсионер</td>\n",
       "      <td>0</td>\n",
       "      <td>158616.077870</td>\n",
       "      <td>сыграть свадьбу</td>\n",
       "    </tr>\n",
       "  </tbody>\n",
       "</table>\n",
       "</div>"
      ],
      "text/plain": [
       "   children  days_employed  dob_years education  education_id  \\\n",
       "0         1    8437.673028         42    высшее             0   \n",
       "1         1    4024.803754         36   среднее             1   \n",
       "2         0    5623.422610         33   Среднее             1   \n",
       "3         3    4124.747207         32   среднее             1   \n",
       "4         0  340266.072047         53   среднее             1   \n",
       "\n",
       "      family_status  family_status_id gender income_type  debt   total_income  \\\n",
       "0   женат / замужем                 0      F   сотрудник     0  253875.639453   \n",
       "1   женат / замужем                 0      F   сотрудник     0  112080.014102   \n",
       "2   женат / замужем                 0      M   сотрудник     0  145885.952297   \n",
       "3   женат / замужем                 0      M   сотрудник     0  267628.550329   \n",
       "4  гражданский брак                 1      F   пенсионер     0  158616.077870   \n",
       "\n",
       "                      purpose  \n",
       "0               покупка жилья  \n",
       "1     приобретение автомобиля  \n",
       "2               покупка жилья  \n",
       "3  дополнительное образование  \n",
       "4             сыграть свадьбу  "
      ]
     },
     "execution_count": 18,
     "metadata": {},
     "output_type": "execute_result"
    }
   ],
   "source": [
    "# Уберем знак \"-\" из столбца days_employed:\n",
    "\n",
    "df['days_employed'] = abs(df['days_employed'])\n",
    "\n",
    "# сразу же проверим:\n",
    "\n",
    "df.head()"
   ]
  },
  {
   "cell_type": "code",
   "execution_count": 19,
   "metadata": {
    "scrolled": true
   },
   "outputs": [
    {
     "data": {
      "text/plain": [
       "children               0\n",
       "days_employed          0\n",
       "dob_years              0\n",
       "education              0\n",
       "education_id           0\n",
       "family_status          0\n",
       "family_status_id       0\n",
       "gender                 0\n",
       "income_type            0\n",
       "debt                   0\n",
       "total_income        2174\n",
       "purpose                0\n",
       "dtype: int64"
      ]
     },
     "execution_count": 19,
     "metadata": {},
     "output_type": "execute_result"
    }
   ],
   "source": [
    "# Заменим пустые значения на медианные. Медианы возьмем разные для каждой группы занятости:\n",
    "\n",
    "df['days_employed'] = df['days_employed'].fillna(df.groupby('income_type')['days_employed'].transform('median'))\n",
    "\n",
    "# проверим отсутствие пропусков:\n",
    "\n",
    "df.isna().sum()"
   ]
  },
  {
   "cell_type": "code",
   "execution_count": 20,
   "metadata": {
    "scrolled": false
   },
   "outputs": [
    {
     "data": {
      "text/html": [
       "<div>\n",
       "<style scoped>\n",
       "    .dataframe tbody tr th:only-of-type {\n",
       "        vertical-align: middle;\n",
       "    }\n",
       "\n",
       "    .dataframe tbody tr th {\n",
       "        vertical-align: top;\n",
       "    }\n",
       "\n",
       "    .dataframe thead th {\n",
       "        text-align: right;\n",
       "    }\n",
       "</style>\n",
       "<table border=\"1\" class=\"dataframe\">\n",
       "  <thead>\n",
       "    <tr style=\"text-align: right;\">\n",
       "      <th></th>\n",
       "      <th>children</th>\n",
       "      <th>days_employed</th>\n",
       "      <th>dob_years</th>\n",
       "      <th>education</th>\n",
       "      <th>education_id</th>\n",
       "      <th>family_status</th>\n",
       "      <th>family_status_id</th>\n",
       "      <th>gender</th>\n",
       "      <th>income_type</th>\n",
       "      <th>debt</th>\n",
       "      <th>total_income</th>\n",
       "      <th>purpose</th>\n",
       "    </tr>\n",
       "  </thead>\n",
       "  <tbody>\n",
       "    <tr>\n",
       "      <th>0</th>\n",
       "      <td>1</td>\n",
       "      <td>8437</td>\n",
       "      <td>42</td>\n",
       "      <td>высшее</td>\n",
       "      <td>0</td>\n",
       "      <td>женат / замужем</td>\n",
       "      <td>0</td>\n",
       "      <td>F</td>\n",
       "      <td>сотрудник</td>\n",
       "      <td>0</td>\n",
       "      <td>253875.639453</td>\n",
       "      <td>покупка жилья</td>\n",
       "    </tr>\n",
       "    <tr>\n",
       "      <th>1</th>\n",
       "      <td>1</td>\n",
       "      <td>4024</td>\n",
       "      <td>36</td>\n",
       "      <td>среднее</td>\n",
       "      <td>1</td>\n",
       "      <td>женат / замужем</td>\n",
       "      <td>0</td>\n",
       "      <td>F</td>\n",
       "      <td>сотрудник</td>\n",
       "      <td>0</td>\n",
       "      <td>112080.014102</td>\n",
       "      <td>приобретение автомобиля</td>\n",
       "    </tr>\n",
       "    <tr>\n",
       "      <th>2</th>\n",
       "      <td>0</td>\n",
       "      <td>5623</td>\n",
       "      <td>33</td>\n",
       "      <td>Среднее</td>\n",
       "      <td>1</td>\n",
       "      <td>женат / замужем</td>\n",
       "      <td>0</td>\n",
       "      <td>M</td>\n",
       "      <td>сотрудник</td>\n",
       "      <td>0</td>\n",
       "      <td>145885.952297</td>\n",
       "      <td>покупка жилья</td>\n",
       "    </tr>\n",
       "    <tr>\n",
       "      <th>3</th>\n",
       "      <td>3</td>\n",
       "      <td>4124</td>\n",
       "      <td>32</td>\n",
       "      <td>среднее</td>\n",
       "      <td>1</td>\n",
       "      <td>женат / замужем</td>\n",
       "      <td>0</td>\n",
       "      <td>M</td>\n",
       "      <td>сотрудник</td>\n",
       "      <td>0</td>\n",
       "      <td>267628.550329</td>\n",
       "      <td>дополнительное образование</td>\n",
       "    </tr>\n",
       "    <tr>\n",
       "      <th>4</th>\n",
       "      <td>0</td>\n",
       "      <td>340266</td>\n",
       "      <td>53</td>\n",
       "      <td>среднее</td>\n",
       "      <td>1</td>\n",
       "      <td>гражданский брак</td>\n",
       "      <td>1</td>\n",
       "      <td>F</td>\n",
       "      <td>пенсионер</td>\n",
       "      <td>0</td>\n",
       "      <td>158616.077870</td>\n",
       "      <td>сыграть свадьбу</td>\n",
       "    </tr>\n",
       "    <tr>\n",
       "      <th>5</th>\n",
       "      <td>0</td>\n",
       "      <td>926</td>\n",
       "      <td>27</td>\n",
       "      <td>высшее</td>\n",
       "      <td>0</td>\n",
       "      <td>гражданский брак</td>\n",
       "      <td>1</td>\n",
       "      <td>M</td>\n",
       "      <td>компаньон</td>\n",
       "      <td>0</td>\n",
       "      <td>255763.565419</td>\n",
       "      <td>покупка жилья</td>\n",
       "    </tr>\n",
       "    <tr>\n",
       "      <th>6</th>\n",
       "      <td>0</td>\n",
       "      <td>2879</td>\n",
       "      <td>43</td>\n",
       "      <td>высшее</td>\n",
       "      <td>0</td>\n",
       "      <td>женат / замужем</td>\n",
       "      <td>0</td>\n",
       "      <td>F</td>\n",
       "      <td>компаньон</td>\n",
       "      <td>0</td>\n",
       "      <td>240525.971920</td>\n",
       "      <td>операции с жильем</td>\n",
       "    </tr>\n",
       "    <tr>\n",
       "      <th>7</th>\n",
       "      <td>0</td>\n",
       "      <td>152</td>\n",
       "      <td>50</td>\n",
       "      <td>СРЕДНЕЕ</td>\n",
       "      <td>1</td>\n",
       "      <td>женат / замужем</td>\n",
       "      <td>0</td>\n",
       "      <td>M</td>\n",
       "      <td>сотрудник</td>\n",
       "      <td>0</td>\n",
       "      <td>135823.934197</td>\n",
       "      <td>образование</td>\n",
       "    </tr>\n",
       "    <tr>\n",
       "      <th>8</th>\n",
       "      <td>2</td>\n",
       "      <td>6929</td>\n",
       "      <td>35</td>\n",
       "      <td>ВЫСШЕЕ</td>\n",
       "      <td>0</td>\n",
       "      <td>гражданский брак</td>\n",
       "      <td>1</td>\n",
       "      <td>F</td>\n",
       "      <td>сотрудник</td>\n",
       "      <td>0</td>\n",
       "      <td>95856.832424</td>\n",
       "      <td>на проведение свадьбы</td>\n",
       "    </tr>\n",
       "    <tr>\n",
       "      <th>9</th>\n",
       "      <td>0</td>\n",
       "      <td>2188</td>\n",
       "      <td>41</td>\n",
       "      <td>среднее</td>\n",
       "      <td>1</td>\n",
       "      <td>женат / замужем</td>\n",
       "      <td>0</td>\n",
       "      <td>M</td>\n",
       "      <td>сотрудник</td>\n",
       "      <td>0</td>\n",
       "      <td>144425.938277</td>\n",
       "      <td>покупка жилья для семьи</td>\n",
       "    </tr>\n",
       "  </tbody>\n",
       "</table>\n",
       "</div>"
      ],
      "text/plain": [
       "   children  days_employed  dob_years education  education_id  \\\n",
       "0         1           8437         42    высшее             0   \n",
       "1         1           4024         36   среднее             1   \n",
       "2         0           5623         33   Среднее             1   \n",
       "3         3           4124         32   среднее             1   \n",
       "4         0         340266         53   среднее             1   \n",
       "5         0            926         27    высшее             0   \n",
       "6         0           2879         43    высшее             0   \n",
       "7         0            152         50   СРЕДНЕЕ             1   \n",
       "8         2           6929         35    ВЫСШЕЕ             0   \n",
       "9         0           2188         41   среднее             1   \n",
       "\n",
       "      family_status  family_status_id gender income_type  debt   total_income  \\\n",
       "0   женат / замужем                 0      F   сотрудник     0  253875.639453   \n",
       "1   женат / замужем                 0      F   сотрудник     0  112080.014102   \n",
       "2   женат / замужем                 0      M   сотрудник     0  145885.952297   \n",
       "3   женат / замужем                 0      M   сотрудник     0  267628.550329   \n",
       "4  гражданский брак                 1      F   пенсионер     0  158616.077870   \n",
       "5  гражданский брак                 1      M   компаньон     0  255763.565419   \n",
       "6   женат / замужем                 0      F   компаньон     0  240525.971920   \n",
       "7   женат / замужем                 0      M   сотрудник     0  135823.934197   \n",
       "8  гражданский брак                 1      F   сотрудник     0   95856.832424   \n",
       "9   женат / замужем                 0      M   сотрудник     0  144425.938277   \n",
       "\n",
       "                      purpose  \n",
       "0               покупка жилья  \n",
       "1     приобретение автомобиля  \n",
       "2               покупка жилья  \n",
       "3  дополнительное образование  \n",
       "4             сыграть свадьбу  \n",
       "5               покупка жилья  \n",
       "6           операции с жильем  \n",
       "7                 образование  \n",
       "8       на проведение свадьбы  \n",
       "9     покупка жилья для семьи  "
      ]
     },
     "execution_count": 20,
     "metadata": {},
     "output_type": "execute_result"
    }
   ],
   "source": [
    "# убираем нецелочисленные значения из days_employed:\n",
    "\n",
    "df['days_employed'] = df['days_employed'].astype('int')\n",
    "\n",
    "# и сразу проверяем:\n",
    "\n",
    "df.head(10)"
   ]
  },
  {
   "cell_type": "code",
   "execution_count": 21,
   "metadata": {},
   "outputs": [
    {
     "data": {
      "text/plain": [
       "67299"
      ]
     },
     "execution_count": 21,
     "metadata": {},
     "output_type": "execute_result"
    }
   ],
   "source": [
    "# посчитаем среднее арифметическое по days_employed:\n",
    "\n",
    "df['days_employed'].mean().astype('int')"
   ]
  },
  {
   "cell_type": "code",
   "execution_count": 22,
   "metadata": {},
   "outputs": [
    {
     "data": {
      "text/plain": [
       "1993"
      ]
     },
     "execution_count": 22,
     "metadata": {},
     "output_type": "execute_result"
    }
   ],
   "source": [
    "# и посмотрим медиану:\n",
    "\n",
    "df['days_employed'].median().astype('int')"
   ]
  },
  {
   "cell_type": "markdown",
   "metadata": {},
   "source": [
    "Значение 67299 дня = 184 года, при современном уровне медицины труднодостижимое значение трудового стажа. Значит, в столбце есть артефакты с ошибочно-большим значением. Проверим max значение в столбце"
   ]
  },
  {
   "cell_type": "code",
   "execution_count": 23,
   "metadata": {},
   "outputs": [
    {
     "data": {
      "text/plain": [
       "401755"
      ]
     },
     "execution_count": 23,
     "metadata": {},
     "output_type": "execute_result"
    }
   ],
   "source": [
    "df['days_employed'].max()"
   ]
  },
  {
   "cell_type": "markdown",
   "metadata": {},
   "source": [
    "Получили максимум в 401755 дня, это 1 103 года. Возможно, эти значения ошибочно занесены в **часах**, тогда 401755 часов преобразится во вполне разумные 45 лет. Посмотрим на первые 10 максимальных значений в столбце:"
   ]
  },
  {
   "cell_type": "code",
   "execution_count": 24,
   "metadata": {
    "scrolled": true
   },
   "outputs": [
    {
     "data": {
      "text/html": [
       "<div>\n",
       "<style scoped>\n",
       "    .dataframe tbody tr th:only-of-type {\n",
       "        vertical-align: middle;\n",
       "    }\n",
       "\n",
       "    .dataframe tbody tr th {\n",
       "        vertical-align: top;\n",
       "    }\n",
       "\n",
       "    .dataframe thead th {\n",
       "        text-align: right;\n",
       "    }\n",
       "</style>\n",
       "<table border=\"1\" class=\"dataframe\">\n",
       "  <thead>\n",
       "    <tr style=\"text-align: right;\">\n",
       "      <th></th>\n",
       "      <th>children</th>\n",
       "      <th>days_employed</th>\n",
       "      <th>dob_years</th>\n",
       "      <th>education</th>\n",
       "      <th>education_id</th>\n",
       "      <th>family_status</th>\n",
       "      <th>family_status_id</th>\n",
       "      <th>gender</th>\n",
       "      <th>income_type</th>\n",
       "      <th>debt</th>\n",
       "      <th>total_income</th>\n",
       "      <th>purpose</th>\n",
       "    </tr>\n",
       "  </thead>\n",
       "  <tbody>\n",
       "    <tr>\n",
       "      <td>6954</td>\n",
       "      <td>0</td>\n",
       "      <td>401755</td>\n",
       "      <td>56</td>\n",
       "      <td>среднее</td>\n",
       "      <td>1</td>\n",
       "      <td>вдовец / вдова</td>\n",
       "      <td>2</td>\n",
       "      <td>F</td>\n",
       "      <td>пенсионер</td>\n",
       "      <td>0</td>\n",
       "      <td>176278.441171</td>\n",
       "      <td>ремонт жилью</td>\n",
       "    </tr>\n",
       "    <tr>\n",
       "      <td>10006</td>\n",
       "      <td>0</td>\n",
       "      <td>401715</td>\n",
       "      <td>69</td>\n",
       "      <td>высшее</td>\n",
       "      <td>0</td>\n",
       "      <td>Не женат / не замужем</td>\n",
       "      <td>4</td>\n",
       "      <td>F</td>\n",
       "      <td>пенсионер</td>\n",
       "      <td>0</td>\n",
       "      <td>57390.256908</td>\n",
       "      <td>получение образования</td>\n",
       "    </tr>\n",
       "    <tr>\n",
       "      <td>7664</td>\n",
       "      <td>1</td>\n",
       "      <td>401675</td>\n",
       "      <td>61</td>\n",
       "      <td>среднее</td>\n",
       "      <td>1</td>\n",
       "      <td>женат / замужем</td>\n",
       "      <td>0</td>\n",
       "      <td>F</td>\n",
       "      <td>пенсионер</td>\n",
       "      <td>0</td>\n",
       "      <td>126214.519212</td>\n",
       "      <td>операции с жильем</td>\n",
       "    </tr>\n",
       "    <tr>\n",
       "      <td>2156</td>\n",
       "      <td>0</td>\n",
       "      <td>401674</td>\n",
       "      <td>60</td>\n",
       "      <td>среднее</td>\n",
       "      <td>1</td>\n",
       "      <td>женат / замужем</td>\n",
       "      <td>0</td>\n",
       "      <td>M</td>\n",
       "      <td>пенсионер</td>\n",
       "      <td>0</td>\n",
       "      <td>325395.724541</td>\n",
       "      <td>автомобили</td>\n",
       "    </tr>\n",
       "    <tr>\n",
       "      <td>7794</td>\n",
       "      <td>0</td>\n",
       "      <td>401663</td>\n",
       "      <td>61</td>\n",
       "      <td>среднее</td>\n",
       "      <td>1</td>\n",
       "      <td>гражданский брак</td>\n",
       "      <td>1</td>\n",
       "      <td>F</td>\n",
       "      <td>пенсионер</td>\n",
       "      <td>0</td>\n",
       "      <td>48286.441362</td>\n",
       "      <td>свадьба</td>\n",
       "    </tr>\n",
       "    <tr>\n",
       "      <td>4697</td>\n",
       "      <td>0</td>\n",
       "      <td>401635</td>\n",
       "      <td>56</td>\n",
       "      <td>среднее</td>\n",
       "      <td>1</td>\n",
       "      <td>женат / замужем</td>\n",
       "      <td>0</td>\n",
       "      <td>F</td>\n",
       "      <td>пенсионер</td>\n",
       "      <td>0</td>\n",
       "      <td>48242.322502</td>\n",
       "      <td>покупка недвижимости</td>\n",
       "    </tr>\n",
       "    <tr>\n",
       "      <td>13420</td>\n",
       "      <td>0</td>\n",
       "      <td>401619</td>\n",
       "      <td>63</td>\n",
       "      <td>Среднее</td>\n",
       "      <td>1</td>\n",
       "      <td>гражданский брак</td>\n",
       "      <td>1</td>\n",
       "      <td>F</td>\n",
       "      <td>пенсионер</td>\n",
       "      <td>0</td>\n",
       "      <td>51449.788325</td>\n",
       "      <td>сыграть свадьбу</td>\n",
       "    </tr>\n",
       "    <tr>\n",
       "      <td>17823</td>\n",
       "      <td>0</td>\n",
       "      <td>401614</td>\n",
       "      <td>59</td>\n",
       "      <td>среднее</td>\n",
       "      <td>1</td>\n",
       "      <td>женат / замужем</td>\n",
       "      <td>0</td>\n",
       "      <td>F</td>\n",
       "      <td>пенсионер</td>\n",
       "      <td>0</td>\n",
       "      <td>152769.694536</td>\n",
       "      <td>покупка жилья для сдачи</td>\n",
       "    </tr>\n",
       "    <tr>\n",
       "      <td>10991</td>\n",
       "      <td>0</td>\n",
       "      <td>401591</td>\n",
       "      <td>56</td>\n",
       "      <td>среднее</td>\n",
       "      <td>1</td>\n",
       "      <td>в разводе</td>\n",
       "      <td>3</td>\n",
       "      <td>F</td>\n",
       "      <td>пенсионер</td>\n",
       "      <td>0</td>\n",
       "      <td>39513.517543</td>\n",
       "      <td>получение дополнительного образования</td>\n",
       "    </tr>\n",
       "    <tr>\n",
       "      <td>8369</td>\n",
       "      <td>0</td>\n",
       "      <td>401590</td>\n",
       "      <td>58</td>\n",
       "      <td>среднее</td>\n",
       "      <td>1</td>\n",
       "      <td>женат / замужем</td>\n",
       "      <td>0</td>\n",
       "      <td>F</td>\n",
       "      <td>пенсионер</td>\n",
       "      <td>0</td>\n",
       "      <td>175306.312902</td>\n",
       "      <td>образование</td>\n",
       "    </tr>\n",
       "  </tbody>\n",
       "</table>\n",
       "</div>"
      ],
      "text/plain": [
       "       children  days_employed  dob_years education  education_id  \\\n",
       "6954          0         401755         56   среднее             1   \n",
       "10006         0         401715         69    высшее             0   \n",
       "7664          1         401675         61   среднее             1   \n",
       "2156          0         401674         60   среднее             1   \n",
       "7794          0         401663         61   среднее             1   \n",
       "4697          0         401635         56   среднее             1   \n",
       "13420         0         401619         63   Среднее             1   \n",
       "17823         0         401614         59   среднее             1   \n",
       "10991         0         401591         56   среднее             1   \n",
       "8369          0         401590         58   среднее             1   \n",
       "\n",
       "               family_status  family_status_id gender income_type  debt  \\\n",
       "6954          вдовец / вдова                 2      F   пенсионер     0   \n",
       "10006  Не женат / не замужем                 4      F   пенсионер     0   \n",
       "7664         женат / замужем                 0      F   пенсионер     0   \n",
       "2156         женат / замужем                 0      M   пенсионер     0   \n",
       "7794        гражданский брак                 1      F   пенсионер     0   \n",
       "4697         женат / замужем                 0      F   пенсионер     0   \n",
       "13420       гражданский брак                 1      F   пенсионер     0   \n",
       "17823        женат / замужем                 0      F   пенсионер     0   \n",
       "10991              в разводе                 3      F   пенсионер     0   \n",
       "8369         женат / замужем                 0      F   пенсионер     0   \n",
       "\n",
       "        total_income                                purpose  \n",
       "6954   176278.441171                           ремонт жилью  \n",
       "10006   57390.256908                  получение образования  \n",
       "7664   126214.519212                      операции с жильем  \n",
       "2156   325395.724541                             автомобили  \n",
       "7794    48286.441362                                свадьба  \n",
       "4697    48242.322502                   покупка недвижимости  \n",
       "13420   51449.788325                        сыграть свадьбу  \n",
       "17823  152769.694536                покупка жилья для сдачи  \n",
       "10991   39513.517543  получение дополнительного образования  \n",
       "8369   175306.312902                            образование  "
      ]
     },
     "execution_count": 24,
     "metadata": {},
     "output_type": "execute_result"
    }
   ],
   "source": [
    "df.sort_values(by='days_employed', ascending=False).head(10)"
   ]
  },
  {
   "cell_type": "code",
   "execution_count": 25,
   "metadata": {},
   "outputs": [
    {
     "data": {
      "text/plain": [
       "days_employed    3918\n",
       "dtype: int64"
      ]
     },
     "execution_count": 25,
     "metadata": {},
     "output_type": "execute_result"
    }
   ],
   "source": [
    "# Кол-во со стажем более 12775 дней:\n",
    "\n",
    "df.loc[df['days_employed'] > 12775, ['days_employed']].count()\n"
   ]
  },
  {
   "cell_type": "code",
   "execution_count": 26,
   "metadata": {},
   "outputs": [
    {
     "data": {
      "text/plain": [
       "days_employed    3858\n",
       "dtype: int64"
      ]
     },
     "execution_count": 26,
     "metadata": {},
     "output_type": "execute_result"
    }
   ],
   "source": [
    "# Кол-во со стажем более 300000 дней:\n",
    "\n",
    "df.loc[df['days_employed'] > 300000, ['days_employed']].count()\n"
   ]
  },
  {
   "cell_type": "markdown",
   "metadata": {},
   "source": [
    "**Если гипотеза о том, что данные приведены в часах, верна, то первый в списке человек при возрасте 56 имеет трудовой стаж 45 лет, т.е. работает официально с 11 лет. То же самое можно сказать про людей в строках с индексом 4697, 8369,10991. В пользу гипотезы о часах говорит то, что все перечисленные люди относятся к категории \"пенсионер\". Но даже если список делался в 2000 году, эти люди родились в 1944 году, вряд ли в 1955 году была необходимость отправлять детей на работу в возрасте 11 лет. Поэтому гипотезу об ошибочном представлении данных в часах принять тяжело. С другой стороны, если взять средний трудовой стаж при выходе на пенсию — примерно 35 лет (https://ria.ru/20131119/977986173.html), получается 12775 дней. У нас людей, перешедших этот порог 3858 (18,2%). Более того, людей с указанным стажем в таблице более 300000 дней такое же количество. В нашем ТЗ нет необходимости узнать связь между стажем и платежеспособностью, но из-за ошибочных данных по 18% данных точно есть необходимость разобраться, откуда идет такая ошибка. \n",
    "Технически переделать стаж можно либо в медианное значение, либо сделать функцию для перевода данных из часов в дни.**"
   ]
  },
  {
   "cell_type": "markdown",
   "metadata": {},
   "source": [
    "<div class=\"alert alert-success\">\n",
    "<b>✔️ Комментарий ревьюера:</b> Молодец, что обращаешься к помощи сторонних источников для подтверждения своих суждений!"
   ]
  },
  {
   "cell_type": "markdown",
   "metadata": {},
   "source": [
    "#### Обработка пропусков в total_income"
   ]
  },
  {
   "cell_type": "code",
   "execution_count": 27,
   "metadata": {},
   "outputs": [],
   "source": [
    "# Пора разобраться с пропусками в поле total_income. Заполним пустые значения медианным в зависимости от типа занятости:\n",
    "\n",
    "df['total_income'] = df['total_income'].fillna(df.groupby('income_type')['total_income'].transform('median'))\n",
    "\n"
   ]
  },
  {
   "cell_type": "code",
   "execution_count": 28,
   "metadata": {},
   "outputs": [
    {
     "data": {
      "text/plain": [
       "children            0\n",
       "days_employed       0\n",
       "dob_years           0\n",
       "education           0\n",
       "education_id        0\n",
       "family_status       0\n",
       "family_status_id    0\n",
       "gender              0\n",
       "income_type         0\n",
       "debt                0\n",
       "total_income        0\n",
       "purpose             0\n",
       "dtype: int64"
      ]
     },
     "execution_count": 28,
     "metadata": {},
     "output_type": "execute_result"
    }
   ],
   "source": [
    "# Проверим пропуски:\n",
    "\n",
    "df.isna().sum()"
   ]
  },
  {
   "cell_type": "code",
   "execution_count": 29,
   "metadata": {},
   "outputs": [
    {
     "data": {
      "text/plain": [
       "165225.32451367722"
      ]
     },
     "execution_count": 29,
     "metadata": {},
     "output_type": "execute_result"
    }
   ],
   "source": [
    "# Выведем среднее арифметическое для total_income:\n",
    "\n",
    "df['total_income'].mean()"
   ]
  },
  {
   "cell_type": "code",
   "execution_count": 30,
   "metadata": {},
   "outputs": [
    {
     "data": {
      "text/plain": [
       "142594.39684740017"
      ]
     },
     "execution_count": 30,
     "metadata": {},
     "output_type": "execute_result"
    }
   ],
   "source": [
    "# Теперь медиана для того же столбца:\n",
    "\n",
    "df['total_income'].median()"
   ]
  },
  {
   "cell_type": "code",
   "execution_count": 31,
   "metadata": {},
   "outputs": [
    {
     "data": {
      "text/plain": [
       "20667.26379327158"
      ]
     },
     "execution_count": 31,
     "metadata": {},
     "output_type": "execute_result"
    }
   ],
   "source": [
    "# Посмотрим на min значения столбца:\n",
    "\n",
    "df['total_income'].min()"
   ]
  },
  {
   "cell_type": "code",
   "execution_count": 32,
   "metadata": {},
   "outputs": [
    {
     "data": {
      "text/plain": [
       "2265604.028722744"
      ]
     },
     "execution_count": 32,
     "metadata": {},
     "output_type": "execute_result"
    }
   ],
   "source": [
    "# Посмотрим на max значения столбца:\n",
    "\n",
    "df['total_income'].max()"
   ]
  },
  {
   "cell_type": "code",
   "execution_count": 33,
   "metadata": {},
   "outputs": [
    {
     "data": {
      "text/plain": [
       "total_income    0\n",
       "dtype: int64"
      ]
     },
     "execution_count": 33,
     "metadata": {},
     "output_type": "execute_result"
    }
   ],
   "source": [
    "# Проверим столбец на отрицательные значения:\n",
    "\n",
    "df.loc[df['total_income'] < 0, ['total_income']].count()"
   ]
  },
  {
   "cell_type": "code",
   "execution_count": 34,
   "metadata": {},
   "outputs": [],
   "source": [
    "# Единственное замечание — большое количество знаков после запятой, вряд ли доход считается в стотысячных долях копейки. \n",
    "# Приведем значения к типу int\n",
    "\n",
    "df['total_income'] = df['total_income'].astype('int')"
   ]
  },
  {
   "cell_type": "markdown",
   "metadata": {},
   "source": [
    "В столбце нет экстремально высоких/низких значений, нет отрицательных значений. Медиана отличается от среднего арифметического на 15%. Предполагаем, что данные в столбце подходят для дальнейших исследований."
   ]
  },
  {
   "cell_type": "markdown",
   "metadata": {},
   "source": [
    "<div class=\"alert alert-success\">\n",
    "<b>✔️ Комментарий ревьюера:</b> Проведена качественная обработка пропусков"
   ]
  },
  {
   "cell_type": "markdown",
   "metadata": {},
   "source": [
    "#### Обработка пропусков в children"
   ]
  },
  {
   "cell_type": "markdown",
   "metadata": {},
   "source": [
    "Посмотрим на один из ключевых столбцов — количество детей"
   ]
  },
  {
   "cell_type": "code",
   "execution_count": 35,
   "metadata": {},
   "outputs": [
    {
     "data": {
      "text/plain": [
       " 0     14149\n",
       " 1      4818\n",
       " 2      2055\n",
       " 3       330\n",
       " 20       76\n",
       "-1        47\n",
       " 4        41\n",
       " 5         9\n",
       "Name: children, dtype: int64"
      ]
     },
     "execution_count": 35,
     "metadata": {},
     "output_type": "execute_result"
    }
   ],
   "source": [
    "# выведем уникальные значения столбца\n",
    "\n",
    "df['children'].value_counts()"
   ]
  },
  {
   "cell_type": "markdown",
   "metadata": {},
   "source": [
    "Сразу несколько проблем:\n",
    "1. Экстремально большое значение у 76 человек — 20 детей в семье\n",
    "2. Отрицательное количество детей у 47 человек\n",
    "\n",
    "Предположительный источник первой проблемы — замена значения 2.0 на 20\n",
    "Отрицательные значения могли появиться из-за формы записи, например, в файле указывали количество детей через дефис. \n",
    "Посмотрим на долю аномальных значений в столбце `children` в процентах\n"
   ]
  },
  {
   "cell_type": "code",
   "execution_count": 36,
   "metadata": {},
   "outputs": [
    {
     "data": {
      "text/plain": [
       "children    0.005714\n",
       "dtype: float64"
      ]
     },
     "execution_count": 36,
     "metadata": {},
     "output_type": "execute_result"
    }
   ],
   "source": [
    "anomal_children = ((df.loc[df['children'] == 20, ['children']].count()) + (df.loc[df['children'] < 0, ['children']].count())) / df['children'].count()\n",
    "anomal_children\n"
   ]
  },
  {
   "cell_type": "markdown",
   "metadata": {},
   "source": [
    "Всего 0,005%, этой цифрой можно смело принебречь. С помощью логической индексации поочередно удаляем строки со значениями 20 и меньше нуля"
   ]
  },
  {
   "cell_type": "code",
   "execution_count": 37,
   "metadata": {},
   "outputs": [],
   "source": [
    "df = df.loc[df['children'] != 20]\n",
    "df = df.loc[df['children'] >= 0]"
   ]
  },
  {
   "cell_type": "code",
   "execution_count": 38,
   "metadata": {},
   "outputs": [
    {
     "data": {
      "text/plain": [
       "0    14149\n",
       "1     4818\n",
       "2     2055\n",
       "3      330\n",
       "4       41\n",
       "5        9\n",
       "Name: children, dtype: int64"
      ]
     },
     "execution_count": 38,
     "metadata": {},
     "output_type": "execute_result"
    }
   ],
   "source": [
    "# Проверим  \n",
    "\n",
    "df['children'].value_counts()"
   ]
  },
  {
   "cell_type": "markdown",
   "metadata": {},
   "source": [
    "**Столбец children готов к работе: данные без пропусков, без отрицательных значений, без экстремальных всплесков, целочисленные**"
   ]
  },
  {
   "cell_type": "markdown",
   "metadata": {},
   "source": [
    "<div class=\"alert alert-warning\">\n",
    "<b>⚠️ Комментарий ревьюера:</b> Сейчас доля аномалий мала и ни на что не повлияет. В следующий раз старайся сразу высчитывать их долю и если она меньше 5%, смело избавляйся от нее. Возможно наше предположение о том, что 20==2, а -1==1 неверно\n",
    "\n",
    "</div>"
   ]
  },
  {
   "cell_type": "markdown",
   "metadata": {},
   "source": [
    "<div class=\"alert alert-info\"> <b>Комментарий студента:</b> Поправил.</div>\n",
    "\n",
    "\n"
   ]
  },
  {
   "cell_type": "markdown",
   "metadata": {},
   "source": [
    "<div class=\"alert alert-success\">\n",
    "<b>✔️ Комментарий ревьюера V2:</b> Очень хорошо!"
   ]
  },
  {
   "cell_type": "markdown",
   "metadata": {},
   "source": [
    "#### Обработка пропусков в family_status и family_status_id"
   ]
  },
  {
   "cell_type": "code",
   "execution_count": 39,
   "metadata": {},
   "outputs": [
    {
     "data": {
      "text/plain": [
       "женат / замужем          12302\n",
       "гражданский брак          4160\n",
       "Не женат / не замужем     2799\n",
       "в разводе                 1189\n",
       "вдовец / вдова             952\n",
       "Name: family_status, dtype: int64"
      ]
     },
     "execution_count": 39,
     "metadata": {},
     "output_type": "execute_result"
    }
   ],
   "source": [
    "# Пропусков в столбце family_status нет, посмотрим на значения:\n",
    "\n",
    "df['family_status'].value_counts()"
   ]
  },
  {
   "cell_type": "code",
   "execution_count": 40,
   "metadata": {},
   "outputs": [
    {
     "data": {
      "text/plain": [
       "21402"
      ]
     },
     "execution_count": 40,
     "metadata": {},
     "output_type": "execute_result"
    }
   ],
   "source": [
    "df['family_status'].value_counts().sum()"
   ]
  },
  {
   "cell_type": "code",
   "execution_count": 41,
   "metadata": {},
   "outputs": [
    {
     "data": {
      "text/plain": [
       "0    12302\n",
       "1     4160\n",
       "4     2799\n",
       "3     1189\n",
       "2      952\n",
       "Name: family_status_id, dtype: int64"
      ]
     },
     "execution_count": 41,
     "metadata": {},
     "output_type": "execute_result"
    }
   ],
   "source": [
    "# Сделаем то же самое для family_status_id:\n",
    "\n",
    "df['family_status_id'].value_counts()"
   ]
  },
  {
   "cell_type": "code",
   "execution_count": 42,
   "metadata": {},
   "outputs": [
    {
     "data": {
      "text/plain": [
       "21402"
      ]
     },
     "execution_count": 42,
     "metadata": {},
     "output_type": "execute_result"
    }
   ],
   "source": [
    "df['family_status_id'].value_counts().sum()"
   ]
  },
  {
   "cell_type": "markdown",
   "metadata": {},
   "source": [
    "Столбец family_status готов к работе, пропусков нет, некорректных значений нет.                                               \n",
    "В столбце-идентификаторы family_status_id тоже корретные значения, количество категорий совпадает с количеством значений в family_status_id."
   ]
  },
  {
   "cell_type": "markdown",
   "metadata": {},
   "source": [
    "Посмотрим на столбец `gender`, пропусков в нем нет, убедимся в отсутствии аномальных значений"
   ]
  },
  {
   "cell_type": "code",
   "execution_count": 43,
   "metadata": {},
   "outputs": [
    {
     "data": {
      "text/plain": [
       "F      14154\n",
       "M       7247\n",
       "XNA        1\n",
       "Name: gender, dtype: int64"
      ]
     },
     "execution_count": 43,
     "metadata": {},
     "output_type": "execute_result"
    }
   ],
   "source": [
    "df['gender'].value_counts()"
   ]
  },
  {
   "cell_type": "markdown",
   "metadata": {},
   "source": [
    "Значение XNA, возможно, предполагает 3-й пол, либо трансгендера. Доля XNA — 0,004% от общего количества, для нашего исседования столбец \"пол\" не ключевой. Смело удаляем строки с этим значением через условную индексацию"
   ]
  },
  {
   "cell_type": "markdown",
   "metadata": {},
   "source": [
    "<div class=\"alert alert-success\">\n",
    "<b>✔️ Комментарий ревьюера V2:</b> Верно!"
   ]
  },
  {
   "cell_type": "code",
   "execution_count": 44,
   "metadata": {},
   "outputs": [
    {
     "data": {
      "text/plain": [
       "Index(['children', 'days_employed', 'dob_years', 'education', 'education_id',\n",
       "       'family_status', 'family_status_id', 'gender', 'income_type', 'debt',\n",
       "       'total_income', 'purpose'],\n",
       "      dtype='object')"
      ]
     },
     "execution_count": 44,
     "metadata": {},
     "output_type": "execute_result"
    }
   ],
   "source": [
    "df.columns"
   ]
  },
  {
   "cell_type": "markdown",
   "metadata": {},
   "source": [
    "Проверим колонку `debt`"
   ]
  },
  {
   "cell_type": "code",
   "execution_count": 45,
   "metadata": {},
   "outputs": [
    {
     "data": {
      "text/plain": [
       "0    19670\n",
       "1     1732\n",
       "Name: debt, dtype: int64"
      ]
     },
     "execution_count": 45,
     "metadata": {},
     "output_type": "execute_result"
    }
   ],
   "source": [
    "df['debt'].value_counts()"
   ]
  },
  {
   "cell_type": "markdown",
   "metadata": {},
   "source": [
    "Здесь все хорошо, только 0 и 1 — были ли просроченные платежи или нет."
   ]
  },
  {
   "cell_type": "markdown",
   "metadata": {},
   "source": [
    "Проверим столбец `dob_years`"
   ]
  },
  {
   "cell_type": "code",
   "execution_count": 46,
   "metadata": {
    "scrolled": true
   },
   "outputs": [
    {
     "data": {
      "text/plain": [
       "35    614\n",
       "40    603\n",
       "41    603\n",
       "34    597\n",
       "38    595\n",
       "42    592\n",
       "33    577\n",
       "39    572\n",
       "31    556\n",
       "36    553\n",
       "29    543\n",
       "44    543\n",
       "30    536\n",
       "48    536\n",
       "37    531\n",
       "43    510\n",
       "50    509\n",
       "32    506\n",
       "49    505\n",
       "28    501\n",
       "45    494\n",
       "27    490\n",
       "52    483\n",
       "56    482\n",
       "47    480\n",
       "54    476\n",
       "46    469\n",
       "58    461\n",
       "57    457\n",
       "53    457\n",
       "51    446\n",
       "55    441\n",
       "59    441\n",
       "26    406\n",
       "60    376\n",
       "25    356\n",
       "61    353\n",
       "62    351\n",
       "63    268\n",
       "64    263\n",
       "24    263\n",
       "23    252\n",
       "65    194\n",
       "66    183\n",
       "22    183\n",
       "67    167\n",
       "21    110\n",
       "0     100\n",
       "68     99\n",
       "69     83\n",
       "70     65\n",
       "71     58\n",
       "20     51\n",
       "72     33\n",
       "19     14\n",
       "73      8\n",
       "74      6\n",
       "75      1\n",
       "Name: dob_years, dtype: int64"
      ]
     },
     "execution_count": 46,
     "metadata": {},
     "output_type": "execute_result"
    }
   ],
   "source": [
    "df['dob_years'].value_counts()"
   ]
  },
  {
   "cell_type": "markdown",
   "metadata": {},
   "source": [
    "Всё хорошо, кроме людей в возрасте 0 лет. Проверим % таких людей"
   ]
  },
  {
   "cell_type": "code",
   "execution_count": 47,
   "metadata": {},
   "outputs": [
    {
     "data": {
      "text/plain": [
       "0.4672460517708626"
      ]
     },
     "execution_count": 47,
     "metadata": {},
     "output_type": "execute_result"
    }
   ],
   "source": [
    "(df.loc[df['dob_years'] == 0, 'dob_years'].count()) / df['dob_years'].count() * 100"
   ]
  },
  {
   "cell_type": "markdown",
   "metadata": {},
   "source": [
    "Менее 0,5%, смело удаляем эти данные через логическую индексацию"
   ]
  },
  {
   "cell_type": "code",
   "execution_count": 48,
   "metadata": {
    "scrolled": true
   },
   "outputs": [
    {
     "data": {
      "text/plain": [
       "35    614\n",
       "40    603\n",
       "41    603\n",
       "34    597\n",
       "38    595\n",
       "42    592\n",
       "33    577\n",
       "39    572\n",
       "31    556\n",
       "36    553\n",
       "29    543\n",
       "44    543\n",
       "30    536\n",
       "48    536\n",
       "37    531\n",
       "43    510\n",
       "50    509\n",
       "32    506\n",
       "49    505\n",
       "28    501\n",
       "45    494\n",
       "27    490\n",
       "52    483\n",
       "56    482\n",
       "47    480\n",
       "54    476\n",
       "46    469\n",
       "58    461\n",
       "53    457\n",
       "57    457\n",
       "51    446\n",
       "55    441\n",
       "59    441\n",
       "26    406\n",
       "60    376\n",
       "25    356\n",
       "61    353\n",
       "62    351\n",
       "63    268\n",
       "64    263\n",
       "24    263\n",
       "23    252\n",
       "65    194\n",
       "66    183\n",
       "22    183\n",
       "67    167\n",
       "21    110\n",
       "68     99\n",
       "69     83\n",
       "70     65\n",
       "71     58\n",
       "20     51\n",
       "72     33\n",
       "19     14\n",
       "73      8\n",
       "74      6\n",
       "75      1\n",
       "Name: dob_years, dtype: int64"
      ]
     },
     "execution_count": 48,
     "metadata": {},
     "output_type": "execute_result"
    }
   ],
   "source": [
    "df = df.loc[df['dob_years'] != 0]\n",
    "df['dob_years'].value_counts()"
   ]
  },
  {
   "cell_type": "markdown",
   "metadata": {},
   "source": [
    "Некорректные значения удалены, столбец готов к работе"
   ]
  },
  {
   "cell_type": "markdown",
   "metadata": {},
   "source": [
    "**Вывод**\n",
    "\n",
    "Ключевые столбцы children и family_status готовы к дальнейшим исследованиям.\n",
    "\n",
    "В остальных столбцах убраны пропуски и значения нормализованы, аномальные значения удалены из-за своей ничтожно малой доли"
   ]
  },
  {
   "cell_type": "markdown",
   "metadata": {},
   "source": [
    "<div class=\"alert alert-danger\">\n",
    "<b>❌ Комментарий ревьюера:</b> Что еще можно сказать об аномальных значениях? Они могут скрываться в любой колонке датафрейма, поэтому важно изучить каждый столбец </div>"
   ]
  },
  {
   "cell_type": "markdown",
   "metadata": {},
   "source": [
    "<div class=\"alert alert-info\"> <b>Комментарий студента:</b> Поправил. В 'gender' убрал XNA, в 'dob_years' — 0</div>\n",
    "\n",
    "\n"
   ]
  },
  {
   "cell_type": "markdown",
   "metadata": {},
   "source": [
    "<div class=\"alert alert-success\">\n",
    "<b>✔️ Комментарий ревьюера V2:</b> Избавились от всех аномалий!"
   ]
  },
  {
   "cell_type": "markdown",
   "metadata": {},
   "source": [
    "### Замена типа данных"
   ]
  },
  {
   "cell_type": "markdown",
   "metadata": {},
   "source": [
    "**В пункте 2.1.1 меняли значение days_employed с float на int**"
   ]
  },
  {
   "cell_type": "markdown",
   "metadata": {},
   "source": [
    "### Обработка дубликатов"
   ]
  },
  {
   "cell_type": "markdown",
   "metadata": {},
   "source": [
    "#### Убираем неявные дубликаты"
   ]
  },
  {
   "cell_type": "markdown",
   "metadata": {},
   "source": [
    "Посмотрим на неявные дубликаты. Они \"поселились\" в столбце education из-за набора одних и тех же значений в разных регистрах"
   ]
  },
  {
   "cell_type": "code",
   "execution_count": 49,
   "metadata": {},
   "outputs": [],
   "source": [
    "# Убираем дубликаты методом str.lower():\n",
    "\n",
    "df['education'] = df['education'].str.lower()"
   ]
  },
  {
   "cell_type": "code",
   "execution_count": 50,
   "metadata": {},
   "outputs": [
    {
     "data": {
      "text/plain": [
       "среднее                15073\n",
       "высшее                  5202\n",
       "неоконченное высшее      739\n",
       "начальное                282\n",
       "ученая степень             6\n",
       "Name: education, dtype: int64"
      ]
     },
     "execution_count": 50,
     "metadata": {},
     "output_type": "execute_result"
    }
   ],
   "source": [
    "# Проверяем результат:\n",
    "\n",
    "df['education'].value_counts()"
   ]
  },
  {
   "cell_type": "markdown",
   "metadata": {},
   "source": [
    "Теперь в столбце 'education' 5 значений, как и должно быть"
   ]
  },
  {
   "cell_type": "markdown",
   "metadata": {},
   "source": [
    "#### Убираем явные дубликаты"
   ]
  },
  {
   "cell_type": "code",
   "execution_count": 51,
   "metadata": {},
   "outputs": [
    {
     "data": {
      "text/plain": [
       "71"
      ]
     },
     "execution_count": 51,
     "metadata": {},
     "output_type": "execute_result"
    }
   ],
   "source": [
    "# Находим явные дубликаты методом duplicated():\n",
    "\n",
    "df.duplicated().sum()"
   ]
  },
  {
   "cell_type": "markdown",
   "metadata": {},
   "source": [
    "Возможные причины появления — ошибка при выгрузке данных"
   ]
  },
  {
   "cell_type": "code",
   "execution_count": 52,
   "metadata": {},
   "outputs": [],
   "source": [
    "# Удаляем явные дубликаты методом drop_duplicates(), индексы сбросим через reset_index:\n",
    "\n",
    "df = df.drop_duplicates().reset_index(drop=True)"
   ]
  },
  {
   "cell_type": "code",
   "execution_count": 53,
   "metadata": {},
   "outputs": [
    {
     "data": {
      "text/plain": [
       "0"
      ]
     },
     "execution_count": 53,
     "metadata": {},
     "output_type": "execute_result"
    }
   ],
   "source": [
    "# Проверим явные дубликаты методом duplicated():\n",
    "\n",
    "df.duplicated().sum()"
   ]
  },
  {
   "cell_type": "markdown",
   "metadata": {},
   "source": [
    "**Вывод**"
   ]
  },
  {
   "cell_type": "markdown",
   "metadata": {},
   "source": [
    "Дубликаты устранены, таблица готова к работе"
   ]
  },
  {
   "cell_type": "markdown",
   "metadata": {},
   "source": [
    "<div class=\"alert alert-danger\">\n",
    "<b>❌ Комментарий ревьюера:</b>  Удалять дубли можно только после полной обработки данных. Сначала нужно избавиться от неявных дублей - привести значения к нужному решистру, и только потом работать с явными дублями. Попробуй еще раз удалить дубли и посмотри, сколько их осталось"
   ]
  },
  {
   "cell_type": "markdown",
   "metadata": {},
   "source": [
    "<div class=\"alert alert-info\"> <b>Комментарий студента:</b> Поправил. Сначала — неявные, лишь потом — явные</div>\n",
    "\n",
    "\n"
   ]
  },
  {
   "cell_type": "markdown",
   "metadata": {},
   "source": [
    "<div class=\"alert alert-success\">\n",
    "<b>✔️ Комментарий ревьюера V2:</b> Избавились от всех дублей!"
   ]
  },
  {
   "cell_type": "markdown",
   "metadata": {},
   "source": [
    "### Лемматизация"
   ]
  },
  {
   "cell_type": "code",
   "execution_count": 54,
   "metadata": {},
   "outputs": [
    {
     "data": {
      "text/plain": [
       "свадьба                                   785\n",
       "на проведение свадьбы                     759\n",
       "сыграть свадьбу                           755\n",
       "операции с недвижимостью                  669\n",
       "покупка коммерческой недвижимости         655\n",
       "покупка жилья для сдачи                   647\n",
       "операции с коммерческой недвижимостью     643\n",
       "операции с жильем                         641\n",
       "покупка жилья для семьи                   636\n",
       "жилье                                     635\n",
       "покупка жилья                             634\n",
       "недвижимость                              627\n",
       "строительство собственной недвижимости    626\n",
       "операции со своей недвижимостью           623\n",
       "строительство недвижимости                619\n",
       "покупка своего жилья                      618\n",
       "строительство жилой недвижимости          617\n",
       "покупка недвижимости                      613\n",
       "ремонт жилью                              602\n",
       "покупка жилой недвижимости                599\n",
       "на покупку своего автомобиля              501\n",
       "заняться высшим образованием              493\n",
       "автомобиль                                487\n",
       "сделка с подержанным автомобилем          479\n",
       "автомобили                                474\n",
       "на покупку подержанного автомобиля        471\n",
       "свой автомобиль                           470\n",
       "на покупку автомобиля                     465\n",
       "приобретение автомобиля                   457\n",
       "сделка с автомобилем                      454\n",
       "дополнительное образование                453\n",
       "высшее образование                        443\n",
       "получение дополнительного образования     442\n",
       "получение образования                     439\n",
       "образование                               439\n",
       "профильное образование                    431\n",
       "получение высшего образования             423\n",
       "заняться образованием                     407\n",
       "Name: purpose, dtype: int64"
      ]
     },
     "execution_count": 54,
     "metadata": {},
     "output_type": "execute_result"
    }
   ],
   "source": [
    "df['purpose'].value_counts()"
   ]
  },
  {
   "cell_type": "code",
   "execution_count": 55,
   "metadata": {},
   "outputs": [],
   "source": [
    "# В столбце 'purpose' 38 разных значений, мы обнаружили это на этапе знакомства с таблицей.\n",
    "# Фактически значений значительно меньше. Для того, чтобы выявить реальное количество целей для получения кредита, получим\n",
    "# леммы из этого списка\n",
    "# Импортируем библиотеку с функцией лемматизации на русском языке — pymystem3\n",
    "\n",
    "from pymystem3 import Mystem\n",
    "m = Mystem()\n",
    "\n",
    "# создадим функции, в которую будем передавать значения столбца\n",
    "\n",
    "def create_category_purpose(row):\n",
    "    lem_purpose = m.lemmatize(row['purpose'])\n",
    "    if 'автомобиль' in lem_purpose:\n",
    "        return 'автомобиль'\n",
    "    if ('жилье' in lem_purpose) or ('недвижимость' in lem_purpose ):\n",
    "        return 'недвижимость'\n",
    "    if 'образование' in lem_purpose:\n",
    "        return 'образование'\n",
    "    if 'свадьба' in lem_purpose:\n",
    "        return 'свадьба'"
   ]
  },
  {
   "cell_type": "code",
   "execution_count": 56,
   "metadata": {},
   "outputs": [],
   "source": [
    "# Применим нашу функцию к столбцу 'purpose':\n",
    "\n",
    "df['purpose_category'] = df.apply(create_category_purpose, axis=1)"
   ]
  },
  {
   "cell_type": "code",
   "execution_count": 57,
   "metadata": {
    "scrolled": false
   },
   "outputs": [
    {
     "data": {
      "text/html": [
       "<div>\n",
       "<style scoped>\n",
       "    .dataframe tbody tr th:only-of-type {\n",
       "        vertical-align: middle;\n",
       "    }\n",
       "\n",
       "    .dataframe tbody tr th {\n",
       "        vertical-align: top;\n",
       "    }\n",
       "\n",
       "    .dataframe thead th {\n",
       "        text-align: right;\n",
       "    }\n",
       "</style>\n",
       "<table border=\"1\" class=\"dataframe\">\n",
       "  <thead>\n",
       "    <tr style=\"text-align: right;\">\n",
       "      <th></th>\n",
       "      <th>children</th>\n",
       "      <th>days_employed</th>\n",
       "      <th>dob_years</th>\n",
       "      <th>education</th>\n",
       "      <th>education_id</th>\n",
       "      <th>family_status</th>\n",
       "      <th>family_status_id</th>\n",
       "      <th>gender</th>\n",
       "      <th>income_type</th>\n",
       "      <th>debt</th>\n",
       "      <th>total_income</th>\n",
       "      <th>purpose</th>\n",
       "      <th>purpose_category</th>\n",
       "    </tr>\n",
       "  </thead>\n",
       "  <tbody>\n",
       "    <tr>\n",
       "      <td>0</td>\n",
       "      <td>1</td>\n",
       "      <td>8437</td>\n",
       "      <td>42</td>\n",
       "      <td>высшее</td>\n",
       "      <td>0</td>\n",
       "      <td>женат / замужем</td>\n",
       "      <td>0</td>\n",
       "      <td>F</td>\n",
       "      <td>сотрудник</td>\n",
       "      <td>0</td>\n",
       "      <td>253875</td>\n",
       "      <td>покупка жилья</td>\n",
       "      <td>недвижимость</td>\n",
       "    </tr>\n",
       "    <tr>\n",
       "      <td>1</td>\n",
       "      <td>1</td>\n",
       "      <td>4024</td>\n",
       "      <td>36</td>\n",
       "      <td>среднее</td>\n",
       "      <td>1</td>\n",
       "      <td>женат / замужем</td>\n",
       "      <td>0</td>\n",
       "      <td>F</td>\n",
       "      <td>сотрудник</td>\n",
       "      <td>0</td>\n",
       "      <td>112080</td>\n",
       "      <td>приобретение автомобиля</td>\n",
       "      <td>автомобиль</td>\n",
       "    </tr>\n",
       "    <tr>\n",
       "      <td>2</td>\n",
       "      <td>0</td>\n",
       "      <td>5623</td>\n",
       "      <td>33</td>\n",
       "      <td>среднее</td>\n",
       "      <td>1</td>\n",
       "      <td>женат / замужем</td>\n",
       "      <td>0</td>\n",
       "      <td>M</td>\n",
       "      <td>сотрудник</td>\n",
       "      <td>0</td>\n",
       "      <td>145885</td>\n",
       "      <td>покупка жилья</td>\n",
       "      <td>недвижимость</td>\n",
       "    </tr>\n",
       "    <tr>\n",
       "      <td>3</td>\n",
       "      <td>3</td>\n",
       "      <td>4124</td>\n",
       "      <td>32</td>\n",
       "      <td>среднее</td>\n",
       "      <td>1</td>\n",
       "      <td>женат / замужем</td>\n",
       "      <td>0</td>\n",
       "      <td>M</td>\n",
       "      <td>сотрудник</td>\n",
       "      <td>0</td>\n",
       "      <td>267628</td>\n",
       "      <td>дополнительное образование</td>\n",
       "      <td>образование</td>\n",
       "    </tr>\n",
       "    <tr>\n",
       "      <td>4</td>\n",
       "      <td>0</td>\n",
       "      <td>340266</td>\n",
       "      <td>53</td>\n",
       "      <td>среднее</td>\n",
       "      <td>1</td>\n",
       "      <td>гражданский брак</td>\n",
       "      <td>1</td>\n",
       "      <td>F</td>\n",
       "      <td>пенсионер</td>\n",
       "      <td>0</td>\n",
       "      <td>158616</td>\n",
       "      <td>сыграть свадьбу</td>\n",
       "      <td>свадьба</td>\n",
       "    </tr>\n",
       "    <tr>\n",
       "      <td>5</td>\n",
       "      <td>0</td>\n",
       "      <td>926</td>\n",
       "      <td>27</td>\n",
       "      <td>высшее</td>\n",
       "      <td>0</td>\n",
       "      <td>гражданский брак</td>\n",
       "      <td>1</td>\n",
       "      <td>M</td>\n",
       "      <td>компаньон</td>\n",
       "      <td>0</td>\n",
       "      <td>255763</td>\n",
       "      <td>покупка жилья</td>\n",
       "      <td>недвижимость</td>\n",
       "    </tr>\n",
       "    <tr>\n",
       "      <td>6</td>\n",
       "      <td>0</td>\n",
       "      <td>2879</td>\n",
       "      <td>43</td>\n",
       "      <td>высшее</td>\n",
       "      <td>0</td>\n",
       "      <td>женат / замужем</td>\n",
       "      <td>0</td>\n",
       "      <td>F</td>\n",
       "      <td>компаньон</td>\n",
       "      <td>0</td>\n",
       "      <td>240525</td>\n",
       "      <td>операции с жильем</td>\n",
       "      <td>недвижимость</td>\n",
       "    </tr>\n",
       "    <tr>\n",
       "      <td>7</td>\n",
       "      <td>0</td>\n",
       "      <td>152</td>\n",
       "      <td>50</td>\n",
       "      <td>среднее</td>\n",
       "      <td>1</td>\n",
       "      <td>женат / замужем</td>\n",
       "      <td>0</td>\n",
       "      <td>M</td>\n",
       "      <td>сотрудник</td>\n",
       "      <td>0</td>\n",
       "      <td>135823</td>\n",
       "      <td>образование</td>\n",
       "      <td>образование</td>\n",
       "    </tr>\n",
       "    <tr>\n",
       "      <td>8</td>\n",
       "      <td>2</td>\n",
       "      <td>6929</td>\n",
       "      <td>35</td>\n",
       "      <td>высшее</td>\n",
       "      <td>0</td>\n",
       "      <td>гражданский брак</td>\n",
       "      <td>1</td>\n",
       "      <td>F</td>\n",
       "      <td>сотрудник</td>\n",
       "      <td>0</td>\n",
       "      <td>95856</td>\n",
       "      <td>на проведение свадьбы</td>\n",
       "      <td>свадьба</td>\n",
       "    </tr>\n",
       "    <tr>\n",
       "      <td>9</td>\n",
       "      <td>0</td>\n",
       "      <td>2188</td>\n",
       "      <td>41</td>\n",
       "      <td>среднее</td>\n",
       "      <td>1</td>\n",
       "      <td>женат / замужем</td>\n",
       "      <td>0</td>\n",
       "      <td>M</td>\n",
       "      <td>сотрудник</td>\n",
       "      <td>0</td>\n",
       "      <td>144425</td>\n",
       "      <td>покупка жилья для семьи</td>\n",
       "      <td>недвижимость</td>\n",
       "    </tr>\n",
       "  </tbody>\n",
       "</table>\n",
       "</div>"
      ],
      "text/plain": [
       "   children  days_employed  dob_years education  education_id  \\\n",
       "0         1           8437         42    высшее             0   \n",
       "1         1           4024         36   среднее             1   \n",
       "2         0           5623         33   среднее             1   \n",
       "3         3           4124         32   среднее             1   \n",
       "4         0         340266         53   среднее             1   \n",
       "5         0            926         27    высшее             0   \n",
       "6         0           2879         43    высшее             0   \n",
       "7         0            152         50   среднее             1   \n",
       "8         2           6929         35    высшее             0   \n",
       "9         0           2188         41   среднее             1   \n",
       "\n",
       "      family_status  family_status_id gender income_type  debt  total_income  \\\n",
       "0   женат / замужем                 0      F   сотрудник     0        253875   \n",
       "1   женат / замужем                 0      F   сотрудник     0        112080   \n",
       "2   женат / замужем                 0      M   сотрудник     0        145885   \n",
       "3   женат / замужем                 0      M   сотрудник     0        267628   \n",
       "4  гражданский брак                 1      F   пенсионер     0        158616   \n",
       "5  гражданский брак                 1      M   компаньон     0        255763   \n",
       "6   женат / замужем                 0      F   компаньон     0        240525   \n",
       "7   женат / замужем                 0      M   сотрудник     0        135823   \n",
       "8  гражданский брак                 1      F   сотрудник     0         95856   \n",
       "9   женат / замужем                 0      M   сотрудник     0        144425   \n",
       "\n",
       "                      purpose purpose_category  \n",
       "0               покупка жилья     недвижимость  \n",
       "1     приобретение автомобиля       автомобиль  \n",
       "2               покупка жилья     недвижимость  \n",
       "3  дополнительное образование      образование  \n",
       "4             сыграть свадьбу          свадьба  \n",
       "5               покупка жилья     недвижимость  \n",
       "6           операции с жильем     недвижимость  \n",
       "7                 образование      образование  \n",
       "8       на проведение свадьбы          свадьба  \n",
       "9     покупка жилья для семьи     недвижимость  "
      ]
     },
     "execution_count": 57,
     "metadata": {},
     "output_type": "execute_result"
    }
   ],
   "source": [
    "# Посмотрим на таблицу с новым столбцом:\n",
    "\n",
    "df.head(10)"
   ]
  },
  {
   "cell_type": "code",
   "execution_count": 58,
   "metadata": {
    "scrolled": true
   },
   "outputs": [
    {
     "data": {
      "text/plain": [
       "свадьба                                   785\n",
       "на проведение свадьбы                     759\n",
       "сыграть свадьбу                           755\n",
       "операции с недвижимостью                  669\n",
       "покупка коммерческой недвижимости         655\n",
       "покупка жилья для сдачи                   647\n",
       "операции с коммерческой недвижимостью     643\n",
       "операции с жильем                         641\n",
       "покупка жилья для семьи                   636\n",
       "жилье                                     635\n",
       "покупка жилья                             634\n",
       "недвижимость                              627\n",
       "строительство собственной недвижимости    626\n",
       "операции со своей недвижимостью           623\n",
       "строительство недвижимости                619\n",
       "покупка своего жилья                      618\n",
       "строительство жилой недвижимости          617\n",
       "покупка недвижимости                      613\n",
       "ремонт жилью                              602\n",
       "покупка жилой недвижимости                599\n",
       "на покупку своего автомобиля              501\n",
       "заняться высшим образованием              493\n",
       "автомобиль                                487\n",
       "сделка с подержанным автомобилем          479\n",
       "автомобили                                474\n",
       "на покупку подержанного автомобиля        471\n",
       "свой автомобиль                           470\n",
       "на покупку автомобиля                     465\n",
       "приобретение автомобиля                   457\n",
       "сделка с автомобилем                      454\n",
       "дополнительное образование                453\n",
       "высшее образование                        443\n",
       "получение дополнительного образования     442\n",
       "получение образования                     439\n",
       "образование                               439\n",
       "профильное образование                    431\n",
       "получение высшего образования             423\n",
       "заняться образованием                     407\n",
       "Name: purpose, dtype: int64"
      ]
     },
     "execution_count": 58,
     "metadata": {},
     "output_type": "execute_result"
    }
   ],
   "source": [
    "# Было\n",
    "\n",
    "df['purpose'].value_counts()"
   ]
  },
  {
   "cell_type": "code",
   "execution_count": 59,
   "metadata": {},
   "outputs": [
    {
     "data": {
      "text/plain": [
       "недвижимость    10704\n",
       "автомобиль       4258\n",
       "образование      3970\n",
       "свадьба          2299\n",
       "Name: purpose_category, dtype: int64"
      ]
     },
     "execution_count": 59,
     "metadata": {},
     "output_type": "execute_result"
    }
   ],
   "source": [
    "# Стало \n",
    "\n",
    "df['purpose_category'].value_counts()"
   ]
  },
  {
   "cell_type": "code",
   "execution_count": 60,
   "metadata": {},
   "outputs": [
    {
     "data": {
      "text/plain": [
       "21231"
      ]
     },
     "execution_count": 60,
     "metadata": {},
     "output_type": "execute_result"
    }
   ],
   "source": [
    "# Убедимся, что ничего не потеряли\n",
    "\n",
    "df['purpose'].value_counts().sum()"
   ]
  },
  {
   "cell_type": "code",
   "execution_count": 61,
   "metadata": {},
   "outputs": [
    {
     "data": {
      "text/plain": [
       "21231"
      ]
     },
     "execution_count": 61,
     "metadata": {},
     "output_type": "execute_result"
    }
   ],
   "source": [
    "df['purpose_category'].value_counts().sum()"
   ]
  },
  {
   "cell_type": "markdown",
   "metadata": {},
   "source": [
    "**Вывод:** **работать с целями получения кредита стало значительно проще**"
   ]
  },
  {
   "cell_type": "markdown",
   "metadata": {},
   "source": [
    "<div class=\"alert alert-success\">\n",
    "<b>✔️ Комментарий ревьюера:</b> Нужные категории найдены </div>"
   ]
  },
  {
   "cell_type": "markdown",
   "metadata": {},
   "source": []
  },
  {
   "cell_type": "markdown",
   "metadata": {},
   "source": [
    "### Категоризация данных"
   ]
  },
  {
   "cell_type": "markdown",
   "metadata": {},
   "source": [
    "В ключевом столбце `'children'` указано количество детей. В нашем исследовании необходимо узнать, оказывает ли наличие детей влияние на возврат кредита в срок. Разделим всех людей на четыре категории — \"один ребенок\", \"два ребенка\", \"многодетные\" (три и более ребенка) и \"без детей\". Создадим функцию `'children_qualifier'`, принимающую число и возвращающую значения \"с детьми\", \"многодетные\" и \"без детей\". Далее применим ее к столбцу `'children'` методом `apply`, сохраним категорию в новый столбец `'children_category'` и выведем на экран первые 10 строк таблицы с новым столбцом"
   ]
  },
  {
   "cell_type": "code",
   "execution_count": 62,
   "metadata": {},
   "outputs": [
    {
     "data": {
      "text/html": [
       "<div>\n",
       "<style scoped>\n",
       "    .dataframe tbody tr th:only-of-type {\n",
       "        vertical-align: middle;\n",
       "    }\n",
       "\n",
       "    .dataframe tbody tr th {\n",
       "        vertical-align: top;\n",
       "    }\n",
       "\n",
       "    .dataframe thead th {\n",
       "        text-align: right;\n",
       "    }\n",
       "</style>\n",
       "<table border=\"1\" class=\"dataframe\">\n",
       "  <thead>\n",
       "    <tr style=\"text-align: right;\">\n",
       "      <th></th>\n",
       "      <th>children</th>\n",
       "      <th>days_employed</th>\n",
       "      <th>dob_years</th>\n",
       "      <th>education</th>\n",
       "      <th>education_id</th>\n",
       "      <th>family_status</th>\n",
       "      <th>family_status_id</th>\n",
       "      <th>gender</th>\n",
       "      <th>income_type</th>\n",
       "      <th>debt</th>\n",
       "      <th>total_income</th>\n",
       "      <th>purpose</th>\n",
       "      <th>purpose_category</th>\n",
       "      <th>children_category</th>\n",
       "    </tr>\n",
       "  </thead>\n",
       "  <tbody>\n",
       "    <tr>\n",
       "      <td>0</td>\n",
       "      <td>1</td>\n",
       "      <td>8437</td>\n",
       "      <td>42</td>\n",
       "      <td>высшее</td>\n",
       "      <td>0</td>\n",
       "      <td>женат / замужем</td>\n",
       "      <td>0</td>\n",
       "      <td>F</td>\n",
       "      <td>сотрудник</td>\n",
       "      <td>0</td>\n",
       "      <td>253875</td>\n",
       "      <td>покупка жилья</td>\n",
       "      <td>недвижимость</td>\n",
       "      <td>один ребенок</td>\n",
       "    </tr>\n",
       "    <tr>\n",
       "      <td>1</td>\n",
       "      <td>1</td>\n",
       "      <td>4024</td>\n",
       "      <td>36</td>\n",
       "      <td>среднее</td>\n",
       "      <td>1</td>\n",
       "      <td>женат / замужем</td>\n",
       "      <td>0</td>\n",
       "      <td>F</td>\n",
       "      <td>сотрудник</td>\n",
       "      <td>0</td>\n",
       "      <td>112080</td>\n",
       "      <td>приобретение автомобиля</td>\n",
       "      <td>автомобиль</td>\n",
       "      <td>один ребенок</td>\n",
       "    </tr>\n",
       "    <tr>\n",
       "      <td>2</td>\n",
       "      <td>0</td>\n",
       "      <td>5623</td>\n",
       "      <td>33</td>\n",
       "      <td>среднее</td>\n",
       "      <td>1</td>\n",
       "      <td>женат / замужем</td>\n",
       "      <td>0</td>\n",
       "      <td>M</td>\n",
       "      <td>сотрудник</td>\n",
       "      <td>0</td>\n",
       "      <td>145885</td>\n",
       "      <td>покупка жилья</td>\n",
       "      <td>недвижимость</td>\n",
       "      <td>без детей</td>\n",
       "    </tr>\n",
       "    <tr>\n",
       "      <td>3</td>\n",
       "      <td>3</td>\n",
       "      <td>4124</td>\n",
       "      <td>32</td>\n",
       "      <td>среднее</td>\n",
       "      <td>1</td>\n",
       "      <td>женат / замужем</td>\n",
       "      <td>0</td>\n",
       "      <td>M</td>\n",
       "      <td>сотрудник</td>\n",
       "      <td>0</td>\n",
       "      <td>267628</td>\n",
       "      <td>дополнительное образование</td>\n",
       "      <td>образование</td>\n",
       "      <td>многодетные</td>\n",
       "    </tr>\n",
       "    <tr>\n",
       "      <td>4</td>\n",
       "      <td>0</td>\n",
       "      <td>340266</td>\n",
       "      <td>53</td>\n",
       "      <td>среднее</td>\n",
       "      <td>1</td>\n",
       "      <td>гражданский брак</td>\n",
       "      <td>1</td>\n",
       "      <td>F</td>\n",
       "      <td>пенсионер</td>\n",
       "      <td>0</td>\n",
       "      <td>158616</td>\n",
       "      <td>сыграть свадьбу</td>\n",
       "      <td>свадьба</td>\n",
       "      <td>без детей</td>\n",
       "    </tr>\n",
       "    <tr>\n",
       "      <td>5</td>\n",
       "      <td>0</td>\n",
       "      <td>926</td>\n",
       "      <td>27</td>\n",
       "      <td>высшее</td>\n",
       "      <td>0</td>\n",
       "      <td>гражданский брак</td>\n",
       "      <td>1</td>\n",
       "      <td>M</td>\n",
       "      <td>компаньон</td>\n",
       "      <td>0</td>\n",
       "      <td>255763</td>\n",
       "      <td>покупка жилья</td>\n",
       "      <td>недвижимость</td>\n",
       "      <td>без детей</td>\n",
       "    </tr>\n",
       "    <tr>\n",
       "      <td>6</td>\n",
       "      <td>0</td>\n",
       "      <td>2879</td>\n",
       "      <td>43</td>\n",
       "      <td>высшее</td>\n",
       "      <td>0</td>\n",
       "      <td>женат / замужем</td>\n",
       "      <td>0</td>\n",
       "      <td>F</td>\n",
       "      <td>компаньон</td>\n",
       "      <td>0</td>\n",
       "      <td>240525</td>\n",
       "      <td>операции с жильем</td>\n",
       "      <td>недвижимость</td>\n",
       "      <td>без детей</td>\n",
       "    </tr>\n",
       "    <tr>\n",
       "      <td>7</td>\n",
       "      <td>0</td>\n",
       "      <td>152</td>\n",
       "      <td>50</td>\n",
       "      <td>среднее</td>\n",
       "      <td>1</td>\n",
       "      <td>женат / замужем</td>\n",
       "      <td>0</td>\n",
       "      <td>M</td>\n",
       "      <td>сотрудник</td>\n",
       "      <td>0</td>\n",
       "      <td>135823</td>\n",
       "      <td>образование</td>\n",
       "      <td>образование</td>\n",
       "      <td>без детей</td>\n",
       "    </tr>\n",
       "    <tr>\n",
       "      <td>8</td>\n",
       "      <td>2</td>\n",
       "      <td>6929</td>\n",
       "      <td>35</td>\n",
       "      <td>высшее</td>\n",
       "      <td>0</td>\n",
       "      <td>гражданский брак</td>\n",
       "      <td>1</td>\n",
       "      <td>F</td>\n",
       "      <td>сотрудник</td>\n",
       "      <td>0</td>\n",
       "      <td>95856</td>\n",
       "      <td>на проведение свадьбы</td>\n",
       "      <td>свадьба</td>\n",
       "      <td>два ребенка</td>\n",
       "    </tr>\n",
       "    <tr>\n",
       "      <td>9</td>\n",
       "      <td>0</td>\n",
       "      <td>2188</td>\n",
       "      <td>41</td>\n",
       "      <td>среднее</td>\n",
       "      <td>1</td>\n",
       "      <td>женат / замужем</td>\n",
       "      <td>0</td>\n",
       "      <td>M</td>\n",
       "      <td>сотрудник</td>\n",
       "      <td>0</td>\n",
       "      <td>144425</td>\n",
       "      <td>покупка жилья для семьи</td>\n",
       "      <td>недвижимость</td>\n",
       "      <td>без детей</td>\n",
       "    </tr>\n",
       "  </tbody>\n",
       "</table>\n",
       "</div>"
      ],
      "text/plain": [
       "   children  days_employed  dob_years education  education_id  \\\n",
       "0         1           8437         42    высшее             0   \n",
       "1         1           4024         36   среднее             1   \n",
       "2         0           5623         33   среднее             1   \n",
       "3         3           4124         32   среднее             1   \n",
       "4         0         340266         53   среднее             1   \n",
       "5         0            926         27    высшее             0   \n",
       "6         0           2879         43    высшее             0   \n",
       "7         0            152         50   среднее             1   \n",
       "8         2           6929         35    высшее             0   \n",
       "9         0           2188         41   среднее             1   \n",
       "\n",
       "      family_status  family_status_id gender income_type  debt  total_income  \\\n",
       "0   женат / замужем                 0      F   сотрудник     0        253875   \n",
       "1   женат / замужем                 0      F   сотрудник     0        112080   \n",
       "2   женат / замужем                 0      M   сотрудник     0        145885   \n",
       "3   женат / замужем                 0      M   сотрудник     0        267628   \n",
       "4  гражданский брак                 1      F   пенсионер     0        158616   \n",
       "5  гражданский брак                 1      M   компаньон     0        255763   \n",
       "6   женат / замужем                 0      F   компаньон     0        240525   \n",
       "7   женат / замужем                 0      M   сотрудник     0        135823   \n",
       "8  гражданский брак                 1      F   сотрудник     0         95856   \n",
       "9   женат / замужем                 0      M   сотрудник     0        144425   \n",
       "\n",
       "                      purpose purpose_category children_category  \n",
       "0               покупка жилья     недвижимость      один ребенок  \n",
       "1     приобретение автомобиля       автомобиль      один ребенок  \n",
       "2               покупка жилья     недвижимость         без детей  \n",
       "3  дополнительное образование      образование       многодетные  \n",
       "4             сыграть свадьбу          свадьба         без детей  \n",
       "5               покупка жилья     недвижимость         без детей  \n",
       "6           операции с жильем     недвижимость         без детей  \n",
       "7                 образование      образование         без детей  \n",
       "8       на проведение свадьбы          свадьба       два ребенка  \n",
       "9     покупка жилья для семьи     недвижимость         без детей  "
      ]
     },
     "execution_count": 62,
     "metadata": {},
     "output_type": "execute_result"
    }
   ],
   "source": [
    "def children_qualifier(children):\n",
    "    if children >= 3:\n",
    "        return 'многодетные'\n",
    "    if children == 2:\n",
    "        return 'два ребенка'\n",
    "    if children == 1:\n",
    "        return 'один ребенок'\n",
    "    return 'без детей'\n",
    "\n",
    "df['children_category'] = df['children'].apply(children_qualifier)\n",
    "df.head(10)"
   ]
  },
  {
   "cell_type": "markdown",
   "metadata": {},
   "source": [
    "В дальнейшем такое упрощение поможет сделать выводы о связи наличия детей (и их количества) и своевременным возвратом кредита"
   ]
  },
  {
   "cell_type": "code",
   "execution_count": 63,
   "metadata": {},
   "outputs": [
    {
     "data": {
      "text/plain": [
       "без детей       14022\n",
       "один ребенок     4792\n",
       "два ребенка      2039\n",
       "многодетные       378\n",
       "Name: children_category, dtype: int64"
      ]
     },
     "execution_count": 63,
     "metadata": {},
     "output_type": "execute_result"
    }
   ],
   "source": [
    "df['children_category'].value_counts()"
   ]
  },
  {
   "cell_type": "markdown",
   "metadata": {},
   "source": [
    "В столбце `'total_income'` очень много значений:"
   ]
  },
  {
   "cell_type": "code",
   "execution_count": 64,
   "metadata": {},
   "outputs": [
    {
     "data": {
      "text/plain": [
       "21231"
      ]
     },
     "execution_count": 64,
     "metadata": {},
     "output_type": "execute_result"
    }
   ],
   "source": [
    "df['total_income'].value_counts().sum()"
   ]
  },
  {
   "cell_type": "markdown",
   "metadata": {},
   "source": [
    "С таким количеством очень неудобно работать. Разобъем данные на категории по методологии Росстата — ведь Росстат не может врать и его методы непогрешимы :)\n",
    "\n",
    "1. крайняя нищета (доходы ниже прожиточного минимума — до 7-8 тыс.р.)\n",
    "2. нищета (доходы от одного до двух прожиточных минимума — от 8 до 12 тыс.р.)\n",
    "3. бедность (доходы от 12 до 20 тысяч рублей в месяц)\n",
    "4. выше бедности (доходы от 20 до 30 тысяч рублей в месяц)\n",
    "5. средний достаток — (доходы от 30 до 60 тысяч рублей в месяц)\n",
    "6. состоятельные — (доходы от 60 до 90 тысяч рублей в месяц)\n",
    "7. богатые — (доходы от 90 тысяч рублей в месяц)\n",
    "8. сверхбогатые — (доходы свыше 150 тысяч рублей в месяц)\n",
    "\n",
    "Сделаем три допущения:\n",
    "* В `'total_income'` годовой доход, т.е. в функцию будем передавать значение/12 месяцев\n",
    "* Данные Росстата расчитаны на человека в год, включая детей. Мы посчитаем доход на одного человека, т.к. численность семьи нам неизвестна\n",
    "* Уменьшим количество категорий. Первые три категории сведем к \"бедный\", 4 и 5 к \"средний класс\", 6-8 будут \"состоятельный\"\n",
    "\n",
    "Для этого напишем функцию, принимающуя значение дохода и возвращающую название категории. Потом применим через apply эту функцию к столбцу `'total_income'`. Новые данные запишем в столбец `'income_category'` и выведем первые 10 строк таблицы с новым столбцом"
   ]
  },
  {
   "cell_type": "code",
   "execution_count": 65,
   "metadata": {},
   "outputs": [
    {
     "data": {
      "text/html": [
       "<div>\n",
       "<style scoped>\n",
       "    .dataframe tbody tr th:only-of-type {\n",
       "        vertical-align: middle;\n",
       "    }\n",
       "\n",
       "    .dataframe tbody tr th {\n",
       "        vertical-align: top;\n",
       "    }\n",
       "\n",
       "    .dataframe thead th {\n",
       "        text-align: right;\n",
       "    }\n",
       "</style>\n",
       "<table border=\"1\" class=\"dataframe\">\n",
       "  <thead>\n",
       "    <tr style=\"text-align: right;\">\n",
       "      <th></th>\n",
       "      <th>children</th>\n",
       "      <th>days_employed</th>\n",
       "      <th>dob_years</th>\n",
       "      <th>education</th>\n",
       "      <th>education_id</th>\n",
       "      <th>family_status</th>\n",
       "      <th>family_status_id</th>\n",
       "      <th>gender</th>\n",
       "      <th>income_type</th>\n",
       "      <th>debt</th>\n",
       "      <th>total_income</th>\n",
       "      <th>purpose</th>\n",
       "      <th>purpose_category</th>\n",
       "      <th>children_category</th>\n",
       "      <th>income_category</th>\n",
       "    </tr>\n",
       "  </thead>\n",
       "  <tbody>\n",
       "    <tr>\n",
       "      <td>0</td>\n",
       "      <td>1</td>\n",
       "      <td>8437</td>\n",
       "      <td>42</td>\n",
       "      <td>высшее</td>\n",
       "      <td>0</td>\n",
       "      <td>женат / замужем</td>\n",
       "      <td>0</td>\n",
       "      <td>F</td>\n",
       "      <td>сотрудник</td>\n",
       "      <td>0</td>\n",
       "      <td>253875</td>\n",
       "      <td>покупка жилья</td>\n",
       "      <td>недвижимость</td>\n",
       "      <td>один ребенок</td>\n",
       "      <td>средний класс</td>\n",
       "    </tr>\n",
       "    <tr>\n",
       "      <td>1</td>\n",
       "      <td>1</td>\n",
       "      <td>4024</td>\n",
       "      <td>36</td>\n",
       "      <td>среднее</td>\n",
       "      <td>1</td>\n",
       "      <td>женат / замужем</td>\n",
       "      <td>0</td>\n",
       "      <td>F</td>\n",
       "      <td>сотрудник</td>\n",
       "      <td>0</td>\n",
       "      <td>112080</td>\n",
       "      <td>приобретение автомобиля</td>\n",
       "      <td>автомобиль</td>\n",
       "      <td>один ребенок</td>\n",
       "      <td>бедный</td>\n",
       "    </tr>\n",
       "    <tr>\n",
       "      <td>2</td>\n",
       "      <td>0</td>\n",
       "      <td>5623</td>\n",
       "      <td>33</td>\n",
       "      <td>среднее</td>\n",
       "      <td>1</td>\n",
       "      <td>женат / замужем</td>\n",
       "      <td>0</td>\n",
       "      <td>M</td>\n",
       "      <td>сотрудник</td>\n",
       "      <td>0</td>\n",
       "      <td>145885</td>\n",
       "      <td>покупка жилья</td>\n",
       "      <td>недвижимость</td>\n",
       "      <td>без детей</td>\n",
       "      <td>бедный</td>\n",
       "    </tr>\n",
       "    <tr>\n",
       "      <td>3</td>\n",
       "      <td>3</td>\n",
       "      <td>4124</td>\n",
       "      <td>32</td>\n",
       "      <td>среднее</td>\n",
       "      <td>1</td>\n",
       "      <td>женат / замужем</td>\n",
       "      <td>0</td>\n",
       "      <td>M</td>\n",
       "      <td>сотрудник</td>\n",
       "      <td>0</td>\n",
       "      <td>267628</td>\n",
       "      <td>дополнительное образование</td>\n",
       "      <td>образование</td>\n",
       "      <td>многодетные</td>\n",
       "      <td>средний класс</td>\n",
       "    </tr>\n",
       "    <tr>\n",
       "      <td>4</td>\n",
       "      <td>0</td>\n",
       "      <td>340266</td>\n",
       "      <td>53</td>\n",
       "      <td>среднее</td>\n",
       "      <td>1</td>\n",
       "      <td>гражданский брак</td>\n",
       "      <td>1</td>\n",
       "      <td>F</td>\n",
       "      <td>пенсионер</td>\n",
       "      <td>0</td>\n",
       "      <td>158616</td>\n",
       "      <td>сыграть свадьбу</td>\n",
       "      <td>свадьба</td>\n",
       "      <td>без детей</td>\n",
       "      <td>бедный</td>\n",
       "    </tr>\n",
       "    <tr>\n",
       "      <td>5</td>\n",
       "      <td>0</td>\n",
       "      <td>926</td>\n",
       "      <td>27</td>\n",
       "      <td>высшее</td>\n",
       "      <td>0</td>\n",
       "      <td>гражданский брак</td>\n",
       "      <td>1</td>\n",
       "      <td>M</td>\n",
       "      <td>компаньон</td>\n",
       "      <td>0</td>\n",
       "      <td>255763</td>\n",
       "      <td>покупка жилья</td>\n",
       "      <td>недвижимость</td>\n",
       "      <td>без детей</td>\n",
       "      <td>средний класс</td>\n",
       "    </tr>\n",
       "    <tr>\n",
       "      <td>6</td>\n",
       "      <td>0</td>\n",
       "      <td>2879</td>\n",
       "      <td>43</td>\n",
       "      <td>высшее</td>\n",
       "      <td>0</td>\n",
       "      <td>женат / замужем</td>\n",
       "      <td>0</td>\n",
       "      <td>F</td>\n",
       "      <td>компаньон</td>\n",
       "      <td>0</td>\n",
       "      <td>240525</td>\n",
       "      <td>операции с жильем</td>\n",
       "      <td>недвижимость</td>\n",
       "      <td>без детей</td>\n",
       "      <td>средний класс</td>\n",
       "    </tr>\n",
       "    <tr>\n",
       "      <td>7</td>\n",
       "      <td>0</td>\n",
       "      <td>152</td>\n",
       "      <td>50</td>\n",
       "      <td>среднее</td>\n",
       "      <td>1</td>\n",
       "      <td>женат / замужем</td>\n",
       "      <td>0</td>\n",
       "      <td>M</td>\n",
       "      <td>сотрудник</td>\n",
       "      <td>0</td>\n",
       "      <td>135823</td>\n",
       "      <td>образование</td>\n",
       "      <td>образование</td>\n",
       "      <td>без детей</td>\n",
       "      <td>бедный</td>\n",
       "    </tr>\n",
       "    <tr>\n",
       "      <td>8</td>\n",
       "      <td>2</td>\n",
       "      <td>6929</td>\n",
       "      <td>35</td>\n",
       "      <td>высшее</td>\n",
       "      <td>0</td>\n",
       "      <td>гражданский брак</td>\n",
       "      <td>1</td>\n",
       "      <td>F</td>\n",
       "      <td>сотрудник</td>\n",
       "      <td>0</td>\n",
       "      <td>95856</td>\n",
       "      <td>на проведение свадьбы</td>\n",
       "      <td>свадьба</td>\n",
       "      <td>два ребенка</td>\n",
       "      <td>бедный</td>\n",
       "    </tr>\n",
       "    <tr>\n",
       "      <td>9</td>\n",
       "      <td>0</td>\n",
       "      <td>2188</td>\n",
       "      <td>41</td>\n",
       "      <td>среднее</td>\n",
       "      <td>1</td>\n",
       "      <td>женат / замужем</td>\n",
       "      <td>0</td>\n",
       "      <td>M</td>\n",
       "      <td>сотрудник</td>\n",
       "      <td>0</td>\n",
       "      <td>144425</td>\n",
       "      <td>покупка жилья для семьи</td>\n",
       "      <td>недвижимость</td>\n",
       "      <td>без детей</td>\n",
       "      <td>бедный</td>\n",
       "    </tr>\n",
       "  </tbody>\n",
       "</table>\n",
       "</div>"
      ],
      "text/plain": [
       "   children  days_employed  dob_years education  education_id  \\\n",
       "0         1           8437         42    высшее             0   \n",
       "1         1           4024         36   среднее             1   \n",
       "2         0           5623         33   среднее             1   \n",
       "3         3           4124         32   среднее             1   \n",
       "4         0         340266         53   среднее             1   \n",
       "5         0            926         27    высшее             0   \n",
       "6         0           2879         43    высшее             0   \n",
       "7         0            152         50   среднее             1   \n",
       "8         2           6929         35    высшее             0   \n",
       "9         0           2188         41   среднее             1   \n",
       "\n",
       "      family_status  family_status_id gender income_type  debt  total_income  \\\n",
       "0   женат / замужем                 0      F   сотрудник     0        253875   \n",
       "1   женат / замужем                 0      F   сотрудник     0        112080   \n",
       "2   женат / замужем                 0      M   сотрудник     0        145885   \n",
       "3   женат / замужем                 0      M   сотрудник     0        267628   \n",
       "4  гражданский брак                 1      F   пенсионер     0        158616   \n",
       "5  гражданский брак                 1      M   компаньон     0        255763   \n",
       "6   женат / замужем                 0      F   компаньон     0        240525   \n",
       "7   женат / замужем                 0      M   сотрудник     0        135823   \n",
       "8  гражданский брак                 1      F   сотрудник     0         95856   \n",
       "9   женат / замужем                 0      M   сотрудник     0        144425   \n",
       "\n",
       "                      purpose purpose_category children_category  \\\n",
       "0               покупка жилья     недвижимость      один ребенок   \n",
       "1     приобретение автомобиля       автомобиль      один ребенок   \n",
       "2               покупка жилья     недвижимость         без детей   \n",
       "3  дополнительное образование      образование       многодетные   \n",
       "4             сыграть свадьбу          свадьба         без детей   \n",
       "5               покупка жилья     недвижимость         без детей   \n",
       "6           операции с жильем     недвижимость         без детей   \n",
       "7                 образование      образование         без детей   \n",
       "8       на проведение свадьбы          свадьба       два ребенка   \n",
       "9     покупка жилья для семьи     недвижимость         без детей   \n",
       "\n",
       "  income_category  \n",
       "0   средний класс  \n",
       "1          бедный  \n",
       "2          бедный  \n",
       "3   средний класс  \n",
       "4          бедный  \n",
       "5   средний класс  \n",
       "6   средний класс  \n",
       "7          бедный  \n",
       "8          бедный  \n",
       "9          бедный  "
      ]
     },
     "execution_count": 65,
     "metadata": {},
     "output_type": "execute_result"
    }
   ],
   "source": [
    "def income_qualifier(row):\n",
    "    if row / 12 < 20000:\n",
    "        return 'бедный'\n",
    "    if row / 12 < 60000 and row / 12 >= 20000:\n",
    "        return 'средний класс'\n",
    "    if row / 12 >= 60000:\n",
    "        return 'состоятельный'\n",
    "    \n",
    "   \n",
    "    \n",
    "df['income_category'] = df['total_income'].apply(income_qualifier)\n",
    "\n",
    "df.head(10)\n"
   ]
  },
  {
   "cell_type": "code",
   "execution_count": 66,
   "metadata": {},
   "outputs": [
    {
     "data": {
      "text/plain": [
       "бедный           18134\n",
       "средний класс     3044\n",
       "состоятельный       53\n",
       "Name: income_category, dtype: int64"
      ]
     },
     "execution_count": 66,
     "metadata": {},
     "output_type": "execute_result"
    }
   ],
   "source": [
    "df['income_category'].value_counts()"
   ]
  },
  {
   "cell_type": "markdown",
   "metadata": {},
   "source": [
    "**Вывод**: Мы подготовили ключевой столбец к дальнейшей работе, а людей можно разделить на условные категории по уровню дохода. В нашей таблице, к сожалению, большинство относится к бедному классу."
   ]
  },
  {
   "cell_type": "markdown",
   "metadata": {},
   "source": [
    "<div class=\"alert alert-success\">\n",
    "<b>✔️ Комментарий ревьюера:</b> Категоризация поможет нам ответить на вопросы ниже </div>"
   ]
  },
  {
   "cell_type": "markdown",
   "metadata": {},
   "source": [
    "## Шаг 3. Ответьте на вопросы"
   ]
  },
  {
   "cell_type": "markdown",
   "metadata": {},
   "source": [
    "- Есть ли зависимость между наличием детей и возвратом кредита в срок?"
   ]
  },
  {
   "cell_type": "markdown",
   "metadata": {},
   "source": [
    "Чтобы ответить на этот вопрос, сделаем сводную таблицу с индексами = значения столбца `'children_category'`, столбцами будут значения столбца `'debt'`, функция агрегирования — `'count'`(нам нужно посчитать количество людей в сегментах 0 и 1 столбца `'debt'`).\n",
    "Получив сводную таблицу, добавим к ней столбец `'percent'`, в котором будет выводится отношение просрочивших кредит к общему количеству в процентах"
   ]
  },
  {
   "cell_type": "code",
   "execution_count": 67,
   "metadata": {},
   "outputs": [
    {
     "data": {
      "text/html": [
       "<div>\n",
       "<style scoped>\n",
       "    .dataframe tbody tr th:only-of-type {\n",
       "        vertical-align: middle;\n",
       "    }\n",
       "\n",
       "    .dataframe tbody tr th {\n",
       "        vertical-align: top;\n",
       "    }\n",
       "\n",
       "    .dataframe thead th {\n",
       "        text-align: right;\n",
       "    }\n",
       "</style>\n",
       "<table border=\"1\" class=\"dataframe\">\n",
       "  <thead>\n",
       "    <tr style=\"text-align: right;\">\n",
       "      <th>debt</th>\n",
       "      <th>0</th>\n",
       "      <th>1</th>\n",
       "      <th>percent</th>\n",
       "    </tr>\n",
       "    <tr>\n",
       "      <th>children_category</th>\n",
       "      <th></th>\n",
       "      <th></th>\n",
       "      <th></th>\n",
       "    </tr>\n",
       "  </thead>\n",
       "  <tbody>\n",
       "    <tr>\n",
       "      <td>два ребенка</td>\n",
       "      <td>1845</td>\n",
       "      <td>194</td>\n",
       "      <td>9.514468</td>\n",
       "    </tr>\n",
       "    <tr>\n",
       "      <td>один ребенок</td>\n",
       "      <td>4351</td>\n",
       "      <td>441</td>\n",
       "      <td>9.202838</td>\n",
       "    </tr>\n",
       "    <tr>\n",
       "      <td>многодетные</td>\n",
       "      <td>347</td>\n",
       "      <td>31</td>\n",
       "      <td>8.201058</td>\n",
       "    </tr>\n",
       "    <tr>\n",
       "      <td>без детей</td>\n",
       "      <td>12964</td>\n",
       "      <td>1058</td>\n",
       "      <td>7.545286</td>\n",
       "    </tr>\n",
       "  </tbody>\n",
       "</table>\n",
       "</div>"
      ],
      "text/plain": [
       "debt                   0     1   percent\n",
       "children_category                       \n",
       "два ребенка         1845   194  9.514468\n",
       "один ребенок        4351   441  9.202838\n",
       "многодетные          347    31  8.201058\n",
       "без детей          12964  1058  7.545286"
      ]
     },
     "execution_count": 67,
     "metadata": {},
     "output_type": "execute_result"
    }
   ],
   "source": [
    "pivot_table_children_category = df.pivot_table(index='children_category', columns='debt', values='dob_years', aggfunc='count')\n",
    "pivot_table_children_category['percent'] = pivot_table_children_category[1] / (pivot_table_children_category[0] + pivot_table_children_category[1]) * 100\n",
    "pivot_table_children_category.sort_values(by='percent', ascending=False).head(10)"
   ]
  },
  {
   "cell_type": "markdown",
   "metadata": {},
   "source": [
    "**Вывод**: как мы видим, заемщики без детей реже уходят в просрочку по кредиту — количество просрочек у \"родителей\" больше почти на 2%. Антирекордсмены — замещики с двумя детьмя._(ИМХО: крайне удивлен такими цифрами, предпологал, что клиенты с детьми из-за повышенного чувства ответственности, серьезности, зрелости и т.п. будут лучше выполнять обязательства перед банком. Как оказалось, повышенная нагрузка на бюджет сильнее этих высоких моральных качеств)_"
   ]
  },
  {
   "cell_type": "markdown",
   "metadata": {},
   "source": [
    "<div class=\"alert alert-warning\">\n",
    "<b>⚠️ Комментарий ревьюера:</b>  Я бы не советовала разделять данные на столь узкие категории. Так мы рискуем упустить скрвтве закономерности"
   ]
  },
  {
   "cell_type": "markdown",
   "metadata": {},
   "source": [
    "<div class=\"alert alert-info\"> <b>Комментарий студента:</b> Количество категорий увеличил до 4-х.</div>\n",
    "\n",
    "\n"
   ]
  },
  {
   "cell_type": "markdown",
   "metadata": {},
   "source": [
    "<div class=\"alert alert-success\">\n",
    "<b>✔️ Комментарий ревьюера V2:</b> Верно!"
   ]
  },
  {
   "cell_type": "markdown",
   "metadata": {},
   "source": [
    "- Есть ли зависимость между семейным положением и возвратом кредита в срок?"
   ]
  },
  {
   "cell_type": "markdown",
   "metadata": {},
   "source": [
    "По аналогии с предыдущим вопросом делаем сводную таблицу, только теперь индексами будут значения столбца `'family_status'`"
   ]
  },
  {
   "cell_type": "code",
   "execution_count": 68,
   "metadata": {},
   "outputs": [
    {
     "data": {
      "text/html": [
       "<div>\n",
       "<style scoped>\n",
       "    .dataframe tbody tr th:only-of-type {\n",
       "        vertical-align: middle;\n",
       "    }\n",
       "\n",
       "    .dataframe tbody tr th {\n",
       "        vertical-align: top;\n",
       "    }\n",
       "\n",
       "    .dataframe thead th {\n",
       "        text-align: right;\n",
       "    }\n",
       "</style>\n",
       "<table border=\"1\" class=\"dataframe\">\n",
       "  <thead>\n",
       "    <tr style=\"text-align: right;\">\n",
       "      <th>debt</th>\n",
       "      <th>0</th>\n",
       "      <th>1</th>\n",
       "      <th>percent</th>\n",
       "    </tr>\n",
       "    <tr>\n",
       "      <th>family_status</th>\n",
       "      <th></th>\n",
       "      <th></th>\n",
       "      <th></th>\n",
       "    </tr>\n",
       "  </thead>\n",
       "  <tbody>\n",
       "    <tr>\n",
       "      <td>Не женат / не замужем</td>\n",
       "      <td>2508</td>\n",
       "      <td>272</td>\n",
       "      <td>9.784173</td>\n",
       "    </tr>\n",
       "    <tr>\n",
       "      <td>гражданский брак</td>\n",
       "      <td>3730</td>\n",
       "      <td>383</td>\n",
       "      <td>9.311938</td>\n",
       "    </tr>\n",
       "    <tr>\n",
       "      <td>женат / замужем</td>\n",
       "      <td>11290</td>\n",
       "      <td>923</td>\n",
       "      <td>7.557521</td>\n",
       "    </tr>\n",
       "    <tr>\n",
       "      <td>в разводе</td>\n",
       "      <td>1095</td>\n",
       "      <td>84</td>\n",
       "      <td>7.124682</td>\n",
       "    </tr>\n",
       "    <tr>\n",
       "      <td>вдовец / вдова</td>\n",
       "      <td>884</td>\n",
       "      <td>62</td>\n",
       "      <td>6.553911</td>\n",
       "    </tr>\n",
       "  </tbody>\n",
       "</table>\n",
       "</div>"
      ],
      "text/plain": [
       "debt                       0    1   percent\n",
       "family_status                              \n",
       "Не женат / не замужем   2508  272  9.784173\n",
       "гражданский брак        3730  383  9.311938\n",
       "женат / замужем        11290  923  7.557521\n",
       "в разводе               1095   84  7.124682\n",
       "вдовец / вдова           884   62  6.553911"
      ]
     },
     "execution_count": 68,
     "metadata": {},
     "output_type": "execute_result"
    }
   ],
   "source": [
    "pivot_table_family_category = df.pivot_table(index='family_status', columns='debt', values='children', aggfunc='count')\n",
    "pivot_table_family_category['percent'] = pivot_table_family_category[1] / (pivot_table_family_category[0] + pivot_table_family_category[1]) * 100\n",
    "pivot_table_family_category.sort_values(by='percent', ascending=False).head()"
   ]
  },
  {
   "cell_type": "markdown",
   "metadata": {},
   "source": [
    "**Вывод**: ожидаемо женатые/замужние клиенты реже уходят в просрочку, им же следуют и люди, уже состоявшие в браке (вдовцы/вдовы и разведенные), люди не в браке исполняют обязательства хуже всех. "
   ]
  },
  {
   "cell_type": "markdown",
   "metadata": {},
   "source": [
    "- Есть ли зависимость между уровнем дохода и возвратом кредита в срок?"
   ]
  },
  {
   "cell_type": "code",
   "execution_count": 69,
   "metadata": {
    "scrolled": true
   },
   "outputs": [
    {
     "data": {
      "text/html": [
       "<div>\n",
       "<style scoped>\n",
       "    .dataframe tbody tr th:only-of-type {\n",
       "        vertical-align: middle;\n",
       "    }\n",
       "\n",
       "    .dataframe tbody tr th {\n",
       "        vertical-align: top;\n",
       "    }\n",
       "\n",
       "    .dataframe thead th {\n",
       "        text-align: right;\n",
       "    }\n",
       "</style>\n",
       "<table border=\"1\" class=\"dataframe\">\n",
       "  <thead>\n",
       "    <tr style=\"text-align: right;\">\n",
       "      <th>debt</th>\n",
       "      <th>0</th>\n",
       "      <th>1</th>\n",
       "      <th>percent</th>\n",
       "    </tr>\n",
       "    <tr>\n",
       "      <th>income_category</th>\n",
       "      <th></th>\n",
       "      <th></th>\n",
       "      <th></th>\n",
       "    </tr>\n",
       "  </thead>\n",
       "  <tbody>\n",
       "    <tr>\n",
       "      <td>бедный</td>\n",
       "      <td>16626</td>\n",
       "      <td>1508</td>\n",
       "      <td>8.315871</td>\n",
       "    </tr>\n",
       "    <tr>\n",
       "      <td>состоятельный</td>\n",
       "      <td>49</td>\n",
       "      <td>4</td>\n",
       "      <td>7.547170</td>\n",
       "    </tr>\n",
       "    <tr>\n",
       "      <td>средний класс</td>\n",
       "      <td>2832</td>\n",
       "      <td>212</td>\n",
       "      <td>6.964520</td>\n",
       "    </tr>\n",
       "  </tbody>\n",
       "</table>\n",
       "</div>"
      ],
      "text/plain": [
       "debt                 0     1   percent\n",
       "income_category                       \n",
       "бедный           16626  1508  8.315871\n",
       "состоятельный       49     4  7.547170\n",
       "средний класс     2832   212  6.964520"
      ]
     },
     "execution_count": 69,
     "metadata": {},
     "output_type": "execute_result"
    }
   ],
   "source": [
    "pivot_table_income_category = df.pivot_table(index='income_category', columns='debt', values='dob_years', aggfunc='count')\n",
    "pivot_table_income_category['percent'] = pivot_table_income_category[1] / (pivot_table_income_category[0] + pivot_table_income_category[1]) * 100\n",
    "pivot_table_income_category.sort_values(by='percent', ascending=False).head(10)"
   ]
  },
  {
   "cell_type": "markdown",
   "metadata": {},
   "source": [
    "**Вывод**: бедные клиенты гасят кредиты хуже всего. В этом разрезе можно углубиться и увеличить сегментирование до 10/20/30 групп, чтобы посмотреть процент просрочек среди среднего класса и состоятельных клиентов"
   ]
  },
  {
   "cell_type": "markdown",
   "metadata": {},
   "source": [
    "- Как разные цели кредита влияют на его возврат в срок?"
   ]
  },
  {
   "cell_type": "code",
   "execution_count": 70,
   "metadata": {},
   "outputs": [
    {
     "data": {
      "text/html": [
       "<div>\n",
       "<style scoped>\n",
       "    .dataframe tbody tr th:only-of-type {\n",
       "        vertical-align: middle;\n",
       "    }\n",
       "\n",
       "    .dataframe tbody tr th {\n",
       "        vertical-align: top;\n",
       "    }\n",
       "\n",
       "    .dataframe thead th {\n",
       "        text-align: right;\n",
       "    }\n",
       "</style>\n",
       "<table border=\"1\" class=\"dataframe\">\n",
       "  <thead>\n",
       "    <tr style=\"text-align: right;\">\n",
       "      <th>debt</th>\n",
       "      <th>0</th>\n",
       "      <th>1</th>\n",
       "      <th>percent</th>\n",
       "    </tr>\n",
       "    <tr>\n",
       "      <th>purpose_category</th>\n",
       "      <th></th>\n",
       "      <th></th>\n",
       "      <th></th>\n",
       "    </tr>\n",
       "  </thead>\n",
       "  <tbody>\n",
       "    <tr>\n",
       "      <td>автомобиль</td>\n",
       "      <td>3861</td>\n",
       "      <td>397</td>\n",
       "      <td>9.323626</td>\n",
       "    </tr>\n",
       "    <tr>\n",
       "      <td>образование</td>\n",
       "      <td>3601</td>\n",
       "      <td>369</td>\n",
       "      <td>9.294710</td>\n",
       "    </tr>\n",
       "    <tr>\n",
       "      <td>свадьба</td>\n",
       "      <td>2118</td>\n",
       "      <td>181</td>\n",
       "      <td>7.872988</td>\n",
       "    </tr>\n",
       "    <tr>\n",
       "      <td>недвижимость</td>\n",
       "      <td>9927</td>\n",
       "      <td>777</td>\n",
       "      <td>7.258969</td>\n",
       "    </tr>\n",
       "  </tbody>\n",
       "</table>\n",
       "</div>"
      ],
      "text/plain": [
       "debt                 0    1   percent\n",
       "purpose_category                     \n",
       "автомобиль        3861  397  9.323626\n",
       "образование       3601  369  9.294710\n",
       "свадьба           2118  181  7.872988\n",
       "недвижимость      9927  777  7.258969"
      ]
     },
     "execution_count": 70,
     "metadata": {},
     "output_type": "execute_result"
    }
   ],
   "source": [
    "pivot_table_purpose_category = df.pivot_table(index='purpose_category', columns= 'debt', values='days_employed', aggfunc='count')\n",
    "pivot_table_purpose_category['percent'] = pivot_table_purpose_category[1] / (pivot_table_purpose_category[0] + pivot_table_purpose_category[1]) * 100\n",
    "pivot_table_purpose_category.sort_values(by='percent', ascending=False).head(10)"
   ]
  },
  {
   "cell_type": "markdown",
   "metadata": {},
   "source": [
    "**Вывод**: ожидаемо лучше всего возвращают ипотечные кредиты (жить на улице не хочет никто), на удивление второе место занимают кредиты на свадьбу. Аутсайдером, на удивление (ведь машина находится в залоге и в случае просрока банк может ее изъять), стали автокредиты — их вовзращают хуже всего. "
   ]
  },
  {
   "cell_type": "markdown",
   "metadata": {},
   "source": [
    "<div class=\"alert alert-success\">\n",
    "<b>✔️ Комментарий ревьюера:</b> Все так </div>"
   ]
  },
  {
   "cell_type": "markdown",
   "metadata": {},
   "source": [
    "# Шаг 4. Общий вывод"
   ]
  },
  {
   "cell_type": "markdown",
   "metadata": {},
   "source": [
    "**Качество входных данных**"
   ]
  },
  {
   "cell_type": "markdown",
   "metadata": {},
   "source": [
    "Стоит серьезно обратить внимание на качество входных данных. Обратить внимание на:\n",
    "\n",
    "1. большое (~10%) количество пропусков в `days_employed` и `total_incom`\n",
    "2. единицу измерения по стажу, дни там или часы?\n",
    "3. стаж в отрицательных значениях\n",
    "4. небольшие, менее 1% аномальные значения\n",
    "\n",
    "По пункту 1, 3 и 4 определить источник(и) проблем"
   ]
  },
  {
   "cell_type": "markdown",
   "metadata": {},
   "source": [
    "**Цели и размеры кредита**"
   ]
  },
  {
   "cell_type": "markdown",
   "metadata": {},
   "source": [
    "Уточнить у два момента:\n",
    "1. Размер получаемых заемных средств. Интересными могу показаться зависимости возврата и абсолютного значения полученных денег, а также связь между возвратом займа и его размера относительно дохода заемщика\n",
    "2. Вид кредита. Получение потребительского кредита на покупку автомобиля или для покупки квартиры (такое тоже бывает) — возможный вариант. Иногда для избежания залога автомобиля/квартиры именно так и поступают, оформляя потребкредит. Высокий % невозврата по автокредиту дает этой гипотезе право на жизнь"
   ]
  },
  {
   "cell_type": "markdown",
   "metadata": {},
   "source": [
    "**Результаты исследования**"
   ]
  },
  {
   "cell_type": "markdown",
   "metadata": {},
   "source": [
    "Худшие заемщики это:\n",
    "\n",
    "- люди с детьми, хуже всех — люди с двумя детьми\n",
    "- люди без партнера/живущие в гражданском браке\n",
    "- люди, берущие деньги на покупку автомобиля\n",
    "- люди с низким доходом\n",
    "\n",
    "Кому банкам стоит доверять:\n",
    "    \n",
    "- вдовцам и разведенным\n",
    "- ипотечникам\n",
    "- людям со средним по размеру доходом\n",
    "- людям без детей"
   ]
  },
  {
   "cell_type": "markdown",
   "metadata": {},
   "source": [
    "<div class=\"alert alert-danger\">\n",
    "<b>❌ Комментарий ревьюера:</b> Вывод - это полный отчет о проделанной работе. Он должен содержать все: от обработки данных до рекомендаций заказчику. Давай расширим его!</div>"
   ]
  },
  {
   "cell_type": "markdown",
   "metadata": {},
   "source": [
    "<div class=\"alert alert-info\"> <b>Комментарий студента:</b> Исправил и дополнил.</div>\n",
    "\n",
    "\n"
   ]
  },
  {
   "cell_type": "markdown",
   "metadata": {},
   "source": [
    "<div class=\"alert alert-info\"> <b>Комментарий студента:</b> PS: девушка_с_именем_Саша — это всегда круто!</div>\n",
    "\n",
    "\n"
   ]
  },
  {
   "cell_type": "markdown",
   "metadata": {},
   "source": [
    "<div class=\"alert alert-success\">\n",
    "<b>✔️ Комментарий ревьюера V2:</b> Теперь доволен не только заказчик, но и я:)"
   ]
  },
  {
   "cell_type": "markdown",
   "metadata": {},
   "source": [
    "## Чек-лист готовности проекта\n",
    "\n",
    "Поставьте 'x' в выполненных пунктах. Далее нажмите Shift+Enter."
   ]
  },
  {
   "cell_type": "markdown",
   "metadata": {},
   "source": [
    "- [x]  открыт файл;\n",
    "- [x]  файл изучен;\n",
    "- [x]  определены пропущенные значения;\n",
    "- [x]  заполнены пропущенные значения;\n",
    "- [x]  есть пояснение, какие пропущенные значения обнаружены;\n",
    "- [x]  описаны возможные причины появления пропусков в данных;\n",
    "- [x]  объяснено, по какому принципу заполнены пропуски;\n",
    "- [x]  заменен вещественный тип данных на целочисленный;\n",
    "- [x]  есть пояснение, какой метод используется для изменения типа данных и почему;\n",
    "- [x]  удалены дубликаты;\n",
    "- [x]  есть пояснение, какой метод используется для поиска и удаления дубликатов;\n",
    "- [x]  описаны возможные причины появления дубликатов в данных;\n",
    "- [x]  выделены леммы в значениях столбца с целями получения кредита;\n",
    "- [x]  описан процесс лемматизации;\n",
    "- [x]  данные категоризированы;\n",
    "- [x]  есть объяснение принципа категоризации данных;\n",
    "- [x]  есть ответ на вопрос: \"Есть ли зависимость между наличием детей и возвратом кредита в срок?\";\n",
    "- [x]  есть ответ на вопрос: \"Есть ли зависимость между семейным положением и возвратом кредита в срок?\";\n",
    "- [x]  есть ответ на вопрос: \"Есть ли зависимость между уровнем дохода и возвратом кредита в срок?\";\n",
    "- [x]  есть ответ на вопрос: \"Как разные цели кредита влияют на его возврат в срок?\";\n",
    "- [x]  в каждом этапе есть выводы;\n",
    "- [x]  есть общий вывод."
   ]
  },
  {
   "cell_type": "markdown",
   "metadata": {},
   "source": [
    "<div class=\"alert alert-success\">\n",
    "<b>✔️ Комментарий ревьюера:</b> Спасибо за работу! Проект получился очень хорошим. Давай сделаем его сильнее:\n",
    "        \n",
    "- удалим дубли после полной обработки данных\n",
    "- поработаем с аномалиями, найдем их, посчитаем их долю и поймем, что с ними делать\n",
    "- расширим вывод\n",
    "\n",
    "Оставила направляющие комментарии. Жду твою работу на повторное ревью!\n",
    "</div>"
   ]
  },
  {
   "cell_type": "markdown",
   "metadata": {},
   "source": [
    "<div class=\"alert alert-success\">\n",
    "<b>✔️ Комментарий ревьюера V2:</b> Спасибо за проработку комментариев! Теперь все отлично. Если у тебя возникнут вопросы, смело задавай мне их через куратора. Удачи на следующих этапах!"
   ]
  }
 ],
 "metadata": {
  "ExecuteTimeLog": [
   {
    "duration": 589,
    "start_time": "2022-01-06T16:02:38.455Z"
   },
   {
    "duration": 18,
    "start_time": "2022-01-06T16:04:35.401Z"
   },
   {
    "duration": 3,
    "start_time": "2022-01-06T16:04:46.846Z"
   },
   {
    "duration": 349,
    "start_time": "2022-01-06T16:06:24.730Z"
   },
   {
    "duration": 638,
    "start_time": "2022-01-06T16:06:30.621Z"
   },
   {
    "duration": 7,
    "start_time": "2022-01-06T16:06:33.874Z"
   },
   {
    "duration": 103,
    "start_time": "2022-01-06T16:06:35.289Z"
   },
   {
    "duration": 3,
    "start_time": "2022-01-06T16:06:54.593Z"
   },
   {
    "duration": 14,
    "start_time": "2022-01-06T16:08:35.290Z"
   },
   {
    "duration": 13,
    "start_time": "2022-01-06T16:31:21.464Z"
   },
   {
    "duration": 608,
    "start_time": "2022-01-06T19:04:52.133Z"
   },
   {
    "duration": 8,
    "start_time": "2022-01-06T19:04:52.742Z"
   },
   {
    "duration": 8,
    "start_time": "2022-01-06T19:04:52.751Z"
   },
   {
    "duration": 16,
    "start_time": "2022-01-06T19:04:52.760Z"
   },
   {
    "duration": 12,
    "start_time": "2022-01-06T19:04:52.777Z"
   },
   {
    "duration": 295,
    "start_time": "2022-01-06T19:04:52.791Z"
   },
   {
    "duration": 224,
    "start_time": "2022-01-06T19:07:39.740Z"
   },
   {
    "duration": 17,
    "start_time": "2022-01-06T19:07:50.539Z"
   },
   {
    "duration": 10,
    "start_time": "2022-01-06T19:07:58.604Z"
   },
   {
    "duration": 437,
    "start_time": "2022-01-07T04:06:29.499Z"
   },
   {
    "duration": 876,
    "start_time": "2022-01-07T04:06:37.537Z"
   },
   {
    "duration": 12,
    "start_time": "2022-01-07T04:06:38.416Z"
   },
   {
    "duration": 7,
    "start_time": "2022-01-07T04:06:38.431Z"
   },
   {
    "duration": 28,
    "start_time": "2022-01-07T04:06:38.441Z"
   },
   {
    "duration": 21,
    "start_time": "2022-01-07T04:06:38.471Z"
   },
   {
    "duration": 12,
    "start_time": "2022-01-07T04:06:38.495Z"
   },
   {
    "duration": 19,
    "start_time": "2022-01-07T04:34:47.287Z"
   },
   {
    "duration": 17,
    "start_time": "2022-01-07T05:37:04.596Z"
   },
   {
    "duration": 20,
    "start_time": "2022-01-07T05:40:32.398Z"
   },
   {
    "duration": 10,
    "start_time": "2022-01-07T05:40:50.292Z"
   },
   {
    "duration": 12,
    "start_time": "2022-01-07T05:41:13.073Z"
   },
   {
    "duration": 10,
    "start_time": "2022-01-07T05:41:29.043Z"
   },
   {
    "duration": 8,
    "start_time": "2022-01-07T05:42:21.409Z"
   },
   {
    "duration": 8,
    "start_time": "2022-01-07T05:42:42.284Z"
   },
   {
    "duration": 10,
    "start_time": "2022-01-07T05:57:30.881Z"
   },
   {
    "duration": 10,
    "start_time": "2022-01-07T05:57:39.368Z"
   },
   {
    "duration": 9,
    "start_time": "2022-01-07T06:00:34.711Z"
   },
   {
    "duration": 10,
    "start_time": "2022-01-07T06:09:48.243Z"
   },
   {
    "duration": 131,
    "start_time": "2022-01-07T06:22:02.682Z"
   },
   {
    "duration": 11,
    "start_time": "2022-01-07T06:25:34.921Z"
   },
   {
    "duration": 9,
    "start_time": "2022-01-07T06:27:13.946Z"
   },
   {
    "duration": 279,
    "start_time": "2022-01-07T12:44:02.693Z"
   },
   {
    "duration": 662,
    "start_time": "2022-01-07T12:44:13.450Z"
   },
   {
    "duration": 12,
    "start_time": "2022-01-07T12:44:14.114Z"
   },
   {
    "duration": 5,
    "start_time": "2022-01-07T12:44:14.132Z"
   },
   {
    "duration": 22,
    "start_time": "2022-01-07T12:44:14.139Z"
   },
   {
    "duration": 15,
    "start_time": "2022-01-07T12:44:14.163Z"
   },
   {
    "duration": 14,
    "start_time": "2022-01-07T12:44:14.179Z"
   },
   {
    "duration": 14,
    "start_time": "2022-01-07T12:44:14.194Z"
   },
   {
    "duration": 9,
    "start_time": "2022-01-07T12:44:14.212Z"
   },
   {
    "duration": 21,
    "start_time": "2022-01-07T12:44:14.223Z"
   },
   {
    "duration": 10,
    "start_time": "2022-01-07T12:44:14.261Z"
   },
   {
    "duration": 12,
    "start_time": "2022-01-07T12:44:14.273Z"
   },
   {
    "duration": 9,
    "start_time": "2022-01-07T12:44:14.287Z"
   },
   {
    "duration": 13,
    "start_time": "2022-01-07T12:44:14.298Z"
   },
   {
    "duration": 15,
    "start_time": "2022-01-07T12:44:14.313Z"
   },
   {
    "duration": 13,
    "start_time": "2022-01-07T12:44:14.330Z"
   },
   {
    "duration": 19,
    "start_time": "2022-01-07T12:44:14.345Z"
   },
   {
    "duration": 6,
    "start_time": "2022-01-07T12:44:30.367Z"
   },
   {
    "duration": 83,
    "start_time": "2022-01-07T12:45:20.305Z"
   },
   {
    "duration": 5,
    "start_time": "2022-01-07T12:45:31.701Z"
   },
   {
    "duration": 299,
    "start_time": "2022-01-07T12:45:39.258Z"
   },
   {
    "duration": 267,
    "start_time": "2022-01-07T12:47:27.889Z"
   },
   {
    "duration": 7,
    "start_time": "2022-01-07T12:54:14.527Z"
   },
   {
    "duration": 9,
    "start_time": "2022-01-07T12:54:27.988Z"
   },
   {
    "duration": 258,
    "start_time": "2022-01-07T13:37:57.881Z"
   },
   {
    "duration": 261,
    "start_time": "2022-01-07T13:38:25.854Z"
   },
   {
    "duration": 8,
    "start_time": "2022-01-07T13:38:39.762Z"
   },
   {
    "duration": 9,
    "start_time": "2022-01-07T13:39:09.988Z"
   },
   {
    "duration": 6,
    "start_time": "2022-01-07T13:39:27.424Z"
   },
   {
    "duration": 228,
    "start_time": "2022-01-07T13:39:36.336Z"
   },
   {
    "duration": 6,
    "start_time": "2022-01-07T13:46:11.425Z"
   },
   {
    "duration": 231,
    "start_time": "2022-01-07T13:46:23.447Z"
   },
   {
    "duration": 2,
    "start_time": "2022-01-07T13:57:26.993Z"
   },
   {
    "duration": 3,
    "start_time": "2022-01-07T13:57:30.229Z"
   },
   {
    "duration": 2323,
    "start_time": "2022-01-07T13:59:18.358Z"
   },
   {
    "duration": 614,
    "start_time": "2022-01-07T13:59:32.094Z"
   },
   {
    "duration": 9,
    "start_time": "2022-01-07T13:59:32.710Z"
   },
   {
    "duration": 5,
    "start_time": "2022-01-07T13:59:32.722Z"
   },
   {
    "duration": 32,
    "start_time": "2022-01-07T13:59:32.729Z"
   },
   {
    "duration": 14,
    "start_time": "2022-01-07T13:59:32.763Z"
   },
   {
    "duration": 18,
    "start_time": "2022-01-07T13:59:32.779Z"
   },
   {
    "duration": 17,
    "start_time": "2022-01-07T13:59:32.799Z"
   },
   {
    "duration": 10,
    "start_time": "2022-01-07T13:59:32.818Z"
   },
   {
    "duration": 26,
    "start_time": "2022-01-07T13:59:32.831Z"
   },
   {
    "duration": 18,
    "start_time": "2022-01-07T13:59:32.859Z"
   },
   {
    "duration": 20,
    "start_time": "2022-01-07T13:59:32.879Z"
   },
   {
    "duration": 21,
    "start_time": "2022-01-07T13:59:32.900Z"
   },
   {
    "duration": 12,
    "start_time": "2022-01-07T13:59:32.923Z"
   },
   {
    "duration": 12,
    "start_time": "2022-01-07T13:59:32.937Z"
   },
   {
    "duration": 26,
    "start_time": "2022-01-07T13:59:32.950Z"
   },
   {
    "duration": 2372,
    "start_time": "2022-01-07T13:59:32.977Z"
   },
   {
    "duration": 337,
    "start_time": "2022-01-07T14:00:09.705Z"
   },
   {
    "duration": 276,
    "start_time": "2022-01-07T14:03:50.321Z"
   },
   {
    "duration": 659,
    "start_time": "2022-01-07T14:06:32.354Z"
   },
   {
    "duration": 10,
    "start_time": "2022-01-07T14:06:33.015Z"
   },
   {
    "duration": 6,
    "start_time": "2022-01-07T14:06:33.027Z"
   },
   {
    "duration": 17,
    "start_time": "2022-01-07T14:06:33.036Z"
   },
   {
    "duration": 14,
    "start_time": "2022-01-07T14:06:33.060Z"
   },
   {
    "duration": 13,
    "start_time": "2022-01-07T14:06:33.076Z"
   },
   {
    "duration": 9,
    "start_time": "2022-01-07T14:06:33.091Z"
   },
   {
    "duration": 10,
    "start_time": "2022-01-07T14:06:33.102Z"
   },
   {
    "duration": 8,
    "start_time": "2022-01-07T14:06:33.114Z"
   },
   {
    "duration": 39,
    "start_time": "2022-01-07T14:06:33.124Z"
   },
   {
    "duration": 7,
    "start_time": "2022-01-07T14:06:33.165Z"
   },
   {
    "duration": 10,
    "start_time": "2022-01-07T14:06:33.174Z"
   },
   {
    "duration": 12,
    "start_time": "2022-01-07T14:06:33.185Z"
   },
   {
    "duration": 10,
    "start_time": "2022-01-07T14:06:33.199Z"
   },
   {
    "duration": 15,
    "start_time": "2022-01-07T14:06:33.211Z"
   },
   {
    "duration": 388,
    "start_time": "2022-01-07T14:06:33.228Z"
   },
   {
    "duration": 6,
    "start_time": "2022-01-07T14:08:26.985Z"
   },
   {
    "duration": 5,
    "start_time": "2022-01-07T14:08:45.568Z"
   },
   {
    "duration": 267,
    "start_time": "2022-01-07T14:17:03.195Z"
   },
   {
    "duration": 8,
    "start_time": "2022-01-07T14:19:52.900Z"
   },
   {
    "duration": 271,
    "start_time": "2022-01-07T14:20:06.532Z"
   },
   {
    "duration": 309,
    "start_time": "2022-01-07T14:23:00.820Z"
   },
   {
    "duration": 4,
    "start_time": "2022-01-07T14:27:22.484Z"
   },
   {
    "duration": 13,
    "start_time": "2022-01-07T14:29:41.607Z"
   },
   {
    "duration": 15,
    "start_time": "2022-01-07T14:30:02.352Z"
   },
   {
    "duration": 278,
    "start_time": "2022-01-07T14:30:32.555Z"
   },
   {
    "duration": 13,
    "start_time": "2022-01-07T14:34:19.068Z"
   },
   {
    "duration": 649,
    "start_time": "2022-01-07T14:35:10.641Z"
   },
   {
    "duration": 8,
    "start_time": "2022-01-07T14:35:11.292Z"
   },
   {
    "duration": 6,
    "start_time": "2022-01-07T14:35:11.302Z"
   },
   {
    "duration": 13,
    "start_time": "2022-01-07T14:35:11.309Z"
   },
   {
    "duration": 13,
    "start_time": "2022-01-07T14:35:11.324Z"
   },
   {
    "duration": 31,
    "start_time": "2022-01-07T14:35:11.339Z"
   },
   {
    "duration": 8,
    "start_time": "2022-01-07T14:35:11.372Z"
   },
   {
    "duration": 11,
    "start_time": "2022-01-07T14:35:11.382Z"
   },
   {
    "duration": 14,
    "start_time": "2022-01-07T14:35:11.395Z"
   },
   {
    "duration": 10,
    "start_time": "2022-01-07T14:35:11.410Z"
   },
   {
    "duration": 12,
    "start_time": "2022-01-07T14:35:11.422Z"
   },
   {
    "duration": 6,
    "start_time": "2022-01-07T14:35:11.435Z"
   },
   {
    "duration": 23,
    "start_time": "2022-01-07T14:35:11.442Z"
   },
   {
    "duration": 9,
    "start_time": "2022-01-07T14:35:11.467Z"
   },
   {
    "duration": 14,
    "start_time": "2022-01-07T14:35:11.478Z"
   },
   {
    "duration": 4,
    "start_time": "2022-01-07T14:35:11.494Z"
   },
   {
    "duration": 6,
    "start_time": "2022-01-07T14:35:11.499Z"
   },
   {
    "duration": 12,
    "start_time": "2022-01-07T14:35:11.507Z"
   },
   {
    "duration": 313,
    "start_time": "2022-01-07T14:35:11.520Z"
   },
   {
    "duration": 2,
    "start_time": "2022-01-07T14:39:49.447Z"
   },
   {
    "duration": 7,
    "start_time": "2022-01-07T14:40:17.397Z"
   },
   {
    "duration": 7,
    "start_time": "2022-01-07T14:40:25.059Z"
   },
   {
    "duration": 13,
    "start_time": "2022-01-07T14:41:09.259Z"
   },
   {
    "duration": 4,
    "start_time": "2022-01-07T14:41:18.690Z"
   },
   {
    "duration": 4,
    "start_time": "2022-01-07T14:59:45.710Z"
   },
   {
    "duration": 15,
    "start_time": "2022-01-07T15:00:22.613Z"
   },
   {
    "duration": 5,
    "start_time": "2022-01-07T15:03:14.709Z"
   },
   {
    "duration": 4,
    "start_time": "2022-01-07T15:03:49.572Z"
   },
   {
    "duration": 8,
    "start_time": "2022-01-07T15:05:29.706Z"
   },
   {
    "duration": 5,
    "start_time": "2022-01-07T15:08:56.701Z"
   },
   {
    "duration": 26,
    "start_time": "2022-01-07T15:21:20.129Z"
   },
   {
    "duration": 19,
    "start_time": "2022-01-07T15:21:30.662Z"
   },
   {
    "duration": 5,
    "start_time": "2022-01-07T15:41:20.195Z"
   },
   {
    "duration": 73,
    "start_time": "2022-01-07T16:52:07.721Z"
   },
   {
    "duration": 7,
    "start_time": "2022-01-07T16:58:51.050Z"
   },
   {
    "duration": 6,
    "start_time": "2022-01-07T16:59:22.307Z"
   },
   {
    "duration": 7,
    "start_time": "2022-01-07T16:59:29.012Z"
   },
   {
    "duration": 7,
    "start_time": "2022-01-07T16:59:35.232Z"
   },
   {
    "duration": 7,
    "start_time": "2022-01-07T16:59:44.741Z"
   },
   {
    "duration": 7,
    "start_time": "2022-01-07T16:59:48.176Z"
   },
   {
    "duration": 8,
    "start_time": "2022-01-07T16:59:55.639Z"
   },
   {
    "duration": 5,
    "start_time": "2022-01-07T17:00:11.334Z"
   },
   {
    "duration": 6,
    "start_time": "2022-01-07T17:00:17.653Z"
   },
   {
    "duration": 5,
    "start_time": "2022-01-07T17:00:23.342Z"
   },
   {
    "duration": 6,
    "start_time": "2022-01-07T17:00:28.585Z"
   },
   {
    "duration": 7,
    "start_time": "2022-01-07T17:00:36.296Z"
   },
   {
    "duration": 6,
    "start_time": "2022-01-07T17:23:42.980Z"
   },
   {
    "duration": 7,
    "start_time": "2022-01-07T17:23:56.714Z"
   },
   {
    "duration": 22,
    "start_time": "2022-01-07T17:24:30.091Z"
   },
   {
    "duration": 21,
    "start_time": "2022-01-07T17:24:56.654Z"
   },
   {
    "duration": 87,
    "start_time": "2022-01-07T18:11:37.638Z"
   },
   {
    "duration": 10,
    "start_time": "2022-01-07T18:11:53.424Z"
   },
   {
    "duration": 8,
    "start_time": "2022-01-07T18:15:57.139Z"
   },
   {
    "duration": 4,
    "start_time": "2022-01-07T18:16:58.391Z"
   },
   {
    "duration": 9,
    "start_time": "2022-01-07T18:17:57.292Z"
   },
   {
    "duration": 8,
    "start_time": "2022-01-07T18:19:54.305Z"
   },
   {
    "duration": 8,
    "start_time": "2022-01-07T18:20:02.584Z"
   },
   {
    "duration": 10,
    "start_time": "2022-01-07T18:20:11.833Z"
   },
   {
    "duration": 8,
    "start_time": "2022-01-07T18:20:16.145Z"
   },
   {
    "duration": 9,
    "start_time": "2022-01-07T18:20:20.828Z"
   },
   {
    "duration": 7,
    "start_time": "2022-01-07T18:24:22.803Z"
   },
   {
    "duration": 7,
    "start_time": "2022-01-07T18:27:51.957Z"
   },
   {
    "duration": 19,
    "start_time": "2022-01-07T18:28:21.726Z"
   },
   {
    "duration": 15,
    "start_time": "2022-01-07T18:28:26.401Z"
   },
   {
    "duration": 290,
    "start_time": "2022-01-08T05:40:20.800Z"
   },
   {
    "duration": 703,
    "start_time": "2022-01-08T05:40:29.484Z"
   },
   {
    "duration": 9,
    "start_time": "2022-01-08T05:40:30.190Z"
   },
   {
    "duration": 13,
    "start_time": "2022-01-08T05:40:30.201Z"
   },
   {
    "duration": 24,
    "start_time": "2022-01-08T05:40:30.216Z"
   },
   {
    "duration": 17,
    "start_time": "2022-01-08T05:40:30.242Z"
   },
   {
    "duration": 12,
    "start_time": "2022-01-08T05:40:30.261Z"
   },
   {
    "duration": 13,
    "start_time": "2022-01-08T05:40:30.276Z"
   },
   {
    "duration": 10,
    "start_time": "2022-01-08T05:40:30.291Z"
   },
   {
    "duration": 16,
    "start_time": "2022-01-08T05:40:30.304Z"
   },
   {
    "duration": 7,
    "start_time": "2022-01-08T05:40:30.322Z"
   },
   {
    "duration": 6,
    "start_time": "2022-01-08T05:40:30.331Z"
   },
   {
    "duration": 36,
    "start_time": "2022-01-08T05:40:30.339Z"
   },
   {
    "duration": 10,
    "start_time": "2022-01-08T05:40:30.377Z"
   },
   {
    "duration": 11,
    "start_time": "2022-01-08T05:40:30.389Z"
   },
   {
    "duration": 17,
    "start_time": "2022-01-08T05:40:30.402Z"
   },
   {
    "duration": 23,
    "start_time": "2022-01-08T05:40:30.421Z"
   },
   {
    "duration": 24,
    "start_time": "2022-01-08T05:40:30.446Z"
   },
   {
    "duration": 29,
    "start_time": "2022-01-08T05:40:30.471Z"
   },
   {
    "duration": 14,
    "start_time": "2022-01-08T05:40:30.502Z"
   },
   {
    "duration": 10,
    "start_time": "2022-01-08T05:40:30.518Z"
   },
   {
    "duration": 7,
    "start_time": "2022-01-08T05:40:30.529Z"
   },
   {
    "duration": 23,
    "start_time": "2022-01-08T05:40:30.537Z"
   },
   {
    "duration": 9,
    "start_time": "2022-01-08T05:40:30.562Z"
   },
   {
    "duration": 11,
    "start_time": "2022-01-08T05:40:30.573Z"
   },
   {
    "duration": 10,
    "start_time": "2022-01-08T05:40:30.586Z"
   },
   {
    "duration": 11,
    "start_time": "2022-01-08T05:40:30.598Z"
   },
   {
    "duration": 4,
    "start_time": "2022-01-08T05:40:30.613Z"
   },
   {
    "duration": 5,
    "start_time": "2022-01-08T05:44:51.313Z"
   },
   {
    "duration": 5,
    "start_time": "2022-01-08T05:46:11.297Z"
   },
   {
    "duration": 4,
    "start_time": "2022-01-08T05:46:32.727Z"
   },
   {
    "duration": 4,
    "start_time": "2022-01-08T05:46:54.772Z"
   },
   {
    "duration": 100,
    "start_time": "2022-01-08T05:49:33.617Z"
   },
   {
    "duration": 7,
    "start_time": "2022-01-08T05:49:46.066Z"
   },
   {
    "duration": 6,
    "start_time": "2022-01-08T05:58:51.336Z"
   },
   {
    "duration": 6,
    "start_time": "2022-01-08T06:07:49.057Z"
   },
   {
    "duration": 2,
    "start_time": "2022-01-08T06:24:06.345Z"
   },
   {
    "duration": 3,
    "start_time": "2022-01-08T06:24:42.392Z"
   },
   {
    "duration": 7,
    "start_time": "2022-01-08T06:28:43.983Z"
   },
   {
    "duration": 6,
    "start_time": "2022-01-08T06:29:04.321Z"
   },
   {
    "duration": 6,
    "start_time": "2022-01-08T06:29:24.979Z"
   },
   {
    "duration": 438,
    "start_time": "2022-01-08T06:30:06.556Z"
   },
   {
    "duration": 7,
    "start_time": "2022-01-08T06:31:07.176Z"
   },
   {
    "duration": 7,
    "start_time": "2022-01-08T06:32:39.044Z"
   },
   {
    "duration": 7,
    "start_time": "2022-01-08T06:32:45.475Z"
   },
   {
    "duration": 7,
    "start_time": "2022-01-08T06:32:47.757Z"
   },
   {
    "duration": 9,
    "start_time": "2022-01-08T06:33:29.728Z"
   },
   {
    "duration": 687,
    "start_time": "2022-01-08T06:33:43.323Z"
   },
   {
    "duration": 8,
    "start_time": "2022-01-08T06:33:44.012Z"
   },
   {
    "duration": 5,
    "start_time": "2022-01-08T06:33:44.022Z"
   },
   {
    "duration": 11,
    "start_time": "2022-01-08T06:33:44.029Z"
   },
   {
    "duration": 22,
    "start_time": "2022-01-08T06:33:44.042Z"
   },
   {
    "duration": 13,
    "start_time": "2022-01-08T06:33:44.067Z"
   },
   {
    "duration": 10,
    "start_time": "2022-01-08T06:33:44.082Z"
   },
   {
    "duration": 8,
    "start_time": "2022-01-08T06:33:44.094Z"
   },
   {
    "duration": 9,
    "start_time": "2022-01-08T06:33:44.106Z"
   },
   {
    "duration": 44,
    "start_time": "2022-01-08T06:33:44.117Z"
   },
   {
    "duration": 11,
    "start_time": "2022-01-08T06:33:44.163Z"
   },
   {
    "duration": 10,
    "start_time": "2022-01-08T06:33:44.175Z"
   },
   {
    "duration": 15,
    "start_time": "2022-01-08T06:33:44.187Z"
   },
   {
    "duration": 8,
    "start_time": "2022-01-08T06:33:44.204Z"
   },
   {
    "duration": 11,
    "start_time": "2022-01-08T06:33:44.214Z"
   },
   {
    "duration": 13,
    "start_time": "2022-01-08T06:33:44.226Z"
   },
   {
    "duration": 33,
    "start_time": "2022-01-08T06:33:44.241Z"
   },
   {
    "duration": 13,
    "start_time": "2022-01-08T06:33:44.275Z"
   },
   {
    "duration": 7,
    "start_time": "2022-01-08T06:33:44.289Z"
   },
   {
    "duration": 8,
    "start_time": "2022-01-08T06:33:44.297Z"
   },
   {
    "duration": 4,
    "start_time": "2022-01-08T06:33:44.306Z"
   },
   {
    "duration": 51,
    "start_time": "2022-01-08T06:33:44.311Z"
   },
   {
    "duration": 8,
    "start_time": "2022-01-08T06:33:44.363Z"
   },
   {
    "duration": 8,
    "start_time": "2022-01-08T06:33:44.373Z"
   },
   {
    "duration": 7,
    "start_time": "2022-01-08T06:33:44.383Z"
   },
   {
    "duration": 9,
    "start_time": "2022-01-08T06:33:44.391Z"
   },
   {
    "duration": 3,
    "start_time": "2022-01-08T06:33:44.403Z"
   },
   {
    "duration": 5,
    "start_time": "2022-01-08T06:33:44.408Z"
   },
   {
    "duration": 4,
    "start_time": "2022-01-08T06:33:44.415Z"
   },
   {
    "duration": 43,
    "start_time": "2022-01-08T06:33:44.421Z"
   },
   {
    "duration": 9,
    "start_time": "2022-01-08T06:33:44.465Z"
   },
   {
    "duration": 9,
    "start_time": "2022-01-08T06:33:44.476Z"
   },
   {
    "duration": 12,
    "start_time": "2022-01-08T06:33:44.486Z"
   },
   {
    "duration": 7,
    "start_time": "2022-01-08T06:33:44.500Z"
   },
   {
    "duration": 5,
    "start_time": "2022-01-08T06:33:44.508Z"
   },
   {
    "duration": 7,
    "start_time": "2022-01-08T06:34:31.356Z"
   },
   {
    "duration": 6,
    "start_time": "2022-01-08T06:34:34.392Z"
   },
   {
    "duration": 6,
    "start_time": "2022-01-08T06:36:56.969Z"
   },
   {
    "duration": 6,
    "start_time": "2022-01-08T06:36:59.170Z"
   },
   {
    "duration": 5,
    "start_time": "2022-01-08T06:37:35.772Z"
   },
   {
    "duration": 5,
    "start_time": "2022-01-08T06:37:42.468Z"
   },
   {
    "duration": 5,
    "start_time": "2022-01-08T06:37:57.358Z"
   },
   {
    "duration": 9,
    "start_time": "2022-01-08T06:38:16.234Z"
   },
   {
    "duration": 4,
    "start_time": "2022-01-08T06:38:57.314Z"
   },
   {
    "duration": 7,
    "start_time": "2022-01-08T06:39:20.399Z"
   },
   {
    "duration": 6,
    "start_time": "2022-01-08T06:39:41.068Z"
   },
   {
    "duration": 4,
    "start_time": "2022-01-08T06:40:33.968Z"
   },
   {
    "duration": 5,
    "start_time": "2022-01-08T06:40:50.772Z"
   },
   {
    "duration": 4,
    "start_time": "2022-01-08T06:41:06.587Z"
   },
   {
    "duration": 4,
    "start_time": "2022-01-08T06:41:49.475Z"
   },
   {
    "duration": 8,
    "start_time": "2022-01-08T06:41:50.705Z"
   },
   {
    "duration": 6,
    "start_time": "2022-01-08T06:41:52.350Z"
   },
   {
    "duration": 3,
    "start_time": "2022-01-08T06:42:02.850Z"
   },
   {
    "duration": 6,
    "start_time": "2022-01-08T06:42:03.951Z"
   },
   {
    "duration": 5,
    "start_time": "2022-01-08T06:42:40.116Z"
   },
   {
    "duration": 5,
    "start_time": "2022-01-08T06:44:24.987Z"
   },
   {
    "duration": 5,
    "start_time": "2022-01-08T06:44:27.900Z"
   },
   {
    "duration": 5,
    "start_time": "2022-01-08T07:44:56.800Z"
   },
   {
    "duration": 5,
    "start_time": "2022-01-08T07:45:04.433Z"
   },
   {
    "duration": 8,
    "start_time": "2022-01-08T07:50:55.550Z"
   },
   {
    "duration": 6,
    "start_time": "2022-01-08T07:52:45.317Z"
   },
   {
    "duration": 3,
    "start_time": "2022-01-08T08:06:22.826Z"
   },
   {
    "duration": 6,
    "start_time": "2022-01-08T08:06:40.624Z"
   },
   {
    "duration": 7,
    "start_time": "2022-01-08T08:31:49.539Z"
   },
   {
    "duration": 7,
    "start_time": "2022-01-08T08:33:08.267Z"
   },
   {
    "duration": 7,
    "start_time": "2022-01-08T08:33:44.325Z"
   },
   {
    "duration": 7,
    "start_time": "2022-01-08T08:47:50.553Z"
   },
   {
    "duration": 6,
    "start_time": "2022-01-08T08:48:02.018Z"
   },
   {
    "duration": 279,
    "start_time": "2022-01-08T12:31:57.648Z"
   },
   {
    "duration": 629,
    "start_time": "2022-01-08T12:32:10.167Z"
   },
   {
    "duration": 10,
    "start_time": "2022-01-08T12:32:10.798Z"
   },
   {
    "duration": 5,
    "start_time": "2022-01-08T12:32:10.813Z"
   },
   {
    "duration": 13,
    "start_time": "2022-01-08T12:32:10.819Z"
   },
   {
    "duration": 14,
    "start_time": "2022-01-08T12:32:10.834Z"
   },
   {
    "duration": 49,
    "start_time": "2022-01-08T12:32:10.850Z"
   },
   {
    "duration": 8,
    "start_time": "2022-01-08T12:32:10.901Z"
   },
   {
    "duration": 6,
    "start_time": "2022-01-08T12:32:10.913Z"
   },
   {
    "duration": 8,
    "start_time": "2022-01-08T12:32:10.922Z"
   },
   {
    "duration": 8,
    "start_time": "2022-01-08T12:32:10.932Z"
   },
   {
    "duration": 6,
    "start_time": "2022-01-08T12:32:10.942Z"
   },
   {
    "duration": 7,
    "start_time": "2022-01-08T12:32:10.992Z"
   },
   {
    "duration": 8,
    "start_time": "2022-01-08T12:32:11.001Z"
   },
   {
    "duration": 8,
    "start_time": "2022-01-08T12:32:11.011Z"
   },
   {
    "duration": 11,
    "start_time": "2022-01-08T12:32:11.021Z"
   },
   {
    "duration": 12,
    "start_time": "2022-01-08T12:32:11.033Z"
   },
   {
    "duration": 46,
    "start_time": "2022-01-08T12:32:11.046Z"
   },
   {
    "duration": 14,
    "start_time": "2022-01-08T12:32:11.094Z"
   },
   {
    "duration": 5,
    "start_time": "2022-01-08T12:32:11.110Z"
   },
   {
    "duration": 5,
    "start_time": "2022-01-08T12:32:11.117Z"
   },
   {
    "duration": 5,
    "start_time": "2022-01-08T12:32:11.123Z"
   },
   {
    "duration": 17,
    "start_time": "2022-01-08T12:32:11.130Z"
   },
   {
    "duration": 48,
    "start_time": "2022-01-08T12:32:11.148Z"
   },
   {
    "duration": 8,
    "start_time": "2022-01-08T12:32:11.198Z"
   },
   {
    "duration": 7,
    "start_time": "2022-01-08T12:32:11.207Z"
   },
   {
    "duration": 8,
    "start_time": "2022-01-08T12:32:11.217Z"
   },
   {
    "duration": 4,
    "start_time": "2022-01-08T12:32:11.227Z"
   },
   {
    "duration": 5,
    "start_time": "2022-01-08T12:32:11.232Z"
   },
   {
    "duration": 5,
    "start_time": "2022-01-08T12:32:11.238Z"
   },
   {
    "duration": 47,
    "start_time": "2022-01-08T12:32:11.245Z"
   },
   {
    "duration": 6,
    "start_time": "2022-01-08T12:32:11.294Z"
   },
   {
    "duration": 6,
    "start_time": "2022-01-08T12:32:11.302Z"
   },
   {
    "duration": 6,
    "start_time": "2022-01-08T12:32:11.310Z"
   },
   {
    "duration": 7,
    "start_time": "2022-01-08T12:32:11.317Z"
   },
   {
    "duration": 3,
    "start_time": "2022-01-08T12:32:11.325Z"
   },
   {
    "duration": 7,
    "start_time": "2022-01-08T12:32:11.330Z"
   },
   {
    "duration": 10,
    "start_time": "2022-01-08T12:32:11.338Z"
   },
   {
    "duration": 11,
    "start_time": "2022-01-08T12:32:11.350Z"
   },
   {
    "duration": 8,
    "start_time": "2022-01-08T12:32:11.392Z"
   },
   {
    "duration": 8,
    "start_time": "2022-01-08T12:32:11.401Z"
   },
   {
    "duration": 243,
    "start_time": "2022-01-08T12:32:11.411Z"
   },
   {
    "duration": 15,
    "start_time": "2022-01-08T12:32:20.885Z"
   },
   {
    "duration": 27,
    "start_time": "2022-01-08T12:51:47.615Z"
   },
   {
    "duration": 29,
    "start_time": "2022-01-08T12:51:55.945Z"
   },
   {
    "duration": 16,
    "start_time": "2022-01-08T12:52:05.400Z"
   },
   {
    "duration": 554,
    "start_time": "2022-01-08T12:52:15.048Z"
   },
   {
    "duration": 9,
    "start_time": "2022-01-08T12:52:15.604Z"
   },
   {
    "duration": 7,
    "start_time": "2022-01-08T12:52:15.615Z"
   },
   {
    "duration": 11,
    "start_time": "2022-01-08T12:52:15.624Z"
   },
   {
    "duration": 14,
    "start_time": "2022-01-08T12:52:15.637Z"
   },
   {
    "duration": 12,
    "start_time": "2022-01-08T12:52:15.652Z"
   },
   {
    "duration": 31,
    "start_time": "2022-01-08T12:52:15.666Z"
   },
   {
    "duration": 7,
    "start_time": "2022-01-08T12:52:15.700Z"
   },
   {
    "duration": 11,
    "start_time": "2022-01-08T12:52:15.710Z"
   },
   {
    "duration": 10,
    "start_time": "2022-01-08T12:52:15.724Z"
   },
   {
    "duration": 7,
    "start_time": "2022-01-08T12:52:15.736Z"
   },
   {
    "duration": 7,
    "start_time": "2022-01-08T12:52:15.745Z"
   },
   {
    "duration": 8,
    "start_time": "2022-01-08T12:52:15.792Z"
   },
   {
    "duration": 9,
    "start_time": "2022-01-08T12:52:15.802Z"
   },
   {
    "duration": 11,
    "start_time": "2022-01-08T12:52:15.813Z"
   },
   {
    "duration": 14,
    "start_time": "2022-01-08T12:52:15.826Z"
   },
   {
    "duration": 51,
    "start_time": "2022-01-08T12:52:15.842Z"
   },
   {
    "duration": 14,
    "start_time": "2022-01-08T12:52:15.895Z"
   },
   {
    "duration": 5,
    "start_time": "2022-01-08T12:52:15.911Z"
   },
   {
    "duration": 5,
    "start_time": "2022-01-08T12:52:15.918Z"
   },
   {
    "duration": 5,
    "start_time": "2022-01-08T12:52:15.925Z"
   },
   {
    "duration": 60,
    "start_time": "2022-01-08T12:52:15.932Z"
   },
   {
    "duration": 8,
    "start_time": "2022-01-08T12:52:15.996Z"
   },
   {
    "duration": 8,
    "start_time": "2022-01-08T12:52:16.006Z"
   },
   {
    "duration": 6,
    "start_time": "2022-01-08T12:52:16.016Z"
   },
   {
    "duration": 9,
    "start_time": "2022-01-08T12:52:16.023Z"
   },
   {
    "duration": 4,
    "start_time": "2022-01-08T12:52:16.033Z"
   },
   {
    "duration": 6,
    "start_time": "2022-01-08T12:52:16.038Z"
   },
   {
    "duration": 47,
    "start_time": "2022-01-08T12:52:16.045Z"
   },
   {
    "duration": 4,
    "start_time": "2022-01-08T12:52:16.094Z"
   },
   {
    "duration": 7,
    "start_time": "2022-01-08T12:52:16.099Z"
   },
   {
    "duration": 6,
    "start_time": "2022-01-08T12:52:16.108Z"
   },
   {
    "duration": 7,
    "start_time": "2022-01-08T12:52:16.116Z"
   },
   {
    "duration": 7,
    "start_time": "2022-01-08T12:52:16.124Z"
   },
   {
    "duration": 4,
    "start_time": "2022-01-08T12:52:16.132Z"
   },
   {
    "duration": 6,
    "start_time": "2022-01-08T12:52:16.138Z"
   },
   {
    "duration": 8,
    "start_time": "2022-01-08T12:52:16.191Z"
   },
   {
    "duration": 11,
    "start_time": "2022-01-08T12:52:16.201Z"
   },
   {
    "duration": 7,
    "start_time": "2022-01-08T12:52:16.214Z"
   },
   {
    "duration": 5,
    "start_time": "2022-01-08T12:52:16.223Z"
   },
   {
    "duration": 17,
    "start_time": "2022-01-08T12:52:16.229Z"
   },
   {
    "duration": 17,
    "start_time": "2022-01-08T12:52:25.576Z"
   },
   {
    "duration": 20,
    "start_time": "2022-01-08T13:17:10.057Z"
   },
   {
    "duration": 2,
    "start_time": "2022-01-08T13:17:33.780Z"
   },
   {
    "duration": 16,
    "start_time": "2022-01-08T13:17:41.729Z"
   },
   {
    "duration": 11,
    "start_time": "2022-01-08T14:02:59.437Z"
   },
   {
    "duration": 8,
    "start_time": "2022-01-08T14:03:23.018Z"
   },
   {
    "duration": 65,
    "start_time": "2022-01-08T14:04:01.412Z"
   },
   {
    "duration": 728,
    "start_time": "2022-01-08T17:39:08.495Z"
   },
   {
    "duration": 842,
    "start_time": "2022-01-08T17:39:16.578Z"
   },
   {
    "duration": 12,
    "start_time": "2022-01-08T17:39:17.422Z"
   },
   {
    "duration": 8,
    "start_time": "2022-01-08T17:39:17.438Z"
   },
   {
    "duration": 18,
    "start_time": "2022-01-08T17:39:17.450Z"
   },
   {
    "duration": 19,
    "start_time": "2022-01-08T17:39:17.470Z"
   },
   {
    "duration": 19,
    "start_time": "2022-01-08T17:39:17.524Z"
   },
   {
    "duration": 11,
    "start_time": "2022-01-08T17:39:17.545Z"
   },
   {
    "duration": 11,
    "start_time": "2022-01-08T17:39:17.561Z"
   },
   {
    "duration": 48,
    "start_time": "2022-01-08T17:39:17.576Z"
   },
   {
    "duration": 18,
    "start_time": "2022-01-08T17:39:17.626Z"
   },
   {
    "duration": 7,
    "start_time": "2022-01-08T17:39:17.646Z"
   },
   {
    "duration": 12,
    "start_time": "2022-01-08T17:39:17.656Z"
   },
   {
    "duration": 10,
    "start_time": "2022-01-08T17:39:17.670Z"
   },
   {
    "duration": 42,
    "start_time": "2022-01-08T17:39:17.682Z"
   },
   {
    "duration": 15,
    "start_time": "2022-01-08T17:39:17.727Z"
   },
   {
    "duration": 19,
    "start_time": "2022-01-08T17:39:17.744Z"
   },
   {
    "duration": 19,
    "start_time": "2022-01-08T17:39:17.765Z"
   },
   {
    "duration": 54,
    "start_time": "2022-01-08T17:39:17.786Z"
   },
   {
    "duration": 11,
    "start_time": "2022-01-08T17:39:17.843Z"
   },
   {
    "duration": 6,
    "start_time": "2022-01-08T17:39:17.857Z"
   },
   {
    "duration": 5,
    "start_time": "2022-01-08T17:39:17.867Z"
   },
   {
    "duration": 63,
    "start_time": "2022-01-08T17:39:17.875Z"
   },
   {
    "duration": 10,
    "start_time": "2022-01-08T17:39:17.944Z"
   },
   {
    "duration": 10,
    "start_time": "2022-01-08T17:39:17.957Z"
   },
   {
    "duration": 11,
    "start_time": "2022-01-08T17:39:17.969Z"
   },
   {
    "duration": 51,
    "start_time": "2022-01-08T17:39:17.982Z"
   },
   {
    "duration": 7,
    "start_time": "2022-01-08T17:39:18.035Z"
   },
   {
    "duration": 7,
    "start_time": "2022-01-08T17:39:18.044Z"
   },
   {
    "duration": 6,
    "start_time": "2022-01-08T17:39:18.054Z"
   },
   {
    "duration": 7,
    "start_time": "2022-01-08T17:39:18.063Z"
   },
   {
    "duration": 59,
    "start_time": "2022-01-08T17:39:18.073Z"
   },
   {
    "duration": 7,
    "start_time": "2022-01-08T17:39:18.134Z"
   },
   {
    "duration": 13,
    "start_time": "2022-01-08T17:39:18.144Z"
   },
   {
    "duration": 11,
    "start_time": "2022-01-08T17:39:18.159Z"
   },
   {
    "duration": 10,
    "start_time": "2022-01-08T17:39:18.173Z"
   },
   {
    "duration": 7,
    "start_time": "2022-01-08T17:39:18.225Z"
   },
   {
    "duration": 23,
    "start_time": "2022-01-08T17:39:18.234Z"
   },
   {
    "duration": 17,
    "start_time": "2022-01-08T17:39:18.260Z"
   },
   {
    "duration": 14,
    "start_time": "2022-01-08T17:39:18.279Z"
   },
   {
    "duration": 32,
    "start_time": "2022-01-08T17:39:18.296Z"
   },
   {
    "duration": 9,
    "start_time": "2022-01-08T17:39:18.331Z"
   },
   {
    "duration": 30,
    "start_time": "2022-01-08T17:39:18.343Z"
   },
   {
    "duration": 65,
    "start_time": "2022-01-08T17:39:18.376Z"
   },
   {
    "duration": 22,
    "start_time": "2022-01-08T17:39:18.444Z"
   },
   {
    "duration": 16,
    "start_time": "2022-01-08T17:39:18.468Z"
   },
   {
    "duration": 37,
    "start_time": "2022-01-08T17:39:18.487Z"
   },
   {
    "duration": 684,
    "start_time": "2022-01-09T06:26:15.862Z"
   },
   {
    "duration": 9,
    "start_time": "2022-01-09T06:26:16.548Z"
   },
   {
    "duration": 6,
    "start_time": "2022-01-09T06:26:16.559Z"
   },
   {
    "duration": 12,
    "start_time": "2022-01-09T06:26:16.567Z"
   },
   {
    "duration": 15,
    "start_time": "2022-01-09T06:26:16.580Z"
   },
   {
    "duration": 12,
    "start_time": "2022-01-09T06:26:16.597Z"
   },
   {
    "duration": 8,
    "start_time": "2022-01-09T06:26:16.611Z"
   },
   {
    "duration": 7,
    "start_time": "2022-01-09T06:26:16.622Z"
   },
   {
    "duration": 10,
    "start_time": "2022-01-09T06:26:16.662Z"
   },
   {
    "duration": 12,
    "start_time": "2022-01-09T06:26:16.674Z"
   },
   {
    "duration": 7,
    "start_time": "2022-01-09T06:26:16.688Z"
   },
   {
    "duration": 7,
    "start_time": "2022-01-09T06:26:16.698Z"
   },
   {
    "duration": 8,
    "start_time": "2022-01-09T06:26:16.706Z"
   },
   {
    "duration": 9,
    "start_time": "2022-01-09T06:26:16.715Z"
   },
   {
    "duration": 45,
    "start_time": "2022-01-09T06:26:16.725Z"
   },
   {
    "duration": 13,
    "start_time": "2022-01-09T06:26:16.771Z"
   },
   {
    "duration": 13,
    "start_time": "2022-01-09T06:26:16.785Z"
   },
   {
    "duration": 13,
    "start_time": "2022-01-09T06:26:16.800Z"
   },
   {
    "duration": 4,
    "start_time": "2022-01-09T06:26:16.815Z"
   },
   {
    "duration": 42,
    "start_time": "2022-01-09T06:26:16.820Z"
   },
   {
    "duration": 5,
    "start_time": "2022-01-09T06:26:16.863Z"
   },
   {
    "duration": 24,
    "start_time": "2022-01-09T06:26:16.869Z"
   },
   {
    "duration": 7,
    "start_time": "2022-01-09T06:26:16.896Z"
   },
   {
    "duration": 12,
    "start_time": "2022-01-09T06:26:16.906Z"
   },
   {
    "duration": 7,
    "start_time": "2022-01-09T06:26:16.919Z"
   },
   {
    "duration": 36,
    "start_time": "2022-01-09T06:26:16.927Z"
   },
   {
    "duration": 4,
    "start_time": "2022-01-09T06:26:16.965Z"
   },
   {
    "duration": 12,
    "start_time": "2022-01-09T06:26:16.970Z"
   },
   {
    "duration": 5,
    "start_time": "2022-01-09T06:26:16.983Z"
   },
   {
    "duration": 8,
    "start_time": "2022-01-09T06:26:16.989Z"
   },
   {
    "duration": 8,
    "start_time": "2022-01-09T06:26:16.999Z"
   },
   {
    "duration": 13,
    "start_time": "2022-01-09T06:26:17.008Z"
   },
   {
    "duration": 11,
    "start_time": "2022-01-09T06:26:17.023Z"
   },
   {
    "duration": 15,
    "start_time": "2022-01-09T06:26:17.035Z"
   },
   {
    "duration": 14,
    "start_time": "2022-01-09T06:26:17.052Z"
   },
   {
    "duration": 11,
    "start_time": "2022-01-09T06:26:17.068Z"
   },
   {
    "duration": 11,
    "start_time": "2022-01-09T06:26:17.081Z"
   },
   {
    "duration": 11,
    "start_time": "2022-01-09T06:26:17.094Z"
   },
   {
    "duration": 7,
    "start_time": "2022-01-09T06:26:17.107Z"
   },
   {
    "duration": 6,
    "start_time": "2022-01-09T06:26:17.116Z"
   },
   {
    "duration": 11,
    "start_time": "2022-01-09T06:26:17.124Z"
   },
   {
    "duration": 24,
    "start_time": "2022-01-09T06:26:17.137Z"
   },
   {
    "duration": 19,
    "start_time": "2022-01-09T06:26:17.163Z"
   },
   {
    "duration": 15,
    "start_time": "2022-01-09T06:26:17.184Z"
   },
   {
    "duration": 12,
    "start_time": "2022-01-09T06:26:17.201Z"
   },
   {
    "duration": 10,
    "start_time": "2022-01-09T06:26:17.214Z"
   },
   {
    "duration": 35,
    "start_time": "2022-01-09T06:26:17.225Z"
   },
   {
    "duration": 7,
    "start_time": "2022-01-09T06:26:38.589Z"
   },
   {
    "duration": 4,
    "start_time": "2022-01-09T06:47:33.569Z"
   },
   {
    "duration": 309,
    "start_time": "2022-01-09T06:48:53.946Z"
   },
   {
    "duration": 242,
    "start_time": "2022-01-09T06:49:06.348Z"
   },
   {
    "duration": 4065,
    "start_time": "2022-01-09T06:49:14.283Z"
   },
   {
    "duration": 14,
    "start_time": "2022-01-09T06:52:11.089Z"
   },
   {
    "duration": 24,
    "start_time": "2022-01-09T06:53:17.154Z"
   },
   {
    "duration": 4168,
    "start_time": "2022-01-09T06:53:18.331Z"
   },
   {
    "duration": 13,
    "start_time": "2022-01-09T06:53:22.501Z"
   },
   {
    "duration": 12,
    "start_time": "2022-01-09T06:53:23.155Z"
   },
   {
    "duration": 25,
    "start_time": "2022-01-09T06:53:56.665Z"
   },
   {
    "duration": 4167,
    "start_time": "2022-01-09T06:53:57.833Z"
   },
   {
    "duration": 14,
    "start_time": "2022-01-09T06:54:02.002Z"
   },
   {
    "duration": 9,
    "start_time": "2022-01-09T07:00:36.225Z"
   },
   {
    "duration": 8,
    "start_time": "2022-01-09T07:01:00.958Z"
   },
   {
    "duration": 7,
    "start_time": "2022-01-09T07:01:07.788Z"
   },
   {
    "duration": 8,
    "start_time": "2022-01-09T07:02:33.354Z"
   },
   {
    "duration": 7,
    "start_time": "2022-01-09T07:02:49.091Z"
   },
   {
    "duration": 4,
    "start_time": "2022-01-09T12:51:04.854Z"
   },
   {
    "duration": 299,
    "start_time": "2022-01-10T02:50:16.688Z"
   },
   {
    "duration": 742,
    "start_time": "2022-01-10T02:50:26.360Z"
   },
   {
    "duration": 8,
    "start_time": "2022-01-10T02:50:27.103Z"
   },
   {
    "duration": 30,
    "start_time": "2022-01-10T02:50:27.113Z"
   },
   {
    "duration": 33,
    "start_time": "2022-01-10T02:50:27.145Z"
   },
   {
    "duration": 30,
    "start_time": "2022-01-10T02:50:27.179Z"
   },
   {
    "duration": 31,
    "start_time": "2022-01-10T02:50:27.210Z"
   },
   {
    "duration": 30,
    "start_time": "2022-01-10T02:50:27.243Z"
   },
   {
    "duration": 24,
    "start_time": "2022-01-10T02:50:27.275Z"
   },
   {
    "duration": 31,
    "start_time": "2022-01-10T02:50:27.300Z"
   },
   {
    "duration": 19,
    "start_time": "2022-01-10T02:50:27.333Z"
   },
   {
    "duration": 24,
    "start_time": "2022-01-10T02:50:27.354Z"
   },
   {
    "duration": 42,
    "start_time": "2022-01-10T02:50:27.380Z"
   },
   {
    "duration": 21,
    "start_time": "2022-01-10T02:50:27.424Z"
   },
   {
    "duration": 21,
    "start_time": "2022-01-10T02:50:27.446Z"
   },
   {
    "duration": 16,
    "start_time": "2022-01-10T02:50:27.468Z"
   },
   {
    "duration": 42,
    "start_time": "2022-01-10T02:50:27.485Z"
   },
   {
    "duration": 15,
    "start_time": "2022-01-10T02:50:27.529Z"
   },
   {
    "duration": 14,
    "start_time": "2022-01-10T02:50:27.546Z"
   },
   {
    "duration": 12,
    "start_time": "2022-01-10T02:50:27.562Z"
   },
   {
    "duration": 9,
    "start_time": "2022-01-10T02:50:27.575Z"
   },
   {
    "duration": 5,
    "start_time": "2022-01-10T02:50:27.585Z"
   },
   {
    "duration": 21,
    "start_time": "2022-01-10T02:50:27.591Z"
   },
   {
    "duration": 7,
    "start_time": "2022-01-10T02:50:27.615Z"
   },
   {
    "duration": 7,
    "start_time": "2022-01-10T02:50:27.624Z"
   },
   {
    "duration": 27,
    "start_time": "2022-01-10T02:50:27.633Z"
   },
   {
    "duration": 10,
    "start_time": "2022-01-10T02:50:27.662Z"
   },
   {
    "duration": 9,
    "start_time": "2022-01-10T02:50:27.673Z"
   },
   {
    "duration": 15,
    "start_time": "2022-01-10T02:50:27.683Z"
   },
   {
    "duration": 10,
    "start_time": "2022-01-10T02:50:27.699Z"
   },
   {
    "duration": 22,
    "start_time": "2022-01-10T02:50:27.710Z"
   },
   {
    "duration": 11,
    "start_time": "2022-01-10T02:50:27.733Z"
   },
   {
    "duration": 9,
    "start_time": "2022-01-10T02:50:27.745Z"
   },
   {
    "duration": 11,
    "start_time": "2022-01-10T02:50:27.756Z"
   },
   {
    "duration": 29,
    "start_time": "2022-01-10T02:50:27.768Z"
   },
   {
    "duration": 17,
    "start_time": "2022-01-10T02:50:27.799Z"
   },
   {
    "duration": 13,
    "start_time": "2022-01-10T02:50:27.817Z"
   },
   {
    "duration": 15,
    "start_time": "2022-01-10T02:50:27.832Z"
   },
   {
    "duration": 20,
    "start_time": "2022-01-10T02:50:27.849Z"
   },
   {
    "duration": 15,
    "start_time": "2022-01-10T02:50:27.871Z"
   },
   {
    "duration": 16,
    "start_time": "2022-01-10T02:50:27.888Z"
   },
   {
    "duration": 12,
    "start_time": "2022-01-10T02:50:27.906Z"
   },
   {
    "duration": 25,
    "start_time": "2022-01-10T02:50:27.919Z"
   },
   {
    "duration": 23,
    "start_time": "2022-01-10T02:50:27.946Z"
   },
   {
    "duration": 14,
    "start_time": "2022-01-10T02:50:27.970Z"
   },
   {
    "duration": 10,
    "start_time": "2022-01-10T02:50:27.986Z"
   },
   {
    "duration": 27,
    "start_time": "2022-01-10T02:50:27.998Z"
   },
   {
    "duration": 14,
    "start_time": "2022-01-10T02:50:28.027Z"
   },
   {
    "duration": 21,
    "start_time": "2022-01-10T02:50:28.042Z"
   },
   {
    "duration": 4307,
    "start_time": "2022-01-10T02:50:28.065Z"
   },
   {
    "duration": 14,
    "start_time": "2022-01-10T02:50:32.374Z"
   },
   {
    "duration": 9,
    "start_time": "2022-01-10T02:50:32.390Z"
   },
   {
    "duration": 8,
    "start_time": "2022-01-10T02:50:32.400Z"
   },
   {
    "duration": 7,
    "start_time": "2022-01-10T02:50:32.410Z"
   },
   {
    "duration": 7,
    "start_time": "2022-01-10T02:50:32.419Z"
   },
   {
    "duration": 33,
    "start_time": "2022-01-10T02:50:32.428Z"
   },
   {
    "duration": -860,
    "start_time": "2022-01-10T02:50:37.020Z"
   },
   {
    "duration": 10,
    "start_time": "2022-01-10T02:51:36.111Z"
   },
   {
    "duration": 87,
    "start_time": "2022-01-11T06:15:23.003Z"
   },
   {
    "duration": 287,
    "start_time": "2022-01-11T06:16:15.843Z"
   },
   {
    "duration": 671,
    "start_time": "2022-01-11T06:16:24.060Z"
   },
   {
    "duration": 9,
    "start_time": "2022-01-11T06:16:24.733Z"
   },
   {
    "duration": 5,
    "start_time": "2022-01-11T06:16:24.744Z"
   },
   {
    "duration": 17,
    "start_time": "2022-01-11T06:16:24.751Z"
   },
   {
    "duration": 13,
    "start_time": "2022-01-11T06:16:24.770Z"
   },
   {
    "duration": 12,
    "start_time": "2022-01-11T06:16:24.784Z"
   },
   {
    "duration": 9,
    "start_time": "2022-01-11T06:16:24.798Z"
   },
   {
    "duration": 8,
    "start_time": "2022-01-11T06:16:24.809Z"
   },
   {
    "duration": 8,
    "start_time": "2022-01-11T06:16:24.818Z"
   },
   {
    "duration": 35,
    "start_time": "2022-01-11T06:16:24.827Z"
   },
   {
    "duration": 8,
    "start_time": "2022-01-11T06:16:24.864Z"
   },
   {
    "duration": 6,
    "start_time": "2022-01-11T06:16:24.873Z"
   },
   {
    "duration": 8,
    "start_time": "2022-01-11T06:16:24.880Z"
   },
   {
    "duration": 7,
    "start_time": "2022-01-11T06:16:24.890Z"
   },
   {
    "duration": 11,
    "start_time": "2022-01-11T06:16:24.898Z"
   },
   {
    "duration": 11,
    "start_time": "2022-01-11T06:16:24.910Z"
   },
   {
    "duration": 46,
    "start_time": "2022-01-11T06:16:24.922Z"
   },
   {
    "duration": 13,
    "start_time": "2022-01-11T06:16:24.969Z"
   },
   {
    "duration": 5,
    "start_time": "2022-01-11T06:16:24.984Z"
   },
   {
    "duration": 9,
    "start_time": "2022-01-11T06:16:24.990Z"
   },
   {
    "duration": 28,
    "start_time": "2022-01-11T06:16:25.001Z"
   },
   {
    "duration": 24,
    "start_time": "2022-01-11T06:16:25.030Z"
   },
   {
    "duration": 13,
    "start_time": "2022-01-11T06:16:25.057Z"
   },
   {
    "duration": 8,
    "start_time": "2022-01-11T06:16:25.072Z"
   },
   {
    "duration": 7,
    "start_time": "2022-01-11T06:16:25.081Z"
   },
   {
    "duration": 18,
    "start_time": "2022-01-11T06:16:25.089Z"
   },
   {
    "duration": 16,
    "start_time": "2022-01-11T06:16:25.109Z"
   },
   {
    "duration": 14,
    "start_time": "2022-01-11T06:16:25.126Z"
   },
   {
    "duration": 8,
    "start_time": "2022-01-11T06:16:25.141Z"
   },
   {
    "duration": 9,
    "start_time": "2022-01-11T06:16:25.150Z"
   },
   {
    "duration": 13,
    "start_time": "2022-01-11T06:16:25.160Z"
   },
   {
    "duration": 12,
    "start_time": "2022-01-11T06:16:25.175Z"
   },
   {
    "duration": 20,
    "start_time": "2022-01-11T06:16:25.188Z"
   },
   {
    "duration": 10,
    "start_time": "2022-01-11T06:16:25.209Z"
   },
   {
    "duration": 13,
    "start_time": "2022-01-11T06:16:25.220Z"
   },
   {
    "duration": 4,
    "start_time": "2022-01-11T06:16:25.235Z"
   },
   {
    "duration": 12,
    "start_time": "2022-01-11T06:16:25.240Z"
   },
   {
    "duration": 17,
    "start_time": "2022-01-11T06:16:25.253Z"
   },
   {
    "duration": 12,
    "start_time": "2022-01-11T06:16:25.272Z"
   },
   {
    "duration": 7,
    "start_time": "2022-01-11T06:16:25.286Z"
   },
   {
    "duration": 7,
    "start_time": "2022-01-11T06:16:25.294Z"
   },
   {
    "duration": 16,
    "start_time": "2022-01-11T06:16:25.302Z"
   },
   {
    "duration": 15,
    "start_time": "2022-01-11T06:16:25.320Z"
   },
   {
    "duration": 31,
    "start_time": "2022-01-11T06:16:25.337Z"
   },
   {
    "duration": 12,
    "start_time": "2022-01-11T06:16:25.370Z"
   },
   {
    "duration": 10,
    "start_time": "2022-01-11T06:16:25.384Z"
   },
   {
    "duration": 9,
    "start_time": "2022-01-11T06:16:25.395Z"
   },
   {
    "duration": 9,
    "start_time": "2022-01-11T06:16:25.406Z"
   },
   {
    "duration": 3971,
    "start_time": "2022-01-11T06:16:25.417Z"
   },
   {
    "duration": 14,
    "start_time": "2022-01-11T06:16:29.390Z"
   },
   {
    "duration": 9,
    "start_time": "2022-01-11T06:16:29.406Z"
   },
   {
    "duration": 9,
    "start_time": "2022-01-11T06:16:29.416Z"
   },
   {
    "duration": 12,
    "start_time": "2022-01-11T06:16:29.426Z"
   },
   {
    "duration": 7,
    "start_time": "2022-01-11T06:16:29.460Z"
   },
   {
    "duration": 7,
    "start_time": "2022-01-11T06:16:29.469Z"
   },
   {
    "duration": 14,
    "start_time": "2022-01-11T06:16:29.477Z"
   },
   {
    "duration": 5,
    "start_time": "2022-01-11T06:24:45.400Z"
   },
   {
    "duration": 6,
    "start_time": "2022-01-11T06:38:07.304Z"
   },
   {
    "duration": 609,
    "start_time": "2022-01-11T06:38:20.817Z"
   },
   {
    "duration": 8,
    "start_time": "2022-01-11T06:38:21.428Z"
   },
   {
    "duration": 6,
    "start_time": "2022-01-11T06:38:21.438Z"
   },
   {
    "duration": 14,
    "start_time": "2022-01-11T06:38:21.446Z"
   },
   {
    "duration": 13,
    "start_time": "2022-01-11T06:38:21.461Z"
   },
   {
    "duration": 10,
    "start_time": "2022-01-11T06:38:21.476Z"
   },
   {
    "duration": 9,
    "start_time": "2022-01-11T06:38:21.488Z"
   },
   {
    "duration": 7,
    "start_time": "2022-01-11T06:38:21.499Z"
   },
   {
    "duration": 8,
    "start_time": "2022-01-11T06:38:21.508Z"
   },
   {
    "duration": 10,
    "start_time": "2022-01-11T06:38:21.518Z"
   },
   {
    "duration": 34,
    "start_time": "2022-01-11T06:38:21.529Z"
   },
   {
    "duration": 6,
    "start_time": "2022-01-11T06:38:21.564Z"
   },
   {
    "duration": 8,
    "start_time": "2022-01-11T06:38:21.571Z"
   },
   {
    "duration": 11,
    "start_time": "2022-01-11T06:38:21.580Z"
   },
   {
    "duration": 15,
    "start_time": "2022-01-11T06:38:21.592Z"
   },
   {
    "duration": 10,
    "start_time": "2022-01-11T06:38:21.609Z"
   },
   {
    "duration": 41,
    "start_time": "2022-01-11T06:38:21.621Z"
   },
   {
    "duration": 14,
    "start_time": "2022-01-11T06:38:21.663Z"
   },
   {
    "duration": 6,
    "start_time": "2022-01-11T06:38:21.679Z"
   },
   {
    "duration": 6,
    "start_time": "2022-01-11T06:38:21.686Z"
   },
   {
    "duration": 4,
    "start_time": "2022-01-11T06:38:21.693Z"
   },
   {
    "duration": 18,
    "start_time": "2022-01-11T06:38:21.698Z"
   },
   {
    "duration": 7,
    "start_time": "2022-01-11T06:38:21.720Z"
   },
   {
    "duration": 8,
    "start_time": "2022-01-11T06:38:21.762Z"
   },
   {
    "duration": 8,
    "start_time": "2022-01-11T06:38:21.772Z"
   },
   {
    "duration": 9,
    "start_time": "2022-01-11T06:38:21.782Z"
   },
   {
    "duration": 5,
    "start_time": "2022-01-11T06:38:21.792Z"
   },
   {
    "duration": 5,
    "start_time": "2022-01-11T06:38:21.799Z"
   },
   {
    "duration": 7,
    "start_time": "2022-01-11T06:38:21.805Z"
   },
   {
    "duration": 5,
    "start_time": "2022-01-11T06:38:21.813Z"
   },
   {
    "duration": 47,
    "start_time": "2022-01-11T06:38:21.819Z"
   },
   {
    "duration": 5,
    "start_time": "2022-01-11T06:38:21.868Z"
   },
   {
    "duration": 7,
    "start_time": "2022-01-11T06:38:21.875Z"
   },
   {
    "duration": 7,
    "start_time": "2022-01-11T06:38:21.884Z"
   },
   {
    "duration": 8,
    "start_time": "2022-01-11T06:38:21.893Z"
   },
   {
    "duration": 4,
    "start_time": "2022-01-11T06:38:21.902Z"
   },
   {
    "duration": 6,
    "start_time": "2022-01-11T06:38:21.908Z"
   },
   {
    "duration": 49,
    "start_time": "2022-01-11T06:38:21.916Z"
   },
   {
    "duration": 11,
    "start_time": "2022-01-11T06:38:21.966Z"
   },
   {
    "duration": 7,
    "start_time": "2022-01-11T06:38:21.979Z"
   },
   {
    "duration": 6,
    "start_time": "2022-01-11T06:38:21.988Z"
   },
   {
    "duration": 17,
    "start_time": "2022-01-11T06:38:21.996Z"
   },
   {
    "duration": 59,
    "start_time": "2022-01-11T06:38:22.015Z"
   },
   {
    "duration": 17,
    "start_time": "2022-01-11T06:38:22.076Z"
   },
   {
    "duration": 12,
    "start_time": "2022-01-11T06:38:22.095Z"
   },
   {
    "duration": 13,
    "start_time": "2022-01-11T06:38:22.109Z"
   },
   {
    "duration": 9,
    "start_time": "2022-01-11T06:38:22.123Z"
   },
   {
    "duration": 28,
    "start_time": "2022-01-11T06:38:22.133Z"
   },
   {
    "duration": 4306,
    "start_time": "2022-01-11T06:38:22.162Z"
   },
   {
    "duration": 15,
    "start_time": "2022-01-11T06:38:26.470Z"
   },
   {
    "duration": 8,
    "start_time": "2022-01-11T06:38:26.487Z"
   },
   {
    "duration": 8,
    "start_time": "2022-01-11T06:38:26.497Z"
   },
   {
    "duration": 7,
    "start_time": "2022-01-11T06:38:26.507Z"
   },
   {
    "duration": 8,
    "start_time": "2022-01-11T06:38:26.516Z"
   },
   {
    "duration": 39,
    "start_time": "2022-01-11T06:38:26.525Z"
   },
   {
    "duration": 11,
    "start_time": "2022-01-11T06:38:26.566Z"
   },
   {
    "duration": 13,
    "start_time": "2022-01-11T07:49:41.436Z"
   },
   {
    "duration": 7,
    "start_time": "2022-01-11T07:56:39.890Z"
   },
   {
    "duration": 6,
    "start_time": "2022-01-11T07:56:46.469Z"
   },
   {
    "duration": 401,
    "start_time": "2022-01-11T08:13:12.402Z"
   },
   {
    "duration": 6,
    "start_time": "2022-01-11T08:13:23.605Z"
   },
   {
    "duration": 4,
    "start_time": "2022-01-11T08:13:36.438Z"
   },
   {
    "duration": 5,
    "start_time": "2022-01-11T08:13:41.745Z"
   },
   {
    "duration": 5,
    "start_time": "2022-01-11T08:13:48.701Z"
   },
   {
    "duration": 7,
    "start_time": "2022-01-11T08:35:38.742Z"
   },
   {
    "duration": 90,
    "start_time": "2022-01-11T08:44:40.166Z"
   },
   {
    "duration": 1068,
    "start_time": "2022-01-11T08:45:40.622Z"
   },
   {
    "duration": 676,
    "start_time": "2022-01-11T08:45:50.036Z"
   },
   {
    "duration": 8,
    "start_time": "2022-01-11T08:45:50.714Z"
   },
   {
    "duration": 11,
    "start_time": "2022-01-11T08:45:50.724Z"
   },
   {
    "duration": 26,
    "start_time": "2022-01-11T08:45:50.737Z"
   },
   {
    "duration": 30,
    "start_time": "2022-01-11T08:45:50.764Z"
   },
   {
    "duration": 22,
    "start_time": "2022-01-11T08:45:50.795Z"
   },
   {
    "duration": 19,
    "start_time": "2022-01-11T08:45:50.819Z"
   },
   {
    "duration": 21,
    "start_time": "2022-01-11T08:45:50.840Z"
   },
   {
    "duration": 10,
    "start_time": "2022-01-11T08:45:50.863Z"
   },
   {
    "duration": 40,
    "start_time": "2022-01-11T08:45:50.874Z"
   },
   {
    "duration": 24,
    "start_time": "2022-01-11T08:45:50.916Z"
   },
   {
    "duration": 19,
    "start_time": "2022-01-11T08:45:50.942Z"
   },
   {
    "duration": 22,
    "start_time": "2022-01-11T08:45:50.963Z"
   },
   {
    "duration": 21,
    "start_time": "2022-01-11T08:45:50.987Z"
   },
   {
    "duration": 12,
    "start_time": "2022-01-11T08:45:51.010Z"
   },
   {
    "duration": 14,
    "start_time": "2022-01-11T08:45:51.024Z"
   },
   {
    "duration": 23,
    "start_time": "2022-01-11T08:45:51.041Z"
   },
   {
    "duration": 16,
    "start_time": "2022-01-11T08:45:51.066Z"
   },
   {
    "duration": 7,
    "start_time": "2022-01-11T08:45:51.084Z"
   },
   {
    "duration": 6,
    "start_time": "2022-01-11T08:45:51.093Z"
   },
   {
    "duration": 6,
    "start_time": "2022-01-11T08:45:51.101Z"
   },
   {
    "duration": 21,
    "start_time": "2022-01-11T08:45:51.108Z"
   },
   {
    "duration": 9,
    "start_time": "2022-01-11T08:45:51.162Z"
   },
   {
    "duration": 7,
    "start_time": "2022-01-11T08:45:51.173Z"
   },
   {
    "duration": 7,
    "start_time": "2022-01-11T08:45:51.182Z"
   },
   {
    "duration": 15,
    "start_time": "2022-01-11T08:45:51.191Z"
   },
   {
    "duration": 10,
    "start_time": "2022-01-11T08:45:51.208Z"
   },
   {
    "duration": 8,
    "start_time": "2022-01-11T08:45:51.220Z"
   },
   {
    "duration": 31,
    "start_time": "2022-01-11T08:45:51.230Z"
   },
   {
    "duration": 5,
    "start_time": "2022-01-11T08:45:51.262Z"
   },
   {
    "duration": 22,
    "start_time": "2022-01-11T08:45:51.268Z"
   },
   {
    "duration": 10,
    "start_time": "2022-01-11T08:45:51.292Z"
   },
   {
    "duration": 8,
    "start_time": "2022-01-11T08:45:51.303Z"
   },
   {
    "duration": 7,
    "start_time": "2022-01-11T08:45:51.313Z"
   },
   {
    "duration": 11,
    "start_time": "2022-01-11T08:45:51.322Z"
   },
   {
    "duration": 9,
    "start_time": "2022-01-11T08:45:51.334Z"
   },
   {
    "duration": 32,
    "start_time": "2022-01-11T08:45:51.344Z"
   },
   {
    "duration": 14,
    "start_time": "2022-01-11T08:45:51.378Z"
   },
   {
    "duration": 10,
    "start_time": "2022-01-11T08:45:51.394Z"
   },
   {
    "duration": 11,
    "start_time": "2022-01-11T08:45:51.406Z"
   },
   {
    "duration": 24,
    "start_time": "2022-01-11T08:45:51.419Z"
   },
   {
    "duration": 18,
    "start_time": "2022-01-11T08:45:51.445Z"
   },
   {
    "duration": 16,
    "start_time": "2022-01-11T08:45:51.465Z"
   },
   {
    "duration": 11,
    "start_time": "2022-01-11T08:45:51.483Z"
   },
   {
    "duration": 23,
    "start_time": "2022-01-11T08:45:51.496Z"
   },
   {
    "duration": 13,
    "start_time": "2022-01-11T08:45:51.521Z"
   },
   {
    "duration": 10,
    "start_time": "2022-01-11T08:45:51.536Z"
   },
   {
    "duration": 4329,
    "start_time": "2022-01-11T08:45:51.547Z"
   },
   {
    "duration": 13,
    "start_time": "2022-01-11T08:45:55.878Z"
   },
   {
    "duration": 51,
    "start_time": "2022-01-11T08:45:55.893Z"
   },
   {
    "duration": 34,
    "start_time": "2022-01-11T08:45:55.946Z"
   },
   {
    "duration": 24,
    "start_time": "2022-01-11T08:45:55.982Z"
   },
   {
    "duration": 43,
    "start_time": "2022-01-11T08:45:56.008Z"
   },
   {
    "duration": 35,
    "start_time": "2022-01-11T08:45:56.053Z"
   },
   {
    "duration": 1131,
    "start_time": "2022-01-11T08:45:56.089Z"
   },
   {
    "duration": 1411,
    "start_time": "2022-01-11T08:47:02.668Z"
   },
   {
    "duration": 1314,
    "start_time": "2022-01-11T08:48:32.959Z"
   },
   {
    "duration": 491,
    "start_time": "2022-01-11T08:51:59.115Z"
   },
   {
    "duration": 508,
    "start_time": "2022-01-11T08:53:12.876Z"
   },
   {
    "duration": 5,
    "start_time": "2022-01-11T08:55:46.329Z"
   },
   {
    "duration": 1086,
    "start_time": "2022-01-11T08:56:00.496Z"
   },
   {
    "duration": 14,
    "start_time": "2022-01-11T08:56:13.215Z"
   },
   {
    "duration": 25,
    "start_time": "2022-01-11T08:56:29.962Z"
   },
   {
    "duration": 26,
    "start_time": "2022-01-11T08:56:50.165Z"
   },
   {
    "duration": 10,
    "start_time": "2022-01-11T08:57:55.771Z"
   },
   {
    "duration": 22,
    "start_time": "2022-01-11T08:58:29.701Z"
   },
   {
    "duration": 9,
    "start_time": "2022-01-11T08:59:13.684Z"
   },
   {
    "duration": 653,
    "start_time": "2022-01-11T09:22:59.812Z"
   },
   {
    "duration": 21,
    "start_time": "2022-01-11T09:23:07.073Z"
   },
   {
    "duration": 307,
    "start_time": "2022-01-11T09:23:21.856Z"
   },
   {
    "duration": 291,
    "start_time": "2022-01-11T09:23:30.008Z"
   },
   {
    "duration": 19,
    "start_time": "2022-01-11T09:23:35.573Z"
   },
   {
    "duration": 21,
    "start_time": "2022-01-11T09:33:25.656Z"
   },
   {
    "duration": 605,
    "start_time": "2022-01-11T12:18:27.249Z"
   },
   {
    "duration": 8,
    "start_time": "2022-01-11T12:18:27.856Z"
   },
   {
    "duration": 4,
    "start_time": "2022-01-11T12:18:27.866Z"
   },
   {
    "duration": 10,
    "start_time": "2022-01-11T12:18:27.872Z"
   },
   {
    "duration": 12,
    "start_time": "2022-01-11T12:18:27.883Z"
   },
   {
    "duration": 33,
    "start_time": "2022-01-11T12:18:27.897Z"
   },
   {
    "duration": 8,
    "start_time": "2022-01-11T12:18:27.931Z"
   },
   {
    "duration": 13,
    "start_time": "2022-01-11T12:18:27.941Z"
   },
   {
    "duration": 16,
    "start_time": "2022-01-11T12:18:27.956Z"
   },
   {
    "duration": 10,
    "start_time": "2022-01-11T12:18:27.973Z"
   },
   {
    "duration": 8,
    "start_time": "2022-01-11T12:18:27.985Z"
   },
   {
    "duration": 15,
    "start_time": "2022-01-11T12:18:27.994Z"
   },
   {
    "duration": 10,
    "start_time": "2022-01-11T12:18:28.011Z"
   },
   {
    "duration": 9,
    "start_time": "2022-01-11T12:18:28.023Z"
   },
   {
    "duration": 9,
    "start_time": "2022-01-11T12:18:28.034Z"
   },
   {
    "duration": 11,
    "start_time": "2022-01-11T12:18:28.044Z"
   },
   {
    "duration": 12,
    "start_time": "2022-01-11T12:18:28.056Z"
   },
   {
    "duration": 11,
    "start_time": "2022-01-11T12:18:28.069Z"
   },
   {
    "duration": 7,
    "start_time": "2022-01-11T12:18:28.081Z"
   },
   {
    "duration": 19,
    "start_time": "2022-01-11T12:18:28.089Z"
   },
   {
    "duration": 18,
    "start_time": "2022-01-11T12:18:28.110Z"
   },
   {
    "duration": 21,
    "start_time": "2022-01-11T12:18:28.129Z"
   },
   {
    "duration": 7,
    "start_time": "2022-01-11T12:18:28.151Z"
   },
   {
    "duration": 6,
    "start_time": "2022-01-11T12:18:28.159Z"
   },
   {
    "duration": 6,
    "start_time": "2022-01-11T12:18:28.166Z"
   },
   {
    "duration": 7,
    "start_time": "2022-01-11T12:18:28.174Z"
   },
   {
    "duration": 3,
    "start_time": "2022-01-11T12:18:28.185Z"
   },
   {
    "duration": 4,
    "start_time": "2022-01-11T12:18:28.190Z"
   },
   {
    "duration": 34,
    "start_time": "2022-01-11T12:18:28.195Z"
   },
   {
    "duration": 6,
    "start_time": "2022-01-11T12:18:28.231Z"
   },
   {
    "duration": 8,
    "start_time": "2022-01-11T12:18:28.238Z"
   },
   {
    "duration": 4,
    "start_time": "2022-01-11T12:18:28.247Z"
   },
   {
    "duration": 8,
    "start_time": "2022-01-11T12:18:28.252Z"
   },
   {
    "duration": 6,
    "start_time": "2022-01-11T12:18:28.261Z"
   },
   {
    "duration": 8,
    "start_time": "2022-01-11T12:18:28.268Z"
   },
   {
    "duration": 6,
    "start_time": "2022-01-11T12:18:28.278Z"
   },
   {
    "duration": 6,
    "start_time": "2022-01-11T12:18:28.285Z"
   },
   {
    "duration": 40,
    "start_time": "2022-01-11T12:18:28.292Z"
   },
   {
    "duration": 6,
    "start_time": "2022-01-11T12:18:28.334Z"
   },
   {
    "duration": 5,
    "start_time": "2022-01-11T12:18:28.341Z"
   },
   {
    "duration": 14,
    "start_time": "2022-01-11T12:18:28.347Z"
   },
   {
    "duration": 14,
    "start_time": "2022-01-11T12:18:28.363Z"
   },
   {
    "duration": 13,
    "start_time": "2022-01-11T12:18:28.378Z"
   },
   {
    "duration": 38,
    "start_time": "2022-01-11T12:18:28.392Z"
   },
   {
    "duration": 9,
    "start_time": "2022-01-11T12:18:28.431Z"
   },
   {
    "duration": 9,
    "start_time": "2022-01-11T12:18:28.442Z"
   },
   {
    "duration": 9,
    "start_time": "2022-01-11T12:18:28.453Z"
   },
   {
    "duration": 4222,
    "start_time": "2022-01-11T12:18:28.463Z"
   },
   {
    "duration": 11,
    "start_time": "2022-01-11T12:18:32.687Z"
   },
   {
    "duration": 9,
    "start_time": "2022-01-11T12:18:32.700Z"
   },
   {
    "duration": 20,
    "start_time": "2022-01-11T12:18:32.710Z"
   },
   {
    "duration": 19,
    "start_time": "2022-01-11T12:18:32.732Z"
   },
   {
    "duration": 18,
    "start_time": "2022-01-11T12:18:32.752Z"
   },
   {
    "duration": 16,
    "start_time": "2022-01-11T12:18:32.771Z"
   },
   {
    "duration": 16,
    "start_time": "2022-01-11T12:18:32.789Z"
   },
   {
    "duration": 18,
    "start_time": "2022-01-11T12:18:32.807Z"
   },
   {
    "duration": 11,
    "start_time": "2022-01-11T12:18:32.826Z"
   },
   {
    "duration": 10,
    "start_time": "2022-01-11T12:18:32.838Z"
   },
   {
    "duration": 31,
    "start_time": "2022-01-11T12:18:32.850Z"
   },
   {
    "duration": 422,
    "start_time": "2022-01-11T12:25:14.817Z"
   },
   {
    "duration": 16,
    "start_time": "2022-01-11T12:25:20.907Z"
   },
   {
    "duration": 6271,
    "start_time": "2022-01-11T12:27:12.633Z"
   },
   {
    "duration": 16,
    "start_time": "2022-01-11T12:27:48.688Z"
   },
   {
    "duration": 18,
    "start_time": "2022-01-11T12:28:28.982Z"
   },
   {
    "duration": 18,
    "start_time": "2022-01-11T12:28:39.861Z"
   },
   {
    "duration": 17,
    "start_time": "2022-01-11T12:31:39.632Z"
   },
   {
    "duration": 17,
    "start_time": "2022-01-11T12:32:14.186Z"
   },
   {
    "duration": 19,
    "start_time": "2022-01-11T12:34:20.972Z"
   },
   {
    "duration": 18,
    "start_time": "2022-01-11T12:35:41.406Z"
   },
   {
    "duration": 18,
    "start_time": "2022-01-11T12:40:45.605Z"
   },
   {
    "duration": 19,
    "start_time": "2022-01-11T13:42:11.467Z"
   },
   {
    "duration": 14,
    "start_time": "2022-01-11T13:45:02.956Z"
   },
   {
    "duration": 11,
    "start_time": "2022-01-11T13:49:12.221Z"
   },
   {
    "duration": 33,
    "start_time": "2022-01-11T13:49:52.014Z"
   },
   {
    "duration": 16,
    "start_time": "2022-01-11T13:50:22.512Z"
   },
   {
    "duration": 390,
    "start_time": "2022-01-11T13:56:16.447Z"
   },
   {
    "duration": 19,
    "start_time": "2022-01-11T13:56:26.778Z"
   },
   {
    "duration": 28,
    "start_time": "2022-01-11T14:21:24.215Z"
   },
   {
    "duration": 19,
    "start_time": "2022-01-11T14:21:51.899Z"
   },
   {
    "duration": 18,
    "start_time": "2022-01-11T14:22:04.621Z"
   },
   {
    "duration": 17,
    "start_time": "2022-01-11T14:22:40.845Z"
   },
   {
    "duration": 101,
    "start_time": "2022-01-11T14:55:50.364Z"
   },
   {
    "duration": 714,
    "start_time": "2022-01-11T15:39:54.926Z"
   },
   {
    "duration": 7,
    "start_time": "2022-01-11T15:39:55.642Z"
   },
   {
    "duration": 6,
    "start_time": "2022-01-11T15:39:55.651Z"
   },
   {
    "duration": 14,
    "start_time": "2022-01-11T15:39:55.658Z"
   },
   {
    "duration": 14,
    "start_time": "2022-01-11T15:39:55.673Z"
   },
   {
    "duration": 14,
    "start_time": "2022-01-11T15:39:55.688Z"
   },
   {
    "duration": 9,
    "start_time": "2022-01-11T15:39:55.728Z"
   },
   {
    "duration": 10,
    "start_time": "2022-01-11T15:39:55.739Z"
   },
   {
    "duration": 7,
    "start_time": "2022-01-11T15:39:55.752Z"
   },
   {
    "duration": 10,
    "start_time": "2022-01-11T15:39:55.760Z"
   },
   {
    "duration": 16,
    "start_time": "2022-01-11T15:39:55.772Z"
   },
   {
    "duration": 6,
    "start_time": "2022-01-11T15:39:55.789Z"
   },
   {
    "duration": 31,
    "start_time": "2022-01-11T15:39:55.797Z"
   },
   {
    "duration": 7,
    "start_time": "2022-01-11T15:39:55.830Z"
   },
   {
    "duration": 14,
    "start_time": "2022-01-11T15:39:55.839Z"
   },
   {
    "duration": 13,
    "start_time": "2022-01-11T15:39:55.855Z"
   },
   {
    "duration": 17,
    "start_time": "2022-01-11T15:39:55.870Z"
   },
   {
    "duration": 42,
    "start_time": "2022-01-11T15:39:55.888Z"
   },
   {
    "duration": 4,
    "start_time": "2022-01-11T15:39:55.932Z"
   },
   {
    "duration": 6,
    "start_time": "2022-01-11T15:39:55.938Z"
   },
   {
    "duration": 5,
    "start_time": "2022-01-11T15:39:55.945Z"
   },
   {
    "duration": 17,
    "start_time": "2022-01-11T15:39:55.952Z"
   },
   {
    "duration": 7,
    "start_time": "2022-01-11T15:39:55.971Z"
   },
   {
    "duration": 7,
    "start_time": "2022-01-11T15:39:55.979Z"
   },
   {
    "duration": 43,
    "start_time": "2022-01-11T15:39:55.988Z"
   },
   {
    "duration": 9,
    "start_time": "2022-01-11T15:39:56.033Z"
   },
   {
    "duration": 4,
    "start_time": "2022-01-11T15:39:56.046Z"
   },
   {
    "duration": 6,
    "start_time": "2022-01-11T15:39:56.053Z"
   },
   {
    "duration": 10,
    "start_time": "2022-01-11T15:39:56.061Z"
   },
   {
    "duration": 6,
    "start_time": "2022-01-11T15:39:56.072Z"
   },
   {
    "duration": 9,
    "start_time": "2022-01-11T15:39:56.080Z"
   },
   {
    "duration": 36,
    "start_time": "2022-01-11T15:39:56.091Z"
   },
   {
    "duration": 5,
    "start_time": "2022-01-11T15:39:56.128Z"
   },
   {
    "duration": 8,
    "start_time": "2022-01-11T15:39:56.135Z"
   },
   {
    "duration": 7,
    "start_time": "2022-01-11T15:39:56.145Z"
   },
   {
    "duration": 5,
    "start_time": "2022-01-11T15:39:56.153Z"
   },
   {
    "duration": 11,
    "start_time": "2022-01-11T15:39:56.160Z"
   },
   {
    "duration": 11,
    "start_time": "2022-01-11T15:39:56.173Z"
   },
   {
    "duration": 11,
    "start_time": "2022-01-11T15:39:56.186Z"
   },
   {
    "duration": 29,
    "start_time": "2022-01-11T15:39:56.199Z"
   },
   {
    "duration": 19,
    "start_time": "2022-01-11T15:39:56.230Z"
   },
   {
    "duration": 16,
    "start_time": "2022-01-11T15:39:56.251Z"
   },
   {
    "duration": 14,
    "start_time": "2022-01-11T15:39:56.268Z"
   },
   {
    "duration": 11,
    "start_time": "2022-01-11T15:39:56.283Z"
   },
   {
    "duration": 35,
    "start_time": "2022-01-11T15:39:56.295Z"
   },
   {
    "duration": 14,
    "start_time": "2022-01-11T15:39:56.331Z"
   },
   {
    "duration": 9,
    "start_time": "2022-01-11T15:39:56.347Z"
   },
   {
    "duration": 4190,
    "start_time": "2022-01-11T15:39:56.358Z"
   },
   {
    "duration": 12,
    "start_time": "2022-01-11T15:40:00.549Z"
   },
   {
    "duration": 10,
    "start_time": "2022-01-11T15:40:00.563Z"
   },
   {
    "duration": 12,
    "start_time": "2022-01-11T15:40:00.575Z"
   },
   {
    "duration": 12,
    "start_time": "2022-01-11T15:40:00.588Z"
   },
   {
    "duration": 9,
    "start_time": "2022-01-11T15:40:00.601Z"
   },
   {
    "duration": 25,
    "start_time": "2022-01-11T15:40:00.611Z"
   },
   {
    "duration": 8,
    "start_time": "2022-01-11T15:40:00.638Z"
   },
   {
    "duration": 27,
    "start_time": "2022-01-11T15:40:00.648Z"
   },
   {
    "duration": 6,
    "start_time": "2022-01-11T15:40:00.676Z"
   },
   {
    "duration": 33,
    "start_time": "2022-01-11T15:40:00.683Z"
   },
   {
    "duration": 17,
    "start_time": "2022-01-11T15:40:00.717Z"
   },
   {
    "duration": 16,
    "start_time": "2022-01-11T15:40:00.735Z"
   },
   {
    "duration": 16,
    "start_time": "2022-01-11T15:40:00.753Z"
   },
   {
    "duration": 244,
    "start_time": "2022-01-13T17:55:29.572Z"
   },
   {
    "duration": 548,
    "start_time": "2022-01-13T17:55:41.374Z"
   },
   {
    "duration": 7,
    "start_time": "2022-01-13T17:55:41.924Z"
   },
   {
    "duration": 6,
    "start_time": "2022-01-13T17:55:41.933Z"
   },
   {
    "duration": 11,
    "start_time": "2022-01-13T17:55:41.941Z"
   },
   {
    "duration": 12,
    "start_time": "2022-01-13T17:55:41.953Z"
   },
   {
    "duration": 10,
    "start_time": "2022-01-13T17:55:41.967Z"
   },
   {
    "duration": 35,
    "start_time": "2022-01-13T17:55:41.979Z"
   },
   {
    "duration": 7,
    "start_time": "2022-01-13T17:55:42.016Z"
   },
   {
    "duration": 7,
    "start_time": "2022-01-13T17:55:42.026Z"
   },
   {
    "duration": 7,
    "start_time": "2022-01-13T17:55:42.034Z"
   },
   {
    "duration": 5,
    "start_time": "2022-01-13T17:55:42.043Z"
   },
   {
    "duration": 5,
    "start_time": "2022-01-13T17:55:42.050Z"
   },
   {
    "duration": 7,
    "start_time": "2022-01-13T17:55:42.057Z"
   },
   {
    "duration": 7,
    "start_time": "2022-01-13T17:55:42.065Z"
   },
   {
    "duration": 10,
    "start_time": "2022-01-13T17:55:42.112Z"
   },
   {
    "duration": 11,
    "start_time": "2022-01-13T17:55:42.124Z"
   },
   {
    "duration": 13,
    "start_time": "2022-01-13T17:55:42.137Z"
   },
   {
    "duration": 12,
    "start_time": "2022-01-13T17:55:42.151Z"
   },
   {
    "duration": 4,
    "start_time": "2022-01-13T17:55:42.165Z"
   },
   {
    "duration": 44,
    "start_time": "2022-01-13T17:55:42.171Z"
   },
   {
    "duration": 4,
    "start_time": "2022-01-13T17:55:42.217Z"
   },
   {
    "duration": 16,
    "start_time": "2022-01-13T17:55:42.222Z"
   },
   {
    "duration": 7,
    "start_time": "2022-01-13T17:55:42.242Z"
   },
   {
    "duration": 7,
    "start_time": "2022-01-13T17:55:42.251Z"
   },
   {
    "duration": 7,
    "start_time": "2022-01-13T17:55:42.260Z"
   },
   {
    "duration": 49,
    "start_time": "2022-01-13T17:55:42.268Z"
   },
   {
    "duration": 5,
    "start_time": "2022-01-13T17:55:42.319Z"
   },
   {
    "duration": 5,
    "start_time": "2022-01-13T17:55:42.325Z"
   },
   {
    "duration": 4,
    "start_time": "2022-01-13T17:55:42.332Z"
   },
   {
    "duration": 7,
    "start_time": "2022-01-13T17:55:42.337Z"
   },
   {
    "duration": 6,
    "start_time": "2022-01-13T17:55:42.345Z"
   },
   {
    "duration": 6,
    "start_time": "2022-01-13T17:55:42.353Z"
   },
   {
    "duration": 9,
    "start_time": "2022-01-13T17:55:42.360Z"
   },
   {
    "duration": 42,
    "start_time": "2022-01-13T17:55:42.371Z"
   },
   {
    "duration": 5,
    "start_time": "2022-01-13T17:55:42.415Z"
   },
   {
    "duration": 4,
    "start_time": "2022-01-13T17:55:42.422Z"
   },
   {
    "duration": 5,
    "start_time": "2022-01-13T17:55:42.428Z"
   },
   {
    "duration": 6,
    "start_time": "2022-01-13T17:55:42.434Z"
   },
   {
    "duration": 5,
    "start_time": "2022-01-13T17:55:42.442Z"
   },
   {
    "duration": 5,
    "start_time": "2022-01-13T17:55:42.449Z"
   },
   {
    "duration": 5,
    "start_time": "2022-01-13T17:55:42.455Z"
   },
   {
    "duration": 52,
    "start_time": "2022-01-13T17:55:42.461Z"
   },
   {
    "duration": 14,
    "start_time": "2022-01-13T17:55:42.514Z"
   },
   {
    "duration": 12,
    "start_time": "2022-01-13T17:55:42.530Z"
   },
   {
    "duration": 9,
    "start_time": "2022-01-13T17:55:42.544Z"
   },
   {
    "duration": 8,
    "start_time": "2022-01-13T17:55:42.555Z"
   },
   {
    "duration": 8,
    "start_time": "2022-01-13T17:55:42.564Z"
   },
   {
    "duration": 4,
    "start_time": "2022-01-13T17:55:42.574Z"
   },
   {
    "duration": 3609,
    "start_time": "2022-01-13T17:55:42.580Z"
   },
   {
    "duration": 22,
    "start_time": "2022-01-13T17:55:46.191Z"
   },
   {
    "duration": 8,
    "start_time": "2022-01-13T17:55:46.215Z"
   },
   {
    "duration": 7,
    "start_time": "2022-01-13T17:55:46.225Z"
   },
   {
    "duration": 7,
    "start_time": "2022-01-13T17:55:46.233Z"
   },
   {
    "duration": 7,
    "start_time": "2022-01-13T17:55:46.241Z"
   },
   {
    "duration": 16,
    "start_time": "2022-01-13T17:55:46.250Z"
   },
   {
    "duration": 6,
    "start_time": "2022-01-13T17:55:46.267Z"
   },
   {
    "duration": 46,
    "start_time": "2022-01-13T17:55:46.275Z"
   },
   {
    "duration": 6,
    "start_time": "2022-01-13T17:55:46.322Z"
   },
   {
    "duration": 25,
    "start_time": "2022-01-13T17:55:46.329Z"
   },
   {
    "duration": 18,
    "start_time": "2022-01-13T17:55:46.355Z"
   },
   {
    "duration": 39,
    "start_time": "2022-01-13T17:55:46.374Z"
   },
   {
    "duration": 19,
    "start_time": "2022-01-13T17:55:46.414Z"
   },
   {
    "duration": 9,
    "start_time": "2022-01-13T17:56:56.325Z"
   },
   {
    "duration": 8,
    "start_time": "2022-01-13T17:57:26.778Z"
   },
   {
    "duration": 8,
    "start_time": "2022-01-13T17:58:33.462Z"
   },
   {
    "duration": 1,
    "start_time": "2022-01-13T18:11:12.160Z"
   },
   {
    "duration": 279,
    "start_time": "2022-01-13T18:18:12.104Z"
   },
   {
    "duration": 208,
    "start_time": "2022-01-13T18:18:45.860Z"
   },
   {
    "duration": 6036,
    "start_time": "2022-01-13T18:19:13.717Z"
   },
   {
    "duration": 5,
    "start_time": "2022-01-13T18:19:43.129Z"
   },
   {
    "duration": 6,
    "start_time": "2022-01-13T18:19:54.615Z"
   },
   {
    "duration": 6,
    "start_time": "2022-01-13T18:20:01.608Z"
   },
   {
    "duration": 9,
    "start_time": "2022-01-13T18:21:59.981Z"
   },
   {
    "duration": 9,
    "start_time": "2022-01-13T18:22:09.578Z"
   },
   {
    "duration": 5,
    "start_time": "2022-01-13T18:22:31.761Z"
   },
   {
    "duration": 598,
    "start_time": "2022-01-13T18:22:53.132Z"
   },
   {
    "duration": 8,
    "start_time": "2022-01-13T18:22:53.732Z"
   },
   {
    "duration": 4,
    "start_time": "2022-01-13T18:22:53.742Z"
   },
   {
    "duration": 11,
    "start_time": "2022-01-13T18:22:53.748Z"
   },
   {
    "duration": 13,
    "start_time": "2022-01-13T18:22:53.760Z"
   },
   {
    "duration": 38,
    "start_time": "2022-01-13T18:22:53.774Z"
   },
   {
    "duration": 8,
    "start_time": "2022-01-13T18:22:53.813Z"
   },
   {
    "duration": 7,
    "start_time": "2022-01-13T18:22:53.823Z"
   },
   {
    "duration": 9,
    "start_time": "2022-01-13T18:22:53.831Z"
   },
   {
    "duration": 6,
    "start_time": "2022-01-13T18:22:53.842Z"
   },
   {
    "duration": 5,
    "start_time": "2022-01-13T18:22:53.850Z"
   },
   {
    "duration": 6,
    "start_time": "2022-01-13T18:22:53.857Z"
   },
   {
    "duration": 8,
    "start_time": "2022-01-13T18:22:53.865Z"
   },
   {
    "duration": 45,
    "start_time": "2022-01-13T18:22:53.874Z"
   },
   {
    "duration": 11,
    "start_time": "2022-01-13T18:22:53.920Z"
   },
   {
    "duration": 13,
    "start_time": "2022-01-13T18:22:53.932Z"
   },
   {
    "duration": 14,
    "start_time": "2022-01-13T18:22:53.947Z"
   },
   {
    "duration": 50,
    "start_time": "2022-01-13T18:22:53.963Z"
   },
   {
    "duration": 4,
    "start_time": "2022-01-13T18:22:54.015Z"
   },
   {
    "duration": 6,
    "start_time": "2022-01-13T18:22:54.021Z"
   },
   {
    "duration": 5,
    "start_time": "2022-01-13T18:22:54.028Z"
   },
   {
    "duration": 17,
    "start_time": "2022-01-13T18:22:54.034Z"
   },
   {
    "duration": 7,
    "start_time": "2022-01-13T18:22:54.054Z"
   },
   {
    "duration": 7,
    "start_time": "2022-01-13T18:22:54.063Z"
   },
   {
    "duration": 45,
    "start_time": "2022-01-13T18:22:54.071Z"
   },
   {
    "duration": 9,
    "start_time": "2022-01-13T18:22:54.118Z"
   },
   {
    "duration": 3,
    "start_time": "2022-01-13T18:22:54.129Z"
   },
   {
    "duration": 5,
    "start_time": "2022-01-13T18:22:54.134Z"
   },
   {
    "duration": 4,
    "start_time": "2022-01-13T18:22:54.140Z"
   },
   {
    "duration": 4,
    "start_time": "2022-01-13T18:22:54.145Z"
   },
   {
    "duration": 11,
    "start_time": "2022-01-13T18:22:54.150Z"
   },
   {
    "duration": 8,
    "start_time": "2022-01-13T18:22:54.162Z"
   },
   {
    "duration": 11,
    "start_time": "2022-01-13T18:22:54.171Z"
   },
   {
    "duration": 2,
    "start_time": "2022-01-13T18:22:54.212Z"
   },
   {
    "duration": 7,
    "start_time": "2022-01-13T18:22:54.216Z"
   },
   {
    "duration": 7,
    "start_time": "2022-01-13T18:22:54.224Z"
   },
   {
    "duration": 6,
    "start_time": "2022-01-13T18:22:54.232Z"
   },
   {
    "duration": 5,
    "start_time": "2022-01-13T18:22:54.240Z"
   },
   {
    "duration": 5,
    "start_time": "2022-01-13T18:22:54.246Z"
   },
   {
    "duration": 15,
    "start_time": "2022-01-13T18:22:54.252Z"
   },
   {
    "duration": 55,
    "start_time": "2022-01-13T18:22:54.269Z"
   },
   {
    "duration": 14,
    "start_time": "2022-01-13T18:22:54.325Z"
   },
   {
    "duration": 11,
    "start_time": "2022-01-13T18:22:54.341Z"
   },
   {
    "duration": 9,
    "start_time": "2022-01-13T18:22:54.354Z"
   },
   {
    "duration": 8,
    "start_time": "2022-01-13T18:22:54.365Z"
   },
   {
    "duration": 39,
    "start_time": "2022-01-13T18:22:54.374Z"
   },
   {
    "duration": 3452,
    "start_time": "2022-01-13T18:22:54.414Z"
   },
   {
    "duration": 12,
    "start_time": "2022-01-13T18:22:57.867Z"
   },
   {
    "duration": 9,
    "start_time": "2022-01-13T18:22:57.881Z"
   },
   {
    "duration": 22,
    "start_time": "2022-01-13T18:22:57.892Z"
   },
   {
    "duration": 8,
    "start_time": "2022-01-13T18:22:57.916Z"
   },
   {
    "duration": 7,
    "start_time": "2022-01-13T18:22:57.925Z"
   },
   {
    "duration": 23,
    "start_time": "2022-01-13T18:22:57.934Z"
   },
   {
    "duration": 7,
    "start_time": "2022-01-13T18:22:57.959Z"
   },
   {
    "duration": 45,
    "start_time": "2022-01-13T18:22:57.968Z"
   },
   {
    "duration": 6,
    "start_time": "2022-01-13T18:22:58.014Z"
   },
   {
    "duration": 24,
    "start_time": "2022-01-13T18:22:58.022Z"
   },
   {
    "duration": 18,
    "start_time": "2022-01-13T18:22:58.047Z"
   },
   {
    "duration": 19,
    "start_time": "2022-01-13T18:22:58.066Z"
   },
   {
    "duration": 19,
    "start_time": "2022-01-13T18:22:58.112Z"
   },
   {
    "duration": 18,
    "start_time": "2022-01-13T18:23:21.510Z"
   },
   {
    "duration": 9,
    "start_time": "2022-01-13T18:23:32.836Z"
   },
   {
    "duration": 5,
    "start_time": "2022-01-13T18:23:35.715Z"
   },
   {
    "duration": 4,
    "start_time": "2022-01-13T18:25:40.312Z"
   },
   {
    "duration": 6,
    "start_time": "2022-01-13T18:25:50.607Z"
   },
   {
    "duration": 5,
    "start_time": "2022-01-13T18:26:05.139Z"
   },
   {
    "duration": 575,
    "start_time": "2022-01-13T18:26:37.576Z"
   },
   {
    "duration": 7,
    "start_time": "2022-01-13T18:26:38.153Z"
   },
   {
    "duration": 4,
    "start_time": "2022-01-13T18:26:38.162Z"
   },
   {
    "duration": 10,
    "start_time": "2022-01-13T18:26:38.168Z"
   },
   {
    "duration": 11,
    "start_time": "2022-01-13T18:26:38.180Z"
   },
   {
    "duration": 28,
    "start_time": "2022-01-13T18:26:38.193Z"
   },
   {
    "duration": 10,
    "start_time": "2022-01-13T18:26:38.222Z"
   },
   {
    "duration": 6,
    "start_time": "2022-01-13T18:26:38.234Z"
   },
   {
    "duration": 6,
    "start_time": "2022-01-13T18:26:38.242Z"
   },
   {
    "duration": 7,
    "start_time": "2022-01-13T18:26:38.249Z"
   },
   {
    "duration": 7,
    "start_time": "2022-01-13T18:26:38.257Z"
   },
   {
    "duration": 4,
    "start_time": "2022-01-13T18:26:38.265Z"
   },
   {
    "duration": 6,
    "start_time": "2022-01-13T18:26:38.271Z"
   },
   {
    "duration": 38,
    "start_time": "2022-01-13T18:26:38.278Z"
   },
   {
    "duration": 9,
    "start_time": "2022-01-13T18:26:38.317Z"
   },
   {
    "duration": 11,
    "start_time": "2022-01-13T18:26:38.327Z"
   },
   {
    "duration": 14,
    "start_time": "2022-01-13T18:26:38.339Z"
   },
   {
    "duration": 11,
    "start_time": "2022-01-13T18:26:38.354Z"
   },
   {
    "duration": 3,
    "start_time": "2022-01-13T18:26:38.366Z"
   },
   {
    "duration": 4,
    "start_time": "2022-01-13T18:26:38.371Z"
   },
   {
    "duration": 36,
    "start_time": "2022-01-13T18:26:38.376Z"
   },
   {
    "duration": 16,
    "start_time": "2022-01-13T18:26:38.413Z"
   },
   {
    "duration": 6,
    "start_time": "2022-01-13T18:26:38.432Z"
   },
   {
    "duration": 6,
    "start_time": "2022-01-13T18:26:38.441Z"
   },
   {
    "duration": 7,
    "start_time": "2022-01-13T18:26:38.448Z"
   },
   {
    "duration": 9,
    "start_time": "2022-01-13T18:26:38.456Z"
   },
   {
    "duration": 4,
    "start_time": "2022-01-13T18:26:38.466Z"
   },
   {
    "duration": 41,
    "start_time": "2022-01-13T18:26:38.472Z"
   },
   {
    "duration": 4,
    "start_time": "2022-01-13T18:26:38.515Z"
   },
   {
    "duration": 4,
    "start_time": "2022-01-13T18:26:38.521Z"
   },
   {
    "duration": 8,
    "start_time": "2022-01-13T18:26:38.527Z"
   },
   {
    "duration": 3,
    "start_time": "2022-01-13T18:26:38.537Z"
   },
   {
    "duration": 5,
    "start_time": "2022-01-13T18:26:38.542Z"
   },
   {
    "duration": 6,
    "start_time": "2022-01-13T18:26:38.549Z"
   },
   {
    "duration": 2,
    "start_time": "2022-01-13T18:26:38.557Z"
   },
   {
    "duration": 53,
    "start_time": "2022-01-13T18:26:38.560Z"
   },
   {
    "duration": 7,
    "start_time": "2022-01-13T18:26:38.615Z"
   },
   {
    "duration": 7,
    "start_time": "2022-01-13T18:26:38.623Z"
   },
   {
    "duration": 8,
    "start_time": "2022-01-13T18:26:38.631Z"
   },
   {
    "duration": 4,
    "start_time": "2022-01-13T18:26:38.640Z"
   },
   {
    "duration": 14,
    "start_time": "2022-01-13T18:26:38.646Z"
   },
   {
    "duration": 14,
    "start_time": "2022-01-13T18:26:38.661Z"
   },
   {
    "duration": 44,
    "start_time": "2022-01-13T18:26:38.676Z"
   },
   {
    "duration": 10,
    "start_time": "2022-01-13T18:26:38.722Z"
   },
   {
    "duration": 10,
    "start_time": "2022-01-13T18:26:38.733Z"
   },
   {
    "duration": 8,
    "start_time": "2022-01-13T18:26:38.744Z"
   },
   {
    "duration": 5,
    "start_time": "2022-01-13T18:26:38.753Z"
   },
   {
    "duration": 3597,
    "start_time": "2022-01-13T18:26:38.760Z"
   },
   {
    "duration": 12,
    "start_time": "2022-01-13T18:26:42.359Z"
   },
   {
    "duration": 8,
    "start_time": "2022-01-13T18:26:42.372Z"
   },
   {
    "duration": 7,
    "start_time": "2022-01-13T18:26:42.382Z"
   },
   {
    "duration": 25,
    "start_time": "2022-01-13T18:26:42.390Z"
   },
   {
    "duration": 7,
    "start_time": "2022-01-13T18:26:42.417Z"
   },
   {
    "duration": 17,
    "start_time": "2022-01-13T18:26:42.425Z"
   },
   {
    "duration": 5,
    "start_time": "2022-01-13T18:26:42.443Z"
   },
   {
    "duration": 18,
    "start_time": "2022-01-13T18:26:42.450Z"
   },
   {
    "duration": 6,
    "start_time": "2022-01-13T18:26:42.469Z"
   },
   {
    "duration": 57,
    "start_time": "2022-01-13T18:26:42.476Z"
   },
   {
    "duration": 19,
    "start_time": "2022-01-13T18:26:42.534Z"
   },
   {
    "duration": 17,
    "start_time": "2022-01-13T18:26:42.554Z"
   },
   {
    "duration": 41,
    "start_time": "2022-01-13T18:26:42.573Z"
   },
   {
    "duration": 72,
    "start_time": "2022-01-13T18:27:30.952Z"
   },
   {
    "duration": 7,
    "start_time": "2022-01-13T18:27:39.376Z"
   },
   {
    "duration": 7,
    "start_time": "2022-01-13T18:27:52.609Z"
   },
   {
    "duration": 287,
    "start_time": "2022-01-13T18:28:18.131Z"
   },
   {
    "duration": 7,
    "start_time": "2022-01-13T18:28:31.717Z"
   },
   {
    "duration": 7,
    "start_time": "2022-01-13T18:29:28.378Z"
   },
   {
    "duration": 74,
    "start_time": "2022-01-13T18:30:05.408Z"
   },
   {
    "duration": 73,
    "start_time": "2022-01-13T18:30:09.543Z"
   },
   {
    "duration": 10,
    "start_time": "2022-01-13T18:30:30.297Z"
   },
   {
    "duration": 10,
    "start_time": "2022-01-13T18:31:07.603Z"
   },
   {
    "duration": 11,
    "start_time": "2022-01-13T18:31:23.997Z"
   },
   {
    "duration": 4,
    "start_time": "2022-01-13T18:31:44.466Z"
   },
   {
    "duration": 10,
    "start_time": "2022-01-13T18:32:12.717Z"
   },
   {
    "duration": 11,
    "start_time": "2022-01-13T18:35:58.050Z"
   },
   {
    "duration": 6,
    "start_time": "2022-01-13T18:36:01.442Z"
   },
   {
    "duration": 4,
    "start_time": "2022-01-13T18:38:24.879Z"
   },
   {
    "duration": 303,
    "start_time": "2022-01-14T02:11:07.484Z"
   },
   {
    "duration": 853,
    "start_time": "2022-01-14T02:11:20.506Z"
   },
   {
    "duration": 12,
    "start_time": "2022-01-14T02:11:21.362Z"
   },
   {
    "duration": 8,
    "start_time": "2022-01-14T02:11:21.377Z"
   },
   {
    "duration": 29,
    "start_time": "2022-01-14T02:11:21.388Z"
   },
   {
    "duration": 20,
    "start_time": "2022-01-14T02:11:21.419Z"
   },
   {
    "duration": 21,
    "start_time": "2022-01-14T02:11:21.442Z"
   },
   {
    "duration": 13,
    "start_time": "2022-01-14T02:11:21.465Z"
   },
   {
    "duration": 42,
    "start_time": "2022-01-14T02:11:21.480Z"
   },
   {
    "duration": 10,
    "start_time": "2022-01-14T02:11:21.527Z"
   },
   {
    "duration": 10,
    "start_time": "2022-01-14T02:11:21.540Z"
   },
   {
    "duration": 9,
    "start_time": "2022-01-14T02:11:21.553Z"
   },
   {
    "duration": 8,
    "start_time": "2022-01-14T02:11:21.564Z"
   },
   {
    "duration": 11,
    "start_time": "2022-01-14T02:11:21.618Z"
   },
   {
    "duration": 12,
    "start_time": "2022-01-14T02:11:21.632Z"
   },
   {
    "duration": 15,
    "start_time": "2022-01-14T02:11:21.647Z"
   },
   {
    "duration": 56,
    "start_time": "2022-01-14T02:11:21.664Z"
   },
   {
    "duration": 22,
    "start_time": "2022-01-14T02:11:21.723Z"
   },
   {
    "duration": 22,
    "start_time": "2022-01-14T02:11:21.748Z"
   },
   {
    "duration": 48,
    "start_time": "2022-01-14T02:11:21.773Z"
   },
   {
    "duration": 10,
    "start_time": "2022-01-14T02:11:21.823Z"
   },
   {
    "duration": 6,
    "start_time": "2022-01-14T02:11:21.835Z"
   },
   {
    "duration": 28,
    "start_time": "2022-01-14T02:11:21.843Z"
   },
   {
    "duration": 51,
    "start_time": "2022-01-14T02:11:21.873Z"
   },
   {
    "duration": 11,
    "start_time": "2022-01-14T02:11:21.926Z"
   },
   {
    "duration": 11,
    "start_time": "2022-01-14T02:11:21.939Z"
   },
   {
    "duration": 12,
    "start_time": "2022-01-14T02:11:21.952Z"
   },
   {
    "duration": 6,
    "start_time": "2022-01-14T02:11:21.970Z"
   },
   {
    "duration": 7,
    "start_time": "2022-01-14T02:11:22.019Z"
   },
   {
    "duration": 7,
    "start_time": "2022-01-14T02:11:22.030Z"
   },
   {
    "duration": 8,
    "start_time": "2022-01-14T02:11:22.040Z"
   },
   {
    "duration": 11,
    "start_time": "2022-01-14T02:11:22.051Z"
   },
   {
    "duration": 6,
    "start_time": "2022-01-14T02:11:22.117Z"
   },
   {
    "duration": 11,
    "start_time": "2022-01-14T02:11:22.125Z"
   },
   {
    "duration": 22,
    "start_time": "2022-01-14T02:11:22.139Z"
   },
   {
    "duration": 53,
    "start_time": "2022-01-14T02:11:22.164Z"
   },
   {
    "duration": 9,
    "start_time": "2022-01-14T02:11:22.220Z"
   },
   {
    "duration": 10,
    "start_time": "2022-01-14T02:11:22.232Z"
   },
   {
    "duration": 11,
    "start_time": "2022-01-14T02:11:22.245Z"
   },
   {
    "duration": 10,
    "start_time": "2022-01-14T02:11:22.259Z"
   },
   {
    "duration": 47,
    "start_time": "2022-01-14T02:11:22.272Z"
   },
   {
    "duration": 5,
    "start_time": "2022-01-14T02:11:22.321Z"
   },
   {
    "duration": 7,
    "start_time": "2022-01-14T02:11:22.329Z"
   },
   {
    "duration": 25,
    "start_time": "2022-01-14T02:11:22.339Z"
   },
   {
    "duration": 63,
    "start_time": "2022-01-14T02:11:22.366Z"
   },
   {
    "duration": 21,
    "start_time": "2022-01-14T02:11:22.432Z"
   },
   {
    "duration": 15,
    "start_time": "2022-01-14T02:11:22.456Z"
   },
   {
    "duration": 16,
    "start_time": "2022-01-14T02:11:22.474Z"
   },
   {
    "duration": 10,
    "start_time": "2022-01-14T02:11:22.517Z"
   },
   {
    "duration": 13,
    "start_time": "2022-01-14T02:11:22.529Z"
   },
   {
    "duration": 5416,
    "start_time": "2022-01-14T02:11:22.544Z"
   },
   {
    "duration": 21,
    "start_time": "2022-01-14T02:11:27.963Z"
   },
   {
    "duration": 35,
    "start_time": "2022-01-14T02:11:27.987Z"
   },
   {
    "duration": 9,
    "start_time": "2022-01-14T02:11:28.025Z"
   },
   {
    "duration": 9,
    "start_time": "2022-01-14T02:11:28.037Z"
   },
   {
    "duration": 13,
    "start_time": "2022-01-14T02:11:28.049Z"
   },
   {
    "duration": 61,
    "start_time": "2022-01-14T02:11:28.064Z"
   },
   {
    "duration": 11,
    "start_time": "2022-01-14T02:11:28.128Z"
   },
   {
    "duration": 33,
    "start_time": "2022-01-14T02:11:28.141Z"
   },
   {
    "duration": 41,
    "start_time": "2022-01-14T02:11:28.176Z"
   },
   {
    "duration": 36,
    "start_time": "2022-01-14T02:11:28.219Z"
   },
   {
    "duration": 31,
    "start_time": "2022-01-14T02:11:28.257Z"
   },
   {
    "duration": 54,
    "start_time": "2022-01-14T02:11:28.290Z"
   },
   {
    "duration": 30,
    "start_time": "2022-01-14T02:11:28.347Z"
   },
   {
    "duration": 10,
    "start_time": "2022-01-14T02:12:10.383Z"
   },
   {
    "duration": 8,
    "start_time": "2022-01-14T02:20:17.874Z"
   },
   {
    "duration": 820,
    "start_time": "2022-01-14T02:25:09.171Z"
   },
   {
    "duration": 13,
    "start_time": "2022-01-14T02:25:09.993Z"
   },
   {
    "duration": 17,
    "start_time": "2022-01-14T02:25:10.008Z"
   },
   {
    "duration": 22,
    "start_time": "2022-01-14T02:25:10.028Z"
   },
   {
    "duration": 22,
    "start_time": "2022-01-14T02:25:10.053Z"
   },
   {
    "duration": 18,
    "start_time": "2022-01-14T02:25:10.077Z"
   },
   {
    "duration": 10,
    "start_time": "2022-01-14T02:25:10.117Z"
   },
   {
    "duration": 9,
    "start_time": "2022-01-14T02:25:10.131Z"
   },
   {
    "duration": 9,
    "start_time": "2022-01-14T02:25:10.143Z"
   },
   {
    "duration": 10,
    "start_time": "2022-01-14T02:25:10.155Z"
   },
   {
    "duration": 52,
    "start_time": "2022-01-14T02:25:10.167Z"
   },
   {
    "duration": 10,
    "start_time": "2022-01-14T02:25:10.222Z"
   },
   {
    "duration": 11,
    "start_time": "2022-01-14T02:25:10.234Z"
   },
   {
    "duration": 10,
    "start_time": "2022-01-14T02:25:10.247Z"
   },
   {
    "duration": 14,
    "start_time": "2022-01-14T02:25:10.259Z"
   },
   {
    "duration": 18,
    "start_time": "2022-01-14T02:25:10.318Z"
   },
   {
    "duration": 20,
    "start_time": "2022-01-14T02:25:10.338Z"
   },
   {
    "duration": 21,
    "start_time": "2022-01-14T02:25:10.360Z"
   },
   {
    "duration": 6,
    "start_time": "2022-01-14T02:25:10.418Z"
   },
   {
    "duration": 10,
    "start_time": "2022-01-14T02:25:10.427Z"
   },
   {
    "duration": 7,
    "start_time": "2022-01-14T02:25:10.439Z"
   },
   {
    "duration": 28,
    "start_time": "2022-01-14T02:25:10.448Z"
   },
   {
    "duration": 12,
    "start_time": "2022-01-14T02:25:10.518Z"
   },
   {
    "duration": 13,
    "start_time": "2022-01-14T02:25:10.533Z"
   },
   {
    "duration": 10,
    "start_time": "2022-01-14T02:25:10.548Z"
   },
   {
    "duration": 12,
    "start_time": "2022-01-14T02:25:10.560Z"
   },
   {
    "duration": 46,
    "start_time": "2022-01-14T02:25:10.574Z"
   },
   {
    "duration": 12,
    "start_time": "2022-01-14T02:25:10.622Z"
   },
   {
    "duration": 7,
    "start_time": "2022-01-14T02:25:10.636Z"
   },
   {
    "duration": 6,
    "start_time": "2022-01-14T02:25:10.646Z"
   },
   {
    "duration": 12,
    "start_time": "2022-01-14T02:25:10.654Z"
   },
   {
    "duration": 5,
    "start_time": "2022-01-14T02:25:10.668Z"
   },
   {
    "duration": 48,
    "start_time": "2022-01-14T02:25:10.675Z"
   },
   {
    "duration": 22,
    "start_time": "2022-01-14T02:25:10.725Z"
   },
   {
    "duration": 11,
    "start_time": "2022-01-14T02:25:10.749Z"
   },
   {
    "duration": 7,
    "start_time": "2022-01-14T02:25:10.762Z"
   },
   {
    "duration": 54,
    "start_time": "2022-01-14T02:25:10.771Z"
   },
   {
    "duration": 10,
    "start_time": "2022-01-14T02:25:10.827Z"
   },
   {
    "duration": 9,
    "start_time": "2022-01-14T02:25:10.839Z"
   },
   {
    "duration": 6,
    "start_time": "2022-01-14T02:25:10.851Z"
   },
   {
    "duration": 10,
    "start_time": "2022-01-14T02:25:10.859Z"
   },
   {
    "duration": 50,
    "start_time": "2022-01-14T02:25:10.871Z"
   },
   {
    "duration": 12,
    "start_time": "2022-01-14T02:25:10.923Z"
   },
   {
    "duration": 16,
    "start_time": "2022-01-14T02:25:10.937Z"
   },
   {
    "duration": 14,
    "start_time": "2022-01-14T02:25:10.955Z"
   },
   {
    "duration": 61,
    "start_time": "2022-01-14T02:25:10.971Z"
   },
   {
    "duration": 25,
    "start_time": "2022-01-14T02:25:11.034Z"
   },
   {
    "duration": 22,
    "start_time": "2022-01-14T02:25:11.062Z"
   },
   {
    "duration": 33,
    "start_time": "2022-01-14T02:25:11.086Z"
   },
   {
    "duration": 9,
    "start_time": "2022-01-14T02:25:11.121Z"
   },
   {
    "duration": 5419,
    "start_time": "2022-01-14T02:25:11.132Z"
   },
   {
    "duration": 22,
    "start_time": "2022-01-14T02:25:16.554Z"
   },
   {
    "duration": 13,
    "start_time": "2022-01-14T02:25:16.578Z"
   },
   {
    "duration": 28,
    "start_time": "2022-01-14T02:25:16.593Z"
   },
   {
    "duration": 12,
    "start_time": "2022-01-14T02:25:16.623Z"
   },
   {
    "duration": 9,
    "start_time": "2022-01-14T02:25:16.637Z"
   },
   {
    "duration": 27,
    "start_time": "2022-01-14T02:25:16.648Z"
   },
   {
    "duration": 47,
    "start_time": "2022-01-14T02:25:16.677Z"
   },
   {
    "duration": 35,
    "start_time": "2022-01-14T02:25:16.726Z"
   },
   {
    "duration": 10,
    "start_time": "2022-01-14T02:25:16.763Z"
   },
   {
    "duration": 67,
    "start_time": "2022-01-14T02:25:16.775Z"
   },
   {
    "duration": 29,
    "start_time": "2022-01-14T02:25:16.845Z"
   },
   {
    "duration": 53,
    "start_time": "2022-01-14T02:25:16.877Z"
   },
   {
    "duration": 30,
    "start_time": "2022-01-14T02:25:16.932Z"
   },
   {
    "duration": 29,
    "start_time": "2022-01-14T02:26:09.926Z"
   },
   {
    "duration": 323,
    "start_time": "2022-01-14T16:39:40.286Z"
   },
   {
    "duration": 624,
    "start_time": "2022-01-14T16:39:48.579Z"
   },
   {
    "duration": 8,
    "start_time": "2022-01-14T16:39:49.205Z"
   },
   {
    "duration": 5,
    "start_time": "2022-01-14T16:39:49.216Z"
   },
   {
    "duration": 12,
    "start_time": "2022-01-14T16:39:49.223Z"
   },
   {
    "duration": 14,
    "start_time": "2022-01-14T16:39:49.241Z"
   },
   {
    "duration": 12,
    "start_time": "2022-01-14T16:39:49.257Z"
   },
   {
    "duration": 9,
    "start_time": "2022-01-14T16:39:49.271Z"
   },
   {
    "duration": 8,
    "start_time": "2022-01-14T16:39:49.283Z"
   },
   {
    "duration": 13,
    "start_time": "2022-01-14T16:39:49.293Z"
   },
   {
    "duration": 41,
    "start_time": "2022-01-14T16:39:49.307Z"
   },
   {
    "duration": 8,
    "start_time": "2022-01-14T16:39:49.350Z"
   },
   {
    "duration": 6,
    "start_time": "2022-01-14T16:39:49.360Z"
   },
   {
    "duration": 8,
    "start_time": "2022-01-14T16:39:49.368Z"
   },
   {
    "duration": 8,
    "start_time": "2022-01-14T16:39:49.378Z"
   },
   {
    "duration": 12,
    "start_time": "2022-01-14T16:39:49.388Z"
   },
   {
    "duration": 50,
    "start_time": "2022-01-14T16:39:49.402Z"
   },
   {
    "duration": 15,
    "start_time": "2022-01-14T16:39:49.454Z"
   },
   {
    "duration": 14,
    "start_time": "2022-01-14T16:39:49.471Z"
   },
   {
    "duration": 7,
    "start_time": "2022-01-14T16:39:49.487Z"
   },
   {
    "duration": 9,
    "start_time": "2022-01-14T16:39:49.495Z"
   },
   {
    "duration": 39,
    "start_time": "2022-01-14T16:39:49.506Z"
   },
   {
    "duration": 20,
    "start_time": "2022-01-14T16:39:49.547Z"
   },
   {
    "duration": 8,
    "start_time": "2022-01-14T16:39:49.572Z"
   },
   {
    "duration": 8,
    "start_time": "2022-01-14T16:39:49.583Z"
   },
   {
    "duration": 9,
    "start_time": "2022-01-14T16:39:49.593Z"
   },
   {
    "duration": 42,
    "start_time": "2022-01-14T16:39:49.603Z"
   },
   {
    "duration": 4,
    "start_time": "2022-01-14T16:39:49.647Z"
   },
   {
    "duration": 6,
    "start_time": "2022-01-14T16:39:49.653Z"
   },
   {
    "duration": 11,
    "start_time": "2022-01-14T16:39:49.660Z"
   },
   {
    "duration": 7,
    "start_time": "2022-01-14T16:39:49.673Z"
   },
   {
    "duration": 18,
    "start_time": "2022-01-14T16:39:49.681Z"
   },
   {
    "duration": 7,
    "start_time": "2022-01-14T16:39:49.701Z"
   },
   {
    "duration": 12,
    "start_time": "2022-01-14T16:39:49.709Z"
   },
   {
    "duration": 26,
    "start_time": "2022-01-14T16:39:49.722Z"
   },
   {
    "duration": 8,
    "start_time": "2022-01-14T16:39:49.749Z"
   },
   {
    "duration": 6,
    "start_time": "2022-01-14T16:39:49.758Z"
   },
   {
    "duration": 14,
    "start_time": "2022-01-14T16:39:49.766Z"
   },
   {
    "duration": 11,
    "start_time": "2022-01-14T16:39:49.782Z"
   },
   {
    "duration": 9,
    "start_time": "2022-01-14T16:39:49.795Z"
   },
   {
    "duration": 8,
    "start_time": "2022-01-14T16:39:49.806Z"
   },
   {
    "duration": 32,
    "start_time": "2022-01-14T16:39:49.815Z"
   },
   {
    "duration": 10,
    "start_time": "2022-01-14T16:39:49.849Z"
   },
   {
    "duration": 9,
    "start_time": "2022-01-14T16:39:49.861Z"
   },
   {
    "duration": 6897,
    "start_time": "2022-01-14T16:39:49.871Z"
   },
   {
    "duration": -298,
    "start_time": "2022-01-14T16:39:57.067Z"
   },
   {
    "duration": -300,
    "start_time": "2022-01-14T16:39:57.070Z"
   },
   {
    "duration": -302,
    "start_time": "2022-01-14T16:39:57.074Z"
   },
   {
    "duration": -304,
    "start_time": "2022-01-14T16:39:57.077Z"
   },
   {
    "duration": -306,
    "start_time": "2022-01-14T16:39:57.080Z"
   },
   {
    "duration": -308,
    "start_time": "2022-01-14T16:39:57.083Z"
   },
   {
    "duration": -312,
    "start_time": "2022-01-14T16:39:57.087Z"
   },
   {
    "duration": -314,
    "start_time": "2022-01-14T16:39:57.090Z"
   },
   {
    "duration": -316,
    "start_time": "2022-01-14T16:39:57.093Z"
   },
   {
    "duration": -318,
    "start_time": "2022-01-14T16:39:57.096Z"
   },
   {
    "duration": -320,
    "start_time": "2022-01-14T16:39:57.099Z"
   },
   {
    "duration": -323,
    "start_time": "2022-01-14T16:39:57.103Z"
   },
   {
    "duration": -325,
    "start_time": "2022-01-14T16:39:57.106Z"
   },
   {
    "duration": -328,
    "start_time": "2022-01-14T16:39:57.110Z"
   },
   {
    "duration": -330,
    "start_time": "2022-01-14T16:39:57.113Z"
   },
   {
    "duration": -332,
    "start_time": "2022-01-14T16:39:57.116Z"
   },
   {
    "duration": -334,
    "start_time": "2022-01-14T16:39:57.119Z"
   },
   {
    "duration": -337,
    "start_time": "2022-01-14T16:39:57.122Z"
   },
   {
    "duration": -339,
    "start_time": "2022-01-14T16:39:57.125Z"
   },
   {
    "duration": -342,
    "start_time": "2022-01-14T16:39:57.129Z"
   },
   {
    "duration": -344,
    "start_time": "2022-01-14T16:39:57.132Z"
   },
   {
    "duration": -299,
    "start_time": "2022-01-14T16:40:23.721Z"
   },
   {
    "duration": 5936,
    "start_time": "2022-01-14T16:40:25.639Z"
   },
   {
    "duration": 7,
    "start_time": "2022-01-14T16:41:11.220Z"
   },
   {
    "duration": 5,
    "start_time": "2022-01-14T16:41:58.858Z"
   },
   {
    "duration": 6,
    "start_time": "2022-01-14T16:42:07.302Z"
   },
   {
    "duration": 6,
    "start_time": "2022-01-14T16:44:45.853Z"
   },
   {
    "duration": 6,
    "start_time": "2022-01-14T16:44:50.938Z"
   },
   {
    "duration": 5,
    "start_time": "2022-01-14T16:45:59.739Z"
   },
   {
    "duration": 11,
    "start_time": "2022-01-14T16:46:24.685Z"
   },
   {
    "duration": 634,
    "start_time": "2022-01-14T18:45:30.941Z"
   },
   {
    "duration": 7,
    "start_time": "2022-01-14T18:45:31.577Z"
   },
   {
    "duration": 6,
    "start_time": "2022-01-14T18:45:31.588Z"
   },
   {
    "duration": 17,
    "start_time": "2022-01-14T18:45:31.595Z"
   },
   {
    "duration": 16,
    "start_time": "2022-01-14T18:45:31.614Z"
   },
   {
    "duration": 12,
    "start_time": "2022-01-14T18:45:31.641Z"
   },
   {
    "duration": 28,
    "start_time": "2022-01-14T18:45:31.655Z"
   },
   {
    "duration": 18,
    "start_time": "2022-01-14T18:45:31.685Z"
   },
   {
    "duration": 12,
    "start_time": "2022-01-14T18:45:31.704Z"
   },
   {
    "duration": 14,
    "start_time": "2022-01-14T18:45:31.717Z"
   },
   {
    "duration": 13,
    "start_time": "2022-01-14T18:45:31.733Z"
   },
   {
    "duration": 7,
    "start_time": "2022-01-14T18:45:31.748Z"
   },
   {
    "duration": 26,
    "start_time": "2022-01-14T18:45:31.757Z"
   },
   {
    "duration": 11,
    "start_time": "2022-01-14T18:45:31.785Z"
   },
   {
    "duration": 12,
    "start_time": "2022-01-14T18:45:31.798Z"
   },
   {
    "duration": 16,
    "start_time": "2022-01-14T18:45:31.812Z"
   },
   {
    "duration": 12,
    "start_time": "2022-01-14T18:45:31.829Z"
   },
   {
    "duration": 11,
    "start_time": "2022-01-14T18:45:31.842Z"
   },
   {
    "duration": 8,
    "start_time": "2022-01-14T18:45:31.854Z"
   },
   {
    "duration": 8,
    "start_time": "2022-01-14T18:45:31.863Z"
   },
   {
    "duration": 7,
    "start_time": "2022-01-14T18:45:31.873Z"
   },
   {
    "duration": 20,
    "start_time": "2022-01-14T18:45:31.884Z"
   },
   {
    "duration": 7,
    "start_time": "2022-01-14T18:45:31.906Z"
   },
   {
    "duration": 10,
    "start_time": "2022-01-14T18:45:31.914Z"
   },
   {
    "duration": 7,
    "start_time": "2022-01-14T18:45:31.940Z"
   },
   {
    "duration": 19,
    "start_time": "2022-01-14T18:45:31.948Z"
   },
   {
    "duration": 10,
    "start_time": "2022-01-14T18:45:31.969Z"
   },
   {
    "duration": 22,
    "start_time": "2022-01-14T18:45:31.981Z"
   },
   {
    "duration": 9,
    "start_time": "2022-01-14T18:45:32.005Z"
   },
   {
    "duration": 11,
    "start_time": "2022-01-14T18:45:32.016Z"
   },
   {
    "duration": 11,
    "start_time": "2022-01-14T18:45:32.028Z"
   },
   {
    "duration": 7,
    "start_time": "2022-01-14T18:45:32.041Z"
   },
   {
    "duration": 10,
    "start_time": "2022-01-14T18:45:32.050Z"
   },
   {
    "duration": 15,
    "start_time": "2022-01-14T18:45:32.061Z"
   },
   {
    "duration": 8,
    "start_time": "2022-01-14T18:45:32.077Z"
   },
   {
    "duration": 10,
    "start_time": "2022-01-14T18:45:32.087Z"
   },
   {
    "duration": 13,
    "start_time": "2022-01-14T18:45:32.098Z"
   },
   {
    "duration": 20,
    "start_time": "2022-01-14T18:45:32.112Z"
   },
   {
    "duration": 15,
    "start_time": "2022-01-14T18:45:32.134Z"
   },
   {
    "duration": 8,
    "start_time": "2022-01-14T18:45:32.151Z"
   },
   {
    "duration": 20,
    "start_time": "2022-01-14T18:45:32.160Z"
   },
   {
    "duration": 19,
    "start_time": "2022-01-14T18:45:32.182Z"
   },
   {
    "duration": 9,
    "start_time": "2022-01-14T18:45:32.202Z"
   },
   {
    "duration": 12,
    "start_time": "2022-01-14T18:45:32.212Z"
   },
   {
    "duration": 15,
    "start_time": "2022-01-14T18:45:32.225Z"
   },
   {
    "duration": 11,
    "start_time": "2022-01-14T18:45:32.242Z"
   },
   {
    "duration": 10,
    "start_time": "2022-01-14T18:45:32.255Z"
   },
   {
    "duration": 14,
    "start_time": "2022-01-14T18:45:32.267Z"
   },
   {
    "duration": 22,
    "start_time": "2022-01-14T18:45:32.282Z"
   },
   {
    "duration": 16,
    "start_time": "2022-01-14T18:45:32.305Z"
   },
   {
    "duration": 18,
    "start_time": "2022-01-14T18:45:32.323Z"
   },
   {
    "duration": 6,
    "start_time": "2022-01-14T18:45:32.343Z"
   },
   {
    "duration": 14,
    "start_time": "2022-01-14T18:45:32.350Z"
   },
   {
    "duration": 3996,
    "start_time": "2022-01-14T18:45:32.365Z"
   },
   {
    "duration": 12,
    "start_time": "2022-01-14T18:45:36.363Z"
   },
   {
    "duration": 9,
    "start_time": "2022-01-14T18:45:36.377Z"
   },
   {
    "duration": 8,
    "start_time": "2022-01-14T18:45:36.387Z"
   },
   {
    "duration": 7,
    "start_time": "2022-01-14T18:45:36.397Z"
   },
   {
    "duration": 36,
    "start_time": "2022-01-14T18:45:36.406Z"
   },
   {
    "duration": 17,
    "start_time": "2022-01-14T18:45:36.444Z"
   },
   {
    "duration": 8,
    "start_time": "2022-01-14T18:45:36.462Z"
   },
   {
    "duration": 19,
    "start_time": "2022-01-14T18:45:36.472Z"
   },
   {
    "duration": 9,
    "start_time": "2022-01-14T18:45:36.493Z"
   },
   {
    "duration": 52,
    "start_time": "2022-01-14T18:45:36.504Z"
   },
   {
    "duration": 19,
    "start_time": "2022-01-14T18:45:36.558Z"
   },
   {
    "duration": 16,
    "start_time": "2022-01-14T18:45:36.579Z"
   },
   {
    "duration": 45,
    "start_time": "2022-01-14T18:45:36.599Z"
   },
   {
    "duration": 8,
    "start_time": "2022-01-14T18:46:54.063Z"
   },
   {
    "duration": 622,
    "start_time": "2022-01-14T18:48:35.856Z"
   },
   {
    "duration": 8,
    "start_time": "2022-01-14T18:48:36.480Z"
   },
   {
    "duration": 9,
    "start_time": "2022-01-14T18:48:36.490Z"
   },
   {
    "duration": 13,
    "start_time": "2022-01-14T18:48:36.501Z"
   },
   {
    "duration": 27,
    "start_time": "2022-01-14T18:48:36.516Z"
   },
   {
    "duration": 14,
    "start_time": "2022-01-14T18:48:36.545Z"
   },
   {
    "duration": 16,
    "start_time": "2022-01-14T18:48:36.561Z"
   },
   {
    "duration": 13,
    "start_time": "2022-01-14T18:48:36.580Z"
   },
   {
    "duration": 12,
    "start_time": "2022-01-14T18:48:36.595Z"
   },
   {
    "duration": 12,
    "start_time": "2022-01-14T18:48:36.609Z"
   },
   {
    "duration": 17,
    "start_time": "2022-01-14T18:48:36.623Z"
   },
   {
    "duration": 25,
    "start_time": "2022-01-14T18:48:36.642Z"
   },
   {
    "duration": 23,
    "start_time": "2022-01-14T18:48:36.669Z"
   },
   {
    "duration": 25,
    "start_time": "2022-01-14T18:48:36.693Z"
   },
   {
    "duration": 31,
    "start_time": "2022-01-14T18:48:36.720Z"
   },
   {
    "duration": 25,
    "start_time": "2022-01-14T18:48:36.753Z"
   },
   {
    "duration": 20,
    "start_time": "2022-01-14T18:48:36.780Z"
   },
   {
    "duration": 13,
    "start_time": "2022-01-14T18:48:36.802Z"
   },
   {
    "duration": 18,
    "start_time": "2022-01-14T18:48:36.817Z"
   },
   {
    "duration": 10,
    "start_time": "2022-01-14T18:48:36.837Z"
   },
   {
    "duration": 16,
    "start_time": "2022-01-14T18:48:36.849Z"
   },
   {
    "duration": 33,
    "start_time": "2022-01-14T18:48:36.867Z"
   },
   {
    "duration": 9,
    "start_time": "2022-01-14T18:48:36.905Z"
   },
   {
    "duration": 18,
    "start_time": "2022-01-14T18:48:36.917Z"
   },
   {
    "duration": 19,
    "start_time": "2022-01-14T18:48:36.937Z"
   },
   {
    "duration": 12,
    "start_time": "2022-01-14T18:48:36.958Z"
   },
   {
    "duration": 15,
    "start_time": "2022-01-14T18:48:36.972Z"
   },
   {
    "duration": 23,
    "start_time": "2022-01-14T18:48:36.990Z"
   },
   {
    "duration": 19,
    "start_time": "2022-01-14T18:48:37.015Z"
   },
   {
    "duration": 15,
    "start_time": "2022-01-14T18:48:37.036Z"
   },
   {
    "duration": 15,
    "start_time": "2022-01-14T18:48:37.053Z"
   },
   {
    "duration": 8,
    "start_time": "2022-01-14T18:48:37.070Z"
   },
   {
    "duration": 14,
    "start_time": "2022-01-14T18:48:37.080Z"
   },
   {
    "duration": 18,
    "start_time": "2022-01-14T18:48:37.096Z"
   },
   {
    "duration": 8,
    "start_time": "2022-01-14T18:48:37.117Z"
   },
   {
    "duration": 14,
    "start_time": "2022-01-14T18:48:37.127Z"
   },
   {
    "duration": 10,
    "start_time": "2022-01-14T18:48:37.143Z"
   },
   {
    "duration": 12,
    "start_time": "2022-01-14T18:48:37.155Z"
   },
   {
    "duration": 15,
    "start_time": "2022-01-14T18:48:37.169Z"
   },
   {
    "duration": 11,
    "start_time": "2022-01-14T18:48:37.186Z"
   },
   {
    "duration": 19,
    "start_time": "2022-01-14T18:48:37.199Z"
   },
   {
    "duration": 7,
    "start_time": "2022-01-14T18:48:37.220Z"
   },
   {
    "duration": 15,
    "start_time": "2022-01-14T18:48:37.228Z"
   },
   {
    "duration": 12,
    "start_time": "2022-01-14T18:48:37.244Z"
   },
   {
    "duration": 8,
    "start_time": "2022-01-14T18:48:37.258Z"
   },
   {
    "duration": 12,
    "start_time": "2022-01-14T18:48:37.268Z"
   },
   {
    "duration": 12,
    "start_time": "2022-01-14T18:48:37.281Z"
   },
   {
    "duration": 11,
    "start_time": "2022-01-14T18:48:37.294Z"
   },
   {
    "duration": 36,
    "start_time": "2022-01-14T18:48:37.307Z"
   },
   {
    "duration": 17,
    "start_time": "2022-01-14T18:48:37.344Z"
   },
   {
    "duration": 16,
    "start_time": "2022-01-14T18:48:37.363Z"
   },
   {
    "duration": 7,
    "start_time": "2022-01-14T18:48:37.381Z"
   },
   {
    "duration": 8,
    "start_time": "2022-01-14T18:48:37.389Z"
   },
   {
    "duration": 4395,
    "start_time": "2022-01-14T18:48:37.399Z"
   },
   {
    "duration": 14,
    "start_time": "2022-01-14T18:48:41.796Z"
   },
   {
    "duration": 9,
    "start_time": "2022-01-14T18:48:41.812Z"
   },
   {
    "duration": 25,
    "start_time": "2022-01-14T18:48:41.823Z"
   },
   {
    "duration": 8,
    "start_time": "2022-01-14T18:48:41.850Z"
   },
   {
    "duration": 8,
    "start_time": "2022-01-14T18:48:41.860Z"
   },
   {
    "duration": 18,
    "start_time": "2022-01-14T18:48:41.870Z"
   },
   {
    "duration": 8,
    "start_time": "2022-01-14T18:48:41.890Z"
   },
   {
    "duration": 46,
    "start_time": "2022-01-14T18:48:41.900Z"
   },
   {
    "duration": 23,
    "start_time": "2022-01-14T18:48:41.948Z"
   },
   {
    "duration": 10,
    "start_time": "2022-01-14T18:48:41.973Z"
   },
   {
    "duration": 25,
    "start_time": "2022-01-14T18:48:41.985Z"
   },
   {
    "duration": 45,
    "start_time": "2022-01-14T18:48:42.011Z"
   },
   {
    "duration": 18,
    "start_time": "2022-01-14T18:48:42.058Z"
   },
   {
    "duration": 18,
    "start_time": "2022-01-14T18:48:42.081Z"
   },
   {
    "duration": 19,
    "start_time": "2022-01-14T18:51:00.402Z"
   },
   {
    "duration": 7,
    "start_time": "2022-01-14T18:51:15.121Z"
   },
   {
    "duration": 19,
    "start_time": "2022-01-14T18:51:39.243Z"
   },
   {
    "duration": 261,
    "start_time": "2022-01-16T03:59:29.197Z"
   },
   {
    "duration": 581,
    "start_time": "2022-01-16T03:59:56.165Z"
   },
   {
    "duration": 7,
    "start_time": "2022-01-16T03:59:56.748Z"
   },
   {
    "duration": 5,
    "start_time": "2022-01-16T03:59:56.757Z"
   },
   {
    "duration": 50,
    "start_time": "2022-01-16T03:59:59.164Z"
   },
   {
    "duration": 48,
    "start_time": "2022-01-16T04:03:34.247Z"
   },
   {
    "duration": 3,
    "start_time": "2022-01-16T04:03:34.297Z"
   },
   {
    "duration": 9,
    "start_time": "2022-01-16T04:03:34.302Z"
   },
   {
    "duration": 25,
    "start_time": "2022-01-16T04:03:34.312Z"
   },
   {
    "duration": 16,
    "start_time": "2022-01-16T04:03:34.341Z"
   },
   {
    "duration": 17,
    "start_time": "2022-01-16T04:03:34.358Z"
   },
   {
    "duration": 15,
    "start_time": "2022-01-16T04:03:34.376Z"
   },
   {
    "duration": 14,
    "start_time": "2022-01-16T04:03:34.392Z"
   },
   {
    "duration": 12,
    "start_time": "2022-01-16T04:03:34.409Z"
   },
   {
    "duration": 18,
    "start_time": "2022-01-16T04:03:34.423Z"
   },
   {
    "duration": 11,
    "start_time": "2022-01-16T04:03:34.442Z"
   },
   {
    "duration": 15,
    "start_time": "2022-01-16T04:03:34.454Z"
   },
   {
    "duration": 14,
    "start_time": "2022-01-16T04:03:34.470Z"
   },
   {
    "duration": 13,
    "start_time": "2022-01-16T04:03:34.485Z"
   },
   {
    "duration": 11,
    "start_time": "2022-01-16T04:03:34.499Z"
   },
   {
    "duration": 12,
    "start_time": "2022-01-16T04:03:34.511Z"
   },
   {
    "duration": 24,
    "start_time": "2022-01-16T04:03:34.524Z"
   },
   {
    "duration": 3,
    "start_time": "2022-01-16T04:03:34.550Z"
   },
   {
    "duration": 9,
    "start_time": "2022-01-16T04:03:34.555Z"
   },
   {
    "duration": 8,
    "start_time": "2022-01-16T04:03:34.565Z"
   },
   {
    "duration": 20,
    "start_time": "2022-01-16T04:03:34.574Z"
   },
   {
    "duration": 7,
    "start_time": "2022-01-16T04:03:34.595Z"
   },
   {
    "duration": 18,
    "start_time": "2022-01-16T04:03:34.604Z"
   },
   {
    "duration": 21,
    "start_time": "2022-01-16T04:03:34.624Z"
   },
   {
    "duration": 12,
    "start_time": "2022-01-16T04:03:34.647Z"
   },
   {
    "duration": 8,
    "start_time": "2022-01-16T04:03:34.660Z"
   },
   {
    "duration": 15,
    "start_time": "2022-01-16T04:03:34.671Z"
   },
   {
    "duration": 9,
    "start_time": "2022-01-16T04:03:34.688Z"
   },
   {
    "duration": 11,
    "start_time": "2022-01-16T04:03:34.699Z"
   },
   {
    "duration": 18,
    "start_time": "2022-01-16T04:03:34.711Z"
   },
   {
    "duration": 21,
    "start_time": "2022-01-16T04:03:34.730Z"
   },
   {
    "duration": 14,
    "start_time": "2022-01-16T04:03:34.753Z"
   },
   {
    "duration": 25,
    "start_time": "2022-01-16T04:03:34.768Z"
   },
   {
    "duration": 7,
    "start_time": "2022-01-16T04:03:34.794Z"
   },
   {
    "duration": 13,
    "start_time": "2022-01-16T04:03:34.803Z"
   },
   {
    "duration": 17,
    "start_time": "2022-01-16T04:03:34.817Z"
   },
   {
    "duration": 14,
    "start_time": "2022-01-16T04:03:34.835Z"
   },
   {
    "duration": 11,
    "start_time": "2022-01-16T04:03:34.850Z"
   },
   {
    "duration": 11,
    "start_time": "2022-01-16T04:03:34.862Z"
   },
   {
    "duration": 17,
    "start_time": "2022-01-16T04:03:34.875Z"
   },
   {
    "duration": 14,
    "start_time": "2022-01-16T04:03:34.893Z"
   },
   {
    "duration": 18,
    "start_time": "2022-01-16T04:03:34.909Z"
   },
   {
    "duration": 16,
    "start_time": "2022-01-16T04:03:34.928Z"
   },
   {
    "duration": 13,
    "start_time": "2022-01-16T04:03:34.945Z"
   },
   {
    "duration": 19,
    "start_time": "2022-01-16T04:03:34.959Z"
   },
   {
    "duration": 15,
    "start_time": "2022-01-16T04:03:34.980Z"
   },
   {
    "duration": 14,
    "start_time": "2022-01-16T04:03:34.996Z"
   },
   {
    "duration": 26,
    "start_time": "2022-01-16T04:03:35.012Z"
   },
   {
    "duration": 16,
    "start_time": "2022-01-16T04:03:35.039Z"
   },
   {
    "duration": 13,
    "start_time": "2022-01-16T04:03:35.056Z"
   },
   {
    "duration": 13,
    "start_time": "2022-01-16T04:03:35.071Z"
   },
   {
    "duration": 19,
    "start_time": "2022-01-16T04:03:35.086Z"
   },
   {
    "duration": 3842,
    "start_time": "2022-01-16T04:03:35.107Z"
   },
   {
    "duration": 12,
    "start_time": "2022-01-16T04:03:38.952Z"
   },
   {
    "duration": 14,
    "start_time": "2022-01-16T04:03:38.965Z"
   },
   {
    "duration": 22,
    "start_time": "2022-01-16T04:03:38.980Z"
   },
   {
    "duration": 21,
    "start_time": "2022-01-16T04:03:39.003Z"
   },
   {
    "duration": 14,
    "start_time": "2022-01-16T04:03:39.025Z"
   },
   {
    "duration": 21,
    "start_time": "2022-01-16T04:03:39.040Z"
   },
   {
    "duration": 14,
    "start_time": "2022-01-16T04:03:39.063Z"
   },
   {
    "duration": 23,
    "start_time": "2022-01-16T04:03:39.079Z"
   },
   {
    "duration": 26,
    "start_time": "2022-01-16T04:03:39.104Z"
   },
   {
    "duration": 8,
    "start_time": "2022-01-16T04:03:39.133Z"
   },
   {
    "duration": 52,
    "start_time": "2022-01-16T04:03:39.142Z"
   },
   {
    "duration": 24,
    "start_time": "2022-01-16T04:03:39.196Z"
   },
   {
    "duration": 22,
    "start_time": "2022-01-16T04:03:39.222Z"
   },
   {
    "duration": 22,
    "start_time": "2022-01-16T04:03:39.246Z"
   },
   {
    "duration": 73,
    "start_time": "2022-01-16T04:03:50.468Z"
   },
   {
    "duration": 867,
    "start_time": "2022-01-17T17:57:16.609Z"
   },
   {
    "duration": 12,
    "start_time": "2022-01-17T17:57:17.479Z"
   },
   {
    "duration": 10,
    "start_time": "2022-01-17T17:57:17.494Z"
   },
   {
    "duration": 1018,
    "start_time": "2022-01-17T17:57:23.100Z"
   },
   {
    "duration": 266,
    "start_time": "2022-01-18T02:00:59.636Z"
   },
   {
    "duration": 613,
    "start_time": "2022-01-18T02:01:03.660Z"
   },
   {
    "duration": 49,
    "start_time": "2022-01-18T02:01:07.499Z"
   },
   {
    "duration": 805,
    "start_time": "2022-01-18T02:01:08.744Z"
   },
   {
    "duration": 598,
    "start_time": "2022-01-27T09:40:57.649Z"
   },
   {
    "duration": 491,
    "start_time": "2022-01-27T09:40:58.249Z"
   },
   {
    "duration": 8,
    "start_time": "2022-01-27T09:40:58.743Z"
   },
   {
    "duration": 11,
    "start_time": "2022-01-27T09:40:58.753Z"
   },
   {
    "duration": 460,
    "start_time": "2022-01-27T09:40:58.766Z"
   },
   {
    "duration": -872,
    "start_time": "2022-01-27T09:41:00.102Z"
   },
   {
    "duration": -875,
    "start_time": "2022-01-27T09:41:00.106Z"
   },
   {
    "duration": -877,
    "start_time": "2022-01-27T09:41:00.109Z"
   },
   {
    "duration": -892,
    "start_time": "2022-01-27T09:41:00.125Z"
   },
   {
    "duration": -905,
    "start_time": "2022-01-27T09:41:00.139Z"
   },
   {
    "duration": -908,
    "start_time": "2022-01-27T09:41:00.143Z"
   },
   {
    "duration": -910,
    "start_time": "2022-01-27T09:41:00.146Z"
   },
   {
    "duration": -913,
    "start_time": "2022-01-27T09:41:00.150Z"
   },
   {
    "duration": -916,
    "start_time": "2022-01-27T09:41:00.154Z"
   },
   {
    "duration": -919,
    "start_time": "2022-01-27T09:41:00.158Z"
   },
   {
    "duration": -921,
    "start_time": "2022-01-27T09:41:00.161Z"
   },
   {
    "duration": -924,
    "start_time": "2022-01-27T09:41:00.164Z"
   },
   {
    "duration": -927,
    "start_time": "2022-01-27T09:41:00.168Z"
   },
   {
    "duration": -930,
    "start_time": "2022-01-27T09:41:00.172Z"
   },
   {
    "duration": -932,
    "start_time": "2022-01-27T09:41:00.175Z"
   },
   {
    "duration": -935,
    "start_time": "2022-01-27T09:41:00.179Z"
   },
   {
    "duration": -938,
    "start_time": "2022-01-27T09:41:00.183Z"
   },
   {
    "duration": -940,
    "start_time": "2022-01-27T09:41:00.186Z"
   },
   {
    "duration": -943,
    "start_time": "2022-01-27T09:41:00.190Z"
   },
   {
    "duration": -946,
    "start_time": "2022-01-27T09:41:00.194Z"
   },
   {
    "duration": -948,
    "start_time": "2022-01-27T09:41:00.198Z"
   },
   {
    "duration": -951,
    "start_time": "2022-01-27T09:41:00.202Z"
   },
   {
    "duration": -954,
    "start_time": "2022-01-27T09:41:00.206Z"
   },
   {
    "duration": -958,
    "start_time": "2022-01-27T09:41:00.210Z"
   },
   {
    "duration": -961,
    "start_time": "2022-01-27T09:41:00.214Z"
   },
   {
    "duration": -964,
    "start_time": "2022-01-27T09:41:00.218Z"
   },
   {
    "duration": -973,
    "start_time": "2022-01-27T09:41:00.228Z"
   },
   {
    "duration": -976,
    "start_time": "2022-01-27T09:41:00.232Z"
   },
   {
    "duration": -978,
    "start_time": "2022-01-27T09:41:00.235Z"
   },
   {
    "duration": -981,
    "start_time": "2022-01-27T09:41:00.239Z"
   },
   {
    "duration": -983,
    "start_time": "2022-01-27T09:41:00.242Z"
   },
   {
    "duration": -986,
    "start_time": "2022-01-27T09:41:00.246Z"
   },
   {
    "duration": -988,
    "start_time": "2022-01-27T09:41:00.249Z"
   },
   {
    "duration": -991,
    "start_time": "2022-01-27T09:41:00.253Z"
   },
   {
    "duration": -993,
    "start_time": "2022-01-27T09:41:00.256Z"
   },
   {
    "duration": -996,
    "start_time": "2022-01-27T09:41:00.260Z"
   },
   {
    "duration": -998,
    "start_time": "2022-01-27T09:41:00.263Z"
   },
   {
    "duration": -1001,
    "start_time": "2022-01-27T09:41:00.267Z"
   },
   {
    "duration": -1003,
    "start_time": "2022-01-27T09:41:00.270Z"
   },
   {
    "duration": -978,
    "start_time": "2022-01-27T09:41:00.274Z"
   },
   {
    "duration": -980,
    "start_time": "2022-01-27T09:41:00.277Z"
   },
   {
    "duration": -983,
    "start_time": "2022-01-27T09:41:00.281Z"
   },
   {
    "duration": -985,
    "start_time": "2022-01-27T09:41:00.284Z"
   },
   {
    "duration": -988,
    "start_time": "2022-01-27T09:41:00.288Z"
   },
   {
    "duration": -990,
    "start_time": "2022-01-27T09:41:00.291Z"
   },
   {
    "duration": -993,
    "start_time": "2022-01-27T09:41:00.295Z"
   },
   {
    "duration": -996,
    "start_time": "2022-01-27T09:41:00.298Z"
   },
   {
    "duration": -999,
    "start_time": "2022-01-27T09:41:00.302Z"
   },
   {
    "duration": -1002,
    "start_time": "2022-01-27T09:41:00.306Z"
   },
   {
    "duration": -1005,
    "start_time": "2022-01-27T09:41:00.310Z"
   },
   {
    "duration": -1007,
    "start_time": "2022-01-27T09:41:00.313Z"
   },
   {
    "duration": -1010,
    "start_time": "2022-01-27T09:41:00.317Z"
   },
   {
    "duration": -1012,
    "start_time": "2022-01-27T09:41:00.320Z"
   },
   {
    "duration": -1015,
    "start_time": "2022-01-27T09:41:00.324Z"
   },
   {
    "duration": -1017,
    "start_time": "2022-01-27T09:41:00.327Z"
   },
   {
    "duration": -1028,
    "start_time": "2022-01-27T09:41:00.339Z"
   },
   {
    "duration": -1030,
    "start_time": "2022-01-27T09:41:00.342Z"
   },
   {
    "duration": -1032,
    "start_time": "2022-01-27T09:41:00.345Z"
   },
   {
    "duration": -1040,
    "start_time": "2022-01-27T09:41:00.354Z"
   },
   {
    "duration": -1059,
    "start_time": "2022-01-27T09:41:00.374Z"
   },
   {
    "duration": -1061,
    "start_time": "2022-01-27T09:41:00.377Z"
   },
   {
    "duration": -1065,
    "start_time": "2022-01-27T09:41:00.382Z"
   },
   {
    "duration": -1067,
    "start_time": "2022-01-27T09:41:00.385Z"
   },
   {
    "duration": -1070,
    "start_time": "2022-01-27T09:41:00.389Z"
   },
   {
    "duration": -1072,
    "start_time": "2022-01-27T09:41:00.392Z"
   },
   {
    "duration": 627,
    "start_time": "2022-01-27T09:41:48.308Z"
   },
   {
    "duration": 461,
    "start_time": "2022-01-27T09:41:48.938Z"
   },
   {
    "duration": 10,
    "start_time": "2022-01-27T09:41:49.401Z"
   },
   {
    "duration": 7,
    "start_time": "2022-01-27T09:41:49.413Z"
   },
   {
    "duration": 4,
    "start_time": "2022-01-27T09:41:49.422Z"
   },
   {
    "duration": 70,
    "start_time": "2022-01-27T09:41:49.427Z"
   },
   {
    "duration": 16,
    "start_time": "2022-01-27T09:41:49.499Z"
   },
   {
    "duration": 13,
    "start_time": "2022-01-27T09:41:49.517Z"
   },
   {
    "duration": 8,
    "start_time": "2022-01-27T09:41:49.533Z"
   },
   {
    "duration": 8,
    "start_time": "2022-01-27T09:41:49.543Z"
   },
   {
    "duration": 9,
    "start_time": "2022-01-27T09:41:49.553Z"
   },
   {
    "duration": 8,
    "start_time": "2022-01-27T09:41:49.598Z"
   },
   {
    "duration": 7,
    "start_time": "2022-01-27T09:41:49.608Z"
   },
   {
    "duration": 7,
    "start_time": "2022-01-27T09:41:49.617Z"
   },
   {
    "duration": 9,
    "start_time": "2022-01-27T09:41:49.626Z"
   },
   {
    "duration": 9,
    "start_time": "2022-01-27T09:41:49.637Z"
   },
   {
    "duration": 50,
    "start_time": "2022-01-27T09:41:49.648Z"
   },
   {
    "duration": 14,
    "start_time": "2022-01-27T09:41:49.700Z"
   },
   {
    "duration": 15,
    "start_time": "2022-01-27T09:41:49.716Z"
   },
   {
    "duration": 14,
    "start_time": "2022-01-27T09:41:49.733Z"
   },
   {
    "duration": 4,
    "start_time": "2022-01-27T09:41:49.750Z"
   },
   {
    "duration": 42,
    "start_time": "2022-01-27T09:41:49.756Z"
   },
   {
    "duration": 7,
    "start_time": "2022-01-27T09:41:49.800Z"
   },
   {
    "duration": 18,
    "start_time": "2022-01-27T09:41:49.809Z"
   },
   {
    "duration": 8,
    "start_time": "2022-01-27T09:41:49.829Z"
   },
   {
    "duration": 7,
    "start_time": "2022-01-27T09:41:49.839Z"
   },
   {
    "duration": 7,
    "start_time": "2022-01-27T09:41:49.850Z"
   },
   {
    "duration": 42,
    "start_time": "2022-01-27T09:41:49.859Z"
   },
   {
    "duration": 8,
    "start_time": "2022-01-27T09:41:49.903Z"
   },
   {
    "duration": 10,
    "start_time": "2022-01-27T09:41:49.912Z"
   },
   {
    "duration": 8,
    "start_time": "2022-01-27T09:41:49.924Z"
   },
   {
    "duration": 10,
    "start_time": "2022-01-27T09:41:49.934Z"
   },
   {
    "duration": 9,
    "start_time": "2022-01-27T09:41:49.946Z"
   },
   {
    "duration": 6,
    "start_time": "2022-01-27T09:41:49.956Z"
   },
   {
    "duration": 8,
    "start_time": "2022-01-27T09:41:49.963Z"
   },
   {
    "duration": 39,
    "start_time": "2022-01-27T09:41:49.973Z"
   },
   {
    "duration": 11,
    "start_time": "2022-01-27T09:41:50.013Z"
   },
   {
    "duration": 13,
    "start_time": "2022-01-27T09:41:50.026Z"
   },
   {
    "duration": 10,
    "start_time": "2022-01-27T09:41:50.041Z"
   },
   {
    "duration": 11,
    "start_time": "2022-01-27T09:41:50.053Z"
   },
   {
    "duration": 11,
    "start_time": "2022-01-27T09:41:50.065Z"
   },
   {
    "duration": 23,
    "start_time": "2022-01-27T09:41:50.078Z"
   },
   {
    "duration": 16,
    "start_time": "2022-01-27T09:41:50.102Z"
   },
   {
    "duration": 14,
    "start_time": "2022-01-27T09:41:50.120Z"
   },
   {
    "duration": 8,
    "start_time": "2022-01-27T09:41:50.136Z"
   },
   {
    "duration": 8,
    "start_time": "2022-01-27T09:41:50.145Z"
   },
   {
    "duration": 12,
    "start_time": "2022-01-27T09:41:50.154Z"
   },
   {
    "duration": 10,
    "start_time": "2022-01-27T09:41:50.168Z"
   },
   {
    "duration": 11,
    "start_time": "2022-01-27T09:41:50.198Z"
   },
   {
    "duration": 13,
    "start_time": "2022-01-27T09:41:50.211Z"
   },
   {
    "duration": 24,
    "start_time": "2022-01-27T09:41:50.226Z"
   },
   {
    "duration": 19,
    "start_time": "2022-01-27T09:41:50.252Z"
   },
   {
    "duration": 38,
    "start_time": "2022-01-27T09:41:50.273Z"
   },
   {
    "duration": 8,
    "start_time": "2022-01-27T09:41:50.313Z"
   },
   {
    "duration": 7,
    "start_time": "2022-01-27T09:41:50.323Z"
   },
   {
    "duration": 4103,
    "start_time": "2022-01-27T09:41:50.332Z"
   },
   {
    "duration": 14,
    "start_time": "2022-01-27T09:41:54.437Z"
   },
   {
    "duration": 10,
    "start_time": "2022-01-27T09:41:54.452Z"
   },
   {
    "duration": 9,
    "start_time": "2022-01-27T09:41:54.464Z"
   },
   {
    "duration": 31,
    "start_time": "2022-01-27T09:41:54.474Z"
   },
   {
    "duration": 14,
    "start_time": "2022-01-27T09:41:54.510Z"
   },
   {
    "duration": 22,
    "start_time": "2022-01-27T09:41:54.526Z"
   },
   {
    "duration": 8,
    "start_time": "2022-01-27T09:41:54.550Z"
   },
   {
    "duration": 8,
    "start_time": "2022-01-27T09:41:54.559Z"
   },
   {
    "duration": 50,
    "start_time": "2022-01-27T09:41:54.569Z"
   },
   {
    "duration": 8,
    "start_time": "2022-01-27T09:41:54.621Z"
   },
   {
    "duration": 26,
    "start_time": "2022-01-27T09:41:54.631Z"
   },
   {
    "duration": 50,
    "start_time": "2022-01-27T09:41:54.659Z"
   },
   {
    "duration": 22,
    "start_time": "2022-01-27T09:41:54.712Z"
   },
   {
    "duration": 23,
    "start_time": "2022-01-27T09:41:54.736Z"
   },
   {
    "duration": 417,
    "start_time": "2022-05-17T12:53:24.128Z"
   },
   {
    "duration": 398,
    "start_time": "2022-05-17T12:53:24.547Z"
   },
   {
    "duration": 7,
    "start_time": "2022-05-17T12:53:24.947Z"
   },
   {
    "duration": 17,
    "start_time": "2022-05-17T12:53:24.956Z"
   },
   {
    "duration": 10,
    "start_time": "2022-05-17T12:53:24.974Z"
   },
   {
    "duration": 36,
    "start_time": "2022-05-17T12:53:24.985Z"
   },
   {
    "duration": 23,
    "start_time": "2022-05-17T12:53:25.023Z"
   },
   {
    "duration": 12,
    "start_time": "2022-05-17T12:53:25.048Z"
   },
   {
    "duration": 9,
    "start_time": "2022-05-17T12:53:25.062Z"
   },
   {
    "duration": 10,
    "start_time": "2022-05-17T12:53:25.073Z"
   },
   {
    "duration": 8,
    "start_time": "2022-05-17T12:53:25.084Z"
   },
   {
    "duration": 12,
    "start_time": "2022-05-17T12:53:25.094Z"
   },
   {
    "duration": 7,
    "start_time": "2022-05-17T12:53:25.107Z"
   },
   {
    "duration": 8,
    "start_time": "2022-05-17T12:53:25.115Z"
   },
   {
    "duration": 10,
    "start_time": "2022-05-17T12:53:25.125Z"
   },
   {
    "duration": 10,
    "start_time": "2022-05-17T12:53:25.136Z"
   },
   {
    "duration": 13,
    "start_time": "2022-05-17T12:53:25.147Z"
   },
   {
    "duration": 28,
    "start_time": "2022-05-17T12:53:25.161Z"
   },
   {
    "duration": 14,
    "start_time": "2022-05-17T12:53:25.190Z"
   },
   {
    "duration": 12,
    "start_time": "2022-05-17T12:53:25.205Z"
   },
   {
    "duration": 4,
    "start_time": "2022-05-17T12:53:39.524Z"
   },
   {
    "duration": 5,
    "start_time": "2022-05-17T12:53:42.840Z"
   }
  ],
  "kernelspec": {
   "display_name": "Python 3 (ipykernel)",
   "language": "python",
   "name": "python3"
  },
  "language_info": {
   "codemirror_mode": {
    "name": "ipython",
    "version": 3
   },
   "file_extension": ".py",
   "mimetype": "text/x-python",
   "name": "python",
   "nbconvert_exporter": "python",
   "pygments_lexer": "ipython3",
   "version": "3.9.7"
  },
  "toc": {
   "base_numbering": 1,
   "nav_menu": {},
   "number_sections": true,
   "sideBar": true,
   "skip_h1_title": true,
   "title_cell": "Table of Contents",
   "title_sidebar": "Contents",
   "toc_cell": false,
   "toc_position": {},
   "toc_section_display": true,
   "toc_window_display": false
  }
 },
 "nbformat": 4,
 "nbformat_minor": 2
}
