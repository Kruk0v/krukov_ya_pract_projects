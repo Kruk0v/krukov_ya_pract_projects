{
 "cells": [
  {
   "cell_type": "markdown",
   "metadata": {},
   "source": [
    "<div class=\"alert alert-success\">\n",
    "    \n",
    "**Комментарий ревьюера**\n",
    "\n",
    "**#ок**\n",
    "\n",
    "Привет, этот проект тоже буду проверять я - Сысоева Вера. Поехали.\n",
    "\n",
    "</div>"
   ]
  },
  {
   "cell_type": "markdown",
   "metadata": {},
   "source": [
    "<div class=\"alert alert-info\">\n",
    "\n",
    "<b>Студент: </b> Вера, привет. Опять спасибо за мгновенную проверку проекта!\n",
    "\n",
    "</div>"
   ]
  },
  {
   "cell_type": "markdown",
   "metadata": {
    "id": "9EnzpKAuza2G"
   },
   "source": [
    "# Телеком — Определение неэффективных операторов"
   ]
  },
  {
   "cell_type": "markdown",
   "metadata": {
    "id": "B9L10AVnzjv6"
   },
   "source": [
    "## Загрузка библиотек и данных"
   ]
  },
  {
   "cell_type": "code",
   "execution_count": 1,
   "metadata": {
    "id": "lIYdn1woOS1n"
   },
   "outputs": [],
   "source": [
    "# импортируем библиотеки numpy, pandas и модуль scipy.stats библиотеки scipy\n",
    "import numpy as np\n",
    "import pandas as pd\n",
    "import scipy.stats as st\n",
    "import math as mth\n",
    "\n",
    "# импортируем библиотеку datetime для работы с датами\n",
    "import datetime as dt\n",
    "from datetime import datetime, date\n",
    "from datetime import timedelta\n",
    "\n",
    "# импортируем matplotlib, plotly и seaborn для построения графиков\n",
    "import matplotlib.pyplot as plt\n",
    "import seaborn as sns\n",
    "from plotly import graph_objects as go\n",
    "\n",
    "# задаем функцию my_info для получения первоначальной\n",
    "# информации о таблицах\n",
    "\n",
    "def my_info(df):\n",
    "  display(df.head())\n",
    "  print(f'\\n В таблице {df.shape[0]} строк и {df.shape[1]} столбцов \\n')\n",
    "  display(df.isna().agg(['sum', 'mean']).T)\n",
    "  print('\\n Типы данных в таблице: \\n')\n",
    "  display(df.dtypes)\n",
    "\n",
    "# для игнорирования warning-ов\n",
    "\n",
    "import warnings\n",
    "warnings.filterwarnings(\"ignore\")"
   ]
  },
  {
   "cell_type": "markdown",
   "metadata": {},
   "source": [
    "<div class=\"alert alert-warning\">\n",
    "    \n",
    "**Комментарий ревьюера**\n",
    "\n",
    "**#можно лучше**\n",
    "\n",
    "Лучше придерживаться стиля PEP8, а именно:\n",
    "    \n",
    "    - подгружать библиотеки в отдельной ячейке кода\n",
    "    \n",
    "    - делать 4 пробела для отступа\n",
    "\n",
    "</div>"
   ]
  },
  {
   "cell_type": "markdown",
   "metadata": {},
   "source": [
    "<div class=\"alert alert-info\">\n",
    "\n",
    "<b>Студент: </b> Вера, не совсем понял. \n",
    "    1) Отдельно библиотеки и отдельно свои функции?\n",
    "    2) Пробелы в каком случае делать?\n",
    "\n",
    "</div>"
   ]
  },
  {
   "cell_type": "markdown",
   "metadata": {},
   "source": [
    "<div class=\"alert alert-success\">\n",
    "    \n",
    "**Комментарий ревьюера - 2**\n",
    "\n",
    "**#ок**\n",
    "\n",
    "1. Да\n",
    "\n",
    "2.\n",
    "\n",
    "    def my_info(df):\n",
    "        display(df.head())\n",
    "\n",
    "    или\n",
    "\n",
    "    for col in operator_miss[['direction', 'internal', 'is_missed_call']]:\n",
    "        display(str(col)) \n",
    "\n",
    "</div>"
   ]
  },
  {
   "cell_type": "markdown",
   "metadata": {
    "id": "vZi8uSt6Cq93"
   },
   "source": [
    "Фалы на Google Drive\n",
    "\n",
    "https://drive.google.com/file/d/10U0oyludhe24IW4OqbkXn7n-xd5gtT2e/view?usp=sharing\n",
    "\n",
    "https://drive.google.com/file/d/1gt7z2IbdPZ6_2oPFVWmxNlC_wN7qMSrN/view?usp=sharing"
   ]
  },
  {
   "cell_type": "code",
   "execution_count": 2,
   "metadata": {
    "colab": {
     "base_uri": "https://localhost:8080/"
    },
    "id": "bj-zkesmC_EP",
    "outputId": "0817f4e0-7612-4973-9fe3-30e03d2836a1"
   },
   "outputs": [
    {
     "data": {
      "text/plain": [
       "'! gdown --id 10U0oyludhe24IW4OqbkXn7n-xd5gtT2e\\n\\n! gdown --id 1gt7z2IbdPZ6_2oPFVWmxNlC_wN7qMSrN'"
      ]
     },
     "execution_count": 2,
     "metadata": {},
     "output_type": "execute_result"
    }
   ],
   "source": [
    "# загрузка файлов с google drive для колаба\n",
    "\n",
    "'''! gdown --id 10U0oyludhe24IW4OqbkXn7n-xd5gtT2e\n",
    "\n",
    "! gdown --id 1gt7z2IbdPZ6_2oPFVWmxNlC_wN7qMSrN'''"
   ]
  },
  {
   "cell_type": "code",
   "execution_count": 3,
   "metadata": {
    "id": "SVoXHFkoDG94"
   },
   "outputs": [],
   "source": [
    "# записываем таблицу с операторами и звонками (основную) в переменную df\n",
    "\n",
    "try:\n",
    "    df = pd.read_csv('/content/telecom_dataset.csv')\n",
    "except:\n",
    "    df = pd.read_csv('/datasets/telecom_dataset.csv')\n",
    "    \n",
    "df_len_start = len(df)"
   ]
  },
  {
   "cell_type": "code",
   "execution_count": 4,
   "metadata": {
    "id": "MrtKAczEDg2X"
   },
   "outputs": [],
   "source": [
    "# таблицу о тарифах в переменную telecom_clients\n",
    "\n",
    "try:\n",
    "    telecom_clients = pd.read_csv('/content/telecom_clients.csv')\n",
    "except:\n",
    "    telecom_clients = pd.read_csv('/datasets/telecom_clients.csv')"
   ]
  },
  {
   "cell_type": "markdown",
   "metadata": {},
   "source": [
    "<div class=\"alert alert-danger\">\n",
    "    \n",
    "**Комментарий ревьюера**\n",
    "\n",
    "**#ошибка**\n",
    "\n",
    "Сейчас проект работает только в твоем colabe.\n",
    "\n",
    "</div>"
   ]
  },
  {
   "cell_type": "markdown",
   "metadata": {},
   "source": [
    "<div class=\"alert alert-info\">\n",
    "\n",
    "<b>Студент: </b> Поправил\n",
    "\n",
    "</div>"
   ]
  },
  {
   "cell_type": "markdown",
   "metadata": {},
   "source": [
    "<div class=\"alert alert-success\">\n",
    "    \n",
    "**Комментарий ревьюера - 2**\n",
    "\n",
    "**#ок**\n",
    "\n",
    "+\n",
    "\n",
    "</div>"
   ]
  },
  {
   "cell_type": "code",
   "execution_count": 5,
   "metadata": {
    "colab": {
     "base_uri": "https://localhost:8080/",
     "height": 798
    },
    "id": "GXJVBR5wDyJf",
    "outputId": "fcda61bd-c563-46a9-8948-8c2948cb903d"
   },
   "outputs": [
    {
     "data": {
      "text/html": [
       "<div>\n",
       "<style scoped>\n",
       "    .dataframe tbody tr th:only-of-type {\n",
       "        vertical-align: middle;\n",
       "    }\n",
       "\n",
       "    .dataframe tbody tr th {\n",
       "        vertical-align: top;\n",
       "    }\n",
       "\n",
       "    .dataframe thead th {\n",
       "        text-align: right;\n",
       "    }\n",
       "</style>\n",
       "<table border=\"1\" class=\"dataframe\">\n",
       "  <thead>\n",
       "    <tr style=\"text-align: right;\">\n",
       "      <th></th>\n",
       "      <th>user_id</th>\n",
       "      <th>date</th>\n",
       "      <th>direction</th>\n",
       "      <th>internal</th>\n",
       "      <th>operator_id</th>\n",
       "      <th>is_missed_call</th>\n",
       "      <th>calls_count</th>\n",
       "      <th>call_duration</th>\n",
       "      <th>total_call_duration</th>\n",
       "    </tr>\n",
       "  </thead>\n",
       "  <tbody>\n",
       "    <tr>\n",
       "      <th>0</th>\n",
       "      <td>166377</td>\n",
       "      <td>2019-08-04 00:00:00+03:00</td>\n",
       "      <td>in</td>\n",
       "      <td>False</td>\n",
       "      <td>NaN</td>\n",
       "      <td>True</td>\n",
       "      <td>2</td>\n",
       "      <td>0</td>\n",
       "      <td>4</td>\n",
       "    </tr>\n",
       "    <tr>\n",
       "      <th>1</th>\n",
       "      <td>166377</td>\n",
       "      <td>2019-08-05 00:00:00+03:00</td>\n",
       "      <td>out</td>\n",
       "      <td>True</td>\n",
       "      <td>880022.0</td>\n",
       "      <td>True</td>\n",
       "      <td>3</td>\n",
       "      <td>0</td>\n",
       "      <td>5</td>\n",
       "    </tr>\n",
       "    <tr>\n",
       "      <th>2</th>\n",
       "      <td>166377</td>\n",
       "      <td>2019-08-05 00:00:00+03:00</td>\n",
       "      <td>out</td>\n",
       "      <td>True</td>\n",
       "      <td>880020.0</td>\n",
       "      <td>True</td>\n",
       "      <td>1</td>\n",
       "      <td>0</td>\n",
       "      <td>1</td>\n",
       "    </tr>\n",
       "    <tr>\n",
       "      <th>3</th>\n",
       "      <td>166377</td>\n",
       "      <td>2019-08-05 00:00:00+03:00</td>\n",
       "      <td>out</td>\n",
       "      <td>True</td>\n",
       "      <td>880020.0</td>\n",
       "      <td>False</td>\n",
       "      <td>1</td>\n",
       "      <td>10</td>\n",
       "      <td>18</td>\n",
       "    </tr>\n",
       "    <tr>\n",
       "      <th>4</th>\n",
       "      <td>166377</td>\n",
       "      <td>2019-08-05 00:00:00+03:00</td>\n",
       "      <td>out</td>\n",
       "      <td>False</td>\n",
       "      <td>880022.0</td>\n",
       "      <td>True</td>\n",
       "      <td>3</td>\n",
       "      <td>0</td>\n",
       "      <td>25</td>\n",
       "    </tr>\n",
       "  </tbody>\n",
       "</table>\n",
       "</div>"
      ],
      "text/plain": [
       "   user_id                       date direction internal  operator_id  \\\n",
       "0   166377  2019-08-04 00:00:00+03:00        in    False          NaN   \n",
       "1   166377  2019-08-05 00:00:00+03:00       out     True     880022.0   \n",
       "2   166377  2019-08-05 00:00:00+03:00       out     True     880020.0   \n",
       "3   166377  2019-08-05 00:00:00+03:00       out     True     880020.0   \n",
       "4   166377  2019-08-05 00:00:00+03:00       out    False     880022.0   \n",
       "\n",
       "   is_missed_call  calls_count  call_duration  total_call_duration  \n",
       "0            True            2              0                    4  \n",
       "1            True            3              0                    5  \n",
       "2            True            1              0                    1  \n",
       "3           False            1             10                   18  \n",
       "4            True            3              0                   25  "
      ]
     },
     "metadata": {},
     "output_type": "display_data"
    },
    {
     "name": "stdout",
     "output_type": "stream",
     "text": [
      "\n",
      " В таблице 53902 строк и 9 столбцов \n",
      "\n"
     ]
    },
    {
     "data": {
      "text/html": [
       "<div>\n",
       "<style scoped>\n",
       "    .dataframe tbody tr th:only-of-type {\n",
       "        vertical-align: middle;\n",
       "    }\n",
       "\n",
       "    .dataframe tbody tr th {\n",
       "        vertical-align: top;\n",
       "    }\n",
       "\n",
       "    .dataframe thead th {\n",
       "        text-align: right;\n",
       "    }\n",
       "</style>\n",
       "<table border=\"1\" class=\"dataframe\">\n",
       "  <thead>\n",
       "    <tr style=\"text-align: right;\">\n",
       "      <th></th>\n",
       "      <th>sum</th>\n",
       "      <th>mean</th>\n",
       "    </tr>\n",
       "  </thead>\n",
       "  <tbody>\n",
       "    <tr>\n",
       "      <th>user_id</th>\n",
       "      <td>0.0</td>\n",
       "      <td>0.000000</td>\n",
       "    </tr>\n",
       "    <tr>\n",
       "      <th>date</th>\n",
       "      <td>0.0</td>\n",
       "      <td>0.000000</td>\n",
       "    </tr>\n",
       "    <tr>\n",
       "      <th>direction</th>\n",
       "      <td>0.0</td>\n",
       "      <td>0.000000</td>\n",
       "    </tr>\n",
       "    <tr>\n",
       "      <th>internal</th>\n",
       "      <td>117.0</td>\n",
       "      <td>0.002171</td>\n",
       "    </tr>\n",
       "    <tr>\n",
       "      <th>operator_id</th>\n",
       "      <td>8172.0</td>\n",
       "      <td>0.151608</td>\n",
       "    </tr>\n",
       "    <tr>\n",
       "      <th>is_missed_call</th>\n",
       "      <td>0.0</td>\n",
       "      <td>0.000000</td>\n",
       "    </tr>\n",
       "    <tr>\n",
       "      <th>calls_count</th>\n",
       "      <td>0.0</td>\n",
       "      <td>0.000000</td>\n",
       "    </tr>\n",
       "    <tr>\n",
       "      <th>call_duration</th>\n",
       "      <td>0.0</td>\n",
       "      <td>0.000000</td>\n",
       "    </tr>\n",
       "    <tr>\n",
       "      <th>total_call_duration</th>\n",
       "      <td>0.0</td>\n",
       "      <td>0.000000</td>\n",
       "    </tr>\n",
       "  </tbody>\n",
       "</table>\n",
       "</div>"
      ],
      "text/plain": [
       "                        sum      mean\n",
       "user_id                 0.0  0.000000\n",
       "date                    0.0  0.000000\n",
       "direction               0.0  0.000000\n",
       "internal              117.0  0.002171\n",
       "operator_id          8172.0  0.151608\n",
       "is_missed_call          0.0  0.000000\n",
       "calls_count             0.0  0.000000\n",
       "call_duration           0.0  0.000000\n",
       "total_call_duration     0.0  0.000000"
      ]
     },
     "metadata": {},
     "output_type": "display_data"
    },
    {
     "name": "stdout",
     "output_type": "stream",
     "text": [
      "\n",
      " Типы данных в таблице: \n",
      "\n"
     ]
    },
    {
     "data": {
      "text/plain": [
       "user_id                  int64\n",
       "date                    object\n",
       "direction               object\n",
       "internal                object\n",
       "operator_id            float64\n",
       "is_missed_call            bool\n",
       "calls_count              int64\n",
       "call_duration            int64\n",
       "total_call_duration      int64\n",
       "dtype: object"
      ]
     },
     "metadata": {},
     "output_type": "display_data"
    }
   ],
   "source": [
    "# смотрим информацию по основной таблице\n",
    "\n",
    "my_info(df)"
   ]
  },
  {
   "cell_type": "markdown",
   "metadata": {
    "id": "b6BhlSVF0LPC"
   },
   "source": [
    "Сразу видим две проблемы — пропуски в ключевом столбце _operator_id_ и неправильные типы данных в 2-х столбцах"
   ]
  },
  {
   "cell_type": "code",
   "execution_count": 6,
   "metadata": {
    "colab": {
     "base_uri": "https://localhost:8080/",
     "height": 506
    },
    "id": "_rSo8W_4D5F2",
    "outputId": "94d1d49c-c6bd-444f-c092-1175a09a0f0d"
   },
   "outputs": [
    {
     "data": {
      "text/html": [
       "<div>\n",
       "<style scoped>\n",
       "    .dataframe tbody tr th:only-of-type {\n",
       "        vertical-align: middle;\n",
       "    }\n",
       "\n",
       "    .dataframe tbody tr th {\n",
       "        vertical-align: top;\n",
       "    }\n",
       "\n",
       "    .dataframe thead th {\n",
       "        text-align: right;\n",
       "    }\n",
       "</style>\n",
       "<table border=\"1\" class=\"dataframe\">\n",
       "  <thead>\n",
       "    <tr style=\"text-align: right;\">\n",
       "      <th></th>\n",
       "      <th>user_id</th>\n",
       "      <th>tariff_plan</th>\n",
       "      <th>date_start</th>\n",
       "    </tr>\n",
       "  </thead>\n",
       "  <tbody>\n",
       "    <tr>\n",
       "      <th>0</th>\n",
       "      <td>166713</td>\n",
       "      <td>A</td>\n",
       "      <td>2019-08-15</td>\n",
       "    </tr>\n",
       "    <tr>\n",
       "      <th>1</th>\n",
       "      <td>166901</td>\n",
       "      <td>A</td>\n",
       "      <td>2019-08-23</td>\n",
       "    </tr>\n",
       "    <tr>\n",
       "      <th>2</th>\n",
       "      <td>168527</td>\n",
       "      <td>A</td>\n",
       "      <td>2019-10-29</td>\n",
       "    </tr>\n",
       "    <tr>\n",
       "      <th>3</th>\n",
       "      <td>167097</td>\n",
       "      <td>A</td>\n",
       "      <td>2019-09-01</td>\n",
       "    </tr>\n",
       "    <tr>\n",
       "      <th>4</th>\n",
       "      <td>168193</td>\n",
       "      <td>A</td>\n",
       "      <td>2019-10-16</td>\n",
       "    </tr>\n",
       "  </tbody>\n",
       "</table>\n",
       "</div>"
      ],
      "text/plain": [
       "   user_id tariff_plan  date_start\n",
       "0   166713           A  2019-08-15\n",
       "1   166901           A  2019-08-23\n",
       "2   168527           A  2019-10-29\n",
       "3   167097           A  2019-09-01\n",
       "4   168193           A  2019-10-16"
      ]
     },
     "metadata": {},
     "output_type": "display_data"
    },
    {
     "name": "stdout",
     "output_type": "stream",
     "text": [
      "\n",
      " В таблице 732 строк и 3 столбцов \n",
      "\n"
     ]
    },
    {
     "data": {
      "text/html": [
       "<div>\n",
       "<style scoped>\n",
       "    .dataframe tbody tr th:only-of-type {\n",
       "        vertical-align: middle;\n",
       "    }\n",
       "\n",
       "    .dataframe tbody tr th {\n",
       "        vertical-align: top;\n",
       "    }\n",
       "\n",
       "    .dataframe thead th {\n",
       "        text-align: right;\n",
       "    }\n",
       "</style>\n",
       "<table border=\"1\" class=\"dataframe\">\n",
       "  <thead>\n",
       "    <tr style=\"text-align: right;\">\n",
       "      <th></th>\n",
       "      <th>sum</th>\n",
       "      <th>mean</th>\n",
       "    </tr>\n",
       "  </thead>\n",
       "  <tbody>\n",
       "    <tr>\n",
       "      <th>user_id</th>\n",
       "      <td>0.0</td>\n",
       "      <td>0.0</td>\n",
       "    </tr>\n",
       "    <tr>\n",
       "      <th>tariff_plan</th>\n",
       "      <td>0.0</td>\n",
       "      <td>0.0</td>\n",
       "    </tr>\n",
       "    <tr>\n",
       "      <th>date_start</th>\n",
       "      <td>0.0</td>\n",
       "      <td>0.0</td>\n",
       "    </tr>\n",
       "  </tbody>\n",
       "</table>\n",
       "</div>"
      ],
      "text/plain": [
       "             sum  mean\n",
       "user_id      0.0   0.0\n",
       "tariff_plan  0.0   0.0\n",
       "date_start   0.0   0.0"
      ]
     },
     "metadata": {},
     "output_type": "display_data"
    },
    {
     "name": "stdout",
     "output_type": "stream",
     "text": [
      "\n",
      " Типы данных в таблице: \n",
      "\n"
     ]
    },
    {
     "data": {
      "text/plain": [
       "user_id         int64\n",
       "tariff_plan    object\n",
       "date_start     object\n",
       "dtype: object"
      ]
     },
     "metadata": {},
     "output_type": "display_data"
    }
   ],
   "source": [
    "# информация о второй таблице\n",
    "\n",
    "my_info(telecom_clients)"
   ]
  },
  {
   "cell_type": "markdown",
   "metadata": {
    "id": "q1sAo1aJDBjF"
   },
   "source": [
    "В таблице с тарифами некорректный тип данных в столбце с датами. Пропусков нет."
   ]
  },
  {
   "cell_type": "markdown",
   "metadata": {
    "id": "07AYLEP5oPvJ"
   },
   "source": [
    "## Подготовка данных"
   ]
  },
  {
   "cell_type": "markdown",
   "metadata": {
    "id": "yMA-K_NXzY3b"
   },
   "source": [
    "### Обработка пропусков"
   ]
  },
  {
   "cell_type": "code",
   "execution_count": 7,
   "metadata": {
    "colab": {
     "base_uri": "https://localhost:8080/",
     "height": 332
    },
    "id": "PLd5_FRXMbfR",
    "outputId": "cb81d1f1-ca96-49f0-aaa1-bb83822bcdc0"
   },
   "outputs": [
    {
     "data": {
      "text/html": [
       "<div>\n",
       "<style scoped>\n",
       "    .dataframe tbody tr th:only-of-type {\n",
       "        vertical-align: middle;\n",
       "    }\n",
       "\n",
       "    .dataframe tbody tr th {\n",
       "        vertical-align: top;\n",
       "    }\n",
       "\n",
       "    .dataframe thead th {\n",
       "        text-align: right;\n",
       "    }\n",
       "</style>\n",
       "<table border=\"1\" class=\"dataframe\">\n",
       "  <thead>\n",
       "    <tr style=\"text-align: right;\">\n",
       "      <th></th>\n",
       "      <th>sum</th>\n",
       "      <th>mean</th>\n",
       "    </tr>\n",
       "  </thead>\n",
       "  <tbody>\n",
       "    <tr>\n",
       "      <th>user_id</th>\n",
       "      <td>0.0</td>\n",
       "      <td>0.000000</td>\n",
       "    </tr>\n",
       "    <tr>\n",
       "      <th>date</th>\n",
       "      <td>0.0</td>\n",
       "      <td>0.000000</td>\n",
       "    </tr>\n",
       "    <tr>\n",
       "      <th>direction</th>\n",
       "      <td>0.0</td>\n",
       "      <td>0.000000</td>\n",
       "    </tr>\n",
       "    <tr>\n",
       "      <th>internal</th>\n",
       "      <td>117.0</td>\n",
       "      <td>0.002171</td>\n",
       "    </tr>\n",
       "    <tr>\n",
       "      <th>operator_id</th>\n",
       "      <td>8172.0</td>\n",
       "      <td>0.151608</td>\n",
       "    </tr>\n",
       "    <tr>\n",
       "      <th>is_missed_call</th>\n",
       "      <td>0.0</td>\n",
       "      <td>0.000000</td>\n",
       "    </tr>\n",
       "    <tr>\n",
       "      <th>calls_count</th>\n",
       "      <td>0.0</td>\n",
       "      <td>0.000000</td>\n",
       "    </tr>\n",
       "    <tr>\n",
       "      <th>call_duration</th>\n",
       "      <td>0.0</td>\n",
       "      <td>0.000000</td>\n",
       "    </tr>\n",
       "    <tr>\n",
       "      <th>total_call_duration</th>\n",
       "      <td>0.0</td>\n",
       "      <td>0.000000</td>\n",
       "    </tr>\n",
       "  </tbody>\n",
       "</table>\n",
       "</div>"
      ],
      "text/plain": [
       "                        sum      mean\n",
       "user_id                 0.0  0.000000\n",
       "date                    0.0  0.000000\n",
       "direction               0.0  0.000000\n",
       "internal              117.0  0.002171\n",
       "operator_id          8172.0  0.151608\n",
       "is_missed_call          0.0  0.000000\n",
       "calls_count             0.0  0.000000\n",
       "call_duration           0.0  0.000000\n",
       "total_call_duration     0.0  0.000000"
      ]
     },
     "execution_count": 7,
     "metadata": {},
     "output_type": "execute_result"
    }
   ],
   "source": [
    "# еще раз посмотрим на пропуски в основной таблице\n",
    "\n",
    "df.isna().agg(['sum', 'mean']).T"
   ]
  },
  {
   "cell_type": "code",
   "execution_count": 8,
   "metadata": {
    "colab": {
     "base_uri": "https://localhost:8080/",
     "height": 424
    },
    "id": "X8HDds8mMg3o",
    "outputId": "03e21a7b-119c-4d15-c336-d2d529659dbf"
   },
   "outputs": [
    {
     "data": {
      "text/html": [
       "<div>\n",
       "<style scoped>\n",
       "    .dataframe tbody tr th:only-of-type {\n",
       "        vertical-align: middle;\n",
       "    }\n",
       "\n",
       "    .dataframe tbody tr th {\n",
       "        vertical-align: top;\n",
       "    }\n",
       "\n",
       "    .dataframe thead th {\n",
       "        text-align: right;\n",
       "    }\n",
       "</style>\n",
       "<table border=\"1\" class=\"dataframe\">\n",
       "  <thead>\n",
       "    <tr style=\"text-align: right;\">\n",
       "      <th></th>\n",
       "      <th>user_id</th>\n",
       "      <th>date</th>\n",
       "      <th>direction</th>\n",
       "      <th>internal</th>\n",
       "      <th>operator_id</th>\n",
       "      <th>is_missed_call</th>\n",
       "      <th>calls_count</th>\n",
       "      <th>call_duration</th>\n",
       "      <th>total_call_duration</th>\n",
       "    </tr>\n",
       "  </thead>\n",
       "  <tbody>\n",
       "    <tr>\n",
       "      <th>1007</th>\n",
       "      <td>166405</td>\n",
       "      <td>2019-09-18 00:00:00+03:00</td>\n",
       "      <td>in</td>\n",
       "      <td>NaN</td>\n",
       "      <td>NaN</td>\n",
       "      <td>True</td>\n",
       "      <td>1</td>\n",
       "      <td>0</td>\n",
       "      <td>59</td>\n",
       "    </tr>\n",
       "    <tr>\n",
       "      <th>1090</th>\n",
       "      <td>166405</td>\n",
       "      <td>2019-10-01 00:00:00+03:00</td>\n",
       "      <td>in</td>\n",
       "      <td>NaN</td>\n",
       "      <td>NaN</td>\n",
       "      <td>True</td>\n",
       "      <td>1</td>\n",
       "      <td>0</td>\n",
       "      <td>1</td>\n",
       "    </tr>\n",
       "    <tr>\n",
       "      <th>1864</th>\n",
       "      <td>166406</td>\n",
       "      <td>2019-08-20 00:00:00+03:00</td>\n",
       "      <td>in</td>\n",
       "      <td>NaN</td>\n",
       "      <td>NaN</td>\n",
       "      <td>True</td>\n",
       "      <td>1</td>\n",
       "      <td>0</td>\n",
       "      <td>36</td>\n",
       "    </tr>\n",
       "    <tr>\n",
       "      <th>1924</th>\n",
       "      <td>166406</td>\n",
       "      <td>2019-09-02 00:00:00+03:00</td>\n",
       "      <td>in</td>\n",
       "      <td>NaN</td>\n",
       "      <td>879898.0</td>\n",
       "      <td>False</td>\n",
       "      <td>1</td>\n",
       "      <td>2</td>\n",
       "      <td>9</td>\n",
       "    </tr>\n",
       "    <tr>\n",
       "      <th>6210</th>\n",
       "      <td>166541</td>\n",
       "      <td>2019-09-26 00:00:00+03:00</td>\n",
       "      <td>in</td>\n",
       "      <td>NaN</td>\n",
       "      <td>908960.0</td>\n",
       "      <td>False</td>\n",
       "      <td>1</td>\n",
       "      <td>393</td>\n",
       "      <td>423</td>\n",
       "    </tr>\n",
       "    <tr>\n",
       "      <th>...</th>\n",
       "      <td>...</td>\n",
       "      <td>...</td>\n",
       "      <td>...</td>\n",
       "      <td>...</td>\n",
       "      <td>...</td>\n",
       "      <td>...</td>\n",
       "      <td>...</td>\n",
       "      <td>...</td>\n",
       "      <td>...</td>\n",
       "    </tr>\n",
       "    <tr>\n",
       "      <th>52462</th>\n",
       "      <td>168361</td>\n",
       "      <td>2019-11-09 00:00:00+03:00</td>\n",
       "      <td>in</td>\n",
       "      <td>NaN</td>\n",
       "      <td>NaN</td>\n",
       "      <td>True</td>\n",
       "      <td>6</td>\n",
       "      <td>0</td>\n",
       "      <td>14</td>\n",
       "    </tr>\n",
       "    <tr>\n",
       "      <th>52590</th>\n",
       "      <td>168361</td>\n",
       "      <td>2019-11-13 00:00:00+03:00</td>\n",
       "      <td>in</td>\n",
       "      <td>NaN</td>\n",
       "      <td>NaN</td>\n",
       "      <td>True</td>\n",
       "      <td>2</td>\n",
       "      <td>0</td>\n",
       "      <td>6</td>\n",
       "    </tr>\n",
       "    <tr>\n",
       "      <th>52621</th>\n",
       "      <td>168361</td>\n",
       "      <td>2019-11-14 00:00:00+03:00</td>\n",
       "      <td>in</td>\n",
       "      <td>NaN</td>\n",
       "      <td>NaN</td>\n",
       "      <td>True</td>\n",
       "      <td>1</td>\n",
       "      <td>0</td>\n",
       "      <td>2</td>\n",
       "    </tr>\n",
       "    <tr>\n",
       "      <th>53717</th>\n",
       "      <td>168579</td>\n",
       "      <td>2019-11-09 00:00:00+03:00</td>\n",
       "      <td>in</td>\n",
       "      <td>NaN</td>\n",
       "      <td>NaN</td>\n",
       "      <td>True</td>\n",
       "      <td>1</td>\n",
       "      <td>0</td>\n",
       "      <td>18</td>\n",
       "    </tr>\n",
       "    <tr>\n",
       "      <th>53799</th>\n",
       "      <td>168598</td>\n",
       "      <td>2019-11-22 00:00:00+03:00</td>\n",
       "      <td>in</td>\n",
       "      <td>NaN</td>\n",
       "      <td>958394.0</td>\n",
       "      <td>False</td>\n",
       "      <td>1</td>\n",
       "      <td>11</td>\n",
       "      <td>17</td>\n",
       "    </tr>\n",
       "  </tbody>\n",
       "</table>\n",
       "<p>117 rows × 9 columns</p>\n",
       "</div>"
      ],
      "text/plain": [
       "       user_id                       date direction internal  operator_id  \\\n",
       "1007    166405  2019-09-18 00:00:00+03:00        in      NaN          NaN   \n",
       "1090    166405  2019-10-01 00:00:00+03:00        in      NaN          NaN   \n",
       "1864    166406  2019-08-20 00:00:00+03:00        in      NaN          NaN   \n",
       "1924    166406  2019-09-02 00:00:00+03:00        in      NaN     879898.0   \n",
       "6210    166541  2019-09-26 00:00:00+03:00        in      NaN     908960.0   \n",
       "...        ...                        ...       ...      ...          ...   \n",
       "52462   168361  2019-11-09 00:00:00+03:00        in      NaN          NaN   \n",
       "52590   168361  2019-11-13 00:00:00+03:00        in      NaN          NaN   \n",
       "52621   168361  2019-11-14 00:00:00+03:00        in      NaN          NaN   \n",
       "53717   168579  2019-11-09 00:00:00+03:00        in      NaN          NaN   \n",
       "53799   168598  2019-11-22 00:00:00+03:00        in      NaN     958394.0   \n",
       "\n",
       "       is_missed_call  calls_count  call_duration  total_call_duration  \n",
       "1007             True            1              0                   59  \n",
       "1090             True            1              0                    1  \n",
       "1864             True            1              0                   36  \n",
       "1924            False            1              2                    9  \n",
       "6210            False            1            393                  423  \n",
       "...               ...          ...            ...                  ...  \n",
       "52462            True            6              0                   14  \n",
       "52590            True            2              0                    6  \n",
       "52621            True            1              0                    2  \n",
       "53717            True            1              0                   18  \n",
       "53799           False            1             11                   17  \n",
       "\n",
       "[117 rows x 9 columns]"
      ]
     },
     "execution_count": 8,
     "metadata": {},
     "output_type": "execute_result"
    }
   ],
   "source": [
    "# посмотрим на строки, где есть пропуск в internal\n",
    "\n",
    "df[pd.isna(df['internal'])]"
   ]
  },
  {
   "cell_type": "markdown",
   "metadata": {
    "id": "sw-07j9gNUaS"
   },
   "source": [
    "Ничего сразу бросающегося в глаза не видно, делаем скидку на малое количество таких строк — всего 0.2% — и удаляем их."
   ]
  },
  {
   "cell_type": "code",
   "execution_count": 9,
   "metadata": {
    "id": "q-ZZlvKlOHE8"
   },
   "outputs": [],
   "source": [
    "df = df.dropna(subset=['internal'])"
   ]
  },
  {
   "cell_type": "code",
   "execution_count": 10,
   "metadata": {
    "colab": {
     "base_uri": "https://localhost:8080/"
    },
    "id": "hzF-NNMHOYxu",
    "outputId": "e146660b-4ee9-406e-b85f-2c0619993ef9"
   },
   "outputs": [
    {
     "data": {
      "text/plain": [
       "0"
      ]
     },
     "execution_count": 10,
     "metadata": {},
     "output_type": "execute_result"
    }
   ],
   "source": [
    "# проверяем\n",
    "\n",
    "df['internal'].isna().sum()"
   ]
  },
  {
   "cell_type": "code",
   "execution_count": 11,
   "metadata": {
    "colab": {
     "base_uri": "https://localhost:8080/",
     "height": 206
    },
    "id": "gm7YYzCpOb3W",
    "outputId": "9df66c64-2ef6-4252-bf78-42374e25f93b"
   },
   "outputs": [
    {
     "data": {
      "text/html": [
       "<div>\n",
       "<style scoped>\n",
       "    .dataframe tbody tr th:only-of-type {\n",
       "        vertical-align: middle;\n",
       "    }\n",
       "\n",
       "    .dataframe tbody tr th {\n",
       "        vertical-align: top;\n",
       "    }\n",
       "\n",
       "    .dataframe thead th {\n",
       "        text-align: right;\n",
       "    }\n",
       "</style>\n",
       "<table border=\"1\" class=\"dataframe\">\n",
       "  <thead>\n",
       "    <tr style=\"text-align: right;\">\n",
       "      <th></th>\n",
       "      <th>user_id</th>\n",
       "      <th>date</th>\n",
       "      <th>direction</th>\n",
       "      <th>internal</th>\n",
       "      <th>operator_id</th>\n",
       "      <th>is_missed_call</th>\n",
       "      <th>calls_count</th>\n",
       "      <th>call_duration</th>\n",
       "      <th>total_call_duration</th>\n",
       "    </tr>\n",
       "  </thead>\n",
       "  <tbody>\n",
       "    <tr>\n",
       "      <th>0</th>\n",
       "      <td>166377</td>\n",
       "      <td>2019-08-04 00:00:00+03:00</td>\n",
       "      <td>in</td>\n",
       "      <td>False</td>\n",
       "      <td>NaN</td>\n",
       "      <td>True</td>\n",
       "      <td>2</td>\n",
       "      <td>0</td>\n",
       "      <td>4</td>\n",
       "    </tr>\n",
       "    <tr>\n",
       "      <th>7</th>\n",
       "      <td>166377</td>\n",
       "      <td>2019-08-05 00:00:00+03:00</td>\n",
       "      <td>in</td>\n",
       "      <td>False</td>\n",
       "      <td>NaN</td>\n",
       "      <td>True</td>\n",
       "      <td>6</td>\n",
       "      <td>0</td>\n",
       "      <td>35</td>\n",
       "    </tr>\n",
       "    <tr>\n",
       "      <th>9</th>\n",
       "      <td>166377</td>\n",
       "      <td>2019-08-06 00:00:00+03:00</td>\n",
       "      <td>in</td>\n",
       "      <td>False</td>\n",
       "      <td>NaN</td>\n",
       "      <td>True</td>\n",
       "      <td>4</td>\n",
       "      <td>0</td>\n",
       "      <td>62</td>\n",
       "    </tr>\n",
       "    <tr>\n",
       "      <th>17</th>\n",
       "      <td>166377</td>\n",
       "      <td>2019-08-07 00:00:00+03:00</td>\n",
       "      <td>in</td>\n",
       "      <td>False</td>\n",
       "      <td>NaN</td>\n",
       "      <td>True</td>\n",
       "      <td>2</td>\n",
       "      <td>0</td>\n",
       "      <td>24</td>\n",
       "    </tr>\n",
       "    <tr>\n",
       "      <th>27</th>\n",
       "      <td>166377</td>\n",
       "      <td>2019-08-12 00:00:00+03:00</td>\n",
       "      <td>in</td>\n",
       "      <td>False</td>\n",
       "      <td>NaN</td>\n",
       "      <td>True</td>\n",
       "      <td>2</td>\n",
       "      <td>0</td>\n",
       "      <td>34</td>\n",
       "    </tr>\n",
       "  </tbody>\n",
       "</table>\n",
       "</div>"
      ],
      "text/plain": [
       "    user_id                       date direction internal  operator_id  \\\n",
       "0    166377  2019-08-04 00:00:00+03:00        in    False          NaN   \n",
       "7    166377  2019-08-05 00:00:00+03:00        in    False          NaN   \n",
       "9    166377  2019-08-06 00:00:00+03:00        in    False          NaN   \n",
       "17   166377  2019-08-07 00:00:00+03:00        in    False          NaN   \n",
       "27   166377  2019-08-12 00:00:00+03:00        in    False          NaN   \n",
       "\n",
       "    is_missed_call  calls_count  call_duration  total_call_duration  \n",
       "0             True            2              0                    4  \n",
       "7             True            6              0                   35  \n",
       "9             True            4              0                   62  \n",
       "17            True            2              0                   24  \n",
       "27            True            2              0                   34  "
      ]
     },
     "execution_count": 11,
     "metadata": {},
     "output_type": "execute_result"
    }
   ],
   "source": [
    "# строки с пропусками запишем во временную таблицу t\n",
    "\n",
    "t = df[pd.isna(df['operator_id'])].copy()\n",
    "t[:5]"
   ]
  },
  {
   "cell_type": "code",
   "execution_count": 12,
   "metadata": {
    "colab": {
     "base_uri": "https://localhost:8080/"
    },
    "id": "3Y9KycH9Or0u",
    "outputId": "ad1fcbc5-fbbf-4b0e-f3a3-bc236db8f098"
   },
   "outputs": [
    {
     "name": "stdout",
     "output_type": "stream",
     "text": [
      "Collecting phik\n",
      "  Downloading phik-0.12.2-cp39-cp39-manylinux_2_17_x86_64.manylinux2014_x86_64.whl (709 kB)\n",
      "\u001b[K     |████████████████████████████████| 709 kB 2.5 MB/s eta 0:00:01\n",
      "\u001b[?25hRequirement already satisfied: numpy>=1.18.0 in /opt/conda/lib/python3.9/site-packages (from phik) (1.21.1)\n",
      "Requirement already satisfied: joblib>=0.14.1 in /opt/conda/lib/python3.9/site-packages (from phik) (1.1.0)\n",
      "Requirement already satisfied: matplotlib>=2.2.3 in /opt/conda/lib/python3.9/site-packages (from phik) (3.3.4)\n",
      "Requirement already satisfied: scipy>=1.5.2 in /opt/conda/lib/python3.9/site-packages (from phik) (1.8.0)\n",
      "Requirement already satisfied: pandas>=0.25.1 in /opt/conda/lib/python3.9/site-packages (from phik) (1.2.4)\n",
      "Requirement already satisfied: python-dateutil>=2.1 in /opt/conda/lib/python3.9/site-packages (from matplotlib>=2.2.3->phik) (2.8.1)\n",
      "Requirement already satisfied: kiwisolver>=1.0.1 in /opt/conda/lib/python3.9/site-packages (from matplotlib>=2.2.3->phik) (1.4.2)\n",
      "Requirement already satisfied: cycler>=0.10 in /opt/conda/lib/python3.9/site-packages (from matplotlib>=2.2.3->phik) (0.11.0)\n",
      "Requirement already satisfied: pillow>=6.2.0 in /opt/conda/lib/python3.9/site-packages (from matplotlib>=2.2.3->phik) (8.4.0)\n",
      "Requirement already satisfied: pyparsing!=2.0.4,!=2.1.2,!=2.1.6,>=2.0.3 in /opt/conda/lib/python3.9/site-packages (from matplotlib>=2.2.3->phik) (2.4.7)\n",
      "Requirement already satisfied: pytz>=2017.3 in /opt/conda/lib/python3.9/site-packages (from pandas>=0.25.1->phik) (2021.1)\n",
      "Requirement already satisfied: six>=1.5 in /opt/conda/lib/python3.9/site-packages (from python-dateutil>=2.1->matplotlib>=2.2.3->phik) (1.16.0)\n",
      "Installing collected packages: phik\n",
      "Successfully installed phik-0.12.2\n"
     ]
    }
   ],
   "source": [
    "# устанавливаем phik\n",
    "\n",
    "! pip install phik"
   ]
  },
  {
   "cell_type": "code",
   "execution_count": 13,
   "metadata": {
    "id": "yfYKmWLDPuBP"
   },
   "outputs": [],
   "source": [
    "import phik\n",
    "from phik.report import plot_correlation_matrix\n",
    "from phik import report"
   ]
  },
  {
   "cell_type": "code",
   "execution_count": 14,
   "metadata": {
    "colab": {
     "base_uri": "https://localhost:8080/",
     "height": 349
    },
    "id": "QEPrNHVURHfI",
    "outputId": "4aa144b3-ebd5-4744-c341-ba0866998565"
   },
   "outputs": [
    {
     "name": "stdout",
     "output_type": "stream",
     "text": [
      "interval columns not set, guessing: ['user_id', 'operator_id', 'calls_count', 'call_duration', 'total_call_duration']\n"
     ]
    },
    {
     "data": {
      "text/html": [
       "<div>\n",
       "<style scoped>\n",
       "    .dataframe tbody tr th:only-of-type {\n",
       "        vertical-align: middle;\n",
       "    }\n",
       "\n",
       "    .dataframe tbody tr th {\n",
       "        vertical-align: top;\n",
       "    }\n",
       "\n",
       "    .dataframe thead th {\n",
       "        text-align: right;\n",
       "    }\n",
       "</style>\n",
       "<table border=\"1\" class=\"dataframe\">\n",
       "  <thead>\n",
       "    <tr style=\"text-align: right;\">\n",
       "      <th></th>\n",
       "      <th>user_id</th>\n",
       "      <th>date</th>\n",
       "      <th>direction</th>\n",
       "      <th>internal</th>\n",
       "      <th>operator_id</th>\n",
       "      <th>is_missed_call</th>\n",
       "      <th>calls_count</th>\n",
       "      <th>call_duration</th>\n",
       "      <th>total_call_duration</th>\n",
       "    </tr>\n",
       "  </thead>\n",
       "  <tbody>\n",
       "    <tr>\n",
       "      <th>user_id</th>\n",
       "      <td>1.00</td>\n",
       "      <td>0.53</td>\n",
       "      <td>0.10</td>\n",
       "      <td>0.18</td>\n",
       "      <td>0.91</td>\n",
       "      <td>0.06</td>\n",
       "      <td>0.08</td>\n",
       "      <td>0.16</td>\n",
       "      <td>0.16</td>\n",
       "    </tr>\n",
       "    <tr>\n",
       "      <th>date</th>\n",
       "      <td>0.53</td>\n",
       "      <td>1.00</td>\n",
       "      <td>0.11</td>\n",
       "      <td>0.12</td>\n",
       "      <td>0.62</td>\n",
       "      <td>0.06</td>\n",
       "      <td>0.00</td>\n",
       "      <td>0.12</td>\n",
       "      <td>0.11</td>\n",
       "    </tr>\n",
       "    <tr>\n",
       "      <th>direction</th>\n",
       "      <td>0.10</td>\n",
       "      <td>0.11</td>\n",
       "      <td>1.00</td>\n",
       "      <td>0.33</td>\n",
       "      <td>0.21</td>\n",
       "      <td>0.12</td>\n",
       "      <td>0.03</td>\n",
       "      <td>0.06</td>\n",
       "      <td>0.06</td>\n",
       "    </tr>\n",
       "    <tr>\n",
       "      <th>internal</th>\n",
       "      <td>0.18</td>\n",
       "      <td>0.12</td>\n",
       "      <td>0.33</td>\n",
       "      <td>1.00</td>\n",
       "      <td>0.20</td>\n",
       "      <td>0.05</td>\n",
       "      <td>0.02</td>\n",
       "      <td>0.03</td>\n",
       "      <td>0.03</td>\n",
       "    </tr>\n",
       "    <tr>\n",
       "      <th>operator_id</th>\n",
       "      <td>0.91</td>\n",
       "      <td>0.62</td>\n",
       "      <td>0.21</td>\n",
       "      <td>0.20</td>\n",
       "      <td>1.00</td>\n",
       "      <td>0.10</td>\n",
       "      <td>0.11</td>\n",
       "      <td>0.20</td>\n",
       "      <td>0.20</td>\n",
       "    </tr>\n",
       "    <tr>\n",
       "      <th>is_missed_call</th>\n",
       "      <td>0.06</td>\n",
       "      <td>0.06</td>\n",
       "      <td>0.12</td>\n",
       "      <td>0.05</td>\n",
       "      <td>0.10</td>\n",
       "      <td>1.00</td>\n",
       "      <td>0.01</td>\n",
       "      <td>0.08</td>\n",
       "      <td>0.07</td>\n",
       "    </tr>\n",
       "    <tr>\n",
       "      <th>calls_count</th>\n",
       "      <td>0.08</td>\n",
       "      <td>0.00</td>\n",
       "      <td>0.03</td>\n",
       "      <td>0.02</td>\n",
       "      <td>0.11</td>\n",
       "      <td>0.01</td>\n",
       "      <td>1.00</td>\n",
       "      <td>0.51</td>\n",
       "      <td>0.56</td>\n",
       "    </tr>\n",
       "    <tr>\n",
       "      <th>call_duration</th>\n",
       "      <td>0.16</td>\n",
       "      <td>0.12</td>\n",
       "      <td>0.06</td>\n",
       "      <td>0.03</td>\n",
       "      <td>0.20</td>\n",
       "      <td>0.08</td>\n",
       "      <td>0.51</td>\n",
       "      <td>1.00</td>\n",
       "      <td>0.99</td>\n",
       "    </tr>\n",
       "    <tr>\n",
       "      <th>total_call_duration</th>\n",
       "      <td>0.16</td>\n",
       "      <td>0.11</td>\n",
       "      <td>0.06</td>\n",
       "      <td>0.03</td>\n",
       "      <td>0.20</td>\n",
       "      <td>0.07</td>\n",
       "      <td>0.56</td>\n",
       "      <td>0.99</td>\n",
       "      <td>1.00</td>\n",
       "    </tr>\n",
       "  </tbody>\n",
       "</table>\n",
       "</div>"
      ],
      "text/plain": [
       "                     user_id  date  direction  internal  operator_id  \\\n",
       "user_id                 1.00  0.53       0.10      0.18         0.91   \n",
       "date                    0.53  1.00       0.11      0.12         0.62   \n",
       "direction               0.10  0.11       1.00      0.33         0.21   \n",
       "internal                0.18  0.12       0.33      1.00         0.20   \n",
       "operator_id             0.91  0.62       0.21      0.20         1.00   \n",
       "is_missed_call          0.06  0.06       0.12      0.05         0.10   \n",
       "calls_count             0.08  0.00       0.03      0.02         0.11   \n",
       "call_duration           0.16  0.12       0.06      0.03         0.20   \n",
       "total_call_duration     0.16  0.11       0.06      0.03         0.20   \n",
       "\n",
       "                     is_missed_call  calls_count  call_duration  \\\n",
       "user_id                        0.06         0.08           0.16   \n",
       "date                           0.06         0.00           0.12   \n",
       "direction                      0.12         0.03           0.06   \n",
       "internal                       0.05         0.02           0.03   \n",
       "operator_id                    0.10         0.11           0.20   \n",
       "is_missed_call                 1.00         0.01           0.08   \n",
       "calls_count                    0.01         1.00           0.51   \n",
       "call_duration                  0.08         0.51           1.00   \n",
       "total_call_duration            0.07         0.56           0.99   \n",
       "\n",
       "                     total_call_duration  \n",
       "user_id                             0.16  \n",
       "date                                0.11  \n",
       "direction                           0.06  \n",
       "internal                            0.03  \n",
       "operator_id                         0.20  \n",
       "is_missed_call                      0.07  \n",
       "calls_count                         0.56  \n",
       "call_duration                       0.99  \n",
       "total_call_duration                 1.00  "
      ]
     },
     "execution_count": 14,
     "metadata": {},
     "output_type": "execute_result"
    }
   ],
   "source": [
    "# посмотрим на взаимосвязь между переменными в исходной таблице df\n",
    "\n",
    "phik_overview = df.phik_matrix()\n",
    "phik_overview.round(2)"
   ]
  },
  {
   "cell_type": "code",
   "execution_count": 15,
   "metadata": {
    "colab": {
     "base_uri": "https://localhost:8080/",
     "height": 477
    },
    "id": "iGPUuJnRRKZr",
    "outputId": "40ee53a0-0817-4106-bd4f-a9474ece1b2d",
    "scrolled": true
   },
   "outputs": [
    {
     "data": {
      "text/plain": [
       "<AxesSubplot:>"
      ]
     },
     "execution_count": 15,
     "metadata": {},
     "output_type": "execute_result"
    },
    {
     "data": {
      "image/png": "[encoded data removed]",
      "text/plain": [
       "<Figure size 720x432 with 2 Axes>"
      ]
     },
     "metadata": {
      "needs_background": "light"
     },
     "output_type": "display_data"
    }
   ],
   "source": [
    "# строим хитмэп\n",
    "\n",
    "plt.figure(figsize=(10,6))\n",
    "sns.heatmap(phik_overview)"
   ]
  },
  {
   "cell_type": "markdown",
   "metadata": {},
   "source": [
    "<div class=\"alert alert-warning\">\n",
    "    \n",
    "**Комментарий ревьюера**\n",
    "\n",
    "**#можно лучше**\n",
    "\n",
    "А какие переменные должны по твоему коррелировать в нашем наборе? \n",
    "\n",
    "Смотреть все со всем очень не информативно. Лучше выбирать конкретные пары, тройки переменнфх и смотреть их отдельно\n",
    "\n",
    "</div>"
   ]
  },
  {
   "cell_type": "markdown",
   "metadata": {},
   "source": [
    "<div class=\"alert alert-info\">\n",
    "\n",
    "<b>Студент: </b> Вера, если честно, надеялся на эффект \"серебряной пули\" — само сработает :) Не сработало)))\n",
    "\n",
    "</div>"
   ]
  },
  {
   "cell_type": "code",
   "execution_count": 16,
   "metadata": {
    "colab": {
     "base_uri": "https://localhost:8080/",
     "height": 318
    },
    "id": "pMCLCBBPP_Wj",
    "outputId": "49543cd8-75ce-4090-ecc5-ff8a871af0bf"
   },
   "outputs": [
    {
     "name": "stdout",
     "output_type": "stream",
     "text": [
      "interval columns not set, guessing: ['user_id', 'operator_id', 'calls_count', 'call_duration', 'total_call_duration']\n"
     ]
    },
    {
     "data": {
      "text/html": [
       "<div>\n",
       "<style scoped>\n",
       "    .dataframe tbody tr th:only-of-type {\n",
       "        vertical-align: middle;\n",
       "    }\n",
       "\n",
       "    .dataframe tbody tr th {\n",
       "        vertical-align: top;\n",
       "    }\n",
       "\n",
       "    .dataframe thead th {\n",
       "        text-align: right;\n",
       "    }\n",
       "</style>\n",
       "<table border=\"1\" class=\"dataframe\">\n",
       "  <thead>\n",
       "    <tr style=\"text-align: right;\">\n",
       "      <th></th>\n",
       "      <th>user_id</th>\n",
       "      <th>date</th>\n",
       "      <th>direction</th>\n",
       "      <th>internal</th>\n",
       "      <th>is_missed_call</th>\n",
       "      <th>calls_count</th>\n",
       "      <th>call_duration</th>\n",
       "      <th>total_call_duration</th>\n",
       "    </tr>\n",
       "  </thead>\n",
       "  <tbody>\n",
       "    <tr>\n",
       "      <th>user_id</th>\n",
       "      <td>1.00</td>\n",
       "      <td>0.49</td>\n",
       "      <td>0.22</td>\n",
       "      <td>0.12</td>\n",
       "      <td>0.41</td>\n",
       "      <td>0.21</td>\n",
       "      <td>0.26</td>\n",
       "      <td>0.18</td>\n",
       "    </tr>\n",
       "    <tr>\n",
       "      <th>date</th>\n",
       "      <td>0.49</td>\n",
       "      <td>1.00</td>\n",
       "      <td>0.00</td>\n",
       "      <td>0.04</td>\n",
       "      <td>0.00</td>\n",
       "      <td>0.00</td>\n",
       "      <td>0.00</td>\n",
       "      <td>0.00</td>\n",
       "    </tr>\n",
       "    <tr>\n",
       "      <th>direction</th>\n",
       "      <td>0.22</td>\n",
       "      <td>0.00</td>\n",
       "      <td>1.00</td>\n",
       "      <td>0.19</td>\n",
       "      <td>0.45</td>\n",
       "      <td>0.00</td>\n",
       "      <td>0.30</td>\n",
       "      <td>0.23</td>\n",
       "    </tr>\n",
       "    <tr>\n",
       "      <th>internal</th>\n",
       "      <td>0.12</td>\n",
       "      <td>0.04</td>\n",
       "      <td>0.19</td>\n",
       "      <td>1.00</td>\n",
       "      <td>0.06</td>\n",
       "      <td>0.00</td>\n",
       "      <td>0.00</td>\n",
       "      <td>0.00</td>\n",
       "    </tr>\n",
       "    <tr>\n",
       "      <th>is_missed_call</th>\n",
       "      <td>0.41</td>\n",
       "      <td>0.00</td>\n",
       "      <td>0.45</td>\n",
       "      <td>0.06</td>\n",
       "      <td>1.00</td>\n",
       "      <td>0.00</td>\n",
       "      <td>0.78</td>\n",
       "      <td>0.65</td>\n",
       "    </tr>\n",
       "    <tr>\n",
       "      <th>calls_count</th>\n",
       "      <td>0.21</td>\n",
       "      <td>0.00</td>\n",
       "      <td>0.00</td>\n",
       "      <td>0.00</td>\n",
       "      <td>0.00</td>\n",
       "      <td>1.00</td>\n",
       "      <td>0.00</td>\n",
       "      <td>0.49</td>\n",
       "    </tr>\n",
       "    <tr>\n",
       "      <th>call_duration</th>\n",
       "      <td>0.26</td>\n",
       "      <td>0.00</td>\n",
       "      <td>0.30</td>\n",
       "      <td>0.00</td>\n",
       "      <td>0.78</td>\n",
       "      <td>0.00</td>\n",
       "      <td>1.00</td>\n",
       "      <td>0.91</td>\n",
       "    </tr>\n",
       "    <tr>\n",
       "      <th>total_call_duration</th>\n",
       "      <td>0.18</td>\n",
       "      <td>0.00</td>\n",
       "      <td>0.23</td>\n",
       "      <td>0.00</td>\n",
       "      <td>0.65</td>\n",
       "      <td>0.49</td>\n",
       "      <td>0.91</td>\n",
       "      <td>1.00</td>\n",
       "    </tr>\n",
       "  </tbody>\n",
       "</table>\n",
       "</div>"
      ],
      "text/plain": [
       "                     user_id  date  direction  internal  is_missed_call  \\\n",
       "user_id                 1.00  0.49       0.22      0.12            0.41   \n",
       "date                    0.49  1.00       0.00      0.04            0.00   \n",
       "direction               0.22  0.00       1.00      0.19            0.45   \n",
       "internal                0.12  0.04       0.19      1.00            0.06   \n",
       "is_missed_call          0.41  0.00       0.45      0.06            1.00   \n",
       "calls_count             0.21  0.00       0.00      0.00            0.00   \n",
       "call_duration           0.26  0.00       0.30      0.00            0.78   \n",
       "total_call_duration     0.18  0.00       0.23      0.00            0.65   \n",
       "\n",
       "                     calls_count  call_duration  total_call_duration  \n",
       "user_id                     0.21           0.26                 0.18  \n",
       "date                        0.00           0.00                 0.00  \n",
       "direction                   0.00           0.30                 0.23  \n",
       "internal                    0.00           0.00                 0.00  \n",
       "is_missed_call              0.00           0.78                 0.65  \n",
       "calls_count                 1.00           0.00                 0.49  \n",
       "call_duration               0.00           1.00                 0.91  \n",
       "total_call_duration         0.49           0.91                 1.00  "
      ]
     },
     "execution_count": 16,
     "metadata": {},
     "output_type": "execute_result"
    }
   ],
   "source": [
    "# то же самое для данных, в которых пропуски в operator_id\n",
    "\n",
    "phik_overview = t.phik_matrix()\n",
    "phik_overview.round(2)"
   ]
  },
  {
   "cell_type": "code",
   "execution_count": 17,
   "metadata": {
    "colab": {
     "base_uri": "https://localhost:8080/",
     "height": 477
    },
    "id": "-69-IuSHQKHw",
    "outputId": "93899787-35db-419d-a8df-8f50b9ca3a8f"
   },
   "outputs": [
    {
     "data": {
      "text/plain": [
       "<AxesSubplot:>"
      ]
     },
     "execution_count": 17,
     "metadata": {},
     "output_type": "execute_result"
    },
    {
     "data": {
      "image/png": "[encoded data removed]",
      "text/plain": [
       "<Figure size 720x432 with 2 Axes>"
      ]
     },
     "metadata": {
      "needs_background": "light"
     },
     "output_type": "display_data"
    }
   ],
   "source": [
    "# такой же хитмэп\n",
    "\n",
    "plt.figure(figsize=(10,6))\n",
    "sns.heatmap(phik_overview)"
   ]
  },
  {
   "cell_type": "markdown",
   "metadata": {
    "id": "UB28zyxmQOoY"
   },
   "source": [
    "Какой-то принципиальной разницы не вижу, разве что ожидаемо пропала связь `operator/user`. Выделить что-то особенное в данных с пропусками в `operator_id`не могу. Удалить такое большое количество пропусков тоже нельзя. Попробуем дальше поискать, что общего в строках с пропусками в `operator_id`."
   ]
  },
  {
   "cell_type": "code",
   "execution_count": 18,
   "metadata": {
    "colab": {
     "base_uri": "https://localhost:8080/",
     "height": 206
    },
    "id": "K4IFUeatKMBB",
    "outputId": "a575d02e-17e1-4472-d2b5-cad3eb6c1f92"
   },
   "outputs": [
    {
     "data": {
      "text/html": [
       "<div>\n",
       "<style scoped>\n",
       "    .dataframe tbody tr th:only-of-type {\n",
       "        vertical-align: middle;\n",
       "    }\n",
       "\n",
       "    .dataframe tbody tr th {\n",
       "        vertical-align: top;\n",
       "    }\n",
       "\n",
       "    .dataframe thead th {\n",
       "        text-align: right;\n",
       "    }\n",
       "</style>\n",
       "<table border=\"1\" class=\"dataframe\">\n",
       "  <thead>\n",
       "    <tr style=\"text-align: right;\">\n",
       "      <th></th>\n",
       "      <th>user_id</th>\n",
       "      <th>date</th>\n",
       "      <th>direction</th>\n",
       "      <th>internal</th>\n",
       "      <th>operator_id</th>\n",
       "      <th>is_missed_call</th>\n",
       "      <th>calls_count</th>\n",
       "      <th>call_duration</th>\n",
       "      <th>total_call_duration</th>\n",
       "    </tr>\n",
       "  </thead>\n",
       "  <tbody>\n",
       "    <tr>\n",
       "      <th>0</th>\n",
       "      <td>166377</td>\n",
       "      <td>2019-08-04 00:00:00+03:00</td>\n",
       "      <td>in</td>\n",
       "      <td>False</td>\n",
       "      <td>NaN</td>\n",
       "      <td>True</td>\n",
       "      <td>2</td>\n",
       "      <td>0</td>\n",
       "      <td>4</td>\n",
       "    </tr>\n",
       "    <tr>\n",
       "      <th>7</th>\n",
       "      <td>166377</td>\n",
       "      <td>2019-08-05 00:00:00+03:00</td>\n",
       "      <td>in</td>\n",
       "      <td>False</td>\n",
       "      <td>NaN</td>\n",
       "      <td>True</td>\n",
       "      <td>6</td>\n",
       "      <td>0</td>\n",
       "      <td>35</td>\n",
       "    </tr>\n",
       "    <tr>\n",
       "      <th>9</th>\n",
       "      <td>166377</td>\n",
       "      <td>2019-08-06 00:00:00+03:00</td>\n",
       "      <td>in</td>\n",
       "      <td>False</td>\n",
       "      <td>NaN</td>\n",
       "      <td>True</td>\n",
       "      <td>4</td>\n",
       "      <td>0</td>\n",
       "      <td>62</td>\n",
       "    </tr>\n",
       "    <tr>\n",
       "      <th>17</th>\n",
       "      <td>166377</td>\n",
       "      <td>2019-08-07 00:00:00+03:00</td>\n",
       "      <td>in</td>\n",
       "      <td>False</td>\n",
       "      <td>NaN</td>\n",
       "      <td>True</td>\n",
       "      <td>2</td>\n",
       "      <td>0</td>\n",
       "      <td>24</td>\n",
       "    </tr>\n",
       "    <tr>\n",
       "      <th>27</th>\n",
       "      <td>166377</td>\n",
       "      <td>2019-08-12 00:00:00+03:00</td>\n",
       "      <td>in</td>\n",
       "      <td>False</td>\n",
       "      <td>NaN</td>\n",
       "      <td>True</td>\n",
       "      <td>2</td>\n",
       "      <td>0</td>\n",
       "      <td>34</td>\n",
       "    </tr>\n",
       "  </tbody>\n",
       "</table>\n",
       "</div>"
      ],
      "text/plain": [
       "    user_id                       date direction internal  operator_id  \\\n",
       "0    166377  2019-08-04 00:00:00+03:00        in    False          NaN   \n",
       "7    166377  2019-08-05 00:00:00+03:00        in    False          NaN   \n",
       "9    166377  2019-08-06 00:00:00+03:00        in    False          NaN   \n",
       "17   166377  2019-08-07 00:00:00+03:00        in    False          NaN   \n",
       "27   166377  2019-08-12 00:00:00+03:00        in    False          NaN   \n",
       "\n",
       "    is_missed_call  calls_count  call_duration  total_call_duration  \n",
       "0             True            2              0                    4  \n",
       "7             True            6              0                   35  \n",
       "9             True            4              0                   62  \n",
       "17            True            2              0                   24  \n",
       "27            True            2              0                   34  "
      ]
     },
     "execution_count": 18,
     "metadata": {},
     "output_type": "execute_result"
    }
   ],
   "source": [
    "# выведем эти строки в отдельнуюю таблицу operator_miss\n",
    "\n",
    "operator_miss = df[pd.isna(df['operator_id'])].copy()\n",
    "operator_miss.head()"
   ]
  },
  {
   "cell_type": "markdown",
   "metadata": {
    "id": "mqb_svccLHKM"
   },
   "source": [
    "Посмотрим на распределение в этой таблице"
   ]
  },
  {
   "cell_type": "code",
   "execution_count": 19,
   "metadata": {
    "colab": {
     "base_uri": "https://localhost:8080/",
     "height": 281
    },
    "id": "FrJU7OtAMT45",
    "outputId": "24c7342c-9ff2-40cf-c8ff-6f964eb338d1"
   },
   "outputs": [
    {
     "data": {
      "text/plain": [
       "'direction'"
      ]
     },
     "metadata": {},
     "output_type": "display_data"
    },
    {
     "data": {
      "text/plain": [
       "in     7917\n",
       "out     198\n",
       "Name: direction, dtype: int64"
      ]
     },
     "metadata": {},
     "output_type": "display_data"
    },
    {
     "name": "stdout",
     "output_type": "stream",
     "text": [
      "\n"
     ]
    },
    {
     "data": {
      "text/plain": [
       "'internal'"
      ]
     },
     "metadata": {},
     "output_type": "display_data"
    },
    {
     "data": {
      "text/plain": [
       "False    7760\n",
       "True      355\n",
       "Name: internal, dtype: int64"
      ]
     },
     "metadata": {},
     "output_type": "display_data"
    },
    {
     "name": "stdout",
     "output_type": "stream",
     "text": [
      "\n"
     ]
    },
    {
     "data": {
      "text/plain": [
       "'is_missed_call'"
      ]
     },
     "metadata": {},
     "output_type": "display_data"
    },
    {
     "data": {
      "text/plain": [
       "True     7993\n",
       "False     122\n",
       "Name: is_missed_call, dtype: int64"
      ]
     },
     "metadata": {},
     "output_type": "display_data"
    },
    {
     "name": "stdout",
     "output_type": "stream",
     "text": [
      "\n"
     ]
    }
   ],
   "source": [
    "for col in operator_miss[['direction', 'internal', 'is_missed_call']]:\n",
    "  display(str(col))\n",
    "  display(operator_miss[col].value_counts())\n",
    "  print()"
   ]
  },
  {
   "cell_type": "markdown",
   "metadata": {
    "id": "TN_nevvCbwmY"
   },
   "source": [
    "Подавляющее большинство строк с пропусками в `operatot_id` это входящие +  внешние + пропущенные вызовы."
   ]
  },
  {
   "cell_type": "code",
   "execution_count": 20,
   "metadata": {
    "colab": {
     "base_uri": "https://localhost:8080/",
     "height": 280
    },
    "id": "n8mI-03s8eKx",
    "outputId": "4f7ebd01-ffa8-432a-e32a-dd37e970d24b"
   },
   "outputs": [
    {
     "data": {
      "image/png": "[encoded data removed]",
      "text/plain": [
       "<Figure size 432x288 with 1 Axes>"
      ]
     },
     "metadata": {
      "needs_background": "light"
     },
     "output_type": "display_data"
    }
   ],
   "source": [
    "# посмотрим на длину этих звонков\n",
    "\n",
    "sns.histplot(operator_miss['call_duration']);"
   ]
  },
  {
   "cell_type": "markdown",
   "metadata": {},
   "source": [
    "<div class=\"alert alert-warning\">\n",
    "    \n",
    "**Комментарий ревьюера - 2**\n",
    "\n",
    "**#можно лучше**\n",
    "\n",
    "Такая гистограмма не очень информативна, стоило поднастроить количество корзин\n",
    "\n",
    "</div>"
   ]
  },
  {
   "cell_type": "code",
   "execution_count": 21,
   "metadata": {
    "colab": {
     "base_uri": "https://localhost:8080/"
    },
    "id": "Fvw0EJnO9r4-",
    "outputId": "ab6f95bd-27e0-4361-e3a1-f26dac431515"
   },
   "outputs": [
    {
     "data": {
      "text/plain": [
       "7993"
      ]
     },
     "execution_count": 21,
     "metadata": {},
     "output_type": "execute_result"
    }
   ],
   "source": [
    "# картина начинает проясняться, посмотрим, сколько звонков с длительностью 0 минут\n",
    "\n",
    "len(operator_miss[operator_miss['call_duration'] == 0])"
   ]
  },
  {
   "cell_type": "code",
   "execution_count": 22,
   "metadata": {
    "colab": {
     "base_uri": "https://localhost:8080/"
    },
    "id": "uXdXkHAL-JzS",
    "outputId": "c8bfacce-065d-4f56-f9d3-ea4e10e9ce30"
   },
   "outputs": [
    {
     "data": {
      "text/plain": [
       "8115"
      ]
     },
     "execution_count": 22,
     "metadata": {},
     "output_type": "execute_result"
    }
   ],
   "source": [
    "# всего строк с пропусками в operator_id\n",
    "\n",
    "len(operator_miss)"
   ]
  },
  {
   "cell_type": "code",
   "execution_count": 23,
   "metadata": {
    "colab": {
     "base_uri": "https://localhost:8080/",
     "height": 424
    },
    "id": "8UzXmArB-PBm",
    "outputId": "d20b14ec-c01f-4831-c176-e1e25a1e5b5b"
   },
   "outputs": [
    {
     "data": {
      "text/html": [
       "<div>\n",
       "<style scoped>\n",
       "    .dataframe tbody tr th:only-of-type {\n",
       "        vertical-align: middle;\n",
       "    }\n",
       "\n",
       "    .dataframe tbody tr th {\n",
       "        vertical-align: top;\n",
       "    }\n",
       "\n",
       "    .dataframe thead th {\n",
       "        text-align: right;\n",
       "    }\n",
       "</style>\n",
       "<table border=\"1\" class=\"dataframe\">\n",
       "  <thead>\n",
       "    <tr style=\"text-align: right;\">\n",
       "      <th></th>\n",
       "      <th>user_id</th>\n",
       "      <th>date</th>\n",
       "      <th>direction</th>\n",
       "      <th>internal</th>\n",
       "      <th>operator_id</th>\n",
       "      <th>is_missed_call</th>\n",
       "      <th>calls_count</th>\n",
       "      <th>call_duration</th>\n",
       "      <th>total_call_duration</th>\n",
       "    </tr>\n",
       "  </thead>\n",
       "  <tbody>\n",
       "    <tr>\n",
       "      <th>698</th>\n",
       "      <td>166399</td>\n",
       "      <td>2019-08-12 00:00:00+03:00</td>\n",
       "      <td>in</td>\n",
       "      <td>False</td>\n",
       "      <td>NaN</td>\n",
       "      <td>False</td>\n",
       "      <td>1</td>\n",
       "      <td>10</td>\n",
       "      <td>55</td>\n",
       "    </tr>\n",
       "    <tr>\n",
       "      <th>704</th>\n",
       "      <td>166399</td>\n",
       "      <td>2019-09-02 00:00:00+03:00</td>\n",
       "      <td>in</td>\n",
       "      <td>False</td>\n",
       "      <td>NaN</td>\n",
       "      <td>False</td>\n",
       "      <td>1</td>\n",
       "      <td>68</td>\n",
       "      <td>115</td>\n",
       "    </tr>\n",
       "    <tr>\n",
       "      <th>4089</th>\n",
       "      <td>166503</td>\n",
       "      <td>2019-09-26 00:00:00+03:00</td>\n",
       "      <td>out</td>\n",
       "      <td>False</td>\n",
       "      <td>NaN</td>\n",
       "      <td>False</td>\n",
       "      <td>1</td>\n",
       "      <td>213</td>\n",
       "      <td>220</td>\n",
       "    </tr>\n",
       "    <tr>\n",
       "      <th>4136</th>\n",
       "      <td>166503</td>\n",
       "      <td>2019-10-09 00:00:00+03:00</td>\n",
       "      <td>in</td>\n",
       "      <td>False</td>\n",
       "      <td>NaN</td>\n",
       "      <td>False</td>\n",
       "      <td>1</td>\n",
       "      <td>374</td>\n",
       "      <td>405</td>\n",
       "    </tr>\n",
       "    <tr>\n",
       "      <th>4198</th>\n",
       "      <td>166503</td>\n",
       "      <td>2019-10-21 00:00:00+03:00</td>\n",
       "      <td>out</td>\n",
       "      <td>True</td>\n",
       "      <td>NaN</td>\n",
       "      <td>False</td>\n",
       "      <td>2</td>\n",
       "      <td>382</td>\n",
       "      <td>397</td>\n",
       "    </tr>\n",
       "    <tr>\n",
       "      <th>...</th>\n",
       "      <td>...</td>\n",
       "      <td>...</td>\n",
       "      <td>...</td>\n",
       "      <td>...</td>\n",
       "      <td>...</td>\n",
       "      <td>...</td>\n",
       "      <td>...</td>\n",
       "      <td>...</td>\n",
       "      <td>...</td>\n",
       "    </tr>\n",
       "    <tr>\n",
       "      <th>50930</th>\n",
       "      <td>168252</td>\n",
       "      <td>2019-11-28 00:00:00+03:00</td>\n",
       "      <td>in</td>\n",
       "      <td>True</td>\n",
       "      <td>NaN</td>\n",
       "      <td>False</td>\n",
       "      <td>2</td>\n",
       "      <td>265</td>\n",
       "      <td>274</td>\n",
       "    </tr>\n",
       "    <tr>\n",
       "      <th>50946</th>\n",
       "      <td>168252</td>\n",
       "      <td>2019-11-28 00:00:00+03:00</td>\n",
       "      <td>in</td>\n",
       "      <td>False</td>\n",
       "      <td>NaN</td>\n",
       "      <td>False</td>\n",
       "      <td>45</td>\n",
       "      <td>23765</td>\n",
       "      <td>23897</td>\n",
       "    </tr>\n",
       "    <tr>\n",
       "      <th>50955</th>\n",
       "      <td>168252</td>\n",
       "      <td>2019-11-28 00:00:00+03:00</td>\n",
       "      <td>out</td>\n",
       "      <td>False</td>\n",
       "      <td>NaN</td>\n",
       "      <td>False</td>\n",
       "      <td>22</td>\n",
       "      <td>11904</td>\n",
       "      <td>12211</td>\n",
       "    </tr>\n",
       "    <tr>\n",
       "      <th>50956</th>\n",
       "      <td>168252</td>\n",
       "      <td>2019-11-28 00:00:00+03:00</td>\n",
       "      <td>out</td>\n",
       "      <td>True</td>\n",
       "      <td>NaN</td>\n",
       "      <td>False</td>\n",
       "      <td>1</td>\n",
       "      <td>159</td>\n",
       "      <td>168</td>\n",
       "    </tr>\n",
       "    <tr>\n",
       "      <th>51680</th>\n",
       "      <td>168336</td>\n",
       "      <td>2019-11-14 00:00:00+03:00</td>\n",
       "      <td>in</td>\n",
       "      <td>False</td>\n",
       "      <td>NaN</td>\n",
       "      <td>False</td>\n",
       "      <td>1</td>\n",
       "      <td>169</td>\n",
       "      <td>174</td>\n",
       "    </tr>\n",
       "  </tbody>\n",
       "</table>\n",
       "<p>122 rows × 9 columns</p>\n",
       "</div>"
      ],
      "text/plain": [
       "       user_id                       date direction internal  operator_id  \\\n",
       "698     166399  2019-08-12 00:00:00+03:00        in    False          NaN   \n",
       "704     166399  2019-09-02 00:00:00+03:00        in    False          NaN   \n",
       "4089    166503  2019-09-26 00:00:00+03:00       out    False          NaN   \n",
       "4136    166503  2019-10-09 00:00:00+03:00        in    False          NaN   \n",
       "4198    166503  2019-10-21 00:00:00+03:00       out     True          NaN   \n",
       "...        ...                        ...       ...      ...          ...   \n",
       "50930   168252  2019-11-28 00:00:00+03:00        in     True          NaN   \n",
       "50946   168252  2019-11-28 00:00:00+03:00        in    False          NaN   \n",
       "50955   168252  2019-11-28 00:00:00+03:00       out    False          NaN   \n",
       "50956   168252  2019-11-28 00:00:00+03:00       out     True          NaN   \n",
       "51680   168336  2019-11-14 00:00:00+03:00        in    False          NaN   \n",
       "\n",
       "       is_missed_call  calls_count  call_duration  total_call_duration  \n",
       "698             False            1             10                   55  \n",
       "704             False            1             68                  115  \n",
       "4089            False            1            213                  220  \n",
       "4136            False            1            374                  405  \n",
       "4198            False            2            382                  397  \n",
       "...               ...          ...            ...                  ...  \n",
       "50930           False            2            265                  274  \n",
       "50946           False           45          23765                23897  \n",
       "50955           False           22          11904                12211  \n",
       "50956           False            1            159                  168  \n",
       "51680           False            1            169                  174  \n",
       "\n",
       "[122 rows x 9 columns]"
      ]
     },
     "execution_count": 23,
     "metadata": {},
     "output_type": "execute_result"
    }
   ],
   "source": [
    "# сколько записей с ненулевым значением в call_duration\n",
    "\n",
    "operator_miss[operator_miss['call_duration'] != 0]"
   ]
  },
  {
   "cell_type": "markdown",
   "metadata": {
    "id": "wpLcbdBq-eyB"
   },
   "source": [
    "Не могу найти закономерностей или возможностей востановить данные в пропущенных значениях. Это не непрерывная переменная, заменить медианой, средним или даже модой не получится.\n",
    "\n",
    "Удалить такой объем нельзя. Вместо пропусков поставлю маркер -1000, чтобы отметить эти данные. Это в дальнейшем позволит нам лучше кластеризовать call-центры (КЦ)."
   ]
  },
  {
   "cell_type": "markdown",
   "metadata": {},
   "source": [
    "<div class=\"alert alert-success\">\n",
    "    \n",
    "**Комментарий ревьюера**\n",
    "\n",
    "**#ок**\n",
    "\n",
    "Верное решение\n",
    "\n",
    "</div>"
   ]
  },
  {
   "cell_type": "markdown",
   "metadata": {},
   "source": [
    "<div class=\"alert alert-info\">\n",
    "\n",
    "<b>Студент: </b> Спасибо!\n",
    "</div>"
   ]
  },
  {
   "cell_type": "code",
   "execution_count": 24,
   "metadata": {
    "colab": {
     "base_uri": "https://localhost:8080/"
    },
    "id": "D1JnUaPW_6i8",
    "outputId": "7564e8bd-7d39-4de5-fc62-a2e0a81d698f"
   },
   "outputs": [
    {
     "data": {
      "text/plain": [
       "user_id                0\n",
       "date                   0\n",
       "direction              0\n",
       "internal               0\n",
       "operator_id            0\n",
       "is_missed_call         0\n",
       "calls_count            0\n",
       "call_duration          0\n",
       "total_call_duration    0\n",
       "dtype: int64"
      ]
     },
     "execution_count": 24,
     "metadata": {},
     "output_type": "execute_result"
    }
   ],
   "source": [
    "df.fillna(-1000, inplace=True)\n",
    "df.isna().sum()"
   ]
  },
  {
   "cell_type": "code",
   "execution_count": 25,
   "metadata": {
    "colab": {
     "base_uri": "https://localhost:8080/"
    },
    "id": "TDBNBu4KAm0W",
    "outputId": "c84a1136-01ee-4ae4-fca9-0388f66b8572"
   },
   "outputs": [
    {
     "data": {
      "text/plain": [
       "53785"
      ]
     },
     "execution_count": 25,
     "metadata": {},
     "output_type": "execute_result"
    }
   ],
   "source": [
    "df_len = len(df)\n",
    "df_len"
   ]
  },
  {
   "cell_type": "code",
   "execution_count": 26,
   "metadata": {
    "colab": {
     "base_uri": "https://localhost:8080/"
    },
    "id": "6Z4grJfYBf0F",
    "outputId": "cbd56d30-38c2-49f9-8b6a-473b98e7d794"
   },
   "outputs": [
    {
     "name": "stdout",
     "output_type": "stream",
     "text": [
      "Потеряли 117 строк, что составляет 0.22% данных\n"
     ]
    }
   ],
   "source": [
    "# посмотрим, сколько данных потеряли в ходе очистки\n",
    "\n",
    "print(f'Потеряли {df_len_start - df_len} строк, что составляет \\\n",
    "{(df_len_start - df_len)/ df_len_start:.2%} данных')"
   ]
  },
  {
   "cell_type": "markdown",
   "metadata": {
    "id": "z-nhuYZ9AEyh"
   },
   "source": [
    "Пропусков в `df` нет, идем дальше"
   ]
  },
  {
   "cell_type": "code",
   "execution_count": 27,
   "metadata": {
    "colab": {
     "base_uri": "https://localhost:8080/"
    },
    "id": "lOjoDylOV2Rn",
    "outputId": "b66658d4-de2e-4560-9600-ed53cc35405c"
   },
   "outputs": [
    {
     "data": {
      "text/plain": [
       "user_id        0\n",
       "tariff_plan    0\n",
       "date_start     0\n",
       "dtype: int64"
      ]
     },
     "execution_count": 27,
     "metadata": {},
     "output_type": "execute_result"
    }
   ],
   "source": [
    "# убедимся еще раз в отсутствии пропусков во второй таблице\n",
    "\n",
    "telecom_clients.isna().sum()"
   ]
  },
  {
   "cell_type": "markdown",
   "metadata": {
    "id": "Lzl4uZl4WSGW"
   },
   "source": [
    "### Выводы по обработке пропусков\n",
    "\n",
    "В основной таблице с операторами и вызовами удалили 0.2% строк с пропусками в _iternal_. \n",
    "\n",
    "Во второй таблице данные без пропусков."
   ]
  },
  {
   "cell_type": "markdown",
   "metadata": {
    "id": "bUZHSfBwW2nc"
   },
   "source": [
    "### Исследование соответствия типов"
   ]
  },
  {
   "cell_type": "code",
   "execution_count": 28,
   "metadata": {
    "colab": {
     "base_uri": "https://localhost:8080/"
    },
    "id": "CfUf6yZSM_2q",
    "outputId": "2302a8be-415c-47ec-e2df-d2e03930cbbe"
   },
   "outputs": [
    {
     "data": {
      "text/plain": [
       "user_id                  int64\n",
       "date                    object\n",
       "direction               object\n",
       "internal                  bool\n",
       "operator_id            float64\n",
       "is_missed_call            bool\n",
       "calls_count              int64\n",
       "call_duration            int64\n",
       "total_call_duration      int64\n",
       "dtype: object"
      ]
     },
     "execution_count": 28,
     "metadata": {},
     "output_type": "execute_result"
    }
   ],
   "source": [
    "# смотрим типы данных в основной таблице\n",
    "\n",
    "df.dtypes"
   ]
  },
  {
   "cell_type": "markdown",
   "metadata": {
    "id": "tazpbi0i0uUG"
   },
   "source": [
    "Неправильный формат у `date` и `operator_id`. Для первого нужен формат даты/времени, для второго формат целых чисел"
   ]
  },
  {
   "cell_type": "code",
   "execution_count": 29,
   "metadata": {
    "id": "cRvj3GSIyn_s"
   },
   "outputs": [],
   "source": [
    "# начнем с простого, переведем operator_id в int\n",
    "\n",
    "df['operator_id'] = df['operator_id'].astype('int')"
   ]
  },
  {
   "cell_type": "code",
   "execution_count": 30,
   "metadata": {
    "colab": {
     "base_uri": "https://localhost:8080/"
    },
    "id": "93kdPn4G4kXB",
    "outputId": "66cc293b-09f8-4b74-bd9e-ad29142928be"
   },
   "outputs": [
    {
     "data": {
      "text/plain": [
       "0    2019-08-04 00:00:00+03:00\n",
       "1    2019-08-05 00:00:00+03:00\n",
       "2    2019-08-05 00:00:00+03:00\n",
       "3    2019-08-05 00:00:00+03:00\n",
       "4    2019-08-05 00:00:00+03:00\n",
       "Name: date, dtype: object"
      ]
     },
     "execution_count": 30,
     "metadata": {},
     "output_type": "execute_result"
    }
   ],
   "source": [
    "# займемся датой\n",
    "\n",
    "df['date'].head()"
   ]
  },
  {
   "cell_type": "code",
   "execution_count": 31,
   "metadata": {
    "colab": {
     "base_uri": "https://localhost:8080/"
    },
    "id": "lNcbtzHr_ZVg",
    "outputId": "972eba95-b32d-4142-cbcb-5a65de09125e"
   },
   "outputs": [
    {
     "data": {
      "text/plain": [
       "0   2019-08-04 00:00:00+03:00\n",
       "1   2019-08-05 00:00:00+03:00\n",
       "2   2019-08-05 00:00:00+03:00\n",
       "3   2019-08-05 00:00:00+03:00\n",
       "4   2019-08-05 00:00:00+03:00\n",
       "Name: date, dtype: datetime64[ns, pytz.FixedOffset(180)]"
      ]
     },
     "execution_count": 31,
     "metadata": {},
     "output_type": "execute_result"
    }
   ],
   "source": [
    "# переводим в datetime\n",
    "\n",
    "df['date'] = pd.to_datetime(df['date'])\n",
    "df['date'].head()"
   ]
  },
  {
   "cell_type": "markdown",
   "metadata": {
    "id": "EtTRMqs0Q6aJ"
   },
   "source": [
    "Данные идут в формате с тайм-зоной. Сначала извлечем дату"
   ]
  },
  {
   "cell_type": "code",
   "execution_count": 32,
   "metadata": {
    "id": "tzSAtQhgxxZw"
   },
   "outputs": [],
   "source": [
    "df['date'] = df['date'].dt.date"
   ]
  },
  {
   "cell_type": "code",
   "execution_count": 33,
   "metadata": {
    "id": "MzKraSuqx9HG"
   },
   "outputs": [],
   "source": [
    "# вернем обратно тип datetime\n",
    "\n",
    "df['date'] = pd.to_datetime(df['date'])"
   ]
  },
  {
   "cell_type": "code",
   "execution_count": 34,
   "metadata": {
    "colab": {
     "base_uri": "https://localhost:8080/"
    },
    "id": "l5wGiiJCyhAy",
    "outputId": "964727f1-6806-4d91-b17d-a0b9737ca0cb"
   },
   "outputs": [
    {
     "data": {
      "text/plain": [
       "user_id                         int64\n",
       "date                   datetime64[ns]\n",
       "direction                      object\n",
       "internal                         bool\n",
       "operator_id                     int64\n",
       "is_missed_call                   bool\n",
       "calls_count                     int64\n",
       "call_duration                   int64\n",
       "total_call_duration             int64\n",
       "dtype: object"
      ]
     },
     "execution_count": 34,
     "metadata": {},
     "output_type": "execute_result"
    }
   ],
   "source": [
    "# проверяем \n",
    "\n",
    "df.dtypes"
   ]
  },
  {
   "cell_type": "code",
   "execution_count": 35,
   "metadata": {
    "colab": {
     "base_uri": "https://localhost:8080/"
    },
    "id": "OyeVK9KeFOsA",
    "outputId": "492dd7da-b10c-4251-fce4-3f72769c08b4"
   },
   "outputs": [
    {
     "data": {
      "text/plain": [
       "user_id         int64\n",
       "tariff_plan    object\n",
       "date_start     object\n",
       "dtype: object"
      ]
     },
     "execution_count": 35,
     "metadata": {},
     "output_type": "execute_result"
    }
   ],
   "source": [
    "# вторая таблица\n",
    "\n",
    "telecom_clients.dtypes"
   ]
  },
  {
   "cell_type": "code",
   "execution_count": 36,
   "metadata": {
    "colab": {
     "base_uri": "https://localhost:8080/"
    },
    "id": "f1c9OqCzFc8f",
    "outputId": "fa3a83d2-c8b2-4584-a976-327fb038971a"
   },
   "outputs": [
    {
     "data": {
      "text/plain": [
       "0    2019-08-15\n",
       "1    2019-08-23\n",
       "2    2019-10-29\n",
       "3    2019-09-01\n",
       "4    2019-10-16\n",
       "Name: date_start, dtype: object"
      ]
     },
     "execution_count": 36,
     "metadata": {},
     "output_type": "execute_result"
    }
   ],
   "source": [
    "# та же проблема с датами в date_start\n",
    "\n",
    "telecom_clients['date_start'].head()"
   ]
  },
  {
   "cell_type": "code",
   "execution_count": 37,
   "metadata": {
    "colab": {
     "base_uri": "https://localhost:8080/"
    },
    "id": "fDkEkiOcGHTj",
    "outputId": "87f95e8b-00fb-4d9c-81d4-2169869cdaca"
   },
   "outputs": [
    {
     "data": {
      "text/plain": [
       "0   2019-08-15\n",
       "1   2019-08-23\n",
       "2   2019-10-29\n",
       "3   2019-09-01\n",
       "4   2019-10-16\n",
       "Name: date_start, dtype: datetime64[ns]"
      ]
     },
     "execution_count": 37,
     "metadata": {},
     "output_type": "execute_result"
    }
   ],
   "source": [
    "# переводим в формат даты\n",
    "\n",
    "telecom_clients['date_start'] = pd.to_datetime(telecom_clients['date_start'])\n",
    "telecom_clients['date_start'].head()"
   ]
  },
  {
   "cell_type": "markdown",
   "metadata": {
    "id": "NcCwW2Q8Gssy"
   },
   "source": [
    "В обеих таблицах данные в правильных форматах"
   ]
  },
  {
   "cell_type": "markdown",
   "metadata": {
    "id": "uk98AdXHHnrE"
   },
   "source": [
    "### Удаление явных дубликатов"
   ]
  },
  {
   "cell_type": "code",
   "execution_count": 38,
   "metadata": {
    "colab": {
     "base_uri": "https://localhost:8080/"
    },
    "id": "N7J7Qg64HsmR",
    "outputId": "4e4fdfbd-b4e8-4e55-a062-d9604ffa9bae"
   },
   "outputs": [
    {
     "data": {
      "text/plain": [
       "4893"
      ]
     },
     "execution_count": 38,
     "metadata": {},
     "output_type": "execute_result"
    }
   ],
   "source": [
    "# ищем дубликаты в основной таблице\n",
    "\n",
    "df.duplicated().sum()"
   ]
  },
  {
   "cell_type": "code",
   "execution_count": 39,
   "metadata": {
    "colab": {
     "base_uri": "https://localhost:8080/",
     "height": 424
    },
    "id": "XGHJXc1PPb_C",
    "outputId": "2dec85a6-6cdd-46cd-bfb0-79e51143856f"
   },
   "outputs": [
    {
     "data": {
      "text/html": [
       "<div>\n",
       "<style scoped>\n",
       "    .dataframe tbody tr th:only-of-type {\n",
       "        vertical-align: middle;\n",
       "    }\n",
       "\n",
       "    .dataframe tbody tr th {\n",
       "        vertical-align: top;\n",
       "    }\n",
       "\n",
       "    .dataframe thead th {\n",
       "        text-align: right;\n",
       "    }\n",
       "</style>\n",
       "<table border=\"1\" class=\"dataframe\">\n",
       "  <thead>\n",
       "    <tr style=\"text-align: right;\">\n",
       "      <th></th>\n",
       "      <th>user_id</th>\n",
       "      <th>date</th>\n",
       "      <th>direction</th>\n",
       "      <th>internal</th>\n",
       "      <th>operator_id</th>\n",
       "      <th>is_missed_call</th>\n",
       "      <th>calls_count</th>\n",
       "      <th>call_duration</th>\n",
       "      <th>total_call_duration</th>\n",
       "    </tr>\n",
       "  </thead>\n",
       "  <tbody>\n",
       "    <tr>\n",
       "      <th>6</th>\n",
       "      <td>166377</td>\n",
       "      <td>2019-08-05</td>\n",
       "      <td>out</td>\n",
       "      <td>False</td>\n",
       "      <td>880020</td>\n",
       "      <td>True</td>\n",
       "      <td>8</td>\n",
       "      <td>0</td>\n",
       "      <td>50</td>\n",
       "    </tr>\n",
       "    <tr>\n",
       "      <th>8</th>\n",
       "      <td>166377</td>\n",
       "      <td>2019-08-05</td>\n",
       "      <td>out</td>\n",
       "      <td>False</td>\n",
       "      <td>880020</td>\n",
       "      <td>True</td>\n",
       "      <td>8</td>\n",
       "      <td>0</td>\n",
       "      <td>50</td>\n",
       "    </tr>\n",
       "    <tr>\n",
       "      <th>27</th>\n",
       "      <td>166377</td>\n",
       "      <td>2019-08-12</td>\n",
       "      <td>in</td>\n",
       "      <td>False</td>\n",
       "      <td>-1000</td>\n",
       "      <td>True</td>\n",
       "      <td>2</td>\n",
       "      <td>0</td>\n",
       "      <td>34</td>\n",
       "    </tr>\n",
       "    <tr>\n",
       "      <th>28</th>\n",
       "      <td>166377</td>\n",
       "      <td>2019-08-12</td>\n",
       "      <td>in</td>\n",
       "      <td>False</td>\n",
       "      <td>-1000</td>\n",
       "      <td>True</td>\n",
       "      <td>2</td>\n",
       "      <td>0</td>\n",
       "      <td>34</td>\n",
       "    </tr>\n",
       "    <tr>\n",
       "      <th>38</th>\n",
       "      <td>166377</td>\n",
       "      <td>2019-08-14</td>\n",
       "      <td>in</td>\n",
       "      <td>False</td>\n",
       "      <td>-1000</td>\n",
       "      <td>True</td>\n",
       "      <td>1</td>\n",
       "      <td>0</td>\n",
       "      <td>3</td>\n",
       "    </tr>\n",
       "    <tr>\n",
       "      <th>...</th>\n",
       "      <td>...</td>\n",
       "      <td>...</td>\n",
       "      <td>...</td>\n",
       "      <td>...</td>\n",
       "      <td>...</td>\n",
       "      <td>...</td>\n",
       "      <td>...</td>\n",
       "      <td>...</td>\n",
       "      <td>...</td>\n",
       "    </tr>\n",
       "    <tr>\n",
       "      <th>53875</th>\n",
       "      <td>168601</td>\n",
       "      <td>2019-11-26</td>\n",
       "      <td>in</td>\n",
       "      <td>False</td>\n",
       "      <td>-1000</td>\n",
       "      <td>True</td>\n",
       "      <td>3</td>\n",
       "      <td>0</td>\n",
       "      <td>35</td>\n",
       "    </tr>\n",
       "    <tr>\n",
       "      <th>53883</th>\n",
       "      <td>168603</td>\n",
       "      <td>2019-11-20</td>\n",
       "      <td>out</td>\n",
       "      <td>False</td>\n",
       "      <td>959118</td>\n",
       "      <td>True</td>\n",
       "      <td>3</td>\n",
       "      <td>0</td>\n",
       "      <td>89</td>\n",
       "    </tr>\n",
       "    <tr>\n",
       "      <th>53885</th>\n",
       "      <td>168603</td>\n",
       "      <td>2019-11-20</td>\n",
       "      <td>out</td>\n",
       "      <td>False</td>\n",
       "      <td>959118</td>\n",
       "      <td>True</td>\n",
       "      <td>3</td>\n",
       "      <td>0</td>\n",
       "      <td>89</td>\n",
       "    </tr>\n",
       "    <tr>\n",
       "      <th>53899</th>\n",
       "      <td>168606</td>\n",
       "      <td>2019-11-15</td>\n",
       "      <td>out</td>\n",
       "      <td>True</td>\n",
       "      <td>957922</td>\n",
       "      <td>False</td>\n",
       "      <td>4</td>\n",
       "      <td>3130</td>\n",
       "      <td>3190</td>\n",
       "    </tr>\n",
       "    <tr>\n",
       "      <th>53900</th>\n",
       "      <td>168606</td>\n",
       "      <td>2019-11-15</td>\n",
       "      <td>out</td>\n",
       "      <td>True</td>\n",
       "      <td>957922</td>\n",
       "      <td>False</td>\n",
       "      <td>4</td>\n",
       "      <td>3130</td>\n",
       "      <td>3190</td>\n",
       "    </tr>\n",
       "  </tbody>\n",
       "</table>\n",
       "<p>9786 rows × 9 columns</p>\n",
       "</div>"
      ],
      "text/plain": [
       "       user_id       date direction  internal  operator_id  is_missed_call  \\\n",
       "6       166377 2019-08-05       out     False       880020            True   \n",
       "8       166377 2019-08-05       out     False       880020            True   \n",
       "27      166377 2019-08-12        in     False        -1000            True   \n",
       "28      166377 2019-08-12        in     False        -1000            True   \n",
       "38      166377 2019-08-14        in     False        -1000            True   \n",
       "...        ...        ...       ...       ...          ...             ...   \n",
       "53875   168601 2019-11-26        in     False        -1000            True   \n",
       "53883   168603 2019-11-20       out     False       959118            True   \n",
       "53885   168603 2019-11-20       out     False       959118            True   \n",
       "53899   168606 2019-11-15       out      True       957922           False   \n",
       "53900   168606 2019-11-15       out      True       957922           False   \n",
       "\n",
       "       calls_count  call_duration  total_call_duration  \n",
       "6                8              0                   50  \n",
       "8                8              0                   50  \n",
       "27               2              0                   34  \n",
       "28               2              0                   34  \n",
       "38               1              0                    3  \n",
       "...            ...            ...                  ...  \n",
       "53875            3              0                   35  \n",
       "53883            3              0                   89  \n",
       "53885            3              0                   89  \n",
       "53899            4           3130                 3190  \n",
       "53900            4           3130                 3190  \n",
       "\n",
       "[9786 rows x 9 columns]"
      ]
     },
     "execution_count": 39,
     "metadata": {},
     "output_type": "execute_result"
    }
   ],
   "source": [
    "# смотрим на все дублирующиеся строчки\n",
    "\n",
    "df_duplicated = df[df.duplicated(keep=False)]\n",
    "df_duplicated"
   ]
  },
  {
   "cell_type": "code",
   "execution_count": 40,
   "metadata": {
    "colab": {
     "base_uri": "https://localhost:8080/",
     "height": 277
    },
    "id": "ZiyWTFf8LqY2",
    "outputId": "0c40c983-3772-4144-c534-2d5f76e2a052"
   },
   "outputs": [
    {
     "name": "stdout",
     "output_type": "stream",
     "text": [
      "direction\n"
     ]
    },
    {
     "data": {
      "text/plain": [
       "out    5836\n",
       "in     3950\n",
       "Name: direction, dtype: int64"
      ]
     },
     "metadata": {},
     "output_type": "display_data"
    },
    {
     "name": "stdout",
     "output_type": "stream",
     "text": [
      "\n",
      "internal\n"
     ]
    },
    {
     "data": {
      "text/plain": [
       "False    8764\n",
       "True     1022\n",
       "Name: internal, dtype: int64"
      ]
     },
     "metadata": {},
     "output_type": "display_data"
    },
    {
     "name": "stdout",
     "output_type": "stream",
     "text": [
      "\n",
      "is_missed_call\n"
     ]
    },
    {
     "data": {
      "text/plain": [
       "False    5560\n",
       "True     4226\n",
       "Name: is_missed_call, dtype: int64"
      ]
     },
     "metadata": {},
     "output_type": "display_data"
    },
    {
     "name": "stdout",
     "output_type": "stream",
     "text": [
      "\n"
     ]
    }
   ],
   "source": [
    "# посмотрим распределение категориальных переменных в таблице с дубликатами\n",
    "\n",
    "for col in df_duplicated[['direction', 'internal', 'is_missed_call']]:\n",
    "  print(str(col))\n",
    "  display(df_duplicated[col].value_counts())\n",
    "  print()"
   ]
  },
  {
   "cell_type": "markdown",
   "metadata": {
    "id": "rHjf872zN4Tw"
   },
   "source": [
    "Каких-то закономерностей не вижу, принимаю решение удалить дублирующие строки"
   ]
  },
  {
   "cell_type": "code",
   "execution_count": 41,
   "metadata": {
    "colab": {
     "base_uri": "https://localhost:8080/"
    },
    "id": "CT4DYuVoOCQE",
    "outputId": "9f4bcb00-057f-4171-a0ae-6eb9969456f5"
   },
   "outputs": [
    {
     "data": {
      "text/plain": [
       "0"
      ]
     },
     "execution_count": 41,
     "metadata": {},
     "output_type": "execute_result"
    }
   ],
   "source": [
    "df.drop_duplicates(inplace=True)\n",
    "df.duplicated().sum()"
   ]
  },
  {
   "cell_type": "code",
   "execution_count": 42,
   "metadata": {
    "colab": {
     "base_uri": "https://localhost:8080/",
     "height": 71
    },
    "id": "e4_cqNzMPNMn",
    "outputId": "533b44fb-1128-47e0-8730-72c46db58759"
   },
   "outputs": [
    {
     "data": {
      "text/plain": [
       "'Потеряли 5010 строк, что составляет 9.29% данных'"
      ]
     },
     "metadata": {},
     "output_type": "display_data"
    },
    {
     "name": "stdout",
     "output_type": "stream",
     "text": [
      "\n"
     ]
    },
    {
     "data": {
      "text/plain": [
       "'Длина готового для исследования датасета 48892 строк'"
      ]
     },
     "metadata": {},
     "output_type": "display_data"
    }
   ],
   "source": [
    "df_len = len(df)\n",
    "\n",
    "display(f'Потеряли {df_len_start - df_len} строк, что составляет \\\n",
    "{(df_len_start - df_len)/ df_len_start:.2%} данных')\n",
    "print()\n",
    "display(f'Длина готового для исследования датасета {df_len} строк')"
   ]
  },
  {
   "cell_type": "markdown",
   "metadata": {
    "id": "G1hnNB4iQU8r"
   },
   "source": [
    "### Вывод по предобработке данных\n",
    "\n",
    "Удалили 5010 строк с пропусками и дубликатами. Удаленные данные составляют 9.29% от изначального объема.\n",
    "\n",
    "Длина готового для исследования датасета 48892 строк"
   ]
  },
  {
   "cell_type": "markdown",
   "metadata": {},
   "source": [
    "<div class=\"alert alert-success\">\n",
    "    \n",
    "**Комментарий ревьюера**\n",
    "\n",
    "**#ок**\n",
    "\n",
    "Хорошо, данные верно предобработаны\n",
    "</div>"
   ]
  },
  {
   "cell_type": "markdown",
   "metadata": {
    "id": "WNChpxxvv3DQ"
   },
   "source": [
    "## EDA"
   ]
  },
  {
   "cell_type": "markdown",
   "metadata": {
    "id": "nSJqyk32UC78"
   },
   "source": [
    "Смотреть параметры мы будем в разрезе не отдельного аккаунта (`user_id`) или (`operator_id`), а в разрезе категории call-центра. \n",
    "\n",
    "План EDA следующий:\n",
    "\n",
    "1. Беглый просмотр столбцов с непрерывными переменными, удаление аномалий\n",
    "2. Добавление новых столбцов:\n",
    "  - длина ожидания\n",
    "3. Разделение датафрейма на отдельные таблицы по принципу причастности к категории call-центра\n",
    "4. Анализ внутри категорийных таблиц"
   ]
  },
  {
   "cell_type": "markdown",
   "metadata": {
    "id": "rY7wBN4dVx_E"
   },
   "source": [
    "#### Анализ аномалий"
   ]
  },
  {
   "cell_type": "code",
   "execution_count": 43,
   "metadata": {
    "colab": {
     "base_uri": "https://localhost:8080/",
     "height": 143
    },
    "id": "MZPiVqIhV2qm",
    "outputId": "ef88549a-2ac9-4a4f-b9e0-4d5b0cacaf44"
   },
   "outputs": [
    {
     "data": {
      "text/html": [
       "<div>\n",
       "<style scoped>\n",
       "    .dataframe tbody tr th:only-of-type {\n",
       "        vertical-align: middle;\n",
       "    }\n",
       "\n",
       "    .dataframe tbody tr th {\n",
       "        vertical-align: top;\n",
       "    }\n",
       "\n",
       "    .dataframe thead th {\n",
       "        text-align: right;\n",
       "    }\n",
       "</style>\n",
       "<table border=\"1\" class=\"dataframe\">\n",
       "  <thead>\n",
       "    <tr style=\"text-align: right;\">\n",
       "      <th></th>\n",
       "      <th>count</th>\n",
       "      <th>mean</th>\n",
       "      <th>std</th>\n",
       "      <th>min</th>\n",
       "      <th>25%</th>\n",
       "      <th>50%</th>\n",
       "      <th>75%</th>\n",
       "      <th>max</th>\n",
       "    </tr>\n",
       "  </thead>\n",
       "  <tbody>\n",
       "    <tr>\n",
       "      <th>calls_count</th>\n",
       "      <td>48892.0</td>\n",
       "      <td>16.495214</td>\n",
       "      <td>63.671633</td>\n",
       "      <td>1.0</td>\n",
       "      <td>1.0</td>\n",
       "      <td>4.0</td>\n",
       "      <td>12.0</td>\n",
       "      <td>4817.0</td>\n",
       "    </tr>\n",
       "    <tr>\n",
       "      <th>call_duration</th>\n",
       "      <td>48892.0</td>\n",
       "      <td>868.088788</td>\n",
       "      <td>3779.549967</td>\n",
       "      <td>0.0</td>\n",
       "      <td>0.0</td>\n",
       "      <td>37.0</td>\n",
       "      <td>573.0</td>\n",
       "      <td>144395.0</td>\n",
       "    </tr>\n",
       "    <tr>\n",
       "      <th>total_call_duration</th>\n",
       "      <td>48892.0</td>\n",
       "      <td>1158.976458</td>\n",
       "      <td>4456.180933</td>\n",
       "      <td>0.0</td>\n",
       "      <td>46.0</td>\n",
       "      <td>210.0</td>\n",
       "      <td>902.0</td>\n",
       "      <td>166155.0</td>\n",
       "    </tr>\n",
       "  </tbody>\n",
       "</table>\n",
       "</div>"
      ],
      "text/plain": [
       "                       count         mean          std  min   25%    50%  \\\n",
       "calls_count          48892.0    16.495214    63.671633  1.0   1.0    4.0   \n",
       "call_duration        48892.0   868.088788  3779.549967  0.0   0.0   37.0   \n",
       "total_call_duration  48892.0  1158.976458  4456.180933  0.0  46.0  210.0   \n",
       "\n",
       "                       75%       max  \n",
       "calls_count           12.0    4817.0  \n",
       "call_duration        573.0  144395.0  \n",
       "total_call_duration  902.0  166155.0  "
      ]
     },
     "execution_count": 43,
     "metadata": {},
     "output_type": "execute_result"
    }
   ],
   "source": [
    "# смотрим основные статистические параметры, \n",
    "# столбцы с Id исключаем\n",
    "\n",
    "df.drop(columns=['user_id','operator_id']).describe().T"
   ]
  },
  {
   "cell_type": "markdown",
   "metadata": {
    "id": "UkcdomKvWH53"
   },
   "source": [
    "Во всех столбцах с непрерывными категориями медиана значительно меньше среднего. Это говорит о \"жирном хвосте\" распределения. Построим ящики с усами для этих трех столбцов"
   ]
  },
  {
   "cell_type": "code",
   "execution_count": 44,
   "metadata": {
    "colab": {
     "base_uri": "https://localhost:8080/",
     "height": 971
    },
    "id": "Qmrguh_WWayN",
    "outputId": "054d67b5-99d0-4851-b01b-652a0f367ec4"
   },
   "outputs": [
    {
     "data": {
      "image/png": "[encoded data removed]",
      "text/plain": [
       "<Figure size 864x360 with 1 Axes>"
      ]
     },
     "metadata": {
      "needs_background": "light"
     },
     "output_type": "display_data"
    },
    {
     "data": {
      "image/png": "[encoded data removed]",
      "text/plain": [
       "<Figure size 864x360 with 1 Axes>"
      ]
     },
     "metadata": {
      "needs_background": "light"
     },
     "output_type": "display_data"
    },
    {
     "data": {
      "image/png": "[encoded data removed]",
      "text/plain": [
       "<Figure size 864x360 with 1 Axes>"
      ]
     },
     "metadata": {
      "needs_background": "light"
     },
     "output_type": "display_data"
    }
   ],
   "source": [
    "for col in df[['calls_count', 'call_duration', 'total_call_duration']]:\n",
    "  plt.figure(figsize=(12,5))\n",
    "  ax = sns.boxplot(x=df[col])\n",
    "  plt.show()"
   ]
  },
  {
   "cell_type": "markdown",
   "metadata": {
    "id": "DdO9k495ZkeZ"
   },
   "source": [
    "Видно, что аномально больших значений много во всех трех столбцах. Посмотрим на 90, 95 и 99 пецентили для этих столбцов"
   ]
  },
  {
   "cell_type": "code",
   "execution_count": 45,
   "metadata": {
    "colab": {
     "base_uri": "https://localhost:8080/",
     "height": 433
    },
    "id": "UqKdUXKXZyZ2",
    "outputId": "b0ba91d9-11e3-43ac-ff3f-3b478f4a7bf3"
   },
   "outputs": [
    {
     "name": "stdout",
     "output_type": "stream",
     "text": [
      "calls_count\n"
     ]
    },
    {
     "data": {
      "text/plain": [
       "0.90     35.00\n",
       "0.95     62.00\n",
       "0.99    165.09\n",
       "Name: calls_count, dtype: float64"
      ]
     },
     "metadata": {},
     "output_type": "display_data"
    },
    {
     "data": {
      "text/plain": [
       "max    4817\n",
       "Name: calls_count, dtype: int64"
      ]
     },
     "metadata": {},
     "output_type": "display_data"
    },
    {
     "name": "stdout",
     "output_type": "stream",
     "text": [
      "\n",
      "call_duration\n"
     ]
    },
    {
     "data": {
      "text/plain": [
       "0.90     2096.90\n",
       "0.95     3730.45\n",
       "0.99    10324.90\n",
       "Name: call_duration, dtype: float64"
      ]
     },
     "metadata": {},
     "output_type": "display_data"
    },
    {
     "data": {
      "text/plain": [
       "max    144395\n",
       "Name: call_duration, dtype: int64"
      ]
     },
     "metadata": {},
     "output_type": "display_data"
    },
    {
     "name": "stdout",
     "output_type": "stream",
     "text": [
      "\n",
      "total_call_duration\n"
     ]
    },
    {
     "data": {
      "text/plain": [
       "0.90     2614.00\n",
       "0.95     4538.35\n",
       "0.99    12969.99\n",
       "Name: total_call_duration, dtype: float64"
      ]
     },
     "metadata": {},
     "output_type": "display_data"
    },
    {
     "data": {
      "text/plain": [
       "max    166155\n",
       "Name: total_call_duration, dtype: int64"
      ]
     },
     "metadata": {},
     "output_type": "display_data"
    },
    {
     "name": "stdout",
     "output_type": "stream",
     "text": [
      "\n"
     ]
    }
   ],
   "source": [
    "for col in df[['calls_count', 'call_duration', 'total_call_duration']]:\n",
    "  print(str(col))\n",
    "  display(df[col].quantile([.9,.95,.99]))\n",
    "  display(df[col].agg(['max']))\n",
    "  print()"
   ]
  },
  {
   "cell_type": "markdown",
   "metadata": {
    "id": "AFmi_PcfbadD"
   },
   "source": [
    "По боксплотам и цифровым значениям видим, что даже 99 перцентиль меньше max значение. Чтобы слишком большие значения не искажали картину, удалим данные по 99 перцентилю. \n",
    "\n",
    "Циклом это сделать не получится, потому что при удалении по 99-му перцентилю по одному столбцу изменится 99-й перцентиль другого столбца, а значит при фильтрации мы потеряем больше данных.\n",
    "\n",
    "Поэтому придется хардкодить и брать значения 99-х квантилей руками из кода выше."
   ]
  },
  {
   "cell_type": "code",
   "execution_count": 46,
   "metadata": {},
   "outputs": [],
   "source": [
    "q_99_calls_count = df['calls_count'].quantile(.99)\n",
    "q_99_call_duration = df['call_duration'].quantile(.99)\n",
    "q_99_total_call_duration = df['total_call_duration'].quantile(.99)"
   ]
  },
  {
   "cell_type": "code",
   "execution_count": 47,
   "metadata": {
    "colab": {
     "base_uri": "https://localhost:8080/",
     "height": 71
    },
    "id": "9lofqtk5cwHb",
    "outputId": "37054804-145d-4f5b-8a91-d6c35d60c0cb"
   },
   "outputs": [
    {
     "data": {
      "text/plain": [
       "'Потеряли 5789 строк, что составляет 10.74% данных'"
      ]
     },
     "metadata": {},
     "output_type": "display_data"
    },
    {
     "name": "stdout",
     "output_type": "stream",
     "text": [
      "\n"
     ]
    },
    {
     "data": {
      "text/plain": [
       "'Длина готового для исследования датасета 48113 строк'"
      ]
     },
     "metadata": {},
     "output_type": "display_data"
    }
   ],
   "source": [
    "df = df[df['calls_count'] < q_99_calls_count]\n",
    "df = df[df['call_duration'] < q_99_call_duration]\n",
    "df = df[df['total_call_duration'] < q_99_total_call_duration]\n",
    "\n",
    "df_len = len(df)\n",
    "\n",
    "display(f'Потеряли {df_len_start - df_len} строк, что составляет \\\n",
    "{(df_len_start - df_len)/ df_len_start:.2%} данных')\n",
    "print()\n",
    "display(f'Длина готового для исследования датасета {df_len} строк')"
   ]
  },
  {
   "cell_type": "markdown",
   "metadata": {},
   "source": [
    "<div class=\"alert alert-danger\">\n",
    "    \n",
    "**Комментарий ревьюера**\n",
    "\n",
    "**#ошибка**\n",
    "\n",
    "Вводить числа вручную - это ошибка. Используй непосредственный расчет или переменные. Иначе при небольших изменениях в предобработке придется искать и менять все руками или все поплывет\n",
    "\n",
    "</div>"
   ]
  },
  {
   "cell_type": "markdown",
   "metadata": {},
   "source": [
    "<div class=\"alert alert-info\">\n",
    "\n",
    "<b>Студент: </b> Поправил.\n",
    "\n",
    "</div>"
   ]
  },
  {
   "cell_type": "markdown",
   "metadata": {},
   "source": [
    "<div class=\"alert alert-success\">\n",
    "    \n",
    "**Комментарий ревьюера - 2**\n",
    "\n",
    "**#ок**\n",
    "\n",
    "👍\n",
    "\n",
    "</div>"
   ]
  },
  {
   "cell_type": "markdown",
   "metadata": {
    "id": "MmaQ1xwLdXTN"
   },
   "source": [
    "#### Вывод по обработке аномалий\n",
    "\n",
    "Очистили данные от слишком больших значений, удалив выбросы больше 99-го квантиля по трем столбцам с непрерывными данными `['calls_count', 'call_duration', 'total_call_duration']`.\n",
    "\n",
    "Данные теперь чище и меньше искажены слишком большими значениями."
   ]
  },
  {
   "cell_type": "markdown",
   "metadata": {
    "id": "X4_yCIwxdxKA"
   },
   "source": [
    "#### Добавление столбца со временем ожидания"
   ]
  },
  {
   "cell_type": "code",
   "execution_count": 48,
   "metadata": {
    "colab": {
     "base_uri": "https://localhost:8080/",
     "height": 206
    },
    "id": "z2JVOxcRd1cl",
    "outputId": "59695619-11d0-43d9-f305-2045f409882f"
   },
   "outputs": [
    {
     "data": {
      "text/html": [
       "<div>\n",
       "<style scoped>\n",
       "    .dataframe tbody tr th:only-of-type {\n",
       "        vertical-align: middle;\n",
       "    }\n",
       "\n",
       "    .dataframe tbody tr th {\n",
       "        vertical-align: top;\n",
       "    }\n",
       "\n",
       "    .dataframe thead th {\n",
       "        text-align: right;\n",
       "    }\n",
       "</style>\n",
       "<table border=\"1\" class=\"dataframe\">\n",
       "  <thead>\n",
       "    <tr style=\"text-align: right;\">\n",
       "      <th></th>\n",
       "      <th>user_id</th>\n",
       "      <th>date</th>\n",
       "      <th>direction</th>\n",
       "      <th>internal</th>\n",
       "      <th>operator_id</th>\n",
       "      <th>is_missed_call</th>\n",
       "      <th>calls_count</th>\n",
       "      <th>call_duration</th>\n",
       "      <th>total_call_duration</th>\n",
       "      <th>wait_time</th>\n",
       "    </tr>\n",
       "  </thead>\n",
       "  <tbody>\n",
       "    <tr>\n",
       "      <th>0</th>\n",
       "      <td>166377</td>\n",
       "      <td>2019-08-04</td>\n",
       "      <td>in</td>\n",
       "      <td>False</td>\n",
       "      <td>-1000</td>\n",
       "      <td>True</td>\n",
       "      <td>2</td>\n",
       "      <td>0</td>\n",
       "      <td>4</td>\n",
       "      <td>4</td>\n",
       "    </tr>\n",
       "    <tr>\n",
       "      <th>1</th>\n",
       "      <td>166377</td>\n",
       "      <td>2019-08-05</td>\n",
       "      <td>out</td>\n",
       "      <td>True</td>\n",
       "      <td>880022</td>\n",
       "      <td>True</td>\n",
       "      <td>3</td>\n",
       "      <td>0</td>\n",
       "      <td>5</td>\n",
       "      <td>5</td>\n",
       "    </tr>\n",
       "    <tr>\n",
       "      <th>2</th>\n",
       "      <td>166377</td>\n",
       "      <td>2019-08-05</td>\n",
       "      <td>out</td>\n",
       "      <td>True</td>\n",
       "      <td>880020</td>\n",
       "      <td>True</td>\n",
       "      <td>1</td>\n",
       "      <td>0</td>\n",
       "      <td>1</td>\n",
       "      <td>1</td>\n",
       "    </tr>\n",
       "    <tr>\n",
       "      <th>3</th>\n",
       "      <td>166377</td>\n",
       "      <td>2019-08-05</td>\n",
       "      <td>out</td>\n",
       "      <td>True</td>\n",
       "      <td>880020</td>\n",
       "      <td>False</td>\n",
       "      <td>1</td>\n",
       "      <td>10</td>\n",
       "      <td>18</td>\n",
       "      <td>8</td>\n",
       "    </tr>\n",
       "    <tr>\n",
       "      <th>4</th>\n",
       "      <td>166377</td>\n",
       "      <td>2019-08-05</td>\n",
       "      <td>out</td>\n",
       "      <td>False</td>\n",
       "      <td>880022</td>\n",
       "      <td>True</td>\n",
       "      <td>3</td>\n",
       "      <td>0</td>\n",
       "      <td>25</td>\n",
       "      <td>25</td>\n",
       "    </tr>\n",
       "  </tbody>\n",
       "</table>\n",
       "</div>"
      ],
      "text/plain": [
       "   user_id       date direction  internal  operator_id  is_missed_call  \\\n",
       "0   166377 2019-08-04        in     False        -1000            True   \n",
       "1   166377 2019-08-05       out      True       880022            True   \n",
       "2   166377 2019-08-05       out      True       880020            True   \n",
       "3   166377 2019-08-05       out      True       880020           False   \n",
       "4   166377 2019-08-05       out     False       880022            True   \n",
       "\n",
       "   calls_count  call_duration  total_call_duration  wait_time  \n",
       "0            2              0                    4          4  \n",
       "1            3              0                    5          5  \n",
       "2            1              0                    1          1  \n",
       "3            1             10                   18          8  \n",
       "4            3              0                   25         25  "
      ]
     },
     "execution_count": 48,
     "metadata": {},
     "output_type": "execute_result"
    }
   ],
   "source": [
    "# добавим столбец wait_time, просто посчитав разницу total_call_duration и call_duration\n",
    "\n",
    "df['wait_time'] = df['total_call_duration'] - df['call_duration']\n",
    "df.head()"
   ]
  },
  {
   "cell_type": "markdown",
   "metadata": {},
   "source": [
    "<div class=\"alert alert-warning\">\n",
    "    \n",
    "**Комментарий ревьюера**\n",
    "\n",
    "**#можно лучше**\n",
    "\n",
    "Кажется нам было бы интересно время ожидания одного звонка, а не сумма за день\n",
    "</div>"
   ]
  },
  {
   "cell_type": "markdown",
   "metadata": {},
   "source": [
    "<div class=\"alert alert-info\">\n",
    "\n",
    "<b>Студент: </b> Добавил далее в проекте!\n",
    "\n",
    "</div>"
   ]
  },
  {
   "cell_type": "markdown",
   "metadata": {
    "id": "ImwzLBQIzfVw"
   },
   "source": [
    "#### Категоризация call-центров на обзванивающие и принимающие"
   ]
  },
  {
   "cell_type": "code",
   "execution_count": 49,
   "metadata": {
    "id": "gEosW2F2n2Lb"
   },
   "outputs": [],
   "source": [
    "# разобьем категориальный столбец direction на два бинарных direction_in и direction_out\n",
    "\n",
    "df = pd.get_dummies(df, columns=['direction'])"
   ]
  },
  {
   "cell_type": "code",
   "execution_count": 50,
   "metadata": {
    "colab": {
     "base_uri": "https://localhost:8080/",
     "height": 206
    },
    "id": "JhEwgNiToPJZ",
    "outputId": "784a99e2-8a21-4690-c766-7d89ecc2997b"
   },
   "outputs": [
    {
     "data": {
      "text/html": [
       "<div>\n",
       "<style scoped>\n",
       "    .dataframe tbody tr th:only-of-type {\n",
       "        vertical-align: middle;\n",
       "    }\n",
       "\n",
       "    .dataframe tbody tr th {\n",
       "        vertical-align: top;\n",
       "    }\n",
       "\n",
       "    .dataframe thead th {\n",
       "        text-align: right;\n",
       "    }\n",
       "</style>\n",
       "<table border=\"1\" class=\"dataframe\">\n",
       "  <thead>\n",
       "    <tr style=\"text-align: right;\">\n",
       "      <th></th>\n",
       "      <th>user_id</th>\n",
       "      <th>date</th>\n",
       "      <th>internal</th>\n",
       "      <th>operator_id</th>\n",
       "      <th>is_missed_call</th>\n",
       "      <th>calls_count</th>\n",
       "      <th>call_duration</th>\n",
       "      <th>total_call_duration</th>\n",
       "      <th>wait_time</th>\n",
       "      <th>direction_in</th>\n",
       "      <th>direction_out</th>\n",
       "    </tr>\n",
       "  </thead>\n",
       "  <tbody>\n",
       "    <tr>\n",
       "      <th>0</th>\n",
       "      <td>166377</td>\n",
       "      <td>2019-08-04</td>\n",
       "      <td>False</td>\n",
       "      <td>-1000</td>\n",
       "      <td>True</td>\n",
       "      <td>2</td>\n",
       "      <td>0</td>\n",
       "      <td>4</td>\n",
       "      <td>4</td>\n",
       "      <td>1</td>\n",
       "      <td>0</td>\n",
       "    </tr>\n",
       "    <tr>\n",
       "      <th>1</th>\n",
       "      <td>166377</td>\n",
       "      <td>2019-08-05</td>\n",
       "      <td>True</td>\n",
       "      <td>880022</td>\n",
       "      <td>True</td>\n",
       "      <td>3</td>\n",
       "      <td>0</td>\n",
       "      <td>5</td>\n",
       "      <td>5</td>\n",
       "      <td>0</td>\n",
       "      <td>1</td>\n",
       "    </tr>\n",
       "    <tr>\n",
       "      <th>2</th>\n",
       "      <td>166377</td>\n",
       "      <td>2019-08-05</td>\n",
       "      <td>True</td>\n",
       "      <td>880020</td>\n",
       "      <td>True</td>\n",
       "      <td>1</td>\n",
       "      <td>0</td>\n",
       "      <td>1</td>\n",
       "      <td>1</td>\n",
       "      <td>0</td>\n",
       "      <td>1</td>\n",
       "    </tr>\n",
       "    <tr>\n",
       "      <th>3</th>\n",
       "      <td>166377</td>\n",
       "      <td>2019-08-05</td>\n",
       "      <td>True</td>\n",
       "      <td>880020</td>\n",
       "      <td>False</td>\n",
       "      <td>1</td>\n",
       "      <td>10</td>\n",
       "      <td>18</td>\n",
       "      <td>8</td>\n",
       "      <td>0</td>\n",
       "      <td>1</td>\n",
       "    </tr>\n",
       "    <tr>\n",
       "      <th>4</th>\n",
       "      <td>166377</td>\n",
       "      <td>2019-08-05</td>\n",
       "      <td>False</td>\n",
       "      <td>880022</td>\n",
       "      <td>True</td>\n",
       "      <td>3</td>\n",
       "      <td>0</td>\n",
       "      <td>25</td>\n",
       "      <td>25</td>\n",
       "      <td>0</td>\n",
       "      <td>1</td>\n",
       "    </tr>\n",
       "  </tbody>\n",
       "</table>\n",
       "</div>"
      ],
      "text/plain": [
       "   user_id       date  internal  operator_id  is_missed_call  calls_count  \\\n",
       "0   166377 2019-08-04     False        -1000            True            2   \n",
       "1   166377 2019-08-05      True       880022            True            3   \n",
       "2   166377 2019-08-05      True       880020            True            1   \n",
       "3   166377 2019-08-05      True       880020           False            1   \n",
       "4   166377 2019-08-05     False       880022            True            3   \n",
       "\n",
       "   call_duration  total_call_duration  wait_time  direction_in  direction_out  \n",
       "0              0                    4          4             1              0  \n",
       "1              0                    5          5             0              1  \n",
       "2              0                    1          1             0              1  \n",
       "3             10                   18          8             0              1  \n",
       "4              0                   25         25             0              1  "
      ]
     },
     "execution_count": 50,
     "metadata": {},
     "output_type": "execute_result"
    }
   ],
   "source": [
    "# смотрим на таблицу с новыми столбцами\n",
    "\n",
    "df.head()"
   ]
  },
  {
   "cell_type": "code",
   "execution_count": 51,
   "metadata": {
    "colab": {
     "base_uri": "https://localhost:8080/",
     "height": 206
    },
    "id": "B8w5ZcIScWuz",
    "outputId": "a19262a6-643e-41ea-d5d3-12f2c70c4b79"
   },
   "outputs": [
    {
     "data": {
      "text/html": [
       "<div>\n",
       "<style scoped>\n",
       "    .dataframe tbody tr th:only-of-type {\n",
       "        vertical-align: middle;\n",
       "    }\n",
       "\n",
       "    .dataframe tbody tr th {\n",
       "        vertical-align: top;\n",
       "    }\n",
       "\n",
       "    .dataframe thead th {\n",
       "        text-align: right;\n",
       "    }\n",
       "</style>\n",
       "<table border=\"1\" class=\"dataframe\">\n",
       "  <thead>\n",
       "    <tr style=\"text-align: right;\">\n",
       "      <th></th>\n",
       "      <th>user_id</th>\n",
       "      <th>date</th>\n",
       "      <th>internal</th>\n",
       "      <th>operator_id</th>\n",
       "      <th>is_missed_call</th>\n",
       "      <th>calls_count</th>\n",
       "      <th>call_duration</th>\n",
       "      <th>total_call_duration</th>\n",
       "      <th>wait_time</th>\n",
       "      <th>direction_in</th>\n",
       "      <th>direction_out</th>\n",
       "    </tr>\n",
       "  </thead>\n",
       "  <tbody>\n",
       "    <tr>\n",
       "      <th>0</th>\n",
       "      <td>166377</td>\n",
       "      <td>2019-08-04</td>\n",
       "      <td>False</td>\n",
       "      <td>-1000</td>\n",
       "      <td>True</td>\n",
       "      <td>2</td>\n",
       "      <td>0</td>\n",
       "      <td>4</td>\n",
       "      <td>4</td>\n",
       "      <td>2</td>\n",
       "      <td>0</td>\n",
       "    </tr>\n",
       "    <tr>\n",
       "      <th>1</th>\n",
       "      <td>166377</td>\n",
       "      <td>2019-08-05</td>\n",
       "      <td>True</td>\n",
       "      <td>880022</td>\n",
       "      <td>True</td>\n",
       "      <td>3</td>\n",
       "      <td>0</td>\n",
       "      <td>5</td>\n",
       "      <td>5</td>\n",
       "      <td>0</td>\n",
       "      <td>3</td>\n",
       "    </tr>\n",
       "    <tr>\n",
       "      <th>2</th>\n",
       "      <td>166377</td>\n",
       "      <td>2019-08-05</td>\n",
       "      <td>True</td>\n",
       "      <td>880020</td>\n",
       "      <td>True</td>\n",
       "      <td>1</td>\n",
       "      <td>0</td>\n",
       "      <td>1</td>\n",
       "      <td>1</td>\n",
       "      <td>0</td>\n",
       "      <td>1</td>\n",
       "    </tr>\n",
       "    <tr>\n",
       "      <th>3</th>\n",
       "      <td>166377</td>\n",
       "      <td>2019-08-05</td>\n",
       "      <td>True</td>\n",
       "      <td>880020</td>\n",
       "      <td>False</td>\n",
       "      <td>1</td>\n",
       "      <td>10</td>\n",
       "      <td>18</td>\n",
       "      <td>8</td>\n",
       "      <td>0</td>\n",
       "      <td>1</td>\n",
       "    </tr>\n",
       "    <tr>\n",
       "      <th>4</th>\n",
       "      <td>166377</td>\n",
       "      <td>2019-08-05</td>\n",
       "      <td>False</td>\n",
       "      <td>880022</td>\n",
       "      <td>True</td>\n",
       "      <td>3</td>\n",
       "      <td>0</td>\n",
       "      <td>25</td>\n",
       "      <td>25</td>\n",
       "      <td>0</td>\n",
       "      <td>3</td>\n",
       "    </tr>\n",
       "  </tbody>\n",
       "</table>\n",
       "</div>"
      ],
      "text/plain": [
       "   user_id       date  internal  operator_id  is_missed_call  calls_count  \\\n",
       "0   166377 2019-08-04     False        -1000            True            2   \n",
       "1   166377 2019-08-05      True       880022            True            3   \n",
       "2   166377 2019-08-05      True       880020            True            1   \n",
       "3   166377 2019-08-05      True       880020           False            1   \n",
       "4   166377 2019-08-05     False       880022            True            3   \n",
       "\n",
       "   call_duration  total_call_duration  wait_time  direction_in  direction_out  \n",
       "0              0                    4          4             2              0  \n",
       "1              0                    5          5             0              3  \n",
       "2              0                    1          1             0              1  \n",
       "3             10                   18          8             0              1  \n",
       "4              0                   25         25             0              3  "
      ]
     },
     "execution_count": 51,
     "metadata": {},
     "output_type": "execute_result"
    }
   ],
   "source": [
    "# в каждой записи несколько звонков, это количество указано в calls_count\n",
    "# поэтому умножаем значения в direction_in и direction_out на calls_count\n",
    "\n",
    "df['direction_in'] = df['direction_in'] * df['calls_count']\n",
    "df['direction_out'] = df['direction_out'] * df['calls_count']\n",
    "\n",
    "# смотрим на обновленные данные\n",
    "\n",
    "df.head()"
   ]
  },
  {
   "cell_type": "code",
   "execution_count": 52,
   "metadata": {
    "colab": {
     "base_uri": "https://localhost:8080/",
     "height": 237
    },
    "id": "LTVnEXbEorsA",
    "outputId": "cbf2a658-097d-4b31-9bb2-05878797de2f"
   },
   "outputs": [
    {
     "data": {
      "text/html": [
       "<div>\n",
       "<style scoped>\n",
       "    .dataframe tbody tr th:only-of-type {\n",
       "        vertical-align: middle;\n",
       "    }\n",
       "\n",
       "    .dataframe tbody tr th {\n",
       "        vertical-align: top;\n",
       "    }\n",
       "\n",
       "    .dataframe thead th {\n",
       "        text-align: right;\n",
       "    }\n",
       "</style>\n",
       "<table border=\"1\" class=\"dataframe\">\n",
       "  <thead>\n",
       "    <tr style=\"text-align: right;\">\n",
       "      <th></th>\n",
       "      <th>direction_in</th>\n",
       "      <th>direction_out</th>\n",
       "    </tr>\n",
       "    <tr>\n",
       "      <th>user_id</th>\n",
       "      <th></th>\n",
       "      <th></th>\n",
       "    </tr>\n",
       "  </thead>\n",
       "  <tbody>\n",
       "    <tr>\n",
       "      <th>166377</th>\n",
       "      <td>196</td>\n",
       "      <td>4953</td>\n",
       "    </tr>\n",
       "    <tr>\n",
       "      <th>166391</th>\n",
       "      <td>26</td>\n",
       "      <td>1</td>\n",
       "    </tr>\n",
       "    <tr>\n",
       "      <th>166392</th>\n",
       "      <td>209</td>\n",
       "      <td>0</td>\n",
       "    </tr>\n",
       "    <tr>\n",
       "      <th>166399</th>\n",
       "      <td>24</td>\n",
       "      <td>0</td>\n",
       "    </tr>\n",
       "    <tr>\n",
       "      <th>166405</th>\n",
       "      <td>5284</td>\n",
       "      <td>9564</td>\n",
       "    </tr>\n",
       "  </tbody>\n",
       "</table>\n",
       "</div>"
      ],
      "text/plain": [
       "         direction_in  direction_out\n",
       "user_id                             \n",
       "166377            196           4953\n",
       "166391             26              1\n",
       "166392            209              0\n",
       "166399             24              0\n",
       "166405           5284           9564"
      ]
     },
     "execution_count": 52,
     "metadata": {},
     "output_type": "execute_result"
    }
   ],
   "source": [
    "# группируем данные по КЦ (user_id) и считаем сумму в каждом новом столбце\n",
    "\n",
    "t = df.groupby('user_id')[['direction_in', 'direction_out']].sum()\n",
    "t.head()"
   ]
  },
  {
   "cell_type": "markdown",
   "metadata": {
    "id": "YBirUVon03vJ"
   },
   "source": [
    "Разделим КЦ на три категории:\n",
    "- совершающие в основном исходящие вызовы, далее для удобства назовем такие центры просто \"исходящие\"\n",
    "- в основном принимающие вызовы, назовем такие центры \"входящие\"\n",
    "- центры промежуточного типа, где пропорция исходящие/входящие колеблется в дипазоне 0.85 - 1.15 (по 15% в каждую сторону)\n",
    "\n",
    "Напишем функцию, которая принмает на вход два столбца direction_in и direction_out, а отдает одну из категорий колл-центра."
   ]
  },
  {
   "cell_type": "code",
   "execution_count": 53,
   "metadata": {
    "id": "_6QQjnvfpxQq"
   },
   "outputs": [],
   "source": [
    "def direction_class(row):\n",
    "  if row['direction_in'] == 0:\n",
    "    return 'out'\n",
    "  elif row['direction_out'] == 0:\n",
    "    return 'in'\n",
    "  elif 0.85 <= (row['direction_in'] / row['direction_out']) <= 1.15:\n",
    "    return 'mid'\n",
    "  elif 0.85 <= (row['direction_out'] / row['direction_in']) <= 1.15:\n",
    "    return 'mid'\n",
    "  elif row['direction_in'] > row['direction_out']:\n",
    "    return 'in'\n",
    "  else:\n",
    "    return 'out'"
   ]
  },
  {
   "cell_type": "code",
   "execution_count": 54,
   "metadata": {
    "id": "YbPg3fnyrCPd"
   },
   "outputs": [],
   "source": [
    "# применяем новую функцию к таблице\n",
    "\n",
    "t['user_type'] = t.apply(direction_class, axis=1)\n",
    "t.reset_index(inplace=True)"
   ]
  },
  {
   "cell_type": "code",
   "execution_count": 55,
   "metadata": {
    "colab": {
     "base_uri": "https://localhost:8080/",
     "height": 206
    },
    "id": "wBAuFe1AnYTf",
    "outputId": "55d8f031-9ff7-4df1-9cfc-332947cb27d5"
   },
   "outputs": [
    {
     "data": {
      "text/html": [
       "<div>\n",
       "<style scoped>\n",
       "    .dataframe tbody tr th:only-of-type {\n",
       "        vertical-align: middle;\n",
       "    }\n",
       "\n",
       "    .dataframe tbody tr th {\n",
       "        vertical-align: top;\n",
       "    }\n",
       "\n",
       "    .dataframe thead th {\n",
       "        text-align: right;\n",
       "    }\n",
       "</style>\n",
       "<table border=\"1\" class=\"dataframe\">\n",
       "  <thead>\n",
       "    <tr style=\"text-align: right;\">\n",
       "      <th></th>\n",
       "      <th>user_id</th>\n",
       "      <th>direction_in</th>\n",
       "      <th>direction_out</th>\n",
       "      <th>user_type</th>\n",
       "    </tr>\n",
       "  </thead>\n",
       "  <tbody>\n",
       "    <tr>\n",
       "      <th>0</th>\n",
       "      <td>166377</td>\n",
       "      <td>196</td>\n",
       "      <td>4953</td>\n",
       "      <td>out</td>\n",
       "    </tr>\n",
       "    <tr>\n",
       "      <th>1</th>\n",
       "      <td>166391</td>\n",
       "      <td>26</td>\n",
       "      <td>1</td>\n",
       "      <td>in</td>\n",
       "    </tr>\n",
       "    <tr>\n",
       "      <th>2</th>\n",
       "      <td>166392</td>\n",
       "      <td>209</td>\n",
       "      <td>0</td>\n",
       "      <td>in</td>\n",
       "    </tr>\n",
       "    <tr>\n",
       "      <th>3</th>\n",
       "      <td>166399</td>\n",
       "      <td>24</td>\n",
       "      <td>0</td>\n",
       "      <td>in</td>\n",
       "    </tr>\n",
       "    <tr>\n",
       "      <th>4</th>\n",
       "      <td>166405</td>\n",
       "      <td>5284</td>\n",
       "      <td>9564</td>\n",
       "      <td>out</td>\n",
       "    </tr>\n",
       "  </tbody>\n",
       "</table>\n",
       "</div>"
      ],
      "text/plain": [
       "   user_id  direction_in  direction_out user_type\n",
       "0   166377           196           4953       out\n",
       "1   166391            26              1        in\n",
       "2   166392           209              0        in\n",
       "3   166399            24              0        in\n",
       "4   166405          5284           9564       out"
      ]
     },
     "execution_count": 55,
     "metadata": {},
     "output_type": "execute_result"
    }
   ],
   "source": [
    "# выводим таблицу с новым столбцом\n",
    "\n",
    "t.head()"
   ]
  },
  {
   "cell_type": "code",
   "execution_count": 56,
   "metadata": {
    "colab": {
     "base_uri": "https://localhost:8080/",
     "height": 363
    },
    "id": "TiNIVKvvrQit",
    "outputId": "3ee22c41-8591-4434-cee9-3e7738dfbcef"
   },
   "outputs": [
    {
     "data": {
      "text/html": [
       "<div>\n",
       "<style scoped>\n",
       "    .dataframe tbody tr th:only-of-type {\n",
       "        vertical-align: middle;\n",
       "    }\n",
       "\n",
       "    .dataframe tbody tr th {\n",
       "        vertical-align: top;\n",
       "    }\n",
       "\n",
       "    .dataframe thead th {\n",
       "        text-align: right;\n",
       "    }\n",
       "</style>\n",
       "<table border=\"1\" class=\"dataframe\">\n",
       "  <thead>\n",
       "    <tr style=\"text-align: right;\">\n",
       "      <th></th>\n",
       "      <th>user_id</th>\n",
       "      <th>direction_in</th>\n",
       "      <th>direction_out</th>\n",
       "      <th>user_type</th>\n",
       "    </tr>\n",
       "  </thead>\n",
       "  <tbody>\n",
       "    <tr>\n",
       "      <th>22</th>\n",
       "      <td>166582</td>\n",
       "      <td>7471</td>\n",
       "      <td>6462</td>\n",
       "      <td>mid</td>\n",
       "    </tr>\n",
       "    <tr>\n",
       "      <th>50</th>\n",
       "      <td>166774</td>\n",
       "      <td>58</td>\n",
       "      <td>54</td>\n",
       "      <td>mid</td>\n",
       "    </tr>\n",
       "    <tr>\n",
       "      <th>129</th>\n",
       "      <td>167235</td>\n",
       "      <td>900</td>\n",
       "      <td>963</td>\n",
       "      <td>mid</td>\n",
       "    </tr>\n",
       "    <tr>\n",
       "      <th>155</th>\n",
       "      <td>167466</td>\n",
       "      <td>2174</td>\n",
       "      <td>2149</td>\n",
       "      <td>mid</td>\n",
       "    </tr>\n",
       "    <tr>\n",
       "      <th>184</th>\n",
       "      <td>167654</td>\n",
       "      <td>2800</td>\n",
       "      <td>2656</td>\n",
       "      <td>mid</td>\n",
       "    </tr>\n",
       "    <tr>\n",
       "      <th>199</th>\n",
       "      <td>167799</td>\n",
       "      <td>1044</td>\n",
       "      <td>1183</td>\n",
       "      <td>mid</td>\n",
       "    </tr>\n",
       "    <tr>\n",
       "      <th>200</th>\n",
       "      <td>167805</td>\n",
       "      <td>16</td>\n",
       "      <td>16</td>\n",
       "      <td>mid</td>\n",
       "    </tr>\n",
       "    <tr>\n",
       "      <th>204</th>\n",
       "      <td>167828</td>\n",
       "      <td>1061</td>\n",
       "      <td>1171</td>\n",
       "      <td>mid</td>\n",
       "    </tr>\n",
       "    <tr>\n",
       "      <th>269</th>\n",
       "      <td>168225</td>\n",
       "      <td>27</td>\n",
       "      <td>29</td>\n",
       "      <td>mid</td>\n",
       "    </tr>\n",
       "    <tr>\n",
       "      <th>274</th>\n",
       "      <td>168271</td>\n",
       "      <td>1353</td>\n",
       "      <td>1233</td>\n",
       "      <td>mid</td>\n",
       "    </tr>\n",
       "  </tbody>\n",
       "</table>\n",
       "</div>"
      ],
      "text/plain": [
       "     user_id  direction_in  direction_out user_type\n",
       "22    166582          7471           6462       mid\n",
       "50    166774            58             54       mid\n",
       "129   167235           900            963       mid\n",
       "155   167466          2174           2149       mid\n",
       "184   167654          2800           2656       mid\n",
       "199   167799          1044           1183       mid\n",
       "200   167805            16             16       mid\n",
       "204   167828          1061           1171       mid\n",
       "269   168225            27             29       mid\n",
       "274   168271          1353           1233       mid"
      ]
     },
     "execution_count": 56,
     "metadata": {},
     "output_type": "execute_result"
    }
   ],
   "source": [
    "# выведем строки с промежуточными колл-центрами\n",
    "\n",
    "t.query('user_type == \"mid\"').head(10)"
   ]
  },
  {
   "cell_type": "markdown",
   "metadata": {
    "id": "NG4koDJ1DCYH"
   },
   "source": [
    "Очень похоже на правду, количество исходящих и входящих не сильно отличается"
   ]
  },
  {
   "cell_type": "code",
   "execution_count": 57,
   "metadata": {
    "colab": {
     "base_uri": "https://localhost:8080/"
    },
    "id": "R_P4Qab5r9Nk",
    "outputId": "6b6eacb0-5a94-4886-c0e0-5c1048f13eac"
   },
   "outputs": [
    {
     "data": {
      "text/plain": [
       "in     167\n",
       "out    129\n",
       "mid     11\n",
       "Name: user_type, dtype: int64"
      ]
     },
     "execution_count": 57,
     "metadata": {},
     "output_type": "execute_result"
    }
   ],
   "source": [
    "# посмотрим на распределение входящих, исходящих\n",
    "# и промежуточных колл-центров\n",
    "\n",
    "t['user_type'].value_counts()"
   ]
  },
  {
   "cell_type": "markdown",
   "metadata": {},
   "source": [
    "<div class=\"alert alert-success\">\n",
    "    \n",
    "**Комментарий ревьюера**\n",
    "\n",
    "**#ок**\n",
    "\n",
    "Разделение верно проведено\n",
    "\n",
    "</div>"
   ]
  },
  {
   "cell_type": "markdown",
   "metadata": {
    "id": "nn4Lls98nJxf"
   },
   "source": [
    "У нас есть таблица, в которой у каждого `user_id` есть своя категория. Присоединяем таблицу t к основной таблице df"
   ]
  },
  {
   "cell_type": "code",
   "execution_count": 58,
   "metadata": {
    "colab": {
     "base_uri": "https://localhost:8080/",
     "height": 206
    },
    "id": "_kj6EgqEN5QJ",
    "outputId": "99e78082-f2c5-44cf-88d1-2813306bd08a"
   },
   "outputs": [
    {
     "data": {
      "text/html": [
       "<div>\n",
       "<style scoped>\n",
       "    .dataframe tbody tr th:only-of-type {\n",
       "        vertical-align: middle;\n",
       "    }\n",
       "\n",
       "    .dataframe tbody tr th {\n",
       "        vertical-align: top;\n",
       "    }\n",
       "\n",
       "    .dataframe thead th {\n",
       "        text-align: right;\n",
       "    }\n",
       "</style>\n",
       "<table border=\"1\" class=\"dataframe\">\n",
       "  <thead>\n",
       "    <tr style=\"text-align: right;\">\n",
       "      <th></th>\n",
       "      <th>user_id</th>\n",
       "      <th>date</th>\n",
       "      <th>internal</th>\n",
       "      <th>operator_id</th>\n",
       "      <th>is_missed_call</th>\n",
       "      <th>calls_count</th>\n",
       "      <th>call_duration</th>\n",
       "      <th>total_call_duration</th>\n",
       "      <th>wait_time</th>\n",
       "      <th>direction_in</th>\n",
       "      <th>direction_out</th>\n",
       "      <th>user_type</th>\n",
       "    </tr>\n",
       "  </thead>\n",
       "  <tbody>\n",
       "    <tr>\n",
       "      <th>0</th>\n",
       "      <td>166377</td>\n",
       "      <td>2019-08-04</td>\n",
       "      <td>False</td>\n",
       "      <td>-1000</td>\n",
       "      <td>True</td>\n",
       "      <td>2</td>\n",
       "      <td>0</td>\n",
       "      <td>4</td>\n",
       "      <td>4</td>\n",
       "      <td>2</td>\n",
       "      <td>0</td>\n",
       "      <td>out</td>\n",
       "    </tr>\n",
       "    <tr>\n",
       "      <th>1</th>\n",
       "      <td>166377</td>\n",
       "      <td>2019-08-05</td>\n",
       "      <td>True</td>\n",
       "      <td>880022</td>\n",
       "      <td>True</td>\n",
       "      <td>3</td>\n",
       "      <td>0</td>\n",
       "      <td>5</td>\n",
       "      <td>5</td>\n",
       "      <td>0</td>\n",
       "      <td>3</td>\n",
       "      <td>out</td>\n",
       "    </tr>\n",
       "    <tr>\n",
       "      <th>2</th>\n",
       "      <td>166377</td>\n",
       "      <td>2019-08-05</td>\n",
       "      <td>True</td>\n",
       "      <td>880020</td>\n",
       "      <td>True</td>\n",
       "      <td>1</td>\n",
       "      <td>0</td>\n",
       "      <td>1</td>\n",
       "      <td>1</td>\n",
       "      <td>0</td>\n",
       "      <td>1</td>\n",
       "      <td>out</td>\n",
       "    </tr>\n",
       "    <tr>\n",
       "      <th>3</th>\n",
       "      <td>166377</td>\n",
       "      <td>2019-08-05</td>\n",
       "      <td>True</td>\n",
       "      <td>880020</td>\n",
       "      <td>False</td>\n",
       "      <td>1</td>\n",
       "      <td>10</td>\n",
       "      <td>18</td>\n",
       "      <td>8</td>\n",
       "      <td>0</td>\n",
       "      <td>1</td>\n",
       "      <td>out</td>\n",
       "    </tr>\n",
       "    <tr>\n",
       "      <th>4</th>\n",
       "      <td>166377</td>\n",
       "      <td>2019-08-05</td>\n",
       "      <td>False</td>\n",
       "      <td>880022</td>\n",
       "      <td>True</td>\n",
       "      <td>3</td>\n",
       "      <td>0</td>\n",
       "      <td>25</td>\n",
       "      <td>25</td>\n",
       "      <td>0</td>\n",
       "      <td>3</td>\n",
       "      <td>out</td>\n",
       "    </tr>\n",
       "  </tbody>\n",
       "</table>\n",
       "</div>"
      ],
      "text/plain": [
       "   user_id       date  internal  operator_id  is_missed_call  calls_count  \\\n",
       "0   166377 2019-08-04     False        -1000            True            2   \n",
       "1   166377 2019-08-05      True       880022            True            3   \n",
       "2   166377 2019-08-05      True       880020            True            1   \n",
       "3   166377 2019-08-05      True       880020           False            1   \n",
       "4   166377 2019-08-05     False       880022            True            3   \n",
       "\n",
       "   call_duration  total_call_duration  wait_time  direction_in  direction_out  \\\n",
       "0              0                    4          4             2              0   \n",
       "1              0                    5          5             0              3   \n",
       "2              0                    1          1             0              1   \n",
       "3             10                   18          8             0              1   \n",
       "4              0                   25         25             0              3   \n",
       "\n",
       "  user_type  \n",
       "0       out  \n",
       "1       out  \n",
       "2       out  \n",
       "3       out  \n",
       "4       out  "
      ]
     },
     "execution_count": 58,
     "metadata": {},
     "output_type": "execute_result"
    }
   ],
   "source": [
    "df = df.merge(t[['user_id','user_type']], how='left', on='user_id')\n",
    "df.head()"
   ]
  },
  {
   "cell_type": "code",
   "execution_count": 59,
   "metadata": {
    "colab": {
     "base_uri": "https://localhost:8080/"
    },
    "id": "KBdEHDlZOCC3",
    "outputId": "e5fe1ff4-af15-4182-f893-29524ccfa3c0"
   },
   "outputs": [
    {
     "data": {
      "text/plain": [
       "out    34969\n",
       "in     11022\n",
       "mid     2122\n",
       "Name: user_type, dtype: int64"
      ]
     },
     "execution_count": 59,
     "metadata": {},
     "output_type": "execute_result"
    }
   ],
   "source": [
    "# посмотрим, сколько строк каждого типа колл-центров в таблице\n",
    "\n",
    "df['user_type'].value_counts()"
   ]
  },
  {
   "cell_type": "markdown",
   "metadata": {
    "id": "Sj8gIbFzWDu6"
   },
   "source": [
    "Грубо оценим ошибку категоризации. Отфильтруем строки, в которых direction_in > 0 и user_type == \"out\"."
   ]
  },
  {
   "cell_type": "code",
   "execution_count": 60,
   "metadata": {
    "colab": {
     "base_uri": "https://localhost:8080/",
     "height": 206
    },
    "id": "qF4WaYvRVb1A",
    "outputId": "6cccf932-40fe-4d0f-e5ba-c43ffaa2e3ae"
   },
   "outputs": [
    {
     "data": {
      "text/html": [
       "<div>\n",
       "<style scoped>\n",
       "    .dataframe tbody tr th:only-of-type {\n",
       "        vertical-align: middle;\n",
       "    }\n",
       "\n",
       "    .dataframe tbody tr th {\n",
       "        vertical-align: top;\n",
       "    }\n",
       "\n",
       "    .dataframe thead th {\n",
       "        text-align: right;\n",
       "    }\n",
       "</style>\n",
       "<table border=\"1\" class=\"dataframe\">\n",
       "  <thead>\n",
       "    <tr style=\"text-align: right;\">\n",
       "      <th></th>\n",
       "      <th>user_id</th>\n",
       "      <th>date</th>\n",
       "      <th>internal</th>\n",
       "      <th>operator_id</th>\n",
       "      <th>is_missed_call</th>\n",
       "      <th>calls_count</th>\n",
       "      <th>call_duration</th>\n",
       "      <th>total_call_duration</th>\n",
       "      <th>wait_time</th>\n",
       "      <th>direction_in</th>\n",
       "      <th>direction_out</th>\n",
       "      <th>user_type</th>\n",
       "    </tr>\n",
       "  </thead>\n",
       "  <tbody>\n",
       "    <tr>\n",
       "      <th>0</th>\n",
       "      <td>166377</td>\n",
       "      <td>2019-08-04</td>\n",
       "      <td>False</td>\n",
       "      <td>-1000</td>\n",
       "      <td>True</td>\n",
       "      <td>2</td>\n",
       "      <td>0</td>\n",
       "      <td>4</td>\n",
       "      <td>4</td>\n",
       "      <td>2</td>\n",
       "      <td>0</td>\n",
       "      <td>out</td>\n",
       "    </tr>\n",
       "    <tr>\n",
       "      <th>7</th>\n",
       "      <td>166377</td>\n",
       "      <td>2019-08-05</td>\n",
       "      <td>False</td>\n",
       "      <td>-1000</td>\n",
       "      <td>True</td>\n",
       "      <td>6</td>\n",
       "      <td>0</td>\n",
       "      <td>35</td>\n",
       "      <td>35</td>\n",
       "      <td>6</td>\n",
       "      <td>0</td>\n",
       "      <td>out</td>\n",
       "    </tr>\n",
       "    <tr>\n",
       "      <th>8</th>\n",
       "      <td>166377</td>\n",
       "      <td>2019-08-06</td>\n",
       "      <td>False</td>\n",
       "      <td>-1000</td>\n",
       "      <td>True</td>\n",
       "      <td>4</td>\n",
       "      <td>0</td>\n",
       "      <td>62</td>\n",
       "      <td>62</td>\n",
       "      <td>4</td>\n",
       "      <td>0</td>\n",
       "      <td>out</td>\n",
       "    </tr>\n",
       "    <tr>\n",
       "      <th>16</th>\n",
       "      <td>166377</td>\n",
       "      <td>2019-08-07</td>\n",
       "      <td>False</td>\n",
       "      <td>-1000</td>\n",
       "      <td>True</td>\n",
       "      <td>2</td>\n",
       "      <td>0</td>\n",
       "      <td>24</td>\n",
       "      <td>24</td>\n",
       "      <td>2</td>\n",
       "      <td>0</td>\n",
       "      <td>out</td>\n",
       "    </tr>\n",
       "    <tr>\n",
       "      <th>25</th>\n",
       "      <td>166377</td>\n",
       "      <td>2019-08-12</td>\n",
       "      <td>False</td>\n",
       "      <td>880028</td>\n",
       "      <td>False</td>\n",
       "      <td>1</td>\n",
       "      <td>407</td>\n",
       "      <td>411</td>\n",
       "      <td>4</td>\n",
       "      <td>1</td>\n",
       "      <td>0</td>\n",
       "      <td>out</td>\n",
       "    </tr>\n",
       "  </tbody>\n",
       "</table>\n",
       "</div>"
      ],
      "text/plain": [
       "    user_id       date  internal  operator_id  is_missed_call  calls_count  \\\n",
       "0    166377 2019-08-04     False        -1000            True            2   \n",
       "7    166377 2019-08-05     False        -1000            True            6   \n",
       "8    166377 2019-08-06     False        -1000            True            4   \n",
       "16   166377 2019-08-07     False        -1000            True            2   \n",
       "25   166377 2019-08-12     False       880028           False            1   \n",
       "\n",
       "    call_duration  total_call_duration  wait_time  direction_in  \\\n",
       "0               0                    4          4             2   \n",
       "7               0                   35         35             6   \n",
       "8               0                   62         62             4   \n",
       "16              0                   24         24             2   \n",
       "25            407                  411          4             1   \n",
       "\n",
       "    direction_out user_type  \n",
       "0               0       out  \n",
       "7               0       out  \n",
       "8               0       out  \n",
       "16              0       out  \n",
       "25              0       out  "
      ]
     },
     "execution_count": 60,
     "metadata": {},
     "output_type": "execute_result"
    }
   ],
   "source": [
    "df.query('(direction_in > 0) and (user_type == \"out\")').head()"
   ]
  },
  {
   "cell_type": "code",
   "execution_count": 61,
   "metadata": {
    "id": "k9-oTemmiX1V"
   },
   "outputs": [],
   "source": [
    "# запишем длину этой выборки в len_t\n",
    "\n",
    "len_t = len(df.query('(direction_in > 0) and (user_type == \"out\")'))"
   ]
  },
  {
   "cell_type": "code",
   "execution_count": 62,
   "metadata": {
    "colab": {
     "base_uri": "https://localhost:8080/"
    },
    "id": "PSIixn3Ihds9",
    "outputId": "df72d397-2db4-485e-fb38-48a35a53ee15"
   },
   "outputs": [
    {
     "name": "stdout",
     "output_type": "stream",
     "text": [
      "Доля записей со значениями в direction_in и типом out 22.12%\n"
     ]
    }
   ],
   "source": [
    "print(f'Доля записей со значениями в direction_in и типом out {len_t / len(df):.2%}')"
   ]
  },
  {
   "cell_type": "markdown",
   "metadata": {
    "id": "mzn7B9vkWdzi"
   },
   "source": [
    "22% записей при с категории call-центра `out` имеет входящие звонки, слишком много. Добавятся ошибки и при обратной фильтрации - при категории `in` и исходящих звонках, процент ошибки станет еще больше. \n",
    "\n",
    "Это говорит о неточности допусков для промежуточных call-центров по 15% в каждую сторону. Мы можем продолжить и с такими цифрами, в среднем по нашей модели, несмотря на исключения, в колл-центрах бОльшая часть звонков будет соответствовать типу call-центра.\n",
    "\n",
    "Но хочется большей точности. Поэтому увеличим интервал до 40% в каждую сторону от единицы (когда `direction_in == direction_out`) и пересчитаем все цифры."
   ]
  },
  {
   "cell_type": "markdown",
   "metadata": {},
   "source": [
    "<div class=\"alert alert-success\">\n",
    "    \n",
    "**Комментарий ревьюера**\n",
    "\n",
    "**#ок**\n",
    "\n",
    "Если колл-центр специализируется на обзвоне, то это не значит, что у него не должно быть входящих и наоборот.\n",
    "\n",
    "</div>"
   ]
  },
  {
   "cell_type": "code",
   "execution_count": 63,
   "metadata": {
    "id": "wfgdgxXsYJ7f"
   },
   "outputs": [],
   "source": [
    "# меняем параметры в функции, диапазон ставим 0.6/1.4\n",
    "\n",
    "def direction_class(row):\n",
    "  if row['direction_in'] == 0:\n",
    "    return 'out'\n",
    "  elif row['direction_out'] == 0:\n",
    "    return 'in'\n",
    "  elif 0.6 <= (row['direction_in'] / row['direction_out']) <= 1.4:\n",
    "    return 'mid'\n",
    "  elif 0.6 <= (row['direction_out'] / row['direction_in']) <= 1.4:\n",
    "    return 'mid'\n",
    "  elif row['direction_in'] > row['direction_out']:\n",
    "    return 'in'\n",
    "  else:\n",
    "    return 'out'"
   ]
  },
  {
   "cell_type": "code",
   "execution_count": 64,
   "metadata": {
    "colab": {
     "base_uri": "https://localhost:8080/",
     "height": 206
    },
    "id": "5Le2SCXjYhHk",
    "outputId": "fe5d409e-644e-4100-b39b-657f34f5dfb2"
   },
   "outputs": [
    {
     "data": {
      "text/html": [
       "<div>\n",
       "<style scoped>\n",
       "    .dataframe tbody tr th:only-of-type {\n",
       "        vertical-align: middle;\n",
       "    }\n",
       "\n",
       "    .dataframe tbody tr th {\n",
       "        vertical-align: top;\n",
       "    }\n",
       "\n",
       "    .dataframe thead th {\n",
       "        text-align: right;\n",
       "    }\n",
       "</style>\n",
       "<table border=\"1\" class=\"dataframe\">\n",
       "  <thead>\n",
       "    <tr style=\"text-align: right;\">\n",
       "      <th></th>\n",
       "      <th>user_id</th>\n",
       "      <th>direction_in</th>\n",
       "      <th>direction_out</th>\n",
       "      <th>user_type</th>\n",
       "    </tr>\n",
       "  </thead>\n",
       "  <tbody>\n",
       "    <tr>\n",
       "      <th>0</th>\n",
       "      <td>166377</td>\n",
       "      <td>196</td>\n",
       "      <td>4953</td>\n",
       "      <td>out</td>\n",
       "    </tr>\n",
       "    <tr>\n",
       "      <th>1</th>\n",
       "      <td>166391</td>\n",
       "      <td>26</td>\n",
       "      <td>1</td>\n",
       "      <td>in</td>\n",
       "    </tr>\n",
       "    <tr>\n",
       "      <th>2</th>\n",
       "      <td>166392</td>\n",
       "      <td>209</td>\n",
       "      <td>0</td>\n",
       "      <td>in</td>\n",
       "    </tr>\n",
       "    <tr>\n",
       "      <th>3</th>\n",
       "      <td>166399</td>\n",
       "      <td>24</td>\n",
       "      <td>0</td>\n",
       "      <td>in</td>\n",
       "    </tr>\n",
       "    <tr>\n",
       "      <th>4</th>\n",
       "      <td>166405</td>\n",
       "      <td>5284</td>\n",
       "      <td>9564</td>\n",
       "      <td>out</td>\n",
       "    </tr>\n",
       "  </tbody>\n",
       "</table>\n",
       "</div>"
      ],
      "text/plain": [
       "   user_id  direction_in  direction_out user_type\n",
       "0   166377           196           4953       out\n",
       "1   166391            26              1        in\n",
       "2   166392           209              0        in\n",
       "3   166399            24              0        in\n",
       "4   166405          5284           9564       out"
      ]
     },
     "execution_count": 64,
     "metadata": {},
     "output_type": "execute_result"
    }
   ],
   "source": [
    "# убираем из df user_type\n",
    "\n",
    "df = df.drop('user_type', axis=1)\n",
    "\n",
    "# заново собираем временную таблицу t\n",
    "\n",
    "t = df.groupby('user_id')[['direction_in', 'direction_out']].sum()\n",
    "\n",
    "# проходим обновленной функцией direction_class по t['user_type']\n",
    "\n",
    "t['user_type'] = t.apply(direction_class, axis=1)\n",
    "t.reset_index(inplace=True)\n",
    "t.head()"
   ]
  },
  {
   "cell_type": "code",
   "execution_count": 65,
   "metadata": {
    "colab": {
     "base_uri": "https://localhost:8080/"
    },
    "id": "UvSp2K71aIfm",
    "outputId": "dd8d3a4e-fa02-425b-ce76-a77ec43adaed"
   },
   "outputs": [
    {
     "data": {
      "text/plain": [
       "in     153\n",
       "out    113\n",
       "mid     41\n",
       "Name: user_type, dtype: int64"
      ]
     },
     "execution_count": 65,
     "metadata": {},
     "output_type": "execute_result"
    }
   ],
   "source": [
    "# посмотрим на новое распределение по категории колл-центра\n",
    "\n",
    "t['user_type'].value_counts()"
   ]
  },
  {
   "cell_type": "markdown",
   "metadata": {},
   "source": [
    "<div class=\"alert alert-success\">\n",
    "    \n",
    "**Комментарий ревьюера**\n",
    "\n",
    "**#ок**\n",
    "\n",
    "Хорошо, это тоже вариант\n",
    "\n",
    "</div>"
   ]
  },
  {
   "cell_type": "markdown",
   "metadata": {
    "id": "hbwipXIzab7k"
   },
   "source": [
    "Промежуточных колл-центров стало больше. Присоеденим таблицу с категориями к основной и посмотрим на результат."
   ]
  },
  {
   "cell_type": "code",
   "execution_count": 66,
   "metadata": {
    "colab": {
     "base_uri": "https://localhost:8080/",
     "height": 206
    },
    "id": "Oln0rkgWaoMW",
    "outputId": "731631b8-55be-4b63-d4cd-9238c3907cb5"
   },
   "outputs": [
    {
     "data": {
      "text/html": [
       "<div>\n",
       "<style scoped>\n",
       "    .dataframe tbody tr th:only-of-type {\n",
       "        vertical-align: middle;\n",
       "    }\n",
       "\n",
       "    .dataframe tbody tr th {\n",
       "        vertical-align: top;\n",
       "    }\n",
       "\n",
       "    .dataframe thead th {\n",
       "        text-align: right;\n",
       "    }\n",
       "</style>\n",
       "<table border=\"1\" class=\"dataframe\">\n",
       "  <thead>\n",
       "    <tr style=\"text-align: right;\">\n",
       "      <th></th>\n",
       "      <th>user_id</th>\n",
       "      <th>date</th>\n",
       "      <th>internal</th>\n",
       "      <th>operator_id</th>\n",
       "      <th>is_missed_call</th>\n",
       "      <th>calls_count</th>\n",
       "      <th>call_duration</th>\n",
       "      <th>total_call_duration</th>\n",
       "      <th>wait_time</th>\n",
       "      <th>direction_in</th>\n",
       "      <th>direction_out</th>\n",
       "      <th>user_type</th>\n",
       "    </tr>\n",
       "  </thead>\n",
       "  <tbody>\n",
       "    <tr>\n",
       "      <th>0</th>\n",
       "      <td>166377</td>\n",
       "      <td>2019-08-04</td>\n",
       "      <td>False</td>\n",
       "      <td>-1000</td>\n",
       "      <td>True</td>\n",
       "      <td>2</td>\n",
       "      <td>0</td>\n",
       "      <td>4</td>\n",
       "      <td>4</td>\n",
       "      <td>2</td>\n",
       "      <td>0</td>\n",
       "      <td>out</td>\n",
       "    </tr>\n",
       "    <tr>\n",
       "      <th>1</th>\n",
       "      <td>166377</td>\n",
       "      <td>2019-08-05</td>\n",
       "      <td>True</td>\n",
       "      <td>880022</td>\n",
       "      <td>True</td>\n",
       "      <td>3</td>\n",
       "      <td>0</td>\n",
       "      <td>5</td>\n",
       "      <td>5</td>\n",
       "      <td>0</td>\n",
       "      <td>3</td>\n",
       "      <td>out</td>\n",
       "    </tr>\n",
       "    <tr>\n",
       "      <th>2</th>\n",
       "      <td>166377</td>\n",
       "      <td>2019-08-05</td>\n",
       "      <td>True</td>\n",
       "      <td>880020</td>\n",
       "      <td>True</td>\n",
       "      <td>1</td>\n",
       "      <td>0</td>\n",
       "      <td>1</td>\n",
       "      <td>1</td>\n",
       "      <td>0</td>\n",
       "      <td>1</td>\n",
       "      <td>out</td>\n",
       "    </tr>\n",
       "    <tr>\n",
       "      <th>3</th>\n",
       "      <td>166377</td>\n",
       "      <td>2019-08-05</td>\n",
       "      <td>True</td>\n",
       "      <td>880020</td>\n",
       "      <td>False</td>\n",
       "      <td>1</td>\n",
       "      <td>10</td>\n",
       "      <td>18</td>\n",
       "      <td>8</td>\n",
       "      <td>0</td>\n",
       "      <td>1</td>\n",
       "      <td>out</td>\n",
       "    </tr>\n",
       "    <tr>\n",
       "      <th>4</th>\n",
       "      <td>166377</td>\n",
       "      <td>2019-08-05</td>\n",
       "      <td>False</td>\n",
       "      <td>880022</td>\n",
       "      <td>True</td>\n",
       "      <td>3</td>\n",
       "      <td>0</td>\n",
       "      <td>25</td>\n",
       "      <td>25</td>\n",
       "      <td>0</td>\n",
       "      <td>3</td>\n",
       "      <td>out</td>\n",
       "    </tr>\n",
       "  </tbody>\n",
       "</table>\n",
       "</div>"
      ],
      "text/plain": [
       "   user_id       date  internal  operator_id  is_missed_call  calls_count  \\\n",
       "0   166377 2019-08-04     False        -1000            True            2   \n",
       "1   166377 2019-08-05      True       880022            True            3   \n",
       "2   166377 2019-08-05      True       880020            True            1   \n",
       "3   166377 2019-08-05      True       880020           False            1   \n",
       "4   166377 2019-08-05     False       880022            True            3   \n",
       "\n",
       "   call_duration  total_call_duration  wait_time  direction_in  direction_out  \\\n",
       "0              0                    4          4             2              0   \n",
       "1              0                    5          5             0              3   \n",
       "2              0                    1          1             0              1   \n",
       "3             10                   18          8             0              1   \n",
       "4              0                   25         25             0              3   \n",
       "\n",
       "  user_type  \n",
       "0       out  \n",
       "1       out  \n",
       "2       out  \n",
       "3       out  \n",
       "4       out  "
      ]
     },
     "execution_count": 66,
     "metadata": {},
     "output_type": "execute_result"
    }
   ],
   "source": [
    "df = df.merge(t[['user_id','user_type']], how='left', on='user_id')\n",
    "df.head()"
   ]
  },
  {
   "cell_type": "code",
   "execution_count": 67,
   "metadata": {
    "colab": {
     "base_uri": "https://localhost:8080/"
    },
    "id": "i7oJTvNaasZh",
    "outputId": "2419418c-7f2c-456a-d05f-4ea0e1685aed"
   },
   "outputs": [
    {
     "data": {
      "text/plain": [
       "8793"
      ]
     },
     "execution_count": 67,
     "metadata": {},
     "output_type": "execute_result"
    }
   ],
   "source": [
    "# еще раз проведем грубую оценку ошибки\n",
    "\n",
    "len(df.query('(direction_in > 0) and (user_type == \"out\")'))"
   ]
  },
  {
   "cell_type": "code",
   "execution_count": 68,
   "metadata": {
    "colab": {
     "base_uri": "https://localhost:8080/"
    },
    "id": "KlaE_BtRkt0n",
    "outputId": "caae6e15-5a3a-4997-ada9-e975835d39a1"
   },
   "outputs": [
    {
     "name": "stdout",
     "output_type": "stream",
     "text": [
      "Точность улучшилась в 1.21 раз\n"
     ]
    }
   ],
   "source": [
    "# запишем эту цифру в len_t2\n",
    "\n",
    "len_t2 = len(df.query('(direction_in > 0) and (user_type == \"out\")'))\n",
    "\n",
    "# и сравним с результатами категоризации с допусками 5%\n",
    "\n",
    "print(f'Точность улучшилась в {len_t / len_t2:.2f} раз')"
   ]
  },
  {
   "cell_type": "markdown",
   "metadata": {
    "id": "93pwv4GAa8RN"
   },
   "source": [
    "В 1,2 раза лучше"
   ]
  },
  {
   "cell_type": "code",
   "execution_count": 69,
   "metadata": {
    "id": "SOrDlJU_dX2T"
   },
   "outputs": [],
   "source": [
    "# несоответствий всего\n",
    "\n",
    "wrong_rows = (len(df.query('(direction_in > 0) and (user_type == \"out\")')) +\n",
    "              len(df.query('(direction_out > 0) and (user_type == \"in\")'))\n",
    ")"
   ]
  },
  {
   "cell_type": "code",
   "execution_count": 70,
   "metadata": {
    "colab": {
     "base_uri": "https://localhost:8080/",
     "height": 54
    },
    "id": "OI5Fe3HneA-O",
    "outputId": "07992cb2-215f-4b9e-af6c-cbd77a5f7f1d"
   },
   "outputs": [
    {
     "data": {
      "text/plain": [
       "'Всего 10463 спорных записей'"
      ]
     },
     "metadata": {},
     "output_type": "display_data"
    },
    {
     "data": {
      "text/plain": [
       "'Это составляет 21.75% от общего количества записей'"
      ]
     },
     "metadata": {},
     "output_type": "display_data"
    }
   ],
   "source": [
    "display(f'Всего {wrong_rows} спорных записей')\n",
    "display(f'Это составляет {wrong_rows/len(df):.2%} от общего количества записей')"
   ]
  },
  {
   "cell_type": "markdown",
   "metadata": {
    "id": "O50PheiofbSD"
   },
   "source": [
    "Остаемся с этой моделью, дальше расширять \"окно\" миддловых колл-центров не будем. \n",
    "\n",
    "При расширении диапазона точность увеличится, но вместе с ней увеличится доля промежуточных центров, а у нас четкое указание в ТЗ не делать много таких call-центров."
   ]
  },
  {
   "cell_type": "markdown",
   "metadata": {
    "id": "ZaaZ3qMFvzAM"
   },
   "source": [
    "#### Вывод по категоризации call-центров\n",
    "\n",
    "Разделили call-центры на три категории:\n",
    "1. Совершающие в основном исходящие звонки. Таких 113\n",
    "2. В основном принимающих звонки — 153 call-центров\n",
    "3. Промежуточный тип, в котором количество исходящих и входящих трафиков близко. \"Мидловых\" call-центров 41 штука.\n",
    "\n",
    "Далее разделим исходный датафрейм на три отдельных по категориям и продолжим исследование."
   ]
  },
  {
   "cell_type": "markdown",
   "metadata": {
    "id": "g3GzFkfywrBH"
   },
   "source": [
    "#### Разделение таблицы на датафреймы по категории"
   ]
  },
  {
   "cell_type": "code",
   "execution_count": 71,
   "metadata": {
    "colab": {
     "base_uri": "https://localhost:8080/"
    },
    "id": "BIXl8NRdwwXs",
    "outputId": "6f819a1b-2745-4de4-9ff8-51c7c20a7879"
   },
   "outputs": [
    {
     "data": {
      "text/plain": [
       "array(['out', 'in', 'mid'], dtype=object)"
      ]
     },
     "execution_count": 71,
     "metadata": {},
     "output_type": "execute_result"
    }
   ],
   "source": [
    "df['user_type'].unique()"
   ]
  },
  {
   "cell_type": "code",
   "execution_count": 72,
   "metadata": {
    "colab": {
     "base_uri": "https://localhost:8080/",
     "height": 91
    },
    "id": "oBrYF_CZw4J2",
    "outputId": "7a04b813-512a-4417-a474-fbb7ffbd482c"
   },
   "outputs": [
    {
     "data": {
      "text/plain": [
       "'Проверка'"
      ]
     },
     "metadata": {},
     "output_type": "display_data"
    },
    {
     "data": {
      "text/plain": [
       "'Длина исходного датафрейма 48113 строк'"
      ]
     },
     "metadata": {},
     "output_type": "display_data"
    },
    {
     "data": {
      "text/plain": [
       "'Сумма длин трех DF равна 48113'"
      ]
     },
     "metadata": {},
     "output_type": "display_data"
    },
    {
     "data": {
      "text/plain": [
       "'Все верно'"
      ]
     },
     "metadata": {},
     "output_type": "display_data"
    }
   ],
   "source": [
    "df_in = df.query('user_type == \"in\"')\n",
    "df_out = df.query('user_type == \"out\"')\n",
    "df_mid = df.query('user_type == \"mid\"')\n",
    "\n",
    "display('Проверка')\n",
    "display(f'Длина исходного датафрейма {len(df)} строк')\n",
    "display(f'Сумма длин трех DF равна {(len(df_in)+len(df_out)+len(df_mid))}')\n",
    "\n",
    "if len(df) == (len(df_in)+len(df_out)+len(df_mid)):\n",
    "  display ('Все верно')"
   ]
  },
  {
   "cell_type": "markdown",
   "metadata": {
    "id": "OdTp9NAxzAHQ"
   },
   "source": [
    "#### Вывод по категоризации\n",
    "\n",
    "Разделили таблицу на три отдельных датафрейма по категории call-центра. Далее работаем с каждой таблицей отдельно и выводим закономерности для каждого типа call-центра."
   ]
  },
  {
   "cell_type": "markdown",
   "metadata": {},
   "source": [
    "<div class=\"alert alert-success\">\n",
    "    \n",
    "**Комментарий ревьюера**\n",
    "\n",
    "**#ок**\n",
    "\n",
    "Ок, данные готовы для анализа\n",
    "</div>"
   ]
  },
  {
   "cell_type": "markdown",
   "metadata": {
    "id": "XPW27cdpXxZi"
   },
   "source": [
    "## Поиск ответов на вопросы заказчика"
   ]
  },
  {
   "cell_type": "markdown",
   "metadata": {
    "id": "stUF6p94frTO"
   },
   "source": [
    "### Работа с call-центрами, принимающими звонки"
   ]
  },
  {
   "cell_type": "code",
   "execution_count": 73,
   "metadata": {
    "colab": {
     "base_uri": "https://localhost:8080/",
     "height": 206
    },
    "id": "CKltQod6x4hN",
    "outputId": "6d45fede-a6dc-4e88-812a-f9dcf3aa090f"
   },
   "outputs": [
    {
     "data": {
      "text/html": [
       "<div>\n",
       "<style scoped>\n",
       "    .dataframe tbody tr th:only-of-type {\n",
       "        vertical-align: middle;\n",
       "    }\n",
       "\n",
       "    .dataframe tbody tr th {\n",
       "        vertical-align: top;\n",
       "    }\n",
       "\n",
       "    .dataframe thead th {\n",
       "        text-align: right;\n",
       "    }\n",
       "</style>\n",
       "<table border=\"1\" class=\"dataframe\">\n",
       "  <thead>\n",
       "    <tr style=\"text-align: right;\">\n",
       "      <th></th>\n",
       "      <th>user_id</th>\n",
       "      <th>date</th>\n",
       "      <th>internal</th>\n",
       "      <th>operator_id</th>\n",
       "      <th>is_missed_call</th>\n",
       "      <th>calls_count</th>\n",
       "      <th>call_duration</th>\n",
       "      <th>total_call_duration</th>\n",
       "      <th>wait_time</th>\n",
       "      <th>direction_in</th>\n",
       "      <th>direction_out</th>\n",
       "      <th>user_type</th>\n",
       "    </tr>\n",
       "  </thead>\n",
       "  <tbody>\n",
       "    <tr>\n",
       "      <th>519</th>\n",
       "      <td>166391</td>\n",
       "      <td>2019-08-06</td>\n",
       "      <td>False</td>\n",
       "      <td>882476</td>\n",
       "      <td>False</td>\n",
       "      <td>1</td>\n",
       "      <td>175</td>\n",
       "      <td>186</td>\n",
       "      <td>11</td>\n",
       "      <td>1</td>\n",
       "      <td>0</td>\n",
       "      <td>in</td>\n",
       "    </tr>\n",
       "    <tr>\n",
       "      <th>520</th>\n",
       "      <td>166391</td>\n",
       "      <td>2019-08-06</td>\n",
       "      <td>True</td>\n",
       "      <td>-1000</td>\n",
       "      <td>True</td>\n",
       "      <td>3</td>\n",
       "      <td>0</td>\n",
       "      <td>163</td>\n",
       "      <td>163</td>\n",
       "      <td>3</td>\n",
       "      <td>0</td>\n",
       "      <td>in</td>\n",
       "    </tr>\n",
       "    <tr>\n",
       "      <th>521</th>\n",
       "      <td>166391</td>\n",
       "      <td>2019-08-07</td>\n",
       "      <td>True</td>\n",
       "      <td>882478</td>\n",
       "      <td>False</td>\n",
       "      <td>2</td>\n",
       "      <td>11</td>\n",
       "      <td>74</td>\n",
       "      <td>63</td>\n",
       "      <td>2</td>\n",
       "      <td>0</td>\n",
       "      <td>in</td>\n",
       "    </tr>\n",
       "    <tr>\n",
       "      <th>522</th>\n",
       "      <td>166391</td>\n",
       "      <td>2019-08-07</td>\n",
       "      <td>False</td>\n",
       "      <td>882478</td>\n",
       "      <td>False</td>\n",
       "      <td>1</td>\n",
       "      <td>57</td>\n",
       "      <td>70</td>\n",
       "      <td>13</td>\n",
       "      <td>1</td>\n",
       "      <td>0</td>\n",
       "      <td>in</td>\n",
       "    </tr>\n",
       "    <tr>\n",
       "      <th>523</th>\n",
       "      <td>166391</td>\n",
       "      <td>2019-08-07</td>\n",
       "      <td>True</td>\n",
       "      <td>882478</td>\n",
       "      <td>True</td>\n",
       "      <td>1</td>\n",
       "      <td>0</td>\n",
       "      <td>7</td>\n",
       "      <td>7</td>\n",
       "      <td>0</td>\n",
       "      <td>1</td>\n",
       "      <td>in</td>\n",
       "    </tr>\n",
       "  </tbody>\n",
       "</table>\n",
       "</div>"
      ],
      "text/plain": [
       "     user_id       date  internal  operator_id  is_missed_call  calls_count  \\\n",
       "519   166391 2019-08-06     False       882476           False            1   \n",
       "520   166391 2019-08-06      True        -1000            True            3   \n",
       "521   166391 2019-08-07      True       882478           False            2   \n",
       "522   166391 2019-08-07     False       882478           False            1   \n",
       "523   166391 2019-08-07      True       882478            True            1   \n",
       "\n",
       "     call_duration  total_call_duration  wait_time  direction_in  \\\n",
       "519            175                  186         11             1   \n",
       "520              0                  163        163             3   \n",
       "521             11                   74         63             2   \n",
       "522             57                   70         13             1   \n",
       "523              0                    7          7             0   \n",
       "\n",
       "     direction_out user_type  \n",
       "519              0        in  \n",
       "520              0        in  \n",
       "521              0        in  \n",
       "522              0        in  \n",
       "523              1        in  "
      ]
     },
     "execution_count": 73,
     "metadata": {},
     "output_type": "execute_result"
    }
   ],
   "source": [
    "df_in.head()"
   ]
  },
  {
   "cell_type": "markdown",
   "metadata": {
    "id": "-CHMoQa5frFQ"
   },
   "source": [
    "По ТЗ есть две целевых переменных:\n",
    "\n",
    "1. много пропущенных входящих вызовов,\n",
    "2. долгое ожидания ответа при входящих внешних вызовах"
   ]
  },
  {
   "cell_type": "code",
   "execution_count": 74,
   "metadata": {
    "colab": {
     "base_uri": "https://localhost:8080/"
    },
    "id": "DGK5qrvg0xQv",
    "outputId": "4820498d-f5b4-4658-d4cc-f9a4ae256ea7"
   },
   "outputs": [
    {
     "data": {
      "text/plain": [
       "count    8184.000000\n",
       "mean        2.273949\n",
       "std         7.727532\n",
       "min         0.000000\n",
       "25%         0.000000\n",
       "50%         0.000000\n",
       "75%         1.000000\n",
       "max       143.000000\n",
       "Name: miss_count, dtype: float64"
      ]
     },
     "execution_count": 74,
     "metadata": {},
     "output_type": "execute_result"
    }
   ],
   "source": [
    "# добавим столбец с количеством пропущенных звонков, \n",
    "# просто умножим is_missed_call на calls_count\n",
    "# в случае False в miss_count будет ноль\n",
    "\n",
    "df_in['miss_count'] = df_in['is_missed_call'] * df_in['calls_count']\n",
    "\n",
    "# сразу посмотрим на статистические цифры по новому столбцу\n",
    "\n",
    "df_in['miss_count'].describe()"
   ]
  },
  {
   "cell_type": "markdown",
   "metadata": {
    "id": "MDEY4ZCY50LI"
   },
   "source": [
    "Медиана ноль, 75 квартиль тоже ноль"
   ]
  },
  {
   "cell_type": "code",
   "execution_count": 75,
   "metadata": {
    "colab": {
     "base_uri": "https://localhost:8080/",
     "height": 736
    },
    "id": "ouBKzE4d0cRh",
    "outputId": "b5ca4d0e-4b13-43b6-9b69-241655522997"
   },
   "outputs": [
    {
     "data": {
      "text/plain": [
       "0      4565\n",
       "1      1651\n",
       "2       639\n",
       "3       336\n",
       "4       196\n",
       "       ... \n",
       "92        1\n",
       "96        1\n",
       "108       1\n",
       "53        1\n",
       "143       1\n",
       "Name: miss_count, Length: 79, dtype: int64"
      ]
     },
     "metadata": {},
     "output_type": "display_data"
    },
    {
     "data": {
      "image/png": "[encoded data removed]",
      "text/plain": [
       "<Figure size 432x288 with 1 Axes>"
      ]
     },
     "metadata": {
      "needs_background": "light"
     },
     "output_type": "display_data"
    },
    {
     "data": {
      "image/png": "[encoded data removed]",
      "text/plain": [
       "<Figure size 432x288 with 1 Axes>"
      ]
     },
     "metadata": {
      "needs_background": "light"
     },
     "output_type": "display_data"
    }
   ],
   "source": [
    "# посмотрим, какие значения есть в столбце\n",
    "\n",
    "display(df_in['miss_count'].value_counts())\n",
    "\n",
    "# сразу строим простые графики\n",
    "\n",
    "sns.boxplot(df_in['miss_count'])\n",
    "plt.show()\n",
    "\n",
    "df_in['miss_count'].value_counts().plot()\n",
    "plt.show()"
   ]
  },
  {
   "cell_type": "code",
   "execution_count": 76,
   "metadata": {
    "colab": {
     "base_uri": "https://localhost:8080/",
     "height": 416
    },
    "id": "WpM3_4d4Yc1S",
    "outputId": "92d1da6f-7920-4518-b569-8edf167bc84f"
   },
   "outputs": [
    {
     "data": {
      "image/png": "[encoded data removed]",
      "text/plain": [
       "<Figure size 720x432 with 1 Axes>"
      ]
     },
     "metadata": {
      "needs_background": "light"
     },
     "output_type": "display_data"
    }
   ],
   "source": [
    "# наглядно, что основная масса пропущенных == 0\n",
    "\n",
    "plt.figure(figsize=(10,6))\n",
    "sns.histplot(data=df_in, x=\"miss_count\")\n",
    "plt.xlim([0, 7])\n",
    "plt.xlabel(\"\\nПропущенные вызовы\")\n",
    "plt.ylabel(\"Количество записей\")\n",
    "plt.title(\"Пропущенные вызовы в принимающих call-центрах\")\n",
    "plt.show()"
   ]
  },
  {
   "cell_type": "code",
   "execution_count": 77,
   "metadata": {
    "colab": {
     "base_uri": "https://localhost:8080/"
    },
    "id": "brbSf62doK8q",
    "outputId": "36785bb1-83dc-4672-c22c-5ff1887cc5a5"
   },
   "outputs": [
    {
     "name": "stdout",
     "output_type": "stream",
     "text": [
      "91 операторов допускают более 1 пропущенного вызова\n",
      "31.82% операторов допускают более 1 пропущенного вызова\n"
     ]
    }
   ],
   "source": [
    "# посмотрим на долю операторов, допускающих более 1 пропущенного вызова\n",
    "\n",
    "len_miss_opers = df_in.query('miss_count > 1')['operator_id'].nunique()\n",
    "miss_opers = df_in.query('miss_count > 1')['operator_id']\\\n",
    "                                     .nunique() / df_in['operator_id'].nunique()\n",
    "print(f'{len_miss_opers} операторов допускают более 1 пропущенного вызова')\n",
    "print(f'{miss_opers:.2%} операторов допускают более 1 пропущенного вызова')"
   ]
  },
  {
   "cell_type": "markdown",
   "metadata": {
    "id": "Yf9zzY9T1kWt"
   },
   "source": [
    "Как видим, в основном операторы в принимающих call-центрах работают без пропущенных вызовов. Нормой является ответ, пусть и через какое-то время. Неприемлимо, чтобы в каком-то call-центре рано или поздно не взяли трубку. \n",
    "\n",
    "Но мы проявим понимание к работе операторов и сделаем скидку на то, что все могут когда-то ошибаться. Поэтому установим порог неэффективности более **одного** пропущенного вызова.\n",
    "\n",
    "Посмотрим на столбец `wait_time` у неотвеченных вызовов."
   ]
  },
  {
   "cell_type": "code",
   "execution_count": 78,
   "metadata": {
    "colab": {
     "base_uri": "https://localhost:8080/"
    },
    "id": "7WEf6ox53Hmm",
    "outputId": "3ae0bfbd-7ef4-4126-bad5-90fc16b3ee59"
   },
   "outputs": [
    {
     "data": {
      "text/plain": [
       "min          0.0\n",
       "max       6410.0\n",
       "median      23.0\n",
       "Name: wait_time, dtype: float64"
      ]
     },
     "execution_count": 78,
     "metadata": {},
     "output_type": "execute_result"
    }
   ],
   "source": [
    "# фильтруем по miss_count > 0 и смотрим ['min', 'max', 'median']\n",
    "\n",
    "df_in.query('miss_count > 0')['wait_time'].agg(['min', 'max', 'median'])"
   ]
  },
  {
   "cell_type": "markdown",
   "metadata": {
    "id": "WBLj8i8c4xHQ"
   },
   "source": [
    "Ожидаемо медиана довольно ощутима — 23 секунды. Т.е. вполне возможно, что человек позвонил и в итоге 23 секунды \"провисел\" на линии, так и не поговорив в итоге с оператором. \n",
    "\n",
    "Пропущенный вызов — неприемлимо для бизнеса. После того, как человеку не ответили, а он 20 секунд слушал дурацкую музыку и то, что \"его звонок очень важен для нас\", лояльность его к бизнесу точно не вырастет. Необходимо исключить такие явления. В качестве поправки на человечность мы допускаем, что человек может единожды ошибиться и пропустить вызов.\n",
    "\n",
    "**Порог неэффективности — более одного пропущеннго вызова.**"
   ]
  },
  {
   "cell_type": "markdown",
   "metadata": {},
   "source": [
    "<div class=\"alert alert-success\">\n",
    "    \n",
    "**Комментарий ревьюера**\n",
    "\n",
    "**#ок**\n",
    "\n",
    "Возможная логика, хотя на самом деле и 1 звонок в день - это много. Скорее нужно сделать 0,25-0,3 звонка в день, т.е. 1 звонок в 3-4 дня\n",
    "</div>"
   ]
  },
  {
   "cell_type": "markdown",
   "metadata": {
    "id": "A8MTaxc0hlm3"
   },
   "source": [
    "### Список неэффективных операторов в принимающих КЦ"
   ]
  },
  {
   "cell_type": "markdown",
   "metadata": {
    "id": "wOy_l2NjhwC0"
   },
   "source": [
    "Выведем записи с операторами, допустившими пропущенный вызов. \n",
    "\n",
    "Запишем данные в новый датафрейм `df_in_ne` (not effective — ne)."
   ]
  },
  {
   "cell_type": "code",
   "execution_count": 79,
   "metadata": {
    "colab": {
     "base_uri": "https://localhost:8080/",
     "height": 206
    },
    "id": "tMRegMuIYQk_",
    "outputId": "5cf2374b-8107-4471-d810-bd10c7266009"
   },
   "outputs": [
    {
     "data": {
      "text/html": [
       "<div>\n",
       "<style scoped>\n",
       "    .dataframe tbody tr th:only-of-type {\n",
       "        vertical-align: middle;\n",
       "    }\n",
       "\n",
       "    .dataframe tbody tr th {\n",
       "        vertical-align: top;\n",
       "    }\n",
       "\n",
       "    .dataframe thead th {\n",
       "        text-align: right;\n",
       "    }\n",
       "</style>\n",
       "<table border=\"1\" class=\"dataframe\">\n",
       "  <thead>\n",
       "    <tr style=\"text-align: right;\">\n",
       "      <th></th>\n",
       "      <th>user_id</th>\n",
       "      <th>date</th>\n",
       "      <th>internal</th>\n",
       "      <th>operator_id</th>\n",
       "      <th>is_missed_call</th>\n",
       "      <th>calls_count</th>\n",
       "      <th>call_duration</th>\n",
       "      <th>total_call_duration</th>\n",
       "      <th>wait_time</th>\n",
       "      <th>direction_in</th>\n",
       "      <th>direction_out</th>\n",
       "      <th>user_type</th>\n",
       "      <th>miss_count</th>\n",
       "    </tr>\n",
       "  </thead>\n",
       "  <tbody>\n",
       "    <tr>\n",
       "      <th>520</th>\n",
       "      <td>166391</td>\n",
       "      <td>2019-08-06</td>\n",
       "      <td>True</td>\n",
       "      <td>-1000</td>\n",
       "      <td>True</td>\n",
       "      <td>3</td>\n",
       "      <td>0</td>\n",
       "      <td>163</td>\n",
       "      <td>163</td>\n",
       "      <td>3</td>\n",
       "      <td>0</td>\n",
       "      <td>in</td>\n",
       "      <td>3</td>\n",
       "    </tr>\n",
       "    <tr>\n",
       "      <th>524</th>\n",
       "      <td>166391</td>\n",
       "      <td>2019-08-07</td>\n",
       "      <td>False</td>\n",
       "      <td>-1000</td>\n",
       "      <td>True</td>\n",
       "      <td>2</td>\n",
       "      <td>0</td>\n",
       "      <td>71</td>\n",
       "      <td>71</td>\n",
       "      <td>2</td>\n",
       "      <td>0</td>\n",
       "      <td>in</td>\n",
       "      <td>2</td>\n",
       "    </tr>\n",
       "    <tr>\n",
       "      <th>528</th>\n",
       "      <td>166391</td>\n",
       "      <td>2019-08-15</td>\n",
       "      <td>True</td>\n",
       "      <td>-1000</td>\n",
       "      <td>True</td>\n",
       "      <td>2</td>\n",
       "      <td>0</td>\n",
       "      <td>77</td>\n",
       "      <td>77</td>\n",
       "      <td>2</td>\n",
       "      <td>0</td>\n",
       "      <td>in</td>\n",
       "      <td>2</td>\n",
       "    </tr>\n",
       "    <tr>\n",
       "      <th>529</th>\n",
       "      <td>166391</td>\n",
       "      <td>2019-08-16</td>\n",
       "      <td>True</td>\n",
       "      <td>-1000</td>\n",
       "      <td>True</td>\n",
       "      <td>3</td>\n",
       "      <td>0</td>\n",
       "      <td>67</td>\n",
       "      <td>67</td>\n",
       "      <td>3</td>\n",
       "      <td>0</td>\n",
       "      <td>in</td>\n",
       "      <td>3</td>\n",
       "    </tr>\n",
       "    <tr>\n",
       "      <th>541</th>\n",
       "      <td>166392</td>\n",
       "      <td>2019-08-12</td>\n",
       "      <td>False</td>\n",
       "      <td>-1000</td>\n",
       "      <td>True</td>\n",
       "      <td>3</td>\n",
       "      <td>0</td>\n",
       "      <td>7</td>\n",
       "      <td>7</td>\n",
       "      <td>3</td>\n",
       "      <td>0</td>\n",
       "      <td>in</td>\n",
       "      <td>3</td>\n",
       "    </tr>\n",
       "  </tbody>\n",
       "</table>\n",
       "</div>"
      ],
      "text/plain": [
       "     user_id       date  internal  operator_id  is_missed_call  calls_count  \\\n",
       "520   166391 2019-08-06      True        -1000            True            3   \n",
       "524   166391 2019-08-07     False        -1000            True            2   \n",
       "528   166391 2019-08-15      True        -1000            True            2   \n",
       "529   166391 2019-08-16      True        -1000            True            3   \n",
       "541   166392 2019-08-12     False        -1000            True            3   \n",
       "\n",
       "     call_duration  total_call_duration  wait_time  direction_in  \\\n",
       "520              0                  163        163             3   \n",
       "524              0                   71         71             2   \n",
       "528              0                   77         77             2   \n",
       "529              0                   67         67             3   \n",
       "541              0                    7          7             3   \n",
       "\n",
       "     direction_out user_type  miss_count  \n",
       "520              0        in           3  \n",
       "524              0        in           2  \n",
       "528              0        in           2  \n",
       "529              0        in           3  \n",
       "541              0        in           3  "
      ]
     },
     "execution_count": 79,
     "metadata": {},
     "output_type": "execute_result"
    }
   ],
   "source": [
    "df_in_ne = df_in.query('miss_count > 1')\n",
    "df_in_ne.head()"
   ]
  },
  {
   "cell_type": "code",
   "execution_count": 80,
   "metadata": {
    "id": "3md0i8HpjY4k"
   },
   "outputs": [],
   "source": [
    "# неэффективных операторов для КЦ, принимающих вызовы, запишем в список ne_operators_in\n",
    "\n",
    "ne_operators_in = df_in_ne['operator_id'].unique().tolist()\n",
    "\n",
    "# КЦ, в которых эти операторы работают — в список ne_users_in\n",
    "\n",
    "ne_users_in = df_in_ne['user_id'].unique().tolist()"
   ]
  },
  {
   "cell_type": "code",
   "execution_count": 81,
   "metadata": {
    "colab": {
     "base_uri": "https://localhost:8080/"
    },
    "id": "3MowtKTfieMQ",
    "outputId": "e7f94f54-29d5-4c2f-fb31-a6e1ea2891b8"
   },
   "outputs": [
    {
     "data": {
      "text/plain": [
       "140"
      ]
     },
     "execution_count": 81,
     "metadata": {},
     "output_type": "execute_result"
    }
   ],
   "source": [
    "len(ne_users_in)"
   ]
  },
  {
   "cell_type": "code",
   "execution_count": 82,
   "metadata": {
    "colab": {
     "base_uri": "https://localhost:8080/"
    },
    "id": "-cPuGQlwgIN_",
    "outputId": "df2efba5-e882-42f7-e163-ec2b3a05c59a"
   },
   "outputs": [
    {
     "name": "stdout",
     "output_type": "stream",
     "text": [
      "Всего 91 неэффективных операторов\n",
      "Что составляет 31.82%\n",
      "Всего 140 КЦ с неэффективными операторами\n",
      "Что составляет 91.50%\n"
     ]
    }
   ],
   "source": [
    "print(f'Всего {df_in_ne[\"operator_id\"].nunique()} неэффективных операторов')\n",
    "print(f'Что составляет {df_in_ne[\"operator_id\"].nunique()/df_in[\"operator_id\"].nunique():.2%}') \n",
    "print(f'Всего {df_in_ne[\"user_id\"].nunique()} КЦ с неэффективными операторами') \n",
    "print(f'Что составляет {df_in_ne[\"user_id\"].nunique()/df_in[\"user_id\"].nunique():.2%}') \n"
   ]
  },
  {
   "cell_type": "markdown",
   "metadata": {
    "id": "4z4k3-upXfhQ"
   },
   "source": [
    "### Выводы по прупущенным вызовам\n",
    "\n",
    "Стандарт качества для принимающих call-центров — отсутствие пропущенных вызовов, но мы сделали допущение, что один раз человек по какой-либо причине может ошибиться. Порог неэффективности — более 1 пропущенного вызова.\n",
    "\n",
    "по нашим параметрам 91 оператор допускают более 1 пропущенного вызова, что составляет 31.82%.\n",
    "\n",
    "Всего 140 КЦ с неэффективными операторами, что составляет 91.50% от общего количества принимающих КЦ.\n",
    "\n"
   ]
  },
  {
   "cell_type": "markdown",
   "metadata": {
    "id": "Vc4rIwd_aIud"
   },
   "source": [
    "### Время ожидания"
   ]
  },
  {
   "cell_type": "code",
   "execution_count": 83,
   "metadata": {
    "colab": {
     "base_uri": "https://localhost:8080/",
     "height": 206
    },
    "id": "yX0h0x7Kub-n",
    "outputId": "b0073a77-4848-4388-f22e-c9f206adcf35"
   },
   "outputs": [
    {
     "data": {
      "text/html": [
       "<div>\n",
       "<style scoped>\n",
       "    .dataframe tbody tr th:only-of-type {\n",
       "        vertical-align: middle;\n",
       "    }\n",
       "\n",
       "    .dataframe tbody tr th {\n",
       "        vertical-align: top;\n",
       "    }\n",
       "\n",
       "    .dataframe thead th {\n",
       "        text-align: right;\n",
       "    }\n",
       "</style>\n",
       "<table border=\"1\" class=\"dataframe\">\n",
       "  <thead>\n",
       "    <tr style=\"text-align: right;\">\n",
       "      <th></th>\n",
       "      <th>user_id</th>\n",
       "      <th>date</th>\n",
       "      <th>internal</th>\n",
       "      <th>operator_id</th>\n",
       "      <th>is_missed_call</th>\n",
       "      <th>calls_count</th>\n",
       "      <th>call_duration</th>\n",
       "      <th>total_call_duration</th>\n",
       "      <th>wait_time</th>\n",
       "      <th>direction_in</th>\n",
       "      <th>direction_out</th>\n",
       "      <th>user_type</th>\n",
       "      <th>miss_count</th>\n",
       "    </tr>\n",
       "  </thead>\n",
       "  <tbody>\n",
       "    <tr>\n",
       "      <th>519</th>\n",
       "      <td>166391</td>\n",
       "      <td>2019-08-06</td>\n",
       "      <td>False</td>\n",
       "      <td>882476</td>\n",
       "      <td>False</td>\n",
       "      <td>1</td>\n",
       "      <td>175</td>\n",
       "      <td>186</td>\n",
       "      <td>11</td>\n",
       "      <td>1</td>\n",
       "      <td>0</td>\n",
       "      <td>in</td>\n",
       "      <td>0</td>\n",
       "    </tr>\n",
       "    <tr>\n",
       "      <th>520</th>\n",
       "      <td>166391</td>\n",
       "      <td>2019-08-06</td>\n",
       "      <td>True</td>\n",
       "      <td>-1000</td>\n",
       "      <td>True</td>\n",
       "      <td>3</td>\n",
       "      <td>0</td>\n",
       "      <td>163</td>\n",
       "      <td>163</td>\n",
       "      <td>3</td>\n",
       "      <td>0</td>\n",
       "      <td>in</td>\n",
       "      <td>3</td>\n",
       "    </tr>\n",
       "    <tr>\n",
       "      <th>521</th>\n",
       "      <td>166391</td>\n",
       "      <td>2019-08-07</td>\n",
       "      <td>True</td>\n",
       "      <td>882478</td>\n",
       "      <td>False</td>\n",
       "      <td>2</td>\n",
       "      <td>11</td>\n",
       "      <td>74</td>\n",
       "      <td>63</td>\n",
       "      <td>2</td>\n",
       "      <td>0</td>\n",
       "      <td>in</td>\n",
       "      <td>0</td>\n",
       "    </tr>\n",
       "    <tr>\n",
       "      <th>522</th>\n",
       "      <td>166391</td>\n",
       "      <td>2019-08-07</td>\n",
       "      <td>False</td>\n",
       "      <td>882478</td>\n",
       "      <td>False</td>\n",
       "      <td>1</td>\n",
       "      <td>57</td>\n",
       "      <td>70</td>\n",
       "      <td>13</td>\n",
       "      <td>1</td>\n",
       "      <td>0</td>\n",
       "      <td>in</td>\n",
       "      <td>0</td>\n",
       "    </tr>\n",
       "    <tr>\n",
       "      <th>523</th>\n",
       "      <td>166391</td>\n",
       "      <td>2019-08-07</td>\n",
       "      <td>True</td>\n",
       "      <td>882478</td>\n",
       "      <td>True</td>\n",
       "      <td>1</td>\n",
       "      <td>0</td>\n",
       "      <td>7</td>\n",
       "      <td>7</td>\n",
       "      <td>0</td>\n",
       "      <td>1</td>\n",
       "      <td>in</td>\n",
       "      <td>1</td>\n",
       "    </tr>\n",
       "  </tbody>\n",
       "</table>\n",
       "</div>"
      ],
      "text/plain": [
       "     user_id       date  internal  operator_id  is_missed_call  calls_count  \\\n",
       "519   166391 2019-08-06     False       882476           False            1   \n",
       "520   166391 2019-08-06      True        -1000            True            3   \n",
       "521   166391 2019-08-07      True       882478           False            2   \n",
       "522   166391 2019-08-07     False       882478           False            1   \n",
       "523   166391 2019-08-07      True       882478            True            1   \n",
       "\n",
       "     call_duration  total_call_duration  wait_time  direction_in  \\\n",
       "519            175                  186         11             1   \n",
       "520              0                  163        163             3   \n",
       "521             11                   74         63             2   \n",
       "522             57                   70         13             1   \n",
       "523              0                    7          7             0   \n",
       "\n",
       "     direction_out user_type  miss_count  \n",
       "519              0        in           0  \n",
       "520              0        in           3  \n",
       "521              0        in           0  \n",
       "522              0        in           0  \n",
       "523              1        in           1  "
      ]
     },
     "execution_count": 83,
     "metadata": {},
     "output_type": "execute_result"
    }
   ],
   "source": [
    "df_in[:5]"
   ]
  },
  {
   "cell_type": "code",
   "execution_count": 84,
   "metadata": {
    "colab": {
     "base_uri": "https://localhost:8080/"
    },
    "id": "OgzQGEgKvyYh",
    "outputId": "bb59c730-a2fc-4d4a-cf03-892e0f039d16"
   },
   "outputs": [
    {
     "data": {
      "text/plain": [
       "count    8184.000000\n",
       "mean       17.427249\n",
       "std        15.448408\n",
       "min         0.000000\n",
       "25%         7.000000\n",
       "50%        14.000000\n",
       "75%        24.141667\n",
       "max       294.000000\n",
       "Name: wait_mean, dtype: float64"
      ]
     },
     "execution_count": 84,
     "metadata": {},
     "output_type": "execute_result"
    }
   ],
   "source": [
    "# добавим столбец со средним временем ожидания\n",
    "\n",
    "df_in['wait_mean'] = df_in['wait_time'] / df_in['calls_count']\n",
    "\n",
    "# сразу же статистические параметры\n",
    "\n",
    "df_in['wait_mean'].describe()"
   ]
  },
  {
   "cell_type": "markdown",
   "metadata": {},
   "source": [
    "<div class=\"alert alert-success\">\n",
    "    \n",
    "**Комментарий ревьюера**\n",
    "\n",
    "**#ок**\n",
    "\n",
    "Да, вот приходится делить, это можно было сразу сделать, суммарное время ожидания нам собственно не нужно\n",
    "\n",
    "</div>"
   ]
  },
  {
   "cell_type": "code",
   "execution_count": 85,
   "metadata": {
    "colab": {
     "base_uri": "https://localhost:8080/",
     "height": 283
    },
    "id": "4HdRjaZXwWmS",
    "outputId": "bcddd3f2-4fbd-49f7-ba3b-618f831c1af7"
   },
   "outputs": [
    {
     "data": {
      "image/png": "[encoded data removed]",
      "text/plain": [
       "<Figure size 432x288 with 1 Axes>"
      ]
     },
     "metadata": {
      "needs_background": "light"
     },
     "output_type": "display_data"
    }
   ],
   "source": [
    "# простой график\n",
    "\n",
    "sns.histplot(df_in['wait_mean'])\n",
    "plt.show()"
   ]
  },
  {
   "cell_type": "code",
   "execution_count": 86,
   "metadata": {
    "colab": {
     "base_uri": "https://localhost:8080/",
     "height": 513
    },
    "id": "Y39NL3Aoweog",
    "outputId": "c4f48c2e-091e-41b5-bb29-c480b70ef9ef"
   },
   "outputs": [
    {
     "data": {
      "image/png": "[encoded data removed]",
      "text/plain": [
       "<Figure size 720x576 with 1 Axes>"
      ]
     },
     "metadata": {},
     "output_type": "display_data"
    }
   ],
   "source": [
    "# все, что после 60 секунд, нам неинтересно, потому что долго и\n",
    "# носит характер выбросов\n",
    "\n",
    "sns.set_style(\"darkgrid\")\n",
    "plt.figure(figsize=(10,8))\n",
    "plt.title('Распределение времени ожидания клиентов КЦ')\n",
    "sns.histplot(df_in['wait_mean'], binwidth=2)\n",
    "plt.axvline(x=12,color='red')\n",
    "plt.axvline(x=30,color='red')\n",
    "plt.xlabel('Среднее время ожидания')\n",
    "plt.ylabel('Количество вызовов')\n",
    "plt.xlim([0,60])\n",
    "plt.show()"
   ]
  },
  {
   "cell_type": "markdown",
   "metadata": {
    "id": "8M5nNjHJx6s_"
   },
   "source": [
    "Количество клиентов, готовых ждать, растет до времени ожидания == 12 секунд. Далее это количество уменшается вместе с терпением клиентов до 30 секунд. На 30 секундах количество разово возрастает и далее распределение сходит на нет, остаются лишь аномальные значения > 60.\n",
    "\n",
    "Делаем вывод, что клиент готов терпеть до 30 секунд (в идеале до 12, но это очень маленький срок по жизненной логике). Желательно ответить в этот промежуток времени. Это и будет порогом эффективности — обработать звонок за 30 секунд."
   ]
  },
  {
   "cell_type": "markdown",
   "metadata": {},
   "source": [
    "<div class=\"alert alert-danger\">\n",
    "    \n",
    "**Комментарий ревьюера**\n",
    "\n",
    "**#ошибка**\n",
    "\n",
    "Не совсем поняла логику, поясни. Где ты видишь, что клиент готов ждать? Это оператор его заставляет. А сколько клиентов повесилдо трубку до 30 сек? Как это посмотреть? Клиенты, которые не готовы ждать не попали в твой график, а нужно смотреть именно их.\n",
    "    \n",
    "</div>"
   ]
  },
  {
   "cell_type": "markdown",
   "metadata": {},
   "source": [
    "<div class=\"alert alert-info\">\n",
    "\n",
    "<b>Студент: </b> Вера, понял. Логика высосана из пальца, спорить не буду. Спасибо, дала наводку — нам нужны клиенты с ожиданием, но разговор с которыми так и не состоялся, правильно понял мысль?\n",
    "\n",
    "</div>"
   ]
  },
  {
   "cell_type": "markdown",
   "metadata": {},
   "source": [
    "<div class=\"alert alert-success\">\n",
    "    \n",
    "**Комментарий ревьюера - 2**\n",
    "\n",
    "**#ок**\n",
    "\n",
    "Да, все верно\n",
    "\n",
    "</div>"
   ]
  },
  {
   "cell_type": "code",
   "execution_count": 87,
   "metadata": {},
   "outputs": [
    {
     "data": {
      "text/html": [
       "<div>\n",
       "<style scoped>\n",
       "    .dataframe tbody tr th:only-of-type {\n",
       "        vertical-align: middle;\n",
       "    }\n",
       "\n",
       "    .dataframe tbody tr th {\n",
       "        vertical-align: top;\n",
       "    }\n",
       "\n",
       "    .dataframe thead th {\n",
       "        text-align: right;\n",
       "    }\n",
       "</style>\n",
       "<table border=\"1\" class=\"dataframe\">\n",
       "  <thead>\n",
       "    <tr style=\"text-align: right;\">\n",
       "      <th></th>\n",
       "      <th>user_id</th>\n",
       "      <th>date</th>\n",
       "      <th>internal</th>\n",
       "      <th>operator_id</th>\n",
       "      <th>is_missed_call</th>\n",
       "      <th>calls_count</th>\n",
       "      <th>call_duration</th>\n",
       "      <th>total_call_duration</th>\n",
       "      <th>wait_time</th>\n",
       "      <th>direction_in</th>\n",
       "      <th>direction_out</th>\n",
       "      <th>user_type</th>\n",
       "      <th>miss_count</th>\n",
       "      <th>wait_mean</th>\n",
       "    </tr>\n",
       "  </thead>\n",
       "  <tbody>\n",
       "    <tr>\n",
       "      <th>520</th>\n",
       "      <td>166391</td>\n",
       "      <td>2019-08-06</td>\n",
       "      <td>True</td>\n",
       "      <td>-1000</td>\n",
       "      <td>True</td>\n",
       "      <td>3</td>\n",
       "      <td>0</td>\n",
       "      <td>163</td>\n",
       "      <td>163</td>\n",
       "      <td>3</td>\n",
       "      <td>0</td>\n",
       "      <td>in</td>\n",
       "      <td>3</td>\n",
       "      <td>54.333333</td>\n",
       "    </tr>\n",
       "    <tr>\n",
       "      <th>523</th>\n",
       "      <td>166391</td>\n",
       "      <td>2019-08-07</td>\n",
       "      <td>True</td>\n",
       "      <td>882478</td>\n",
       "      <td>True</td>\n",
       "      <td>1</td>\n",
       "      <td>0</td>\n",
       "      <td>7</td>\n",
       "      <td>7</td>\n",
       "      <td>0</td>\n",
       "      <td>1</td>\n",
       "      <td>in</td>\n",
       "      <td>1</td>\n",
       "      <td>7.000000</td>\n",
       "    </tr>\n",
       "    <tr>\n",
       "      <th>524</th>\n",
       "      <td>166391</td>\n",
       "      <td>2019-08-07</td>\n",
       "      <td>False</td>\n",
       "      <td>-1000</td>\n",
       "      <td>True</td>\n",
       "      <td>2</td>\n",
       "      <td>0</td>\n",
       "      <td>71</td>\n",
       "      <td>71</td>\n",
       "      <td>2</td>\n",
       "      <td>0</td>\n",
       "      <td>in</td>\n",
       "      <td>2</td>\n",
       "      <td>35.500000</td>\n",
       "    </tr>\n",
       "    <tr>\n",
       "      <th>525</th>\n",
       "      <td>166391</td>\n",
       "      <td>2019-08-08</td>\n",
       "      <td>False</td>\n",
       "      <td>-1000</td>\n",
       "      <td>True</td>\n",
       "      <td>1</td>\n",
       "      <td>0</td>\n",
       "      <td>20</td>\n",
       "      <td>20</td>\n",
       "      <td>1</td>\n",
       "      <td>0</td>\n",
       "      <td>in</td>\n",
       "      <td>1</td>\n",
       "      <td>20.000000</td>\n",
       "    </tr>\n",
       "    <tr>\n",
       "      <th>526</th>\n",
       "      <td>166391</td>\n",
       "      <td>2019-08-09</td>\n",
       "      <td>False</td>\n",
       "      <td>-1000</td>\n",
       "      <td>True</td>\n",
       "      <td>1</td>\n",
       "      <td>0</td>\n",
       "      <td>33</td>\n",
       "      <td>33</td>\n",
       "      <td>1</td>\n",
       "      <td>0</td>\n",
       "      <td>in</td>\n",
       "      <td>1</td>\n",
       "      <td>33.000000</td>\n",
       "    </tr>\n",
       "    <tr>\n",
       "      <th>...</th>\n",
       "      <td>...</td>\n",
       "      <td>...</td>\n",
       "      <td>...</td>\n",
       "      <td>...</td>\n",
       "      <td>...</td>\n",
       "      <td>...</td>\n",
       "      <td>...</td>\n",
       "      <td>...</td>\n",
       "      <td>...</td>\n",
       "      <td>...</td>\n",
       "      <td>...</td>\n",
       "      <td>...</td>\n",
       "      <td>...</td>\n",
       "      <td>...</td>\n",
       "    </tr>\n",
       "    <tr>\n",
       "      <th>48014</th>\n",
       "      <td>168598</td>\n",
       "      <td>2019-11-14</td>\n",
       "      <td>False</td>\n",
       "      <td>-1000</td>\n",
       "      <td>True</td>\n",
       "      <td>3</td>\n",
       "      <td>0</td>\n",
       "      <td>33</td>\n",
       "      <td>33</td>\n",
       "      <td>3</td>\n",
       "      <td>0</td>\n",
       "      <td>in</td>\n",
       "      <td>3</td>\n",
       "      <td>11.000000</td>\n",
       "    </tr>\n",
       "    <tr>\n",
       "      <th>48015</th>\n",
       "      <td>168598</td>\n",
       "      <td>2019-11-17</td>\n",
       "      <td>False</td>\n",
       "      <td>-1000</td>\n",
       "      <td>True</td>\n",
       "      <td>3</td>\n",
       "      <td>0</td>\n",
       "      <td>46</td>\n",
       "      <td>46</td>\n",
       "      <td>3</td>\n",
       "      <td>0</td>\n",
       "      <td>in</td>\n",
       "      <td>3</td>\n",
       "      <td>15.333333</td>\n",
       "    </tr>\n",
       "    <tr>\n",
       "      <th>48016</th>\n",
       "      <td>168598</td>\n",
       "      <td>2019-11-18</td>\n",
       "      <td>False</td>\n",
       "      <td>-1000</td>\n",
       "      <td>True</td>\n",
       "      <td>9</td>\n",
       "      <td>0</td>\n",
       "      <td>112</td>\n",
       "      <td>112</td>\n",
       "      <td>9</td>\n",
       "      <td>0</td>\n",
       "      <td>in</td>\n",
       "      <td>9</td>\n",
       "      <td>12.444444</td>\n",
       "    </tr>\n",
       "    <tr>\n",
       "      <th>48017</th>\n",
       "      <td>168598</td>\n",
       "      <td>2019-11-19</td>\n",
       "      <td>False</td>\n",
       "      <td>-1000</td>\n",
       "      <td>True</td>\n",
       "      <td>8</td>\n",
       "      <td>0</td>\n",
       "      <td>79</td>\n",
       "      <td>79</td>\n",
       "      <td>8</td>\n",
       "      <td>0</td>\n",
       "      <td>in</td>\n",
       "      <td>8</td>\n",
       "      <td>9.875000</td>\n",
       "    </tr>\n",
       "    <tr>\n",
       "      <th>48022</th>\n",
       "      <td>168598</td>\n",
       "      <td>2019-11-25</td>\n",
       "      <td>False</td>\n",
       "      <td>-1000</td>\n",
       "      <td>True</td>\n",
       "      <td>1</td>\n",
       "      <td>0</td>\n",
       "      <td>18</td>\n",
       "      <td>18</td>\n",
       "      <td>1</td>\n",
       "      <td>0</td>\n",
       "      <td>in</td>\n",
       "      <td>1</td>\n",
       "      <td>18.000000</td>\n",
       "    </tr>\n",
       "  </tbody>\n",
       "</table>\n",
       "<p>3398 rows × 14 columns</p>\n",
       "</div>"
      ],
      "text/plain": [
       "       user_id       date  internal  operator_id  is_missed_call  calls_count  \\\n",
       "520     166391 2019-08-06      True        -1000            True            3   \n",
       "523     166391 2019-08-07      True       882478            True            1   \n",
       "524     166391 2019-08-07     False        -1000            True            2   \n",
       "525     166391 2019-08-08     False        -1000            True            1   \n",
       "526     166391 2019-08-09     False        -1000            True            1   \n",
       "...        ...        ...       ...          ...             ...          ...   \n",
       "48014   168598 2019-11-14     False        -1000            True            3   \n",
       "48015   168598 2019-11-17     False        -1000            True            3   \n",
       "48016   168598 2019-11-18     False        -1000            True            9   \n",
       "48017   168598 2019-11-19     False        -1000            True            8   \n",
       "48022   168598 2019-11-25     False        -1000            True            1   \n",
       "\n",
       "       call_duration  total_call_duration  wait_time  direction_in  \\\n",
       "520                0                  163        163             3   \n",
       "523                0                    7          7             0   \n",
       "524                0                   71         71             2   \n",
       "525                0                   20         20             1   \n",
       "526                0                   33         33             1   \n",
       "...              ...                  ...        ...           ...   \n",
       "48014              0                   33         33             3   \n",
       "48015              0                   46         46             3   \n",
       "48016              0                  112        112             9   \n",
       "48017              0                   79         79             8   \n",
       "48022              0                   18         18             1   \n",
       "\n",
       "       direction_out user_type  miss_count  wait_mean  \n",
       "520                0        in           3  54.333333  \n",
       "523                1        in           1   7.000000  \n",
       "524                0        in           2  35.500000  \n",
       "525                0        in           1  20.000000  \n",
       "526                0        in           1  33.000000  \n",
       "...              ...       ...         ...        ...  \n",
       "48014              0        in           3  11.000000  \n",
       "48015              0        in           3  15.333333  \n",
       "48016              0        in           9  12.444444  \n",
       "48017              0        in           8   9.875000  \n",
       "48022              0        in           1  18.000000  \n",
       "\n",
       "[3398 rows x 14 columns]"
      ]
     },
     "execution_count": 87,
     "metadata": {},
     "output_type": "execute_result"
    }
   ],
   "source": [
    "# фильтруем пользователей, которые не дозвонились, но \n",
    "# имеют время ожидания\n",
    "\n",
    "wait_without_talk = df_in.query('call_duration == 0 and wait_time > 0')\n",
    "wait_without_talk"
   ]
  },
  {
   "cell_type": "code",
   "execution_count": 88,
   "metadata": {},
   "outputs": [
    {
     "data": {
      "image/png": "[encoded data removed]",
      "text/plain": [
       "<Figure size 720x576 with 1 Axes>"
      ]
     },
     "metadata": {},
     "output_type": "display_data"
    }
   ],
   "source": [
    "# строим график\n",
    "\n",
    "sns.set_style(\"darkgrid\")\n",
    "plt.figure(figsize=(10,8))\n",
    "plt.title('Распределение времени ожидания клиентов, разговор с которыми не состоялся')\n",
    "sns.histplot(wait_without_talk['wait_mean'], binwidth=2)\n",
    "plt.axvline(x=4,color='red')\n",
    "plt.axvline(x=32,color='red')\n",
    "plt.xlabel('Среднее время ожидания')\n",
    "plt.ylabel('Количество вызовов')\n",
    "plt.xlim([0,60])\n",
    "plt.show()"
   ]
  },
  {
   "cell_type": "markdown",
   "metadata": {},
   "source": [
    "Сразу видно два порога — 4 секунды и меньший 32 секунды. Первый — люди совсем не хотят ждать и кладут трубку. Второй — 32 секунды, после этого времени количество вызовов падает, люди начинают класть трубку.\n",
    "\n",
    "Значит допустимый порог — 32 секунды."
   ]
  },
  {
   "cell_type": "markdown",
   "metadata": {
    "id": "PQQLizNj4D4y"
   },
   "source": [
    "Фильтруем данные по порогу среднего времени ожидания."
   ]
  },
  {
   "cell_type": "markdown",
   "metadata": {},
   "source": [
    "<div class=\"alert alert-info\">\n",
    "\n",
    "<b>Студент: </b> Вера, спасибо!!! Реально голову ломал и придумывал то, чего нет.\n",
    "\n",
    "</div>"
   ]
  },
  {
   "cell_type": "markdown",
   "metadata": {},
   "source": [
    "<div class=\"alert alert-success\">\n",
    "    \n",
    "**Комментарий ревьюера - 2**\n",
    "\n",
    "**#ок**\n",
    "\n",
    "👍\n",
    "\n",
    "</div>"
   ]
  },
  {
   "cell_type": "code",
   "execution_count": 89,
   "metadata": {
    "colab": {
     "base_uri": "https://localhost:8080/",
     "height": 430
    },
    "id": "QojvaEVW14vI",
    "outputId": "84c7cd65-fd9b-4e2e-d9fc-151a4fc91dc6"
   },
   "outputs": [
    {
     "data": {
      "text/html": [
       "<div>\n",
       "<style scoped>\n",
       "    .dataframe tbody tr th:only-of-type {\n",
       "        vertical-align: middle;\n",
       "    }\n",
       "\n",
       "    .dataframe tbody tr th {\n",
       "        vertical-align: top;\n",
       "    }\n",
       "\n",
       "    .dataframe thead th {\n",
       "        text-align: right;\n",
       "    }\n",
       "</style>\n",
       "<table border=\"1\" class=\"dataframe\">\n",
       "  <thead>\n",
       "    <tr style=\"text-align: right;\">\n",
       "      <th></th>\n",
       "      <th>user_id</th>\n",
       "      <th>date</th>\n",
       "      <th>internal</th>\n",
       "      <th>operator_id</th>\n",
       "      <th>is_missed_call</th>\n",
       "      <th>calls_count</th>\n",
       "      <th>call_duration</th>\n",
       "      <th>total_call_duration</th>\n",
       "      <th>wait_time</th>\n",
       "      <th>direction_in</th>\n",
       "      <th>direction_out</th>\n",
       "      <th>user_type</th>\n",
       "      <th>miss_count</th>\n",
       "      <th>wait_mean</th>\n",
       "    </tr>\n",
       "  </thead>\n",
       "  <tbody>\n",
       "    <tr>\n",
       "      <th>520</th>\n",
       "      <td>166391</td>\n",
       "      <td>2019-08-06</td>\n",
       "      <td>True</td>\n",
       "      <td>-1000</td>\n",
       "      <td>True</td>\n",
       "      <td>3</td>\n",
       "      <td>0</td>\n",
       "      <td>163</td>\n",
       "      <td>163</td>\n",
       "      <td>3</td>\n",
       "      <td>0</td>\n",
       "      <td>in</td>\n",
       "      <td>3</td>\n",
       "      <td>54.333333</td>\n",
       "    </tr>\n",
       "    <tr>\n",
       "      <th>524</th>\n",
       "      <td>166391</td>\n",
       "      <td>2019-08-07</td>\n",
       "      <td>False</td>\n",
       "      <td>-1000</td>\n",
       "      <td>True</td>\n",
       "      <td>2</td>\n",
       "      <td>0</td>\n",
       "      <td>71</td>\n",
       "      <td>71</td>\n",
       "      <td>2</td>\n",
       "      <td>0</td>\n",
       "      <td>in</td>\n",
       "      <td>2</td>\n",
       "      <td>35.500000</td>\n",
       "    </tr>\n",
       "    <tr>\n",
       "      <th>526</th>\n",
       "      <td>166391</td>\n",
       "      <td>2019-08-09</td>\n",
       "      <td>False</td>\n",
       "      <td>-1000</td>\n",
       "      <td>True</td>\n",
       "      <td>1</td>\n",
       "      <td>0</td>\n",
       "      <td>33</td>\n",
       "      <td>33</td>\n",
       "      <td>1</td>\n",
       "      <td>0</td>\n",
       "      <td>in</td>\n",
       "      <td>1</td>\n",
       "      <td>33.000000</td>\n",
       "    </tr>\n",
       "    <tr>\n",
       "      <th>527</th>\n",
       "      <td>166391</td>\n",
       "      <td>2019-08-10</td>\n",
       "      <td>True</td>\n",
       "      <td>-1000</td>\n",
       "      <td>True</td>\n",
       "      <td>1</td>\n",
       "      <td>0</td>\n",
       "      <td>38</td>\n",
       "      <td>38</td>\n",
       "      <td>1</td>\n",
       "      <td>0</td>\n",
       "      <td>in</td>\n",
       "      <td>1</td>\n",
       "      <td>38.000000</td>\n",
       "    </tr>\n",
       "    <tr>\n",
       "      <th>528</th>\n",
       "      <td>166391</td>\n",
       "      <td>2019-08-15</td>\n",
       "      <td>True</td>\n",
       "      <td>-1000</td>\n",
       "      <td>True</td>\n",
       "      <td>2</td>\n",
       "      <td>0</td>\n",
       "      <td>77</td>\n",
       "      <td>77</td>\n",
       "      <td>2</td>\n",
       "      <td>0</td>\n",
       "      <td>in</td>\n",
       "      <td>2</td>\n",
       "      <td>38.500000</td>\n",
       "    </tr>\n",
       "  </tbody>\n",
       "</table>\n",
       "</div>"
      ],
      "text/plain": [
       "     user_id       date  internal  operator_id  is_missed_call  calls_count  \\\n",
       "520   166391 2019-08-06      True        -1000            True            3   \n",
       "524   166391 2019-08-07     False        -1000            True            2   \n",
       "526   166391 2019-08-09     False        -1000            True            1   \n",
       "527   166391 2019-08-10      True        -1000            True            1   \n",
       "528   166391 2019-08-15      True        -1000            True            2   \n",
       "\n",
       "     call_duration  total_call_duration  wait_time  direction_in  \\\n",
       "520              0                  163        163             3   \n",
       "524              0                   71         71             2   \n",
       "526              0                   33         33             1   \n",
       "527              0                   38         38             1   \n",
       "528              0                   77         77             2   \n",
       "\n",
       "     direction_out user_type  miss_count  wait_mean  \n",
       "520              0        in           3  54.333333  \n",
       "524              0        in           2  35.500000  \n",
       "526              0        in           1  33.000000  \n",
       "527              0        in           1  38.000000  \n",
       "528              0        in           2  38.500000  "
      ]
     },
     "metadata": {},
     "output_type": "display_data"
    },
    {
     "data": {
      "text/plain": [
       "'Всего 1030 таких записей'"
      ]
     },
     "metadata": {},
     "output_type": "display_data"
    },
    {
     "data": {
      "text/plain": [
       "'Всего 121 операторов, отвечающих более 32 секунд'"
      ]
     },
     "metadata": {},
     "output_type": "display_data"
    },
    {
     "data": {
      "text/plain": [
       "'Что составляет 42.31%'"
      ]
     },
     "metadata": {},
     "output_type": "display_data"
    },
    {
     "data": {
      "text/plain": [
       "'Всего 83 КЦ с такими операторами'"
      ]
     },
     "metadata": {},
     "output_type": "display_data"
    },
    {
     "data": {
      "text/plain": [
       "'Что составляет 54.25%'"
      ]
     },
     "metadata": {},
     "output_type": "display_data"
    }
   ],
   "source": [
    "df_wait_ne = df_in.query('wait_mean > 32')\n",
    "display(df_wait_ne.head())\n",
    "display(f'Всего {len(df_wait_ne)} таких записей')\n",
    "\n",
    "display(f'Всего {df_wait_ne[\"operator_id\"].nunique()} операторов, отвечающих более 32 секунд')\n",
    "display(f'Что составляет {df_wait_ne[\"operator_id\"].nunique()/df_in[\"operator_id\"].nunique():.2%}') \n",
    "\n",
    "display(f'Всего {df_wait_ne[\"user_id\"].nunique()} КЦ с такими операторами')\n",
    "display(f'Что составляет {df_wait_ne[\"user_id\"].nunique()/df_in[\"user_id\"].nunique():.2%}') \n",
    "\n"
   ]
  },
  {
   "cell_type": "code",
   "execution_count": 90,
   "metadata": {
    "id": "Xh04cE9v4ysl"
   },
   "outputs": [],
   "source": [
    "# неэффективных операторов запишем в список ne_operators_wait\n",
    "\n",
    "ne_operators_wait = df_wait_ne['operator_id'].unique().tolist()\n",
    "\n",
    "# клиентов, у которых эти операторы работают — в список ne_users_wait\n",
    "\n",
    "ne_users_wait = df_wait_ne['user_id'].unique().tolist()"
   ]
  },
  {
   "cell_type": "code",
   "execution_count": 91,
   "metadata": {
    "colab": {
     "base_uri": "https://localhost:8080/"
    },
    "id": "a9XSI4oEuHe5",
    "outputId": "55460e32-a912-4f86-e223-7fe769ca5b68"
   },
   "outputs": [
    {
     "name": "stdout",
     "output_type": "stream",
     "text": [
      "59 операторов попадают в оба списка\n"
     ]
    }
   ],
   "source": [
    "# насколько \"перекрываются\" неэффективные операторы из списка долгого ожидания и\n",
    "# операторы из списка прпоущенных вызовов\n",
    "\n",
    "print(f'{len(np.intersect1d(ne_operators_in, ne_operators_wait))} операторов попадают в оба списка')"
   ]
  },
  {
   "cell_type": "markdown",
   "metadata": {
    "id": "mBrHsGaNDpGF"
   },
   "source": [
    "### Вывод по неэффективным операторам КЦ, принимающих звонки:\n",
    "\n",
    "Для оценки неэффективности принмающих звонки КЦ использовали две метрики:\n",
    "1. Количество пропущенных вызовов\n",
    "2. Время ожидания клиентом оператора\n",
    "\n",
    "Для пропущенных вызовов выбран порог более одного пропущенного звонка.\n",
    "\n",
    "Для ожидания вызова установлена верхняя граница в 30 секунд, ожидание выше считаем признаокм неэффективной работы.\n",
    "\n",
    "В наших данных для КЦ, в основном принимающих звонки:\n",
    "\n",
    "- Всего 91 неэффективных операторов\n",
    "- Что составляет 31.82%\n",
    "- Всего 140 КЦ с неэффективными операторами\n",
    "- Что составляет 91.50%\n",
    "\n",
    "ID операторов сохранены в списке `ne_operators_in`.\n",
    "\n",
    "ID КЦ с такими операторами в списке `ne_users_in`.\n",
    "\n",
    "Данные по операторам, заставляющих клиентов ждать чуть больше:\n",
    "\n",
    "- Всего 130 операторов, отвечающих более 30 секунд\n",
    "- Что составляет 45.45%\n",
    "- Всего 94 КЦ с такими операторами\n",
    "- Что составляет 61.44%\n",
    "\n",
    "62 операторов попадают в оба списка неэффективности для принимающих КЦ.\n",
    "\n",
    "ID операторов сохранены в списке `ne_operators_wait`.\n",
    "\n",
    "ID КЦ с такими операторами в списке `ne_users_wait`."
   ]
  },
  {
   "cell_type": "markdown",
   "metadata": {
    "id": "Qq6pn-Vzzyhm"
   },
   "source": [
    "### Работа с КЦ, обзванивающих клиентов"
   ]
  },
  {
   "cell_type": "code",
   "execution_count": 92,
   "metadata": {
    "colab": {
     "base_uri": "https://localhost:8080/",
     "height": 206
    },
    "id": "_4oi7Kx_cTNz",
    "outputId": "93c38750-1d5c-450d-b9b2-dc7c59900511"
   },
   "outputs": [
    {
     "data": {
      "text/html": [
       "<div>\n",
       "<style scoped>\n",
       "    .dataframe tbody tr th:only-of-type {\n",
       "        vertical-align: middle;\n",
       "    }\n",
       "\n",
       "    .dataframe tbody tr th {\n",
       "        vertical-align: top;\n",
       "    }\n",
       "\n",
       "    .dataframe thead th {\n",
       "        text-align: right;\n",
       "    }\n",
       "</style>\n",
       "<table border=\"1\" class=\"dataframe\">\n",
       "  <thead>\n",
       "    <tr style=\"text-align: right;\">\n",
       "      <th></th>\n",
       "      <th>user_id</th>\n",
       "      <th>date</th>\n",
       "      <th>internal</th>\n",
       "      <th>operator_id</th>\n",
       "      <th>is_missed_call</th>\n",
       "      <th>calls_count</th>\n",
       "      <th>call_duration</th>\n",
       "      <th>total_call_duration</th>\n",
       "      <th>wait_time</th>\n",
       "      <th>direction_in</th>\n",
       "      <th>direction_out</th>\n",
       "      <th>user_type</th>\n",
       "    </tr>\n",
       "  </thead>\n",
       "  <tbody>\n",
       "    <tr>\n",
       "      <th>0</th>\n",
       "      <td>166377</td>\n",
       "      <td>2019-08-04</td>\n",
       "      <td>False</td>\n",
       "      <td>-1000</td>\n",
       "      <td>True</td>\n",
       "      <td>2</td>\n",
       "      <td>0</td>\n",
       "      <td>4</td>\n",
       "      <td>4</td>\n",
       "      <td>2</td>\n",
       "      <td>0</td>\n",
       "      <td>out</td>\n",
       "    </tr>\n",
       "    <tr>\n",
       "      <th>1</th>\n",
       "      <td>166377</td>\n",
       "      <td>2019-08-05</td>\n",
       "      <td>True</td>\n",
       "      <td>880022</td>\n",
       "      <td>True</td>\n",
       "      <td>3</td>\n",
       "      <td>0</td>\n",
       "      <td>5</td>\n",
       "      <td>5</td>\n",
       "      <td>0</td>\n",
       "      <td>3</td>\n",
       "      <td>out</td>\n",
       "    </tr>\n",
       "    <tr>\n",
       "      <th>2</th>\n",
       "      <td>166377</td>\n",
       "      <td>2019-08-05</td>\n",
       "      <td>True</td>\n",
       "      <td>880020</td>\n",
       "      <td>True</td>\n",
       "      <td>1</td>\n",
       "      <td>0</td>\n",
       "      <td>1</td>\n",
       "      <td>1</td>\n",
       "      <td>0</td>\n",
       "      <td>1</td>\n",
       "      <td>out</td>\n",
       "    </tr>\n",
       "    <tr>\n",
       "      <th>3</th>\n",
       "      <td>166377</td>\n",
       "      <td>2019-08-05</td>\n",
       "      <td>True</td>\n",
       "      <td>880020</td>\n",
       "      <td>False</td>\n",
       "      <td>1</td>\n",
       "      <td>10</td>\n",
       "      <td>18</td>\n",
       "      <td>8</td>\n",
       "      <td>0</td>\n",
       "      <td>1</td>\n",
       "      <td>out</td>\n",
       "    </tr>\n",
       "    <tr>\n",
       "      <th>4</th>\n",
       "      <td>166377</td>\n",
       "      <td>2019-08-05</td>\n",
       "      <td>False</td>\n",
       "      <td>880022</td>\n",
       "      <td>True</td>\n",
       "      <td>3</td>\n",
       "      <td>0</td>\n",
       "      <td>25</td>\n",
       "      <td>25</td>\n",
       "      <td>0</td>\n",
       "      <td>3</td>\n",
       "      <td>out</td>\n",
       "    </tr>\n",
       "  </tbody>\n",
       "</table>\n",
       "</div>"
      ],
      "text/plain": [
       "   user_id       date  internal  operator_id  is_missed_call  calls_count  \\\n",
       "0   166377 2019-08-04     False        -1000            True            2   \n",
       "1   166377 2019-08-05      True       880022            True            3   \n",
       "2   166377 2019-08-05      True       880020            True            1   \n",
       "3   166377 2019-08-05      True       880020           False            1   \n",
       "4   166377 2019-08-05     False       880022            True            3   \n",
       "\n",
       "   call_duration  total_call_duration  wait_time  direction_in  direction_out  \\\n",
       "0              0                    4          4             2              0   \n",
       "1              0                    5          5             0              3   \n",
       "2              0                    1          1             0              1   \n",
       "3             10                   18          8             0              1   \n",
       "4              0                   25         25             0              3   \n",
       "\n",
       "  user_type  \n",
       "0       out  \n",
       "1       out  \n",
       "2       out  \n",
       "3       out  \n",
       "4       out  "
      ]
     },
     "execution_count": 92,
     "metadata": {},
     "output_type": "execute_result"
    }
   ],
   "source": [
    "# фильтруем данные по типу КЦ и записываем обзванивающие КЦ в таблицу df_out\n",
    "\n",
    "df_out = df.query('user_type == \"out\"').copy()\n",
    "\n",
    "df_out.head()"
   ]
  },
  {
   "cell_type": "code",
   "execution_count": 93,
   "metadata": {
    "colab": {
     "base_uri": "https://localhost:8080/",
     "height": 71
    },
    "id": "8ICVNyOIc6qw",
    "outputId": "3a4dafd7-5287-4ff4-b7ee-9d75d3fc1d7a"
   },
   "outputs": [
    {
     "data": {
      "text/plain": [
       "'Всего 654 операторов в обзванивающих КЦ'"
      ]
     },
     "metadata": {},
     "output_type": "display_data"
    },
    {
     "name": "stdout",
     "output_type": "stream",
     "text": [
      "\n"
     ]
    },
    {
     "data": {
      "text/plain": [
       "'Всего 113 обзванивающих КЦ'"
      ]
     },
     "metadata": {},
     "output_type": "display_data"
    }
   ],
   "source": [
    "display(f'Всего {df_out[\"operator_id\"].nunique()} операторов в обзванивающих КЦ')\n",
    "print()\n",
    "display(f'Всего {df_out[\"user_id\"].nunique()} обзванивающих КЦ')"
   ]
  },
  {
   "cell_type": "markdown",
   "metadata": {
    "id": "DZ5hzZekdZvj"
   },
   "source": [
    "Для обзванивающих КЦ задан один контрольный параметр — количество исходящих вызовов"
   ]
  },
  {
   "cell_type": "code",
   "execution_count": 94,
   "metadata": {
    "colab": {
     "base_uri": "https://localhost:8080/",
     "height": 486
    },
    "id": "EnSIIcURdydF",
    "outputId": "f55f3a56-8c5a-4264-a5cc-5b5a02eaecae"
   },
   "outputs": [
    {
     "data": {
      "text/html": [
       "<div>\n",
       "<style scoped>\n",
       "    .dataframe tbody tr th:only-of-type {\n",
       "        vertical-align: middle;\n",
       "    }\n",
       "\n",
       "    .dataframe tbody tr th {\n",
       "        vertical-align: top;\n",
       "    }\n",
       "\n",
       "    .dataframe thead tr th {\n",
       "        text-align: left;\n",
       "    }\n",
       "\n",
       "    .dataframe thead tr:last-of-type th {\n",
       "        text-align: right;\n",
       "    }\n",
       "</style>\n",
       "<table border=\"1\" class=\"dataframe\">\n",
       "  <thead>\n",
       "    <tr>\n",
       "      <th></th>\n",
       "      <th></th>\n",
       "      <th>direction_out</th>\n",
       "      <th>total_call_duration</th>\n",
       "      <th>direction_in</th>\n",
       "    </tr>\n",
       "    <tr>\n",
       "      <th></th>\n",
       "      <th></th>\n",
       "      <th>sum</th>\n",
       "      <th>sum</th>\n",
       "      <th>sum</th>\n",
       "    </tr>\n",
       "    <tr>\n",
       "      <th>operator_id</th>\n",
       "      <th>date</th>\n",
       "      <th></th>\n",
       "      <th></th>\n",
       "      <th></th>\n",
       "    </tr>\n",
       "  </thead>\n",
       "  <tbody>\n",
       "    <tr>\n",
       "      <th rowspan=\"5\" valign=\"top\">-1000</th>\n",
       "      <th>2019-08-02</th>\n",
       "      <td>0</td>\n",
       "      <td>4</td>\n",
       "      <td>1</td>\n",
       "    </tr>\n",
       "    <tr>\n",
       "      <th>2019-08-03</th>\n",
       "      <td>0</td>\n",
       "      <td>16</td>\n",
       "      <td>2</td>\n",
       "    </tr>\n",
       "    <tr>\n",
       "      <th>2019-08-04</th>\n",
       "      <td>0</td>\n",
       "      <td>4</td>\n",
       "      <td>2</td>\n",
       "    </tr>\n",
       "    <tr>\n",
       "      <th>2019-08-05</th>\n",
       "      <td>0</td>\n",
       "      <td>49</td>\n",
       "      <td>7</td>\n",
       "    </tr>\n",
       "    <tr>\n",
       "      <th>2019-08-06</th>\n",
       "      <td>0</td>\n",
       "      <td>171</td>\n",
       "      <td>40</td>\n",
       "    </tr>\n",
       "    <tr>\n",
       "      <th>...</th>\n",
       "      <th>...</th>\n",
       "      <td>...</td>\n",
       "      <td>...</td>\n",
       "      <td>...</td>\n",
       "    </tr>\n",
       "    <tr>\n",
       "      <th rowspan=\"2\" valign=\"top\">972412</th>\n",
       "      <th>2019-11-27</th>\n",
       "      <td>26</td>\n",
       "      <td>2137</td>\n",
       "      <td>1</td>\n",
       "    </tr>\n",
       "    <tr>\n",
       "      <th>2019-11-28</th>\n",
       "      <td>34</td>\n",
       "      <td>2411</td>\n",
       "      <td>0</td>\n",
       "    </tr>\n",
       "    <tr>\n",
       "      <th rowspan=\"2\" valign=\"top\">972460</th>\n",
       "      <th>2019-11-27</th>\n",
       "      <td>11</td>\n",
       "      <td>291</td>\n",
       "      <td>1</td>\n",
       "    </tr>\n",
       "    <tr>\n",
       "      <th>2019-11-28</th>\n",
       "      <td>39</td>\n",
       "      <td>1547</td>\n",
       "      <td>0</td>\n",
       "    </tr>\n",
       "    <tr>\n",
       "      <th>973120</th>\n",
       "      <th>2019-11-27</th>\n",
       "      <td>3</td>\n",
       "      <td>25</td>\n",
       "      <td>0</td>\n",
       "    </tr>\n",
       "  </tbody>\n",
       "</table>\n",
       "<p>12465 rows × 3 columns</p>\n",
       "</div>"
      ],
      "text/plain": [
       "                       direction_out total_call_duration direction_in\n",
       "                                 sum                 sum          sum\n",
       "operator_id date                                                     \n",
       "-1000       2019-08-02             0                   4            1\n",
       "            2019-08-03             0                  16            2\n",
       "            2019-08-04             0                   4            2\n",
       "            2019-08-05             0                  49            7\n",
       "            2019-08-06             0                 171           40\n",
       "...                              ...                 ...          ...\n",
       " 972412     2019-11-27            26                2137            1\n",
       "            2019-11-28            34                2411            0\n",
       " 972460     2019-11-27            11                 291            1\n",
       "            2019-11-28            39                1547            0\n",
       " 973120     2019-11-27             3                  25            0\n",
       "\n",
       "[12465 rows x 3 columns]"
      ]
     },
     "execution_count": 94,
     "metadata": {},
     "output_type": "execute_result"
    }
   ],
   "source": [
    "# группируем данные по дню и оператору, считаем количество исходящих\n",
    "# звонков по каждому оператору за день\n",
    "\n",
    "operators_group = df_out.groupby(['operator_id','date'])\\\n",
    "          [['direction_out', 'total_call_duration', 'direction_in']].agg(['sum'])\n",
    "operators_group"
   ]
  },
  {
   "cell_type": "code",
   "execution_count": 95,
   "metadata": {
    "id": "eS6Ca82zC7g0"
   },
   "outputs": [],
   "source": [
    "# убираем мульти-индекс\n",
    "\n",
    "operators_group.columns = operators_group.columns.get_level_values(0)"
   ]
  },
  {
   "cell_type": "code",
   "execution_count": 96,
   "metadata": {
    "colab": {
     "base_uri": "https://localhost:8080/",
     "height": 455
    },
    "id": "XT7y3RRJDDY_",
    "outputId": "d97344a1-27ad-44cb-a20e-953afcd76702"
   },
   "outputs": [
    {
     "data": {
      "text/html": [
       "<div>\n",
       "<style scoped>\n",
       "    .dataframe tbody tr th:only-of-type {\n",
       "        vertical-align: middle;\n",
       "    }\n",
       "\n",
       "    .dataframe tbody tr th {\n",
       "        vertical-align: top;\n",
       "    }\n",
       "\n",
       "    .dataframe thead th {\n",
       "        text-align: right;\n",
       "    }\n",
       "</style>\n",
       "<table border=\"1\" class=\"dataframe\">\n",
       "  <thead>\n",
       "    <tr style=\"text-align: right;\">\n",
       "      <th></th>\n",
       "      <th></th>\n",
       "      <th>direction_out</th>\n",
       "      <th>total_call_duration</th>\n",
       "      <th>direction_in</th>\n",
       "    </tr>\n",
       "    <tr>\n",
       "      <th>operator_id</th>\n",
       "      <th>date</th>\n",
       "      <th></th>\n",
       "      <th></th>\n",
       "      <th></th>\n",
       "    </tr>\n",
       "  </thead>\n",
       "  <tbody>\n",
       "    <tr>\n",
       "      <th rowspan=\"5\" valign=\"top\">-1000</th>\n",
       "      <th>2019-08-02</th>\n",
       "      <td>0</td>\n",
       "      <td>4</td>\n",
       "      <td>1</td>\n",
       "    </tr>\n",
       "    <tr>\n",
       "      <th>2019-08-03</th>\n",
       "      <td>0</td>\n",
       "      <td>16</td>\n",
       "      <td>2</td>\n",
       "    </tr>\n",
       "    <tr>\n",
       "      <th>2019-08-04</th>\n",
       "      <td>0</td>\n",
       "      <td>4</td>\n",
       "      <td>2</td>\n",
       "    </tr>\n",
       "    <tr>\n",
       "      <th>2019-08-05</th>\n",
       "      <td>0</td>\n",
       "      <td>49</td>\n",
       "      <td>7</td>\n",
       "    </tr>\n",
       "    <tr>\n",
       "      <th>2019-08-06</th>\n",
       "      <td>0</td>\n",
       "      <td>171</td>\n",
       "      <td>40</td>\n",
       "    </tr>\n",
       "    <tr>\n",
       "      <th>...</th>\n",
       "      <th>...</th>\n",
       "      <td>...</td>\n",
       "      <td>...</td>\n",
       "      <td>...</td>\n",
       "    </tr>\n",
       "    <tr>\n",
       "      <th rowspan=\"2\" valign=\"top\">972412</th>\n",
       "      <th>2019-11-27</th>\n",
       "      <td>26</td>\n",
       "      <td>2137</td>\n",
       "      <td>1</td>\n",
       "    </tr>\n",
       "    <tr>\n",
       "      <th>2019-11-28</th>\n",
       "      <td>34</td>\n",
       "      <td>2411</td>\n",
       "      <td>0</td>\n",
       "    </tr>\n",
       "    <tr>\n",
       "      <th rowspan=\"2\" valign=\"top\">972460</th>\n",
       "      <th>2019-11-27</th>\n",
       "      <td>11</td>\n",
       "      <td>291</td>\n",
       "      <td>1</td>\n",
       "    </tr>\n",
       "    <tr>\n",
       "      <th>2019-11-28</th>\n",
       "      <td>39</td>\n",
       "      <td>1547</td>\n",
       "      <td>0</td>\n",
       "    </tr>\n",
       "    <tr>\n",
       "      <th>973120</th>\n",
       "      <th>2019-11-27</th>\n",
       "      <td>3</td>\n",
       "      <td>25</td>\n",
       "      <td>0</td>\n",
       "    </tr>\n",
       "  </tbody>\n",
       "</table>\n",
       "<p>12465 rows × 3 columns</p>\n",
       "</div>"
      ],
      "text/plain": [
       "                        direction_out  total_call_duration  direction_in\n",
       "operator_id date                                                        \n",
       "-1000       2019-08-02              0                    4             1\n",
       "            2019-08-03              0                   16             2\n",
       "            2019-08-04              0                    4             2\n",
       "            2019-08-05              0                   49             7\n",
       "            2019-08-06              0                  171            40\n",
       "...                               ...                  ...           ...\n",
       " 972412     2019-11-27             26                 2137             1\n",
       "            2019-11-28             34                 2411             0\n",
       " 972460     2019-11-27             11                  291             1\n",
       "            2019-11-28             39                 1547             0\n",
       " 973120     2019-11-27              3                   25             0\n",
       "\n",
       "[12465 rows x 3 columns]"
      ]
     },
     "execution_count": 96,
     "metadata": {},
     "output_type": "execute_result"
    }
   ],
   "source": [
    "operators_group"
   ]
  },
  {
   "cell_type": "code",
   "execution_count": 97,
   "metadata": {
    "id": "VGcaN_gYDZLV"
   },
   "outputs": [],
   "source": [
    "# считаем среднюю продолжительность разговора у оператора за день,\n",
    "# в знаменатель добавляем исходящие и входящие вызовы\n",
    "\n",
    "operators_group['mean_duration'] = operators_group['total_call_duration']/\\\n",
    "            (operators_group['direction_out'] + operators_group['direction_in'])"
   ]
  },
  {
   "cell_type": "code",
   "execution_count": 98,
   "metadata": {
    "colab": {
     "base_uri": "https://localhost:8080/",
     "height": 455
    },
    "id": "8UTs6EomEiCr",
    "outputId": "32266f81-b118-4a42-f441-e7ddd6cbdca6"
   },
   "outputs": [
    {
     "data": {
      "text/html": [
       "<div>\n",
       "<style scoped>\n",
       "    .dataframe tbody tr th:only-of-type {\n",
       "        vertical-align: middle;\n",
       "    }\n",
       "\n",
       "    .dataframe tbody tr th {\n",
       "        vertical-align: top;\n",
       "    }\n",
       "\n",
       "    .dataframe thead th {\n",
       "        text-align: right;\n",
       "    }\n",
       "</style>\n",
       "<table border=\"1\" class=\"dataframe\">\n",
       "  <thead>\n",
       "    <tr style=\"text-align: right;\">\n",
       "      <th></th>\n",
       "      <th></th>\n",
       "      <th>direction_out</th>\n",
       "      <th>total_call_duration</th>\n",
       "      <th>direction_in</th>\n",
       "      <th>mean_duration</th>\n",
       "    </tr>\n",
       "    <tr>\n",
       "      <th>operator_id</th>\n",
       "      <th>date</th>\n",
       "      <th></th>\n",
       "      <th></th>\n",
       "      <th></th>\n",
       "      <th></th>\n",
       "    </tr>\n",
       "  </thead>\n",
       "  <tbody>\n",
       "    <tr>\n",
       "      <th rowspan=\"5\" valign=\"top\">-1000</th>\n",
       "      <th>2019-08-02</th>\n",
       "      <td>0</td>\n",
       "      <td>4</td>\n",
       "      <td>1</td>\n",
       "      <td>4.000000</td>\n",
       "    </tr>\n",
       "    <tr>\n",
       "      <th>2019-08-03</th>\n",
       "      <td>0</td>\n",
       "      <td>16</td>\n",
       "      <td>2</td>\n",
       "      <td>8.000000</td>\n",
       "    </tr>\n",
       "    <tr>\n",
       "      <th>2019-08-04</th>\n",
       "      <td>0</td>\n",
       "      <td>4</td>\n",
       "      <td>2</td>\n",
       "      <td>2.000000</td>\n",
       "    </tr>\n",
       "    <tr>\n",
       "      <th>2019-08-05</th>\n",
       "      <td>0</td>\n",
       "      <td>49</td>\n",
       "      <td>7</td>\n",
       "      <td>7.000000</td>\n",
       "    </tr>\n",
       "    <tr>\n",
       "      <th>2019-08-06</th>\n",
       "      <td>0</td>\n",
       "      <td>171</td>\n",
       "      <td>40</td>\n",
       "      <td>4.275000</td>\n",
       "    </tr>\n",
       "    <tr>\n",
       "      <th>...</th>\n",
       "      <th>...</th>\n",
       "      <td>...</td>\n",
       "      <td>...</td>\n",
       "      <td>...</td>\n",
       "      <td>...</td>\n",
       "    </tr>\n",
       "    <tr>\n",
       "      <th rowspan=\"2\" valign=\"top\">972412</th>\n",
       "      <th>2019-11-27</th>\n",
       "      <td>26</td>\n",
       "      <td>2137</td>\n",
       "      <td>1</td>\n",
       "      <td>79.148148</td>\n",
       "    </tr>\n",
       "    <tr>\n",
       "      <th>2019-11-28</th>\n",
       "      <td>34</td>\n",
       "      <td>2411</td>\n",
       "      <td>0</td>\n",
       "      <td>70.911765</td>\n",
       "    </tr>\n",
       "    <tr>\n",
       "      <th rowspan=\"2\" valign=\"top\">972460</th>\n",
       "      <th>2019-11-27</th>\n",
       "      <td>11</td>\n",
       "      <td>291</td>\n",
       "      <td>1</td>\n",
       "      <td>24.250000</td>\n",
       "    </tr>\n",
       "    <tr>\n",
       "      <th>2019-11-28</th>\n",
       "      <td>39</td>\n",
       "      <td>1547</td>\n",
       "      <td>0</td>\n",
       "      <td>39.666667</td>\n",
       "    </tr>\n",
       "    <tr>\n",
       "      <th>973120</th>\n",
       "      <th>2019-11-27</th>\n",
       "      <td>3</td>\n",
       "      <td>25</td>\n",
       "      <td>0</td>\n",
       "      <td>8.333333</td>\n",
       "    </tr>\n",
       "  </tbody>\n",
       "</table>\n",
       "<p>12465 rows × 4 columns</p>\n",
       "</div>"
      ],
      "text/plain": [
       "                        direction_out  total_call_duration  direction_in  \\\n",
       "operator_id date                                                           \n",
       "-1000       2019-08-02              0                    4             1   \n",
       "            2019-08-03              0                   16             2   \n",
       "            2019-08-04              0                    4             2   \n",
       "            2019-08-05              0                   49             7   \n",
       "            2019-08-06              0                  171            40   \n",
       "...                               ...                  ...           ...   \n",
       " 972412     2019-11-27             26                 2137             1   \n",
       "            2019-11-28             34                 2411             0   \n",
       " 972460     2019-11-27             11                  291             1   \n",
       "            2019-11-28             39                 1547             0   \n",
       " 973120     2019-11-27              3                   25             0   \n",
       "\n",
       "                        mean_duration  \n",
       "operator_id date                       \n",
       "-1000       2019-08-02       4.000000  \n",
       "            2019-08-03       8.000000  \n",
       "            2019-08-04       2.000000  \n",
       "            2019-08-05       7.000000  \n",
       "            2019-08-06       4.275000  \n",
       "...                               ...  \n",
       " 972412     2019-11-27      79.148148  \n",
       "            2019-11-28      70.911765  \n",
       " 972460     2019-11-27      24.250000  \n",
       "            2019-11-28      39.666667  \n",
       " 973120     2019-11-27       8.333333  \n",
       "\n",
       "[12465 rows x 4 columns]"
      ]
     },
     "execution_count": 98,
     "metadata": {},
     "output_type": "execute_result"
    }
   ],
   "source": [
    "operators_group"
   ]
  },
  {
   "cell_type": "code",
   "execution_count": 99,
   "metadata": {
    "colab": {
     "base_uri": "https://localhost:8080/",
     "height": 404
    },
    "id": "_L6Vd2QCEm7C",
    "outputId": "eb7d4ef5-1b1c-44fe-8211-f52032c17213"
   },
   "outputs": [
    {
     "data": {
      "image/png": "[encoded data removed]",
      "text/plain": [
       "<Figure size 720x432 with 1 Axes>"
      ]
     },
     "metadata": {},
     "output_type": "display_data"
    }
   ],
   "source": [
    "# построим график распределения среднего кол-ва исходящих звонков\n",
    "plt.figure(figsize=(10,6))\n",
    "#plt.axvline(x=15,color='red')\n",
    "sns.histplot(operators_group['direction_out'], binwidth=5,kde=True)\n",
    "plt.xlim([0,150])\n",
    "plt.title('Среднее кол-во звонков')\n",
    "plt.xlabel('Кол-во звонков')\n",
    "plt.show()\n",
    "# sns.histplot(data=t, x=\"out_calls_mean\",binwidth=2,kde=True)"
   ]
  },
  {
   "cell_type": "markdown",
   "metadata": {
    "id": "3t0oBx1XJRuS"
   },
   "source": [
    "По этому распределению порог неэффективности неочевиден"
   ]
  },
  {
   "cell_type": "markdown",
   "metadata": {},
   "source": [
    "<div class=\"alert alert-danger\">\n",
    "    \n",
    "**Комментарий ревьюера**\n",
    "\n",
    "**#ошибка**\n",
    "\n",
    "А как должен выглядеть порог неэффективности по расперделению?\n",
    "\n",
    "</div>"
   ]
  },
  {
   "cell_type": "markdown",
   "metadata": {},
   "source": [
    "<div class=\"alert alert-info\">\n",
    "\n",
    "<b>Студент: </b> Ну какой-то резкий скачок, здесь я ничего не увидел, кроме кучи нолей. Поэтому график никакой информации не несет, к сожалению.\n",
    "</div>"
   ]
  },
  {
   "cell_type": "markdown",
   "metadata": {},
   "source": [
    "<div class=\"alert alert-success\">\n",
    "    \n",
    "**Комментарий ревьюера - 2**\n",
    "\n",
    "**#ок**\n",
    "\n",
    "Да, а значит его можно не делать. Не стоит в реальных проектах строить графики ради графиков. Если ты по графику не можешь написать 3-5 предложений каких-то существенных замечаний, то делать график не стоит\n",
    "\n",
    "</div>"
   ]
  },
  {
   "cell_type": "code",
   "execution_count": 100,
   "metadata": {
    "colab": {
     "base_uri": "https://localhost:8080/",
     "height": 431
    },
    "id": "ADsWcHx-FoNE",
    "outputId": "c1273a77-4471-46e5-cf20-d27aece55dd8"
   },
   "outputs": [
    {
     "data": {
      "image/png": "[encoded data removed]",
      "text/plain": [
       "<Figure size 720x432 with 1 Axes>"
      ]
     },
     "metadata": {},
     "output_type": "display_data"
    }
   ],
   "source": [
    "# построим график распределения средней продолжительности звонка\n",
    "\n",
    "plt.figure(figsize=(10,6))\n",
    "plt.axvline(x=40,color='red')\n",
    "plt.axvline(x=80,color='red')\n",
    "plt.axvline(x=100,color='red')\n",
    "sns.histplot(operators_group['mean_duration'], binwidth=5,kde=True)\n",
    "plt.xlim([0,300])\n",
    "plt.title('Средняя продолжительность звонка \\n')\n",
    "plt.xlabel('\\n Длина звонка')\n",
    "plt.ylabel(' ')\n",
    "plt.show()"
   ]
  },
  {
   "cell_type": "markdown",
   "metadata": {
    "id": "DOAdXzadJe-7"
   },
   "source": [
    "Частота растет к значению продолжительности разговора 49 сек., потом идет относительное плато с двумя пиками на 50 и 60, далее резкий спад на 80,  угасание до 100 и второй резкий спад на 100, после этого плавное угасание до конца"
   ]
  },
  {
   "cell_type": "code",
   "execution_count": 101,
   "metadata": {
    "colab": {
     "base_uri": "https://localhost:8080/",
     "height": 431
    },
    "id": "LwXocrzVHlTX",
    "outputId": "3ec2567d-f0a8-4229-dd8e-a30d2a580548"
   },
   "outputs": [
    {
     "data": {
      "image/png": "[encoded data removed]",
      "text/plain": [
       "<Figure size 720x432 with 1 Axes>"
      ]
     },
     "metadata": {},
     "output_type": "display_data"
    }
   ],
   "source": [
    "# построим график распределения общей продолжительности звонков за день\n",
    "\n",
    "plt.figure(figsize=(10,6))\n",
    "'''plt.axvline(x=40,color='red')\n",
    "plt.axvline(x=80,color='red')'''\n",
    "sns.histplot(operators_group['total_call_duration'], binwidth=5,kde=True)\n",
    "plt.xlim([0,2150])\n",
    "plt.title('Общая продолжительность звонка \\n')\n",
    "plt.xlabel('\\n Продолжительность звонков за день')\n",
    "plt.ylabel(' ')\n",
    "plt.show()"
   ]
  },
  {
   "cell_type": "code",
   "execution_count": 102,
   "metadata": {
    "colab": {
     "base_uri": "https://localhost:8080/"
    },
    "id": "57hvmUsDZavp",
    "outputId": "170ad8db-285e-4c0a-de09-ba023d0b5b13"
   },
   "outputs": [
    {
     "data": {
      "text/plain": [
       "mean       27.685519\n",
       "median     10.000000\n",
       "max       310.000000\n",
       "Name: direction_out, dtype: float64"
      ]
     },
     "execution_count": 102,
     "metadata": {},
     "output_type": "execute_result"
    }
   ],
   "source": [
    "operators_group.direction_out.agg(['mean','median','max'])"
   ]
  },
  {
   "cell_type": "code",
   "execution_count": 103,
   "metadata": {
    "colab": {
     "base_uri": "https://localhost:8080/"
    },
    "id": "mLRTXdtQYGiQ",
    "outputId": "a74a81e3-8441-4f8e-a2a5-9a8a285bb8a1"
   },
   "outputs": [
    {
     "data": {
      "text/plain": [
       "mean       2257.380826\n",
       "median     1184.000000\n",
       "max       16301.000000\n",
       "Name: total_call_duration, dtype: float64"
      ]
     },
     "execution_count": 103,
     "metadata": {},
     "output_type": "execute_result"
    }
   ],
   "source": [
    "operators_group.total_call_duration.agg(['mean','median','max'])"
   ]
  },
  {
   "cell_type": "markdown",
   "metadata": {},
   "source": [
    "<div class=\"alert alert-success\">\n",
    "    \n",
    "**Комментарий ревьюера**\n",
    "\n",
    "**#ок**\n",
    "\n",
    "Вот эти расчеты понятны, но они вообще никак не связаны с распределением мы фактически должны разделить продолжительность рабочего дня на среднюю подолжительность разговоров (одно число)\n",
    "    \n",
    "Вот уже порог эффективного разговора - это лишнее.\n",
    "    \n",
    "Я бы сказала, что 1 дозвон в 10 минут - это очень мягко, но возможно\n",
    "</div>"
   ]
  },
  {
   "cell_type": "markdown",
   "metadata": {
    "id": "CFEpQRFDZOhL"
   },
   "source": [
    "За стандартный рабочий день оператор каждые 10 минут должен совершить дозвон и поговорить с абонентом. В час получится 6 звонков, за день 48 дозвонов.\n",
    "\n",
    "Порог эффективного разговора назначим 50 секунд и более. Получается, эффективный оператор должен совершить 48 звонков и/или поговорить минимум 2400 секунд. В условии оставим AND, выполнение одного из нормативов будем считать признаком эффективности. Отфильтруем неэффективных операторов.\n",
    "\n",
    "Сгруппируем `operators_group` по операторам и посчитаем среднее количество вызовов и среднюю продолжительность разговоров за день."
   ]
  },
  {
   "cell_type": "code",
   "execution_count": 104,
   "metadata": {
    "colab": {
     "base_uri": "https://localhost:8080/",
     "height": 486
    },
    "id": "zGeijtQ_afQK",
    "outputId": "6e977f5d-9c39-4ee3-d5af-da01cefc382d"
   },
   "outputs": [
    {
     "data": {
      "text/html": [
       "<div>\n",
       "<style scoped>\n",
       "    .dataframe tbody tr th:only-of-type {\n",
       "        vertical-align: middle;\n",
       "    }\n",
       "\n",
       "    .dataframe tbody tr th {\n",
       "        vertical-align: top;\n",
       "    }\n",
       "\n",
       "    .dataframe thead tr th {\n",
       "        text-align: left;\n",
       "    }\n",
       "\n",
       "    .dataframe thead tr:last-of-type th {\n",
       "        text-align: right;\n",
       "    }\n",
       "</style>\n",
       "<table border=\"1\" class=\"dataframe\">\n",
       "  <thead>\n",
       "    <tr>\n",
       "      <th></th>\n",
       "      <th>direction_out</th>\n",
       "      <th>total_call_duration</th>\n",
       "    </tr>\n",
       "    <tr>\n",
       "      <th></th>\n",
       "      <th>mean</th>\n",
       "      <th>mean</th>\n",
       "    </tr>\n",
       "    <tr>\n",
       "      <th>operator_id</th>\n",
       "      <th></th>\n",
       "      <th></th>\n",
       "    </tr>\n",
       "  </thead>\n",
       "  <tbody>\n",
       "    <tr>\n",
       "      <th>-1000</th>\n",
       "      <td>0.932203</td>\n",
       "      <td>2978.618644</td>\n",
       "    </tr>\n",
       "    <tr>\n",
       "      <th>879896</th>\n",
       "      <td>14.840000</td>\n",
       "      <td>1288.460000</td>\n",
       "    </tr>\n",
       "    <tr>\n",
       "      <th>879898</th>\n",
       "      <td>85.821429</td>\n",
       "      <td>4300.940476</td>\n",
       "    </tr>\n",
       "    <tr>\n",
       "      <th>880020</th>\n",
       "      <td>2.714286</td>\n",
       "      <td>180.357143</td>\n",
       "    </tr>\n",
       "    <tr>\n",
       "      <th>880022</th>\n",
       "      <td>4.500000</td>\n",
       "      <td>450.595238</td>\n",
       "    </tr>\n",
       "    <tr>\n",
       "      <th>...</th>\n",
       "      <td>...</td>\n",
       "      <td>...</td>\n",
       "    </tr>\n",
       "    <tr>\n",
       "      <th>972408</th>\n",
       "      <td>6.000000</td>\n",
       "      <td>245.000000</td>\n",
       "    </tr>\n",
       "    <tr>\n",
       "      <th>972410</th>\n",
       "      <td>38.500000</td>\n",
       "      <td>2637.500000</td>\n",
       "    </tr>\n",
       "    <tr>\n",
       "      <th>972412</th>\n",
       "      <td>30.000000</td>\n",
       "      <td>2274.000000</td>\n",
       "    </tr>\n",
       "    <tr>\n",
       "      <th>972460</th>\n",
       "      <td>25.000000</td>\n",
       "      <td>919.000000</td>\n",
       "    </tr>\n",
       "    <tr>\n",
       "      <th>973120</th>\n",
       "      <td>3.000000</td>\n",
       "      <td>25.000000</td>\n",
       "    </tr>\n",
       "  </tbody>\n",
       "</table>\n",
       "<p>654 rows × 2 columns</p>\n",
       "</div>"
      ],
      "text/plain": [
       "            direction_out total_call_duration\n",
       "                     mean                mean\n",
       "operator_id                                  \n",
       "-1000            0.932203         2978.618644\n",
       " 879896         14.840000         1288.460000\n",
       " 879898         85.821429         4300.940476\n",
       " 880020          2.714286          180.357143\n",
       " 880022          4.500000          450.595238\n",
       "...                   ...                 ...\n",
       " 972408          6.000000          245.000000\n",
       " 972410         38.500000         2637.500000\n",
       " 972412         30.000000         2274.000000\n",
       " 972460         25.000000          919.000000\n",
       " 973120          3.000000           25.000000\n",
       "\n",
       "[654 rows x 2 columns]"
      ]
     },
     "execution_count": 104,
     "metadata": {},
     "output_type": "execute_result"
    }
   ],
   "source": [
    "operators_group_all_days = operators_group.groupby('operator_id')\\\n",
    "          [['direction_out','total_call_duration']].agg(['mean'])\n",
    "operators_group_all_days"
   ]
  },
  {
   "cell_type": "code",
   "execution_count": 105,
   "metadata": {
    "id": "UIDzqcIlbOow"
   },
   "outputs": [],
   "source": [
    "# убираем мульти-индекс\n",
    "\n",
    "operators_group_all_days.columns =\\\n",
    "      ['_'.join(col).strip() for col in operators_group_all_days.columns.values]"
   ]
  },
  {
   "cell_type": "code",
   "execution_count": 106,
   "metadata": {
    "colab": {
     "base_uri": "https://localhost:8080/",
     "height": 455
    },
    "id": "cQg7PZaLcCnt",
    "outputId": "bb314887-c95e-437c-d63e-160d8b7a4492"
   },
   "outputs": [
    {
     "data": {
      "text/html": [
       "<div>\n",
       "<style scoped>\n",
       "    .dataframe tbody tr th:only-of-type {\n",
       "        vertical-align: middle;\n",
       "    }\n",
       "\n",
       "    .dataframe tbody tr th {\n",
       "        vertical-align: top;\n",
       "    }\n",
       "\n",
       "    .dataframe thead th {\n",
       "        text-align: right;\n",
       "    }\n",
       "</style>\n",
       "<table border=\"1\" class=\"dataframe\">\n",
       "  <thead>\n",
       "    <tr style=\"text-align: right;\">\n",
       "      <th></th>\n",
       "      <th>direction_out_mean</th>\n",
       "      <th>total_call_duration_mean</th>\n",
       "    </tr>\n",
       "    <tr>\n",
       "      <th>operator_id</th>\n",
       "      <th></th>\n",
       "      <th></th>\n",
       "    </tr>\n",
       "  </thead>\n",
       "  <tbody>\n",
       "    <tr>\n",
       "      <th>-1000</th>\n",
       "      <td>0.932203</td>\n",
       "      <td>2978.618644</td>\n",
       "    </tr>\n",
       "    <tr>\n",
       "      <th>879896</th>\n",
       "      <td>14.840000</td>\n",
       "      <td>1288.460000</td>\n",
       "    </tr>\n",
       "    <tr>\n",
       "      <th>879898</th>\n",
       "      <td>85.821429</td>\n",
       "      <td>4300.940476</td>\n",
       "    </tr>\n",
       "    <tr>\n",
       "      <th>880020</th>\n",
       "      <td>2.714286</td>\n",
       "      <td>180.357143</td>\n",
       "    </tr>\n",
       "    <tr>\n",
       "      <th>880022</th>\n",
       "      <td>4.500000</td>\n",
       "      <td>450.595238</td>\n",
       "    </tr>\n",
       "    <tr>\n",
       "      <th>...</th>\n",
       "      <td>...</td>\n",
       "      <td>...</td>\n",
       "    </tr>\n",
       "    <tr>\n",
       "      <th>972408</th>\n",
       "      <td>6.000000</td>\n",
       "      <td>245.000000</td>\n",
       "    </tr>\n",
       "    <tr>\n",
       "      <th>972410</th>\n",
       "      <td>38.500000</td>\n",
       "      <td>2637.500000</td>\n",
       "    </tr>\n",
       "    <tr>\n",
       "      <th>972412</th>\n",
       "      <td>30.000000</td>\n",
       "      <td>2274.000000</td>\n",
       "    </tr>\n",
       "    <tr>\n",
       "      <th>972460</th>\n",
       "      <td>25.000000</td>\n",
       "      <td>919.000000</td>\n",
       "    </tr>\n",
       "    <tr>\n",
       "      <th>973120</th>\n",
       "      <td>3.000000</td>\n",
       "      <td>25.000000</td>\n",
       "    </tr>\n",
       "  </tbody>\n",
       "</table>\n",
       "<p>654 rows × 2 columns</p>\n",
       "</div>"
      ],
      "text/plain": [
       "             direction_out_mean  total_call_duration_mean\n",
       "operator_id                                              \n",
       "-1000                  0.932203               2978.618644\n",
       " 879896               14.840000               1288.460000\n",
       " 879898               85.821429               4300.940476\n",
       " 880020                2.714286                180.357143\n",
       " 880022                4.500000                450.595238\n",
       "...                         ...                       ...\n",
       " 972408                6.000000                245.000000\n",
       " 972410               38.500000               2637.500000\n",
       " 972412               30.000000               2274.000000\n",
       " 972460               25.000000                919.000000\n",
       " 973120                3.000000                 25.000000\n",
       "\n",
       "[654 rows x 2 columns]"
      ]
     },
     "execution_count": 106,
     "metadata": {},
     "output_type": "execute_result"
    }
   ],
   "source": [
    "# проверяем\n",
    "\n",
    "operators_group_all_days"
   ]
  },
  {
   "cell_type": "code",
   "execution_count": 107,
   "metadata": {
    "colab": {
     "base_uri": "https://localhost:8080/",
     "height": 455
    },
    "id": "MBeLlgbPaJzH",
    "outputId": "5225d65d-379d-42c3-cdb3-fe65e413ce71"
   },
   "outputs": [
    {
     "data": {
      "text/html": [
       "<div>\n",
       "<style scoped>\n",
       "    .dataframe tbody tr th:only-of-type {\n",
       "        vertical-align: middle;\n",
       "    }\n",
       "\n",
       "    .dataframe tbody tr th {\n",
       "        vertical-align: top;\n",
       "    }\n",
       "\n",
       "    .dataframe thead th {\n",
       "        text-align: right;\n",
       "    }\n",
       "</style>\n",
       "<table border=\"1\" class=\"dataframe\">\n",
       "  <thead>\n",
       "    <tr style=\"text-align: right;\">\n",
       "      <th></th>\n",
       "      <th>direction_out_mean</th>\n",
       "      <th>total_call_duration_mean</th>\n",
       "    </tr>\n",
       "    <tr>\n",
       "      <th>operator_id</th>\n",
       "      <th></th>\n",
       "      <th></th>\n",
       "    </tr>\n",
       "  </thead>\n",
       "  <tbody>\n",
       "    <tr>\n",
       "      <th>879896</th>\n",
       "      <td>14.840000</td>\n",
       "      <td>1288.460000</td>\n",
       "    </tr>\n",
       "    <tr>\n",
       "      <th>880020</th>\n",
       "      <td>2.714286</td>\n",
       "      <td>180.357143</td>\n",
       "    </tr>\n",
       "    <tr>\n",
       "      <th>880022</th>\n",
       "      <td>4.500000</td>\n",
       "      <td>450.595238</td>\n",
       "    </tr>\n",
       "    <tr>\n",
       "      <th>880026</th>\n",
       "      <td>28.675325</td>\n",
       "      <td>2279.558442</td>\n",
       "    </tr>\n",
       "    <tr>\n",
       "      <th>880240</th>\n",
       "      <td>6.714286</td>\n",
       "      <td>630.857143</td>\n",
       "    </tr>\n",
       "    <tr>\n",
       "      <th>...</th>\n",
       "      <td>...</td>\n",
       "      <td>...</td>\n",
       "    </tr>\n",
       "    <tr>\n",
       "      <th>969386</th>\n",
       "      <td>10.800000</td>\n",
       "      <td>470.200000</td>\n",
       "    </tr>\n",
       "    <tr>\n",
       "      <th>972408</th>\n",
       "      <td>6.000000</td>\n",
       "      <td>245.000000</td>\n",
       "    </tr>\n",
       "    <tr>\n",
       "      <th>972412</th>\n",
       "      <td>30.000000</td>\n",
       "      <td>2274.000000</td>\n",
       "    </tr>\n",
       "    <tr>\n",
       "      <th>972460</th>\n",
       "      <td>25.000000</td>\n",
       "      <td>919.000000</td>\n",
       "    </tr>\n",
       "    <tr>\n",
       "      <th>973120</th>\n",
       "      <td>3.000000</td>\n",
       "      <td>25.000000</td>\n",
       "    </tr>\n",
       "  </tbody>\n",
       "</table>\n",
       "<p>455 rows × 2 columns</p>\n",
       "</div>"
      ],
      "text/plain": [
       "             direction_out_mean  total_call_duration_mean\n",
       "operator_id                                              \n",
       "879896                14.840000               1288.460000\n",
       "880020                 2.714286                180.357143\n",
       "880022                 4.500000                450.595238\n",
       "880026                28.675325               2279.558442\n",
       "880240                 6.714286                630.857143\n",
       "...                         ...                       ...\n",
       "969386                10.800000                470.200000\n",
       "972408                 6.000000                245.000000\n",
       "972412                30.000000               2274.000000\n",
       "972460                25.000000                919.000000\n",
       "973120                 3.000000                 25.000000\n",
       "\n",
       "[455 rows x 2 columns]"
      ]
     },
     "execution_count": 107,
     "metadata": {},
     "output_type": "execute_result"
    }
   ],
   "source": [
    "# фильтруем\n",
    "\n",
    "ne_operators_out_df = operators_group_all_days\\\n",
    " .query('direction_out_mean == 0 or (total_call_duration_mean < 2400 and direction_out_mean < 48)')\n",
    "ne_operators_out_df"
   ]
  },
  {
   "cell_type": "code",
   "execution_count": 108,
   "metadata": {
    "colab": {
     "base_uri": "https://localhost:8080/"
    },
    "id": "X1ASIunBclZi",
    "outputId": "4513ea07-05a2-49c9-9257-1e66b551a7c4"
   },
   "outputs": [
    {
     "data": {
      "text/plain": [
       "[879896, 880020, 880022, 880026, 880240]"
      ]
     },
     "execution_count": 108,
     "metadata": {},
     "output_type": "execute_result"
    }
   ],
   "source": [
    "# неэффективных операторов запишем в список ne_operators_out\n",
    "\n",
    "ne_operators_out = ne_operators_out_df.index.tolist()\n",
    "ne_operators_out[:5]"
   ]
  },
  {
   "cell_type": "code",
   "execution_count": 109,
   "metadata": {
    "colab": {
     "base_uri": "https://localhost:8080/"
    },
    "id": "xknX-rGRh9y8",
    "outputId": "110805e6-c70f-4e3d-b688-900cd8e6631c"
   },
   "outputs": [
    {
     "data": {
      "text/plain": [
       "455"
      ]
     },
     "execution_count": 109,
     "metadata": {},
     "output_type": "execute_result"
    }
   ],
   "source": [
    "len(ne_operators_out)"
   ]
  },
  {
   "cell_type": "code",
   "execution_count": 110,
   "metadata": {
    "colab": {
     "base_uri": "https://localhost:8080/"
    },
    "id": "D7jGsExodlNh",
    "outputId": "bade8e5f-2311-48b7-94ca-275f5a809b3e"
   },
   "outputs": [
    {
     "data": {
      "text/plain": [
       "[166377, 166405, 166406, 166407, 166485]"
      ]
     },
     "execution_count": 110,
     "metadata": {},
     "output_type": "execute_result"
    }
   ],
   "source": [
    "# КЦ с неэффективными операторами запишем в список ne_users_out\n",
    "\n",
    "ne_users_out = df_out.query('operator_id in @ne_operators_out')['user_id'].unique().tolist()\n",
    "ne_users_out[:5]"
   ]
  },
  {
   "cell_type": "code",
   "execution_count": 111,
   "metadata": {
    "colab": {
     "base_uri": "https://localhost:8080/",
     "height": 91
    },
    "id": "hv97gnjAg5bZ",
    "outputId": "6ffd82f0-9cc9-4f7b-d155-80e37d3278d5"
   },
   "outputs": [
    {
     "data": {
      "text/plain": [
       "'Всего 455 неэффективных операторов'"
      ]
     },
     "metadata": {},
     "output_type": "display_data"
    },
    {
     "data": {
      "text/plain": [
       "'Это 69.57% от всего количества операторов в обзванивающих КЦ'"
      ]
     },
     "metadata": {},
     "output_type": "display_data"
    },
    {
     "data": {
      "text/plain": [
       "'Всего 105 КЦ с неэффективными операторами'"
      ]
     },
     "metadata": {},
     "output_type": "display_data"
    },
    {
     "data": {
      "text/plain": [
       "'Это 92.92% от всего количества обзванивающих КЦ'"
      ]
     },
     "metadata": {},
     "output_type": "display_data"
    }
   ],
   "source": [
    "display(f'Всего {len(ne_operators_out)} неэффективных операторов')\n",
    "display(f'Это {len(ne_operators_out)/df_out[\"operator_id\"].nunique():.2%} от всего количества операторов в обзванивающих КЦ')\n",
    "\n",
    "display(f'Всего {len(ne_users_out)} КЦ с неэффективными операторами')\n",
    "display(f'Это {len(ne_users_out)/df_out[\"user_id\"].nunique():.2%} от всего количества обзванивающих КЦ')"
   ]
  },
  {
   "cell_type": "markdown",
   "metadata": {},
   "source": [
    "<div class=\"alert alert-success\">\n",
    "    \n",
    "**Комментарий ревьюера**\n",
    "\n",
    "**#ок**\n",
    "\n",
    "Да, с количеством звонков все плохо\n",
    "</div>"
   ]
  },
  {
   "cell_type": "markdown",
   "metadata": {
    "id": "2CWA3tO7xnMT"
   },
   "source": [
    "### Вывод по неэффективным операторам обзванивающих КЦ:\n",
    "\n",
    "В нашей выборке из обванивающих КЦ всего 654 операторов в 113 КЦ\n",
    "\n",
    "Для оценки неэффективности принмающих звонки КЦ использовали две метрики - количество исходящих вызовов и среднюю продолжительность вызовов за день.\n",
    "\n",
    "Был выбран порог неэффективности менее 48 звонков в день в среднем и средняя продолжительность разговоров менее 2400 секунд в день\n",
    "\n",
    "Итоги исследования:\n",
    "\n",
    "- всего 455 неэффективных операторов\n",
    "- это 69.57% от всего количества операторов в обзванивающих КЦ\n",
    "- всего 105 КЦ с неэффективными операторами\n",
    "- это 92.92% от всего количества обзванивающих КЦ\n",
    "\n",
    "ID операторов сохранены в списке `ne_operators_out`.\n",
    "\n",
    "ID КЦ с такими операторами в списке `ne_users_out`."
   ]
  },
  {
   "cell_type": "markdown",
   "metadata": {
    "id": "DcihR1APh2zQ"
   },
   "source": [
    "### Call-центры промежуточного типа"
   ]
  },
  {
   "cell_type": "code",
   "execution_count": 112,
   "metadata": {
    "colab": {
     "base_uri": "https://localhost:8080/",
     "height": 206
    },
    "id": "INcNehJNh_dQ",
    "outputId": "e770b6bd-7fa7-40a1-ffca-1f6e398eb7ab"
   },
   "outputs": [
    {
     "data": {
      "text/html": [
       "<div>\n",
       "<style scoped>\n",
       "    .dataframe tbody tr th:only-of-type {\n",
       "        vertical-align: middle;\n",
       "    }\n",
       "\n",
       "    .dataframe tbody tr th {\n",
       "        vertical-align: top;\n",
       "    }\n",
       "\n",
       "    .dataframe thead th {\n",
       "        text-align: right;\n",
       "    }\n",
       "</style>\n",
       "<table border=\"1\" class=\"dataframe\">\n",
       "  <thead>\n",
       "    <tr style=\"text-align: right;\">\n",
       "      <th></th>\n",
       "      <th>user_id</th>\n",
       "      <th>date</th>\n",
       "      <th>internal</th>\n",
       "      <th>operator_id</th>\n",
       "      <th>is_missed_call</th>\n",
       "      <th>calls_count</th>\n",
       "      <th>call_duration</th>\n",
       "      <th>total_call_duration</th>\n",
       "      <th>wait_time</th>\n",
       "      <th>direction_in</th>\n",
       "      <th>direction_out</th>\n",
       "      <th>user_type</th>\n",
       "    </tr>\n",
       "  </thead>\n",
       "  <tbody>\n",
       "    <tr>\n",
       "      <th>5958</th>\n",
       "      <td>166582</td>\n",
       "      <td>2019-08-12</td>\n",
       "      <td>False</td>\n",
       "      <td>885876</td>\n",
       "      <td>False</td>\n",
       "      <td>9</td>\n",
       "      <td>387</td>\n",
       "      <td>473</td>\n",
       "      <td>86</td>\n",
       "      <td>9</td>\n",
       "      <td>0</td>\n",
       "      <td>mid</td>\n",
       "    </tr>\n",
       "    <tr>\n",
       "      <th>5959</th>\n",
       "      <td>166582</td>\n",
       "      <td>2019-08-12</td>\n",
       "      <td>False</td>\n",
       "      <td>885890</td>\n",
       "      <td>True</td>\n",
       "      <td>113</td>\n",
       "      <td>0</td>\n",
       "      <td>3691</td>\n",
       "      <td>3691</td>\n",
       "      <td>0</td>\n",
       "      <td>113</td>\n",
       "      <td>mid</td>\n",
       "    </tr>\n",
       "    <tr>\n",
       "      <th>5960</th>\n",
       "      <td>166582</td>\n",
       "      <td>2019-08-12</td>\n",
       "      <td>False</td>\n",
       "      <td>885890</td>\n",
       "      <td>False</td>\n",
       "      <td>5</td>\n",
       "      <td>532</td>\n",
       "      <td>570</td>\n",
       "      <td>38</td>\n",
       "      <td>5</td>\n",
       "      <td>0</td>\n",
       "      <td>mid</td>\n",
       "    </tr>\n",
       "    <tr>\n",
       "      <th>5961</th>\n",
       "      <td>166582</td>\n",
       "      <td>2019-08-12</td>\n",
       "      <td>False</td>\n",
       "      <td>-1000</td>\n",
       "      <td>True</td>\n",
       "      <td>9</td>\n",
       "      <td>0</td>\n",
       "      <td>79</td>\n",
       "      <td>79</td>\n",
       "      <td>9</td>\n",
       "      <td>0</td>\n",
       "      <td>mid</td>\n",
       "    </tr>\n",
       "    <tr>\n",
       "      <th>5962</th>\n",
       "      <td>166582</td>\n",
       "      <td>2019-08-13</td>\n",
       "      <td>False</td>\n",
       "      <td>885876</td>\n",
       "      <td>False</td>\n",
       "      <td>12</td>\n",
       "      <td>613</td>\n",
       "      <td>745</td>\n",
       "      <td>132</td>\n",
       "      <td>12</td>\n",
       "      <td>0</td>\n",
       "      <td>mid</td>\n",
       "    </tr>\n",
       "  </tbody>\n",
       "</table>\n",
       "</div>"
      ],
      "text/plain": [
       "      user_id       date  internal  operator_id  is_missed_call  calls_count  \\\n",
       "5958   166582 2019-08-12     False       885876           False            9   \n",
       "5959   166582 2019-08-12     False       885890            True          113   \n",
       "5960   166582 2019-08-12     False       885890           False            5   \n",
       "5961   166582 2019-08-12     False        -1000            True            9   \n",
       "5962   166582 2019-08-13     False       885876           False           12   \n",
       "\n",
       "      call_duration  total_call_duration  wait_time  direction_in  \\\n",
       "5958            387                  473         86             9   \n",
       "5959              0                 3691       3691             0   \n",
       "5960            532                  570         38             5   \n",
       "5961              0                   79         79             9   \n",
       "5962            613                  745        132            12   \n",
       "\n",
       "      direction_out user_type  \n",
       "5958              0       mid  \n",
       "5959            113       mid  \n",
       "5960              0       mid  \n",
       "5961              0       mid  \n",
       "5962              0       mid  "
      ]
     },
     "execution_count": 112,
     "metadata": {},
     "output_type": "execute_result"
    }
   ],
   "source": [
    "df_mid.head()"
   ]
  },
  {
   "cell_type": "code",
   "execution_count": 113,
   "metadata": {
    "colab": {
     "base_uri": "https://localhost:8080/",
     "height": 73
    },
    "id": "vexDy6ehiSRs",
    "outputId": "945b3cc6-d4ca-4161-96c6-b5426c7e0555"
   },
   "outputs": [
    {
     "data": {
      "text/plain": [
       "'Всего 30636 записей'"
      ]
     },
     "metadata": {},
     "output_type": "display_data"
    },
    {
     "data": {
      "text/plain": [
       "'В КЦ промежуточного типа работают 155 операторов'"
      ]
     },
     "metadata": {},
     "output_type": "display_data"
    },
    {
     "data": {
      "text/plain": [
       "'Всего 41 КЦ промежуточного типа'"
      ]
     },
     "metadata": {},
     "output_type": "display_data"
    }
   ],
   "source": [
    "display(f'Всего {len(df_out)} записей')\n",
    "display(f'В КЦ промежуточного типа работают {df_mid[\"operator_id\"].nunique()} операторов')\n",
    "display(f'Всего {df_mid[\"user_id\"].nunique()} КЦ промежуточного типа')"
   ]
  },
  {
   "cell_type": "code",
   "execution_count": 114,
   "metadata": {
    "id": "O11rNcr6xk4i"
   },
   "outputs": [],
   "source": [
    "# Добавим столбец с количеством пропущенных звонков\n",
    "\n",
    "df_mid['miss_count'] = df_mid['is_missed_call'] * df_mid['calls_count']\n",
    "\n",
    "df_mid['duration_mean'] = df_mid['total_call_duration'] / (df_mid['direction_in'] + df_mid['direction_out'])"
   ]
  },
  {
   "cell_type": "markdown",
   "metadata": {
    "id": "417DhT6alDdh"
   },
   "source": [
    "К операторам КЦ промежуточного типа логично применить комбинированные метрики для обзванивающих и принимающих звонки КЦ.\n",
    "\n",
    "Т.е. неээфективными считаем операторов, пропускающих более одного звонка ИЛИ делающих менее 48 звонков и длина ежедневных дневных разговоров менее 2400 секунд."
   ]
  },
  {
   "cell_type": "code",
   "execution_count": 115,
   "metadata": {
    "colab": {
     "base_uri": "https://localhost:8080/",
     "height": 206
    },
    "id": "sqQMkEShx_ZF",
    "outputId": "42059ffc-d8b6-4667-afbe-78a7b694e439"
   },
   "outputs": [
    {
     "data": {
      "text/html": [
       "<div>\n",
       "<style scoped>\n",
       "    .dataframe tbody tr th:only-of-type {\n",
       "        vertical-align: middle;\n",
       "    }\n",
       "\n",
       "    .dataframe tbody tr th {\n",
       "        vertical-align: top;\n",
       "    }\n",
       "\n",
       "    .dataframe thead th {\n",
       "        text-align: right;\n",
       "    }\n",
       "</style>\n",
       "<table border=\"1\" class=\"dataframe\">\n",
       "  <thead>\n",
       "    <tr style=\"text-align: right;\">\n",
       "      <th></th>\n",
       "      <th>user_id</th>\n",
       "      <th>date</th>\n",
       "      <th>internal</th>\n",
       "      <th>operator_id</th>\n",
       "      <th>is_missed_call</th>\n",
       "      <th>calls_count</th>\n",
       "      <th>call_duration</th>\n",
       "      <th>total_call_duration</th>\n",
       "      <th>wait_time</th>\n",
       "      <th>direction_in</th>\n",
       "      <th>direction_out</th>\n",
       "      <th>user_type</th>\n",
       "      <th>miss_count</th>\n",
       "      <th>duration_mean</th>\n",
       "    </tr>\n",
       "  </thead>\n",
       "  <tbody>\n",
       "    <tr>\n",
       "      <th>5958</th>\n",
       "      <td>166582</td>\n",
       "      <td>2019-08-12</td>\n",
       "      <td>False</td>\n",
       "      <td>885876</td>\n",
       "      <td>False</td>\n",
       "      <td>9</td>\n",
       "      <td>387</td>\n",
       "      <td>473</td>\n",
       "      <td>86</td>\n",
       "      <td>9</td>\n",
       "      <td>0</td>\n",
       "      <td>mid</td>\n",
       "      <td>0</td>\n",
       "      <td>52.555556</td>\n",
       "    </tr>\n",
       "    <tr>\n",
       "      <th>5959</th>\n",
       "      <td>166582</td>\n",
       "      <td>2019-08-12</td>\n",
       "      <td>False</td>\n",
       "      <td>885890</td>\n",
       "      <td>True</td>\n",
       "      <td>113</td>\n",
       "      <td>0</td>\n",
       "      <td>3691</td>\n",
       "      <td>3691</td>\n",
       "      <td>0</td>\n",
       "      <td>113</td>\n",
       "      <td>mid</td>\n",
       "      <td>113</td>\n",
       "      <td>32.663717</td>\n",
       "    </tr>\n",
       "    <tr>\n",
       "      <th>5960</th>\n",
       "      <td>166582</td>\n",
       "      <td>2019-08-12</td>\n",
       "      <td>False</td>\n",
       "      <td>885890</td>\n",
       "      <td>False</td>\n",
       "      <td>5</td>\n",
       "      <td>532</td>\n",
       "      <td>570</td>\n",
       "      <td>38</td>\n",
       "      <td>5</td>\n",
       "      <td>0</td>\n",
       "      <td>mid</td>\n",
       "      <td>0</td>\n",
       "      <td>114.000000</td>\n",
       "    </tr>\n",
       "    <tr>\n",
       "      <th>5961</th>\n",
       "      <td>166582</td>\n",
       "      <td>2019-08-12</td>\n",
       "      <td>False</td>\n",
       "      <td>-1000</td>\n",
       "      <td>True</td>\n",
       "      <td>9</td>\n",
       "      <td>0</td>\n",
       "      <td>79</td>\n",
       "      <td>79</td>\n",
       "      <td>9</td>\n",
       "      <td>0</td>\n",
       "      <td>mid</td>\n",
       "      <td>9</td>\n",
       "      <td>8.777778</td>\n",
       "    </tr>\n",
       "    <tr>\n",
       "      <th>5962</th>\n",
       "      <td>166582</td>\n",
       "      <td>2019-08-13</td>\n",
       "      <td>False</td>\n",
       "      <td>885876</td>\n",
       "      <td>False</td>\n",
       "      <td>12</td>\n",
       "      <td>613</td>\n",
       "      <td>745</td>\n",
       "      <td>132</td>\n",
       "      <td>12</td>\n",
       "      <td>0</td>\n",
       "      <td>mid</td>\n",
       "      <td>0</td>\n",
       "      <td>62.083333</td>\n",
       "    </tr>\n",
       "  </tbody>\n",
       "</table>\n",
       "</div>"
      ],
      "text/plain": [
       "      user_id       date  internal  operator_id  is_missed_call  calls_count  \\\n",
       "5958   166582 2019-08-12     False       885876           False            9   \n",
       "5959   166582 2019-08-12     False       885890            True          113   \n",
       "5960   166582 2019-08-12     False       885890           False            5   \n",
       "5961   166582 2019-08-12     False        -1000            True            9   \n",
       "5962   166582 2019-08-13     False       885876           False           12   \n",
       "\n",
       "      call_duration  total_call_duration  wait_time  direction_in  \\\n",
       "5958            387                  473         86             9   \n",
       "5959              0                 3691       3691             0   \n",
       "5960            532                  570         38             5   \n",
       "5961              0                   79         79             9   \n",
       "5962            613                  745        132            12   \n",
       "\n",
       "      direction_out user_type  miss_count  duration_mean  \n",
       "5958              0       mid           0      52.555556  \n",
       "5959            113       mid         113      32.663717  \n",
       "5960              0       mid           0     114.000000  \n",
       "5961              0       mid           9       8.777778  \n",
       "5962              0       mid           0      62.083333  "
      ]
     },
     "execution_count": 115,
     "metadata": {},
     "output_type": "execute_result"
    }
   ],
   "source": [
    "df_mid.head()"
   ]
  },
  {
   "cell_type": "code",
   "execution_count": 116,
   "metadata": {
    "colab": {
     "base_uri": "https://localhost:8080/",
     "height": 357
    },
    "id": "f289yUX2xaae",
    "outputId": "c9eccf95-5f35-424a-d2ef-303b052dcd1f"
   },
   "outputs": [
    {
     "data": {
      "text/html": [
       "<div>\n",
       "<style scoped>\n",
       "    .dataframe tbody tr th:only-of-type {\n",
       "        vertical-align: middle;\n",
       "    }\n",
       "\n",
       "    .dataframe tbody tr th {\n",
       "        vertical-align: top;\n",
       "    }\n",
       "\n",
       "    .dataframe thead th {\n",
       "        text-align: right;\n",
       "    }\n",
       "</style>\n",
       "<table border=\"1\" class=\"dataframe\">\n",
       "  <thead>\n",
       "    <tr style=\"text-align: right;\">\n",
       "      <th></th>\n",
       "      <th>user_id</th>\n",
       "      <th>date</th>\n",
       "      <th>internal</th>\n",
       "      <th>operator_id</th>\n",
       "      <th>is_missed_call</th>\n",
       "      <th>calls_count</th>\n",
       "      <th>call_duration</th>\n",
       "      <th>total_call_duration</th>\n",
       "      <th>wait_time</th>\n",
       "      <th>direction_in</th>\n",
       "      <th>direction_out</th>\n",
       "      <th>user_type</th>\n",
       "      <th>miss_count</th>\n",
       "      <th>duration_mean</th>\n",
       "    </tr>\n",
       "  </thead>\n",
       "  <tbody>\n",
       "    <tr>\n",
       "      <th>5961</th>\n",
       "      <td>166582</td>\n",
       "      <td>2019-08-12</td>\n",
       "      <td>False</td>\n",
       "      <td>-1000</td>\n",
       "      <td>True</td>\n",
       "      <td>9</td>\n",
       "      <td>0</td>\n",
       "      <td>79</td>\n",
       "      <td>79</td>\n",
       "      <td>9</td>\n",
       "      <td>0</td>\n",
       "      <td>mid</td>\n",
       "      <td>9</td>\n",
       "      <td>8.777778</td>\n",
       "    </tr>\n",
       "    <tr>\n",
       "      <th>5966</th>\n",
       "      <td>166582</td>\n",
       "      <td>2019-08-13</td>\n",
       "      <td>False</td>\n",
       "      <td>-1000</td>\n",
       "      <td>True</td>\n",
       "      <td>6</td>\n",
       "      <td>0</td>\n",
       "      <td>35</td>\n",
       "      <td>35</td>\n",
       "      <td>6</td>\n",
       "      <td>0</td>\n",
       "      <td>mid</td>\n",
       "      <td>6</td>\n",
       "      <td>5.833333</td>\n",
       "    </tr>\n",
       "    <tr>\n",
       "      <th>5969</th>\n",
       "      <td>166582</td>\n",
       "      <td>2019-08-14</td>\n",
       "      <td>False</td>\n",
       "      <td>-1000</td>\n",
       "      <td>True</td>\n",
       "      <td>6</td>\n",
       "      <td>0</td>\n",
       "      <td>76</td>\n",
       "      <td>76</td>\n",
       "      <td>6</td>\n",
       "      <td>0</td>\n",
       "      <td>mid</td>\n",
       "      <td>6</td>\n",
       "      <td>12.666667</td>\n",
       "    </tr>\n",
       "    <tr>\n",
       "      <th>5972</th>\n",
       "      <td>166582</td>\n",
       "      <td>2019-08-15</td>\n",
       "      <td>False</td>\n",
       "      <td>-1000</td>\n",
       "      <td>True</td>\n",
       "      <td>16</td>\n",
       "      <td>0</td>\n",
       "      <td>186</td>\n",
       "      <td>186</td>\n",
       "      <td>16</td>\n",
       "      <td>0</td>\n",
       "      <td>mid</td>\n",
       "      <td>16</td>\n",
       "      <td>11.625000</td>\n",
       "    </tr>\n",
       "    <tr>\n",
       "      <th>5979</th>\n",
       "      <td>166582</td>\n",
       "      <td>2019-08-16</td>\n",
       "      <td>False</td>\n",
       "      <td>-1000</td>\n",
       "      <td>True</td>\n",
       "      <td>23</td>\n",
       "      <td>0</td>\n",
       "      <td>227</td>\n",
       "      <td>227</td>\n",
       "      <td>23</td>\n",
       "      <td>0</td>\n",
       "      <td>mid</td>\n",
       "      <td>23</td>\n",
       "      <td>9.869565</td>\n",
       "    </tr>\n",
       "  </tbody>\n",
       "</table>\n",
       "</div>"
      ],
      "text/plain": [
       "      user_id       date  internal  operator_id  is_missed_call  calls_count  \\\n",
       "5961   166582 2019-08-12     False        -1000            True            9   \n",
       "5966   166582 2019-08-13     False        -1000            True            6   \n",
       "5969   166582 2019-08-14     False        -1000            True            6   \n",
       "5972   166582 2019-08-15     False        -1000            True           16   \n",
       "5979   166582 2019-08-16     False        -1000            True           23   \n",
       "\n",
       "      call_duration  total_call_duration  wait_time  direction_in  \\\n",
       "5961              0                   79         79             9   \n",
       "5966              0                   35         35             6   \n",
       "5969              0                   76         76             6   \n",
       "5972              0                  186        186            16   \n",
       "5979              0                  227        227            23   \n",
       "\n",
       "      direction_out user_type  miss_count  duration_mean  \n",
       "5961              0       mid           9       8.777778  \n",
       "5966              0       mid           6       5.833333  \n",
       "5969              0       mid           6      12.666667  \n",
       "5972              0       mid          16      11.625000  \n",
       "5979              0       mid          23       9.869565  "
      ]
     },
     "execution_count": 116,
     "metadata": {},
     "output_type": "execute_result"
    }
   ],
   "source": [
    "df_mid_ne = df_mid.query('miss_count > 1 and direction_out < 48 and duration_mean < 2400')\n",
    "df_mid_ne.head()"
   ]
  },
  {
   "cell_type": "code",
   "execution_count": 117,
   "metadata": {
    "colab": {
     "base_uri": "https://localhost:8080/",
     "height": 52
    },
    "id": "DFPVD4RP0vG0",
    "outputId": "59d56f7d-d59e-46c6-d3b2-9f250450fb0b"
   },
   "outputs": [
    {
     "data": {
      "text/plain": [
       "[-1000, 885876, 885890, 925922, 899082]"
      ]
     },
     "metadata": {},
     "output_type": "display_data"
    },
    {
     "data": {
      "text/plain": [
       "[166582, 166708, 166717, 166725, 166774]"
      ]
     },
     "metadata": {},
     "output_type": "display_data"
    }
   ],
   "source": [
    "ne_operators_mid = df_mid_ne['operator_id'].unique().tolist()\n",
    "ne_users_mid = df_mid_ne['user_id'].unique().tolist()\n",
    "\n",
    "display(ne_operators_mid[:5])\n",
    "display(ne_users_mid[:5])"
   ]
  },
  {
   "cell_type": "code",
   "execution_count": 118,
   "metadata": {
    "colab": {
     "base_uri": "https://localhost:8080/",
     "height": 91
    },
    "id": "Uz7p-zRJ0ldB",
    "outputId": "6af638a7-b68e-4b63-c146-64d6cce8ec20"
   },
   "outputs": [
    {
     "data": {
      "text/plain": [
       "'Всего 132 неэффективных операторов в КЦ промежуточного типа'"
      ]
     },
     "metadata": {},
     "output_type": "display_data"
    },
    {
     "data": {
      "text/plain": [
       "'Это 85.16% от всего количества операторов в обзванивающих КЦ'"
      ]
     },
     "metadata": {},
     "output_type": "display_data"
    },
    {
     "data": {
      "text/plain": [
       "'Всего 41 КЦ с неэффективными операторами'"
      ]
     },
     "metadata": {},
     "output_type": "display_data"
    },
    {
     "data": {
      "text/plain": [
       "'Это 100.00% от всего количества обзванивающих КЦ'"
      ]
     },
     "metadata": {},
     "output_type": "display_data"
    }
   ],
   "source": [
    "display(f'Всего {len(ne_operators_mid)} неэффективных операторов в КЦ промежуточного типа')\n",
    "display(f'Это {len(ne_operators_mid)/df_mid[\"operator_id\"].nunique():.2%} от всего количества операторов в обзванивающих КЦ')\n",
    "\n",
    "display(f'Всего {len(ne_users_mid)} КЦ с неэффективными операторами')\n",
    "display(f'Это {len(ne_users_mid)/df_mid[\"user_id\"].nunique():.2%} от всего количества обзванивающих КЦ')"
   ]
  },
  {
   "cell_type": "markdown",
   "metadata": {
    "id": "gytLkKr-1mQc"
   },
   "source": [
    "### Выводы по промежуточным КЦ\n",
    "\n",
    "Для оценки неэффективности КЦ промежуточного типа использовали комбинированные метрики для КЦ двух типов. \n",
    "\n",
    "По выбранным метрикам для КЦ промежуточного типа:\n",
    "\n",
    "- всего 132 неэффективных операторов в КЦ промежуточного типа\n",
    "- это 85.16% от всего количества операторов в обзванивающих КЦ\n",
    "- всего 41 КЦ с неэффективными операторами\n",
    "- это 100.00% от всего количества обзванивающих КЦ\n",
    "\n",
    "ID операторов сохранены в списке `ne_operators_mid`.\n",
    "\n",
    "ID КЦ с такими операторами в списке `ne_users_mid`."
   ]
  },
  {
   "cell_type": "markdown",
   "metadata": {},
   "source": [
    "<div class=\"alert alert-success\">\n",
    "    \n",
    "**Комментарий ревьюера**\n",
    "\n",
    "**#ок**\n",
    "\n",
    "Хорошо. Мы на финальном созвоне обсудим, но лучше было делать два пересекающихся множества обзваниевающие и принимающие (т.е. чтобы колл-центр мог и туда и туда попасть). Тогда не пришлось бы лишней проверки делать\n",
    "\n",
    "</div>"
   ]
  },
  {
   "cell_type": "markdown",
   "metadata": {
    "id": "KOe_u18R23L-"
   },
   "source": [
    "## Проверка гипотез"
   ]
  },
  {
   "cell_type": "markdown",
   "metadata": {
    "id": "9iOkaeLNx8jI"
   },
   "source": [
    "### Количество пропущенных звонков зависит от тарифа\n"
   ]
  },
  {
   "cell_type": "markdown",
   "metadata": {},
   "source": [
    "Посчитаем среднее количество пропущенных вызовов для операторов на тарифах А и В."
   ]
  },
  {
   "cell_type": "markdown",
   "metadata": {},
   "source": [
    "<div class=\"alert alert-warning\">\n",
    "    \n",
    "**Комментарий ревьюера**\n",
    "\n",
    "**#можно лучше**\n",
    "\n",
    "Тут стоило пояснить какой количетсво:  в день на оператора, суммарное за все время на оператора, в день на КЦ... \n",
    "\n",
    "</div>"
   ]
  },
  {
   "cell_type": "markdown",
   "metadata": {},
   "source": [
    "<div class=\"alert alert-info\">\n",
    "\n",
    "<b>Студент: </b> Вера, поправил.\n",
    "</div>"
   ]
  },
  {
   "cell_type": "markdown",
   "metadata": {},
   "source": [
    "<div class=\"alert alert-success\">\n",
    "    \n",
    "**Комментарий ревьюера - 2**\n",
    "\n",
    "**#ок**\n",
    "\n",
    "👍\n",
    "\n",
    "</div>"
   ]
  },
  {
   "cell_type": "code",
   "execution_count": 119,
   "metadata": {
    "colab": {
     "base_uri": "https://localhost:8080/",
     "height": 206
    },
    "id": "xxdesGbHII-4",
    "outputId": "ca554e95-f6dd-4a30-e6ed-de7c384dce78"
   },
   "outputs": [
    {
     "data": {
      "text/html": [
       "<div>\n",
       "<style scoped>\n",
       "    .dataframe tbody tr th:only-of-type {\n",
       "        vertical-align: middle;\n",
       "    }\n",
       "\n",
       "    .dataframe tbody tr th {\n",
       "        vertical-align: top;\n",
       "    }\n",
       "\n",
       "    .dataframe thead th {\n",
       "        text-align: right;\n",
       "    }\n",
       "</style>\n",
       "<table border=\"1\" class=\"dataframe\">\n",
       "  <thead>\n",
       "    <tr style=\"text-align: right;\">\n",
       "      <th></th>\n",
       "      <th>user_id</th>\n",
       "      <th>date</th>\n",
       "      <th>internal</th>\n",
       "      <th>operator_id</th>\n",
       "      <th>is_missed_call</th>\n",
       "      <th>calls_count</th>\n",
       "      <th>call_duration</th>\n",
       "      <th>total_call_duration</th>\n",
       "      <th>wait_time</th>\n",
       "      <th>direction_in</th>\n",
       "      <th>direction_out</th>\n",
       "      <th>user_type</th>\n",
       "      <th>tariff_plan</th>\n",
       "    </tr>\n",
       "  </thead>\n",
       "  <tbody>\n",
       "    <tr>\n",
       "      <th>0</th>\n",
       "      <td>166377</td>\n",
       "      <td>2019-08-04</td>\n",
       "      <td>False</td>\n",
       "      <td>-1000</td>\n",
       "      <td>True</td>\n",
       "      <td>2</td>\n",
       "      <td>0</td>\n",
       "      <td>4</td>\n",
       "      <td>4</td>\n",
       "      <td>2</td>\n",
       "      <td>0</td>\n",
       "      <td>out</td>\n",
       "      <td>B</td>\n",
       "    </tr>\n",
       "    <tr>\n",
       "      <th>1</th>\n",
       "      <td>166377</td>\n",
       "      <td>2019-08-05</td>\n",
       "      <td>True</td>\n",
       "      <td>880022</td>\n",
       "      <td>True</td>\n",
       "      <td>3</td>\n",
       "      <td>0</td>\n",
       "      <td>5</td>\n",
       "      <td>5</td>\n",
       "      <td>0</td>\n",
       "      <td>3</td>\n",
       "      <td>out</td>\n",
       "      <td>B</td>\n",
       "    </tr>\n",
       "    <tr>\n",
       "      <th>2</th>\n",
       "      <td>166377</td>\n",
       "      <td>2019-08-05</td>\n",
       "      <td>True</td>\n",
       "      <td>880020</td>\n",
       "      <td>True</td>\n",
       "      <td>1</td>\n",
       "      <td>0</td>\n",
       "      <td>1</td>\n",
       "      <td>1</td>\n",
       "      <td>0</td>\n",
       "      <td>1</td>\n",
       "      <td>out</td>\n",
       "      <td>B</td>\n",
       "    </tr>\n",
       "    <tr>\n",
       "      <th>3</th>\n",
       "      <td>166377</td>\n",
       "      <td>2019-08-05</td>\n",
       "      <td>True</td>\n",
       "      <td>880020</td>\n",
       "      <td>False</td>\n",
       "      <td>1</td>\n",
       "      <td>10</td>\n",
       "      <td>18</td>\n",
       "      <td>8</td>\n",
       "      <td>0</td>\n",
       "      <td>1</td>\n",
       "      <td>out</td>\n",
       "      <td>B</td>\n",
       "    </tr>\n",
       "    <tr>\n",
       "      <th>4</th>\n",
       "      <td>166377</td>\n",
       "      <td>2019-08-05</td>\n",
       "      <td>False</td>\n",
       "      <td>880022</td>\n",
       "      <td>True</td>\n",
       "      <td>3</td>\n",
       "      <td>0</td>\n",
       "      <td>25</td>\n",
       "      <td>25</td>\n",
       "      <td>0</td>\n",
       "      <td>3</td>\n",
       "      <td>out</td>\n",
       "      <td>B</td>\n",
       "    </tr>\n",
       "  </tbody>\n",
       "</table>\n",
       "</div>"
      ],
      "text/plain": [
       "   user_id       date  internal  operator_id  is_missed_call  calls_count  \\\n",
       "0   166377 2019-08-04     False        -1000            True            2   \n",
       "1   166377 2019-08-05      True       880022            True            3   \n",
       "2   166377 2019-08-05      True       880020            True            1   \n",
       "3   166377 2019-08-05      True       880020           False            1   \n",
       "4   166377 2019-08-05     False       880022            True            3   \n",
       "\n",
       "   call_duration  total_call_duration  wait_time  direction_in  direction_out  \\\n",
       "0              0                    4          4             2              0   \n",
       "1              0                    5          5             0              3   \n",
       "2              0                    1          1             0              1   \n",
       "3             10                   18          8             0              1   \n",
       "4              0                   25         25             0              3   \n",
       "\n",
       "  user_type tariff_plan  \n",
       "0       out           B  \n",
       "1       out           B  \n",
       "2       out           B  \n",
       "3       out           B  \n",
       "4       out           B  "
      ]
     },
     "execution_count": 119,
     "metadata": {},
     "output_type": "execute_result"
    }
   ],
   "source": [
    "# присоединяем таблицу с тарифами к основной таблице\n",
    "\n",
    "df = df.merge(telecom_clients[['user_id','tariff_plan']],how='left',on='user_id')\n",
    "df.head()"
   ]
  },
  {
   "cell_type": "code",
   "execution_count": 120,
   "metadata": {},
   "outputs": [
    {
     "data": {
      "text/html": [
       "<div>\n",
       "<style scoped>\n",
       "    .dataframe tbody tr th:only-of-type {\n",
       "        vertical-align: middle;\n",
       "    }\n",
       "\n",
       "    .dataframe tbody tr th {\n",
       "        vertical-align: top;\n",
       "    }\n",
       "\n",
       "    .dataframe thead th {\n",
       "        text-align: right;\n",
       "    }\n",
       "</style>\n",
       "<table border=\"1\" class=\"dataframe\">\n",
       "  <thead>\n",
       "    <tr style=\"text-align: right;\">\n",
       "      <th></th>\n",
       "      <th>tariff_plan</th>\n",
       "      <th>is_missed_call</th>\n",
       "      <th>count</th>\n",
       "    </tr>\n",
       "  </thead>\n",
       "  <tbody>\n",
       "    <tr>\n",
       "      <th>0</th>\n",
       "      <td>A</td>\n",
       "      <td>False</td>\n",
       "      <td>7541</td>\n",
       "    </tr>\n",
       "    <tr>\n",
       "      <th>1</th>\n",
       "      <td>A</td>\n",
       "      <td>True</td>\n",
       "      <td>5342</td>\n",
       "    </tr>\n",
       "    <tr>\n",
       "      <th>2</th>\n",
       "      <td>B</td>\n",
       "      <td>False</td>\n",
       "      <td>9469</td>\n",
       "    </tr>\n",
       "    <tr>\n",
       "      <th>3</th>\n",
       "      <td>B</td>\n",
       "      <td>True</td>\n",
       "      <td>7688</td>\n",
       "    </tr>\n",
       "    <tr>\n",
       "      <th>4</th>\n",
       "      <td>C</td>\n",
       "      <td>False</td>\n",
       "      <td>9973</td>\n",
       "    </tr>\n",
       "    <tr>\n",
       "      <th>5</th>\n",
       "      <td>C</td>\n",
       "      <td>True</td>\n",
       "      <td>8100</td>\n",
       "    </tr>\n",
       "  </tbody>\n",
       "</table>\n",
       "</div>"
      ],
      "text/plain": [
       "  tariff_plan  is_missed_call  count\n",
       "0           A           False   7541\n",
       "1           A            True   5342\n",
       "2           B           False   9469\n",
       "3           B            True   7688\n",
       "4           C           False   9973\n",
       "5           C            True   8100"
      ]
     },
     "execution_count": 120,
     "metadata": {},
     "output_type": "execute_result"
    }
   ],
   "source": [
    "# группируем дф по столбцу с тарифом и пропущенный/непропущенный\n",
    "\n",
    "df_hyp1 = df.groupby(['tariff_plan','is_missed_call'])['operator_id'].agg(['count'])\n",
    "df_hyp1.reset_index()"
   ]
  },
  {
   "cell_type": "markdown",
   "metadata": {
    "id": "eXJvLMBRFOmo"
   },
   "source": [
    "Проверим, находят ли статистические критерии разницу между пропущенными вызовами на тарифах А и В с помощью z-теста.\n",
    "\n",
    "Формулируем нулевую гипотезу H0 - доли операторов тарифах А и В, допустивших пропущенный звонок, равны. Альтернативная гипотеза H1 - доли операторов не равны."
   ]
  },
  {
   "cell_type": "markdown",
   "metadata": {},
   "source": [
    "<div class=\"alert alert-danger\">\n",
    "    \n",
    "**Комментарий ревьюера**\n",
    "\n",
    "**#ошибка**\n",
    "\n",
    "Т.е. ты гипотезу о долях проверяешь? \n",
    "\n",
    "А что у тебя success и что trials? Кажется ты не верные значения берешь\n",
    "</div>"
   ]
  },
  {
   "cell_type": "markdown",
   "metadata": {},
   "source": [
    "<div class=\"alert alert-info\">\n",
    "\n",
    "<b>Студент: </b> Вера, поправил.\n",
    "</div>"
   ]
  },
  {
   "cell_type": "markdown",
   "metadata": {},
   "source": [
    "<div class=\"alert alert-success\">\n",
    "    \n",
    "**Комментарий ревьюера - 2**\n",
    "\n",
    "**#ок**\n",
    "\n",
    "Да, теперь верно\n",
    "\n",
    "</div>"
   ]
  },
  {
   "cell_type": "code",
   "execution_count": 121,
   "metadata": {
    "id": "CbL-fUdpNA5S"
   },
   "outputs": [],
   "source": [
    "# задаем функцию\n",
    "\n",
    "def z_test(successes1, successes2, trials1, trials2, alpha=.05):\n",
    "  # пропорция успехов в первой группе:\n",
    "  p1 = successes1/trials1\n",
    "  # пропорция успехов во второй группе:\n",
    "  p2 = successes2/trials2\n",
    "  # пропорция успехов в комбинированном датасете:\n",
    "  p_combined = (successes1 + successes2) / (trials1 + trials2)\n",
    "  # разница пропорций в датасетах\n",
    "  difference = p1 - p2 \n",
    "  # считаем статистику в ст.отклонениях стандартного нормального распределения\n",
    "  z_value = difference / mth.sqrt(p_combined * (1 - p_combined) * (1 / trials1 + 1 / trials2))\n",
    "  # задаем стандартное нормальное распределение (среднее 0, ст.отклонение 1)\n",
    "  distr = st.norm(0, 1)\n",
    "  p_value = (1 - distr.cdf(abs(z_value))) * 2\n",
    "  print('p-значение: ', p_value)\n",
    "  if p_value < alpha:\n",
    "    print('Отвергаем нулевую гипотезу: между долями есть значимая разница')\n",
    "  else:\n",
    "    print('Не получилось отвергнуть нулевую гипотезу, нет оснований считать доли разными')"
   ]
  },
  {
   "cell_type": "code",
   "execution_count": 122,
   "metadata": {
    "colab": {
     "base_uri": "https://localhost:8080/",
     "height": 175
    },
    "id": "EDUTmqLENxoF",
    "outputId": "2aa9d781-8dd3-4593-e936-87641eff861c"
   },
   "outputs": [
    {
     "data": {
      "text/html": [
       "<div>\n",
       "<style scoped>\n",
       "    .dataframe tbody tr th:only-of-type {\n",
       "        vertical-align: middle;\n",
       "    }\n",
       "\n",
       "    .dataframe tbody tr th {\n",
       "        vertical-align: top;\n",
       "    }\n",
       "\n",
       "    .dataframe thead th {\n",
       "        text-align: right;\n",
       "    }\n",
       "</style>\n",
       "<table border=\"1\" class=\"dataframe\">\n",
       "  <thead>\n",
       "    <tr style=\"text-align: right;\">\n",
       "      <th></th>\n",
       "      <th>tariff_plan</th>\n",
       "      <th>is_missed_call</th>\n",
       "      <th>count</th>\n",
       "    </tr>\n",
       "  </thead>\n",
       "  <tbody>\n",
       "    <tr>\n",
       "      <th>0</th>\n",
       "      <td>A</td>\n",
       "      <td>False</td>\n",
       "      <td>7541</td>\n",
       "    </tr>\n",
       "    <tr>\n",
       "      <th>1</th>\n",
       "      <td>A</td>\n",
       "      <td>True</td>\n",
       "      <td>5342</td>\n",
       "    </tr>\n",
       "    <tr>\n",
       "      <th>2</th>\n",
       "      <td>B</td>\n",
       "      <td>False</td>\n",
       "      <td>9469</td>\n",
       "    </tr>\n",
       "    <tr>\n",
       "      <th>3</th>\n",
       "      <td>B</td>\n",
       "      <td>True</td>\n",
       "      <td>7688</td>\n",
       "    </tr>\n",
       "    <tr>\n",
       "      <th>4</th>\n",
       "      <td>C</td>\n",
       "      <td>False</td>\n",
       "      <td>9973</td>\n",
       "    </tr>\n",
       "    <tr>\n",
       "      <th>5</th>\n",
       "      <td>C</td>\n",
       "      <td>True</td>\n",
       "      <td>8100</td>\n",
       "    </tr>\n",
       "  </tbody>\n",
       "</table>\n",
       "</div>"
      ],
      "text/plain": [
       "  tariff_plan  is_missed_call  count\n",
       "0           A           False   7541\n",
       "1           A            True   5342\n",
       "2           B           False   9469\n",
       "3           B            True   7688\n",
       "4           C           False   9973\n",
       "5           C            True   8100"
      ]
     },
     "execution_count": 122,
     "metadata": {},
     "output_type": "execute_result"
    }
   ],
   "source": [
    "df_hyp1 = df_hyp1.reset_index()\n",
    "df_hyp1"
   ]
  },
  {
   "cell_type": "code",
   "execution_count": 123,
   "metadata": {
    "colab": {
     "base_uri": "https://localhost:8080/"
    },
    "id": "FzGoNjhQNo8Z",
    "outputId": "a42a1e86-0c47-49be-b6d4-0400bf102626"
   },
   "outputs": [
    {
     "name": "stdout",
     "output_type": "stream",
     "text": [
      "p-значение:  7.112386901653167e-09\n",
      "Отвергаем нулевую гипотезу: между долями есть значимая разница\n"
     ]
    }
   ],
   "source": [
    "z_test(df_hyp1.loc[1]['count'], df_hyp1.loc[3]['count'],\\\n",
    "       (df_hyp1.loc[1]['count'] + df_hyp1.loc[0]['count']),\\\n",
    "       (df_hyp1.loc[2]['count'] + df_hyp1.loc[3]['count']))"
   ]
  },
  {
   "cell_type": "markdown",
   "metadata": {
    "id": "rHwl60xnDEMQ"
   },
   "source": [
    "### Среднее время ожидания зависит от тарифа"
   ]
  },
  {
   "cell_type": "markdown",
   "metadata": {
    "id": "ABcxfTHZP6OO"
   },
   "source": [
    "Проверяем вторую гипотезу\n",
    "\n",
    "Формулируем нулевую гипотезу H0 - среднее время ожидания операторов тарифах В и С равны. Альтернативная гипотеза H1 - среднее время ожидания операторов тарифах В и С не равно."
   ]
  },
  {
   "cell_type": "code",
   "execution_count": 124,
   "metadata": {
    "colab": {
     "base_uri": "https://localhost:8080/",
     "height": 175
    },
    "id": "egI6OFPsDGNK",
    "outputId": "ad1afab2-2a02-4c7e-c070-c6809d63f2d4"
   },
   "outputs": [
    {
     "data": {
      "text/html": [
       "<div>\n",
       "<style scoped>\n",
       "    .dataframe tbody tr th:only-of-type {\n",
       "        vertical-align: middle;\n",
       "    }\n",
       "\n",
       "    .dataframe tbody tr th {\n",
       "        vertical-align: top;\n",
       "    }\n",
       "\n",
       "    .dataframe thead th {\n",
       "        text-align: right;\n",
       "    }\n",
       "</style>\n",
       "<table border=\"1\" class=\"dataframe\">\n",
       "  <thead>\n",
       "    <tr style=\"text-align: right;\">\n",
       "      <th></th>\n",
       "      <th>mean</th>\n",
       "      <th>count</th>\n",
       "    </tr>\n",
       "    <tr>\n",
       "      <th>tariff_plan</th>\n",
       "      <th></th>\n",
       "      <th></th>\n",
       "    </tr>\n",
       "  </thead>\n",
       "  <tbody>\n",
       "    <tr>\n",
       "      <th>A</th>\n",
       "      <td>329.659318</td>\n",
       "      <td>12883</td>\n",
       "    </tr>\n",
       "    <tr>\n",
       "      <th>B</th>\n",
       "      <td>158.511744</td>\n",
       "      <td>17157</td>\n",
       "    </tr>\n",
       "    <tr>\n",
       "      <th>C</th>\n",
       "      <td>151.192276</td>\n",
       "      <td>18073</td>\n",
       "    </tr>\n",
       "  </tbody>\n",
       "</table>\n",
       "</div>"
      ],
      "text/plain": [
       "                   mean  count\n",
       "tariff_plan                   \n",
       "A            329.659318  12883\n",
       "B            158.511744  17157\n",
       "C            151.192276  18073"
      ]
     },
     "execution_count": 124,
     "metadata": {},
     "output_type": "execute_result"
    }
   ],
   "source": [
    "df_hyp2 = df.groupby('tariff_plan')['wait_time'].agg(['mean','count'])\n",
    "df_hyp2"
   ]
  },
  {
   "cell_type": "code",
   "execution_count": 125,
   "metadata": {
    "colab": {
     "base_uri": "https://localhost:8080/"
    },
    "id": "_Kr7HZTWQTll",
    "outputId": "34610235-af69-434d-9020-480974cb5829"
   },
   "outputs": [
    {
     "name": "stdout",
     "output_type": "stream",
     "text": [
      "p-значение:  0.3801354756618518\n",
      "Не получилось отвергнуть нулевую гипотезу, нет оснований считать доли разными\n"
     ]
    }
   ],
   "source": [
    "z_test(df_hyp2.loc['B']['mean'], df_hyp2.loc['C']['mean'],df_hyp2.loc['B']['count'],df_hyp2.loc['C']['count'])"
   ]
  },
  {
   "cell_type": "markdown",
   "metadata": {},
   "source": [
    "<div class=\"alert alert-warning\">\n",
    "    \n",
    "**Комментарий ревьюера**\n",
    "\n",
    "**#можно лучше**\n",
    "\n",
    "Хорошо. Хотя по полученным данным скорее В и С интереснее смотреть\n",
    "</div>"
   ]
  },
  {
   "cell_type": "markdown",
   "metadata": {},
   "source": [
    "<div class=\"alert alert-info\">\n",
    "\n",
    "<b>Студент: </b> Вера, поправил, результат кардинально изменился для обеих гипотез\n",
    "</div>"
   ]
  },
  {
   "cell_type": "markdown",
   "metadata": {},
   "source": [
    "<div class=\"alert alert-success\">\n",
    "    \n",
    "**Комментарий ревьюера - 2**\n",
    "\n",
    "**#ок**\n",
    "\n",
    "Так и должно быть\n",
    "\n",
    "</div>"
   ]
  },
  {
   "cell_type": "markdown",
   "metadata": {
    "id": "kud8BvCASeoI"
   },
   "source": [
    "### Выводы по гипотезам"
   ]
  },
  {
   "cell_type": "markdown",
   "metadata": {
    "id": "n4OLctdmTJPU"
   },
   "source": [
    "Первую нулевую гипотезу о том, что доли операторов тарифах А и В, допустивших пропущенный звонок, равны, отвергли.\n",
    "\n",
    "Во втором случае не удалось отвергнуть нулевую гипотезу и между долями среднего времени ожидания на тарифах В и С есть значимая разница."
   ]
  },
  {
   "cell_type": "markdown",
   "metadata": {
    "id": "tXguukhjgR6l"
   },
   "source": [
    "## Общие выводы"
   ]
  },
  {
   "cell_type": "markdown",
   "metadata": {
    "id": "Ww3axwAcgXyC"
   },
   "source": [
    "Работали с данными в двух таблицах. Первая содержала 53902 строк и 9 столбцов, во второй было 732 строк и 3 столбцов. \n",
    "\n",
    "В ходе подготовки данных к анализу из основной таблицы удалили 5010 строк с пропусками и дубликатами. Удаленные данные составили 9.29% от изначального объема. В обеих таблицах меняли типы данных в столбцах.\n",
    "\n",
    "Особую проблему представляли пропуски в датафрейме `df` в столбце `operator_id`. Найти закономерность или общую черту у строк с пропущенными данными не удалось, данные строки были помечены маркером \"-1000\" в поле `operator_id`.\n",
    "\n",
    "Для проведения анализа категорильный столбец `direction` разбили на два бинарных столбца, по которым и вели дальнейшие расчеты.\n",
    "\n",
    "В ходе исседования разделили КЦ на три категории:\n",
    "- обзванивающие\n",
    "- принимающие звонки\n",
    "- КЦ промежуточного типа\n",
    "\n",
    "Для каждой категории были выбраны свои метрики неэффективности.\n",
    "\n",
    "Для оценки неэффективности **принимающих звонки** КЦ использовали две метрики:\n",
    "1. Количество пропущенных вызовов\n",
    "2. Время ожидания клиентом оператора\n",
    "Для пропущенных вызовов выбран порог более одного пропущенного звонка.\n",
    "Для ожидания вызова установлена верхняя граница в 32 секунд, ожидание выше считаем признаокм неэффективной работы.\n",
    "В наших данных для КЦ, в основном принимающих звонки:\n",
    "- Всего 91 неэффективных операторов\n",
    "- Что составляет 31.82%\n",
    "- Всего 140 КЦ с неэффективными операторами\n",
    "- Что составляет 91.50%\n",
    "\n",
    "Всего 91 неэффективных операторов\n",
    "Что составляет 31.82%\n",
    "Всего 140 КЦ с неэффективными операторами\n",
    "Что составляет 91.50%\n",
    "ID операторов сохранены в списке `ne_operators_in`.\n",
    "ID КЦ с такими операторами в списке `ne_users_in`.\n",
    "\n",
    "Данные по операторам, заставляющих клиентов ждать чуть больше:\n",
    "- Всего 121 операторов, отвечающих более 32 секунд\n",
    "- Что составляет 42.31%\n",
    "- Всего 83 КЦ с такими операторами\n",
    "- Что составляет 54.25%\n",
    "62 операторов попадают в оба списка неэффективности для принимающих КЦ.\n",
    "ID операторов сохранены в списке `ne_operators_wait`.\n",
    "ID КЦ с такими операторами в списке `ne_users_wait`.\n",
    "\n",
    "Для оценки неэффективности **обзванивающих** КЦ использовали две метрики - количество исходящих вызовов и среднюю продолжительность вызовов за день (несоответствие одной из метрик — порого неэффективности).\n",
    "Был выбран порог неэффективности менее 48 звонков в день в среднем и средняя продолжительность разговоров менее 2400 секунд в день.\n",
    "Итоги исследования:\n",
    "- всего 455 неэффективных операторов\n",
    "- это 69.57% от всего количества операторов в обзванивающих КЦ\n",
    "- всего 105 КЦ с неэффективными операторами\n",
    "- это 92.92% от всего количества обзванивающих КЦ\n",
    "ID операторов сохранены в списке `ne_operators_out`.\n",
    "ID КЦ с такими операторами в списке `ne_users_out`.\n",
    "\n",
    "Для оценки неэффективности КЦ промежуточного типа использовали комбинированные метрики для КЦ двух типов. \n",
    "\n",
    "По выбранным метрикам для КЦ промежуточного типа:\n",
    "- всего 132 неэффективных операторов в КЦ промежуточного типа\n",
    "- это 85.16% от всего количества операторов в обзванивающих КЦ\n",
    "- всего 41 КЦ с неэффективными операторами\n",
    "- это 100.00% от всего количества обзванивающих КЦ\n",
    "ID операторов сохранены в списке `ne_operators_mid`.\n",
    "ID КЦ с такими операторами в списке `ne_users_mid`.\n",
    "\n",
    "\n",
    "\n",
    "Провели проверку двух гипотез о равенстве долей прпоущенных вызовов и времени ожидания вызова для операторов двух тарифов А и В.\n",
    "\n",
    "**Первую нулевую гипотезу** о том, что доли операторов тарифах А и В, допустивших пропущенный звонок, равны, отвергли.\n",
    "\n",
    "**Во втором** случае не удалось отвергнуть нулевую гипотезу и между долями среднего времени ожидания на тарифах В и С есть значимая разница.\n",
    "\n"
   ]
  },
  {
   "cell_type": "markdown",
   "metadata": {},
   "source": [
    "<div class=\"alert alert-info\">\n",
    "\n",
    "<b>Студент: </b> Поправил выводы\n",
    "</div>"
   ]
  },
  {
   "cell_type": "markdown",
   "metadata": {
    "id": "Rlsve9Es3I3X"
   },
   "source": [
    "## Рекомендации заказчику"
   ]
  },
  {
   "cell_type": "markdown",
   "metadata": {
    "id": "kANifixp40hd"
   },
   "source": [
    "Мы вывели общие алгоритмы оценки неэффективности работы операторов. Работа была осложнена смешанным составом КЦ и общей неоднородностью операторов. В КЦ, занимающемся в основном обзвоном, работают операторы, не сделавшие ни одного исходящего звонка, и наоборот.\n",
    "\n",
    "Неоднородность данных и значительное количество пропусков и дубликатов значительно снизила точность алгоритмов оценки. \n",
    "Рекомендую в дальнейшем:\n",
    "1. Вести лог чище, без дублирования и пропусков\n",
    "2. Рекомендовать клиентам делать КЦ с узкой направленностью\n",
    "3. Если бизнес клиента подразумевает и входящие, и исходящие вызовы, разделить штат операторов на несколько КЦ, занимающихся исключительно одним направлением деятельности\n",
    "4. Предоставлять, по возможности, для анализа лог не в аггрегированном виде, а в \"сыром\" состоянии, для более детального изучения деятельности оператора. Очень многие параметры выведены как среднее по все сессии.\n",
    "\n",
    "\n",
    "<div class=\"alert alert-success\">\n",
    "    \n",
    "**Комментарий ревьюера**\n",
    "\n",
    "**#ок**\n",
    "\n",
    "В этой части рекомендации соответствуют задаче\n",
    "\n",
    "\n",
    "</div>\n",
    "\n",
    "\n",
    "\n",
    "<div class=\"alert alert-warning\">\n",
    "    \n",
    "**Комментарий ревьюера**\n",
    "\n",
    "**#можно лучше**\n",
    "\n",
    "А вот это лишнее, не относится к нашей задаче. Наш заказчик не имеет доступа к операторам, не может определять нормы для них, никак не влияет на штат.\n",
    "    \n",
    "</div>\n"
   ]
  },
  {
   "cell_type": "markdown",
   "metadata": {},
   "source": [
    "<div class=\"alert alert-info\">\n",
    "\n",
    "<b>Студент: </b> Убрал лишнее\n",
    "</div>"
   ]
  },
  {
   "cell_type": "markdown",
   "metadata": {},
   "source": [
    "<div class=\"alert alert-info\">\n",
    "\n",
    "<b>Студент: </b> Вера, спасибо за феномаенально быстрые проверки! Другие тимлиды этим не отличаются. И спасибо за помощь в нахождении порога для исходящих.\n",
    "</div>"
   ]
  },
  {
   "cell_type": "markdown",
   "metadata": {},
   "source": [
    "<div class=\"alert alert-info\">\n",
    "\n",
    "<b>Студент: </b> Жду с проверки и потом отправлю с презентацией, пока на 100% не уверен.\n",
    "</div>"
   ]
  },
  {
   "cell_type": "markdown",
   "metadata": {},
   "source": [
    "<div class=\"alert alert-success\">\n",
    "    \n",
    "**Комментарий ревьюера - 2**\n",
    "\n",
    "**#ок**\n",
    "\n",
    "Ссылку на презентацию добавь в следующую часть вместе с дашбордами\n",
    "\n",
    "</div>"
   ]
  }
 ],
 "metadata": {
  "ExecuteTimeLog": [
   {
    "duration": 1390,
    "start_time": "2022-08-30T15:06:22.882Z"
   },
   {
    "duration": 762,
    "start_time": "2022-08-30T15:06:24.274Z"
   },
   {
    "duration": 95,
    "start_time": "2022-08-30T15:06:25.882Z"
   },
   {
    "duration": 13,
    "start_time": "2022-08-30T15:06:30.899Z"
   },
   {
    "duration": 83,
    "start_time": "2022-08-31T03:31:57.859Z"
   },
   {
    "duration": 461,
    "start_time": "2022-08-31T03:32:43.795Z"
   },
   {
    "duration": 354,
    "start_time": "2022-08-31T03:33:09.295Z"
   },
   {
    "duration": 446,
    "start_time": "2022-08-31T03:33:18.555Z"
   },
   {
    "duration": 74,
    "start_time": "2022-08-31T03:33:43.481Z"
   },
   {
    "duration": 88,
    "start_time": "2022-08-31T03:34:04.933Z"
   },
   {
    "duration": 76,
    "start_time": "2022-08-31T03:34:36.157Z"
   },
   {
    "duration": 76,
    "start_time": "2022-08-31T03:38:59.873Z"
   },
   {
    "duration": 74,
    "start_time": "2022-08-31T03:42:52.180Z"
   },
   {
    "duration": 53,
    "start_time": "2022-08-31T03:45:35.389Z"
   },
   {
    "duration": 1556,
    "start_time": "2022-08-31T03:45:45.708Z"
   },
   {
    "duration": 559,
    "start_time": "2022-08-31T03:46:00.432Z"
   },
   {
    "duration": 73,
    "start_time": "2022-08-31T03:46:37.250Z"
   },
   {
    "duration": 39,
    "start_time": "2022-08-31T03:47:34.478Z"
   },
   {
    "duration": 20,
    "start_time": "2022-08-31T03:47:44.459Z"
   },
   {
    "duration": 26,
    "start_time": "2022-08-31T03:47:48.749Z"
   },
   {
    "duration": 21,
    "start_time": "2022-08-31T03:47:50.040Z"
   },
   {
    "duration": 14,
    "start_time": "2022-08-31T03:47:53.276Z"
   },
   {
    "duration": 7,
    "start_time": "2022-08-31T03:47:53.678Z"
   },
   {
    "duration": 13,
    "start_time": "2022-08-31T03:47:54.668Z"
   },
   {
    "duration": 3215,
    "start_time": "2022-08-31T03:47:56.992Z"
   },
   {
    "duration": 40,
    "start_time": "2022-08-31T03:48:00.209Z"
   },
   {
    "duration": 795,
    "start_time": "2022-08-31T03:48:00.251Z"
   },
   {
    "duration": 472,
    "start_time": "2022-08-31T03:48:01.048Z"
   },
   {
    "duration": 301,
    "start_time": "2022-08-31T03:51:49.158Z"
   },
   {
    "duration": 378,
    "start_time": "2022-08-31T03:51:50.544Z"
   },
   {
    "duration": 14,
    "start_time": "2022-08-31T03:51:54.587Z"
   },
   {
    "duration": 25,
    "start_time": "2022-08-31T03:52:00.257Z"
   },
   {
    "duration": 155,
    "start_time": "2022-08-31T03:52:07.217Z"
   },
   {
    "duration": 5,
    "start_time": "2022-08-31T03:52:13.465Z"
   },
   {
    "duration": 4,
    "start_time": "2022-08-31T03:52:15.067Z"
   },
   {
    "duration": 20,
    "start_time": "2022-08-31T03:52:17.117Z"
   },
   {
    "duration": 20,
    "start_time": "2022-08-31T03:52:27.641Z"
   },
   {
    "duration": 18,
    "start_time": "2022-08-31T03:53:04.298Z"
   },
   {
    "duration": 5,
    "start_time": "2022-08-31T03:53:06.226Z"
   },
   {
    "duration": 4,
    "start_time": "2022-08-31T03:53:07.776Z"
   },
   {
    "duration": 7,
    "start_time": "2022-08-31T03:53:08.874Z"
   },
   {
    "duration": 5,
    "start_time": "2022-08-31T03:53:13.260Z"
   },
   {
    "duration": 4,
    "start_time": "2022-08-31T03:53:14.891Z"
   },
   {
    "duration": 5,
    "start_time": "2022-08-31T03:53:15.231Z"
   },
   {
    "duration": 17,
    "start_time": "2022-08-31T03:53:16.635Z"
   },
   {
    "duration": 20,
    "start_time": "2022-08-31T03:53:18.222Z"
   },
   {
    "duration": 13,
    "start_time": "2022-08-31T03:53:18.639Z"
   },
   {
    "duration": 5,
    "start_time": "2022-08-31T03:53:19.699Z"
   },
   {
    "duration": 5,
    "start_time": "2022-08-31T03:53:20.279Z"
   },
   {
    "duration": 5,
    "start_time": "2022-08-31T03:53:21.604Z"
   },
   {
    "duration": 7,
    "start_time": "2022-08-31T03:53:22.933Z"
   },
   {
    "duration": 123,
    "start_time": "2022-08-31T03:53:26.397Z"
   },
   {
    "duration": 28,
    "start_time": "2022-08-31T03:53:27.337Z"
   },
   {
    "duration": 15,
    "start_time": "2022-08-31T03:53:28.592Z"
   },
   {
    "duration": 29,
    "start_time": "2022-08-31T03:53:31.433Z"
   },
   {
    "duration": 5,
    "start_time": "2022-08-31T03:53:32.971Z"
   },
   {
    "duration": 28,
    "start_time": "2022-08-31T03:54:01.468Z"
   },
   {
    "duration": 341,
    "start_time": "2022-08-31T03:54:15.447Z"
   },
   {
    "duration": 27,
    "start_time": "2022-08-31T03:54:22.578Z"
   },
   {
    "duration": 9,
    "start_time": "2022-08-31T03:57:18.030Z"
   },
   {
    "duration": 17,
    "start_time": "2022-08-31T03:57:19.927Z"
   },
   {
    "duration": 1380,
    "start_time": "2022-08-31T04:03:54.567Z"
   },
   {
    "duration": 14,
    "start_time": "2022-08-31T04:04:00.380Z"
   },
   {
    "duration": 15,
    "start_time": "2022-08-31T04:04:01.994Z"
   },
   {
    "duration": 14,
    "start_time": "2022-08-31T04:04:25.203Z"
   },
   {
    "duration": 14,
    "start_time": "2022-08-31T04:08:27.924Z"
   },
   {
    "duration": 17,
    "start_time": "2022-08-31T04:18:11.533Z"
   },
   {
    "duration": 12,
    "start_time": "2022-08-31T04:18:12.818Z"
   },
   {
    "duration": 15,
    "start_time": "2022-08-31T04:18:14.483Z"
   },
   {
    "duration": 18,
    "start_time": "2022-08-31T04:18:17.361Z"
   },
   {
    "duration": 5,
    "start_time": "2022-08-31T04:18:23.693Z"
   },
   {
    "duration": 14,
    "start_time": "2022-08-31T04:18:25.183Z"
   },
   {
    "duration": 7,
    "start_time": "2022-08-31T04:18:26.972Z"
   },
   {
    "duration": 11,
    "start_time": "2022-08-31T04:18:29.229Z"
   },
   {
    "duration": 7,
    "start_time": "2022-08-31T04:18:34.812Z"
   },
   {
    "duration": 27,
    "start_time": "2022-08-31T04:18:40.811Z"
   },
   {
    "duration": 11,
    "start_time": "2022-08-31T04:18:51.942Z"
   },
   {
    "duration": 26,
    "start_time": "2022-08-31T04:18:54.262Z"
   },
   {
    "duration": 10,
    "start_time": "2022-08-31T04:18:55.947Z"
   },
   {
    "duration": 4,
    "start_time": "2022-08-31T04:18:57.551Z"
   },
   {
    "duration": 5,
    "start_time": "2022-08-31T04:19:01.939Z"
   },
   {
    "duration": 26,
    "start_time": "2022-08-31T04:19:05.994Z"
   },
   {
    "duration": 6,
    "start_time": "2022-08-31T04:19:07.374Z"
   },
   {
    "duration": 27,
    "start_time": "2022-08-31T04:19:53.140Z"
   },
   {
    "duration": 12,
    "start_time": "2022-08-31T04:20:03.594Z"
   },
   {
    "duration": 11,
    "start_time": "2022-08-31T04:20:04.745Z"
   },
   {
    "duration": 13,
    "start_time": "2022-08-31T04:20:22.320Z"
   },
   {
    "duration": 6,
    "start_time": "2022-08-31T04:20:24.548Z"
   },
   {
    "duration": 6,
    "start_time": "2022-08-31T04:20:41.530Z"
   },
   {
    "duration": 21,
    "start_time": "2022-08-31T04:20:43.358Z"
   },
   {
    "duration": 15,
    "start_time": "2022-08-31T04:20:58.970Z"
   },
   {
    "duration": 11,
    "start_time": "2022-08-31T04:21:05.657Z"
   },
   {
    "duration": 223,
    "start_time": "2022-08-31T04:21:13.504Z"
   },
   {
    "duration": 2237,
    "start_time": "2022-08-31T04:21:17.613Z"
   },
   {
    "duration": 13,
    "start_time": "2022-08-31T04:21:36.230Z"
   },
   {
    "duration": 9,
    "start_time": "2022-08-31T04:24:08.317Z"
   },
   {
    "duration": 16,
    "start_time": "2022-08-31T04:24:36.483Z"
   },
   {
    "duration": 4,
    "start_time": "2022-08-31T04:24:39.727Z"
   },
   {
    "duration": 4,
    "start_time": "2022-08-31T04:24:41.500Z"
   },
   {
    "duration": 7,
    "start_time": "2022-08-31T04:24:50.378Z"
   },
   {
    "duration": 6,
    "start_time": "2022-08-31T04:26:21.630Z"
   },
   {
    "duration": 9,
    "start_time": "2022-08-31T04:26:21.639Z"
   },
   {
    "duration": 88,
    "start_time": "2022-08-31T04:26:21.650Z"
   },
   {
    "duration": 27,
    "start_time": "2022-08-31T04:26:21.740Z"
   },
   {
    "duration": 48,
    "start_time": "2022-08-31T04:26:21.769Z"
   },
   {
    "duration": 25,
    "start_time": "2022-08-31T04:26:21.819Z"
   },
   {
    "duration": 75,
    "start_time": "2022-08-31T04:26:21.847Z"
   },
   {
    "duration": 25,
    "start_time": "2022-08-31T04:26:21.924Z"
   },
   {
    "duration": 46,
    "start_time": "2022-08-31T04:26:21.951Z"
   },
   {
    "duration": 25,
    "start_time": "2022-08-31T04:26:21.999Z"
   },
   {
    "duration": 28,
    "start_time": "2022-08-31T04:26:22.028Z"
   },
   {
    "duration": 2252,
    "start_time": "2022-08-31T04:26:22.058Z"
   },
   {
    "duration": 3,
    "start_time": "2022-08-31T04:26:24.312Z"
   },
   {
    "duration": 807,
    "start_time": "2022-08-31T04:26:24.317Z"
   },
   {
    "duration": 457,
    "start_time": "2022-08-31T04:26:25.126Z"
   },
   {
    "duration": 310,
    "start_time": "2022-08-31T04:26:25.585Z"
   },
   {
    "duration": 369,
    "start_time": "2022-08-31T04:26:25.898Z"
   },
   {
    "duration": 24,
    "start_time": "2022-08-31T04:26:26.269Z"
   },
   {
    "duration": 18,
    "start_time": "2022-08-31T04:26:26.294Z"
   },
   {
    "duration": 182,
    "start_time": "2022-08-31T04:26:26.314Z"
   },
   {
    "duration": 5,
    "start_time": "2022-08-31T04:26:26.498Z"
   },
   {
    "duration": 6,
    "start_time": "2022-08-31T04:26:26.505Z"
   },
   {
    "duration": 22,
    "start_time": "2022-08-31T04:26:26.513Z"
   },
   {
    "duration": 26,
    "start_time": "2022-08-31T04:26:26.536Z"
   },
   {
    "duration": 4,
    "start_time": "2022-08-31T04:26:26.564Z"
   },
   {
    "duration": 5,
    "start_time": "2022-08-31T04:26:26.591Z"
   },
   {
    "duration": 8,
    "start_time": "2022-08-31T04:26:26.598Z"
   },
   {
    "duration": 8,
    "start_time": "2022-08-31T04:26:26.607Z"
   },
   {
    "duration": 4,
    "start_time": "2022-08-31T04:26:26.620Z"
   },
   {
    "duration": 21,
    "start_time": "2022-08-31T04:26:26.626Z"
   },
   {
    "duration": 19,
    "start_time": "2022-08-31T04:26:26.649Z"
   },
   {
    "duration": 21,
    "start_time": "2022-08-31T04:26:26.691Z"
   },
   {
    "duration": 15,
    "start_time": "2022-08-31T04:26:26.714Z"
   },
   {
    "duration": 12,
    "start_time": "2022-08-31T04:26:26.731Z"
   },
   {
    "duration": 7,
    "start_time": "2022-08-31T04:26:26.745Z"
   },
   {
    "duration": 6,
    "start_time": "2022-08-31T04:26:26.754Z"
   },
   {
    "duration": 31,
    "start_time": "2022-08-31T04:26:26.762Z"
   },
   {
    "duration": 22,
    "start_time": "2022-08-31T04:26:26.795Z"
   },
   {
    "duration": 33,
    "start_time": "2022-08-31T04:26:26.819Z"
   },
   {
    "duration": 43,
    "start_time": "2022-08-31T04:26:26.854Z"
   },
   {
    "duration": 30,
    "start_time": "2022-08-31T04:26:26.899Z"
   },
   {
    "duration": 6,
    "start_time": "2022-08-31T04:26:26.931Z"
   },
   {
    "duration": 57,
    "start_time": "2022-08-31T04:26:26.938Z"
   },
   {
    "duration": 365,
    "start_time": "2022-08-31T04:26:26.997Z"
   },
   {
    "duration": 45,
    "start_time": "2022-08-31T04:26:27.364Z"
   },
   {
    "duration": 10,
    "start_time": "2022-08-31T04:26:27.411Z"
   },
   {
    "duration": 19,
    "start_time": "2022-08-31T04:26:27.423Z"
   },
   {
    "duration": 49,
    "start_time": "2022-08-31T04:26:27.444Z"
   },
   {
    "duration": 20,
    "start_time": "2022-08-31T04:26:27.495Z"
   },
   {
    "duration": 12,
    "start_time": "2022-08-31T04:26:27.517Z"
   },
   {
    "duration": 16,
    "start_time": "2022-08-31T04:26:27.531Z"
   },
   {
    "duration": 17,
    "start_time": "2022-08-31T04:26:27.549Z"
   },
   {
    "duration": 5,
    "start_time": "2022-08-31T04:26:27.592Z"
   },
   {
    "duration": 15,
    "start_time": "2022-08-31T04:26:27.599Z"
   },
   {
    "duration": 13,
    "start_time": "2022-08-31T04:26:27.615Z"
   },
   {
    "duration": 14,
    "start_time": "2022-08-31T04:26:27.630Z"
   },
   {
    "duration": 8,
    "start_time": "2022-08-31T04:26:27.646Z"
   },
   {
    "duration": 51,
    "start_time": "2022-08-31T04:26:27.656Z"
   },
   {
    "duration": 10,
    "start_time": "2022-08-31T04:26:27.709Z"
   },
   {
    "duration": 35,
    "start_time": "2022-08-31T04:26:27.720Z"
   },
   {
    "duration": 8,
    "start_time": "2022-08-31T04:26:27.757Z"
   },
   {
    "duration": 12,
    "start_time": "2022-08-31T04:26:27.767Z"
   },
   {
    "duration": 12,
    "start_time": "2022-08-31T04:26:27.781Z"
   },
   {
    "duration": 26,
    "start_time": "2022-08-31T04:26:27.795Z"
   },
   {
    "duration": 7,
    "start_time": "2022-08-31T04:26:27.823Z"
   },
   {
    "duration": 36,
    "start_time": "2022-08-31T04:26:27.831Z"
   },
   {
    "duration": 30,
    "start_time": "2022-08-31T04:26:27.869Z"
   },
   {
    "duration": 9,
    "start_time": "2022-08-31T04:26:27.900Z"
   },
   {
    "duration": 13,
    "start_time": "2022-08-31T04:26:27.911Z"
   },
   {
    "duration": 7,
    "start_time": "2022-08-31T04:26:27.926Z"
   },
   {
    "duration": 10,
    "start_time": "2022-08-31T04:26:27.934Z"
   },
   {
    "duration": 51,
    "start_time": "2022-08-31T04:26:27.946Z"
   },
   {
    "duration": 12,
    "start_time": "2022-08-31T04:26:27.999Z"
   },
   {
    "duration": 15,
    "start_time": "2022-08-31T04:26:28.012Z"
   },
   {
    "duration": 245,
    "start_time": "2022-08-31T04:26:28.029Z"
   },
   {
    "duration": 2435,
    "start_time": "2022-08-31T04:26:28.276Z"
   },
   {
    "duration": 12,
    "start_time": "2022-08-31T04:26:30.713Z"
   },
   {
    "duration": 8,
    "start_time": "2022-08-31T04:26:30.727Z"
   },
   {
    "duration": 15,
    "start_time": "2022-08-31T04:26:30.738Z"
   },
   {
    "duration": 13,
    "start_time": "2022-08-31T04:26:30.756Z"
   },
   {
    "duration": 25,
    "start_time": "2022-08-31T04:26:30.770Z"
   },
   {
    "duration": 11,
    "start_time": "2022-08-31T04:26:30.797Z"
   },
   {
    "duration": 22,
    "start_time": "2022-08-31T04:26:30.815Z"
   },
   {
    "duration": 15,
    "start_time": "2022-08-31T04:26:30.840Z"
   },
   {
    "duration": 9,
    "start_time": "2022-08-31T04:27:38.353Z"
   },
   {
    "duration": 792,
    "start_time": "2022-08-31T04:27:40.784Z"
   },
   {
    "duration": 8,
    "start_time": "2022-08-31T05:29:07.275Z"
   },
   {
    "duration": 11,
    "start_time": "2022-08-31T05:29:07.286Z"
   },
   {
    "duration": 91,
    "start_time": "2022-08-31T05:29:07.299Z"
   },
   {
    "duration": 29,
    "start_time": "2022-08-31T05:29:07.392Z"
   },
   {
    "duration": 38,
    "start_time": "2022-08-31T05:29:07.423Z"
   },
   {
    "duration": 40,
    "start_time": "2022-08-31T05:29:07.464Z"
   },
   {
    "duration": 26,
    "start_time": "2022-08-31T05:29:07.507Z"
   },
   {
    "duration": 64,
    "start_time": "2022-08-31T05:29:07.536Z"
   },
   {
    "duration": 11,
    "start_time": "2022-08-31T05:29:07.603Z"
   },
   {
    "duration": 7,
    "start_time": "2022-08-31T05:29:07.616Z"
   },
   {
    "duration": 18,
    "start_time": "2022-08-31T05:29:07.624Z"
   },
   {
    "duration": 2481,
    "start_time": "2022-08-31T05:29:07.643Z"
   },
   {
    "duration": 4,
    "start_time": "2022-08-31T05:29:10.126Z"
   },
   {
    "duration": 878,
    "start_time": "2022-08-31T05:29:10.131Z"
   },
   {
    "duration": 458,
    "start_time": "2022-08-31T05:29:11.011Z"
   },
   {
    "duration": 314,
    "start_time": "2022-08-31T05:29:11.471Z"
   },
   {
    "duration": 425,
    "start_time": "2022-08-31T05:29:11.788Z"
   },
   {
    "duration": 15,
    "start_time": "2022-08-31T05:29:12.215Z"
   },
   {
    "duration": 45,
    "start_time": "2022-08-31T05:29:12.231Z"
   },
   {
    "duration": 173,
    "start_time": "2022-08-31T05:29:12.278Z"
   },
   {
    "duration": 7,
    "start_time": "2022-08-31T05:29:12.453Z"
   },
   {
    "duration": 25,
    "start_time": "2022-08-31T05:29:12.461Z"
   },
   {
    "duration": 32,
    "start_time": "2022-08-31T05:29:12.487Z"
   },
   {
    "duration": 36,
    "start_time": "2022-08-31T05:29:12.526Z"
   },
   {
    "duration": 5,
    "start_time": "2022-08-31T05:29:12.564Z"
   },
   {
    "duration": 18,
    "start_time": "2022-08-31T05:29:12.571Z"
   },
   {
    "duration": 11,
    "start_time": "2022-08-31T05:29:12.591Z"
   },
   {
    "duration": 8,
    "start_time": "2022-08-31T05:29:12.604Z"
   },
   {
    "duration": 7,
    "start_time": "2022-08-31T05:29:12.614Z"
   },
   {
    "duration": 8,
    "start_time": "2022-08-31T05:29:12.624Z"
   },
   {
    "duration": 36,
    "start_time": "2022-08-31T05:29:12.634Z"
   },
   {
    "duration": 41,
    "start_time": "2022-08-31T05:29:12.672Z"
   },
   {
    "duration": 21,
    "start_time": "2022-08-31T05:29:12.715Z"
   },
   {
    "duration": 8,
    "start_time": "2022-08-31T05:29:12.738Z"
   },
   {
    "duration": 8,
    "start_time": "2022-08-31T05:29:12.748Z"
   },
   {
    "duration": 12,
    "start_time": "2022-08-31T05:29:12.758Z"
   },
   {
    "duration": 27,
    "start_time": "2022-08-31T05:29:12.772Z"
   },
   {
    "duration": 23,
    "start_time": "2022-08-31T05:29:12.801Z"
   },
   {
    "duration": 36,
    "start_time": "2022-08-31T05:29:12.826Z"
   },
   {
    "duration": 37,
    "start_time": "2022-08-31T05:29:12.863Z"
   },
   {
    "duration": 28,
    "start_time": "2022-08-31T05:29:12.902Z"
   },
   {
    "duration": 6,
    "start_time": "2022-08-31T05:29:12.932Z"
   },
   {
    "duration": 59,
    "start_time": "2022-08-31T05:29:12.940Z"
   },
   {
    "duration": 357,
    "start_time": "2022-08-31T05:29:13.001Z"
   },
   {
    "duration": 44,
    "start_time": "2022-08-31T05:29:13.360Z"
   },
   {
    "duration": 8,
    "start_time": "2022-08-31T05:29:13.406Z"
   },
   {
    "duration": 33,
    "start_time": "2022-08-31T05:29:13.415Z"
   },
   {
    "duration": 19,
    "start_time": "2022-08-31T05:29:13.449Z"
   },
   {
    "duration": 22,
    "start_time": "2022-08-31T05:29:13.470Z"
   },
   {
    "duration": 15,
    "start_time": "2022-08-31T05:29:13.494Z"
   },
   {
    "duration": 29,
    "start_time": "2022-08-31T05:29:13.510Z"
   },
   {
    "duration": 44,
    "start_time": "2022-08-31T05:29:13.541Z"
   },
   {
    "duration": 10,
    "start_time": "2022-08-31T05:29:13.587Z"
   },
   {
    "duration": 34,
    "start_time": "2022-08-31T05:29:13.599Z"
   },
   {
    "duration": 40,
    "start_time": "2022-08-31T05:29:13.635Z"
   },
   {
    "duration": 38,
    "start_time": "2022-08-31T05:29:13.677Z"
   },
   {
    "duration": 24,
    "start_time": "2022-08-31T05:29:13.717Z"
   },
   {
    "duration": 39,
    "start_time": "2022-08-31T05:29:13.743Z"
   },
   {
    "duration": 9,
    "start_time": "2022-08-31T05:29:13.783Z"
   },
   {
    "duration": 38,
    "start_time": "2022-08-31T05:29:13.794Z"
   },
   {
    "duration": 14,
    "start_time": "2022-08-31T05:29:13.833Z"
   },
   {
    "duration": 20,
    "start_time": "2022-08-31T05:29:13.849Z"
   },
   {
    "duration": 32,
    "start_time": "2022-08-31T05:29:13.871Z"
   },
   {
    "duration": 39,
    "start_time": "2022-08-31T05:29:13.905Z"
   },
   {
    "duration": 9,
    "start_time": "2022-08-31T05:29:13.945Z"
   },
   {
    "duration": 49,
    "start_time": "2022-08-31T05:29:13.956Z"
   },
   {
    "duration": 18,
    "start_time": "2022-08-31T05:29:14.007Z"
   },
   {
    "duration": 40,
    "start_time": "2022-08-31T05:29:14.028Z"
   },
   {
    "duration": 33,
    "start_time": "2022-08-31T05:29:14.074Z"
   },
   {
    "duration": 23,
    "start_time": "2022-08-31T05:29:14.109Z"
   },
   {
    "duration": 38,
    "start_time": "2022-08-31T05:29:14.134Z"
   },
   {
    "duration": 33,
    "start_time": "2022-08-31T05:29:14.174Z"
   },
   {
    "duration": 12,
    "start_time": "2022-08-31T05:29:14.208Z"
   },
   {
    "duration": 18,
    "start_time": "2022-08-31T05:29:14.221Z"
   },
   {
    "duration": 246,
    "start_time": "2022-08-31T05:29:14.240Z"
   },
   {
    "duration": 2221,
    "start_time": "2022-08-31T05:29:14.491Z"
   },
   {
    "duration": 13,
    "start_time": "2022-08-31T05:29:16.714Z"
   },
   {
    "duration": 30,
    "start_time": "2022-08-31T05:29:16.728Z"
   },
   {
    "duration": 23,
    "start_time": "2022-08-31T05:29:16.761Z"
   },
   {
    "duration": 6,
    "start_time": "2022-08-31T05:29:16.786Z"
   },
   {
    "duration": 14,
    "start_time": "2022-08-31T05:29:16.794Z"
   },
   {
    "duration": 12,
    "start_time": "2022-08-31T05:29:16.811Z"
   },
   {
    "duration": 41,
    "start_time": "2022-08-31T05:29:16.825Z"
   },
   {
    "duration": 20,
    "start_time": "2022-08-31T05:29:16.868Z"
   },
   {
    "duration": 379,
    "start_time": "2022-08-31T05:29:16.890Z"
   },
   {
    "duration": 615,
    "start_time": "2022-08-31T05:32:11.741Z"
   },
   {
    "duration": 13,
    "start_time": "2022-08-31T05:34:28.704Z"
   },
   {
    "duration": 29,
    "start_time": "2022-08-31T05:43:27.353Z"
   },
   {
    "duration": 12,
    "start_time": "2022-08-31T05:43:40.777Z"
   },
   {
    "duration": 7,
    "start_time": "2022-08-31T05:43:44.292Z"
   },
   {
    "duration": 23,
    "start_time": "2022-08-31T05:43:53.519Z"
   },
   {
    "duration": 22,
    "start_time": "2022-08-31T05:44:42.587Z"
   },
   {
    "duration": 16,
    "start_time": "2022-08-31T05:44:57.390Z"
   },
   {
    "duration": 17,
    "start_time": "2022-08-31T05:46:00.464Z"
   },
   {
    "duration": 333,
    "start_time": "2022-08-31T05:46:58.219Z"
   },
   {
    "duration": 222,
    "start_time": "2022-08-31T05:47:13.180Z"
   },
   {
    "duration": 24,
    "start_time": "2022-08-31T05:47:43.131Z"
   },
   {
    "duration": 383,
    "start_time": "2022-08-31T05:47:44.373Z"
   },
   {
    "duration": 565,
    "start_time": "2022-08-31T05:48:31.376Z"
   },
   {
    "duration": 1045,
    "start_time": "2022-08-31T05:52:10.924Z"
   },
   {
    "duration": 23,
    "start_time": "2022-08-31T05:53:30.551Z"
   },
   {
    "duration": 27,
    "start_time": "2022-08-31T05:53:39.143Z"
   },
   {
    "duration": 3,
    "start_time": "2022-08-31T05:53:41.436Z"
   },
   {
    "duration": 4,
    "start_time": "2022-08-31T05:53:42.880Z"
   },
   {
    "duration": 283,
    "start_time": "2022-08-31T05:55:34.812Z"
   },
   {
    "duration": 5,
    "start_time": "2022-08-31T06:01:27.071Z"
   },
   {
    "duration": 13,
    "start_time": "2022-08-31T06:01:27.079Z"
   },
   {
    "duration": 89,
    "start_time": "2022-08-31T06:01:27.094Z"
   },
   {
    "duration": 27,
    "start_time": "2022-08-31T06:01:27.186Z"
   },
   {
    "duration": 34,
    "start_time": "2022-08-31T06:01:27.214Z"
   },
   {
    "duration": 20,
    "start_time": "2022-08-31T06:01:27.250Z"
   },
   {
    "duration": 24,
    "start_time": "2022-08-31T06:01:27.292Z"
   },
   {
    "duration": 471,
    "start_time": "2022-08-31T06:01:27.317Z"
   },
   {
    "duration": 11,
    "start_time": "2022-08-31T06:01:27.793Z"
   },
   {
    "duration": 14,
    "start_time": "2022-08-31T06:01:27.805Z"
   },
   {
    "duration": 15,
    "start_time": "2022-08-31T06:01:27.821Z"
   },
   {
    "duration": 2401,
    "start_time": "2022-08-31T06:01:27.838Z"
   },
   {
    "duration": 4,
    "start_time": "2022-08-31T06:01:30.241Z"
   },
   {
    "duration": 916,
    "start_time": "2022-08-31T06:01:30.248Z"
   },
   {
    "duration": 478,
    "start_time": "2022-08-31T06:01:31.166Z"
   },
   {
    "duration": 358,
    "start_time": "2022-08-31T06:01:31.646Z"
   },
   {
    "duration": 380,
    "start_time": "2022-08-31T06:01:32.006Z"
   },
   {
    "duration": 15,
    "start_time": "2022-08-31T06:01:32.388Z"
   },
   {
    "duration": 16,
    "start_time": "2022-08-31T06:01:32.405Z"
   },
   {
    "duration": 221,
    "start_time": "2022-08-31T06:01:32.423Z"
   },
   {
    "duration": 6,
    "start_time": "2022-08-31T06:01:32.646Z"
   },
   {
    "duration": 17,
    "start_time": "2022-08-31T06:01:32.653Z"
   },
   {
    "duration": 20,
    "start_time": "2022-08-31T06:01:32.672Z"
   },
   {
    "duration": 24,
    "start_time": "2022-08-31T06:01:32.696Z"
   },
   {
    "duration": 4,
    "start_time": "2022-08-31T06:01:32.722Z"
   },
   {
    "duration": 16,
    "start_time": "2022-08-31T06:01:32.727Z"
   },
   {
    "duration": 14,
    "start_time": "2022-08-31T06:01:32.744Z"
   },
   {
    "duration": 12,
    "start_time": "2022-08-31T06:01:32.760Z"
   },
   {
    "duration": 18,
    "start_time": "2022-08-31T06:01:32.774Z"
   },
   {
    "duration": 6,
    "start_time": "2022-08-31T06:01:32.794Z"
   },
   {
    "duration": 27,
    "start_time": "2022-08-31T06:01:32.802Z"
   },
   {
    "duration": 21,
    "start_time": "2022-08-31T06:01:32.831Z"
   },
   {
    "duration": 26,
    "start_time": "2022-08-31T06:01:32.855Z"
   },
   {
    "duration": 13,
    "start_time": "2022-08-31T06:01:32.892Z"
   },
   {
    "duration": 14,
    "start_time": "2022-08-31T06:01:32.907Z"
   },
   {
    "duration": 17,
    "start_time": "2022-08-31T06:01:32.923Z"
   },
   {
    "duration": 18,
    "start_time": "2022-08-31T06:01:32.942Z"
   },
   {
    "duration": 21,
    "start_time": "2022-08-31T06:01:32.961Z"
   },
   {
    "duration": 29,
    "start_time": "2022-08-31T06:01:32.984Z"
   },
   {
    "duration": 16,
    "start_time": "2022-08-31T06:01:33.014Z"
   },
   {
    "duration": 34,
    "start_time": "2022-08-31T06:01:33.031Z"
   },
   {
    "duration": 27,
    "start_time": "2022-08-31T06:01:33.066Z"
   },
   {
    "duration": 30,
    "start_time": "2022-08-31T06:01:33.095Z"
   },
   {
    "duration": 496,
    "start_time": "2022-08-31T06:01:33.127Z"
   },
   {
    "duration": 28,
    "start_time": "2022-08-31T06:01:33.625Z"
   },
   {
    "duration": 38,
    "start_time": "2022-08-31T06:01:33.654Z"
   },
   {
    "duration": 16,
    "start_time": "2022-08-31T06:01:33.694Z"
   },
   {
    "duration": 13,
    "start_time": "2022-08-31T06:01:33.712Z"
   },
   {
    "duration": 17,
    "start_time": "2022-08-31T06:01:33.727Z"
   },
   {
    "duration": 11,
    "start_time": "2022-08-31T06:01:33.746Z"
   },
   {
    "duration": 14,
    "start_time": "2022-08-31T06:01:33.791Z"
   },
   {
    "duration": 16,
    "start_time": "2022-08-31T06:01:33.807Z"
   },
   {
    "duration": 7,
    "start_time": "2022-08-31T06:01:33.824Z"
   },
   {
    "duration": 17,
    "start_time": "2022-08-31T06:01:33.832Z"
   },
   {
    "duration": 19,
    "start_time": "2022-08-31T06:01:33.851Z"
   },
   {
    "duration": 29,
    "start_time": "2022-08-31T06:01:33.871Z"
   },
   {
    "duration": 15,
    "start_time": "2022-08-31T06:01:33.902Z"
   },
   {
    "duration": 33,
    "start_time": "2022-08-31T06:01:33.918Z"
   },
   {
    "duration": 23,
    "start_time": "2022-08-31T06:01:33.953Z"
   },
   {
    "duration": 46,
    "start_time": "2022-08-31T06:01:33.978Z"
   },
   {
    "duration": 9,
    "start_time": "2022-08-31T06:01:34.026Z"
   },
   {
    "duration": 19,
    "start_time": "2022-08-31T06:01:34.037Z"
   },
   {
    "duration": 13,
    "start_time": "2022-08-31T06:01:34.058Z"
   },
   {
    "duration": 28,
    "start_time": "2022-08-31T06:01:34.072Z"
   },
   {
    "duration": 6,
    "start_time": "2022-08-31T06:01:34.102Z"
   },
   {
    "duration": 36,
    "start_time": "2022-08-31T06:01:34.110Z"
   },
   {
    "duration": 14,
    "start_time": "2022-08-31T06:01:34.148Z"
   },
   {
    "duration": 10,
    "start_time": "2022-08-31T06:01:34.163Z"
   },
   {
    "duration": 21,
    "start_time": "2022-08-31T06:01:34.195Z"
   },
   {
    "duration": 21,
    "start_time": "2022-08-31T06:01:34.218Z"
   },
   {
    "duration": 8,
    "start_time": "2022-08-31T06:01:34.241Z"
   },
   {
    "duration": 27,
    "start_time": "2022-08-31T06:01:34.251Z"
   },
   {
    "duration": 18,
    "start_time": "2022-08-31T06:01:34.279Z"
   },
   {
    "duration": 18,
    "start_time": "2022-08-31T06:01:34.299Z"
   },
   {
    "duration": 317,
    "start_time": "2022-08-31T06:01:34.319Z"
   },
   {
    "duration": 2415,
    "start_time": "2022-08-31T06:01:34.639Z"
   },
   {
    "duration": 13,
    "start_time": "2022-08-31T06:01:37.055Z"
   },
   {
    "duration": 23,
    "start_time": "2022-08-31T06:01:37.069Z"
   },
   {
    "duration": 14,
    "start_time": "2022-08-31T06:01:37.094Z"
   },
   {
    "duration": 8,
    "start_time": "2022-08-31T06:01:37.110Z"
   },
   {
    "duration": 6,
    "start_time": "2022-08-31T06:01:37.119Z"
   },
   {
    "duration": 12,
    "start_time": "2022-08-31T06:01:37.127Z"
   },
   {
    "duration": 17,
    "start_time": "2022-08-31T06:01:37.140Z"
   },
   {
    "duration": 33,
    "start_time": "2022-08-31T06:01:37.159Z"
   },
   {
    "duration": 397,
    "start_time": "2022-08-31T06:01:37.194Z"
   },
   {
    "duration": 506,
    "start_time": "2022-08-31T06:01:37.593Z"
   },
   {
    "duration": 23,
    "start_time": "2022-08-31T06:01:38.101Z"
   },
   {
    "duration": 481,
    "start_time": "2022-08-31T06:01:38.125Z"
   },
   {
    "duration": 24,
    "start_time": "2022-08-31T06:01:42.377Z"
   },
   {
    "duration": 23,
    "start_time": "2022-08-31T06:01:50.606Z"
   },
   {
    "duration": 4,
    "start_time": "2022-08-31T06:01:55.104Z"
   },
   {
    "duration": 4,
    "start_time": "2022-08-31T06:01:56.087Z"
   },
   {
    "duration": 19,
    "start_time": "2022-08-31T06:01:59.659Z"
   },
   {
    "duration": 8,
    "start_time": "2022-08-31T06:02:00.414Z"
   },
   {
    "duration": 32,
    "start_time": "2022-08-31T06:02:02.468Z"
   },
   {
    "duration": 4,
    "start_time": "2022-08-31T06:02:03.577Z"
   },
   {
    "duration": 15,
    "start_time": "2022-08-31T06:02:04.819Z"
   },
   {
    "duration": 4,
    "start_time": "2022-08-31T06:02:05.756Z"
   },
   {
    "duration": 17,
    "start_time": "2022-08-31T06:02:07.436Z"
   },
   {
    "duration": 447,
    "start_time": "2022-08-31T06:02:09.218Z"
   },
   {
    "duration": 1597,
    "start_time": "2022-08-31T06:02:14.784Z"
   },
   {
    "duration": 4756,
    "start_time": "2022-08-31T06:02:26.235Z"
   },
   {
    "duration": 9,
    "start_time": "2022-08-31T06:02:30.994Z"
   },
   {
    "duration": 10,
    "start_time": "2022-08-31T06:02:31.004Z"
   },
   {
    "duration": 20,
    "start_time": "2022-08-31T06:02:33.202Z"
   },
   {
    "duration": 3,
    "start_time": "2022-08-31T06:02:35.815Z"
   },
   {
    "duration": 11,
    "start_time": "2022-08-31T06:02:36.560Z"
   },
   {
    "duration": 13,
    "start_time": "2022-08-31T06:02:37.485Z"
   },
   {
    "duration": 5,
    "start_time": "2022-08-31T06:02:39.630Z"
   },
   {
    "duration": 4,
    "start_time": "2022-08-31T06:02:42.860Z"
   },
   {
    "duration": 9,
    "start_time": "2022-08-31T06:02:44.256Z"
   },
   {
    "duration": 11,
    "start_time": "2022-08-31T06:02:45.181Z"
   },
   {
    "duration": 12,
    "start_time": "2022-08-31T06:02:49.520Z"
   },
   {
    "duration": 7,
    "start_time": "2022-08-31T06:02:51.574Z"
   },
   {
    "duration": 7,
    "start_time": "2022-08-31T06:02:59.414Z"
   },
   {
    "duration": 13,
    "start_time": "2022-08-31T06:03:00.764Z"
   },
   {
    "duration": 681,
    "start_time": "2022-08-31T06:03:01.542Z"
   },
   {
    "duration": 7,
    "start_time": "2022-08-31T06:03:02.318Z"
   },
   {
    "duration": 11,
    "start_time": "2022-08-31T06:03:03.108Z"
   },
   {
    "duration": 41,
    "start_time": "2022-08-31T06:05:07.628Z"
   },
   {
    "duration": 25,
    "start_time": "2022-08-31T06:12:45.724Z"
   },
   {
    "duration": 8,
    "start_time": "2022-08-31T06:13:22.900Z"
   },
   {
    "duration": 13,
    "start_time": "2022-08-31T06:13:22.911Z"
   },
   {
    "duration": 98,
    "start_time": "2022-08-31T06:13:22.926Z"
   },
   {
    "duration": 27,
    "start_time": "2022-08-31T06:13:23.026Z"
   },
   {
    "duration": 40,
    "start_time": "2022-08-31T06:13:23.055Z"
   },
   {
    "duration": 22,
    "start_time": "2022-08-31T06:13:23.097Z"
   },
   {
    "duration": 27,
    "start_time": "2022-08-31T06:13:23.121Z"
   },
   {
    "duration": 64,
    "start_time": "2022-08-31T06:13:23.149Z"
   },
   {
    "duration": 10,
    "start_time": "2022-08-31T06:13:23.215Z"
   },
   {
    "duration": 15,
    "start_time": "2022-08-31T06:13:23.228Z"
   },
   {
    "duration": 17,
    "start_time": "2022-08-31T06:13:23.245Z"
   },
   {
    "duration": 2346,
    "start_time": "2022-08-31T06:13:23.292Z"
   },
   {
    "duration": 4,
    "start_time": "2022-08-31T06:13:25.640Z"
   },
   {
    "duration": 801,
    "start_time": "2022-08-31T06:13:25.645Z"
   },
   {
    "duration": 497,
    "start_time": "2022-08-31T06:13:26.449Z"
   },
   {
    "duration": 302,
    "start_time": "2022-08-31T06:13:26.948Z"
   },
   {
    "duration": 442,
    "start_time": "2022-08-31T06:13:27.252Z"
   },
   {
    "duration": 15,
    "start_time": "2022-08-31T06:13:27.696Z"
   },
   {
    "duration": 22,
    "start_time": "2022-08-31T06:13:27.713Z"
   },
   {
    "duration": 238,
    "start_time": "2022-08-31T06:13:27.737Z"
   },
   {
    "duration": 14,
    "start_time": "2022-08-31T06:13:27.977Z"
   },
   {
    "duration": 4,
    "start_time": "2022-08-31T06:13:27.993Z"
   },
   {
    "duration": 19,
    "start_time": "2022-08-31T06:13:27.999Z"
   },
   {
    "duration": 22,
    "start_time": "2022-08-31T06:13:28.019Z"
   },
   {
    "duration": 4,
    "start_time": "2022-08-31T06:13:28.043Z"
   },
   {
    "duration": 7,
    "start_time": "2022-08-31T06:13:28.048Z"
   },
   {
    "duration": 37,
    "start_time": "2022-08-31T06:13:28.057Z"
   },
   {
    "duration": 8,
    "start_time": "2022-08-31T06:13:28.102Z"
   },
   {
    "duration": 7,
    "start_time": "2022-08-31T06:13:28.112Z"
   },
   {
    "duration": 8,
    "start_time": "2022-08-31T06:13:28.121Z"
   },
   {
    "duration": 16,
    "start_time": "2022-08-31T06:13:28.130Z"
   },
   {
    "duration": 48,
    "start_time": "2022-08-31T06:13:28.148Z"
   },
   {
    "duration": 13,
    "start_time": "2022-08-31T06:13:28.198Z"
   },
   {
    "duration": 9,
    "start_time": "2022-08-31T06:13:28.213Z"
   },
   {
    "duration": 8,
    "start_time": "2022-08-31T06:13:28.224Z"
   },
   {
    "duration": 7,
    "start_time": "2022-08-31T06:13:28.234Z"
   },
   {
    "duration": 10,
    "start_time": "2022-08-31T06:13:28.242Z"
   },
   {
    "duration": 48,
    "start_time": "2022-08-31T06:13:28.253Z"
   },
   {
    "duration": 27,
    "start_time": "2022-08-31T06:13:28.303Z"
   },
   {
    "duration": 14,
    "start_time": "2022-08-31T06:13:28.331Z"
   },
   {
    "duration": 65,
    "start_time": "2022-08-31T06:13:28.346Z"
   },
   {
    "duration": 6,
    "start_time": "2022-08-31T06:13:28.412Z"
   },
   {
    "duration": 27,
    "start_time": "2022-08-31T06:13:28.419Z"
   },
   {
    "duration": 487,
    "start_time": "2022-08-31T06:13:28.448Z"
   },
   {
    "duration": 30,
    "start_time": "2022-08-31T06:13:28.937Z"
   },
   {
    "duration": 9,
    "start_time": "2022-08-31T06:13:28.992Z"
   },
   {
    "duration": 16,
    "start_time": "2022-08-31T06:13:29.003Z"
   },
   {
    "duration": 13,
    "start_time": "2022-08-31T06:13:29.021Z"
   },
   {
    "duration": 15,
    "start_time": "2022-08-31T06:13:29.036Z"
   },
   {
    "duration": 41,
    "start_time": "2022-08-31T06:13:29.053Z"
   },
   {
    "duration": 20,
    "start_time": "2022-08-31T06:13:29.096Z"
   },
   {
    "duration": 22,
    "start_time": "2022-08-31T06:13:29.118Z"
   },
   {
    "duration": 4,
    "start_time": "2022-08-31T06:13:29.142Z"
   },
   {
    "duration": 14,
    "start_time": "2022-08-31T06:13:29.149Z"
   },
   {
    "duration": 32,
    "start_time": "2022-08-31T06:13:29.165Z"
   },
   {
    "duration": 13,
    "start_time": "2022-08-31T06:13:29.198Z"
   },
   {
    "duration": 12,
    "start_time": "2022-08-31T06:13:29.213Z"
   },
   {
    "duration": 38,
    "start_time": "2022-08-31T06:13:29.227Z"
   },
   {
    "duration": 25,
    "start_time": "2022-08-31T06:13:29.267Z"
   },
   {
    "duration": 19,
    "start_time": "2022-08-31T06:13:29.294Z"
   },
   {
    "duration": 9,
    "start_time": "2022-08-31T06:13:29.315Z"
   },
   {
    "duration": 6,
    "start_time": "2022-08-31T06:13:29.325Z"
   },
   {
    "duration": 9,
    "start_time": "2022-08-31T06:13:29.334Z"
   },
   {
    "duration": 52,
    "start_time": "2022-08-31T06:13:29.344Z"
   },
   {
    "duration": 6,
    "start_time": "2022-08-31T06:13:29.398Z"
   },
   {
    "duration": 28,
    "start_time": "2022-08-31T06:13:29.405Z"
   },
   {
    "duration": 15,
    "start_time": "2022-08-31T06:13:29.436Z"
   },
   {
    "duration": 39,
    "start_time": "2022-08-31T06:13:29.453Z"
   },
   {
    "duration": 15,
    "start_time": "2022-08-31T06:13:29.493Z"
   },
   {
    "duration": 8,
    "start_time": "2022-08-31T06:13:29.509Z"
   },
   {
    "duration": 14,
    "start_time": "2022-08-31T06:13:29.519Z"
   },
   {
    "duration": 23,
    "start_time": "2022-08-31T06:13:29.535Z"
   },
   {
    "duration": 47,
    "start_time": "2022-08-31T06:13:29.560Z"
   },
   {
    "duration": 13,
    "start_time": "2022-08-31T06:13:29.609Z"
   },
   {
    "duration": 328,
    "start_time": "2022-08-31T06:13:29.624Z"
   },
   {
    "duration": 2489,
    "start_time": "2022-08-31T06:13:29.954Z"
   },
   {
    "duration": 13,
    "start_time": "2022-08-31T06:13:32.445Z"
   },
   {
    "duration": 10,
    "start_time": "2022-08-31T06:13:32.460Z"
   },
   {
    "duration": 30,
    "start_time": "2022-08-31T06:13:32.471Z"
   },
   {
    "duration": 4,
    "start_time": "2022-08-31T06:13:32.503Z"
   },
   {
    "duration": 7,
    "start_time": "2022-08-31T06:13:32.508Z"
   },
   {
    "duration": 8,
    "start_time": "2022-08-31T06:13:32.521Z"
   },
   {
    "duration": 16,
    "start_time": "2022-08-31T06:13:32.531Z"
   },
   {
    "duration": 47,
    "start_time": "2022-08-31T06:13:32.549Z"
   },
   {
    "duration": 412,
    "start_time": "2022-08-31T06:13:32.598Z"
   },
   {
    "duration": 514,
    "start_time": "2022-08-31T06:13:33.012Z"
   },
   {
    "duration": 23,
    "start_time": "2022-08-31T06:13:33.528Z"
   },
   {
    "duration": 541,
    "start_time": "2022-08-31T06:13:33.553Z"
   },
   {
    "duration": 24,
    "start_time": "2022-08-31T06:13:34.096Z"
   },
   {
    "duration": 3,
    "start_time": "2022-08-31T06:13:34.121Z"
   },
   {
    "duration": 7,
    "start_time": "2022-08-31T06:13:34.126Z"
   },
   {
    "duration": 58,
    "start_time": "2022-08-31T06:13:34.135Z"
   },
   {
    "duration": 8,
    "start_time": "2022-08-31T06:13:34.194Z"
   },
   {
    "duration": 31,
    "start_time": "2022-08-31T06:13:34.204Z"
   },
   {
    "duration": 3,
    "start_time": "2022-08-31T06:13:34.237Z"
   },
   {
    "duration": 16,
    "start_time": "2022-08-31T06:13:34.242Z"
   },
   {
    "duration": 34,
    "start_time": "2022-08-31T06:13:34.260Z"
   },
   {
    "duration": 20,
    "start_time": "2022-08-31T06:13:34.295Z"
   },
   {
    "duration": 555,
    "start_time": "2022-08-31T06:13:34.317Z"
   },
   {
    "duration": 1722,
    "start_time": "2022-08-31T06:13:34.874Z"
   },
   {
    "duration": 5012,
    "start_time": "2022-08-31T06:13:36.598Z"
   },
   {
    "duration": 8,
    "start_time": "2022-08-31T06:13:41.612Z"
   },
   {
    "duration": 10,
    "start_time": "2022-08-31T06:13:41.622Z"
   },
   {
    "duration": 25,
    "start_time": "2022-08-31T06:13:41.634Z"
   },
   {
    "duration": 3,
    "start_time": "2022-08-31T06:13:41.661Z"
   },
   {
    "duration": 16,
    "start_time": "2022-08-31T06:13:41.692Z"
   },
   {
    "duration": 17,
    "start_time": "2022-08-31T06:13:41.710Z"
   },
   {
    "duration": 9,
    "start_time": "2022-08-31T06:13:41.729Z"
   },
   {
    "duration": 7,
    "start_time": "2022-08-31T06:13:41.740Z"
   },
   {
    "duration": 13,
    "start_time": "2022-08-31T06:13:41.749Z"
   },
   {
    "duration": 32,
    "start_time": "2022-08-31T06:13:41.764Z"
   },
   {
    "duration": 16,
    "start_time": "2022-08-31T06:13:41.798Z"
   },
   {
    "duration": 692,
    "start_time": "2022-08-31T06:13:41.816Z"
   },
   {
    "duration": 12,
    "start_time": "2022-08-31T06:13:42.510Z"
   },
   {
    "duration": 19,
    "start_time": "2022-08-31T06:13:42.524Z"
   },
   {
    "duration": 22,
    "start_time": "2022-08-31T06:13:42.545Z"
   },
   {
    "duration": 27,
    "start_time": "2022-08-31T06:13:42.570Z"
   },
   {
    "duration": 13,
    "start_time": "2022-08-31T06:13:42.599Z"
   },
   {
    "duration": 25,
    "start_time": "2022-08-31T06:13:42.614Z"
   },
   {
    "duration": 10,
    "start_time": "2022-08-31T06:14:31.145Z"
   },
   {
    "duration": 22,
    "start_time": "2022-08-31T06:14:38.403Z"
   },
   {
    "duration": 26,
    "start_time": "2022-08-31T06:15:02.026Z"
   },
   {
    "duration": 1474,
    "start_time": "2022-08-31T06:17:12.899Z"
   },
   {
    "duration": 19,
    "start_time": "2022-08-31T06:17:41.531Z"
   },
   {
    "duration": 17,
    "start_time": "2022-08-31T06:18:01.513Z"
   },
   {
    "duration": 21,
    "start_time": "2022-08-31T06:18:13.680Z"
   },
   {
    "duration": 23,
    "start_time": "2022-08-31T06:18:21.970Z"
   },
   {
    "duration": 26,
    "start_time": "2022-08-31T06:18:47.309Z"
   },
   {
    "duration": 19,
    "start_time": "2022-08-31T06:18:59.794Z"
   },
   {
    "duration": 22,
    "start_time": "2022-08-31T06:19:19.817Z"
   },
   {
    "duration": 7,
    "start_time": "2022-08-31T06:19:56.021Z"
   },
   {
    "duration": 16,
    "start_time": "2022-08-31T06:20:59.368Z"
   },
   {
    "duration": 4,
    "start_time": "2022-08-31T06:21:27.698Z"
   },
   {
    "duration": 5,
    "start_time": "2022-08-31T06:21:35.674Z"
   },
   {
    "duration": 435,
    "start_time": "2022-08-31T06:22:13.692Z"
   },
   {
    "duration": 29,
    "start_time": "2022-08-31T06:22:31.873Z"
   },
   {
    "duration": 4,
    "start_time": "2022-08-31T06:22:44.700Z"
   },
   {
    "duration": 15,
    "start_time": "2022-08-31T06:25:03.871Z"
   },
   {
    "duration": 12,
    "start_time": "2022-08-31T06:25:13.876Z"
   },
   {
    "duration": 11,
    "start_time": "2022-08-31T06:25:37.465Z"
   },
   {
    "duration": 10,
    "start_time": "2022-08-31T06:25:48.681Z"
   },
   {
    "duration": 17,
    "start_time": "2022-08-31T06:26:03.434Z"
   },
   {
    "duration": 15,
    "start_time": "2022-08-31T06:27:29.135Z"
   },
   {
    "duration": 8,
    "start_time": "2022-08-31T06:27:50.000Z"
   },
   {
    "duration": 16,
    "start_time": "2022-08-31T06:28:41.152Z"
   },
   {
    "duration": 10,
    "start_time": "2022-08-31T06:28:51.332Z"
   },
   {
    "duration": 8,
    "start_time": "2022-08-31T06:29:07.799Z"
   },
   {
    "duration": 9,
    "start_time": "2022-08-31T06:29:13.805Z"
   },
   {
    "duration": 10,
    "start_time": "2022-08-31T06:29:24.232Z"
   },
   {
    "duration": 12,
    "start_time": "2022-08-31T06:38:33.562Z"
   },
   {
    "duration": 97,
    "start_time": "2022-08-31T06:38:38.154Z"
   },
   {
    "duration": 10,
    "start_time": "2022-08-31T06:38:39.650Z"
   },
   {
    "duration": 5,
    "start_time": "2022-08-31T06:38:50.156Z"
   },
   {
    "duration": 19,
    "start_time": "2022-08-31T06:38:50.164Z"
   },
   {
    "duration": 115,
    "start_time": "2022-08-31T06:38:50.185Z"
   },
   {
    "duration": 32,
    "start_time": "2022-08-31T06:38:50.302Z"
   },
   {
    "duration": 41,
    "start_time": "2022-08-31T06:38:50.336Z"
   },
   {
    "duration": 23,
    "start_time": "2022-08-31T06:38:50.393Z"
   },
   {
    "duration": 29,
    "start_time": "2022-08-31T06:38:50.418Z"
   },
   {
    "duration": 22,
    "start_time": "2022-08-31T06:38:50.491Z"
   },
   {
    "duration": 13,
    "start_time": "2022-08-31T06:38:50.515Z"
   },
   {
    "duration": 15,
    "start_time": "2022-08-31T06:38:50.530Z"
   },
   {
    "duration": 48,
    "start_time": "2022-08-31T06:38:50.548Z"
   },
   {
    "duration": 2463,
    "start_time": "2022-08-31T06:38:50.598Z"
   },
   {
    "duration": 3,
    "start_time": "2022-08-31T06:38:53.063Z"
   },
   {
    "duration": 823,
    "start_time": "2022-08-31T06:38:53.068Z"
   },
   {
    "duration": 459,
    "start_time": "2022-08-31T06:38:53.893Z"
   },
   {
    "duration": 302,
    "start_time": "2022-08-31T06:38:54.354Z"
   },
   {
    "duration": 399,
    "start_time": "2022-08-31T06:38:54.658Z"
   },
   {
    "duration": 14,
    "start_time": "2022-08-31T06:38:55.059Z"
   },
   {
    "duration": 32,
    "start_time": "2022-08-31T06:38:55.075Z"
   },
   {
    "duration": 225,
    "start_time": "2022-08-31T06:38:55.109Z"
   },
   {
    "duration": 6,
    "start_time": "2022-08-31T06:38:55.336Z"
   },
   {
    "duration": 10,
    "start_time": "2022-08-31T06:38:55.343Z"
   },
   {
    "duration": 23,
    "start_time": "2022-08-31T06:38:55.355Z"
   },
   {
    "duration": 22,
    "start_time": "2022-08-31T06:38:55.391Z"
   },
   {
    "duration": 3,
    "start_time": "2022-08-31T06:38:55.415Z"
   },
   {
    "duration": 5,
    "start_time": "2022-08-31T06:38:55.420Z"
   },
   {
    "duration": 9,
    "start_time": "2022-08-31T06:38:55.427Z"
   },
   {
    "duration": 8,
    "start_time": "2022-08-31T06:38:55.438Z"
   },
   {
    "duration": 41,
    "start_time": "2022-08-31T06:38:55.451Z"
   },
   {
    "duration": 12,
    "start_time": "2022-08-31T06:38:55.494Z"
   },
   {
    "duration": 22,
    "start_time": "2022-08-31T06:38:55.507Z"
   },
   {
    "duration": 21,
    "start_time": "2022-08-31T06:38:55.532Z"
   },
   {
    "duration": 21,
    "start_time": "2022-08-31T06:38:55.555Z"
   },
   {
    "duration": 15,
    "start_time": "2022-08-31T06:38:55.578Z"
   },
   {
    "duration": 8,
    "start_time": "2022-08-31T06:38:55.594Z"
   },
   {
    "duration": 10,
    "start_time": "2022-08-31T06:38:55.603Z"
   },
   {
    "duration": 10,
    "start_time": "2022-08-31T06:38:55.615Z"
   },
   {
    "duration": 21,
    "start_time": "2022-08-31T06:38:55.627Z"
   },
   {
    "duration": 54,
    "start_time": "2022-08-31T06:38:55.650Z"
   },
   {
    "duration": 15,
    "start_time": "2022-08-31T06:38:55.706Z"
   },
   {
    "duration": 28,
    "start_time": "2022-08-31T06:38:55.722Z"
   },
   {
    "duration": 5,
    "start_time": "2022-08-31T06:38:55.752Z"
   },
   {
    "duration": 28,
    "start_time": "2022-08-31T06:38:55.792Z"
   },
   {
    "duration": 514,
    "start_time": "2022-08-31T06:38:55.822Z"
   },
   {
    "duration": 27,
    "start_time": "2022-08-31T06:38:56.337Z"
   },
   {
    "duration": 7,
    "start_time": "2022-08-31T06:38:56.366Z"
   },
   {
    "duration": 28,
    "start_time": "2022-08-31T06:38:56.375Z"
   },
   {
    "duration": 13,
    "start_time": "2022-08-31T06:38:56.404Z"
   },
   {
    "duration": 23,
    "start_time": "2022-08-31T06:38:56.419Z"
   },
   {
    "duration": 11,
    "start_time": "2022-08-31T06:38:56.444Z"
   },
   {
    "duration": 16,
    "start_time": "2022-08-31T06:38:56.457Z"
   },
   {
    "duration": 15,
    "start_time": "2022-08-31T06:38:56.475Z"
   },
   {
    "duration": 4,
    "start_time": "2022-08-31T06:38:56.492Z"
   },
   {
    "duration": 17,
    "start_time": "2022-08-31T06:38:56.498Z"
   },
   {
    "duration": 19,
    "start_time": "2022-08-31T06:38:56.517Z"
   },
   {
    "duration": 61,
    "start_time": "2022-08-31T06:38:56.538Z"
   },
   {
    "duration": 9,
    "start_time": "2022-08-31T06:38:56.600Z"
   },
   {
    "duration": 31,
    "start_time": "2022-08-31T06:38:56.611Z"
   },
   {
    "duration": 10,
    "start_time": "2022-08-31T06:38:56.643Z"
   },
   {
    "duration": 44,
    "start_time": "2022-08-31T06:38:56.654Z"
   },
   {
    "duration": 8,
    "start_time": "2022-08-31T06:38:56.700Z"
   },
   {
    "duration": 4,
    "start_time": "2022-08-31T06:38:56.710Z"
   },
   {
    "duration": 8,
    "start_time": "2022-08-31T06:38:56.716Z"
   },
   {
    "duration": 83,
    "start_time": "2022-08-31T06:38:56.726Z"
   },
   {
    "duration": 6,
    "start_time": "2022-08-31T06:38:56.811Z"
   },
   {
    "duration": 77,
    "start_time": "2022-08-31T06:38:56.818Z"
   },
   {
    "duration": 14,
    "start_time": "2022-08-31T06:38:56.898Z"
   },
   {
    "duration": 10,
    "start_time": "2022-08-31T06:38:56.914Z"
   },
   {
    "duration": 68,
    "start_time": "2022-08-31T06:38:56.925Z"
   },
   {
    "duration": 5,
    "start_time": "2022-08-31T06:38:56.995Z"
   },
   {
    "duration": 11,
    "start_time": "2022-08-31T06:38:57.002Z"
   },
   {
    "duration": 24,
    "start_time": "2022-08-31T06:38:57.015Z"
   },
   {
    "duration": 11,
    "start_time": "2022-08-31T06:38:57.041Z"
   },
   {
    "duration": 11,
    "start_time": "2022-08-31T06:38:57.092Z"
   },
   {
    "duration": 312,
    "start_time": "2022-08-31T06:38:57.105Z"
   },
   {
    "duration": 2256,
    "start_time": "2022-08-31T06:38:57.419Z"
   },
   {
    "duration": 18,
    "start_time": "2022-08-31T06:38:59.677Z"
   },
   {
    "duration": 14,
    "start_time": "2022-08-31T06:38:59.697Z"
   },
   {
    "duration": 33,
    "start_time": "2022-08-31T06:38:59.713Z"
   },
   {
    "duration": 6,
    "start_time": "2022-08-31T06:38:59.748Z"
   },
   {
    "duration": 26,
    "start_time": "2022-08-31T06:38:59.755Z"
   },
   {
    "duration": 25,
    "start_time": "2022-08-31T06:38:59.783Z"
   },
   {
    "duration": 18,
    "start_time": "2022-08-31T06:38:59.814Z"
   },
   {
    "duration": 19,
    "start_time": "2022-08-31T06:38:59.834Z"
   },
   {
    "duration": 433,
    "start_time": "2022-08-31T06:38:59.855Z"
   },
   {
    "duration": 519,
    "start_time": "2022-08-31T06:39:00.290Z"
   },
   {
    "duration": 23,
    "start_time": "2022-08-31T06:39:00.810Z"
   },
   {
    "duration": 488,
    "start_time": "2022-08-31T06:39:00.834Z"
   },
   {
    "duration": 26,
    "start_time": "2022-08-31T06:39:01.323Z"
   },
   {
    "duration": 34,
    "start_time": "2022-08-31T06:39:01.350Z"
   },
   {
    "duration": 29,
    "start_time": "2022-08-31T06:39:01.386Z"
   },
   {
    "duration": 28,
    "start_time": "2022-08-31T06:39:01.417Z"
   },
   {
    "duration": 22,
    "start_time": "2022-08-31T06:39:01.447Z"
   },
   {
    "duration": 55,
    "start_time": "2022-08-31T06:39:01.471Z"
   },
   {
    "duration": 3,
    "start_time": "2022-08-31T06:39:01.528Z"
   },
   {
    "duration": 51,
    "start_time": "2022-08-31T06:39:01.532Z"
   },
   {
    "duration": 37,
    "start_time": "2022-08-31T06:39:01.584Z"
   },
   {
    "duration": 33,
    "start_time": "2022-08-31T06:39:01.623Z"
   },
   {
    "duration": 589,
    "start_time": "2022-08-31T06:39:01.658Z"
   },
   {
    "duration": 1672,
    "start_time": "2022-08-31T06:39:02.249Z"
   },
   {
    "duration": 4894,
    "start_time": "2022-08-31T06:39:03.923Z"
   },
   {
    "duration": 7,
    "start_time": "2022-08-31T06:39:08.819Z"
   },
   {
    "duration": 21,
    "start_time": "2022-08-31T06:39:08.828Z"
   },
   {
    "duration": 28,
    "start_time": "2022-08-31T06:39:08.851Z"
   },
   {
    "duration": 4,
    "start_time": "2022-08-31T06:39:08.880Z"
   },
   {
    "duration": 21,
    "start_time": "2022-08-31T06:39:08.886Z"
   },
   {
    "duration": 15,
    "start_time": "2022-08-31T06:39:08.909Z"
   },
   {
    "duration": 9,
    "start_time": "2022-08-31T06:39:08.926Z"
   },
   {
    "duration": 7,
    "start_time": "2022-08-31T06:39:08.936Z"
   },
   {
    "duration": 12,
    "start_time": "2022-08-31T06:39:08.944Z"
   },
   {
    "duration": 35,
    "start_time": "2022-08-31T06:39:08.958Z"
   },
   {
    "duration": 13,
    "start_time": "2022-08-31T06:39:08.995Z"
   },
   {
    "duration": 645,
    "start_time": "2022-08-31T06:39:09.010Z"
   },
   {
    "duration": 6,
    "start_time": "2022-08-31T06:39:09.657Z"
   },
   {
    "duration": 29,
    "start_time": "2022-08-31T06:39:09.664Z"
   },
   {
    "duration": 17,
    "start_time": "2022-08-31T06:39:09.694Z"
   },
   {
    "duration": 7,
    "start_time": "2022-08-31T06:39:09.713Z"
   },
   {
    "duration": 19,
    "start_time": "2022-08-31T06:39:09.722Z"
   },
   {
    "duration": 55,
    "start_time": "2022-08-31T06:39:09.742Z"
   },
   {
    "duration": 18,
    "start_time": "2022-08-31T06:39:09.799Z"
   },
   {
    "duration": 87,
    "start_time": "2022-08-31T06:39:09.819Z"
   },
   {
    "duration": 0,
    "start_time": "2022-08-31T06:39:09.908Z"
   },
   {
    "duration": 13,
    "start_time": "2022-08-31T06:39:28.994Z"
   },
   {
    "duration": 4,
    "start_time": "2022-08-31T06:39:41.091Z"
   },
   {
    "duration": 10,
    "start_time": "2022-08-31T06:39:58.274Z"
   },
   {
    "duration": 7,
    "start_time": "2022-08-31T06:40:00.136Z"
   },
   {
    "duration": 14,
    "start_time": "2022-08-31T06:41:12.659Z"
   },
   {
    "duration": 13,
    "start_time": "2022-08-31T06:41:54.437Z"
   },
   {
    "duration": 6,
    "start_time": "2022-08-31T06:42:14.770Z"
   },
   {
    "duration": 295,
    "start_time": "2022-08-31T06:45:02.772Z"
   },
   {
    "duration": 6,
    "start_time": "2022-08-31T06:45:14.961Z"
   },
   {
    "duration": 12,
    "start_time": "2022-08-31T06:45:14.969Z"
   },
   {
    "duration": 83,
    "start_time": "2022-08-31T06:45:14.983Z"
   },
   {
    "duration": 28,
    "start_time": "2022-08-31T06:45:15.068Z"
   },
   {
    "duration": 35,
    "start_time": "2022-08-31T06:45:15.099Z"
   },
   {
    "duration": 59,
    "start_time": "2022-08-31T06:45:15.136Z"
   },
   {
    "duration": 35,
    "start_time": "2022-08-31T06:45:15.197Z"
   },
   {
    "duration": 20,
    "start_time": "2022-08-31T06:45:15.234Z"
   },
   {
    "duration": 13,
    "start_time": "2022-08-31T06:45:15.292Z"
   },
   {
    "duration": 11,
    "start_time": "2022-08-31T06:45:15.307Z"
   },
   {
    "duration": 24,
    "start_time": "2022-08-31T06:45:15.321Z"
   },
   {
    "duration": 2321,
    "start_time": "2022-08-31T06:45:15.347Z"
   },
   {
    "duration": 11,
    "start_time": "2022-08-31T06:45:17.671Z"
   },
   {
    "duration": 817,
    "start_time": "2022-08-31T06:45:17.684Z"
   },
   {
    "duration": 444,
    "start_time": "2022-08-31T06:45:18.504Z"
   },
   {
    "duration": 309,
    "start_time": "2022-08-31T06:45:18.950Z"
   },
   {
    "duration": 415,
    "start_time": "2022-08-31T06:45:19.262Z"
   },
   {
    "duration": 23,
    "start_time": "2022-08-31T06:45:19.679Z"
   },
   {
    "duration": 20,
    "start_time": "2022-08-31T06:45:19.704Z"
   },
   {
    "duration": 220,
    "start_time": "2022-08-31T06:45:19.726Z"
   },
   {
    "duration": 8,
    "start_time": "2022-08-31T06:45:19.948Z"
   },
   {
    "duration": 8,
    "start_time": "2022-08-31T06:45:19.958Z"
   },
   {
    "duration": 35,
    "start_time": "2022-08-31T06:45:19.968Z"
   },
   {
    "duration": 20,
    "start_time": "2022-08-31T06:45:20.005Z"
   },
   {
    "duration": 3,
    "start_time": "2022-08-31T06:45:20.027Z"
   },
   {
    "duration": 8,
    "start_time": "2022-08-31T06:45:20.032Z"
   },
   {
    "duration": 11,
    "start_time": "2022-08-31T06:45:20.041Z"
   },
   {
    "duration": 7,
    "start_time": "2022-08-31T06:45:20.054Z"
   },
   {
    "duration": 4,
    "start_time": "2022-08-31T06:45:20.092Z"
   },
   {
    "duration": 8,
    "start_time": "2022-08-31T06:45:20.098Z"
   },
   {
    "duration": 17,
    "start_time": "2022-08-31T06:45:20.107Z"
   },
   {
    "duration": 19,
    "start_time": "2022-08-31T06:45:20.125Z"
   },
   {
    "duration": 17,
    "start_time": "2022-08-31T06:45:20.146Z"
   },
   {
    "duration": 30,
    "start_time": "2022-08-31T06:45:20.165Z"
   },
   {
    "duration": 11,
    "start_time": "2022-08-31T06:45:20.197Z"
   },
   {
    "duration": 13,
    "start_time": "2022-08-31T06:45:20.209Z"
   },
   {
    "duration": 16,
    "start_time": "2022-08-31T06:45:20.224Z"
   },
   {
    "duration": 20,
    "start_time": "2022-08-31T06:45:20.241Z"
   },
   {
    "duration": 42,
    "start_time": "2022-08-31T06:45:20.265Z"
   },
   {
    "duration": 16,
    "start_time": "2022-08-31T06:45:20.309Z"
   },
   {
    "duration": 28,
    "start_time": "2022-08-31T06:45:20.327Z"
   },
   {
    "duration": 6,
    "start_time": "2022-08-31T06:45:20.356Z"
   },
   {
    "duration": 29,
    "start_time": "2022-08-31T06:45:20.400Z"
   },
   {
    "duration": 467,
    "start_time": "2022-08-31T06:45:20.431Z"
   },
   {
    "duration": 25,
    "start_time": "2022-08-31T06:45:20.900Z"
   },
   {
    "duration": 7,
    "start_time": "2022-08-31T06:45:20.927Z"
   },
   {
    "duration": 16,
    "start_time": "2022-08-31T06:45:20.936Z"
   },
   {
    "duration": 48,
    "start_time": "2022-08-31T06:45:20.954Z"
   },
   {
    "duration": 20,
    "start_time": "2022-08-31T06:45:21.003Z"
   },
   {
    "duration": 11,
    "start_time": "2022-08-31T06:45:21.024Z"
   },
   {
    "duration": 22,
    "start_time": "2022-08-31T06:45:21.036Z"
   },
   {
    "duration": 33,
    "start_time": "2022-08-31T06:45:21.060Z"
   },
   {
    "duration": 4,
    "start_time": "2022-08-31T06:45:21.095Z"
   },
   {
    "duration": 21,
    "start_time": "2022-08-31T06:45:21.101Z"
   },
   {
    "duration": 29,
    "start_time": "2022-08-31T06:45:21.124Z"
   },
   {
    "duration": 15,
    "start_time": "2022-08-31T06:45:21.155Z"
   },
   {
    "duration": 10,
    "start_time": "2022-08-31T06:45:21.171Z"
   },
   {
    "duration": 29,
    "start_time": "2022-08-31T06:45:21.183Z"
   },
   {
    "duration": 9,
    "start_time": "2022-08-31T06:45:21.214Z"
   },
   {
    "duration": 33,
    "start_time": "2022-08-31T06:45:21.225Z"
   },
   {
    "duration": 9,
    "start_time": "2022-08-31T06:45:21.260Z"
   },
   {
    "duration": 10,
    "start_time": "2022-08-31T06:45:21.271Z"
   },
   {
    "duration": 10,
    "start_time": "2022-08-31T06:45:21.282Z"
   },
   {
    "duration": 26,
    "start_time": "2022-08-31T06:45:21.294Z"
   },
   {
    "duration": 6,
    "start_time": "2022-08-31T06:45:21.321Z"
   },
   {
    "duration": 34,
    "start_time": "2022-08-31T06:45:21.328Z"
   },
   {
    "duration": 30,
    "start_time": "2022-08-31T06:45:21.364Z"
   },
   {
    "duration": 9,
    "start_time": "2022-08-31T06:45:21.396Z"
   },
   {
    "duration": 15,
    "start_time": "2022-08-31T06:45:21.407Z"
   },
   {
    "duration": 5,
    "start_time": "2022-08-31T06:45:21.424Z"
   },
   {
    "duration": 15,
    "start_time": "2022-08-31T06:45:21.431Z"
   },
   {
    "duration": 46,
    "start_time": "2022-08-31T06:45:21.447Z"
   },
   {
    "duration": 12,
    "start_time": "2022-08-31T06:45:21.494Z"
   },
   {
    "duration": 13,
    "start_time": "2022-08-31T06:45:21.507Z"
   },
   {
    "duration": 306,
    "start_time": "2022-08-31T06:45:21.522Z"
   },
   {
    "duration": 2470,
    "start_time": "2022-08-31T06:45:21.830Z"
   },
   {
    "duration": 12,
    "start_time": "2022-08-31T06:45:24.302Z"
   },
   {
    "duration": 9,
    "start_time": "2022-08-31T06:45:24.316Z"
   },
   {
    "duration": 14,
    "start_time": "2022-08-31T06:45:24.327Z"
   },
   {
    "duration": 4,
    "start_time": "2022-08-31T06:45:24.342Z"
   },
   {
    "duration": 6,
    "start_time": "2022-08-31T06:45:24.348Z"
   },
   {
    "duration": 41,
    "start_time": "2022-08-31T06:45:24.356Z"
   },
   {
    "duration": 13,
    "start_time": "2022-08-31T06:45:24.404Z"
   },
   {
    "duration": 12,
    "start_time": "2022-08-31T06:45:24.418Z"
   },
   {
    "duration": 431,
    "start_time": "2022-08-31T06:45:24.432Z"
   },
   {
    "duration": 534,
    "start_time": "2022-08-31T06:45:24.865Z"
   },
   {
    "duration": 22,
    "start_time": "2022-08-31T06:45:25.402Z"
   },
   {
    "duration": 503,
    "start_time": "2022-08-31T06:45:25.426Z"
   },
   {
    "duration": 31,
    "start_time": "2022-08-31T06:45:25.931Z"
   },
   {
    "duration": 4,
    "start_time": "2022-08-31T06:45:25.964Z"
   },
   {
    "duration": 27,
    "start_time": "2022-08-31T06:45:25.969Z"
   },
   {
    "duration": 25,
    "start_time": "2022-08-31T06:45:25.998Z"
   },
   {
    "duration": 8,
    "start_time": "2022-08-31T06:45:26.024Z"
   },
   {
    "duration": 61,
    "start_time": "2022-08-31T06:45:26.034Z"
   },
   {
    "duration": 3,
    "start_time": "2022-08-31T06:45:26.097Z"
   },
   {
    "duration": 30,
    "start_time": "2022-08-31T06:45:26.101Z"
   },
   {
    "duration": 13,
    "start_time": "2022-08-31T06:45:26.133Z"
   },
   {
    "duration": 22,
    "start_time": "2022-08-31T06:45:26.148Z"
   },
   {
    "duration": 497,
    "start_time": "2022-08-31T06:45:26.172Z"
   },
   {
    "duration": 1705,
    "start_time": "2022-08-31T06:45:26.671Z"
   },
   {
    "duration": 4894,
    "start_time": "2022-08-31T06:45:28.378Z"
   },
   {
    "duration": 8,
    "start_time": "2022-08-31T06:45:33.274Z"
   },
   {
    "duration": 18,
    "start_time": "2022-08-31T06:45:33.284Z"
   },
   {
    "duration": 20,
    "start_time": "2022-08-31T06:45:33.303Z"
   },
   {
    "duration": 3,
    "start_time": "2022-08-31T06:45:33.325Z"
   },
   {
    "duration": 14,
    "start_time": "2022-08-31T06:45:33.330Z"
   },
   {
    "duration": 16,
    "start_time": "2022-08-31T06:45:33.345Z"
   },
   {
    "duration": 30,
    "start_time": "2022-08-31T06:45:33.363Z"
   },
   {
    "duration": 5,
    "start_time": "2022-08-31T06:45:33.395Z"
   },
   {
    "duration": 25,
    "start_time": "2022-08-31T06:45:33.402Z"
   },
   {
    "duration": 11,
    "start_time": "2022-08-31T06:45:33.429Z"
   },
   {
    "duration": 17,
    "start_time": "2022-08-31T06:45:33.441Z"
   },
   {
    "duration": 18,
    "start_time": "2022-08-31T06:45:33.460Z"
   },
   {
    "duration": 628,
    "start_time": "2022-08-31T06:45:33.492Z"
   },
   {
    "duration": 16,
    "start_time": "2022-08-31T06:45:34.121Z"
   },
   {
    "duration": 16,
    "start_time": "2022-08-31T06:45:34.139Z"
   },
   {
    "duration": 7,
    "start_time": "2022-08-31T06:45:34.157Z"
   },
   {
    "duration": 35,
    "start_time": "2022-08-31T06:45:34.165Z"
   },
   {
    "duration": 26,
    "start_time": "2022-08-31T06:45:34.201Z"
   },
   {
    "duration": 16,
    "start_time": "2022-08-31T06:45:34.229Z"
   },
   {
    "duration": 5,
    "start_time": "2022-08-31T06:45:34.246Z"
   },
   {
    "duration": 43,
    "start_time": "2022-08-31T06:45:34.253Z"
   },
   {
    "duration": 8,
    "start_time": "2022-08-31T06:45:34.298Z"
   },
   {
    "duration": 14,
    "start_time": "2022-08-31T06:45:34.307Z"
   },
   {
    "duration": 6,
    "start_time": "2022-08-31T06:45:34.323Z"
   },
   {
    "duration": 1315,
    "start_time": "2022-08-31T07:46:38.614Z"
   },
   {
    "duration": 5,
    "start_time": "2022-08-31T07:46:39.931Z"
   },
   {
    "duration": 139,
    "start_time": "2022-08-31T07:46:39.937Z"
   },
   {
    "duration": 67,
    "start_time": "2022-08-31T07:46:40.078Z"
   },
   {
    "duration": 33,
    "start_time": "2022-08-31T07:46:40.147Z"
   },
   {
    "duration": 19,
    "start_time": "2022-08-31T07:46:40.181Z"
   },
   {
    "duration": 38,
    "start_time": "2022-08-31T07:46:40.202Z"
   },
   {
    "duration": 17,
    "start_time": "2022-08-31T07:46:40.241Z"
   },
   {
    "duration": 18,
    "start_time": "2022-08-31T07:46:40.259Z"
   },
   {
    "duration": 6,
    "start_time": "2022-08-31T07:46:40.280Z"
   },
   {
    "duration": 24,
    "start_time": "2022-08-31T07:46:40.288Z"
   },
   {
    "duration": 2956,
    "start_time": "2022-08-31T07:46:40.317Z"
   },
   {
    "duration": 42,
    "start_time": "2022-08-31T07:46:43.275Z"
   },
   {
    "duration": 707,
    "start_time": "2022-08-31T07:46:43.318Z"
   },
   {
    "duration": 359,
    "start_time": "2022-08-31T07:46:44.027Z"
   },
   {
    "duration": 324,
    "start_time": "2022-08-31T07:46:44.388Z"
   },
   {
    "duration": 353,
    "start_time": "2022-08-31T07:46:44.714Z"
   },
   {
    "duration": 11,
    "start_time": "2022-08-31T07:46:45.068Z"
   },
   {
    "duration": 27,
    "start_time": "2022-08-31T07:46:45.081Z"
   },
   {
    "duration": 161,
    "start_time": "2022-08-31T07:46:45.109Z"
   },
   {
    "duration": 5,
    "start_time": "2022-08-31T07:46:45.271Z"
   },
   {
    "duration": 5,
    "start_time": "2022-08-31T07:46:45.278Z"
   },
   {
    "duration": 29,
    "start_time": "2022-08-31T07:46:45.284Z"
   },
   {
    "duration": 19,
    "start_time": "2022-08-31T07:46:45.315Z"
   },
   {
    "duration": 3,
    "start_time": "2022-08-31T07:46:45.336Z"
   },
   {
    "duration": 7,
    "start_time": "2022-08-31T07:46:45.340Z"
   },
   {
    "duration": 19,
    "start_time": "2022-08-31T07:46:45.349Z"
   },
   {
    "duration": 6,
    "start_time": "2022-08-31T07:46:45.447Z"
   },
   {
    "duration": 24,
    "start_time": "2022-08-31T07:46:45.455Z"
   },
   {
    "duration": 10,
    "start_time": "2022-08-31T07:46:45.481Z"
   },
   {
    "duration": 22,
    "start_time": "2022-08-31T07:46:45.492Z"
   },
   {
    "duration": 17,
    "start_time": "2022-08-31T07:46:45.516Z"
   },
   {
    "duration": 24,
    "start_time": "2022-08-31T07:46:45.534Z"
   },
   {
    "duration": 7,
    "start_time": "2022-08-31T07:46:45.560Z"
   },
   {
    "duration": 8,
    "start_time": "2022-08-31T07:46:45.569Z"
   },
   {
    "duration": 6,
    "start_time": "2022-08-31T07:46:45.579Z"
   },
   {
    "duration": 8,
    "start_time": "2022-08-31T07:46:45.586Z"
   },
   {
    "duration": 26,
    "start_time": "2022-08-31T07:46:45.595Z"
   },
   {
    "duration": 27,
    "start_time": "2022-08-31T07:46:45.623Z"
   },
   {
    "duration": 14,
    "start_time": "2022-08-31T07:46:45.652Z"
   },
   {
    "duration": 54,
    "start_time": "2022-08-31T07:46:45.668Z"
   },
   {
    "duration": 6,
    "start_time": "2022-08-31T07:46:45.724Z"
   },
   {
    "duration": 22,
    "start_time": "2022-08-31T07:46:45.731Z"
   },
   {
    "duration": 340,
    "start_time": "2022-08-31T07:46:45.755Z"
   },
   {
    "duration": 25,
    "start_time": "2022-08-31T07:46:46.098Z"
   },
   {
    "duration": 12,
    "start_time": "2022-08-31T07:46:46.124Z"
   },
   {
    "duration": 16,
    "start_time": "2022-08-31T07:46:46.138Z"
   },
   {
    "duration": 12,
    "start_time": "2022-08-31T07:46:46.155Z"
   },
   {
    "duration": 41,
    "start_time": "2022-08-31T07:46:46.169Z"
   },
   {
    "duration": 11,
    "start_time": "2022-08-31T07:46:46.212Z"
   },
   {
    "duration": 23,
    "start_time": "2022-08-31T07:46:46.225Z"
   },
   {
    "duration": 25,
    "start_time": "2022-08-31T07:46:46.250Z"
   },
   {
    "duration": 7,
    "start_time": "2022-08-31T07:46:46.277Z"
   },
   {
    "duration": 27,
    "start_time": "2022-08-31T07:46:46.285Z"
   },
   {
    "duration": 12,
    "start_time": "2022-08-31T07:46:46.314Z"
   },
   {
    "duration": 27,
    "start_time": "2022-08-31T07:46:46.328Z"
   },
   {
    "duration": 8,
    "start_time": "2022-08-31T07:46:46.357Z"
   },
   {
    "duration": 25,
    "start_time": "2022-08-31T07:46:46.366Z"
   },
   {
    "duration": 25,
    "start_time": "2022-08-31T07:46:46.393Z"
   },
   {
    "duration": 20,
    "start_time": "2022-08-31T07:46:46.419Z"
   },
   {
    "duration": 7,
    "start_time": "2022-08-31T07:46:46.441Z"
   },
   {
    "duration": 4,
    "start_time": "2022-08-31T07:46:46.449Z"
   },
   {
    "duration": 7,
    "start_time": "2022-08-31T07:46:46.454Z"
   },
   {
    "duration": 50,
    "start_time": "2022-08-31T07:46:46.462Z"
   },
   {
    "duration": 9,
    "start_time": "2022-08-31T07:46:46.513Z"
   },
   {
    "duration": 26,
    "start_time": "2022-08-31T07:46:46.524Z"
   },
   {
    "duration": 11,
    "start_time": "2022-08-31T07:46:46.554Z"
   },
   {
    "duration": 8,
    "start_time": "2022-08-31T07:46:46.567Z"
   },
   {
    "duration": 36,
    "start_time": "2022-08-31T07:46:46.577Z"
   },
   {
    "duration": 6,
    "start_time": "2022-08-31T07:46:46.615Z"
   },
   {
    "duration": 9,
    "start_time": "2022-08-31T07:46:46.622Z"
   },
   {
    "duration": 19,
    "start_time": "2022-08-31T07:46:46.633Z"
   },
   {
    "duration": 9,
    "start_time": "2022-08-31T07:46:46.654Z"
   },
   {
    "duration": 11,
    "start_time": "2022-08-31T07:46:46.665Z"
   },
   {
    "duration": 220,
    "start_time": "2022-08-31T07:46:46.678Z"
   },
   {
    "duration": 1694,
    "start_time": "2022-08-31T07:46:46.900Z"
   },
   {
    "duration": 22,
    "start_time": "2022-08-31T07:46:48.596Z"
   },
   {
    "duration": 16,
    "start_time": "2022-08-31T07:46:48.619Z"
   },
   {
    "duration": 14,
    "start_time": "2022-08-31T07:46:48.636Z"
   },
   {
    "duration": 4,
    "start_time": "2022-08-31T07:46:48.651Z"
   },
   {
    "duration": 10,
    "start_time": "2022-08-31T07:46:48.657Z"
   },
   {
    "duration": 6,
    "start_time": "2022-08-31T07:46:48.673Z"
   },
   {
    "duration": 32,
    "start_time": "2022-08-31T07:46:48.680Z"
   },
   {
    "duration": 8,
    "start_time": "2022-08-31T07:46:48.714Z"
   },
   {
    "duration": 449,
    "start_time": "2022-08-31T07:46:48.724Z"
   },
   {
    "duration": 454,
    "start_time": "2022-08-31T07:46:49.175Z"
   },
   {
    "duration": 21,
    "start_time": "2022-08-31T07:46:49.630Z"
   },
   {
    "duration": 437,
    "start_time": "2022-08-31T07:46:49.653Z"
   },
   {
    "duration": 36,
    "start_time": "2022-08-31T07:46:50.091Z"
   },
   {
    "duration": 3,
    "start_time": "2022-08-31T07:46:50.128Z"
   },
   {
    "duration": 11,
    "start_time": "2022-08-31T07:46:50.132Z"
   },
   {
    "duration": 17,
    "start_time": "2022-08-31T07:46:50.145Z"
   },
   {
    "duration": 6,
    "start_time": "2022-08-31T07:46:50.164Z"
   },
   {
    "duration": 53,
    "start_time": "2022-08-31T07:46:50.172Z"
   },
   {
    "duration": 2,
    "start_time": "2022-08-31T07:46:50.227Z"
   },
   {
    "duration": 16,
    "start_time": "2022-08-31T07:46:50.230Z"
   },
   {
    "duration": 4,
    "start_time": "2022-08-31T07:46:50.247Z"
   },
   {
    "duration": 16,
    "start_time": "2022-08-31T07:46:50.253Z"
   },
   {
    "duration": 459,
    "start_time": "2022-08-31T07:46:50.271Z"
   },
   {
    "duration": 1068,
    "start_time": "2022-08-31T07:46:50.731Z"
   },
   {
    "duration": 3923,
    "start_time": "2022-08-31T07:46:51.800Z"
   },
   {
    "duration": 6,
    "start_time": "2022-08-31T07:46:55.725Z"
   },
   {
    "duration": 28,
    "start_time": "2022-08-31T07:46:55.732Z"
   },
   {
    "duration": 30,
    "start_time": "2022-08-31T07:46:55.762Z"
   },
   {
    "duration": 27,
    "start_time": "2022-08-31T07:46:55.793Z"
   },
   {
    "duration": 35,
    "start_time": "2022-08-31T07:46:55.822Z"
   },
   {
    "duration": 18,
    "start_time": "2022-08-31T07:46:55.859Z"
   },
   {
    "duration": 62,
    "start_time": "2022-08-31T07:46:55.878Z"
   },
   {
    "duration": 12,
    "start_time": "2022-08-31T07:46:55.942Z"
   },
   {
    "duration": 18,
    "start_time": "2022-08-31T07:46:55.956Z"
   },
   {
    "duration": 8,
    "start_time": "2022-08-31T07:46:55.976Z"
   },
   {
    "duration": 10,
    "start_time": "2022-08-31T07:46:55.985Z"
   },
   {
    "duration": 20,
    "start_time": "2022-08-31T07:46:55.996Z"
   },
   {
    "duration": 7,
    "start_time": "2022-08-31T07:46:56.018Z"
   },
   {
    "duration": 18,
    "start_time": "2022-08-31T07:46:56.027Z"
   },
   {
    "duration": 17,
    "start_time": "2022-08-31T07:46:56.046Z"
   },
   {
    "duration": 5,
    "start_time": "2022-08-31T07:46:56.065Z"
   },
   {
    "duration": 19,
    "start_time": "2022-08-31T07:46:56.072Z"
   },
   {
    "duration": 42,
    "start_time": "2022-08-31T07:46:56.093Z"
   },
   {
    "duration": 14,
    "start_time": "2022-08-31T07:46:56.136Z"
   },
   {
    "duration": 4,
    "start_time": "2022-08-31T07:46:56.151Z"
   },
   {
    "duration": 13,
    "start_time": "2022-08-31T07:46:56.157Z"
   },
   {
    "duration": 8,
    "start_time": "2022-08-31T07:46:56.172Z"
   },
   {
    "duration": 13,
    "start_time": "2022-08-31T07:46:56.181Z"
   },
   {
    "duration": 14,
    "start_time": "2022-08-31T07:46:56.195Z"
   },
   {
    "duration": 62,
    "start_time": "2022-08-31T07:48:29.395Z"
   }
  ],
  "colab": {
   "collapsed_sections": [],
   "name": "krukov_final_project",
   "provenance": []
  },
  "kernelspec": {
   "display_name": "Python 3 (ipykernel)",
   "language": "python",
   "name": "python3"
  },
  "language_info": {
   "codemirror_mode": {
    "name": "ipython",
    "version": 3
   },
   "file_extension": ".py",
   "mimetype": "text/x-python",
   "name": "python",
   "nbconvert_exporter": "python",
   "pygments_lexer": "ipython3",
   "version": "3.9.5"
  },
  "toc": {
   "base_numbering": 1,
   "nav_menu": {},
   "number_sections": true,
   "sideBar": true,
   "skip_h1_title": true,
   "title_cell": "Table of Contents",
   "title_sidebar": "Contents",
   "toc_cell": false,
   "toc_position": {
    "height": "calc(100% - 180px)",
    "left": "10px",
    "top": "150px",
    "width": "395.075px"
   },
   "toc_section_display": true,
   "toc_window_display": true
  }
 },
 "nbformat": 4,
 "nbformat_minor": 1
}
