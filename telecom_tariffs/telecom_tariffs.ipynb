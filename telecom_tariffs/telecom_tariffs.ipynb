{
 "cells": [
  {
   "cell_type": "markdown",
   "metadata": {},
   "source": [
    "<div style=\"border:solid lightseagreen 3px; padding: 20px\">\n",
    "<div>    \n",
    "<p><font color=\"black\" >\n",
    "Привет! Меня зовут Рита Янкова, и я буду делать ревью твоего проекта. Давай будем общаться на «ты». \n",
    "По ходу твоего решения я буду оставлять комментарии, обрати внимание на их цвет.</font></p>\n",
    "\n",
    "\n",
    "<div class=\"alert alert-success\" style=\"box-shadow: 4px 4px 4px\">\n",
    "<b>✔️</b> Зеленым цветом отмечены удачные и элегантные решения, на которые можно опираться в будущем.\n",
    "</div>\n",
    "\n",
    "<div class=\"alert alert-warning\" style=\"box-shadow: 4px 4px 4px\">\n",
    "<b>⚠️</b> Жёлтым цветом выделено то, что в следующий раз можно сделать по-другому. Это не критичные ошибки, исправление которых остается на твое усмотрение.\n",
    "\n",
    "</div>\n",
    "\n",
    "<div class=\"alert alert-danger\" style=\"box-shadow: 4px 4px 4px\">\n",
    "<b>❌</b> Красным цветом отмечены критичные ошибки, без исправления которых проект не будет принят.\n",
    "\n",
    "</div>\n",
    "\n",
    "<p><font color=\"black\" >Давай работать над проектом в диалоге: если ты что-то меняешь в проекте по моим рекомендациям — пиши об этом. Выбери для своих комментариев какой-то заметный цвет, так мне будет легче отследить изменения, например вот так:\n",
    "\n",
    "<div class=\"alert alert-info\" style=\"box-shadow: 4px 4px 4px\">\n",
    "<b>Комментарий студента:</b> Ок\n",
    "<br>\n",
    "</div>\n",
    "    \n",
    "Пожалуйста, не перемещай, не изменяй и не удаляй мои комментарии. Всё это поможет выполнить повторную проверку твоего проекта оперативнее.</font></p>\n",
    "\n",
    "<div style=\"border:solid lightseagreen 3px; padding: 20px\">\n",
    "<div>\n",
    "<b>Общий комментарий ревьюера: </b>\n",
    "   Ты отлично справился, молодец! Работа у тебя очень хорошая, но кое-что нужно исправить. Не волнуйся, это не займет много времни 😊 Если вдруг у тебя возникнут вопросы, то я с радостью отвечу на них. Также ты можешь учесть мои рекомендации и сделать свой проект еще лучше \n",
    "</div>\n",
    "    \n"
   ]
  },
  {
   "cell_type": "markdown",
   "metadata": {},
   "source": [
    "<div class=\"alert alert-info\" style=\"box-shadow: 4px 4px 4px\">\n",
    "<b>Комментарий студента:</b> Рита, привет! Спасибо за позитивные комментарии и одобрения. Глупо я пропустил пропуски, каюсь. Вроде все исправил, особых изменений после исправлений не заметил. По желтым комментам на ус мотнул, исправлять не успеваю — жесткий цейтнот. Надеюсь, ты всё поймёшь и всё простишь :)\n",
    "<br>\n",
    "</div>\n",
    "\n",
    "\n",
    "<div class=\"alert alert-success\" style=\"box-shadow: 4px 4px 4px\">\n",
    "<b>№2 ✔️</b> Ничего страшного, мы здесь для того, чтобы учиться 😊 Желтые комментарии не обязательны для исправления сейчас, поэтому ничего критичного в этом нет, главное, чтобы ты обратил на них внимание) \n",
    "    \n",
    "Твой проект принят, поздравляю! Успехов на следующих спринтах 💪🏻\n",
    "</div>"
   ]
  },
  {
   "cell_type": "markdown",
   "metadata": {},
   "source": [
    "    \n",
    "\n",
    "\n",
    "### Открываем файл с данными и изучаем общую информацию"
   ]
  },
  {
   "cell_type": "markdown",
   "metadata": {},
   "source": [
    "#### Импорт библиотек и настройка"
   ]
  },
  {
   "cell_type": "code",
   "execution_count": 1,
   "metadata": {},
   "outputs": [],
   "source": [
    "import pandas as pd\n",
    "import matplotlib.pyplot as plt \n",
    "import datetime\n",
    "import numpy as np\n",
    "from pandas import DataFrame\n",
    "from scipy import stats as st\n",
    "\n",
    "pd.set_option('display.max_columns', 15)\n",
    "pd.set_option('display.max_rows', 15)\n",
    "pd.set_option('display.width', 80)\n",
    "pd.set_option('display.float_format', '{:,.2f}'.format)"
   ]
  },
  {
   "cell_type": "markdown",
   "metadata": {},
   "source": [
    "\n",
    "<div class=\"alert alert-success\" style=\"box-shadow: 4px 4px 4px\">\n",
    "<b>✔️</b> Отлично, ты загрузил все нужные библиотеки\n",
    "</div>\n",
    "\n",
    "\n",
    "#### Написание служебных функций"
   ]
  },
  {
   "cell_type": "markdown",
   "metadata": {},
   "source": [
    "##### Функция получения информации о таблице"
   ]
  },
  {
   "cell_type": "code",
   "execution_count": 2,
   "metadata": {},
   "outputs": [],
   "source": [
    "def info_data(data_frame):\n",
    "    display(data_frame.head())                # первые строки таблицы\n",
    "    display(data_frame.info())                # общая инф-я о таблице\n",
    "    display(data_frame.isna().mean())         # доля пропусков"
   ]
  },
  {
   "cell_type": "markdown",
   "metadata": {},
   "source": [
    "<div class=\"alert alert-success\" style=\"box-shadow: 4px 4px 4px\">\n",
    "<b>✔️</b> Здорово, отличный подход \n",
    "</div>\n",
    "\n",
    "\n",
    "#### Импорт файлов"
   ]
  },
  {
   "cell_type": "code",
   "execution_count": 3,
   "metadata": {},
   "outputs": [],
   "source": [
    "calls = pd.read_csv('/datasets/calls.csv')\n",
    "internet = pd.read_csv('/datasets/internet.csv', index_col='Unnamed: 0') # столбец Unnamed: 0 полностью повторяет целочисленный индекс от 0 до 149395 \n",
    "messages = pd.read_csv('/datasets/messages.csv')\n",
    "tariffs = pd.read_csv('/datasets/tariffs.csv')\n",
    "users = pd.read_csv('/datasets/users.csv')"
   ]
  },
  {
   "cell_type": "markdown",
   "metadata": {},
   "source": [
    "<div class=\"alert alert-success\" style=\"box-shadow: 4px 4px 4px\">\n",
    "<b>✔️</b> Отлично, загрузили все нужные файлы\n",
    "</div>\n",
    "\n",
    "\n",
    "#### Первый взгляд на таблицы"
   ]
  },
  {
   "cell_type": "markdown",
   "metadata": {},
   "source": [
    "Посмотрим на наши исходные таблицы с точки зрения типа данных, пропусков "
   ]
  },
  {
   "cell_type": "code",
   "execution_count": 4,
   "metadata": {
    "scrolled": true
   },
   "outputs": [
    {
     "data": {
      "text/html": [
       "<div>\n",
       "<style scoped>\n",
       "    .dataframe tbody tr th:only-of-type {\n",
       "        vertical-align: middle;\n",
       "    }\n",
       "\n",
       "    .dataframe tbody tr th {\n",
       "        vertical-align: top;\n",
       "    }\n",
       "\n",
       "    .dataframe thead th {\n",
       "        text-align: right;\n",
       "    }\n",
       "</style>\n",
       "<table border=\"1\" class=\"dataframe\">\n",
       "  <thead>\n",
       "    <tr style=\"text-align: right;\">\n",
       "      <th></th>\n",
       "      <th>id</th>\n",
       "      <th>call_date</th>\n",
       "      <th>duration</th>\n",
       "      <th>user_id</th>\n",
       "    </tr>\n",
       "  </thead>\n",
       "  <tbody>\n",
       "    <tr>\n",
       "      <th>0</th>\n",
       "      <td>1000_0</td>\n",
       "      <td>2018-07-25</td>\n",
       "      <td>0.00</td>\n",
       "      <td>1000</td>\n",
       "    </tr>\n",
       "    <tr>\n",
       "      <th>1</th>\n",
       "      <td>1000_1</td>\n",
       "      <td>2018-08-17</td>\n",
       "      <td>0.00</td>\n",
       "      <td>1000</td>\n",
       "    </tr>\n",
       "    <tr>\n",
       "      <th>2</th>\n",
       "      <td>1000_2</td>\n",
       "      <td>2018-06-11</td>\n",
       "      <td>2.85</td>\n",
       "      <td>1000</td>\n",
       "    </tr>\n",
       "    <tr>\n",
       "      <th>3</th>\n",
       "      <td>1000_3</td>\n",
       "      <td>2018-09-21</td>\n",
       "      <td>13.80</td>\n",
       "      <td>1000</td>\n",
       "    </tr>\n",
       "    <tr>\n",
       "      <th>4</th>\n",
       "      <td>1000_4</td>\n",
       "      <td>2018-12-15</td>\n",
       "      <td>5.18</td>\n",
       "      <td>1000</td>\n",
       "    </tr>\n",
       "  </tbody>\n",
       "</table>\n",
       "</div>"
      ],
      "text/plain": [
       "       id   call_date  duration  user_id\n",
       "0  1000_0  2018-07-25      0.00     1000\n",
       "1  1000_1  2018-08-17      0.00     1000\n",
       "2  1000_2  2018-06-11      2.85     1000\n",
       "3  1000_3  2018-09-21     13.80     1000\n",
       "4  1000_4  2018-12-15      5.18     1000"
      ]
     },
     "metadata": {},
     "output_type": "display_data"
    },
    {
     "name": "stdout",
     "output_type": "stream",
     "text": [
      "<class 'pandas.core.frame.DataFrame'>\n",
      "RangeIndex: 202607 entries, 0 to 202606\n",
      "Data columns (total 4 columns):\n",
      " #   Column     Non-Null Count   Dtype  \n",
      "---  ------     --------------   -----  \n",
      " 0   id         202607 non-null  object \n",
      " 1   call_date  202607 non-null  object \n",
      " 2   duration   202607 non-null  float64\n",
      " 3   user_id    202607 non-null  int64  \n",
      "dtypes: float64(1), int64(1), object(2)\n",
      "memory usage: 6.2+ MB\n"
     ]
    },
    {
     "data": {
      "text/plain": [
       "None"
      ]
     },
     "metadata": {},
     "output_type": "display_data"
    },
    {
     "data": {
      "text/plain": [
       "id          0.00\n",
       "call_date   0.00\n",
       "duration    0.00\n",
       "user_id     0.00\n",
       "dtype: float64"
      ]
     },
     "metadata": {},
     "output_type": "display_data"
    }
   ],
   "source": [
    "info_data(calls)"
   ]
  },
  {
   "cell_type": "markdown",
   "metadata": {},
   "source": [
    "В `calls` нет пропусков, но есть проблемы с call_date — вместо даты это строка. В дальнейшем будем это исправлять"
   ]
  },
  {
   "cell_type": "code",
   "execution_count": 5,
   "metadata": {
    "scrolled": true
   },
   "outputs": [
    {
     "data": {
      "text/html": [
       "<div>\n",
       "<style scoped>\n",
       "    .dataframe tbody tr th:only-of-type {\n",
       "        vertical-align: middle;\n",
       "    }\n",
       "\n",
       "    .dataframe tbody tr th {\n",
       "        vertical-align: top;\n",
       "    }\n",
       "\n",
       "    .dataframe thead th {\n",
       "        text-align: right;\n",
       "    }\n",
       "</style>\n",
       "<table border=\"1\" class=\"dataframe\">\n",
       "  <thead>\n",
       "    <tr style=\"text-align: right;\">\n",
       "      <th></th>\n",
       "      <th>id</th>\n",
       "      <th>mb_used</th>\n",
       "      <th>session_date</th>\n",
       "      <th>user_id</th>\n",
       "    </tr>\n",
       "  </thead>\n",
       "  <tbody>\n",
       "    <tr>\n",
       "      <th>0</th>\n",
       "      <td>1000_0</td>\n",
       "      <td>112.95</td>\n",
       "      <td>2018-11-25</td>\n",
       "      <td>1000</td>\n",
       "    </tr>\n",
       "    <tr>\n",
       "      <th>1</th>\n",
       "      <td>1000_1</td>\n",
       "      <td>1,052.81</td>\n",
       "      <td>2018-09-07</td>\n",
       "      <td>1000</td>\n",
       "    </tr>\n",
       "    <tr>\n",
       "      <th>2</th>\n",
       "      <td>1000_2</td>\n",
       "      <td>1,197.26</td>\n",
       "      <td>2018-06-25</td>\n",
       "      <td>1000</td>\n",
       "    </tr>\n",
       "    <tr>\n",
       "      <th>3</th>\n",
       "      <td>1000_3</td>\n",
       "      <td>550.27</td>\n",
       "      <td>2018-08-22</td>\n",
       "      <td>1000</td>\n",
       "    </tr>\n",
       "    <tr>\n",
       "      <th>4</th>\n",
       "      <td>1000_4</td>\n",
       "      <td>302.56</td>\n",
       "      <td>2018-09-24</td>\n",
       "      <td>1000</td>\n",
       "    </tr>\n",
       "  </tbody>\n",
       "</table>\n",
       "</div>"
      ],
      "text/plain": [
       "       id  mb_used session_date  user_id\n",
       "0  1000_0   112.95   2018-11-25     1000\n",
       "1  1000_1 1,052.81   2018-09-07     1000\n",
       "2  1000_2 1,197.26   2018-06-25     1000\n",
       "3  1000_3   550.27   2018-08-22     1000\n",
       "4  1000_4   302.56   2018-09-24     1000"
      ]
     },
     "metadata": {},
     "output_type": "display_data"
    },
    {
     "name": "stdout",
     "output_type": "stream",
     "text": [
      "<class 'pandas.core.frame.DataFrame'>\n",
      "Int64Index: 149396 entries, 0 to 149395\n",
      "Data columns (total 4 columns):\n",
      " #   Column        Non-Null Count   Dtype  \n",
      "---  ------        --------------   -----  \n",
      " 0   id            149396 non-null  object \n",
      " 1   mb_used       149396 non-null  float64\n",
      " 2   session_date  149396 non-null  object \n",
      " 3   user_id       149396 non-null  int64  \n",
      "dtypes: float64(1), int64(1), object(2)\n",
      "memory usage: 5.7+ MB\n"
     ]
    },
    {
     "data": {
      "text/plain": [
       "None"
      ]
     },
     "metadata": {},
     "output_type": "display_data"
    },
    {
     "data": {
      "text/plain": [
       "id             0.00\n",
       "mb_used        0.00\n",
       "session_date   0.00\n",
       "user_id        0.00\n",
       "dtype: float64"
      ]
     },
     "metadata": {},
     "output_type": "display_data"
    }
   ],
   "source": [
    "info_data(internet)"
   ]
  },
  {
   "cell_type": "markdown",
   "metadata": {},
   "source": [
    "Та же проблема с датами в `internet` — тип данных строка."
   ]
  },
  {
   "cell_type": "code",
   "execution_count": 6,
   "metadata": {},
   "outputs": [
    {
     "data": {
      "text/html": [
       "<div>\n",
       "<style scoped>\n",
       "    .dataframe tbody tr th:only-of-type {\n",
       "        vertical-align: middle;\n",
       "    }\n",
       "\n",
       "    .dataframe tbody tr th {\n",
       "        vertical-align: top;\n",
       "    }\n",
       "\n",
       "    .dataframe thead th {\n",
       "        text-align: right;\n",
       "    }\n",
       "</style>\n",
       "<table border=\"1\" class=\"dataframe\">\n",
       "  <thead>\n",
       "    <tr style=\"text-align: right;\">\n",
       "      <th></th>\n",
       "      <th>id</th>\n",
       "      <th>message_date</th>\n",
       "      <th>user_id</th>\n",
       "    </tr>\n",
       "  </thead>\n",
       "  <tbody>\n",
       "    <tr>\n",
       "      <th>0</th>\n",
       "      <td>1000_0</td>\n",
       "      <td>2018-06-27</td>\n",
       "      <td>1000</td>\n",
       "    </tr>\n",
       "    <tr>\n",
       "      <th>1</th>\n",
       "      <td>1000_1</td>\n",
       "      <td>2018-10-08</td>\n",
       "      <td>1000</td>\n",
       "    </tr>\n",
       "    <tr>\n",
       "      <th>2</th>\n",
       "      <td>1000_2</td>\n",
       "      <td>2018-08-04</td>\n",
       "      <td>1000</td>\n",
       "    </tr>\n",
       "    <tr>\n",
       "      <th>3</th>\n",
       "      <td>1000_3</td>\n",
       "      <td>2018-06-16</td>\n",
       "      <td>1000</td>\n",
       "    </tr>\n",
       "    <tr>\n",
       "      <th>4</th>\n",
       "      <td>1000_4</td>\n",
       "      <td>2018-12-05</td>\n",
       "      <td>1000</td>\n",
       "    </tr>\n",
       "  </tbody>\n",
       "</table>\n",
       "</div>"
      ],
      "text/plain": [
       "       id message_date  user_id\n",
       "0  1000_0   2018-06-27     1000\n",
       "1  1000_1   2018-10-08     1000\n",
       "2  1000_2   2018-08-04     1000\n",
       "3  1000_3   2018-06-16     1000\n",
       "4  1000_4   2018-12-05     1000"
      ]
     },
     "metadata": {},
     "output_type": "display_data"
    },
    {
     "name": "stdout",
     "output_type": "stream",
     "text": [
      "<class 'pandas.core.frame.DataFrame'>\n",
      "RangeIndex: 123036 entries, 0 to 123035\n",
      "Data columns (total 3 columns):\n",
      " #   Column        Non-Null Count   Dtype \n",
      "---  ------        --------------   ----- \n",
      " 0   id            123036 non-null  object\n",
      " 1   message_date  123036 non-null  object\n",
      " 2   user_id       123036 non-null  int64 \n",
      "dtypes: int64(1), object(2)\n",
      "memory usage: 2.8+ MB\n"
     ]
    },
    {
     "data": {
      "text/plain": [
       "None"
      ]
     },
     "metadata": {},
     "output_type": "display_data"
    },
    {
     "data": {
      "text/plain": [
       "id             0.00\n",
       "message_date   0.00\n",
       "user_id        0.00\n",
       "dtype: float64"
      ]
     },
     "metadata": {},
     "output_type": "display_data"
    }
   ],
   "source": [
    "info_data(messages)"
   ]
  },
  {
   "cell_type": "markdown",
   "metadata": {},
   "source": [
    "Уже привычная ошибка с датами в `message_date`"
   ]
  },
  {
   "cell_type": "code",
   "execution_count": 7,
   "metadata": {
    "scrolled": true
   },
   "outputs": [
    {
     "data": {
      "text/html": [
       "<div>\n",
       "<style scoped>\n",
       "    .dataframe tbody tr th:only-of-type {\n",
       "        vertical-align: middle;\n",
       "    }\n",
       "\n",
       "    .dataframe tbody tr th {\n",
       "        vertical-align: top;\n",
       "    }\n",
       "\n",
       "    .dataframe thead th {\n",
       "        text-align: right;\n",
       "    }\n",
       "</style>\n",
       "<table border=\"1\" class=\"dataframe\">\n",
       "  <thead>\n",
       "    <tr style=\"text-align: right;\">\n",
       "      <th></th>\n",
       "      <th>messages_included</th>\n",
       "      <th>mb_per_month_included</th>\n",
       "      <th>minutes_included</th>\n",
       "      <th>rub_monthly_fee</th>\n",
       "      <th>rub_per_gb</th>\n",
       "      <th>rub_per_message</th>\n",
       "      <th>rub_per_minute</th>\n",
       "      <th>tariff_name</th>\n",
       "    </tr>\n",
       "  </thead>\n",
       "  <tbody>\n",
       "    <tr>\n",
       "      <th>0</th>\n",
       "      <td>50</td>\n",
       "      <td>15360</td>\n",
       "      <td>500</td>\n",
       "      <td>550</td>\n",
       "      <td>200</td>\n",
       "      <td>3</td>\n",
       "      <td>3</td>\n",
       "      <td>smart</td>\n",
       "    </tr>\n",
       "    <tr>\n",
       "      <th>1</th>\n",
       "      <td>1000</td>\n",
       "      <td>30720</td>\n",
       "      <td>3000</td>\n",
       "      <td>1950</td>\n",
       "      <td>150</td>\n",
       "      <td>1</td>\n",
       "      <td>1</td>\n",
       "      <td>ultra</td>\n",
       "    </tr>\n",
       "  </tbody>\n",
       "</table>\n",
       "</div>"
      ],
      "text/plain": [
       "   messages_included  mb_per_month_included  minutes_included  \\\n",
       "0                 50                  15360               500   \n",
       "1               1000                  30720              3000   \n",
       "\n",
       "   rub_monthly_fee  rub_per_gb  rub_per_message  rub_per_minute tariff_name  \n",
       "0              550         200                3               3       smart  \n",
       "1             1950         150                1               1       ultra  "
      ]
     },
     "metadata": {},
     "output_type": "display_data"
    },
    {
     "name": "stdout",
     "output_type": "stream",
     "text": [
      "<class 'pandas.core.frame.DataFrame'>\n",
      "RangeIndex: 2 entries, 0 to 1\n",
      "Data columns (total 8 columns):\n",
      " #   Column                 Non-Null Count  Dtype \n",
      "---  ------                 --------------  ----- \n",
      " 0   messages_included      2 non-null      int64 \n",
      " 1   mb_per_month_included  2 non-null      int64 \n",
      " 2   minutes_included       2 non-null      int64 \n",
      " 3   rub_monthly_fee        2 non-null      int64 \n",
      " 4   rub_per_gb             2 non-null      int64 \n",
      " 5   rub_per_message        2 non-null      int64 \n",
      " 6   rub_per_minute         2 non-null      int64 \n",
      " 7   tariff_name            2 non-null      object\n",
      "dtypes: int64(7), object(1)\n",
      "memory usage: 256.0+ bytes\n"
     ]
    },
    {
     "data": {
      "text/plain": [
       "None"
      ]
     },
     "metadata": {},
     "output_type": "display_data"
    },
    {
     "data": {
      "text/plain": [
       "messages_included       0.00\n",
       "mb_per_month_included   0.00\n",
       "minutes_included        0.00\n",
       "rub_monthly_fee         0.00\n",
       "rub_per_gb              0.00\n",
       "rub_per_message         0.00\n",
       "rub_per_minute          0.00\n",
       "tariff_name             0.00\n",
       "dtype: float64"
      ]
     },
     "metadata": {},
     "output_type": "display_data"
    }
   ],
   "source": [
    "info_data(tariffs)"
   ]
  },
  {
   "cell_type": "markdown",
   "metadata": {},
   "source": [
    "Пропусков и проблем в таблице нет"
   ]
  },
  {
   "cell_type": "code",
   "execution_count": 8,
   "metadata": {
    "scrolled": true
   },
   "outputs": [
    {
     "data": {
      "text/html": [
       "<div>\n",
       "<style scoped>\n",
       "    .dataframe tbody tr th:only-of-type {\n",
       "        vertical-align: middle;\n",
       "    }\n",
       "\n",
       "    .dataframe tbody tr th {\n",
       "        vertical-align: top;\n",
       "    }\n",
       "\n",
       "    .dataframe thead th {\n",
       "        text-align: right;\n",
       "    }\n",
       "</style>\n",
       "<table border=\"1\" class=\"dataframe\">\n",
       "  <thead>\n",
       "    <tr style=\"text-align: right;\">\n",
       "      <th></th>\n",
       "      <th>user_id</th>\n",
       "      <th>age</th>\n",
       "      <th>churn_date</th>\n",
       "      <th>city</th>\n",
       "      <th>first_name</th>\n",
       "      <th>last_name</th>\n",
       "      <th>reg_date</th>\n",
       "      <th>tariff</th>\n",
       "    </tr>\n",
       "  </thead>\n",
       "  <tbody>\n",
       "    <tr>\n",
       "      <th>0</th>\n",
       "      <td>1000</td>\n",
       "      <td>52</td>\n",
       "      <td>NaN</td>\n",
       "      <td>Краснодар</td>\n",
       "      <td>Рафаил</td>\n",
       "      <td>Верещагин</td>\n",
       "      <td>2018-05-25</td>\n",
       "      <td>ultra</td>\n",
       "    </tr>\n",
       "    <tr>\n",
       "      <th>1</th>\n",
       "      <td>1001</td>\n",
       "      <td>41</td>\n",
       "      <td>NaN</td>\n",
       "      <td>Москва</td>\n",
       "      <td>Иван</td>\n",
       "      <td>Ежов</td>\n",
       "      <td>2018-11-01</td>\n",
       "      <td>smart</td>\n",
       "    </tr>\n",
       "    <tr>\n",
       "      <th>2</th>\n",
       "      <td>1002</td>\n",
       "      <td>59</td>\n",
       "      <td>NaN</td>\n",
       "      <td>Стерлитамак</td>\n",
       "      <td>Евгений</td>\n",
       "      <td>Абрамович</td>\n",
       "      <td>2018-06-17</td>\n",
       "      <td>smart</td>\n",
       "    </tr>\n",
       "    <tr>\n",
       "      <th>3</th>\n",
       "      <td>1003</td>\n",
       "      <td>23</td>\n",
       "      <td>NaN</td>\n",
       "      <td>Москва</td>\n",
       "      <td>Белла</td>\n",
       "      <td>Белякова</td>\n",
       "      <td>2018-08-17</td>\n",
       "      <td>ultra</td>\n",
       "    </tr>\n",
       "    <tr>\n",
       "      <th>4</th>\n",
       "      <td>1004</td>\n",
       "      <td>68</td>\n",
       "      <td>NaN</td>\n",
       "      <td>Новокузнецк</td>\n",
       "      <td>Татьяна</td>\n",
       "      <td>Авдеенко</td>\n",
       "      <td>2018-05-14</td>\n",
       "      <td>ultra</td>\n",
       "    </tr>\n",
       "  </tbody>\n",
       "</table>\n",
       "</div>"
      ],
      "text/plain": [
       "   user_id  age churn_date         city first_name  last_name    reg_date  \\\n",
       "0     1000   52        NaN    Краснодар     Рафаил  Верещагин  2018-05-25   \n",
       "1     1001   41        NaN       Москва       Иван       Ежов  2018-11-01   \n",
       "2     1002   59        NaN  Стерлитамак    Евгений  Абрамович  2018-06-17   \n",
       "3     1003   23        NaN       Москва      Белла   Белякова  2018-08-17   \n",
       "4     1004   68        NaN  Новокузнецк    Татьяна   Авдеенко  2018-05-14   \n",
       "\n",
       "  tariff  \n",
       "0  ultra  \n",
       "1  smart  \n",
       "2  smart  \n",
       "3  ultra  \n",
       "4  ultra  "
      ]
     },
     "metadata": {},
     "output_type": "display_data"
    },
    {
     "name": "stdout",
     "output_type": "stream",
     "text": [
      "<class 'pandas.core.frame.DataFrame'>\n",
      "RangeIndex: 500 entries, 0 to 499\n",
      "Data columns (total 8 columns):\n",
      " #   Column      Non-Null Count  Dtype \n",
      "---  ------      --------------  ----- \n",
      " 0   user_id     500 non-null    int64 \n",
      " 1   age         500 non-null    int64 \n",
      " 2   churn_date  38 non-null     object\n",
      " 3   city        500 non-null    object\n",
      " 4   first_name  500 non-null    object\n",
      " 5   last_name   500 non-null    object\n",
      " 6   reg_date    500 non-null    object\n",
      " 7   tariff      500 non-null    object\n",
      "dtypes: int64(2), object(6)\n",
      "memory usage: 31.4+ KB\n"
     ]
    },
    {
     "data": {
      "text/plain": [
       "None"
      ]
     },
     "metadata": {},
     "output_type": "display_data"
    },
    {
     "data": {
      "text/plain": [
       "user_id      0.00\n",
       "age          0.00\n",
       "churn_date   0.92\n",
       "city         0.00\n",
       "first_name   0.00\n",
       "last_name    0.00\n",
       "reg_date     0.00\n",
       "tariff       0.00\n",
       "dtype: float64"
      ]
     },
     "metadata": {},
     "output_type": "display_data"
    }
   ],
   "source": [
    "info_data(users)"
   ]
  },
  {
   "cell_type": "markdown",
   "metadata": {},
   "source": [
    "В `churn_date` 92% пропусков и формат даты опять строка. С пропусками ничего не делаем, т.к. если значение пропущено, то тариф ещё действовал на момент выгрузки данных, т.е. пропуск это нормально. Тип данных в дальнейшем поменяем.\n",
    "\n",
    "<div class=\"alert alert-success\" style=\"box-shadow: 4px 4px 4px\">\n",
    "<b>✔️</b> Теперь мы знаем основную информацию о датасетах 👍\n",
    "</div>\n"
   ]
  },
  {
   "cell_type": "markdown",
   "metadata": {},
   "source": [
    "### Подготовка данных"
   ]
  },
  {
   "cell_type": "markdown",
   "metadata": {},
   "source": [
    "#### Приведение данных к нужным типам"
   ]
  },
  {
   "cell_type": "markdown",
   "metadata": {},
   "source": [
    "##### Даты"
   ]
  },
  {
   "cell_type": "code",
   "execution_count": 9,
   "metadata": {},
   "outputs": [
    {
     "name": "stdout",
     "output_type": "stream",
     "text": [
      "call_date\n",
      "session_date\n",
      "message_date\n",
      "churn_date\n",
      "reg_date\n"
     ]
    }
   ],
   "source": [
    "# было много столбцов с датами, в которых тип данных был строковый\n",
    "# выведем все эти столбцы через цикл for\n",
    "\n",
    "for df in [calls, internet, messages, users]:\n",
    "    for col in df.columns:\n",
    "        if 'date' in col:\n",
    "            print(col)"
   ]
  },
  {
   "cell_type": "code",
   "execution_count": 10,
   "metadata": {},
   "outputs": [],
   "source": [
    "# пять подобных столбцов, меняем значение на datetime так же через цикл\n",
    "\n",
    "\n",
    "for df in [calls, internet, messages, users]:\n",
    "    for col in df.columns:\n",
    "        if 'date' in col:\n",
    "            df[col] = pd.to_datetime(df[col])"
   ]
  },
  {
   "cell_type": "code",
   "execution_count": 11,
   "metadata": {
    "scrolled": true
   },
   "outputs": [
    {
     "data": {
      "text/plain": [
       "id                   object\n",
       "call_date    datetime64[ns]\n",
       "duration            float64\n",
       "user_id               int64\n",
       "dtype: object"
      ]
     },
     "metadata": {},
     "output_type": "display_data"
    },
    {
     "data": {
      "text/plain": [
       "id                      object\n",
       "mb_used                float64\n",
       "session_date    datetime64[ns]\n",
       "user_id                  int64\n",
       "dtype: object"
      ]
     },
     "metadata": {},
     "output_type": "display_data"
    },
    {
     "data": {
      "text/plain": [
       "id                      object\n",
       "message_date    datetime64[ns]\n",
       "user_id                  int64\n",
       "dtype: object"
      ]
     },
     "metadata": {},
     "output_type": "display_data"
    },
    {
     "data": {
      "text/plain": [
       "user_id                int64\n",
       "age                    int64\n",
       "churn_date    datetime64[ns]\n",
       "city                  object\n",
       "first_name            object\n",
       "last_name             object\n",
       "reg_date      datetime64[ns]\n",
       "tariff                object\n",
       "dtype: object"
      ]
     },
     "metadata": {},
     "output_type": "display_data"
    }
   ],
   "source": [
    "# проверяем\n",
    "\n",
    "display(calls.dtypes)\n",
    "display(internet.dtypes)\n",
    "display(messages.dtypes)\n",
    "display(users.dtypes)"
   ]
  },
  {
   "cell_type": "markdown",
   "metadata": {},
   "source": [
    "Даты стали датами, идем дальше\n",
    "\n",
    "<div class=\"alert alert-success\" style=\"box-shadow: 4px 4px 4px\">\n",
    "<b>✔️</b> Здорово, столбцы с датами преобразованы верно\n",
    "</div>"
   ]
  },
  {
   "cell_type": "markdown",
   "metadata": {},
   "source": [
    "#### Поиск дубликатов"
   ]
  },
  {
   "cell_type": "code",
   "execution_count": 12,
   "metadata": {},
   "outputs": [
    {
     "data": {
      "text/plain": [
       "0"
      ]
     },
     "execution_count": 12,
     "metadata": {},
     "output_type": "execute_result"
    }
   ],
   "source": [
    "calls.duplicated().sum()"
   ]
  },
  {
   "cell_type": "code",
   "execution_count": 13,
   "metadata": {},
   "outputs": [
    {
     "data": {
      "text/plain": [
       "0"
      ]
     },
     "execution_count": 13,
     "metadata": {},
     "output_type": "execute_result"
    }
   ],
   "source": [
    "internet.duplicated().sum()"
   ]
  },
  {
   "cell_type": "code",
   "execution_count": 14,
   "metadata": {},
   "outputs": [
    {
     "data": {
      "text/plain": [
       "0"
      ]
     },
     "execution_count": 14,
     "metadata": {},
     "output_type": "execute_result"
    }
   ],
   "source": [
    "messages.duplicated().sum()"
   ]
  },
  {
   "cell_type": "code",
   "execution_count": 15,
   "metadata": {},
   "outputs": [
    {
     "data": {
      "text/plain": [
       "0"
      ]
     },
     "execution_count": 15,
     "metadata": {},
     "output_type": "execute_result"
    }
   ],
   "source": [
    "users.duplicated().sum()"
   ]
  },
  {
   "cell_type": "markdown",
   "metadata": {},
   "source": [
    "Явных дубликатов нет, двигаемся вперед"
   ]
  },
  {
   "cell_type": "markdown",
   "metadata": {},
   "source": [
    "#### Объединение таблиц"
   ]
  },
  {
   "cell_type": "code",
   "execution_count": 16,
   "metadata": {},
   "outputs": [],
   "source": [
    "# делаем технический столбец 'month' для дальнейшей группировки по месяцам"
   ]
  },
  {
   "cell_type": "code",
   "execution_count": 17,
   "metadata": {},
   "outputs": [],
   "source": [
    "# для calls предварительно округлим все минуты вверх — по правилам оператора любой разговор окргуляется до целых минут вверх\n",
    "calls['duration'] = calls['duration'].apply(np.ceil)\n",
    "\n",
    "calls['month'] = calls['call_date'].dt.month"
   ]
  },
  {
   "cell_type": "markdown",
   "metadata": {},
   "source": [
    "\n",
    "<div class=\"alert alert-success\" style=\"box-shadow: 4px 4px 4px\">\n",
    "<b>✔️</b> 👍 np.ceil отлично подходит для округления столбца df\n",
    "</div>\n",
    "\n",
    "<div class=\"alert alert-warning\" style=\"box-shadow: 4px 4px 4px\">\n",
    "<b>⚠️</b>   np.ceil не нуждается в apply, т.к. может работать сразу со всем столбцом\n",
    "</div>"
   ]
  },
  {
   "cell_type": "code",
   "execution_count": 18,
   "metadata": {},
   "outputs": [],
   "source": [
    "#internet['session_date_month'] = internet['session_date'].values.astype('datetime64[M]')\n",
    "internet['month'] = internet['session_date'].dt.month"
   ]
  },
  {
   "cell_type": "code",
   "execution_count": 19,
   "metadata": {},
   "outputs": [],
   "source": [
    "#messages['message_date_month'] = messages['message_date'].values.astype('datetime64[M]')\n",
    "messages['month'] = messages['message_date'].dt.month"
   ]
  },
  {
   "cell_type": "markdown",
   "metadata": {},
   "source": [
    "<div class=\"alert alert-success\" style=\"box-shadow: 4px 4px 4px\">\n",
    "<b>✔️</b> Дополнительная колонка с месяцем нам точно пригодится\n",
    "</div>"
   ]
  },
  {
   "cell_type": "code",
   "execution_count": 20,
   "metadata": {},
   "outputs": [],
   "source": [
    "calls_g = (calls\n",
    "           .groupby(['user_id', 'month'])['duration']\n",
    "           .sum().to_frame().reset_index())"
   ]
  },
  {
   "cell_type": "code",
   "execution_count": 21,
   "metadata": {},
   "outputs": [],
   "source": [
    "internet_g = (internet\n",
    "           .groupby(['user_id', 'month'])['mb_used']\n",
    "           .sum().to_frame().reset_index())"
   ]
  },
  {
   "cell_type": "code",
   "execution_count": 22,
   "metadata": {},
   "outputs": [],
   "source": [
    "messages_g = (messages                                            # здесь по id сессии считаем кол-во СМС\n",
    "           .groupby(['user_id', 'month'])['id']\n",
    "           .count().to_frame().reset_index())"
   ]
  },
  {
   "cell_type": "markdown",
   "metadata": {},
   "source": [
    "<div class=\"alert alert-success\" style=\"box-shadow: 4px 4px 4px\">\n",
    "<b>✔️</b> 👍 Группировка сделана верно\n",
    "</div>"
   ]
  },
  {
   "cell_type": "code",
   "execution_count": 23,
   "metadata": {},
   "outputs": [
    {
     "data": {
      "text/html": [
       "<div>\n",
       "<style scoped>\n",
       "    .dataframe tbody tr th:only-of-type {\n",
       "        vertical-align: middle;\n",
       "    }\n",
       "\n",
       "    .dataframe tbody tr th {\n",
       "        vertical-align: top;\n",
       "    }\n",
       "\n",
       "    .dataframe thead th {\n",
       "        text-align: right;\n",
       "    }\n",
       "</style>\n",
       "<table border=\"1\" class=\"dataframe\">\n",
       "  <thead>\n",
       "    <tr style=\"text-align: right;\">\n",
       "      <th></th>\n",
       "      <th>user_id</th>\n",
       "      <th>month</th>\n",
       "      <th>duration</th>\n",
       "      <th>mb_used</th>\n",
       "    </tr>\n",
       "  </thead>\n",
       "  <tbody>\n",
       "    <tr>\n",
       "      <th>0</th>\n",
       "      <td>1000</td>\n",
       "      <td>5</td>\n",
       "      <td>159.00</td>\n",
       "      <td>2,253.49</td>\n",
       "    </tr>\n",
       "    <tr>\n",
       "      <th>1</th>\n",
       "      <td>1000</td>\n",
       "      <td>6</td>\n",
       "      <td>172.00</td>\n",
       "      <td>23,233.77</td>\n",
       "    </tr>\n",
       "    <tr>\n",
       "      <th>2</th>\n",
       "      <td>1000</td>\n",
       "      <td>7</td>\n",
       "      <td>340.00</td>\n",
       "      <td>14,003.64</td>\n",
       "    </tr>\n",
       "    <tr>\n",
       "      <th>3</th>\n",
       "      <td>1000</td>\n",
       "      <td>8</td>\n",
       "      <td>408.00</td>\n",
       "      <td>14,055.93</td>\n",
       "    </tr>\n",
       "    <tr>\n",
       "      <th>4</th>\n",
       "      <td>1000</td>\n",
       "      <td>9</td>\n",
       "      <td>466.00</td>\n",
       "      <td>14,568.91</td>\n",
       "    </tr>\n",
       "    <tr>\n",
       "      <th>...</th>\n",
       "      <td>...</td>\n",
       "      <td>...</td>\n",
       "      <td>...</td>\n",
       "      <td>...</td>\n",
       "    </tr>\n",
       "    <tr>\n",
       "      <th>3209</th>\n",
       "      <td>1489</td>\n",
       "      <td>8</td>\n",
       "      <td>NaN</td>\n",
       "      <td>11,050.56</td>\n",
       "    </tr>\n",
       "    <tr>\n",
       "      <th>3210</th>\n",
       "      <td>1489</td>\n",
       "      <td>9</td>\n",
       "      <td>NaN</td>\n",
       "      <td>17,206.30</td>\n",
       "    </tr>\n",
       "    <tr>\n",
       "      <th>3211</th>\n",
       "      <td>1489</td>\n",
       "      <td>10</td>\n",
       "      <td>NaN</td>\n",
       "      <td>19,559.44</td>\n",
       "    </tr>\n",
       "    <tr>\n",
       "      <th>3212</th>\n",
       "      <td>1489</td>\n",
       "      <td>11</td>\n",
       "      <td>NaN</td>\n",
       "      <td>17,491.56</td>\n",
       "    </tr>\n",
       "    <tr>\n",
       "      <th>3213</th>\n",
       "      <td>1489</td>\n",
       "      <td>12</td>\n",
       "      <td>NaN</td>\n",
       "      <td>17,322.51</td>\n",
       "    </tr>\n",
       "  </tbody>\n",
       "</table>\n",
       "<p>3214 rows × 4 columns</p>\n",
       "</div>"
      ],
      "text/plain": [
       "      user_id  month  duration   mb_used\n",
       "0        1000      5    159.00  2,253.49\n",
       "1        1000      6    172.00 23,233.77\n",
       "2        1000      7    340.00 14,003.64\n",
       "3        1000      8    408.00 14,055.93\n",
       "4        1000      9    466.00 14,568.91\n",
       "...       ...    ...       ...       ...\n",
       "3209     1489      8       NaN 11,050.56\n",
       "3210     1489      9       NaN 17,206.30\n",
       "3211     1489     10       NaN 19,559.44\n",
       "3212     1489     11       NaN 17,491.56\n",
       "3213     1489     12       NaN 17,322.51\n",
       "\n",
       "[3214 rows x 4 columns]"
      ]
     },
     "execution_count": 23,
     "metadata": {},
     "output_type": "execute_result"
    }
   ],
   "source": [
    "# Соеденим таблицы между собой по user_id и month. Начнем с услуг\n",
    "\n",
    "df = calls_g.merge(internet_g, on=['user_id', 'month'], how='outer')\n",
    "df"
   ]
  },
  {
   "cell_type": "code",
   "execution_count": 24,
   "metadata": {},
   "outputs": [
    {
     "data": {
      "text/html": [
       "<div>\n",
       "<style scoped>\n",
       "    .dataframe tbody tr th:only-of-type {\n",
       "        vertical-align: middle;\n",
       "    }\n",
       "\n",
       "    .dataframe tbody tr th {\n",
       "        vertical-align: top;\n",
       "    }\n",
       "\n",
       "    .dataframe thead th {\n",
       "        text-align: right;\n",
       "    }\n",
       "</style>\n",
       "<table border=\"1\" class=\"dataframe\">\n",
       "  <thead>\n",
       "    <tr style=\"text-align: right;\">\n",
       "      <th></th>\n",
       "      <th>user_id</th>\n",
       "      <th>month</th>\n",
       "      <th>duration</th>\n",
       "      <th>mb_used</th>\n",
       "      <th>id</th>\n",
       "    </tr>\n",
       "  </thead>\n",
       "  <tbody>\n",
       "    <tr>\n",
       "      <th>0</th>\n",
       "      <td>1000</td>\n",
       "      <td>5</td>\n",
       "      <td>159.00</td>\n",
       "      <td>2,253.49</td>\n",
       "      <td>22.00</td>\n",
       "    </tr>\n",
       "    <tr>\n",
       "      <th>1</th>\n",
       "      <td>1000</td>\n",
       "      <td>6</td>\n",
       "      <td>172.00</td>\n",
       "      <td>23,233.77</td>\n",
       "      <td>60.00</td>\n",
       "    </tr>\n",
       "    <tr>\n",
       "      <th>2</th>\n",
       "      <td>1000</td>\n",
       "      <td>7</td>\n",
       "      <td>340.00</td>\n",
       "      <td>14,003.64</td>\n",
       "      <td>75.00</td>\n",
       "    </tr>\n",
       "    <tr>\n",
       "      <th>3</th>\n",
       "      <td>1000</td>\n",
       "      <td>8</td>\n",
       "      <td>408.00</td>\n",
       "      <td>14,055.93</td>\n",
       "      <td>81.00</td>\n",
       "    </tr>\n",
       "    <tr>\n",
       "      <th>4</th>\n",
       "      <td>1000</td>\n",
       "      <td>9</td>\n",
       "      <td>466.00</td>\n",
       "      <td>14,568.91</td>\n",
       "      <td>57.00</td>\n",
       "    </tr>\n",
       "    <tr>\n",
       "      <th>...</th>\n",
       "      <td>...</td>\n",
       "      <td>...</td>\n",
       "      <td>...</td>\n",
       "      <td>...</td>\n",
       "      <td>...</td>\n",
       "    </tr>\n",
       "    <tr>\n",
       "      <th>3209</th>\n",
       "      <td>1489</td>\n",
       "      <td>8</td>\n",
       "      <td>NaN</td>\n",
       "      <td>11,050.56</td>\n",
       "      <td>17.00</td>\n",
       "    </tr>\n",
       "    <tr>\n",
       "      <th>3210</th>\n",
       "      <td>1489</td>\n",
       "      <td>9</td>\n",
       "      <td>NaN</td>\n",
       "      <td>17,206.30</td>\n",
       "      <td>32.00</td>\n",
       "    </tr>\n",
       "    <tr>\n",
       "      <th>3211</th>\n",
       "      <td>1489</td>\n",
       "      <td>10</td>\n",
       "      <td>NaN</td>\n",
       "      <td>19,559.44</td>\n",
       "      <td>21.00</td>\n",
       "    </tr>\n",
       "    <tr>\n",
       "      <th>3212</th>\n",
       "      <td>1489</td>\n",
       "      <td>11</td>\n",
       "      <td>NaN</td>\n",
       "      <td>17,491.56</td>\n",
       "      <td>20.00</td>\n",
       "    </tr>\n",
       "    <tr>\n",
       "      <th>3213</th>\n",
       "      <td>1489</td>\n",
       "      <td>12</td>\n",
       "      <td>NaN</td>\n",
       "      <td>17,322.51</td>\n",
       "      <td>35.00</td>\n",
       "    </tr>\n",
       "  </tbody>\n",
       "</table>\n",
       "<p>3214 rows × 5 columns</p>\n",
       "</div>"
      ],
      "text/plain": [
       "      user_id  month  duration   mb_used    id\n",
       "0        1000      5    159.00  2,253.49 22.00\n",
       "1        1000      6    172.00 23,233.77 60.00\n",
       "2        1000      7    340.00 14,003.64 75.00\n",
       "3        1000      8    408.00 14,055.93 81.00\n",
       "4        1000      9    466.00 14,568.91 57.00\n",
       "...       ...    ...       ...       ...   ...\n",
       "3209     1489      8       NaN 11,050.56 17.00\n",
       "3210     1489      9       NaN 17,206.30 32.00\n",
       "3211     1489     10       NaN 19,559.44 21.00\n",
       "3212     1489     11       NaN 17,491.56 20.00\n",
       "3213     1489     12       NaN 17,322.51 35.00\n",
       "\n",
       "[3214 rows x 5 columns]"
      ]
     },
     "execution_count": 24,
     "metadata": {},
     "output_type": "execute_result"
    }
   ],
   "source": [
    "df = df.merge(messages_g, on=['user_id', 'month'], how='outer')\n",
    "df"
   ]
  },
  {
   "cell_type": "markdown",
   "metadata": {},
   "source": [
    "В **df** собраны данные по всем оказанным услугам, сгруппированные по пользователю/месяцу. Остается добавить к этой таблице данные из датафрейма users и tariffs"
   ]
  },
  {
   "cell_type": "code",
   "execution_count": 25,
   "metadata": {},
   "outputs": [
    {
     "data": {
      "text/html": [
       "<div>\n",
       "<style scoped>\n",
       "    .dataframe tbody tr th:only-of-type {\n",
       "        vertical-align: middle;\n",
       "    }\n",
       "\n",
       "    .dataframe tbody tr th {\n",
       "        vertical-align: top;\n",
       "    }\n",
       "\n",
       "    .dataframe thead th {\n",
       "        text-align: right;\n",
       "    }\n",
       "</style>\n",
       "<table border=\"1\" class=\"dataframe\">\n",
       "  <thead>\n",
       "    <tr style=\"text-align: right;\">\n",
       "      <th></th>\n",
       "      <th>user_id</th>\n",
       "      <th>month</th>\n",
       "      <th>duration</th>\n",
       "      <th>mb_used</th>\n",
       "      <th>id</th>\n",
       "      <th>tariff</th>\n",
       "      <th>city</th>\n",
       "    </tr>\n",
       "  </thead>\n",
       "  <tbody>\n",
       "    <tr>\n",
       "      <th>0</th>\n",
       "      <td>1000</td>\n",
       "      <td>5</td>\n",
       "      <td>159.00</td>\n",
       "      <td>2,253.49</td>\n",
       "      <td>22.00</td>\n",
       "      <td>ultra</td>\n",
       "      <td>Краснодар</td>\n",
       "    </tr>\n",
       "    <tr>\n",
       "      <th>1</th>\n",
       "      <td>1000</td>\n",
       "      <td>6</td>\n",
       "      <td>172.00</td>\n",
       "      <td>23,233.77</td>\n",
       "      <td>60.00</td>\n",
       "      <td>ultra</td>\n",
       "      <td>Краснодар</td>\n",
       "    </tr>\n",
       "    <tr>\n",
       "      <th>2</th>\n",
       "      <td>1000</td>\n",
       "      <td>7</td>\n",
       "      <td>340.00</td>\n",
       "      <td>14,003.64</td>\n",
       "      <td>75.00</td>\n",
       "      <td>ultra</td>\n",
       "      <td>Краснодар</td>\n",
       "    </tr>\n",
       "    <tr>\n",
       "      <th>3</th>\n",
       "      <td>1000</td>\n",
       "      <td>8</td>\n",
       "      <td>408.00</td>\n",
       "      <td>14,055.93</td>\n",
       "      <td>81.00</td>\n",
       "      <td>ultra</td>\n",
       "      <td>Краснодар</td>\n",
       "    </tr>\n",
       "    <tr>\n",
       "      <th>4</th>\n",
       "      <td>1000</td>\n",
       "      <td>9</td>\n",
       "      <td>466.00</td>\n",
       "      <td>14,568.91</td>\n",
       "      <td>57.00</td>\n",
       "      <td>ultra</td>\n",
       "      <td>Краснодар</td>\n",
       "    </tr>\n",
       "    <tr>\n",
       "      <th>...</th>\n",
       "      <td>...</td>\n",
       "      <td>...</td>\n",
       "      <td>...</td>\n",
       "      <td>...</td>\n",
       "      <td>...</td>\n",
       "      <td>...</td>\n",
       "      <td>...</td>\n",
       "    </tr>\n",
       "    <tr>\n",
       "      <th>3209</th>\n",
       "      <td>1489</td>\n",
       "      <td>8</td>\n",
       "      <td>NaN</td>\n",
       "      <td>11,050.56</td>\n",
       "      <td>17.00</td>\n",
       "      <td>smart</td>\n",
       "      <td>Санкт-Петербург</td>\n",
       "    </tr>\n",
       "    <tr>\n",
       "      <th>3210</th>\n",
       "      <td>1489</td>\n",
       "      <td>9</td>\n",
       "      <td>NaN</td>\n",
       "      <td>17,206.30</td>\n",
       "      <td>32.00</td>\n",
       "      <td>smart</td>\n",
       "      <td>Санкт-Петербург</td>\n",
       "    </tr>\n",
       "    <tr>\n",
       "      <th>3211</th>\n",
       "      <td>1489</td>\n",
       "      <td>10</td>\n",
       "      <td>NaN</td>\n",
       "      <td>19,559.44</td>\n",
       "      <td>21.00</td>\n",
       "      <td>smart</td>\n",
       "      <td>Санкт-Петербург</td>\n",
       "    </tr>\n",
       "    <tr>\n",
       "      <th>3212</th>\n",
       "      <td>1489</td>\n",
       "      <td>11</td>\n",
       "      <td>NaN</td>\n",
       "      <td>17,491.56</td>\n",
       "      <td>20.00</td>\n",
       "      <td>smart</td>\n",
       "      <td>Санкт-Петербург</td>\n",
       "    </tr>\n",
       "    <tr>\n",
       "      <th>3213</th>\n",
       "      <td>1489</td>\n",
       "      <td>12</td>\n",
       "      <td>NaN</td>\n",
       "      <td>17,322.51</td>\n",
       "      <td>35.00</td>\n",
       "      <td>smart</td>\n",
       "      <td>Санкт-Петербург</td>\n",
       "    </tr>\n",
       "  </tbody>\n",
       "</table>\n",
       "<p>3214 rows × 7 columns</p>\n",
       "</div>"
      ],
      "text/plain": [
       "      user_id  month  duration   mb_used    id tariff             city\n",
       "0        1000      5    159.00  2,253.49 22.00  ultra        Краснодар\n",
       "1        1000      6    172.00 23,233.77 60.00  ultra        Краснодар\n",
       "2        1000      7    340.00 14,003.64 75.00  ultra        Краснодар\n",
       "3        1000      8    408.00 14,055.93 81.00  ultra        Краснодар\n",
       "4        1000      9    466.00 14,568.91 57.00  ultra        Краснодар\n",
       "...       ...    ...       ...       ...   ...    ...              ...\n",
       "3209     1489      8       NaN 11,050.56 17.00  smart  Санкт-Петербург\n",
       "3210     1489      9       NaN 17,206.30 32.00  smart  Санкт-Петербург\n",
       "3211     1489     10       NaN 19,559.44 21.00  smart  Санкт-Петербург\n",
       "3212     1489     11       NaN 17,491.56 20.00  smart  Санкт-Петербург\n",
       "3213     1489     12       NaN 17,322.51 35.00  smart  Санкт-Петербург\n",
       "\n",
       "[3214 rows x 7 columns]"
      ]
     },
     "execution_count": 25,
     "metadata": {},
     "output_type": "execute_result"
    }
   ],
   "source": [
    "# в users интересуют только user_id (для объеденения), tariff и city(для проверки гипотезы).\n",
    "# Поэтому делаем слияние по этим столбцам \n",
    "\n",
    "df = df.merge(users[['user_id', 'tariff', 'city']], on='user_id', how='left')\n",
    "df"
   ]
  },
  {
   "cell_type": "markdown",
   "metadata": {},
   "source": [
    "<div class=\"alert alert-success\" style=\"box-shadow: 4px 4px 4px\">\n",
    "<b>✔️</b> Ты отлично справился со сборкой датафреймов, молодец 👍 \n",
    "</div>"
   ]
  },
  {
   "cell_type": "code",
   "execution_count": 26,
   "metadata": {},
   "outputs": [
    {
     "data": {
      "text/plain": [
       "Index(['messages_included', 'mb_per_month_included', 'minutes_included',\n",
       "       'rub_monthly_fee', 'rub_per_gb', 'rub_per_message', 'rub_per_minute',\n",
       "       'tariff'],\n",
       "      dtype='object')"
      ]
     },
     "execution_count": 26,
     "metadata": {},
     "output_type": "execute_result"
    }
   ],
   "source": [
    "# для объединения поменяем в исходном столбце название столбца tariff_name на tariff, как в нашем сводном df\n",
    "\n",
    "tariffs = tariffs.rename (columns= {'tariff_name': 'tariff'})\n",
    "tariffs.columns"
   ]
  },
  {
   "cell_type": "code",
   "execution_count": 27,
   "metadata": {},
   "outputs": [],
   "source": [
    "df = df.merge(tariffs, on='tariff', how='left')"
   ]
  },
  {
   "cell_type": "code",
   "execution_count": 28,
   "metadata": {},
   "outputs": [
    {
     "data": {
      "text/html": [
       "<div>\n",
       "<style scoped>\n",
       "    .dataframe tbody tr th:only-of-type {\n",
       "        vertical-align: middle;\n",
       "    }\n",
       "\n",
       "    .dataframe tbody tr th {\n",
       "        vertical-align: top;\n",
       "    }\n",
       "\n",
       "    .dataframe thead th {\n",
       "        text-align: right;\n",
       "    }\n",
       "</style>\n",
       "<table border=\"1\" class=\"dataframe\">\n",
       "  <thead>\n",
       "    <tr style=\"text-align: right;\">\n",
       "      <th></th>\n",
       "      <th>user_id</th>\n",
       "      <th>month</th>\n",
       "      <th>duration</th>\n",
       "      <th>mb_used</th>\n",
       "      <th>id</th>\n",
       "      <th>tariff</th>\n",
       "      <th>city</th>\n",
       "      <th>messages_included</th>\n",
       "      <th>mb_per_month_included</th>\n",
       "      <th>minutes_included</th>\n",
       "      <th>rub_monthly_fee</th>\n",
       "      <th>rub_per_gb</th>\n",
       "      <th>rub_per_message</th>\n",
       "      <th>rub_per_minute</th>\n",
       "    </tr>\n",
       "  </thead>\n",
       "  <tbody>\n",
       "    <tr>\n",
       "      <th>0</th>\n",
       "      <td>1000</td>\n",
       "      <td>5</td>\n",
       "      <td>159.00</td>\n",
       "      <td>2,253.49</td>\n",
       "      <td>22.00</td>\n",
       "      <td>ultra</td>\n",
       "      <td>Краснодар</td>\n",
       "      <td>1000</td>\n",
       "      <td>30720</td>\n",
       "      <td>3000</td>\n",
       "      <td>1950</td>\n",
       "      <td>150</td>\n",
       "      <td>1</td>\n",
       "      <td>1</td>\n",
       "    </tr>\n",
       "    <tr>\n",
       "      <th>1</th>\n",
       "      <td>1000</td>\n",
       "      <td>6</td>\n",
       "      <td>172.00</td>\n",
       "      <td>23,233.77</td>\n",
       "      <td>60.00</td>\n",
       "      <td>ultra</td>\n",
       "      <td>Краснодар</td>\n",
       "      <td>1000</td>\n",
       "      <td>30720</td>\n",
       "      <td>3000</td>\n",
       "      <td>1950</td>\n",
       "      <td>150</td>\n",
       "      <td>1</td>\n",
       "      <td>1</td>\n",
       "    </tr>\n",
       "    <tr>\n",
       "      <th>2</th>\n",
       "      <td>1000</td>\n",
       "      <td>7</td>\n",
       "      <td>340.00</td>\n",
       "      <td>14,003.64</td>\n",
       "      <td>75.00</td>\n",
       "      <td>ultra</td>\n",
       "      <td>Краснодар</td>\n",
       "      <td>1000</td>\n",
       "      <td>30720</td>\n",
       "      <td>3000</td>\n",
       "      <td>1950</td>\n",
       "      <td>150</td>\n",
       "      <td>1</td>\n",
       "      <td>1</td>\n",
       "    </tr>\n",
       "    <tr>\n",
       "      <th>3</th>\n",
       "      <td>1000</td>\n",
       "      <td>8</td>\n",
       "      <td>408.00</td>\n",
       "      <td>14,055.93</td>\n",
       "      <td>81.00</td>\n",
       "      <td>ultra</td>\n",
       "      <td>Краснодар</td>\n",
       "      <td>1000</td>\n",
       "      <td>30720</td>\n",
       "      <td>3000</td>\n",
       "      <td>1950</td>\n",
       "      <td>150</td>\n",
       "      <td>1</td>\n",
       "      <td>1</td>\n",
       "    </tr>\n",
       "    <tr>\n",
       "      <th>4</th>\n",
       "      <td>1000</td>\n",
       "      <td>9</td>\n",
       "      <td>466.00</td>\n",
       "      <td>14,568.91</td>\n",
       "      <td>57.00</td>\n",
       "      <td>ultra</td>\n",
       "      <td>Краснодар</td>\n",
       "      <td>1000</td>\n",
       "      <td>30720</td>\n",
       "      <td>3000</td>\n",
       "      <td>1950</td>\n",
       "      <td>150</td>\n",
       "      <td>1</td>\n",
       "      <td>1</td>\n",
       "    </tr>\n",
       "  </tbody>\n",
       "</table>\n",
       "</div>"
      ],
      "text/plain": [
       "   user_id  month  duration   mb_used    id tariff       city  \\\n",
       "0     1000      5    159.00  2,253.49 22.00  ultra  Краснодар   \n",
       "1     1000      6    172.00 23,233.77 60.00  ultra  Краснодар   \n",
       "2     1000      7    340.00 14,003.64 75.00  ultra  Краснодар   \n",
       "3     1000      8    408.00 14,055.93 81.00  ultra  Краснодар   \n",
       "4     1000      9    466.00 14,568.91 57.00  ultra  Краснодар   \n",
       "\n",
       "   messages_included  mb_per_month_included  minutes_included  \\\n",
       "0               1000                  30720              3000   \n",
       "1               1000                  30720              3000   \n",
       "2               1000                  30720              3000   \n",
       "3               1000                  30720              3000   \n",
       "4               1000                  30720              3000   \n",
       "\n",
       "   rub_monthly_fee  rub_per_gb  rub_per_message  rub_per_minute  \n",
       "0             1950         150                1               1  \n",
       "1             1950         150                1               1  \n",
       "2             1950         150                1               1  \n",
       "3             1950         150                1               1  \n",
       "4             1950         150                1               1  "
      ]
     },
     "execution_count": 28,
     "metadata": {},
     "output_type": "execute_result"
    }
   ],
   "source": [
    "df.head()"
   ]
  },
  {
   "cell_type": "markdown",
   "metadata": {},
   "source": [
    "Получили таблицу для дальнейшей работы, в которой есть данные за каждый месяц для каждого пользователя\n",
    "\n",
    "<div class=\"alert alert-danger\" style=\"box-shadow: 4px 4px 4px\">\n",
    "<b>❌</b> <s> прежде чем считать выручку, необходимо заполнить пропуски. Подумай, каким значением правильнее будет их заполнить?  </s>\n",
    "\n",
    "</div>"
   ]
  },
  {
   "cell_type": "code",
   "execution_count": 29,
   "metadata": {},
   "outputs": [
    {
     "data": {
      "text/plain": [
       "user_id                    0\n",
       "month                      0\n",
       "duration                  40\n",
       "mb_used                   11\n",
       "id                       497\n",
       "tariff                     0\n",
       "city                       0\n",
       "messages_included          0\n",
       "mb_per_month_included      0\n",
       "minutes_included           0\n",
       "rub_monthly_fee            0\n",
       "rub_per_gb                 0\n",
       "rub_per_message            0\n",
       "rub_per_minute             0\n",
       "dtype: int64"
      ]
     },
     "execution_count": 29,
     "metadata": {},
     "output_type": "execute_result"
    }
   ],
   "source": [
    "# Посмотрим, есть ли в нашей общей таблице пропуски\n",
    "\n",
    "df.isna().sum()"
   ]
  },
  {
   "cell_type": "code",
   "execution_count": 30,
   "metadata": {},
   "outputs": [],
   "source": [
    "# Пропуски есть. Самое большое количество — 497 в столбце id, мы смотрели там количество отправленных СМС. \n",
    "# Вполне нормально, что кто-то в эпоху мессенджеров не пользуется классическими сообщениями. То же самое можно сказать \n",
    "# о пропусках в duration и mb_used — кто-то просто не пользуется голосовыми вызовами и интернетом. Логично заполнить \n",
    "# эти пропуски нолем\n",
    "\n",
    "df['duration'] = df['duration'].fillna(0)\n",
    "df['mb_used'] = df['mb_used'].fillna(0)\n",
    "df['id'] = df['id'].fillna(0)"
   ]
  },
  {
   "cell_type": "code",
   "execution_count": 31,
   "metadata": {},
   "outputs": [
    {
     "data": {
      "text/plain": [
       "user_id                  0\n",
       "month                    0\n",
       "duration                 0\n",
       "mb_used                  0\n",
       "id                       0\n",
       "tariff                   0\n",
       "city                     0\n",
       "messages_included        0\n",
       "mb_per_month_included    0\n",
       "minutes_included         0\n",
       "rub_monthly_fee          0\n",
       "rub_per_gb               0\n",
       "rub_per_message          0\n",
       "rub_per_minute           0\n",
       "dtype: int64"
      ]
     },
     "execution_count": 31,
     "metadata": {},
     "output_type": "execute_result"
    }
   ],
   "source": [
    "# Проверяем\n",
    "\n",
    "df.isna().sum()"
   ]
  },
  {
   "cell_type": "markdown",
   "metadata": {},
   "source": [
    "<div class=\"alert alert-info\" style=\"box-shadow: 4px 4px 4px\">\n",
    "<b>Комментарий студента:</b> Пропусков нет, работаем дальше\n",
    "<br>\n",
    "</div>\n",
    "\n",
    "<div class=\"alert alert-success\" style=\"box-shadow: 4px 4px 4px\">\n",
    "<b> #2 ✔️</b> Отлично\n",
    "</div>"
   ]
  },
  {
   "cell_type": "markdown",
   "metadata": {},
   "source": [
    "#### Округление гигабайт"
   ]
  },
  {
   "cell_type": "code",
   "execution_count": 32,
   "metadata": {},
   "outputs": [
    {
     "data": {
      "text/plain": [
       "Index(['user_id', 'month', 'duration', 'mb_used', 'id', 'tariff', 'city',\n",
       "       'messages_included', 'mb_per_month_included', 'minutes_included',\n",
       "       'rub_monthly_fee', 'rub_per_gb', 'rub_per_message', 'rub_per_minute'],\n",
       "      dtype='object')"
      ]
     },
     "execution_count": 32,
     "metadata": {},
     "output_type": "execute_result"
    }
   ],
   "source": [
    "df.columns"
   ]
  },
  {
   "cell_type": "markdown",
   "metadata": {},
   "source": [
    "Столбец `mb_used` требует внимания. По правилам оператора \"Мегалайн\" траффик по итогам месяца округляется до целых Гб вверх. "
   ]
  },
  {
   "cell_type": "code",
   "execution_count": 33,
   "metadata": {},
   "outputs": [
    {
     "data": {
      "text/plain": [
       "0       3.00\n",
       "1      23.00\n",
       "2      14.00\n",
       "3      14.00\n",
       "4      15.00\n",
       "        ... \n",
       "3209   11.00\n",
       "3210   17.00\n",
       "3211   20.00\n",
       "3212   18.00\n",
       "3213   17.00\n",
       "Name: gb_used, Length: 3214, dtype: float64"
      ]
     },
     "execution_count": 33,
     "metadata": {},
     "output_type": "execute_result"
    }
   ],
   "source": [
    "# переводим в Гб и округляем вверх\n",
    "\n",
    "df['gb_used'] = df['mb_used'] / 1024\n",
    "df['gb_used'] = df['gb_used'].apply(np.ceil)\n",
    "df['gb_used']"
   ]
  },
  {
   "cell_type": "markdown",
   "metadata": {},
   "source": [
    "Таблица полностью готова к работе. Видим кол-во сообщений, трафик и кол-во минут по каждому месяцу для каждого пользователя. Теперь можно посчитать выручку для каждого пользователя за год\n",
    "\n",
    "<div class=\"alert alert-success\" style=\"box-shadow: 4px 4px 4px\">\n",
    "<b>✔️</b> Всё верно 👍👍\n",
    "</div>"
   ]
  },
  {
   "cell_type": "markdown",
   "metadata": {},
   "source": [
    "#### Расчет выручки"
   ]
  },
  {
   "cell_type": "code",
   "execution_count": 34,
   "metadata": {},
   "outputs": [
    {
     "data": {
      "text/plain": [
       "Index(['user_id', 'month', 'duration', 'mb_used', 'messages_used', 'tariff',\n",
       "       'city', 'messages_included', 'mb_per_month_included',\n",
       "       'minutes_included', 'rub_monthly_fee', 'rub_per_gb', 'rub_per_message',\n",
       "       'rub_per_minute', 'gb_used'],\n",
       "      dtype='object')"
      ]
     },
     "execution_count": 34,
     "metadata": {},
     "output_type": "execute_result"
    }
   ],
   "source": [
    "# При группировке по messages сообщения считали count()-ом по id сессии. Сейчас поменяем назавание столбца на 'messages_used', \n",
    "# просто для удобства\n",
    "\n",
    "df = df.rename (columns= {'id': 'messages_used'})\n",
    "df.columns"
   ]
  },
  {
   "cell_type": "code",
   "execution_count": 35,
   "metadata": {},
   "outputs": [],
   "source": [
    "# В исходных данных пакет трафика предоставлен в Мб. Для удобства расчетов сделаем новый столбец \n",
    "# gb_per_month_included, в котором пакет трафика будет в Гб\n",
    "\n",
    "df['gb_per_month_included'] = df['mb_per_month_included'] / 1024"
   ]
  },
  {
   "cell_type": "code",
   "execution_count": 36,
   "metadata": {},
   "outputs": [],
   "source": [
    "# Добавим новые столбцы для расчета стоимости минут, Гб и сообщений сверх пакета\n",
    "\n",
    "df['minutes_up'] = (df['minutes_included'] - df['duration']).apply(lambda x: -min(0, x))\n",
    "df['messages_up'] = (df['messages_included'] - df['messages_used']).apply(lambda x: -min(0, x))\n",
    "df['gb_up'] = (df['gb_per_month_included'] - df['gb_used']).apply(lambda x: -min(0, x))\n",
    "\n"
   ]
  },
  {
   "cell_type": "code",
   "execution_count": 37,
   "metadata": {
    "scrolled": true
   },
   "outputs": [],
   "source": [
    "# Теперь спокойно создаем столбец с выручкой\n",
    "\n",
    "df['revenue'] = (df['minutes_up'] * df['rub_per_minute'] +\n",
    "                 df['messages_up'] * df['rub_per_message'] +\n",
    "                 df['gb_up'] * df['rub_per_gb'] +\n",
    "                 df['rub_monthly_fee']\n",
    ")"
   ]
  },
  {
   "cell_type": "markdown",
   "metadata": {},
   "source": [
    "Есть таблица, в которой содержаться все необходимые данные для дальнейшего анализа, а именно:\n",
    "1. количество сделанных звонков и израсходованных минут разговора по месяцам\n",
    "2. количество отправленных сообщений по месяцам\n",
    "3. объем израсходованного интернет-трафика по месяцам\n",
    "4. помесячную выручку с каждого пользователя\n",
    "\n",
    "Можно приступать к анализу данных\n",
    "\n",
    "<div class=\"alert alert-success\" style=\"box-shadow: 4px 4px 4px\">\n",
    "<b>✔️</b> Отлично, но обрати внимание на пропуски \n",
    "</div>"
   ]
  },
  {
   "cell_type": "markdown",
   "metadata": {},
   "source": [
    "### Анализ данных"
   ]
  },
  {
   "cell_type": "markdown",
   "metadata": {},
   "source": [
    "#### Пользование услугами"
   ]
  },
  {
   "cell_type": "code",
   "execution_count": 38,
   "metadata": {},
   "outputs": [
    {
     "data": {
      "image/png": "[encoded data removed]",
      "text/plain": [
       "<Figure size 432x288 with 1 Axes>"
      ]
     },
     "metadata": {
      "needs_background": "light"
     },
     "output_type": "display_data"
    },
    {
     "data": {
      "image/png": "[encoded data removed]",
      "text/plain": [
       "<Figure size 432x288 with 1 Axes>"
      ]
     },
     "metadata": {
      "needs_background": "light"
     },
     "output_type": "display_data"
    },
    {
     "data": {
      "image/png": "[encoded data removed]",
      "text/plain": [
       "<Figure size 432x288 with 1 Axes>"
      ]
     },
     "metadata": {
      "needs_background": "light"
     },
     "output_type": "display_data"
    }
   ],
   "source": [
    "# Изучим следующие параметры: объем интернет-трафика, количество минут разговора,  число сообщений \n",
    "# с помощью цикла построим гистограммы для каждого параметра по каждому тарифу\n",
    "\n",
    "column_for_analytics = ['duration', 'mb_used', 'messages_used']\n",
    " \n",
    "for col in column_for_analytics:\n",
    " \n",
    "    ax = (df.query('tariff==\"smart\"')\n",
    "          .hist(col,bins='auto',range=(df[col].min(),df[col].max()))\n",
    "    \n",
    "         )\n",
    " \n",
    "    bx = (df.query('tariff==\"ultra\"')\n",
    "          .hist(col,bins='auto',ax=ax,alpha=0.7,range=(df[col].min(),df[col].max()),label='smart')\n",
    "         )\n",
    "    plt.title(col)\n",
    "    plt.legend(['ultra', 'smart'])"
   ]
  },
  {
   "cell_type": "markdown",
   "metadata": {},
   "source": [
    "Распределение близкое к нормальному, только в случае с СМС смещенное влево за ось. Это объясняется большим количеством людей, не пользующимеся уже устаревающими СМС.\n",
    "\n",
    "По гистограммам видно, что в сегменте малого потребеления минут, траффика и смс вдвое больше пользователей тарифа Smart. \"Тяжелые\" абоненты предпочитают Ultra.\n",
    "1. Говорят больше 750 мин/мес. — в три раза больше \"ультровцев\"\n",
    "2. Тратят более 25 Гб/мес. — \"смартовцев\" меньше почти в 4 раза\n",
    "3. Отправляют более 100 СМС/мес. — пользователей дорогого тарифа в два раза больше\n",
    "\n",
    "<div class=\"alert alert-success\" style=\"box-shadow: 4px 4px 4px\">\n",
    "<b>✔️</b> отлично, что ты, строишь гистограммы на одном графике. Также можно добавить лимит по каждому тарифу на график, чтобы понимать, хватает ли клиентам включенных минут, смс и интернета\n",
    "</div>\n",
    "\n",
    "<div class=\"alert alert-warning\" style=\"box-shadow: 4px 4px 4px\">\n",
    "<b>⚠️</b> Обрати внимание на то, как изменятся графики после заполнения пропусков. Какие выводы можно сделать? \n",
    "</div>"
   ]
  },
  {
   "cell_type": "markdown",
   "metadata": {},
   "source": [
    "<div class=\"alert alert-info\" style=\"box-shadow: 4px 4px 4px\">\n",
    "<b>Комментарий студента:</b> Графики практически не изменились после заполнения пропусков (см. рисунок ниже). Можно сказать, что неиспользование части услуг почти не влияет на общие тенденции использования услуг.\n",
    "<br>\n",
    "</div>\n",
    "\n",
    "<div class=\"alert alert-success\" style=\"box-shadow: 4px 4px 4px\">\n",
    "<b>#2 ✔️</b>  В этом случае нам повезо, но пропуски могли существенно повлиять на результат\n",
    "</div>"
   ]
  },
  {
   "attachments": {
    "image.png": {
     "image/png": "[encoded data removed]"
    }
   },
   "cell_type": "markdown",
   "metadata": {},
   "source": [
    "![image.png](attachment:image.png)"
   ]
  },
  {
   "cell_type": "markdown",
   "metadata": {},
   "source": [
    "#### Средние значения использования услуг"
   ]
  },
  {
   "cell_type": "code",
   "execution_count": 39,
   "metadata": {},
   "outputs": [
    {
     "data": {
      "text/html": [
       "<div>\n",
       "<style scoped>\n",
       "    .dataframe tbody tr th:only-of-type {\n",
       "        vertical-align: middle;\n",
       "    }\n",
       "\n",
       "    .dataframe tbody tr th {\n",
       "        vertical-align: top;\n",
       "    }\n",
       "\n",
       "    .dataframe thead tr th {\n",
       "        text-align: left;\n",
       "    }\n",
       "\n",
       "    .dataframe thead tr:last-of-type th {\n",
       "        text-align: right;\n",
       "    }\n",
       "</style>\n",
       "<table border=\"1\" class=\"dataframe\">\n",
       "  <thead>\n",
       "    <tr>\n",
       "      <th></th>\n",
       "      <th colspan=\"3\" halign=\"left\">duration</th>\n",
       "      <th colspan=\"3\" halign=\"left\">mb_used</th>\n",
       "      <th colspan=\"3\" halign=\"left\">messages_used</th>\n",
       "    </tr>\n",
       "    <tr>\n",
       "      <th></th>\n",
       "      <th>mean</th>\n",
       "      <th>std</th>\n",
       "      <th>var</th>\n",
       "      <th>mean</th>\n",
       "      <th>std</th>\n",
       "      <th>var</th>\n",
       "      <th>mean</th>\n",
       "      <th>std</th>\n",
       "      <th>var</th>\n",
       "    </tr>\n",
       "    <tr>\n",
       "      <th>tariff</th>\n",
       "      <th></th>\n",
       "      <th></th>\n",
       "      <th></th>\n",
       "      <th></th>\n",
       "      <th></th>\n",
       "      <th></th>\n",
       "      <th></th>\n",
       "      <th></th>\n",
       "      <th></th>\n",
       "    </tr>\n",
       "  </thead>\n",
       "  <tbody>\n",
       "    <tr>\n",
       "      <th>smart</th>\n",
       "      <td>417.93</td>\n",
       "      <td>190.31</td>\n",
       "      <td>36,219.32</td>\n",
       "      <td>16,208.39</td>\n",
       "      <td>5,870.48</td>\n",
       "      <td>34,462,496.46</td>\n",
       "      <td>33.38</td>\n",
       "      <td>28.23</td>\n",
       "      <td>796.81</td>\n",
       "    </tr>\n",
       "    <tr>\n",
       "      <th>ultra</th>\n",
       "      <td>526.62</td>\n",
       "      <td>317.61</td>\n",
       "      <td>100,873.63</td>\n",
       "      <td>19,468.81</td>\n",
       "      <td>10,087.17</td>\n",
       "      <td>101,751,013.78</td>\n",
       "      <td>49.36</td>\n",
       "      <td>47.80</td>\n",
       "      <td>2,285.27</td>\n",
       "    </tr>\n",
       "  </tbody>\n",
       "</table>\n",
       "</div>"
      ],
      "text/plain": [
       "       duration                     mb_used                           \\\n",
       "           mean    std        var      mean       std            var   \n",
       "tariff                                                                 \n",
       "smart    417.93 190.31  36,219.32 16,208.39  5,870.48  34,462,496.46   \n",
       "ultra    526.62 317.61 100,873.63 19,468.81 10,087.17 101,751,013.78   \n",
       "\n",
       "       messages_used                 \n",
       "                mean   std      var  \n",
       "tariff                               \n",
       "smart          33.38 28.23   796.81  \n",
       "ultra          49.36 47.80 2,285.27  "
      ]
     },
     "execution_count": 39,
     "metadata": {},
     "output_type": "execute_result"
    }
   ],
   "source": [
    "# Мы посмотрели данные по услугам на гистограммах, теперь построим сводную таблицу для всех трех услуг для того, \n",
    "# чтобы оценить расходование пакетов услуг в цифрах, заодно посчитаем дисперсию и стандартное отклонение\n",
    "\n",
    "tariff_pivot = (df.pivot_table(index='tariff', values=['duration', 'mb_used', 'messages_used'],\n",
    "                aggfunc={'duration':['mean', 'var', 'std'],\n",
    "                         'mb_used':['mean', 'var', 'std'],\n",
    "                         'messages_used':['mean', 'var', 'std']}))\n",
    "\n",
    "tariff_pivot"
   ]
  },
  {
   "cell_type": "markdown",
   "metadata": {},
   "source": [
    "Среднее пользователей Ultra по минутам, трафику и смс больше в 1.3, 1.2 и 1.6 раза."
   ]
  },
  {
   "cell_type": "markdown",
   "metadata": {},
   "source": [
    "### Проверка гипотез"
   ]
  },
  {
   "cell_type": "markdown",
   "metadata": {},
   "source": [
    "#### Гипотеза о равенстве выручек пользователей тарифов «Ультра» и «Смарт» "
   ]
  },
  {
   "cell_type": "markdown",
   "metadata": {},
   "source": [
    "В рамках исследования нам нужно проверить гипотезу, что выручка пользователей разных тарифов отличается\n",
    "\n",
    "Зададим нулевую гипотезу\n",
    "\n",
    "_H₀: средняя выручка абнонентов Smart и Ultra равна_\n",
    "\n",
    "Альтернативна гипотеза — утверждение, которое принимается верным, если отбрасывается H₀\n",
    "\n",
    "_H₁: средняя выручка абнонентов Smart и Ultra  не равна_\n",
    "\n",
    "Такая альтернативная гипотеза называется двусторонней, потому что есть возможное отклонение и в большую, и в меньшую стороны\n",
    "\n",
    "<div class=\"alert alert-success\" style=\"box-shadow: 4px 4px 4px\">\n",
    "<b>✔️</b> Гипотезы сформулированы верно 👍\n",
    "</div>\n"
   ]
  },
  {
   "cell_type": "code",
   "execution_count": 40,
   "metadata": {},
   "outputs": [],
   "source": [
    "alpha = .05                       # зададим критический уровень статистической значимости"
   ]
  },
  {
   "cell_type": "code",
   "execution_count": 41,
   "metadata": {},
   "outputs": [],
   "source": [
    "# Делаем две выборки потарифно\n",
    "\n",
    "smart = df.query('tariff == \"smart\"')['revenue']\n",
    "ultra = df.query('tariff == \"ultra\"')['revenue']"
   ]
  },
  {
   "cell_type": "code",
   "execution_count": 42,
   "metadata": {
    "scrolled": true
   },
   "outputs": [
    {
     "name": "stdout",
     "output_type": "stream",
     "text": [
      "Размер выборки smart: 2229\n",
      "Размер выборки ultra: 985\n"
     ]
    }
   ],
   "source": [
    "# Посмотрим на размер выборок\n",
    "\n",
    "print('Размер выборки smart:', len(smart))\n",
    "print('Размер выборки ultra:', len(ultra))"
   ]
  },
  {
   "cell_type": "code",
   "execution_count": 43,
   "metadata": {},
   "outputs": [
    {
     "name": "stdout",
     "output_type": "stream",
     "text": [
      "Дисперсия выборки smart: 669785.7080064242\n",
      "Дисперсия выборки ultra: 141516.7450786183\n"
     ]
    }
   ],
   "source": [
    "# Посмотрим на дисперсии выборок. Посокольку имеем дело с выборками, параметр ddof устанавливаем равным 1\n",
    "\n",
    "print('Дисперсия выборки smart:', smart.var(ddof=1))\n",
    "print('Дисперсия выборки ultra:', ultra.var(ddof=1))"
   ]
  },
  {
   "cell_type": "markdown",
   "metadata": {},
   "source": [
    "Дисперсии различаются"
   ]
  },
  {
   "cell_type": "code",
   "execution_count": 44,
   "metadata": {},
   "outputs": [
    {
     "name": "stdout",
     "output_type": "stream",
     "text": [
      "p-значение:  4.2606313931076085e-250\n",
      "Отвергаем нулевую гипотезу\n"
     ]
    }
   ],
   "source": [
    "# Одна из формулировок центральной предельной теоремы (сокр. ЦПТ) звучит так: \n",
    "# если в выборке достаточно наблюдений, выборочное среднее распределено нормально вокруг среднего генеральной совокупности\n",
    "# У нас достаточно большие выборки, а Если значений в выборке много (30 и больше), \n",
    "# то распределение Стьюдента настолько близко к нормальному,спокойно применяем t-тест\n",
    "\n",
    "results = st.ttest_ind(smart, ultra, equal_var=False)\n",
    "print('p-значение: ', results.pvalue)\n",
    "if results.pvalue < alpha:\n",
    "    print(\"Отвергаем нулевую гипотезу\")\n",
    "else:\n",
    "    print(\"Не получилось отвергнуть нулевую гипотезу\")"
   ]
  },
  {
   "cell_type": "code",
   "execution_count": 45,
   "metadata": {},
   "outputs": [
    {
     "data": {
      "text/plain": [
       "tariff\n",
       "smart   1,289.97\n",
       "ultra   2,070.15\n",
       "Name: revenue, dtype: float64"
      ]
     },
     "execution_count": 45,
     "metadata": {},
     "output_type": "execute_result"
    }
   ],
   "source": [
    "# Тест показал, средняя выручка на тарифах различается\n",
    "# Проверим \n",
    "\n",
    "df.groupby('tariff')['revenue'].mean()"
   ]
  },
  {
   "cell_type": "markdown",
   "metadata": {},
   "source": [
    "_Вывод: средняя выручка ощутимо (почти в 2 раза) больше на тарифе Ultra_\n",
    "\n",
    "<div class=\"alert alert-success\" style=\"box-shadow: 4px 4px 4px\">\n",
    "<b>✔️</b> Всё правильно, молодец\n",
    "</div>\n"
   ]
  },
  {
   "cell_type": "markdown",
   "metadata": {},
   "source": [
    "#### Гипотеза о средняя выручке пользователей из Москвы"
   ]
  },
  {
   "cell_type": "markdown",
   "metadata": {},
   "source": [
    "Проверим гипотезу о неравенстве выручке пользователей из Москвы выручке пользователей из других регионов"
   ]
  },
  {
   "cell_type": "markdown",
   "metadata": {},
   "source": [
    "Зададим нулевую гипотезу\n",
    "\n",
    "_H₀: средняя выручка абнонентов из Москвы и других регионов равна_\n",
    "\n",
    "Альтернативна гипотеза — утверждение, которое принимается верным, если отбрасывается H₀\n",
    "\n",
    "_H₁: средняя выручка абнонентов из Москвы и других регионов не равна_\n",
    "\n",
    "Такая альтернативная гипотеза называется двусторонней, потому что есть возможное отклонение и в большую, и в меньшую стороны\n",
    "\n",
    "<div class=\"alert alert-success\" style=\"box-shadow: 4px 4px 4px\">\n",
    "<b>✔️</b> Верно\n",
    "</div>\n"
   ]
  },
  {
   "cell_type": "code",
   "execution_count": 46,
   "metadata": {},
   "outputs": [],
   "source": [
    "alpha = .05                       # зададим критический уровень статистической значимости"
   ]
  },
  {
   "cell_type": "code",
   "execution_count": 47,
   "metadata": {},
   "outputs": [],
   "source": [
    "# Делаем две выборки потарифно\n",
    "\n",
    "msc = df.query('city == \"Москва\"')['revenue']\n",
    "other = df.query('city != \"Москва\"')['revenue']"
   ]
  },
  {
   "cell_type": "code",
   "execution_count": 48,
   "metadata": {
    "scrolled": true
   },
   "outputs": [
    {
     "name": "stdout",
     "output_type": "stream",
     "text": [
      "Размер выборки msc: 611\n",
      "Размер выборки other: 2603\n"
     ]
    }
   ],
   "source": [
    "# Посмотрим на размер выборок\n",
    "\n",
    "print('Размер выборки msc:', len(msc))\n",
    "print('Размер выборки other:', len(other))"
   ]
  },
  {
   "cell_type": "code",
   "execution_count": 49,
   "metadata": {},
   "outputs": [
    {
     "name": "stdout",
     "output_type": "stream",
     "text": [
      "Дисперсия выборки msc: 565636.467011886\n",
      "Дисперсия выборки other: 654137.6285218114\n"
     ]
    }
   ],
   "source": [
    "# Посмотрим на дисперсии выборок. Посокольку имеем дело с выборками, параметр ddof устанавливаем равным 1\n",
    "\n",
    "print('Дисперсия выборки msc:', msc.var(ddof=1))\n",
    "print('Дисперсия выборки other:', other.var(ddof=1))"
   ]
  },
  {
   "cell_type": "markdown",
   "metadata": {},
   "source": [
    "Дисперсии различаются"
   ]
  },
  {
   "cell_type": "code",
   "execution_count": 50,
   "metadata": {},
   "outputs": [
    {
     "name": "stdout",
     "output_type": "stream",
     "text": [
      "p-значение:  0.5257376663729298\n",
      "Не получилось отвергнуть нулевую гипотезу\n"
     ]
    }
   ],
   "source": [
    "# Одна из формулировок центральной предельной теоремы (сокр. ЦПТ) звучит так: \n",
    "# если в выборке достаточно наблюдений, выборочное среднее распределено нормально вокруг среднего генеральной совокупности\n",
    "# У нас достаточно большие выборки, а Если значений в выборке много (30 и больше), \n",
    "# то распределение Стьюдента настолько близко к нормальному,спокойно применяем t-тест\n",
    "\n",
    "results = st.ttest_ind(msc, other, equal_var=False)\n",
    "print('p-значение: ', results.pvalue)\n",
    "if results.pvalue < alpha:\n",
    "    print(\"Отвергаем нулевую гипотезу\")\n",
    "else:\n",
    "    print(\"Не получилось отвергнуть нулевую гипотезу\")"
   ]
  },
  {
   "cell_type": "code",
   "execution_count": 51,
   "metadata": {},
   "outputs": [
    {
     "name": "stdout",
     "output_type": "stream",
     "text": [
      "1546.7135842880523\n",
      "1524.9362274298885\n"
     ]
    }
   ],
   "source": [
    "# Тест показал, средняя выручка на тарифах не различается\n",
    "# Проверим \n",
    "\n",
    "print(df[df['city'] == 'Москва']['revenue'].mean())\n",
    "print(df[df['city'] != 'Москва']['revenue'].mean())"
   ]
  },
  {
   "cell_type": "markdown",
   "metadata": {},
   "source": [
    "Разницы в тратах между столицей и регионами нет, гипотеза не подтвердилась, это также видно со средними значенями\n",
    "\n",
    "<div class=\"alert alert-success\" style=\"box-shadow: 4px 4px 4px\">\n",
    "<b>✔️</b> 👍\n",
    "</div>\n"
   ]
  },
  {
   "cell_type": "markdown",
   "metadata": {},
   "source": [
    "### Выручка (вне ТЗ)"
   ]
  },
  {
   "cell_type": "code",
   "execution_count": 52,
   "metadata": {},
   "outputs": [
    {
     "data": {
      "text/plain": [
       "tariff\n",
       "smart   1,023.00\n",
       "ultra   1,950.00\n",
       "Name: revenue, dtype: float64"
      ]
     },
     "execution_count": 52,
     "metadata": {},
     "output_type": "execute_result"
    }
   ],
   "source": [
    "# Еще сгруппируем данные по тарифу и посмотрим медиану по выручке на каждом тарифе\n",
    "\n",
    "df.groupby('tariff')['revenue'].median()"
   ]
  },
  {
   "cell_type": "code",
   "execution_count": 53,
   "metadata": {},
   "outputs": [
    {
     "data": {
      "text/plain": [
       "tariff\n",
       "smart   1,289.97\n",
       "ultra   2,070.15\n",
       "Name: revenue, dtype: float64"
      ]
     },
     "execution_count": 53,
     "metadata": {},
     "output_type": "execute_result"
    }
   ],
   "source": [
    "# то же самое, но среднее\n",
    "\n",
    "df.groupby('tariff')['revenue'].mean()"
   ]
  },
  {
   "cell_type": "code",
   "execution_count": 54,
   "metadata": {},
   "outputs": [
    {
     "data": {
      "image/png": "[encoded data removed]",
      "text/plain": [
       "<Figure size 432x288 with 1 Axes>"
      ]
     },
     "metadata": {
      "needs_background": "light"
     },
     "output_type": "display_data"
    }
   ],
   "source": [
    "# посмотрим на гистограмму выручки в разрезе двух тарифов\n",
    "\n",
    "ax = (df.query('tariff==\"smart\"')\n",
    "          .hist('revenue',bins='auto',range=(df['revenue'].min(),df['revenue'].max()))   \n",
    "         )\n",
    " \n",
    "bx = (df.query('tariff==\"ultra\"')\n",
    "          .hist('revenue',bins='auto',ax=ax,alpha=0.7,range=(df['revenue'].min(), df['revenue'].max()),label='smart')\n",
    "         )\n",
    "plt.title('revenue')\n",
    "plt.legend(['ultra', 'smart']);"
   ]
  },
  {
   "cell_type": "markdown",
   "metadata": {},
   "source": [
    "Еще один важный момент — какая часть пользователей обоих тарифов остаются строго в рамках предоставленного пакета услуг?"
   ]
  },
  {
   "cell_type": "code",
   "execution_count": 55,
   "metadata": {},
   "outputs": [
    {
     "name": "stdout",
     "output_type": "stream",
     "text": [
      "Пользователей тарифа Ultra не выходят за рамки пакета: 4.37%\n"
     ]
    }
   ],
   "source": [
    "# Сколько \"ультровцев\" не выходят за пределы абон платы\n",
    "\n",
    "temp_u = (len(df.query('tariff == \"ultra\" and minutes_up <= 0 and messages_up <=0 and gb_up').groupby('user_id')) / \n",
    " len(df.query('tariff == \"ultra\"'))\n",
    ")\n",
    "\n",
    "print(\"Пользователей тарифа Ultra не выходят за рамки пакета: {:.2%}\".format(temp_u))\n"
   ]
  },
  {
   "cell_type": "code",
   "execution_count": 56,
   "metadata": {},
   "outputs": [
    {
     "name": "stdout",
     "output_type": "stream",
     "text": [
      "Пользователей тарифа Smart не выходят за рамки пакета: 8.03%\n"
     ]
    }
   ],
   "source": [
    "# Сколько \"смартовцев\" не выходят за пределы абон платы\n",
    "\n",
    "temp_s = (len(df.query('tariff == \"smart\" and minutes_up <= 0 and messages_up <=0 and gb_up').groupby('user_id')) / \n",
    " len(df.query('tariff == \"smart\"'))\n",
    ")\n",
    "\n",
    "print(\"Пользователей тарифа Smart не выходят за рамки пакета: {:.2%}\".format(temp_s))"
   ]
  },
  {
   "cell_type": "code",
   "execution_count": 57,
   "metadata": {},
   "outputs": [
    {
     "data": {
      "text/plain": [
       "tariff\n",
       "smart   2,875,351.00\n",
       "ultra   2,039,100.00\n",
       "Name: revenue, dtype: float64"
      ]
     },
     "execution_count": 57,
     "metadata": {},
     "output_type": "execute_result"
    }
   ],
   "source": [
    "# Проверим суммарную выручку по тарифам\n",
    "\n",
    "df.groupby('tariff')['revenue'].sum()"
   ]
  },
  {
   "cell_type": "markdown",
   "metadata": {},
   "source": [
    "8% \"смартовцев\" ограничиваются предложенным пакетом — на \"Ультре\" цифра в два раза ниже, 4,37%.\n",
    "\n",
    "<div class=\"alert alert-success\" style=\"box-shadow: 4px 4px 4px\">\n",
    "<b>✔️</b> Интересное замечание\n",
    "</div>\n"
   ]
  },
  {
   "cell_type": "markdown",
   "metadata": {},
   "source": [
    "### **Общий вывод**"
   ]
  },
  {
   "attachments": {
    "image-2.png": {
     "image/png": "[encoded data removed]"
    },
    "image-3.png": {
     "image/png": "[encoded data removed]"
    },
    "image-4.png": {
     "image/png": "[encoded data removed]"
    },
    "image-5.png": {
     "image/png": "[encoded data removed]"
    },
    "image-6.png": {
     "image/png": "[encoded data removed]"
    },
    "image.png": {
     "image/png": "[encoded data removed]"
    }
   },
   "cell_type": "markdown",
   "metadata": {},
   "source": [
    "Пользователей более доступного тарифа Smart в 2.3 раза больше. При этом общая выручка пользователей Smart всего в 1.4 превышает таковую по тприфу Ultra.\n",
    "![image-2.png](attachment:image-2.png)\n",
    "Одна из целей исследования — проверка гипотезы равенства выручки по двум тарифам. Гипотеза подтвердилась — средний пользователь тарифа Ultra приносит оператору в среднем почти в 2 раза больше выручки. Ожидаемо основная масса пользователей тратит сумму, близкую к абонентской плате, это хорошо видно на гистограмме.\n",
    "![image.png](attachment:image.png)\n",
    "\n",
    "Вторая гипотеза о неравенстве выручки от пользователей из Москвы и других городдов наоборот не подтвердилась, там паритет.\n",
    "![image-3.png](attachment:image-3.png)\n",
    "\n",
    "В плюс Ultra идет меньшее количество людей, ограничившееся только включенным пакетом — лишь 4% не выходят за рамки одного из пакетов минут, Гб и смс. На Smart таких абонентов 8%.\n",
    "\n",
    "Но есть существенная угроза для бизнеса оператора. Давайте посмотрим на пакет услуг в тарифе Ultra:\n",
    "- Ежемесячная плата: 1950 рублей\n",
    "- Включено 3000 минут разговора, 1000 сообщений и 30 Гб интернет-трафика\n",
    "\n",
    "А теперь на потребление этих услуг.\n",
    "Минуты:\n",
    "![image-4.png](attachment:image-4.png)\n",
    "Среднее значение **545 минут**\n",
    "\n",
    "Трафик:\n",
    "![image-5.png](attachment:image-5.png)\n",
    "**Среднее значение 19.6 ГБ**\n",
    "\n",
    "СМС:\n",
    "![image-6.png](attachment:image-6.png)\n",
    "**Среднее значение 61 шт.**\n",
    "\n",
    "Пользователи Ultra в большинстве своем выходят за рамки пакета по одному из параметров (96% от всех пользователей Ultra). Но большАя часть не реализует все три параметра. Особенно это заметно по уже устаревшим СМС — в среднем 61 из 1000, кто-то ими не пользуется вообще. Касаемо голосовых вызовов — среднее 545 минут из 3000, при этом мало кто тратит более 1500 минут.\n",
    "\n",
    "Чем это опасно? Грамотные пользователи могут заметить большой остаток пакетов услуг на конец расчетного периода и с целью экономии принять одно из двух решений:\n",
    "1. Уйти на тариф Smart\n",
    "2. Уйти к другому оператору\n",
    "\n",
    "При любом из этих решений бизнес потеряет деньги.\n",
    "\n",
    "Основная задача исследования — сделать вывод, какой тариф лучше. Безусловно, _для \"Мегалайна\" с точки зрения выручки интереснее и перспективнее тариф Ultra_. На него надо делать маркетинговый упор, продвигать и выделять в отдельную категорию премиум-обслуживания. Но при этом помнить о параметрах тарифа, которые средний пользователь не реализует, а потому существует высокая вероятность оттока. Для избежания этого можно сделать:\n",
    "1. Ввести промежуточный тариф, условный Smart+, по размеру пакетов находящийся посередине (с менее выгодным соотношением услуга/цена, т.е. удельная стоимост минут/Гб/СМС больше, но в целом ежемесячные платежи меньше)\n",
    "2. Добавить тариф-конструктор, где пользователь сам выбирает параметры тарифа.\n",
    "\n",
    "\n",
    "<div class=\"alert alert-success\" style=\"box-shadow: 4px 4px 4px\">\n",
    "<b>✔️</b> Очень хорошие выводы, молодец! Здорово, что ты понимаешь цель исследования со стороны бизнеса, это очень полезный навык 👍\n",
    "</div>\n"
   ]
  },
  {
   "cell_type": "code",
   "execution_count": null,
   "metadata": {},
   "outputs": [],
   "source": []
  }
 ],
 "metadata": {
  "ExecuteTimeLog": [
   {
    "duration": 850,
    "start_time": "2022-02-17T10:59:25.512Z"
   },
   {
    "duration": 4,
    "start_time": "2022-02-17T10:59:39.736Z"
   },
   {
    "duration": 59,
    "start_time": "2022-02-17T10:59:43.396Z"
   },
   {
    "duration": 418,
    "start_time": "2022-02-17T11:00:24.326Z"
   },
   {
    "duration": 13,
    "start_time": "2022-02-17T11:00:44.894Z"
   },
   {
    "duration": 8,
    "start_time": "2022-02-17T11:01:08.290Z"
   },
   {
    "duration": 8,
    "start_time": "2022-02-17T11:01:20.146Z"
   },
   {
    "duration": 8,
    "start_time": "2022-02-17T11:01:40.125Z"
   },
   {
    "duration": 10,
    "start_time": "2022-02-17T11:02:12.978Z"
   },
   {
    "duration": 3,
    "start_time": "2022-02-17T11:12:39.556Z"
   },
   {
    "duration": 3,
    "start_time": "2022-02-17T11:13:37.746Z"
   },
   {
    "duration": 7,
    "start_time": "2022-02-17T11:13:53.620Z"
   },
   {
    "duration": 3,
    "start_time": "2022-02-17T11:14:14.256Z"
   },
   {
    "duration": 7,
    "start_time": "2022-02-17T11:14:19.076Z"
   },
   {
    "duration": 351,
    "start_time": "2022-02-17T11:15:19.297Z"
   },
   {
    "duration": 11,
    "start_time": "2022-02-17T11:15:25.900Z"
   },
   {
    "duration": 33,
    "start_time": "2022-02-17T11:15:38.078Z"
   },
   {
    "duration": 3,
    "start_time": "2022-02-17T11:19:21.576Z"
   },
   {
    "duration": 9,
    "start_time": "2022-02-17T11:19:37.462Z"
   },
   {
    "duration": 3,
    "start_time": "2022-02-17T11:23:25.622Z"
   },
   {
    "duration": 7,
    "start_time": "2022-02-17T11:23:29.768Z"
   },
   {
    "duration": 3,
    "start_time": "2022-02-17T11:29:34.619Z"
   },
   {
    "duration": 356,
    "start_time": "2022-02-17T11:29:37.968Z"
   },
   {
    "duration": 4,
    "start_time": "2022-02-17T11:29:45.723Z"
   },
   {
    "duration": 38,
    "start_time": "2022-02-17T11:29:50.028Z"
   },
   {
    "duration": 1306,
    "start_time": "2022-02-18T01:19:11.023Z"
   },
   {
    "duration": -482,
    "start_time": "2022-02-18T01:19:12.814Z"
   },
   {
    "duration": 555,
    "start_time": "2022-02-18T01:19:24.078Z"
   },
   {
    "duration": 340,
    "start_time": "2022-02-18T01:19:27.275Z"
   },
   {
    "duration": 1366,
    "start_time": "2022-02-18T01:19:45.078Z"
   },
   {
    "duration": -560,
    "start_time": "2022-02-18T01:19:47.007Z"
   },
   {
    "duration": -561,
    "start_time": "2022-02-18T01:19:47.009Z"
   },
   {
    "duration": -561,
    "start_time": "2022-02-18T01:19:47.011Z"
   },
   {
    "duration": 2113,
    "start_time": "2022-02-18T01:20:13.574Z"
   },
   {
    "duration": -504,
    "start_time": "2022-02-18T01:20:16.194Z"
   },
   {
    "duration": -505,
    "start_time": "2022-02-18T01:20:16.197Z"
   },
   {
    "duration": -533,
    "start_time": "2022-02-18T01:20:16.226Z"
   },
   {
    "duration": 832,
    "start_time": "2022-02-18T01:20:36.756Z"
   },
   {
    "duration": 5,
    "start_time": "2022-02-18T01:20:37.591Z"
   },
   {
    "duration": 548,
    "start_time": "2022-02-18T01:20:37.599Z"
   },
   {
    "duration": 68,
    "start_time": "2022-02-18T01:20:38.150Z"
   },
   {
    "duration": 50,
    "start_time": "2022-02-18T01:21:45.696Z"
   },
   {
    "duration": 44,
    "start_time": "2022-02-18T01:22:09.646Z"
   },
   {
    "duration": 22,
    "start_time": "2022-02-18T01:22:35.510Z"
   },
   {
    "duration": 29,
    "start_time": "2022-02-18T01:23:45.005Z"
   },
   {
    "duration": 309,
    "start_time": "2022-02-18T01:44:08.410Z"
   },
   {
    "duration": 244,
    "start_time": "2022-02-18T01:44:38.636Z"
   },
   {
    "duration": 279,
    "start_time": "2022-02-18T01:44:43.904Z"
   },
   {
    "duration": 55,
    "start_time": "2022-02-18T01:46:05.415Z"
   },
   {
    "duration": 3,
    "start_time": "2022-02-18T01:48:47.452Z"
   },
   {
    "duration": 3,
    "start_time": "2022-02-18T01:52:00.019Z"
   },
   {
    "duration": 3,
    "start_time": "2022-02-18T01:53:29.694Z"
   },
   {
    "duration": 642,
    "start_time": "2022-02-18T17:51:28.457Z"
   },
   {
    "duration": 3,
    "start_time": "2022-02-18T17:51:30.224Z"
   },
   {
    "duration": 384,
    "start_time": "2022-02-18T17:51:33.278Z"
   },
   {
    "duration": 656,
    "start_time": "2022-02-19T02:07:06.894Z"
   },
   {
    "duration": 2,
    "start_time": "2022-02-19T02:07:07.552Z"
   },
   {
    "duration": 367,
    "start_time": "2022-02-19T02:07:07.556Z"
   },
   {
    "duration": 7,
    "start_time": "2022-02-19T02:07:16.087Z"
   },
   {
    "duration": 5,
    "start_time": "2022-02-19T02:08:03.034Z"
   },
   {
    "duration": 3,
    "start_time": "2022-02-19T02:08:42.534Z"
   },
   {
    "duration": 4,
    "start_time": "2022-02-19T02:11:37.035Z"
   },
   {
    "duration": 3,
    "start_time": "2022-02-19T02:26:12.218Z"
   },
   {
    "duration": 4,
    "start_time": "2022-02-19T02:26:26.397Z"
   },
   {
    "duration": 12,
    "start_time": "2022-02-19T02:30:52.334Z"
   },
   {
    "duration": 4,
    "start_time": "2022-02-19T02:31:08.927Z"
   },
   {
    "duration": 320,
    "start_time": "2022-02-19T06:31:29.474Z"
   },
   {
    "duration": 605,
    "start_time": "2022-02-19T06:31:40.352Z"
   },
   {
    "duration": 2,
    "start_time": "2022-02-19T06:31:40.959Z"
   },
   {
    "duration": 376,
    "start_time": "2022-02-19T06:31:40.963Z"
   },
   {
    "duration": 45,
    "start_time": "2022-02-19T06:31:41.341Z"
   },
   {
    "duration": 39,
    "start_time": "2022-02-19T06:31:41.388Z"
   },
   {
    "duration": 39,
    "start_time": "2022-02-19T06:31:41.428Z"
   },
   {
    "duration": 14,
    "start_time": "2022-02-19T06:31:41.469Z"
   },
   {
    "duration": 49,
    "start_time": "2022-02-19T06:31:41.486Z"
   },
   {
    "duration": 71,
    "start_time": "2022-02-19T06:31:41.537Z"
   },
   {
    "duration": 465,
    "start_time": "2022-02-19T06:31:41.145Z"
   },
   {
    "duration": 463,
    "start_time": "2022-02-19T06:31:41.148Z"
   },
   {
    "duration": 453,
    "start_time": "2022-02-19T06:31:41.159Z"
   },
   {
    "duration": 432,
    "start_time": "2022-02-19T06:31:41.181Z"
   },
   {
    "duration": 425,
    "start_time": "2022-02-19T06:31:41.190Z"
   },
   {
    "duration": 423,
    "start_time": "2022-02-19T06:31:41.193Z"
   },
   {
    "duration": 420,
    "start_time": "2022-02-19T06:31:41.197Z"
   },
   {
    "duration": 265,
    "start_time": "2022-02-19T06:32:06.361Z"
   },
   {
    "duration": 3,
    "start_time": "2022-02-19T06:32:42.483Z"
   },
   {
    "duration": 185,
    "start_time": "2022-02-19T06:32:46.554Z"
   },
   {
    "duration": 636,
    "start_time": "2022-02-19T06:32:53.224Z"
   },
   {
    "duration": 4,
    "start_time": "2022-02-19T06:32:53.862Z"
   },
   {
    "duration": 393,
    "start_time": "2022-02-19T06:32:53.868Z"
   },
   {
    "duration": 44,
    "start_time": "2022-02-19T06:32:54.263Z"
   },
   {
    "duration": 34,
    "start_time": "2022-02-19T06:32:54.308Z"
   },
   {
    "duration": 29,
    "start_time": "2022-02-19T06:32:54.343Z"
   },
   {
    "duration": 12,
    "start_time": "2022-02-19T06:32:54.374Z"
   },
   {
    "duration": 45,
    "start_time": "2022-02-19T06:32:54.389Z"
   },
   {
    "duration": 5,
    "start_time": "2022-02-19T06:32:54.435Z"
   },
   {
    "duration": 27,
    "start_time": "2022-02-19T06:32:54.441Z"
   },
   {
    "duration": 23,
    "start_time": "2022-02-19T06:32:54.470Z"
   },
   {
    "duration": 25,
    "start_time": "2022-02-19T06:32:54.495Z"
   },
   {
    "duration": 25,
    "start_time": "2022-02-19T06:32:54.523Z"
   },
   {
    "duration": 13,
    "start_time": "2022-02-19T06:32:54.550Z"
   },
   {
    "duration": 28,
    "start_time": "2022-02-19T06:32:54.566Z"
   },
   {
    "duration": 274,
    "start_time": "2022-02-19T06:32:54.596Z"
   },
   {
    "duration": 9,
    "start_time": "2022-02-19T06:33:09.802Z"
   },
   {
    "duration": 4,
    "start_time": "2022-02-19T06:33:24.278Z"
   },
   {
    "duration": 4,
    "start_time": "2022-02-19T06:34:10.343Z"
   },
   {
    "duration": 522,
    "start_time": "2022-02-19T06:34:17.333Z"
   },
   {
    "duration": 80,
    "start_time": "2022-02-19T06:55:17.456Z"
   },
   {
    "duration": 66,
    "start_time": "2022-02-19T07:08:09.252Z"
   },
   {
    "duration": 5,
    "start_time": "2022-02-19T07:08:23.833Z"
   },
   {
    "duration": 9,
    "start_time": "2022-02-19T07:10:06.286Z"
   },
   {
    "duration": 72,
    "start_time": "2022-02-19T07:10:25.943Z"
   },
   {
    "duration": 4,
    "start_time": "2022-02-19T07:10:38.950Z"
   },
   {
    "duration": 5,
    "start_time": "2022-02-19T07:11:24.264Z"
   },
   {
    "duration": 194,
    "start_time": "2022-02-19T07:12:57.083Z"
   },
   {
    "duration": 586,
    "start_time": "2022-02-19T07:13:15.978Z"
   },
   {
    "duration": 3,
    "start_time": "2022-02-19T07:13:16.566Z"
   },
   {
    "duration": 375,
    "start_time": "2022-02-19T07:13:16.571Z"
   },
   {
    "duration": 44,
    "start_time": "2022-02-19T07:13:16.948Z"
   },
   {
    "duration": 34,
    "start_time": "2022-02-19T07:13:16.994Z"
   },
   {
    "duration": 30,
    "start_time": "2022-02-19T07:13:17.030Z"
   },
   {
    "duration": 14,
    "start_time": "2022-02-19T07:13:17.061Z"
   },
   {
    "duration": 46,
    "start_time": "2022-02-19T07:13:17.077Z"
   },
   {
    "duration": 4,
    "start_time": "2022-02-19T07:13:17.125Z"
   },
   {
    "duration": 93,
    "start_time": "2022-02-19T07:13:17.130Z"
   },
   {
    "duration": 266,
    "start_time": "2022-02-19T07:13:17.224Z"
   },
   {
    "duration": 417,
    "start_time": "2022-02-19T07:13:17.075Z"
   },
   {
    "duration": 414,
    "start_time": "2022-02-19T07:13:17.079Z"
   },
   {
    "duration": 395,
    "start_time": "2022-02-19T07:13:17.099Z"
   },
   {
    "duration": 349,
    "start_time": "2022-02-19T07:13:17.146Z"
   },
   {
    "duration": 347,
    "start_time": "2022-02-19T07:13:17.149Z"
   },
   {
    "duration": 345,
    "start_time": "2022-02-19T07:13:17.152Z"
   },
   {
    "duration": 290,
    "start_time": "2022-02-19T07:13:54.650Z"
   },
   {
    "duration": 202,
    "start_time": "2022-02-19T07:14:59.469Z"
   },
   {
    "duration": 6,
    "start_time": "2022-02-19T07:15:02.808Z"
   },
   {
    "duration": 12,
    "start_time": "2022-02-19T07:15:59.532Z"
   },
   {
    "duration": 783,
    "start_time": "2022-02-19T14:31:04.526Z"
   },
   {
    "duration": 3,
    "start_time": "2022-02-19T14:31:05.311Z"
   },
   {
    "duration": 468,
    "start_time": "2022-02-19T14:31:05.318Z"
   },
   {
    "duration": 65,
    "start_time": "2022-02-19T14:31:05.788Z"
   },
   {
    "duration": 37,
    "start_time": "2022-02-19T14:31:05.855Z"
   },
   {
    "duration": 61,
    "start_time": "2022-02-19T14:31:05.893Z"
   },
   {
    "duration": 16,
    "start_time": "2022-02-19T14:31:05.957Z"
   },
   {
    "duration": 45,
    "start_time": "2022-02-19T14:31:05.976Z"
   },
   {
    "duration": 5,
    "start_time": "2022-02-19T14:31:06.023Z"
   },
   {
    "duration": 101,
    "start_time": "2022-02-19T14:31:06.031Z"
   },
   {
    "duration": 17,
    "start_time": "2022-02-19T14:31:06.135Z"
   },
   {
    "duration": 2,
    "start_time": "2022-02-19T14:31:06.154Z"
   },
   {
    "duration": 8,
    "start_time": "2022-02-19T14:31:06.158Z"
   },
   {
    "duration": 8,
    "start_time": "2022-02-19T14:31:06.167Z"
   },
   {
    "duration": 15,
    "start_time": "2022-02-19T14:31:06.176Z"
   },
   {
    "duration": 19,
    "start_time": "2022-02-19T14:31:06.193Z"
   },
   {
    "duration": 14,
    "start_time": "2022-02-19T14:31:06.214Z"
   },
   {
    "duration": 5,
    "start_time": "2022-02-19T14:32:01.128Z"
   },
   {
    "duration": 340,
    "start_time": "2022-02-19T14:32:18.219Z"
   },
   {
    "duration": 5,
    "start_time": "2022-02-19T14:32:30.328Z"
   },
   {
    "duration": 5,
    "start_time": "2022-02-19T14:32:41.058Z"
   },
   {
    "duration": 5,
    "start_time": "2022-02-19T14:32:46.380Z"
   },
   {
    "duration": 4,
    "start_time": "2022-02-19T14:33:02.659Z"
   },
   {
    "duration": 424,
    "start_time": "2022-02-19T14:41:47.127Z"
   },
   {
    "duration": 45,
    "start_time": "2022-02-19T14:41:50.843Z"
   },
   {
    "duration": 39,
    "start_time": "2022-02-19T14:41:55.773Z"
   },
   {
    "duration": 1018,
    "start_time": "2022-02-20T07:57:35.358Z"
   },
   {
    "duration": 984,
    "start_time": "2022-02-20T07:57:50.549Z"
   },
   {
    "duration": 4,
    "start_time": "2022-02-20T07:57:51.536Z"
   },
   {
    "duration": 556,
    "start_time": "2022-02-20T07:57:51.543Z"
   },
   {
    "duration": 67,
    "start_time": "2022-02-20T07:57:52.102Z"
   },
   {
    "duration": 77,
    "start_time": "2022-02-20T07:57:52.172Z"
   },
   {
    "duration": 76,
    "start_time": "2022-02-20T07:57:52.252Z"
   },
   {
    "duration": 25,
    "start_time": "2022-02-20T07:57:52.331Z"
   },
   {
    "duration": 59,
    "start_time": "2022-02-20T07:57:52.359Z"
   },
   {
    "duration": 6,
    "start_time": "2022-02-20T07:57:52.421Z"
   },
   {
    "duration": 128,
    "start_time": "2022-02-20T07:57:52.430Z"
   },
   {
    "duration": 17,
    "start_time": "2022-02-20T07:57:52.560Z"
   },
   {
    "duration": 130,
    "start_time": "2022-02-20T07:57:57.811Z"
   },
   {
    "duration": 123,
    "start_time": "2022-02-20T07:58:02.227Z"
   },
   {
    "duration": 125,
    "start_time": "2022-02-20T07:58:08.826Z"
   },
   {
    "duration": 113,
    "start_time": "2022-02-20T07:58:30.128Z"
   },
   {
    "duration": 72,
    "start_time": "2022-02-20T07:58:49.212Z"
   },
   {
    "duration": 11,
    "start_time": "2022-02-20T07:59:09.796Z"
   },
   {
    "duration": 1861,
    "start_time": "2022-02-20T08:07:45.515Z"
   },
   {
    "duration": 1076,
    "start_time": "2022-02-20T08:08:12.419Z"
   },
   {
    "duration": 5,
    "start_time": "2022-02-20T08:08:13.499Z"
   },
   {
    "duration": 561,
    "start_time": "2022-02-20T08:08:13.507Z"
   },
   {
    "duration": 62,
    "start_time": "2022-02-20T08:08:14.071Z"
   },
   {
    "duration": 50,
    "start_time": "2022-02-20T08:08:14.135Z"
   },
   {
    "duration": 43,
    "start_time": "2022-02-20T08:08:14.211Z"
   },
   {
    "duration": 58,
    "start_time": "2022-02-20T08:08:14.256Z"
   },
   {
    "duration": 28,
    "start_time": "2022-02-20T08:08:14.319Z"
   },
   {
    "duration": 7,
    "start_time": "2022-02-20T08:08:14.350Z"
   },
   {
    "duration": 1965,
    "start_time": "2022-02-20T08:08:14.360Z"
   },
   {
    "duration": 88,
    "start_time": "2022-02-20T08:08:16.239Z"
   },
   {
    "duration": 87,
    "start_time": "2022-02-20T08:08:16.242Z"
   },
   {
    "duration": 84,
    "start_time": "2022-02-20T08:08:16.246Z"
   },
   {
    "duration": 79,
    "start_time": "2022-02-20T08:08:16.253Z"
   },
   {
    "duration": 79,
    "start_time": "2022-02-20T08:08:16.255Z"
   },
   {
    "duration": 80,
    "start_time": "2022-02-20T08:08:16.256Z"
   },
   {
    "duration": 80,
    "start_time": "2022-02-20T08:08:16.258Z"
   },
   {
    "duration": 53,
    "start_time": "2022-02-20T08:08:16.287Z"
   },
   {
    "duration": 53,
    "start_time": "2022-02-20T08:08:16.289Z"
   },
   {
    "duration": 124,
    "start_time": "2022-02-20T08:10:26.511Z"
   },
   {
    "duration": 6,
    "start_time": "2022-02-20T08:10:59.415Z"
   },
   {
    "duration": 7,
    "start_time": "2022-02-20T08:10:59.424Z"
   },
   {
    "duration": 571,
    "start_time": "2022-02-20T08:10:59.434Z"
   },
   {
    "duration": 103,
    "start_time": "2022-02-20T08:11:00.008Z"
   },
   {
    "duration": 51,
    "start_time": "2022-02-20T08:11:00.114Z"
   },
   {
    "duration": 72,
    "start_time": "2022-02-20T08:11:00.167Z"
   },
   {
    "duration": 22,
    "start_time": "2022-02-20T08:11:00.242Z"
   },
   {
    "duration": 66,
    "start_time": "2022-02-20T08:11:00.267Z"
   },
   {
    "duration": 6,
    "start_time": "2022-02-20T08:11:00.338Z"
   },
   {
    "duration": 123,
    "start_time": "2022-02-20T08:11:00.348Z"
   },
   {
    "duration": 17,
    "start_time": "2022-02-20T08:11:00.473Z"
   },
   {
    "duration": 119,
    "start_time": "2022-02-20T08:11:00.510Z"
   },
   {
    "duration": 61,
    "start_time": "2022-02-20T08:11:00.632Z"
   },
   {
    "duration": 68,
    "start_time": "2022-02-20T08:11:00.695Z"
   },
   {
    "duration": 10,
    "start_time": "2022-02-20T08:11:00.766Z"
   },
   {
    "duration": 1954,
    "start_time": "2022-02-20T08:11:08.300Z"
   },
   {
    "duration": 6,
    "start_time": "2022-02-20T08:11:49.844Z"
   },
   {
    "duration": 1304,
    "start_time": "2022-02-20T08:13:35.552Z"
   },
   {
    "duration": 7,
    "start_time": "2022-02-20T08:13:48.447Z"
   },
   {
    "duration": 767,
    "start_time": "2022-02-20T08:14:23.437Z"
   },
   {
    "duration": 44,
    "start_time": "2022-02-20T08:14:35.665Z"
   },
   {
    "duration": 629,
    "start_time": "2022-02-20T08:14:44.567Z"
   },
   {
    "duration": 33,
    "start_time": "2022-02-20T08:14:59.889Z"
   },
   {
    "duration": 22,
    "start_time": "2022-02-20T08:15:34.753Z"
   },
   {
    "duration": 48,
    "start_time": "2022-02-20T08:15:43.912Z"
   },
   {
    "duration": 5,
    "start_time": "2022-02-20T08:16:21.470Z"
   },
   {
    "duration": 24,
    "start_time": "2022-02-20T08:17:00.030Z"
   },
   {
    "duration": 39,
    "start_time": "2022-02-20T08:17:09.712Z"
   },
   {
    "duration": 34,
    "start_time": "2022-02-20T08:17:19.830Z"
   },
   {
    "duration": 26,
    "start_time": "2022-02-20T08:17:21.763Z"
   },
   {
    "duration": 6,
    "start_time": "2022-02-20T08:17:46.238Z"
   },
   {
    "duration": 77,
    "start_time": "2022-02-20T08:18:28.191Z"
   },
   {
    "duration": 80,
    "start_time": "2022-02-20T08:18:59.851Z"
   },
   {
    "duration": 6,
    "start_time": "2022-02-20T08:19:13.440Z"
   },
   {
    "duration": 7,
    "start_time": "2022-02-20T08:19:33.691Z"
   },
   {
    "duration": 82,
    "start_time": "2022-02-20T08:20:26.057Z"
   },
   {
    "duration": 79,
    "start_time": "2022-02-20T08:20:26.062Z"
   },
   {
    "duration": 80,
    "start_time": "2022-02-20T08:20:48.589Z"
   },
   {
    "duration": 81,
    "start_time": "2022-02-20T08:20:48.590Z"
   },
   {
    "duration": 1131,
    "start_time": "2022-02-20T08:21:01.505Z"
   },
   {
    "duration": 3,
    "start_time": "2022-02-20T08:21:02.639Z"
   },
   {
    "duration": 564,
    "start_time": "2022-02-20T08:21:02.645Z"
   },
   {
    "duration": 74,
    "start_time": "2022-02-20T08:21:03.212Z"
   },
   {
    "duration": 67,
    "start_time": "2022-02-20T08:21:03.289Z"
   },
   {
    "duration": 69,
    "start_time": "2022-02-20T08:21:03.359Z"
   },
   {
    "duration": 23,
    "start_time": "2022-02-20T08:21:03.431Z"
   },
   {
    "duration": 60,
    "start_time": "2022-02-20T08:21:03.456Z"
   },
   {
    "duration": 7,
    "start_time": "2022-02-20T08:21:03.522Z"
   },
   {
    "duration": 127,
    "start_time": "2022-02-20T08:21:03.533Z"
   },
   {
    "duration": 16,
    "start_time": "2022-02-20T08:21:03.663Z"
   },
   {
    "duration": 151,
    "start_time": "2022-02-20T08:21:03.681Z"
   },
   {
    "duration": 56,
    "start_time": "2022-02-20T08:21:03.835Z"
   },
   {
    "duration": 54,
    "start_time": "2022-02-20T08:21:03.911Z"
   },
   {
    "duration": 11,
    "start_time": "2022-02-20T08:21:03.967Z"
   },
   {
    "duration": 53,
    "start_time": "2022-02-20T08:21:03.980Z"
   },
   {
    "duration": 27,
    "start_time": "2022-02-20T08:21:04.036Z"
   },
   {
    "duration": 18942,
    "start_time": "2022-02-20T08:21:04.065Z"
   },
   {
    "duration": 76,
    "start_time": "2022-02-20T08:21:22.937Z"
   },
   {
    "duration": 77,
    "start_time": "2022-02-20T08:21:22.939Z"
   },
   {
    "duration": 78,
    "start_time": "2022-02-20T08:21:22.940Z"
   },
   {
    "duration": 78,
    "start_time": "2022-02-20T08:21:22.942Z"
   },
   {
    "duration": 79,
    "start_time": "2022-02-20T08:21:22.943Z"
   },
   {
    "duration": 79,
    "start_time": "2022-02-20T08:21:22.945Z"
   },
   {
    "duration": 4,
    "start_time": "2022-02-20T08:21:45.827Z"
   },
   {
    "duration": 11,
    "start_time": "2022-02-20T08:22:01.985Z"
   },
   {
    "duration": 22,
    "start_time": "2022-02-20T08:22:41.199Z"
   },
   {
    "duration": 26,
    "start_time": "2022-02-20T08:22:58.050Z"
   },
   {
    "duration": 6,
    "start_time": "2022-02-20T08:23:19.883Z"
   },
   {
    "duration": 5,
    "start_time": "2022-02-20T08:43:50.700Z"
   },
   {
    "duration": 9,
    "start_time": "2022-02-20T08:44:00.590Z"
   },
   {
    "duration": 23,
    "start_time": "2022-02-20T08:44:27.449Z"
   },
   {
    "duration": 5,
    "start_time": "2022-02-20T08:45:30.483Z"
   },
   {
    "duration": 7,
    "start_time": "2022-02-20T08:45:39.401Z"
   },
   {
    "duration": 6,
    "start_time": "2022-02-20T08:51:33.459Z"
   },
   {
    "duration": 383,
    "start_time": "2022-02-20T08:52:00.533Z"
   },
   {
    "duration": 33,
    "start_time": "2022-02-20T08:52:12.916Z"
   },
   {
    "duration": 36,
    "start_time": "2022-02-20T08:52:18.435Z"
   },
   {
    "duration": 35,
    "start_time": "2022-02-20T08:52:35.603Z"
   },
   {
    "duration": 21,
    "start_time": "2022-02-20T08:52:46.451Z"
   },
   {
    "duration": 22,
    "start_time": "2022-02-20T08:53:40.378Z"
   },
   {
    "duration": 33,
    "start_time": "2022-02-20T08:54:08.009Z"
   },
   {
    "duration": 462,
    "start_time": "2022-02-20T08:54:12.992Z"
   },
   {
    "duration": 35,
    "start_time": "2022-02-20T08:54:19.220Z"
   },
   {
    "duration": 29,
    "start_time": "2022-02-20T08:54:48.531Z"
   },
   {
    "duration": 6,
    "start_time": "2022-02-20T08:55:55.791Z"
   },
   {
    "duration": 45,
    "start_time": "2022-02-20T08:56:16.780Z"
   },
   {
    "duration": 32,
    "start_time": "2022-02-20T08:56:25.070Z"
   },
   {
    "duration": 7,
    "start_time": "2022-02-20T08:58:00.434Z"
   },
   {
    "duration": 28,
    "start_time": "2022-02-20T08:58:43.445Z"
   },
   {
    "duration": 105,
    "start_time": "2022-02-20T08:59:24.541Z"
   },
   {
    "duration": 25,
    "start_time": "2022-02-20T08:59:26.536Z"
   },
   {
    "duration": 32,
    "start_time": "2022-02-20T08:59:35.382Z"
   },
   {
    "duration": 30,
    "start_time": "2022-02-20T09:00:57.336Z"
   },
   {
    "duration": 44,
    "start_time": "2022-02-20T09:01:32.466Z"
   },
   {
    "duration": 32,
    "start_time": "2022-02-20T09:01:37.679Z"
   },
   {
    "duration": 23,
    "start_time": "2022-02-20T09:01:55.868Z"
   },
   {
    "duration": 32,
    "start_time": "2022-02-20T09:02:02.195Z"
   },
   {
    "duration": 158,
    "start_time": "2022-02-20T09:02:30.172Z"
   },
   {
    "duration": 31,
    "start_time": "2022-02-20T09:02:36.185Z"
   },
   {
    "duration": 30,
    "start_time": "2022-02-20T09:02:42.179Z"
   },
   {
    "duration": 34,
    "start_time": "2022-02-20T09:03:39.915Z"
   },
   {
    "duration": 810,
    "start_time": "2022-02-20T12:37:10.327Z"
   },
   {
    "duration": 5,
    "start_time": "2022-02-20T12:37:11.140Z"
   },
   {
    "duration": 538,
    "start_time": "2022-02-20T12:37:11.147Z"
   },
   {
    "duration": 67,
    "start_time": "2022-02-20T12:37:11.687Z"
   },
   {
    "duration": 66,
    "start_time": "2022-02-20T12:37:11.756Z"
   },
   {
    "duration": 73,
    "start_time": "2022-02-20T12:37:11.826Z"
   },
   {
    "duration": 22,
    "start_time": "2022-02-20T12:37:11.901Z"
   },
   {
    "duration": 23,
    "start_time": "2022-02-20T12:37:11.925Z"
   },
   {
    "duration": 46,
    "start_time": "2022-02-20T12:37:11.951Z"
   },
   {
    "duration": 179,
    "start_time": "2022-02-20T12:37:12.000Z"
   },
   {
    "duration": 22,
    "start_time": "2022-02-20T12:37:12.182Z"
   },
   {
    "duration": 141,
    "start_time": "2022-02-20T12:37:12.207Z"
   },
   {
    "duration": 72,
    "start_time": "2022-02-20T12:37:12.351Z"
   },
   {
    "duration": 52,
    "start_time": "2022-02-20T12:37:12.425Z"
   },
   {
    "duration": 37,
    "start_time": "2022-02-20T12:37:12.479Z"
   },
   {
    "duration": 4,
    "start_time": "2022-02-20T12:37:12.519Z"
   },
   {
    "duration": 33,
    "start_time": "2022-02-20T12:37:12.525Z"
   },
   {
    "duration": 50,
    "start_time": "2022-02-20T12:37:12.562Z"
   },
   {
    "duration": 19,
    "start_time": "2022-02-20T12:37:12.614Z"
   },
   {
    "duration": 4,
    "start_time": "2022-02-20T12:37:12.635Z"
   },
   {
    "duration": 7,
    "start_time": "2022-02-20T12:37:12.642Z"
   },
   {
    "duration": 61,
    "start_time": "2022-02-20T12:37:12.651Z"
   },
   {
    "duration": 21,
    "start_time": "2022-02-20T12:37:12.715Z"
   },
   {
    "duration": 24,
    "start_time": "2022-02-20T12:37:12.738Z"
   },
   {
    "duration": 5,
    "start_time": "2022-02-20T12:37:12.764Z"
   },
   {
    "duration": 5,
    "start_time": "2022-02-20T12:37:12.794Z"
   },
   {
    "duration": 9,
    "start_time": "2022-02-20T12:37:12.802Z"
   },
   {
    "duration": 16,
    "start_time": "2022-02-20T12:37:12.813Z"
   },
   {
    "duration": 988,
    "start_time": "2022-02-20T14:14:17.426Z"
   },
   {
    "duration": 6,
    "start_time": "2022-02-20T14:14:18.416Z"
   },
   {
    "duration": 565,
    "start_time": "2022-02-20T14:14:18.425Z"
   },
   {
    "duration": 63,
    "start_time": "2022-02-20T14:14:18.992Z"
   },
   {
    "duration": 71,
    "start_time": "2022-02-20T14:14:19.057Z"
   },
   {
    "duration": 39,
    "start_time": "2022-02-20T14:14:19.130Z"
   },
   {
    "duration": 45,
    "start_time": "2022-02-20T14:14:19.172Z"
   },
   {
    "duration": 26,
    "start_time": "2022-02-20T14:14:19.220Z"
   },
   {
    "duration": 5,
    "start_time": "2022-02-20T14:14:19.249Z"
   },
   {
    "duration": 135,
    "start_time": "2022-02-20T14:14:19.257Z"
   },
   {
    "duration": 26,
    "start_time": "2022-02-20T14:14:19.394Z"
   },
   {
    "duration": 130,
    "start_time": "2022-02-20T14:14:19.423Z"
   },
   {
    "duration": 74,
    "start_time": "2022-02-20T14:14:19.556Z"
   },
   {
    "duration": 51,
    "start_time": "2022-02-20T14:14:19.632Z"
   },
   {
    "duration": 42,
    "start_time": "2022-02-20T14:14:19.685Z"
   },
   {
    "duration": 3,
    "start_time": "2022-02-20T14:14:19.729Z"
   },
   {
    "duration": 35,
    "start_time": "2022-02-20T14:14:19.734Z"
   },
   {
    "duration": 48,
    "start_time": "2022-02-20T14:14:19.771Z"
   },
   {
    "duration": 19,
    "start_time": "2022-02-20T14:14:19.822Z"
   },
   {
    "duration": 4,
    "start_time": "2022-02-20T14:14:19.843Z"
   },
   {
    "duration": 10,
    "start_time": "2022-02-20T14:14:19.849Z"
   },
   {
    "duration": 61,
    "start_time": "2022-02-20T14:14:19.861Z"
   },
   {
    "duration": 22,
    "start_time": "2022-02-20T14:14:19.926Z"
   },
   {
    "duration": 23,
    "start_time": "2022-02-20T14:14:19.951Z"
   },
   {
    "duration": 5,
    "start_time": "2022-02-20T14:14:19.976Z"
   },
   {
    "duration": 28,
    "start_time": "2022-02-20T14:14:19.983Z"
   },
   {
    "duration": 7,
    "start_time": "2022-02-20T14:14:20.013Z"
   },
   {
    "duration": 15,
    "start_time": "2022-02-20T14:14:20.022Z"
   },
   {
    "duration": 2855,
    "start_time": "2022-02-20T14:25:17.014Z"
   },
   {
    "duration": 510,
    "start_time": "2022-02-20T14:25:51.440Z"
   },
   {
    "duration": 938,
    "start_time": "2022-02-20T14:25:59.524Z"
   },
   {
    "duration": 4,
    "start_time": "2022-02-20T14:26:00.465Z"
   },
   {
    "duration": 588,
    "start_time": "2022-02-20T14:26:00.472Z"
   },
   {
    "duration": 66,
    "start_time": "2022-02-20T14:26:01.062Z"
   },
   {
    "duration": 51,
    "start_time": "2022-02-20T14:26:01.130Z"
   },
   {
    "duration": 71,
    "start_time": "2022-02-20T14:26:01.183Z"
   },
   {
    "duration": 56,
    "start_time": "2022-02-20T14:26:01.256Z"
   },
   {
    "duration": 24,
    "start_time": "2022-02-20T14:26:01.316Z"
   },
   {
    "duration": 5,
    "start_time": "2022-02-20T14:26:01.343Z"
   },
   {
    "duration": 137,
    "start_time": "2022-02-20T14:26:01.350Z"
   },
   {
    "duration": 27,
    "start_time": "2022-02-20T14:26:01.490Z"
   },
   {
    "duration": 145,
    "start_time": "2022-02-20T14:26:01.520Z"
   },
   {
    "duration": 76,
    "start_time": "2022-02-20T14:26:01.668Z"
   },
   {
    "duration": 68,
    "start_time": "2022-02-20T14:26:01.747Z"
   },
   {
    "duration": 24,
    "start_time": "2022-02-20T14:26:01.817Z"
   },
   {
    "duration": 3,
    "start_time": "2022-02-20T14:26:01.843Z"
   },
   {
    "duration": 64,
    "start_time": "2022-02-20T14:26:01.849Z"
   },
   {
    "duration": 23,
    "start_time": "2022-02-20T14:26:01.915Z"
   },
   {
    "duration": 21,
    "start_time": "2022-02-20T14:26:01.940Z"
   },
   {
    "duration": 5,
    "start_time": "2022-02-20T14:26:01.963Z"
   },
   {
    "duration": 11,
    "start_time": "2022-02-20T14:26:01.970Z"
   },
   {
    "duration": 36,
    "start_time": "2022-02-20T14:26:02.010Z"
   },
   {
    "duration": 30,
    "start_time": "2022-02-20T14:26:02.052Z"
   },
   {
    "duration": 46,
    "start_time": "2022-02-20T14:26:02.086Z"
   },
   {
    "duration": 4,
    "start_time": "2022-02-20T14:26:02.135Z"
   },
   {
    "duration": 7,
    "start_time": "2022-02-20T14:26:02.141Z"
   },
   {
    "duration": 9,
    "start_time": "2022-02-20T14:26:02.151Z"
   },
   {
    "duration": 69,
    "start_time": "2022-02-20T14:26:02.163Z"
   },
   {
    "duration": 10,
    "start_time": "2022-02-20T15:25:38.435Z"
   },
   {
    "duration": 498,
    "start_time": "2022-02-20T16:07:49.493Z"
   },
   {
    "duration": 6,
    "start_time": "2022-02-20T16:07:59.728Z"
   },
   {
    "duration": 29,
    "start_time": "2022-02-20T16:08:28.267Z"
   },
   {
    "duration": 3,
    "start_time": "2022-02-20T16:08:34.764Z"
   },
   {
    "duration": 5,
    "start_time": "2022-02-20T16:08:44.809Z"
   },
   {
    "duration": 22,
    "start_time": "2022-02-20T16:09:12.794Z"
   },
   {
    "duration": 6,
    "start_time": "2022-02-20T16:09:40.857Z"
   },
   {
    "duration": 20,
    "start_time": "2022-02-20T16:09:53.042Z"
   },
   {
    "duration": 4,
    "start_time": "2022-02-20T16:10:13.384Z"
   },
   {
    "duration": 27,
    "start_time": "2022-02-20T16:11:12.211Z"
   },
   {
    "duration": 27,
    "start_time": "2022-02-20T16:11:13.801Z"
   },
   {
    "duration": 365,
    "start_time": "2022-02-20T19:06:20.155Z"
   },
   {
    "duration": 756,
    "start_time": "2022-02-20T19:06:27.693Z"
   },
   {
    "duration": 3,
    "start_time": "2022-02-20T19:06:28.452Z"
   },
   {
    "duration": 432,
    "start_time": "2022-02-20T19:06:28.457Z"
   },
   {
    "duration": 52,
    "start_time": "2022-02-20T19:06:28.891Z"
   },
   {
    "duration": 40,
    "start_time": "2022-02-20T19:06:28.945Z"
   },
   {
    "duration": 36,
    "start_time": "2022-02-20T19:06:29.006Z"
   },
   {
    "duration": 15,
    "start_time": "2022-02-20T19:06:29.044Z"
   },
   {
    "duration": 50,
    "start_time": "2022-02-20T19:06:29.062Z"
   },
   {
    "duration": 4,
    "start_time": "2022-02-20T19:06:29.114Z"
   },
   {
    "duration": 94,
    "start_time": "2022-02-20T19:06:29.120Z"
   },
   {
    "duration": 12,
    "start_time": "2022-02-20T19:06:29.216Z"
   },
   {
    "duration": 119,
    "start_time": "2022-02-20T19:06:29.230Z"
   },
   {
    "duration": 57,
    "start_time": "2022-02-20T19:06:29.351Z"
   },
   {
    "duration": 49,
    "start_time": "2022-02-20T19:06:29.410Z"
   },
   {
    "duration": 9,
    "start_time": "2022-02-20T19:06:29.461Z"
   },
   {
    "duration": 6,
    "start_time": "2022-02-20T19:06:29.472Z"
   },
   {
    "duration": 26,
    "start_time": "2022-02-20T19:06:29.507Z"
   },
   {
    "duration": 18,
    "start_time": "2022-02-20T19:06:29.535Z"
   },
   {
    "duration": 27,
    "start_time": "2022-02-20T19:06:29.556Z"
   },
   {
    "duration": 43,
    "start_time": "2022-02-20T19:06:29.585Z"
   },
   {
    "duration": 18,
    "start_time": "2022-02-20T19:06:29.630Z"
   },
   {
    "duration": 26,
    "start_time": "2022-02-20T19:06:29.650Z"
   },
   {
    "duration": 4,
    "start_time": "2022-02-20T19:06:29.679Z"
   },
   {
    "duration": 22,
    "start_time": "2022-02-20T19:06:29.685Z"
   },
   {
    "duration": 40,
    "start_time": "2022-02-20T19:06:29.710Z"
   },
   {
    "duration": 12,
    "start_time": "2022-02-20T19:06:38.727Z"
   },
   {
    "duration": 25,
    "start_time": "2022-02-20T19:08:33.233Z"
   },
   {
    "duration": 19,
    "start_time": "2022-02-20T19:08:47.806Z"
   },
   {
    "duration": 17,
    "start_time": "2022-02-20T19:09:01.472Z"
   },
   {
    "duration": 23,
    "start_time": "2022-02-20T19:09:15.057Z"
   },
   {
    "duration": 17,
    "start_time": "2022-02-20T19:09:29.316Z"
   },
   {
    "duration": 20,
    "start_time": "2022-02-20T19:17:44.588Z"
   },
   {
    "duration": 16,
    "start_time": "2022-02-20T19:17:45.895Z"
   },
   {
    "duration": 17,
    "start_time": "2022-02-20T19:17:46.590Z"
   },
   {
    "duration": 4,
    "start_time": "2022-02-20T19:21:13.012Z"
   },
   {
    "duration": 4,
    "start_time": "2022-02-20T19:21:32.908Z"
   },
   {
    "duration": 28,
    "start_time": "2022-02-20T19:28:36.452Z"
   },
   {
    "duration": 9,
    "start_time": "2022-02-20T19:29:05.756Z"
   },
   {
    "duration": 16,
    "start_time": "2022-02-20T19:29:15.266Z"
   },
   {
    "duration": 60,
    "start_time": "2022-02-20T19:29:43.263Z"
   },
   {
    "duration": 487,
    "start_time": "2022-02-20T19:30:41.123Z"
   },
   {
    "duration": 1289,
    "start_time": "2022-02-20T19:30:59.247Z"
   },
   {
    "duration": 767,
    "start_time": "2022-02-20T19:34:01.167Z"
   },
   {
    "duration": 4,
    "start_time": "2022-02-20T19:34:01.936Z"
   },
   {
    "duration": 453,
    "start_time": "2022-02-20T19:34:01.943Z"
   },
   {
    "duration": 58,
    "start_time": "2022-02-20T19:34:02.398Z"
   },
   {
    "duration": 66,
    "start_time": "2022-02-20T19:34:02.458Z"
   },
   {
    "duration": 37,
    "start_time": "2022-02-20T19:34:02.527Z"
   },
   {
    "duration": 43,
    "start_time": "2022-02-20T19:34:02.566Z"
   },
   {
    "duration": 23,
    "start_time": "2022-02-20T19:34:02.612Z"
   },
   {
    "duration": 5,
    "start_time": "2022-02-20T19:34:02.639Z"
   },
   {
    "duration": 119,
    "start_time": "2022-02-20T19:34:02.647Z"
   },
   {
    "duration": 14,
    "start_time": "2022-02-20T19:34:02.768Z"
   },
   {
    "duration": 124,
    "start_time": "2022-02-20T19:34:02.784Z"
   },
   {
    "duration": 52,
    "start_time": "2022-02-20T19:34:02.910Z"
   },
   {
    "duration": 65,
    "start_time": "2022-02-20T19:34:02.964Z"
   },
   {
    "duration": 8,
    "start_time": "2022-02-20T19:34:03.031Z"
   },
   {
    "duration": 10,
    "start_time": "2022-02-20T19:34:03.041Z"
   },
   {
    "duration": 35,
    "start_time": "2022-02-20T19:34:03.053Z"
   },
   {
    "duration": 31,
    "start_time": "2022-02-20T19:34:03.091Z"
   },
   {
    "duration": 17,
    "start_time": "2022-02-20T19:34:03.124Z"
   },
   {
    "duration": 20,
    "start_time": "2022-02-20T19:34:03.143Z"
   },
   {
    "duration": 15,
    "start_time": "2022-02-20T19:34:03.165Z"
   },
   {
    "duration": 18,
    "start_time": "2022-02-20T19:34:03.207Z"
   },
   {
    "duration": 371,
    "start_time": "2022-02-20T19:35:21.525Z"
   },
   {
    "duration": 9,
    "start_time": "2022-02-20T19:35:50.601Z"
   },
   {
    "duration": 29,
    "start_time": "2022-02-20T19:35:55.017Z"
   },
   {
    "duration": 12,
    "start_time": "2022-02-20T19:36:01.358Z"
   },
   {
    "duration": 5,
    "start_time": "2022-02-20T19:36:48.898Z"
   },
   {
    "duration": 15,
    "start_time": "2022-02-20T19:37:16.474Z"
   },
   {
    "duration": 4,
    "start_time": "2022-02-20T19:37:56.975Z"
   },
   {
    "duration": 44,
    "start_time": "2022-02-20T19:38:08.822Z"
   },
   {
    "duration": 15,
    "start_time": "2022-02-20T19:38:26.359Z"
   },
   {
    "duration": 54,
    "start_time": "2022-02-20T19:38:55.343Z"
   },
   {
    "duration": 10,
    "start_time": "2022-02-20T19:39:17.169Z"
   },
   {
    "duration": 20,
    "start_time": "2022-02-20T19:39:46.486Z"
   },
   {
    "duration": 327,
    "start_time": "2022-02-21T03:55:53.551Z"
   },
   {
    "duration": 884,
    "start_time": "2022-02-21T03:56:00.586Z"
   },
   {
    "duration": 4,
    "start_time": "2022-02-21T03:56:01.473Z"
   },
   {
    "duration": 535,
    "start_time": "2022-02-21T03:56:01.479Z"
   },
   {
    "duration": 63,
    "start_time": "2022-02-21T03:56:02.017Z"
   },
   {
    "duration": 55,
    "start_time": "2022-02-21T03:56:02.082Z"
   },
   {
    "duration": 69,
    "start_time": "2022-02-21T03:56:02.139Z"
   },
   {
    "duration": 21,
    "start_time": "2022-02-21T03:56:02.210Z"
   },
   {
    "duration": 96,
    "start_time": "2022-02-21T03:56:02.233Z"
   },
   {
    "duration": 41,
    "start_time": "2022-02-21T03:56:02.335Z"
   },
   {
    "duration": 114,
    "start_time": "2022-02-21T03:56:02.380Z"
   },
   {
    "duration": 15,
    "start_time": "2022-02-21T03:56:02.497Z"
   },
   {
    "duration": 153,
    "start_time": "2022-02-21T03:56:02.514Z"
   },
   {
    "duration": 70,
    "start_time": "2022-02-21T03:56:02.669Z"
   },
   {
    "duration": 69,
    "start_time": "2022-02-21T03:56:02.742Z"
   },
   {
    "duration": 11,
    "start_time": "2022-02-21T03:56:02.813Z"
   },
   {
    "duration": 17,
    "start_time": "2022-02-21T03:56:02.826Z"
   },
   {
    "duration": 63,
    "start_time": "2022-02-21T03:56:02.845Z"
   },
   {
    "duration": 25,
    "start_time": "2022-02-21T03:56:02.911Z"
   },
   {
    "duration": 21,
    "start_time": "2022-02-21T03:56:02.938Z"
   },
   {
    "duration": 51,
    "start_time": "2022-02-21T03:56:02.961Z"
   },
   {
    "duration": 18,
    "start_time": "2022-02-21T03:56:03.014Z"
   },
   {
    "duration": 21,
    "start_time": "2022-02-21T03:56:03.034Z"
   },
   {
    "duration": 38,
    "start_time": "2022-02-21T03:56:03.057Z"
   },
   {
    "duration": 18,
    "start_time": "2022-02-21T03:56:03.097Z"
   },
   {
    "duration": 79,
    "start_time": "2022-02-21T03:56:03.118Z"
   },
   {
    "duration": 65,
    "start_time": "2022-02-21T03:56:03.199Z"
   },
   {
    "duration": 32,
    "start_time": "2022-02-21T03:56:03.268Z"
   },
   {
    "duration": 15,
    "start_time": "2022-02-21T03:56:03.302Z"
   },
   {
    "duration": 33,
    "start_time": "2022-02-21T03:56:03.319Z"
   },
   {
    "duration": 14,
    "start_time": "2022-02-21T05:05:30.205Z"
   },
   {
    "duration": 14,
    "start_time": "2022-02-21T05:05:55.226Z"
   },
   {
    "duration": 31,
    "start_time": "2022-02-21T05:06:19.901Z"
   },
   {
    "duration": 32,
    "start_time": "2022-02-21T05:06:21.283Z"
   },
   {
    "duration": 25,
    "start_time": "2022-02-21T05:06:21.846Z"
   },
   {
    "duration": 21,
    "start_time": "2022-02-21T05:06:22.383Z"
   },
   {
    "duration": 24,
    "start_time": "2022-02-21T05:06:30.269Z"
   },
   {
    "duration": 18,
    "start_time": "2022-02-21T05:06:39.067Z"
   },
   {
    "duration": 20,
    "start_time": "2022-02-21T05:08:32.989Z"
   },
   {
    "duration": 20,
    "start_time": "2022-02-21T05:08:33.726Z"
   },
   {
    "duration": 16,
    "start_time": "2022-02-21T05:08:35.295Z"
   },
   {
    "duration": 21,
    "start_time": "2022-02-21T05:08:40.425Z"
   },
   {
    "duration": 14,
    "start_time": "2022-02-21T05:08:45.299Z"
   },
   {
    "duration": 316,
    "start_time": "2022-02-21T05:09:11.330Z"
   },
   {
    "duration": 15,
    "start_time": "2022-02-21T05:09:18.554Z"
   },
   {
    "duration": 23,
    "start_time": "2022-02-21T05:13:12.021Z"
   },
   {
    "duration": 23,
    "start_time": "2022-02-21T05:14:01.350Z"
   },
   {
    "duration": 27,
    "start_time": "2022-02-21T05:14:53.402Z"
   },
   {
    "duration": 14,
    "start_time": "2022-02-21T05:15:48.237Z"
   },
   {
    "duration": 12,
    "start_time": "2022-02-21T05:16:24.768Z"
   },
   {
    "duration": 14,
    "start_time": "2022-02-21T05:16:28.802Z"
   },
   {
    "duration": 17,
    "start_time": "2022-02-21T05:16:37.922Z"
   },
   {
    "duration": 18,
    "start_time": "2022-02-21T05:16:45.524Z"
   },
   {
    "duration": 96,
    "start_time": "2022-02-21T05:20:50.975Z"
   },
   {
    "duration": 90,
    "start_time": "2022-02-21T05:21:19.532Z"
   },
   {
    "duration": 19,
    "start_time": "2022-02-21T05:21:25.859Z"
   },
   {
    "duration": 16,
    "start_time": "2022-02-21T05:21:28.650Z"
   },
   {
    "duration": 29,
    "start_time": "2022-02-21T05:21:32.050Z"
   },
   {
    "duration": 19,
    "start_time": "2022-02-21T05:21:44.734Z"
   },
   {
    "duration": 24,
    "start_time": "2022-02-21T05:21:47.602Z"
   },
   {
    "duration": 23,
    "start_time": "2022-02-21T05:21:57.723Z"
   },
   {
    "duration": 7,
    "start_time": "2022-02-21T05:23:14.479Z"
   },
   {
    "duration": 15,
    "start_time": "2022-02-21T05:25:17.287Z"
   },
   {
    "duration": 41,
    "start_time": "2022-02-21T05:25:20.901Z"
   },
   {
    "duration": 840,
    "start_time": "2022-02-21T05:25:37.574Z"
   },
   {
    "duration": 4,
    "start_time": "2022-02-21T05:25:38.417Z"
   },
   {
    "duration": 524,
    "start_time": "2022-02-21T05:25:38.424Z"
   },
   {
    "duration": 62,
    "start_time": "2022-02-21T05:25:38.951Z"
   },
   {
    "duration": 48,
    "start_time": "2022-02-21T05:25:39.015Z"
   },
   {
    "duration": 60,
    "start_time": "2022-02-21T05:25:39.065Z"
   },
   {
    "duration": 21,
    "start_time": "2022-02-21T05:25:39.128Z"
   },
   {
    "duration": 62,
    "start_time": "2022-02-21T05:25:39.152Z"
   },
   {
    "duration": 6,
    "start_time": "2022-02-21T05:25:39.218Z"
   },
   {
    "duration": 132,
    "start_time": "2022-02-21T05:25:39.227Z"
   },
   {
    "duration": 32,
    "start_time": "2022-02-21T05:25:39.361Z"
   },
   {
    "duration": 140,
    "start_time": "2022-02-21T05:25:39.396Z"
   },
   {
    "duration": 75,
    "start_time": "2022-02-21T05:25:39.539Z"
   },
   {
    "duration": 54,
    "start_time": "2022-02-21T05:25:39.616Z"
   },
   {
    "duration": 27,
    "start_time": "2022-02-21T05:25:39.672Z"
   },
   {
    "duration": 4,
    "start_time": "2022-02-21T05:25:39.702Z"
   },
   {
    "duration": 36,
    "start_time": "2022-02-21T05:25:39.708Z"
   },
   {
    "duration": 47,
    "start_time": "2022-02-21T05:25:39.746Z"
   },
   {
    "duration": 20,
    "start_time": "2022-02-21T05:25:39.796Z"
   },
   {
    "duration": 26,
    "start_time": "2022-02-21T05:25:39.818Z"
   },
   {
    "duration": 17,
    "start_time": "2022-02-21T05:25:39.847Z"
   },
   {
    "duration": 45,
    "start_time": "2022-02-21T05:25:39.866Z"
   },
   {
    "duration": 23,
    "start_time": "2022-02-21T05:25:39.913Z"
   },
   {
    "duration": 19,
    "start_time": "2022-02-21T05:25:39.939Z"
   },
   {
    "duration": 34,
    "start_time": "2022-02-21T05:25:39.961Z"
   },
   {
    "duration": 37,
    "start_time": "2022-02-21T05:25:39.997Z"
   },
   {
    "duration": 6,
    "start_time": "2022-02-21T05:45:44.771Z"
   },
   {
    "duration": 360,
    "start_time": "2022-02-21T05:46:09.990Z"
   },
   {
    "duration": 7,
    "start_time": "2022-02-21T05:51:15.039Z"
   },
   {
    "duration": 9,
    "start_time": "2022-02-21T05:52:40.043Z"
   },
   {
    "duration": 32,
    "start_time": "2022-02-21T05:52:43.867Z"
   },
   {
    "duration": 15,
    "start_time": "2022-02-21T05:52:49.939Z"
   },
   {
    "duration": 16,
    "start_time": "2022-02-21T05:54:36.778Z"
   },
   {
    "duration": 33,
    "start_time": "2022-02-21T05:54:48.896Z"
   },
   {
    "duration": 17,
    "start_time": "2022-02-21T05:54:53.420Z"
   },
   {
    "duration": 813,
    "start_time": "2022-02-21T05:55:04.550Z"
   },
   {
    "duration": 4,
    "start_time": "2022-02-21T05:55:05.366Z"
   },
   {
    "duration": 515,
    "start_time": "2022-02-21T05:55:05.373Z"
   },
   {
    "duration": 65,
    "start_time": "2022-02-21T05:55:05.892Z"
   },
   {
    "duration": 74,
    "start_time": "2022-02-21T05:55:05.960Z"
   },
   {
    "duration": 65,
    "start_time": "2022-02-21T05:55:06.036Z"
   },
   {
    "duration": 20,
    "start_time": "2022-02-21T05:55:06.103Z"
   },
   {
    "duration": 23,
    "start_time": "2022-02-21T05:55:06.129Z"
   },
   {
    "duration": 6,
    "start_time": "2022-02-21T05:55:06.195Z"
   },
   {
    "duration": 117,
    "start_time": "2022-02-21T05:55:06.203Z"
   },
   {
    "duration": 20,
    "start_time": "2022-02-21T05:55:06.322Z"
   },
   {
    "duration": 150,
    "start_time": "2022-02-21T05:55:06.345Z"
   },
   {
    "duration": 58,
    "start_time": "2022-02-21T05:55:06.497Z"
   },
   {
    "duration": 76,
    "start_time": "2022-02-21T05:55:06.558Z"
   },
   {
    "duration": 10,
    "start_time": "2022-02-21T05:55:06.636Z"
   },
   {
    "duration": 4,
    "start_time": "2022-02-21T05:55:06.648Z"
   },
   {
    "duration": 57,
    "start_time": "2022-02-21T05:55:06.654Z"
   },
   {
    "duration": 24,
    "start_time": "2022-02-21T05:55:06.714Z"
   },
   {
    "duration": 21,
    "start_time": "2022-02-21T05:55:06.740Z"
   },
   {
    "duration": 50,
    "start_time": "2022-02-21T05:55:06.763Z"
   },
   {
    "duration": 18,
    "start_time": "2022-02-21T05:55:06.815Z"
   },
   {
    "duration": 24,
    "start_time": "2022-02-21T05:55:06.836Z"
   },
   {
    "duration": 44,
    "start_time": "2022-02-21T05:55:06.864Z"
   },
   {
    "duration": 23,
    "start_time": "2022-02-21T05:55:06.911Z"
   },
   {
    "duration": 73,
    "start_time": "2022-02-21T05:55:06.936Z"
   },
   {
    "duration": 7,
    "start_time": "2022-02-21T05:55:07.011Z"
   },
   {
    "duration": 15,
    "start_time": "2022-02-21T05:55:07.020Z"
   },
   {
    "duration": 32,
    "start_time": "2022-02-21T05:55:31.056Z"
   },
   {
    "duration": 17,
    "start_time": "2022-02-21T05:55:55.567Z"
   },
   {
    "duration": 850,
    "start_time": "2022-02-21T05:56:35.887Z"
   },
   {
    "duration": 4,
    "start_time": "2022-02-21T05:56:36.740Z"
   },
   {
    "duration": 535,
    "start_time": "2022-02-21T05:56:36.746Z"
   },
   {
    "duration": 61,
    "start_time": "2022-02-21T05:56:37.284Z"
   },
   {
    "duration": 75,
    "start_time": "2022-02-21T05:56:37.347Z"
   },
   {
    "duration": 71,
    "start_time": "2022-02-21T05:56:37.425Z"
   },
   {
    "duration": 24,
    "start_time": "2022-02-21T05:56:37.499Z"
   },
   {
    "duration": 23,
    "start_time": "2022-02-21T05:56:37.527Z"
   },
   {
    "duration": 5,
    "start_time": "2022-02-21T05:56:37.594Z"
   },
   {
    "duration": 125,
    "start_time": "2022-02-21T05:56:37.602Z"
   },
   {
    "duration": 15,
    "start_time": "2022-02-21T05:56:37.730Z"
   },
   {
    "duration": 153,
    "start_time": "2022-02-21T05:56:37.747Z"
   },
   {
    "duration": 65,
    "start_time": "2022-02-21T05:56:37.903Z"
   },
   {
    "duration": 74,
    "start_time": "2022-02-21T05:56:37.971Z"
   },
   {
    "duration": 10,
    "start_time": "2022-02-21T05:56:38.047Z"
   },
   {
    "duration": 8,
    "start_time": "2022-02-21T05:56:38.059Z"
   },
   {
    "duration": 53,
    "start_time": "2022-02-21T05:56:38.069Z"
   },
   {
    "duration": 24,
    "start_time": "2022-02-21T05:56:38.125Z"
   },
   {
    "duration": 45,
    "start_time": "2022-02-21T05:56:38.151Z"
   },
   {
    "duration": 25,
    "start_time": "2022-02-21T05:56:38.198Z"
   },
   {
    "duration": 17,
    "start_time": "2022-02-21T05:56:38.225Z"
   },
   {
    "duration": 27,
    "start_time": "2022-02-21T05:56:38.244Z"
   },
   {
    "duration": 39,
    "start_time": "2022-02-21T05:56:38.275Z"
   },
   {
    "duration": 21,
    "start_time": "2022-02-21T05:56:38.316Z"
   },
   {
    "duration": 70,
    "start_time": "2022-02-21T05:56:38.339Z"
   },
   {
    "duration": 7,
    "start_time": "2022-02-21T05:56:38.412Z"
   },
   {
    "duration": 29,
    "start_time": "2022-02-21T05:56:38.422Z"
   },
   {
    "duration": 39,
    "start_time": "2022-02-21T06:03:05.622Z"
   },
   {
    "duration": 870,
    "start_time": "2022-02-21T06:03:12.777Z"
   },
   {
    "duration": 4,
    "start_time": "2022-02-21T06:03:13.650Z"
   },
   {
    "duration": 549,
    "start_time": "2022-02-21T06:03:13.656Z"
   },
   {
    "duration": 65,
    "start_time": "2022-02-21T06:03:14.208Z"
   },
   {
    "duration": 61,
    "start_time": "2022-02-21T06:03:14.276Z"
   },
   {
    "duration": 76,
    "start_time": "2022-02-21T06:03:14.339Z"
   },
   {
    "duration": 21,
    "start_time": "2022-02-21T06:03:14.418Z"
   },
   {
    "duration": 58,
    "start_time": "2022-02-21T06:03:14.443Z"
   },
   {
    "duration": 6,
    "start_time": "2022-02-21T06:03:14.504Z"
   },
   {
    "duration": 132,
    "start_time": "2022-02-21T06:03:14.512Z"
   },
   {
    "duration": 19,
    "start_time": "2022-02-21T06:03:14.646Z"
   },
   {
    "duration": 140,
    "start_time": "2022-02-21T06:03:14.668Z"
   },
   {
    "duration": 53,
    "start_time": "2022-02-21T06:03:14.810Z"
   },
   {
    "duration": 66,
    "start_time": "2022-02-21T06:03:14.865Z"
   },
   {
    "duration": 9,
    "start_time": "2022-02-21T06:03:14.933Z"
   },
   {
    "duration": 7,
    "start_time": "2022-02-21T06:03:14.943Z"
   },
   {
    "duration": 63,
    "start_time": "2022-02-21T06:03:14.952Z"
   },
   {
    "duration": 25,
    "start_time": "2022-02-21T06:03:15.018Z"
   },
   {
    "duration": 21,
    "start_time": "2022-02-21T06:03:15.045Z"
   },
   {
    "duration": 46,
    "start_time": "2022-02-21T06:03:15.069Z"
   },
   {
    "duration": 17,
    "start_time": "2022-02-21T06:03:15.117Z"
   },
   {
    "duration": 20,
    "start_time": "2022-02-21T06:03:15.136Z"
   },
   {
    "duration": 52,
    "start_time": "2022-02-21T06:03:15.160Z"
   },
   {
    "duration": 19,
    "start_time": "2022-02-21T06:03:15.215Z"
   },
   {
    "duration": 23,
    "start_time": "2022-02-21T06:03:15.237Z"
   },
   {
    "duration": 36,
    "start_time": "2022-02-21T06:03:15.263Z"
   },
   {
    "duration": 12,
    "start_time": "2022-02-21T06:03:15.301Z"
   },
   {
    "duration": 5,
    "start_time": "2022-02-21T06:06:31.006Z"
   },
   {
    "duration": 3,
    "start_time": "2022-02-21T06:06:46.858Z"
   },
   {
    "duration": 29,
    "start_time": "2022-02-21T08:06:37.429Z"
   },
   {
    "duration": 40,
    "start_time": "2022-02-21T08:06:41.898Z"
   },
   {
    "duration": 8,
    "start_time": "2022-02-21T08:06:42.621Z"
   },
   {
    "duration": 8,
    "start_time": "2022-02-21T08:06:45.971Z"
   },
   {
    "duration": 33,
    "start_time": "2022-02-21T08:06:53.371Z"
   },
   {
    "duration": 907,
    "start_time": "2022-02-21T08:07:01.175Z"
   },
   {
    "duration": 4,
    "start_time": "2022-02-21T08:07:02.085Z"
   },
   {
    "duration": 512,
    "start_time": "2022-02-21T08:07:02.094Z"
   },
   {
    "duration": 63,
    "start_time": "2022-02-21T08:07:02.609Z"
   },
   {
    "duration": 59,
    "start_time": "2022-02-21T08:07:02.674Z"
   },
   {
    "duration": 76,
    "start_time": "2022-02-21T08:07:02.736Z"
   },
   {
    "duration": 26,
    "start_time": "2022-02-21T08:07:02.814Z"
   },
   {
    "duration": 63,
    "start_time": "2022-02-21T08:07:02.845Z"
   },
   {
    "duration": 6,
    "start_time": "2022-02-21T08:07:02.911Z"
   },
   {
    "duration": 137,
    "start_time": "2022-02-21T08:07:02.920Z"
   },
   {
    "duration": 14,
    "start_time": "2022-02-21T08:07:03.060Z"
   },
   {
    "duration": 147,
    "start_time": "2022-02-21T08:07:03.077Z"
   },
   {
    "duration": 74,
    "start_time": "2022-02-21T08:07:03.227Z"
   },
   {
    "duration": 60,
    "start_time": "2022-02-21T08:07:03.304Z"
   },
   {
    "duration": 28,
    "start_time": "2022-02-21T08:07:03.367Z"
   },
   {
    "duration": 4,
    "start_time": "2022-02-21T08:07:03.398Z"
   },
   {
    "duration": 35,
    "start_time": "2022-02-21T08:07:03.404Z"
   },
   {
    "duration": 57,
    "start_time": "2022-02-21T08:07:03.441Z"
   },
   {
    "duration": 20,
    "start_time": "2022-02-21T08:07:03.500Z"
   },
   {
    "duration": 24,
    "start_time": "2022-02-21T08:07:03.523Z"
   },
   {
    "duration": 43,
    "start_time": "2022-02-21T08:07:03.550Z"
   },
   {
    "duration": 21,
    "start_time": "2022-02-21T08:07:03.595Z"
   },
   {
    "duration": 23,
    "start_time": "2022-02-21T08:07:03.620Z"
   },
   {
    "duration": 48,
    "start_time": "2022-02-21T08:07:03.645Z"
   },
   {
    "duration": 25,
    "start_time": "2022-02-21T08:07:03.696Z"
   },
   {
    "duration": 7,
    "start_time": "2022-02-21T08:07:03.723Z"
   },
   {
    "duration": 6,
    "start_time": "2022-02-21T08:07:03.732Z"
   },
   {
    "duration": 31,
    "start_time": "2022-02-21T08:09:02.892Z"
   },
   {
    "duration": 19,
    "start_time": "2022-02-21T08:09:08.427Z"
   },
   {
    "duration": 23,
    "start_time": "2022-02-21T08:10:13.487Z"
   },
   {
    "duration": 8,
    "start_time": "2022-02-21T08:10:40.338Z"
   },
   {
    "duration": 13,
    "start_time": "2022-02-21T08:10:44.812Z"
   },
   {
    "duration": 13,
    "start_time": "2022-02-21T08:10:53.446Z"
   },
   {
    "duration": 15,
    "start_time": "2022-02-21T08:10:55.752Z"
   },
   {
    "duration": 14,
    "start_time": "2022-02-21T08:11:03.760Z"
   },
   {
    "duration": 817,
    "start_time": "2022-02-21T08:11:11.039Z"
   },
   {
    "duration": 4,
    "start_time": "2022-02-21T08:11:11.859Z"
   },
   {
    "duration": 540,
    "start_time": "2022-02-21T08:11:11.867Z"
   },
   {
    "duration": 67,
    "start_time": "2022-02-21T08:11:12.410Z"
   },
   {
    "duration": 55,
    "start_time": "2022-02-21T08:11:12.493Z"
   },
   {
    "duration": 66,
    "start_time": "2022-02-21T08:11:12.551Z"
   },
   {
    "duration": 22,
    "start_time": "2022-02-21T08:11:12.619Z"
   },
   {
    "duration": 57,
    "start_time": "2022-02-21T08:11:12.645Z"
   },
   {
    "duration": 5,
    "start_time": "2022-02-21T08:11:12.705Z"
   },
   {
    "duration": 127,
    "start_time": "2022-02-21T08:11:12.712Z"
   },
   {
    "duration": 17,
    "start_time": "2022-02-21T08:11:12.841Z"
   },
   {
    "duration": 146,
    "start_time": "2022-02-21T08:11:12.861Z"
   },
   {
    "duration": 59,
    "start_time": "2022-02-21T08:11:13.010Z"
   },
   {
    "duration": 71,
    "start_time": "2022-02-21T08:11:13.072Z"
   },
   {
    "duration": 12,
    "start_time": "2022-02-21T08:11:13.146Z"
   },
   {
    "duration": 4,
    "start_time": "2022-02-21T08:11:13.161Z"
   },
   {
    "duration": 33,
    "start_time": "2022-02-21T08:11:13.194Z"
   },
   {
    "duration": 25,
    "start_time": "2022-02-21T08:11:13.230Z"
   },
   {
    "duration": 54,
    "start_time": "2022-02-21T08:11:13.257Z"
   },
   {
    "duration": 26,
    "start_time": "2022-02-21T08:11:13.314Z"
   },
   {
    "duration": 19,
    "start_time": "2022-02-21T08:11:13.342Z"
   },
   {
    "duration": 43,
    "start_time": "2022-02-21T08:11:13.363Z"
   },
   {
    "duration": 24,
    "start_time": "2022-02-21T08:11:13.411Z"
   },
   {
    "duration": 55,
    "start_time": "2022-02-21T08:11:13.438Z"
   },
   {
    "duration": 25,
    "start_time": "2022-02-21T08:11:13.496Z"
   },
   {
    "duration": 6,
    "start_time": "2022-02-21T08:11:13.523Z"
   },
   {
    "duration": 15,
    "start_time": "2022-02-21T08:11:13.531Z"
   },
   {
    "duration": 26,
    "start_time": "2022-02-21T08:13:36.030Z"
   },
   {
    "duration": 839,
    "start_time": "2022-02-21T08:14:06.884Z"
   },
   {
    "duration": 3,
    "start_time": "2022-02-21T08:14:07.726Z"
   },
   {
    "duration": 503,
    "start_time": "2022-02-21T08:14:07.732Z"
   },
   {
    "duration": 66,
    "start_time": "2022-02-21T08:14:08.238Z"
   },
   {
    "duration": 53,
    "start_time": "2022-02-21T08:14:08.307Z"
   },
   {
    "duration": 65,
    "start_time": "2022-02-21T08:14:08.362Z"
   },
   {
    "duration": 19,
    "start_time": "2022-02-21T08:14:08.430Z"
   },
   {
    "duration": 57,
    "start_time": "2022-02-21T08:14:08.453Z"
   },
   {
    "duration": 6,
    "start_time": "2022-02-21T08:14:08.513Z"
   },
   {
    "duration": 133,
    "start_time": "2022-02-21T08:14:08.521Z"
   },
   {
    "duration": 17,
    "start_time": "2022-02-21T08:14:08.656Z"
   },
   {
    "duration": 133,
    "start_time": "2022-02-21T08:14:08.695Z"
   },
   {
    "duration": 75,
    "start_time": "2022-02-21T08:14:08.831Z"
   },
   {
    "duration": 56,
    "start_time": "2022-02-21T08:14:08.909Z"
   },
   {
    "duration": 33,
    "start_time": "2022-02-21T08:14:08.968Z"
   },
   {
    "duration": 3,
    "start_time": "2022-02-21T08:14:09.003Z"
   },
   {
    "duration": 38,
    "start_time": "2022-02-21T08:14:09.009Z"
   },
   {
    "duration": 52,
    "start_time": "2022-02-21T08:14:09.050Z"
   },
   {
    "duration": 23,
    "start_time": "2022-02-21T08:14:09.105Z"
   },
   {
    "duration": 25,
    "start_time": "2022-02-21T08:14:09.130Z"
   },
   {
    "duration": 41,
    "start_time": "2022-02-21T08:14:09.158Z"
   },
   {
    "duration": 25,
    "start_time": "2022-02-21T08:14:09.202Z"
   },
   {
    "duration": 23,
    "start_time": "2022-02-21T08:14:09.232Z"
   },
   {
    "duration": 50,
    "start_time": "2022-02-21T08:14:09.258Z"
   },
   {
    "duration": 29,
    "start_time": "2022-02-21T08:14:09.311Z"
   },
   {
    "duration": 9,
    "start_time": "2022-02-21T08:14:09.343Z"
   },
   {
    "duration": 44,
    "start_time": "2022-02-21T08:14:09.354Z"
   },
   {
    "duration": 17,
    "start_time": "2022-02-21T08:14:09.400Z"
   },
   {
    "duration": 6,
    "start_time": "2022-02-21T08:15:01.710Z"
   },
   {
    "duration": 188,
    "start_time": "2022-02-21T08:19:49.421Z"
   },
   {
    "duration": 8,
    "start_time": "2022-02-21T08:20:10.876Z"
   },
   {
    "duration": 35,
    "start_time": "2022-02-21T08:24:50.232Z"
   },
   {
    "duration": 887,
    "start_time": "2022-02-21T08:25:10.350Z"
   },
   {
    "duration": 4,
    "start_time": "2022-02-21T08:25:11.243Z"
   },
   {
    "duration": 546,
    "start_time": "2022-02-21T08:25:11.249Z"
   },
   {
    "duration": 64,
    "start_time": "2022-02-21T08:25:11.797Z"
   },
   {
    "duration": 69,
    "start_time": "2022-02-21T08:25:11.864Z"
   },
   {
    "duration": 69,
    "start_time": "2022-02-21T08:25:11.935Z"
   },
   {
    "duration": 20,
    "start_time": "2022-02-21T08:25:12.006Z"
   },
   {
    "duration": 63,
    "start_time": "2022-02-21T08:25:12.030Z"
   },
   {
    "duration": 5,
    "start_time": "2022-02-21T08:25:12.097Z"
   },
   {
    "duration": 119,
    "start_time": "2022-02-21T08:25:12.105Z"
   },
   {
    "duration": 16,
    "start_time": "2022-02-21T08:25:12.226Z"
   },
   {
    "duration": 153,
    "start_time": "2022-02-21T08:25:12.245Z"
   },
   {
    "duration": 56,
    "start_time": "2022-02-21T08:25:12.400Z"
   },
   {
    "duration": 79,
    "start_time": "2022-02-21T08:25:12.458Z"
   },
   {
    "duration": 10,
    "start_time": "2022-02-21T08:25:12.539Z"
   },
   {
    "duration": 5,
    "start_time": "2022-02-21T08:25:12.552Z"
   },
   {
    "duration": 8306,
    "start_time": "2022-02-21T08:25:12.560Z"
   },
   {
    "duration": 1186,
    "start_time": "2022-02-21T08:25:19.683Z"
   },
   {
    "duration": 1185,
    "start_time": "2022-02-21T08:25:19.685Z"
   },
   {
    "duration": 1186,
    "start_time": "2022-02-21T08:25:19.686Z"
   },
   {
    "duration": 1186,
    "start_time": "2022-02-21T08:25:19.687Z"
   },
   {
    "duration": 1185,
    "start_time": "2022-02-21T08:25:19.689Z"
   },
   {
    "duration": 1185,
    "start_time": "2022-02-21T08:25:19.690Z"
   },
   {
    "duration": 1185,
    "start_time": "2022-02-21T08:25:19.691Z"
   },
   {
    "duration": 1185,
    "start_time": "2022-02-21T08:25:19.692Z"
   },
   {
    "duration": 1180,
    "start_time": "2022-02-21T08:25:19.698Z"
   },
   {
    "duration": 1180,
    "start_time": "2022-02-21T08:25:19.699Z"
   },
   {
    "duration": 1179,
    "start_time": "2022-02-21T08:25:19.701Z"
   },
   {
    "duration": 1178,
    "start_time": "2022-02-21T08:25:19.703Z"
   },
   {
    "duration": 5,
    "start_time": "2022-02-21T08:25:54.535Z"
   },
   {
    "duration": 34,
    "start_time": "2022-02-21T08:26:32.279Z"
   },
   {
    "duration": 35,
    "start_time": "2022-02-21T08:26:36.619Z"
   },
   {
    "duration": 24,
    "start_time": "2022-02-21T08:26:36.657Z"
   },
   {
    "duration": 26,
    "start_time": "2022-02-21T08:26:36.685Z"
   },
   {
    "duration": 26,
    "start_time": "2022-02-21T08:26:36.714Z"
   },
   {
    "duration": 17,
    "start_time": "2022-02-21T08:26:36.743Z"
   },
   {
    "duration": 45,
    "start_time": "2022-02-21T08:26:36.762Z"
   },
   {
    "duration": 25,
    "start_time": "2022-02-21T08:26:36.809Z"
   },
   {
    "duration": 26,
    "start_time": "2022-02-21T08:26:36.837Z"
   },
   {
    "duration": 27,
    "start_time": "2022-02-21T08:26:36.894Z"
   },
   {
    "duration": 7,
    "start_time": "2022-02-21T08:26:36.924Z"
   },
   {
    "duration": 13,
    "start_time": "2022-02-21T08:26:36.934Z"
   },
   {
    "duration": 50,
    "start_time": "2022-02-21T08:26:36.949Z"
   },
   {
    "duration": 5,
    "start_time": "2022-02-21T08:26:37.001Z"
   },
   {
    "duration": 7,
    "start_time": "2022-02-21T08:33:17.838Z"
   },
   {
    "duration": 7,
    "start_time": "2022-02-21T08:33:29.051Z"
   },
   {
    "duration": 7,
    "start_time": "2022-02-21T08:33:37.475Z"
   },
   {
    "duration": 277,
    "start_time": "2022-02-21T08:42:20.279Z"
   },
   {
    "duration": 5,
    "start_time": "2022-02-21T08:44:48.694Z"
   },
   {
    "duration": 8,
    "start_time": "2022-02-21T08:45:19.074Z"
   },
   {
    "duration": 8,
    "start_time": "2022-02-21T08:45:31.848Z"
   },
   {
    "duration": 6,
    "start_time": "2022-02-21T08:45:34.493Z"
   },
   {
    "duration": 16,
    "start_time": "2022-02-21T08:45:38.163Z"
   },
   {
    "duration": 17,
    "start_time": "2022-02-21T08:46:26.897Z"
   },
   {
    "duration": 6,
    "start_time": "2022-02-21T08:46:35.760Z"
   },
   {
    "duration": 6,
    "start_time": "2022-02-21T08:54:17.329Z"
   },
   {
    "duration": 9,
    "start_time": "2022-02-21T09:20:18.092Z"
   },
   {
    "duration": 9,
    "start_time": "2022-02-21T09:20:31.267Z"
   },
   {
    "duration": 9,
    "start_time": "2022-02-21T09:20:36.516Z"
   },
   {
    "duration": 825,
    "start_time": "2022-02-21T09:20:57.550Z"
   },
   {
    "duration": 4,
    "start_time": "2022-02-21T09:20:58.378Z"
   },
   {
    "duration": 511,
    "start_time": "2022-02-21T09:20:58.393Z"
   },
   {
    "duration": 63,
    "start_time": "2022-02-21T09:20:58.906Z"
   },
   {
    "duration": 77,
    "start_time": "2022-02-21T09:20:58.971Z"
   },
   {
    "duration": 76,
    "start_time": "2022-02-21T09:20:59.051Z"
   },
   {
    "duration": 23,
    "start_time": "2022-02-21T09:20:59.130Z"
   },
   {
    "duration": 61,
    "start_time": "2022-02-21T09:20:59.157Z"
   },
   {
    "duration": 6,
    "start_time": "2022-02-21T09:20:59.222Z"
   },
   {
    "duration": 169,
    "start_time": "2022-02-21T09:20:59.231Z"
   },
   {
    "duration": 16,
    "start_time": "2022-02-21T09:20:59.403Z"
   },
   {
    "duration": 153,
    "start_time": "2022-02-21T09:20:59.422Z"
   },
   {
    "duration": 61,
    "start_time": "2022-02-21T09:20:59.577Z"
   },
   {
    "duration": 65,
    "start_time": "2022-02-21T09:20:59.641Z"
   },
   {
    "duration": 11,
    "start_time": "2022-02-21T09:20:59.709Z"
   },
   {
    "duration": 3,
    "start_time": "2022-02-21T09:20:59.723Z"
   },
   {
    "duration": 64,
    "start_time": "2022-02-21T09:20:59.730Z"
   },
   {
    "duration": 26,
    "start_time": "2022-02-21T09:20:59.796Z"
   },
   {
    "duration": 21,
    "start_time": "2022-02-21T09:20:59.824Z"
   },
   {
    "duration": 52,
    "start_time": "2022-02-21T09:20:59.847Z"
   },
   {
    "duration": 16,
    "start_time": "2022-02-21T09:20:59.901Z"
   },
   {
    "duration": 19,
    "start_time": "2022-02-21T09:20:59.919Z"
   },
   {
    "duration": 23,
    "start_time": "2022-02-21T09:20:59.943Z"
   },
   {
    "duration": 22,
    "start_time": "2022-02-21T09:20:59.993Z"
   },
   {
    "duration": 25,
    "start_time": "2022-02-21T09:21:00.017Z"
   },
   {
    "duration": 7,
    "start_time": "2022-02-21T09:21:00.044Z"
   },
   {
    "duration": 48,
    "start_time": "2022-02-21T09:21:00.053Z"
   },
   {
    "duration": 16,
    "start_time": "2022-02-21T09:21:00.103Z"
   },
   {
    "duration": 6,
    "start_time": "2022-02-21T09:21:00.122Z"
   },
   {
    "duration": 19,
    "start_time": "2022-02-21T09:21:00.130Z"
   },
   {
    "duration": 6,
    "start_time": "2022-02-21T09:21:00.151Z"
   },
   {
    "duration": 11,
    "start_time": "2022-02-21T09:21:00.195Z"
   },
   {
    "duration": 95,
    "start_time": "2022-02-21T09:21:00.209Z"
   },
   {
    "duration": 5,
    "start_time": "2022-02-21T09:29:12.018Z"
   },
   {
    "duration": 1074,
    "start_time": "2022-02-21T11:09:08.986Z"
   },
   {
    "duration": 5,
    "start_time": "2022-02-21T11:09:10.063Z"
   },
   {
    "duration": 617,
    "start_time": "2022-02-21T11:09:10.072Z"
   },
   {
    "duration": 71,
    "start_time": "2022-02-21T11:09:10.693Z"
   },
   {
    "duration": 72,
    "start_time": "2022-02-21T11:09:10.766Z"
   },
   {
    "duration": 71,
    "start_time": "2022-02-21T11:09:10.841Z"
   },
   {
    "duration": 22,
    "start_time": "2022-02-21T11:09:10.915Z"
   },
   {
    "duration": 26,
    "start_time": "2022-02-21T11:09:10.941Z"
   },
   {
    "duration": 6,
    "start_time": "2022-02-21T11:09:11.012Z"
   },
   {
    "duration": 127,
    "start_time": "2022-02-21T11:09:11.020Z"
   },
   {
    "duration": 17,
    "start_time": "2022-02-21T11:09:11.149Z"
   },
   {
    "duration": 149,
    "start_time": "2022-02-21T11:09:11.169Z"
   },
   {
    "duration": 60,
    "start_time": "2022-02-21T11:09:11.321Z"
   },
   {
    "duration": 69,
    "start_time": "2022-02-21T11:09:11.383Z"
   },
   {
    "duration": 9,
    "start_time": "2022-02-21T11:09:11.455Z"
   },
   {
    "duration": 5,
    "start_time": "2022-02-21T11:09:11.467Z"
   },
   {
    "duration": 61,
    "start_time": "2022-02-21T11:09:11.475Z"
   },
   {
    "duration": 24,
    "start_time": "2022-02-21T11:09:11.539Z"
   },
   {
    "duration": 20,
    "start_time": "2022-02-21T11:09:11.565Z"
   },
   {
    "duration": 45,
    "start_time": "2022-02-21T11:09:11.588Z"
   },
   {
    "duration": 25,
    "start_time": "2022-02-21T11:09:11.637Z"
   },
   {
    "duration": 57,
    "start_time": "2022-02-21T11:09:11.665Z"
   },
   {
    "duration": 35,
    "start_time": "2022-02-21T11:09:11.729Z"
   },
   {
    "duration": 54,
    "start_time": "2022-02-21T11:09:11.767Z"
   },
   {
    "duration": 37,
    "start_time": "2022-02-21T11:09:11.824Z"
   },
   {
    "duration": 9,
    "start_time": "2022-02-21T11:09:11.864Z"
   },
   {
    "duration": 41,
    "start_time": "2022-02-21T11:09:11.875Z"
   },
   {
    "duration": 21,
    "start_time": "2022-02-21T11:09:11.919Z"
   },
   {
    "duration": 6,
    "start_time": "2022-02-21T11:09:11.943Z"
   },
   {
    "duration": 20,
    "start_time": "2022-02-21T11:09:11.951Z"
   },
   {
    "duration": 5,
    "start_time": "2022-02-21T11:09:11.974Z"
   },
   {
    "duration": 34,
    "start_time": "2022-02-21T11:09:11.981Z"
   },
   {
    "duration": 6,
    "start_time": "2022-02-21T11:09:12.018Z"
   },
   {
    "duration": 16,
    "start_time": "2022-02-21T11:10:54.811Z"
   },
   {
    "duration": 931,
    "start_time": "2022-02-22T18:09:08.674Z"
   },
   {
    "duration": 4,
    "start_time": "2022-02-22T18:09:09.608Z"
   },
   {
    "duration": 561,
    "start_time": "2022-02-22T18:09:09.615Z"
   },
   {
    "duration": 65,
    "start_time": "2022-02-22T18:09:10.179Z"
   },
   {
    "duration": 67,
    "start_time": "2022-02-22T18:09:10.246Z"
   },
   {
    "duration": 40,
    "start_time": "2022-02-22T18:09:10.315Z"
   },
   {
    "duration": 54,
    "start_time": "2022-02-22T18:09:10.358Z"
   },
   {
    "duration": 25,
    "start_time": "2022-02-22T18:09:10.415Z"
   },
   {
    "duration": 5,
    "start_time": "2022-02-22T18:09:10.443Z"
   },
   {
    "duration": 134,
    "start_time": "2022-02-22T18:09:10.450Z"
   },
   {
    "duration": 28,
    "start_time": "2022-02-22T18:09:10.587Z"
   },
   {
    "duration": 129,
    "start_time": "2022-02-22T18:09:10.618Z"
   },
   {
    "duration": 72,
    "start_time": "2022-02-22T18:09:10.750Z"
   },
   {
    "duration": 51,
    "start_time": "2022-02-22T18:09:10.825Z"
   },
   {
    "duration": 35,
    "start_time": "2022-02-22T18:09:10.879Z"
   },
   {
    "duration": 3,
    "start_time": "2022-02-22T18:09:10.917Z"
   },
   {
    "duration": 38,
    "start_time": "2022-02-22T18:09:10.923Z"
   },
   {
    "duration": 48,
    "start_time": "2022-02-22T18:09:10.964Z"
   },
   {
    "duration": 20,
    "start_time": "2022-02-22T18:09:11.015Z"
   },
   {
    "duration": 24,
    "start_time": "2022-02-22T18:09:11.037Z"
   },
   {
    "duration": 17,
    "start_time": "2022-02-22T18:09:11.064Z"
   },
   {
    "duration": 45,
    "start_time": "2022-02-22T18:09:11.084Z"
   },
   {
    "duration": 25,
    "start_time": "2022-02-22T18:09:11.134Z"
   },
   {
    "duration": 50,
    "start_time": "2022-02-22T18:09:11.162Z"
   },
   {
    "duration": 25,
    "start_time": "2022-02-22T18:09:11.215Z"
   },
   {
    "duration": 7,
    "start_time": "2022-02-22T18:09:11.242Z"
   },
   {
    "duration": 13,
    "start_time": "2022-02-22T18:09:11.251Z"
   },
   {
    "duration": 53,
    "start_time": "2022-02-22T18:09:11.266Z"
   },
   {
    "duration": 7,
    "start_time": "2022-02-22T18:09:11.322Z"
   },
   {
    "duration": 17,
    "start_time": "2022-02-22T18:09:11.332Z"
   },
   {
    "duration": 7,
    "start_time": "2022-02-22T18:09:11.351Z"
   },
   {
    "duration": 6,
    "start_time": "2022-02-22T18:09:11.360Z"
   },
   {
    "duration": 57,
    "start_time": "2022-02-22T18:09:11.368Z"
   },
   {
    "duration": 7,
    "start_time": "2022-02-22T18:09:11.427Z"
   },
   {
    "duration": 5,
    "start_time": "2022-02-22T18:10:59.728Z"
   },
   {
    "duration": 7,
    "start_time": "2022-02-22T18:14:24.870Z"
   },
   {
    "duration": 23,
    "start_time": "2022-02-22T18:14:35.842Z"
   },
   {
    "duration": 1011,
    "start_time": "2022-02-22T18:14:50.491Z"
   },
   {
    "duration": 5,
    "start_time": "2022-02-22T18:14:51.505Z"
   },
   {
    "duration": 559,
    "start_time": "2022-02-22T18:14:51.513Z"
   },
   {
    "duration": 62,
    "start_time": "2022-02-22T18:14:52.074Z"
   },
   {
    "duration": 72,
    "start_time": "2022-02-22T18:14:52.138Z"
   },
   {
    "duration": 41,
    "start_time": "2022-02-22T18:14:52.213Z"
   },
   {
    "duration": 57,
    "start_time": "2022-02-22T18:14:52.257Z"
   },
   {
    "duration": 24,
    "start_time": "2022-02-22T18:14:52.318Z"
   },
   {
    "duration": 6,
    "start_time": "2022-02-22T18:14:52.345Z"
   },
   {
    "duration": 135,
    "start_time": "2022-02-22T18:14:52.353Z"
   },
   {
    "duration": 24,
    "start_time": "2022-02-22T18:14:52.490Z"
   },
   {
    "duration": 134,
    "start_time": "2022-02-22T18:14:52.517Z"
   },
   {
    "duration": 68,
    "start_time": "2022-02-22T18:14:52.653Z"
   },
   {
    "duration": 51,
    "start_time": "2022-02-22T18:14:52.723Z"
   },
   {
    "duration": 10,
    "start_time": "2022-02-22T18:14:52.776Z"
   },
   {
    "duration": 3,
    "start_time": "2022-02-22T18:14:52.811Z"
   },
   {
    "duration": 34,
    "start_time": "2022-02-22T18:14:52.817Z"
   },
   {
    "duration": 24,
    "start_time": "2022-02-22T18:14:52.854Z"
   },
   {
    "duration": 41,
    "start_time": "2022-02-22T18:14:52.880Z"
   },
   {
    "duration": 26,
    "start_time": "2022-02-22T18:14:52.923Z"
   },
   {
    "duration": 17,
    "start_time": "2022-02-22T18:14:52.951Z"
   },
   {
    "duration": 53,
    "start_time": "2022-02-22T18:14:52.971Z"
   },
   {
    "duration": 23,
    "start_time": "2022-02-22T18:14:53.029Z"
   },
   {
    "duration": 21,
    "start_time": "2022-02-22T18:14:53.054Z"
   },
   {
    "duration": 55,
    "start_time": "2022-02-22T18:14:53.078Z"
   },
   {
    "duration": 8,
    "start_time": "2022-02-22T18:14:53.135Z"
   },
   {
    "duration": 10,
    "start_time": "2022-02-22T18:14:53.145Z"
   },
   {
    "duration": 53,
    "start_time": "2022-02-22T18:14:53.159Z"
   },
   {
    "duration": 5,
    "start_time": "2022-02-22T18:14:53.215Z"
   },
   {
    "duration": 16,
    "start_time": "2022-02-22T18:14:53.222Z"
   },
   {
    "duration": 8,
    "start_time": "2022-02-22T18:14:53.241Z"
   },
   {
    "duration": 5,
    "start_time": "2022-02-22T18:14:53.252Z"
   },
   {
    "duration": 58,
    "start_time": "2022-02-22T18:14:53.260Z"
   },
   {
    "duration": 5,
    "start_time": "2022-02-22T18:14:53.321Z"
   },
   {
    "duration": 7,
    "start_time": "2022-02-22T18:14:53.329Z"
   },
   {
    "duration": 20,
    "start_time": "2022-02-22T18:14:53.338Z"
   },
   {
    "duration": 8,
    "start_time": "2022-02-22T18:15:43.788Z"
   },
   {
    "duration": 10,
    "start_time": "2022-02-22T18:16:13.169Z"
   },
   {
    "duration": 9,
    "start_time": "2022-02-22T18:16:37.406Z"
   },
   {
    "duration": 10,
    "start_time": "2022-02-22T18:16:57.994Z"
   },
   {
    "duration": 18,
    "start_time": "2022-02-22T18:18:03.874Z"
   },
   {
    "duration": 17,
    "start_time": "2022-02-22T18:18:20.054Z"
   },
   {
    "duration": 18,
    "start_time": "2022-02-22T18:18:26.901Z"
   },
   {
    "duration": 17,
    "start_time": "2022-02-22T18:18:48.715Z"
   },
   {
    "duration": 19,
    "start_time": "2022-02-22T18:19:02.806Z"
   },
   {
    "duration": 9,
    "start_time": "2022-02-22T18:20:13.764Z"
   },
   {
    "duration": 8,
    "start_time": "2022-02-22T18:20:54.319Z"
   },
   {
    "duration": 10,
    "start_time": "2022-02-22T18:23:50.843Z"
   },
   {
    "duration": 9,
    "start_time": "2022-02-22T18:24:05.843Z"
   },
   {
    "duration": 8,
    "start_time": "2022-02-22T18:25:57.388Z"
   },
   {
    "duration": 9,
    "start_time": "2022-02-22T18:26:26.923Z"
   },
   {
    "duration": 6,
    "start_time": "2022-02-22T18:35:34.901Z"
   },
   {
    "duration": 9,
    "start_time": "2022-02-22T18:35:48.017Z"
   },
   {
    "duration": 19,
    "start_time": "2022-02-22T18:38:03.854Z"
   },
   {
    "duration": 9,
    "start_time": "2022-02-22T18:38:21.959Z"
   },
   {
    "duration": 8,
    "start_time": "2022-02-22T18:38:30.506Z"
   },
   {
    "duration": 6,
    "start_time": "2022-02-22T18:39:09.370Z"
   },
   {
    "duration": 6,
    "start_time": "2022-02-22T18:39:15.191Z"
   },
   {
    "duration": 9,
    "start_time": "2022-02-22T18:39:19.092Z"
   },
   {
    "duration": 7,
    "start_time": "2022-02-22T18:39:22.245Z"
   },
   {
    "duration": 7,
    "start_time": "2022-02-22T18:40:22.929Z"
   },
   {
    "duration": 7,
    "start_time": "2022-02-22T18:41:02.975Z"
   },
   {
    "duration": 7,
    "start_time": "2022-02-22T18:41:21.639Z"
   },
   {
    "duration": 10,
    "start_time": "2022-02-22T18:41:34.894Z"
   },
   {
    "duration": 7,
    "start_time": "2022-02-22T18:41:42.560Z"
   },
   {
    "duration": 6,
    "start_time": "2022-02-22T18:41:55.146Z"
   },
   {
    "duration": 897,
    "start_time": "2022-02-24T11:32:49.935Z"
   },
   {
    "duration": 4,
    "start_time": "2022-02-24T11:32:50.835Z"
   },
   {
    "duration": 521,
    "start_time": "2022-02-24T11:32:50.842Z"
   },
   {
    "duration": 60,
    "start_time": "2022-02-24T11:32:51.366Z"
   },
   {
    "duration": 70,
    "start_time": "2022-02-24T11:32:51.429Z"
   },
   {
    "duration": 45,
    "start_time": "2022-02-24T11:32:51.501Z"
   },
   {
    "duration": 56,
    "start_time": "2022-02-24T11:32:51.549Z"
   },
   {
    "duration": 26,
    "start_time": "2022-02-24T11:32:51.608Z"
   },
   {
    "duration": 5,
    "start_time": "2022-02-24T11:32:51.637Z"
   },
   {
    "duration": 153,
    "start_time": "2022-02-24T11:32:51.645Z"
   },
   {
    "duration": 18,
    "start_time": "2022-02-24T11:32:51.801Z"
   },
   {
    "duration": 154,
    "start_time": "2022-02-24T11:32:51.822Z"
   },
   {
    "duration": 65,
    "start_time": "2022-02-24T11:32:51.979Z"
   },
   {
    "duration": 84,
    "start_time": "2022-02-24T11:32:52.047Z"
   },
   {
    "duration": 11,
    "start_time": "2022-02-24T11:32:52.134Z"
   },
   {
    "duration": 5,
    "start_time": "2022-02-24T11:32:52.148Z"
   },
   {
    "duration": 65,
    "start_time": "2022-02-24T11:32:52.156Z"
   },
   {
    "duration": 24,
    "start_time": "2022-02-24T11:32:52.224Z"
   },
   {
    "duration": 42,
    "start_time": "2022-02-24T11:32:52.251Z"
   },
   {
    "duration": 28,
    "start_time": "2022-02-24T11:32:52.296Z"
   },
   {
    "duration": 18,
    "start_time": "2022-02-24T11:32:52.326Z"
   },
   {
    "duration": 49,
    "start_time": "2022-02-24T11:32:52.346Z"
   },
   {
    "duration": 22,
    "start_time": "2022-02-24T11:32:52.400Z"
   },
   {
    "duration": 22,
    "start_time": "2022-02-24T11:32:52.425Z"
   },
   {
    "duration": 53,
    "start_time": "2022-02-24T11:32:52.449Z"
   },
   {
    "duration": 7,
    "start_time": "2022-02-24T11:32:52.504Z"
   },
   {
    "duration": 12,
    "start_time": "2022-02-24T11:32:52.513Z"
   },
   {
    "duration": 25,
    "start_time": "2022-02-24T11:32:52.527Z"
   },
   {
    "duration": 12,
    "start_time": "2022-02-24T11:32:52.554Z"
   },
   {
    "duration": 35,
    "start_time": "2022-02-24T11:32:52.569Z"
   },
   {
    "duration": 10,
    "start_time": "2022-02-24T11:32:52.607Z"
   },
   {
    "duration": 15,
    "start_time": "2022-02-24T11:32:52.619Z"
   },
   {
    "duration": 38,
    "start_time": "2022-02-24T11:32:52.636Z"
   },
   {
    "duration": 19,
    "start_time": "2022-02-24T11:32:52.677Z"
   },
   {
    "duration": 22,
    "start_time": "2022-02-24T11:32:52.698Z"
   },
   {
    "duration": 20,
    "start_time": "2022-02-24T11:32:52.721Z"
   },
   {
    "duration": 14,
    "start_time": "2022-02-24T11:32:52.744Z"
   },
   {
    "duration": 21,
    "start_time": "2022-02-24T11:32:52.761Z"
   },
   {
    "duration": 21,
    "start_time": "2022-02-24T11:32:52.784Z"
   },
   {
    "duration": 18,
    "start_time": "2022-02-24T11:32:52.807Z"
   },
   {
    "duration": 627,
    "start_time": "2022-02-24T14:34:40.780Z"
   },
   {
    "duration": 2,
    "start_time": "2022-02-24T14:34:41.409Z"
   },
   {
    "duration": 383,
    "start_time": "2022-02-24T14:34:41.413Z"
   },
   {
    "duration": 40,
    "start_time": "2022-02-24T14:34:41.798Z"
   },
   {
    "duration": 30,
    "start_time": "2022-02-24T14:34:41.840Z"
   },
   {
    "duration": 25,
    "start_time": "2022-02-24T14:34:41.872Z"
   },
   {
    "duration": 35,
    "start_time": "2022-02-24T14:34:41.899Z"
   },
   {
    "duration": 13,
    "start_time": "2022-02-24T14:34:41.936Z"
   },
   {
    "duration": 3,
    "start_time": "2022-02-24T14:34:41.951Z"
   },
   {
    "duration": 82,
    "start_time": "2022-02-24T14:34:41.956Z"
   },
   {
    "duration": 10,
    "start_time": "2022-02-24T14:34:42.039Z"
   },
   {
    "duration": 92,
    "start_time": "2022-02-24T14:34:42.050Z"
   },
   {
    "duration": 36,
    "start_time": "2022-02-24T14:34:42.144Z"
   },
   {
    "duration": 34,
    "start_time": "2022-02-24T14:34:42.181Z"
   },
   {
    "duration": 6,
    "start_time": "2022-02-24T14:34:42.232Z"
   },
   {
    "duration": 3,
    "start_time": "2022-02-24T14:34:42.239Z"
   },
   {
    "duration": 24,
    "start_time": "2022-02-24T14:34:42.244Z"
   },
   {
    "duration": 15,
    "start_time": "2022-02-24T14:34:42.270Z"
   },
   {
    "duration": 13,
    "start_time": "2022-02-24T14:34:42.286Z"
   },
   {
    "duration": 41,
    "start_time": "2022-02-24T14:34:42.301Z"
   },
   {
    "duration": 11,
    "start_time": "2022-02-24T14:34:42.343Z"
   },
   {
    "duration": 14,
    "start_time": "2022-02-24T14:34:42.355Z"
   },
   {
    "duration": 14,
    "start_time": "2022-02-24T14:34:42.371Z"
   },
   {
    "duration": 12,
    "start_time": "2022-02-24T14:34:42.387Z"
   },
   {
    "duration": 38,
    "start_time": "2022-02-24T14:34:42.400Z"
   },
   {
    "duration": 5,
    "start_time": "2022-02-24T14:34:42.439Z"
   },
   {
    "duration": 7,
    "start_time": "2022-02-24T14:34:42.445Z"
   },
   {
    "duration": 13,
    "start_time": "2022-02-24T14:34:42.453Z"
   },
   {
    "duration": 4,
    "start_time": "2022-02-24T14:34:42.467Z"
   },
   {
    "duration": 13,
    "start_time": "2022-02-24T14:34:42.472Z"
   },
   {
    "duration": 5,
    "start_time": "2022-02-24T14:34:42.487Z"
   },
   {
    "duration": 6,
    "start_time": "2022-02-24T14:34:42.493Z"
   },
   {
    "duration": 34,
    "start_time": "2022-02-24T14:34:42.501Z"
   },
   {
    "duration": 4,
    "start_time": "2022-02-24T14:34:42.537Z"
   },
   {
    "duration": 8,
    "start_time": "2022-02-24T14:34:42.542Z"
   },
   {
    "duration": 11,
    "start_time": "2022-02-24T14:34:42.551Z"
   },
   {
    "duration": 7,
    "start_time": "2022-02-24T14:34:42.564Z"
   },
   {
    "duration": 8,
    "start_time": "2022-02-24T14:34:42.572Z"
   },
   {
    "duration": 11,
    "start_time": "2022-02-24T14:34:42.581Z"
   },
   {
    "duration": 4,
    "start_time": "2022-02-24T14:37:05.137Z"
   },
   {
    "duration": 10,
    "start_time": "2022-02-24T14:37:15.147Z"
   },
   {
    "duration": 4,
    "start_time": "2022-02-24T14:37:39.517Z"
   },
   {
    "duration": 6,
    "start_time": "2022-02-24T14:38:01.788Z"
   },
   {
    "duration": 4,
    "start_time": "2022-02-24T14:38:07.596Z"
   },
   {
    "duration": 6,
    "start_time": "2022-02-24T14:38:41.361Z"
   },
   {
    "duration": 7,
    "start_time": "2022-02-24T14:39:29.397Z"
   },
   {
    "duration": 584,
    "start_time": "2022-02-24T14:41:51.748Z"
   },
   {
    "duration": 8,
    "start_time": "2022-02-24T14:43:00.899Z"
   },
   {
    "duration": 8,
    "start_time": "2022-02-24T14:43:05.031Z"
   },
   {
    "duration": 3,
    "start_time": "2022-02-24T15:13:20.925Z"
   },
   {
    "duration": 314,
    "start_time": "2022-02-24T15:15:05.629Z"
   },
   {
    "duration": 349,
    "start_time": "2022-02-24T15:15:48.039Z"
   },
   {
    "duration": 472,
    "start_time": "2022-02-24T15:17:12.633Z"
   },
   {
    "duration": 801,
    "start_time": "2022-02-24T15:17:43.069Z"
   },
   {
    "duration": 747,
    "start_time": "2022-02-24T15:34:11.815Z"
   },
   {
    "duration": 1239,
    "start_time": "2022-02-24T15:35:34.694Z"
   },
   {
    "duration": 743,
    "start_time": "2022-02-24T15:36:24.116Z"
   },
   {
    "duration": 867,
    "start_time": "2022-02-24T15:36:43.531Z"
   },
   {
    "duration": 813,
    "start_time": "2022-02-24T15:36:57.107Z"
   },
   {
    "duration": 699,
    "start_time": "2022-02-24T15:39:32.263Z"
   },
   {
    "duration": 917,
    "start_time": "2022-02-24T15:41:37.996Z"
   },
   {
    "duration": 121,
    "start_time": "2022-02-24T15:43:00.936Z"
   },
   {
    "duration": 552,
    "start_time": "2022-02-24T15:43:07.279Z"
   },
   {
    "duration": 792,
    "start_time": "2022-02-24T15:44:12.168Z"
   },
   {
    "duration": 865,
    "start_time": "2022-02-24T15:50:32.160Z"
   },
   {
    "duration": 275,
    "start_time": "2022-02-24T15:57:10.217Z"
   },
   {
    "duration": 560,
    "start_time": "2022-02-24T15:57:54.250Z"
   },
   {
    "duration": 259,
    "start_time": "2022-02-24T15:58:02.164Z"
   },
   {
    "duration": 252,
    "start_time": "2022-02-24T15:58:07.007Z"
   },
   {
    "duration": 4,
    "start_time": "2022-02-24T16:13:24.464Z"
   },
   {
    "duration": 23,
    "start_time": "2022-02-24T16:16:30.814Z"
   },
   {
    "duration": 18,
    "start_time": "2022-02-24T16:18:55.803Z"
   },
   {
    "duration": 10,
    "start_time": "2022-02-24T16:19:31.652Z"
   },
   {
    "duration": 19,
    "start_time": "2022-02-24T16:19:48.480Z"
   },
   {
    "duration": 11,
    "start_time": "2022-02-24T16:20:30.623Z"
   },
   {
    "duration": 13,
    "start_time": "2022-02-24T16:20:49.294Z"
   },
   {
    "duration": 114,
    "start_time": "2022-02-24T16:43:00.580Z"
   },
   {
    "duration": 12,
    "start_time": "2022-02-24T16:43:36.924Z"
   },
   {
    "duration": 16,
    "start_time": "2022-02-24T16:44:10.480Z"
   },
   {
    "duration": 13,
    "start_time": "2022-02-24T18:11:36.644Z"
   },
   {
    "duration": 16,
    "start_time": "2022-02-24T18:12:34.950Z"
   },
   {
    "duration": 17,
    "start_time": "2022-02-24T18:12:54.396Z"
   },
   {
    "duration": 6,
    "start_time": "2022-02-24T18:18:49.422Z"
   },
   {
    "duration": 7,
    "start_time": "2022-02-24T18:22:40.177Z"
   },
   {
    "duration": 16,
    "start_time": "2022-02-24T18:23:13.175Z"
   },
   {
    "duration": 10,
    "start_time": "2022-02-24T18:23:29.200Z"
   },
   {
    "duration": 15,
    "start_time": "2022-02-24T18:23:40.467Z"
   },
   {
    "duration": 427,
    "start_time": "2022-02-25T05:05:47.539Z"
   },
   {
    "duration": 880,
    "start_time": "2022-02-25T05:05:55.148Z"
   },
   {
    "duration": 4,
    "start_time": "2022-02-25T05:05:56.032Z"
   },
   {
    "duration": 563,
    "start_time": "2022-02-25T05:05:56.038Z"
   },
   {
    "duration": 70,
    "start_time": "2022-02-25T05:05:56.604Z"
   },
   {
    "duration": 71,
    "start_time": "2022-02-25T05:05:56.677Z"
   },
   {
    "duration": 66,
    "start_time": "2022-02-25T05:05:56.751Z"
   },
   {
    "duration": 23,
    "start_time": "2022-02-25T05:05:56.819Z"
   },
   {
    "duration": 66,
    "start_time": "2022-02-25T05:05:56.846Z"
   },
   {
    "duration": 6,
    "start_time": "2022-02-25T05:05:56.915Z"
   },
   {
    "duration": 123,
    "start_time": "2022-02-25T05:05:56.924Z"
   },
   {
    "duration": 15,
    "start_time": "2022-02-25T05:05:57.050Z"
   },
   {
    "duration": 148,
    "start_time": "2022-02-25T05:05:57.068Z"
   },
   {
    "duration": 59,
    "start_time": "2022-02-25T05:05:57.218Z"
   },
   {
    "duration": 73,
    "start_time": "2022-02-25T05:05:57.280Z"
   },
   {
    "duration": 9,
    "start_time": "2022-02-25T05:05:57.355Z"
   },
   {
    "duration": 3,
    "start_time": "2022-02-25T05:05:57.367Z"
   },
   {
    "duration": 66,
    "start_time": "2022-02-25T05:05:57.372Z"
   },
   {
    "duration": 25,
    "start_time": "2022-02-25T05:05:57.440Z"
   },
   {
    "duration": 21,
    "start_time": "2022-02-25T05:05:57.467Z"
   },
   {
    "duration": 45,
    "start_time": "2022-02-25T05:05:57.490Z"
   },
   {
    "duration": 18,
    "start_time": "2022-02-25T05:05:57.537Z"
   },
   {
    "duration": 22,
    "start_time": "2022-02-25T05:05:57.557Z"
   },
   {
    "duration": 48,
    "start_time": "2022-02-25T05:05:57.584Z"
   },
   {
    "duration": 22,
    "start_time": "2022-02-25T05:05:57.636Z"
   },
   {
    "duration": 59,
    "start_time": "2022-02-25T05:05:57.661Z"
   },
   {
    "duration": 9,
    "start_time": "2022-02-25T05:05:57.723Z"
   },
   {
    "duration": 12,
    "start_time": "2022-02-25T05:05:57.734Z"
   },
   {
    "duration": 17,
    "start_time": "2022-02-25T05:05:57.748Z"
   },
   {
    "duration": 46,
    "start_time": "2022-02-25T05:05:57.767Z"
   },
   {
    "duration": 16,
    "start_time": "2022-02-25T05:05:57.816Z"
   },
   {
    "duration": 8,
    "start_time": "2022-02-25T05:05:57.834Z"
   },
   {
    "duration": 4,
    "start_time": "2022-02-25T05:05:57.845Z"
   },
   {
    "duration": 59,
    "start_time": "2022-02-25T05:05:57.852Z"
   },
   {
    "duration": 7,
    "start_time": "2022-02-25T05:05:57.914Z"
   },
   {
    "duration": 9,
    "start_time": "2022-02-25T05:05:57.923Z"
   },
   {
    "duration": 10,
    "start_time": "2022-02-25T05:05:57.935Z"
   },
   {
    "duration": 14,
    "start_time": "2022-02-25T05:05:57.947Z"
   },
   {
    "duration": 636,
    "start_time": "2022-02-25T05:05:57.964Z"
   },
   {
    "duration": 24,
    "start_time": "2022-02-25T05:05:58.603Z"
   },
   {
    "duration": 28,
    "start_time": "2022-02-25T05:05:58.629Z"
   },
   {
    "duration": 9,
    "start_time": "2022-02-25T05:05:58.659Z"
   },
   {
    "duration": 1588,
    "start_time": "2022-02-25T05:05:58.671Z"
   },
   {
    "duration": 10,
    "start_time": "2022-02-25T05:06:00.262Z"
   },
   {
    "duration": 38,
    "start_time": "2022-02-25T05:06:00.275Z"
   },
   {
    "duration": 919,
    "start_time": "2022-02-25T05:07:44.786Z"
   },
   {
    "duration": 4,
    "start_time": "2022-02-25T05:07:45.708Z"
   },
   {
    "duration": 523,
    "start_time": "2022-02-25T05:07:45.714Z"
   },
   {
    "duration": 61,
    "start_time": "2022-02-25T05:07:46.240Z"
   },
   {
    "duration": 46,
    "start_time": "2022-02-25T05:07:46.303Z"
   },
   {
    "duration": 64,
    "start_time": "2022-02-25T05:07:46.351Z"
   },
   {
    "duration": 20,
    "start_time": "2022-02-25T05:07:46.417Z"
   },
   {
    "duration": 25,
    "start_time": "2022-02-25T05:07:46.441Z"
   },
   {
    "duration": 44,
    "start_time": "2022-02-25T05:07:46.470Z"
   },
   {
    "duration": 125,
    "start_time": "2022-02-25T05:07:46.517Z"
   },
   {
    "duration": 20,
    "start_time": "2022-02-25T05:07:46.645Z"
   },
   {
    "duration": 148,
    "start_time": "2022-02-25T05:07:46.667Z"
   },
   {
    "duration": 54,
    "start_time": "2022-02-25T05:07:46.817Z"
   },
   {
    "duration": 80,
    "start_time": "2022-02-25T05:07:46.873Z"
   },
   {
    "duration": 9,
    "start_time": "2022-02-25T05:07:46.955Z"
   },
   {
    "duration": 3,
    "start_time": "2022-02-25T05:07:46.966Z"
   },
   {
    "duration": 58,
    "start_time": "2022-02-25T05:07:46.971Z"
   },
   {
    "duration": 23,
    "start_time": "2022-02-25T05:07:47.031Z"
   },
   {
    "duration": 20,
    "start_time": "2022-02-25T05:07:47.056Z"
   },
   {
    "duration": 45,
    "start_time": "2022-02-25T05:07:47.078Z"
   },
   {
    "duration": 17,
    "start_time": "2022-02-25T05:07:47.126Z"
   },
   {
    "duration": 20,
    "start_time": "2022-02-25T05:07:47.145Z"
   },
   {
    "duration": 47,
    "start_time": "2022-02-25T05:07:47.170Z"
   },
   {
    "duration": 22,
    "start_time": "2022-02-25T05:07:47.220Z"
   },
   {
    "duration": 24,
    "start_time": "2022-02-25T05:07:47.244Z"
   },
   {
    "duration": 6,
    "start_time": "2022-02-25T05:07:47.271Z"
   },
   {
    "duration": 10,
    "start_time": "2022-02-25T05:07:47.311Z"
   },
   {
    "duration": 18,
    "start_time": "2022-02-25T05:07:47.323Z"
   },
   {
    "duration": 9,
    "start_time": "2022-02-25T05:07:47.343Z"
   },
   {
    "duration": 18,
    "start_time": "2022-02-25T05:07:47.354Z"
   },
   {
    "duration": 41,
    "start_time": "2022-02-25T05:07:47.374Z"
   },
   {
    "duration": 5,
    "start_time": "2022-02-25T05:07:47.418Z"
   },
   {
    "duration": 17,
    "start_time": "2022-02-25T05:07:47.425Z"
   },
   {
    "duration": 7,
    "start_time": "2022-02-25T05:07:47.444Z"
   },
   {
    "duration": 6,
    "start_time": "2022-02-25T05:07:47.454Z"
   },
   {
    "duration": 1604,
    "start_time": "2022-02-25T05:07:47.462Z"
   },
   {
    "duration": 8,
    "start_time": "2022-02-25T05:07:49.069Z"
   },
   {
    "duration": 32,
    "start_time": "2022-02-25T05:07:49.079Z"
   },
   {
    "duration": 9,
    "start_time": "2022-02-25T05:07:49.113Z"
   },
   {
    "duration": 7,
    "start_time": "2022-02-25T05:07:49.125Z"
   },
   {
    "duration": 565,
    "start_time": "2022-02-25T05:07:49.135Z"
   },
   {
    "duration": 20,
    "start_time": "2022-02-25T05:07:49.710Z"
   },
   {
    "duration": 25,
    "start_time": "2022-02-25T05:07:49.733Z"
   },
   {
    "duration": 8,
    "start_time": "2022-02-25T05:07:49.760Z"
   },
   {
    "duration": 9,
    "start_time": "2022-02-25T05:18:11.163Z"
   },
   {
    "duration": 9,
    "start_time": "2022-02-25T05:18:17.706Z"
   },
   {
    "duration": 6,
    "start_time": "2022-02-25T05:19:01.439Z"
   },
   {
    "duration": 8,
    "start_time": "2022-02-25T05:19:10.107Z"
   },
   {
    "duration": 8,
    "start_time": "2022-02-25T05:19:16.274Z"
   },
   {
    "duration": 5,
    "start_time": "2022-02-25T06:10:09.908Z"
   },
   {
    "duration": 129,
    "start_time": "2022-02-25T06:14:52.379Z"
   },
   {
    "duration": 470,
    "start_time": "2022-02-25T06:19:16.432Z"
   },
   {
    "duration": 5,
    "start_time": "2022-02-25T07:05:51.290Z"
   },
   {
    "duration": 177,
    "start_time": "2022-02-25T07:11:54.222Z"
   },
   {
    "duration": 123,
    "start_time": "2022-02-25T07:12:24.786Z"
   },
   {
    "duration": 185,
    "start_time": "2022-02-25T07:12:37.333Z"
   },
   {
    "duration": 30,
    "start_time": "2022-02-25T07:13:09.924Z"
   },
   {
    "duration": 8,
    "start_time": "2022-02-25T07:13:12.173Z"
   },
   {
    "duration": 47,
    "start_time": "2022-02-25T07:13:17.880Z"
   },
   {
    "duration": 919,
    "start_time": "2022-02-25T07:13:36.016Z"
   },
   {
    "duration": 4,
    "start_time": "2022-02-25T07:13:36.938Z"
   },
   {
    "duration": 571,
    "start_time": "2022-02-25T07:13:36.946Z"
   },
   {
    "duration": 63,
    "start_time": "2022-02-25T07:13:37.520Z"
   },
   {
    "duration": 66,
    "start_time": "2022-02-25T07:13:37.585Z"
   },
   {
    "duration": 78,
    "start_time": "2022-02-25T07:13:37.654Z"
   },
   {
    "duration": 28,
    "start_time": "2022-02-25T07:13:37.735Z"
   },
   {
    "duration": 53,
    "start_time": "2022-02-25T07:13:37.766Z"
   },
   {
    "duration": 7,
    "start_time": "2022-02-25T07:13:37.823Z"
   },
   {
    "duration": 139,
    "start_time": "2022-02-25T07:13:37.833Z"
   },
   {
    "duration": 16,
    "start_time": "2022-02-25T07:13:37.975Z"
   },
   {
    "duration": 143,
    "start_time": "2022-02-25T07:13:38.009Z"
   },
   {
    "duration": 74,
    "start_time": "2022-02-25T07:13:38.155Z"
   },
   {
    "duration": 53,
    "start_time": "2022-02-25T07:13:38.232Z"
   },
   {
    "duration": 28,
    "start_time": "2022-02-25T07:13:38.287Z"
   },
   {
    "duration": 3,
    "start_time": "2022-02-25T07:13:38.318Z"
   },
   {
    "duration": 44,
    "start_time": "2022-02-25T07:13:38.323Z"
   },
   {
    "duration": 52,
    "start_time": "2022-02-25T07:13:38.370Z"
   },
   {
    "duration": 21,
    "start_time": "2022-02-25T07:13:38.425Z"
   },
   {
    "duration": 26,
    "start_time": "2022-02-25T07:13:38.448Z"
   },
   {
    "duration": 46,
    "start_time": "2022-02-25T07:13:38.477Z"
   },
   {
    "duration": 20,
    "start_time": "2022-02-25T07:13:38.526Z"
   },
   {
    "duration": 24,
    "start_time": "2022-02-25T07:13:38.552Z"
   },
   {
    "duration": 47,
    "start_time": "2022-02-25T07:13:38.579Z"
   },
   {
    "duration": 27,
    "start_time": "2022-02-25T07:13:38.629Z"
   },
   {
    "duration": 10,
    "start_time": "2022-02-25T07:13:38.659Z"
   },
   {
    "duration": 44,
    "start_time": "2022-02-25T07:13:38.671Z"
   },
   {
    "duration": 17,
    "start_time": "2022-02-25T07:13:38.718Z"
   },
   {
    "duration": 6,
    "start_time": "2022-02-25T07:13:38.738Z"
   },
   {
    "duration": 24,
    "start_time": "2022-02-25T07:13:38.747Z"
   },
   {
    "duration": 8,
    "start_time": "2022-02-25T07:13:38.773Z"
   },
   {
    "duration": 5,
    "start_time": "2022-02-25T07:13:38.811Z"
   },
   {
    "duration": 16,
    "start_time": "2022-02-25T07:13:38.818Z"
   },
   {
    "duration": 8,
    "start_time": "2022-02-25T07:13:38.836Z"
   },
   {
    "duration": 7,
    "start_time": "2022-02-25T07:13:38.846Z"
   },
   {
    "duration": 1634,
    "start_time": "2022-02-25T07:13:38.855Z"
   },
   {
    "duration": 5,
    "start_time": "2022-02-25T07:13:40.491Z"
   },
   {
    "duration": 45,
    "start_time": "2022-02-25T07:13:40.499Z"
   },
   {
    "duration": 8,
    "start_time": "2022-02-25T07:13:40.546Z"
   },
   {
    "duration": 9,
    "start_time": "2022-02-25T07:13:40.556Z"
   },
   {
    "duration": 47,
    "start_time": "2022-02-25T07:13:40.567Z"
   },
   {
    "duration": 69,
    "start_time": "2022-02-25T07:13:40.616Z"
   },
   {
    "duration": 29,
    "start_time": "2022-02-25T07:13:40.688Z"
   },
   {
    "duration": 502,
    "start_time": "2022-02-25T07:13:40.719Z"
   },
   {
    "duration": 19,
    "start_time": "2022-02-25T07:13:41.224Z"
   },
   {
    "duration": 24,
    "start_time": "2022-02-25T07:13:41.245Z"
   },
   {
    "duration": 39,
    "start_time": "2022-02-25T07:13:41.272Z"
   },
   {
    "duration": 509,
    "start_time": "2022-02-25T08:20:53.195Z"
   },
   {
    "duration": 12,
    "start_time": "2022-02-25T08:21:09.531Z"
   },
   {
    "duration": 6,
    "start_time": "2022-02-25T08:25:29.771Z"
   },
   {
    "duration": 6,
    "start_time": "2022-02-25T08:34:01.428Z"
   },
   {
    "duration": 941,
    "start_time": "2022-02-25T12:12:29.545Z"
   },
   {
    "duration": 4,
    "start_time": "2022-02-25T12:12:30.488Z"
   },
   {
    "duration": 520,
    "start_time": "2022-02-25T12:12:30.495Z"
   },
   {
    "duration": 60,
    "start_time": "2022-02-25T12:12:31.018Z"
   },
   {
    "duration": 48,
    "start_time": "2022-02-25T12:12:31.081Z"
   },
   {
    "duration": 63,
    "start_time": "2022-02-25T12:12:31.132Z"
   },
   {
    "duration": 20,
    "start_time": "2022-02-25T12:12:31.198Z"
   },
   {
    "duration": 59,
    "start_time": "2022-02-25T12:12:31.222Z"
   },
   {
    "duration": 21,
    "start_time": "2022-02-25T12:12:31.285Z"
   },
   {
    "duration": 123,
    "start_time": "2022-02-25T12:12:31.308Z"
   },
   {
    "duration": 28,
    "start_time": "2022-02-25T12:12:31.434Z"
   },
   {
    "duration": 131,
    "start_time": "2022-02-25T12:12:31.465Z"
   },
   {
    "duration": 69,
    "start_time": "2022-02-25T12:12:31.598Z"
   },
   {
    "duration": 54,
    "start_time": "2022-02-25T12:12:31.669Z"
   },
   {
    "duration": 10,
    "start_time": "2022-02-25T12:12:31.726Z"
   },
   {
    "duration": 23,
    "start_time": "2022-02-25T12:12:31.738Z"
   },
   {
    "duration": 44,
    "start_time": "2022-02-25T12:12:31.763Z"
   },
   {
    "duration": 24,
    "start_time": "2022-02-25T12:12:31.809Z"
   },
   {
    "duration": 36,
    "start_time": "2022-02-25T12:12:31.835Z"
   },
   {
    "duration": 24,
    "start_time": "2022-02-25T12:12:31.874Z"
   },
   {
    "duration": 17,
    "start_time": "2022-02-25T12:12:31.900Z"
   },
   {
    "duration": 49,
    "start_time": "2022-02-25T12:12:31.919Z"
   },
   {
    "duration": 24,
    "start_time": "2022-02-25T12:12:31.973Z"
   },
   {
    "duration": 21,
    "start_time": "2022-02-25T12:12:32.000Z"
   },
   {
    "duration": 56,
    "start_time": "2022-02-25T12:12:32.023Z"
   },
   {
    "duration": 7,
    "start_time": "2022-02-25T12:12:32.081Z"
   },
   {
    "duration": 10,
    "start_time": "2022-02-25T12:12:32.090Z"
   },
   {
    "duration": 17,
    "start_time": "2022-02-25T12:12:32.102Z"
   },
   {
    "duration": 40,
    "start_time": "2022-02-25T12:12:32.122Z"
   },
   {
    "duration": 16,
    "start_time": "2022-02-25T12:12:32.165Z"
   },
   {
    "duration": 8,
    "start_time": "2022-02-25T12:12:32.183Z"
   },
   {
    "duration": 4,
    "start_time": "2022-02-25T12:12:32.194Z"
   },
   {
    "duration": 17,
    "start_time": "2022-02-25T12:12:32.201Z"
   },
   {
    "duration": 41,
    "start_time": "2022-02-25T12:12:32.220Z"
   },
   {
    "duration": 7,
    "start_time": "2022-02-25T12:12:32.264Z"
   },
   {
    "duration": 1480,
    "start_time": "2022-02-25T12:12:32.273Z"
   },
   {
    "duration": 41,
    "start_time": "2022-02-25T12:12:33.760Z"
   },
   {
    "duration": 3,
    "start_time": "2022-02-25T12:12:33.804Z"
   },
   {
    "duration": 13,
    "start_time": "2022-02-25T12:12:33.809Z"
   },
   {
    "duration": 37,
    "start_time": "2022-02-25T12:12:33.825Z"
   },
   {
    "duration": 7,
    "start_time": "2022-02-25T12:12:33.865Z"
   },
   {
    "duration": 455,
    "start_time": "2022-02-25T12:12:33.874Z"
   },
   {
    "duration": -58,
    "start_time": "2022-02-25T12:12:34.390Z"
   },
   {
    "duration": -63,
    "start_time": "2022-02-25T12:12:34.396Z"
   },
   {
    "duration": -64,
    "start_time": "2022-02-25T12:12:34.399Z"
   },
   {
    "duration": -65,
    "start_time": "2022-02-25T12:12:34.401Z"
   },
   {
    "duration": -65,
    "start_time": "2022-02-25T12:12:34.403Z"
   },
   {
    "duration": -65,
    "start_time": "2022-02-25T12:12:34.405Z"
   },
   {
    "duration": 426,
    "start_time": "2022-02-25T12:14:19.453Z"
   },
   {
    "duration": 307,
    "start_time": "2022-02-25T12:14:26.544Z"
   },
   {
    "duration": 5,
    "start_time": "2022-02-25T12:14:41.771Z"
   },
   {
    "duration": 7,
    "start_time": "2022-02-25T12:14:56.470Z"
   },
   {
    "duration": 6,
    "start_time": "2022-02-25T12:19:43.053Z"
   },
   {
    "duration": 9,
    "start_time": "2022-02-25T12:21:17.262Z"
   },
   {
    "duration": 277,
    "start_time": "2022-02-25T15:52:30.271Z"
   },
   {
    "duration": 1270,
    "start_time": "2022-02-25T15:54:56.972Z"
   },
   {
    "duration": 3,
    "start_time": "2022-02-25T15:54:58.244Z"
   },
   {
    "duration": 417,
    "start_time": "2022-02-25T15:54:58.251Z"
   },
   {
    "duration": 54,
    "start_time": "2022-02-25T15:54:58.671Z"
   },
   {
    "duration": 39,
    "start_time": "2022-02-25T15:54:58.727Z"
   },
   {
    "duration": 56,
    "start_time": "2022-02-25T15:54:58.769Z"
   },
   {
    "duration": 16,
    "start_time": "2022-02-25T15:54:58.830Z"
   },
   {
    "duration": 50,
    "start_time": "2022-02-25T15:54:58.848Z"
   },
   {
    "duration": 4,
    "start_time": "2022-02-25T15:54:58.900Z"
   },
   {
    "duration": 93,
    "start_time": "2022-02-25T15:54:58.905Z"
   },
   {
    "duration": 11,
    "start_time": "2022-02-25T15:54:58.999Z"
   },
   {
    "duration": 115,
    "start_time": "2022-02-25T15:54:59.011Z"
   },
   {
    "duration": 40,
    "start_time": "2022-02-25T15:54:59.127Z"
   },
   {
    "duration": 53,
    "start_time": "2022-02-25T15:54:59.169Z"
   },
   {
    "duration": 7,
    "start_time": "2022-02-25T15:54:59.224Z"
   },
   {
    "duration": 6,
    "start_time": "2022-02-25T15:54:59.233Z"
   },
   {
    "duration": 28,
    "start_time": "2022-02-25T15:54:59.241Z"
   },
   {
    "duration": 31,
    "start_time": "2022-02-25T15:54:59.271Z"
   },
   {
    "duration": 16,
    "start_time": "2022-02-25T15:54:59.304Z"
   },
   {
    "duration": 20,
    "start_time": "2022-02-25T15:54:59.321Z"
   },
   {
    "duration": 13,
    "start_time": "2022-02-25T15:54:59.343Z"
   },
   {
    "duration": 45,
    "start_time": "2022-02-25T15:54:59.360Z"
   },
   {
    "duration": 17,
    "start_time": "2022-02-25T15:54:59.408Z"
   },
   {
    "duration": 14,
    "start_time": "2022-02-25T15:54:59.427Z"
   },
   {
    "duration": 17,
    "start_time": "2022-02-25T15:54:59.443Z"
   },
   {
    "duration": 36,
    "start_time": "2022-02-25T15:54:59.462Z"
   },
   {
    "duration": 14,
    "start_time": "2022-02-25T15:54:59.500Z"
   },
   {
    "duration": 12,
    "start_time": "2022-02-25T15:54:59.516Z"
   },
   {
    "duration": 9,
    "start_time": "2022-02-25T15:54:59.530Z"
   },
   {
    "duration": 14,
    "start_time": "2022-02-25T15:54:59.541Z"
   },
   {
    "duration": 6,
    "start_time": "2022-02-25T15:54:59.557Z"
   },
   {
    "duration": 32,
    "start_time": "2022-02-25T15:54:59.565Z"
   },
   {
    "duration": 13,
    "start_time": "2022-02-25T15:54:59.599Z"
   },
   {
    "duration": 5,
    "start_time": "2022-02-25T15:54:59.614Z"
   },
   {
    "duration": 22,
    "start_time": "2022-02-25T15:54:59.621Z"
   },
   {
    "duration": 973,
    "start_time": "2022-02-25T15:54:59.645Z"
   },
   {
    "duration": 28,
    "start_time": "2022-02-25T15:55:00.621Z"
   },
   {
    "duration": 3,
    "start_time": "2022-02-25T15:55:00.650Z"
   },
   {
    "duration": 29,
    "start_time": "2022-02-25T15:55:00.655Z"
   },
   {
    "duration": 12,
    "start_time": "2022-02-25T15:55:00.686Z"
   },
   {
    "duration": 16,
    "start_time": "2022-02-25T15:55:00.700Z"
   },
   {
    "duration": 44,
    "start_time": "2022-02-25T15:55:00.718Z"
   },
   {
    "duration": 19,
    "start_time": "2022-02-25T15:55:00.764Z"
   },
   {
    "duration": 23,
    "start_time": "2022-02-25T15:55:00.786Z"
   },
   {
    "duration": 18,
    "start_time": "2022-02-25T15:55:00.811Z"
   },
   {
    "duration": 10,
    "start_time": "2022-02-25T15:55:00.831Z"
   },
   {
    "duration": 12,
    "start_time": "2022-02-25T15:55:00.843Z"
   },
   {
    "duration": 15,
    "start_time": "2022-02-25T15:55:00.857Z"
   },
   {
    "duration": 16,
    "start_time": "2022-02-25T15:55:00.874Z"
   },
   {
    "duration": 21,
    "start_time": "2022-02-25T15:55:00.893Z"
   },
   {
    "duration": 34,
    "start_time": "2022-02-25T15:55:00.916Z"
   },
   {
    "duration": 305,
    "start_time": "2022-02-25T15:55:00.952Z"
   },
   {
    "duration": 13,
    "start_time": "2022-02-25T15:55:01.258Z"
   },
   {
    "duration": 34,
    "start_time": "2022-02-25T15:55:01.273Z"
   },
   {
    "duration": 24,
    "start_time": "2022-02-25T15:55:01.309Z"
   },
   {
    "duration": 4,
    "start_time": "2022-02-25T15:55:18.906Z"
   },
   {
    "duration": 1202,
    "start_time": "2022-02-25T15:58:44.376Z"
   },
   {
    "duration": 3,
    "start_time": "2022-02-25T15:58:45.580Z"
   },
   {
    "duration": 435,
    "start_time": "2022-02-25T15:58:45.594Z"
   },
   {
    "duration": 52,
    "start_time": "2022-02-25T15:58:46.031Z"
   },
   {
    "duration": 43,
    "start_time": "2022-02-25T15:58:46.085Z"
   },
   {
    "duration": 35,
    "start_time": "2022-02-25T15:58:46.131Z"
   },
   {
    "duration": 42,
    "start_time": "2022-02-25T15:58:46.167Z"
   },
   {
    "duration": 18,
    "start_time": "2022-02-25T15:58:46.211Z"
   },
   {
    "duration": 5,
    "start_time": "2022-02-25T15:58:46.231Z"
   },
   {
    "duration": 110,
    "start_time": "2022-02-25T15:58:46.237Z"
   },
   {
    "duration": 12,
    "start_time": "2022-02-25T15:58:46.349Z"
   },
   {
    "duration": 126,
    "start_time": "2022-02-25T15:58:46.363Z"
   },
   {
    "duration": 45,
    "start_time": "2022-02-25T15:58:46.491Z"
   },
   {
    "duration": 64,
    "start_time": "2022-02-25T15:58:46.538Z"
   },
   {
    "duration": 8,
    "start_time": "2022-02-25T15:58:46.604Z"
   },
   {
    "duration": 9,
    "start_time": "2022-02-25T15:58:46.614Z"
   },
   {
    "duration": 35,
    "start_time": "2022-02-25T15:58:46.624Z"
   },
   {
    "duration": 37,
    "start_time": "2022-02-25T15:58:46.662Z"
   },
   {
    "duration": 17,
    "start_time": "2022-02-25T15:58:46.702Z"
   },
   {
    "duration": 27,
    "start_time": "2022-02-25T15:58:46.720Z"
   },
   {
    "duration": 14,
    "start_time": "2022-02-25T15:58:46.749Z"
   },
   {
    "duration": 49,
    "start_time": "2022-02-25T15:58:46.766Z"
   },
   {
    "duration": 19,
    "start_time": "2022-02-25T15:58:46.819Z"
   },
   {
    "duration": 16,
    "start_time": "2022-02-25T15:58:46.840Z"
   },
   {
    "duration": 49,
    "start_time": "2022-02-25T15:58:46.858Z"
   },
   {
    "duration": 5,
    "start_time": "2022-02-25T15:58:46.909Z"
   },
   {
    "duration": 15,
    "start_time": "2022-02-25T15:58:46.916Z"
   },
   {
    "duration": 17,
    "start_time": "2022-02-25T15:58:46.933Z"
   },
   {
    "duration": 6,
    "start_time": "2022-02-25T15:58:46.952Z"
   },
   {
    "duration": 13,
    "start_time": "2022-02-25T15:58:46.960Z"
   },
   {
    "duration": 8,
    "start_time": "2022-02-25T15:58:46.994Z"
   },
   {
    "duration": 6,
    "start_time": "2022-02-25T15:58:47.004Z"
   },
   {
    "duration": 19,
    "start_time": "2022-02-25T15:58:47.011Z"
   },
   {
    "duration": 11,
    "start_time": "2022-02-25T15:58:47.032Z"
   },
   {
    "duration": 5,
    "start_time": "2022-02-25T15:58:47.045Z"
   },
   {
    "duration": 1055,
    "start_time": "2022-02-25T15:58:47.052Z"
   },
   {
    "duration": 29,
    "start_time": "2022-02-25T15:58:48.109Z"
   },
   {
    "duration": 73,
    "start_time": "2022-02-25T15:58:48.140Z"
   },
   {
    "duration": 16,
    "start_time": "2022-02-25T15:58:48.215Z"
   },
   {
    "duration": 4,
    "start_time": "2022-02-25T15:58:48.233Z"
   },
   {
    "duration": 9,
    "start_time": "2022-02-25T15:58:48.239Z"
   },
   {
    "duration": 7,
    "start_time": "2022-02-25T15:58:48.250Z"
   },
   {
    "duration": 14,
    "start_time": "2022-02-25T15:58:48.258Z"
   },
   {
    "duration": 4,
    "start_time": "2022-02-25T15:58:48.274Z"
   },
   {
    "duration": 8,
    "start_time": "2022-02-25T15:58:48.279Z"
   },
   {
    "duration": 18,
    "start_time": "2022-02-25T15:58:48.289Z"
   },
   {
    "duration": 10,
    "start_time": "2022-02-25T15:58:48.309Z"
   },
   {
    "duration": 13,
    "start_time": "2022-02-25T15:58:48.321Z"
   },
   {
    "duration": 12,
    "start_time": "2022-02-25T15:58:48.336Z"
   },
   {
    "duration": 14,
    "start_time": "2022-02-25T15:58:48.350Z"
   },
   {
    "duration": 6,
    "start_time": "2022-02-25T15:58:48.366Z"
   },
   {
    "duration": 25,
    "start_time": "2022-02-25T15:58:48.374Z"
   },
   {
    "duration": 347,
    "start_time": "2022-02-25T15:58:48.401Z"
   },
   {
    "duration": 15,
    "start_time": "2022-02-25T15:58:48.751Z"
   },
   {
    "duration": 35,
    "start_time": "2022-02-25T15:58:48.768Z"
   },
   {
    "duration": 6,
    "start_time": "2022-02-25T15:58:48.805Z"
   },
   {
    "duration": 9,
    "start_time": "2022-02-25T16:00:16.011Z"
   },
   {
    "duration": 4,
    "start_time": "2022-02-25T16:00:32.230Z"
   },
   {
    "duration": 5,
    "start_time": "2022-02-25T16:00:52.391Z"
   },
   {
    "duration": 6,
    "start_time": "2022-02-25T16:01:21.895Z"
   },
   {
    "duration": 9,
    "start_time": "2022-02-25T16:02:21.740Z"
   },
   {
    "duration": 6,
    "start_time": "2022-02-25T16:05:09.658Z"
   },
   {
    "duration": 9,
    "start_time": "2022-02-25T16:05:28.271Z"
   },
   {
    "duration": 4,
    "start_time": "2022-02-25T16:14:33.167Z"
   },
   {
    "duration": 4,
    "start_time": "2022-02-25T16:14:40.840Z"
   },
   {
    "duration": 391,
    "start_time": "2022-02-25T16:19:41.850Z"
   },
   {
    "duration": 509,
    "start_time": "2022-02-25T16:20:01.492Z"
   },
   {
    "duration": 7,
    "start_time": "2022-02-25T16:22:28.951Z"
   },
   {
    "duration": 21,
    "start_time": "2022-02-25T16:22:31.224Z"
   },
   {
    "duration": 12,
    "start_time": "2022-02-25T16:22:41.182Z"
   },
   {
    "duration": 20,
    "start_time": "2022-02-25T16:22:52.424Z"
   },
   {
    "duration": 7,
    "start_time": "2022-02-25T16:24:57.632Z"
   },
   {
    "duration": 8,
    "start_time": "2022-02-25T16:27:10.999Z"
   },
   {
    "duration": 1060,
    "start_time": "2022-02-26T02:32:27.542Z"
   },
   {
    "duration": 2,
    "start_time": "2022-02-26T02:32:28.604Z"
   },
   {
    "duration": 438,
    "start_time": "2022-02-26T02:32:28.608Z"
   },
   {
    "duration": 49,
    "start_time": "2022-02-26T02:32:29.047Z"
   },
   {
    "duration": 44,
    "start_time": "2022-02-26T02:32:29.098Z"
   },
   {
    "duration": 30,
    "start_time": "2022-02-26T02:32:29.144Z"
   },
   {
    "duration": 16,
    "start_time": "2022-02-26T02:32:29.176Z"
   },
   {
    "duration": 46,
    "start_time": "2022-02-26T02:32:29.195Z"
   },
   {
    "duration": 4,
    "start_time": "2022-02-26T02:32:29.244Z"
   },
   {
    "duration": 97,
    "start_time": "2022-02-26T02:32:29.250Z"
   },
   {
    "duration": 12,
    "start_time": "2022-02-26T02:32:29.349Z"
   },
   {
    "duration": 107,
    "start_time": "2022-02-26T02:32:29.363Z"
   },
   {
    "duration": 36,
    "start_time": "2022-02-26T02:32:29.472Z"
   },
   {
    "duration": 45,
    "start_time": "2022-02-26T02:32:29.510Z"
   },
   {
    "duration": 6,
    "start_time": "2022-02-26T02:32:29.557Z"
   },
   {
    "duration": 3,
    "start_time": "2022-02-26T02:32:29.565Z"
   },
   {
    "duration": 26,
    "start_time": "2022-02-26T02:32:29.569Z"
   },
   {
    "duration": 37,
    "start_time": "2022-02-26T02:32:29.597Z"
   },
   {
    "duration": 15,
    "start_time": "2022-02-26T02:32:29.636Z"
   },
   {
    "duration": 18,
    "start_time": "2022-02-26T02:32:29.653Z"
   },
   {
    "duration": 13,
    "start_time": "2022-02-26T02:32:29.673Z"
   },
   {
    "duration": 15,
    "start_time": "2022-02-26T02:32:29.687Z"
   },
   {
    "duration": 69,
    "start_time": "2022-02-26T02:32:29.706Z"
   },
   {
    "duration": 14,
    "start_time": "2022-02-26T02:32:29.778Z"
   },
   {
    "duration": 45,
    "start_time": "2022-02-26T02:32:29.793Z"
   },
   {
    "duration": 5,
    "start_time": "2022-02-26T02:32:29.839Z"
   },
   {
    "duration": 9,
    "start_time": "2022-02-26T02:32:29.846Z"
   },
   {
    "duration": 9,
    "start_time": "2022-02-26T02:32:29.857Z"
   },
   {
    "duration": 3,
    "start_time": "2022-02-26T02:32:29.868Z"
   },
   {
    "duration": 16,
    "start_time": "2022-02-26T02:32:29.873Z"
   },
   {
    "duration": 5,
    "start_time": "2022-02-26T02:32:29.891Z"
   },
   {
    "duration": 7,
    "start_time": "2022-02-26T02:32:29.898Z"
   },
   {
    "duration": 32,
    "start_time": "2022-02-26T02:32:29.906Z"
   },
   {
    "duration": 4,
    "start_time": "2022-02-26T02:32:29.940Z"
   },
   {
    "duration": 857,
    "start_time": "2022-02-26T02:32:29.946Z"
   },
   {
    "duration": 34,
    "start_time": "2022-02-26T02:32:30.805Z"
   },
   {
    "duration": 2,
    "start_time": "2022-02-26T02:32:30.841Z"
   },
   {
    "duration": 10,
    "start_time": "2022-02-26T02:32:30.844Z"
   },
   {
    "duration": 6,
    "start_time": "2022-02-26T02:32:30.856Z"
   },
   {
    "duration": 5,
    "start_time": "2022-02-26T02:32:30.863Z"
   },
   {
    "duration": 8,
    "start_time": "2022-02-26T02:32:30.870Z"
   },
   {
    "duration": 12,
    "start_time": "2022-02-26T02:32:30.880Z"
   },
   {
    "duration": 7,
    "start_time": "2022-02-26T02:32:30.894Z"
   },
   {
    "duration": 11,
    "start_time": "2022-02-26T02:32:30.903Z"
   },
   {
    "duration": 3,
    "start_time": "2022-02-26T02:32:30.932Z"
   },
   {
    "duration": 9,
    "start_time": "2022-02-26T02:32:30.937Z"
   },
   {
    "duration": 13,
    "start_time": "2022-02-26T02:32:30.948Z"
   },
   {
    "duration": 13,
    "start_time": "2022-02-26T02:32:30.963Z"
   },
   {
    "duration": 8,
    "start_time": "2022-02-26T02:32:30.977Z"
   },
   {
    "duration": 11,
    "start_time": "2022-02-26T02:32:30.987Z"
   },
   {
    "duration": 302,
    "start_time": "2022-02-26T02:32:31.000Z"
   },
   {
    "duration": 12,
    "start_time": "2022-02-26T02:32:31.303Z"
   },
   {
    "duration": 26,
    "start_time": "2022-02-26T02:32:31.316Z"
   },
   {
    "duration": 6,
    "start_time": "2022-02-26T02:32:31.343Z"
   },
   {
    "duration": 1584,
    "start_time": "2022-03-06T20:29:56.128Z"
   },
   {
    "duration": 5,
    "start_time": "2022-03-06T20:30:00.758Z"
   },
   {
    "duration": 644,
    "start_time": "2022-03-06T20:30:01.087Z"
   },
   {
    "duration": 66,
    "start_time": "2022-03-06T20:30:01.733Z"
   },
   {
    "duration": 51,
    "start_time": "2022-03-06T20:30:01.911Z"
   },
   {
    "duration": 47,
    "start_time": "2022-03-06T20:30:02.261Z"
   },
   {
    "duration": 22,
    "start_time": "2022-03-06T20:30:02.574Z"
   },
   {
    "duration": 25,
    "start_time": "2022-03-06T20:30:02.931Z"
   },
   {
    "duration": 5,
    "start_time": "2022-03-06T20:30:03.830Z"
   },
   {
    "duration": 103,
    "start_time": "2022-03-06T20:30:03.998Z"
   },
   {
    "duration": 15,
    "start_time": "2022-03-06T20:30:04.178Z"
   },
   {
    "duration": 112,
    "start_time": "2022-03-06T20:30:04.870Z"
   },
   {
    "duration": 59,
    "start_time": "2022-03-06T20:30:05.072Z"
   },
   {
    "duration": 53,
    "start_time": "2022-03-06T20:30:05.251Z"
   },
   {
    "duration": 11,
    "start_time": "2022-03-06T20:30:05.426Z"
   },
   {
    "duration": 3,
    "start_time": "2022-03-06T20:30:06.064Z"
   },
   {
    "duration": 33,
    "start_time": "2022-03-06T20:30:06.368Z"
   },
   {
    "duration": 24,
    "start_time": "2022-03-06T20:30:06.559Z"
   },
   {
    "duration": 22,
    "start_time": "2022-03-06T20:30:06.776Z"
   },
   {
    "duration": 27,
    "start_time": "2022-03-06T20:30:07.202Z"
   },
   {
    "duration": 18,
    "start_time": "2022-03-06T20:30:07.409Z"
   },
   {
    "duration": 23,
    "start_time": "2022-03-06T20:30:07.605Z"
   },
   {
    "duration": 29,
    "start_time": "2022-03-06T20:30:08.021Z"
   },
   {
    "duration": 24,
    "start_time": "2022-03-06T20:30:08.226Z"
   },
   {
    "duration": 29,
    "start_time": "2022-03-06T20:30:08.621Z"
   },
   {
    "duration": 8,
    "start_time": "2022-03-06T20:30:08.933Z"
   },
   {
    "duration": 12,
    "start_time": "2022-03-06T20:30:09.136Z"
   },
   {
    "duration": 22,
    "start_time": "2022-03-06T20:30:09.341Z"
   },
   {
    "duration": 5,
    "start_time": "2022-03-06T20:30:09.694Z"
   },
   {
    "duration": 14,
    "start_time": "2022-03-06T20:30:10.297Z"
   },
   {
    "duration": 11,
    "start_time": "2022-03-06T20:30:11.170Z"
   },
   {
    "duration": 5,
    "start_time": "2022-03-06T20:30:11.379Z"
   },
   {
    "duration": 16,
    "start_time": "2022-03-06T20:30:11.561Z"
   },
   {
    "duration": 7,
    "start_time": "2022-03-06T20:30:11.766Z"
   },
   {
    "duration": 26,
    "start_time": "2022-03-06T20:30:12.110Z"
   },
   {
    "duration": 19,
    "start_time": "2022-03-06T20:30:20.017Z"
   },
   {
    "duration": 14,
    "start_time": "2022-03-06T20:33:26.985Z"
   },
   {
    "duration": 1258,
    "start_time": "2022-03-19T06:33:19.900Z"
   },
   {
    "duration": 4,
    "start_time": "2022-03-19T06:33:21.160Z"
   },
   {
    "duration": 359,
    "start_time": "2022-03-19T06:33:21.165Z"
   },
   {
    "duration": 52,
    "start_time": "2022-03-19T06:33:21.526Z"
   },
   {
    "duration": 57,
    "start_time": "2022-03-19T06:33:21.580Z"
   },
   {
    "duration": 36,
    "start_time": "2022-03-19T06:33:21.639Z"
   },
   {
    "duration": 19,
    "start_time": "2022-03-19T06:33:21.677Z"
   },
   {
    "duration": 49,
    "start_time": "2022-03-19T06:33:21.698Z"
   },
   {
    "duration": 3,
    "start_time": "2022-03-19T06:33:21.749Z"
   },
   {
    "duration": 94,
    "start_time": "2022-03-19T06:33:21.754Z"
   },
   {
    "duration": 11,
    "start_time": "2022-03-19T06:33:21.849Z"
   },
   {
    "duration": 109,
    "start_time": "2022-03-19T06:33:21.862Z"
   },
   {
    "duration": 45,
    "start_time": "2022-03-19T06:33:21.973Z"
   },
   {
    "duration": 41,
    "start_time": "2022-03-19T06:33:22.032Z"
   },
   {
    "duration": 7,
    "start_time": "2022-03-19T06:33:22.075Z"
   },
   {
    "duration": 2,
    "start_time": "2022-03-19T06:33:22.084Z"
   },
   {
    "duration": 47,
    "start_time": "2022-03-19T06:33:22.088Z"
   },
   {
    "duration": 17,
    "start_time": "2022-03-19T06:33:22.136Z"
   },
   {
    "duration": 14,
    "start_time": "2022-03-19T06:33:22.154Z"
   },
   {
    "duration": 19,
    "start_time": "2022-03-19T06:33:22.170Z"
   },
   {
    "duration": 16,
    "start_time": "2022-03-19T06:33:22.190Z"
   },
   {
    "duration": 39,
    "start_time": "2022-03-19T06:33:22.208Z"
   },
   {
    "duration": 14,
    "start_time": "2022-03-19T06:33:22.249Z"
   },
   {
    "duration": 13,
    "start_time": "2022-03-19T06:33:22.265Z"
   },
   {
    "duration": 17,
    "start_time": "2022-03-19T06:33:22.279Z"
   },
   {
    "duration": 37,
    "start_time": "2022-03-19T06:33:22.297Z"
   },
   {
    "duration": 10,
    "start_time": "2022-03-19T06:33:22.336Z"
   },
   {
    "duration": 11,
    "start_time": "2022-03-19T06:33:22.347Z"
   },
   {
    "duration": 3,
    "start_time": "2022-03-19T06:33:22.360Z"
   },
   {
    "duration": 8,
    "start_time": "2022-03-19T06:33:22.365Z"
   },
   {
    "duration": 5,
    "start_time": "2022-03-19T06:33:22.375Z"
   },
   {
    "duration": 4,
    "start_time": "2022-03-19T06:33:22.381Z"
   },
   {
    "duration": 47,
    "start_time": "2022-03-19T06:33:22.386Z"
   },
   {
    "duration": 5,
    "start_time": "2022-03-19T06:33:22.434Z"
   },
   {
    "duration": 653,
    "start_time": "2022-03-19T06:33:22.441Z"
   },
   {
    "duration": 26,
    "start_time": "2022-03-19T06:33:23.096Z"
   },
   {
    "duration": 2,
    "start_time": "2022-03-19T06:33:23.134Z"
   },
   {
    "duration": 18,
    "start_time": "2022-03-19T06:33:23.138Z"
   },
   {
    "duration": 4,
    "start_time": "2022-03-19T06:33:23.158Z"
   },
   {
    "duration": 7,
    "start_time": "2022-03-19T06:33:23.164Z"
   },
   {
    "duration": 12,
    "start_time": "2022-03-19T06:33:23.174Z"
   },
   {
    "duration": 8,
    "start_time": "2022-03-19T06:33:23.187Z"
   },
   {
    "duration": 2,
    "start_time": "2022-03-19T06:33:23.197Z"
   },
   {
    "duration": 12,
    "start_time": "2022-03-19T06:33:23.200Z"
   },
   {
    "duration": 4,
    "start_time": "2022-03-19T06:33:23.232Z"
   },
   {
    "duration": 9,
    "start_time": "2022-03-19T06:33:23.237Z"
   },
   {
    "duration": 10,
    "start_time": "2022-03-19T06:33:23.247Z"
   },
   {
    "duration": 7,
    "start_time": "2022-03-19T06:33:23.258Z"
   },
   {
    "duration": 6,
    "start_time": "2022-03-19T06:33:23.267Z"
   },
   {
    "duration": 6,
    "start_time": "2022-03-19T06:33:23.274Z"
   },
   {
    "duration": 232,
    "start_time": "2022-03-19T06:33:23.281Z"
   },
   {
    "duration": 11,
    "start_time": "2022-03-19T06:33:30.515Z"
   },
   {
    "duration": 11,
    "start_time": "2022-03-19T06:33:34.260Z"
   },
   {
    "duration": 6,
    "start_time": "2022-03-19T06:33:42.118Z"
   },
   {
    "duration": 11,
    "start_time": "2022-03-19T06:35:57.770Z"
   },
   {
    "duration": 12,
    "start_time": "2022-03-19T06:35:59.268Z"
   },
   {
    "duration": 6,
    "start_time": "2022-03-19T06:36:08.953Z"
   },
   {
    "duration": 1617,
    "start_time": "2022-03-21T16:02:35.714Z"
   },
   {
    "duration": 4,
    "start_time": "2022-03-21T16:02:37.334Z"
   },
   {
    "duration": 571,
    "start_time": "2022-03-21T16:02:37.340Z"
   },
   {
    "duration": 73,
    "start_time": "2022-03-21T16:02:37.914Z"
   },
   {
    "duration": 64,
    "start_time": "2022-03-21T16:02:37.990Z"
   },
   {
    "duration": 89,
    "start_time": "2022-03-21T16:02:38.056Z"
   },
   {
    "duration": 53,
    "start_time": "2022-03-21T16:02:38.147Z"
   },
   {
    "duration": 34,
    "start_time": "2022-03-21T16:02:38.202Z"
   },
   {
    "duration": 5,
    "start_time": "2022-03-21T16:02:38.238Z"
   },
   {
    "duration": 128,
    "start_time": "2022-03-21T16:02:38.285Z"
   },
   {
    "duration": 17,
    "start_time": "2022-03-21T16:02:38.416Z"
   },
   {
    "duration": 171,
    "start_time": "2022-03-21T16:02:38.435Z"
   },
   {
    "duration": 87,
    "start_time": "2022-03-21T16:02:38.608Z"
   },
   {
    "duration": 64,
    "start_time": "2022-03-21T16:02:38.699Z"
   },
   {
    "duration": 28,
    "start_time": "2022-03-21T16:02:38.765Z"
   },
   {
    "duration": 8,
    "start_time": "2022-03-21T16:02:38.796Z"
   },
   {
    "duration": 43,
    "start_time": "2022-03-21T16:02:38.807Z"
   },
   {
    "duration": 40,
    "start_time": "2022-03-21T16:02:38.853Z"
   },
   {
    "duration": 21,
    "start_time": "2022-03-21T16:02:38.895Z"
   },
   {
    "duration": 27,
    "start_time": "2022-03-21T16:02:38.918Z"
   },
   {
    "duration": 48,
    "start_time": "2022-03-21T16:02:38.947Z"
   },
   {
    "duration": 22,
    "start_time": "2022-03-21T16:02:38.998Z"
   },
   {
    "duration": 23,
    "start_time": "2022-03-21T16:02:39.023Z"
   },
   {
    "duration": 52,
    "start_time": "2022-03-21T16:02:39.048Z"
   },
   {
    "duration": 28,
    "start_time": "2022-03-21T16:02:39.103Z"
   },
   {
    "duration": 9,
    "start_time": "2022-03-21T16:02:39.133Z"
   },
   {
    "duration": 46,
    "start_time": "2022-03-21T16:02:39.145Z"
   },
   {
    "duration": 20,
    "start_time": "2022-03-21T16:02:39.193Z"
   },
   {
    "duration": 10,
    "start_time": "2022-03-21T16:02:54.441Z"
   },
   {
    "duration": 10,
    "start_time": "2022-03-21T16:05:17.839Z"
   },
   {
    "duration": 6,
    "start_time": "2022-03-21T16:06:33.110Z"
   },
   {
    "duration": 10,
    "start_time": "2022-03-21T16:06:42.555Z"
   },
   {
    "duration": 5,
    "start_time": "2022-03-21T16:08:11.547Z"
   },
   {
    "duration": 17,
    "start_time": "2022-03-21T16:08:21.801Z"
   },
   {
    "duration": 51,
    "start_time": "2022-03-21T16:09:15.919Z"
   },
   {
    "duration": 48,
    "start_time": "2022-03-21T16:09:34.855Z"
   },
   {
    "duration": 45,
    "start_time": "2022-03-21T16:09:49.989Z"
   },
   {
    "duration": 29,
    "start_time": "2022-03-21T16:09:58.356Z"
   },
   {
    "duration": 38,
    "start_time": "2022-03-21T16:10:08.812Z"
   },
   {
    "duration": 6,
    "start_time": "2022-03-21T16:10:41.474Z"
   },
   {
    "duration": 57,
    "start_time": "2022-03-21T16:10:57.146Z"
   },
   {
    "duration": 21,
    "start_time": "2022-03-21T16:11:01.727Z"
   },
   {
    "duration": 13,
    "start_time": "2022-03-21T16:42:14.010Z"
   },
   {
    "duration": 12,
    "start_time": "2022-03-21T16:43:23.187Z"
   },
   {
    "duration": 14,
    "start_time": "2022-03-21T16:43:46.074Z"
   },
   {
    "duration": 9,
    "start_time": "2022-03-21T16:43:56.443Z"
   },
   {
    "duration": 15,
    "start_time": "2022-03-21T16:44:03.922Z"
   },
   {
    "duration": 1457,
    "start_time": "2022-03-21T16:44:22.760Z"
   },
   {
    "duration": 4,
    "start_time": "2022-03-21T16:44:24.220Z"
   },
   {
    "duration": 543,
    "start_time": "2022-03-21T16:44:24.226Z"
   },
   {
    "duration": 78,
    "start_time": "2022-03-21T16:44:24.773Z"
   },
   {
    "duration": 68,
    "start_time": "2022-03-21T16:44:24.853Z"
   },
   {
    "duration": 75,
    "start_time": "2022-03-21T16:44:24.923Z"
   },
   {
    "duration": 34,
    "start_time": "2022-03-21T16:44:25.000Z"
   },
   {
    "duration": 71,
    "start_time": "2022-03-21T16:44:25.036Z"
   },
   {
    "duration": 6,
    "start_time": "2022-03-21T16:44:25.109Z"
   },
   {
    "duration": 153,
    "start_time": "2022-03-21T16:44:25.118Z"
   },
   {
    "duration": 19,
    "start_time": "2022-03-21T16:44:25.273Z"
   },
   {
    "duration": 172,
    "start_time": "2022-03-21T16:44:25.294Z"
   },
   {
    "duration": 72,
    "start_time": "2022-03-21T16:44:25.468Z"
   },
   {
    "duration": 82,
    "start_time": "2022-03-21T16:44:25.542Z"
   },
   {
    "duration": 11,
    "start_time": "2022-03-21T16:44:25.626Z"
   },
   {
    "duration": 3,
    "start_time": "2022-03-21T16:44:25.639Z"
   },
   {
    "duration": 66,
    "start_time": "2022-03-21T16:44:25.644Z"
   },
   {
    "duration": 24,
    "start_time": "2022-03-21T16:44:25.712Z"
   },
   {
    "duration": 21,
    "start_time": "2022-03-21T16:44:25.738Z"
   },
   {
    "duration": 45,
    "start_time": "2022-03-21T16:44:25.761Z"
   },
   {
    "duration": 24,
    "start_time": "2022-03-21T16:44:25.809Z"
   },
   {
    "duration": 49,
    "start_time": "2022-03-21T16:44:25.835Z"
   },
   {
    "duration": 27,
    "start_time": "2022-03-21T16:44:25.886Z"
   },
   {
    "duration": 23,
    "start_time": "2022-03-21T16:44:25.916Z"
   },
   {
    "duration": 64,
    "start_time": "2022-03-21T16:44:25.942Z"
   },
   {
    "duration": 7,
    "start_time": "2022-03-21T16:44:26.008Z"
   },
   {
    "duration": 12,
    "start_time": "2022-03-21T16:44:26.017Z"
   },
   {
    "duration": 49,
    "start_time": "2022-03-21T16:44:26.035Z"
   },
   {
    "duration": 12,
    "start_time": "2022-03-21T16:44:26.086Z"
   },
   {
    "duration": 6,
    "start_time": "2022-03-21T16:44:26.100Z"
   },
   {
    "duration": 11,
    "start_time": "2022-03-21T16:44:26.108Z"
   },
   {
    "duration": 16,
    "start_time": "2022-03-21T16:44:26.121Z"
   },
   {
    "duration": 46,
    "start_time": "2022-03-21T16:44:26.139Z"
   },
   {
    "duration": 6,
    "start_time": "2022-03-21T16:44:26.188Z"
   },
   {
    "duration": 17,
    "start_time": "2022-03-21T16:44:26.197Z"
   },
   {
    "duration": 8,
    "start_time": "2022-03-21T16:44:26.217Z"
   },
   {
    "duration": 1226,
    "start_time": "2022-03-21T16:44:26.227Z"
   },
   {
    "duration": 52,
    "start_time": "2022-03-21T16:44:27.456Z"
   },
   {
    "duration": 4,
    "start_time": "2022-03-21T16:44:27.511Z"
   },
   {
    "duration": 14,
    "start_time": "2022-03-21T16:44:27.518Z"
   },
   {
    "duration": 7,
    "start_time": "2022-03-21T16:44:27.534Z"
   },
   {
    "duration": 42,
    "start_time": "2022-03-21T16:44:27.544Z"
   },
   {
    "duration": 9,
    "start_time": "2022-03-21T16:44:27.589Z"
   },
   {
    "duration": 14,
    "start_time": "2022-03-21T16:44:27.601Z"
   },
   {
    "duration": 4,
    "start_time": "2022-03-21T16:44:27.617Z"
   },
   {
    "duration": 13,
    "start_time": "2022-03-21T16:44:27.623Z"
   },
   {
    "duration": 45,
    "start_time": "2022-03-21T16:44:27.639Z"
   },
   {
    "duration": 7,
    "start_time": "2022-03-21T16:44:27.686Z"
   },
   {
    "duration": 12,
    "start_time": "2022-03-21T16:44:27.695Z"
   },
   {
    "duration": 10,
    "start_time": "2022-03-21T16:44:27.710Z"
   },
   {
    "duration": 9,
    "start_time": "2022-03-21T16:44:27.722Z"
   },
   {
    "duration": 57,
    "start_time": "2022-03-21T16:44:27.734Z"
   },
   {
    "duration": 397,
    "start_time": "2022-03-21T16:44:27.793Z"
   },
   {
    "duration": 17,
    "start_time": "2022-03-21T16:44:28.192Z"
   },
   {
    "duration": 27,
    "start_time": "2022-03-21T16:44:28.212Z"
   },
   {
    "duration": 9,
    "start_time": "2022-03-21T16:44:28.242Z"
   },
   {
    "duration": 16,
    "start_time": "2022-03-21T16:45:10.824Z"
   },
   {
    "duration": 10,
    "start_time": "2022-03-21T16:45:24.400Z"
   },
   {
    "duration": 5,
    "start_time": "2022-03-21T16:45:42.599Z"
   },
   {
    "duration": 10,
    "start_time": "2022-03-21T16:45:59.749Z"
   },
   {
    "duration": 27,
    "start_time": "2022-03-21T16:46:11.036Z"
   },
   {
    "duration": 1399,
    "start_time": "2022-03-21T16:47:18.113Z"
   },
   {
    "duration": 4,
    "start_time": "2022-03-21T16:47:19.515Z"
   },
   {
    "duration": 551,
    "start_time": "2022-03-21T16:47:19.521Z"
   },
   {
    "duration": 75,
    "start_time": "2022-03-21T16:47:20.074Z"
   },
   {
    "duration": 71,
    "start_time": "2022-03-21T16:47:20.154Z"
   },
   {
    "duration": 79,
    "start_time": "2022-03-21T16:47:20.228Z"
   },
   {
    "duration": 32,
    "start_time": "2022-03-21T16:47:20.309Z"
   },
   {
    "duration": 74,
    "start_time": "2022-03-21T16:47:20.344Z"
   },
   {
    "duration": 6,
    "start_time": "2022-03-21T16:47:20.421Z"
   },
   {
    "duration": 161,
    "start_time": "2022-03-21T16:47:20.430Z"
   },
   {
    "duration": 16,
    "start_time": "2022-03-21T16:47:20.593Z"
   },
   {
    "duration": 172,
    "start_time": "2022-03-21T16:47:20.611Z"
   },
   {
    "duration": 69,
    "start_time": "2022-03-21T16:47:20.786Z"
   },
   {
    "duration": 82,
    "start_time": "2022-03-21T16:47:20.860Z"
   },
   {
    "duration": 11,
    "start_time": "2022-03-21T16:47:20.944Z"
   },
   {
    "duration": 27,
    "start_time": "2022-03-21T16:47:20.957Z"
   },
   {
    "duration": 39,
    "start_time": "2022-03-21T16:47:20.988Z"
   },
   {
    "duration": 42,
    "start_time": "2022-03-21T16:47:21.033Z"
   },
   {
    "duration": 38,
    "start_time": "2022-03-21T16:47:21.086Z"
   },
   {
    "duration": 27,
    "start_time": "2022-03-21T16:47:21.126Z"
   },
   {
    "duration": 33,
    "start_time": "2022-03-21T16:47:21.156Z"
   },
   {
    "duration": 23,
    "start_time": "2022-03-21T16:47:21.191Z"
   },
   {
    "duration": 23,
    "start_time": "2022-03-21T16:47:21.216Z"
   },
   {
    "duration": 53,
    "start_time": "2022-03-21T16:47:21.241Z"
   },
   {
    "duration": 29,
    "start_time": "2022-03-21T16:47:21.296Z"
   },
   {
    "duration": 31,
    "start_time": "2022-03-21T16:47:21.327Z"
   },
   {
    "duration": 11,
    "start_time": "2022-03-21T16:47:21.361Z"
   },
   {
    "duration": 18,
    "start_time": "2022-03-21T16:47:21.383Z"
   },
   {
    "duration": 14,
    "start_time": "2022-03-21T16:47:21.403Z"
   },
   {
    "duration": 19,
    "start_time": "2022-03-21T16:47:21.420Z"
   },
   {
    "duration": 14,
    "start_time": "2022-03-21T16:47:21.441Z"
   },
   {
    "duration": 35,
    "start_time": "2022-03-21T16:47:21.457Z"
   },
   {
    "duration": 7,
    "start_time": "2022-03-21T16:47:21.495Z"
   },
   {
    "duration": 6,
    "start_time": "2022-03-21T16:47:21.505Z"
   },
   {
    "duration": 22,
    "start_time": "2022-03-21T16:47:21.513Z"
   },
   {
    "duration": 15,
    "start_time": "2022-03-21T16:47:21.538Z"
   },
   {
    "duration": 1242,
    "start_time": "2022-03-21T16:47:21.555Z"
   },
   {
    "duration": 40,
    "start_time": "2022-03-21T16:47:22.799Z"
   },
   {
    "duration": 5,
    "start_time": "2022-03-21T16:47:22.841Z"
   },
   {
    "duration": 40,
    "start_time": "2022-03-21T16:47:22.849Z"
   },
   {
    "duration": 9,
    "start_time": "2022-03-21T16:47:22.895Z"
   },
   {
    "duration": 12,
    "start_time": "2022-03-21T16:47:22.907Z"
   },
   {
    "duration": 28,
    "start_time": "2022-03-21T16:47:22.921Z"
   },
   {
    "duration": 23,
    "start_time": "2022-03-21T16:47:22.951Z"
   },
   {
    "duration": 4,
    "start_time": "2022-03-21T16:47:22.984Z"
   },
   {
    "duration": 17,
    "start_time": "2022-03-21T16:47:22.991Z"
   },
   {
    "duration": 11,
    "start_time": "2022-03-21T16:47:23.011Z"
   },
   {
    "duration": 8,
    "start_time": "2022-03-21T16:47:23.025Z"
   },
   {
    "duration": 8,
    "start_time": "2022-03-21T16:47:23.036Z"
   },
   {
    "duration": 45,
    "start_time": "2022-03-21T16:47:23.047Z"
   },
   {
    "duration": 17,
    "start_time": "2022-03-21T16:47:23.094Z"
   },
   {
    "duration": 18,
    "start_time": "2022-03-21T16:47:23.114Z"
   },
   {
    "duration": 527,
    "start_time": "2022-03-21T16:47:23.134Z"
   },
   {
    "duration": 26,
    "start_time": "2022-03-21T16:47:23.663Z"
   },
   {
    "duration": 18,
    "start_time": "2022-03-21T16:47:23.691Z"
   },
   {
    "duration": 9,
    "start_time": "2022-03-21T16:47:23.712Z"
   },
   {
    "duration": 3802,
    "start_time": "2022-03-21T16:55:37.131Z"
   },
   {
    "duration": 10,
    "start_time": "2022-03-21T16:56:09.804Z"
   },
   {
    "duration": 1591,
    "start_time": "2022-03-21T16:56:21.224Z"
   },
   {
    "duration": 5,
    "start_time": "2022-03-21T16:56:22.818Z"
   },
   {
    "duration": 542,
    "start_time": "2022-03-21T16:56:22.826Z"
   },
   {
    "duration": 71,
    "start_time": "2022-03-21T16:56:23.371Z"
   },
   {
    "duration": 93,
    "start_time": "2022-03-21T16:56:23.444Z"
   },
   {
    "duration": 68,
    "start_time": "2022-03-21T16:56:23.539Z"
   },
   {
    "duration": 29,
    "start_time": "2022-03-21T16:56:23.609Z"
   },
   {
    "duration": 65,
    "start_time": "2022-03-21T16:56:23.641Z"
   },
   {
    "duration": 6,
    "start_time": "2022-03-21T16:56:23.708Z"
   },
   {
    "duration": 145,
    "start_time": "2022-03-21T16:56:23.717Z"
   },
   {
    "duration": 25,
    "start_time": "2022-03-21T16:56:23.864Z"
   },
   {
    "duration": 158,
    "start_time": "2022-03-21T16:56:23.891Z"
   },
   {
    "duration": 81,
    "start_time": "2022-03-21T16:56:24.051Z"
   },
   {
    "duration": 79,
    "start_time": "2022-03-21T16:56:24.134Z"
   },
   {
    "duration": 11,
    "start_time": "2022-03-21T16:56:24.216Z"
   },
   {
    "duration": 3,
    "start_time": "2022-03-21T16:56:24.230Z"
   },
   {
    "duration": 66,
    "start_time": "2022-03-21T16:56:24.235Z"
   },
   {
    "duration": 24,
    "start_time": "2022-03-21T16:56:24.303Z"
   },
   {
    "duration": 21,
    "start_time": "2022-03-21T16:56:24.329Z"
   },
   {
    "duration": 46,
    "start_time": "2022-03-21T16:56:24.353Z"
   },
   {
    "duration": 26,
    "start_time": "2022-03-21T16:56:24.402Z"
   },
   {
    "duration": 24,
    "start_time": "2022-03-21T16:56:24.431Z"
   },
   {
    "duration": 47,
    "start_time": "2022-03-21T16:56:24.457Z"
   },
   {
    "duration": 22,
    "start_time": "2022-03-21T16:56:24.506Z"
   },
   {
    "duration": 57,
    "start_time": "2022-03-21T16:56:24.530Z"
   },
   {
    "duration": 7,
    "start_time": "2022-03-21T16:56:24.589Z"
   },
   {
    "duration": 18,
    "start_time": "2022-03-21T16:56:24.599Z"
   },
   {
    "duration": 18,
    "start_time": "2022-03-21T16:56:24.624Z"
   },
   {
    "duration": 40,
    "start_time": "2022-03-21T16:56:24.645Z"
   },
   {
    "duration": 7,
    "start_time": "2022-03-21T16:56:24.687Z"
   },
   {
    "duration": 9,
    "start_time": "2022-03-21T16:56:24.697Z"
   },
   {
    "duration": 7,
    "start_time": "2022-03-21T16:56:24.709Z"
   },
   {
    "duration": 23,
    "start_time": "2022-03-21T16:56:24.718Z"
   },
   {
    "duration": 8,
    "start_time": "2022-03-21T16:56:24.744Z"
   },
   {
    "duration": 6,
    "start_time": "2022-03-21T16:56:24.785Z"
   },
   {
    "duration": 21,
    "start_time": "2022-03-21T16:56:24.793Z"
   },
   {
    "duration": 12,
    "start_time": "2022-03-21T16:56:24.816Z"
   },
   {
    "duration": 1180,
    "start_time": "2022-03-21T16:56:24.830Z"
   },
   {
    "duration": 39,
    "start_time": "2022-03-21T16:56:26.013Z"
   },
   {
    "duration": 4,
    "start_time": "2022-03-21T16:56:26.054Z"
   },
   {
    "duration": 13,
    "start_time": "2022-03-21T16:56:26.084Z"
   },
   {
    "duration": 6,
    "start_time": "2022-03-21T16:56:26.100Z"
   },
   {
    "duration": 9,
    "start_time": "2022-03-21T16:56:26.108Z"
   },
   {
    "duration": 10,
    "start_time": "2022-03-21T16:56:26.120Z"
   },
   {
    "duration": 52,
    "start_time": "2022-03-21T16:56:26.133Z"
   },
   {
    "duration": 4,
    "start_time": "2022-03-21T16:56:26.188Z"
   },
   {
    "duration": 16,
    "start_time": "2022-03-21T16:56:26.194Z"
   },
   {
    "duration": 8,
    "start_time": "2022-03-21T16:56:26.212Z"
   },
   {
    "duration": 9,
    "start_time": "2022-03-21T16:56:26.222Z"
   },
   {
    "duration": 8,
    "start_time": "2022-03-21T16:56:26.233Z"
   },
   {
    "duration": 11,
    "start_time": "2022-03-21T16:56:26.285Z"
   },
   {
    "duration": 12,
    "start_time": "2022-03-21T16:56:26.298Z"
   },
   {
    "duration": 12,
    "start_time": "2022-03-21T16:56:26.312Z"
   },
   {
    "duration": 519,
    "start_time": "2022-03-21T16:56:26.327Z"
   },
   {
    "duration": 16,
    "start_time": "2022-03-21T16:56:26.849Z"
   },
   {
    "duration": 19,
    "start_time": "2022-03-21T16:56:26.884Z"
   },
   {
    "duration": 8,
    "start_time": "2022-03-21T16:56:26.906Z"
   },
   {
    "duration": 10,
    "start_time": "2022-03-21T16:56:49.540Z"
   },
   {
    "duration": 5,
    "start_time": "2022-03-21T16:57:05.899Z"
   },
   {
    "duration": 10,
    "start_time": "2022-03-21T16:57:16.708Z"
   },
   {
    "duration": 1844,
    "start_time": "2022-03-21T16:57:24.862Z"
   },
   {
    "duration": 4,
    "start_time": "2022-03-21T16:57:26.710Z"
   },
   {
    "duration": 535,
    "start_time": "2022-03-21T16:57:26.716Z"
   },
   {
    "duration": 76,
    "start_time": "2022-03-21T16:57:27.254Z"
   },
   {
    "duration": 79,
    "start_time": "2022-03-21T16:57:27.333Z"
   },
   {
    "duration": 74,
    "start_time": "2022-03-21T16:57:27.415Z"
   },
   {
    "duration": 32,
    "start_time": "2022-03-21T16:57:27.491Z"
   },
   {
    "duration": 69,
    "start_time": "2022-03-21T16:57:27.526Z"
   },
   {
    "duration": 5,
    "start_time": "2022-03-21T16:57:27.598Z"
   },
   {
    "duration": 141,
    "start_time": "2022-03-21T16:57:27.609Z"
   },
   {
    "duration": 34,
    "start_time": "2022-03-21T16:57:27.752Z"
   },
   {
    "duration": 164,
    "start_time": "2022-03-21T16:57:27.789Z"
   },
   {
    "duration": 75,
    "start_time": "2022-03-21T16:57:27.956Z"
   },
   {
    "duration": 83,
    "start_time": "2022-03-21T16:57:28.034Z"
   },
   {
    "duration": 9,
    "start_time": "2022-03-21T16:57:28.119Z"
   },
   {
    "duration": 4,
    "start_time": "2022-03-21T16:57:28.130Z"
   },
   {
    "duration": 67,
    "start_time": "2022-03-21T16:57:28.136Z"
   },
   {
    "duration": 23,
    "start_time": "2022-03-21T16:57:28.205Z"
   },
   {
    "duration": 20,
    "start_time": "2022-03-21T16:57:28.231Z"
   },
   {
    "duration": 51,
    "start_time": "2022-03-21T16:57:28.253Z"
   },
   {
    "duration": 26,
    "start_time": "2022-03-21T16:57:28.306Z"
   },
   {
    "duration": 49,
    "start_time": "2022-03-21T16:57:28.335Z"
   },
   {
    "duration": 24,
    "start_time": "2022-03-21T16:57:28.386Z"
   },
   {
    "duration": 23,
    "start_time": "2022-03-21T16:57:28.412Z"
   },
   {
    "duration": 63,
    "start_time": "2022-03-21T16:57:28.437Z"
   },
   {
    "duration": 7,
    "start_time": "2022-03-21T16:57:28.502Z"
   },
   {
    "duration": 16,
    "start_time": "2022-03-21T16:57:28.511Z"
   },
   {
    "duration": 16,
    "start_time": "2022-03-21T16:57:28.533Z"
   },
   {
    "duration": 37,
    "start_time": "2022-03-21T16:57:28.552Z"
   },
   {
    "duration": 8,
    "start_time": "2022-03-21T16:57:28.592Z"
   },
   {
    "duration": 11,
    "start_time": "2022-03-21T16:57:28.603Z"
   },
   {
    "duration": 8,
    "start_time": "2022-03-21T16:57:28.617Z"
   },
   {
    "duration": 58,
    "start_time": "2022-03-21T16:57:28.627Z"
   },
   {
    "duration": 10,
    "start_time": "2022-03-21T16:57:28.687Z"
   },
   {
    "duration": 7,
    "start_time": "2022-03-21T16:57:28.699Z"
   },
   {
    "duration": 19,
    "start_time": "2022-03-21T16:57:28.708Z"
   },
   {
    "duration": 10,
    "start_time": "2022-03-21T16:57:28.730Z"
   },
   {
    "duration": 1178,
    "start_time": "2022-03-21T16:57:28.743Z"
   },
   {
    "duration": 68,
    "start_time": "2022-03-21T16:57:29.924Z"
   },
   {
    "duration": 3,
    "start_time": "2022-03-21T16:57:29.995Z"
   },
   {
    "duration": 27,
    "start_time": "2022-03-21T16:57:30.001Z"
   },
   {
    "duration": 18,
    "start_time": "2022-03-21T16:57:30.031Z"
   },
   {
    "duration": 16,
    "start_time": "2022-03-21T16:57:30.052Z"
   },
   {
    "duration": 17,
    "start_time": "2022-03-21T16:57:30.071Z"
   },
   {
    "duration": 15,
    "start_time": "2022-03-21T16:57:30.091Z"
   },
   {
    "duration": 4,
    "start_time": "2022-03-21T16:57:30.109Z"
   },
   {
    "duration": 26,
    "start_time": "2022-03-21T16:57:30.116Z"
   },
   {
    "duration": 19,
    "start_time": "2022-03-21T16:57:30.145Z"
   },
   {
    "duration": 7,
    "start_time": "2022-03-21T16:57:30.185Z"
   },
   {
    "duration": 10,
    "start_time": "2022-03-21T16:57:30.196Z"
   },
   {
    "duration": 16,
    "start_time": "2022-03-21T16:57:30.208Z"
   },
   {
    "duration": 18,
    "start_time": "2022-03-21T16:57:30.227Z"
   },
   {
    "duration": 45,
    "start_time": "2022-03-21T16:57:30.247Z"
   },
   {
    "duration": 546,
    "start_time": "2022-03-21T16:57:30.295Z"
   },
   {
    "duration": 22,
    "start_time": "2022-03-21T16:57:30.844Z"
   },
   {
    "duration": 24,
    "start_time": "2022-03-21T16:57:30.885Z"
   },
   {
    "duration": 9,
    "start_time": "2022-03-21T16:57:30.912Z"
   },
   {
    "duration": 1430,
    "start_time": "2022-03-21T16:59:52.480Z"
   },
   {
    "duration": 4,
    "start_time": "2022-03-21T16:59:53.913Z"
   },
   {
    "duration": 534,
    "start_time": "2022-03-21T16:59:53.919Z"
   },
   {
    "duration": 108,
    "start_time": "2022-03-21T16:59:54.456Z"
   },
   {
    "duration": 94,
    "start_time": "2022-03-21T16:59:54.566Z"
   },
   {
    "duration": 69,
    "start_time": "2022-03-21T16:59:54.663Z"
   },
   {
    "duration": 59,
    "start_time": "2022-03-21T16:59:54.734Z"
   },
   {
    "duration": 32,
    "start_time": "2022-03-21T16:59:54.795Z"
   },
   {
    "duration": 6,
    "start_time": "2022-03-21T16:59:54.829Z"
   },
   {
    "duration": 257,
    "start_time": "2022-03-21T16:59:54.839Z"
   },
   {
    "duration": 17,
    "start_time": "2022-03-21T16:59:55.098Z"
   },
   {
    "duration": 160,
    "start_time": "2022-03-21T16:59:55.117Z"
   },
   {
    "duration": 72,
    "start_time": "2022-03-21T16:59:55.283Z"
   },
   {
    "duration": 80,
    "start_time": "2022-03-21T16:59:55.357Z"
   },
   {
    "duration": 11,
    "start_time": "2022-03-21T16:59:55.440Z"
   },
   {
    "duration": 33,
    "start_time": "2022-03-21T16:59:55.454Z"
   },
   {
    "duration": 59,
    "start_time": "2022-03-21T16:59:55.489Z"
   },
   {
    "duration": 24,
    "start_time": "2022-03-21T16:59:55.550Z"
   },
   {
    "duration": 25,
    "start_time": "2022-03-21T16:59:55.576Z"
   },
   {
    "duration": 30,
    "start_time": "2022-03-21T16:59:55.604Z"
   },
   {
    "duration": 24,
    "start_time": "2022-03-21T16:59:55.636Z"
   },
   {
    "duration": 23,
    "start_time": "2022-03-21T16:59:55.683Z"
   },
   {
    "duration": 23,
    "start_time": "2022-03-21T16:59:55.708Z"
   },
   {
    "duration": 32,
    "start_time": "2022-03-21T16:59:55.734Z"
   },
   {
    "duration": 27,
    "start_time": "2022-03-21T16:59:55.785Z"
   },
   {
    "duration": 7,
    "start_time": "2022-03-21T16:59:55.815Z"
   },
   {
    "duration": 28,
    "start_time": "2022-03-21T16:59:55.824Z"
   },
   {
    "duration": 37,
    "start_time": "2022-03-21T16:59:55.860Z"
   },
   {
    "duration": 37,
    "start_time": "2022-03-21T16:59:55.900Z"
   },
   {
    "duration": 23,
    "start_time": "2022-03-21T16:59:55.940Z"
   },
   {
    "duration": 31,
    "start_time": "2022-03-21T16:59:55.965Z"
   },
   {
    "duration": 38,
    "start_time": "2022-03-21T16:59:55.999Z"
   },
   {
    "duration": 32,
    "start_time": "2022-03-21T16:59:56.039Z"
   },
   {
    "duration": 9,
    "start_time": "2022-03-21T16:59:56.074Z"
   },
   {
    "duration": 21,
    "start_time": "2022-03-21T16:59:56.086Z"
   },
   {
    "duration": 35,
    "start_time": "2022-03-21T16:59:56.109Z"
   },
   {
    "duration": 28,
    "start_time": "2022-03-21T16:59:56.147Z"
   },
   {
    "duration": 1723,
    "start_time": "2022-03-21T16:59:56.178Z"
   },
   {
    "duration": 51,
    "start_time": "2022-03-21T16:59:57.904Z"
   },
   {
    "duration": 26,
    "start_time": "2022-03-21T16:59:57.958Z"
   },
   {
    "duration": 18,
    "start_time": "2022-03-21T16:59:57.987Z"
   },
   {
    "duration": 7,
    "start_time": "2022-03-21T16:59:58.007Z"
   },
   {
    "duration": 10,
    "start_time": "2022-03-21T16:59:58.016Z"
   },
   {
    "duration": 10,
    "start_time": "2022-03-21T16:59:58.028Z"
   },
   {
    "duration": 49,
    "start_time": "2022-03-21T16:59:58.040Z"
   },
   {
    "duration": 4,
    "start_time": "2022-03-21T16:59:58.092Z"
   },
   {
    "duration": 14,
    "start_time": "2022-03-21T16:59:58.098Z"
   },
   {
    "duration": 12,
    "start_time": "2022-03-21T16:59:58.114Z"
   },
   {
    "duration": 8,
    "start_time": "2022-03-21T16:59:58.129Z"
   },
   {
    "duration": 50,
    "start_time": "2022-03-21T16:59:58.140Z"
   },
   {
    "duration": 13,
    "start_time": "2022-03-21T16:59:58.192Z"
   },
   {
    "duration": 9,
    "start_time": "2022-03-21T16:59:58.207Z"
   },
   {
    "duration": 8,
    "start_time": "2022-03-21T16:59:58.218Z"
   },
   {
    "duration": 414,
    "start_time": "2022-03-21T16:59:58.228Z"
   },
   {
    "duration": 19,
    "start_time": "2022-03-21T16:59:58.645Z"
   },
   {
    "duration": 22,
    "start_time": "2022-03-21T16:59:58.685Z"
   },
   {
    "duration": 9,
    "start_time": "2022-03-21T16:59:58.709Z"
   },
   {
    "duration": 909,
    "start_time": "2022-03-21T17:05:44.884Z"
   }
  ],
  "kernelspec": {
   "display_name": "Python 3 (ipykernel)",
   "language": "python",
   "name": "python3"
  },
  "language_info": {
   "codemirror_mode": {
    "name": "ipython",
    "version": 3
   },
   "file_extension": ".py",
   "mimetype": "text/x-python",
   "name": "python",
   "nbconvert_exporter": "python",
   "pygments_lexer": "ipython3",
   "version": "3.9.5"
  },
  "toc": {
   "base_numbering": 1,
   "nav_menu": {
    "height": "357px",
    "width": "357px"
   },
   "number_sections": true,
   "sideBar": true,
   "skip_h1_title": true,
   "title_cell": "Table of Contents",
   "title_sidebar": "Contents",
   "toc_cell": false,
   "toc_position": {},
   "toc_section_display": true,
   "toc_window_display": false
  }
 },
 "nbformat": 4,
 "nbformat_minor": 2
}
