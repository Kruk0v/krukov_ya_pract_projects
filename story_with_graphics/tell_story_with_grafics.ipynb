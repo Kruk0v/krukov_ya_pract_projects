{
 "cells": [
  {
   "cell_type": "markdown",
   "metadata": {
    "id": "TYe4IBxYD4XP"
   },
   "source": [
    "<div style=\"border:solid green 2px; padding: 20px\">\n",
    "\n",
    "<b>Привет, Юрий! Поздравляю с выполнением очередного проекта!</b>\n",
    "\n",
    "Меня зовут Петр Раздобреев и я буду проверять твою работу. Попробую помочь сделать тебе её еще лучше! В Практикуме принято общени на ты, но если это дискомфортно, то сообщи об этом)\n",
    "\n",
    "Ниже ты найдешь мои комментарии - пожалуйста, не перемещай, не изменяй и не удаляй их. Я буду использовать цветовую разметку:\n",
    "\n",
    "<div class=\"alert alert-danger\">\n",
    "<b>Комментарий ревьюера:</b>☁️Так выделены самые важные замечания. Без их отработки проект не будет принят. </div>\n",
    "\n",
    "<div class=\"alert alert-warning\">\n",
    "<b>Комментарий ревьюера:</b>⛅️ Так выделены небольшие замечания.Такие замечания в проекте допустимы, это пространство для улучшений в будущем.\n",
    "</div>\n",
    "\n",
    "<div class=\"alert alert-success\">\n",
    "<b>Комментарий ревьюера:</b>☀️Так я выделяю успешные идеи.</div>\n",
    "\n",
    "Давай работать над проектом в диалоге: если ты что-то меняешь в проекте или отвечаешь на мои комменатри — пиши об этом. Мне будет легче отследить изменения, если ты выделишь свои комментарии:\n",
    "<div class=\"alert alert-info\"> <b>Комментарий студента:</b> Например, вот так.</div>\n",
    "\n",
    "Всё это поможет выполнить повторную проверку твоего проекта оперативнее. \n",
    "    \n",
    "\n"
   ]
  },
  {
   "cell_type": "markdown",
   "metadata": {
    "id": "ziYD_Or0EGXu"
   },
   "source": [
    "<div class=\"alert alert-info\"> <b>Комментарий студента:</b> Петр, привет! Спасибо за молниеносную проверку проекта.</div>"
   ]
  },
  {
   "cell_type": "markdown",
   "metadata": {},
   "source": [
    "<div class=\"alert alert-success\">\n",
    "<b>Комментарий ревьюера v2:</b>☀️\n",
    "    \n",
    "Здравствуй, Юрий, а теперь ревьюеры за проекты бьются, так что да, молниеносные первичные проверки часто могут происходить)  \n",
    "</div>\n"
   ]
  },
  {
   "cell_type": "markdown",
   "metadata": {
    "id": "wLIaqjunyEfl"
   },
   "source": [
    "ссылка на датасет, для локальной работы\n",
    "\n",
    "https://drive.google.com/file/d/134-_kv2lJCDp_maogyyJZU7W9strjws5/view?usp=sharing\n"
   ]
  },
  {
   "cell_type": "code",
   "execution_count": 269,
   "metadata": {
    "colab": {
     "base_uri": "https://localhost:8080/"
    },
    "id": "GfrDWntjyRGO",
    "outputId": "09179790-5b6f-4a48-bc76-38dde37a0f85"
   },
   "outputs": [
    {
     "name": "stdout",
     "output_type": "stream",
     "text": [
      "/usr/local/lib/python3.7/dist-packages/gdown/cli.py:131: FutureWarning: Option `--id` was deprecated in version 4.3.1 and will be removed in 5.0. You don't need to pass it anymore to use a file ID.\n",
      "  category=FutureWarning,\n",
      "Downloading...\n",
      "From: https://drive.google.com/uc?id=134-_kv2lJCDp_maogyyJZU7W9strjws5\n",
      "To: /content/rest_data.csv\n",
      "100% 2.28M/2.28M [00:00<00:00, 157MB/s]\n"
     ]
    }
   ],
   "source": [
    "# загрузка файла для Колаба\n",
    "\n",
    "'''! gdown --id 134-_kv2lJCDp_maogyyJZU7W9strjws5'''"
   ]
  },
  {
   "cell_type": "markdown",
   "metadata": {
    "id": "OkSJoXwVz1Vc"
   },
   "source": [
    "# Как рассказать историю с помощью данных"
   ]
  },
  {
   "cell_type": "markdown",
   "metadata": {
    "id": "xBxeug4Y4Qwy"
   },
   "source": [
    "## Введение\n",
    "\n",
    "Мы решили открыть небольшое кафе в Москве. Оно оригинальное — гостей должны обслуживать роботы. \n",
    "\n",
    "Проект многообещающий, но дорогой. Вместе с партнёрами мы решились обратиться к инвесторам. Их интересует текущее положение дел на рынке — сможем ли мы снискать популярность на долгое время, когда все зеваки насмотрятся на роботов-официантов?\n",
    "\n",
    "У нас есть база данных объектов общественного питания Москвы. Наша задача — найти закономерности успешности заведений в заисимости от их типа, размера и местоположения. \n",
    "\n"
   ]
  },
  {
   "cell_type": "markdown",
   "metadata": {
    "id": "th9XaVGCzxCt"
   },
   "source": [
    "## Импорт библиотек"
   ]
  },
  {
   "cell_type": "code",
   "execution_count": 270,
   "metadata": {
    "id": "K46uKoDIyiLT"
   },
   "outputs": [],
   "source": [
    "# импортируем библиотеки numpy, pandas и модуль scipy.stats библиотеки scipy\n",
    "import numpy as np\n",
    "import pandas as pd\n",
    "import scipy.stats as stats\n",
    "\n",
    "# импортируем библиотеку datetime для работы с датами\n",
    "import datetime as dt\n",
    "from datetime import datetime, date\n",
    "from datetime import timedelta\n",
    "\n",
    "# Задаем некоторые опции библиотеки pandas, которые\n",
    "# настраивают вывод\n",
    "pd.set_option('display.max_columns', 12)\n",
    "pd.set_option('display.max_rows', 15)\n",
    "pd.options.display.max_colwidth = 100\n",
    "\n",
    "# импортируем matplotlib и seaborn для построения графиков\n",
    "import matplotlib.pyplot as plt\n",
    "%matplotlib inline\n",
    "import seaborn as sns"
   ]
  },
  {
   "cell_type": "markdown",
   "metadata": {
    "id": "VUx_iI7ezvwc"
   },
   "source": [
    "## Загрузка данных"
   ]
  },
  {
   "cell_type": "code",
   "execution_count": 271,
   "metadata": {
    "id": "Ux0XiKumz_N7"
   },
   "outputs": [],
   "source": [
    "try:\n",
    "\n",
    "  df = pd.read_csv('/content/rest_data.csv')\n",
    "\n",
    "except:\n",
    "\n",
    "  df = pd.read_csv('/datasets/rest_data.csv')"
   ]
  },
  {
   "cell_type": "markdown",
   "metadata": {
    "id": "dJ_EqpZbtG-C"
   },
   "source": [
    "## Знакомство с данными"
   ]
  },
  {
   "cell_type": "markdown",
   "metadata": {
    "id": "4GUfYJqh0GSd"
   },
   "source": [
    "### Первый взгляд"
   ]
  },
  {
   "cell_type": "code",
   "execution_count": 272,
   "metadata": {
    "colab": {
     "base_uri": "https://localhost:8080/",
     "height": 206
    },
    "id": "-IH1qtCYusGR",
    "outputId": "902414b0-a2c1-4a92-897c-65e74a5a9525"
   },
   "outputs": [
    {
     "data": {
      "text/html": [
       "\n",
       "  <div id=\"df-9b712a84-d174-4391-a118-299e55482555\">\n",
       "    <div class=\"colab-df-container\">\n",
       "      <div>\n",
       "<style scoped>\n",
       "    .dataframe tbody tr th:only-of-type {\n",
       "        vertical-align: middle;\n",
       "    }\n",
       "\n",
       "    .dataframe tbody tr th {\n",
       "        vertical-align: top;\n",
       "    }\n",
       "\n",
       "    .dataframe thead th {\n",
       "        text-align: right;\n",
       "    }\n",
       "</style>\n",
       "<table border=\"1\" class=\"dataframe\">\n",
       "  <thead>\n",
       "    <tr style=\"text-align: right;\">\n",
       "      <th></th>\n",
       "      <th>id</th>\n",
       "      <th>object_name</th>\n",
       "      <th>chain</th>\n",
       "      <th>object_type</th>\n",
       "      <th>address</th>\n",
       "      <th>number</th>\n",
       "    </tr>\n",
       "  </thead>\n",
       "  <tbody>\n",
       "    <tr>\n",
       "      <th>0</th>\n",
       "      <td>151635</td>\n",
       "      <td>СМЕТАНА</td>\n",
       "      <td>нет</td>\n",
       "      <td>кафе</td>\n",
       "      <td>город Москва, улица Егора Абакумова, дом 9</td>\n",
       "      <td>48</td>\n",
       "    </tr>\n",
       "    <tr>\n",
       "      <th>1</th>\n",
       "      <td>77874</td>\n",
       "      <td>Родник</td>\n",
       "      <td>нет</td>\n",
       "      <td>кафе</td>\n",
       "      <td>город Москва, улица Талалихина, дом 2/1, корпус 1</td>\n",
       "      <td>35</td>\n",
       "    </tr>\n",
       "    <tr>\n",
       "      <th>2</th>\n",
       "      <td>24309</td>\n",
       "      <td>Кафе «Академия»</td>\n",
       "      <td>нет</td>\n",
       "      <td>кафе</td>\n",
       "      <td>город Москва, Абельмановская улица, дом 6</td>\n",
       "      <td>95</td>\n",
       "    </tr>\n",
       "    <tr>\n",
       "      <th>3</th>\n",
       "      <td>21894</td>\n",
       "      <td>ПИЦЦЕТОРИЯ</td>\n",
       "      <td>да</td>\n",
       "      <td>кафе</td>\n",
       "      <td>город Москва, Абрамцевская улица, дом 1</td>\n",
       "      <td>40</td>\n",
       "    </tr>\n",
       "    <tr>\n",
       "      <th>4</th>\n",
       "      <td>119365</td>\n",
       "      <td>Кафе «Вишневая метель»</td>\n",
       "      <td>нет</td>\n",
       "      <td>кафе</td>\n",
       "      <td>город Москва, Абрамцевская улица, дом 9, корпус 1</td>\n",
       "      <td>50</td>\n",
       "    </tr>\n",
       "  </tbody>\n",
       "</table>\n",
       "</div>\n",
       "      <button class=\"colab-df-convert\" onclick=\"convertToInteractive('df-9b712a84-d174-4391-a118-299e55482555')\"\n",
       "              title=\"Convert this dataframe to an interactive table.\"\n",
       "              style=\"display:none;\">\n",
       "        \n",
       "  <svg xmlns=\"http://www.w3.org/2000/svg\" height=\"24px\"viewBox=\"0 0 24 24\"\n",
       "       width=\"24px\">\n",
       "    <path d=\"M0 0h24v24H0V0z\" fill=\"none\"/>\n",
       "    <path d=\"M18.56 5.44l.94 2.06.94-2.06 2.06-.94-2.06-.94-.94-2.06-.94 2.06-2.06.94zm-11 1L8.5 8.5l.94-2.06 2.06-.94-2.06-.94L8.5 2.5l-.94 2.06-2.06.94zm10 10l.94 2.06.94-2.06 2.06-.94-2.06-.94-.94-2.06-.94 2.06-2.06.94z\"/><path d=\"M17.41 7.96l-1.37-1.37c-.4-.4-.92-.59-1.43-.59-.52 0-1.04.2-1.43.59L10.3 9.45l-7.72 7.72c-.78.78-.78 2.05 0 2.83L4 21.41c.39.39.9.59 1.41.59.51 0 1.02-.2 1.41-.59l7.78-7.78 2.81-2.81c.8-.78.8-2.07 0-2.86zM5.41 20L4 18.59l7.72-7.72 1.47 1.35L5.41 20z\"/>\n",
       "  </svg>\n",
       "      </button>\n",
       "      \n",
       "  <style>\n",
       "    .colab-df-container {\n",
       "      display:flex;\n",
       "      flex-wrap:wrap;\n",
       "      gap: 12px;\n",
       "    }\n",
       "\n",
       "    .colab-df-convert {\n",
       "      background-color: #E8F0FE;\n",
       "      border: none;\n",
       "      border-radius: 50%;\n",
       "      cursor: pointer;\n",
       "      display: none;\n",
       "      fill: #1967D2;\n",
       "      height: 32px;\n",
       "      padding: 0 0 0 0;\n",
       "      width: 32px;\n",
       "    }\n",
       "\n",
       "    .colab-df-convert:hover {\n",
       "      background-color: #E2EBFA;\n",
       "      box-shadow: 0px 1px 2px rgba(60, 64, 67, 0.3), 0px 1px 3px 1px rgba(60, 64, 67, 0.15);\n",
       "      fill: #174EA6;\n",
       "    }\n",
       "\n",
       "    [theme=dark] .colab-df-convert {\n",
       "      background-color: #3B4455;\n",
       "      fill: #D2E3FC;\n",
       "    }\n",
       "\n",
       "    [theme=dark] .colab-df-convert:hover {\n",
       "      background-color: #434B5C;\n",
       "      box-shadow: 0px 1px 3px 1px rgba(0, 0, 0, 0.15);\n",
       "      filter: drop-shadow(0px 1px 2px rgba(0, 0, 0, 0.3));\n",
       "      fill: #FFFFFF;\n",
       "    }\n",
       "  </style>\n",
       "\n",
       "      <script>\n",
       "        const buttonEl =\n",
       "          document.querySelector('#df-9b712a84-d174-4391-a118-299e55482555 button.colab-df-convert');\n",
       "        buttonEl.style.display =\n",
       "          google.colab.kernel.accessAllowed ? 'block' : 'none';\n",
       "\n",
       "        async function convertToInteractive(key) {\n",
       "          const element = document.querySelector('#df-9b712a84-d174-4391-a118-299e55482555');\n",
       "          const dataTable =\n",
       "            await google.colab.kernel.invokeFunction('convertToInteractive',\n",
       "                                                     [key], {});\n",
       "          if (!dataTable) return;\n",
       "\n",
       "          const docLinkHtml = 'Like what you see? Visit the ' +\n",
       "            '<a target=\"_blank\" href=https://colab.research.google.com/notebooks/data_table.ipynb>data table notebook</a>'\n",
       "            + ' to learn more about interactive tables.';\n",
       "          element.innerHTML = '';\n",
       "          dataTable['output_type'] = 'display_data';\n",
       "          await google.colab.output.renderOutput(dataTable, element);\n",
       "          const docLink = document.createElement('div');\n",
       "          docLink.innerHTML = docLinkHtml;\n",
       "          element.appendChild(docLink);\n",
       "        }\n",
       "      </script>\n",
       "    </div>\n",
       "  </div>\n",
       "  "
      ],
      "text/plain": [
       "       id             object_name chain object_type  \\\n",
       "0  151635                 СМЕТАНА   нет        кафе   \n",
       "1   77874                  Родник   нет        кафе   \n",
       "2   24309         Кафе «Академия»   нет        кафе   \n",
       "3   21894              ПИЦЦЕТОРИЯ    да        кафе   \n",
       "4  119365  Кафе «Вишневая метель»   нет        кафе   \n",
       "\n",
       "                                             address  number  \n",
       "0         город Москва, улица Егора Абакумова, дом 9      48  \n",
       "1  город Москва, улица Талалихина, дом 2/1, корпус 1      35  \n",
       "2          город Москва, Абельмановская улица, дом 6      95  \n",
       "3            город Москва, Абрамцевская улица, дом 1      40  \n",
       "4  город Москва, Абрамцевская улица, дом 9, корпус 1      50  "
      ]
     },
     "execution_count": 272,
     "metadata": {},
     "output_type": "execute_result"
    }
   ],
   "source": [
    "# посмотрим на первые строки таблицы\n",
    "\n",
    "df.head()"
   ]
  },
  {
   "cell_type": "code",
   "execution_count": 273,
   "metadata": {
    "colab": {
     "base_uri": "https://localhost:8080/"
    },
    "id": "asMYxUkjtWrr",
    "outputId": "49d7f1dc-f4f6-46d8-aac4-d8bdc34ccef5"
   },
   "outputs": [
    {
     "name": "stdout",
     "output_type": "stream",
     "text": [
      "<class 'pandas.core.frame.DataFrame'>\n",
      "RangeIndex: 15366 entries, 0 to 15365\n",
      "Data columns (total 6 columns):\n",
      " #   Column       Non-Null Count  Dtype \n",
      "---  ------       --------------  ----- \n",
      " 0   id           15366 non-null  int64 \n",
      " 1   object_name  15366 non-null  object\n",
      " 2   chain        15366 non-null  object\n",
      " 3   object_type  15366 non-null  object\n",
      " 4   address      15366 non-null  object\n",
      " 5   number       15366 non-null  int64 \n",
      "dtypes: int64(2), object(4)\n",
      "memory usage: 720.4+ KB\n"
     ]
    }
   ],
   "source": [
    "# общая информация о таблице\n",
    "\n",
    "df.info()"
   ]
  },
  {
   "cell_type": "code",
   "execution_count": 274,
   "metadata": {
    "colab": {
     "base_uri": "https://localhost:8080/"
    },
    "id": "SDCVyvMXVszR",
    "outputId": "b9ac4fdd-e98d-44ea-c934-b755d4b7b70b"
   },
   "outputs": [
    {
     "name": "stdout",
     "output_type": "stream",
     "text": [
      "Изначальное количество строк 15366\n"
     ]
    }
   ],
   "source": [
    "# изначальное количество строк\n",
    "\n",
    "start_len = len(df)\n",
    "print('Изначальное количество строк', start_len)"
   ]
  },
  {
   "cell_type": "markdown",
   "metadata": {
    "id": "0qQ021989MhR"
   },
   "source": [
    "### Вывод по знакомству с данными\n",
    "\n",
    "У нас хорошие данные без пропусков, в таблице 15366 строк."
   ]
  },
  {
   "cell_type": "markdown",
   "metadata": {
    "id": "1Fyk7E5Q1qj3"
   },
   "source": [
    "## Подготовка данных"
   ]
  },
  {
   "cell_type": "markdown",
   "metadata": {
    "id": "IPje8JwKZRrD"
   },
   "source": [
    "### Пропуски"
   ]
  },
  {
   "cell_type": "code",
   "execution_count": 275,
   "metadata": {
    "colab": {
     "base_uri": "https://localhost:8080/"
    },
    "id": "39Drxzuwuz1T",
    "outputId": "44704ec2-3ef1-4ea0-c84c-faf849bd6285"
   },
   "outputs": [
    {
     "data": {
      "text/plain": [
       "id             0.0\n",
       "object_name    0.0\n",
       "chain          0.0\n",
       "object_type    0.0\n",
       "address        0.0\n",
       "number         0.0\n",
       "dtype: float64"
      ]
     },
     "execution_count": 275,
     "metadata": {},
     "output_type": "execute_result"
    }
   ],
   "source": [
    " # еще раз проверим пропуски\n",
    " \n",
    " df.isna().mean()"
   ]
  },
  {
   "cell_type": "markdown",
   "metadata": {
    "id": "_tCUYhmlZXuZ"
   },
   "source": [
    "### Дубликаты"
   ]
  },
  {
   "cell_type": "code",
   "execution_count": 276,
   "metadata": {
    "colab": {
     "base_uri": "https://localhost:8080/"
    },
    "id": "XKJ5GAV8cfqI",
    "outputId": "64113c7e-f3e2-4523-bdc2-d19761f86dd1"
   },
   "outputs": [
    {
     "data": {
      "text/plain": [
       "0"
      ]
     },
     "execution_count": 276,
     "metadata": {},
     "output_type": "execute_result"
    }
   ],
   "source": [
    "# смотрим дубликаты\n",
    "\n",
    "df.duplicated().sum()"
   ]
  },
  {
   "cell_type": "markdown",
   "metadata": {
    "id": "jjj2Gco8cm9I"
   },
   "source": [
    "Явных дубликатов нет, но вдруг объекты имеют разные id, а остальные столбцы одинаковые? Получим фактически дубликаты, хоть и не 100% с формальной точки зрения."
   ]
  },
  {
   "cell_type": "code",
   "execution_count": 277,
   "metadata": {
    "colab": {
     "base_uri": "https://localhost:8080/",
     "height": 424
    },
    "id": "yMQnp--RXTHs",
    "outputId": "42e99641-4f57-40e2-b5a1-0b6de4e1b0a7"
   },
   "outputs": [
    {
     "data": {
      "text/html": [
       "\n",
       "  <div id=\"df-49324dbb-fec4-4628-bb31-28f39844c1de\">\n",
       "    <div class=\"colab-df-container\">\n",
       "      <div>\n",
       "<style scoped>\n",
       "    .dataframe tbody tr th:only-of-type {\n",
       "        vertical-align: middle;\n",
       "    }\n",
       "\n",
       "    .dataframe tbody tr th {\n",
       "        vertical-align: top;\n",
       "    }\n",
       "\n",
       "    .dataframe thead th {\n",
       "        text-align: right;\n",
       "    }\n",
       "</style>\n",
       "<table border=\"1\" class=\"dataframe\">\n",
       "  <thead>\n",
       "    <tr style=\"text-align: right;\">\n",
       "      <th></th>\n",
       "      <th>id</th>\n",
       "      <th>object_name</th>\n",
       "      <th>chain</th>\n",
       "      <th>object_type</th>\n",
       "      <th>address</th>\n",
       "      <th>number</th>\n",
       "    </tr>\n",
       "  </thead>\n",
       "  <tbody>\n",
       "    <tr>\n",
       "      <th>2381</th>\n",
       "      <td>28611</td>\n",
       "      <td>КОМБИНАТ ПИТАНИЯ МГТУ ИМ.Н.Э.БАУМАНА</td>\n",
       "      <td>нет</td>\n",
       "      <td>столовая</td>\n",
       "      <td>город Москва, 2-я Бауманская улица, дом 5, строение 1</td>\n",
       "      <td>100</td>\n",
       "    </tr>\n",
       "    <tr>\n",
       "      <th>3481</th>\n",
       "      <td>20914</td>\n",
       "      <td>Буфет Мади</td>\n",
       "      <td>нет</td>\n",
       "      <td>буфет</td>\n",
       "      <td>город Москва, Ленинградский проспект, дом 64</td>\n",
       "      <td>40</td>\n",
       "    </tr>\n",
       "    <tr>\n",
       "      <th>4431</th>\n",
       "      <td>23759</td>\n",
       "      <td>СТОЛОВАЯ ГБОУ города Москвы № 384</td>\n",
       "      <td>нет</td>\n",
       "      <td>буфет</td>\n",
       "      <td>город Москва, Беловежская улица, дом 67</td>\n",
       "      <td>100</td>\n",
       "    </tr>\n",
       "    <tr>\n",
       "      <th>4537</th>\n",
       "      <td>23391</td>\n",
       "      <td>Столовая «Комбинат питания КОСМОС»</td>\n",
       "      <td>нет</td>\n",
       "      <td>столовая</td>\n",
       "      <td>город Москва, Новозаводская улица, дом 12/11</td>\n",
       "      <td>15</td>\n",
       "    </tr>\n",
       "    <tr>\n",
       "      <th>5059</th>\n",
       "      <td>20021</td>\n",
       "      <td>LIFT</td>\n",
       "      <td>нет</td>\n",
       "      <td>кафе</td>\n",
       "      <td>город Москва, Багратионовский проезд, дом 7, корпус 1</td>\n",
       "      <td>20</td>\n",
       "    </tr>\n",
       "    <tr>\n",
       "      <th>...</th>\n",
       "      <td>...</td>\n",
       "      <td>...</td>\n",
       "      <td>...</td>\n",
       "      <td>...</td>\n",
       "      <td>...</td>\n",
       "      <td>...</td>\n",
       "    </tr>\n",
       "    <tr>\n",
       "      <th>14578</th>\n",
       "      <td>222932</td>\n",
       "      <td>Старый Баку</td>\n",
       "      <td>нет</td>\n",
       "      <td>кафе</td>\n",
       "      <td>город Москва, Кировоградская улица, владение 15А</td>\n",
       "      <td>120</td>\n",
       "    </tr>\n",
       "    <tr>\n",
       "      <th>14596</th>\n",
       "      <td>204947</td>\n",
       "      <td>Буфет при кинотеатре</td>\n",
       "      <td>нет</td>\n",
       "      <td>буфет</td>\n",
       "      <td>город Москва, Ореховый бульвар, дом 22А</td>\n",
       "      <td>0</td>\n",
       "    </tr>\n",
       "    <tr>\n",
       "      <th>14844</th>\n",
       "      <td>219518</td>\n",
       "      <td>Sushi-Make</td>\n",
       "      <td>нет</td>\n",
       "      <td>предприятие быстрого обслуживания</td>\n",
       "      <td>город Москва, Ярцевская улица, дом 19</td>\n",
       "      <td>0</td>\n",
       "    </tr>\n",
       "    <tr>\n",
       "      <th>15173</th>\n",
       "      <td>218542</td>\n",
       "      <td>Кофе с собой</td>\n",
       "      <td>да</td>\n",
       "      <td>предприятие быстрого обслуживания</td>\n",
       "      <td>город Москва, Алтуфьевское шоссе, дом 70, корпус 1</td>\n",
       "      <td>0</td>\n",
       "    </tr>\n",
       "    <tr>\n",
       "      <th>15217</th>\n",
       "      <td>214146</td>\n",
       "      <td>Макдоналдс</td>\n",
       "      <td>да</td>\n",
       "      <td>предприятие быстрого обслуживания</td>\n",
       "      <td>город Москва, Кировоградская улица, дом 13А</td>\n",
       "      <td>0</td>\n",
       "    </tr>\n",
       "  </tbody>\n",
       "</table>\n",
       "<p>82 rows × 6 columns</p>\n",
       "</div>\n",
       "      <button class=\"colab-df-convert\" onclick=\"convertToInteractive('df-49324dbb-fec4-4628-bb31-28f39844c1de')\"\n",
       "              title=\"Convert this dataframe to an interactive table.\"\n",
       "              style=\"display:none;\">\n",
       "        \n",
       "  <svg xmlns=\"http://www.w3.org/2000/svg\" height=\"24px\"viewBox=\"0 0 24 24\"\n",
       "       width=\"24px\">\n",
       "    <path d=\"M0 0h24v24H0V0z\" fill=\"none\"/>\n",
       "    <path d=\"M18.56 5.44l.94 2.06.94-2.06 2.06-.94-2.06-.94-.94-2.06-.94 2.06-2.06.94zm-11 1L8.5 8.5l.94-2.06 2.06-.94-2.06-.94L8.5 2.5l-.94 2.06-2.06.94zm10 10l.94 2.06.94-2.06 2.06-.94-2.06-.94-.94-2.06-.94 2.06-2.06.94z\"/><path d=\"M17.41 7.96l-1.37-1.37c-.4-.4-.92-.59-1.43-.59-.52 0-1.04.2-1.43.59L10.3 9.45l-7.72 7.72c-.78.78-.78 2.05 0 2.83L4 21.41c.39.39.9.59 1.41.59.51 0 1.02-.2 1.41-.59l7.78-7.78 2.81-2.81c.8-.78.8-2.07 0-2.86zM5.41 20L4 18.59l7.72-7.72 1.47 1.35L5.41 20z\"/>\n",
       "  </svg>\n",
       "      </button>\n",
       "      \n",
       "  <style>\n",
       "    .colab-df-container {\n",
       "      display:flex;\n",
       "      flex-wrap:wrap;\n",
       "      gap: 12px;\n",
       "    }\n",
       "\n",
       "    .colab-df-convert {\n",
       "      background-color: #E8F0FE;\n",
       "      border: none;\n",
       "      border-radius: 50%;\n",
       "      cursor: pointer;\n",
       "      display: none;\n",
       "      fill: #1967D2;\n",
       "      height: 32px;\n",
       "      padding: 0 0 0 0;\n",
       "      width: 32px;\n",
       "    }\n",
       "\n",
       "    .colab-df-convert:hover {\n",
       "      background-color: #E2EBFA;\n",
       "      box-shadow: 0px 1px 2px rgba(60, 64, 67, 0.3), 0px 1px 3px 1px rgba(60, 64, 67, 0.15);\n",
       "      fill: #174EA6;\n",
       "    }\n",
       "\n",
       "    [theme=dark] .colab-df-convert {\n",
       "      background-color: #3B4455;\n",
       "      fill: #D2E3FC;\n",
       "    }\n",
       "\n",
       "    [theme=dark] .colab-df-convert:hover {\n",
       "      background-color: #434B5C;\n",
       "      box-shadow: 0px 1px 3px 1px rgba(0, 0, 0, 0.15);\n",
       "      filter: drop-shadow(0px 1px 2px rgba(0, 0, 0, 0.3));\n",
       "      fill: #FFFFFF;\n",
       "    }\n",
       "  </style>\n",
       "\n",
       "      <script>\n",
       "        const buttonEl =\n",
       "          document.querySelector('#df-49324dbb-fec4-4628-bb31-28f39844c1de button.colab-df-convert');\n",
       "        buttonEl.style.display =\n",
       "          google.colab.kernel.accessAllowed ? 'block' : 'none';\n",
       "\n",
       "        async function convertToInteractive(key) {\n",
       "          const element = document.querySelector('#df-49324dbb-fec4-4628-bb31-28f39844c1de');\n",
       "          const dataTable =\n",
       "            await google.colab.kernel.invokeFunction('convertToInteractive',\n",
       "                                                     [key], {});\n",
       "          if (!dataTable) return;\n",
       "\n",
       "          const docLinkHtml = 'Like what you see? Visit the ' +\n",
       "            '<a target=\"_blank\" href=https://colab.research.google.com/notebooks/data_table.ipynb>data table notebook</a>'\n",
       "            + ' to learn more about interactive tables.';\n",
       "          element.innerHTML = '';\n",
       "          dataTable['output_type'] = 'display_data';\n",
       "          await google.colab.output.renderOutput(dataTable, element);\n",
       "          const docLink = document.createElement('div');\n",
       "          docLink.innerHTML = docLinkHtml;\n",
       "          element.appendChild(docLink);\n",
       "        }\n",
       "      </script>\n",
       "    </div>\n",
       "  </div>\n",
       "  "
      ],
      "text/plain": [
       "           id                           object_name chain  \\\n",
       "2381    28611  КОМБИНАТ ПИТАНИЯ МГТУ ИМ.Н.Э.БАУМАНА   нет   \n",
       "3481    20914                            Буфет Мади   нет   \n",
       "4431    23759     СТОЛОВАЯ ГБОУ города Москвы № 384   нет   \n",
       "4537    23391    Столовая «Комбинат питания КОСМОС»   нет   \n",
       "5059    20021                                  LIFT   нет   \n",
       "...       ...                                   ...   ...   \n",
       "14578  222932                           Старый Баку   нет   \n",
       "14596  204947                  Буфет при кинотеатре   нет   \n",
       "14844  219518                            Sushi-Make   нет   \n",
       "15173  218542                          Кофе с собой    да   \n",
       "15217  214146                            Макдоналдс    да   \n",
       "\n",
       "                             object_type  \\\n",
       "2381                            столовая   \n",
       "3481                               буфет   \n",
       "4431                               буфет   \n",
       "4537                            столовая   \n",
       "5059                                кафе   \n",
       "...                                  ...   \n",
       "14578                               кафе   \n",
       "14596                              буфет   \n",
       "14844  предприятие быстрого обслуживания   \n",
       "15173  предприятие быстрого обслуживания   \n",
       "15217  предприятие быстрого обслуживания   \n",
       "\n",
       "                                                     address  number  \n",
       "2381   город Москва, 2-я Бауманская улица, дом 5, строение 1     100  \n",
       "3481            город Москва, Ленинградский проспект, дом 64      40  \n",
       "4431                 город Москва, Беловежская улица, дом 67     100  \n",
       "4537            город Москва, Новозаводская улица, дом 12/11      15  \n",
       "5059   город Москва, Багратионовский проезд, дом 7, корпус 1      20  \n",
       "...                                                      ...     ...  \n",
       "14578       город Москва, Кировоградская улица, владение 15А     120  \n",
       "14596                город Москва, Ореховый бульвар, дом 22А       0  \n",
       "14844                  город Москва, Ярцевская улица, дом 19       0  \n",
       "15173     город Москва, Алтуфьевское шоссе, дом 70, корпус 1       0  \n",
       "15217            город Москва, Кировоградская улица, дом 13А       0  \n",
       "\n",
       "[82 rows x 6 columns]"
      ]
     },
     "execution_count": 277,
     "metadata": {},
     "output_type": "execute_result"
    }
   ],
   "source": [
    "# ищем дупликаты по столбцам ['address', 'object_name', 'object_type', 'number']\n",
    "\n",
    "df[df.duplicated(subset = ['address', 'object_name', 'object_type', 'number'])]"
   ]
  },
  {
   "cell_type": "code",
   "execution_count": 278,
   "metadata": {
    "colab": {
     "base_uri": "https://localhost:8080/"
    },
    "id": "PHdtdj42aTRW",
    "outputId": "738bb1f7-0751-4ff1-bc1b-9f761efd19e8"
   },
   "outputs": [
    {
     "data": {
      "text/plain": [
       "82"
      ]
     },
     "execution_count": 278,
     "metadata": {},
     "output_type": "execute_result"
    }
   ],
   "source": [
    "# сколько таких дубликатов\n",
    "\n",
    "len(df[df.duplicated(subset = ['address', 'object_name', 'object_type', 'number'])])"
   ]
  },
  {
   "cell_type": "markdown",
   "metadata": {
    "id": "xkVu-GJcD4Yk"
   },
   "source": [
    "<div class=\"alert alert-success\">\n",
    "<b>Комментарий ревьюера:</b>☀️\n",
    "    \n",
    "Действительно некоторые столбцы лучше было исключить при поиске дубликатов, молодец, что сделал это. При наличии подстроки `id` в названии вероятно значения столбца будут уникальны/ </div>\n"
   ]
  },
  {
   "cell_type": "code",
   "execution_count": 279,
   "metadata": {
    "id": "4yiEjR89XED5"
   },
   "outputs": [],
   "source": [
    "# удалим дубликаты\n",
    "\n",
    "little_duplicates = df.duplicated(subset = \\\n",
    "                          ['address', 'object_name', 'object_type', 'number'])\n",
    "df = df[~little_duplicates  ]                    "
   ]
  },
  {
   "cell_type": "code",
   "execution_count": 280,
   "metadata": {
    "colab": {
     "base_uri": "https://localhost:8080/"
    },
    "id": "8urhDJ_uYkm4",
    "outputId": "c246a984-249b-4725-ebb3-c706d4293835"
   },
   "outputs": [
    {
     "data": {
      "text/plain": [
       "15284"
      ]
     },
     "execution_count": 280,
     "metadata": {},
     "output_type": "execute_result"
    }
   ],
   "source": [
    "# длина новой таблицы\n",
    "\n",
    "len(df)"
   ]
  },
  {
   "cell_type": "code",
   "execution_count": 281,
   "metadata": {
    "colab": {
     "base_uri": "https://localhost:8080/"
    },
    "id": "VdPxl5pXY02L",
    "outputId": "8e407c2a-2a80-48ae-adc0-c3643ccb0716"
   },
   "outputs": [
    {
     "data": {
      "text/plain": [
       "82"
      ]
     },
     "execution_count": 281,
     "metadata": {},
     "output_type": "execute_result"
    }
   ],
   "source": [
    "# проверка\n",
    "\n",
    "start_len - len(df)"
   ]
  },
  {
   "cell_type": "markdown",
   "metadata": {
    "id": "WjSo-PcxXoUk"
   },
   "source": [
    "Все верно, убрали 82 дубликата. Мелочь, а данные стали немного лучше"
   ]
  },
  {
   "cell_type": "markdown",
   "metadata": {
    "id": "zOu7KYMdqlZT"
   },
   "source": [
    "### Вывод по предобработке\n",
    "\n",
    "У нас хорошие, чистые данные. Без пропусков, практически без дубликатов. Удалили лишь 0.005 данных с неполными дубликатами — совпадение было по полям _['address', 'object_name', 'object_type', 'number']_. Данные готовы к работе."
   ]
  },
  {
   "cell_type": "markdown",
   "metadata": {
    "id": "3eDGah_WfnsV"
   },
   "source": [
    "## Анализ данных"
   ]
  },
  {
   "cell_type": "markdown",
   "metadata": {
    "id": "IDwTKy5ciuPp"
   },
   "source": [
    "### Исследование соотношения видов объектов общественного питания по количеству"
   ]
  },
  {
   "cell_type": "code",
   "execution_count": 282,
   "metadata": {
    "colab": {
     "base_uri": "https://localhost:8080/",
     "height": 332
    },
    "id": "3BMjGwgH1UoK",
    "outputId": "3dff1da9-eee4-4a86-d57f-b0deb27a893e"
   },
   "outputs": [
    {
     "data": {
      "text/html": [
       "\n",
       "  <div id=\"df-b926f9b3-b538-4eb7-92cd-3fba51ffeb79\">\n",
       "    <div class=\"colab-df-container\">\n",
       "      <div>\n",
       "<style scoped>\n",
       "    .dataframe tbody tr th:only-of-type {\n",
       "        vertical-align: middle;\n",
       "    }\n",
       "\n",
       "    .dataframe tbody tr th {\n",
       "        vertical-align: top;\n",
       "    }\n",
       "\n",
       "    .dataframe thead th {\n",
       "        text-align: right;\n",
       "    }\n",
       "</style>\n",
       "<table border=\"1\" class=\"dataframe\">\n",
       "  <thead>\n",
       "    <tr style=\"text-align: right;\">\n",
       "      <th></th>\n",
       "      <th>object_type</th>\n",
       "      <th>numbers_of_objects</th>\n",
       "    </tr>\n",
       "  </thead>\n",
       "  <tbody>\n",
       "    <tr>\n",
       "      <th>3</th>\n",
       "      <td>кафе</td>\n",
       "      <td>6071</td>\n",
       "    </tr>\n",
       "    <tr>\n",
       "      <th>8</th>\n",
       "      <td>столовая</td>\n",
       "      <td>2584</td>\n",
       "    </tr>\n",
       "    <tr>\n",
       "      <th>7</th>\n",
       "      <td>ресторан</td>\n",
       "      <td>2282</td>\n",
       "    </tr>\n",
       "    <tr>\n",
       "      <th>6</th>\n",
       "      <td>предприятие быстрого обслуживания</td>\n",
       "      <td>1898</td>\n",
       "    </tr>\n",
       "    <tr>\n",
       "      <th>0</th>\n",
       "      <td>бар</td>\n",
       "      <td>855</td>\n",
       "    </tr>\n",
       "    <tr>\n",
       "      <th>1</th>\n",
       "      <td>буфет</td>\n",
       "      <td>577</td>\n",
       "    </tr>\n",
       "    <tr>\n",
       "      <th>4</th>\n",
       "      <td>кафетерий</td>\n",
       "      <td>395</td>\n",
       "    </tr>\n",
       "    <tr>\n",
       "      <th>2</th>\n",
       "      <td>закусочная</td>\n",
       "      <td>349</td>\n",
       "    </tr>\n",
       "    <tr>\n",
       "      <th>5</th>\n",
       "      <td>магазин (отдел кулинарии)</td>\n",
       "      <td>273</td>\n",
       "    </tr>\n",
       "  </tbody>\n",
       "</table>\n",
       "</div>\n",
       "      <button class=\"colab-df-convert\" onclick=\"convertToInteractive('df-b926f9b3-b538-4eb7-92cd-3fba51ffeb79')\"\n",
       "              title=\"Convert this dataframe to an interactive table.\"\n",
       "              style=\"display:none;\">\n",
       "        \n",
       "  <svg xmlns=\"http://www.w3.org/2000/svg\" height=\"24px\"viewBox=\"0 0 24 24\"\n",
       "       width=\"24px\">\n",
       "    <path d=\"M0 0h24v24H0V0z\" fill=\"none\"/>\n",
       "    <path d=\"M18.56 5.44l.94 2.06.94-2.06 2.06-.94-2.06-.94-.94-2.06-.94 2.06-2.06.94zm-11 1L8.5 8.5l.94-2.06 2.06-.94-2.06-.94L8.5 2.5l-.94 2.06-2.06.94zm10 10l.94 2.06.94-2.06 2.06-.94-2.06-.94-.94-2.06-.94 2.06-2.06.94z\"/><path d=\"M17.41 7.96l-1.37-1.37c-.4-.4-.92-.59-1.43-.59-.52 0-1.04.2-1.43.59L10.3 9.45l-7.72 7.72c-.78.78-.78 2.05 0 2.83L4 21.41c.39.39.9.59 1.41.59.51 0 1.02-.2 1.41-.59l7.78-7.78 2.81-2.81c.8-.78.8-2.07 0-2.86zM5.41 20L4 18.59l7.72-7.72 1.47 1.35L5.41 20z\"/>\n",
       "  </svg>\n",
       "      </button>\n",
       "      \n",
       "  <style>\n",
       "    .colab-df-container {\n",
       "      display:flex;\n",
       "      flex-wrap:wrap;\n",
       "      gap: 12px;\n",
       "    }\n",
       "\n",
       "    .colab-df-convert {\n",
       "      background-color: #E8F0FE;\n",
       "      border: none;\n",
       "      border-radius: 50%;\n",
       "      cursor: pointer;\n",
       "      display: none;\n",
       "      fill: #1967D2;\n",
       "      height: 32px;\n",
       "      padding: 0 0 0 0;\n",
       "      width: 32px;\n",
       "    }\n",
       "\n",
       "    .colab-df-convert:hover {\n",
       "      background-color: #E2EBFA;\n",
       "      box-shadow: 0px 1px 2px rgba(60, 64, 67, 0.3), 0px 1px 3px 1px rgba(60, 64, 67, 0.15);\n",
       "      fill: #174EA6;\n",
       "    }\n",
       "\n",
       "    [theme=dark] .colab-df-convert {\n",
       "      background-color: #3B4455;\n",
       "      fill: #D2E3FC;\n",
       "    }\n",
       "\n",
       "    [theme=dark] .colab-df-convert:hover {\n",
       "      background-color: #434B5C;\n",
       "      box-shadow: 0px 1px 3px 1px rgba(0, 0, 0, 0.15);\n",
       "      filter: drop-shadow(0px 1px 2px rgba(0, 0, 0, 0.3));\n",
       "      fill: #FFFFFF;\n",
       "    }\n",
       "  </style>\n",
       "\n",
       "      <script>\n",
       "        const buttonEl =\n",
       "          document.querySelector('#df-b926f9b3-b538-4eb7-92cd-3fba51ffeb79 button.colab-df-convert');\n",
       "        buttonEl.style.display =\n",
       "          google.colab.kernel.accessAllowed ? 'block' : 'none';\n",
       "\n",
       "        async function convertToInteractive(key) {\n",
       "          const element = document.querySelector('#df-b926f9b3-b538-4eb7-92cd-3fba51ffeb79');\n",
       "          const dataTable =\n",
       "            await google.colab.kernel.invokeFunction('convertToInteractive',\n",
       "                                                     [key], {});\n",
       "          if (!dataTable) return;\n",
       "\n",
       "          const docLinkHtml = 'Like what you see? Visit the ' +\n",
       "            '<a target=\"_blank\" href=https://colab.research.google.com/notebooks/data_table.ipynb>data table notebook</a>'\n",
       "            + ' to learn more about interactive tables.';\n",
       "          element.innerHTML = '';\n",
       "          dataTable['output_type'] = 'display_data';\n",
       "          await google.colab.output.renderOutput(dataTable, element);\n",
       "          const docLink = document.createElement('div');\n",
       "          docLink.innerHTML = docLinkHtml;\n",
       "          element.appendChild(docLink);\n",
       "        }\n",
       "      </script>\n",
       "    </div>\n",
       "  </div>\n",
       "  "
      ],
      "text/plain": [
       "                         object_type  numbers_of_objects\n",
       "3                               кафе                6071\n",
       "8                           столовая                2584\n",
       "7                           ресторан                2282\n",
       "6  предприятие быстрого обслуживания                1898\n",
       "0                                бар                 855\n",
       "1                              буфет                 577\n",
       "4                          кафетерий                 395\n",
       "2                         закусочная                 349\n",
       "5          магазин (отдел кулинарии)                 273"
      ]
     },
     "execution_count": 282,
     "metadata": {},
     "output_type": "execute_result"
    }
   ],
   "source": [
    "# считаем количество заведений каждого типа\n",
    "# группируем таблицу по object_type\n",
    "\n",
    "(df.groupby('object_type', as_index=False)['id'].count()\n",
    "          .rename(columns={\"id\": \"numbers_of_objects\"})\n",
    "          .sort_values(by='numbers_of_objects', ascending=False)\n",
    "          )"
   ]
  },
  {
   "cell_type": "code",
   "execution_count": 283,
   "metadata": {
    "colab": {
     "base_uri": "https://localhost:8080/",
     "height": 332
    },
    "id": "1L_uq-qopqLt",
    "outputId": "edfbe503-7320-49f0-9d1f-68a9374da3ce"
   },
   "outputs": [
    {
     "data": {
      "text/html": [
       "\n",
       "  <div id=\"df-e26e916c-dc0c-4503-ba57-da8c82b919e1\">\n",
       "    <div class=\"colab-df-container\">\n",
       "      <div>\n",
       "<style scoped>\n",
       "    .dataframe tbody tr th:only-of-type {\n",
       "        vertical-align: middle;\n",
       "    }\n",
       "\n",
       "    .dataframe tbody tr th {\n",
       "        vertical-align: top;\n",
       "    }\n",
       "\n",
       "    .dataframe thead th {\n",
       "        text-align: right;\n",
       "    }\n",
       "</style>\n",
       "<table border=\"1\" class=\"dataframe\">\n",
       "  <thead>\n",
       "    <tr style=\"text-align: right;\">\n",
       "      <th></th>\n",
       "      <th>object_type</th>\n",
       "      <th>numbers_of_objects</th>\n",
       "      <th>part</th>\n",
       "    </tr>\n",
       "  </thead>\n",
       "  <tbody>\n",
       "    <tr>\n",
       "      <th>3</th>\n",
       "      <td>кафе</td>\n",
       "      <td>6071</td>\n",
       "      <td>0.397213</td>\n",
       "    </tr>\n",
       "    <tr>\n",
       "      <th>8</th>\n",
       "      <td>столовая</td>\n",
       "      <td>2584</td>\n",
       "      <td>0.169066</td>\n",
       "    </tr>\n",
       "    <tr>\n",
       "      <th>7</th>\n",
       "      <td>ресторан</td>\n",
       "      <td>2282</td>\n",
       "      <td>0.149306</td>\n",
       "    </tr>\n",
       "    <tr>\n",
       "      <th>6</th>\n",
       "      <td>предприятие быстрого обслуживания</td>\n",
       "      <td>1898</td>\n",
       "      <td>0.124182</td>\n",
       "    </tr>\n",
       "    <tr>\n",
       "      <th>0</th>\n",
       "      <td>бар</td>\n",
       "      <td>855</td>\n",
       "      <td>0.055941</td>\n",
       "    </tr>\n",
       "    <tr>\n",
       "      <th>1</th>\n",
       "      <td>буфет</td>\n",
       "      <td>577</td>\n",
       "      <td>0.037752</td>\n",
       "    </tr>\n",
       "    <tr>\n",
       "      <th>4</th>\n",
       "      <td>кафетерий</td>\n",
       "      <td>395</td>\n",
       "      <td>0.025844</td>\n",
       "    </tr>\n",
       "    <tr>\n",
       "      <th>2</th>\n",
       "      <td>закусочная</td>\n",
       "      <td>349</td>\n",
       "      <td>0.022834</td>\n",
       "    </tr>\n",
       "    <tr>\n",
       "      <th>5</th>\n",
       "      <td>магазин (отдел кулинарии)</td>\n",
       "      <td>273</td>\n",
       "      <td>0.017862</td>\n",
       "    </tr>\n",
       "  </tbody>\n",
       "</table>\n",
       "</div>\n",
       "      <button class=\"colab-df-convert\" onclick=\"convertToInteractive('df-e26e916c-dc0c-4503-ba57-da8c82b919e1')\"\n",
       "              title=\"Convert this dataframe to an interactive table.\"\n",
       "              style=\"display:none;\">\n",
       "        \n",
       "  <svg xmlns=\"http://www.w3.org/2000/svg\" height=\"24px\"viewBox=\"0 0 24 24\"\n",
       "       width=\"24px\">\n",
       "    <path d=\"M0 0h24v24H0V0z\" fill=\"none\"/>\n",
       "    <path d=\"M18.56 5.44l.94 2.06.94-2.06 2.06-.94-2.06-.94-.94-2.06-.94 2.06-2.06.94zm-11 1L8.5 8.5l.94-2.06 2.06-.94-2.06-.94L8.5 2.5l-.94 2.06-2.06.94zm10 10l.94 2.06.94-2.06 2.06-.94-2.06-.94-.94-2.06-.94 2.06-2.06.94z\"/><path d=\"M17.41 7.96l-1.37-1.37c-.4-.4-.92-.59-1.43-.59-.52 0-1.04.2-1.43.59L10.3 9.45l-7.72 7.72c-.78.78-.78 2.05 0 2.83L4 21.41c.39.39.9.59 1.41.59.51 0 1.02-.2 1.41-.59l7.78-7.78 2.81-2.81c.8-.78.8-2.07 0-2.86zM5.41 20L4 18.59l7.72-7.72 1.47 1.35L5.41 20z\"/>\n",
       "  </svg>\n",
       "      </button>\n",
       "      \n",
       "  <style>\n",
       "    .colab-df-container {\n",
       "      display:flex;\n",
       "      flex-wrap:wrap;\n",
       "      gap: 12px;\n",
       "    }\n",
       "\n",
       "    .colab-df-convert {\n",
       "      background-color: #E8F0FE;\n",
       "      border: none;\n",
       "      border-radius: 50%;\n",
       "      cursor: pointer;\n",
       "      display: none;\n",
       "      fill: #1967D2;\n",
       "      height: 32px;\n",
       "      padding: 0 0 0 0;\n",
       "      width: 32px;\n",
       "    }\n",
       "\n",
       "    .colab-df-convert:hover {\n",
       "      background-color: #E2EBFA;\n",
       "      box-shadow: 0px 1px 2px rgba(60, 64, 67, 0.3), 0px 1px 3px 1px rgba(60, 64, 67, 0.15);\n",
       "      fill: #174EA6;\n",
       "    }\n",
       "\n",
       "    [theme=dark] .colab-df-convert {\n",
       "      background-color: #3B4455;\n",
       "      fill: #D2E3FC;\n",
       "    }\n",
       "\n",
       "    [theme=dark] .colab-df-convert:hover {\n",
       "      background-color: #434B5C;\n",
       "      box-shadow: 0px 1px 3px 1px rgba(0, 0, 0, 0.15);\n",
       "      filter: drop-shadow(0px 1px 2px rgba(0, 0, 0, 0.3));\n",
       "      fill: #FFFFFF;\n",
       "    }\n",
       "  </style>\n",
       "\n",
       "      <script>\n",
       "        const buttonEl =\n",
       "          document.querySelector('#df-e26e916c-dc0c-4503-ba57-da8c82b919e1 button.colab-df-convert');\n",
       "        buttonEl.style.display =\n",
       "          google.colab.kernel.accessAllowed ? 'block' : 'none';\n",
       "\n",
       "        async function convertToInteractive(key) {\n",
       "          const element = document.querySelector('#df-e26e916c-dc0c-4503-ba57-da8c82b919e1');\n",
       "          const dataTable =\n",
       "            await google.colab.kernel.invokeFunction('convertToInteractive',\n",
       "                                                     [key], {});\n",
       "          if (!dataTable) return;\n",
       "\n",
       "          const docLinkHtml = 'Like what you see? Visit the ' +\n",
       "            '<a target=\"_blank\" href=https://colab.research.google.com/notebooks/data_table.ipynb>data table notebook</a>'\n",
       "            + ' to learn more about interactive tables.';\n",
       "          element.innerHTML = '';\n",
       "          dataTable['output_type'] = 'display_data';\n",
       "          await google.colab.output.renderOutput(dataTable, element);\n",
       "          const docLink = document.createElement('div');\n",
       "          docLink.innerHTML = docLinkHtml;\n",
       "          element.appendChild(docLink);\n",
       "        }\n",
       "      </script>\n",
       "    </div>\n",
       "  </div>\n",
       "  "
      ],
      "text/plain": [
       "                         object_type  numbers_of_objects      part\n",
       "3                               кафе                6071  0.397213\n",
       "8                           столовая                2584  0.169066\n",
       "7                           ресторан                2282  0.149306\n",
       "6  предприятие быстрого обслуживания                1898  0.124182\n",
       "0                                бар                 855  0.055941\n",
       "1                              буфет                 577  0.037752\n",
       "4                          кафетерий                 395  0.025844\n",
       "2                         закусочная                 349  0.022834\n",
       "5          магазин (отдел кулинарии)                 273  0.017862"
      ]
     },
     "execution_count": 283,
     "metadata": {},
     "output_type": "execute_result"
    }
   ],
   "source": [
    "# посмотрим на долю каждого типа заведений\n",
    "\n",
    "t = (df.groupby('object_type', as_index=False)['id'].count()\n",
    "          .rename(columns={\"id\": \"numbers_of_objects\"})\n",
    "          .sort_values(by='numbers_of_objects', ascending=False)\n",
    "          )\n",
    "t['part'] = t['numbers_of_objects'] / t['numbers_of_objects'].sum()\n",
    "t"
   ]
  },
  {
   "cell_type": "code",
   "execution_count": 284,
   "metadata": {
    "colab": {
     "base_uri": "https://localhost:8080/"
    },
    "id": "-NG658Eps5s9",
    "outputId": "5b02d3e8-c8de-439c-c366-0a9072297080"
   },
   "outputs": [
    {
     "data": {
      "text/plain": [
       "0.10429207013870714"
      ]
     },
     "execution_count": 284,
     "metadata": {},
     "output_type": "execute_result"
    }
   ],
   "source": [
    "# какую общую долю занимают заведения с долей менее 5%\n",
    "\n",
    "t.loc[t['part'] < 0.05]['part'].sum()"
   ]
  },
  {
   "cell_type": "code",
   "execution_count": 285,
   "metadata": {
    "colab": {
     "base_uri": "https://localhost:8080/"
    },
    "id": "6wOMRFSK1XGv",
    "outputId": "5648e351-998c-45a8-a71c-dc461cd4af49"
   },
   "outputs": [
    {
     "data": {
      "text/plain": [
       "count    15284\n",
       "dtype: int64"
      ]
     },
     "execution_count": 285,
     "metadata": {},
     "output_type": "execute_result"
    }
   ],
   "source": [
    "# проверка\n",
    "\n",
    "df.groupby('object_type')['id'].agg(['count']).sum()"
   ]
  },
  {
   "cell_type": "code",
   "execution_count": 286,
   "metadata": {
    "colab": {
     "base_uri": "https://localhost:8080/"
    },
    "id": "m6yXZpCu3Au9",
    "outputId": "73aaa659-f6e2-4340-aee0-be824600fe4f"
   },
   "outputs": [
    {
     "data": {
      "text/plain": [
       "15284"
      ]
     },
     "execution_count": 286,
     "metadata": {},
     "output_type": "execute_result"
    }
   ],
   "source": [
    "t = (df.groupby('object_type', as_index=False)['id'].count()\n",
    "          .rename(columns={\"id\": \"numbers_of_objects\"})\n",
    "          .sort_values(by='numbers_of_objects', ascending=False)\n",
    "          )\n",
    "t['numbers_of_objects'].sum()"
   ]
  },
  {
   "cell_type": "markdown",
   "metadata": {
    "id": "9Ms1wzG63KQc"
   },
   "source": [
    "Количества совпадают 15284 == 15284, всё верно."
   ]
  },
  {
   "cell_type": "markdown",
   "metadata": {
    "id": "6mSWDUQ4rbF7"
   },
   "source": [
    "Строим график"
   ]
  },
  {
   "cell_type": "code",
   "execution_count": 287,
   "metadata": {
    "colab": {
     "base_uri": "https://localhost:8080/",
     "height": 834
    },
    "id": "ZztCeRxTunRF",
    "outputId": "4d475101-c927-4ced-a871-ad6b5c94f76c"
   },
   "outputs": [
    {
     "data": {
      "image/png": "[encoded data removed]",
      "text/plain": [
       "<Figure size 864x576 with 1 Axes>"
      ]
     },
     "metadata": {
      "needs_background": "light"
     },
     "output_type": "display_data"
    }
   ],
   "source": [
    "total = float(df.shape[0])\n",
    "plt.figure(figsize=(12,8))\n",
    "sns.set_palette('dark')\n",
    "sns.set_theme(style=\"white\")\n",
    "ax = (sns.countplot(x='object_type', data=df, color='c', order=df.groupby('object_type')\n",
    "                    .size().sort_values().index[::-1]));\n",
    "for p in ax.patches:\n",
    "    percentage = '{:.1f}%'.format(100 * p.get_height()/total)\n",
    "    x = p.get_x() + p.get_width() / 2\n",
    "    y = p.get_height()\n",
    "    ax.annotate(percentage, (x, y), ha='center')                    \n",
    "plt.xticks(fontsize=14, rotation=90);\n",
    "plt.yticks(fontsize=14);\n",
    "plt.title('Распределение объектов по типу \\n',fontsize=18);\n",
    "plt.xlabel('\\n Вид объекта', fontsize=14);\n",
    "plt.ylabel('Количество объектов \\n', fontsize=14);"
   ]
  },
  {
   "cell_type": "markdown",
   "metadata": {
    "id": "p9apcIeID4Y0"
   },
   "source": [
    "<div class=\"alert alert-warning\">\n",
    "<b>Комментарий ревьюера:</b>⛅️ \n",
    "\n",
    "Если цвет не несет смысловой нагрузки, то делай все одним цветом. Иначе наш мозг думает, что в цвете есть какая-то логика и пытается ее отыскать\n",
    "</div>"
   ]
  },
  {
   "cell_type": "markdown",
   "metadata": {
    "id": "D1JJtB1fFMRK"
   },
   "source": [
    "<div class=\"alert alert-info\"> <b>Комментарий студента:</b> Петр, поправил.</div>"
   ]
  },
  {
   "cell_type": "markdown",
   "metadata": {},
   "source": [
    "<div class=\"alert alert-success\">\n",
    "<b>Комментарий ревьюера v2:</b>☀️\n",
    "    \n",
    "Благодарю \n",
    "</div>\n"
   ]
  },
  {
   "cell_type": "markdown",
   "metadata": {
    "id": "nDqLWW4S41oX"
   },
   "source": [
    "### Вывод:\n",
    "Основной тип заведения — кафе, почти 40%. Далее идет столовая с 17% и ресторан с 15%. Все еще весомая доля у предприятий быстрого обслуживания, 12%. Дале с серьезным провалом в доле бары — 5%. Остальные заведения занимают вместе 10%."
   ]
  },
  {
   "cell_type": "markdown",
   "metadata": {
    "id": "7SetRbbPIWCP"
   },
   "source": [
    "### Соотношение сетевых и несетевых заведений по количеству"
   ]
  },
  {
   "cell_type": "markdown",
   "metadata": {
    "id": "yf-eaR3PtjHk"
   },
   "source": [
    "Группируем данные по _chain_ и считаем количество заведений в каждой группе"
   ]
  },
  {
   "cell_type": "code",
   "execution_count": 288,
   "metadata": {
    "colab": {
     "base_uri": "https://localhost:8080/",
     "height": 112
    },
    "id": "JT5XK6rCIbnq",
    "outputId": "c54970c0-257c-469a-b327-1431148feffc"
   },
   "outputs": [
    {
     "data": {
      "text/html": [
       "\n",
       "  <div id=\"df-991185dc-05ef-45a1-8636-1debf204946f\">\n",
       "    <div class=\"colab-df-container\">\n",
       "      <div>\n",
       "<style scoped>\n",
       "    .dataframe tbody tr th:only-of-type {\n",
       "        vertical-align: middle;\n",
       "    }\n",
       "\n",
       "    .dataframe tbody tr th {\n",
       "        vertical-align: top;\n",
       "    }\n",
       "\n",
       "    .dataframe thead th {\n",
       "        text-align: right;\n",
       "    }\n",
       "</style>\n",
       "<table border=\"1\" class=\"dataframe\">\n",
       "  <thead>\n",
       "    <tr style=\"text-align: right;\">\n",
       "      <th></th>\n",
       "      <th>chain</th>\n",
       "      <th>id</th>\n",
       "    </tr>\n",
       "  </thead>\n",
       "  <tbody>\n",
       "    <tr>\n",
       "      <th>0</th>\n",
       "      <td>да</td>\n",
       "      <td>2964</td>\n",
       "    </tr>\n",
       "    <tr>\n",
       "      <th>1</th>\n",
       "      <td>нет</td>\n",
       "      <td>12320</td>\n",
       "    </tr>\n",
       "  </tbody>\n",
       "</table>\n",
       "</div>\n",
       "      <button class=\"colab-df-convert\" onclick=\"convertToInteractive('df-991185dc-05ef-45a1-8636-1debf204946f')\"\n",
       "              title=\"Convert this dataframe to an interactive table.\"\n",
       "              style=\"display:none;\">\n",
       "        \n",
       "  <svg xmlns=\"http://www.w3.org/2000/svg\" height=\"24px\"viewBox=\"0 0 24 24\"\n",
       "       width=\"24px\">\n",
       "    <path d=\"M0 0h24v24H0V0z\" fill=\"none\"/>\n",
       "    <path d=\"M18.56 5.44l.94 2.06.94-2.06 2.06-.94-2.06-.94-.94-2.06-.94 2.06-2.06.94zm-11 1L8.5 8.5l.94-2.06 2.06-.94-2.06-.94L8.5 2.5l-.94 2.06-2.06.94zm10 10l.94 2.06.94-2.06 2.06-.94-2.06-.94-.94-2.06-.94 2.06-2.06.94z\"/><path d=\"M17.41 7.96l-1.37-1.37c-.4-.4-.92-.59-1.43-.59-.52 0-1.04.2-1.43.59L10.3 9.45l-7.72 7.72c-.78.78-.78 2.05 0 2.83L4 21.41c.39.39.9.59 1.41.59.51 0 1.02-.2 1.41-.59l7.78-7.78 2.81-2.81c.8-.78.8-2.07 0-2.86zM5.41 20L4 18.59l7.72-7.72 1.47 1.35L5.41 20z\"/>\n",
       "  </svg>\n",
       "      </button>\n",
       "      \n",
       "  <style>\n",
       "    .colab-df-container {\n",
       "      display:flex;\n",
       "      flex-wrap:wrap;\n",
       "      gap: 12px;\n",
       "    }\n",
       "\n",
       "    .colab-df-convert {\n",
       "      background-color: #E8F0FE;\n",
       "      border: none;\n",
       "      border-radius: 50%;\n",
       "      cursor: pointer;\n",
       "      display: none;\n",
       "      fill: #1967D2;\n",
       "      height: 32px;\n",
       "      padding: 0 0 0 0;\n",
       "      width: 32px;\n",
       "    }\n",
       "\n",
       "    .colab-df-convert:hover {\n",
       "      background-color: #E2EBFA;\n",
       "      box-shadow: 0px 1px 2px rgba(60, 64, 67, 0.3), 0px 1px 3px 1px rgba(60, 64, 67, 0.15);\n",
       "      fill: #174EA6;\n",
       "    }\n",
       "\n",
       "    [theme=dark] .colab-df-convert {\n",
       "      background-color: #3B4455;\n",
       "      fill: #D2E3FC;\n",
       "    }\n",
       "\n",
       "    [theme=dark] .colab-df-convert:hover {\n",
       "      background-color: #434B5C;\n",
       "      box-shadow: 0px 1px 3px 1px rgba(0, 0, 0, 0.15);\n",
       "      filter: drop-shadow(0px 1px 2px rgba(0, 0, 0, 0.3));\n",
       "      fill: #FFFFFF;\n",
       "    }\n",
       "  </style>\n",
       "\n",
       "      <script>\n",
       "        const buttonEl =\n",
       "          document.querySelector('#df-991185dc-05ef-45a1-8636-1debf204946f button.colab-df-convert');\n",
       "        buttonEl.style.display =\n",
       "          google.colab.kernel.accessAllowed ? 'block' : 'none';\n",
       "\n",
       "        async function convertToInteractive(key) {\n",
       "          const element = document.querySelector('#df-991185dc-05ef-45a1-8636-1debf204946f');\n",
       "          const dataTable =\n",
       "            await google.colab.kernel.invokeFunction('convertToInteractive',\n",
       "                                                     [key], {});\n",
       "          if (!dataTable) return;\n",
       "\n",
       "          const docLinkHtml = 'Like what you see? Visit the ' +\n",
       "            '<a target=\"_blank\" href=https://colab.research.google.com/notebooks/data_table.ipynb>data table notebook</a>'\n",
       "            + ' to learn more about interactive tables.';\n",
       "          element.innerHTML = '';\n",
       "          dataTable['output_type'] = 'display_data';\n",
       "          await google.colab.output.renderOutput(dataTable, element);\n",
       "          const docLink = document.createElement('div');\n",
       "          docLink.innerHTML = docLinkHtml;\n",
       "          element.appendChild(docLink);\n",
       "        }\n",
       "      </script>\n",
       "    </div>\n",
       "  </div>\n",
       "  "
      ],
      "text/plain": [
       "  chain     id\n",
       "0    да   2964\n",
       "1   нет  12320"
      ]
     },
     "execution_count": 288,
     "metadata": {},
     "output_type": "execute_result"
    }
   ],
   "source": [
    "df.groupby('chain', as_index=False)['id'].agg('count')"
   ]
  },
  {
   "cell_type": "code",
   "execution_count": 289,
   "metadata": {
    "colab": {
     "base_uri": "https://localhost:8080/",
     "height": 112
    },
    "id": "mtC-Myu_vwDP",
    "outputId": "170533b9-bb6a-4a0c-8a68-d9fdcbba5529"
   },
   "outputs": [
    {
     "data": {
      "text/html": [
       "\n",
       "  <div id=\"df-3661f11f-ff34-4fc4-961e-1f5073163da0\">\n",
       "    <div class=\"colab-df-container\">\n",
       "      <div>\n",
       "<style scoped>\n",
       "    .dataframe tbody tr th:only-of-type {\n",
       "        vertical-align: middle;\n",
       "    }\n",
       "\n",
       "    .dataframe tbody tr th {\n",
       "        vertical-align: top;\n",
       "    }\n",
       "\n",
       "    .dataframe thead th {\n",
       "        text-align: right;\n",
       "    }\n",
       "</style>\n",
       "<table border=\"1\" class=\"dataframe\">\n",
       "  <thead>\n",
       "    <tr style=\"text-align: right;\">\n",
       "      <th></th>\n",
       "      <th>chain</th>\n",
       "      <th>id</th>\n",
       "      <th>part</th>\n",
       "    </tr>\n",
       "  </thead>\n",
       "  <tbody>\n",
       "    <tr>\n",
       "      <th>0</th>\n",
       "      <td>да</td>\n",
       "      <td>2964</td>\n",
       "      <td>0.193928</td>\n",
       "    </tr>\n",
       "    <tr>\n",
       "      <th>1</th>\n",
       "      <td>нет</td>\n",
       "      <td>12320</td>\n",
       "      <td>0.806072</td>\n",
       "    </tr>\n",
       "  </tbody>\n",
       "</table>\n",
       "</div>\n",
       "      <button class=\"colab-df-convert\" onclick=\"convertToInteractive('df-3661f11f-ff34-4fc4-961e-1f5073163da0')\"\n",
       "              title=\"Convert this dataframe to an interactive table.\"\n",
       "              style=\"display:none;\">\n",
       "        \n",
       "  <svg xmlns=\"http://www.w3.org/2000/svg\" height=\"24px\"viewBox=\"0 0 24 24\"\n",
       "       width=\"24px\">\n",
       "    <path d=\"M0 0h24v24H0V0z\" fill=\"none\"/>\n",
       "    <path d=\"M18.56 5.44l.94 2.06.94-2.06 2.06-.94-2.06-.94-.94-2.06-.94 2.06-2.06.94zm-11 1L8.5 8.5l.94-2.06 2.06-.94-2.06-.94L8.5 2.5l-.94 2.06-2.06.94zm10 10l.94 2.06.94-2.06 2.06-.94-2.06-.94-.94-2.06-.94 2.06-2.06.94z\"/><path d=\"M17.41 7.96l-1.37-1.37c-.4-.4-.92-.59-1.43-.59-.52 0-1.04.2-1.43.59L10.3 9.45l-7.72 7.72c-.78.78-.78 2.05 0 2.83L4 21.41c.39.39.9.59 1.41.59.51 0 1.02-.2 1.41-.59l7.78-7.78 2.81-2.81c.8-.78.8-2.07 0-2.86zM5.41 20L4 18.59l7.72-7.72 1.47 1.35L5.41 20z\"/>\n",
       "  </svg>\n",
       "      </button>\n",
       "      \n",
       "  <style>\n",
       "    .colab-df-container {\n",
       "      display:flex;\n",
       "      flex-wrap:wrap;\n",
       "      gap: 12px;\n",
       "    }\n",
       "\n",
       "    .colab-df-convert {\n",
       "      background-color: #E8F0FE;\n",
       "      border: none;\n",
       "      border-radius: 50%;\n",
       "      cursor: pointer;\n",
       "      display: none;\n",
       "      fill: #1967D2;\n",
       "      height: 32px;\n",
       "      padding: 0 0 0 0;\n",
       "      width: 32px;\n",
       "    }\n",
       "\n",
       "    .colab-df-convert:hover {\n",
       "      background-color: #E2EBFA;\n",
       "      box-shadow: 0px 1px 2px rgba(60, 64, 67, 0.3), 0px 1px 3px 1px rgba(60, 64, 67, 0.15);\n",
       "      fill: #174EA6;\n",
       "    }\n",
       "\n",
       "    [theme=dark] .colab-df-convert {\n",
       "      background-color: #3B4455;\n",
       "      fill: #D2E3FC;\n",
       "    }\n",
       "\n",
       "    [theme=dark] .colab-df-convert:hover {\n",
       "      background-color: #434B5C;\n",
       "      box-shadow: 0px 1px 3px 1px rgba(0, 0, 0, 0.15);\n",
       "      filter: drop-shadow(0px 1px 2px rgba(0, 0, 0, 0.3));\n",
       "      fill: #FFFFFF;\n",
       "    }\n",
       "  </style>\n",
       "\n",
       "      <script>\n",
       "        const buttonEl =\n",
       "          document.querySelector('#df-3661f11f-ff34-4fc4-961e-1f5073163da0 button.colab-df-convert');\n",
       "        buttonEl.style.display =\n",
       "          google.colab.kernel.accessAllowed ? 'block' : 'none';\n",
       "\n",
       "        async function convertToInteractive(key) {\n",
       "          const element = document.querySelector('#df-3661f11f-ff34-4fc4-961e-1f5073163da0');\n",
       "          const dataTable =\n",
       "            await google.colab.kernel.invokeFunction('convertToInteractive',\n",
       "                                                     [key], {});\n",
       "          if (!dataTable) return;\n",
       "\n",
       "          const docLinkHtml = 'Like what you see? Visit the ' +\n",
       "            '<a target=\"_blank\" href=https://colab.research.google.com/notebooks/data_table.ipynb>data table notebook</a>'\n",
       "            + ' to learn more about interactive tables.';\n",
       "          element.innerHTML = '';\n",
       "          dataTable['output_type'] = 'display_data';\n",
       "          await google.colab.output.renderOutput(dataTable, element);\n",
       "          const docLink = document.createElement('div');\n",
       "          docLink.innerHTML = docLinkHtml;\n",
       "          element.appendChild(docLink);\n",
       "        }\n",
       "      </script>\n",
       "    </div>\n",
       "  </div>\n",
       "  "
      ],
      "text/plain": [
       "  chain     id      part\n",
       "0    да   2964  0.193928\n",
       "1   нет  12320  0.806072"
      ]
     },
     "execution_count": 289,
     "metadata": {},
     "output_type": "execute_result"
    }
   ],
   "source": [
    "t = df.groupby('chain', as_index=False)['id'].agg('count')\n",
    "t['part'] = t['id'] / t['id'].sum()\n",
    "t"
   ]
  },
  {
   "cell_type": "markdown",
   "metadata": {
    "id": "ZQ0QDj7utrBr"
   },
   "source": [
    "Для наглядности построим столбчатый график"
   ]
  },
  {
   "cell_type": "code",
   "execution_count": 290,
   "metadata": {
    "colab": {
     "base_uri": "https://localhost:8080/",
     "height": 565
    },
    "id": "zi8FXiZnMbVC",
    "outputId": "672beae3-57a8-434c-bf44-678f29fcf6ed"
   },
   "outputs": [
    {
     "data": {
      "image/png": "[encoded data removed]",
      "text/plain": [
       "<Figure size 864x576 with 1 Axes>"
      ]
     },
     "metadata": {},
     "output_type": "display_data"
    }
   ],
   "source": [
    "total = float(df.shape[0])\n",
    "plt.figure(figsize=(12,8))\n",
    "sns.set_palette('dark')\n",
    "sns.set_theme(style=\"white\")\n",
    "ax = sns.countplot(x='chain', data=df, color='c', order=df.groupby('chain')\\\n",
    "                   .size().sort_values().index[::-1])\n",
    "\n",
    "for p in ax.patches:\n",
    "    percentage = '{:.1f}%'.format(100 * p.get_height()/total)\n",
    "    x = p.get_x() + p.get_width() / 2\n",
    "    y = p.get_height()\n",
    "    ax.annotate(percentage, (x, y), ha='center')\n",
    "plt.xticks(fontsize=14);\n",
    "plt.yticks(fontsize=14);\n",
    "plt.ylim(bottom=0, top=14000)\n",
    "plt.title('Распределение сетевых и несетевых объектов \\n',fontsize=18);\n",
    "plt.xlabel('\\n Сеть или нет', fontsize=14);\n",
    "plt.ylabel('Количество объектов \\n', fontsize=14);\n"
   ]
  },
  {
   "cell_type": "markdown",
   "metadata": {
    "id": "4uE5Hky-JEOc"
   },
   "source": [
    "### Вывод:\n",
    "Несетевых заведений в 4.15 раз больше — 12320 объектов без сети и всего лишь 2964 сетевых заведений общественного питания. В процентах это 80,6% и 19,4%."
   ]
  },
  {
   "cell_type": "markdown",
   "metadata": {
    "id": "Sal8C2LGKuoY"
   },
   "source": [
    "### Для какого вида объекта общественного питания характерно сетевое распространение?"
   ]
  },
  {
   "cell_type": "markdown",
   "metadata": {
    "id": "LDHiPwHnEZgn"
   },
   "source": [
    "Сгруппируем данные по типу и принадлежности к сети, посчитаем, сколько объектов каждого типа есть в сетевом/несетовом сегменте"
   ]
  },
  {
   "cell_type": "code",
   "execution_count": 291,
   "metadata": {
    "colab": {
     "base_uri": "https://localhost:8080/",
     "height": 424
    },
    "id": "BhY7z-7LBuUp",
    "outputId": "5a3d6705-3c14-44ce-b580-ceff6b8904b5"
   },
   "outputs": [
    {
     "data": {
      "text/html": [
       "\n",
       "  <div id=\"df-89b71ea6-1a67-4891-8e48-48def9f57dd6\">\n",
       "    <div class=\"colab-df-container\">\n",
       "      <div>\n",
       "<style scoped>\n",
       "    .dataframe tbody tr th:only-of-type {\n",
       "        vertical-align: middle;\n",
       "    }\n",
       "\n",
       "    .dataframe tbody tr th {\n",
       "        vertical-align: top;\n",
       "    }\n",
       "\n",
       "    .dataframe thead th {\n",
       "        text-align: right;\n",
       "    }\n",
       "</style>\n",
       "<table border=\"1\" class=\"dataframe\">\n",
       "  <thead>\n",
       "    <tr style=\"text-align: right;\">\n",
       "      <th></th>\n",
       "      <th>object_type</th>\n",
       "      <th>chain</th>\n",
       "      <th>count</th>\n",
       "    </tr>\n",
       "  </thead>\n",
       "  <tbody>\n",
       "    <tr>\n",
       "      <th>7</th>\n",
       "      <td>кафе</td>\n",
       "      <td>нет</td>\n",
       "      <td>4675</td>\n",
       "    </tr>\n",
       "    <tr>\n",
       "      <th>17</th>\n",
       "      <td>столовая</td>\n",
       "      <td>нет</td>\n",
       "      <td>2581</td>\n",
       "    </tr>\n",
       "    <tr>\n",
       "      <th>15</th>\n",
       "      <td>ресторан</td>\n",
       "      <td>нет</td>\n",
       "      <td>1739</td>\n",
       "    </tr>\n",
       "    <tr>\n",
       "      <th>6</th>\n",
       "      <td>кафе</td>\n",
       "      <td>да</td>\n",
       "      <td>1396</td>\n",
       "    </tr>\n",
       "    <tr>\n",
       "      <th>13</th>\n",
       "      <td>предприятие быстрого обслуживания</td>\n",
       "      <td>нет</td>\n",
       "      <td>1110</td>\n",
       "    </tr>\n",
       "    <tr>\n",
       "      <th>...</th>\n",
       "      <td>...</td>\n",
       "      <td>...</td>\n",
       "      <td>...</td>\n",
       "    </tr>\n",
       "    <tr>\n",
       "      <th>4</th>\n",
       "      <td>закусочная</td>\n",
       "      <td>да</td>\n",
       "      <td>56</td>\n",
       "    </tr>\n",
       "    <tr>\n",
       "      <th>8</th>\n",
       "      <td>кафетерий</td>\n",
       "      <td>да</td>\n",
       "      <td>52</td>\n",
       "    </tr>\n",
       "    <tr>\n",
       "      <th>0</th>\n",
       "      <td>бар</td>\n",
       "      <td>да</td>\n",
       "      <td>37</td>\n",
       "    </tr>\n",
       "    <tr>\n",
       "      <th>2</th>\n",
       "      <td>буфет</td>\n",
       "      <td>да</td>\n",
       "      <td>11</td>\n",
       "    </tr>\n",
       "    <tr>\n",
       "      <th>16</th>\n",
       "      <td>столовая</td>\n",
       "      <td>да</td>\n",
       "      <td>3</td>\n",
       "    </tr>\n",
       "  </tbody>\n",
       "</table>\n",
       "<p>18 rows × 3 columns</p>\n",
       "</div>\n",
       "      <button class=\"colab-df-convert\" onclick=\"convertToInteractive('df-89b71ea6-1a67-4891-8e48-48def9f57dd6')\"\n",
       "              title=\"Convert this dataframe to an interactive table.\"\n",
       "              style=\"display:none;\">\n",
       "        \n",
       "  <svg xmlns=\"http://www.w3.org/2000/svg\" height=\"24px\"viewBox=\"0 0 24 24\"\n",
       "       width=\"24px\">\n",
       "    <path d=\"M0 0h24v24H0V0z\" fill=\"none\"/>\n",
       "    <path d=\"M18.56 5.44l.94 2.06.94-2.06 2.06-.94-2.06-.94-.94-2.06-.94 2.06-2.06.94zm-11 1L8.5 8.5l.94-2.06 2.06-.94-2.06-.94L8.5 2.5l-.94 2.06-2.06.94zm10 10l.94 2.06.94-2.06 2.06-.94-2.06-.94-.94-2.06-.94 2.06-2.06.94z\"/><path d=\"M17.41 7.96l-1.37-1.37c-.4-.4-.92-.59-1.43-.59-.52 0-1.04.2-1.43.59L10.3 9.45l-7.72 7.72c-.78.78-.78 2.05 0 2.83L4 21.41c.39.39.9.59 1.41.59.51 0 1.02-.2 1.41-.59l7.78-7.78 2.81-2.81c.8-.78.8-2.07 0-2.86zM5.41 20L4 18.59l7.72-7.72 1.47 1.35L5.41 20z\"/>\n",
       "  </svg>\n",
       "      </button>\n",
       "      \n",
       "  <style>\n",
       "    .colab-df-container {\n",
       "      display:flex;\n",
       "      flex-wrap:wrap;\n",
       "      gap: 12px;\n",
       "    }\n",
       "\n",
       "    .colab-df-convert {\n",
       "      background-color: #E8F0FE;\n",
       "      border: none;\n",
       "      border-radius: 50%;\n",
       "      cursor: pointer;\n",
       "      display: none;\n",
       "      fill: #1967D2;\n",
       "      height: 32px;\n",
       "      padding: 0 0 0 0;\n",
       "      width: 32px;\n",
       "    }\n",
       "\n",
       "    .colab-df-convert:hover {\n",
       "      background-color: #E2EBFA;\n",
       "      box-shadow: 0px 1px 2px rgba(60, 64, 67, 0.3), 0px 1px 3px 1px rgba(60, 64, 67, 0.15);\n",
       "      fill: #174EA6;\n",
       "    }\n",
       "\n",
       "    [theme=dark] .colab-df-convert {\n",
       "      background-color: #3B4455;\n",
       "      fill: #D2E3FC;\n",
       "    }\n",
       "\n",
       "    [theme=dark] .colab-df-convert:hover {\n",
       "      background-color: #434B5C;\n",
       "      box-shadow: 0px 1px 3px 1px rgba(0, 0, 0, 0.15);\n",
       "      filter: drop-shadow(0px 1px 2px rgba(0, 0, 0, 0.3));\n",
       "      fill: #FFFFFF;\n",
       "    }\n",
       "  </style>\n",
       "\n",
       "      <script>\n",
       "        const buttonEl =\n",
       "          document.querySelector('#df-89b71ea6-1a67-4891-8e48-48def9f57dd6 button.colab-df-convert');\n",
       "        buttonEl.style.display =\n",
       "          google.colab.kernel.accessAllowed ? 'block' : 'none';\n",
       "\n",
       "        async function convertToInteractive(key) {\n",
       "          const element = document.querySelector('#df-89b71ea6-1a67-4891-8e48-48def9f57dd6');\n",
       "          const dataTable =\n",
       "            await google.colab.kernel.invokeFunction('convertToInteractive',\n",
       "                                                     [key], {});\n",
       "          if (!dataTable) return;\n",
       "\n",
       "          const docLinkHtml = 'Like what you see? Visit the ' +\n",
       "            '<a target=\"_blank\" href=https://colab.research.google.com/notebooks/data_table.ipynb>data table notebook</a>'\n",
       "            + ' to learn more about interactive tables.';\n",
       "          element.innerHTML = '';\n",
       "          dataTable['output_type'] = 'display_data';\n",
       "          await google.colab.output.renderOutput(dataTable, element);\n",
       "          const docLink = document.createElement('div');\n",
       "          docLink.innerHTML = docLinkHtml;\n",
       "          element.appendChild(docLink);\n",
       "        }\n",
       "      </script>\n",
       "    </div>\n",
       "  </div>\n",
       "  "
      ],
      "text/plain": [
       "                          object_type chain  count\n",
       "7                                кафе   нет   4675\n",
       "17                           столовая   нет   2581\n",
       "15                           ресторан   нет   1739\n",
       "6                                кафе    да   1396\n",
       "13  предприятие быстрого обслуживания   нет   1110\n",
       "..                                ...   ...    ...\n",
       "4                          закусочная    да     56\n",
       "8                           кафетерий    да     52\n",
       "0                                 бар    да     37\n",
       "2                               буфет    да     11\n",
       "16                           столовая    да      3\n",
       "\n",
       "[18 rows x 3 columns]"
      ]
     },
     "execution_count": 291,
     "metadata": {},
     "output_type": "execute_result"
    }
   ],
   "source": [
    "df.groupby(['object_type', 'chain'])['id'].agg(['count']).reset_index()\\\n",
    "                              .sort_values(by='count', ascending=False)"
   ]
  },
  {
   "cell_type": "code",
   "execution_count": 292,
   "metadata": {
    "colab": {
     "base_uri": "https://localhost:8080/",
     "height": 797
    },
    "id": "punzk21QACAm",
    "outputId": "2d41ef08-4e59-4c74-f6bf-d27b7359f291"
   },
   "outputs": [
    {
     "data": {
      "image/png": "[encoded data removed]",
      "text/plain": [
       "<Figure size 864x576 with 1 Axes>"
      ]
     },
     "metadata": {},
     "output_type": "display_data"
    }
   ],
   "source": [
    "# цифры не очень наглядны, построим график\n",
    "\n",
    "sns.set_palette('dark')\n",
    "sns.set_theme(style=\"white\")\n",
    "plt.figure(figsize=(12,8))\n",
    "sns.barplot(x='object_type', y='count', hue='chain', data=df.groupby(['object_type', 'chain'])\\\n",
    "            ['id'].agg(['count']).reset_index().sort_values(by='count', ascending=False))\n",
    "plt.title('Распределение объектов по типу и принадлежности к сети', fontsize=18)\n",
    "plt.xlabel('Тип объекта', fontsize=14)\n",
    "plt.ylabel('Количество объектов', fontsize=14)\n",
    "plt.xticks(fontsize=14, rotation=90) \n",
    "plt.yticks(fontsize=14)\n",
    "plt.ylim(bottom=0, top=5500);"
   ]
  },
  {
   "cell_type": "markdown",
   "metadata": {
    "id": "AOlN7wjKF8DU"
   },
   "source": [
    "Видно, что:\n",
    "1. Сетевых объектов значительно меньше\n",
    "2. Большинство сетевых объектов сосредоточены в категориях _кафе, ресторан и предприятие быстрого питания._"
   ]
  },
  {
   "cell_type": "markdown",
   "metadata": {
    "id": "YctxrOCMGZZl"
   },
   "source": [
    "В \"абсолютных\" значениях все понятно. Из-за в четыре с лишним раза большего количества сетевых объектов картина в абсолютных числах несколько смазываются. Посмотрим на относительные цифры."
   ]
  },
  {
   "cell_type": "code",
   "execution_count": 293,
   "metadata": {
    "colab": {
     "base_uri": "https://localhost:8080/",
     "height": 332
    },
    "id": "WUHBj9KTQ883",
    "outputId": "6cb68bfb-e58d-4edc-d6bc-d8e3d2a63d42"
   },
   "outputs": [
    {
     "data": {
      "text/html": [
       "\n",
       "  <div id=\"df-afb98d0d-0da2-463e-8e4b-81de3b5fdcd7\">\n",
       "    <div class=\"colab-df-container\">\n",
       "      <div>\n",
       "<style scoped>\n",
       "    .dataframe tbody tr th:only-of-type {\n",
       "        vertical-align: middle;\n",
       "    }\n",
       "\n",
       "    .dataframe tbody tr th {\n",
       "        vertical-align: top;\n",
       "    }\n",
       "\n",
       "    .dataframe thead th {\n",
       "        text-align: right;\n",
       "    }\n",
       "</style>\n",
       "<table border=\"1\" class=\"dataframe\">\n",
       "  <thead>\n",
       "    <tr style=\"text-align: right;\">\n",
       "      <th>chain</th>\n",
       "      <th>object_type</th>\n",
       "      <th>сети</th>\n",
       "      <th>не_сети</th>\n",
       "      <th>chain_part</th>\n",
       "      <th>not_chain_part</th>\n",
       "      <th>chain_part_cumsum</th>\n",
       "    </tr>\n",
       "  </thead>\n",
       "  <tbody>\n",
       "    <tr>\n",
       "      <th>3</th>\n",
       "      <td>кафе</td>\n",
       "      <td>1396</td>\n",
       "      <td>4675</td>\n",
       "      <td>0.47</td>\n",
       "      <td>0.38</td>\n",
       "      <td>0.47</td>\n",
       "    </tr>\n",
       "    <tr>\n",
       "      <th>6</th>\n",
       "      <td>предприятие быстрого обслуживания</td>\n",
       "      <td>788</td>\n",
       "      <td>1110</td>\n",
       "      <td>0.27</td>\n",
       "      <td>0.09</td>\n",
       "      <td>0.74</td>\n",
       "    </tr>\n",
       "    <tr>\n",
       "      <th>7</th>\n",
       "      <td>ресторан</td>\n",
       "      <td>543</td>\n",
       "      <td>1739</td>\n",
       "      <td>0.18</td>\n",
       "      <td>0.14</td>\n",
       "      <td>0.92</td>\n",
       "    </tr>\n",
       "    <tr>\n",
       "      <th>5</th>\n",
       "      <td>магазин (отдел кулинарии)</td>\n",
       "      <td>78</td>\n",
       "      <td>195</td>\n",
       "      <td>0.03</td>\n",
       "      <td>0.02</td>\n",
       "      <td>0.95</td>\n",
       "    </tr>\n",
       "    <tr>\n",
       "      <th>2</th>\n",
       "      <td>закусочная</td>\n",
       "      <td>56</td>\n",
       "      <td>293</td>\n",
       "      <td>0.02</td>\n",
       "      <td>0.02</td>\n",
       "      <td>0.97</td>\n",
       "    </tr>\n",
       "    <tr>\n",
       "      <th>4</th>\n",
       "      <td>кафетерий</td>\n",
       "      <td>52</td>\n",
       "      <td>343</td>\n",
       "      <td>0.02</td>\n",
       "      <td>0.03</td>\n",
       "      <td>0.99</td>\n",
       "    </tr>\n",
       "    <tr>\n",
       "      <th>0</th>\n",
       "      <td>бар</td>\n",
       "      <td>37</td>\n",
       "      <td>818</td>\n",
       "      <td>0.01</td>\n",
       "      <td>0.07</td>\n",
       "      <td>1.00</td>\n",
       "    </tr>\n",
       "    <tr>\n",
       "      <th>1</th>\n",
       "      <td>буфет</td>\n",
       "      <td>11</td>\n",
       "      <td>566</td>\n",
       "      <td>0.00</td>\n",
       "      <td>0.05</td>\n",
       "      <td>1.00</td>\n",
       "    </tr>\n",
       "    <tr>\n",
       "      <th>8</th>\n",
       "      <td>столовая</td>\n",
       "      <td>3</td>\n",
       "      <td>2581</td>\n",
       "      <td>0.00</td>\n",
       "      <td>0.21</td>\n",
       "      <td>1.00</td>\n",
       "    </tr>\n",
       "  </tbody>\n",
       "</table>\n",
       "</div>\n",
       "      <button class=\"colab-df-convert\" onclick=\"convertToInteractive('df-afb98d0d-0da2-463e-8e4b-81de3b5fdcd7')\"\n",
       "              title=\"Convert this dataframe to an interactive table.\"\n",
       "              style=\"display:none;\">\n",
       "        \n",
       "  <svg xmlns=\"http://www.w3.org/2000/svg\" height=\"24px\"viewBox=\"0 0 24 24\"\n",
       "       width=\"24px\">\n",
       "    <path d=\"M0 0h24v24H0V0z\" fill=\"none\"/>\n",
       "    <path d=\"M18.56 5.44l.94 2.06.94-2.06 2.06-.94-2.06-.94-.94-2.06-.94 2.06-2.06.94zm-11 1L8.5 8.5l.94-2.06 2.06-.94-2.06-.94L8.5 2.5l-.94 2.06-2.06.94zm10 10l.94 2.06.94-2.06 2.06-.94-2.06-.94-.94-2.06-.94 2.06-2.06.94z\"/><path d=\"M17.41 7.96l-1.37-1.37c-.4-.4-.92-.59-1.43-.59-.52 0-1.04.2-1.43.59L10.3 9.45l-7.72 7.72c-.78.78-.78 2.05 0 2.83L4 21.41c.39.39.9.59 1.41.59.51 0 1.02-.2 1.41-.59l7.78-7.78 2.81-2.81c.8-.78.8-2.07 0-2.86zM5.41 20L4 18.59l7.72-7.72 1.47 1.35L5.41 20z\"/>\n",
       "  </svg>\n",
       "      </button>\n",
       "      \n",
       "  <style>\n",
       "    .colab-df-container {\n",
       "      display:flex;\n",
       "      flex-wrap:wrap;\n",
       "      gap: 12px;\n",
       "    }\n",
       "\n",
       "    .colab-df-convert {\n",
       "      background-color: #E8F0FE;\n",
       "      border: none;\n",
       "      border-radius: 50%;\n",
       "      cursor: pointer;\n",
       "      display: none;\n",
       "      fill: #1967D2;\n",
       "      height: 32px;\n",
       "      padding: 0 0 0 0;\n",
       "      width: 32px;\n",
       "    }\n",
       "\n",
       "    .colab-df-convert:hover {\n",
       "      background-color: #E2EBFA;\n",
       "      box-shadow: 0px 1px 2px rgba(60, 64, 67, 0.3), 0px 1px 3px 1px rgba(60, 64, 67, 0.15);\n",
       "      fill: #174EA6;\n",
       "    }\n",
       "\n",
       "    [theme=dark] .colab-df-convert {\n",
       "      background-color: #3B4455;\n",
       "      fill: #D2E3FC;\n",
       "    }\n",
       "\n",
       "    [theme=dark] .colab-df-convert:hover {\n",
       "      background-color: #434B5C;\n",
       "      box-shadow: 0px 1px 3px 1px rgba(0, 0, 0, 0.15);\n",
       "      filter: drop-shadow(0px 1px 2px rgba(0, 0, 0, 0.3));\n",
       "      fill: #FFFFFF;\n",
       "    }\n",
       "  </style>\n",
       "\n",
       "      <script>\n",
       "        const buttonEl =\n",
       "          document.querySelector('#df-afb98d0d-0da2-463e-8e4b-81de3b5fdcd7 button.colab-df-convert');\n",
       "        buttonEl.style.display =\n",
       "          google.colab.kernel.accessAllowed ? 'block' : 'none';\n",
       "\n",
       "        async function convertToInteractive(key) {\n",
       "          const element = document.querySelector('#df-afb98d0d-0da2-463e-8e4b-81de3b5fdcd7');\n",
       "          const dataTable =\n",
       "            await google.colab.kernel.invokeFunction('convertToInteractive',\n",
       "                                                     [key], {});\n",
       "          if (!dataTable) return;\n",
       "\n",
       "          const docLinkHtml = 'Like what you see? Visit the ' +\n",
       "            '<a target=\"_blank\" href=https://colab.research.google.com/notebooks/data_table.ipynb>data table notebook</a>'\n",
       "            + ' to learn more about interactive tables.';\n",
       "          element.innerHTML = '';\n",
       "          dataTable['output_type'] = 'display_data';\n",
       "          await google.colab.output.renderOutput(dataTable, element);\n",
       "          const docLink = document.createElement('div');\n",
       "          docLink.innerHTML = docLinkHtml;\n",
       "          element.appendChild(docLink);\n",
       "        }\n",
       "      </script>\n",
       "    </div>\n",
       "  </div>\n",
       "  "
      ],
      "text/plain": [
       "chain                        object_type  сети  не_сети  chain_part  \\\n",
       "3                                   кафе  1396     4675        0.47   \n",
       "6      предприятие быстрого обслуживания   788     1110        0.27   \n",
       "7                               ресторан   543     1739        0.18   \n",
       "5              магазин (отдел кулинарии)    78      195        0.03   \n",
       "2                             закусочная    56      293        0.02   \n",
       "4                              кафетерий    52      343        0.02   \n",
       "0                                    бар    37      818        0.01   \n",
       "1                                  буфет    11      566        0.00   \n",
       "8                               столовая     3     2581        0.00   \n",
       "\n",
       "chain  not_chain_part  chain_part_cumsum  \n",
       "3                0.38               0.47  \n",
       "6                0.09               0.74  \n",
       "7                0.14               0.92  \n",
       "5                0.02               0.95  \n",
       "2                0.02               0.97  \n",
       "4                0.03               0.99  \n",
       "0                0.07               1.00  \n",
       "1                0.05               1.00  \n",
       "8                0.21               1.00  "
      ]
     },
     "execution_count": 293,
     "metadata": {},
     "output_type": "execute_result"
    }
   ],
   "source": [
    "# сгруппируем данные по типу объекта и посмотрим распределение по типу\n",
    "# объекта в сетевых и несетевых заведениях, добавим колонки с долей \n",
    "# каждого типа в сетевых и несетевых заведениях\n",
    "\n",
    "t = pd.pivot_table(df, index='object_type', values='id', columns='chain',\\\n",
    "                                                          aggfunc='count')\n",
    "t = t.reset_index().rename(columns={\"да\": \"сети\", \"нет\": \"не_сети\"})\\\n",
    "                             .sort_values(by='сети', ascending=False)\n",
    "t['chain_part'] = t['сети'] / t['сети'].sum().round(2)\n",
    "t['not_chain_part'] = t['не_сети'] / t['не_сети'].sum().round(2)\n",
    "t['chain_part'] = t['chain_part'].round(2)\n",
    "t['not_chain_part'] = t['not_chain_part'].round(2)\n",
    "t['chain_part_cumsum'] = t['chain_part'].cumsum()      # кумулятивная сумма для \n",
    "t                                                      # сетевых объектов"
   ]
  },
  {
   "cell_type": "markdown",
   "metadata": {
    "id": "PUp3Td-ZD4ZC"
   },
   "source": [
    "<div class=\"alert alert-danger\">\n",
    "<b>Комментарий ревьюера:</b>☁️\n",
    "\n",
    "Прошу объяснить, я думал, что ты построишь процент сетевых относительно общего числа заведений для каждого типа, а сейчас визуализация очень похожа на то, что было изображено выше и я не понимаю зачем она тогда строилась\n",
    "</div>\n"
   ]
  },
  {
   "cell_type": "markdown",
   "metadata": {
    "id": "ilzroqovFwwn"
   },
   "source": [
    "<div class=\"alert alert-info\"> <b>Комментарий студента:</b> Попробую объяснить. На графике показана доля каждого типа объекта в разрезе сеть/не сеть. Например, всего 1396 сетевых кафе, это 47% от всех сетевых объектов, что довольно много, почти половина. \n",
    "Задача показать именно долю в разрезе сеть/не сеть, потому что сетевых заведений в 4 раза меньше и в абсолютных цифрах сети теряются. Те же кафе - 4675 несетевых объектов против 1396 сетевых. На графике сети выглядят очень маленькими, поэтому решил сделать такую визуализацию. Попробовал донести свои мысли. Если не удалось, удалю этот пункт.</div>"
   ]
  },
  {
   "cell_type": "markdown",
   "metadata": {},
   "source": [
    "<div class=\"alert alert-success\">\n",
    "<b>Комментарий ревьюера v2:</b>☀️\n",
    "    \n",
    "Понял, спасибо, мне кажется здесь бы удачнее смотрелся вариант с визуализацией процентов сетевых заведений относительно всех заведений типа, например для кафе 1396 /( 1396 +4675), там есть немного инсайтов \n",
    "</div>\n"
   ]
  },
  {
   "cell_type": "code",
   "execution_count": 294,
   "metadata": {
    "colab": {
     "base_uri": "https://localhost:8080/",
     "height": 796
    },
    "id": "O65mWfKCCSZK",
    "outputId": "aa2658b5-32f8-48e5-c587-9393047c9606"
   },
   "outputs": [
    {
     "data": {
      "image/png": "[encoded data removed]",
      "text/plain": [
       "<Figure size 864x576 with 1 Axes>"
      ]
     },
     "metadata": {},
     "output_type": "display_data"
    }
   ],
   "source": [
    "# для наглядности построим простой барплот\n",
    "\n",
    "\n",
    "plt.style.use('seaborn-dark')\n",
    "t.plot(x=\"object_type\", y=[\"chain_part\", \"not_chain_part\"],\\\n",
    "       kind=\"bar\", figsize=(12, 8));\n",
    "plt.title('Доля объектов по типу в сетях и не сетях \\n', fontsize=18)\n",
    "plt.ylabel('Доля типа в общем количестве \\n', fontsize=18)\n",
    "plt.xlabel('\\n Тип заведения', fontsize=18)\n",
    "plt.xticks(fontsize=14)\n",
    "plt.yticks(fontsize=14)\n",
    "plt.legend(loc='best')\n",
    "plt.ylim(bottom=0, top=0.55)\n",
    "plt.grid(axis='both')"
   ]
  },
  {
   "cell_type": "code",
   "execution_count": 295,
   "metadata": {
    "colab": {
     "base_uri": "https://localhost:8080/"
    },
    "id": "o9wH8MgcEZWs",
    "outputId": "c6cf45f6-a41f-4d6d-e788-f4d91cbc8ea5"
   },
   "outputs": [
    {
     "data": {
      "text/plain": [
       "['кафе', 'предприятие быстрого обслуживания', 'ресторан']"
      ]
     },
     "execution_count": 295,
     "metadata": {},
     "output_type": "execute_result"
    }
   ],
   "source": [
    "# топ-3 категории сетевых объектов\n",
    "\n",
    "list(t['object_type'][:3])"
   ]
  },
  {
   "cell_type": "code",
   "execution_count": 296,
   "metadata": {
    "colab": {
     "base_uri": "https://localhost:8080/"
    },
    "id": "E2pXPEipE7Za",
    "outputId": "fd5f3dec-4b53-409e-f476-664dbf629839"
   },
   "outputs": [
    {
     "data": {
      "text/plain": [
       "['закусочная', 'кафетерий', 'бар', 'буфет', 'столовая']"
      ]
     },
     "execution_count": 296,
     "metadata": {},
     "output_type": "execute_result"
    }
   ],
   "source": [
    "# остальные типы объектов в категории \"сети\"\n",
    "\n",
    "list(t['object_type'][4:])"
   ]
  },
  {
   "cell_type": "markdown",
   "metadata": {
    "id": "7C9tDFXSSdSC"
   },
   "source": [
    "### Вывод:\n",
    "Основная масса сетевых заведений: 'кафе', 'предприятие быстрого обслуживания', 'ресторан'. Эти три категории занимают 92% по количеству от всех сетевых точек.\n",
    "\n",
    "Остальные категории — 'закусочная', 'кафетерий', 'бар', 'буфет', 'столовая' — вместе дают всего лишь 8% по количеству. Если убрать \"бар\", то оставшиеся типы и вовсе дадут 5%. \n",
    "\n",
    "Этим сетевые заведения принципиально отличаются от несетевых. В несетях второе место занимает \"столовая\" с долей 21%. В три раза больше сетевиков в категории фастфуда — 27% и 9% соответственно. \n",
    "\n",
    "\"Пустота\" по сетевым заведениям в категориях \"бар\" и \"буфет\", что тоже логично. \n",
    "\n",
    "**Резюме**: для сетевых заведений наиболее востребованы категории _'кафе', 'предприятие быстрого обслуживания', 'ресторан'_. Худшие категории для сетей _'бар', 'буфет', 'столовая'_."
   ]
  },
  {
   "cell_type": "markdown",
   "metadata": {
    "id": "EdMXUw3IPB1j"
   },
   "source": [
    "### Распределение по количеству посадочных мест в сетевых объектах"
   ]
  },
  {
   "cell_type": "markdown",
   "metadata": {
    "id": "mvX1ndUH8UUX"
   },
   "source": [
    "Посмотрим на названия сетевых объектов"
   ]
  },
  {
   "cell_type": "code",
   "execution_count": 297,
   "metadata": {
    "colab": {
     "base_uri": "https://localhost:8080/"
    },
    "id": "fmWg7EMK8cOe",
    "outputId": "79fad168-bef8-4a68-eae0-3c422ca37fc1"
   },
   "outputs": [
    {
     "data": {
      "text/plain": [
       "array(['ПИЦЦЕТОРИЯ', 'Брусника', 'Алло Пицца', 'Суши Wok', 'Тануки',\n",
       "       \"Домино'с Пицца\", 'Готика', 'Му-Му', 'Хлеб насущный', 'TAJJ MAHAL',\n",
       "       'ДАНКИН ДОНАТС', 'Вареничная №1', 'ШОКОЛАДНИЦА', 'Теремок',\n",
       "       'Хинкальная', 'Шантимель', 'ТАНУКИ', 'Шоколадница', 'МУ-МУ',\n",
       "       'Хинкальная City', 'КРУЖКА', 'СУШИ ВОК', 'ПРИМАВЕРА', 'Виктория',\n",
       "       'Пиццерия «АКАДЕМИЯ»', 'Чебуречная СССР', 'МАКДОНАЛДС',\n",
       "       'Grand Cru', 'Чайхона №1', 'Панчо Пицца', 'KFC', 'Сабвей',\n",
       "       'ресторан «Якитория»', 'Советские времена', 'Кафе «Андерсон»',\n",
       "       'Кафе «Subway»', 'Ресторан «Макдоналдс»', 'Суши Сет', 'Суши WoK',\n",
       "       'Шоколад', 'Тирольские пироги', 'Гамбринус', 'Пицца Фабрика',\n",
       "       'Subway', 'Кафе «Якитория»', 'Кафе «Тануки»', 'Сити Пицца',\n",
       "       'Кружка', 'Кофе Хаус',\n",
       "       'Кулинарная Лавка Братьев Караваевых Братья Караваевы', 'Суши Вок',\n",
       "       'Прайм', 'Пицца Экспресс', 'Шоколадница Кофе Хаус', 'Николай',\n",
       "       'Якитория', 'МАГНОЛИЯ', 'КОФЕ С СОБОЙ', 'Джаганнат', 'Волконский',\n",
       "       'MosKalyan', 'Гино-но-таки', 'Макдоналдс', 'Тратория Semplice',\n",
       "       'Ньокки', 'Хижина', 'Додо Пицца', 'Крошка Картошка', 'Бургер Кинг',\n",
       "       'Суши WOK', 'Папа Джонс', 'Кондитерская Волконский',\n",
       "       'Бар- буфет «Николай»', 'Ресторан «Тануки»', 'Две палочки',\n",
       "       'Джон Джоли', 'Ваби-Саби', 'Кофемания', 'Простые Вещи',\n",
       "       'Павлин-Мавлин', 'Кафе «Чайхана Тапчан»', 'Штолле', 'Суши сет',\n",
       "       'Кофе с собой', 'Бабай Клаб', 'Андерсон', 'КОФЕМАНИЯ',\n",
       "       'КОФЕ ХАУС. ЭКСПРЕССО И КАПУЧИНО БАР', 'КАКТУС', 'Темпл бар',\n",
       "       'Хлеб&Co', 'Кофе-Бин', 'Французская выпечка',\n",
       "       'Кофейня «Кофе Хаус»', 'Планета Суши', 'Де Марко',\n",
       "       'Ресторан «Илья Муромец»', 'Ресторан «Корчма Тарас Бульба»',\n",
       "       'Кофейня «Шоколадница»', 'Стейк Хаус ГУДМАН', 'ИЛЬ ПАТИО',\n",
       "       'Иль-патио', 'ЯКИТОРИЯ', 'Мюнгер', 'БОТИК ПЕТРА',\n",
       "       'кафе «Папа Джонс»', 'Кафе «Штолле»', 'Чин Чин', 'ПРАВDА Кофе',\n",
       "       'Сити', 'Krispy Creme', 'Prime Прайм стар', 'Азбука Вкуса',\n",
       "       'Ресторан «Якитория»', 'КАФЕ «ШТОЛЛЕ»', 'РЕСТОРАН «ДЖОН ДЖОЛИ»',\n",
       "       'Ресторан «ТАНУКИ»', 'КОФЕ ХАУС', 'РЕСТОРАН «Тануки»', 'ПИВКО',\n",
       "       'Додо пицца', 'Пиццерия «Папа Джонс»', 'Ресторан «Брудер»',\n",
       "       'ПРАЙМ', 'ДЖОН ДЖОЛИ', 'Мимино', 'Кофепорт',\n",
       "       'Кафе «Пицца Фабрика»', 'Прайм стар', 'Цинандали Хинкальная',\n",
       "       'Иль Форно', 'Travelers Coffee', 'Рецептор', 'СушиШоп',\n",
       "       'Кофе-Хаус', 'Баскин Роббинс', 'Барашка', 'КОРЧМА «ТАРАС БУЛЬБА»',\n",
       "       'Кафе «Шоколадница»', 'Пицца Хат', 'Мята Lounge', 'Costa Coffee',\n",
       "       'Илья Муромец', 'Ёрш', 'СтардогS', 'КОРЧМА ТАРАС БУЛЬБА',\n",
       "       'UPSIDE DOWN CAKE', 'Кафе Пекарня Хачапури',\n",
       "       'Домашнее Кафе сеть городских кафе', 'Ресторан Тануки',\n",
       "       'Бар-буфет Николай', 'Добрынинский и партнёры',\n",
       "       'КОФЕЙНЯ «ДЕ МАРКО»', 'Менза', 'Тапчан', 'Колбасофф',\n",
       "       'Крепери де пари', \"Домино'с пицца\", 'БРАВА Коста кофе',\n",
       "       'Старбакс Starbucks', 'АндерСон', 'Венеция', 'Жан Жак', 'Гурмания',\n",
       "       'Кулинарная лавка братьев Караваевых', 'Кафе «Тапчан»',\n",
       "       'Ресторан «Ньокки»', 'Bierloga', 'Штирбирлиц', 'Маки-Маки',\n",
       "       'ХАЧАПУРИ', 'В&В Бургер', 'Прайм Стар', 'Jeffreys coffee',\n",
       "       'Travelers Coffe', 'АКАДЕМИЯ', 'Дабл Би', 'Иль Патио',\n",
       "       'ЗОЛОТАЯ ВОБЛА', 'ТЕРЕМОК', 'Корчма Тарас Бульба', 'АЛЛО ПИЦЦА',\n",
       "       'ПИЛЗНЕР', 'Траттория Примавера', 'ПРАЙМкафе Прайм стар',\n",
       "       \"Пиццерия «Домино'с Пицца»\", 'Кафе «Суши Сет»', 'Коста Кофе',\n",
       "       'СУШИ WOK', 'РЕСТОРАН «ТАНУКИ»', 'Перекресток', 'Starbucks',\n",
       "       'Руккола', 'Иль Патио Планета Суши', 'Кафе «Starbucks»',\n",
       "       'Шантимель (кондитерские)', 'Милано пицца',\n",
       "       'Ресторан «Джон Джоли»', 'Зодиак', 'Ресторан «Ёрш»', 'Торро Гриль',\n",
       "       'ФИТНЕС-БАР «WORLD CLASS»', 'Роллофф', 'Кафе «Кулинарное бюро»',\n",
       "       'БУРГЕР КИНГ', 'Билла', 'УРЮК', 'Темпл Бар', 'Кофейня «Старбакс»',\n",
       "       'Кафе «Кружка»', 'Пицца экспресс', 'Tokyo bay',\n",
       "       'Пиццерия «ПАПА ДЖОНС»', 'КУЛИНАРНОЕ БЮРО', 'Пиппони',\n",
       "       'Пицца Пипони', 'Золотая вобла', 'ДЕТСКОЕ КАФЕ «АНДЕРСОН»',\n",
       "       'Кулинарное бюро', 'КАФЕ «Хлеб насущный»', 'ПИЦЦЕРИЯ «Папа Джонс»',\n",
       "       'КАФЕ «Андерсон»', 'Кулинарное бюро Китчен', 'Сытая Утка',\n",
       "       'Икура Паб', 'Сварня', 'Пиццетория', 'ДЕТСКИЙ КЛУБ «АНДЕРСОН»',\n",
       "       'Пиццерия Пиу дель Чибо',\n",
       "       'Предприятие быстрого обслуживания «Бургер Кинг»',\n",
       "       'Предприятие быстрого обслуживания «Крошка Картошка»',\n",
       "       'Предприятие быстрого обслуживания «Макдоналдс»',\n",
       "       'Предприятие быстрого обслуживания «Теремок»', 'Ичибан Боши',\n",
       "       'Макс Бреннер', 'Бутчер Бизон', 'Магбургер АЗС №16',\n",
       "       'Магазин-кулинария «Суши Сет»', 'Магбургер АЗС №17',\n",
       "       'Кондитерская-пекарня Волконский', 'Му-му', 'IL Forno Иль Форно',\n",
       "       'Хлеб Насущный', 'Кафе «Prime» Прайм стар', 'То Да Сё',\n",
       "       'Пицца Pomodoro', 'Бургер Кинг Burger King',\n",
       "       'Чешская пивная «Козловица»', 'Ресторан Джон Джоли',\n",
       "       'Простые вещи', 'Грабли', 'VietCafe Вьеткафе', 'Оникс',\n",
       "       'Пицца Pomodoro и Суши Дзен', 'Вьеткафе', 'Да Пино',\n",
       "       'Старина Миллер', 'Кафе Рецептор', 'Якитория и Ян Примус',\n",
       "       'СТАРИНА МЮЛЛЕР Старина Миллер', 'Кафе Кофемания', 'Хинкальная №1',\n",
       "       'Пронто', 'Пицца «Паоло»', 'Лепешка', 'Чешская пивная «Пилзнер»',\n",
       "       'ПИРОГИ ШТОЛЛЕ', 'Крепери де Пари', 'Гурман', 'ТЕРРИТОРИЯ ЯСЕНЕВО',\n",
       "       'Сабвей СушиВок', 'Городские автокофейни', 'ВГости. Урюк',\n",
       "       'Порто Мальтезе', 'Мимино Хинкальная', 'Квартира 44',\n",
       "       'Хинкальная КИНТО', 'КОЛБАСОФФ', 'Урюк',\n",
       "       'Американ Сити Пицца ЦЕХ ПО ИЗГОТОВЛЕНИЮ ПИЦЦЫ',\n",
       "       'РЕСТОРАН «Чайхона №1»', 'БАР Азбука Вкуса', 'КАФЕ «Шоколадница»',\n",
       "       'Суп Кафе', 'Ресторан «Florentini»', 'Upside Down Cake',\n",
       "       'Поль Бейкери', 'кафе «Шоколадница»', 'Кафе «Му-Му»',\n",
       "       'GlowSubs Sandwiches', 'Ми Пьяче', 'Кафе «Хинкальная»',\n",
       "       'Закусочная «СушиШоп»', 'Ресторан «Территория»', 'Кафе «KFC»',\n",
       "       'Кафе «Пицца Хат»', 'Пиццерия Донателло',\n",
       "       'Закусочная «Американ Сити Пицца»',\n",
       "       'Предприятие быстрого обслуживания «СушиШоп»',\n",
       "       'Кафе «PRIME» Прайм стар', 'Нияма Пицца Пи', 'Кафе «Ваби-Саби»',\n",
       "       'Кафе «Марукамэ»', 'Кафе Чайхона №1', 'Бир хаус', 'САБВЕЙ',\n",
       "       'Хачапури', 'СПБ', 'Кебаб хаус', 'Прайм-кафе', 'PAUL Поль',\n",
       "       'ВЕНЕЦИЯ', 'ШАШЛЫК-МАШЛЫК', 'ГЕНАЦВАЛИ', 'Территория TIMBIGFAMILY',\n",
       "       'Территория', 'Да Пино (Da Pino)',\n",
       "       'Кулинарная лавка братьев Караваевых Братья Караваевы',\n",
       "       'Ресторан «Золотая Вобла»', 'Кафе PRIME Прайм стар',\n",
       "       'Граци рагацци Зю Кафе', 'Виват-Пицца', 'Ресторан «Вьеткафе»',\n",
       "       'Пироговая Штолле', 'Сабвей Subway', 'Starlite Diner',\n",
       "       'Прайм-кафе Прайм стар', 'ресторан «Брудер»', 'Старбакс', 'ПРОНТО',\n",
       "       'РЕСТОРАН «УРЮК»', 'Krispy Krem', 'ГРАБЛИ', 'Кофе Хаус,Экспресс',\n",
       "       'Ростикс KFC', 'Ресторан «ИЛЬ ПАТИО»', 'Ресторан Маки-Маки',\n",
       "       'КАФЕ «МУ-МУ»', 'Кофейня Шоколадница', 'Кафе Пронто',\n",
       "       'Кафе Якитория', 'Кофетун', 'ТАШИР ПИЦЦА', 'Ресторан Хинкальная',\n",
       "       'Закусочная KFC', 'Елки-Палки', 'Кофейня ШОКОЛАДНИЦА',\n",
       "       'Кафе КОФЕ ТУН', 'Метро К&К', 'Тамаси Суши', 'Burger Club',\n",
       "       'ФАНТОЦЦИ РУС', 'КАФЕ «ЯКИТОРИЯ»', 'Кафе «Урюк» Хивинская чайхона',\n",
       "       'Ресторан «Пронто»', 'Изба', 'Воккер', 'Нияма', 'Ганс и Марта',\n",
       "       'Кафе «Поль Бейкери»', 'Кафе «Сабвей» Старбакс',\n",
       "       'KFC Волгоградский', 'Кофе', 'Ресторан «Чайхона №1»',\n",
       "       'Кафе «Теремок»', 'Ливан-хаус', 'Крошка картошка', 'Лето',\n",
       "       'Кафе «АндерСон»', 'Суши бар «Маки-маки»', 'ЯММИ МИКС', 'Брудер',\n",
       "       'Бургер кинг', 'Баракат', 'Кафе при АЗС', 'Урюк Вавилова',\n",
       "       'SUBWAY', 'Кафе теремок', 'Кулинарное бюро Kitchen',\n",
       "       'МОСКВА - МАКДОНАЛДС', 'ТЕРЕМОК ИНВЕСТ', 'Ресторан«ВьетКафе»',\n",
       "       'НИЯМА', 'Кафе Космик', 'СушиМан', 'Кафе шоколад', 'ЯПОША',\n",
       "       'МАКИ-МАКИ', 'Примавера', 'Кофе тун', 'Барбарис', 'Yogurt Frenzy',\n",
       "       'Ташир пицца', 'Bocconcino', 'ПОМИДОР', 'Дюшес', 'Маки-маки',\n",
       "       'Планета суши', 'Чайхона №1 Бутово', 'Кафе «То Да Сё»',\n",
       "       'кафе «Старбакс»', 'Урожай', 'Ресторан «Ян Примус»', 'ШВАРЦВАЛЬД',\n",
       "       'TUTTI FRUTTI FROZEN YOGURT', 'Данкин Донатс', 'Кафе «Нияма»',\n",
       "       'Кафе «Менза»', 'Ресторан «Джардино Да Пино»', 'Кафе «МЕЛЕНКА»',\n",
       "       'Кафе «Кофейня Старбакс»', 'Ресторан «Колбасофф»',\n",
       "       'КАФЕ МАКДОНАЛДС', 'КАФЕ «Теремок»', 'КАФЕ KFC', 'Сбарро',\n",
       "       'КАФЕ «МАКДОНАЛДС»', 'КАФЕ «Восточный базар»', 'КАФЕ Кофе-Хаус',\n",
       "       'КАФЕ Starbucks', 'РЕСТОРАН «Космик»', 'КАРО', 'ХИНКАЛЬНАЯ',\n",
       "       'ПБО «KFC Покрышкина»', 'кафе «Му-Му»', 'Кофейня «СТАРБАКС КОФЕ»',\n",
       "       'Ресторан «Планета Суши»', 'White Rabbite (Белый кролик)',\n",
       "       'БАКИНСКИЙ БУЛЬВАР', 'Ян Примус', 'Кафе МУ-МУ',\n",
       "       'Кафе «Prime» (Прайм стар)', 'Healthy Food', 'Sushilka',\n",
       "       'Кебаб Хаус', 'Coffeeshop Company', 'Теремок-Инвест',\n",
       "       'Кафе «МАКДОНАЛДС»', 'ИЛЬ ФОРНО', 'Maki Maki',\n",
       "       'РЕСТОРАН«МАКДОНАЛДС»', 'ЧАЙХОНА №1', 'РЕСТОРАН «ЧАЙХОНА №1»',\n",
       "       'КОФЕЙНЯ «ШОКОЛАДНИЦА»', 'АНДЕРСОН', 'КАФЕ «ТЕРЕМОК»',\n",
       "       'СТЕЙК-ХАУС ГУДМАН', 'МЕНЗА', 'Барбекю', 'Обжорный ряд', 'Космик',\n",
       "       'Ресторан «БРУДЕР»', 'Тайм Авеню', 'Братья Караваевы',\n",
       "       'СтардогS и шаурма', 'Wok & Box', 'ПивКо',\n",
       "       'Кафе при АЗС Газпромнефть', 'Старбакс Кофе', 'Бар Боулинг-Космик',\n",
       "       'Академия', 'Ресторан «Темпл Бар»', 'Закусочная «Бургер Кинг»',\n",
       "       'Ресторан «Чайхана Урюк»', 'Прайм Стар кафе',\n",
       "       'Кофе с собой Gate 42', 'Кафе-закусочная «Бургер Кинг»',\n",
       "       'Ресторан «ЯКИТОРИЯ»', 'Кафе «Торнадо»', 'Магбургер', 'КОФЕПОРТ',\n",
       "       'Ресторан «Теремок»', 'Кафе «Макдоналдс»',\n",
       "       'Ресторан «Бакинский бульвар»', 'Бакинский бульвар',\n",
       "       \"Предприятие быстрого обслуживания «Домино'с Пицца»\",\n",
       "       'Кафе «Прайм Стар»', 'Кафе «SUBWAY»',\n",
       "       'Предприятие быстрого обслуживания «Бенто WOK»',\n",
       "       'Предприятие быстрого обслуживания «KFC»', 'Бургер клаб',\n",
       "       'Кафе «Кофе Хаус»', 'Кафе при АЗС «BP»', 'Wokker', 'АРИАНА',\n",
       "       'Кафе «Суши Вок»', 'Кафе «Бургер Кинг»', 'ПАПА ДЖОНС ПИЦЦА',\n",
       "       'Закусочная «Теремок»', 'Закусочная «Крошка Картошка»',\n",
       "       'Ресторан «Иль Патио»', 'Спорт-бар «Космик»', 'Ресторан «Космик»',\n",
       "       'Ресторан японской кухни «Маки-Маки»', 'Детское кафе «Космик»',\n",
       "       'Кафе ПРОНТО', 'Кофейня «Кофе хаус»', 'Ванвок', 'Шикари Иль Патио',\n",
       "       'Кафе «Данкин Донатс»', 'Ресторан «Бургер Кинг»',\n",
       "       'Кафе «Крошка Картошка»', 'Закусочная «KFC»',\n",
       "       'Закусочная «Пицца Хат»', 'Кафе «Costa coffee»', 'Каффе «Wokker»',\n",
       "       'Семейный ресторан «Космик»', 'Кафе Иль Патио «Il Patio»',\n",
       "       'Ресторан «Урюк»', 'Кофейня «Дабл Би»', 'Ресторан KFC',\n",
       "       'Ресторан быстрого питания «Крошка Картошка»', 'кафе «Нияма»',\n",
       "       'Starbucks кофе', 'МИ ПЬЯЧЕ', 'Пражечка',\n",
       "       'Павлин Мавлин Чайхона №1', 'Блинная', 'Correas',\n",
       "       'Мистер Картошка', 'Кафе «Сим-Сим»', 'Кафе «Му-му»',\n",
       "       'Pizengof99 СПБ', 'Меленка', 'Югос', 'Марчеллис',\n",
       "       'Кафе Песто и Митлес', 'Ресторан «Вареничная №1»', 'Молли гвинз',\n",
       "       'ВьетКафе', 'Шоколадница Кофемания', 'Дорогая я перезвоню',\n",
       "       'M Cafe Хинкальная', 'Marrakesh Хинкальная',\n",
       "       'Кофейня Кофемания, пиццерия Бармалини',\n",
       "       'Кофешоп Coffeeshop Company', 'Гудман Гудвин', 'Гудман',\n",
       "       'Torro Grill Торро Гриль', 'Ресторан Торро Гриль',\n",
       "       'Кафе «Старбакс»', 'The Terrace', 'Ваби-саби', 'Бир Хаус Паб',\n",
       "       'CORREAS', 'Вlack Burger Чайхона №1', 'Пончиковое кафе ИКЕА Ikea',\n",
       "       'Ресторан ИКЕА Ikea', 'Black & White', 'Пиццерия «Додо Пицца»',\n",
       "       'Роснефть', 'Upside Down', 'ПБО «KFC»', 'ПБО «Теремок»',\n",
       "       'Starbucks, СТАРБАКС КОФЕ', 'КОФЕЙНЯ «Costa Coffee»',\n",
       "       \"ДОМИНО'С ПИЦЦА\", 'Cookhouse', 'Dunkin Donuts',\n",
       "       'МСК Московская сеть кальянных', 'Братья Караваевых',\n",
       "       'Кафе Бургер Кинг', 'Кафе «ТО ДА СЁ»',\n",
       "       'Предприятие быстрого обслуживания «Магбургер»',\n",
       "       'Кафе «Баскин Роббинс»', 'Ресторан «БУРГЕР КИНГ»',\n",
       "       'Кафе БУРГЕР КИНГ', 'Пицца Паоло', 'COFIX', 'Пикколо', 'Пицца хат',\n",
       "       'Cofix', 'Милти', 'Сеть магазинов «Суши Wok»', 'Васаби',\n",
       "       'Грузинская кухня ЭZО Хинкальная', 'Кафе быстрого питания Му-му',\n",
       "       'Ресторан ТАНУКИ', 'Кафе Суши Wok', 'Хачапури, Одесса -мама',\n",
       "       'TGI FRIDAYS', 'Deli by Prime Прайм-кафе', 'Пицерия «Папа Джонс»',\n",
       "       'HEALTHY Food', 'Дабл Би блэк', 'Азбука вкуса', 'МИМИНО',\n",
       "       'Точка продажи готовой еды Милти',\n",
       "       'Предприятие быстрого обслуживания «ДОДО Пицца»',\n",
       "       'Суши «Маки-Маки»', 'Семейное кафе и кондитерская «Андерсон»',\n",
       "       'Пиццерия Папа Джонс', 'GRAND УРЮК', 'Кафе Волконский пекарня',\n",
       "       'Стардогs', 'Panda Express', 'Кафе «БУРГЕР КИНГ»',\n",
       "       'АВ-Дейли Азбука Вкуса', 'ШАНТИМЕЛЬ', 'Healthy food',\n",
       "       'Ирландский Паб', 'Ресторан «KFC»',\n",
       "       'Кафе мороженного «Tutti Frutti»', 'Кафе «Суши Wok»',\n",
       "       'Бар «Суши Wok»', 'Япоша', 'КУЛИНАРНАЯ ЛАВКА БРАТЬЕВ КАРАВАЕВЫХ',\n",
       "       \"Ресторан «Домино'с Пицца»\", 'Tutti frutti', 'Кафе «Папа Джонс»',\n",
       "       'ПАПА ДЖОНС', 'Кафе Prime Прайм стар Прайм-кафе',\n",
       "       'PRIME Прайм стар Прайм-кафе', 'Суши вок', \"Кафе «Домино'с Пицца»\",\n",
       "       'КАФЕ-ПЕКАРЕЯ «ВОЛКОНСКИЙ»', 'Нияма. Пицца Пи', 'Алло Пицца 2',\n",
       "       'БИСТРО ПРОНТО', 'ШТОЛЛЕ', 'Ливан-Хаус', 'Зю Кафе',\n",
       "       'Восточный базар', 'Сказка', 'Ресторан «Хинкальная»',\n",
       "       'Jeffreys Coffee', 'Ресторан «Пицца Хат»', 'Вкусняшка',\n",
       "       'МагБургер', 'Грузинские каникулы Барбарис', 'Стардогс СтардогS',\n",
       "       'Суши тун, Хруст pizza, Кофе тун', 'Кофе с собой «Кофейня»',\n",
       "       'Пиццерия «Пицца Паоло»', 'Кафе при АЗС Лукойл',\n",
       "       'Лукойл-Центрнефтьпродукт', 'FRIDAYS', 'TGI Fridays', 'Мираторг',\n",
       "       'Закусочная «Баскин Роббинс & Стардогс»', 'Бенто WOK',\n",
       "       'Кафе «Иль Патио»', 'Bubbleology', 'Starbucks Старбакс',\n",
       "       'Бодрый день Кофе с собой', 'ДоДо Пицца', 'ДОДО ПИЦЦА',\n",
       "       'ДОДО Пицца', 'BooBo', 'Кальянная Мята Lounge',\n",
       "       'Кальян-бар «Мята Lounge»', 'Кальян- бар «Мята Lounge»',\n",
       "       'Паб Кружка', 'БРУСНИКА', 'Luciano', 'Пиццерия «Пицца Хат»',\n",
       "       'Лукойл', 'Мята Lounge Шаболовка', 'Кальянная F-lounge', 'МИЛТИ',\n",
       "       'ПРАЙМ СТАР', 'МСК Московская сеть кальянных на Шаболовке',\n",
       "       'Семейное кафе Андерсон',\n",
       "       '«Кафе «Кулинарная лавка братьев Караваевых»»',\n",
       "       'Кафе «Кулинарная лавка братьев Караваевых»',\n",
       "       '«Кафе «Кулинарная лавка братьев Караваевых»',\n",
       "       \"Домино'с Пицца Domino,s Pizza\", 'Чешская пивная ПИЛЗНЕР',\n",
       "       'Beverly Hills Diner', 'Кафе Штолле',\n",
       "       'Предприятие быстрого питания «Крошка Картошка»', 'Florentini',\n",
       "       'Кондитерия Тирольские пироги', 'LAVKALAVKA', 'Хлебница пекарня',\n",
       "       'Кальян-бар MosKalyan', 'Анти-кафе кальянная «MosKalyan»',\n",
       "       'Ботик Петра', 'Советские времена Чебуречная СССР', 'ДоДо пицца',\n",
       "       'Мята Lounge Автозаводская', 'Osteria Mario', 'МЯСОROOB',\n",
       "       'МясоROOB', 'Газпромнефтьцентр', 'ДВЕ ПАЛОЧКИ', 'ХЛЕБ НАСУЩНЫЙ',\n",
       "       'ЯКИТОРИЯ И СПОРТ БАР', 'Японский ресторан «Ваби-Саби»',\n",
       "       'Goodman Гудман', 'PRIME STAR Прайм стар', 'Праймстар',\n",
       "       'CoffeeShop', 'My box', 'Vanwok Ванвок', 'Van Wok Ванвок',\n",
       "       'ББ энд БУРГЕРС В&В Бургер', 'КРОШКА КАРТОШКА',\n",
       "       'Закусочная «СтардогS»', 'Сувлаки', 'Бургер Клаб', 'Суши тун',\n",
       "       'Кофе с Собой', 'Пицца ПИПОНИ', 'Пицца Паоло и Бенто WOK',\n",
       "       'STARBUCKS COFFEE', 'Кофемания Starbucks', 'Movenpick',\n",
       "       'РОСТИКС KFC', 'Fridays KFC', 'Ресторан быстрого питания KFC',\n",
       "       'ВОККЕР', 'Marmalato', 'Предприятие быстрого обслуживания «Милти»',\n",
       "       'Дабл би', 'ДОДО пицца', 'Магазин готовой еды «Милти»',\n",
       "       'Готовые блюда Милти', 'Мята lounge', 'Лаундж-бар «Мята Lounge»',\n",
       "       'Бар Мята Lounge', 'Мята Lounge Октябрьская',\n",
       "       'Кальянная «Мята Lounge»', 'Мята'], dtype=object)"
      ]
     },
     "execution_count": 297,
     "metadata": {},
     "output_type": "execute_result"
    }
   ],
   "source": [
    "df.query('chain == \"да\"')['object_name'].unique()"
   ]
  },
  {
   "cell_type": "code",
   "execution_count": 298,
   "metadata": {
    "colab": {
     "base_uri": "https://localhost:8080/"
    },
    "id": "zCrgOD3K8yK8",
    "outputId": "81961920-88c7-4ada-bbee-b41f5ed65dfe"
   },
   "outputs": [
    {
     "data": {
      "text/plain": [
       "724"
      ]
     },
     "execution_count": 298,
     "metadata": {},
     "output_type": "execute_result"
    }
   ],
   "source": [
    "# сколько всего уникальных значений в object_name\n",
    "\n",
    "df.query('chain == \"да\"')['object_name'].nunique()"
   ]
  },
  {
   "cell_type": "markdown",
   "metadata": {
    "id": "MUI3Du4j8wVL"
   },
   "source": [
    "724 значения, многие из которых повторяются, приведем к единообразию названия основных сетевых заведений для корректного последующего анализа. "
   ]
  },
  {
   "cell_type": "code",
   "execution_count": 299,
   "metadata": {
    "id": "Di7EmHRY8S14"
   },
   "outputs": [],
   "source": [
    "df.object_name = (df.object_name.replace({'Кафе «KFC»': 'KFC', \n",
    "                  'ШОКОЛАДНИЦА': 'Шоколадница', 'Кафе «Шоколадница»': 'Шоколадница', \n",
    "                  'МАКДОНАЛДС': 'Макдоналдс', 'Ресторан «Макдоналдс»': 'Макдоналдс', \n",
    "                  'БУРГЕР КИНГ': 'Бургер Кинг', 'Бургер Кинг Burger King': 'Бургер Кинг', \n",
    "                  'ТЕРЕМОК': 'Теремок', 'Кафе «Теремок»': 'Теремок', \n",
    "                  'Суши Вок': 'Суши Wok', 'Додо пицца': 'Додо Пицца', \n",
    "                  'Старбакс': 'Starbucks', 'Сабвей': 'Subway', \n",
    "                  'Иль Патио Планета Суши': 'Иль Патио', \n",
    "                  'Крошка картошка': 'Крошка Картошка', 'МИЛТИ': 'Милти', \n",
    "                  'Пиццерия «Папа Джонс»': 'Папа Джонс', 'АндерСон': 'Андерсон'})) "
   ]
  },
  {
   "cell_type": "code",
   "execution_count": 300,
   "metadata": {
    "colab": {
     "base_uri": "https://localhost:8080/"
    },
    "id": "NmpOd-2u9PA_",
    "outputId": "c327343e-9592-4b4a-b9d8-008c02501dba"
   },
   "outputs": [
    {
     "data": {
      "text/plain": [
       "706"
      ]
     },
     "execution_count": 300,
     "metadata": {},
     "output_type": "execute_result"
    }
   ],
   "source": [
    "# посмотрим, сколько теперь уникальных значений\n",
    "\n",
    "df.query('chain == \"да\"')['object_name'].nunique()"
   ]
  },
  {
   "cell_type": "markdown",
   "metadata": {
    "id": "LMeq-_U_9b6r"
   },
   "source": [
    "Вроде бы убрали 18 значений, но потом посмотрим, сколько объектов попали в \"оптимизированный\" список. Сейчас проверим цифры по посадочным местам во всех сетевых объектах."
   ]
  },
  {
   "cell_type": "code",
   "execution_count": 301,
   "metadata": {
    "id": "XCEDfWs9ndWp"
   },
   "outputs": [],
   "source": [
    "# записываем сети в новый дф df_chain\n",
    "\n",
    "df_chain = df.query('chain == \"да\"')"
   ]
  },
  {
   "cell_type": "markdown",
   "metadata": {
    "id": "EV6WasCqWbxe"
   },
   "source": [
    "Построим ящик с усами, оценим распределение значений по столбцу _number_ в таблице _df_chain_"
   ]
  },
  {
   "cell_type": "code",
   "execution_count": 302,
   "metadata": {
    "colab": {
     "base_uri": "https://localhost:8080/",
     "height": 481
    },
    "id": "zMypac4vWWZi",
    "outputId": "03f8c2bd-6daf-42e2-f08c-1917ec9d4601"
   },
   "outputs": [
    {
     "data": {
      "image/png": "[encoded data removed]",
      "text/plain": [
       "<Figure size 432x576 with 1 Axes>"
      ]
     },
     "metadata": {},
     "output_type": "display_data"
    }
   ],
   "source": [
    "plt.figure(figsize=(6,8))\n",
    "plt.title('Распределение посадочных мест в сетевых заведениях')\n",
    "plt.grid()\n",
    "sns.boxplot(y='number', data=df_chain);"
   ]
  },
  {
   "cell_type": "markdown",
   "metadata": {
    "id": "z-ypx83XlRX7"
   },
   "source": [
    "Нормальные значения лежат в пределах number < 160. Отбрасывать или нет выбросы > 160? Посмотрим, что это за объекты"
   ]
  },
  {
   "cell_type": "code",
   "execution_count": 303,
   "metadata": {
    "colab": {
     "base_uri": "https://localhost:8080/",
     "height": 424
    },
    "id": "aatZHoNRlkHY",
    "outputId": "bb3f7b6c-887b-4277-db88-30497196b646"
   },
   "outputs": [
    {
     "data": {
      "text/html": [
       "\n",
       "  <div id=\"df-2c15b615-e07b-4db9-a871-5a082c8fef61\">\n",
       "    <div class=\"colab-df-container\">\n",
       "      <div>\n",
       "<style scoped>\n",
       "    .dataframe tbody tr th:only-of-type {\n",
       "        vertical-align: middle;\n",
       "    }\n",
       "\n",
       "    .dataframe tbody tr th {\n",
       "        vertical-align: top;\n",
       "    }\n",
       "\n",
       "    .dataframe thead th {\n",
       "        text-align: right;\n",
       "    }\n",
       "</style>\n",
       "<table border=\"1\" class=\"dataframe\">\n",
       "  <thead>\n",
       "    <tr style=\"text-align: right;\">\n",
       "      <th></th>\n",
       "      <th>object_name</th>\n",
       "      <th>address</th>\n",
       "    </tr>\n",
       "  </thead>\n",
       "  <tbody>\n",
       "    <tr>\n",
       "      <th>53</th>\n",
       "      <td>Му-Му</td>\n",
       "      <td>город Москва, улица Арбат, дом 45/24</td>\n",
       "    </tr>\n",
       "    <tr>\n",
       "      <th>120</th>\n",
       "      <td>Макдоналдс</td>\n",
       "      <td>город Москва, Большая Бронная улица, дом 29</td>\n",
       "    </tr>\n",
       "    <tr>\n",
       "      <th>327</th>\n",
       "      <td>Тануки</td>\n",
       "      <td>город Москва, Дмитровское шоссе, дом 64, корпус 3</td>\n",
       "    </tr>\n",
       "    <tr>\n",
       "      <th>418</th>\n",
       "      <td>Две палочки</td>\n",
       "      <td>город Москва, Мясницкая улица, дом 24/7, строение 1</td>\n",
       "    </tr>\n",
       "    <tr>\n",
       "      <th>856</th>\n",
       "      <td>Му-Му</td>\n",
       "      <td>город Москва, 9-я Парковая улица, владение 61А, строение 1</td>\n",
       "    </tr>\n",
       "    <tr>\n",
       "      <th>...</th>\n",
       "      <td>...</td>\n",
       "      <td>...</td>\n",
       "    </tr>\n",
       "    <tr>\n",
       "      <th>13378</th>\n",
       "      <td>ПИЛЗНЕР</td>\n",
       "      <td>город Москва, 1-я Тверская-Ямская улица, дом 7</td>\n",
       "    </tr>\n",
       "    <tr>\n",
       "      <th>13438</th>\n",
       "      <td>Теремок</td>\n",
       "      <td>город Москва, улица Народного Ополчения, дом 46, корпус 1</td>\n",
       "    </tr>\n",
       "    <tr>\n",
       "      <th>13445</th>\n",
       "      <td>Макдоналдс</td>\n",
       "      <td>город Москва, Свободный проспект, дом 33А</td>\n",
       "    </tr>\n",
       "    <tr>\n",
       "      <th>13447</th>\n",
       "      <td>Макдоналдс</td>\n",
       "      <td>город Москва, площадь Тверская Застава, дом 2, строение 2</td>\n",
       "    </tr>\n",
       "    <tr>\n",
       "      <th>13451</th>\n",
       "      <td>Макдоналдс</td>\n",
       "      <td>город Москва, улица Мастеркова, дом 6</td>\n",
       "    </tr>\n",
       "  </tbody>\n",
       "</table>\n",
       "<p>134 rows × 2 columns</p>\n",
       "</div>\n",
       "      <button class=\"colab-df-convert\" onclick=\"convertToInteractive('df-2c15b615-e07b-4db9-a871-5a082c8fef61')\"\n",
       "              title=\"Convert this dataframe to an interactive table.\"\n",
       "              style=\"display:none;\">\n",
       "        \n",
       "  <svg xmlns=\"http://www.w3.org/2000/svg\" height=\"24px\"viewBox=\"0 0 24 24\"\n",
       "       width=\"24px\">\n",
       "    <path d=\"M0 0h24v24H0V0z\" fill=\"none\"/>\n",
       "    <path d=\"M18.56 5.44l.94 2.06.94-2.06 2.06-.94-2.06-.94-.94-2.06-.94 2.06-2.06.94zm-11 1L8.5 8.5l.94-2.06 2.06-.94-2.06-.94L8.5 2.5l-.94 2.06-2.06.94zm10 10l.94 2.06.94-2.06 2.06-.94-2.06-.94-.94-2.06-.94 2.06-2.06.94z\"/><path d=\"M17.41 7.96l-1.37-1.37c-.4-.4-.92-.59-1.43-.59-.52 0-1.04.2-1.43.59L10.3 9.45l-7.72 7.72c-.78.78-.78 2.05 0 2.83L4 21.41c.39.39.9.59 1.41.59.51 0 1.02-.2 1.41-.59l7.78-7.78 2.81-2.81c.8-.78.8-2.07 0-2.86zM5.41 20L4 18.59l7.72-7.72 1.47 1.35L5.41 20z\"/>\n",
       "  </svg>\n",
       "      </button>\n",
       "      \n",
       "  <style>\n",
       "    .colab-df-container {\n",
       "      display:flex;\n",
       "      flex-wrap:wrap;\n",
       "      gap: 12px;\n",
       "    }\n",
       "\n",
       "    .colab-df-convert {\n",
       "      background-color: #E8F0FE;\n",
       "      border: none;\n",
       "      border-radius: 50%;\n",
       "      cursor: pointer;\n",
       "      display: none;\n",
       "      fill: #1967D2;\n",
       "      height: 32px;\n",
       "      padding: 0 0 0 0;\n",
       "      width: 32px;\n",
       "    }\n",
       "\n",
       "    .colab-df-convert:hover {\n",
       "      background-color: #E2EBFA;\n",
       "      box-shadow: 0px 1px 2px rgba(60, 64, 67, 0.3), 0px 1px 3px 1px rgba(60, 64, 67, 0.15);\n",
       "      fill: #174EA6;\n",
       "    }\n",
       "\n",
       "    [theme=dark] .colab-df-convert {\n",
       "      background-color: #3B4455;\n",
       "      fill: #D2E3FC;\n",
       "    }\n",
       "\n",
       "    [theme=dark] .colab-df-convert:hover {\n",
       "      background-color: #434B5C;\n",
       "      box-shadow: 0px 1px 3px 1px rgba(0, 0, 0, 0.15);\n",
       "      filter: drop-shadow(0px 1px 2px rgba(0, 0, 0, 0.3));\n",
       "      fill: #FFFFFF;\n",
       "    }\n",
       "  </style>\n",
       "\n",
       "      <script>\n",
       "        const buttonEl =\n",
       "          document.querySelector('#df-2c15b615-e07b-4db9-a871-5a082c8fef61 button.colab-df-convert');\n",
       "        buttonEl.style.display =\n",
       "          google.colab.kernel.accessAllowed ? 'block' : 'none';\n",
       "\n",
       "        async function convertToInteractive(key) {\n",
       "          const element = document.querySelector('#df-2c15b615-e07b-4db9-a871-5a082c8fef61');\n",
       "          const dataTable =\n",
       "            await google.colab.kernel.invokeFunction('convertToInteractive',\n",
       "                                                     [key], {});\n",
       "          if (!dataTable) return;\n",
       "\n",
       "          const docLinkHtml = 'Like what you see? Visit the ' +\n",
       "            '<a target=\"_blank\" href=https://colab.research.google.com/notebooks/data_table.ipynb>data table notebook</a>'\n",
       "            + ' to learn more about interactive tables.';\n",
       "          element.innerHTML = '';\n",
       "          dataTable['output_type'] = 'display_data';\n",
       "          await google.colab.output.renderOutput(dataTable, element);\n",
       "          const docLink = document.createElement('div');\n",
       "          docLink.innerHTML = docLinkHtml;\n",
       "          element.appendChild(docLink);\n",
       "        }\n",
       "      </script>\n",
       "    </div>\n",
       "  </div>\n",
       "  "
      ],
      "text/plain": [
       "       object_name                                                     address\n",
       "53           Му-Му                        город Москва, улица Арбат, дом 45/24\n",
       "120     Макдоналдс                 город Москва, Большая Бронная улица, дом 29\n",
       "327         Тануки           город Москва, Дмитровское шоссе, дом 64, корпус 3\n",
       "418    Две палочки         город Москва, Мясницкая улица, дом 24/7, строение 1\n",
       "856          Му-Му  город Москва, 9-я Парковая улица, владение 61А, строение 1\n",
       "...            ...                                                         ...\n",
       "13378      ПИЛЗНЕР              город Москва, 1-я Тверская-Ямская улица, дом 7\n",
       "13438      Теремок   город Москва, улица Народного Ополчения, дом 46, корпус 1\n",
       "13445   Макдоналдс                   город Москва, Свободный проспект, дом 33А\n",
       "13447   Макдоналдс   город Москва, площадь Тверская Застава, дом 2, строение 2\n",
       "13451   Макдоналдс                       город Москва, улица Мастеркова, дом 6\n",
       "\n",
       "[134 rows x 2 columns]"
      ]
     },
     "execution_count": 303,
     "metadata": {},
     "output_type": "execute_result"
    }
   ],
   "source": [
    "df_chain.query('number > 160')[['object_name', 'address']]"
   ]
  },
  {
   "cell_type": "code",
   "execution_count": 304,
   "metadata": {
    "colab": {
     "base_uri": "https://localhost:8080/"
    },
    "id": "W7IIJ2OVscm9",
    "outputId": "71fe4351-0560-47dc-8d41-8f7cd880bae6"
   },
   "outputs": [
    {
     "data": {
      "text/plain": [
       "134"
      ]
     },
     "execution_count": 304,
     "metadata": {},
     "output_type": "execute_result"
    }
   ],
   "source": [
    "# сколько таких объектов\n",
    "\n",
    "len(df_chain.query('number > 160')[['object_name', 'address']])"
   ]
  },
  {
   "cell_type": "code",
   "execution_count": 305,
   "metadata": {
    "colab": {
     "base_uri": "https://localhost:8080/"
    },
    "id": "oUWHkKjYrwwo",
    "outputId": "e15dd7f3-1601-4936-c603-e2aacbd40274"
   },
   "outputs": [
    {
     "data": {
      "text/plain": [
       "count    2964.000000\n",
       "mean       52.981107\n",
       "std        57.152817\n",
       "min         0.000000\n",
       "25%        15.000000\n",
       "50%        40.000000\n",
       "75%        72.000000\n",
       "max       580.000000\n",
       "Name: number, dtype: float64"
      ]
     },
     "execution_count": 305,
     "metadata": {},
     "output_type": "execute_result"
    }
   ],
   "source": [
    "# посмотрим на статистические данные по столбцу number\n",
    "\n",
    "df_chain['number'].describe()"
   ]
  },
  {
   "cell_type": "code",
   "execution_count": 306,
   "metadata": {
    "colab": {
     "base_uri": "https://localhost:8080/"
    },
    "id": "4FK6av6YrvQ9",
    "outputId": "249b48c5-0db4-4c4f-dae6-201f90d61ea7"
   },
   "outputs": [
    {
     "data": {
      "text/plain": [
       "array([120.  , 158.85, 275.37])"
      ]
     },
     "execution_count": 306,
     "metadata": {},
     "output_type": "execute_result"
    }
   ],
   "source": [
    "# максимальное значение 580, среднее и медианное 52 и 40. Посмотрим на 90, 95 \n",
    "# 98 перцентиль\n",
    "\n",
    "np.percentile(df_chain['number'], [90, 95, 99])"
   ]
  },
  {
   "cell_type": "markdown",
   "metadata": {
    "id": "tLH3K837mOsV"
   },
   "source": [
    "Объекты с \"посадкой\" более 160 - вполне реальные заведения в количестве 134 шт. Убирать все аномально большие значения не будем, потому что:\n",
    "1. Есть реальные объекты с таким количеством посадочных\n",
    "2. В  принципе не хочется терять данные\n",
    "\n",
    "Примем компромиссный вариант. Удалим 1% максимальных значений. Напомню, 99-й перцентиль = 275"
   ]
  },
  {
   "cell_type": "code",
   "execution_count": 307,
   "metadata": {
    "colab": {
     "base_uri": "https://localhost:8080/",
     "height": 424
    },
    "id": "2V-5ZZodmy9J",
    "outputId": "eb5e9721-af92-4074-85e3-84f6b102f8a4"
   },
   "outputs": [
    {
     "data": {
      "text/html": [
       "\n",
       "  <div id=\"df-aa992a4e-2798-4916-8ab9-a4543d5966ae\">\n",
       "    <div class=\"colab-df-container\">\n",
       "      <div>\n",
       "<style scoped>\n",
       "    .dataframe tbody tr th:only-of-type {\n",
       "        vertical-align: middle;\n",
       "    }\n",
       "\n",
       "    .dataframe tbody tr th {\n",
       "        vertical-align: top;\n",
       "    }\n",
       "\n",
       "    .dataframe thead th {\n",
       "        text-align: right;\n",
       "    }\n",
       "</style>\n",
       "<table border=\"1\" class=\"dataframe\">\n",
       "  <thead>\n",
       "    <tr style=\"text-align: right;\">\n",
       "      <th></th>\n",
       "      <th>object_name</th>\n",
       "      <th>address</th>\n",
       "      <th>number</th>\n",
       "    </tr>\n",
       "  </thead>\n",
       "  <tbody>\n",
       "    <tr>\n",
       "      <th>120</th>\n",
       "      <td>Макдоналдс</td>\n",
       "      <td>город Москва, Большая Бронная улица, дом 29</td>\n",
       "      <td>580</td>\n",
       "    </tr>\n",
       "    <tr>\n",
       "      <th>3590</th>\n",
       "      <td>Чайхона №1</td>\n",
       "      <td>город Москва, Пушкинская площадь, дом 2</td>\n",
       "      <td>500</td>\n",
       "    </tr>\n",
       "    <tr>\n",
       "      <th>6551</th>\n",
       "      <td>Макдоналдс</td>\n",
       "      <td>город Москва, улица Арбат, дом 52, строение 1</td>\n",
       "      <td>480</td>\n",
       "    </tr>\n",
       "    <tr>\n",
       "      <th>8903</th>\n",
       "      <td>ЯКИТОРИЯ</td>\n",
       "      <td>1-я Тверская-Ямская улица, дом 29/66, корпус 1</td>\n",
       "      <td>456</td>\n",
       "    </tr>\n",
       "    <tr>\n",
       "      <th>3092</th>\n",
       "      <td>Чайхона №1</td>\n",
       "      <td>город Москва, улица Большая Полянка, дом 56, строение 1</td>\n",
       "      <td>430</td>\n",
       "    </tr>\n",
       "    <tr>\n",
       "      <th>...</th>\n",
       "      <td>...</td>\n",
       "      <td>...</td>\n",
       "      <td>...</td>\n",
       "    </tr>\n",
       "    <tr>\n",
       "      <th>5755</th>\n",
       "      <td>Макдоналдс</td>\n",
       "      <td>город Москва, Зеленодольская улица, дом 38</td>\n",
       "      <td>284</td>\n",
       "    </tr>\n",
       "    <tr>\n",
       "      <th>2328</th>\n",
       "      <td>Якитория и Ян Примус</td>\n",
       "      <td>город Москва, Спартаковская улица, дом 25/28, строение 1</td>\n",
       "      <td>282</td>\n",
       "    </tr>\n",
       "    <tr>\n",
       "      <th>7549</th>\n",
       "      <td>Кафе «Му-Му»</td>\n",
       "      <td>город Москва, Балаклавский проспект, дом 7</td>\n",
       "      <td>280</td>\n",
       "    </tr>\n",
       "    <tr>\n",
       "      <th>2256</th>\n",
       "      <td>Старина Миллер</td>\n",
       "      <td>город Москва, Шмитовский проезд, дом 2, строение 1</td>\n",
       "      <td>280</td>\n",
       "    </tr>\n",
       "    <tr>\n",
       "      <th>8679</th>\n",
       "      <td>Космик</td>\n",
       "      <td>город Москва, Ярцевская улица, дом 19</td>\n",
       "      <td>276</td>\n",
       "    </tr>\n",
       "  </tbody>\n",
       "</table>\n",
       "<p>30 rows × 3 columns</p>\n",
       "</div>\n",
       "      <button class=\"colab-df-convert\" onclick=\"convertToInteractive('df-aa992a4e-2798-4916-8ab9-a4543d5966ae')\"\n",
       "              title=\"Convert this dataframe to an interactive table.\"\n",
       "              style=\"display:none;\">\n",
       "        \n",
       "  <svg xmlns=\"http://www.w3.org/2000/svg\" height=\"24px\"viewBox=\"0 0 24 24\"\n",
       "       width=\"24px\">\n",
       "    <path d=\"M0 0h24v24H0V0z\" fill=\"none\"/>\n",
       "    <path d=\"M18.56 5.44l.94 2.06.94-2.06 2.06-.94-2.06-.94-.94-2.06-.94 2.06-2.06.94zm-11 1L8.5 8.5l.94-2.06 2.06-.94-2.06-.94L8.5 2.5l-.94 2.06-2.06.94zm10 10l.94 2.06.94-2.06 2.06-.94-2.06-.94-.94-2.06-.94 2.06-2.06.94z\"/><path d=\"M17.41 7.96l-1.37-1.37c-.4-.4-.92-.59-1.43-.59-.52 0-1.04.2-1.43.59L10.3 9.45l-7.72 7.72c-.78.78-.78 2.05 0 2.83L4 21.41c.39.39.9.59 1.41.59.51 0 1.02-.2 1.41-.59l7.78-7.78 2.81-2.81c.8-.78.8-2.07 0-2.86zM5.41 20L4 18.59l7.72-7.72 1.47 1.35L5.41 20z\"/>\n",
       "  </svg>\n",
       "      </button>\n",
       "      \n",
       "  <style>\n",
       "    .colab-df-container {\n",
       "      display:flex;\n",
       "      flex-wrap:wrap;\n",
       "      gap: 12px;\n",
       "    }\n",
       "\n",
       "    .colab-df-convert {\n",
       "      background-color: #E8F0FE;\n",
       "      border: none;\n",
       "      border-radius: 50%;\n",
       "      cursor: pointer;\n",
       "      display: none;\n",
       "      fill: #1967D2;\n",
       "      height: 32px;\n",
       "      padding: 0 0 0 0;\n",
       "      width: 32px;\n",
       "    }\n",
       "\n",
       "    .colab-df-convert:hover {\n",
       "      background-color: #E2EBFA;\n",
       "      box-shadow: 0px 1px 2px rgba(60, 64, 67, 0.3), 0px 1px 3px 1px rgba(60, 64, 67, 0.15);\n",
       "      fill: #174EA6;\n",
       "    }\n",
       "\n",
       "    [theme=dark] .colab-df-convert {\n",
       "      background-color: #3B4455;\n",
       "      fill: #D2E3FC;\n",
       "    }\n",
       "\n",
       "    [theme=dark] .colab-df-convert:hover {\n",
       "      background-color: #434B5C;\n",
       "      box-shadow: 0px 1px 3px 1px rgba(0, 0, 0, 0.15);\n",
       "      filter: drop-shadow(0px 1px 2px rgba(0, 0, 0, 0.3));\n",
       "      fill: #FFFFFF;\n",
       "    }\n",
       "  </style>\n",
       "\n",
       "      <script>\n",
       "        const buttonEl =\n",
       "          document.querySelector('#df-aa992a4e-2798-4916-8ab9-a4543d5966ae button.colab-df-convert');\n",
       "        buttonEl.style.display =\n",
       "          google.colab.kernel.accessAllowed ? 'block' : 'none';\n",
       "\n",
       "        async function convertToInteractive(key) {\n",
       "          const element = document.querySelector('#df-aa992a4e-2798-4916-8ab9-a4543d5966ae');\n",
       "          const dataTable =\n",
       "            await google.colab.kernel.invokeFunction('convertToInteractive',\n",
       "                                                     [key], {});\n",
       "          if (!dataTable) return;\n",
       "\n",
       "          const docLinkHtml = 'Like what you see? Visit the ' +\n",
       "            '<a target=\"_blank\" href=https://colab.research.google.com/notebooks/data_table.ipynb>data table notebook</a>'\n",
       "            + ' to learn more about interactive tables.';\n",
       "          element.innerHTML = '';\n",
       "          dataTable['output_type'] = 'display_data';\n",
       "          await google.colab.output.renderOutput(dataTable, element);\n",
       "          const docLink = document.createElement('div');\n",
       "          docLink.innerHTML = docLinkHtml;\n",
       "          element.appendChild(docLink);\n",
       "        }\n",
       "      </script>\n",
       "    </div>\n",
       "  </div>\n",
       "  "
      ],
      "text/plain": [
       "               object_name  \\\n",
       "120             Макдоналдс   \n",
       "3590            Чайхона №1   \n",
       "6551            Макдоналдс   \n",
       "8903              ЯКИТОРИЯ   \n",
       "3092            Чайхона №1   \n",
       "...                    ...   \n",
       "5755            Макдоналдс   \n",
       "2328  Якитория и Ян Примус   \n",
       "7549          Кафе «Му-Му»   \n",
       "2256        Старина Миллер   \n",
       "8679                Космик   \n",
       "\n",
       "                                                       address  number  \n",
       "120                город Москва, Большая Бронная улица, дом 29     580  \n",
       "3590                   город Москва, Пушкинская площадь, дом 2     500  \n",
       "6551             город Москва, улица Арбат, дом 52, строение 1     480  \n",
       "8903            1-я Тверская-Ямская улица, дом 29/66, корпус 1     456  \n",
       "3092   город Москва, улица Большая Полянка, дом 56, строение 1     430  \n",
       "...                                                        ...     ...  \n",
       "5755                город Москва, Зеленодольская улица, дом 38     284  \n",
       "2328  город Москва, Спартаковская улица, дом 25/28, строение 1     282  \n",
       "7549                город Москва, Балаклавский проспект, дом 7     280  \n",
       "2256        город Москва, Шмитовский проезд, дом 2, строение 1     280  \n",
       "8679                     город Москва, Ярцевская улица, дом 19     276  \n",
       "\n",
       "[30 rows x 3 columns]"
      ]
     },
     "execution_count": 307,
     "metadata": {},
     "output_type": "execute_result"
    }
   ],
   "source": [
    "df_chain.query('number > 275')[['object_name', 'address', 'number']]\\\n",
    ".sort_values(by='number', ascending=False)"
   ]
  },
  {
   "cell_type": "code",
   "execution_count": 308,
   "metadata": {
    "colab": {
     "base_uri": "https://localhost:8080/"
    },
    "id": "A8CHcwi_nyLy",
    "outputId": "244017ba-9ea2-4b0c-8cc6-a365b4f00f17"
   },
   "outputs": [
    {
     "data": {
      "text/plain": [
       "0.010121457489878543"
      ]
     },
     "execution_count": 308,
     "metadata": {},
     "output_type": "execute_result"
    }
   ],
   "source": [
    "# проверим себя\n",
    "\n",
    "len(df_chain.query('number > 275')[['object_name', 'address', 'number']]\\\n",
    ".sort_values(by='number', ascending=False)) / len(df_chain)"
   ]
  },
  {
   "cell_type": "markdown",
   "metadata": {},
   "source": [
    "<div class=\"alert alert-warning\">\n",
    "<b>Комментарий ревьюера v2:</b>⛅️ \n",
    "\n",
    "Столь точным можно не быть, рекомендую округлять такие хвосты\n",
    "</div>"
   ]
  },
  {
   "cell_type": "markdown",
   "metadata": {
    "id": "I91iNFlVs3cB"
   },
   "source": [
    "Все верно, 1% данных в столбце number имеют значение больше 275."
   ]
  },
  {
   "cell_type": "code",
   "execution_count": 309,
   "metadata": {
    "id": "5GonXPfLoBeG"
   },
   "outputs": [],
   "source": [
    "# делаем срез\n",
    "\n",
    "df_chain = df_chain.query('number <= 275')"
   ]
  },
  {
   "cell_type": "markdown",
   "metadata": {
    "id": "x0zS2JxQs-l9"
   },
   "source": [
    "Получили таблицу с сетевыми объектами без аномально больших посадочных мест. Работаем дальше"
   ]
  },
  {
   "cell_type": "code",
   "execution_count": 310,
   "metadata": {
    "colab": {
     "base_uri": "https://localhost:8080/",
     "height": 520
    },
    "id": "qSTAxHrV-HmZ",
    "outputId": "130a22bb-a5c5-485e-bfee-ab641f9d9060"
   },
   "outputs": [
    {
     "data": {
      "text/html": [
       "\n",
       "  <div id=\"df-ed7ab251-ac33-44d0-bd78-33eece805719\">\n",
       "    <div class=\"colab-df-container\">\n",
       "      <div>\n",
       "<style scoped>\n",
       "    .dataframe tbody tr th:only-of-type {\n",
       "        vertical-align: middle;\n",
       "    }\n",
       "\n",
       "    .dataframe tbody tr th {\n",
       "        vertical-align: top;\n",
       "    }\n",
       "\n",
       "    .dataframe thead th {\n",
       "        text-align: right;\n",
       "    }\n",
       "</style>\n",
       "<table border=\"1\" class=\"dataframe\">\n",
       "  <thead>\n",
       "    <tr style=\"text-align: right;\">\n",
       "      <th></th>\n",
       "      <th>object_name</th>\n",
       "      <th>id</th>\n",
       "    </tr>\n",
       "  </thead>\n",
       "  <tbody>\n",
       "    <tr>\n",
       "      <th>0</th>\n",
       "      <td>Шоколадница</td>\n",
       "      <td>171</td>\n",
       "    </tr>\n",
       "    <tr>\n",
       "      <th>1</th>\n",
       "      <td>KFC</td>\n",
       "      <td>165</td>\n",
       "    </tr>\n",
       "    <tr>\n",
       "      <th>2</th>\n",
       "      <td>Макдоналдс</td>\n",
       "      <td>155</td>\n",
       "    </tr>\n",
       "    <tr>\n",
       "      <th>3</th>\n",
       "      <td>Бургер Кинг</td>\n",
       "      <td>140</td>\n",
       "    </tr>\n",
       "    <tr>\n",
       "      <th>4</th>\n",
       "      <td>Теремок</td>\n",
       "      <td>101</td>\n",
       "    </tr>\n",
       "    <tr>\n",
       "      <th>5</th>\n",
       "      <td>Крошка Картошка</td>\n",
       "      <td>89</td>\n",
       "    </tr>\n",
       "    <tr>\n",
       "      <th>6</th>\n",
       "      <td>Домино'с Пицца</td>\n",
       "      <td>86</td>\n",
       "    </tr>\n",
       "    <tr>\n",
       "      <th>7</th>\n",
       "      <td>Милти</td>\n",
       "      <td>72</td>\n",
       "    </tr>\n",
       "    <tr>\n",
       "      <th>8</th>\n",
       "      <td>Суши Wok</td>\n",
       "      <td>71</td>\n",
       "    </tr>\n",
       "    <tr>\n",
       "      <th>9</th>\n",
       "      <td>Папа Джонс</td>\n",
       "      <td>57</td>\n",
       "    </tr>\n",
       "    <tr>\n",
       "      <th>10</th>\n",
       "      <td>Starbucks</td>\n",
       "      <td>51</td>\n",
       "    </tr>\n",
       "    <tr>\n",
       "      <th>11</th>\n",
       "      <td>Subway</td>\n",
       "      <td>46</td>\n",
       "    </tr>\n",
       "    <tr>\n",
       "      <th>12</th>\n",
       "      <td>Кофе с собой</td>\n",
       "      <td>42</td>\n",
       "    </tr>\n",
       "    <tr>\n",
       "      <th>13</th>\n",
       "      <td>Додо Пицца</td>\n",
       "      <td>41</td>\n",
       "    </tr>\n",
       "    <tr>\n",
       "      <th>14</th>\n",
       "      <td>Чайхона №1</td>\n",
       "      <td>37</td>\n",
       "    </tr>\n",
       "  </tbody>\n",
       "</table>\n",
       "</div>\n",
       "      <button class=\"colab-df-convert\" onclick=\"convertToInteractive('df-ed7ab251-ac33-44d0-bd78-33eece805719')\"\n",
       "              title=\"Convert this dataframe to an interactive table.\"\n",
       "              style=\"display:none;\">\n",
       "        \n",
       "  <svg xmlns=\"http://www.w3.org/2000/svg\" height=\"24px\"viewBox=\"0 0 24 24\"\n",
       "       width=\"24px\">\n",
       "    <path d=\"M0 0h24v24H0V0z\" fill=\"none\"/>\n",
       "    <path d=\"M18.56 5.44l.94 2.06.94-2.06 2.06-.94-2.06-.94-.94-2.06-.94 2.06-2.06.94zm-11 1L8.5 8.5l.94-2.06 2.06-.94-2.06-.94L8.5 2.5l-.94 2.06-2.06.94zm10 10l.94 2.06.94-2.06 2.06-.94-2.06-.94-.94-2.06-.94 2.06-2.06.94z\"/><path d=\"M17.41 7.96l-1.37-1.37c-.4-.4-.92-.59-1.43-.59-.52 0-1.04.2-1.43.59L10.3 9.45l-7.72 7.72c-.78.78-.78 2.05 0 2.83L4 21.41c.39.39.9.59 1.41.59.51 0 1.02-.2 1.41-.59l7.78-7.78 2.81-2.81c.8-.78.8-2.07 0-2.86zM5.41 20L4 18.59l7.72-7.72 1.47 1.35L5.41 20z\"/>\n",
       "  </svg>\n",
       "      </button>\n",
       "      \n",
       "  <style>\n",
       "    .colab-df-container {\n",
       "      display:flex;\n",
       "      flex-wrap:wrap;\n",
       "      gap: 12px;\n",
       "    }\n",
       "\n",
       "    .colab-df-convert {\n",
       "      background-color: #E8F0FE;\n",
       "      border: none;\n",
       "      border-radius: 50%;\n",
       "      cursor: pointer;\n",
       "      display: none;\n",
       "      fill: #1967D2;\n",
       "      height: 32px;\n",
       "      padding: 0 0 0 0;\n",
       "      width: 32px;\n",
       "    }\n",
       "\n",
       "    .colab-df-convert:hover {\n",
       "      background-color: #E2EBFA;\n",
       "      box-shadow: 0px 1px 2px rgba(60, 64, 67, 0.3), 0px 1px 3px 1px rgba(60, 64, 67, 0.15);\n",
       "      fill: #174EA6;\n",
       "    }\n",
       "\n",
       "    [theme=dark] .colab-df-convert {\n",
       "      background-color: #3B4455;\n",
       "      fill: #D2E3FC;\n",
       "    }\n",
       "\n",
       "    [theme=dark] .colab-df-convert:hover {\n",
       "      background-color: #434B5C;\n",
       "      box-shadow: 0px 1px 3px 1px rgba(0, 0, 0, 0.15);\n",
       "      filter: drop-shadow(0px 1px 2px rgba(0, 0, 0, 0.3));\n",
       "      fill: #FFFFFF;\n",
       "    }\n",
       "  </style>\n",
       "\n",
       "      <script>\n",
       "        const buttonEl =\n",
       "          document.querySelector('#df-ed7ab251-ac33-44d0-bd78-33eece805719 button.colab-df-convert');\n",
       "        buttonEl.style.display =\n",
       "          google.colab.kernel.accessAllowed ? 'block' : 'none';\n",
       "\n",
       "        async function convertToInteractive(key) {\n",
       "          const element = document.querySelector('#df-ed7ab251-ac33-44d0-bd78-33eece805719');\n",
       "          const dataTable =\n",
       "            await google.colab.kernel.invokeFunction('convertToInteractive',\n",
       "                                                     [key], {});\n",
       "          if (!dataTable) return;\n",
       "\n",
       "          const docLinkHtml = 'Like what you see? Visit the ' +\n",
       "            '<a target=\"_blank\" href=https://colab.research.google.com/notebooks/data_table.ipynb>data table notebook</a>'\n",
       "            + ' to learn more about interactive tables.';\n",
       "          element.innerHTML = '';\n",
       "          dataTable['output_type'] = 'display_data';\n",
       "          await google.colab.output.renderOutput(dataTable, element);\n",
       "          const docLink = document.createElement('div');\n",
       "          docLink.innerHTML = docLinkHtml;\n",
       "          element.appendChild(docLink);\n",
       "        }\n",
       "      </script>\n",
       "    </div>\n",
       "  </div>\n",
       "  "
      ],
      "text/plain": [
       "        object_name   id\n",
       "0       Шоколадница  171\n",
       "1               KFC  165\n",
       "2        Макдоналдс  155\n",
       "3       Бургер Кинг  140\n",
       "4           Теремок  101\n",
       "5   Крошка Картошка   89\n",
       "6    Домино'с Пицца   86\n",
       "7             Милти   72\n",
       "8          Суши Wok   71\n",
       "9        Папа Джонс   57\n",
       "10        Starbucks   51\n",
       "11           Subway   46\n",
       "12     Кофе с собой   42\n",
       "13       Додо Пицца   41\n",
       "14       Чайхона №1   37"
      ]
     },
     "execution_count": 310,
     "metadata": {},
     "output_type": "execute_result"
    }
   ],
   "source": [
    "# возьмем ТОП-15 сетей по количеству объектов и запишем в новую\n",
    "# таблицу chain_names\n",
    "\n",
    "chain_names = df_chain.groupby('object_name')['id'].count()\\\n",
    "                .sort_values(ascending=False).reset_index().head(15)\n",
    "chain_names"
   ]
  },
  {
   "cell_type": "markdown",
   "metadata": {
    "id": "NVlHhEFuIrYf"
   },
   "source": [
    "Ранее оптимизировали название сетевых объектов, теперь видим, почти все оптимизированые названия попали в ТОП-15. Данные стали лучше, неявных дубликатов стало меньше."
   ]
  },
  {
   "cell_type": "code",
   "execution_count": 311,
   "metadata": {
    "colab": {
     "base_uri": "https://localhost:8080/",
     "height": 555
    },
    "id": "hcDEd59Q6dqz",
    "outputId": "322d47fe-27c0-414a-cc5e-b50140b4f09d"
   },
   "outputs": [
    {
     "data": {
      "image/png": "[encoded data removed]",
      "text/plain": [
       "<Figure size 864x576 with 1 Axes>"
      ]
     },
     "metadata": {},
     "output_type": "display_data"
    }
   ],
   "source": [
    "# построим график с ТОП-15 сетями\n",
    "\n",
    "plt.figure(figsize=(12,8))\n",
    "sns.barplot(data=chain_names, orient='h', x='id', y='object_name', color='c')\n",
    "plt.title('ТОП-15 сетей объектов общественного питания по количеству объектов \\n', fontsize = 18)\n",
    "plt.grid(axis='x')\n",
    "plt.xlabel('\\n Количество объектов в сети', fontsize=14)\n",
    "plt.ylabel('Сеть \\n', fontsize=14)\n",
    "plt.xticks(fontsize=12)\n",
    "plt.yticks(fontsize=12)\n",
    "plt.show()"
   ]
  },
  {
   "cell_type": "code",
   "execution_count": 312,
   "metadata": {
    "colab": {
     "base_uri": "https://localhost:8080/"
    },
    "id": "QOkeCKOdAGMQ",
    "outputId": "fa1733b7-bdfa-4166-857f-fef738f182a0"
   },
   "outputs": [
    {
     "data": {
      "text/plain": [
       "RangeIndex(start=1, stop=16, step=1)"
      ]
     },
     "execution_count": 312,
     "metadata": {},
     "output_type": "execute_result"
    }
   ],
   "source": [
    "# поменяем индекс в chain_names, теперь первая строка будет иметь индекс 1\n",
    "\n",
    "chain_names.index += 1 \n",
    "chain_names.index"
   ]
  },
  {
   "cell_type": "code",
   "execution_count": 313,
   "metadata": {
    "colab": {
     "base_uri": "https://localhost:8080/"
    },
    "id": "bvp_SSqq_idp",
    "outputId": "545b5ccf-1bc9-4b7a-f136-7ead76f538a7"
   },
   "outputs": [
    {
     "data": {
      "text/plain": [
       "1         Шоколадница\n",
       "2                 KFC\n",
       "3          Макдоналдс\n",
       "4         Бургер Кинг\n",
       "5             Теремок\n",
       "6     Крошка Картошка\n",
       "7      Домино'с Пицца\n",
       "8               Милти\n",
       "9            Суши Wok\n",
       "10         Папа Джонс\n",
       "11          Starbucks\n",
       "12             Subway\n",
       "13       Кофе с собой\n",
       "14         Додо Пицца\n",
       "15         Чайхона №1\n",
       "Name: object_name, dtype: object"
      ]
     },
     "execution_count": 313,
     "metadata": {},
     "output_type": "execute_result"
    }
   ],
   "source": [
    "# ТОП-15 сетей по количеству объектов\n",
    "# все сети смотреть не можем, да и не имеет смысла, \n",
    "# далее работаем с ТОП-15\n",
    "\n",
    "chain_names['object_name']"
   ]
  },
  {
   "cell_type": "code",
   "execution_count": 314,
   "metadata": {
    "colab": {
     "base_uri": "https://localhost:8080/",
     "height": 520
    },
    "id": "AtvO3JGTBEiE",
    "outputId": "44c55221-6859-4777-8410-98735bd876f8"
   },
   "outputs": [
    {
     "data": {
      "text/html": [
       "\n",
       "  <div id=\"df-f9fb63d1-cab5-4e34-9744-965730c74399\">\n",
       "    <div class=\"colab-df-container\">\n",
       "      <div>\n",
       "<style scoped>\n",
       "    .dataframe tbody tr th:only-of-type {\n",
       "        vertical-align: middle;\n",
       "    }\n",
       "\n",
       "    .dataframe tbody tr th {\n",
       "        vertical-align: top;\n",
       "    }\n",
       "\n",
       "    .dataframe thead th {\n",
       "        text-align: right;\n",
       "    }\n",
       "</style>\n",
       "<table border=\"1\" class=\"dataframe\">\n",
       "  <thead>\n",
       "    <tr style=\"text-align: right;\">\n",
       "      <th></th>\n",
       "      <th>object_name</th>\n",
       "      <th>count</th>\n",
       "      <th>mean</th>\n",
       "      <th>median</th>\n",
       "    </tr>\n",
       "  </thead>\n",
       "  <tbody>\n",
       "    <tr>\n",
       "      <th>14</th>\n",
       "      <td>Чайхона №1</td>\n",
       "      <td>37</td>\n",
       "      <td>115.351351</td>\n",
       "      <td>95.0</td>\n",
       "    </tr>\n",
       "    <tr>\n",
       "      <th>2</th>\n",
       "      <td>Макдоналдс</td>\n",
       "      <td>155</td>\n",
       "      <td>83.529032</td>\n",
       "      <td>79.0</td>\n",
       "    </tr>\n",
       "    <tr>\n",
       "      <th>0</th>\n",
       "      <td>Шоколадница</td>\n",
       "      <td>171</td>\n",
       "      <td>57.216374</td>\n",
       "      <td>50.0</td>\n",
       "    </tr>\n",
       "    <tr>\n",
       "      <th>1</th>\n",
       "      <td>KFC</td>\n",
       "      <td>165</td>\n",
       "      <td>53.248485</td>\n",
       "      <td>48.0</td>\n",
       "    </tr>\n",
       "    <tr>\n",
       "      <th>3</th>\n",
       "      <td>Бургер Кинг</td>\n",
       "      <td>140</td>\n",
       "      <td>49.007143</td>\n",
       "      <td>45.0</td>\n",
       "    </tr>\n",
       "    <tr>\n",
       "      <th>10</th>\n",
       "      <td>Starbucks</td>\n",
       "      <td>51</td>\n",
       "      <td>43.705882</td>\n",
       "      <td>41.0</td>\n",
       "    </tr>\n",
       "    <tr>\n",
       "      <th>13</th>\n",
       "      <td>Додо Пицца</td>\n",
       "      <td>41</td>\n",
       "      <td>31.682927</td>\n",
       "      <td>30.0</td>\n",
       "    </tr>\n",
       "    <tr>\n",
       "      <th>4</th>\n",
       "      <td>Теремок</td>\n",
       "      <td>101</td>\n",
       "      <td>26.504950</td>\n",
       "      <td>24.0</td>\n",
       "    </tr>\n",
       "    <tr>\n",
       "      <th>9</th>\n",
       "      <td>Папа Джонс</td>\n",
       "      <td>57</td>\n",
       "      <td>22.578947</td>\n",
       "      <td>20.0</td>\n",
       "    </tr>\n",
       "    <tr>\n",
       "      <th>5</th>\n",
       "      <td>Крошка Картошка</td>\n",
       "      <td>89</td>\n",
       "      <td>21.932584</td>\n",
       "      <td>15.0</td>\n",
       "    </tr>\n",
       "    <tr>\n",
       "      <th>6</th>\n",
       "      <td>Домино'с Пицца</td>\n",
       "      <td>86</td>\n",
       "      <td>18.209302</td>\n",
       "      <td>16.0</td>\n",
       "    </tr>\n",
       "    <tr>\n",
       "      <th>11</th>\n",
       "      <td>Subway</td>\n",
       "      <td>46</td>\n",
       "      <td>16.478261</td>\n",
       "      <td>15.0</td>\n",
       "    </tr>\n",
       "    <tr>\n",
       "      <th>8</th>\n",
       "      <td>Суши Wok</td>\n",
       "      <td>71</td>\n",
       "      <td>7.042254</td>\n",
       "      <td>6.0</td>\n",
       "    </tr>\n",
       "    <tr>\n",
       "      <th>7</th>\n",
       "      <td>Милти</td>\n",
       "      <td>72</td>\n",
       "      <td>1.333333</td>\n",
       "      <td>0.0</td>\n",
       "    </tr>\n",
       "    <tr>\n",
       "      <th>12</th>\n",
       "      <td>Кофе с собой</td>\n",
       "      <td>42</td>\n",
       "      <td>0.857143</td>\n",
       "      <td>0.0</td>\n",
       "    </tr>\n",
       "  </tbody>\n",
       "</table>\n",
       "</div>\n",
       "      <button class=\"colab-df-convert\" onclick=\"convertToInteractive('df-f9fb63d1-cab5-4e34-9744-965730c74399')\"\n",
       "              title=\"Convert this dataframe to an interactive table.\"\n",
       "              style=\"display:none;\">\n",
       "        \n",
       "  <svg xmlns=\"http://www.w3.org/2000/svg\" height=\"24px\"viewBox=\"0 0 24 24\"\n",
       "       width=\"24px\">\n",
       "    <path d=\"M0 0h24v24H0V0z\" fill=\"none\"/>\n",
       "    <path d=\"M18.56 5.44l.94 2.06.94-2.06 2.06-.94-2.06-.94-.94-2.06-.94 2.06-2.06.94zm-11 1L8.5 8.5l.94-2.06 2.06-.94-2.06-.94L8.5 2.5l-.94 2.06-2.06.94zm10 10l.94 2.06.94-2.06 2.06-.94-2.06-.94-.94-2.06-.94 2.06-2.06.94z\"/><path d=\"M17.41 7.96l-1.37-1.37c-.4-.4-.92-.59-1.43-.59-.52 0-1.04.2-1.43.59L10.3 9.45l-7.72 7.72c-.78.78-.78 2.05 0 2.83L4 21.41c.39.39.9.59 1.41.59.51 0 1.02-.2 1.41-.59l7.78-7.78 2.81-2.81c.8-.78.8-2.07 0-2.86zM5.41 20L4 18.59l7.72-7.72 1.47 1.35L5.41 20z\"/>\n",
       "  </svg>\n",
       "      </button>\n",
       "      \n",
       "  <style>\n",
       "    .colab-df-container {\n",
       "      display:flex;\n",
       "      flex-wrap:wrap;\n",
       "      gap: 12px;\n",
       "    }\n",
       "\n",
       "    .colab-df-convert {\n",
       "      background-color: #E8F0FE;\n",
       "      border: none;\n",
       "      border-radius: 50%;\n",
       "      cursor: pointer;\n",
       "      display: none;\n",
       "      fill: #1967D2;\n",
       "      height: 32px;\n",
       "      padding: 0 0 0 0;\n",
       "      width: 32px;\n",
       "    }\n",
       "\n",
       "    .colab-df-convert:hover {\n",
       "      background-color: #E2EBFA;\n",
       "      box-shadow: 0px 1px 2px rgba(60, 64, 67, 0.3), 0px 1px 3px 1px rgba(60, 64, 67, 0.15);\n",
       "      fill: #174EA6;\n",
       "    }\n",
       "\n",
       "    [theme=dark] .colab-df-convert {\n",
       "      background-color: #3B4455;\n",
       "      fill: #D2E3FC;\n",
       "    }\n",
       "\n",
       "    [theme=dark] .colab-df-convert:hover {\n",
       "      background-color: #434B5C;\n",
       "      box-shadow: 0px 1px 3px 1px rgba(0, 0, 0, 0.15);\n",
       "      filter: drop-shadow(0px 1px 2px rgba(0, 0, 0, 0.3));\n",
       "      fill: #FFFFFF;\n",
       "    }\n",
       "  </style>\n",
       "\n",
       "      <script>\n",
       "        const buttonEl =\n",
       "          document.querySelector('#df-f9fb63d1-cab5-4e34-9744-965730c74399 button.colab-df-convert');\n",
       "        buttonEl.style.display =\n",
       "          google.colab.kernel.accessAllowed ? 'block' : 'none';\n",
       "\n",
       "        async function convertToInteractive(key) {\n",
       "          const element = document.querySelector('#df-f9fb63d1-cab5-4e34-9744-965730c74399');\n",
       "          const dataTable =\n",
       "            await google.colab.kernel.invokeFunction('convertToInteractive',\n",
       "                                                     [key], {});\n",
       "          if (!dataTable) return;\n",
       "\n",
       "          const docLinkHtml = 'Like what you see? Visit the ' +\n",
       "            '<a target=\"_blank\" href=https://colab.research.google.com/notebooks/data_table.ipynb>data table notebook</a>'\n",
       "            + ' to learn more about interactive tables.';\n",
       "          element.innerHTML = '';\n",
       "          dataTable['output_type'] = 'display_data';\n",
       "          await google.colab.output.renderOutput(dataTable, element);\n",
       "          const docLink = document.createElement('div');\n",
       "          docLink.innerHTML = docLinkHtml;\n",
       "          element.appendChild(docLink);\n",
       "        }\n",
       "      </script>\n",
       "    </div>\n",
       "  </div>\n",
       "  "
      ],
      "text/plain": [
       "        object_name  count        mean  median\n",
       "14       Чайхона №1     37  115.351351    95.0\n",
       "2        Макдоналдс    155   83.529032    79.0\n",
       "0       Шоколадница    171   57.216374    50.0\n",
       "1               KFC    165   53.248485    48.0\n",
       "3       Бургер Кинг    140   49.007143    45.0\n",
       "10        Starbucks     51   43.705882    41.0\n",
       "13       Додо Пицца     41   31.682927    30.0\n",
       "4           Теремок    101   26.504950    24.0\n",
       "9        Папа Джонс     57   22.578947    20.0\n",
       "5   Крошка Картошка     89   21.932584    15.0\n",
       "6    Домино'с Пицца     86   18.209302    16.0\n",
       "11           Subway     46   16.478261    15.0\n",
       "8          Суши Wok     71    7.042254     6.0\n",
       "7             Милти     72    1.333333     0.0\n",
       "12     Кофе с собой     42    0.857143     0.0"
      ]
     },
     "execution_count": 314,
     "metadata": {},
     "output_type": "execute_result"
    }
   ],
   "source": [
    "# посмотрим количество посадочных мест в ТОП-15 сетях\n",
    "\n",
    "chain_15 = df_chain.groupby('object_name')['number'].agg(['count', 'mean', 'median'])\\\n",
    ".sort_values(by='count', ascending=False).reset_index().head(15)\n",
    "chain_15 = chain_15.sort_values(by='mean', ascending=False)\n",
    "chain_15"
   ]
  },
  {
   "cell_type": "code",
   "execution_count": 315,
   "metadata": {
    "colab": {
     "base_uri": "https://localhost:8080/",
     "height": 554
    },
    "id": "G_hEmIaJ4VgT",
    "outputId": "f4e6c7ea-7479-4c1e-c925-eed21fa9c3a3"
   },
   "outputs": [
    {
     "data": {
      "image/png": "[encoded data removed]",
      "text/plain": [
       "<Figure size 864x576 with 1 Axes>"
      ]
     },
     "metadata": {},
     "output_type": "display_data"
    }
   ],
   "source": [
    "# построим график с ТОП-15 сетями\n",
    "\n",
    "plt.figure(figsize=(12,8))\n",
    "sns.barplot(data=chain_15, orient='h', x='mean', y='object_name', color='c')\n",
    "plt.title('Среднее количество посадочных мест в сетях из ТОП-15 \\n', fontsize = 18)\n",
    "plt.grid(axis='x')\n",
    "plt.xlabel('\\n Среднее количество посадочных мест в сети', fontsize=14)\n",
    "plt.ylabel('Сеть \\n', fontsize=14)\n",
    "plt.xticks(fontsize=12)\n",
    "plt.yticks(fontsize=12)\n",
    "plt.show()"
   ]
  },
  {
   "cell_type": "markdown",
   "metadata": {
    "id": "EVBqJrB_nZ4J"
   },
   "source": [
    "У заведений с количеством объектов > 100 средняя посадка 55 человек, медианное значение практически такое же. Исключение _Чайхона №1_ со средним 150 и медианой 99. В целом сетевые объекты небольшие."
   ]
  },
  {
   "cell_type": "markdown",
   "metadata": {
    "id": "4qvfOyU-D4ZK"
   },
   "source": [
    "<div class=\"alert alert-success\">\n",
    "<b>Комментарий ревьюера:</b>☀️\n",
    "    \n",
    "От `(array([  0., 100., 200., 300., 400., 500., 600., 700.]),\n",
    " [Text(0, 0, '')...` можно избавиться добавив `plt.show()` или `;` в строке</div>\n"
   ]
  },
  {
   "cell_type": "markdown",
   "metadata": {
    "id": "2t1OPpRYD4ZS"
   },
   "source": [
    "<div class=\"alert alert-warning\">\n",
    "<b>Комментарий ревьюера:</b>⛅️ \n",
    "\n",
    "Три визуализации выше изображают одно и тоже, к чему их такое количество?  </div>"
   ]
  },
  {
   "cell_type": "markdown",
   "metadata": {
    "id": "NfbyLn3Yunao"
   },
   "source": [
    "<div class=\"alert alert-info\"> <b>Комментарий студента:</b> Петр, спасибо за plt.show(), уже устал ставить \";\" в конце строчек.Я полностью переделал раздел, эти ячейки удалил, твой комментарий оставил.\n",
    "Согласно твоим рекомендациям пересчитал посадочные места в каждой сети из ТОП-15 по количеству объектов.</div>"
   ]
  },
  {
   "cell_type": "markdown",
   "metadata": {},
   "source": [
    "<div class=\"alert alert-success\">\n",
    "<b>Комментарий ревьюера v2:</b>☀️\n",
    "    \n",
    "Признателен, много промежуточных действий вывдено, которые пререгружают работу, да для проверки это отлично и правильно, но вообще их можно подчищать в финальной версии проекта\n",
    "</div>\n"
   ]
  },
  {
   "cell_type": "markdown",
   "metadata": {
    "id": "sjYybkVe-Ayi"
   },
   "source": [
    "### Вывод:\n",
    "\n",
    "Выделили ТОП-15 сетей обественного питания по количеству объектов:\n",
    "\n",
    "1. Шоколадница\n",
    "2. KFC\n",
    "3. Макдоналдс\n",
    "4. Бургер Кинг\n",
    "5. Теремок\n",
    "6. Крошка Картошка\n",
    "7. Домино'с Пицца\n",
    "8. Милти\n",
    "9. Суши Wok\n",
    "10. Папа Джонс\n",
    "11. Starbucks\n",
    "12. Subway\n",
    "13. Кофе с собой\n",
    "14. Додо Пицца\n",
    "15. Чайхона №1\n",
    "\n",
    "Среди этих ТОП-15 среднее количество посадочных мест колебелется около цифры 50.Исключение _Чайхона №1_ со средним 150 и Макдональдс с 83 посадочными местами. \n",
    "\n",
    "Можно сделать осторожный вывод: **основные заведения в сетях небольшие, около 50 посадочных мест**"
   ]
  },
  {
   "cell_type": "markdown",
   "metadata": {
    "id": "HUlsDlaqD4Zc"
   },
   "source": [
    "<div class=\"alert alert-danger\">\n",
    "<b>Комментарий ревьюера:</b>☁️\n",
    "\n",
    "В этом блоке предполагалось сравнение не всех сетевых заведений, а сетей друг с другом, одной сетью в данном случае понимается заведения с одним заведением\n",
    "</div>\n"
   ]
  },
  {
   "cell_type": "markdown",
   "metadata": {
    "id": "iwPCS4-5zZdc"
   },
   "source": [
    "<div class=\"alert alert-info\"> <b>Комментарий студента:</b> Петр, вроде все переделал, лишние графики убрал, посадочные места посмотрел в разрезе разных сетей.</div>"
   ]
  },
  {
   "cell_type": "markdown",
   "metadata": {},
   "source": [
    "<div class=\"alert alert-success\">\n",
    "<b>Комментарий ревьюера v2:</b>☀️\n",
    "    \n",
    "Обычно здесь строят диаграмму рассеяния по одной оси число заведений в сети, по другой среднее число посадочных мест, чтобы оценить вообще все сети, какие закономерности наблюдаются не только в крупнейших, чтобы понять, а вдруг мелкие сети тоже популярны\n",
    "</div>\n"
   ]
  },
  {
   "cell_type": "markdown",
   "metadata": {
    "id": "OUXHmqVjsGRc"
   },
   "source": [
    "###  Среднее количество посадочных мест для каждого вида объекта"
   ]
  },
  {
   "cell_type": "markdown",
   "metadata": {
    "id": "SfLkQXjD8CTn"
   },
   "source": [
    "Группируем данные по _object_type_ и считаем среднее количество посадочных мест."
   ]
  },
  {
   "cell_type": "code",
   "execution_count": 316,
   "metadata": {
    "colab": {
     "base_uri": "https://localhost:8080/",
     "height": 363
    },
    "id": "g9SqLiVGEJ-H",
    "outputId": "592fb3e6-ce15-46de-c281-4fdb646bae92"
   },
   "outputs": [
    {
     "data": {
      "text/html": [
       "<style type=\"text/css\">\n",
       "#T_eea50_row0_col0 {\n",
       "  background-color: #08306b;\n",
       "  color: #f1f1f1;\n",
       "}\n",
       "#T_eea50_row1_col0 {\n",
       "  background-color: #2575b7;\n",
       "  color: #f1f1f1;\n",
       "}\n",
       "#T_eea50_row2_col0 {\n",
       "  background-color: #a0cbe2;\n",
       "  color: #000000;\n",
       "}\n",
       "#T_eea50_row3_col0 {\n",
       "  background-color: #b4d3e9;\n",
       "  color: #000000;\n",
       "}\n",
       "#T_eea50_row4_col0 {\n",
       "  background-color: #bed8ec;\n",
       "  color: #000000;\n",
       "}\n",
       "#T_eea50_row5_col0 {\n",
       "  background-color: #dfecf7;\n",
       "  color: #000000;\n",
       "}\n",
       "#T_eea50_row6_col0 {\n",
       "  background-color: #f2f8fd;\n",
       "  color: #000000;\n",
       "}\n",
       "#T_eea50_row7_col0 {\n",
       "  background-color: #f4f9fe;\n",
       "  color: #000000;\n",
       "}\n",
       "#T_eea50_row8_col0 {\n",
       "  background-color: #f7fbff;\n",
       "  color: #000000;\n",
       "}\n",
       "</style>\n",
       "<table id=\"T_eea50_\" class=\"dataframe\">\n",
       "  <thead>\n",
       "    <tr>\n",
       "      <th class=\"blank level0\" >&nbsp;</th>\n",
       "      <th class=\"col_heading level0 col0\" >mean</th>\n",
       "    </tr>\n",
       "    <tr>\n",
       "      <th class=\"index_name level0\" >object_type</th>\n",
       "      <th class=\"blank col0\" >&nbsp;</th>\n",
       "    </tr>\n",
       "  </thead>\n",
       "  <tbody>\n",
       "    <tr>\n",
       "      <th id=\"T_eea50_level0_row0\" class=\"row_heading level0 row0\" >столовая</th>\n",
       "      <td id=\"T_eea50_row0_col0\" class=\"data row0 col0\" >130</td>\n",
       "    </tr>\n",
       "    <tr>\n",
       "      <th id=\"T_eea50_level0_row1\" class=\"row_heading level0 row1\" >ресторан</th>\n",
       "      <td id=\"T_eea50_row1_col0\" class=\"data row1 col0\" >97</td>\n",
       "    </tr>\n",
       "    <tr>\n",
       "      <th id=\"T_eea50_level0_row2\" class=\"row_heading level0 row2\" >буфет</th>\n",
       "      <td id=\"T_eea50_row2_col0\" class=\"data row2 col0\" >52</td>\n",
       "    </tr>\n",
       "    <tr>\n",
       "      <th id=\"T_eea50_level0_row3\" class=\"row_heading level0 row3\" >бар</th>\n",
       "      <td id=\"T_eea50_row3_col0\" class=\"data row3 col0\" >44</td>\n",
       "    </tr>\n",
       "    <tr>\n",
       "      <th id=\"T_eea50_level0_row4\" class=\"row_heading level0 row4\" >кафе</th>\n",
       "      <td id=\"T_eea50_row4_col0\" class=\"data row4 col0\" >40</td>\n",
       "    </tr>\n",
       "    <tr>\n",
       "      <th id=\"T_eea50_level0_row5\" class=\"row_heading level0 row5\" >предприятие быстрого обслуживания</th>\n",
       "      <td id=\"T_eea50_row5_col0\" class=\"data row5 col0\" >21</td>\n",
       "    </tr>\n",
       "    <tr>\n",
       "      <th id=\"T_eea50_level0_row6\" class=\"row_heading level0 row6\" >кафетерий</th>\n",
       "      <td id=\"T_eea50_row6_col0\" class=\"data row6 col0\" >9</td>\n",
       "    </tr>\n",
       "    <tr>\n",
       "      <th id=\"T_eea50_level0_row7\" class=\"row_heading level0 row7\" >закусочная</th>\n",
       "      <td id=\"T_eea50_row7_col0\" class=\"data row7 col0\" >8</td>\n",
       "    </tr>\n",
       "    <tr>\n",
       "      <th id=\"T_eea50_level0_row8\" class=\"row_heading level0 row8\" >магазин (отдел кулинарии)</th>\n",
       "      <td id=\"T_eea50_row8_col0\" class=\"data row8 col0\" >6</td>\n",
       "    </tr>\n",
       "  </tbody>\n",
       "</table>\n"
      ],
      "text/plain": [
       "<pandas.io.formats.style.Styler at 0x7f212abd3b10>"
      ]
     },
     "execution_count": 316,
     "metadata": {},
     "output_type": "execute_result"
    }
   ],
   "source": [
    "t = df.groupby('object_type')['number'].agg(['mean']).round(0)\\\n",
    "                            .sort_values(by='mean', ascending=False)\n",
    "(t\n",
    " .style\n",
    " .format(\"{:.0f}\")\n",
    " .background_gradient(cmap='Blues', axis=0)\n",
    ")"
   ]
  },
  {
   "cell_type": "code",
   "execution_count": 317,
   "metadata": {
    "id": "yCxn6ZeDzypr"
   },
   "outputs": [],
   "source": [
    "t = t.reset_index()"
   ]
  },
  {
   "cell_type": "code",
   "execution_count": 318,
   "metadata": {
    "colab": {
     "base_uri": "https://localhost:8080/",
     "height": 332
    },
    "id": "FnnppP60xrhE",
    "outputId": "587b003a-2be1-434c-d506-96398d5f85b0"
   },
   "outputs": [
    {
     "data": {
      "text/html": [
       "\n",
       "  <div id=\"df-7b285189-5420-4692-87d3-48eb790b33ac\">\n",
       "    <div class=\"colab-df-container\">\n",
       "      <div>\n",
       "<style scoped>\n",
       "    .dataframe tbody tr th:only-of-type {\n",
       "        vertical-align: middle;\n",
       "    }\n",
       "\n",
       "    .dataframe tbody tr th {\n",
       "        vertical-align: top;\n",
       "    }\n",
       "\n",
       "    .dataframe thead th {\n",
       "        text-align: right;\n",
       "    }\n",
       "</style>\n",
       "<table border=\"1\" class=\"dataframe\">\n",
       "  <thead>\n",
       "    <tr style=\"text-align: right;\">\n",
       "      <th></th>\n",
       "      <th>object_type</th>\n",
       "      <th>mean</th>\n",
       "    </tr>\n",
       "  </thead>\n",
       "  <tbody>\n",
       "    <tr>\n",
       "      <th>0</th>\n",
       "      <td>столовая</td>\n",
       "      <td>130.0</td>\n",
       "    </tr>\n",
       "    <tr>\n",
       "      <th>1</th>\n",
       "      <td>ресторан</td>\n",
       "      <td>97.0</td>\n",
       "    </tr>\n",
       "    <tr>\n",
       "      <th>2</th>\n",
       "      <td>буфет</td>\n",
       "      <td>52.0</td>\n",
       "    </tr>\n",
       "    <tr>\n",
       "      <th>3</th>\n",
       "      <td>бар</td>\n",
       "      <td>44.0</td>\n",
       "    </tr>\n",
       "    <tr>\n",
       "      <th>4</th>\n",
       "      <td>кафе</td>\n",
       "      <td>40.0</td>\n",
       "    </tr>\n",
       "    <tr>\n",
       "      <th>5</th>\n",
       "      <td>предприятие быстрого обслуживания</td>\n",
       "      <td>21.0</td>\n",
       "    </tr>\n",
       "    <tr>\n",
       "      <th>6</th>\n",
       "      <td>кафетерий</td>\n",
       "      <td>9.0</td>\n",
       "    </tr>\n",
       "    <tr>\n",
       "      <th>7</th>\n",
       "      <td>закусочная</td>\n",
       "      <td>8.0</td>\n",
       "    </tr>\n",
       "    <tr>\n",
       "      <th>8</th>\n",
       "      <td>магазин (отдел кулинарии)</td>\n",
       "      <td>6.0</td>\n",
       "    </tr>\n",
       "  </tbody>\n",
       "</table>\n",
       "</div>\n",
       "      <button class=\"colab-df-convert\" onclick=\"convertToInteractive('df-7b285189-5420-4692-87d3-48eb790b33ac')\"\n",
       "              title=\"Convert this dataframe to an interactive table.\"\n",
       "              style=\"display:none;\">\n",
       "        \n",
       "  <svg xmlns=\"http://www.w3.org/2000/svg\" height=\"24px\"viewBox=\"0 0 24 24\"\n",
       "       width=\"24px\">\n",
       "    <path d=\"M0 0h24v24H0V0z\" fill=\"none\"/>\n",
       "    <path d=\"M18.56 5.44l.94 2.06.94-2.06 2.06-.94-2.06-.94-.94-2.06-.94 2.06-2.06.94zm-11 1L8.5 8.5l.94-2.06 2.06-.94-2.06-.94L8.5 2.5l-.94 2.06-2.06.94zm10 10l.94 2.06.94-2.06 2.06-.94-2.06-.94-.94-2.06-.94 2.06-2.06.94z\"/><path d=\"M17.41 7.96l-1.37-1.37c-.4-.4-.92-.59-1.43-.59-.52 0-1.04.2-1.43.59L10.3 9.45l-7.72 7.72c-.78.78-.78 2.05 0 2.83L4 21.41c.39.39.9.59 1.41.59.51 0 1.02-.2 1.41-.59l7.78-7.78 2.81-2.81c.8-.78.8-2.07 0-2.86zM5.41 20L4 18.59l7.72-7.72 1.47 1.35L5.41 20z\"/>\n",
       "  </svg>\n",
       "      </button>\n",
       "      \n",
       "  <style>\n",
       "    .colab-df-container {\n",
       "      display:flex;\n",
       "      flex-wrap:wrap;\n",
       "      gap: 12px;\n",
       "    }\n",
       "\n",
       "    .colab-df-convert {\n",
       "      background-color: #E8F0FE;\n",
       "      border: none;\n",
       "      border-radius: 50%;\n",
       "      cursor: pointer;\n",
       "      display: none;\n",
       "      fill: #1967D2;\n",
       "      height: 32px;\n",
       "      padding: 0 0 0 0;\n",
       "      width: 32px;\n",
       "    }\n",
       "\n",
       "    .colab-df-convert:hover {\n",
       "      background-color: #E2EBFA;\n",
       "      box-shadow: 0px 1px 2px rgba(60, 64, 67, 0.3), 0px 1px 3px 1px rgba(60, 64, 67, 0.15);\n",
       "      fill: #174EA6;\n",
       "    }\n",
       "\n",
       "    [theme=dark] .colab-df-convert {\n",
       "      background-color: #3B4455;\n",
       "      fill: #D2E3FC;\n",
       "    }\n",
       "\n",
       "    [theme=dark] .colab-df-convert:hover {\n",
       "      background-color: #434B5C;\n",
       "      box-shadow: 0px 1px 3px 1px rgba(0, 0, 0, 0.15);\n",
       "      filter: drop-shadow(0px 1px 2px rgba(0, 0, 0, 0.3));\n",
       "      fill: #FFFFFF;\n",
       "    }\n",
       "  </style>\n",
       "\n",
       "      <script>\n",
       "        const buttonEl =\n",
       "          document.querySelector('#df-7b285189-5420-4692-87d3-48eb790b33ac button.colab-df-convert');\n",
       "        buttonEl.style.display =\n",
       "          google.colab.kernel.accessAllowed ? 'block' : 'none';\n",
       "\n",
       "        async function convertToInteractive(key) {\n",
       "          const element = document.querySelector('#df-7b285189-5420-4692-87d3-48eb790b33ac');\n",
       "          const dataTable =\n",
       "            await google.colab.kernel.invokeFunction('convertToInteractive',\n",
       "                                                     [key], {});\n",
       "          if (!dataTable) return;\n",
       "\n",
       "          const docLinkHtml = 'Like what you see? Visit the ' +\n",
       "            '<a target=\"_blank\" href=https://colab.research.google.com/notebooks/data_table.ipynb>data table notebook</a>'\n",
       "            + ' to learn more about interactive tables.';\n",
       "          element.innerHTML = '';\n",
       "          dataTable['output_type'] = 'display_data';\n",
       "          await google.colab.output.renderOutput(dataTable, element);\n",
       "          const docLink = document.createElement('div');\n",
       "          docLink.innerHTML = docLinkHtml;\n",
       "          element.appendChild(docLink);\n",
       "        }\n",
       "      </script>\n",
       "    </div>\n",
       "  </div>\n",
       "  "
      ],
      "text/plain": [
       "                         object_type   mean\n",
       "0                           столовая  130.0\n",
       "1                           ресторан   97.0\n",
       "2                              буфет   52.0\n",
       "3                                бар   44.0\n",
       "4                               кафе   40.0\n",
       "5  предприятие быстрого обслуживания   21.0\n",
       "6                          кафетерий    9.0\n",
       "7                         закусочная    8.0\n",
       "8          магазин (отдел кулинарии)    6.0"
      ]
     },
     "execution_count": 318,
     "metadata": {},
     "output_type": "execute_result"
    }
   ],
   "source": [
    "t"
   ]
  },
  {
   "cell_type": "code",
   "execution_count": 319,
   "metadata": {
    "colab": {
     "base_uri": "https://localhost:8080/",
     "height": 557
    },
    "id": "8NHzfNhqzn7U",
    "outputId": "61184439-b168-4b1d-9884-fa150f57c001"
   },
   "outputs": [
    {
     "data": {
      "text/plain": [
       "(array([0, 1, 2, 3, 4, 5, 6, 7, 8]),\n",
       " <a list of 9 Text major ticklabel objects>)"
      ]
     },
     "execution_count": 319,
     "metadata": {},
     "output_type": "execute_result"
    },
    {
     "data": {
      "image/png": "[encoded data removed]",
      "text/plain": [
       "<Figure size 864x576 with 1 Axes>"
      ]
     },
     "metadata": {},
     "output_type": "display_data"
    }
   ],
   "source": [
    "plt.figure(figsize=(12,8))\n",
    "sns.barplot(data=t, orient='h', x='mean', y='object_type', color='c')\n",
    "plt.title('Среднее кол-во посадочных мест по типу заведения\\n', fontsize=18)\n",
    "plt.ylabel('Среднее кол-во посадочных мест, чел. \\n', fontsize=14)\n",
    "plt.xlabel('')\n",
    "plt.xticks(fontsize=14)\n",
    "plt.yticks(fontsize=14)"
   ]
  },
  {
   "cell_type": "markdown",
   "metadata": {
    "id": "aMiKw0vWD4Zo"
   },
   "source": [
    "<div class=\"alert alert-success\">\n",
    "<b>Комментарий ревьюера:</b>☀️\n",
    "    \n",
    "* Здесь лучше бы подшли ящики с усами, при помощи них можно было посмотреть не только на среднее число мест в каждом типе заведения, но оценить и квартили, медиану, насколько значительные выбросы бывают.\n",
    "* Понравилось, что ты добавил таблицу с числами, чтобы точнее понимать сколько мест в каждом типе заведений, можно подписывать и столбцы, это может показаться сложным, но вот [материал](https://queirozf.com/entries/add-labels-and-text-to-matplotlib-plots-annotation-examples), если решишься попробовать</div>\n"
   ]
  },
  {
   "cell_type": "markdown",
   "metadata": {
    "id": "DHskCdi1f20p"
   },
   "source": [
    "<div class=\"alert alert-info\"> <b>Комментарий студента:</b> В следующий раз сделаю так, покаа же немного отстаю и оставлю изначальный вариант.</div>"
   ]
  },
  {
   "cell_type": "code",
   "execution_count": 320,
   "metadata": {
    "colab": {
     "base_uri": "https://localhost:8080/",
     "height": 363
    },
    "id": "cU2KU5CGFiwM",
    "outputId": "67df3ada-0916-4fe3-9500-d388f9a26fb2"
   },
   "outputs": [
    {
     "data": {
      "text/html": [
       "\n",
       "  <div id=\"df-85c60187-362d-4126-80a6-8a8bc8da52ad\">\n",
       "    <div class=\"colab-df-container\">\n",
       "      <div>\n",
       "<style scoped>\n",
       "    .dataframe tbody tr th:only-of-type {\n",
       "        vertical-align: middle;\n",
       "    }\n",
       "\n",
       "    .dataframe tbody tr th {\n",
       "        vertical-align: top;\n",
       "    }\n",
       "\n",
       "    .dataframe thead th {\n",
       "        text-align: right;\n",
       "    }\n",
       "</style>\n",
       "<table border=\"1\" class=\"dataframe\">\n",
       "  <thead>\n",
       "    <tr style=\"text-align: right;\">\n",
       "      <th></th>\n",
       "      <th>count</th>\n",
       "      <th>mean</th>\n",
       "      <th>std</th>\n",
       "      <th>min</th>\n",
       "      <th>25%</th>\n",
       "      <th>50%</th>\n",
       "      <th>75%</th>\n",
       "      <th>max</th>\n",
       "    </tr>\n",
       "    <tr>\n",
       "      <th>object_type</th>\n",
       "      <th></th>\n",
       "      <th></th>\n",
       "      <th></th>\n",
       "      <th></th>\n",
       "      <th></th>\n",
       "      <th></th>\n",
       "      <th></th>\n",
       "      <th></th>\n",
       "    </tr>\n",
       "  </thead>\n",
       "  <tbody>\n",
       "    <tr>\n",
       "      <th>столовая</th>\n",
       "      <td>2584.0</td>\n",
       "      <td>130.0</td>\n",
       "      <td>95.0</td>\n",
       "      <td>0.0</td>\n",
       "      <td>52.0</td>\n",
       "      <td>103.0</td>\n",
       "      <td>200.0</td>\n",
       "      <td>1400.0</td>\n",
       "    </tr>\n",
       "    <tr>\n",
       "      <th>ресторан</th>\n",
       "      <td>2282.0</td>\n",
       "      <td>97.0</td>\n",
       "      <td>95.0</td>\n",
       "      <td>0.0</td>\n",
       "      <td>46.0</td>\n",
       "      <td>80.0</td>\n",
       "      <td>114.0</td>\n",
       "      <td>1500.0</td>\n",
       "    </tr>\n",
       "    <tr>\n",
       "      <th>буфет</th>\n",
       "      <td>577.0</td>\n",
       "      <td>52.0</td>\n",
       "      <td>56.0</td>\n",
       "      <td>0.0</td>\n",
       "      <td>15.0</td>\n",
       "      <td>32.0</td>\n",
       "      <td>80.0</td>\n",
       "      <td>320.0</td>\n",
       "    </tr>\n",
       "    <tr>\n",
       "      <th>бар</th>\n",
       "      <td>855.0</td>\n",
       "      <td>44.0</td>\n",
       "      <td>67.0</td>\n",
       "      <td>0.0</td>\n",
       "      <td>20.0</td>\n",
       "      <td>35.0</td>\n",
       "      <td>50.0</td>\n",
       "      <td>1700.0</td>\n",
       "    </tr>\n",
       "    <tr>\n",
       "      <th>кафе</th>\n",
       "      <td>6071.0</td>\n",
       "      <td>40.0</td>\n",
       "      <td>38.0</td>\n",
       "      <td>0.0</td>\n",
       "      <td>15.0</td>\n",
       "      <td>30.0</td>\n",
       "      <td>50.0</td>\n",
       "      <td>533.0</td>\n",
       "    </tr>\n",
       "    <tr>\n",
       "      <th>предприятие быстрого обслуживания</th>\n",
       "      <td>1898.0</td>\n",
       "      <td>21.0</td>\n",
       "      <td>39.0</td>\n",
       "      <td>0.0</td>\n",
       "      <td>0.0</td>\n",
       "      <td>6.0</td>\n",
       "      <td>25.0</td>\n",
       "      <td>580.0</td>\n",
       "    </tr>\n",
       "    <tr>\n",
       "      <th>кафетерий</th>\n",
       "      <td>395.0</td>\n",
       "      <td>9.0</td>\n",
       "      <td>15.0</td>\n",
       "      <td>0.0</td>\n",
       "      <td>0.0</td>\n",
       "      <td>6.0</td>\n",
       "      <td>12.0</td>\n",
       "      <td>200.0</td>\n",
       "    </tr>\n",
       "    <tr>\n",
       "      <th>закусочная</th>\n",
       "      <td>349.0</td>\n",
       "      <td>8.0</td>\n",
       "      <td>17.0</td>\n",
       "      <td>0.0</td>\n",
       "      <td>0.0</td>\n",
       "      <td>0.0</td>\n",
       "      <td>10.0</td>\n",
       "      <td>216.0</td>\n",
       "    </tr>\n",
       "    <tr>\n",
       "      <th>магазин (отдел кулинарии)</th>\n",
       "      <td>273.0</td>\n",
       "      <td>6.0</td>\n",
       "      <td>10.0</td>\n",
       "      <td>0.0</td>\n",
       "      <td>0.0</td>\n",
       "      <td>0.0</td>\n",
       "      <td>8.0</td>\n",
       "      <td>50.0</td>\n",
       "    </tr>\n",
       "  </tbody>\n",
       "</table>\n",
       "</div>\n",
       "      <button class=\"colab-df-convert\" onclick=\"convertToInteractive('df-85c60187-362d-4126-80a6-8a8bc8da52ad')\"\n",
       "              title=\"Convert this dataframe to an interactive table.\"\n",
       "              style=\"display:none;\">\n",
       "        \n",
       "  <svg xmlns=\"http://www.w3.org/2000/svg\" height=\"24px\"viewBox=\"0 0 24 24\"\n",
       "       width=\"24px\">\n",
       "    <path d=\"M0 0h24v24H0V0z\" fill=\"none\"/>\n",
       "    <path d=\"M18.56 5.44l.94 2.06.94-2.06 2.06-.94-2.06-.94-.94-2.06-.94 2.06-2.06.94zm-11 1L8.5 8.5l.94-2.06 2.06-.94-2.06-.94L8.5 2.5l-.94 2.06-2.06.94zm10 10l.94 2.06.94-2.06 2.06-.94-2.06-.94-.94-2.06-.94 2.06-2.06.94z\"/><path d=\"M17.41 7.96l-1.37-1.37c-.4-.4-.92-.59-1.43-.59-.52 0-1.04.2-1.43.59L10.3 9.45l-7.72 7.72c-.78.78-.78 2.05 0 2.83L4 21.41c.39.39.9.59 1.41.59.51 0 1.02-.2 1.41-.59l7.78-7.78 2.81-2.81c.8-.78.8-2.07 0-2.86zM5.41 20L4 18.59l7.72-7.72 1.47 1.35L5.41 20z\"/>\n",
       "  </svg>\n",
       "      </button>\n",
       "      \n",
       "  <style>\n",
       "    .colab-df-container {\n",
       "      display:flex;\n",
       "      flex-wrap:wrap;\n",
       "      gap: 12px;\n",
       "    }\n",
       "\n",
       "    .colab-df-convert {\n",
       "      background-color: #E8F0FE;\n",
       "      border: none;\n",
       "      border-radius: 50%;\n",
       "      cursor: pointer;\n",
       "      display: none;\n",
       "      fill: #1967D2;\n",
       "      height: 32px;\n",
       "      padding: 0 0 0 0;\n",
       "      width: 32px;\n",
       "    }\n",
       "\n",
       "    .colab-df-convert:hover {\n",
       "      background-color: #E2EBFA;\n",
       "      box-shadow: 0px 1px 2px rgba(60, 64, 67, 0.3), 0px 1px 3px 1px rgba(60, 64, 67, 0.15);\n",
       "      fill: #174EA6;\n",
       "    }\n",
       "\n",
       "    [theme=dark] .colab-df-convert {\n",
       "      background-color: #3B4455;\n",
       "      fill: #D2E3FC;\n",
       "    }\n",
       "\n",
       "    [theme=dark] .colab-df-convert:hover {\n",
       "      background-color: #434B5C;\n",
       "      box-shadow: 0px 1px 3px 1px rgba(0, 0, 0, 0.15);\n",
       "      filter: drop-shadow(0px 1px 2px rgba(0, 0, 0, 0.3));\n",
       "      fill: #FFFFFF;\n",
       "    }\n",
       "  </style>\n",
       "\n",
       "      <script>\n",
       "        const buttonEl =\n",
       "          document.querySelector('#df-85c60187-362d-4126-80a6-8a8bc8da52ad button.colab-df-convert');\n",
       "        buttonEl.style.display =\n",
       "          google.colab.kernel.accessAllowed ? 'block' : 'none';\n",
       "\n",
       "        async function convertToInteractive(key) {\n",
       "          const element = document.querySelector('#df-85c60187-362d-4126-80a6-8a8bc8da52ad');\n",
       "          const dataTable =\n",
       "            await google.colab.kernel.invokeFunction('convertToInteractive',\n",
       "                                                     [key], {});\n",
       "          if (!dataTable) return;\n",
       "\n",
       "          const docLinkHtml = 'Like what you see? Visit the ' +\n",
       "            '<a target=\"_blank\" href=https://colab.research.google.com/notebooks/data_table.ipynb>data table notebook</a>'\n",
       "            + ' to learn more about interactive tables.';\n",
       "          element.innerHTML = '';\n",
       "          dataTable['output_type'] = 'display_data';\n",
       "          await google.colab.output.renderOutput(dataTable, element);\n",
       "          const docLink = document.createElement('div');\n",
       "          docLink.innerHTML = docLinkHtml;\n",
       "          element.appendChild(docLink);\n",
       "        }\n",
       "      </script>\n",
       "    </div>\n",
       "  </div>\n",
       "  "
      ],
      "text/plain": [
       "                                    count   mean   std  min   25%    50%  \\\n",
       "object_type                                                                \n",
       "столовая                           2584.0  130.0  95.0  0.0  52.0  103.0   \n",
       "ресторан                           2282.0   97.0  95.0  0.0  46.0   80.0   \n",
       "буфет                               577.0   52.0  56.0  0.0  15.0   32.0   \n",
       "бар                                 855.0   44.0  67.0  0.0  20.0   35.0   \n",
       "кафе                               6071.0   40.0  38.0  0.0  15.0   30.0   \n",
       "предприятие быстрого обслуживания  1898.0   21.0  39.0  0.0   0.0    6.0   \n",
       "кафетерий                           395.0    9.0  15.0  0.0   0.0    6.0   \n",
       "закусочная                          349.0    8.0  17.0  0.0   0.0    0.0   \n",
       "магазин (отдел кулинарии)           273.0    6.0  10.0  0.0   0.0    0.0   \n",
       "\n",
       "                                     75%     max  \n",
       "object_type                                       \n",
       "столовая                           200.0  1400.0  \n",
       "ресторан                           114.0  1500.0  \n",
       "буфет                               80.0   320.0  \n",
       "бар                                 50.0  1700.0  \n",
       "кафе                                50.0   533.0  \n",
       "предприятие быстрого обслуживания   25.0   580.0  \n",
       "кафетерий                           12.0   200.0  \n",
       "закусочная                          10.0   216.0  \n",
       "магазин (отдел кулинарии)            8.0    50.0  "
      ]
     },
     "execution_count": 320,
     "metadata": {},
     "output_type": "execute_result"
    }
   ],
   "source": [
    "# смотрим статистические данные в цифрах, сортируем по среднему\n",
    "\n",
    "df.groupby('object_type')['number'].describe().\\\n",
    "sort_values(by='mean', ascending=False).round()"
   ]
  },
  {
   "cell_type": "markdown",
   "metadata": {
    "id": "LRxGNI0EJoci"
   },
   "source": [
    "### Вывод\n",
    "Больше всего посадочных мест ожидаемо в столовых — среднее 130 человека. В ресторанах тоже большое среднее значение — 97. Этот формат нам неинтересен, у нас небольшое кафе.\n",
    "\n",
    "В интересующем нас формате среднее количество посадочных мест равно 40. Медиана 30.   \n",
    "\n",
    "Стоит отметить большое число мест в буфетах — 52. При медиане в 32 среднее ушло вверх из-за больших значений в _number_ до 320 человек. \n",
    "\n",
    "Интерес представляет низкая медиана у фастфудов — всего 6 человек. Среднее в 3.5 раза больше, максимальное значение 580 — возможно считаются все посадочные места на фуд-кортах в моллах."
   ]
  },
  {
   "cell_type": "markdown",
   "metadata": {
    "id": "VAD67p7WSa4N"
   },
   "source": [
    "### Выделение в отдельный столбец информации об улице из столбца"
   ]
  },
  {
   "cell_type": "code",
   "execution_count": 321,
   "metadata": {
    "colab": {
     "base_uri": "https://localhost:8080/"
    },
    "id": "dYu2K1ZO8YLl",
    "outputId": "07c0b283-a40e-41f6-d4e5-af1aafade8da"
   },
   "outputs": [
    {
     "data": {
      "text/plain": [
       "0           город Москва, улица Егора Абакумова, дом 9\n",
       "1    город Москва, улица Талалихина, дом 2/1, корпус 1\n",
       "2            город Москва, Абельмановская улица, дом 6\n",
       "3              город Москва, Абрамцевская улица, дом 1\n",
       "4    город Москва, Абрамцевская улица, дом 9, корпус 1\n",
       "Name: address, dtype: object"
      ]
     },
     "execution_count": 321,
     "metadata": {},
     "output_type": "execute_result"
    }
   ],
   "source": [
    "# посмотрим на столбец с адресом\n",
    "\n",
    "df['address'].head()"
   ]
  },
  {
   "cell_type": "code",
   "execution_count": 322,
   "metadata": {
    "colab": {
     "base_uri": "https://localhost:8080/"
    },
    "id": "0UJr3Krv_OH9",
    "outputId": "fd2d22fa-7fa8-4476-d14f-5631f74efa76"
   },
   "outputs": [
    {
     "data": {
      "text/plain": [
       "город Зеленоград          232\n",
       "проспект Мира             204\n",
       "Профсоюзная улица         181\n",
       "Ленинградский проспект    170\n",
       "Пресненская набережная    167\n",
       "                         ... \n",
       "дом 5/14                    1\n",
       "Ащеулов переулок            1\n",
       "Новолучанская улица         1\n",
       "Зубарев переулок            1\n",
       "деревня Дудкино             1\n",
       "Name: street, Length: 1900, dtype: int64"
      ]
     },
     "execution_count": 322,
     "metadata": {},
     "output_type": "execute_result"
    }
   ],
   "source": [
    "# Выделим из адреса конкретно названия улиц\n",
    "\n",
    "df['street'] = df['address'].transform(lambda x: str(x).split(\", \")[1]) \n",
    "df['street'].value_counts()"
   ]
  },
  {
   "cell_type": "markdown",
   "metadata": {
    "id": "2gl0-NdlhLMW"
   },
   "source": [
    "### Вывод:\n",
    "\n",
    "Вывели адрес в отдельный столбец _street_. Данные грязноваты, есть названия городов и поселений. В дальнейшем нужные для работы данные почистим."
   ]
  },
  {
   "cell_type": "markdown",
   "metadata": {
    "id": "jqSn9OT_D4Zu"
   },
   "source": [
    "<div class=\"alert alert-warning\">\n",
    "<b>Комментарий ревьюера:</b>⛅️ \n",
    "\n",
    "\n",
    "Метод допустим, но если смотреть с точки зрения качества - у нас улица не всегда располагаются на второй поизиции в строке, получается, что результат грубоват, да ты потом проверяешь вхождение некоторых стоп слов. Но рекомендую использовать маркеры: улица, бульвар и т.д. которые помогут определить позицию, в которой находится улица в строке.\n",
    "</div>"
   ]
  },
  {
   "cell_type": "markdown",
   "metadata": {
    "id": "N6BBa_h7hnNf"
   },
   "source": [
    "### ТОП-10 улиц"
   ]
  },
  {
   "cell_type": "code",
   "execution_count": 323,
   "metadata": {
    "colab": {
     "base_uri": "https://localhost:8080/"
    },
    "id": "fSQfQeW5hvA8",
    "outputId": "04882e0d-fa25-4ec5-f9d8-ef10768e32ff"
   },
   "outputs": [
    {
     "data": {
      "text/plain": [
       "город Зеленоград          232\n",
       "проспект Мира             204\n",
       "Профсоюзная улица         181\n",
       "Ленинградский проспект    170\n",
       "Пресненская набережная    167\n",
       "                         ... \n",
       "дом 5/14                    1\n",
       "Ащеулов переулок            1\n",
       "Новолучанская улица         1\n",
       "Зубарев переулок            1\n",
       "деревня Дудкино             1\n",
       "Name: street, Length: 1900, dtype: int64"
      ]
     },
     "execution_count": 323,
     "metadata": {},
     "output_type": "execute_result"
    }
   ],
   "source": [
    "# еще раз посмотрим на улицы по количеству заведений на них\n",
    "\n",
    "df['street'].value_counts()"
   ]
  },
  {
   "cell_type": "markdown",
   "metadata": {
    "id": "MiKKp5J2jp_B"
   },
   "source": [
    "В первой же строчке видим \"город Зеленоград\". Кафе мы открываем в Москве, Зеленоград и прочие похожие города-спутники нам не подходят."
   ]
  },
  {
   "cell_type": "code",
   "execution_count": 324,
   "metadata": {
    "colab": {
     "base_uri": "https://localhost:8080/"
    },
    "id": "ACiYzpFOh2u7",
    "outputId": "57eaedb8-4d69-4712-feb8-f12662072d94"
   },
   "outputs": [
    {
     "data": {
      "text/plain": [
       "array(['город Зеленоград', 'город Троицк', 'город Щербинка',\n",
       "       'город Московский'], dtype=object)"
      ]
     },
     "execution_count": 324,
     "metadata": {},
     "output_type": "execute_result"
    }
   ],
   "source": [
    "# посмотрим, сколько таких городов в данных\n",
    "\n",
    "df[df['street'].str.contains('город ', regex=False)]['street'].unique()"
   ]
  },
  {
   "cell_type": "code",
   "execution_count": 325,
   "metadata": {
    "colab": {
     "base_uri": "https://localhost:8080/",
     "height": 363
    },
    "id": "jD5g0VsJjieF",
    "outputId": "e3f7bb5e-9a27-4a17-f7fa-c48043a83ed9"
   },
   "outputs": [
    {
     "data": {
      "text/html": [
       "\n",
       "  <div id=\"df-15bd687a-9829-46d6-9711-8a96225c3b53\">\n",
       "    <div class=\"colab-df-container\">\n",
       "      <div>\n",
       "<style scoped>\n",
       "    .dataframe tbody tr th:only-of-type {\n",
       "        vertical-align: middle;\n",
       "    }\n",
       "\n",
       "    .dataframe tbody tr th {\n",
       "        vertical-align: top;\n",
       "    }\n",
       "\n",
       "    .dataframe thead th {\n",
       "        text-align: right;\n",
       "    }\n",
       "</style>\n",
       "<table border=\"1\" class=\"dataframe\">\n",
       "  <thead>\n",
       "    <tr style=\"text-align: right;\">\n",
       "      <th></th>\n",
       "      <th>street</th>\n",
       "      <th>count</th>\n",
       "    </tr>\n",
       "  </thead>\n",
       "  <tbody>\n",
       "    <tr>\n",
       "      <th>0</th>\n",
       "      <td>город Зеленоград</td>\n",
       "      <td>232</td>\n",
       "    </tr>\n",
       "    <tr>\n",
       "      <th>1</th>\n",
       "      <td>проспект Мира</td>\n",
       "      <td>204</td>\n",
       "    </tr>\n",
       "    <tr>\n",
       "      <th>2</th>\n",
       "      <td>Профсоюзная улица</td>\n",
       "      <td>181</td>\n",
       "    </tr>\n",
       "    <tr>\n",
       "      <th>3</th>\n",
       "      <td>Ленинградский проспект</td>\n",
       "      <td>170</td>\n",
       "    </tr>\n",
       "    <tr>\n",
       "      <th>4</th>\n",
       "      <td>Пресненская набережная</td>\n",
       "      <td>167</td>\n",
       "    </tr>\n",
       "    <tr>\n",
       "      <th>5</th>\n",
       "      <td>Варшавское шоссе</td>\n",
       "      <td>161</td>\n",
       "    </tr>\n",
       "    <tr>\n",
       "      <th>6</th>\n",
       "      <td>Ленинский проспект</td>\n",
       "      <td>147</td>\n",
       "    </tr>\n",
       "    <tr>\n",
       "      <th>7</th>\n",
       "      <td>поселение Сосенское</td>\n",
       "      <td>137</td>\n",
       "    </tr>\n",
       "    <tr>\n",
       "      <th>8</th>\n",
       "      <td>проспект Вернадского</td>\n",
       "      <td>128</td>\n",
       "    </tr>\n",
       "    <tr>\n",
       "      <th>9</th>\n",
       "      <td>Кутузовский проспект</td>\n",
       "      <td>114</td>\n",
       "    </tr>\n",
       "  </tbody>\n",
       "</table>\n",
       "</div>\n",
       "      <button class=\"colab-df-convert\" onclick=\"convertToInteractive('df-15bd687a-9829-46d6-9711-8a96225c3b53')\"\n",
       "              title=\"Convert this dataframe to an interactive table.\"\n",
       "              style=\"display:none;\">\n",
       "        \n",
       "  <svg xmlns=\"http://www.w3.org/2000/svg\" height=\"24px\"viewBox=\"0 0 24 24\"\n",
       "       width=\"24px\">\n",
       "    <path d=\"M0 0h24v24H0V0z\" fill=\"none\"/>\n",
       "    <path d=\"M18.56 5.44l.94 2.06.94-2.06 2.06-.94-2.06-.94-.94-2.06-.94 2.06-2.06.94zm-11 1L8.5 8.5l.94-2.06 2.06-.94-2.06-.94L8.5 2.5l-.94 2.06-2.06.94zm10 10l.94 2.06.94-2.06 2.06-.94-2.06-.94-.94-2.06-.94 2.06-2.06.94z\"/><path d=\"M17.41 7.96l-1.37-1.37c-.4-.4-.92-.59-1.43-.59-.52 0-1.04.2-1.43.59L10.3 9.45l-7.72 7.72c-.78.78-.78 2.05 0 2.83L4 21.41c.39.39.9.59 1.41.59.51 0 1.02-.2 1.41-.59l7.78-7.78 2.81-2.81c.8-.78.8-2.07 0-2.86zM5.41 20L4 18.59l7.72-7.72 1.47 1.35L5.41 20z\"/>\n",
       "  </svg>\n",
       "      </button>\n",
       "      \n",
       "  <style>\n",
       "    .colab-df-container {\n",
       "      display:flex;\n",
       "      flex-wrap:wrap;\n",
       "      gap: 12px;\n",
       "    }\n",
       "\n",
       "    .colab-df-convert {\n",
       "      background-color: #E8F0FE;\n",
       "      border: none;\n",
       "      border-radius: 50%;\n",
       "      cursor: pointer;\n",
       "      display: none;\n",
       "      fill: #1967D2;\n",
       "      height: 32px;\n",
       "      padding: 0 0 0 0;\n",
       "      width: 32px;\n",
       "    }\n",
       "\n",
       "    .colab-df-convert:hover {\n",
       "      background-color: #E2EBFA;\n",
       "      box-shadow: 0px 1px 2px rgba(60, 64, 67, 0.3), 0px 1px 3px 1px rgba(60, 64, 67, 0.15);\n",
       "      fill: #174EA6;\n",
       "    }\n",
       "\n",
       "    [theme=dark] .colab-df-convert {\n",
       "      background-color: #3B4455;\n",
       "      fill: #D2E3FC;\n",
       "    }\n",
       "\n",
       "    [theme=dark] .colab-df-convert:hover {\n",
       "      background-color: #434B5C;\n",
       "      box-shadow: 0px 1px 3px 1px rgba(0, 0, 0, 0.15);\n",
       "      filter: drop-shadow(0px 1px 2px rgba(0, 0, 0, 0.3));\n",
       "      fill: #FFFFFF;\n",
       "    }\n",
       "  </style>\n",
       "\n",
       "      <script>\n",
       "        const buttonEl =\n",
       "          document.querySelector('#df-15bd687a-9829-46d6-9711-8a96225c3b53 button.colab-df-convert');\n",
       "        buttonEl.style.display =\n",
       "          google.colab.kernel.accessAllowed ? 'block' : 'none';\n",
       "\n",
       "        async function convertToInteractive(key) {\n",
       "          const element = document.querySelector('#df-15bd687a-9829-46d6-9711-8a96225c3b53');\n",
       "          const dataTable =\n",
       "            await google.colab.kernel.invokeFunction('convertToInteractive',\n",
       "                                                     [key], {});\n",
       "          if (!dataTable) return;\n",
       "\n",
       "          const docLinkHtml = 'Like what you see? Visit the ' +\n",
       "            '<a target=\"_blank\" href=https://colab.research.google.com/notebooks/data_table.ipynb>data table notebook</a>'\n",
       "            + ' to learn more about interactive tables.';\n",
       "          element.innerHTML = '';\n",
       "          dataTable['output_type'] = 'display_data';\n",
       "          await google.colab.output.renderOutput(dataTable, element);\n",
       "          const docLink = document.createElement('div');\n",
       "          docLink.innerHTML = docLinkHtml;\n",
       "          element.appendChild(docLink);\n",
       "        }\n",
       "      </script>\n",
       "    </div>\n",
       "  </div>\n",
       "  "
      ],
      "text/plain": [
       "                   street  count\n",
       "0        город Зеленоград    232\n",
       "1           проспект Мира    204\n",
       "2       Профсоюзная улица    181\n",
       "3  Ленинградский проспект    170\n",
       "4  Пресненская набережная    167\n",
       "5        Варшавское шоссе    161\n",
       "6      Ленинский проспект    147\n",
       "7     поселение Сосенское    137\n",
       "8    проспект Вернадского    128\n",
       "9    Кутузовский проспект    114"
      ]
     },
     "execution_count": 325,
     "metadata": {},
     "output_type": "execute_result"
    }
   ],
   "source": [
    "# есть ли города в топ-10 популярных улиц\n",
    "\n",
    "t = df.groupby('street')['id'].agg(['count']).sort_values(by='count', \\\n",
    "                                                  ascending=False).reset_index()\n",
    "t.head(10)                                                  "
   ]
  },
  {
   "cell_type": "code",
   "execution_count": 326,
   "metadata": {
    "colab": {
     "base_uri": "https://localhost:8080/"
    },
    "id": "HR-0kBXCqAdh",
    "outputId": "3f142204-332f-43de-c772-3346b03ce1dd"
   },
   "outputs": [
    {
     "data": {
      "text/plain": [
       "0        True\n",
       "1       False\n",
       "2       False\n",
       "3       False\n",
       "4       False\n",
       "        ...  \n",
       "1895    False\n",
       "1896    False\n",
       "1897    False\n",
       "1898    False\n",
       "1899    False\n",
       "Name: street, Length: 1900, dtype: bool"
      ]
     },
     "execution_count": 326,
     "metadata": {},
     "output_type": "execute_result"
    }
   ],
   "source": [
    "# получим логическую series при наличии слова \"город\" в столбце street\n",
    "\n",
    "t['street'].str.contains('город ', regex=False)"
   ]
  },
  {
   "cell_type": "code",
   "execution_count": 327,
   "metadata": {
    "colab": {
     "base_uri": "https://localhost:8080/",
     "height": 363
    },
    "id": "g3Bb_umRq_3g",
    "outputId": "ee80946c-49ee-4928-befc-f82dfa0fde97"
   },
   "outputs": [
    {
     "data": {
      "text/html": [
       "\n",
       "  <div id=\"df-f830bd08-887a-4699-ba65-d5d495ce806a\">\n",
       "    <div class=\"colab-df-container\">\n",
       "      <div>\n",
       "<style scoped>\n",
       "    .dataframe tbody tr th:only-of-type {\n",
       "        vertical-align: middle;\n",
       "    }\n",
       "\n",
       "    .dataframe tbody tr th {\n",
       "        vertical-align: top;\n",
       "    }\n",
       "\n",
       "    .dataframe thead th {\n",
       "        text-align: right;\n",
       "    }\n",
       "</style>\n",
       "<table border=\"1\" class=\"dataframe\">\n",
       "  <thead>\n",
       "    <tr style=\"text-align: right;\">\n",
       "      <th></th>\n",
       "      <th>street</th>\n",
       "      <th>count</th>\n",
       "    </tr>\n",
       "  </thead>\n",
       "  <tbody>\n",
       "    <tr>\n",
       "      <th>1</th>\n",
       "      <td>проспект Мира</td>\n",
       "      <td>204</td>\n",
       "    </tr>\n",
       "    <tr>\n",
       "      <th>2</th>\n",
       "      <td>Профсоюзная улица</td>\n",
       "      <td>181</td>\n",
       "    </tr>\n",
       "    <tr>\n",
       "      <th>3</th>\n",
       "      <td>Ленинградский проспект</td>\n",
       "      <td>170</td>\n",
       "    </tr>\n",
       "    <tr>\n",
       "      <th>4</th>\n",
       "      <td>Пресненская набережная</td>\n",
       "      <td>167</td>\n",
       "    </tr>\n",
       "    <tr>\n",
       "      <th>5</th>\n",
       "      <td>Варшавское шоссе</td>\n",
       "      <td>161</td>\n",
       "    </tr>\n",
       "    <tr>\n",
       "      <th>6</th>\n",
       "      <td>Ленинский проспект</td>\n",
       "      <td>147</td>\n",
       "    </tr>\n",
       "    <tr>\n",
       "      <th>7</th>\n",
       "      <td>поселение Сосенское</td>\n",
       "      <td>137</td>\n",
       "    </tr>\n",
       "    <tr>\n",
       "      <th>8</th>\n",
       "      <td>проспект Вернадского</td>\n",
       "      <td>128</td>\n",
       "    </tr>\n",
       "    <tr>\n",
       "      <th>9</th>\n",
       "      <td>Кутузовский проспект</td>\n",
       "      <td>114</td>\n",
       "    </tr>\n",
       "    <tr>\n",
       "      <th>10</th>\n",
       "      <td>Каширское шоссе</td>\n",
       "      <td>111</td>\n",
       "    </tr>\n",
       "  </tbody>\n",
       "</table>\n",
       "</div>\n",
       "      <button class=\"colab-df-convert\" onclick=\"convertToInteractive('df-f830bd08-887a-4699-ba65-d5d495ce806a')\"\n",
       "              title=\"Convert this dataframe to an interactive table.\"\n",
       "              style=\"display:none;\">\n",
       "        \n",
       "  <svg xmlns=\"http://www.w3.org/2000/svg\" height=\"24px\"viewBox=\"0 0 24 24\"\n",
       "       width=\"24px\">\n",
       "    <path d=\"M0 0h24v24H0V0z\" fill=\"none\"/>\n",
       "    <path d=\"M18.56 5.44l.94 2.06.94-2.06 2.06-.94-2.06-.94-.94-2.06-.94 2.06-2.06.94zm-11 1L8.5 8.5l.94-2.06 2.06-.94-2.06-.94L8.5 2.5l-.94 2.06-2.06.94zm10 10l.94 2.06.94-2.06 2.06-.94-2.06-.94-.94-2.06-.94 2.06-2.06.94z\"/><path d=\"M17.41 7.96l-1.37-1.37c-.4-.4-.92-.59-1.43-.59-.52 0-1.04.2-1.43.59L10.3 9.45l-7.72 7.72c-.78.78-.78 2.05 0 2.83L4 21.41c.39.39.9.59 1.41.59.51 0 1.02-.2 1.41-.59l7.78-7.78 2.81-2.81c.8-.78.8-2.07 0-2.86zM5.41 20L4 18.59l7.72-7.72 1.47 1.35L5.41 20z\"/>\n",
       "  </svg>\n",
       "      </button>\n",
       "      \n",
       "  <style>\n",
       "    .colab-df-container {\n",
       "      display:flex;\n",
       "      flex-wrap:wrap;\n",
       "      gap: 12px;\n",
       "    }\n",
       "\n",
       "    .colab-df-convert {\n",
       "      background-color: #E8F0FE;\n",
       "      border: none;\n",
       "      border-radius: 50%;\n",
       "      cursor: pointer;\n",
       "      display: none;\n",
       "      fill: #1967D2;\n",
       "      height: 32px;\n",
       "      padding: 0 0 0 0;\n",
       "      width: 32px;\n",
       "    }\n",
       "\n",
       "    .colab-df-convert:hover {\n",
       "      background-color: #E2EBFA;\n",
       "      box-shadow: 0px 1px 2px rgba(60, 64, 67, 0.3), 0px 1px 3px 1px rgba(60, 64, 67, 0.15);\n",
       "      fill: #174EA6;\n",
       "    }\n",
       "\n",
       "    [theme=dark] .colab-df-convert {\n",
       "      background-color: #3B4455;\n",
       "      fill: #D2E3FC;\n",
       "    }\n",
       "\n",
       "    [theme=dark] .colab-df-convert:hover {\n",
       "      background-color: #434B5C;\n",
       "      box-shadow: 0px 1px 3px 1px rgba(0, 0, 0, 0.15);\n",
       "      filter: drop-shadow(0px 1px 2px rgba(0, 0, 0, 0.3));\n",
       "      fill: #FFFFFF;\n",
       "    }\n",
       "  </style>\n",
       "\n",
       "      <script>\n",
       "        const buttonEl =\n",
       "          document.querySelector('#df-f830bd08-887a-4699-ba65-d5d495ce806a button.colab-df-convert');\n",
       "        buttonEl.style.display =\n",
       "          google.colab.kernel.accessAllowed ? 'block' : 'none';\n",
       "\n",
       "        async function convertToInteractive(key) {\n",
       "          const element = document.querySelector('#df-f830bd08-887a-4699-ba65-d5d495ce806a');\n",
       "          const dataTable =\n",
       "            await google.colab.kernel.invokeFunction('convertToInteractive',\n",
       "                                                     [key], {});\n",
       "          if (!dataTable) return;\n",
       "\n",
       "          const docLinkHtml = 'Like what you see? Visit the ' +\n",
       "            '<a target=\"_blank\" href=https://colab.research.google.com/notebooks/data_table.ipynb>data table notebook</a>'\n",
       "            + ' to learn more about interactive tables.';\n",
       "          element.innerHTML = '';\n",
       "          dataTable['output_type'] = 'display_data';\n",
       "          await google.colab.output.renderOutput(dataTable, element);\n",
       "          const docLink = document.createElement('div');\n",
       "          docLink.innerHTML = docLinkHtml;\n",
       "          element.appendChild(docLink);\n",
       "        }\n",
       "      </script>\n",
       "    </div>\n",
       "  </div>\n",
       "  "
      ],
      "text/plain": [
       "                    street  count\n",
       "1            проспект Мира    204\n",
       "2        Профсоюзная улица    181\n",
       "3   Ленинградский проспект    170\n",
       "4   Пресненская набережная    167\n",
       "5         Варшавское шоссе    161\n",
       "6       Ленинский проспект    147\n",
       "7      поселение Сосенское    137\n",
       "8     проспект Вернадского    128\n",
       "9     Кутузовский проспект    114\n",
       "10         Каширское шоссе    111"
      ]
     },
     "execution_count": 327,
     "metadata": {},
     "output_type": "execute_result"
    }
   ],
   "source": [
    "# запишем в новую переменную adress улицы без слова \"город\" \n",
    "# выведем первые 10 улиц\n",
    "adress = t[~t['street'].str.contains('город ', regex=False)]\n",
    "adress[:10]"
   ]
  },
  {
   "cell_type": "code",
   "execution_count": 328,
   "metadata": {
    "colab": {
     "base_uri": "https://localhost:8080/",
     "height": 363
    },
    "id": "RB3CX_ShrMGG",
    "outputId": "b673c156-14fe-4025-f269-7da9a7561608"
   },
   "outputs": [
    {
     "data": {
      "text/html": [
       "\n",
       "  <div id=\"df-644c3323-30a3-49f2-8f4b-f99faa429ff2\">\n",
       "    <div class=\"colab-df-container\">\n",
       "      <div>\n",
       "<style scoped>\n",
       "    .dataframe tbody tr th:only-of-type {\n",
       "        vertical-align: middle;\n",
       "    }\n",
       "\n",
       "    .dataframe tbody tr th {\n",
       "        vertical-align: top;\n",
       "    }\n",
       "\n",
       "    .dataframe thead th {\n",
       "        text-align: right;\n",
       "    }\n",
       "</style>\n",
       "<table border=\"1\" class=\"dataframe\">\n",
       "  <thead>\n",
       "    <tr style=\"text-align: right;\">\n",
       "      <th></th>\n",
       "      <th>street</th>\n",
       "      <th>count</th>\n",
       "    </tr>\n",
       "  </thead>\n",
       "  <tbody>\n",
       "    <tr>\n",
       "      <th>0</th>\n",
       "      <td>проспект Мира</td>\n",
       "      <td>204</td>\n",
       "    </tr>\n",
       "    <tr>\n",
       "      <th>1</th>\n",
       "      <td>Профсоюзная улица</td>\n",
       "      <td>181</td>\n",
       "    </tr>\n",
       "    <tr>\n",
       "      <th>2</th>\n",
       "      <td>Ленинградский проспект</td>\n",
       "      <td>170</td>\n",
       "    </tr>\n",
       "    <tr>\n",
       "      <th>3</th>\n",
       "      <td>Пресненская набережная</td>\n",
       "      <td>167</td>\n",
       "    </tr>\n",
       "    <tr>\n",
       "      <th>4</th>\n",
       "      <td>Варшавское шоссе</td>\n",
       "      <td>161</td>\n",
       "    </tr>\n",
       "    <tr>\n",
       "      <th>5</th>\n",
       "      <td>Ленинский проспект</td>\n",
       "      <td>147</td>\n",
       "    </tr>\n",
       "    <tr>\n",
       "      <th>6</th>\n",
       "      <td>проспект Вернадского</td>\n",
       "      <td>128</td>\n",
       "    </tr>\n",
       "    <tr>\n",
       "      <th>7</th>\n",
       "      <td>Кутузовский проспект</td>\n",
       "      <td>114</td>\n",
       "    </tr>\n",
       "    <tr>\n",
       "      <th>8</th>\n",
       "      <td>Каширское шоссе</td>\n",
       "      <td>111</td>\n",
       "    </tr>\n",
       "    <tr>\n",
       "      <th>9</th>\n",
       "      <td>Кировоградская улица</td>\n",
       "      <td>108</td>\n",
       "    </tr>\n",
       "  </tbody>\n",
       "</table>\n",
       "</div>\n",
       "      <button class=\"colab-df-convert\" onclick=\"convertToInteractive('df-644c3323-30a3-49f2-8f4b-f99faa429ff2')\"\n",
       "              title=\"Convert this dataframe to an interactive table.\"\n",
       "              style=\"display:none;\">\n",
       "        \n",
       "  <svg xmlns=\"http://www.w3.org/2000/svg\" height=\"24px\"viewBox=\"0 0 24 24\"\n",
       "       width=\"24px\">\n",
       "    <path d=\"M0 0h24v24H0V0z\" fill=\"none\"/>\n",
       "    <path d=\"M18.56 5.44l.94 2.06.94-2.06 2.06-.94-2.06-.94-.94-2.06-.94 2.06-2.06.94zm-11 1L8.5 8.5l.94-2.06 2.06-.94-2.06-.94L8.5 2.5l-.94 2.06-2.06.94zm10 10l.94 2.06.94-2.06 2.06-.94-2.06-.94-.94-2.06-.94 2.06-2.06.94z\"/><path d=\"M17.41 7.96l-1.37-1.37c-.4-.4-.92-.59-1.43-.59-.52 0-1.04.2-1.43.59L10.3 9.45l-7.72 7.72c-.78.78-.78 2.05 0 2.83L4 21.41c.39.39.9.59 1.41.59.51 0 1.02-.2 1.41-.59l7.78-7.78 2.81-2.81c.8-.78.8-2.07 0-2.86zM5.41 20L4 18.59l7.72-7.72 1.47 1.35L5.41 20z\"/>\n",
       "  </svg>\n",
       "      </button>\n",
       "      \n",
       "  <style>\n",
       "    .colab-df-container {\n",
       "      display:flex;\n",
       "      flex-wrap:wrap;\n",
       "      gap: 12px;\n",
       "    }\n",
       "\n",
       "    .colab-df-convert {\n",
       "      background-color: #E8F0FE;\n",
       "      border: none;\n",
       "      border-radius: 50%;\n",
       "      cursor: pointer;\n",
       "      display: none;\n",
       "      fill: #1967D2;\n",
       "      height: 32px;\n",
       "      padding: 0 0 0 0;\n",
       "      width: 32px;\n",
       "    }\n",
       "\n",
       "    .colab-df-convert:hover {\n",
       "      background-color: #E2EBFA;\n",
       "      box-shadow: 0px 1px 2px rgba(60, 64, 67, 0.3), 0px 1px 3px 1px rgba(60, 64, 67, 0.15);\n",
       "      fill: #174EA6;\n",
       "    }\n",
       "\n",
       "    [theme=dark] .colab-df-convert {\n",
       "      background-color: #3B4455;\n",
       "      fill: #D2E3FC;\n",
       "    }\n",
       "\n",
       "    [theme=dark] .colab-df-convert:hover {\n",
       "      background-color: #434B5C;\n",
       "      box-shadow: 0px 1px 3px 1px rgba(0, 0, 0, 0.15);\n",
       "      filter: drop-shadow(0px 1px 2px rgba(0, 0, 0, 0.3));\n",
       "      fill: #FFFFFF;\n",
       "    }\n",
       "  </style>\n",
       "\n",
       "      <script>\n",
       "        const buttonEl =\n",
       "          document.querySelector('#df-644c3323-30a3-49f2-8f4b-f99faa429ff2 button.colab-df-convert');\n",
       "        buttonEl.style.display =\n",
       "          google.colab.kernel.accessAllowed ? 'block' : 'none';\n",
       "\n",
       "        async function convertToInteractive(key) {\n",
       "          const element = document.querySelector('#df-644c3323-30a3-49f2-8f4b-f99faa429ff2');\n",
       "          const dataTable =\n",
       "            await google.colab.kernel.invokeFunction('convertToInteractive',\n",
       "                                                     [key], {});\n",
       "          if (!dataTable) return;\n",
       "\n",
       "          const docLinkHtml = 'Like what you see? Visit the ' +\n",
       "            '<a target=\"_blank\" href=https://colab.research.google.com/notebooks/data_table.ipynb>data table notebook</a>'\n",
       "            + ' to learn more about interactive tables.';\n",
       "          element.innerHTML = '';\n",
       "          dataTable['output_type'] = 'display_data';\n",
       "          await google.colab.output.renderOutput(dataTable, element);\n",
       "          const docLink = document.createElement('div');\n",
       "          docLink.innerHTML = docLinkHtml;\n",
       "          element.appendChild(docLink);\n",
       "        }\n",
       "      </script>\n",
       "    </div>\n",
       "  </div>\n",
       "  "
      ],
      "text/plain": [
       "                   street  count\n",
       "0           проспект Мира    204\n",
       "1       Профсоюзная улица    181\n",
       "2  Ленинградский проспект    170\n",
       "3  Пресненская набережная    167\n",
       "4        Варшавское шоссе    161\n",
       "5      Ленинский проспект    147\n",
       "6    проспект Вернадского    128\n",
       "7    Кутузовский проспект    114\n",
       "8         Каширское шоссе    111\n",
       "9    Кировоградская улица    108"
      ]
     },
     "execution_count": 328,
     "metadata": {},
     "output_type": "execute_result"
    }
   ],
   "source": [
    "# аналогично убираем \"поселения\"\n",
    "# выведем очищенные топ-10 улиц\n",
    "\n",
    "adress = adress[~adress['street'].str.contains('поселение', regex=False)].reset_index(drop=True)\n",
    "adress.head(10)"
   ]
  },
  {
   "cell_type": "code",
   "execution_count": 329,
   "metadata": {
    "colab": {
     "base_uri": "https://localhost:8080/"
    },
    "id": "okzwBNSCiT5M",
    "outputId": "75eca6c7-48f6-4622-91f4-684e0b9bc788"
   },
   "outputs": [
    {
     "data": {
      "text/plain": [
       "0             проспект Мира\n",
       "1         Профсоюзная улица\n",
       "2    Ленинградский проспект\n",
       "3    Пресненская набережная\n",
       "4          Варшавское шоссе\n",
       "5        Ленинский проспект\n",
       "6      проспект Вернадского\n",
       "7      Кутузовский проспект\n",
       "8           Каширское шоссе\n",
       "9      Кировоградская улица\n",
       "Name: street, dtype: object"
      ]
     },
     "execution_count": 329,
     "metadata": {},
     "output_type": "execute_result"
    }
   ],
   "source": [
    "adress['street'][:10]"
   ]
  },
  {
   "cell_type": "markdown",
   "metadata": {
    "id": "etPJDai_gddk"
   },
   "source": [
    "### Вывод:\n",
    "\n",
    "Самые популярные улицы Москвы для заведений общественного питания:\n",
    "\n",
    "1. проспект Мира\n",
    "2. Профсоюзная улица\n",
    "3. Ленинградский проспект\n",
    "4. Пресненская набережная\n",
    "5. Варшавское шоссе\n",
    "6. Ленинский проспект\n",
    "7. проспект Вернадского\n",
    "8. Кутузовский проспект\n",
    "9. Каширское шоссе\n",
    "10. Кировоградская улица\n"
   ]
  },
  {
   "cell_type": "markdown",
   "metadata": {
    "id": "HXGznh4ijBMd"
   },
   "source": [
    "### График топ-10 улиц по количеству объектов общественного питания."
   ]
  },
  {
   "cell_type": "code",
   "execution_count": 330,
   "metadata": {
    "colab": {
     "base_uri": "https://localhost:8080/",
     "height": 363
    },
    "id": "ud4Qiv-QjHXV",
    "outputId": "392ea5c0-5b5a-4321-984a-225055eb875b"
   },
   "outputs": [
    {
     "data": {
      "text/html": [
       "\n",
       "  <div id=\"df-e4ffb7bc-620d-4163-a43c-31fa18955349\">\n",
       "    <div class=\"colab-df-container\">\n",
       "      <div>\n",
       "<style scoped>\n",
       "    .dataframe tbody tr th:only-of-type {\n",
       "        vertical-align: middle;\n",
       "    }\n",
       "\n",
       "    .dataframe tbody tr th {\n",
       "        vertical-align: top;\n",
       "    }\n",
       "\n",
       "    .dataframe thead th {\n",
       "        text-align: right;\n",
       "    }\n",
       "</style>\n",
       "<table border=\"1\" class=\"dataframe\">\n",
       "  <thead>\n",
       "    <tr style=\"text-align: right;\">\n",
       "      <th></th>\n",
       "      <th>street</th>\n",
       "      <th>count</th>\n",
       "    </tr>\n",
       "  </thead>\n",
       "  <tbody>\n",
       "    <tr>\n",
       "      <th>0</th>\n",
       "      <td>проспект Мира</td>\n",
       "      <td>204</td>\n",
       "    </tr>\n",
       "    <tr>\n",
       "      <th>1</th>\n",
       "      <td>Профсоюзная улица</td>\n",
       "      <td>181</td>\n",
       "    </tr>\n",
       "    <tr>\n",
       "      <th>2</th>\n",
       "      <td>Ленинградский проспект</td>\n",
       "      <td>170</td>\n",
       "    </tr>\n",
       "    <tr>\n",
       "      <th>3</th>\n",
       "      <td>Пресненская набережная</td>\n",
       "      <td>167</td>\n",
       "    </tr>\n",
       "    <tr>\n",
       "      <th>4</th>\n",
       "      <td>Варшавское шоссе</td>\n",
       "      <td>161</td>\n",
       "    </tr>\n",
       "    <tr>\n",
       "      <th>5</th>\n",
       "      <td>Ленинский проспект</td>\n",
       "      <td>147</td>\n",
       "    </tr>\n",
       "    <tr>\n",
       "      <th>6</th>\n",
       "      <td>проспект Вернадского</td>\n",
       "      <td>128</td>\n",
       "    </tr>\n",
       "    <tr>\n",
       "      <th>7</th>\n",
       "      <td>Кутузовский проспект</td>\n",
       "      <td>114</td>\n",
       "    </tr>\n",
       "    <tr>\n",
       "      <th>8</th>\n",
       "      <td>Каширское шоссе</td>\n",
       "      <td>111</td>\n",
       "    </tr>\n",
       "    <tr>\n",
       "      <th>9</th>\n",
       "      <td>Кировоградская улица</td>\n",
       "      <td>108</td>\n",
       "    </tr>\n",
       "  </tbody>\n",
       "</table>\n",
       "</div>\n",
       "      <button class=\"colab-df-convert\" onclick=\"convertToInteractive('df-e4ffb7bc-620d-4163-a43c-31fa18955349')\"\n",
       "              title=\"Convert this dataframe to an interactive table.\"\n",
       "              style=\"display:none;\">\n",
       "        \n",
       "  <svg xmlns=\"http://www.w3.org/2000/svg\" height=\"24px\"viewBox=\"0 0 24 24\"\n",
       "       width=\"24px\">\n",
       "    <path d=\"M0 0h24v24H0V0z\" fill=\"none\"/>\n",
       "    <path d=\"M18.56 5.44l.94 2.06.94-2.06 2.06-.94-2.06-.94-.94-2.06-.94 2.06-2.06.94zm-11 1L8.5 8.5l.94-2.06 2.06-.94-2.06-.94L8.5 2.5l-.94 2.06-2.06.94zm10 10l.94 2.06.94-2.06 2.06-.94-2.06-.94-.94-2.06-.94 2.06-2.06.94z\"/><path d=\"M17.41 7.96l-1.37-1.37c-.4-.4-.92-.59-1.43-.59-.52 0-1.04.2-1.43.59L10.3 9.45l-7.72 7.72c-.78.78-.78 2.05 0 2.83L4 21.41c.39.39.9.59 1.41.59.51 0 1.02-.2 1.41-.59l7.78-7.78 2.81-2.81c.8-.78.8-2.07 0-2.86zM5.41 20L4 18.59l7.72-7.72 1.47 1.35L5.41 20z\"/>\n",
       "  </svg>\n",
       "      </button>\n",
       "      \n",
       "  <style>\n",
       "    .colab-df-container {\n",
       "      display:flex;\n",
       "      flex-wrap:wrap;\n",
       "      gap: 12px;\n",
       "    }\n",
       "\n",
       "    .colab-df-convert {\n",
       "      background-color: #E8F0FE;\n",
       "      border: none;\n",
       "      border-radius: 50%;\n",
       "      cursor: pointer;\n",
       "      display: none;\n",
       "      fill: #1967D2;\n",
       "      height: 32px;\n",
       "      padding: 0 0 0 0;\n",
       "      width: 32px;\n",
       "    }\n",
       "\n",
       "    .colab-df-convert:hover {\n",
       "      background-color: #E2EBFA;\n",
       "      box-shadow: 0px 1px 2px rgba(60, 64, 67, 0.3), 0px 1px 3px 1px rgba(60, 64, 67, 0.15);\n",
       "      fill: #174EA6;\n",
       "    }\n",
       "\n",
       "    [theme=dark] .colab-df-convert {\n",
       "      background-color: #3B4455;\n",
       "      fill: #D2E3FC;\n",
       "    }\n",
       "\n",
       "    [theme=dark] .colab-df-convert:hover {\n",
       "      background-color: #434B5C;\n",
       "      box-shadow: 0px 1px 3px 1px rgba(0, 0, 0, 0.15);\n",
       "      filter: drop-shadow(0px 1px 2px rgba(0, 0, 0, 0.3));\n",
       "      fill: #FFFFFF;\n",
       "    }\n",
       "  </style>\n",
       "\n",
       "      <script>\n",
       "        const buttonEl =\n",
       "          document.querySelector('#df-e4ffb7bc-620d-4163-a43c-31fa18955349 button.colab-df-convert');\n",
       "        buttonEl.style.display =\n",
       "          google.colab.kernel.accessAllowed ? 'block' : 'none';\n",
       "\n",
       "        async function convertToInteractive(key) {\n",
       "          const element = document.querySelector('#df-e4ffb7bc-620d-4163-a43c-31fa18955349');\n",
       "          const dataTable =\n",
       "            await google.colab.kernel.invokeFunction('convertToInteractive',\n",
       "                                                     [key], {});\n",
       "          if (!dataTable) return;\n",
       "\n",
       "          const docLinkHtml = 'Like what you see? Visit the ' +\n",
       "            '<a target=\"_blank\" href=https://colab.research.google.com/notebooks/data_table.ipynb>data table notebook</a>'\n",
       "            + ' to learn more about interactive tables.';\n",
       "          element.innerHTML = '';\n",
       "          dataTable['output_type'] = 'display_data';\n",
       "          await google.colab.output.renderOutput(dataTable, element);\n",
       "          const docLink = document.createElement('div');\n",
       "          docLink.innerHTML = docLinkHtml;\n",
       "          element.appendChild(docLink);\n",
       "        }\n",
       "      </script>\n",
       "    </div>\n",
       "  </div>\n",
       "  "
      ],
      "text/plain": [
       "                   street  count\n",
       "0           проспект Мира    204\n",
       "1       Профсоюзная улица    181\n",
       "2  Ленинградский проспект    170\n",
       "3  Пресненская набережная    167\n",
       "4        Варшавское шоссе    161\n",
       "5      Ленинский проспект    147\n",
       "6    проспект Вернадского    128\n",
       "7    Кутузовский проспект    114\n",
       "8         Каширское шоссе    111\n",
       "9    Кировоградская улица    108"
      ]
     },
     "execution_count": 330,
     "metadata": {},
     "output_type": "execute_result"
    }
   ],
   "source": [
    "# еще раз топ-10 улиц по количеству заведений\n",
    "\n",
    "adress[:10]"
   ]
  },
  {
   "cell_type": "markdown",
   "metadata": {
    "id": "dE_p0BBwD4Z9"
   },
   "source": [
    "<div class=\"alert alert-success\">\n",
    "<b>Комментарий ревьюера:</b>☀️\n",
    "    \n",
    "Топ получен верный</div>\n"
   ]
  },
  {
   "cell_type": "code",
   "execution_count": 331,
   "metadata": {
    "colab": {
     "base_uri": "https://localhost:8080/",
     "height": 599
    },
    "id": "Xi67cmsus3qd",
    "outputId": "c81a3637-1749-49b5-ce28-aa1e1172d02a"
   },
   "outputs": [
    {
     "data": {
      "text/plain": [
       "(array([0, 1, 2, 3, 4, 5, 6, 7, 8, 9]),\n",
       " <a list of 10 Text major ticklabel objects>)"
      ]
     },
     "execution_count": 331,
     "metadata": {},
     "output_type": "execute_result"
    },
    {
     "data": {
      "image/png": "[encoded data removed]",
      "text/plain": [
       "<Figure size 864x576 with 1 Axes>"
      ]
     },
     "metadata": {},
     "output_type": "display_data"
    }
   ],
   "source": [
    "# строим график\n",
    "\n",
    "sns.set(style=\"darkgrid\")\n",
    "plt.figure(figsize=(12, 8))\n",
    "plt.title('10 улиц с максимальным количеством заведений \\n', fontsize=18)\n",
    "sns.barplot(\n",
    "    x=\"count\", \n",
    "    y=\"street\", \n",
    "    data=adress[:10], \n",
    "    estimator=sum, \n",
    "    ci=None, \n",
    "    color='b');\n",
    "plt.ylabel('Улицы \\n', fontsize=14)\n",
    "plt.xlabel('\\n Количество объектов на улице', fontsize=14)\n",
    "plt.xticks(fontsize=14)\n",
    "plt.yticks(fontsize=14)"
   ]
  },
  {
   "cell_type": "markdown",
   "metadata": {
    "id": "_i6732JCrgCO"
   },
   "source": [
    "### В каких районах Москвы находятся ТОП-10 улиц"
   ]
  },
  {
   "cell_type": "markdown",
   "metadata": {
    "id": "RGNY_hTv_bKe"
   },
   "source": [
    "Обратимся к внешним данным, чтобы сопоставить каждую улицу с раойном и округом.\n",
    "\n",
    "Ссылка на сторонний файл с районами и улицами:\n",
    "\n",
    "https://docs.google.com/spreadsheets/d/1bRyi5okg6A3av4nFprLlpojq6dGSXUJXWbWXi6UOyTI/edit?usp=sharing"
   ]
  },
  {
   "cell_type": "markdown",
   "metadata": {
    "id": "EH5czVgU_rR5"
   },
   "source": [
    "Импортируем файл с районами и улицами"
   ]
  },
  {
   "cell_type": "code",
   "execution_count": 332,
   "metadata": {
    "id": "hp4A0uYx_J5S"
   },
   "outputs": [],
   "source": [
    "from io import BytesIO\n",
    "import requests\n",
    "spreadsheet_id = '1bRyi5okg6A3av4nFprLlpojq6dGSXUJXWbWXi6UOyTI'\n",
    "file_name = 'https://docs.google.com/spreadsheets/d/{}/export?format=csv'\\\n",
    "                                                     .format(spreadsheet_id)\n",
    "r = requests.get(file_name)\n",
    "area_street = pd.read_csv(BytesIO(r.content))"
   ]
  },
  {
   "cell_type": "markdown",
   "metadata": {
    "id": "kv3Fhox6D4aD"
   },
   "source": [
    "<div class=\"alert alert-warning\">\n",
    "<b>Комментарий ревьюера:</b>⛅️ \n",
    "\n",
    "В случае когда ты кому-то отправляешь свой проект, может так случиться, что у человека нет `io` например, и тогда ему придется пролистать до места где ты её используешь, а если бы обращения ко всем библиотекам было бы в начале, такая проблема исключается. Ну и вдруг ты выше будешь применять что-то из этих библиотек, тогда код упадёт</div>"
   ]
  },
  {
   "cell_type": "code",
   "execution_count": 333,
   "metadata": {
    "colab": {
     "base_uri": "https://localhost:8080/",
     "height": 206
    },
    "id": "UtSoYhMGW_n-",
    "outputId": "0b6b6b27-c9dc-4908-a841-da1abb748c8f"
   },
   "outputs": [
    {
     "data": {
      "text/html": [
       "\n",
       "  <div id=\"df-04f7ea86-12ad-4fb0-ba40-1d295b2061dd\">\n",
       "    <div class=\"colab-df-container\">\n",
       "      <div>\n",
       "<style scoped>\n",
       "    .dataframe tbody tr th:only-of-type {\n",
       "        vertical-align: middle;\n",
       "    }\n",
       "\n",
       "    .dataframe tbody tr th {\n",
       "        vertical-align: top;\n",
       "    }\n",
       "\n",
       "    .dataframe thead th {\n",
       "        text-align: right;\n",
       "    }\n",
       "</style>\n",
       "<table border=\"1\" class=\"dataframe\">\n",
       "  <thead>\n",
       "    <tr style=\"text-align: right;\">\n",
       "      <th></th>\n",
       "      <th>streetname</th>\n",
       "      <th>areaid</th>\n",
       "      <th>okrug</th>\n",
       "      <th>area</th>\n",
       "    </tr>\n",
       "  </thead>\n",
       "  <tbody>\n",
       "    <tr>\n",
       "      <th>0</th>\n",
       "      <td>Выставочный переулок</td>\n",
       "      <td>17</td>\n",
       "      <td>ЦАО</td>\n",
       "      <td>Пресненский район</td>\n",
       "    </tr>\n",
       "    <tr>\n",
       "      <th>1</th>\n",
       "      <td>улица Гашека</td>\n",
       "      <td>17</td>\n",
       "      <td>ЦАО</td>\n",
       "      <td>Пресненский район</td>\n",
       "    </tr>\n",
       "    <tr>\n",
       "      <th>2</th>\n",
       "      <td>Большая Никитская улица</td>\n",
       "      <td>17</td>\n",
       "      <td>ЦАО</td>\n",
       "      <td>Пресненский район</td>\n",
       "    </tr>\n",
       "    <tr>\n",
       "      <th>3</th>\n",
       "      <td>Глубокий переулок</td>\n",
       "      <td>17</td>\n",
       "      <td>ЦАО</td>\n",
       "      <td>Пресненский район</td>\n",
       "    </tr>\n",
       "    <tr>\n",
       "      <th>4</th>\n",
       "      <td>Большой Гнездниковский переулок</td>\n",
       "      <td>17</td>\n",
       "      <td>ЦАО</td>\n",
       "      <td>Пресненский район</td>\n",
       "    </tr>\n",
       "  </tbody>\n",
       "</table>\n",
       "</div>\n",
       "      <button class=\"colab-df-convert\" onclick=\"convertToInteractive('df-04f7ea86-12ad-4fb0-ba40-1d295b2061dd')\"\n",
       "              title=\"Convert this dataframe to an interactive table.\"\n",
       "              style=\"display:none;\">\n",
       "        \n",
       "  <svg xmlns=\"http://www.w3.org/2000/svg\" height=\"24px\"viewBox=\"0 0 24 24\"\n",
       "       width=\"24px\">\n",
       "    <path d=\"M0 0h24v24H0V0z\" fill=\"none\"/>\n",
       "    <path d=\"M18.56 5.44l.94 2.06.94-2.06 2.06-.94-2.06-.94-.94-2.06-.94 2.06-2.06.94zm-11 1L8.5 8.5l.94-2.06 2.06-.94-2.06-.94L8.5 2.5l-.94 2.06-2.06.94zm10 10l.94 2.06.94-2.06 2.06-.94-2.06-.94-.94-2.06-.94 2.06-2.06.94z\"/><path d=\"M17.41 7.96l-1.37-1.37c-.4-.4-.92-.59-1.43-.59-.52 0-1.04.2-1.43.59L10.3 9.45l-7.72 7.72c-.78.78-.78 2.05 0 2.83L4 21.41c.39.39.9.59 1.41.59.51 0 1.02-.2 1.41-.59l7.78-7.78 2.81-2.81c.8-.78.8-2.07 0-2.86zM5.41 20L4 18.59l7.72-7.72 1.47 1.35L5.41 20z\"/>\n",
       "  </svg>\n",
       "      </button>\n",
       "      \n",
       "  <style>\n",
       "    .colab-df-container {\n",
       "      display:flex;\n",
       "      flex-wrap:wrap;\n",
       "      gap: 12px;\n",
       "    }\n",
       "\n",
       "    .colab-df-convert {\n",
       "      background-color: #E8F0FE;\n",
       "      border: none;\n",
       "      border-radius: 50%;\n",
       "      cursor: pointer;\n",
       "      display: none;\n",
       "      fill: #1967D2;\n",
       "      height: 32px;\n",
       "      padding: 0 0 0 0;\n",
       "      width: 32px;\n",
       "    }\n",
       "\n",
       "    .colab-df-convert:hover {\n",
       "      background-color: #E2EBFA;\n",
       "      box-shadow: 0px 1px 2px rgba(60, 64, 67, 0.3), 0px 1px 3px 1px rgba(60, 64, 67, 0.15);\n",
       "      fill: #174EA6;\n",
       "    }\n",
       "\n",
       "    [theme=dark] .colab-df-convert {\n",
       "      background-color: #3B4455;\n",
       "      fill: #D2E3FC;\n",
       "    }\n",
       "\n",
       "    [theme=dark] .colab-df-convert:hover {\n",
       "      background-color: #434B5C;\n",
       "      box-shadow: 0px 1px 3px 1px rgba(0, 0, 0, 0.15);\n",
       "      filter: drop-shadow(0px 1px 2px rgba(0, 0, 0, 0.3));\n",
       "      fill: #FFFFFF;\n",
       "    }\n",
       "  </style>\n",
       "\n",
       "      <script>\n",
       "        const buttonEl =\n",
       "          document.querySelector('#df-04f7ea86-12ad-4fb0-ba40-1d295b2061dd button.colab-df-convert');\n",
       "        buttonEl.style.display =\n",
       "          google.colab.kernel.accessAllowed ? 'block' : 'none';\n",
       "\n",
       "        async function convertToInteractive(key) {\n",
       "          const element = document.querySelector('#df-04f7ea86-12ad-4fb0-ba40-1d295b2061dd');\n",
       "          const dataTable =\n",
       "            await google.colab.kernel.invokeFunction('convertToInteractive',\n",
       "                                                     [key], {});\n",
       "          if (!dataTable) return;\n",
       "\n",
       "          const docLinkHtml = 'Like what you see? Visit the ' +\n",
       "            '<a target=\"_blank\" href=https://colab.research.google.com/notebooks/data_table.ipynb>data table notebook</a>'\n",
       "            + ' to learn more about interactive tables.';\n",
       "          element.innerHTML = '';\n",
       "          dataTable['output_type'] = 'display_data';\n",
       "          await google.colab.output.renderOutput(dataTable, element);\n",
       "          const docLink = document.createElement('div');\n",
       "          docLink.innerHTML = docLinkHtml;\n",
       "          element.appendChild(docLink);\n",
       "        }\n",
       "      </script>\n",
       "    </div>\n",
       "  </div>\n",
       "  "
      ],
      "text/plain": [
       "                        streetname  areaid okrug               area\n",
       "0             Выставочный переулок      17   ЦАО  Пресненский район\n",
       "1                     улица Гашека      17   ЦАО  Пресненский район\n",
       "2          Большая Никитская улица      17   ЦАО  Пресненский район\n",
       "3                Глубокий переулок      17   ЦАО  Пресненский район\n",
       "4  Большой Гнездниковский переулок      17   ЦАО  Пресненский район"
      ]
     },
     "execution_count": 333,
     "metadata": {},
     "output_type": "execute_result"
    }
   ],
   "source": [
    "# смотрим на новую таблицу\n",
    "\n",
    "area_street.head()"
   ]
  },
  {
   "cell_type": "code",
   "execution_count": 334,
   "metadata": {
    "id": "-JDMjloQ_lxt"
   },
   "outputs": [],
   "source": [
    "# ТОП-10 улиц из adress запишем в новую переменную adress_top_10\n",
    "\n",
    "adress_top_10 = adress.head(10)"
   ]
  },
  {
   "cell_type": "code",
   "execution_count": 335,
   "metadata": {
    "colab": {
     "base_uri": "https://localhost:8080/",
     "height": 363
    },
    "id": "pNDFDmpJW0Ym",
    "outputId": "2f39af71-3af5-4fd0-fa12-544ce07763f1"
   },
   "outputs": [
    {
     "data": {
      "text/html": [
       "\n",
       "  <div id=\"df-fa0f88a5-6194-4587-bae3-fb434cbe0630\">\n",
       "    <div class=\"colab-df-container\">\n",
       "      <div>\n",
       "<style scoped>\n",
       "    .dataframe tbody tr th:only-of-type {\n",
       "        vertical-align: middle;\n",
       "    }\n",
       "\n",
       "    .dataframe tbody tr th {\n",
       "        vertical-align: top;\n",
       "    }\n",
       "\n",
       "    .dataframe thead th {\n",
       "        text-align: right;\n",
       "    }\n",
       "</style>\n",
       "<table border=\"1\" class=\"dataframe\">\n",
       "  <thead>\n",
       "    <tr style=\"text-align: right;\">\n",
       "      <th></th>\n",
       "      <th>street</th>\n",
       "      <th>count</th>\n",
       "    </tr>\n",
       "  </thead>\n",
       "  <tbody>\n",
       "    <tr>\n",
       "      <th>0</th>\n",
       "      <td>проспект Мира</td>\n",
       "      <td>204</td>\n",
       "    </tr>\n",
       "    <tr>\n",
       "      <th>1</th>\n",
       "      <td>Профсоюзная улица</td>\n",
       "      <td>181</td>\n",
       "    </tr>\n",
       "    <tr>\n",
       "      <th>2</th>\n",
       "      <td>Ленинградский проспект</td>\n",
       "      <td>170</td>\n",
       "    </tr>\n",
       "    <tr>\n",
       "      <th>3</th>\n",
       "      <td>Пресненская набережная</td>\n",
       "      <td>167</td>\n",
       "    </tr>\n",
       "    <tr>\n",
       "      <th>4</th>\n",
       "      <td>Варшавское шоссе</td>\n",
       "      <td>161</td>\n",
       "    </tr>\n",
       "    <tr>\n",
       "      <th>5</th>\n",
       "      <td>Ленинский проспект</td>\n",
       "      <td>147</td>\n",
       "    </tr>\n",
       "    <tr>\n",
       "      <th>6</th>\n",
       "      <td>проспект Вернадского</td>\n",
       "      <td>128</td>\n",
       "    </tr>\n",
       "    <tr>\n",
       "      <th>7</th>\n",
       "      <td>Кутузовский проспект</td>\n",
       "      <td>114</td>\n",
       "    </tr>\n",
       "    <tr>\n",
       "      <th>8</th>\n",
       "      <td>Каширское шоссе</td>\n",
       "      <td>111</td>\n",
       "    </tr>\n",
       "    <tr>\n",
       "      <th>9</th>\n",
       "      <td>Кировоградская улица</td>\n",
       "      <td>108</td>\n",
       "    </tr>\n",
       "  </tbody>\n",
       "</table>\n",
       "</div>\n",
       "      <button class=\"colab-df-convert\" onclick=\"convertToInteractive('df-fa0f88a5-6194-4587-bae3-fb434cbe0630')\"\n",
       "              title=\"Convert this dataframe to an interactive table.\"\n",
       "              style=\"display:none;\">\n",
       "        \n",
       "  <svg xmlns=\"http://www.w3.org/2000/svg\" height=\"24px\"viewBox=\"0 0 24 24\"\n",
       "       width=\"24px\">\n",
       "    <path d=\"M0 0h24v24H0V0z\" fill=\"none\"/>\n",
       "    <path d=\"M18.56 5.44l.94 2.06.94-2.06 2.06-.94-2.06-.94-.94-2.06-.94 2.06-2.06.94zm-11 1L8.5 8.5l.94-2.06 2.06-.94-2.06-.94L8.5 2.5l-.94 2.06-2.06.94zm10 10l.94 2.06.94-2.06 2.06-.94-2.06-.94-.94-2.06-.94 2.06-2.06.94z\"/><path d=\"M17.41 7.96l-1.37-1.37c-.4-.4-.92-.59-1.43-.59-.52 0-1.04.2-1.43.59L10.3 9.45l-7.72 7.72c-.78.78-.78 2.05 0 2.83L4 21.41c.39.39.9.59 1.41.59.51 0 1.02-.2 1.41-.59l7.78-7.78 2.81-2.81c.8-.78.8-2.07 0-2.86zM5.41 20L4 18.59l7.72-7.72 1.47 1.35L5.41 20z\"/>\n",
       "  </svg>\n",
       "      </button>\n",
       "      \n",
       "  <style>\n",
       "    .colab-df-container {\n",
       "      display:flex;\n",
       "      flex-wrap:wrap;\n",
       "      gap: 12px;\n",
       "    }\n",
       "\n",
       "    .colab-df-convert {\n",
       "      background-color: #E8F0FE;\n",
       "      border: none;\n",
       "      border-radius: 50%;\n",
       "      cursor: pointer;\n",
       "      display: none;\n",
       "      fill: #1967D2;\n",
       "      height: 32px;\n",
       "      padding: 0 0 0 0;\n",
       "      width: 32px;\n",
       "    }\n",
       "\n",
       "    .colab-df-convert:hover {\n",
       "      background-color: #E2EBFA;\n",
       "      box-shadow: 0px 1px 2px rgba(60, 64, 67, 0.3), 0px 1px 3px 1px rgba(60, 64, 67, 0.15);\n",
       "      fill: #174EA6;\n",
       "    }\n",
       "\n",
       "    [theme=dark] .colab-df-convert {\n",
       "      background-color: #3B4455;\n",
       "      fill: #D2E3FC;\n",
       "    }\n",
       "\n",
       "    [theme=dark] .colab-df-convert:hover {\n",
       "      background-color: #434B5C;\n",
       "      box-shadow: 0px 1px 3px 1px rgba(0, 0, 0, 0.15);\n",
       "      filter: drop-shadow(0px 1px 2px rgba(0, 0, 0, 0.3));\n",
       "      fill: #FFFFFF;\n",
       "    }\n",
       "  </style>\n",
       "\n",
       "      <script>\n",
       "        const buttonEl =\n",
       "          document.querySelector('#df-fa0f88a5-6194-4587-bae3-fb434cbe0630 button.colab-df-convert');\n",
       "        buttonEl.style.display =\n",
       "          google.colab.kernel.accessAllowed ? 'block' : 'none';\n",
       "\n",
       "        async function convertToInteractive(key) {\n",
       "          const element = document.querySelector('#df-fa0f88a5-6194-4587-bae3-fb434cbe0630');\n",
       "          const dataTable =\n",
       "            await google.colab.kernel.invokeFunction('convertToInteractive',\n",
       "                                                     [key], {});\n",
       "          if (!dataTable) return;\n",
       "\n",
       "          const docLinkHtml = 'Like what you see? Visit the ' +\n",
       "            '<a target=\"_blank\" href=https://colab.research.google.com/notebooks/data_table.ipynb>data table notebook</a>'\n",
       "            + ' to learn more about interactive tables.';\n",
       "          element.innerHTML = '';\n",
       "          dataTable['output_type'] = 'display_data';\n",
       "          await google.colab.output.renderOutput(dataTable, element);\n",
       "          const docLink = document.createElement('div');\n",
       "          docLink.innerHTML = docLinkHtml;\n",
       "          element.appendChild(docLink);\n",
       "        }\n",
       "      </script>\n",
       "    </div>\n",
       "  </div>\n",
       "  "
      ],
      "text/plain": [
       "                   street  count\n",
       "0           проспект Мира    204\n",
       "1       Профсоюзная улица    181\n",
       "2  Ленинградский проспект    170\n",
       "3  Пресненская набережная    167\n",
       "4        Варшавское шоссе    161\n",
       "5      Ленинский проспект    147\n",
       "6    проспект Вернадского    128\n",
       "7    Кутузовский проспект    114\n",
       "8         Каширское шоссе    111\n",
       "9    Кировоградская улица    108"
      ]
     },
     "execution_count": 335,
     "metadata": {},
     "output_type": "execute_result"
    }
   ],
   "source": [
    "adress_top_10"
   ]
  },
  {
   "cell_type": "code",
   "execution_count": 336,
   "metadata": {
    "id": "pHlZpMlEW5EB"
   },
   "outputs": [],
   "source": [
    "# джойним наши ТОП-10 улиц с новыми данными из area_street \n",
    "# по полям street и streetname, тип left. Столбец areaid из area_street не берем\n",
    "\n",
    "adress_with_area = adress_top_10.merge(area_street[['streetname', 'area', 'okrug']],\\\n",
    "                            left_on='street', right_on='streetname', how='left')"
   ]
  },
  {
   "cell_type": "code",
   "execution_count": 337,
   "metadata": {
    "colab": {
     "base_uri": "https://localhost:8080/",
     "height": 206
    },
    "id": "ckzMfFIYM826",
    "outputId": "2c4e45bc-bc2c-4266-fd68-31187af4e73e"
   },
   "outputs": [
    {
     "data": {
      "text/html": [
       "\n",
       "  <div id=\"df-877a7715-65dd-433b-9cc5-30859ad5f3e2\">\n",
       "    <div class=\"colab-df-container\">\n",
       "      <div>\n",
       "<style scoped>\n",
       "    .dataframe tbody tr th:only-of-type {\n",
       "        vertical-align: middle;\n",
       "    }\n",
       "\n",
       "    .dataframe tbody tr th {\n",
       "        vertical-align: top;\n",
       "    }\n",
       "\n",
       "    .dataframe thead th {\n",
       "        text-align: right;\n",
       "    }\n",
       "</style>\n",
       "<table border=\"1\" class=\"dataframe\">\n",
       "  <thead>\n",
       "    <tr style=\"text-align: right;\">\n",
       "      <th></th>\n",
       "      <th>street</th>\n",
       "      <th>count</th>\n",
       "      <th>streetname</th>\n",
       "      <th>area</th>\n",
       "      <th>okrug</th>\n",
       "    </tr>\n",
       "  </thead>\n",
       "  <tbody>\n",
       "    <tr>\n",
       "      <th>0</th>\n",
       "      <td>проспект Мира</td>\n",
       "      <td>204</td>\n",
       "      <td>проспект Мира</td>\n",
       "      <td>Алексеевский район</td>\n",
       "      <td>СВАО</td>\n",
       "    </tr>\n",
       "    <tr>\n",
       "      <th>1</th>\n",
       "      <td>проспект Мира</td>\n",
       "      <td>204</td>\n",
       "      <td>проспект Мира</td>\n",
       "      <td>Ярославский Район</td>\n",
       "      <td>СВАО</td>\n",
       "    </tr>\n",
       "    <tr>\n",
       "      <th>2</th>\n",
       "      <td>проспект Мира</td>\n",
       "      <td>204</td>\n",
       "      <td>проспект Мира</td>\n",
       "      <td>Район Марьина роща</td>\n",
       "      <td>СВАО</td>\n",
       "    </tr>\n",
       "    <tr>\n",
       "      <th>3</th>\n",
       "      <td>проспект Мира</td>\n",
       "      <td>204</td>\n",
       "      <td>проспект Мира</td>\n",
       "      <td>Останкинский район</td>\n",
       "      <td>СВАО</td>\n",
       "    </tr>\n",
       "    <tr>\n",
       "      <th>4</th>\n",
       "      <td>проспект Мира</td>\n",
       "      <td>204</td>\n",
       "      <td>проспект Мира</td>\n",
       "      <td>Район Ростокино</td>\n",
       "      <td>СВАО</td>\n",
       "    </tr>\n",
       "  </tbody>\n",
       "</table>\n",
       "</div>\n",
       "      <button class=\"colab-df-convert\" onclick=\"convertToInteractive('df-877a7715-65dd-433b-9cc5-30859ad5f3e2')\"\n",
       "              title=\"Convert this dataframe to an interactive table.\"\n",
       "              style=\"display:none;\">\n",
       "        \n",
       "  <svg xmlns=\"http://www.w3.org/2000/svg\" height=\"24px\"viewBox=\"0 0 24 24\"\n",
       "       width=\"24px\">\n",
       "    <path d=\"M0 0h24v24H0V0z\" fill=\"none\"/>\n",
       "    <path d=\"M18.56 5.44l.94 2.06.94-2.06 2.06-.94-2.06-.94-.94-2.06-.94 2.06-2.06.94zm-11 1L8.5 8.5l.94-2.06 2.06-.94-2.06-.94L8.5 2.5l-.94 2.06-2.06.94zm10 10l.94 2.06.94-2.06 2.06-.94-2.06-.94-.94-2.06-.94 2.06-2.06.94z\"/><path d=\"M17.41 7.96l-1.37-1.37c-.4-.4-.92-.59-1.43-.59-.52 0-1.04.2-1.43.59L10.3 9.45l-7.72 7.72c-.78.78-.78 2.05 0 2.83L4 21.41c.39.39.9.59 1.41.59.51 0 1.02-.2 1.41-.59l7.78-7.78 2.81-2.81c.8-.78.8-2.07 0-2.86zM5.41 20L4 18.59l7.72-7.72 1.47 1.35L5.41 20z\"/>\n",
       "  </svg>\n",
       "      </button>\n",
       "      \n",
       "  <style>\n",
       "    .colab-df-container {\n",
       "      display:flex;\n",
       "      flex-wrap:wrap;\n",
       "      gap: 12px;\n",
       "    }\n",
       "\n",
       "    .colab-df-convert {\n",
       "      background-color: #E8F0FE;\n",
       "      border: none;\n",
       "      border-radius: 50%;\n",
       "      cursor: pointer;\n",
       "      display: none;\n",
       "      fill: #1967D2;\n",
       "      height: 32px;\n",
       "      padding: 0 0 0 0;\n",
       "      width: 32px;\n",
       "    }\n",
       "\n",
       "    .colab-df-convert:hover {\n",
       "      background-color: #E2EBFA;\n",
       "      box-shadow: 0px 1px 2px rgba(60, 64, 67, 0.3), 0px 1px 3px 1px rgba(60, 64, 67, 0.15);\n",
       "      fill: #174EA6;\n",
       "    }\n",
       "\n",
       "    [theme=dark] .colab-df-convert {\n",
       "      background-color: #3B4455;\n",
       "      fill: #D2E3FC;\n",
       "    }\n",
       "\n",
       "    [theme=dark] .colab-df-convert:hover {\n",
       "      background-color: #434B5C;\n",
       "      box-shadow: 0px 1px 3px 1px rgba(0, 0, 0, 0.15);\n",
       "      filter: drop-shadow(0px 1px 2px rgba(0, 0, 0, 0.3));\n",
       "      fill: #FFFFFF;\n",
       "    }\n",
       "  </style>\n",
       "\n",
       "      <script>\n",
       "        const buttonEl =\n",
       "          document.querySelector('#df-877a7715-65dd-433b-9cc5-30859ad5f3e2 button.colab-df-convert');\n",
       "        buttonEl.style.display =\n",
       "          google.colab.kernel.accessAllowed ? 'block' : 'none';\n",
       "\n",
       "        async function convertToInteractive(key) {\n",
       "          const element = document.querySelector('#df-877a7715-65dd-433b-9cc5-30859ad5f3e2');\n",
       "          const dataTable =\n",
       "            await google.colab.kernel.invokeFunction('convertToInteractive',\n",
       "                                                     [key], {});\n",
       "          if (!dataTable) return;\n",
       "\n",
       "          const docLinkHtml = 'Like what you see? Visit the ' +\n",
       "            '<a target=\"_blank\" href=https://colab.research.google.com/notebooks/data_table.ipynb>data table notebook</a>'\n",
       "            + ' to learn more about interactive tables.';\n",
       "          element.innerHTML = '';\n",
       "          dataTable['output_type'] = 'display_data';\n",
       "          await google.colab.output.renderOutput(dataTable, element);\n",
       "          const docLink = document.createElement('div');\n",
       "          docLink.innerHTML = docLinkHtml;\n",
       "          element.appendChild(docLink);\n",
       "        }\n",
       "      </script>\n",
       "    </div>\n",
       "  </div>\n",
       "  "
      ],
      "text/plain": [
       "          street  count     streetname                area okrug\n",
       "0  проспект Мира    204  проспект Мира  Алексеевский район  СВАО\n",
       "1  проспект Мира    204  проспект Мира   Ярославский Район  СВАО\n",
       "2  проспект Мира    204  проспект Мира  Район Марьина роща  СВАО\n",
       "3  проспект Мира    204  проспект Мира  Останкинский район  СВАО\n",
       "4  проспект Мира    204  проспект Мира     Район Ростокино  СВАО"
      ]
     },
     "execution_count": 337,
     "metadata": {},
     "output_type": "execute_result"
    }
   ],
   "source": [
    "# улицы ТОП-10 с указанием района и округа\n",
    "\n",
    "adress_with_area.head()"
   ]
  },
  {
   "cell_type": "code",
   "execution_count": 338,
   "metadata": {
    "colab": {
     "base_uri": "https://localhost:8080/",
     "height": 424
    },
    "id": "a7fLwFE2M_S3",
    "outputId": "1a1b76aa-997d-476f-da1e-0b156d253766"
   },
   "outputs": [
    {
     "data": {
      "text/html": [
       "\n",
       "  <div id=\"df-007446bc-2169-4df6-9eb3-dd6750173f10\">\n",
       "    <div class=\"colab-df-container\">\n",
       "      <div>\n",
       "<style scoped>\n",
       "    .dataframe tbody tr th:only-of-type {\n",
       "        vertical-align: middle;\n",
       "    }\n",
       "\n",
       "    .dataframe tbody tr th {\n",
       "        vertical-align: top;\n",
       "    }\n",
       "\n",
       "    .dataframe thead th {\n",
       "        text-align: right;\n",
       "    }\n",
       "</style>\n",
       "<table border=\"1\" class=\"dataframe\">\n",
       "  <thead>\n",
       "    <tr style=\"text-align: right;\">\n",
       "      <th></th>\n",
       "      <th>street</th>\n",
       "      <th>count</th>\n",
       "      <th>area</th>\n",
       "      <th>okrug</th>\n",
       "    </tr>\n",
       "  </thead>\n",
       "  <tbody>\n",
       "    <tr>\n",
       "      <th>0</th>\n",
       "      <td>проспект Мира</td>\n",
       "      <td>204</td>\n",
       "      <td>Алексеевский район</td>\n",
       "      <td>СВАО</td>\n",
       "    </tr>\n",
       "    <tr>\n",
       "      <th>1</th>\n",
       "      <td>проспект Мира</td>\n",
       "      <td>204</td>\n",
       "      <td>Ярославский Район</td>\n",
       "      <td>СВАО</td>\n",
       "    </tr>\n",
       "    <tr>\n",
       "      <th>2</th>\n",
       "      <td>проспект Мира</td>\n",
       "      <td>204</td>\n",
       "      <td>Район Марьина роща</td>\n",
       "      <td>СВАО</td>\n",
       "    </tr>\n",
       "    <tr>\n",
       "      <th>3</th>\n",
       "      <td>проспект Мира</td>\n",
       "      <td>204</td>\n",
       "      <td>Останкинский район</td>\n",
       "      <td>СВАО</td>\n",
       "    </tr>\n",
       "    <tr>\n",
       "      <th>4</th>\n",
       "      <td>проспект Мира</td>\n",
       "      <td>204</td>\n",
       "      <td>Район Ростокино</td>\n",
       "      <td>СВАО</td>\n",
       "    </tr>\n",
       "    <tr>\n",
       "      <th>...</th>\n",
       "      <td>...</td>\n",
       "      <td>...</td>\n",
       "      <td>...</td>\n",
       "      <td>...</td>\n",
       "    </tr>\n",
       "    <tr>\n",
       "      <th>43</th>\n",
       "      <td>Каширское шоссе</td>\n",
       "      <td>111</td>\n",
       "      <td>Район Орехово-Борисово Южное</td>\n",
       "      <td>ЮАО</td>\n",
       "    </tr>\n",
       "    <tr>\n",
       "      <th>44</th>\n",
       "      <td>Каширское шоссе</td>\n",
       "      <td>111</td>\n",
       "      <td>Район Орехово-Борисово Северное</td>\n",
       "      <td>ЮАО</td>\n",
       "    </tr>\n",
       "    <tr>\n",
       "      <th>45</th>\n",
       "      <td>Кировоградская улица</td>\n",
       "      <td>108</td>\n",
       "      <td>Район Чертаново Центральное</td>\n",
       "      <td>ЮАО</td>\n",
       "    </tr>\n",
       "    <tr>\n",
       "      <th>46</th>\n",
       "      <td>Кировоградская улица</td>\n",
       "      <td>108</td>\n",
       "      <td>Район Чертаново Северное</td>\n",
       "      <td>ЮАО</td>\n",
       "    </tr>\n",
       "    <tr>\n",
       "      <th>47</th>\n",
       "      <td>Кировоградская улица</td>\n",
       "      <td>108</td>\n",
       "      <td>Район Чертаново Южное</td>\n",
       "      <td>ЮАО</td>\n",
       "    </tr>\n",
       "  </tbody>\n",
       "</table>\n",
       "<p>48 rows × 4 columns</p>\n",
       "</div>\n",
       "      <button class=\"colab-df-convert\" onclick=\"convertToInteractive('df-007446bc-2169-4df6-9eb3-dd6750173f10')\"\n",
       "              title=\"Convert this dataframe to an interactive table.\"\n",
       "              style=\"display:none;\">\n",
       "        \n",
       "  <svg xmlns=\"http://www.w3.org/2000/svg\" height=\"24px\"viewBox=\"0 0 24 24\"\n",
       "       width=\"24px\">\n",
       "    <path d=\"M0 0h24v24H0V0z\" fill=\"none\"/>\n",
       "    <path d=\"M18.56 5.44l.94 2.06.94-2.06 2.06-.94-2.06-.94-.94-2.06-.94 2.06-2.06.94zm-11 1L8.5 8.5l.94-2.06 2.06-.94-2.06-.94L8.5 2.5l-.94 2.06-2.06.94zm10 10l.94 2.06.94-2.06 2.06-.94-2.06-.94-.94-2.06-.94 2.06-2.06.94z\"/><path d=\"M17.41 7.96l-1.37-1.37c-.4-.4-.92-.59-1.43-.59-.52 0-1.04.2-1.43.59L10.3 9.45l-7.72 7.72c-.78.78-.78 2.05 0 2.83L4 21.41c.39.39.9.59 1.41.59.51 0 1.02-.2 1.41-.59l7.78-7.78 2.81-2.81c.8-.78.8-2.07 0-2.86zM5.41 20L4 18.59l7.72-7.72 1.47 1.35L5.41 20z\"/>\n",
       "  </svg>\n",
       "      </button>\n",
       "      \n",
       "  <style>\n",
       "    .colab-df-container {\n",
       "      display:flex;\n",
       "      flex-wrap:wrap;\n",
       "      gap: 12px;\n",
       "    }\n",
       "\n",
       "    .colab-df-convert {\n",
       "      background-color: #E8F0FE;\n",
       "      border: none;\n",
       "      border-radius: 50%;\n",
       "      cursor: pointer;\n",
       "      display: none;\n",
       "      fill: #1967D2;\n",
       "      height: 32px;\n",
       "      padding: 0 0 0 0;\n",
       "      width: 32px;\n",
       "    }\n",
       "\n",
       "    .colab-df-convert:hover {\n",
       "      background-color: #E2EBFA;\n",
       "      box-shadow: 0px 1px 2px rgba(60, 64, 67, 0.3), 0px 1px 3px 1px rgba(60, 64, 67, 0.15);\n",
       "      fill: #174EA6;\n",
       "    }\n",
       "\n",
       "    [theme=dark] .colab-df-convert {\n",
       "      background-color: #3B4455;\n",
       "      fill: #D2E3FC;\n",
       "    }\n",
       "\n",
       "    [theme=dark] .colab-df-convert:hover {\n",
       "      background-color: #434B5C;\n",
       "      box-shadow: 0px 1px 3px 1px rgba(0, 0, 0, 0.15);\n",
       "      filter: drop-shadow(0px 1px 2px rgba(0, 0, 0, 0.3));\n",
       "      fill: #FFFFFF;\n",
       "    }\n",
       "  </style>\n",
       "\n",
       "      <script>\n",
       "        const buttonEl =\n",
       "          document.querySelector('#df-007446bc-2169-4df6-9eb3-dd6750173f10 button.colab-df-convert');\n",
       "        buttonEl.style.display =\n",
       "          google.colab.kernel.accessAllowed ? 'block' : 'none';\n",
       "\n",
       "        async function convertToInteractive(key) {\n",
       "          const element = document.querySelector('#df-007446bc-2169-4df6-9eb3-dd6750173f10');\n",
       "          const dataTable =\n",
       "            await google.colab.kernel.invokeFunction('convertToInteractive',\n",
       "                                                     [key], {});\n",
       "          if (!dataTable) return;\n",
       "\n",
       "          const docLinkHtml = 'Like what you see? Visit the ' +\n",
       "            '<a target=\"_blank\" href=https://colab.research.google.com/notebooks/data_table.ipynb>data table notebook</a>'\n",
       "            + ' to learn more about interactive tables.';\n",
       "          element.innerHTML = '';\n",
       "          dataTable['output_type'] = 'display_data';\n",
       "          await google.colab.output.renderOutput(dataTable, element);\n",
       "          const docLink = document.createElement('div');\n",
       "          docLink.innerHTML = docLinkHtml;\n",
       "          element.appendChild(docLink);\n",
       "        }\n",
       "      </script>\n",
       "    </div>\n",
       "  </div>\n",
       "  "
      ],
      "text/plain": [
       "                  street  count                             area okrug\n",
       "0          проспект Мира    204               Алексеевский район  СВАО\n",
       "1          проспект Мира    204                Ярославский Район  СВАО\n",
       "2          проспект Мира    204               Район Марьина роща  СВАО\n",
       "3          проспект Мира    204               Останкинский район  СВАО\n",
       "4          проспект Мира    204                  Район Ростокино  СВАО\n",
       "..                   ...    ...                              ...   ...\n",
       "43       Каширское шоссе    111     Район Орехово-Борисово Южное   ЮАО\n",
       "44       Каширское шоссе    111  Район Орехово-Борисово Северное   ЮАО\n",
       "45  Кировоградская улица    108      Район Чертаново Центральное   ЮАО\n",
       "46  Кировоградская улица    108         Район Чертаново Северное   ЮАО\n",
       "47  Кировоградская улица    108            Район Чертаново Южное   ЮАО\n",
       "\n",
       "[48 rows x 4 columns]"
      ]
     },
     "execution_count": 338,
     "metadata": {},
     "output_type": "execute_result"
    }
   ],
   "source": [
    "# убираем дублирующий столшбец streetname\n",
    "\n",
    "adress_with_area = adress_with_area.drop(['streetname'], axis=1)\n",
    "adress_with_area"
   ]
  },
  {
   "cell_type": "code",
   "execution_count": 339,
   "metadata": {
    "colab": {
     "base_uri": "https://localhost:8080/"
    },
    "id": "bdLQOEk0OAOe",
    "outputId": "7e7cff9f-b0e9-46a8-b330-154aef83697f"
   },
   "outputs": [
    {
     "data": {
      "text/plain": [
       "array(['Алексеевский район', 'Ярославский Район', 'Район Марьина роща',\n",
       "       'Останкинский район', 'Район Ростокино', 'Район Свиблово',\n",
       "       'Мещанский район', 'Академический район', 'Район Черемушки',\n",
       "       'Район Ясенево', 'Район Коньково', 'Обручевский район',\n",
       "       'Район Теплый Стан', 'Район Аэропорт', 'Район Беговой',\n",
       "       'Хорошевский район', 'Район Сокол', 'Пресненский район',\n",
       "       'Район Чертаново Центральное', 'Район Чертаново Северное',\n",
       "       'Район Чертаново Южное', 'Донской район',\n",
       "       'Район Нагатино-Садовники', 'Нагорный район',\n",
       "       'Район Северное Бутово', 'Район Южное Бутово',\n",
       "       'Район Проспект Вернадского', 'Район Тропарево-Никулино',\n",
       "       'Район Гагаринский', 'Ломоносовский район', 'Район Якиманка',\n",
       "       'Район Раменки', 'Район Дорогомилово', 'Район Фили-Давыдково',\n",
       "       'Район Москворечье-Сабурово', 'Район Орехово-Борисово Южное',\n",
       "       'Район Орехово-Борисово Северное'], dtype=object)"
      ]
     },
     "execution_count": 339,
     "metadata": {},
     "output_type": "execute_result"
    }
   ],
   "source": [
    "# посмотрим на районы, через которые проходят ТОП-10 улиц\n",
    "\n",
    "adress_with_area['area'].unique()"
   ]
  },
  {
   "cell_type": "code",
   "execution_count": 340,
   "metadata": {
    "colab": {
     "base_uri": "https://localhost:8080/"
    },
    "id": "clF49tfXl4-1",
    "outputId": "354d3587-5bdf-4af6-e76d-d8477b3df036"
   },
   "outputs": [
    {
     "data": {
      "text/plain": [
       "7"
      ]
     },
     "execution_count": 340,
     "metadata": {},
     "output_type": "execute_result"
    }
   ],
   "source": [
    "# для дальнейшего анализа посмотрим, через какое количество районов проходит, \n",
    "# например, проспект Мира\n",
    "\n",
    "adress_with_area.query('street == \"проспект Мира\"')['area'].nunique()"
   ]
  },
  {
   "cell_type": "code",
   "execution_count": 341,
   "metadata": {
    "colab": {
     "base_uri": "https://localhost:8080/"
    },
    "id": "LIi-l4rsBVmk",
    "outputId": "62d467eb-1620-44d6-d7b2-917db5624b87"
   },
   "outputs": [
    {
     "name": "stdout",
     "output_type": "stream",
     "text": [
      "Всего 37 районов\n"
     ]
    }
   ],
   "source": [
    "# сколько всего районов\n",
    "\n",
    "print('Всего', len(adress_with_area['area'].unique()), 'районов')"
   ]
  },
  {
   "cell_type": "markdown",
   "metadata": {
    "id": "YpogSRh-x7c3"
   },
   "source": [
    "**Важное замечание**\n",
    "\n",
    "Надеюсь, имею оставить за собой право просто перечислить список районов, через которые проходят улицы из списка ТОП-10. Объясняю, почему.\n",
    "\n",
    "Можно сгруппировать данные по району и посчитать количество объектов в районе. Это неверный подход. Потому что объекты посчитаны по улице без геоданных. Например, проспект Мира проходит через 7 районов. Мы не можем пасположенные на этой улице 204 объекты разделить по районам и посчитать количество объектов в районе.\n",
    "\n",
    "Также можно посчитать, какое количество улиц проходит через каждый район. Получим цифры 1 и 2. Опять же, без привязки к геоданным это ничего не значит — на одной улице может быть больше объектов, чем на двух.\n",
    "\n",
    "Поэтому оставляю список районов для ТОП-10 улиц как есть."
   ]
  },
  {
   "cell_type": "markdown",
   "metadata": {
    "id": "JfIl1I7vD4aQ"
   },
   "source": [
    "<div class=\"alert alert-success\">\n",
    "<b>Комментарий ревьюера:</b>☀️\n",
    "    \n",
    "При имеющихся данных абсолютно справедливые замечания, для повышения точности вычислений можно было при помощи сторонних источников получать геоданные и при помощи них получать не абстрактуню улицу, а более точное расположение </div>\n"
   ]
  },
  {
   "cell_type": "markdown",
   "metadata": {
    "id": "mQUSQk12OokD"
   },
   "source": [
    "### Вывод по самым популярным улицам и районам\n",
    "\n",
    "Список из 10 улиц, на которых расположено максимальное количество заведений общепита:\n",
    "\n",
    "- проспект Мира\n",
    "- Профсоюзная улица\n",
    "- Ленинградский проспект\n",
    "- Пресненская набережная\n",
    "- Варшавское шоссе\n",
    "- Ленинский проспект\n",
    "- проспект Вернадского\n",
    "- Кутузовский проспект\n",
    "- Каширское шоссе\n",
    "- Кировоградская улица\n",
    "\n",
    "\n",
    "Список районов Москвы, через которые проходят улицы из списка ТОП-10:\n",
    "\n",
    "'Алексеевский район', 'Ярославский Район', 'Район Марьина роща',\n",
    "       'Останкинский район', 'Район Ростокино', 'Район Свиблово',\n",
    "       'Мещанский район', 'Академический район', 'Район Черемушки',\n",
    "       'Район Ясенево', 'Район Коньково', 'Обручевский район',\n",
    "       'Район Теплый Стан', 'Район Аэропорт', 'Район Беговой',\n",
    "       'Хорошевский район', 'Район Сокол', 'Пресненский район',\n",
    "       'Район Чертаново Центральное', 'Район Чертаново Северное',\n",
    "       'Район Чертаново Южное', 'Донской район',\n",
    "       'Район Нагатино-Садовники', 'Нагорный район',\n",
    "       'Район Северное Бутово', 'Район Южное Бутово',\n",
    "       'Район Проспект Вернадского', 'Район Тропарево-Никулино',\n",
    "       'Район Гагаринский', 'Ломоносовский район', 'Район Якиманка',\n",
    "       'Район Раменки', 'Район Дорогомилово', 'Район Фили-Давыдково',\n",
    "       'Район Москворечье-Сабурово', 'Район Орехово-Борисово Южное',\n",
    "       'Район Орехово-Борисово Северное'\n",
    "\n"
   ]
  },
  {
   "cell_type": "markdown",
   "metadata": {
    "id": "QKq95ENYDo5d"
   },
   "source": [
    "### Улиц с одним объектом общественного питания"
   ]
  },
  {
   "cell_type": "code",
   "execution_count": 342,
   "metadata": {
    "colab": {
     "base_uri": "https://localhost:8080/",
     "height": 206
    },
    "id": "YszeK058EpNL",
    "outputId": "a19fd6dc-fbe5-4aa0-b298-7a10b105e396"
   },
   "outputs": [
    {
     "data": {
      "text/html": [
       "\n",
       "  <div id=\"df-ff44749e-94b4-4621-b0f1-da7806d18cd8\">\n",
       "    <div class=\"colab-df-container\">\n",
       "      <div>\n",
       "<style scoped>\n",
       "    .dataframe tbody tr th:only-of-type {\n",
       "        vertical-align: middle;\n",
       "    }\n",
       "\n",
       "    .dataframe tbody tr th {\n",
       "        vertical-align: top;\n",
       "    }\n",
       "\n",
       "    .dataframe thead th {\n",
       "        text-align: right;\n",
       "    }\n",
       "</style>\n",
       "<table border=\"1\" class=\"dataframe\">\n",
       "  <thead>\n",
       "    <tr style=\"text-align: right;\">\n",
       "      <th></th>\n",
       "      <th>street</th>\n",
       "      <th>count</th>\n",
       "    </tr>\n",
       "  </thead>\n",
       "  <tbody>\n",
       "    <tr>\n",
       "      <th>0</th>\n",
       "      <td>проспект Мира</td>\n",
       "      <td>204</td>\n",
       "    </tr>\n",
       "    <tr>\n",
       "      <th>1</th>\n",
       "      <td>Профсоюзная улица</td>\n",
       "      <td>181</td>\n",
       "    </tr>\n",
       "    <tr>\n",
       "      <th>2</th>\n",
       "      <td>Ленинградский проспект</td>\n",
       "      <td>170</td>\n",
       "    </tr>\n",
       "    <tr>\n",
       "      <th>3</th>\n",
       "      <td>Пресненская набережная</td>\n",
       "      <td>167</td>\n",
       "    </tr>\n",
       "    <tr>\n",
       "      <th>4</th>\n",
       "      <td>Варшавское шоссе</td>\n",
       "      <td>161</td>\n",
       "    </tr>\n",
       "  </tbody>\n",
       "</table>\n",
       "</div>\n",
       "      <button class=\"colab-df-convert\" onclick=\"convertToInteractive('df-ff44749e-94b4-4621-b0f1-da7806d18cd8')\"\n",
       "              title=\"Convert this dataframe to an interactive table.\"\n",
       "              style=\"display:none;\">\n",
       "        \n",
       "  <svg xmlns=\"http://www.w3.org/2000/svg\" height=\"24px\"viewBox=\"0 0 24 24\"\n",
       "       width=\"24px\">\n",
       "    <path d=\"M0 0h24v24H0V0z\" fill=\"none\"/>\n",
       "    <path d=\"M18.56 5.44l.94 2.06.94-2.06 2.06-.94-2.06-.94-.94-2.06-.94 2.06-2.06.94zm-11 1L8.5 8.5l.94-2.06 2.06-.94-2.06-.94L8.5 2.5l-.94 2.06-2.06.94zm10 10l.94 2.06.94-2.06 2.06-.94-2.06-.94-.94-2.06-.94 2.06-2.06.94z\"/><path d=\"M17.41 7.96l-1.37-1.37c-.4-.4-.92-.59-1.43-.59-.52 0-1.04.2-1.43.59L10.3 9.45l-7.72 7.72c-.78.78-.78 2.05 0 2.83L4 21.41c.39.39.9.59 1.41.59.51 0 1.02-.2 1.41-.59l7.78-7.78 2.81-2.81c.8-.78.8-2.07 0-2.86zM5.41 20L4 18.59l7.72-7.72 1.47 1.35L5.41 20z\"/>\n",
       "  </svg>\n",
       "      </button>\n",
       "      \n",
       "  <style>\n",
       "    .colab-df-container {\n",
       "      display:flex;\n",
       "      flex-wrap:wrap;\n",
       "      gap: 12px;\n",
       "    }\n",
       "\n",
       "    .colab-df-convert {\n",
       "      background-color: #E8F0FE;\n",
       "      border: none;\n",
       "      border-radius: 50%;\n",
       "      cursor: pointer;\n",
       "      display: none;\n",
       "      fill: #1967D2;\n",
       "      height: 32px;\n",
       "      padding: 0 0 0 0;\n",
       "      width: 32px;\n",
       "    }\n",
       "\n",
       "    .colab-df-convert:hover {\n",
       "      background-color: #E2EBFA;\n",
       "      box-shadow: 0px 1px 2px rgba(60, 64, 67, 0.3), 0px 1px 3px 1px rgba(60, 64, 67, 0.15);\n",
       "      fill: #174EA6;\n",
       "    }\n",
       "\n",
       "    [theme=dark] .colab-df-convert {\n",
       "      background-color: #3B4455;\n",
       "      fill: #D2E3FC;\n",
       "    }\n",
       "\n",
       "    [theme=dark] .colab-df-convert:hover {\n",
       "      background-color: #434B5C;\n",
       "      box-shadow: 0px 1px 3px 1px rgba(0, 0, 0, 0.15);\n",
       "      filter: drop-shadow(0px 1px 2px rgba(0, 0, 0, 0.3));\n",
       "      fill: #FFFFFF;\n",
       "    }\n",
       "  </style>\n",
       "\n",
       "      <script>\n",
       "        const buttonEl =\n",
       "          document.querySelector('#df-ff44749e-94b4-4621-b0f1-da7806d18cd8 button.colab-df-convert');\n",
       "        buttonEl.style.display =\n",
       "          google.colab.kernel.accessAllowed ? 'block' : 'none';\n",
       "\n",
       "        async function convertToInteractive(key) {\n",
       "          const element = document.querySelector('#df-ff44749e-94b4-4621-b0f1-da7806d18cd8');\n",
       "          const dataTable =\n",
       "            await google.colab.kernel.invokeFunction('convertToInteractive',\n",
       "                                                     [key], {});\n",
       "          if (!dataTable) return;\n",
       "\n",
       "          const docLinkHtml = 'Like what you see? Visit the ' +\n",
       "            '<a target=\"_blank\" href=https://colab.research.google.com/notebooks/data_table.ipynb>data table notebook</a>'\n",
       "            + ' to learn more about interactive tables.';\n",
       "          element.innerHTML = '';\n",
       "          dataTable['output_type'] = 'display_data';\n",
       "          await google.colab.output.renderOutput(dataTable, element);\n",
       "          const docLink = document.createElement('div');\n",
       "          docLink.innerHTML = docLinkHtml;\n",
       "          element.appendChild(docLink);\n",
       "        }\n",
       "      </script>\n",
       "    </div>\n",
       "  </div>\n",
       "  "
      ],
      "text/plain": [
       "                   street  count\n",
       "0           проспект Мира    204\n",
       "1       Профсоюзная улица    181\n",
       "2  Ленинградский проспект    170\n",
       "3  Пресненская набережная    167\n",
       "4        Варшавское шоссе    161"
      ]
     },
     "execution_count": 342,
     "metadata": {},
     "output_type": "execute_result"
    }
   ],
   "source": [
    "# еще раз посмотрим на сводную таблицу с улицами\n",
    "\n",
    "adress.head()"
   ]
  },
  {
   "cell_type": "code",
   "execution_count": 343,
   "metadata": {
    "colab": {
     "base_uri": "https://localhost:8080/",
     "height": 424
    },
    "id": "O8GAJImOXHEw",
    "outputId": "2a6bce2b-8a7d-45fd-d79d-98cff9cd4509"
   },
   "outputs": [
    {
     "data": {
      "text/html": [
       "\n",
       "  <div id=\"df-2246cd85-714b-47ee-a103-afe306368b32\">\n",
       "    <div class=\"colab-df-container\">\n",
       "      <div>\n",
       "<style scoped>\n",
       "    .dataframe tbody tr th:only-of-type {\n",
       "        vertical-align: middle;\n",
       "    }\n",
       "\n",
       "    .dataframe tbody tr th {\n",
       "        vertical-align: top;\n",
       "    }\n",
       "\n",
       "    .dataframe thead th {\n",
       "        text-align: right;\n",
       "    }\n",
       "</style>\n",
       "<table border=\"1\" class=\"dataframe\">\n",
       "  <thead>\n",
       "    <tr style=\"text-align: right;\">\n",
       "      <th></th>\n",
       "      <th>street</th>\n",
       "      <th>count</th>\n",
       "    </tr>\n",
       "  </thead>\n",
       "  <tbody>\n",
       "    <tr>\n",
       "      <th>1299</th>\n",
       "      <td>улица Демьяна Бедного</td>\n",
       "      <td>1</td>\n",
       "    </tr>\n",
       "    <tr>\n",
       "      <th>1300</th>\n",
       "      <td>Андреево-Забелинская улица</td>\n",
       "      <td>1</td>\n",
       "    </tr>\n",
       "    <tr>\n",
       "      <th>1301</th>\n",
       "      <td>1-й Саратовский проезд</td>\n",
       "      <td>1</td>\n",
       "    </tr>\n",
       "    <tr>\n",
       "      <th>1302</th>\n",
       "      <td>Андроньевская площадь</td>\n",
       "      <td>1</td>\n",
       "    </tr>\n",
       "    <tr>\n",
       "      <th>1303</th>\n",
       "      <td>2-й Стрелецкий проезд</td>\n",
       "      <td>1</td>\n",
       "    </tr>\n",
       "    <tr>\n",
       "      <th>...</th>\n",
       "      <td>...</td>\n",
       "      <td>...</td>\n",
       "    </tr>\n",
       "    <tr>\n",
       "      <th>1872</th>\n",
       "      <td>дом 1</td>\n",
       "      <td>1</td>\n",
       "    </tr>\n",
       "    <tr>\n",
       "      <th>1873</th>\n",
       "      <td>дом 10</td>\n",
       "      <td>1</td>\n",
       "    </tr>\n",
       "    <tr>\n",
       "      <th>1874</th>\n",
       "      <td>дом 11</td>\n",
       "      <td>1</td>\n",
       "    </tr>\n",
       "    <tr>\n",
       "      <th>1875</th>\n",
       "      <td>дом 118Б</td>\n",
       "      <td>1</td>\n",
       "    </tr>\n",
       "    <tr>\n",
       "      <th>1876</th>\n",
       "      <td>Гвардейская улица</td>\n",
       "      <td>1</td>\n",
       "    </tr>\n",
       "  </tbody>\n",
       "</table>\n",
       "<p>578 rows × 2 columns</p>\n",
       "</div>\n",
       "      <button class=\"colab-df-convert\" onclick=\"convertToInteractive('df-2246cd85-714b-47ee-a103-afe306368b32')\"\n",
       "              title=\"Convert this dataframe to an interactive table.\"\n",
       "              style=\"display:none;\">\n",
       "        \n",
       "  <svg xmlns=\"http://www.w3.org/2000/svg\" height=\"24px\"viewBox=\"0 0 24 24\"\n",
       "       width=\"24px\">\n",
       "    <path d=\"M0 0h24v24H0V0z\" fill=\"none\"/>\n",
       "    <path d=\"M18.56 5.44l.94 2.06.94-2.06 2.06-.94-2.06-.94-.94-2.06-.94 2.06-2.06.94zm-11 1L8.5 8.5l.94-2.06 2.06-.94-2.06-.94L8.5 2.5l-.94 2.06-2.06.94zm10 10l.94 2.06.94-2.06 2.06-.94-2.06-.94-.94-2.06-.94 2.06-2.06.94z\"/><path d=\"M17.41 7.96l-1.37-1.37c-.4-.4-.92-.59-1.43-.59-.52 0-1.04.2-1.43.59L10.3 9.45l-7.72 7.72c-.78.78-.78 2.05 0 2.83L4 21.41c.39.39.9.59 1.41.59.51 0 1.02-.2 1.41-.59l7.78-7.78 2.81-2.81c.8-.78.8-2.07 0-2.86zM5.41 20L4 18.59l7.72-7.72 1.47 1.35L5.41 20z\"/>\n",
       "  </svg>\n",
       "      </button>\n",
       "      \n",
       "  <style>\n",
       "    .colab-df-container {\n",
       "      display:flex;\n",
       "      flex-wrap:wrap;\n",
       "      gap: 12px;\n",
       "    }\n",
       "\n",
       "    .colab-df-convert {\n",
       "      background-color: #E8F0FE;\n",
       "      border: none;\n",
       "      border-radius: 50%;\n",
       "      cursor: pointer;\n",
       "      display: none;\n",
       "      fill: #1967D2;\n",
       "      height: 32px;\n",
       "      padding: 0 0 0 0;\n",
       "      width: 32px;\n",
       "    }\n",
       "\n",
       "    .colab-df-convert:hover {\n",
       "      background-color: #E2EBFA;\n",
       "      box-shadow: 0px 1px 2px rgba(60, 64, 67, 0.3), 0px 1px 3px 1px rgba(60, 64, 67, 0.15);\n",
       "      fill: #174EA6;\n",
       "    }\n",
       "\n",
       "    [theme=dark] .colab-df-convert {\n",
       "      background-color: #3B4455;\n",
       "      fill: #D2E3FC;\n",
       "    }\n",
       "\n",
       "    [theme=dark] .colab-df-convert:hover {\n",
       "      background-color: #434B5C;\n",
       "      box-shadow: 0px 1px 3px 1px rgba(0, 0, 0, 0.15);\n",
       "      filter: drop-shadow(0px 1px 2px rgba(0, 0, 0, 0.3));\n",
       "      fill: #FFFFFF;\n",
       "    }\n",
       "  </style>\n",
       "\n",
       "      <script>\n",
       "        const buttonEl =\n",
       "          document.querySelector('#df-2246cd85-714b-47ee-a103-afe306368b32 button.colab-df-convert');\n",
       "        buttonEl.style.display =\n",
       "          google.colab.kernel.accessAllowed ? 'block' : 'none';\n",
       "\n",
       "        async function convertToInteractive(key) {\n",
       "          const element = document.querySelector('#df-2246cd85-714b-47ee-a103-afe306368b32');\n",
       "          const dataTable =\n",
       "            await google.colab.kernel.invokeFunction('convertToInteractive',\n",
       "                                                     [key], {});\n",
       "          if (!dataTable) return;\n",
       "\n",
       "          const docLinkHtml = 'Like what you see? Visit the ' +\n",
       "            '<a target=\"_blank\" href=https://colab.research.google.com/notebooks/data_table.ipynb>data table notebook</a>'\n",
       "            + ' to learn more about interactive tables.';\n",
       "          element.innerHTML = '';\n",
       "          dataTable['output_type'] = 'display_data';\n",
       "          await google.colab.output.renderOutput(dataTable, element);\n",
       "          const docLink = document.createElement('div');\n",
       "          docLink.innerHTML = docLinkHtml;\n",
       "          element.appendChild(docLink);\n",
       "        }\n",
       "      </script>\n",
       "    </div>\n",
       "  </div>\n",
       "  "
      ],
      "text/plain": [
       "                          street  count\n",
       "1299       улица Демьяна Бедного      1\n",
       "1300  Андреево-Забелинская улица      1\n",
       "1301      1-й Саратовский проезд      1\n",
       "1302       Андроньевская площадь      1\n",
       "1303       2-й Стрелецкий проезд      1\n",
       "...                          ...    ...\n",
       "1872                       дом 1      1\n",
       "1873                      дом 10      1\n",
       "1874                      дом 11      1\n",
       "1875                    дом 118Б      1\n",
       "1876           Гвардейская улица      1\n",
       "\n",
       "[578 rows x 2 columns]"
      ]
     },
     "execution_count": 343,
     "metadata": {},
     "output_type": "execute_result"
    }
   ],
   "source": [
    "# сделаем срез по adress с улицами, на которых одно заведение\n",
    "\n",
    "adress.query('count == 1')"
   ]
  },
  {
   "cell_type": "code",
   "execution_count": 344,
   "metadata": {
    "colab": {
     "base_uri": "https://localhost:8080/"
    },
    "id": "ZNWQH-jjXMMW",
    "outputId": "b435e336-bb90-431c-8fe5-79428925820c"
   },
   "outputs": [
    {
     "data": {
      "text/plain": [
       "578"
      ]
     },
     "execution_count": 344,
     "metadata": {},
     "output_type": "execute_result"
    }
   ],
   "source": [
    "# сколько таких улиц\n",
    "\n",
    "len(adress.query('count == 1'))"
   ]
  },
  {
   "cell_type": "code",
   "execution_count": 345,
   "metadata": {
    "id": "xjV48fHnXyfe"
   },
   "outputs": [],
   "source": [
    "# запишем эти улицы в датафрейм adress_1_street\n",
    "\n",
    "adress_1_street = adress.query('count == 1')"
   ]
  },
  {
   "cell_type": "code",
   "execution_count": 346,
   "metadata": {
    "colab": {
     "base_uri": "https://localhost:8080/",
     "height": 206
    },
    "id": "cmV1I1SbrhgC",
    "outputId": "f7455ddf-ca0d-402d-9fdd-094fe2ab8d1a"
   },
   "outputs": [
    {
     "data": {
      "text/html": [
       "\n",
       "  <div id=\"df-4d220024-4fc0-4a6e-b51d-d1d2d6b0622e\">\n",
       "    <div class=\"colab-df-container\">\n",
       "      <div>\n",
       "<style scoped>\n",
       "    .dataframe tbody tr th:only-of-type {\n",
       "        vertical-align: middle;\n",
       "    }\n",
       "\n",
       "    .dataframe tbody tr th {\n",
       "        vertical-align: top;\n",
       "    }\n",
       "\n",
       "    .dataframe thead th {\n",
       "        text-align: right;\n",
       "    }\n",
       "</style>\n",
       "<table border=\"1\" class=\"dataframe\">\n",
       "  <thead>\n",
       "    <tr style=\"text-align: right;\">\n",
       "      <th></th>\n",
       "      <th>street</th>\n",
       "      <th>count</th>\n",
       "    </tr>\n",
       "  </thead>\n",
       "  <tbody>\n",
       "    <tr>\n",
       "      <th>1299</th>\n",
       "      <td>улица Демьяна Бедного</td>\n",
       "      <td>1</td>\n",
       "    </tr>\n",
       "    <tr>\n",
       "      <th>1300</th>\n",
       "      <td>Андреево-Забелинская улица</td>\n",
       "      <td>1</td>\n",
       "    </tr>\n",
       "    <tr>\n",
       "      <th>1301</th>\n",
       "      <td>1-й Саратовский проезд</td>\n",
       "      <td>1</td>\n",
       "    </tr>\n",
       "    <tr>\n",
       "      <th>1302</th>\n",
       "      <td>Андроньевская площадь</td>\n",
       "      <td>1</td>\n",
       "    </tr>\n",
       "    <tr>\n",
       "      <th>1303</th>\n",
       "      <td>2-й Стрелецкий проезд</td>\n",
       "      <td>1</td>\n",
       "    </tr>\n",
       "  </tbody>\n",
       "</table>\n",
       "</div>\n",
       "      <button class=\"colab-df-convert\" onclick=\"convertToInteractive('df-4d220024-4fc0-4a6e-b51d-d1d2d6b0622e')\"\n",
       "              title=\"Convert this dataframe to an interactive table.\"\n",
       "              style=\"display:none;\">\n",
       "        \n",
       "  <svg xmlns=\"http://www.w3.org/2000/svg\" height=\"24px\"viewBox=\"0 0 24 24\"\n",
       "       width=\"24px\">\n",
       "    <path d=\"M0 0h24v24H0V0z\" fill=\"none\"/>\n",
       "    <path d=\"M18.56 5.44l.94 2.06.94-2.06 2.06-.94-2.06-.94-.94-2.06-.94 2.06-2.06.94zm-11 1L8.5 8.5l.94-2.06 2.06-.94-2.06-.94L8.5 2.5l-.94 2.06-2.06.94zm10 10l.94 2.06.94-2.06 2.06-.94-2.06-.94-.94-2.06-.94 2.06-2.06.94z\"/><path d=\"M17.41 7.96l-1.37-1.37c-.4-.4-.92-.59-1.43-.59-.52 0-1.04.2-1.43.59L10.3 9.45l-7.72 7.72c-.78.78-.78 2.05 0 2.83L4 21.41c.39.39.9.59 1.41.59.51 0 1.02-.2 1.41-.59l7.78-7.78 2.81-2.81c.8-.78.8-2.07 0-2.86zM5.41 20L4 18.59l7.72-7.72 1.47 1.35L5.41 20z\"/>\n",
       "  </svg>\n",
       "      </button>\n",
       "      \n",
       "  <style>\n",
       "    .colab-df-container {\n",
       "      display:flex;\n",
       "      flex-wrap:wrap;\n",
       "      gap: 12px;\n",
       "    }\n",
       "\n",
       "    .colab-df-convert {\n",
       "      background-color: #E8F0FE;\n",
       "      border: none;\n",
       "      border-radius: 50%;\n",
       "      cursor: pointer;\n",
       "      display: none;\n",
       "      fill: #1967D2;\n",
       "      height: 32px;\n",
       "      padding: 0 0 0 0;\n",
       "      width: 32px;\n",
       "    }\n",
       "\n",
       "    .colab-df-convert:hover {\n",
       "      background-color: #E2EBFA;\n",
       "      box-shadow: 0px 1px 2px rgba(60, 64, 67, 0.3), 0px 1px 3px 1px rgba(60, 64, 67, 0.15);\n",
       "      fill: #174EA6;\n",
       "    }\n",
       "\n",
       "    [theme=dark] .colab-df-convert {\n",
       "      background-color: #3B4455;\n",
       "      fill: #D2E3FC;\n",
       "    }\n",
       "\n",
       "    [theme=dark] .colab-df-convert:hover {\n",
       "      background-color: #434B5C;\n",
       "      box-shadow: 0px 1px 3px 1px rgba(0, 0, 0, 0.15);\n",
       "      filter: drop-shadow(0px 1px 2px rgba(0, 0, 0, 0.3));\n",
       "      fill: #FFFFFF;\n",
       "    }\n",
       "  </style>\n",
       "\n",
       "      <script>\n",
       "        const buttonEl =\n",
       "          document.querySelector('#df-4d220024-4fc0-4a6e-b51d-d1d2d6b0622e button.colab-df-convert');\n",
       "        buttonEl.style.display =\n",
       "          google.colab.kernel.accessAllowed ? 'block' : 'none';\n",
       "\n",
       "        async function convertToInteractive(key) {\n",
       "          const element = document.querySelector('#df-4d220024-4fc0-4a6e-b51d-d1d2d6b0622e');\n",
       "          const dataTable =\n",
       "            await google.colab.kernel.invokeFunction('convertToInteractive',\n",
       "                                                     [key], {});\n",
       "          if (!dataTable) return;\n",
       "\n",
       "          const docLinkHtml = 'Like what you see? Visit the ' +\n",
       "            '<a target=\"_blank\" href=https://colab.research.google.com/notebooks/data_table.ipynb>data table notebook</a>'\n",
       "            + ' to learn more about interactive tables.';\n",
       "          element.innerHTML = '';\n",
       "          dataTable['output_type'] = 'display_data';\n",
       "          await google.colab.output.renderOutput(dataTable, element);\n",
       "          const docLink = document.createElement('div');\n",
       "          docLink.innerHTML = docLinkHtml;\n",
       "          element.appendChild(docLink);\n",
       "        }\n",
       "      </script>\n",
       "    </div>\n",
       "  </div>\n",
       "  "
      ],
      "text/plain": [
       "                          street  count\n",
       "1299       улица Демьяна Бедного      1\n",
       "1300  Андреево-Забелинская улица      1\n",
       "1301      1-й Саратовский проезд      1\n",
       "1302       Андроньевская площадь      1\n",
       "1303       2-й Стрелецкий проезд      1"
      ]
     },
     "execution_count": 346,
     "metadata": {},
     "output_type": "execute_result"
    }
   ],
   "source": [
    "adress_1_street.head()"
   ]
  },
  {
   "cell_type": "code",
   "execution_count": 347,
   "metadata": {
    "colab": {
     "base_uri": "https://localhost:8080/"
    },
    "id": "ed-8YRcwkBGZ",
    "outputId": "8c27ed27-1ada-4581-843f-afdb9ac24dbf"
   },
   "outputs": [
    {
     "data": {
      "text/plain": [
       "okrug     10\n",
       "area     123\n",
       "dtype: int64"
      ]
     },
     "execution_count": 347,
     "metadata": {},
     "output_type": "execute_result"
    }
   ],
   "source": [
    "# сколько всего районов и округов\n",
    "\n",
    "area_street[['okrug', 'area']].nunique()"
   ]
  },
  {
   "cell_type": "markdown",
   "metadata": {
    "id": "gy3o-LbZYCdw"
   },
   "source": [
    "По аналогии с ТОП-10 джойним улицы с одним заведением с данными об улицах, районах и округах"
   ]
  },
  {
   "cell_type": "code",
   "execution_count": 348,
   "metadata": {
    "id": "OaQe1ArrYZ2Q"
   },
   "outputs": [],
   "source": [
    "adress_1street_area = adress_1_street.merge(area_street[['streetname', 'area', 'okrug']],\\\n",
    "                            left_on='street', right_on='streetname', how='left')"
   ]
  },
  {
   "cell_type": "code",
   "execution_count": 349,
   "metadata": {
    "colab": {
     "base_uri": "https://localhost:8080/",
     "height": 206
    },
    "id": "-fFgh97PY-4l",
    "outputId": "c613c3c7-02ef-4a31-9733-b94ae8b7d3ce"
   },
   "outputs": [
    {
     "data": {
      "text/html": [
       "\n",
       "  <div id=\"df-b1403b42-039d-412d-94a7-b54de63732ab\">\n",
       "    <div class=\"colab-df-container\">\n",
       "      <div>\n",
       "<style scoped>\n",
       "    .dataframe tbody tr th:only-of-type {\n",
       "        vertical-align: middle;\n",
       "    }\n",
       "\n",
       "    .dataframe tbody tr th {\n",
       "        vertical-align: top;\n",
       "    }\n",
       "\n",
       "    .dataframe thead th {\n",
       "        text-align: right;\n",
       "    }\n",
       "</style>\n",
       "<table border=\"1\" class=\"dataframe\">\n",
       "  <thead>\n",
       "    <tr style=\"text-align: right;\">\n",
       "      <th></th>\n",
       "      <th>street</th>\n",
       "      <th>count</th>\n",
       "      <th>streetname</th>\n",
       "      <th>area</th>\n",
       "      <th>okrug</th>\n",
       "    </tr>\n",
       "  </thead>\n",
       "  <tbody>\n",
       "    <tr>\n",
       "      <th>0</th>\n",
       "      <td>улица Демьяна Бедного</td>\n",
       "      <td>1</td>\n",
       "      <td>улица Демьяна Бедного</td>\n",
       "      <td>Район Хорошево-Мневники</td>\n",
       "      <td>СЗАО</td>\n",
       "    </tr>\n",
       "    <tr>\n",
       "      <th>1</th>\n",
       "      <td>Андреево-Забелинская улица</td>\n",
       "      <td>1</td>\n",
       "      <td>Андреево-Забелинская улица</td>\n",
       "      <td>Район Богородское</td>\n",
       "      <td>ВАО</td>\n",
       "    </tr>\n",
       "    <tr>\n",
       "      <th>2</th>\n",
       "      <td>1-й Саратовский проезд</td>\n",
       "      <td>1</td>\n",
       "      <td>1-й Саратовский проезд</td>\n",
       "      <td>Район Текстильщики</td>\n",
       "      <td>ЮВАО</td>\n",
       "    </tr>\n",
       "    <tr>\n",
       "      <th>3</th>\n",
       "      <td>Андроньевская площадь</td>\n",
       "      <td>1</td>\n",
       "      <td>Андроньевская площадь</td>\n",
       "      <td>Таганский район</td>\n",
       "      <td>ЦАО</td>\n",
       "    </tr>\n",
       "    <tr>\n",
       "      <th>4</th>\n",
       "      <td>2-й Стрелецкий проезд</td>\n",
       "      <td>1</td>\n",
       "      <td>2-й Стрелецкий проезд</td>\n",
       "      <td>Район Марьина роща</td>\n",
       "      <td>СВАО</td>\n",
       "    </tr>\n",
       "  </tbody>\n",
       "</table>\n",
       "</div>\n",
       "      <button class=\"colab-df-convert\" onclick=\"convertToInteractive('df-b1403b42-039d-412d-94a7-b54de63732ab')\"\n",
       "              title=\"Convert this dataframe to an interactive table.\"\n",
       "              style=\"display:none;\">\n",
       "        \n",
       "  <svg xmlns=\"http://www.w3.org/2000/svg\" height=\"24px\"viewBox=\"0 0 24 24\"\n",
       "       width=\"24px\">\n",
       "    <path d=\"M0 0h24v24H0V0z\" fill=\"none\"/>\n",
       "    <path d=\"M18.56 5.44l.94 2.06.94-2.06 2.06-.94-2.06-.94-.94-2.06-.94 2.06-2.06.94zm-11 1L8.5 8.5l.94-2.06 2.06-.94-2.06-.94L8.5 2.5l-.94 2.06-2.06.94zm10 10l.94 2.06.94-2.06 2.06-.94-2.06-.94-.94-2.06-.94 2.06-2.06.94z\"/><path d=\"M17.41 7.96l-1.37-1.37c-.4-.4-.92-.59-1.43-.59-.52 0-1.04.2-1.43.59L10.3 9.45l-7.72 7.72c-.78.78-.78 2.05 0 2.83L4 21.41c.39.39.9.59 1.41.59.51 0 1.02-.2 1.41-.59l7.78-7.78 2.81-2.81c.8-.78.8-2.07 0-2.86zM5.41 20L4 18.59l7.72-7.72 1.47 1.35L5.41 20z\"/>\n",
       "  </svg>\n",
       "      </button>\n",
       "      \n",
       "  <style>\n",
       "    .colab-df-container {\n",
       "      display:flex;\n",
       "      flex-wrap:wrap;\n",
       "      gap: 12px;\n",
       "    }\n",
       "\n",
       "    .colab-df-convert {\n",
       "      background-color: #E8F0FE;\n",
       "      border: none;\n",
       "      border-radius: 50%;\n",
       "      cursor: pointer;\n",
       "      display: none;\n",
       "      fill: #1967D2;\n",
       "      height: 32px;\n",
       "      padding: 0 0 0 0;\n",
       "      width: 32px;\n",
       "    }\n",
       "\n",
       "    .colab-df-convert:hover {\n",
       "      background-color: #E2EBFA;\n",
       "      box-shadow: 0px 1px 2px rgba(60, 64, 67, 0.3), 0px 1px 3px 1px rgba(60, 64, 67, 0.15);\n",
       "      fill: #174EA6;\n",
       "    }\n",
       "\n",
       "    [theme=dark] .colab-df-convert {\n",
       "      background-color: #3B4455;\n",
       "      fill: #D2E3FC;\n",
       "    }\n",
       "\n",
       "    [theme=dark] .colab-df-convert:hover {\n",
       "      background-color: #434B5C;\n",
       "      box-shadow: 0px 1px 3px 1px rgba(0, 0, 0, 0.15);\n",
       "      filter: drop-shadow(0px 1px 2px rgba(0, 0, 0, 0.3));\n",
       "      fill: #FFFFFF;\n",
       "    }\n",
       "  </style>\n",
       "\n",
       "      <script>\n",
       "        const buttonEl =\n",
       "          document.querySelector('#df-b1403b42-039d-412d-94a7-b54de63732ab button.colab-df-convert');\n",
       "        buttonEl.style.display =\n",
       "          google.colab.kernel.accessAllowed ? 'block' : 'none';\n",
       "\n",
       "        async function convertToInteractive(key) {\n",
       "          const element = document.querySelector('#df-b1403b42-039d-412d-94a7-b54de63732ab');\n",
       "          const dataTable =\n",
       "            await google.colab.kernel.invokeFunction('convertToInteractive',\n",
       "                                                     [key], {});\n",
       "          if (!dataTable) return;\n",
       "\n",
       "          const docLinkHtml = 'Like what you see? Visit the ' +\n",
       "            '<a target=\"_blank\" href=https://colab.research.google.com/notebooks/data_table.ipynb>data table notebook</a>'\n",
       "            + ' to learn more about interactive tables.';\n",
       "          element.innerHTML = '';\n",
       "          dataTable['output_type'] = 'display_data';\n",
       "          await google.colab.output.renderOutput(dataTable, element);\n",
       "          const docLink = document.createElement('div');\n",
       "          docLink.innerHTML = docLinkHtml;\n",
       "          element.appendChild(docLink);\n",
       "        }\n",
       "      </script>\n",
       "    </div>\n",
       "  </div>\n",
       "  "
      ],
      "text/plain": [
       "                       street  count                  streetname  \\\n",
       "0       улица Демьяна Бедного      1       улица Демьяна Бедного   \n",
       "1  Андреево-Забелинская улица      1  Андреево-Забелинская улица   \n",
       "2      1-й Саратовский проезд      1      1-й Саратовский проезд   \n",
       "3       Андроньевская площадь      1       Андроньевская площадь   \n",
       "4       2-й Стрелецкий проезд      1       2-й Стрелецкий проезд   \n",
       "\n",
       "                      area okrug  \n",
       "0  Район Хорошево-Мневники  СЗАО  \n",
       "1        Район Богородское   ВАО  \n",
       "2       Район Текстильщики  ЮВАО  \n",
       "3          Таганский район   ЦАО  \n",
       "4       Район Марьина роща  СВАО  "
      ]
     },
     "execution_count": 349,
     "metadata": {},
     "output_type": "execute_result"
    }
   ],
   "source": [
    "adress_1street_area.head()"
   ]
  },
  {
   "cell_type": "code",
   "execution_count": 350,
   "metadata": {
    "id": "ctFDWLMAnoVv"
   },
   "outputs": [],
   "source": [
    "# удаляем дублирующий столбец streetname\n",
    "\n",
    "#adress_1street_area = adress_1street_area.drop('streetname', axis=1)\n",
    "#adress_1street_area.head()"
   ]
  },
  {
   "cell_type": "code",
   "execution_count": 351,
   "metadata": {
    "colab": {
     "base_uri": "https://localhost:8080/"
    },
    "id": "UKgg_5fjvHxT",
    "outputId": "a46943a2-e991-4aa0-e32d-d4940193968e"
   },
   "outputs": [
    {
     "data": {
      "text/plain": [
       "578"
      ]
     },
     "execution_count": 351,
     "metadata": {},
     "output_type": "execute_result"
    }
   ],
   "source": [
    "# сколько улиц с одним объектом\n",
    "\n",
    "len(adress_1street_area['street'].unique())"
   ]
  },
  {
   "cell_type": "code",
   "execution_count": 352,
   "metadata": {
    "colab": {
     "base_uri": "https://localhost:8080/"
    },
    "id": "0Mt51xZelfy1",
    "outputId": "7066692e-7a07-4bb4-9584-8a3bb94319b8"
   },
   "outputs": [
    {
     "data": {
      "text/plain": [
       "621"
      ]
     },
     "execution_count": 352,
     "metadata": {},
     "output_type": "execute_result"
    }
   ],
   "source": [
    "# сколько всего строк в датафрейме adress_1street_area\n",
    "\n",
    "len(adress_1street_area)"
   ]
  },
  {
   "cell_type": "code",
   "execution_count": 353,
   "metadata": {
    "colab": {
     "base_uri": "https://localhost:8080/",
     "height": 424
    },
    "id": "NnfnUpKb0ybo",
    "outputId": "fe6f4e65-2a79-4dec-9b81-6176fe837c9c"
   },
   "outputs": [
    {
     "data": {
      "text/html": [
       "\n",
       "  <div id=\"df-dafa9dab-dabc-409a-92fb-81cfe46255ac\">\n",
       "    <div class=\"colab-df-container\">\n",
       "      <div>\n",
       "<style scoped>\n",
       "    .dataframe tbody tr th:only-of-type {\n",
       "        vertical-align: middle;\n",
       "    }\n",
       "\n",
       "    .dataframe tbody tr th {\n",
       "        vertical-align: top;\n",
       "    }\n",
       "\n",
       "    .dataframe thead th {\n",
       "        text-align: right;\n",
       "    }\n",
       "</style>\n",
       "<table border=\"1\" class=\"dataframe\">\n",
       "  <thead>\n",
       "    <tr style=\"text-align: right;\">\n",
       "      <th></th>\n",
       "      <th>street</th>\n",
       "      <th>count</th>\n",
       "      <th>streetname</th>\n",
       "      <th>area</th>\n",
       "      <th>okrug</th>\n",
       "    </tr>\n",
       "  </thead>\n",
       "  <tbody>\n",
       "    <tr>\n",
       "      <th>0</th>\n",
       "      <td>NaN</td>\n",
       "      <td>NaN</td>\n",
       "      <td>NaN</td>\n",
       "      <td>NaN</td>\n",
       "      <td>NaN</td>\n",
       "    </tr>\n",
       "    <tr>\n",
       "      <th>1</th>\n",
       "      <td>NaN</td>\n",
       "      <td>NaN</td>\n",
       "      <td>NaN</td>\n",
       "      <td>NaN</td>\n",
       "      <td>NaN</td>\n",
       "    </tr>\n",
       "    <tr>\n",
       "      <th>2</th>\n",
       "      <td>NaN</td>\n",
       "      <td>NaN</td>\n",
       "      <td>NaN</td>\n",
       "      <td>NaN</td>\n",
       "      <td>NaN</td>\n",
       "    </tr>\n",
       "    <tr>\n",
       "      <th>3</th>\n",
       "      <td>NaN</td>\n",
       "      <td>NaN</td>\n",
       "      <td>NaN</td>\n",
       "      <td>NaN</td>\n",
       "      <td>NaN</td>\n",
       "    </tr>\n",
       "    <tr>\n",
       "      <th>4</th>\n",
       "      <td>NaN</td>\n",
       "      <td>NaN</td>\n",
       "      <td>NaN</td>\n",
       "      <td>NaN</td>\n",
       "      <td>NaN</td>\n",
       "    </tr>\n",
       "    <tr>\n",
       "      <th>...</th>\n",
       "      <td>...</td>\n",
       "      <td>...</td>\n",
       "      <td>...</td>\n",
       "      <td>...</td>\n",
       "      <td>...</td>\n",
       "    </tr>\n",
       "    <tr>\n",
       "      <th>616</th>\n",
       "      <td>NaN</td>\n",
       "      <td>NaN</td>\n",
       "      <td>NaN</td>\n",
       "      <td>NaN</td>\n",
       "      <td>NaN</td>\n",
       "    </tr>\n",
       "    <tr>\n",
       "      <th>617</th>\n",
       "      <td>NaN</td>\n",
       "      <td>NaN</td>\n",
       "      <td>NaN</td>\n",
       "      <td>NaN</td>\n",
       "      <td>NaN</td>\n",
       "    </tr>\n",
       "    <tr>\n",
       "      <th>618</th>\n",
       "      <td>NaN</td>\n",
       "      <td>NaN</td>\n",
       "      <td>NaN</td>\n",
       "      <td>NaN</td>\n",
       "      <td>NaN</td>\n",
       "    </tr>\n",
       "    <tr>\n",
       "      <th>619</th>\n",
       "      <td>NaN</td>\n",
       "      <td>NaN</td>\n",
       "      <td>NaN</td>\n",
       "      <td>NaN</td>\n",
       "      <td>NaN</td>\n",
       "    </tr>\n",
       "    <tr>\n",
       "      <th>620</th>\n",
       "      <td>NaN</td>\n",
       "      <td>NaN</td>\n",
       "      <td>NaN</td>\n",
       "      <td>NaN</td>\n",
       "      <td>NaN</td>\n",
       "    </tr>\n",
       "  </tbody>\n",
       "</table>\n",
       "<p>621 rows × 5 columns</p>\n",
       "</div>\n",
       "      <button class=\"colab-df-convert\" onclick=\"convertToInteractive('df-dafa9dab-dabc-409a-92fb-81cfe46255ac')\"\n",
       "              title=\"Convert this dataframe to an interactive table.\"\n",
       "              style=\"display:none;\">\n",
       "        \n",
       "  <svg xmlns=\"http://www.w3.org/2000/svg\" height=\"24px\"viewBox=\"0 0 24 24\"\n",
       "       width=\"24px\">\n",
       "    <path d=\"M0 0h24v24H0V0z\" fill=\"none\"/>\n",
       "    <path d=\"M18.56 5.44l.94 2.06.94-2.06 2.06-.94-2.06-.94-.94-2.06-.94 2.06-2.06.94zm-11 1L8.5 8.5l.94-2.06 2.06-.94-2.06-.94L8.5 2.5l-.94 2.06-2.06.94zm10 10l.94 2.06.94-2.06 2.06-.94-2.06-.94-.94-2.06-.94 2.06-2.06.94z\"/><path d=\"M17.41 7.96l-1.37-1.37c-.4-.4-.92-.59-1.43-.59-.52 0-1.04.2-1.43.59L10.3 9.45l-7.72 7.72c-.78.78-.78 2.05 0 2.83L4 21.41c.39.39.9.59 1.41.59.51 0 1.02-.2 1.41-.59l7.78-7.78 2.81-2.81c.8-.78.8-2.07 0-2.86zM5.41 20L4 18.59l7.72-7.72 1.47 1.35L5.41 20z\"/>\n",
       "  </svg>\n",
       "      </button>\n",
       "      \n",
       "  <style>\n",
       "    .colab-df-container {\n",
       "      display:flex;\n",
       "      flex-wrap:wrap;\n",
       "      gap: 12px;\n",
       "    }\n",
       "\n",
       "    .colab-df-convert {\n",
       "      background-color: #E8F0FE;\n",
       "      border: none;\n",
       "      border-radius: 50%;\n",
       "      cursor: pointer;\n",
       "      display: none;\n",
       "      fill: #1967D2;\n",
       "      height: 32px;\n",
       "      padding: 0 0 0 0;\n",
       "      width: 32px;\n",
       "    }\n",
       "\n",
       "    .colab-df-convert:hover {\n",
       "      background-color: #E2EBFA;\n",
       "      box-shadow: 0px 1px 2px rgba(60, 64, 67, 0.3), 0px 1px 3px 1px rgba(60, 64, 67, 0.15);\n",
       "      fill: #174EA6;\n",
       "    }\n",
       "\n",
       "    [theme=dark] .colab-df-convert {\n",
       "      background-color: #3B4455;\n",
       "      fill: #D2E3FC;\n",
       "    }\n",
       "\n",
       "    [theme=dark] .colab-df-convert:hover {\n",
       "      background-color: #434B5C;\n",
       "      box-shadow: 0px 1px 3px 1px rgba(0, 0, 0, 0.15);\n",
       "      filter: drop-shadow(0px 1px 2px rgba(0, 0, 0, 0.3));\n",
       "      fill: #FFFFFF;\n",
       "    }\n",
       "  </style>\n",
       "\n",
       "      <script>\n",
       "        const buttonEl =\n",
       "          document.querySelector('#df-dafa9dab-dabc-409a-92fb-81cfe46255ac button.colab-df-convert');\n",
       "        buttonEl.style.display =\n",
       "          google.colab.kernel.accessAllowed ? 'block' : 'none';\n",
       "\n",
       "        async function convertToInteractive(key) {\n",
       "          const element = document.querySelector('#df-dafa9dab-dabc-409a-92fb-81cfe46255ac');\n",
       "          const dataTable =\n",
       "            await google.colab.kernel.invokeFunction('convertToInteractive',\n",
       "                                                     [key], {});\n",
       "          if (!dataTable) return;\n",
       "\n",
       "          const docLinkHtml = 'Like what you see? Visit the ' +\n",
       "            '<a target=\"_blank\" href=https://colab.research.google.com/notebooks/data_table.ipynb>data table notebook</a>'\n",
       "            + ' to learn more about interactive tables.';\n",
       "          element.innerHTML = '';\n",
       "          dataTable['output_type'] = 'display_data';\n",
       "          await google.colab.output.renderOutput(dataTable, element);\n",
       "          const docLink = document.createElement('div');\n",
       "          docLink.innerHTML = docLinkHtml;\n",
       "          element.appendChild(docLink);\n",
       "        }\n",
       "      </script>\n",
       "    </div>\n",
       "  </div>\n",
       "  "
      ],
      "text/plain": [
       "    street  count streetname area okrug\n",
       "0      NaN    NaN        NaN  NaN   NaN\n",
       "1      NaN    NaN        NaN  NaN   NaN\n",
       "2      NaN    NaN        NaN  NaN   NaN\n",
       "3      NaN    NaN        NaN  NaN   NaN\n",
       "4      NaN    NaN        NaN  NaN   NaN\n",
       "..     ...    ...        ...  ...   ...\n",
       "616    NaN    NaN        NaN  NaN   NaN\n",
       "617    NaN    NaN        NaN  NaN   NaN\n",
       "618    NaN    NaN        NaN  NaN   NaN\n",
       "619    NaN    NaN        NaN  NaN   NaN\n",
       "620    NaN    NaN        NaN  NaN   NaN\n",
       "\n",
       "[621 rows x 5 columns]"
      ]
     },
     "execution_count": 353,
     "metadata": {},
     "output_type": "execute_result"
    }
   ],
   "source": [
    "# проверяем пропуски\n",
    "\n",
    "adress_1street_area[adress_1street_area.isna()]"
   ]
  },
  {
   "cell_type": "code",
   "execution_count": 354,
   "metadata": {
    "colab": {
     "base_uri": "https://localhost:8080/"
    },
    "id": "vVeGVSJS1Q0N",
    "outputId": "53dfb534-6353-4415-8b92-c0dbb725203b"
   },
   "outputs": [
    {
     "data": {
      "text/plain": [
       "street         0\n",
       "count          0\n",
       "streetname    61\n",
       "area          61\n",
       "okrug         61\n",
       "dtype: int64"
      ]
     },
     "execution_count": 354,
     "metadata": {},
     "output_type": "execute_result"
    }
   ],
   "source": [
    "# количество пропусков\n",
    "\n",
    "adress_1street_area.isna().sum()"
   ]
  },
  {
   "cell_type": "code",
   "execution_count": 355,
   "metadata": {
    "id": "xQCingNf1WAM"
   },
   "outputs": [],
   "source": [
    "# удаляем пропуски\n",
    "\n",
    "adress_1street_area.dropna(inplace=True)"
   ]
  },
  {
   "cell_type": "code",
   "execution_count": 356,
   "metadata": {
    "colab": {
     "base_uri": "https://localhost:8080/"
    },
    "id": "VpLiuwPxv0d1",
    "outputId": "051020f5-1b19-4f4a-ccf9-0e6ec8ea5ea5"
   },
   "outputs": [
    {
     "data": {
      "text/plain": [
       "43"
      ]
     },
     "execution_count": 356,
     "metadata": {},
     "output_type": "execute_result"
    }
   ],
   "source": [
    "# посмотрим количество дубликатов по столбцу street\n",
    "\n",
    "adress_1street_area.duplicated(subset='street').sum()"
   ]
  },
  {
   "cell_type": "code",
   "execution_count": 357,
   "metadata": {
    "colab": {
     "base_uri": "https://localhost:8080/"
    },
    "id": "m1F3VFBtws32",
    "outputId": "1b6d6ee5-ce84-43bd-f64d-07e9e333bebf"
   },
   "outputs": [
    {
     "data": {
      "text/plain": [
       "517"
      ]
     },
     "execution_count": 357,
     "metadata": {},
     "output_type": "execute_result"
    }
   ],
   "source": [
    "# удяляем явные дубликаты\n",
    "\n",
    "adress_1street_area.drop_duplicates(subset=['street'], inplace=True)\n",
    "len(adress_1street_area)"
   ]
  },
  {
   "cell_type": "markdown",
   "metadata": {
    "id": "_1YucJwYxHsC"
   },
   "source": [
    "Дубликаты удалили, на выходе у нас список из 517 улиц, на которых расположен один объект."
   ]
  },
  {
   "cell_type": "code",
   "execution_count": 358,
   "metadata": {
    "colab": {
     "base_uri": "https://localhost:8080/",
     "height": 363
    },
    "id": "8LorEAR5d2E7",
    "outputId": "cad4f4b8-0df6-43ea-d1ac-1473460bcd3c"
   },
   "outputs": [
    {
     "data": {
      "text/html": [
       "\n",
       "  <div id=\"df-0cc6efb8-e9ee-4a22-8374-bfe235a84a2c\">\n",
       "    <div class=\"colab-df-container\">\n",
       "      <div>\n",
       "<style scoped>\n",
       "    .dataframe tbody tr th:only-of-type {\n",
       "        vertical-align: middle;\n",
       "    }\n",
       "\n",
       "    .dataframe tbody tr th {\n",
       "        vertical-align: top;\n",
       "    }\n",
       "\n",
       "    .dataframe thead th {\n",
       "        text-align: right;\n",
       "    }\n",
       "</style>\n",
       "<table border=\"1\" class=\"dataframe\">\n",
       "  <thead>\n",
       "    <tr style=\"text-align: right;\">\n",
       "      <th></th>\n",
       "      <th>area</th>\n",
       "      <th>number_of_streets</th>\n",
       "    </tr>\n",
       "  </thead>\n",
       "  <tbody>\n",
       "    <tr>\n",
       "      <th>0</th>\n",
       "      <td>Таганский район</td>\n",
       "      <td>27</td>\n",
       "    </tr>\n",
       "    <tr>\n",
       "      <th>1</th>\n",
       "      <td>Басманный район</td>\n",
       "      <td>24</td>\n",
       "    </tr>\n",
       "    <tr>\n",
       "      <th>2</th>\n",
       "      <td>Район Хамовники</td>\n",
       "      <td>22</td>\n",
       "    </tr>\n",
       "    <tr>\n",
       "      <th>3</th>\n",
       "      <td>Тверской район</td>\n",
       "      <td>20</td>\n",
       "    </tr>\n",
       "    <tr>\n",
       "      <th>4</th>\n",
       "      <td>Пресненский район</td>\n",
       "      <td>19</td>\n",
       "    </tr>\n",
       "    <tr>\n",
       "      <th>5</th>\n",
       "      <td>Район Марьина роща</td>\n",
       "      <td>17</td>\n",
       "    </tr>\n",
       "    <tr>\n",
       "      <th>6</th>\n",
       "      <td>Район Сокольники</td>\n",
       "      <td>15</td>\n",
       "    </tr>\n",
       "    <tr>\n",
       "      <th>7</th>\n",
       "      <td>Район Арбат</td>\n",
       "      <td>14</td>\n",
       "    </tr>\n",
       "    <tr>\n",
       "      <th>8</th>\n",
       "      <td>Район Замоскворечье</td>\n",
       "      <td>14</td>\n",
       "    </tr>\n",
       "    <tr>\n",
       "      <th>9</th>\n",
       "      <td>Мещанский район</td>\n",
       "      <td>13</td>\n",
       "    </tr>\n",
       "  </tbody>\n",
       "</table>\n",
       "</div>\n",
       "      <button class=\"colab-df-convert\" onclick=\"convertToInteractive('df-0cc6efb8-e9ee-4a22-8374-bfe235a84a2c')\"\n",
       "              title=\"Convert this dataframe to an interactive table.\"\n",
       "              style=\"display:none;\">\n",
       "        \n",
       "  <svg xmlns=\"http://www.w3.org/2000/svg\" height=\"24px\"viewBox=\"0 0 24 24\"\n",
       "       width=\"24px\">\n",
       "    <path d=\"M0 0h24v24H0V0z\" fill=\"none\"/>\n",
       "    <path d=\"M18.56 5.44l.94 2.06.94-2.06 2.06-.94-2.06-.94-.94-2.06-.94 2.06-2.06.94zm-11 1L8.5 8.5l.94-2.06 2.06-.94-2.06-.94L8.5 2.5l-.94 2.06-2.06.94zm10 10l.94 2.06.94-2.06 2.06-.94-2.06-.94-.94-2.06-.94 2.06-2.06.94z\"/><path d=\"M17.41 7.96l-1.37-1.37c-.4-.4-.92-.59-1.43-.59-.52 0-1.04.2-1.43.59L10.3 9.45l-7.72 7.72c-.78.78-.78 2.05 0 2.83L4 21.41c.39.39.9.59 1.41.59.51 0 1.02-.2 1.41-.59l7.78-7.78 2.81-2.81c.8-.78.8-2.07 0-2.86zM5.41 20L4 18.59l7.72-7.72 1.47 1.35L5.41 20z\"/>\n",
       "  </svg>\n",
       "      </button>\n",
       "      \n",
       "  <style>\n",
       "    .colab-df-container {\n",
       "      display:flex;\n",
       "      flex-wrap:wrap;\n",
       "      gap: 12px;\n",
       "    }\n",
       "\n",
       "    .colab-df-convert {\n",
       "      background-color: #E8F0FE;\n",
       "      border: none;\n",
       "      border-radius: 50%;\n",
       "      cursor: pointer;\n",
       "      display: none;\n",
       "      fill: #1967D2;\n",
       "      height: 32px;\n",
       "      padding: 0 0 0 0;\n",
       "      width: 32px;\n",
       "    }\n",
       "\n",
       "    .colab-df-convert:hover {\n",
       "      background-color: #E2EBFA;\n",
       "      box-shadow: 0px 1px 2px rgba(60, 64, 67, 0.3), 0px 1px 3px 1px rgba(60, 64, 67, 0.15);\n",
       "      fill: #174EA6;\n",
       "    }\n",
       "\n",
       "    [theme=dark] .colab-df-convert {\n",
       "      background-color: #3B4455;\n",
       "      fill: #D2E3FC;\n",
       "    }\n",
       "\n",
       "    [theme=dark] .colab-df-convert:hover {\n",
       "      background-color: #434B5C;\n",
       "      box-shadow: 0px 1px 3px 1px rgba(0, 0, 0, 0.15);\n",
       "      filter: drop-shadow(0px 1px 2px rgba(0, 0, 0, 0.3));\n",
       "      fill: #FFFFFF;\n",
       "    }\n",
       "  </style>\n",
       "\n",
       "      <script>\n",
       "        const buttonEl =\n",
       "          document.querySelector('#df-0cc6efb8-e9ee-4a22-8374-bfe235a84a2c button.colab-df-convert');\n",
       "        buttonEl.style.display =\n",
       "          google.colab.kernel.accessAllowed ? 'block' : 'none';\n",
       "\n",
       "        async function convertToInteractive(key) {\n",
       "          const element = document.querySelector('#df-0cc6efb8-e9ee-4a22-8374-bfe235a84a2c');\n",
       "          const dataTable =\n",
       "            await google.colab.kernel.invokeFunction('convertToInteractive',\n",
       "                                                     [key], {});\n",
       "          if (!dataTable) return;\n",
       "\n",
       "          const docLinkHtml = 'Like what you see? Visit the ' +\n",
       "            '<a target=\"_blank\" href=https://colab.research.google.com/notebooks/data_table.ipynb>data table notebook</a>'\n",
       "            + ' to learn more about interactive tables.';\n",
       "          element.innerHTML = '';\n",
       "          dataTable['output_type'] = 'display_data';\n",
       "          await google.colab.output.renderOutput(dataTable, element);\n",
       "          const docLink = document.createElement('div');\n",
       "          docLink.innerHTML = docLinkHtml;\n",
       "          element.appendChild(docLink);\n",
       "        }\n",
       "      </script>\n",
       "    </div>\n",
       "  </div>\n",
       "  "
      ],
      "text/plain": [
       "                  area  number_of_streets\n",
       "0      Таганский район                 27\n",
       "1      Басманный район                 24\n",
       "2      Район Хамовники                 22\n",
       "3       Тверской район                 20\n",
       "4    Пресненский район                 19\n",
       "5   Район Марьина роща                 17\n",
       "6     Район Сокольники                 15\n",
       "7          Район Арбат                 14\n",
       "8  Район Замоскворечье                 14\n",
       "9      Мещанский район                 13"
      ]
     },
     "execution_count": 358,
     "metadata": {},
     "output_type": "execute_result"
    }
   ],
   "source": [
    "# таблица с количеством однообъектных улиц, сгруппированных по районам\n",
    "\n",
    "one_ob_areas = adress_1street_area.groupby('area')['street'].agg(['count'])\\\n",
    ".reset_index().sort_values(by='count', ascending=False).reset_index(drop=True)\n",
    "one_ob_areas.rename(columns={\"count\": \"number_of_streets\"}, inplace=True)\n",
    "one_ob_areas.head(10)"
   ]
  },
  {
   "cell_type": "code",
   "execution_count": 359,
   "metadata": {
    "colab": {
     "base_uri": "https://localhost:8080/"
    },
    "id": "FdiUoBi2333W",
    "outputId": "a3c214b0-9d78-49c4-ddc0-11a163e6b4f3"
   },
   "outputs": [
    {
     "data": {
      "text/plain": [
       "97"
      ]
     },
     "execution_count": 359,
     "metadata": {},
     "output_type": "execute_result"
    }
   ],
   "source": [
    "# сколько всего таких районов\n",
    "\n",
    "len(one_ob_areas)"
   ]
  },
  {
   "cell_type": "markdown",
   "metadata": {
    "id": "wefz1inSej-3"
   },
   "source": [
    "У нас 97 районов, через которые проходят улицы с одним объектом. Список большой, само по себе нахождения района в этом списке ничег оне говорит.\n",
    "\n",
    "Интереснее смотреть на количество \"однообъектных\" улиц в разрезе районов. Например, в Таганском районе таких 27, а в Марьино всего 1.\n",
    "\n",
    "Можно посмотреть на \"однообъектные\" улицы в разрезе округов"
   ]
  },
  {
   "cell_type": "code",
   "execution_count": 360,
   "metadata": {
    "colab": {
     "base_uri": "https://localhost:8080/",
     "height": 206
    },
    "id": "CMnPjUYjnzaJ",
    "outputId": "935968f9-9004-4fc8-848d-73a063b13d90"
   },
   "outputs": [
    {
     "data": {
      "text/html": [
       "\n",
       "  <div id=\"df-c14bbd80-4f93-4c7d-a750-2869ccf27fac\">\n",
       "    <div class=\"colab-df-container\">\n",
       "      <div>\n",
       "<style scoped>\n",
       "    .dataframe tbody tr th:only-of-type {\n",
       "        vertical-align: middle;\n",
       "    }\n",
       "\n",
       "    .dataframe tbody tr th {\n",
       "        vertical-align: top;\n",
       "    }\n",
       "\n",
       "    .dataframe thead th {\n",
       "        text-align: right;\n",
       "    }\n",
       "</style>\n",
       "<table border=\"1\" class=\"dataframe\">\n",
       "  <thead>\n",
       "    <tr style=\"text-align: right;\">\n",
       "      <th></th>\n",
       "      <th>okrug</th>\n",
       "      <th>street</th>\n",
       "    </tr>\n",
       "  </thead>\n",
       "  <tbody>\n",
       "    <tr>\n",
       "      <th>0</th>\n",
       "      <td>ЦАО</td>\n",
       "      <td>171</td>\n",
       "    </tr>\n",
       "    <tr>\n",
       "      <th>1</th>\n",
       "      <td>СВАО</td>\n",
       "      <td>65</td>\n",
       "    </tr>\n",
       "    <tr>\n",
       "      <th>2</th>\n",
       "      <td>ВАО</td>\n",
       "      <td>64</td>\n",
       "    </tr>\n",
       "    <tr>\n",
       "      <th>3</th>\n",
       "      <td>САО</td>\n",
       "      <td>50</td>\n",
       "    </tr>\n",
       "    <tr>\n",
       "      <th>4</th>\n",
       "      <td>ЮВАО</td>\n",
       "      <td>50</td>\n",
       "    </tr>\n",
       "  </tbody>\n",
       "</table>\n",
       "</div>\n",
       "      <button class=\"colab-df-convert\" onclick=\"convertToInteractive('df-c14bbd80-4f93-4c7d-a750-2869ccf27fac')\"\n",
       "              title=\"Convert this dataframe to an interactive table.\"\n",
       "              style=\"display:none;\">\n",
       "        \n",
       "  <svg xmlns=\"http://www.w3.org/2000/svg\" height=\"24px\"viewBox=\"0 0 24 24\"\n",
       "       width=\"24px\">\n",
       "    <path d=\"M0 0h24v24H0V0z\" fill=\"none\"/>\n",
       "    <path d=\"M18.56 5.44l.94 2.06.94-2.06 2.06-.94-2.06-.94-.94-2.06-.94 2.06-2.06.94zm-11 1L8.5 8.5l.94-2.06 2.06-.94-2.06-.94L8.5 2.5l-.94 2.06-2.06.94zm10 10l.94 2.06.94-2.06 2.06-.94-2.06-.94-.94-2.06-.94 2.06-2.06.94z\"/><path d=\"M17.41 7.96l-1.37-1.37c-.4-.4-.92-.59-1.43-.59-.52 0-1.04.2-1.43.59L10.3 9.45l-7.72 7.72c-.78.78-.78 2.05 0 2.83L4 21.41c.39.39.9.59 1.41.59.51 0 1.02-.2 1.41-.59l7.78-7.78 2.81-2.81c.8-.78.8-2.07 0-2.86zM5.41 20L4 18.59l7.72-7.72 1.47 1.35L5.41 20z\"/>\n",
       "  </svg>\n",
       "      </button>\n",
       "      \n",
       "  <style>\n",
       "    .colab-df-container {\n",
       "      display:flex;\n",
       "      flex-wrap:wrap;\n",
       "      gap: 12px;\n",
       "    }\n",
       "\n",
       "    .colab-df-convert {\n",
       "      background-color: #E8F0FE;\n",
       "      border: none;\n",
       "      border-radius: 50%;\n",
       "      cursor: pointer;\n",
       "      display: none;\n",
       "      fill: #1967D2;\n",
       "      height: 32px;\n",
       "      padding: 0 0 0 0;\n",
       "      width: 32px;\n",
       "    }\n",
       "\n",
       "    .colab-df-convert:hover {\n",
       "      background-color: #E2EBFA;\n",
       "      box-shadow: 0px 1px 2px rgba(60, 64, 67, 0.3), 0px 1px 3px 1px rgba(60, 64, 67, 0.15);\n",
       "      fill: #174EA6;\n",
       "    }\n",
       "\n",
       "    [theme=dark] .colab-df-convert {\n",
       "      background-color: #3B4455;\n",
       "      fill: #D2E3FC;\n",
       "    }\n",
       "\n",
       "    [theme=dark] .colab-df-convert:hover {\n",
       "      background-color: #434B5C;\n",
       "      box-shadow: 0px 1px 3px 1px rgba(0, 0, 0, 0.15);\n",
       "      filter: drop-shadow(0px 1px 2px rgba(0, 0, 0, 0.3));\n",
       "      fill: #FFFFFF;\n",
       "    }\n",
       "  </style>\n",
       "\n",
       "      <script>\n",
       "        const buttonEl =\n",
       "          document.querySelector('#df-c14bbd80-4f93-4c7d-a750-2869ccf27fac button.colab-df-convert');\n",
       "        buttonEl.style.display =\n",
       "          google.colab.kernel.accessAllowed ? 'block' : 'none';\n",
       "\n",
       "        async function convertToInteractive(key) {\n",
       "          const element = document.querySelector('#df-c14bbd80-4f93-4c7d-a750-2869ccf27fac');\n",
       "          const dataTable =\n",
       "            await google.colab.kernel.invokeFunction('convertToInteractive',\n",
       "                                                     [key], {});\n",
       "          if (!dataTable) return;\n",
       "\n",
       "          const docLinkHtml = 'Like what you see? Visit the ' +\n",
       "            '<a target=\"_blank\" href=https://colab.research.google.com/notebooks/data_table.ipynb>data table notebook</a>'\n",
       "            + ' to learn more about interactive tables.';\n",
       "          element.innerHTML = '';\n",
       "          dataTable['output_type'] = 'display_data';\n",
       "          await google.colab.output.renderOutput(dataTable, element);\n",
       "          const docLink = document.createElement('div');\n",
       "          docLink.innerHTML = docLinkHtml;\n",
       "          element.appendChild(docLink);\n",
       "        }\n",
       "      </script>\n",
       "    </div>\n",
       "  </div>\n",
       "  "
      ],
      "text/plain": [
       "  okrug  street\n",
       "0   ЦАО     171\n",
       "1  СВАО      65\n",
       "2   ВАО      64\n",
       "3   САО      50\n",
       "4  ЮВАО      50"
      ]
     },
     "execution_count": 360,
     "metadata": {},
     "output_type": "execute_result"
    }
   ],
   "source": [
    "# группируем таблицы adress_1street_area по округу \n",
    "\n",
    "adress_1street_area.groupby('okrug')['street'].count()\\\n",
    "        .sort_values(ascending=False).reset_index().head()"
   ]
  },
  {
   "cell_type": "markdown",
   "metadata": {
    "id": "D8Ownu2kh0DA"
   },
   "source": [
    "### Вывод:\n",
    "\n",
    "Мы насчитали 97 районов, через которые проходят улицы с одним объектом общественного питания. Учитывая, что всего 123 района, эта цифра не дает практически никакой информации. Логичнее выделить 10 районов, через которые проходит максимальное количество однообъектных улиц. ТОП-10 таких районов:  \n",
    "\n",
    "1. Таганский район  \n",
    "2. Район Хамовники    \n",
    "3. Басманный район  \n",
    "4. Тверской район  \n",
    "5.\tПресненский район  \n",
    "6.\tРайон Марьина роща  \n",
    "7.\tРайон Арбат  \n",
    "8.\tМещанский район\t  \n",
    "9.\tРайон Сокольники\t  \n",
    "10.\tРайон Замоскворечье  \n",
    "\n",
    "То же самое и с округами. Все 10 округов имеют такие однообъектные улицы. По аналогии с районами выделим ТОП-3 округов:\n",
    "\n",
    "1. ЦАО\t\n",
    "2. ВАО\t\n",
    "3. СВАО\n",
    "\n",
    "Наличие одного заведения на улице дает повод запросить дополнительную информацию. Возможно, единственное заведение на улице загружено на 100% и имеет хорошую выручку. С другой стороны возможен и другой вариант, когда единственное кафе на улице из-за низкого трафика простаивает половину времени."
   ]
  },
  {
   "cell_type": "markdown",
   "metadata": {
    "id": "U7U-lx1fD4aq"
   },
   "source": [
    "<div class=\"alert alert-success\">\n",
    "<b>Комментарий ревьюера:</b>☀️\n",
    "    \n",
    "Такая популярность именно ЦАО может говорить о дороговизне аренды, о том, что это множество коротких улочек в центре, на которых в принципе не так много заведений может быть </div>\n"
   ]
  },
  {
   "cell_type": "markdown",
   "metadata": {
    "id": "1gXhDDHRVHgJ"
   },
   "source": [
    "## Общий вывод\n",
    "\n",
    "* Проанализировали 15 284 записей об объектах общественного питания Москвы  \n",
    "\n",
    "* В Москве чаще всего представлены столовые, рестораны и кафе.\n",
    "\n",
    "* Сетевые объекты — это примерно 20% от всех данных. 80% объектов несетевые. \n",
    "\n",
    "* Сетевое распространение характерно для кафе, предприятий быстрого обслуживания и ресторанов\n",
    "\n",
    "* Для большей части сетей характерно большое количество заведений с малым количеством посадочных мест и наоборот, малое количество заведений с большим количеством посадочных мест.\n",
    "\n",
    "* Среднее количество посадочных мест для столовых (130), ресторанов (97), буфетов (52), баров(44), кафе (40), предприятие быстрого обслуживания\t(21)\n",
    "\n",
    "* Большая часть улиц с наибольшим количеством объектов находится в районах ЦАО, ЮЗАО и ЮАО. Полный список таких улиц ниже в порядке убывания по количеству объектов общепита:\n",
    "\n",
    "  - проспект Мира\n",
    "    \n",
    "  - Профсоюзная улица\n",
    "    \n",
    "  - Ленинградский проспект\n",
    "    \n",
    "  - Пресненская набережная\n",
    "    \n",
    "  - Варшавское шоссе\n",
    "    \n",
    "  - Ленинский проспект\n",
    "    \n",
    "  - проспект Вернадского\n",
    "    \n",
    "  - Кутузовский проспект\n",
    "    \n",
    "  - Каширское шоссе\n",
    "    \n",
    "  - Кировоградская улица\n",
    "    \n",
    "* 578 улицы имеют только 1 объект общественного питания. \n",
    "\n",
    "  \n"
   ]
  },
  {
   "cell_type": "markdown",
   "metadata": {
    "id": "Ca49KMN3zheu"
   },
   "source": [
    "## Рекомендации инвесторам"
   ]
  },
  {
   "cell_type": "markdown",
   "metadata": {
    "id": "mQmk3q8T52YI"
   },
   "source": [
    "Есть две проблемы:\n",
    "1. Кафе небольшое и в нем будут роботы. Больше никакой информации\n",
    "2. В данных об объектах нет ни слова о финансовой успешности. Кафе в центре Москвы с 500+ посадочными местами может быть убыточным.  \n",
    "\n",
    "Достаточно скудные данные на входе. Попробуем исходя из них что-то рекомендовать:\n",
    "\n",
    "- Кафе - это самый популярный вид общественного питания в Москве, инвесторы выбрали правильный формат.\n",
    "\n",
    "- В кафе маленькая \"посадка\", в среднем 40 человек. Хорошо подходит под формат \"небольшое\".\n",
    "\n",
    "- Небольшое кафе лучше разместить в центре Москвы, там много улиц с одним объектом. Конкуренция будет меньше, плюс за нашим кафе преимущество в виде роботов.\n",
    "\n",
    "- Кафе самый популярный сетевой формат. В случае успеха бизнес можно будет легко масштабировать и перейти, например, к франшизе.\n"
   ]
  },
  {
   "cell_type": "markdown",
   "metadata": {
    "id": "S772d9lN9Kap"
   },
   "source": [
    "Презентация:\n",
    "\n",
    "https://disk.yandex.ru/i/YJb5v4OkTJZspw"
   ]
  },
  {
   "cell_type": "markdown",
   "metadata": {
    "id": "UpYJSqAF90pr"
   },
   "source": [
    "<div class=\"alert alert-success\">\n",
    "<b>Комментарий ревьюера:</b>☀️\n",
    "    \n",
    "\n",
    "\n",
    "Разумные рекомендации, превосходная работа. Если интересно, то используя геокодер (или датасет с координитами для адресов) и геовизуализацию можно построить распределение кафе на территории Москвы и выделить интересующие нас районы, затем в этих районах можно отобразить доступные площащи для аренды, спарсив какой-нибудь сайт объявлений и таким образом выбрать нужное местоположение. https://geocoder.readthedocs.io/ + https://python-visualization.github.io/folium/quickstart.html. Этим можно заняться, если захочется вернуться к проекту\n",
    "\n",
    "   \n",
    "**Касательно презентации:** \n",
    "* Понравилось, что ты добавил автора\n",
    "    \n",
    "<br>\n",
    "    \n",
    "* Можно было бы добавить слайд с постановкой задач\n",
    "* Рекомендую добавить нумерацию слайдов, чтобы заказчики могли задать вопрос по твоей презентации не с \"верните на вон тот слайд с ...\", а просто по номеру слайда\n",
    "* Хотелось бы ссылок на источник информации\n",
    "* Рекомендую добавлять рамку для отделения графиков от остальной части презентации и их выравнивать от слайда к слайду, а сейчас при переключении есть ощущения, что графики всегда в разных местах\n",
    "   \n",
    "Для оформления презентаций могу порекомендовать сервис https://readymag.com/. \n",
    "</div>"
   ]
  },
  {
   "cell_type": "markdown",
   "metadata": {
    "id": "i_T_79zWsJLn"
   },
   "source": [
    "<div class=\"alert alert-info\"> <b>Комментарий студента:</b> 1. Слайд с постановкой задач добавил 2. Нумерацию тоже 3. Ссылки добавил 4. Рамки к графикам добавил и выровнял их.</div>"
   ]
  },
  {
   "cell_type": "markdown",
   "metadata": {
    "id": "cCs4eoOTD4av"
   },
   "source": [
    "<div class=\"alert alert-success\">\n",
    "<b>Комментарий ревьюера v2:</b>☀️\n",
    "    \n",
    "Замечательно, спасибо за продуктивную совместную работу, желаю удачи!\n",
    "</div>\n"
   ]
  },
  {
   "cell_type": "code",
   "execution_count": null,
   "metadata": {},
   "outputs": [],
   "source": []
  }
 ],
 "metadata": {
  "ExecuteTimeLog": [
   {
    "duration": 659,
    "start_time": "2022-07-03T10:00:33.658Z"
   },
   {
    "duration": 1291,
    "start_time": "2022-07-03T10:00:34.320Z"
   },
   {
    "duration": 159,
    "start_time": "2022-07-03T10:00:35.613Z"
   },
   {
    "duration": 12,
    "start_time": "2022-07-03T10:00:35.774Z"
   },
   {
    "duration": 22,
    "start_time": "2022-07-03T10:00:35.788Z"
   },
   {
    "duration": 3,
    "start_time": "2022-07-03T10:00:35.812Z"
   },
   {
    "duration": 66,
    "start_time": "2022-07-03T10:00:35.817Z"
   },
   {
    "duration": 18,
    "start_time": "2022-07-03T10:00:35.885Z"
   },
   {
    "duration": 54,
    "start_time": "2022-07-03T10:00:35.905Z"
   },
   {
    "duration": 16,
    "start_time": "2022-07-03T10:00:35.964Z"
   },
   {
    "duration": 26,
    "start_time": "2022-07-03T10:00:35.982Z"
   },
   {
    "duration": 14,
    "start_time": "2022-07-03T10:00:36.010Z"
   },
   {
    "duration": 52,
    "start_time": "2022-07-03T10:00:36.025Z"
   },
   {
    "duration": 28,
    "start_time": "2022-07-03T10:00:36.082Z"
   },
   {
    "duration": 28,
    "start_time": "2022-07-03T10:00:36.112Z"
   },
   {
    "duration": 11,
    "start_time": "2022-07-03T10:00:36.142Z"
   },
   {
    "duration": 36,
    "start_time": "2022-07-03T10:00:36.155Z"
   },
   {
    "duration": 13,
    "start_time": "2022-07-03T10:00:36.193Z"
   },
   {
    "duration": 490,
    "start_time": "2022-07-03T10:00:36.208Z"
   },
   {
    "duration": 14,
    "start_time": "2022-07-03T10:00:36.701Z"
   },
   {
    "duration": 35,
    "start_time": "2022-07-03T10:00:36.716Z"
   },
   {
    "duration": 237,
    "start_time": "2022-07-03T10:00:36.752Z"
   },
   {
    "duration": 17,
    "start_time": "2022-07-03T10:00:36.991Z"
   },
   {
    "duration": 384,
    "start_time": "2022-07-03T10:00:37.010Z"
   },
   {
    "duration": 47,
    "start_time": "2022-07-03T10:00:37.397Z"
   },
   {
    "duration": 372,
    "start_time": "2022-07-03T10:00:37.448Z"
   },
   {
    "duration": 22,
    "start_time": "2022-07-03T10:00:37.833Z"
   },
   {
    "duration": 17,
    "start_time": "2022-07-03T10:00:37.864Z"
   },
   {
    "duration": 8,
    "start_time": "2022-07-03T10:00:37.882Z"
   },
   {
    "duration": 8,
    "start_time": "2022-07-03T10:00:37.892Z"
   },
   {
    "duration": 296,
    "start_time": "2022-07-03T10:00:37.901Z"
   },
   {
    "duration": 10,
    "start_time": "2022-07-03T10:00:38.198Z"
   },
   {
    "duration": 21,
    "start_time": "2022-07-03T10:00:38.209Z"
   },
   {
    "duration": 246,
    "start_time": "2022-07-03T10:00:38.231Z"
   },
   {
    "duration": 5,
    "start_time": "2022-07-03T10:00:38.479Z"
   },
   {
    "duration": 134,
    "start_time": "2022-07-03T10:00:38.485Z"
   },
   {
    "duration": 46,
    "start_time": "2022-07-03T10:00:38.621Z"
   },
   {
    "duration": 18,
    "start_time": "2022-07-03T10:00:38.675Z"
   },
   {
    "duration": 9,
    "start_time": "2022-07-03T10:00:38.695Z"
   },
   {
    "duration": 33,
    "start_time": "2022-07-03T10:00:38.706Z"
   },
   {
    "duration": 56,
    "start_time": "2022-07-03T10:00:38.745Z"
   },
   {
    "duration": 7,
    "start_time": "2022-07-03T10:00:38.803Z"
   },
   {
    "duration": 9,
    "start_time": "2022-07-03T10:00:38.812Z"
   },
   {
    "duration": 223,
    "start_time": "2022-07-03T10:00:38.823Z"
   },
   {
    "duration": 8,
    "start_time": "2022-07-03T10:00:39.048Z"
   },
   {
    "duration": 148,
    "start_time": "2022-07-03T10:00:39.058Z"
   },
   {
    "duration": 3,
    "start_time": "2022-07-03T10:00:39.208Z"
   },
   {
    "duration": 23,
    "start_time": "2022-07-03T10:00:39.212Z"
   },
   {
    "duration": 310,
    "start_time": "2022-07-03T10:00:39.237Z"
   },
   {
    "duration": 45,
    "start_time": "2022-07-03T10:00:39.552Z"
   },
   {
    "duration": 5,
    "start_time": "2022-07-03T10:00:39.598Z"
   },
   {
    "duration": 54,
    "start_time": "2022-07-03T10:00:39.604Z"
   },
   {
    "duration": 12,
    "start_time": "2022-07-03T10:00:39.661Z"
   },
   {
    "duration": 27,
    "start_time": "2022-07-03T10:00:39.678Z"
   },
   {
    "duration": 27,
    "start_time": "2022-07-03T10:00:39.707Z"
   },
   {
    "duration": 23,
    "start_time": "2022-07-03T10:00:39.736Z"
   },
   {
    "duration": 28,
    "start_time": "2022-07-03T10:00:39.762Z"
   },
   {
    "duration": 10,
    "start_time": "2022-07-03T10:00:39.791Z"
   },
   {
    "duration": 9,
    "start_time": "2022-07-03T10:00:39.803Z"
   },
   {
    "duration": 9,
    "start_time": "2022-07-03T10:00:39.814Z"
   },
   {
    "duration": 302,
    "start_time": "2022-07-03T10:00:39.824Z"
   },
   {
    "duration": 1348,
    "start_time": "2022-07-03T10:00:40.127Z"
   },
   {
    "duration": 8,
    "start_time": "2022-07-03T10:00:41.477Z"
   },
   {
    "duration": 5,
    "start_time": "2022-07-03T10:00:41.486Z"
   },
   {
    "duration": 11,
    "start_time": "2022-07-03T10:00:41.493Z"
   },
   {
    "duration": 9,
    "start_time": "2022-07-03T10:00:41.506Z"
   },
   {
    "duration": 20,
    "start_time": "2022-07-03T10:00:41.517Z"
   },
   {
    "duration": 42,
    "start_time": "2022-07-03T10:00:41.540Z"
   },
   {
    "duration": 4,
    "start_time": "2022-07-03T10:00:41.583Z"
   },
   {
    "duration": 10,
    "start_time": "2022-07-03T10:00:41.589Z"
   },
   {
    "duration": 6,
    "start_time": "2022-07-03T10:00:41.601Z"
   },
   {
    "duration": 8,
    "start_time": "2022-07-03T10:00:41.608Z"
   },
   {
    "duration": 25,
    "start_time": "2022-07-03T10:00:41.618Z"
   },
   {
    "duration": 24,
    "start_time": "2022-07-03T10:00:41.655Z"
   },
   {
    "duration": 6,
    "start_time": "2022-07-03T10:00:41.681Z"
   },
   {
    "duration": 12,
    "start_time": "2022-07-03T10:00:41.688Z"
   },
   {
    "duration": 13,
    "start_time": "2022-07-03T10:00:41.702Z"
   },
   {
    "duration": 14,
    "start_time": "2022-07-03T10:00:41.717Z"
   },
   {
    "duration": 55,
    "start_time": "2022-07-03T10:00:41.732Z"
   },
   {
    "duration": 4,
    "start_time": "2022-07-03T10:00:41.789Z"
   },
   {
    "duration": 8,
    "start_time": "2022-07-03T10:00:41.795Z"
   },
   {
    "duration": 5,
    "start_time": "2022-07-03T10:00:41.805Z"
   },
   {
    "duration": 19,
    "start_time": "2022-07-03T10:00:41.812Z"
   },
   {
    "duration": 27,
    "start_time": "2022-07-03T10:00:41.834Z"
   },
   {
    "duration": 12,
    "start_time": "2022-07-03T10:00:41.868Z"
   },
   {
    "duration": 8,
    "start_time": "2022-07-03T10:00:41.882Z"
   },
   {
    "duration": 7,
    "start_time": "2022-07-03T10:00:41.891Z"
   },
   {
    "duration": 12,
    "start_time": "2022-07-03T10:00:41.900Z"
   },
   {
    "duration": 4,
    "start_time": "2022-07-03T10:00:41.913Z"
   },
   {
    "duration": 12,
    "start_time": "2022-07-03T10:00:41.918Z"
   }
  ],
  "colab": {
   "collapsed_sections": [],
   "name": "proj_horeca_ver_2.ipynb",
   "provenance": []
  },
  "kernelspec": {
   "display_name": "Python 3 (ipykernel)",
   "language": "python",
   "name": "python3"
  },
  "language_info": {
   "codemirror_mode": {
    "name": "ipython",
    "version": 3
   },
   "file_extension": ".py",
   "mimetype": "text/x-python",
   "name": "python",
   "nbconvert_exporter": "python",
   "pygments_lexer": "ipython3",
   "version": "3.9.5"
  },
  "toc": {
   "base_numbering": 1,
   "nav_menu": {},
   "number_sections": true,
   "sideBar": true,
   "skip_h1_title": true,
   "title_cell": "Table of Contents",
   "title_sidebar": "Contents",
   "toc_cell": false,
   "toc_position": {},
   "toc_section_display": true,
   "toc_window_display": true
  }
 },
 "nbformat": 4,
 "nbformat_minor": 1
}
